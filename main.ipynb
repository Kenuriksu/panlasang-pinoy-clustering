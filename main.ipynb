{
 "cells": [
  {
   "cell_type": "markdown",
   "metadata": {},
   "source": [
    "# Ingredient-Based Clustering of Pinoy Dishes\n",
    "\n",
    "The ambition is to identify clusters of Filipino dishes based on their ingredients. The results can be used to define the most common ingredients of a Filipino pantry. This project leverages techniques from data mining, natural language processing, and unsupervised learning. The dataset is a collection of Filipino recipes from various online recipe websites. The dataset contains the name, ingredients, and instructions of the recipes. "
   ]
  },
  {
   "cell_type": "markdown",
   "metadata": {},
   "source": [
    "## Data loading and preview"
   ]
  },
  {
   "cell_type": "markdown",
   "metadata": {},
   "source": [
    "### Read JSON files"
   ]
  },
  {
   "cell_type": "code",
   "execution_count": 1,
   "metadata": {},
   "outputs": [
    {
     "data": {
      "text/plain": [
       "{'link': 'https://www.kawalingpinoy.com/cheese-cupcakes/',\n",
       " 'name': 'Cheese Cupcakes',\n",
       " 'ingredients': ['flour, sifted',\n",
       "  'baking powder',\n",
       "  'salt',\n",
       "  'butter, softened',\n",
       "  'sugar',\n",
       "  'eggs',\n",
       "  '(14 ounces) sweetened condensed milk',\n",
       "  'quick-melt cheese, shredded',\n",
       "  'cheddar cheese, shredded'],\n",
       " 'instructions': ['Line muffin pan with cupcake liners.',\n",
       "  'In a large bowl, combine flour, baking powder,\\xa0and salt.',\n",
       "  'In a medium bowl, beat butter, sugar, and eggs with an electric mixer until combined.',\n",
       "  'Beginning and ending with flour mixture, add flour mixture in thirds and ½ of sweetened condensed milk in between (⅓ flour mixture, ½ condensed milk, ⅓ flour mixture, ½ condensed milk and ⅓ flour mixture) to egg mixture. Beat at low speed with every addition.',\n",
       "  'Add quick-melt cheese and stir to combine.',\n",
       "  'Using a scoop or spoon, fill each muffin hole up to ¾ full. Top with cheddar cheese.',\n",
       "  'Bake in a 350 F oven for about 20 to 25 minutes or until a toothpick inserted comes out clean and top is golden. Remove from oven and allow to cool.']}"
      ]
     },
     "execution_count": 1,
     "metadata": {},
     "output_type": "execute_result"
    }
   ],
   "source": [
    "import json\n",
    "import os\n",
    "\n",
    "\n",
    "def load_recipes(path=\"data/recipes\"):\n",
    "    \"\"\"Combines all recipe data into a single list.\"\"\"\n",
    "    files = [file for file in os.listdir(path)]\n",
    "\n",
    "    recipes = []\n",
    "    for file in files:\n",
    "        file_path = os.path.join(path, file)\n",
    "        with open(file_path, encoding=\"utf-8\") as f:\n",
    "            recipe_data = json.load(f)\n",
    "            recipes.extend(recipe_data)\n",
    "\n",
    "    return recipes\n",
    "\n",
    "\n",
    "recipes = load_recipes()\n",
    "recipes[0]"
   ]
  },
  {
   "cell_type": "markdown",
   "metadata": {},
   "source": [
    "### Convert JSON to DataFrame"
   ]
  },
  {
   "cell_type": "code",
   "execution_count": 2,
   "metadata": {},
   "outputs": [
    {
     "data": {
      "text/html": [
       "<div>\n",
       "<style scoped>\n",
       "    .dataframe tbody tr th:only-of-type {\n",
       "        vertical-align: middle;\n",
       "    }\n",
       "\n",
       "    .dataframe tbody tr th {\n",
       "        vertical-align: top;\n",
       "    }\n",
       "\n",
       "    .dataframe thead th {\n",
       "        text-align: right;\n",
       "    }\n",
       "</style>\n",
       "<table border=\"1\" class=\"dataframe\">\n",
       "  <thead>\n",
       "    <tr style=\"text-align: right;\">\n",
       "      <th></th>\n",
       "      <th>link</th>\n",
       "      <th>name</th>\n",
       "      <th>ingredients</th>\n",
       "      <th>instructions</th>\n",
       "    </tr>\n",
       "  </thead>\n",
       "  <tbody>\n",
       "    <tr>\n",
       "      <th>0</th>\n",
       "      <td>https://www.kawalingpinoy.com/cheese-cupcakes/</td>\n",
       "      <td>Cheese Cupcakes</td>\n",
       "      <td>[flour, sifted, baking powder, salt, butter, s...</td>\n",
       "      <td>[Line muffin pan with cupcake liners., In a la...</td>\n",
       "    </tr>\n",
       "    <tr>\n",
       "      <th>1</th>\n",
       "      <td>https://www.kawalingpinoy.com/adobong-sitaw-wi...</td>\n",
       "      <td>Adobong Sitaw with Pork</td>\n",
       "      <td>[canola oil, pork belly, cut into thin strips,...</td>\n",
       "      <td>[In a skillet over medium heat, heat oil. Add ...</td>\n",
       "    </tr>\n",
       "    <tr>\n",
       "      <th>2</th>\n",
       "      <td>https://www.kawalingpinoy.com/burger-steak/</td>\n",
       "      <td>Burger Steak</td>\n",
       "      <td>[white bread, torn into small pieces, beef bro...</td>\n",
       "      <td>[In a small bowl, soak bread in broth. Tear wi...</td>\n",
       "    </tr>\n",
       "    <tr>\n",
       "      <th>3</th>\n",
       "      <td>https://www.kawalingpinoy.com/chicken-menudo/</td>\n",
       "      <td>Chicken Menudo</td>\n",
       "      <td>[canola oil, red bell pepper, cored, seeded an...</td>\n",
       "      <td>[In a wide pan over medium heat, heat 1 tables...</td>\n",
       "    </tr>\n",
       "    <tr>\n",
       "      <th>4</th>\n",
       "      <td>https://www.kawalingpinoy.com/beef-salpicao/</td>\n",
       "      <td>Beef Salpicao</td>\n",
       "      <td>[ribeye steak, cut into 1-inch cubes, salt and...</td>\n",
       "      <td>[In a bowl, season beef with salt and pepper t...</td>\n",
       "    </tr>\n",
       "  </tbody>\n",
       "</table>\n",
       "</div>"
      ],
      "text/plain": [
       "                                                link                     name  \\\n",
       "0     https://www.kawalingpinoy.com/cheese-cupcakes/          Cheese Cupcakes   \n",
       "1  https://www.kawalingpinoy.com/adobong-sitaw-wi...  Adobong Sitaw with Pork   \n",
       "2        https://www.kawalingpinoy.com/burger-steak/             Burger Steak   \n",
       "3      https://www.kawalingpinoy.com/chicken-menudo/           Chicken Menudo   \n",
       "4       https://www.kawalingpinoy.com/beef-salpicao/            Beef Salpicao   \n",
       "\n",
       "                                         ingredients  \\\n",
       "0  [flour, sifted, baking powder, salt, butter, s...   \n",
       "1  [canola oil, pork belly, cut into thin strips,...   \n",
       "2  [white bread, torn into small pieces, beef bro...   \n",
       "3  [canola oil, red bell pepper, cored, seeded an...   \n",
       "4  [ribeye steak, cut into 1-inch cubes, salt and...   \n",
       "\n",
       "                                        instructions  \n",
       "0  [Line muffin pan with cupcake liners., In a la...  \n",
       "1  [In a skillet over medium heat, heat oil. Add ...  \n",
       "2  [In a small bowl, soak bread in broth. Tear wi...  \n",
       "3  [In a wide pan over medium heat, heat 1 tables...  \n",
       "4  [In a bowl, season beef with salt and pepper t...  "
      ]
     },
     "execution_count": 2,
     "metadata": {},
     "output_type": "execute_result"
    }
   ],
   "source": [
    "import pandas as pd\n",
    "\n",
    "\n",
    "recipe_df = pd.DataFrame(recipes)\n",
    "recipe_df.head()"
   ]
  },
  {
   "cell_type": "code",
   "execution_count": 3,
   "metadata": {},
   "outputs": [
    {
     "name": "stdout",
     "output_type": "stream",
     "text": [
      "<class 'pandas.core.frame.DataFrame'>\n",
      "RangeIndex: 2815 entries, 0 to 2814\n",
      "Data columns (total 4 columns):\n",
      " #   Column        Non-Null Count  Dtype \n",
      "---  ------        --------------  ----- \n",
      " 0   link          2815 non-null   object\n",
      " 1   name          2469 non-null   object\n",
      " 2   ingredients   2469 non-null   object\n",
      " 3   instructions  2469 non-null   object\n",
      "dtypes: object(4)\n",
      "memory usage: 88.1+ KB\n"
     ]
    }
   ],
   "source": [
    "recipe_df.info()"
   ]
  },
  {
   "cell_type": "markdown",
   "metadata": {},
   "source": [
    "### Display some statistics"
   ]
  },
  {
   "cell_type": "code",
   "execution_count": 4,
   "metadata": {},
   "outputs": [
    {
     "data": {
      "image/png": "[encoded data removed]",
      "text/plain": [
       "<Figure size 800x300 with 1 Axes>"
      ]
     },
     "metadata": {},
     "output_type": "display_data"
    },
    {
     "data": {
      "image/png": "[encoded data removed]",
      "text/plain": [
       "<Figure size 800x700 with 1 Axes>"
      ]
     },
     "metadata": {},
     "output_type": "display_data"
    }
   ],
   "source": [
    "%matplotlib inline\n",
    "\n",
    "import matplotlib.pyplot as plt\n",
    "import seaborn as sns\n",
    "\n",
    "\n",
    "def plot_ingredient_count_distribution(ingredient_series, figsize=(8, 3)):\n",
    "    \"\"\"Plots the distribution of the number of ingredients in recipes.\"\"\"\n",
    "    counts = ingredient_series.dropna().apply(len)\n",
    "    plt.figure(figsize=figsize)\n",
    "    sns.histplot(counts, kde=True, binwidth=1)\n",
    "    plt.title(f\"Number of ingredients in {len(counts)} recipes\")\n",
    "    plt.xlabel(\"Number of ingredients\")\n",
    "    plt.ylabel(\"Number of recipes\")\n",
    "    plt.tight_layout()\n",
    "    plt.show()\n",
    "\n",
    "\n",
    "def plot_common_ingredients(\n",
    "    ingredient_series, n=30, most_common=True, figsize=(8, 7)\n",
    "):\n",
    "    \"\"\"Plots the most or least common ingredients.\"\"\"\n",
    "    all_ingredients = ingredient_series.dropna().explode()\n",
    "    ingredient_counts = all_ingredients.value_counts()\n",
    "\n",
    "    if most_common:\n",
    "        top_n_ingredients = ingredient_counts.head(n)\n",
    "    else:\n",
    "        top_n_ingredients = ingredient_counts.tail(n)\n",
    "\n",
    "    ylabels = [\n",
    "        f\"{i[:20]:>20}{'...' if len(i) > 20 else ''}\"\n",
    "        for i in top_n_ingredients.index\n",
    "    ]\n",
    "    plt.figure(figsize=figsize)\n",
    "    sns.barplot(x=top_n_ingredients.values, y=ylabels)\n",
    "    indicator = \"Most\" if most_common else \"Least\"\n",
    "    plt.title(f\"Top {n} {indicator} Common Ingredients\")\n",
    "    plt.xlabel(\"Number of Recipes\")\n",
    "    plt.ylabel(\"Ingredient\")\n",
    "    plt.tight_layout()\n",
    "    plt.show()\n",
    "\n",
    "\n",
    "plot_ingredient_count_distribution(recipe_df.ingredients)\n",
    "plot_common_ingredients(recipe_df.ingredients, n=30, most_common=True)"
   ]
  },
  {
   "cell_type": "code",
   "execution_count": 24,
   "metadata": {},
   "outputs": [],
   "source": [
    "def save_ingredients(\n",
    "    ingredient_series,\n",
    "    path=\"data/counts.json\",\n",
    "    with_frequency=True,\n",
    "):\n",
    "    \"\"\"Saves the ingredients and their counts to a JSON file.\"\"\"\n",
    "    all_ingredients = ingredient_series.dropna().explode()\n",
    "    data = all_ingredients.value_counts()\n",
    "\n",
    "    if with_frequency:\n",
    "        data = data.to_dict()\n",
    "    else:\n",
    "        data = data.index.tolist()\n",
    "\n",
    "    with open(path, \"w\", encoding=\"utf-8\") as file:\n",
    "        json.dump(data, file, ensure_ascii=False, indent=2)\n",
    "\n",
    "\n",
    "save_ingredients(\n",
    "    recipe_df.ingredients,\n",
    "    with_frequency=False,\n",
    "    path=\"data/raw_ingredients.json\",\n",
    ")"
   ]
  },
  {
   "cell_type": "markdown",
   "metadata": {},
   "source": [
    "## Preprocessing\n"
   ]
  },
  {
   "cell_type": "markdown",
   "metadata": {},
   "source": [
    "### Remove recipes with no ingredients"
   ]
  },
  {
   "cell_type": "code",
   "execution_count": 5,
   "metadata": {},
   "outputs": [
    {
     "name": "stdout",
     "output_type": "stream",
     "text": [
      "<class 'pandas.core.frame.DataFrame'>\n",
      "Index: 2469 entries, 0 to 2814\n",
      "Data columns (total 4 columns):\n",
      " #   Column        Non-Null Count  Dtype \n",
      "---  ------        --------------  ----- \n",
      " 0   link          2469 non-null   object\n",
      " 1   name          2469 non-null   object\n",
      " 2   ingredients   2469 non-null   object\n",
      " 3   instructions  2469 non-null   object\n",
      "dtypes: object(4)\n",
      "memory usage: 96.4+ KB\n"
     ]
    }
   ],
   "source": [
    "recipe_df = recipe_df.dropna(subset=[\"ingredients\"])\n",
    "recipe_df.info()"
   ]
  },
  {
   "cell_type": "markdown",
   "metadata": {},
   "source": [
    "### Clean ingredient format"
   ]
  },
  {
   "cell_type": "code",
   "execution_count": 6,
   "metadata": {},
   "outputs": [
    {
     "name": "stderr",
     "output_type": "stream",
     "text": [
      "100%|██████████| 2469/2469 [00:00<00:00, 88933.96it/s]\n"
     ]
    }
   ],
   "source": [
    "import re\n",
    "\n",
    "from tqdm import tqdm\n",
    "\n",
    "tqdm.pandas()\n",
    "\n",
    "\n",
    "def remove_parentheses(ingredient):\n",
    "    \"\"\"Removes parentheses and content from ingredient strings.\"\"\"\n",
    "    return re.sub(r\" ?\\([^)]+\\)\", \"\", ingredient)\n",
    "\n",
    "\n",
    "def select_first_option(ingredient):\n",
    "    \"\"\"Selects the first option in a string with multiple options.\"\"\"\n",
    "    return ingredient.split(\" or \")[0]\n",
    "\n",
    "\n",
    "def clean_ingredient(ingredient):\n",
    "    \"\"\"Cleans an ingredient string.\"\"\"\n",
    "    ingredient = remove_parentheses(ingredient)\n",
    "    ingredient = select_first_option(ingredient)\n",
    "    return ingredient.lower().strip()\n",
    "\n",
    "\n",
    "recipe_df[\"clean_ingredients\"] = recipe_df.ingredients.progress_apply(\n",
    "    lambda x: [clean_ingredient(i) for i in x]\n",
    ")"
   ]
  },
  {
   "cell_type": "markdown",
   "metadata": {},
   "source": [
    "### Lemmatize words and remove non-ingredient words"
   ]
  },
  {
   "cell_type": "code",
   "execution_count": 7,
   "metadata": {},
   "outputs": [
    {
     "name": "stderr",
     "output_type": "stream",
     "text": [
      "100%|██████████| 2469/2469 [01:40<00:00, 24.62it/s]\n"
     ]
    }
   ],
   "source": [
    "import spacy\n",
    "\n",
    "nlp = spacy.load(\"en_core_web_lg\")\n",
    "\n",
    "\n",
    "def correct_noun_pos_tags(token):\n",
    "    \"\"\"Corrects the POS tags of specific tokens.\"\"\"\n",
    "    outliers = [\"cauliflower\", \"baking\"]\n",
    "    if token.text in outliers:\n",
    "        token.pos_ = \"NOUN\"\n",
    "    return token\n",
    "\n",
    "\n",
    "def lemmatize_nouns(ingredient):\n",
    "    \"\"\"Lemmatizes nouns in an ingredient string.\"\"\"\n",
    "    doc = nlp(ingredient)\n",
    "    lemmas = []\n",
    "    for token in doc:\n",
    "        token = correct_noun_pos_tags(token)\n",
    "        if (\n",
    "            token.is_alpha\n",
    "            and not token.is_stop\n",
    "            and token.pos_ in [\"NOUN\", \"PROPN\"]\n",
    "        ):\n",
    "            lemmas.append(token.lemma_)\n",
    "    return \" \".join(lemmas)\n",
    "\n",
    "\n",
    "recipe_df[\"lemmatized\"] = recipe_df.clean_ingredients.progress_apply(\n",
    "    lambda x: [lemmatized for i in x if (lemmatized := lemmatize_nouns(i))]\n",
    ")"
   ]
  },
  {
   "cell_type": "markdown",
   "metadata": {},
   "source": [
    "### Remove stop words related to culinary"
   ]
  },
  {
   "cell_type": "code",
   "execution_count": 8,
   "metadata": {},
   "outputs": [
    {
     "name": "stderr",
     "output_type": "stream",
     "text": [
      "100%|██████████| 2469/2469 [00:00<00:00, 14068.94it/s]\n"
     ]
    }
   ],
   "source": [
    "with open(f\"data/stopwords.txt\", encoding=\"utf-8\") as file:\n",
    "    stopwords = file.read().splitlines()\n",
    "\n",
    "\n",
    "def filter_stopwords(text):\n",
    "    \"\"\"Filter out stopwords from a string.\"\"\"\n",
    "    words = []\n",
    "    for word in text.split():\n",
    "        if word not in stopwords:\n",
    "            words.append(word)\n",
    "    return \" \".join(words)\n",
    "\n",
    "\n",
    "recipe_df[\"filtered\"] = recipe_df.lemmatized.progress_apply(\n",
    "    lambda x: [filtered for i in x if (filtered := filter_stopwords(i))]\n",
    ")"
   ]
  },
  {
   "cell_type": "markdown",
   "metadata": {},
   "source": [
    "### Standardize ingredient names at word level"
   ]
  },
  {
   "cell_type": "code",
   "execution_count": 9,
   "metadata": {},
   "outputs": [
    {
     "name": "stderr",
     "output_type": "stream",
     "text": [
      "100%|██████████| 2469/2469 [00:00<00:00, 157842.59it/s]\n"
     ]
    }
   ],
   "source": [
    "# TODO: Separate thesaurus for word and phrase level\n",
    "with open(\"data/thesaurus.json\", encoding=\"utf-8\") as file:\n",
    "    thesaurus = json.load(file)\n",
    "\n",
    "\n",
    "def standardize_at_phrase_level(ingredient):\n",
    "    \"\"\"Replace words in an ingredient with standard names.\"\"\"\n",
    "    words = []\n",
    "    for word in ingredient.split():\n",
    "        words.append(thesaurus.get(word, word))\n",
    "    return \" \".join(words)\n",
    "\n",
    "\n",
    "recipe_df[\"standardized_word\"] = recipe_df.filtered.progress_apply(\n",
    "    lambda x: [\n",
    "        common_name\n",
    "        for i in x\n",
    "        if (common_name := standardize_at_phrase_level(i))\n",
    "    ]\n",
    ")"
   ]
  },
  {
   "cell_type": "markdown",
   "metadata": {},
   "source": [
    "### Remove duplicate terms"
   ]
  },
  {
   "cell_type": "code",
   "execution_count": 10,
   "metadata": {},
   "outputs": [
    {
     "name": "stderr",
     "output_type": "stream",
     "text": [
      "100%|██████████| 2469/2469 [00:00<00:00, 4172335.45it/s]\n"
     ]
    }
   ],
   "source": [
    "def remove_duplicates(text):\n",
    "    \"\"\"Remove duplicate terms while preserving order.\"\"\"\n",
    "    seen = set()\n",
    "    unique = []\n",
    "    for word in text.split():\n",
    "        if word not in seen:\n",
    "            unique.append(word)\n",
    "            seen.add(word)\n",
    "    return \" \".join(unique)\n",
    "\n",
    "\n",
    "recipe_df[\"unique\"] = recipe_df.standardized_word.progress_apply(\n",
    "    lambda x: [unique for i in x if (unique := remove_duplicates(i))]\n",
    ")"
   ]
  },
  {
   "cell_type": "markdown",
   "metadata": {},
   "source": [
    "### Standardize ingredient names at phrase level"
   ]
  },
  {
   "cell_type": "code",
   "execution_count": 11,
   "metadata": {},
   "outputs": [
    {
     "name": "stderr",
     "output_type": "stream",
     "text": [
      "100%|██████████| 2469/2469 [00:00<?, ?it/s]\n"
     ]
    }
   ],
   "source": [
    "def standardize_at_phrase_level(ingredient):\n",
    "    \"\"\"Replace the whole ingredient string with a standard name.\"\"\"\n",
    "    return thesaurus.get(ingredient, ingredient)\n",
    "\n",
    "\n",
    "recipe_df[\"standardized_phrase\"] = recipe_df.unique.progress_apply(\n",
    "    lambda x: [\n",
    "        standardized\n",
    "        for i in x\n",
    "        if (standardized := standardize_at_phrase_level(i))\n",
    "    ]\n",
    ")"
   ]
  },
  {
   "cell_type": "markdown",
   "metadata": {},
   "source": [
    "### Break down ingredients into basic components"
   ]
  },
  {
   "cell_type": "code",
   "execution_count": 12,
   "metadata": {},
   "outputs": [
    {
     "name": "stderr",
     "output_type": "stream",
     "text": [
      "100%|██████████| 2469/2469 [00:00<00:00, 162254.58it/s]\n"
     ]
    }
   ],
   "source": [
    "with open(\"data/components.json\", encoding=\"utf8\") as file:\n",
    "    ingredient_components = json.load(file)\n",
    "\n",
    "\n",
    "def break_down_ingredient(ingredient):\n",
    "    \"\"\"Breaks down an ingredient into its components.\"\"\"\n",
    "    components = ingredient_components.get(ingredient, ingredient)\n",
    "    if isinstance(components, str):\n",
    "        return [components]\n",
    "    return components\n",
    "\n",
    "\n",
    "recipe_df[\"components\"] = recipe_df.standardized_phrase.progress_apply(\n",
    "    lambda x: [component for i in x for component in break_down_ingredient(i)]\n",
    ")"
   ]
  },
  {
   "cell_type": "code",
   "execution_count": 13,
   "metadata": {},
   "outputs": [
    {
     "data": {
      "image/png": "[encoded data removed]",
      "text/plain": [
       "<Figure size 800x300 with 1 Axes>"
      ]
     },
     "metadata": {},
     "output_type": "display_data"
    },
    {
     "data": {
      "image/png": "[encoded data removed]",
      "text/plain": [
       "<Figure size 800x700 with 1 Axes>"
      ]
     },
     "metadata": {},
     "output_type": "display_data"
    }
   ],
   "source": [
    "plot_ingredient_count_distribution(recipe_df.components)\n",
    "plot_common_ingredients(recipe_df.components)"
   ]
  },
  {
   "cell_type": "markdown",
   "metadata": {},
   "source": [
    "### Remove rare ingredients"
   ]
  },
  {
   "cell_type": "code",
   "execution_count": 29,
   "metadata": {},
   "outputs": [
    {
     "data": {
      "image/png": "[encoded data removed]",
      "text/plain": [
       "<Figure size 800x300 with 1 Axes>"
      ]
     },
     "metadata": {},
     "output_type": "display_data"
    }
   ],
   "source": [
    "MIN_INGREDIENT_COUNT = 5\n",
    "\n",
    "counts = recipe_df.components.explode().value_counts()\n",
    "rare_ingredients = counts[counts <= MIN_INGREDIENT_COUNT].index\n",
    "\n",
    "\n",
    "def remove_rare_ingredient(ingredient):\n",
    "    \"\"\"Removes rare ingredients from a list.\"\"\"\n",
    "    return ingredient if ingredient not in rare_ingredients else None\n",
    "\n",
    "\n",
    "recipe_df[\"frequent\"] = recipe_df.components.apply(\n",
    "    lambda x: [frequent for i in x if (frequent := remove_rare_ingredient(i))]\n",
    ")\n",
    "\n",
    "plot_ingredient_count_distribution(recipe_df.final_ingredients)"
   ]
  },
  {
   "cell_type": "code",
   "execution_count": 30,
   "metadata": {},
   "outputs": [],
   "source": [
    "save_ingredients(recipe_df.frequent, with_frequency=True)"
   ]
  },
  {
   "cell_type": "markdown",
   "metadata": {},
   "source": [
    "### Remove recipes with too few or too many ingredients"
   ]
  },
  {
   "cell_type": "code",
   "execution_count": 37,
   "metadata": {},
   "outputs": [
    {
     "data": {
      "image/png": "[encoded data removed]",
      "text/plain": [
       "<Figure size 800x300 with 1 Axes>"
      ]
     },
     "metadata": {},
     "output_type": "display_data"
    }
   ],
   "source": [
    "# TODO: Be more dynamic with these values\n",
    "MIN_INGREDIENTS_IN_RECIPE = 4\n",
    "MAX_INGREDIENTS_IN_RECIPE = 15\n",
    "\n",
    "counts = recipe_df.frequent.apply(len)\n",
    "\n",
    "recipe_df = recipe_df[\n",
    "    (counts >= MIN_INGREDIENTS_IN_RECIPE)\n",
    "    & (counts <= MAX_INGREDIENTS_IN_RECIPE)\n",
    "]\n",
    "\n",
    "plot_ingredient_count_distribution(recipe_df.frequent)"
   ]
  },
  {
   "cell_type": "markdown",
   "metadata": {},
   "source": [
    "### Add flavor tags to ingredients"
   ]
  },
  {
   "cell_type": "code",
   "execution_count": 38,
   "metadata": {},
   "outputs": [
    {
     "name": "stderr",
     "output_type": "stream",
     "text": [
      "100%|██████████| 2256/2256 [00:00<00:00, 205150.24it/s]\n"
     ]
    }
   ],
   "source": [
    "with open(\"data/flavor_map.json\") as file:\n",
    "    flavor_map = json.load(file)\n",
    "\n",
    "\n",
    "def map_ingredient_to_flavor(ingredient):\n",
    "    \"\"\"Maps an ingredient to a flavor.\"\"\"\n",
    "    flavor = flavor_map.get(ingredient, \"\")\n",
    "    return f\"{flavor} {ingredient}\" if flavor else ingredient\n",
    "\n",
    "\n",
    "recipe_df[\"final_ingredients\"] = recipe_df.frequent.progress_apply(\n",
    "    lambda x: [map_ingredient_to_flavor(i) for i in x]\n",
    ")"
   ]
  },
  {
   "cell_type": "code",
   "execution_count": 39,
   "metadata": {},
   "outputs": [
    {
     "name": "stdout",
     "output_type": "stream",
     "text": [
      "<class 'pandas.core.frame.DataFrame'>\n",
      "Index: 2256 entries, 0 to 2814\n",
      "Data columns (total 13 columns):\n",
      " #   Column               Non-Null Count  Dtype \n",
      "---  ------               --------------  ----- \n",
      " 0   link                 2256 non-null   object\n",
      " 1   name                 2256 non-null   object\n",
      " 2   ingredients          2256 non-null   object\n",
      " 3   instructions         2256 non-null   object\n",
      " 4   clean_ingredients    2256 non-null   object\n",
      " 5   lemmatized           2256 non-null   object\n",
      " 6   filtered             2256 non-null   object\n",
      " 7   standardized_word    2256 non-null   object\n",
      " 8   unique               2256 non-null   object\n",
      " 9   standardized_phrase  2256 non-null   object\n",
      " 10  components           2256 non-null   object\n",
      " 11  frequent             2256 non-null   object\n",
      " 12  final_ingredients    2256 non-null   object\n",
      "dtypes: object(13)\n",
      "memory usage: 246.8+ KB\n"
     ]
    }
   ],
   "source": [
    "recipe_df.info()"
   ]
  },
  {
   "cell_type": "markdown",
   "metadata": {},
   "source": [
    "## Vectorization\n"
   ]
  },
  {
   "cell_type": "code",
   "execution_count": 40,
   "metadata": {},
   "outputs": [
    {
     "data": {
      "application/vnd.jupyter.widget-view+json": {
       "model_id": "f3491c7674ae4e68aa437f4d60be7c0f",
       "version_major": 2,
       "version_minor": 0
      },
      "text/plain": [
       "Batches:   0%|          | 0/71 [00:00<?, ?it/s]"
      ]
     },
     "metadata": {},
     "output_type": "display_data"
    }
   ],
   "source": [
    "from sentence_transformers import SentenceTransformer\n",
    "\n",
    "model = SentenceTransformer(\"all-mpnet-base-v2\")\n",
    "ingredients_as_texts = [\n",
    "    \" \".join(sorted(ingredients))\n",
    "    for ingredients in recipe_df.final_ingredients\n",
    "]\n",
    "embeddings = model.encode(\n",
    "    ingredients_as_texts,\n",
    "    show_progress_bar=True,\n",
    ")"
   ]
  },
  {
   "cell_type": "code",
   "execution_count": 41,
   "metadata": {},
   "outputs": [
    {
     "data": {
      "text/plain": [
       "(2256, 768)"
      ]
     },
     "execution_count": 41,
     "metadata": {},
     "output_type": "execute_result"
    }
   ],
   "source": [
    "embeddings.shape"
   ]
  },
  {
   "cell_type": "markdown",
   "metadata": {},
   "source": [
    "## Dimensionality reduction"
   ]
  },
  {
   "cell_type": "code",
   "execution_count": 42,
   "metadata": {},
   "outputs": [],
   "source": [
    "from sklearn.decomposition import TruncatedSVD\n",
    "\n",
    "dimensions_to_keep = 2\n",
    "svd = TruncatedSVD(n_components=dimensions_to_keep)\n",
    "reduced_embeddings = svd.fit_transform(embeddings)"
   ]
  },
  {
   "cell_type": "markdown",
   "metadata": {},
   "source": [
    "## Clustering\n"
   ]
  },
  {
   "cell_type": "code",
   "execution_count": 43,
   "metadata": {},
   "outputs": [],
   "source": [
    "from sklearn.cluster import AgglomerativeClustering\n",
    "\n",
    "n_clusters = 7\n",
    "clustering = AgglomerativeClustering(n_clusters=n_clusters, linkage=\"ward\")\n",
    "cluster_labels = clustering.fit_predict(reduced_embeddings)"
   ]
  },
  {
   "cell_type": "markdown",
   "metadata": {},
   "source": [
    "## Visualization\n"
   ]
  },
  {
   "cell_type": "code",
   "execution_count": 44,
   "metadata": {},
   "outputs": [
    {
     "data": {
      "application/vnd.plotly.v1+json": {
       "config": {
        "plotlyServerURL": "https://plot.ly"
       },
       "data": [
        {
         "customdata": [
          [
           "flour<br>baking<br>salty salt<br>salty butter<br>sweet sugar<br>egg<br>milk<br>umami cheese<br>umami cheese"
          ],
          [
           "bean<br>sweet sugar<br>flour<br>flour<br>sweet coconut<br>cream<br>gelatin<br>sweet jackfruit"
          ],
          [
           "sweet coconut<br>oil<br>rice<br>sweet coconut<br>sweet coconut<br>sweet sugar<br>salty salt<br>sweet sugar"
          ],
          [
           "sweet coconut<br>cream<br>flour<br>sweet sugar<br>sweet jackfruit"
          ],
          [
           "milk<br>milk<br>cream<br>cream<br>sweet corn<br>umami cheese<br>sweet sugar<br>sweet sugar"
          ],
          [
           "sweet coconut<br>cream<br>flour<br>sweet coconut<br>milk<br>sweet sugar<br>sweet jackfruit"
          ],
          [
           "salty butter<br>sweet sugar<br>sweet vanilla<br>rice"
          ],
          [
           "sweet coconut<br>cream<br>flour<br>sweet sugar<br>sweet coconut"
          ],
          [
           "flour<br>salty salt<br>oil<br>sour lemon<br>flour<br>sweet coconut<br>cream<br>sweet sugar<br>sweet coconut<br>egg<br>milk"
          ],
          [
           "umami yeast<br>milk<br>sweet sugar<br>salty butter<br>sweet sugar<br>egg<br>salty salt<br>potato<br>milk<br>milk<br>egg"
          ],
          [
           "umami yeast<br>milk<br>salty butter<br>egg<br>sweet sugar<br>salty salt<br>flour<br>bread"
          ],
          [
           "sweet coconut<br>cream<br>flour<br>sweet coconut<br>sweet sugar<br>sweet sugar<br>sweet jackfruit"
          ],
          [
           "sweet coconut<br>flour<br>yam<br>sweet sugar<br>sweet coconut<br>cream"
          ],
          [
           "yam<br>milk<br>cream<br>milk<br>sour lemon<br>sweet sugar"
          ],
          [
           "cassava<br>sweet coconut<br>gelatin<br>sweet jackfruit<br>sweet sugar<br>salty salt"
          ],
          [
           "salty butter<br>egg<br>sweet sugar<br>salty salt<br>baking<br>sweet banana<br>sweet coconut<br>nut"
          ],
          [
           "bread<br>sweet berry<br>umami cheese<br>egg<br>milk<br>bread<br>oil"
          ],
          [
           "potato<br>salty butter<br>sweet sugar<br>sweet orange"
          ],
          [
           "sweet coconut<br>cream<br>sweet coconut<br>rice<br>sweet sugar<br>salty salt"
          ],
          [
           "sweet coconut<br>cream<br>sweet coconut<br>milk<br>milk<br>sweet sugar<br>sweet corn<br>flour"
          ],
          [
           "sweet coconut<br>sweet corn<br>sweet sugar<br>flour<br>sweet coconut"
          ],
          [
           "gelatin<br>flour<br>sweet coconut<br>sweet sugar<br>sweet coconut<br>cream<br>sweet jackfruit"
          ],
          [
           "sweet coconut<br>cream<br>sweet coconut<br>milk<br>milk<br>sweet sugar<br>sweet jackfruit<br>flour"
          ],
          [
           "cream<br>milk<br>sweet sugar<br>salty butter<br>rice<br>nut<br>salty butter"
          ],
          [
           "sweet coconut<br>cream<br>sweet coconut<br>milk<br>milk<br>sweet sugar<br>flour"
          ],
          [
           "sweet corn<br>sweet coconut<br>rice<br>sweet coconut<br>cream<br>sweet sugar"
          ],
          [
           "flour<br>sweet coconut<br>potato<br>sweet banana<br>gelatin<br>sweet jackfruit<br>sweet coconut<br>cream<br>sweet sugar"
          ],
          [
           "sweet coconut<br>sweet sugar<br>salty salt<br>sweet guava<br>gelatin<br>sweet coconut<br>cream"
          ],
          [
           "sweet coconut<br>cream<br>milk<br>flour<br>sweet sugar<br>salty salt"
          ],
          [
           "flour<br>flour<br>sweet sugar<br>baking<br>salty salt<br>sweet coconut<br>egg<br>salty butter<br>egg<br>cream cheese<br>salty butter<br>sweet sugar<br>sweet coconut"
          ],
          [
           "flour<br>sweet sugar<br>sweet coconut<br>egg<br>salty butter<br>umami cheese"
          ],
          [
           "rice<br>sweet chocolate<br>sweet sugar<br>milk"
          ],
          [
           "flour<br>sweet sugar<br>baking<br>baking soda<br>salty salt<br>egg<br>milk<br>oil<br>sweet vanilla"
          ],
          [
           "sweet coconut<br>sweet sugar<br>salty salt<br>rice<br>sweet coconut<br>sweet sugar<br>salty salt<br>sweet banana<br>rice"
          ],
          [
           "sweet sugar<br>egg<br>milk<br>milk<br>bitter coffee<br>sweet vanilla<br>salty salt"
          ],
          [
           "flour<br>baking<br>salty salt<br>egg<br>sweet sugar<br>oil<br>salty butter<br>milk<br>sweet vanilla<br>salty butter<br>sweet sugar"
          ],
          [
           "rice<br>ginger<br>sweet coconut<br>sweet sugar<br>salty salt<br>sweet mango<br>sweet chocolate<br>sweet sugar"
          ],
          [
           "salty butter<br>sweet sugar<br>egg<br>sweet vanilla<br>flour<br>baking<br>flour<br>salty salt"
          ],
          [
           "egg<br>milk<br>sweet vanilla<br>sour lemon<br>egg<br>cream<br>sweet sugar<br>sweet sugar"
          ],
          [
           "umami yeast<br>sweet sugar<br>milk<br>egg<br>salty butter<br>milk<br>salty salt<br>flour<br>egg<br>milk"
          ],
          [
           "milk<br>sweet sugar<br>sour lemon<br>salty butter<br>cream<br>milk"
          ],
          [
           "salty butter<br>sweet sugar<br>egg<br>sweet vanilla<br>flour<br>salty salt"
          ],
          [
           "milk<br>umami yeast<br>sweet sugar<br>salty salt<br>egg<br>salty butter<br>flour<br>sweet sugar<br>salty butter"
          ],
          [
           "peanut<br>flour<br>sweet sugar<br>sweet vanilla<br>yam"
          ],
          [
           "sweet sugar<br>sweet chocolate<br>baking soda<br>salty salt<br>oil<br>sour vinegar<br>sweet vanilla<br>sweet chocolate<br>salty butter<br>sweet vanilla<br>salty salt<br>milk<br>bitter coffee<br>sweet sugar"
          ],
          [
           "sweet coconut<br>milk<br>milk<br>sweet sugar<br>alcohol<br>flour<br>umami cheese"
          ],
          [
           "bread<br>sweet sugar<br>salty salt<br>salty butter<br>cream cheese<br>sweet sugar<br>egg<br>sour lemon<br>baking<br>sweet sugar"
          ],
          [
           "sour lemon<br>sweet sugar<br>bread<br>salty butter<br>milk<br>sweet chocolate<br>sweet mango<br>sweet pineapple<br>sweet coconut"
          ],
          [
           "egg<br>sweet sugar<br>oil<br>sweet mango<br>flour<br>baking<br>cream<br>cream<br>sweet sugar<br>sweet mango<br>sweet sugar<br>sweet chocolate<br>oil"
          ],
          [
           "bread<br>sausage<br>umami cheese<br>egg<br>milk<br>bread<br>oil"
          ],
          [
           "umami yeast<br>sweet sugar<br>milk<br>salty butter<br>egg<br>salty salt<br>sweet chocolate<br>oil<br>sweet chocolate<br>bread<br>bread"
          ],
          [
           "umami yeast<br>milk<br>salty butter<br>egg<br>sweet sugar<br>salty salt<br>sweet coconut<br>flour<br>oil<br>bread<br>yam"
          ],
          [
           "bread<br>milk<br>egg<br>sweet sugar<br>salty butter<br>sweet vanilla<br>flour<br>umami yeast<br>milk<br>salty butter<br>sweet sugar<br>salty salt<br>egg"
          ],
          [
           "umami yeast<br>milk<br>salty butter<br>egg<br>sweet sugar<br>salty salt<br>sweet chocolate<br>flour<br>oil<br>bread<br>cream cheese<br>sweet sugar<br>sweet vanilla"
          ],
          [
           "umami yeast<br>sweet sugar<br>salty butter<br>egg<br>milk<br>yam<br>yam<br>salty salt<br>oil<br>umami cheese<br>bread"
          ],
          [
           "sweet sugar<br>egg<br>sweet coconut<br>milk"
          ],
          [
           "sweet sugar<br>salty salt<br>salty butter<br>egg<br>sweet sugar<br>oil<br>sour lemon<br>sour lemon<br>baking soda<br>salty salt<br>cream<br>sweet sugar<br>sour lemon"
          ],
          [
           "salty butter<br>sweet sugar<br>egg<br>sweet orange<br>sweet sugar<br>alcohol<br>flour<br>baking<br>salty salt<br>nut<br>sweet cherry<br>sweet raisin<br>nut<br>nut<br>alcohol"
          ],
          [
           "sweet coconut<br>cream<br>flour<br>sweet coconut<br>milk<br>sweet sugar<br>bean<br>yam<br>sweet jackfruit<br>sweet jackfruit"
          ],
          [
           "sweet coconut<br>cream<br>rice<br>sweet coconut<br>yam<br>sweet sugar<br>salty salt"
          ],
          [
           "sweet coconut<br>alcohol<br>sweet pineapple<br>sweet corn<br>sweet coconut<br>sweet coconut<br>milk<br>cream"
          ],
          [
           "yam<br>milk<br>sweet coconut<br>milk<br>sweet sugar<br>salty butter<br>umami cheese<br>salty butter<br>cassava<br>bean<br>sweet coconut<br>milk<br>sweet sugar<br>umami cheese"
          ],
          [
           "sweet sugar<br>egg<br>milk<br>milk<br>cream<br>milk<br>bread"
          ],
          [
           "salty butter<br>milk<br>sweet sugar<br>salty butter<br>egg<br>baking<br>baking soda<br>sweet chocolate<br>milk<br>milk<br>milk<br>egg<br>sweet vanilla"
          ],
          [
           "yam<br>sweet coconut<br>milk<br>milk<br>salty butter<br>sweet sugar<br>umami cheese<br>egg<br>milk<br>milk<br>egg<br>cream<br>sweet sugar"
          ],
          [
           "yam<br>sweet coconut<br>milk<br>milk<br>salty butter<br>sweet sugar<br>umami cheese<br>sweet coconut<br>cream"
          ],
          [
           "flour<br>sweet coconut<br>sweet sugar<br>sweet vanilla<br>salty salt"
          ],
          [
           "rice<br>sweet coconut<br>salty salt<br>sweet coconut<br>wrapper<br>sweet jackfruit<br>sweet sugar<br>oil"
          ],
          [
           "sweet chocolate<br>sweet chocolate<br>sweet sugar<br>baking<br>baking soda<br>salty salt<br>egg<br>oil<br>egg<br>sweet sugar<br>cream<br>sweet sugar<br>sweet cherry<br>sweet chocolate<br>salty butter"
          ],
          [
           "umami yeast<br>sweet sugar<br>egg<br>milk<br>salty butter<br>salty salt<br>oil<br>sweet sugar"
          ],
          [
           "egg<br>cream<br>sweet sugar<br>nut<br>sweet vanilla<br>sweet sugar<br>egg<br>salty butter<br>nut<br>bread"
          ],
          [
           "egg<br>cream<br>sweet sugar<br>nut<br>sweet vanilla<br>sweet sugar<br>egg<br>salty butter<br>nut"
          ],
          [
           "salty butter<br>cassava<br>bean<br>sweet coconut<br>milk<br>sweet sugar<br>egg<br>milk<br>milk"
          ],
          [
           "flour<br>sweet sugar<br>baking<br>salty salt<br>sweet coconut"
          ],
          [
           "salty butter<br>salty salt<br>sweet sugar<br>ice<br>egg<br>milk<br>milk"
          ],
          [
           "pasta<br>alcohol<br>sweet pineapple<br>sweet coconut<br>sweet coconut<br>umami cheese<br>cream<br>milk"
          ],
          [
           "umami yeast<br>sweet sugar<br>sweet sugar<br>potato<br>salty butter<br>egg<br>salty salt<br>flour"
          ],
          [
           "egg<br>sweet sugar<br>salty butter<br>milk<br>flour<br>baking<br>sweet vanilla<br>milk<br>egg<br>salty butter<br>nut<br>umami cheese"
          ],
          [
           "milk<br>egg<br>salty butter<br>salty salt"
          ],
          [
           "bean<br>sweet sugar<br>flour<br>sweet sugar<br>salty salt<br>umami yeast<br>salty butter<br>milk<br>egg"
          ],
          [
           "sweet sugar<br>oil<br>egg<br>baking<br>salty salt<br>sweet sugar"
          ],
          [
           "egg<br>cream<br>sweet sugar<br>milk<br>sweet vanilla<br>flour<br>baking<br>sweet sugar<br>salty butter<br>sweet sugar"
          ],
          [
           "flour<br>sweet sugar<br>umami yeast<br>milk<br>oil<br>salty salt<br>sweet coconut<br>sweet sugar<br>milk<br>salty butter<br>sweet vanilla<br>flour<br>milk<br>egg"
          ],
          [
           "flour<br>sweet mango<br>milk<br>sweet sugar"
          ],
          [
           "salty butter<br>sweet sugar<br>egg<br>milk<br>sweet vanilla<br>sweet coconut"
          ],
          [
           "sweet sugar<br>nut<br>umami shrimp<br>salty salt<br>peanut<br>egg<br>flour<br>mayonnaise<br>milk<br>sweet honey"
          ],
          [
           "sweet sugar<br>egg<br>milk<br>milk<br>sour lemon"
          ],
          [
           "milk<br>sweet pineapple<br>sweet raisin<br>cream<br>milk<br>egg<br>sweet sugar<br>salty butter<br>sweet coconut<br>salty butter<br>sweet sugar<br>sweet pineapple<br>cream<br>nut<br>cinnamon"
          ],
          [
           "salty butter<br>egg<br>milk<br>sweet sugar<br>baking<br>salty salt<br>egg"
          ],
          [
           "sweet coconut<br>flour<br>sweet sugar<br>sweet coconut<br>cream"
          ],
          [
           "sweet sugar<br>cream cheese<br>egg<br>milk<br>milk"
          ],
          [
           "salty butter<br>salty salt<br>sweet sugar<br>egg<br>sour lemon<br>sweet sugar"
          ],
          [
           "sweet sugar<br>baking<br>salty salt<br>egg<br>milk<br>salty butter<br>oil<br>sweet banana"
          ],
          [
           "milk<br>sweet chocolate<br>peanut<br>salty butter"
          ],
          [
           "sweet sugar<br>baking<br>egg<br>milk<br>salty butter<br>sweet vanilla<br>umami cheese"
          ],
          [
           "sweet coconut<br>sweet sugar<br>salty salt<br>oil<br>sweet banana"
          ],
          [
           "bean<br>sweet sugar<br>sweet sugar<br>flour<br>sesame<br>oil"
          ],
          [
           "flour<br>sweet coconut<br>sweet sugar<br>sweet squash"
          ],
          [
           "bread<br>bread<br>flour<br>egg<br>sweet mango<br>sweet sugar<br>flour<br>sour lemon<br>salty salt<br>sweet vanilla"
          ],
          [
           "sweet coconut<br>cream<br>sweet coconut<br>rice<br>sweet corn<br>sweet sugar<br>sweet vanilla<br>salty salt"
          ],
          [
           "umami chicken<br>sausage<br>oil<br>flour<br>flour<br>milk<br>egg"
          ],
          [
           "sausage<br>flour<br>milk<br>egg<br>oil<br>baking<br>salty salt<br>egg<br>milk<br>sausage<br>bread<br>mayonnaise<br>bread<br>egg<br>oil"
          ],
          [
           "cassava<br>sweet coconut<br>cream<br>milk<br>egg<br>salty butter<br>umami cheese<br>milk<br>sweet coconut<br>cream<br>milk<br>umami cheese<br>salty butter"
          ],
          [
           "flour<br>salty salt<br>baking<br>salty butter<br>sweet sugar<br>sweet coconut<br>milk<br>egg<br>umami cheese<br>egg<br>sweet coconut<br>sweet banana"
          ],
          [
           "onion<br>umami cheese<br>milk<br>egg<br>bread<br>oil<br>baking<br>flour<br>salty salt"
          ],
          [
           "sweet banana<br>sweet sugar<br>flour<br>egg<br>oil<br>salty salt<br>sweet vanilla<br>baking soda"
          ],
          [
           "rice<br>sweet sugar<br>sweet coconut<br>salty salt"
          ],
          [
           "yam<br>milk<br>sweet coconut<br>salty butter<br>umami cheese"
          ],
          [
           "egg<br>milk<br>milk<br>sweet sugar<br>sweet vanilla"
          ],
          [
           "egg<br>gelatin<br>cream<br>sweet sugar<br>milk<br>sweet vanilla<br>sweet sugar"
          ],
          [
           "rice<br>sweet sugar<br>sweet coconut<br>salty salt<br>sweet coconut"
          ],
          [
           "sweet mango<br>sweet sugar<br>flour<br>cinnamon<br>bread<br>egg<br>bread<br>oil"
          ],
          [
           "rice<br>sweet jackfruit<br>sweet coconut<br>cream<br>sweet sugar<br>flour"
          ],
          [
           "sweet banana<br>flour<br>sweet vanilla<br>egg<br>baking<br>sweet sugar<br>milk<br>oil<br>salty salt"
          ],
          [
           "pasta<br>alcohol<br>sweet coconut<br>sweet coconut<br>mayonnaise<br>milk<br>cream<br>salty salt"
          ],
          [
           "flour<br>mayonnaise<br>sweet chocolate<br>nut<br>sweet sugar<br>salty salt<br>baking soda<br>sweet chocolate<br>egg<br>sweet vanilla"
          ],
          [
           "flour<br>oil<br>sweet sugar<br>egg<br>sweet vanilla<br>sweet chocolate<br>sweet chocolate<br>salty salt<br>baking<br>sweet sugar"
          ],
          [
           "sweet coconut<br>flour<br>milk<br>milk<br>sweet sugar<br>sweet corn<br>sweet coconut"
          ],
          [
           "potato<br>yam<br>sweet banana<br>sweet sugar<br>sweet coconut<br>milk<br>sweet jackfruit<br>taro<br>flour<br>flour"
          ],
          [
           "milk<br>egg<br>egg<br>sweet vanilla<br>flour<br>sweet sugar<br>baking<br>salty salt"
          ],
          [
           "flour<br>baking<br>salty salt<br>egg<br>sweet sugar<br>salty butter<br>sweet coconut<br>sweet vanilla<br>egg<br>umami cheese"
          ],
          [
           "rice<br>rice<br>rice<br>sweet sugar<br>sweet coconut<br>salty butter"
          ],
          [
           "milk<br>milk<br>salty butter<br>sweet sugar"
          ],
          [
           "rice<br>rice<br>sweet coconut<br>cream<br>egg<br>sweet sugar<br>baking<br>salty butter<br>umami cheese<br>salty salt"
          ],
          [
           "sweet vanilla<br>sour yogurt<br>sweet berry<br>sweet honey"
          ],
          [
           "flour<br>buttermilk<br>egg<br>sweet sugar<br>baking<br>baking soda<br>salty butter<br>sweet vanilla<br>salty salt"
          ],
          [
           "cassava<br>sweet coconut<br>milk<br>egg<br>salty butter"
          ],
          [
           "egg<br>sweet sugar<br>milk<br>milk<br>sweet vanilla"
          ],
          [
           "sweet banana<br>flour<br>oil<br>salty salt<br>sweet raisin<br>sweet sugar<br>sweet vanilla<br>egg<br>baking soda"
          ],
          [
           "rice<br>sweet chocolate<br>sweet coconut<br>sweet sugar<br>salty salt"
          ],
          [
           "rice<br>sweet pea<br>sweet carrot<br>salty butter<br>egg<br>oil<br>salty salt"
          ],
          [
           "flour<br>sweet banana<br>baking soda<br>salty salt<br>salty butter<br>sweet sugar<br>sweet vanilla<br>cream<br>nut"
          ],
          [
           "sweet coconut<br>egg<br>milk<br>sweet vanilla<br>salty butter<br>salty salt"
          ],
          [
           "flour<br>baking<br>sweet sugar<br>milk<br>egg<br>milk<br>sweet vanilla"
          ],
          [
           "flour<br>sweet sugar<br>baking<br>milk<br>sweet vanilla<br>umami cheese"
          ],
          [
           "sweet coconut<br>milk<br>cream<br>sweet sugar<br>flour<br>milk<br>sweet coconut"
          ],
          [
           "flour<br>sweet chocolate<br>sweet sugar<br>sweet sugar<br>baking soda<br>salty salt<br>salty butter<br>milk<br>egg<br>sweet vanilla"
          ],
          [
           "sweet chocolate<br>flour<br>salty butter<br>sweet vanilla<br>sweet sugar<br>salty salt"
          ],
          [
           "sweet apple<br>nut<br>flour<br>sweet vanilla<br>cinnamon<br>sweet sugar<br>baking soda<br>salty salt<br>egg<br>sweet sugar<br>sweet honey<br>milk"
          ],
          [
           "flour<br>flour<br>sweet coconut<br>sweet sugar<br>milk<br>salty butter<br>umami cheese<br>egg<br>egg"
          ],
          [
           "sweet banana<br>flour<br>sweet sugar<br>salty salt<br>baking soda<br>sweet chocolate<br>egg<br>oil"
          ],
          [
           "sweet corn<br>baking<br>salty salt<br>sweet sugar<br>sweet honey<br>salty butter<br>egg"
          ],
          [
           "cream<br>cream<br>alcohol<br>milk<br>sweet vanilla<br>bread<br>sweet cherry<br>bread"
          ],
          [
           "sweet coconut<br>rice<br>bean<br>sweet corn<br>sweet sugar<br>sweet vanilla<br>salty salt"
          ],
          [
           "pasta<br>pasta<br>cream cheese<br>umami cheese<br>salty butter<br>flour<br>milk<br>umami cheese"
          ],
          [
           "sweet sugar<br>sweet sugar<br>sweet vanilla<br>salty butter<br>flour<br>baking soda<br>nut<br>sweet chocolate"
          ],
          [
           "sweet banana<br>sweet sugar<br>sweet vanilla<br>salty salt<br>ice<br>milk"
          ],
          [
           "yam<br>sweet coconut<br>sweet sugar<br>oil"
          ],
          [
           "sweet sugar<br>baking<br>milk<br>sweet coconut<br>salty butter<br>egg<br>umami cheese"
          ],
          [
           "sweet chocolate<br>salty butter<br>oil<br>sweet sugar<br>flour<br>egg<br>sweet vanilla<br>baking<br>nut<br>salty salt"
          ],
          [
           "rice<br>sweet sugar<br>salty salt<br>sweet coconut"
          ],
          [
           "salty butter<br>sweet sugar<br>sweet vanilla<br>sweet chocolate<br>egg<br>flour<br>baking<br>salty salt"
          ],
          [
           "cassava<br>sweet coconut<br>salty butter<br>salty salt"
          ],
          [
           "flour<br>milk<br>egg<br>umami cheese<br>salty salt<br>pepper"
          ],
          [
           "sweet banana<br>flour<br>baking soda<br>salty salt<br>egg<br>sweet sugar<br>sweet vanilla<br>nut<br>oil"
          ],
          [
           "potato<br>flour<br>sweet sugar<br>milk<br>egg<br>sweet vanilla<br>nut<br>nut<br>sweet sugar<br>salty butter<br>salty salt"
          ],
          [
           "sweet chocolate<br>flour<br>sweet sugar<br>baking soda<br>egg<br>salty butter<br>sweet vanilla<br>salty salt"
          ],
          [
           "flour<br>buttermilk<br>egg<br>baking<br>baking soda<br>sweet sugar<br>salty butter<br>salty salt"
          ],
          [
           "sweet banana<br>sour yogurt<br>sweet honey<br>ice<br>sweet vanilla"
          ],
          [
           "flour<br>sweet berry<br>sweet sugar<br>baking<br>milk<br>egg<br>salty salt<br>oil"
          ],
          [
           "flour<br>sweet coconut<br>sweet coconut<br>cream<br>sweet coconut"
          ],
          [
           "sweet banana<br>flour<br>baking<br>salty butter<br>baking soda<br>sweet sugar<br>sweet vanilla<br>egg<br>salty salt"
          ],
          [
           "sour lemon<br>flour<br>baking<br>egg<br>salty butter<br>sweet vanilla<br>sweet sugar<br>milk<br>bread<br>umami cheese"
          ],
          [
           "sweet corn<br>buttermilk<br>flour<br>salty butter<br>egg<br>baking soda<br>sweet sugar<br>sweet corn<br>salty salt"
          ],
          [
           "flour<br>salty butter<br>sweet sugar<br>sweet sugar<br>baking<br>milk<br>egg<br>salty salt<br>sweet cherry<br>nut<br>umami cheese"
          ],
          [
           "flour<br>buttermilk<br>milk<br>egg<br>sweet sugar<br>baking soda<br>baking<br>salty butter<br>salty salt<br>salty butter"
          ],
          [
           "sweet chocolate<br>rice<br>sweet sugar<br>milk"
          ],
          [
           "flour<br>sweet coconut<br>sweet sugar<br>milk<br>sweet jackfruit<br>yam<br>sweet vanilla<br>oil<br>sweet coconut"
          ],
          [
           "flour<br>sweet sugar<br>flour<br>salty salt<br>cinnamon<br>sour lemon<br>egg<br>nut"
          ],
          [
           "flour<br>baking<br>salty salt<br>sweet chocolate<br>salty butter<br>sweet sugar<br>egg<br>sweet vanilla<br>milk<br>sour vinegar<br>baking soda<br>umami cheese"
          ],
          [
           "flour<br>sweet chocolate<br>baking soda<br>egg<br>sweet sugar<br>sweet sugar<br>milk<br>salty butter<br>salty salt<br>sweet sugar"
          ],
          [
           "flour<br>sweet chocolate<br>salty butter<br>sweet chocolate<br>baking soda<br>baking<br>cream<br>egg<br>sweet sugar<br>salty salt<br>sweet sugar<br>cream cheese<br>salty butter<br>sweet sugar<br>sweet vanilla"
          ],
          [
           "egg<br>sausage<br>flour<br>milk<br>egg<br>flour<br>sweet sugar<br>milk<br>salty butter<br>egg<br>sweet vanilla<br>baking<br>salty salt"
          ],
          [
           "flour<br>flour<br>buttermilk<br>sweet raisin<br>egg<br>oil<br>sweet sugar<br>sweet sugar<br>baking soda<br>baking<br>sweet vanilla<br>salty salt"
          ],
          [
           "sweet chocolate<br>flour<br>sweet sugar<br>egg<br>oil<br>sweet vanilla<br>nut<br>salty salt<br>sweet chocolate<br>milk<br>sweet vanilla"
          ],
          [
           "sweet banana<br>nut<br>baking soda<br>sweet sugar<br>flour<br>baking<br>oil<br>egg<br>sour lemon<br>sweet vanilla<br>salty salt"
          ],
          [
           "rice<br>sweet sugar<br>sweet coconut<br>sweet coconut<br>cream<br>salty salt<br>sweet banana"
          ],
          [
           "sweet banana<br>oil<br>salty salt<br>sweet sugar"
          ],
          [
           "flour<br>salty butter<br>sweet sugar<br>sweet sugar<br>egg<br>sweet vanilla<br>baking soda<br>salty salt<br>sweet chocolate<br>nut"
          ],
          [
           "sweet banana<br>oil<br>sweet chocolate<br>flour<br>milk<br>egg<br>egg<br>sweet sugar"
          ],
          [
           "sweet berry<br>milk<br>salty salt<br>flour<br>egg<br>baking<br>sweet sugar<br>oil"
          ],
          [
           "salty butter<br>flour<br>sweet corn<br>sweet sugar<br>milk<br>baking<br>egg<br>salty salt"
          ],
          [
           "flour<br>sweet sugar<br>sweet berry<br>egg<br>salty salt<br>cream<br>sweet vanilla<br>cream"
          ],
          [
           "flour<br>salty butter<br>sweet pineapple<br>sweet sugar<br>sweet sugar<br>baking<br>milk<br>egg<br>salty salt"
          ],
          [
           "sweet coconut<br>sweet sugar<br>sweet coconut<br>sweet coconut<br>sweet pineapple<br>milk<br>cream"
          ],
          [
           "potato<br>flour<br>milk<br>salty salt<br>pepper<br>egg<br>bread<br>oil"
          ],
          [
           "onion<br>flour<br>baking<br>salty salt<br>egg<br>milk<br>bread<br>salty salt<br>pepper<br>oil"
          ],
          [
           "sweet squash<br>flour<br>egg<br>milk<br>sweet sugar<br>cinnamon<br>nut<br>salty salt"
          ],
          [
           "baking<br>sweet sugar<br>salty butter<br>egg<br>sweet vanilla<br>cinnamon<br>sweet mango<br>sweet sugar<br>sweet raisin<br>nut<br>alcohol"
          ],
          [
           "sweet chocolate<br>flour<br>baking soda<br>egg<br>salty butter<br>sweet sugar<br>buttermilk<br>salty salt<br>sweet vanilla<br>cream<br>sweet sugar<br>sweet vanilla<br>sweet cherry<br>sweet sugar<br>alcohol"
          ],
          [
           "flour<br>salty butter<br>sweet sugar<br>sweet sugar<br>sweet apple<br>cinnamon<br>nut"
          ],
          [
           "bread<br>sweet sugar<br>salty butter<br>flour<br>salty salt<br>milk<br>egg<br>sweet vanilla<br>sweet banana<br>cream"
          ],
          [
           "peanut<br>sweet sugar<br>sweet corn<br>salty butter<br>baking soda<br>salty salt"
          ],
          [
           "sweet sugar<br>flour<br>bread<br>baking<br>sweet chocolate<br>baking soda<br>salty salt<br>oil<br>egg<br>milk<br>sweet vanilla<br>sweet sugar<br>cream<br>sweet vanilla<br>egg"
          ],
          [
           "potato<br>bread<br>salty butter<br>sweet sugar<br>milk<br>egg<br>nut<br>cinnamon<br>sweet vanilla<br>potato"
          ],
          [
           "flour<br>salty butter<br>salty salt<br>sweet coconut<br>sweet sugar<br>flour<br>sweet coconut<br>milk"
          ],
          [
           "flour<br>salty butter<br>sweet sugar<br>egg<br>sweet vanilla<br>baking soda<br>salty salt"
          ],
          [
           "potato<br>taro<br>yam<br>sweet banana<br>sweet jackfruit<br>flour<br>rice<br>sweet sugar<br>sweet coconut"
          ],
          [
           "egg<br>cream<br>sweet vanilla<br>sweet sugar<br>sweet sugar<br>milk"
          ],
          [
           "egg<br>flour<br>annatto<br>flour<br>salty salt<br>pepper<br>oil"
          ],
          [
           "sweet coconut<br>rice<br>sweet corn<br>sweet sugar"
          ],
          [
           "flour<br>sweet sugar<br>baking<br>cream<br>sour lemon<br>oil<br>egg"
          ],
          [
           "sweet corn<br>flour<br>baking<br>milk<br>sweet corn<br>salty butter<br>sweet sugar<br>sweet honey<br>egg<br>salty salt"
          ],
          [
           "flour<br>baking<br>cinnamon<br>salty butter<br>sweet sugar<br>sweet vanilla<br>egg<br>salty salt<br>sweet raisin"
          ],
          [
           "bread<br>flour<br>salty salt<br>salty butter<br>sweet sugar<br>milk<br>egg<br>egg<br>sweet vanilla<br>sweet sugar"
          ],
          [
           "flour<br>milk<br>rice<br>salty butter<br>sweet sugar"
          ],
          [
           "flour<br>sweet corn<br>milk<br>milk<br>sweet sugar<br>peanut<br>sweet raisin"
          ],
          [
           "sweet chocolate<br>nut<br>sweet sugar<br>sweet vanilla<br>flour<br>baking<br>salty salt<br>salty butter<br>bitter coffee<br>egg"
          ],
          [
           "rice<br>sweet corn<br>sweet sugar<br>salty butter"
          ],
          [
           "yam<br>milk<br>sweet vanilla<br>salty butter"
          ],
          [
           "sweet sugar<br>cream cheese<br>flour<br>sweet vanilla<br>cream<br>egg<br>bread"
          ],
          [
           "flour<br>salty butter<br>sweet sugar<br>sweet sugar<br>egg<br>baking soda<br>baking<br>salty salt<br>nut"
          ],
          [
           "flour<br>sweet sugar<br>baking<br>salty salt<br>oil<br>egg<br>sweet vanilla<br>cream<br>cream<br>salty butter<br>sweet vanilla<br>sweet sugar<br>milk"
          ],
          [
           "flour<br>baking<br>salty salt<br>sweet chocolate<br>salty butter<br>sweet sugar<br>egg<br>sweet vanilla<br>salty butter<br>sweet sugar<br>sweet chocolate<br>sweet vanilla"
          ],
          [
           "flour<br>flour<br>sweet sugar<br>sweet coconut<br>sweet coconut<br>sweet vanilla"
          ],
          [
           "egg<br>flour<br>salty salt<br>pepper<br>oil"
          ],
          [
           "sweet chocolate<br>rice<br>sweet sugar<br>milk"
          ],
          [
           "flour<br>salty butter<br>sweet sugar<br>salty salt<br>umami cheese<br>egg<br>umami yeast<br>milk"
          ],
          [
           "cassava<br>sweet coconut<br>milk<br>egg<br>salty butter<br>umami cheese<br>milk<br>sweet sugar<br>sweet sugar<br>milk<br>umami cheese<br>sweet coconut"
          ],
          [
           "flour<br>flour<br>sweet sugar<br>salty butter<br>baking<br>milk<br>umami yeast<br>salty salt<br>bread<br>egg<br>oil"
          ],
          [
           "baking<br>egg<br>sweet sugar<br>alcohol<br>gelatin<br>milk<br>salty butter<br>sweet vanilla"
          ],
          [
           "sweet coconut<br>salty butter<br>sweet sugar<br>egg<br>milk"
          ],
          [
           "flour<br>gelatin<br>sweet sugar<br>sweet sugar<br>sweet vanilla"
          ]
         ],
         "hovertemplate": "<b>%{hovertext}</b><br><br>cluster=1<br>x=%{x}<br>y=%{y}<br>final_ingredients=%{customdata[0]}<extra></extra>",
         "hovertext": [
          "Cheese Cupcakes",
          "Bibingkoy",
          "Bibingkang Malagkit",
          "Kapit",
          "Mais con Queso Ice Candy",
          "Sapin Sapin",
          "Pinipig Shortbread Cookies",
          "Kalamay Lansong",
          "Buko Pie (Filipino Coconut Pie)",
          "Yema Bread Rolls",
          "Pandesal",
          "Kalamay sa Latik",
          "Ube Kalamay",
          "Pastillas de Ube",
          "Ginataang Kamoteng Kahoy",
          "Banana Pandan Bread",
          "Ham and Cheese Bread Rolls",
          "Minatamis na Kamote",
          "Biko",
          "Maja Blanca Espesyal",
          "Maja Blanca",
          "Ginataang Bilo Bilo",
          "Maja Langka",
          "Polvoron",
          "Ube Maja Blanca",
          "Ginataang Mais",
          "Ginataang Halo-halo",
          "Guava in Coconut Cream",
          "Tibok-Tibok",
          "Bibingka",
          "Royal Bibingka",
          "Champorado",
          "Kababayan",
          "Suman Malagkit with Coconut Caramel Sauce",
          "Coffee Flan",
          "Cebuana Torta",
          "Puto Maya and Sikwate",
          "Uraro Cookies",
          "Brazo de Mercedes",
          "Monay",
          "Pastillas de Leche",
          "Lengua de Gato",
          "Otap",
          "Peanut Tikoy Rolls with Ube Filling",
          "Moist Chocolate Cupcakes with Mocha Buttercream Frosting",
          "Maja Jubilee",
          "Calamansi Cheesecake Squares",
          "Tropical Magic Bars",
          "Mango Bravo Cake",
          "Cheese Dog Bread Rolls",
          "Chocolate Pandesal",
          "Pandan Pandesal with Ube Halaya Filling",
          "Kalihim",
          "Red Velvet Pandesal",
          "Ube Cheese Pandesal",
          "Coconut Flan",
          "Calamansi Muffins",
          "Christmas Fruitcake",
          "Mini Special Sapin-Sapin",
          "Ube Biko",
          "Buko Salad",
          "Ube Cassava Cake",
          "Graham de Leche",
          "Impossible Chocolate Flan Cake",
          "Floating Island Dessert",
          "Halayang Ube",
          "Espasol",
          "Turon Malagkit",
          "Black Forest Swiss Roll",
          "Bicho-Bicho",
          "Silvanas (Sylvanas)",
          "Sans Rival",
          "Cassava Cake with Custard Topping",
          "Puto",
          "Mini Egg Pies",
          "Pasta Fruit Salad",
          "Sweet Potato Dinner Rolls",
          "Yema Cake",
          "Easy Yema Spread",
          "Monggo Bread Loaf",
          "Ube Crinkles (Purple Yam Crinkles)",
          "Pianono (Filipino Sponge Cake Roll)",
          "Pan de Coco",
          "Mango Sago",
          "Filipino Coconut Macaroons",
          "Honey Walnut Shrimp",
          "Leche Flan with Whole Eggs",
          "Hawaiian Bread Pudding",
          "Leche Puto",
          "Kalamay Hati",
          "Cream Cheese Flan",
          "Calamansi Bars",
          "Maruya",
          "Tsokolate",
          "Cheese Puto",
          "Fried Bananas with Salted Caramel Coconut Sauce",
          "Buchi",
          "Tapioca Coconut Dessert Soup",
          "Air Fried Peach Mango Pie",
          "Ginataang Mais at Malagkit (Sweet Corn and Glutinous Rice in Coconut Milk)",
          "Tornado Franks",
          "Idol Cheesedog Bread Roll and Bites",
          "Cassava Cake Recipe Creamy and Cheesy Version",
          "Bibingka Recipe",
          "Cheesy Onion Rings",
          "Banana Bread Recipe",
          "Biko Recipe",
          "Ube Halaya with Cheese",
          "Leche Flan",
          "No Steam Easy Flan",
          "Biko with Latik",
          "Peach Mango Nuggets",
          "Ginataang Bilo bilo with Langka",
          "Banana Fritter Recipe",
          "Macaroni Fruit Salad",
          "Mayo Brownies",
          "Chocolate Crinkle Cookies",
          "Maja Blanca",
          "Binignit Recipe",
          "Puto Cake",
          "Bibingka Muffins",
          "Puto Bumbong Recipe",
          "Pastimallows",
          "Panlasang Pinoy Bibingkang Galapong",
          "Healthy Frozen Blueberry Yogurt Recipe",
          "Buttermilk Waffles",
          "Steamed Cassava Cake",
          "Oven Baked Leche Flan Recipe",
          "Moist Banana Bread with Raisins",
          "Chocolate Biko Recipe",
          "Special Longanisa Fried Rice Recipe",
          "Mini Banana Cake with Walnuts for Kids",
          "Chewy Coconut Macaroons Recipe",
          "Leche Puto Recipe",
          "Cheese Puto Recipe",
          "Creamy Mais Maja Blanca",
          "Oat Bran Chocolate Chip Cookie",
          "Microwave Brownie in a Bowl",
          "Apple Cake Recipe",
          "Royal Bibingka",
          "Dark Chocolate Banana Bread",
          "How to Make Cornbread for Beginners",
          "Fruit Cocktail Float",
          "Ginataang Monggo at Mais",
          "Creamy Baked Spaghetti",
          "Oatmeal Chocolate Chip Cookies",
          "Saging con Hielo",
          "Simple Ube Halaya Recipe",
          "Buttered Puto",
          "Brownies Recipe",
          "Ube Biko Recipe",
          "How to Make Brownies",
          "Nilupak Recipe",
          "Ham and Cheese Quiche Recipe",
          "Gluten Free Banana Bread with Almonds Recipe",
          "Sweet Potato Casserole",
          "White Chocolate Chip Cookie",
          "Delicious Whole Wheat Pancakes",
          "Banana Yogurt Smoothie",
          "Yummy Blueberry Pancake Recipe",
          "Kalamay hati Recipe",
          "Easy Banana Muffin",
          "Lemon Cupcake with Cream Cheese Frosting",
          "Buttermilk Cornbread",
          "Pineapple Cake",
          "Buttermilk Pancakes",
          "Easy Champorado Recipe",
          "Sapin Sapin Recipe",
          "Peach Pie Recipe",
          "Red Velvet Cupcake Recipe",
          "Ghostly Dark Chocolate Cupcake",
          "Chocolate Cupcake with Cream Cheese Frosting",
          "Sausage and Egg Waffle Sandwich",
          "Raisin Bran Muffin Recipe",
          "Fudge Brownies",
          "Banana Nut Muffin",
          "Bibingkang Malagkit Recipe",
          "How to Make Banana Chips",
          "Chocolate Chip Cookie Recipe",
          "Banana Chocolate Chip Muffin Recipe",
          "Blueberry Muffins Recipe",
          "Cornbread Recipe",
          "Angel Food Cake with Strawberries",
          "Pineapple Upside Down Cake",
          "Buko Salad Recipe",
          "Potato Croquettes Recipe",
          "Onion Rings",
          "Pumpkin Pie",
          "Fruity Prune Cake",
          "Black Forest Cupcake Recipe",
          "Apple Pie Recipe",
          "How to Make Banana Cream Pie",
          "Peanut Brittle Recipe",
          "Chocolate Graham Cupcake",
          "Sweet Potato Pie Recipe",
          "Buko Pie",
          "Sugar Cookie Recipe",
          "Ginataang Halo-halo Recipe (Binignit)",
          "Brazo de Mercedes",
          "Tokneneng",
          "Ginataang Mais Recipe",
          "Mamon Recipe",
          "Cornbread Muffin Recipe",
          "Oatmeal Cookies",
          "Egg Pie Recipe",
          "Polvoron Recipe",
          "Shared Recipe. Maja Blanca",
          "Brownies with Walnuts",
          "Perfect Rice Puff Dessert",
          "Ube Halaya",
          "New York Style Cheesecake",
          "Food for the Gods Recipe",
          "Vanilla Chiffon Cake",
          "Chocolate Cupcake Recipe",
          "Espasol Recipe",
          "Kwek - Kwek Recipe",
          "Champorado Recipe",
          "Ensaymada Recipe",
          "Cassava Cake",
          "Pandesal",
          "Crema de Fruta Recipe",
          "Coconut Macaroon Recipe",
          "Sago at Gulaman Recipe"
         ],
         "legendgroup": "1",
         "marker": {
          "color": "rgb(127, 60, 141)",
          "size": 5,
          "symbol": "circle"
         },
         "mode": "markers",
         "name": "1",
         "showlegend": true,
         "type": "scattergl",
         "x": [
          0.7783187627792358,
          0.6996322870254517,
          0.7577903270721436,
          0.7121188640594482,
          0.7394348382949829,
          0.7178289890289307,
          0.774016797542572,
          0.6715384721755981,
          0.8485203385353088,
          0.8116801381111145,
          0.797566831111908,
          0.692224383354187,
          0.6971938610076904,
          0.7555398941040039,
          0.7406094074249268,
          0.7510809898376465,
          0.7852990031242371,
          0.7517552971839905,
          0.7791705131530762,
          0.7173742651939392,
          0.6516865491867065,
          0.7032544016838074,
          0.707094669342041,
          0.7598537802696228,
          0.6851015090942383,
          0.7319850921630859,
          0.7273354530334473,
          0.7478885054588318,
          0.7769135236740112,
          0.7535555362701416,
          0.8292832374572754,
          0.6751499176025391,
          0.7629753947257996,
          0.7263352870941162,
          0.7378367781639099,
          0.7423398494720459,
          0.7734483480453491,
          0.7246356010437012,
          0.7830544114112854,
          0.770937979221344,
          0.7982681393623352,
          0.7642320394515991,
          0.7774675488471985,
          0.6798185110092163,
          0.7890309691429138,
          0.7592019438743591,
          0.772111177444458,
          0.8236092925071716,
          0.7006288766860962,
          0.7371610403060913,
          0.833031415939331,
          0.8502494096755981,
          0.8032370805740356,
          0.841637134552002,
          0.8201680779457092,
          0.6399245858192444,
          0.7707281708717346,
          0.7350957989692688,
          0.7036058306694031,
          0.7924960851669312,
          0.7277016639709473,
          0.764448344707489,
          0.6251804828643799,
          0.7486658692359924,
          0.801041841506958,
          0.7975260019302368,
          0.7579516768455505,
          0.7617915868759155,
          0.765690267086029,
          0.8327369689941406,
          0.7690145969390869,
          0.7712351083755493,
          0.7330405712127686,
          0.7024191617965698,
          0.6800856590270996,
          0.7640933990478516,
          0.8111411333084106,
          0.7610631585121155,
          0.655677318572998,
          0.7869168519973755,
          0.7266834378242493,
          0.734021782875061,
          0.8084877729415894,
          0.617578387260437,
          0.7919538617134094,
          0.8473210334777832,
          0.7343412637710571,
          0.7775840759277344,
          0.6936721801757812,
          0.6715384721755981,
          0.642758846282959,
          0.7898515462875366,
          0.7726538181304932,
          0.6622360944747925,
          0.7175941467285156,
          0.7802010774612427,
          0.7204426527023315,
          0.6292600035667419,
          0.8435934782028198,
          0.7983018159866333,
          0.7170485854148865,
          0.7339755296707153,
          0.7864952087402344,
          0.8141809701919556,
          0.7654770612716675,
          0.7738350033760071,
          0.7388535737991333,
          0.8018930554389954,
          0.6270179748535156,
          0.6765555143356323,
          0.7171431183815002,
          0.7814050912857056,
          0.7512015104293823,
          0.7966893911361694,
          0.8351083993911743,
          0.7956640720367432,
          0.76591956615448,
          0.6948920488357544,
          0.7461090683937073,
          0.7520982623100281,
          0.8303388953208923,
          0.7554556727409363,
          0.6617811918258667,
          0.8501302003860474,
          0.6968941688537598,
          0.7600418329238892,
          0.7194573879241943,
          0.6270179748535156,
          0.7681993246078491,
          0.7555434703826904,
          0.8372610807418823,
          0.7808204889297485,
          0.8073922991752625,
          0.6098294258117676,
          0.6559573411941528,
          0.6851015090942383,
          0.7589154839515686,
          0.7686128616333008,
          0.768839955329895,
          0.8060550689697266,
          0.7663069367408752,
          0.7593734264373779,
          0.683053731918335,
          0.7905014157295227,
          0.7243659496307373,
          0.7485803961753845,
          0.7113121151924133,
          0.6780568957328796,
          0.7447054982185364,
          0.7849724888801575,
          0.7388535737991333,
          0.7565679550170898,
          0.746720552444458,
          0.8153687715530396,
          0.7763345241546631,
          0.7761775851249695,
          0.7706680297851562,
          0.7024011015892029,
          0.6974365711212158,
          0.7487642765045166,
          0.6419519186019897,
          0.778083324432373,
          0.8011735081672668,
          0.7457574605941772,
          0.7875365018844604,
          0.6918401122093201,
          0.6751499176025391,
          0.7555643320083618,
          0.7769027352333069,
          0.842587947845459,
          0.7237025499343872,
          0.7670462727546692,
          0.7698208093643188,
          0.7613835334777832,
          0.7716901302337646,
          0.8168284893035889,
          0.7873519659042358,
          0.7577573657035828,
          0.7683795094490051,
          0.7603349089622498,
          0.7487642765045166,
          0.7322297692298889,
          0.7933771014213562,
          0.7447656393051147,
          0.687744140625,
          0.7717030048370361,
          0.7218152284622192,
          0.7715350985527039,
          0.7594637870788574,
          0.7737398147583008,
          0.723662257194519,
          0.8002825379371643,
          0.7475606799125671,
          0.7888804078102112,
          0.8005201816558838,
          0.7406246066093445,
          0.7590758800506592,
          0.7427970170974731,
          0.6927630305290222,
          0.7232661843299866,
          0.6883761882781982,
          0.7024415135383606,
          0.7589461803436279,
          0.7044367790222168,
          0.7832489609718323,
          0.6984753608703613,
          0.6706662178039551,
          0.7557625770568848,
          0.7690314054489136,
          0.7367454171180725,
          0.7298703193664551,
          0.7244306802749634,
          0.7663779258728027,
          0.7126988172531128,
          0.6714279651641846,
          0.7472553253173828,
          0.6751499176025391,
          0.8075514435768127,
          0.792523205280304,
          0.7259066700935364,
          0.7706632614135742,
          0.7662169337272644,
          0.632541298866272
         ],
         "xaxis": "x",
         "y": [
          0.4400466978549957,
          0.40605759620666504,
          0.3701651096343994,
          0.5098578929901123,
          0.3990684747695923,
          0.5073236227035522,
          0.3982617259025574,
          0.5166035294532776,
          0.3716513514518738,
          0.43164515495300293,
          0.4066140651702881,
          0.5125222206115723,
          0.4810352921485901,
          0.29397517442703247,
          0.3486749231815338,
          0.5174304246902466,
          0.37058883905410767,
          0.37518346309661865,
          0.4194399118423462,
          0.5428496599197388,
          0.5474305152893066,
          0.4289991557598114,
          0.5204629302024841,
          0.48493778705596924,
          0.5381841063499451,
          0.41214150190353394,
          0.4545663595199585,
          0.3751014471054077,
          0.5188263654708862,
          0.5449168682098389,
          0.4492206871509552,
          0.47319379448890686,
          0.43054601550102234,
          0.4280175566673279,
          0.3377823233604431,
          0.5319324731826782,
          0.34507060050964355,
          0.5248554348945618,
          0.3991696238517761,
          0.44639158248901367,
          0.35259106755256653,
          0.5129748582839966,
          0.4613300859928131,
          0.4738110899925232,
          0.3272976577281952,
          0.4435860216617584,
          0.4662208557128906,
          0.39409053325653076,
          0.4384914040565491,
          0.3191089630126953,
          0.40142619609832764,
          0.3799339234828949,
          0.47204864025115967,
          0.4064568281173706,
          0.3520348072052002,
          0.49441009759902954,
          0.3770575523376465,
          0.475422739982605,
          0.4579969644546509,
          0.38516607880592346,
          0.3884785771369934,
          0.35571327805519104,
          0.5440858602523804,
          0.5119826197624207,
          0.42823857069015503,
          0.39655163884162903,
          0.49548661708831787,
          0.3731616139411926,
          0.459113210439682,
          0.35450929403305054,
          0.5047187805175781,
          0.4913497567176819,
          0.4166053831577301,
          0.5410822629928589,
          0.4664795994758606,
          0.3060203492641449,
          0.42355257272720337,
          0.505777895450592,
          0.45372122526168823,
          0.41142892837524414,
          0.46649670600891113,
          0.5501536130905151,
          0.4635714888572693,
          0.4828979969024658,
          0.4744786024093628,
          0.3548569679260254,
          0.33362963795661926,
          0.4537672698497772,
          0.529090166091919,
          0.5166035294532776,
          0.5141392946243286,
          0.40045398473739624,
          0.506337583065033,
          0.4797062277793884,
          0.397524893283844,
          0.39570605754852295,
          0.3142243027687073,
          0.5178914070129395,
          0.4047137498855591,
          0.41114485263824463,
          0.2810930609703064,
          0.3352252244949341,
          0.3384184241294861,
          0.4978957772254944,
          0.337028831243515,
          0.4430178701877594,
          0.4364275336265564,
          0.3541219234466553,
          0.502642810344696,
          0.4390243887901306,
          0.44058191776275635,
          0.38477855920791626,
          0.45619508624076843,
          0.5013387203216553,
          0.32952114939689636,
          0.44934916496276855,
          0.5136449337005615,
          0.5630576610565186,
          0.501293420791626,
          0.541423499584198,
          0.4711039364337921,
          0.4129903316497803,
          0.5156217813491821,
          0.39050254225730896,
          0.31150367856025696,
          0.4896067976951599,
          0.34876957535743713,
          0.502642810344696,
          0.45949041843414307,
          0.4602372348308563,
          0.3424984812736511,
          0.4941771328449249,
          0.46961510181427,
          0.5737787485122681,
          0.47000738978385925,
          0.5381841063499451,
          0.5199117064476013,
          0.5170689225196838,
          0.40698522329330444,
          0.4812883734703064,
          0.47092294692993164,
          0.501749575138092,
          0.42954209446907043,
          0.3740263879299164,
          0.3086595833301544,
          0.5232768654823303,
          0.4336235821247101,
          0.2767632305622101,
          0.405305951833725,
          0.49797511100769043,
          0.4364275336265564,
          0.5281084775924683,
          0.32670462131500244,
          0.37691980600357056,
          0.43604761362075806,
          0.5453214049339294,
          0.49816441535949707,
          0.49605971574783325,
          0.2982707619667053,
          0.5072116851806641,
          0.464474618434906,
          0.48330408334732056,
          0.394052118062973,
          0.5141447186470032,
          0.5004569292068481,
          0.5164645910263062,
          0.47319379448890686,
          0.3989103436470032,
          0.3760778605937958,
          0.3656318783760071,
          0.5468686819076538,
          0.5006855130195618,
          0.5025336146354675,
          0.4868277609348297,
          0.5018545985221863,
          0.3532123267650604,
          0.42834579944610596,
          0.4038935601711273,
          0.5083705186843872,
          0.5331429243087769,
          0.5072116851806641,
          0.5522765517234802,
          0.48270750045776367,
          0.5433345437049866,
          0.4418995976448059,
          0.3773154020309448,
          0.4033737778663635,
          0.468029260635376,
          0.39635753631591797,
          0.4648977518081665,
          0.4832506775856018,
          0.5137041807174683,
          0.47813767194747925,
          0.4718632102012634,
          0.43224164843559265,
          0.5466105937957764,
          0.47547829151153564,
          0.3623112738132477,
          0.48646649718284607,
          0.29127237200737,
          0.447492778301239,
          0.2851632833480835,
          0.5433076024055481,
          0.45968005061149597,
          0.5319438576698303,
          0.5209072232246399,
          0.613735020160675,
          0.4105660617351532,
          0.4381886124610901,
          0.41537538170814514,
          0.49266672134399414,
          0.5082855224609375,
          0.5070233345031738,
          0.5488187074661255,
          0.514512836933136,
          0.3146404027938843,
          0.47319379448890686,
          0.40517154335975647,
          0.3788983225822449,
          0.4171779155731201,
          0.442447304725647,
          0.49219274520874023,
          0.47742098569869995
         ],
         "yaxis": "y"
        },
        {
         "customdata": [
          [
           "oil<br>umami pork<br>onion<br>garlic<br>sour vinegar<br>umami soy sauce<br>bean<br>salty salt<br>garlic"
          ],
          [
           "umami pork<br>umami pork<br>garlic<br>umami soy sauce<br>alcohol<br>sour vinegar<br>sweet sugar<br>salty salt<br>pepper<br>paprika<br>umami pork<br>oil"
          ],
          [
           "umami chicken<br>onion<br>garlic<br>pepper<br>sour lemon<br>umami soy sauce<br>oil<br>salty salt"
          ],
          [
           "oil<br>onion<br>garlic<br>ginger<br>umami fish sauce<br>spinach<br>salty salt"
          ],
          [
           "umami pork<br>onion<br>garlic<br>sour vinegar<br>umami soy sauce<br>bay leaf<br>pepper<br>umami clam<br>salty salt"
          ],
          [
           "umami pork<br>onion<br>garlic<br>pepper<br>bay leaf<br>sour vinegar<br>umami soy sauce<br>oil<br>sweet coconut<br>chili<br>salty salt"
          ],
          [
           "lemongrass<br>oil<br>onion<br>garlic<br>ginger<br>umami chicken<br>umami fish sauce<br>sweet coconut<br>chili<br>sweet papaya<br>salty salt<br>spinach"
          ],
          [
           "oil<br>onion<br>garlic<br>ginger<br>umami pork<br>umami pork<br>umami fish sauce<br>umami pork<br>salty salt<br>chili"
          ],
          [
           "lemongrass<br>oil<br>onion<br>garlic<br>ginger<br>umami chicken<br>umami fish sauce<br>sweet coconut<br>sweet coconut<br>sweet papaya<br>spinach"
          ],
          [
           "spinach<br>oil<br>onion<br>garlic<br>umami pork<br>sour vinegar<br>umami soy sauce<br>pepper"
          ],
          [
           "oil<br>onion<br>garlic<br>ginger<br>umami chicken<br>umami fish sauce<br>gourd<br>spinach<br>salty salt"
          ],
          [
           "oil<br>onion<br>garlic<br>umami pork<br>bay leaf<br>pepper<br>sour vinegar<br>umami soy sauce<br>sweet sugar<br>sweet banana<br>salty salt"
          ],
          [
           "umami shrimp<br>gourd<br>oil<br>onion<br>garlic<br>umami tomato<br>umami fish sauce<br>salty salt"
          ],
          [
           "oil<br>umami pork<br>onion<br>garlic<br>sweet pineapple<br>sweet apple<br>sour vinegar<br>umami soy sauce<br>pepper<br>bay leaf<br>sweet sugar<br>salty salt<br>sweet pineapple"
          ],
          [
           "oil<br>eggplant<br>chili<br>garlic<br>umami soy sauce<br>sour vinegar<br>sweet sugar<br>ginger<br>onion"
          ],
          [
           "umami pork<br>umami pork<br>sour vinegar<br>salty salt<br>oil<br>garlic<br>onion<br>umami pork<br>umami fish sauce"
          ],
          [
           "umami squid<br>sour vinegar<br>garlic<br>pepper<br>bay leaf<br>oil<br>onion<br>umami tomato<br>umami fish sauce<br>salty salt"
          ],
          [
           "umami pork<br>umami soy sauce<br>sour lemon<br>garlic<br>oil"
          ],
          [
           "oil<br>onion<br>garlic<br>umami fish sauce<br>umami tomato<br>gourd<br>salty salt"
          ],
          [
           "umami pork<br>sour lemon<br>umami soy sauce<br>onion<br>garlic<br>oil<br>salty salt<br>onion"
          ],
          [
           "oil<br>onion<br>ginger<br>garlic<br>umami fish sauce<br>sweet coconut<br>chili<br>umami shrimp<br>salty salt"
          ],
          [
           "oil<br>garlic<br>ginger<br>umami beef<br>umami soy sauce<br>sweet sugar<br>oil<br>pepper<br>onion<br>sesame"
          ],
          [
           "umami squid<br>garlic<br>sour vinegar<br>bay leaf<br>salty salt<br>oil<br>onion<br>ginger<br>umami tomato<br>umami fish sauce<br>sweet coconut<br>chili"
          ],
          [
           "umami pork<br>sour vinegar<br>umami soy sauce<br>garlic<br>pepper<br>bay leaf<br>salty salt<br>onion<br>chili<br>sour lemon<br>pepper"
          ],
          [
           "umami pork<br>sour vinegar<br>salty salt<br>oil<br>onion<br>garlic<br>umami fish sauce<br>sweet carrot<br>bell pepper<br>bell pepper<br>chili"
          ],
          [
           "umami chicken<br>paprika<br>salty salt<br>oil<br>sausage<br>garlic<br>onion<br>umami tomato<br>rice<br>saffron<br>umami shrimp<br>umami clam"
          ],
          [
           "sweet banana<br>oil<br>onion<br>garlic<br>umami pork<br>umami fish sauce<br>sour vinegar<br>chili<br>salty salt"
          ],
          [
           "oil<br>onion<br>garlic<br>ginger<br>umami tomato<br>bean<br>sour tamarind<br>umami fish sauce<br>bitter radish<br>umami fish<br>mustard<br>salty salt"
          ],
          [
           "umami fish<br>salty salt<br>sour lemon<br>umami soy sauce<br>pepper<br>oil<br>onion<br>ginger<br>umami tomato<br>sour vinegar<br>sweet sugar<br>bay leaf<br>star anise<br>garlic<br>onion"
          ],
          [
           "oil<br>eggplant<br>garlic<br>sour vinegar<br>umami soy sauce<br>chili<br>salty salt"
          ],
          [
           "oil<br>onion<br>garlic<br>umami pork<br>umami chicken<br>sour vinegar<br>umami soy sauce<br>bay leaf<br>salty salt"
          ],
          [
           "rib<br>sour vinegar<br>umami soy sauce<br>garlic<br>bay leaf<br>pepper<br>salty salt<br>egg<br>oil"
          ],
          [
           "oil<br>onion<br>garlic<br>umami chicken<br>sour vinegar<br>umami soy sauce<br>bay leaf<br>pepper<br>sweet sugar<br>salty salt"
          ],
          [
           "umami pork<br>umami pork<br>sour vinegar<br>salty salt<br>oil<br>onion<br>garlic<br>umami fish sauce<br>bay leaf<br>bitter radish"
          ],
          [
           "umami pork<br>garlic<br>salty salt<br>pepper<br>bay leaf<br>oil"
          ],
          [
           "umami chicken<br>salty salt<br>cilantro<br>ginger<br>garlic<br>sweet coconut<br>umami fish sauce<br>sour lemon"
          ],
          [
           "peanut<br>umami soy sauce<br>sweet sugar<br>cinnamon<br>garlic<br>star anise<br>chili"
          ],
          [
           "bean<br>oil<br>onion<br>garlic<br>umami tomato<br>spinach<br>umami fish sauce"
          ],
          [
           "bean<br>oil<br>onion<br>garlic<br>umami fish sauce<br>umami fish<br>bitter bitter gourd<br>spinach"
          ],
          [
           "oil<br>umami pork<br>onion<br>garlic<br>salty salt<br>sweet pineapple<br>sour vinegar<br>umami soy sauce<br>sweet pineapple"
          ],
          [
           "garlic<br>onion<br>ginger<br>umami soy sauce<br>sweet sugar<br>sour vinegar<br>oil<br>salty salt<br>onion<br>sesame<br>umami beef"
          ],
          [
           "umami chicken<br>flour<br>umami soy sauce<br>oil<br>umami chicken<br>umami broth<br>sour vinegar<br>oil<br>sweet sugar<br>chili<br>garlic<br>sesame<br>onion"
          ],
          [
           "umami chicken<br>salty salt<br>sour vinegar<br>umami soy sauce<br>onion<br>bay leaf<br>pepper<br>oil<br>chili<br>garlic"
          ],
          [
           "umami pork<br>sour lemon<br>umami soy sauce<br>onion<br>garlic<br>pepper<br>oil<br>potato<br>umami tomato<br>bay leaf<br>salty salt"
          ],
          [
           "umami chicken<br>onion<br>garlic<br>bay leaf<br>umami soy sauce<br>pepper<br>oil<br>potato<br>sour vinegar<br>salty salt"
          ],
          [
           "oil<br>garlic<br>umami chicken<br>sour vinegar<br>umami soy sauce<br>bay leaf<br>salty salt"
          ],
          [
           "oil<br>onion<br>garlic<br>ginger<br>umami pork<br>sour vinegar<br>bay leaf<br>salty salt"
          ],
          [
           "oil<br>onion<br>garlic<br>umami chicken<br>umami fish sauce<br>sour vinegar<br>bay leaf<br>pepper<br>salty salt"
          ],
          [
           "umami chicken<br>sour lemon<br>umami soy sauce<br>onion<br>garlic<br>pepper<br>oil<br>potato<br>umami tomato<br>bay leaf<br>salty salt"
          ],
          [
           "umami chicken<br>salty salt<br>sour lemon<br>umami fish sauce<br>umami soy sauce<br>sweet sugar<br>garlic<br>onion<br>lemongrass"
          ],
          [
           "oil<br>onion<br>garlic<br>umami fish sauce<br>ginger<br>umami pork<br>umami pork<br>umami pork<br>pasta"
          ],
          [
           "umami pork<br>sour vinegar<br>oil<br>onion<br>garlic<br>ginger<br>umami pork<br>umami fish sauce<br>sweet sugar<br>chili<br>salty salt"
          ],
          [
           "umami fish<br>salty salt<br>oil<br>onion<br>garlic<br>ginger<br>umami tomato<br>umami fish sauce<br>sour tamarind"
          ],
          [
           "oil<br>umami pork<br>garlic<br>umami soy sauce<br>star anise<br>bay leaf<br>sweet sugar<br>salty salt"
          ],
          [
           "umami fish<br>salty salt<br>oil<br>onion<br>garlic<br>ginger<br>umami tomato<br>umami fish sauce<br>bean"
          ],
          [
           "umami fish<br>salty salt<br>umami soy sauce<br>sour vinegar<br>chili<br>oil<br>ginger<br>garlic"
          ],
          [
           "umami chicken<br>umami chicken<br>umami broth<br>umami soy sauce<br>umami soy sauce<br>alcohol<br>sweet sugar<br>star anise<br>cinnamon<br>garlic<br>ginger<br>oil"
          ],
          [
           "oil<br>umami pork<br>onion<br>garlic<br>sweet pineapple<br>sweet apple<br>sour vinegar<br>umami soy sauce<br>pepper<br>bay leaf<br>sweet sugar<br>salty salt<br>sweet pineapple"
          ],
          [
           "umami pork<br>sour vinegar<br>umami soy sauce<br>onion<br>bay leaf<br>pepper<br>garlic<br>oil<br>bell pepper<br>umami beef<br>peas<br>salty salt"
          ],
          [
           "oil<br>bell pepper<br>onion<br>garlic<br>umami pork<br>umami beef<br>umami fish sauce<br>umami tomato<br>bay leaf<br>sweet pea<br>salty salt"
          ],
          [
           "oil<br>garlic<br>umami chicken<br>umami soy sauce<br>umami chicken<br>onion<br>sour lemon<br>salty salt<br>mayonnaise<br>chili"
          ],
          [
           "umami chicken<br>sour lemon<br>umami soy sauce<br>sweet honey<br>sour vinegar<br>chili<br>oil<br>ginger<br>garlic<br>salty salt<br>sesame"
          ],
          [
           "egg<br>oil<br>onion<br>garlic<br>ginger<br>chili<br>bell pepper<br>umami soy sauce<br>umami clam<br>onion<br>pepper"
          ],
          [
           "umami pork<br>oil<br>alcohol<br>sour vinegar<br>umami soy sauce<br>sweet sugar<br>star anise<br>umami mushroom<br>cabbage"
          ],
          [
           "oil<br>onion<br>garlic<br>umami chicken<br>sour tamarind<br>umami soy sauce<br>salty salt"
          ],
          [
           "umami chicken<br>garlic<br>pepper<br>salty salt<br>onion<br>umami fish sauce<br>sour lemon"
          ],
          [
           "oil<br>onion<br>garlic<br>ginger<br>umami chicken<br>umami fish sauce<br>egg<br>salty salt<br>chili"
          ],
          [
           "umami pork<br>sour vinegar<br>umami soy sauce<br>garlic<br>bay leaf<br>salty salt<br>umami clam<br>sour ketchup<br>oil"
          ],
          [
           "umami pork<br>oil<br>onion<br>garlic<br>ginger<br>sour vinegar<br>umami soy sauce<br>bay leaf<br>sweet sugar<br>salty salt"
          ],
          [
           "umami pork<br>oil<br>potato<br>sweet carrot<br>onion<br>garlic<br>sour lemon<br>umami soy sauce<br>umami tomato<br>bay leaf<br>bell pepper<br>bell pepper<br>salty salt"
          ],
          [
           "umami pork<br>sour vinegar<br>garlic<br>pepper<br>bay leaf<br>salty salt<br>oil<br>sour vinegar<br>umami soy sauce<br>onion<br>garlic<br>chili<br>salty salt"
          ],
          [
           "oil<br>onion<br>garlic<br>umami beef<br>umami fish sauce<br>chili<br>sour lemon<br>salty salt"
          ],
          [
           "oil<br>onion<br>garlic<br>ginger<br>umami tomato<br>umami chicken<br>umami fish sauce<br>sour tamarind<br>bean<br>sour tamarind"
          ],
          [
           "oil<br>onion<br>garlic<br>ginger<br>umami chicken<br>umami fish sauce<br>sweet papaya<br>spinach<br>salty salt"
          ],
          [
           "umami fish<br>salty salt<br>oil<br>bean<br>chili<br>garlic<br>umami soy sauce"
          ],
          [
           "umami pork<br>onion<br>garlic<br>bay leaf<br>salty salt<br>oil<br>sour vinegar<br>umami soy sauce"
          ],
          [
           "umami pork<br>sour tamarind<br>bitter radish<br>bean<br>eggplant<br>pepper<br>okra<br>onion<br>umami tomato<br>spinach<br>oil<br>umami fish sauce"
          ],
          [
           "pasta<br>umami pork<br>onion<br>annatto<br>onion<br>umami fish sauce<br>oil"
          ],
          [
           "umami chicken<br>umami tomato<br>umami chicken<br>cabbage<br>chili<br>onion<br>ginger<br>oil<br>umami fish sauce"
          ],
          [
           "umami fish<br>sour tamarind<br>umami miso<br>mustard<br>bitter radish<br>pepper<br>umami tomato<br>okra<br>onion<br>oil<br>pepper<br>umami fish sauce"
          ],
          [
           "umami beef<br>umami beef<br>lemongrass<br>bell pepper<br>bean<br>onion<br>chili<br>pepper<br>umami tomato<br>annatto<br>onion<br>ginger<br>umami fish sauce<br>oil"
          ],
          [
           "umami chicken<br>umami chicken<br>onion<br>sweet sugar<br>bay leaf<br>pepper<br>umami soy sauce<br>sour vinegar<br>umami clam<br>onion<br>salty butter<br>oil"
          ],
          [
           "umami pork<br>sour tamarind<br>bean<br>spinach<br>eggplant<br>okra<br>bitter radish<br>pepper<br>onion<br>umami tomato<br>oil<br>umami fish sauce"
          ],
          [
           "umami chicken<br>umami chicken<br>egg<br>umami soy sauce<br>sour vinegar<br>bay leaf<br>pepper<br>sweet sugar<br>oil"
          ],
          [
           "umami pork<br>umami pork<br>umami pork<br>umami pork<br>bell pepper<br>sweet pea<br>sweet carrot<br>bay leaf<br>onion<br>umami soy sauce<br>sour vinegar<br>oil<br>salty salt"
          ],
          [
           "umami pork<br>bay leaf<br>sour vinegar<br>umami soy sauce<br>salty salt"
          ],
          [
           "umami chicken<br>umami chicken<br>garlic<br>pepper<br>umami soy sauce<br>sour vinegar<br>garlic<br>oil<br>umami soy sauce<br>sour vinegar<br>umami fish sauce<br>onion<br>chili<br>salty salt"
          ],
          [
           "umami pork<br>umami chicken<br>sour tamarind<br>onion<br>umami tomato<br>bitter radish<br>okra<br>pepper<br>bean<br>eggplant<br>spinach<br>oil<br>umami fish sauce"
          ],
          [
           "umami pork<br>umami pork<br>bay leaf<br>sweet carrot<br>ginger<br>annatto<br>chili<br>onion<br>sour vinegar<br>pepper<br>oil<br>umami fish sauce<br>bay leaf"
          ],
          [
           "chili<br>oil<br>star anise<br>bay leaf<br>umami soy sauce<br>sour vinegar<br>sweet sugar<br>salty salt"
          ],
          [
           "umami pork<br>umami pork<br>sweet papaya<br>spinach<br>sweet coconut<br>chili<br>garlic<br>oil<br>onion<br>ginger<br>chili<br>umami fish sauce"
          ],
          [
           "umami pork<br>bay leaf<br>umami soy sauce<br>sour vinegar<br>sour lemon<br>soda<br>umami clam<br>onion<br>oil"
          ],
          [
           "onion<br>ginger<br>umami chicken<br>bitter radish<br>sour tamarind<br>umami tomato<br>pepper<br>okra<br>bean<br>spinach<br>pepper<br>umami fish sauce<br>oil"
          ],
          [
           "sweet melon<br>umami beef<br>umami beef<br>umami pork<br>chili<br>sour lemon<br>onion<br>ginger<br>sour vinegar<br>oil<br>umami fish sauce"
          ],
          [
           "umami pork<br>sour vinegar<br>salty salt<br>lemongrass<br>pepper<br>onion<br>bay leaf<br>oil"
          ],
          [
           "umami pork<br>cabbage<br>sour tamarind<br>taro<br>bean<br>okra<br>eggplant<br>chili<br>bitter radish<br>umami tomato<br>onion<br>oil<br>umami fish sauce"
          ],
          [
           "onion<br>umami beef<br>umami tomato<br>oil<br>sour lemon<br>potato<br>umami soy sauce<br>pepper<br>bay leaf<br>salty salt"
          ],
          [
           "bean<br>umami pork<br>umami tomato<br>onion<br>oil<br>pepper<br>umami fish sauce"
          ],
          [
           "umami pork<br>barbecue<br>sour lemon<br>oil<br>pepper"
          ],
          [
           "umami pork<br>sour tamarind<br>taro<br>eggplant<br>okra<br>bean<br>bitter radish<br>spinach<br>onion<br>umami tomato<br>chili<br>umami fish sauce<br>oil"
          ],
          [
           "umami chicken<br>umami soy sauce<br>sour vinegar<br>bay leaf<br>pepper<br>sour lemon<br>soda<br>sour ketchup<br>oil"
          ],
          [
           "umami pork<br>sour tamarind<br>umami pork<br>onion<br>ginger<br>oil<br>bay leaf<br>pepper<br>sweet sugar<br>pepper"
          ],
          [
           "umami pork<br>sweet pineapple<br>umami soy sauce<br>sour vinegar<br>umami fish sauce<br>bay leaf<br>oil"
          ],
          [
           "umami pork<br>bay leaf<br>star anise<br>onion<br>sour vinegar<br>pepper<br>oil<br>salty salt"
          ],
          [
           "umami chicken<br>umami chicken<br>sweet pea<br>sweet carrot<br>bell pepper<br>bay leaf<br>onion<br>umami soy sauce<br>sour vinegar<br>oil<br>salty salt"
          ],
          [
           "umami pork<br>umami pork<br>chili<br>sour vinegar<br>umami fish sauce<br>onion<br>bay leaf<br>salty salt<br>pepper<br>sweet sugar<br>pepper<br>oil"
          ],
          [
           "spinach<br>onion<br>umami soy sauce<br>sour vinegar<br>oil<br>pepper"
          ],
          [
           "umami fish<br>sour tamarind<br>umami miso<br>mustard<br>okra<br>onion<br>bitter radish<br>umami tomato<br>chili<br>pepper<br>oil<br>salty salt<br>umami fish sauce"
          ],
          [
           "umami chicken<br>umami chicken<br>lemongrass<br>onion<br>chili<br>ginger<br>umami fish sauce<br>onion<br>pasta<br>pepper<br>oil"
          ],
          [
           "rice<br>umami shrimp<br>egg<br>umami fish<br>onion<br>garlic<br>annatto<br>umami fish sauce"
          ],
          [
           "umami beef<br>umami beef<br>umami tomato<br>umami soy sauce<br>sour vinegar<br>pepper<br>bay leaf<br>sour lemon<br>umami tomato<br>salty butter<br>oil<br>onion"
          ],
          [
           "umami chicken<br>umami chicken<br>sour lemon<br>soda<br>umami soy sauce<br>sour vinegar<br>bay leaf<br>pepper<br>oil"
          ],
          [
           "umami pork<br>sour vinegar<br>umami soy sauce<br>pepper<br>bay leaf<br>salty salt"
          ],
          [
           "umami chicken<br>umami chicken<br>bell pepper<br>chili<br>lemongrass<br>onion<br>pepper<br>onion<br>ginger<br>umami soy sauce<br>sour vinegar<br>oil<br>salty salt"
          ],
          [
           "umami clam<br>umami shrimp<br>sweet coconut<br>bell pepper<br>bell pepper<br>chili<br>ginger<br>onion<br>oil<br>umami fish sauce<br>pepper"
          ],
          [
           "umami pork<br>umami soy sauce<br>sour vinegar<br>onion<br>bay leaf<br>pepper<br>oil"
          ],
          [
           "umami chicken<br>umami chicken<br>pasta<br>malunggay<br>gourd<br>onion<br>oil<br>umami fish sauce"
          ],
          [
           "umami chicken<br>umami chicken<br>sweet coconut<br>onion<br>onion<br>pepper<br>bay leaf<br>umami soy sauce<br>sour vinegar<br>oil"
          ],
          [
           "umami chicken<br>sweet coconut<br>umami chicken<br>sour vinegar<br>umami soy sauce<br>bay leaf<br>pepper<br>oil"
          ],
          [
           "umami chicken<br>sour vinegar<br>umami chicken<br>pepper<br>sweet sugar<br>bay leaf<br>oil"
          ],
          [
           "umami shrimp<br>bell pepper<br>onion<br>onion<br>peanut<br>umami soy sauce<br>chili<br>ginger<br>oil<br>salty salt"
          ],
          [
           "umami beef<br>onion<br>chili<br>sour vinegar<br>umami soy sauce<br>onion<br>ginger<br>oil<br>pepper"
          ],
          [
           "umami pork<br>spinach<br>eggplant<br>umami tomato<br>okra<br>bean<br>pepper<br>onion<br>umami fish sauce<br>pepper<br>sour tamarind<br>oil"
          ],
          [
           "umami chicken<br>umami chicken<br>alcohol<br>nut<br>onion<br>umami fish sauce<br>oil"
          ],
          [
           "umami pork<br>umami pork<br>umami soy sauce<br>onion<br>onion<br>lemongrass<br>oil<br>sour vinegar<br>umami soy sauce<br>onion<br>sweet sugar<br>pepper<br>chili"
          ],
          [
           "umami chicken<br>umami chicken<br>sweet coconut<br>pepper<br>chili<br>ginger<br>umami fish sauce<br>onion<br>oil"
          ],
          [
           "umami pork<br>umami pork<br>umami pork<br>onion<br>onion<br>chili<br>pepper<br>bay leaf<br>salty salt<br>oil<br>mayonnaise<br>umami soy sauce<br>sour lemon<br>salty salt<br>pepper"
          ],
          [
           "umami pork<br>umami pork<br>umami pork<br>sour vinegar<br>lemongrass<br>onion<br>ginger<br>pepper<br>bay leaf<br>salty salt<br>sweet sugar<br>pepper<br>oil"
          ],
          [
           "umami chicken<br>umami chicken<br>sour vinegar<br>umami soy sauce<br>pepper<br>bay leaf<br>sweet sugar<br>oil"
          ],
          [
           "umami pork<br>sweet sugar<br>bean<br>bay leaf<br>pepper<br>umami soy sauce<br>sour vinegar<br>oil<br>rice<br>salty salt<br>garlic<br>oil<br>garlic<br>umami soy sauce"
          ],
          [
           "umami pork<br>umami chicken<br>bay leaf<br>pepper<br>sour vinegar<br>umami soy sauce<br>umami clam<br>sweet sugar<br>salty salt<br>oil"
          ],
          [
           "umami chicken<br>umami tomato<br>umami tomato<br>sweet pea<br>parsley<br>bay leaf<br>onion<br>umami chicken<br>umami broth<br>oil<br>umami fish sauce"
          ],
          [
           "umami fish<br>spinach<br>sweet coconut<br>chili<br>ginger<br>onion<br>sour vinegar<br>oil<br>umami fish sauce"
          ],
          [
           "umami chicken<br>umami chicken<br>pasta<br>bay leaf<br>cabbage<br>sweet carrot<br>onion<br>celery<br>onion<br>umami fish sauce<br>annatto<br>oil"
          ],
          [
           "umami pork<br>salty salt<br>pepper<br>bay leaf<br>oil"
          ],
          [
           "umami pork<br>bay leaf<br>pepper<br>star anise<br>salty salt<br>pepper<br>garlic<br>oil"
          ],
          [
           "umami fish<br>sweet coconut<br>onion<br>ginger<br>pepper<br>umami fish sauce<br>chili<br>pepper<br>spinach<br>oil"
          ],
          [
           "umami pork<br>oil<br>pepper<br>bay leaf"
          ],
          [
           "umami chicken<br>umami chicken<br>onion<br>bay leaf<br>pepper<br>umami soy sauce<br>sour vinegar<br>sweet sugar<br>oil<br>salty salt"
          ],
          [
           "bean<br>umami pork<br>sweet coconut<br>umami fish sauce<br>onion<br>chili<br>oil"
          ],
          [
           "umami beef<br>umami soy sauce<br>sour lemon<br>pepper<br>onion<br>oil<br>salty salt"
          ],
          [
           "umami chicken<br>rice<br>sweet papaya<br>onion<br>ginger<br>umami fish sauce<br>pepper<br>umami fish sauce<br>pepper"
          ],
          [
           "umami chicken<br>bay leaf<br>umami soy sauce<br>sour vinegar<br>oil<br>sweet sugar<br>salty salt<br>pepper"
          ],
          [
           "umami chicken<br>sweet coconut<br>potato<br>bell pepper<br>celery<br>onion<br>chili<br>oil<br>umami fish sauce<br>pepper"
          ],
          [
           "umami pork<br>umami pork<br>umami pork<br>potato<br>sweet carrot<br>umami soy sauce<br>sour lemon<br>onion<br>ginger<br>sweet sugar<br>umami tomato<br>bay leaf<br>oil"
          ],
          [
           "umami beef<br>spinach<br>bean<br>onion<br>chili<br>sweet coconut<br>umami fish sauce<br>pepper<br>oil"
          ],
          [
           "umami chicken<br>garlic<br>chili<br>salty salt<br>oil"
          ],
          [
           "umami pork<br>sour lemon<br>umami soy sauce<br>pepper<br>umami tomato<br>egg<br>umami fish sauce<br>oil"
          ],
          [
           "umami pork<br>umami tofu<br>onion<br>lemongrass<br>cinnamon<br>oil<br>sour vinegar<br>umami soy sauce<br>sweet sugar<br>salty salt<br>chili<br>pepper<br>onion<br>pepper"
          ],
          [
           "umami chicken<br>umami soy sauce<br>onion<br>lemongrass<br>onion<br>garlic<br>oil<br>star anise<br>garlic<br>onion<br>salty salt"
          ],
          [
           "umami chicken<br>umami chicken<br>sweet carrot<br>bitter radish<br>onion<br>bell pepper<br>annatto<br>umami tomato<br>chili<br>sour vinegar<br>umami soy sauce<br>umami fish sauce<br>bay leaf<br>oil"
          ],
          [
           "umami beef<br>umami soy sauce<br>garlic<br>pepper<br>oil"
          ],
          [
           "gourd<br>umami fish<br>umami tomato<br>onion<br>umami tomato<br>umami fish sauce<br>pepper<br>oil"
          ],
          [
           "umami beef<br>umami tomato<br>potato<br>bell pepper<br>bay leaf<br>umami tomato<br>onion<br>umami soy sauce<br>umami beef<br>umami broth<br>sour lemon<br>oil<br>salty salt"
          ],
          [
           "umami pork<br>umami soy sauce<br>sour vinegar<br>sweet coconut<br>cream<br>pepper<br>bay leaf<br>oil<br>salty salt"
          ],
          [
           "umami pork<br>oil<br>lemongrass<br>pepper<br>salty salt<br>onion<br>chili<br>onion<br>sour vinegar<br>umami soy sauce<br>garlic"
          ],
          [
           "umami beef<br>umami beef<br>umami broth<br>sweet papaya<br>chili<br>spinach<br>onion<br>umami fish sauce<br>pepper<br>oil"
          ],
          [
           "umami beef<br>bean<br>cabbage<br>onion<br>umami tomato<br>garlic<br>umami soy sauce<br>pepper<br>oil"
          ],
          [
           "chili<br>onion<br>garlic<br>umami fish sauce<br>oil"
          ],
          [
           "pasta<br>sweet squash<br>umami chicken<br>umami broth<br>umami shrimp<br>umami pork<br>onion<br>garlic<br>oil<br>pepper<br>umami fish sauce"
          ],
          [
           "umami chicken<br>umami chicken<br>sweet squash<br>pepper<br>malunggay<br>chili<br>onion<br>umami fish sauce<br>pepper<br>rice<br>oil"
          ],
          [
           "umami chicken<br>rice<br>rice<br>umami chicken<br>umami broth<br>oil<br>onion<br>oil<br>umami fish sauce<br>onion<br>egg<br>sour lemon"
          ],
          [
           "umami pork<br>umami soy sauce<br>umami beef<br>umami broth<br>sour vinegar<br>bay leaf<br>onion<br>pepper<br>sweet sugar<br>oil"
          ],
          [
           "umami pork<br>lemongrass<br>onion<br>salty salt<br>garlic<br>pepper<br>star anise<br>onion"
          ],
          [
           "umami pork<br>alcohol<br>bay leaf<br>pepper<br>oil"
          ],
          [
           "umami pork<br>umami pork<br>bay leaf<br>pepper<br>oil"
          ],
          [
           "umami beef<br>salty salt<br>garlic<br>chili<br>rice<br>umami chicken<br>umami broth<br>oil<br>paprika<br>salty salt"
          ],
          [
           "cabbage<br>umami pork<br>bell pepper<br>bell pepper<br>umami tomato<br>onion<br>umami chicken<br>umami broth<br>umami fish sauce<br>pepper<br>oil"
          ],
          [
           "umami pork<br>umami pork<br>umami beef<br>umami broth<br>onion<br>sweet sugar<br>pepper<br>bay leaf<br>umami soy sauce<br>sour vinegar<br>oil<br>salty salt"
          ],
          [
           "umami beef<br>alcohol<br>umami beef<br>umami broth<br>sweet carrot<br>potato<br>onion<br>oil<br>bay leaf<br>rosemary<br>thyme<br>pepper<br>salty salt"
          ],
          [
           "umami pork<br>onion<br>onion<br>umami beef<br>umami broth<br>sweet sugar<br>salty salt<br>oil<br>umami soy sauce<br>sour lemon<br>pepper<br>garlic"
          ],
          [
           "umami chicken<br>sweet coconut<br>pepper<br>ginger<br>chili<br>onion<br>umami fish sauce<br>oil"
          ],
          [
           "umami pork<br>pepper<br>pepper<br>bay leaf<br>chili<br>umami soy sauce<br>umami beef<br>umami broth"
          ],
          [
           "umami chicken<br>sour tamarind<br>onion<br>pepper<br>garlic<br>sour tamarind<br>umami chicken<br>umami fish sauce"
          ],
          [
           "umami pork<br>bay leaf<br>oil<br>salty salt"
          ],
          [
           "umami fish<br>chili<br>sour vinegar<br>oil"
          ],
          [
           "umami crab<br>sweet jackfruit<br>sweet coconut<br>malunggay<br>umami fish sauce<br>chili<br>onion<br>ginger<br>oil"
          ],
          [
           "umami chicken<br>garlic<br>sweet coconut<br>bay leaf<br>umami soy sauce<br>sour vinegar<br>oil"
          ],
          [
           "umami chicken<br>bay leaf<br>umami soy sauce<br>garlic<br>pepper<br>sour vinegar<br>umami chicken<br>umami broth"
          ],
          [
           "umami beef<br>salty salt<br>pepper<br>onion<br>onion<br>ginger<br>sweet sugar<br>star anise<br>oil<br>umami soy sauce<br>garlic<br>rice"
          ],
          [
           "cabbage<br>umami pork<br>umami shrimp<br>umami tomato<br>onion<br>umami chicken<br>umami broth<br>oil<br>umami fish sauce<br>pepper"
          ],
          [
           "umami chicken<br>egg<br>umami chicken<br>umami broth<br>umami soy sauce<br>sour vinegar<br>pepper<br>bay leaf<br>salty salt<br>oil"
          ],
          [
           "umami fish<br>umami tomato<br>sweet melon<br>onion<br>garlic<br>onion<br>pepper<br>umami fish sauce<br>oil"
          ],
          [
           "umami tofu<br>bean<br>bell pepper<br>bean<br>umami chicken<br>umami broth<br>umami clam<br>onion<br>pepper<br>garlic<br>oil"
          ],
          [
           "umami squid<br>sweet coconut<br>umami soy sauce<br>sour vinegar<br>pepper<br>bay leaf<br>umami fish sauce<br>oil"
          ],
          [
           "bean<br>umami shrimp<br>spinach<br>umami fish sauce<br>onion<br>umami tomato<br>oil<br>pepper"
          ],
          [
           "umami pork<br>umami chicken<br>potato<br>pepper<br>umami fish sauce<br>chili<br>cabbage"
          ],
          [
           "umami pork<br>umami soy sauce<br>sour ketchup<br>garlic<br>sour lemon<br>pepper<br>umami soy sauce<br>sour ketchup<br>sour lemon<br>pepper"
          ],
          [
           "bean<br>umami pork<br>onion<br>umami soy sauce<br>sour vinegar<br>onion<br>salty salt<br>pepper<br>oil"
          ],
          [
           "umami chicken<br>gourd<br>umami chicken<br>pepper<br>onion<br>garlic<br>onion<br>umami fish sauce<br>pepper<br>oil"
          ],
          [
           "umami pork<br>bean<br>onion<br>umami soy sauce<br>sour vinegar<br>sweet sugar<br>pepper<br>umami beef<br>umami broth<br>oil"
          ],
          [
           "umami chicken<br>malunggay<br>pepper<br>pepper<br>sweet papaya<br>umami chicken<br>onion<br>ginger<br>umami fish sauce<br>oil"
          ],
          [
           "umami pork<br>chili<br>umami pork<br>onion<br>umami beef<br>umami broth<br>pepper<br>salty salt<br>oil"
          ],
          [
           "umami pork<br>umami pork<br>sweet pea<br>bay leaf<br>bell pepper<br>onion<br>umami soy sauce<br>sour vinegar<br>pepper<br>sweet sugar<br>garlic<br>oil<br>salty salt"
          ],
          [
           "umami fish<br>chili<br>chili<br>sweet coconut<br>garlic<br>onion<br>umami fish sauce<br>malunggay<br>oil"
          ],
          [
           "garlic<br>rice<br>onion<br>salty salt<br>umami beef<br>ginger<br>onion<br>star anise<br>sweet sugar<br>pepper<br>umami soy sauce<br>umami beef<br>umami broth"
          ],
          [
           "umami pork<br>pepper<br>bay leaf<br>umami soy sauce<br>sour vinegar<br>oil<br>salty salt"
          ],
          [
           "umami pork<br>umami chicken<br>umami pork<br>umami chicken<br>umami chicken<br>umami broth<br>onion<br>pepper<br>bay leaf<br>umami soy sauce<br>sour vinegar<br>sweet sugar<br>oil<br>salty salt"
          ],
          [
           "umami pork<br>bay leaf<br>pepper<br>salty salt<br>umami soy sauce<br>sour vinegar<br>oil"
          ],
          [
           "umami pork<br>sour lemon<br>garlic<br>sour ketchup<br>oil"
          ],
          [
           "umami pork<br>salty salt<br>bay leaf<br>pepper<br>oil"
          ],
          [
           "umami fish<br>pepper<br>onion<br>umami tomato<br>pepper<br>onion<br>lemongrass<br>umami fish<br>umami broth<br>umami fish sauce"
          ],
          [
           "umami beef<br>bean<br>cabbage<br>eggplant<br>peanut<br>annatto<br>rice<br>onion<br>garlic<br>oil<br>umami fish sauce<br>umami beef<br>umami broth<br>pepper"
          ],
          [
           "okra<br>eggplant<br>umami fish sauce<br>umami tomato<br>onion<br>ice"
          ],
          [
           "spinach<br>umami pork<br>onion<br>umami fish sauce<br>sour vinegar<br>umami soy sauce<br>salty salt<br>oil"
          ],
          [
           "umami fish<br>okra<br>gourd<br>bean<br>umami tomato<br>ginger<br>onion<br>pepper<br>umami fish sauce<br>salty salt<br>oil"
          ],
          [
           "goat<br>chili<br>ginger<br>onion<br>sour vinegar<br>bay leaf<br>salty salt"
          ],
          [
           "umami pork<br>bay leaf<br>onion<br>salty salt<br>garlic<br>pepper<br>oil"
          ],
          [
           "pasta<br>umami beef<br>umami beef<br>umami pork<br>umami pork<br>umami fish sauce<br>pepper<br>onion<br>garlic<br>celery<br>oil<br>umami pork<br>onion<br>garlic"
          ],
          [
           "umami pork<br>umami shrimp<br>onion<br>garlic<br>oil<br>egg<br>salty salt<br>pepper<br>umami chicken<br>umami chicken<br>umami broth<br>onion<br>garlic<br>umami fish sauce"
          ],
          [
           "umami pork<br>umami chicken<br>sour vinegar<br>umami soy sauce<br>garlic<br>pepper<br>umami beef<br>bay leaf<br>oil<br>salty salt"
          ],
          [
           "rib<br>potato<br>cabbage<br>cabbage<br>onion<br>garlic<br>pepper<br>umami fish sauce<br>celery"
          ],
          [
           "sweet papaya<br>umami soy sauce<br>sour lemon<br>garlic<br>sour ketchup<br>pepper"
          ],
          [
           "umami pork<br>salty salt<br>cumin<br>garlic<br>chili<br>sour vinegar<br>pepper<br>bay leaf<br>pepper"
          ],
          [
           "umami pork<br>egg<br>bay leaf<br>pepper<br>umami soy sauce<br>sour vinegar<br>oil<br>umami beef<br>umami broth<br>sweet sugar<br>salty salt"
          ],
          [
           "umami beef<br>umami soy sauce<br>sour lemon<br>garlic<br>onion<br>umami beef<br>umami broth<br>sweet sugar<br>oil<br>salty salt"
          ],
          [
           "umami beef<br>cabbage<br>pepper<br>potato<br>onion<br>umami fish sauce<br>umami beef<br>umami broth"
          ],
          [
           "egg<br>umami beef<br>onion<br>bell pepper<br>umami soy sauce<br>oil<br>salty salt"
          ],
          [
           "umami beef<br>umami soy sauce<br>garlic<br>rice<br>egg<br>oil"
          ],
          [
           "umami fish<br>garlic<br>chili<br>salty salt<br>oil"
          ],
          [
           "umami fish<br>umami tomato<br>onion<br>umami fish sauce"
          ],
          [
           "sweet squash<br>bean<br>umami fish<br>onion<br>pepper<br>umami fish sauce<br>oil"
          ],
          [
           "umami pork<br>bay leaf<br>pepper<br>umami soy sauce<br>sour vinegar<br>garlic<br>onion<br>sweet sugar<br>salty salt<br>oil"
          ],
          [
           "rib<br>onion<br>garlic<br>umami soy sauce<br>ginger<br>spice<br>umami chicken<br>umami broth<br>umami soy sauce<br>sour vinegar<br>sweet sugar<br>oil<br>spice<br>sesame<br>pepper"
          ],
          [
           "umami beef<br>onion<br>onion<br>umami soy sauce<br>sour lemon<br>pepper<br>garlic<br>umami beef<br>umami broth<br>oil"
          ],
          [
           "umami chicken<br>onion<br>garlic<br>ginger<br>chili<br>lemongrass<br>sweet papaya<br>pepper<br>umami fish sauce<br>pepper<br>oil"
          ],
          [
           "umami pork<br>sweet pineapple<br>garlic<br>sour vinegar<br>sweet sugar<br>bay leaf<br>pepper<br>umami beef<br>umami soy sauce<br>oil<br>salty salt"
          ],
          [
           "umami pork<br>spinach<br>onion<br>garlic<br>umami soy sauce<br>umami beef<br>umami broth<br>oil<br>pepper"
          ],
          [
           "pasta<br>onion<br>parsley<br>oil<br>umami squid<br>umami crab<br>sweet carrot<br>cabbage<br>umami chicken<br>umami broth<br>umami soy sauce<br>pepper"
          ],
          [
           "umami pork<br>garlic<br>bay leaf<br>cinnamon<br>onion<br>oil"
          ],
          [
           "umami pork<br>umami soy sauce<br>garlic<br>chili<br>sweet sugar<br>basil<br>bell pepper<br>umami fish sauce<br>oil"
          ],
          [
           "umami chicken<br>umami soy sauce<br>paprika<br>pepper<br>salty salt<br>garlic<br>oil<br>sour lemon<br>barbecue"
          ],
          [
           "cabbage<br>umami pork<br>onion<br>garlic<br>oil<br>umami fish sauce<br>umami chicken<br>umami broth<br>pepper"
          ],
          [
           "umami chicken<br>umami soy sauce<br>lettuce<br>umami soy sauce<br>sweet carrot<br>sesame<br>onion<br>ginger<br>oil"
          ],
          [
           "umami chicken<br>umami chicken<br>flour<br>umami soy sauce<br>sour vinegar<br>garlic<br>bay leaf<br>pepper<br>garlic<br>salty salt<br>onion<br>oil"
          ],
          [
           "umami pork<br>umami shrimp<br>chili<br>onion<br>ginger<br>garlic"
          ],
          [
           "umami pork<br>umami soy sauce<br>sour lemon<br>garlic<br>pepper<br>sauce"
          ],
          [
           "umami pork<br>umami soy sauce<br>umami shrimp<br>rice<br>egg"
          ],
          [
           "umami shrimp<br>sour tamarind<br>bitter radish<br>spinach<br>okra<br>umami fish sauce<br>umami tomato<br>onion<br>pepper"
          ],
          [
           "umami pork<br>umami soy sauce<br>sour vinegar<br>umami beef<br>umami broth<br>bay leaf<br>oil<br>sweet sugar<br>salty salt"
          ],
          [
           "umami beef<br>onion<br>pepper<br>garlic<br>umami beef<br>umami fish sauce"
          ],
          [
           "umami pork<br>umami soy sauce<br>garlic<br>oil<br>pepper<br>umami soy sauce<br>garlic<br>rice"
          ],
          [
           "umami beef<br>rosemary<br>thyme<br>oregano<br>garlic<br>salty salt<br>pepper<br>paprika<br>oil"
          ],
          [
           "bean<br>umami pork<br>onion<br>garlic<br>umami tomato<br>umami fish sauce<br>pepper<br>oil"
          ],
          [
           "goat<br>buttermilk<br>sour tamarind<br>onion<br>ginger<br>onion<br>chili<br>umami fish sauce"
          ],
          [
           "sweet papaya<br>malunggay<br>parsley<br>onion<br>umami fish sauce<br>pepper<br>oil"
          ],
          [
           "umami crab<br>gourd<br>pasta<br>onion<br>onion<br>ginger<br>umami fish sauce<br>pepper<br>oil"
          ],
          [
           "umami fish<br>umami tomato<br>onion<br>garlic<br>chili<br>pepper<br>umami fish sauce<br>oil"
          ],
          [
           "sweet papaya<br>umami fish<br>umami fish sauce<br>sweet coconut<br>malunggay<br>onion<br>oil<br>ginger<br>pepper<br>chili"
          ],
          [
           "umami pork<br>sour tamarind<br>spinach<br>taro<br>umami tomato<br>onion<br>okra<br>chili<br>umami beef<br>umami broth<br>oil<br>umami fish sauce"
          ],
          [
           "umami squid<br>umami tomato<br>onion<br>garlic<br>oil<br>umami fish sauce<br>pepper"
          ],
          [
           "umami fish<br>malunggay<br>pepper<br>ginger<br>onion<br>umami fish sauce<br>pepper<br>oil"
          ],
          [
           "umami fish<br>onion<br>sour lemon<br>salty salt<br>parsley<br>umami soy sauce<br>oil"
          ],
          [
           "umami pork<br>umami pork<br>umami pork<br>ginger<br>onion<br>chili<br>garlic<br>ginger<br>bay leaf<br>pepper<br>mayonnaise<br>salty salt"
          ],
          [
           "bean<br>umami fish<br>spinach<br>umami fish sauce<br>onion<br>umami tomato<br>garlic<br>pepper<br>oil"
          ],
          [
           "sour vinegar<br>umami soy sauce<br>umami soy sauce<br>sour lemon<br>mustard<br>paprika<br>chili<br>oil<br>garlic<br>pepper"
          ],
          [
           "umami chicken<br>umami soy sauce<br>sweet sugar<br>garlic<br>spice<br>star anise<br>oil<br>umami chicken<br>umami broth<br>salty salt<br>pepper<br>oil"
          ],
          [
           "umami chicken<br>umami chicken<br>barbecue<br>umami soy sauce<br>sour lemon<br>sour lemon<br>soda"
          ],
          [
           "umami pork<br>umami soy sauce<br>pepper<br>bay leaf<br>salty salt<br>oil"
          ],
          [
           "sweet coconut<br>spinach<br>umami shrimp<br>umami fish sauce<br>onion<br>ginger<br>garlic<br>oil<br>pepper<br>pepper"
          ],
          [
           "umami chicken<br>rice<br>ginger<br>umami chicken<br>umami broth<br>onion<br>garlic<br>saffron<br>onion<br>sour lemon<br>oil<br>salty salt"
          ],
          [
           "umami pork<br>sour tamarind<br>spinach<br>taro<br>umami tomato<br>onion<br>okra<br>chili<br>umami beef<br>umami broth<br>oil<br>umami fish sauce"
          ],
          [
           "umami shrimp<br>oil<br>basil<br>salty salt<br>chili"
          ],
          [
           "umami fish<br>garlic<br>bay leaf<br>pepper<br>umami soy sauce<br>sour vinegar<br>salty salt"
          ],
          [
           "umami pork<br>spinach<br>taro<br>sour tamarind<br>onion<br>umami tomato<br>umami fish sauce<br>pepper"
          ],
          [
           "umami chicken<br>umami mushroom<br>ginger<br>bell pepper<br>nut<br>onion<br>umami soy sauce<br>garlic<br>sweet orange<br>salty salt<br>oil<br>lettuce"
          ],
          [
           "umami beef<br>pepper<br>bay leaf<br>umami soy sauce<br>sour vinegar<br>sweet sugar<br>oil"
          ],
          [
           "pasta<br>oil<br>garlic<br>chili<br>umami beef"
          ],
          [
           "umami tomato<br>onion<br>bay leaf<br>umami soy sauce<br>sour vinegar<br>sweet sugar<br>oil<br>salty salt"
          ],
          [
           "rice<br>umami chicken<br>umami broth<br>umami chicken<br>ginger<br>garlic<br>onion<br>umami fish sauce<br>umami tofu<br>onion<br>oil"
          ],
          [
           "umami beef<br>sour vinegar<br>umami soy sauce<br>sweet honey<br>ginger<br>chili<br>cumin<br>flour<br>onion<br>garlic<br>oil<br>salty salt<br>oil"
          ],
          [
           "pasta<br>cabbage<br>sweet carrot<br>sweet pea<br>umami chicken<br>umami broth<br>umami pork<br>umami shrimp<br>umami soy sauce<br>umami fish sauce<br>pepper<br>onion<br>garlic<br>oil"
          ],
          [
           "umami chicken<br>umami chicken<br>umami broth<br>ginger<br>potato<br>cabbage<br>umami fish sauce<br>pepper"
          ],
          [
           "cabbage<br>garlic<br>umami soy sauce<br>sour vinegar<br>sweet sugar<br>bay leaf<br>salty salt<br>oil"
          ],
          [
           "umami pork<br>spinach<br>gourd<br>onion<br>umami fish sauce<br>umami beef<br>umami broth<br>rice<br>pepper<br>oil"
          ],
          [
           "umami beef<br>basil<br>umami fish sauce<br>chili<br>garlic<br>sweet sugar<br>oil<br>pepper"
          ],
          [
           "umami fish<br>umami soy sauce<br>sour lemon<br>sauce<br>umami soy sauce<br>ginger<br>garlic<br>oil"
          ],
          [
           "umami fish<br>spinach<br>umami tomato<br>sour tamarind<br>onion<br>garlic<br>pepper<br>umami fish sauce<br>salty salt<br>oil"
          ],
          [
           "bay leaf<br>sweet squash<br>spinach<br>onion<br>garlic<br>umami fish sauce<br>pepper<br>oil"
          ],
          [
           "rib<br>umami soy sauce<br>sour lemon<br>garlic<br>sour ketchup<br>pepper<br>chili<br>umami soy sauce"
          ],
          [
           "umami fish<br>gourd<br>onion<br>chili<br>malunggay<br>ginger<br>umami fish sauce<br>pepper<br>oil"
          ],
          [
           "umami chicken<br>basil<br>sweet sugar<br>umami fish sauce<br>garlic<br>chili<br>oil<br>pepper"
          ],
          [
           "umami clam<br>umami soy sauce<br>sour vinegar<br>bay leaf<br>pepper<br>garlic<br>oil<br>salty salt"
          ],
          [
           "umami fish<br>chili<br>sweet coconut<br>ginger<br>umami fish sauce<br>pepper<br>onion<br>garlic"
          ],
          [
           "umami squid<br>onion<br>ginger<br>oil<br>umami soy sauce<br>garlic<br>salty salt"
          ],
          [
           "umami clam<br>sweet coconut<br>spinach<br>umami fish sauce<br>onion<br>ginger<br>pepper<br>chili<br>oil"
          ],
          [
           "umami pork<br>umami soy sauce<br>umami clam<br>pepper<br>bay leaf<br>sour vinegar<br>sweet sugar<br>chili<br>oil<br>salty salt"
          ],
          [
           "umami fish<br>gourd<br>onion<br>umami fish sauce<br>pepper<br>oil"
          ],
          [
           "umami chicken<br>umami chicken<br>umami broth<br>ginger<br>onion<br>spinach<br>pepper<br>umami fish sauce<br>oil"
          ],
          [
           "umami clam<br>umami soy sauce<br>sweet pea<br>bell pepper<br>parsley<br>oil<br>salty salt<br>pepper"
          ],
          [
           "onion<br>chili<br>umami soy sauce<br>chili<br>umami fish sauce<br>oil<br>garlic<br>ginger<br>oil"
          ],
          [
           "umami pork<br>sour vinegar<br>onion<br>bay leaf<br>umami pork<br>sweet sugar<br>oil"
          ],
          [
           "umami pork<br>onion<br>sweet mango<br>rice<br>umami fish sauce<br>oil"
          ],
          [
           "umami beef<br>rice<br>cumin<br>salty salt<br>parsley<br>oil"
          ],
          [
           "umami pork<br>umami soy sauce<br>barbecue<br>salty salt<br>pepper"
          ],
          [
           "umami pork<br>egg<br>umami soy sauce<br>sour vinegar<br>umami clam<br>alcohol<br>sweet sugar<br>bay leaf<br>pepper<br>oil"
          ],
          [
           "umami fish<br>ginger<br>onion<br>umami fish sauce<br>pepper<br>malunggay<br>lemongrass<br>sour lemon<br>oil"
          ],
          [
           "umami fish<br>umami tomato<br>onion<br>parsley<br>umami tomato<br>sour lemon<br>chili<br>umami fish sauce<br>pepper<br>oil"
          ],
          [
           "umami pork<br>potato<br>sour vinegar<br>umami soy sauce<br>garlic<br>bay leaf<br>pepper<br>oil<br>salty salt"
          ],
          [
           "sweet coconut<br>chili<br>chili<br>ginger<br>onion<br>umami fish sauce<br>pepper<br>oil"
          ],
          [
           "umami pork<br>umami clam<br>bay leaf<br>umami soy sauce<br>sour vinegar<br>sweet sugar<br>oil<br>salty salt"
          ],
          [
           "umami chicken<br>onion<br>bell pepper<br>bell pepper<br>ginger<br>sour lemon<br>oil<br>umami soy sauce<br>umami soy sauce<br>pepper<br>salty salt<br>oil"
          ],
          [
           "onion<br>chili<br>sweet coconut<br>umami anchovy<br>oil<br>umami fish sauce"
          ],
          [
           "umami chicken<br>spinach<br>umami tomato<br>umami fish sauce<br>sour tamarind<br>bean<br>eggplant<br>onion<br>umami chicken<br>umami broth<br>oil"
          ],
          [
           "umami chicken<br>umami soy sauce<br>sour vinegar<br>umami clam<br>pepper<br>chili<br>salty salt<br>sweet sugar<br>bay leaf<br>oil"
          ],
          [
           "umami fish<br>mustard<br>umami tomato<br>umami fish sauce<br>chili<br>onion<br>oil"
          ],
          [
           "umami beef<br>umami soy sauce<br>sour vinegar<br>sweet honey<br>bell pepper<br>onion<br>oil<br>salty salt"
          ],
          [
           "oregano<br>bay leaf<br>parsley<br>umami tomato<br>onion<br>umami tomato<br>oil<br>umami cheese<br>chili"
          ],
          [
           "umami beef<br>spinach<br>umami clam<br>umami soy sauce<br>ginger<br>salty salt<br>pepper<br>chili<br>oil"
          ],
          [
           "umami soy sauce<br>sour vinegar<br>alcohol<br>pepper<br>chili<br>salty salt<br>bay leaf<br>sweet sugar<br>oil"
          ],
          [
           "umami pork<br>umami pork<br>umami pork<br>umami pork<br>sour vinegar<br>alcohol<br>sour tamarind<br>umami fish sauce<br>onion<br>chili<br>oil"
          ],
          [
           "umami chicken<br>umami soy sauce<br>umami fish sauce<br>umami clam<br>sweet sugar<br>pepper<br>ginger<br>sour lemon<br>oil"
          ],
          [
           "umami pork<br>eggplant<br>bitter radish<br>okra<br>umami tomato<br>chili<br>sour tamarind<br>taro<br>spinach<br>onion<br>umami fish sauce<br>oil"
          ],
          [
           "umami fish<br>pasta<br>umami fish sauce<br>pepper<br>onion<br>garlic<br>onion<br>oil"
          ],
          [
           "umami chicken<br>spinach<br>umami fish sauce<br>ginger<br>umami chicken<br>umami broth<br>umami pork"
          ],
          [
           "umami shrimp<br>chili<br>onion<br>chili<br>umami mushroom<br>umami tomato<br>sour lemon<br>cilantro<br>lemongrass<br>sour lemon<br>sour tamarind<br>umami fish sauce"
          ],
          [
           "sour vinegar<br>chili<br>ginger<br>garlic<br>pepper<br>onion"
          ],
          [
           "bean<br>umami pork<br>umami soy sauce<br>sour vinegar<br>onion<br>pepper"
          ],
          [
           "umami fish<br>bean<br>eggplant<br>okra<br>spinach<br>umami tomato<br>umami fish sauce<br>chili"
          ],
          [
           "goat<br>umami soy sauce<br>sour vinegar<br>chili<br>bay leaf<br>onion<br>oil"
          ],
          [
           "umami soy sauce<br>sour vinegar<br>oil<br>chili"
          ],
          [
           "umami chicken<br>sour lemon<br>umami soy sauce<br>salty butter<br>umami tomato<br>onion<br>bay leaf<br>potato<br>salty salt<br>pepper<br>oil"
          ],
          [
           "umami pork<br>umami pork<br>umami beef<br>umami broth<br>onion<br>pepper<br>bay leaf<br>umami soy sauce<br>sour vinegar<br>sweet sugar<br>salty salt"
          ],
          [
           "umami beef<br>rice<br>umami beef<br>umami broth<br>umami fish sauce<br>pepper<br>onion<br>egg<br>onion<br>ginger<br>sour lemon<br>oil"
          ],
          [
           "umami crab<br>oil<br>ginger<br>pepper<br>umami soy sauce<br>sour ketchup<br>chili<br>umami fish sauce<br>oil<br>onion"
          ],
          [
           "onion<br>sour lemon<br>umami soy sauce<br>garlic<br>salty salt<br>oil"
          ],
          [
           "umami pork<br>umami pork<br>onion<br>umami soy sauce<br>pepper<br>ginger<br>chili<br>sour lemon<br>salty butter<br>umami chicken<br>mayonnaise<br>salty salt"
          ],
          [
           "umami crab<br>umami shrimp<br>umami fish sauce<br>onion<br>ginger<br>oil<br>sweet coconut<br>pepper<br>spinach<br>chili"
          ],
          [
           "cabbage<br>umami pork<br>umami tomato<br>onion<br>umami fish sauce"
          ],
          [
           "umami chicken<br>rice<br>sweet papaya<br>onion<br>ginger<br>umami fish sauce<br>pepper"
          ],
          [
           "umami fish<br>sour tamarind<br>umami tomato<br>onion<br>spinach<br>umami fish sauce<br>pepper"
          ],
          [
           "taro<br>umami pork<br>umami shrimp<br>onion<br>chili<br>ginger<br>sweet coconut<br>umami fish sauce"
          ]
         ],
         "hovertemplate": "<b>%{hovertext}</b><br><br>cluster=3<br>x=%{x}<br>y=%{y}<br>final_ingredients=%{customdata[0]}<extra></extra>",
         "hovertext": [
          "Adobong Sitaw with Pork",
          "Longganisa",
          "Chicken Bistek",
          "Tinolang Palaka",
          "Pork Adobo with Oyster Sauce",
          "Adobo sa Gata",
          "Chicken Halang Halang",
          "Batchoy Tagalog",
          "Chicken Binakol",
          "Adobong Kangkong",
          "Tinolang Manok sa Upo",
          "Paksiw na Pata",
          "Ginisang Upo at Hipon",
          "Pata Hamonado",
          "Eggplant with Spicy Garlic Sauce",
          "Kilayin",
          "Ginisang Pusit",
          "Toyomansi Pork Chops",
          "Picadillo",
          "Pork Bistek",
          "Ginataang Hipon",
          "Korean Ground Beef",
          "Adobong Pusit sa Gata",
          "Sizzling Sisig",
          "Bopis",
          "Paella",
          "Kilawing Puso nang Saging",
          "Sinigang na Hito sa Miso",
          "Adobong Hito",
          "Adobong Talong",
          "Chicken and Pork Adobo",
          "Loslos",
          "Instant Pot Chicken Adobo",
          "Kilawing Labanos at Baboy",
          "Lechon Kawali",
          "Coconut Lime Chicken",
          "Chinese Boiled Peanuts",
          "Ginisang Munggo at Chicharon (Mung Bean Soup with Pork Cracklings)",
          "Ginisang Munggo at Tinapa",
          "Pork Adobo with Pineapple",
          "Korean BBQ Bulgogi",
          "Sesame Chicken",
          "Adobong Paa nang Manok (Chicken Feet Adobo)",
          "Pork Asado",
          "Chicken Adobo",
          "Chicken Adobo with Liver Spread",
          "Adobong Dilaw",
          "Adobong Manok sa Patis",
          "Chicken Asado",
          "Lechon Manok",
          "Batsui",
          "Dinuguan",
          "Pinangat na Pompano",
          "Pork Spareribs Macao-style Asado",
          "Bangus sa Tausi (Milkfish with Tomatoes and Black Beans)",
          "Hoisin-Glazed Salmon",
          "Crispy Soy Chicken",
          "Pork Hamonado",
          "Igado",
          "Pork Guisantes",
          "Chicken Sisig",
          "Plum Sauce Chicken Lollipops",
          "Sizzling Balut",
          "Pata Tim",
          "Chicken Adobo with Tamarind",
          "Pinaupong Manok",
          "Pinatisang Manok",
          "BBQ Pork Ears",
          "Pork Ribs Adobo with Atsuete",
          "Beef Mechado",
          "Crispy Pata",
          "Bagis",
          "Sinampalukang Manok",
          "Tinolang Manok",
          "Tilapia in Black Bean Garlic Sauce",
          "Pork Adobo",
          "Lechon Sinigang",
          "Sotanghon with Sayote and Giniling",
          "Kinamatisang Manok",
          "Fish Sinigang Recipe",
          "Balbacua Recipe",
          "Not Your Ordinary Chicken Adobo",
          "Killer Crispy Sinigang",
          "Perfect Chicken Adobo on a Budget",
          "Igado Recipe",
          "Pork Adobo Recipe",
          "Betamax Recipe",
          "Pork and Chicken Sinigang",
          "Bopis Recipe",
          "Chili Garlic Oil Recipe",
          "Pork Curry Tinola",
          "Most Delicious Pork Adobo Recipe",
          "Chicknigang Recipe",
          "Pinapaitan sa Ampalaya",
          "Crispy Bagnet Recipe",
          "Porknigang (Sinigang na Baboy)",
          "Beef Mechado Recipe",
          "Ginisang Sigarilyas",
          "Grilled Liempo with Barbecue Sauce",
          "Killer Pork Sinigang Recipe",
          "Ketchup Fried Chicken",
          "How to Cook Dinuguan Using Sinigang Mix",
          "Nagmamantikang Pork Adobo",
          "Air Fryer Crispy Pata",
          "Chicken Igado Recipe",
          "Pork Dinuguan Isaw at Tenga ng Baboy",
          "Adobong Kangkong Recipe",
          "Air Fried Fish Sinigang sa Miso",
          "Spicy Sotanghon Chicken Soup",
          "Arroz Palabok",
          "Beef Asado",
          "Killer Chicken Adobo",
          "Coke Pork Adobo",
          "Chicken Hinalang (Halang-halang na Manok)",
          "Seafood Curry",
          "Sprite Pork Adobo Recipe",
          "Chicken Sotanghon Soup with Malunggay at Sayote",
          "Adobong Manok sa Buko",
          "Adobong Manok sa Gata",
          "Chicken Adobong Puti Recipe",
          "Easy Kung Pao Shrimp Recipe",
          "Beef Hinalang Recipe",
          "Sinigang na Lechon",
          "Pinoy Fried Chicken",
          "Lechon Belly Roll",
          "Chicken Bicol Express",
          "Crispy Dinakdakan",
          "Crispy Dinuguan",
          "Easy Chicken Adobo Recipe",
          "Pork Adobo with Tokwa and Tausi and Garlic Fried Rice Adobo",
          "Pork and Chicken Adobo Recipe",
          "Sarciadong Manok",
          "Ginataang Mackerel",
          "Chicken Sotanghon Soup",
          "Lechon Kawali Recipe",
          "Crispy Pata Recipe",
          "Ginataang Tilapia",
          "Crispy Pork Belly Chicharon",
          "Easy Chicken Adobo",
          "Gising Gising Recipe",
          "Bistek Tagalog (beefsteak) Recipe",
          "Chicken Tinola Recipe",
          "Chicken Adobo",
          "Filipino Style Chicken Curry Recipe",
          "Filipino Pork Menudo Recipe",
          "Ginataang Baka – Beef in Coconut Milk with Green Beans and Spinach",
          "Crispy Baked Chicken Wings",
          "Filipino Fried Pork Chop Recipe with Tomato and Salted Egg",
          "Spicy Tokwat Baboy Recipe",
          "7Up Chicken Asado",
          "Bopis na Manok",
          "Coca Cola Beef Tapa",
          "Ginisang Upo with Sardinas",
          "Mechadong Baka Recipe",
          "Adobong Baboy sa Gata (Pork Adobo in Coconut Milk)",
          "Putok Batok Crispy Pata Slices",
          "Beef Tinola Recipe",
          "Sauteed Green Beans with Ground Beef",
          "Spicy Sardinas with Patola and Miswa",
          "Sotanghon with Upo Soup",
          "Tinolang Manok sa Upo",
          "How To Cook Filipino Chicken Arroz Caldo",
          "Lechon Belly Pork Adobo Recipe",
          "Crispy Lechon Belly Recipe",
          "Crispy Pata",
          "Lechon Kawali",
          "Grilled Rib Eye Steak with Arroz Amarillo",
          "Ginisang Reployo with Giniling",
          "Paksiw na Lechon Kawali",
          "Beef Pot Roast",
          "Pork Chop Steak ala Bistek",
          "Ginataang Manok Na May Luyang Dilaw",
          "Extremely Spicy Pork Adobo na Tuyo",
          "How to Cook Sinampalukang Manok",
          "How To Cook Super Crispy Lechon Kawali",
          "Spicy Daing na Bangus",
          "Ginataang Langka with Alimasag",
          "Chicken Adobo sa Gata",
          "Sous Vide Chicken Adobo",
          "Bulalo Beef Pares Recipe",
          "Ginisang Pechay with Ground Pork and Shrimp (Sauteed Bok Choy)",
          "Chicken Adobo with Egg",
          "Ginisang Sardinas with Ampalaya",
          "Tofu and Green Bean Stir Fry in Oyster Sauce with Salted Black Beans",
          "Adobong Pusit sa Gata",
          "Monggo with Hibi (Mung beans with small dried shrimp)",
          "Pesang Baboy at Manok Recipe",
          "Inihaw na Baboy",
          "Adobong Sitaw with Lechon Kawali",
          "Chicken Soup with Misua and Patola",
          "Pork Adobo with Sitaw",
          "Classic Tinolang Manok Recipe",
          "Dinardaraan Recipe (Dinuguan)",
          "Dinaldalem Recipe",
          "Fried Tilapia in Coconut Milk (Ginataang Tilapia)",
          "Crockpot Beef Pares Recipe",
          "Basic Pork Adobo Recipe",
          "Paksiw na Lechon Manok",
          "Crispy Tenga Recipe (Crispy Pig Ears)",
          "Marinated Grilled Pork Chop",
          "Crispy Bagbagis (Crispy Deep Fried Pork Intestine)",
          "Tinolang Isda",
          "Beef Kare-Kare Recipe",
          "Boiled Okra and Eggplant with Bagoong Dipping Sauce",
          "Apan - Apan Recipe (Adobong Kangkong with Fried Pork)",
          "Dinengdeng with Fried Fish Recipe",
          "Kilawing Kambing Recipe",
          "Lechon Carajay Recipe",
          "Beef Batchoy with Liver and Bung",
          "Pancit Molo Recipe",
          "Excursion Chicken and Pork Adobo",
          "Pork Baby Back Ribs Nilaga Recipe",
          "Oven Grilled Liempo",
          "Inihaw na Isaw ng Baboy",
          "Adobong Baboy with Boiled Egg",
          "Pinoy Beefsteak",
          "Nilagang Litid ng Baka",
          "Ground Beef Omelet",
          "Beef Teriyaki Tapa with Fried Rice and Egg",
          "Daing na Bangus Recipe",
          "Kinamatisang Isda (Red Snapper with Tomatoes)",
          "Ginisang Kalabasa at Sitaw with Daing Recipe",
          "Adobong Pata (Ham Hock Adobo)",
          "Asian BBQ Pork Baby Back Ribs",
          "Sirloin Beef Steak Tagalog",
          "Chicken Halang-halang Recipe",
          "Paksiw na Pata with Pineapple",
          "Pork and Kangkong Guisado",
          "Squid Ball Pancit Canton Recipe",
          "Oven Baked Crispy Pata",
          "Basil Pork Recipe",
          "Oven Roasted BBQ Chicken Recipe",
          "Bok Choy Guisado Recipe",
          "Teriyaki Chicken Lettuce Wrap",
          "Chicken Liver and Gizzard Adobo",
          "Laing with Shrimp Recipe",
          "Grilled Pork Belly",
          "Meatball Adobo with Shrimp Fried Rice and Egg",
          "Sinigang na Hipon sa Sampaloc",
          "Adobo Meatballs Recipe",
          "Slow Cooked Beef Lauya Soup Recipe",
          "Pork Adobo Flakes",
          "Sirloin Tip Roast Recipe",
          "Ginisang Baguio Beans with Pork",
          "Sinampalukang Kambing",
          "Ginisang Papaya",
          "Crab with Misua and Patola",
          "Sarciadong Daing",
          "Ginataang Papaya",
          "Sinigang na Liempo sa Sampaloc",
          "Ginisang Pusit",
          "Tinolang Bangus Recipe",
          "Filipino Fish Steak Recipe",
          "Dinakdakan Recipe",
          "Monggo Guisado Recipe",
          "Flank Steak Marinade",
          "Sweet Chicken Asado Recipe",
          "Easy Chicken Barbecue Recipe",
          "Adobo Pork Chops",
          "Snails with Spinach in Coconut Milk Recipe",
          "Rotisserie Chicken Arroz Caldo Recipe",
          "Sinigang na Liempo sa Sampaloc with Gabi",
          "Marinated Grilled Shrimp",
          "Fish Adobo",
          "Sinigang na Liempo sa Sampaloc",
          "Barbecued Chicken Lettuce Wrap",
          "Adobong Bulalo",
          "Shingaling Recipe",
          "Sweet Pusit Adobo",
          "Arroz Caldo with tokwa",
          "Ginger Beef Stir Fry Recipe",
          "Pancit Bato Guisado",
          "Pesang Manok (Chicken Soup in Ginger Broth)",
          "Bok Choy Adobo",
          "Pork Tinola Recipe",
          "Basil Beef Recipe",
          "Hoisin Glazed Salmon",
          "Fried Bangus Sinigang sa Miso",
          "Scallop and Zucchini Stir fry",
          "Grilled Ribs with Pico de Gallo",
          "Fish Tinola Recipe",
          "Basil Chicken Recipe",
          "Adobong Tahong Recipe (Mussels Adobo)",
          "Ginataang Galunggong Recipe",
          "Squid Sisig Recipe",
          "Ginataang Tahong",
          "Spicy Pork Adobo Recipe",
          "Sardines with Chayote Recipe",
          "Easy Chicken Tinola Recipe",
          "Easy Ham and Green Peas Saute",
          "Chili Shrimp Recipe",
          "Adobong Dilaw Recipe (Yellow Adobo)",
          "Bagoong Rice Recipe",
          "Carne Asada Fried Rice",
          "BBQ Baby Back Ribs Recipe",
          "Pork Adobo with Boiled Eggs",
          "Fish in Ginger Soup",
          "Ginisang Sardinas Recipe (Sautéed Sardines)",
          "Pork Adobo with Potato Recipe",
          "Ginataang Hipon Recipe",
          "Pork Adobo with Tofu Recipe",
          "Asian Chicken Stir Fry Recipe",
          "Ginataang Langka with Dilis Recipe",
          "Sinampalukang Manok Recipe",
          "Chicken Feet Adobo",
          "Sinigang na Bangus sa Miso",
          "Adobo Steak Recipe",
          "Marinara Sauce Recipe",
          "Beef in Oyster Sauce",
          "Adobong Isaw Recipe",
          "Dinuguan Laman-Loob Recipe (Blood Stew)",
          "Chicken Pandan",
          "Sinigang na Buto buto with Gabi Recipe",
          "Sardines with Misua Recipe",
          "Pinatisang Manok",
          "How to Make Tom Yum Goong",
          "How to Make Sinamak",
          "Adobong Sitaw Recipe",
          "Sinigang na Panga ng Tuna Recipe (Tuna jaw cooked in sour broth)",
          "Adobong Kambing Recipe",
          "Asian Dipping Sauce Recipe",
          "Chicken Asado",
          "Lechon Paksiw Recipe",
          "Goto Recipe (Rice Porridge)",
          "Chili Crab",
          "Liver Steak Recipe",
          "Sisig Recipe",
          "Ginataang Alimasag Recipe",
          "Ginisang Pechay (Sautéed Bok Choy)",
          "Chicken Tinola Recipe",
          "Sinigang na Salmon Recipe",
          "Laing Recipe"
         ],
         "legendgroup": "3",
         "marker": {
          "color": "rgb(17, 165, 121)",
          "size": 5,
          "symbol": "circle"
         },
         "mode": "markers",
         "name": "3",
         "showlegend": true,
         "type": "scattergl",
         "x": [
          0.9209099411964417,
          0.8689156174659729,
          0.9145801067352295,
          0.8487579226493835,
          0.90191251039505,
          0.8712430000305176,
          0.9082715511322021,
          0.9152050614356995,
          0.8633041381835938,
          0.8828809261322021,
          0.8729345798492432,
          0.9113558530807495,
          0.9181462526321411,
          0.9062731862068176,
          0.8810439109802246,
          0.9278229475021362,
          0.900175154209137,
          0.767480731010437,
          0.9106688499450684,
          0.9232913851737976,
          0.9141334295272827,
          0.8817090392112732,
          0.8750872015953064,
          0.8736935257911682,
          0.9417603611946106,
          0.9257441759109497,
          0.9356681108474731,
          0.9251384139060974,
          0.8891791105270386,
          0.8703938126564026,
          0.8864096403121948,
          0.8470805883407593,
          0.9000213742256165,
          0.8742813467979431,
          0.8183808326721191,
          0.9194570779800415,
          0.8329128623008728,
          0.8925669193267822,
          0.8790560960769653,
          0.9282097816467285,
          0.9102746248245239,
          0.9028435945510864,
          0.8630470037460327,
          0.9174578189849854,
          0.8842185139656067,
          0.8367002010345459,
          0.8003671765327454,
          0.8786885738372803,
          0.918467104434967,
          0.9459455013275146,
          0.8834465146064758,
          0.9319531917572021,
          0.9142457246780396,
          0.866858720779419,
          0.9366464614868164,
          0.8794007301330566,
          0.8472312092781067,
          0.9062731862068176,
          0.9027242064476013,
          0.9274773001670837,
          0.9151910543441772,
          0.8808149099349976,
          0.8911728858947754,
          0.8417011499404907,
          0.9154627919197083,
          0.9181663990020752,
          0.9145098924636841,
          0.8876988887786865,
          0.8668102025985718,
          0.9211735725402832,
          0.867522120475769,
          0.9033735990524292,
          0.9073340892791748,
          0.9131920337677002,
          0.8923646211624146,
          0.8719208240509033,
          0.9014956951141357,
          0.7653018832206726,
          0.9020753502845764,
          0.9021748900413513,
          0.894196093082428,
          0.9340274333953857,
          0.9014956951141357,
          0.8706204891204834,
          0.9236760139465332,
          0.873701274394989,
          0.9215983748435974,
          0.912262499332428,
          0.8631225824356079,
          0.8233199715614319,
          0.9164520502090454,
          0.8735532164573669,
          0.9054486751556396,
          0.883300244808197,
          0.8024539947509766,
          0.9060916304588318,
          0.9249175190925598,
          0.9195213317871094,
          0.714183509349823,
          0.9005559682846069,
          0.857331395149231,
          0.8328332901000977,
          0.8189821243286133,
          0.8238678574562073,
          0.9304064512252808,
          0.90672767162323,
          0.8396453261375427,
          0.9038928151130676,
          0.8691550493240356,
          0.7526023387908936,
          0.9195002913475037,
          0.8253857493400574,
          0.8965610861778259,
          0.8914574980735779,
          0.907111644744873,
          0.8447913527488708,
          0.7399777770042419,
          0.8644535541534424,
          0.8280514478683472,
          0.8486690521240234,
          0.9134277701377869,
          0.8539617657661438,
          0.9029824733734131,
          0.8110642433166504,
          0.8973931074142456,
          0.8816475868225098,
          0.909183144569397,
          0.843312680721283,
          0.8613512516021729,
          0.9007953405380249,
          0.9284277558326721,
          0.8814746141433716,
          0.857239842414856,
          0.8307390213012695,
          0.8490684032440186,
          0.7853346467018127,
          0.8799773454666138,
          0.7298685312271118,
          0.9157249927520752,
          0.8686559200286865,
          0.9160134792327881,
          0.8633307218551636,
          0.9087174534797668,
          0.9027385115623474,
          0.9163641929626465,
          0.8948022723197937,
          0.8485608696937561,
          0.9213322401046753,
          0.9110922813415527,
          0.8689180612564087,
          0.9082058072090149,
          0.8062024116516113,
          0.8694441318511963,
          0.9318066835403442,
          0.87017422914505,
          0.8870983719825745,
          0.8995642066001892,
          0.9029706120491028,
          0.73357093334198,
          0.9009089469909668,
          0.8745955228805542,
          0.8768093585968018,
          0.8875433206558228,
          0.87493497133255,
          0.703971266746521,
          0.7507061958312988,
          0.8917683959007263,
          0.9086035490036011,
          0.9172166585922241,
          0.8455634117126465,
          0.9314524531364441,
          0.8779299259185791,
          0.8411216139793396,
          0.8725939393043518,
          0.7907009720802307,
          0.7471150159835815,
          0.8691117763519287,
          0.7946273684501648,
          0.8110476732254028,
          0.9107805490493774,
          0.8945486545562744,
          0.8719961643218994,
          0.9305136203765869,
          0.8715634346008301,
          0.8581106662750244,
          0.9196203947067261,
          0.8494776487350464,
          0.8604737520217896,
          0.9226140975952148,
          0.853579580783844,
          0.9122859239578247,
          0.8565482497215271,
          0.9159455299377441,
          0.917341947555542,
          0.8648481369018555,
          0.9205111861228943,
          0.8757508397102356,
          0.9143601655960083,
          0.8757508397102356,
          0.7987952828407288,
          0.8490684032440186,
          0.8976151943206787,
          0.8618713021278381,
          0.7289259433746338,
          0.9450123310089111,
          0.9053757190704346,
          0.7343302965164185,
          0.8393750786781311,
          0.9012219905853271,
          0.9096312522888184,
          0.8769901990890503,
          0.8085764646530151,
          0.8231972455978394,
          0.835086464881897,
          0.9122491478919983,
          0.9229746460914612,
          0.861257791519165,
          0.918360710144043,
          0.791277289390564,
          0.8499330282211304,
          0.7718191742897034,
          0.8274098038673401,
          0.8938694596290588,
          0.904952883720398,
          0.8895332217216492,
          0.8661336898803711,
          0.8974919319152832,
          0.8872342109680176,
          0.9037646055221558,
          0.7671946287155151,
          0.9030551910400391,
          0.8552756309509277,
          0.8901447057723999,
          0.8843324184417725,
          0.8927758932113647,
          0.8765046000480652,
          0.7714397311210632,
          0.7364659905433655,
          0.885809063911438,
          0.8956685066223145,
          0.825321614742279,
          0.8734809160232544,
          0.794559121131897,
          0.9335073828697205,
          0.8018773794174194,
          0.7918661236763,
          0.8408178687095642,
          0.9186490178108215,
          0.8718855381011963,
          0.8883242607116699,
          0.9208454489707947,
          0.8188338279724121,
          0.9290147423744202,
          0.8687167763710022,
          0.9205129146575928,
          0.8453465104103088,
          0.896989107131958,
          0.7560446262359619,
          0.8752236366271973,
          0.8923136591911316,
          0.8810641765594482,
          0.8883242607116699,
          0.8339741230010986,
          0.8881750106811523,
          0.8775842785835266,
          0.9237868189811707,
          0.8409000635147095,
          0.6955606937408447,
          0.9156294465065002,
          0.860456645488739,
          0.888171911239624,
          0.9070262312889099,
          0.8098158240318298,
          0.8470417857170105,
          0.8780688047409058,
          0.8970876932144165,
          0.7968066930770874,
          0.9423604607582092,
          0.8217836022377014,
          0.8107143044471741,
          0.8117408752441406,
          0.9102415442466736,
          0.8520952463150024,
          0.8758092522621155,
          0.8801978826522827,
          0.8835535049438477,
          0.9078636169433594,
          0.7842990159988403,
          0.8512265086174011,
          0.9221261739730835,
          0.8521414995193481,
          0.8610815405845642,
          0.8291175961494446,
          0.8634129166603088,
          0.8511776328086853,
          0.8594691157341003,
          0.807981014251709,
          0.9083883166313171,
          0.8724701404571533,
          0.8464264869689941,
          0.9071127772331238,
          0.9222357869148254,
          0.8258629441261292,
          0.897394061088562,
          0.9117123484611511,
          0.8972802758216858,
          0.9199498891830444,
          0.8275420069694519,
          0.9162483811378479,
          0.837424635887146,
          0.8489698767662048,
          0.907942533493042,
          0.88168865442276,
          0.8613671064376831,
          0.7896071672439575,
          0.8787660598754883,
          0.7243174314498901,
          0.8463284969329834,
          0.8317692279815674,
          0.7667317986488342,
          0.7522832155227661,
          0.9415529370307922,
          0.9202055931091309,
          0.8951820731163025,
          0.8980310559272766,
          0.8990992307662964,
          0.9253683090209961,
          0.8988574147224426,
          0.866049587726593,
          0.8276174068450928,
          0.8905977606773376,
          0.8588790893554688
         ],
         "xaxis": "x",
         "y": [
          -0.19662722945213318,
          -0.1783050298690796,
          -0.24492034316062927,
          -0.2669389247894287,
          -0.29123181104660034,
          -0.28522196412086487,
          -0.22581617534160614,
          -0.2890062630176544,
          -0.19304339587688446,
          -0.31517642736434937,
          -0.27222585678100586,
          -0.19134803116321564,
          -0.20392298698425293,
          -0.19035840034484863,
          -0.21705207228660583,
          -0.2403913140296936,
          -0.2691201865673065,
          -0.3648740351200104,
          -0.19279006123542786,
          -0.21298204362392426,
          -0.219143807888031,
          -0.23443882167339325,
          -0.2737521827220917,
          -0.2993851900100708,
          -0.18549621105194092,
          -0.21163055300712585,
          -0.21530896425247192,
          -0.19009822607040405,
          -0.2510828971862793,
          -0.2599520981311798,
          -0.31427204608917236,
          -0.27521392703056335,
          -0.2626214921474457,
          -0.32440996170043945,
          -0.23939615488052368,
          -0.1979328691959381,
          -0.18866585195064545,
          -0.24671658873558044,
          -0.20642486214637756,
          -0.18225696682929993,
          -0.19753879308700562,
          -0.1991925984621048,
          -0.347920686006546,
          -0.2506588101387024,
          -0.31813567876815796,
          -0.3283788561820984,
          -0.2620367109775543,
          -0.31849050521850586,
          -0.25384724140167236,
          -0.18794438242912292,
          -0.22583970427513123,
          -0.22966651618480682,
          -0.2382957488298416,
          -0.2637016773223877,
          -0.19957506656646729,
          -0.3021112382411957,
          -0.22359269857406616,
          -0.19035840034484863,
          -0.28339675068855286,
          -0.20302647352218628,
          -0.24765440821647644,
          -0.2664791941642761,
          -0.2706572711467743,
          -0.2010861039161682,
          -0.23764702677726746,
          -0.1918030083179474,
          -0.24391862750053406,
          -0.2883167266845703,
          -0.2673843204975128,
          -0.1820814460515976,
          -0.30088621377944946,
          -0.2899126410484314,
          -0.23492570221424103,
          -0.2242322564125061,
          -0.2416183054447174,
          -0.31317058205604553,
          -0.21273887157440186,
          -0.17608772218227386,
          -0.2495180070400238,
          -0.2226954996585846,
          -0.25638848543167114,
          -0.19263602793216705,
          -0.21273884177207947,
          -0.21746167540550232,
          -0.19985944032669067,
          -0.24189482629299164,
          -0.2459399700164795,
          -0.1951175034046173,
          -0.30556270480155945,
          -0.3040156364440918,
          -0.22228378057479858,
          -0.29479995369911194,
          -0.21388167142868042,
          -0.3237956762313843,
          -0.2527775466442108,
          -0.21916627883911133,
          -0.25325852632522583,
          -0.20133893191814423,
          -0.27567100524902344,
          -0.22064907848834991,
          -0.2879066467285156,
          -0.196173295378685,
          -0.32331225275993347,
          -0.2817973494529724,
          -0.20777201652526855,
          -0.27955248951911926,
          -0.27367112040519714,
          -0.20435531437397003,
          -0.3108523190021515,
          -0.15834695100784302,
          -0.22386562824249268,
          -0.3028492033481598,
          -0.2498721480369568,
          -0.29814624786376953,
          -0.1901099532842636,
          -0.3526657819747925,
          -0.17009764909744263,
          -0.2651059031486511,
          -0.2674582004547119,
          -0.173089861869812,
          -0.22724208235740662,
          -0.3258478045463562,
          -0.21748575568199158,
          -0.1872650533914566,
          -0.23982852697372437,
          -0.21486762166023254,
          -0.27028197050094604,
          -0.19151785969734192,
          -0.2664327025413513,
          -0.20661717653274536,
          -0.21887433528900146,
          -0.28186991810798645,
          -0.2833728790283203,
          -0.18330878019332886,
          -0.18516357243061066,
          -0.292263388633728,
          -0.24014830589294434,
          -0.32503026723861694,
          -0.2356545627117157,
          -0.21949265897274017,
          -0.20916655659675598,
          -0.18328693509101868,
          -0.2301371991634369,
          -0.19769227504730225,
          -0.18816636502742767,
          -0.21095740795135498,
          -0.18823355436325073,
          -0.20260393619537354,
          -0.18774747848510742,
          -0.2985628843307495,
          -0.25878193974494934,
          -0.33780163526535034,
          -0.18987494707107544,
          -0.23208293318748474,
          -0.20607209205627441,
          -0.3075391948223114,
          -0.26389625668525696,
          -0.19598573446273804,
          -0.36984583735466003,
          -0.2152404487133026,
          -0.19742870330810547,
          -0.1955670714378357,
          -0.3009990453720093,
          -0.1832779049873352,
          -0.2615867555141449,
          -0.3017985224723816,
          -0.24963167309761047,
          -0.20243355631828308,
          -0.2634578049182892,
          -0.18208111822605133,
          -0.20581358671188354,
          -0.2310875654220581,
          -0.34369343519210815,
          -0.24662691354751587,
          -0.22174417972564697,
          -0.330009400844574,
          -0.18065708875656128,
          -0.3175620138645172,
          -0.380360871553421,
          -0.2185194194316864,
          -0.2409888654947281,
          -0.2842331528663635,
          -0.1890445351600647,
          -0.1885586380958557,
          -0.27525246143341064,
          -0.20047402381896973,
          -0.23348022997379303,
          -0.17261216044425964,
          -0.18612073361873627,
          -0.2482055127620697,
          -0.21521107852458954,
          -0.19190245866775513,
          -0.19151487946510315,
          -0.1893196702003479,
          -0.23590800166130066,
          -0.1954869031906128,
          -0.29758358001708984,
          -0.26603659987449646,
          -0.29758358001708984,
          -0.25562500953674316,
          -0.18516357243061066,
          -0.24797630310058594,
          -0.18320298194885254,
          -0.17024505138397217,
          -0.21759659051895142,
          -0.2085595577955246,
          -0.18030992150306702,
          -0.2148074209690094,
          -0.2110196053981781,
          -0.19169051945209503,
          -0.32866913080215454,
          -0.20144590735435486,
          -0.22698470950126648,
          -0.21212215721607208,
          -0.21740370988845825,
          -0.19296672940254211,
          -0.2044501006603241,
          -0.17880779504776,
          -0.21838384866714478,
          -0.21189984679222107,
          -0.19968518614768982,
          -0.20438498258590698,
          -0.2571009397506714,
          -0.265019029378891,
          -0.29586589336395264,
          -0.3307614028453827,
          -0.23354557156562805,
          -0.31316593289375305,
          -0.19884513318538666,
          -0.2497972548007965,
          -0.26169681549072266,
          -0.29628345370292664,
          -0.26573529839515686,
          -0.2093513011932373,
          -0.20928828418254852,
          -0.22374966740608215,
          -0.3739798665046692,
          -0.15040451288223267,
          -0.21886055171489716,
          -0.24384477734565735,
          -0.2759872376918793,
          -0.22559766471385956,
          -0.1936023086309433,
          -0.20140451192855835,
          -0.19616803526878357,
          -0.23230767250061035,
          -0.19689206779003143,
          -0.24790647625923157,
          -0.18405789136886597,
          -0.2912861108779907,
          -0.19407716393470764,
          -0.2583736181259155,
          -0.20838719606399536,
          -0.23084756731987,
          -0.20538689196109772,
          -0.34830981492996216,
          -0.24811667203903198,
          -0.15903599560260773,
          -0.2706851363182068,
          -0.23031821846961975,
          -0.23769058287143707,
          -0.2912861108779907,
          -0.19502365589141846,
          -0.27346307039260864,
          -0.24753060936927795,
          -0.19731885194778442,
          -0.2957460582256317,
          -0.2746879458427429,
          -0.19323527812957764,
          -0.2763105630874634,
          -0.21357634663581848,
          -0.1942777931690216,
          -0.26011836528778076,
          -0.22015053033828735,
          -0.2452872395515442,
          -0.22056461870670319,
          -0.34859609603881836,
          -0.1858816146850586,
          -0.29569917917251587,
          -0.28653717041015625,
          -0.2868562936782837,
          -0.19704368710517883,
          -0.3193153142929077,
          -0.21026089787483215,
          -0.2127184122800827,
          -0.24735435843467712,
          -0.25053879618644714,
          -0.26996248960494995,
          -0.29670530557632446,
          -0.17850318551063538,
          -0.34083616733551025,
          -0.1937130093574524,
          -0.18625472486019135,
          -0.18317846953868866,
          -0.17850112915039062,
          -0.2018136978149414,
          -0.3215816915035248,
          -0.27790409326553345,
          -0.3119944632053375,
          -0.2397022545337677,
          -0.20906198024749756,
          -0.20461136102676392,
          -0.22766119241714478,
          -0.23703785240650177,
          -0.2536945343017578,
          -0.23354727029800415,
          -0.2041327953338623,
          -0.2735372483730316,
          -0.26134687662124634,
          -0.18234364688396454,
          -0.26464948058128357,
          -0.2157701700925827,
          -0.26514339447021484,
          -0.18500132858753204,
          -0.2952347695827484,
          -0.29023969173431396,
          -0.18949434161186218,
          -0.2898913025856018,
          -0.17873159050941467,
          -0.36052843928337097,
          -0.35848569869995117,
          -0.1782395839691162,
          -0.23683908581733704,
          -0.2290254831314087,
          -0.2895340323448181,
          -0.20619116723537445,
          -0.17726066708564758,
          -0.22618074715137482,
          -0.21574580669403076,
          -0.18763405084609985,
          -0.22544389963150024,
          -0.20290507376194
         ],
         "yaxis": "y"
        },
        {
         "customdata": [
          [
           "bread<br>umami beef<br>umami broth<br>umami beef<br>onion<br>egg<br>salty salt<br>oil<br>umami mushroom<br>salty butter<br>umami beef<br>umami broth<br>salty salt"
          ],
          [
           "umami crab<br>salty salt<br>salty butter<br>onion<br>garlic<br>bell pepper<br>bread<br>mayonnaise<br>onion<br>sour lemon<br>salty salt"
          ],
          [
           "umami chicken<br>onion<br>garlic<br>ginger<br>salty salt<br>pepper<br>sweet corn<br>umami soy sauce<br>flour<br>egg<br>salty salt<br>onion"
          ],
          [
           "sweet banana<br>oil<br>onion<br>umami clam<br>salty salt<br>egg<br>umami beef<br>bread<br>umami cheese<br>lettuce<br>umami tomato<br>mayonnaise"
          ],
          [
           "flour<br>salty salt<br>umami shrimp<br>oil<br>ice<br>egg<br>flour"
          ],
          [
           "oil<br>onion<br>garlic<br>sour vinegar<br>sweet sugar<br>salty salt<br>umami chicken<br>bread"
          ],
          [
           "egg<br>salty salt<br>oil<br>onion<br>garlic<br>umami tomato<br>umami clam<br>umami clam<br>onion"
          ],
          [
           "umami fish<br>salty salt<br>oil<br>onion<br>garlic<br>umami tomato<br>egg"
          ],
          [
           "milk<br>sweet sugar<br>salty salt<br>garlic<br>oil<br>egg<br>flour<br>salty butter<br>garlic<br>chili<br>salty salt<br>onion"
          ],
          [
           "oil<br>garlic<br>onion<br>umami beef<br>umami yeast<br>milk<br>salty butter<br>egg<br>sweet sugar<br>salty salt<br>bread"
          ],
          [
           "sweet squash<br>sweet carrot<br>onion<br>sweet raisin<br>mayonnaise<br>salty salt<br>nut"
          ],
          [
           "umami shrimp<br>salty butter<br>oil<br>onion<br>garlic<br>chili<br>milk<br>egg<br>sweet sugar<br>salty salt"
          ],
          [
           "umami mushroom<br>broccoli<br>sweet carrot<br>cabbage<br>oil<br>onion<br>garlic<br>flour<br>salty salt"
          ],
          [
           "sweet sugar<br>cinnamon<br>baking soda<br>salty salt<br>oil<br>egg<br>sweet mango<br>sweet raisin<br>sour lemon"
          ],
          [
           "oil<br>garlic<br>onion<br>umami tomato<br>umami fish<br>egg<br>salty salt<br>onion"
          ],
          [
           "sweet coconut<br>rice<br>sweet coconut<br>salty salt<br>onion"
          ],
          [
           "umami shrimp<br>flour<br>alcohol<br>broccoli<br>sweet carrot<br>oil<br>onion<br>garlic<br>broccoli<br>umami clam<br>alcohol<br>sour vinegar<br>sweet sugar<br>oil<br>flour"
          ],
          [
           "sausage<br>umami beef<br>salty salt<br>onion<br>bell pepper<br>bell pepper<br>garlic<br>pasta<br>pasta<br>umami tomato<br>sweet sugar<br>umami cheese"
          ],
          [
           "egg<br>salty butter<br>umami tomato<br>onion<br>salty salt"
          ],
          [
           "umami fish<br>umami soy sauce<br>flour<br>salty salt<br>egg<br>oil<br>bell pepper<br>onion<br>sweet pineapple<br>sour vinegar<br>sweet sugar<br>flour<br>salty salt"
          ],
          [
           "oil<br>flour<br>umami cheese<br>umami beef<br>bell pepper<br>bell pepper<br>onion<br>egg"
          ],
          [
           "umami shrimp<br>mayonnaise<br>umami cheese<br>sweet sugar"
          ],
          [
           "umami shrimp<br>salty salt<br>flour<br>egg<br>sweet coconut<br>bread<br>oil"
          ],
          [
           "oil<br>nut<br>sweet carrot<br>onion<br>salty salt<br>umami cheese<br>oil<br>wrapper"
          ],
          [
           "umami fish<br>mayonnaise<br>onion<br>salty salt<br>umami cheese<br>bread<br>egg<br>milk<br>bread<br>oil"
          ],
          [
           "umami pork<br>umami soy sauce<br>alcohol<br>flour<br>salty salt<br>oil<br>bell pepper<br>bell pepper<br>onion<br>sweet pineapple<br>sweet pineapple<br>sour vinegar<br>sweet sugar<br>salty salt<br>flour"
          ],
          [
           "oil<br>potato<br>onion<br>garlic<br>umami beef<br>salty salt<br>sweet pea<br>egg"
          ],
          [
           "umami chicken<br>umami broth<br>umami crab<br>sweet corn<br>umami crab<br>salty salt<br>flour<br>egg<br>onion"
          ],
          [
           "oil<br>onion<br>garlic<br>umami pork<br>umami shrimp<br>umami shrimp<br>sweet coconut<br>sweet jackfruit<br>sweet squash<br>bean<br>eggplant<br>salty salt"
          ],
          [
           "oil<br>onion<br>garlic<br>umami beef<br>umami tomato<br>umami soy sauce<br>sweet sugar<br>sweet pea<br>salty salt<br>sweet banana<br>egg<br>rice"
          ],
          [
           "umami pork<br>salty salt<br>sweet sugar<br>salty salt<br>sweet pineapple"
          ],
          [
           "sweet berry<br>sweet sugar<br>sour lemon<br>salty butter<br>pepper"
          ],
          [
           "pasta<br>sweet carrot<br>onion<br>sweet apple<br>sour vinegar<br>mayonnaise<br>milk<br>sweet sugar<br>salty salt<br>onion"
          ],
          [
           "oil<br>sweet banana<br>umami beef<br>onion<br>sausage<br>potato<br>bean<br>cabbage<br>salty salt"
          ],
          [
           "rice<br>sour vinegar<br>salty salt<br>sweet sugar<br>umami crab<br>sweet mango<br>cucumber<br>mayonnaise<br>umami cheese<br>sweet mango<br>cucumber<br>egg<br>mayonnaise<br>sauce"
          ],
          [
           "umami fish<br>salty salt<br>oil<br>onion<br>garlic<br>ginger<br>sweet papaya<br>bell pepper<br>bell pepper<br>sour vinegar<br>sweet sugar<br>flour"
          ],
          [
           "umami shrimp<br>salty butter<br>garlic<br>chili<br>bell pepper<br>bell pepper<br>alcohol<br>umami tomato<br>salty salt<br>bread"
          ],
          [
           "oil<br>eggplant<br>onion<br>umami tomato<br>egg<br>salty salt"
          ],
          [
           "cassava<br>sweet coconut<br>sweet sugar<br>salty salt<br>lye<br>sweet coconut<br>sweet coconut<br>umami cheese"
          ],
          [
           "oil<br>pepper<br>onion<br>garlic<br>umami chicken<br>sweet pineapple<br>sweet pineapple<br>cream<br>salty salt"
          ],
          [
           "umami chicken<br>sweet pineapple<br>umami soy sauce<br>sweet sugar<br>sweet pineapple<br>onion<br>garlic<br>ginger<br>salty salt<br>pepper<br>flour"
          ],
          [
           "umami shrimp<br>sweet guava<br>onion<br>salty salt<br>spinach"
          ],
          [
           "umami pork<br>umami shrimp<br>sweet carrot<br>nut<br>onion<br>spice<br>salty salt<br>flour<br>umami tofu<br>oil"
          ],
          [
           "bread<br>umami pork<br>egg<br>sweet sugar<br>umami soy sauce<br>flour<br>oil<br>salty salt"
          ],
          [
           "cassava<br>salty salt<br>milk<br>salty butter<br>umami cheese"
          ],
          [
           "umami chicken<br>egg<br>sweet pineapple<br>relish<br>onion<br>mayonnaise<br>milk<br>salty salt"
          ],
          [
           "sweet mango<br>sour vinegar<br>sweet sugar<br>salty salt<br>chili"
          ],
          [
           "bread<br>milk<br>umami beef<br>onion<br>egg<br>salty salt<br>oil<br>onion<br>bell pepper<br>bell pepper<br>sweet pineapple<br>sweet pineapple<br>sour vinegar<br>sweet sugar<br>flour"
          ],
          [
           "pasta<br>umami chicken<br>sweet carrot<br>umami pork<br>egg<br>sweet pineapple<br>sour pickle<br>sweet raisin<br>onion<br>mayonnaise<br>milk<br>salty salt"
          ],
          [
           "cucumber<br>umami tomato<br>sweet avocado<br>onion<br>alcohol<br>sour vinegar<br>oil<br>sweet sugar<br>salty salt"
          ],
          [
           "cabbage<br>sweet carrot<br>cabbage<br>mayonnaise<br>sour vinegar<br>sweet sugar<br>salty salt<br>sweet pineapple<br>sweet raisin"
          ],
          [
           "oil<br>salty butter<br>umami pork<br>umami shrimp<br>onion<br>garlic<br>umami fish sauce<br>turnip<br>sweet carrot<br>sweet pea<br>cream<br>salty salt<br>flour"
          ],
          [
           "umami squid<br>milk<br>flour<br>oil<br>garlic<br>salty salt<br>sour lemon"
          ],
          [
           "eggplant<br>oil<br>onion<br>umami tomato<br>egg<br>salty salt"
          ],
          [
           "oil<br>onion<br>umami pork<br>sweet pineapple<br>sweet carrot<br>sweet raisin<br>sour ketchup<br>egg<br>salty salt<br>egg<br>sausage"
          ],
          [
           "umami fish<br>flour<br>salty salt<br>sweet sugar<br>oil<br>umami soy sauce<br>garlic<br>onion<br>chili<br>sweet sugar<br>flour<br>salty salt"
          ],
          [
           "umami chicken<br>salty salt<br>oil<br>onion<br>garlic<br>sweet coconut<br>umami chicken<br>umami broth<br>flour<br>peanut<br>salty butter<br>egg"
          ],
          [
           "umami chicken<br>buttermilk<br>salty salt<br>flour<br>salty salt<br>egg<br>buttermilk<br>oil<br>umami tomato<br>umami cheese<br>sweet pineapple<br>umami pork<br>umami cheese<br>chili"
          ],
          [
           "potato<br>umami chicken<br>sweet carrot<br>egg<br>onion<br>sweet pineapple<br>sour pickle<br>umami pork<br>mayonnaise<br>milk<br>salty salt"
          ],
          [
           "umami pork<br>sweet pineapple<br>alcohol<br>sweet sugar<br>salty salt<br>garlic<br>sweet pineapple<br>sweet sugar<br>mustard"
          ],
          [
           "umami shrimp<br>umami pork<br>sweet coconut<br>onion<br>garlic<br>salty salt<br>sweet coconut<br>cream"
          ],
          [
           "umami chicken<br>umami shrimp<br>sweet honey<br>salty salt"
          ],
          [
           "sweet pineapple<br>sour vinegar<br>sweet sugar<br>salty salt<br>flour<br>oil<br>bell pepper"
          ],
          [
           "salty salt<br>sour vinegar<br>sweet sugar<br>ginger<br>onion<br>pepper<br>bell pepper<br>pepper<br>sweet carrot<br>sweet raisin"
          ],
          [
           "umami beef<br>sweet banana<br>eggplant<br>bean<br>cabbage<br>flour<br>annatto<br>peanut<br>salty butter<br>oil<br>onion<br>umami fish sauce<br>salty salt<br>umami shrimp"
          ],
          [
           "umami shrimp<br>salty salt<br>flour<br>salty salt<br>pepper<br>oil<br>chili<br>onion"
          ],
          [
           "egg<br>salty butter<br>onion<br>garlic<br>umami fish sauce<br>sweet carrot<br>turnip<br>sweet pea<br>cream<br>salty salt"
          ],
          [
           "sweet pineapple<br>umami cheese<br>mayonnaise<br>salty salt"
          ],
          [
           "pasta<br>umami crab<br>sweet corn<br>egg<br>umami chicken<br>sweet carrot<br>cabbage<br>onion<br>umami clam<br>oil<br>oil"
          ],
          [
           "umami tofu<br>cream<br>umami mushroom<br>umami chicken<br>cream<br>sweet pea<br>sweet carrot<br>sweet corn<br>onion<br>garlic<br>salty butter<br>oil"
          ],
          [
           "wrapper<br>oil<br>umami pork<br>umami cheese<br>onion<br>sweet carrot<br>flour<br>egg<br>pepper"
          ],
          [
           "umami chicken<br>egg<br>oil<br>flour<br>flour<br>baking<br>salty salt<br>cream<br>umami mushroom<br>salty butter<br>flour"
          ],
          [
           "umami tofu<br>umami chicken<br>egg<br>oil<br>flour<br>flour<br>baking<br>salty salt<br>salty butter<br>umami chicken<br>flour<br>onion<br>garlic<br>pepper"
          ],
          [
           "pasta<br>umami pork<br>umami pork<br>pasta<br>flour<br>onion<br>oil<br>salty salt"
          ],
          [
           "cream<br>umami chicken<br>sweet corn<br>bell pepper<br>bell pepper<br>salty butter<br>oil<br>umami chicken<br>egg<br>flour<br>bread<br>salty salt<br>pepper<br>garlic<br>oil"
          ],
          [
           "umami chicken<br>salty salt<br>oil<br>flour<br>milk<br>umami chicken<br>egg<br>flour<br>baking<br>garlic<br>salty salt<br>pepper"
          ],
          [
           "umami beef<br>pasta<br>umami beef<br>umami mushroom<br>bell pepper<br>onion<br>umami tomato<br>cream cheese<br>umami cheese<br>salty salt"
          ],
          [
           "umami chicken<br>sweet coconut<br>umami chicken<br>potato<br>sweet carrot<br>bell pepper<br>sweet pea<br>onion<br>umami tomato<br>oil<br>salty salt"
          ],
          [
           "umami chicken<br>potato<br>sweet carrot<br>sweet pineapple<br>onion<br>oil<br>mayonnaise<br>sour pickle<br>onion<br>salty salt"
          ],
          [
           "pasta<br>umami chicken<br>umami chicken<br>cream<br>umami mushroom<br>sweet carrot<br>sweet corn<br>onion<br>salty butter<br>salty salt"
          ],
          [
           "egg<br>umami tomato<br>onion<br>umami cheese<br>onion<br>salty butter<br>oil<br>rice<br>umami pork<br>onion<br>salty salt"
          ],
          [
           "pasta<br>cream<br>umami mushroom<br>umami pork<br>salty butter<br>umami mushroom<br>flour<br>umami cheese<br>pepper"
          ],
          [
           "umami chicken<br>cream<br>umami mushroom<br>egg<br>sweet pea<br>sweet carrot<br>sweet corn<br>turnip<br>onion<br>cream<br>salty butter<br>oil"
          ],
          [
           "bread<br>mayonnaise<br>umami cheese<br>cream cheese<br>bell pepper<br>garlic<br>onion<br>salty salt"
          ],
          [
           "cream<br>umami mushroom<br>egg<br>salty butter<br>sweet corn<br>bean<br>onion<br>sweet carrot<br>salty salt"
          ],
          [
           "cabbage<br>umami chicken<br>cabbage<br>umami mushroom<br>peas<br>sweet pea<br>sweet carrot<br>onion<br>umami soy sauce<br>oil<br>umami clam<br>flour<br>oil<br>sweet sugar<br>salty salt"
          ],
          [
           "umami pork<br>sour lemon<br>umami squid<br>umami tomato<br>onion<br>ginger<br>eggplant<br>umami tomato<br>onion<br>sour vinegar<br>sweet sugar<br>salty salt<br>milk<br>sweet vanilla<br>cream"
          ],
          [
           "umami chicken<br>egg<br>pepper<br>milk<br>flour<br>salty butter<br>parsley<br>oil<br>salty salt"
          ],
          [
           "umami fish<br>sweet coconut<br>sweet squash<br>bean<br>onion<br>oil<br>salty salt"
          ],
          [
           "umami beef<br>pasta<br>flour<br>onion<br>oil<br>umami cheese<br>onion<br>umami tomato<br>umami cheese"
          ],
          [
           "oil<br>pasta<br>cream<br>onion<br>umami cheese<br>salty butter"
          ],
          [
           "sausage<br>egg<br>bell pepper<br>sweet pea<br>umami cheese<br>salty salt"
          ],
          [
           "umami pork<br>rice<br>sweet pineapple<br>sweet pea<br>nut<br>bell pepper<br>onion<br>onion<br>egg<br>oil<br>salty salt"
          ],
          [
           "umami pork<br>bread<br>flour<br>egg<br>oil<br>sweet sugar<br>sour ketchup<br>umami clam<br>umami soy sauce"
          ],
          [
           "umami pork<br>sweet pineapple<br>umami tomato<br>umami cheese<br>flour<br>baking<br>sweet sugar<br>salty salt<br>alcohol<br>oil"
          ],
          [
           "umami beef<br>sweet carrot<br>sweet corn<br>sweet pea<br>onion<br>salty butter<br>salty salt"
          ],
          [
           "umami pork<br>rice<br>egg<br>umami cheese<br>flour<br>lettuce<br>umami tomato<br>milk<br>salty butter<br>sour vinegar"
          ],
          [
           "umami beef<br>bread<br>egg<br>umami cheese<br>flour<br>oil<br>salty salt"
          ],
          [
           "umami pork<br>rice<br>umami soy sauce<br>sweet pea<br>sweet carrot<br>egg<br>salty butter<br>oil<br>salty salt"
          ],
          [
           "umami pork<br>egg<br>bread<br>mayonnaise<br>salty butter<br>oil"
          ],
          [
           "umami chicken<br>umami chicken<br>potato<br>sweet carrot<br>bell pepper<br>pepper<br>sweet coconut<br>cream<br>umami mushroom<br>oil<br>salty salt"
          ],
          [
           "pasta<br>umami chicken<br>onion<br>celery<br>sweet pea<br>bell pepper<br>sour pickle<br>sweet pineapple<br>sweet carrot<br>mayonnaise<br>cream<br>onion<br>sweet sugar<br>salty salt"
          ],
          [
           "umami chicken<br>egg<br>oil<br>pepper<br>garlic<br>flour<br>flour<br>salty salt<br>onion<br>salty butter<br>mayonnaise<br>sour lemon<br>sweet honey"
          ],
          [
           "umami clam<br>umami crab<br>sweet corn<br>umami shrimp<br>garlic<br>salty salt<br>ginger<br>umami crab"
          ],
          [
           "umami chicken<br>bread<br>buttermilk<br>sauce<br>potato<br>sweet carrot<br>onion<br>salty salt<br>pepper<br>oil"
          ],
          [
           "oil<br>salty salt<br>onion<br>bell pepper<br>bell pepper<br>sweet carrot<br>sour vinegar<br>sour ketchup<br>sweet sugar<br>flour<br>oil<br>salty salt"
          ],
          [
           "umami chicken<br>umami chicken<br>sweet pineapple<br>sweet carrot<br>bell pepper<br>bell pepper<br>umami soy sauce<br>onion<br>oil<br>flour<br>sweet sugar<br>salty salt"
          ],
          [
           "pasta<br>mayonnaise<br>umami chicken<br>umami cheese<br>sour pickle<br>sweet carrot<br>sweet raisin<br>sweet pineapple<br>bell pepper<br>bell pepper<br>salty salt"
          ],
          [
           "bread<br>mayonnaise<br>umami chicken<br>mayonnaise<br>mustard<br>salty salt<br>bread<br>oil"
          ],
          [
           "salty salt<br>rosemary<br>thyme<br>pepper<br>salty butter<br>oil<br>potato<br>milk<br>salty butter<br>salty salt<br>umami beef<br>salty butter<br>flour<br>salty salt"
          ],
          [
           "rice<br>sour vinegar<br>sweet sugar<br>salty salt<br>cream cheese<br>cream<br>mayonnaise<br>umami crab<br>cucumber<br>mayonnaise<br>sauce<br>sweet avocado"
          ],
          [
           "pasta<br>umami pork<br>cream<br>umami mushroom<br>cream<br>umami cheese<br>umami mushroom<br>salty butter"
          ],
          [
           "pasta<br>mayonnaise<br>umami chicken<br>sweet pineapple<br>sweet carrot<br>celery<br>sour pickle<br>onion<br>umami cheese<br>sweet sugar<br>parsley<br>salty salt"
          ],
          [
           "pasta<br>mayonnaise<br>milk<br>cream<br>umami cheese<br>sweet coconut<br>sweet coconut<br>sweet coconut<br>alcohol"
          ],
          [
           "bitter bitter gourd<br>pepper<br>salty salt<br>egg<br>umami tomato<br>onion<br>oil"
          ],
          [
           "potato<br>onion<br>egg<br>oil<br>salty salt"
          ],
          [
           "umami fish<br>flour<br>flour<br>oil<br>rice<br>salty salt<br>parsley<br>cream<br>sweet squash"
          ],
          [
           "pasta<br>umami pork<br>umami chicken<br>umami pork<br>umami pork<br>umami soy sauce<br>umami clam<br>sweet sugar<br>pepper<br>onion<br>cabbage<br>sweet carrot<br>flour<br>egg"
          ],
          [
           "pasta<br>umami beef<br>umami beef<br>umami tomato<br>sour ketchup<br>onion<br>cream<br>bell pepper<br>umami cheese<br>sweet sugar<br>salty salt<br>oil"
          ],
          [
           "mayonnaise<br>umami chicken<br>pasta<br>sweet carrot<br>onion<br>sour pickle<br>sweet pineapple<br>umami cheese<br>sweet sugar<br>salty salt"
          ],
          [
           "sweet sugar<br>sweet sugar<br>umami yeast<br>flour<br>baking<br>umami pork<br>oil<br>onion<br>flour<br>umami soy sauce<br>sweet sugar<br>umami clam<br>umami soy sauce"
          ],
          [
           "sausage<br>egg<br>rice<br>oil<br>salty salt"
          ],
          [
           "sour lemon<br>soda<br>salty butter<br>parsley<br>salty salt"
          ],
          [
           "salty butter<br>flour<br>umami chicken<br>onion<br>garlic<br>pepper"
          ],
          [
           "umami chicken<br>bread<br>umami chicken<br>egg<br>salty salt<br>pepper<br>oil<br>sour ketchup<br>sweet sugar<br>sour vinegar<br>bell pepper<br>onion<br>sweet carrot<br>flour"
          ],
          [
           "umami beef<br>onion<br>umami beef<br>bread<br>garlic<br>egg<br>pepper<br>oil<br>parsley<br>umami mushroom<br>salty butter<br>flour<br>umami beef<br>onion<br>garlic"
          ],
          [
           "eggplant<br>flour<br>bread<br>egg<br>salty salt<br>oil<br>mayonnaise<br>sour ketchup<br>chili<br>onion<br>garlic<br>salty salt"
          ],
          [
           "umami crab<br>umami shrimp<br>umami squid<br>umami fish<br>umami clam<br>sweet carrot<br>bell pepper<br>bell pepper<br>onion<br>celery<br>salty salt<br>salty butter<br>flour<br>milk"
          ],
          [
           "umami beef<br>onion<br>umami mushroom<br>cream<br>oil<br>salty salt<br>egg<br>pasta<br>flour<br>salty butter<br>umami beef"
          ],
          [
           "pasta<br>umami pork<br>umami cheese<br>egg<br>salty salt<br>pepper"
          ],
          [
           "umami crab<br>sweet coconut<br>bean<br>sweet squash<br>onion<br>ginger<br>oil<br>salty salt"
          ],
          [
           "umami pork<br>umami pork<br>bean<br>sweet banana<br>cabbage<br>peanut<br>annatto<br>eggplant<br>flour<br>onion<br>oil<br>umami shrimp"
          ],
          [
           "umami pork<br>onion<br>umami soy sauce<br>star anise<br>sweet sugar<br>oil<br>flour<br>pepper<br>flour<br>flour<br>baking<br>sweet sugar<br>salty butter<br>egg<br>milk"
          ],
          [
           "umami beef<br>flour<br>cumin<br>chili<br>garlic<br>onion<br>salty salt<br>umami tomato<br>chili<br>oil<br>salty butter<br>flour<br>milk<br>umami cheese"
          ],
          [
           "umami beef<br>sweet corn<br>cream<br>umami mushroom<br>cream<br>onion<br>salty butter<br>salty salt"
          ],
          [
           "umami fish<br>bell pepper<br>bell pepper<br>sweet carrot<br>onion<br>ginger<br>flour<br>sour vinegar<br>sour ketchup<br>sweet sugar<br>oil<br>salty salt"
          ],
          [
           "pasta<br>cream<br>milk<br>umami fish<br>salty butter<br>parsley<br>umami cheese<br>salty salt"
          ],
          [
           "bread<br>umami pork<br>umami chicken<br>umami cheese<br>mustard<br>egg<br>salty butter"
          ],
          [
           "umami pork<br>umami pork<br>potato<br>sweet carrot<br>sweet pea<br>bell pepper<br>umami tomato<br>sweet coconut<br>oil<br>salty salt"
          ],
          [
           "umami beef<br>umami beef<br>pasta<br>sweet carrot<br>egg<br>flour<br>flour<br>onion<br>onion<br>umami soy sauce<br>egg<br>oil<br>salty salt"
          ],
          [
           "umami chicken<br>mayonnaise<br>potato<br>sweet carrot<br>sweet pea<br>relish<br>onion<br>umami cheese<br>sweet sugar<br>pepper<br>salty salt"
          ],
          [
           "pasta<br>umami fish<br>umami tomato<br>egg<br>flour<br>onion<br>onion<br>oil<br>salty salt"
          ],
          [
           "umami fish<br>umami tomato<br>cabbage<br>onion<br>bread<br>sweet sugar<br>sour vinegar<br>egg<br>flour<br>oil"
          ],
          [
           "eggplant<br>onion<br>onion<br>egg<br>oil<br>salty salt"
          ],
          [
           "umami chicken<br>bread<br>egg<br>flour<br>salty salt<br>pepper<br>oil"
          ],
          [
           "umami chicken<br>umami chicken<br>umami mushroom<br>umami cheese<br>flour<br>milk<br>salty butter<br>oil<br>pepper"
          ],
          [
           "parsley<br>salty butter<br>sour lemon<br>soda<br>sour lemon<br>salty salt"
          ],
          [
           "umami pork<br>garlic<br>onion<br>salty salt<br>pepper<br>bread<br>egg<br>umami pork<br>umami mushroom<br>salty butter<br>flour"
          ],
          [
           "umami beef<br>egg<br>onion<br>onion<br>oil<br>salty salt"
          ],
          [
           "umami chicken<br>umami chicken<br>pasta<br>cabbage<br>egg<br>sweet carrot<br>onion<br>onion<br>garlic<br>oil<br>salty salt"
          ],
          [
           "rice<br>egg<br>sweet pea<br>salty salt<br>onion<br>garlic<br>oil"
          ],
          [
           "umami beef<br>umami mushroom<br>cream<br>umami mushroom<br>cream<br>onion<br>flour<br>salty butter<br>oil<br>umami beef<br>umami broth<br>salty salt"
          ],
          [
           "umami chicken<br>umami pork<br>mayonnaise<br>sour pickle<br>sweet raisin<br>bread<br>sweet carrot<br>onion<br>egg<br>pepper<br>salty salt<br>egg"
          ],
          [
           "pasta<br>umami cheese<br>pasta<br>umami pork<br>sausage<br>umami tomato<br>onion<br>oil<br>sweet sugar<br>salty salt<br>salty butter<br>milk<br>flour<br>umami cheese"
          ],
          [
           "pasta<br>umami beef<br>umami beef<br>umami pork<br>bell pepper<br>bell pepper<br>umami tomato<br>onion<br>sweet sugar<br>salty salt<br>oil<br>salty butter<br>milk<br>flour<br>umami cheese"
          ],
          [
           "umami chicken<br>mayonnaise<br>pasta<br>sweet raisin<br>umami cheese<br>sweet pineapple<br>egg<br>onion<br>parsley<br>sweet sugar<br>pepper<br>salty salt"
          ],
          [
           "onion<br>ginger<br>salty salt<br>mayonnaise<br>salty salt<br>onion<br>garlic<br>sweet sugar<br>bell pepper<br>egg<br>sweet carrot<br>relish"
          ],
          [
           "umami chicken<br>egg<br>flour<br>oil<br>onion<br>garlic<br>salty salt<br>pepper<br>sour lemon<br>soda"
          ],
          [
           "pasta<br>salty salt<br>umami pork<br>umami pork<br>sausage<br>onion<br>umami tomato<br>sweet sugar<br>oil<br>salty salt"
          ],
          [
           "egg<br>rice<br>salty salt<br>salty butter<br>sweet carrot<br>sweet pea<br>pepper<br>umami beef<br>onion<br>oil<br>sweet squash<br>salty salt"
          ],
          [
           "umami beef<br>sweet squash<br>egg<br>garlic<br>pepper<br>salty salt<br>bread<br>bread<br>oil"
          ],
          [
           "umami fish<br>bean<br>oil<br>flour<br>baking<br>salty salt<br>pepper<br>garlic<br>onion<br>egg"
          ],
          [
           "eggplant<br>umami pork<br>bread<br>flour<br>onion<br>garlic<br>egg<br>salty salt<br>pepper<br>oil<br>mayonnaise<br>sour ketchup"
          ],
          [
           "umami pork<br>bell pepper<br>bell pepper<br>umami soy sauce<br>onion<br>sweet carrot<br>flour<br>flour<br>sour vinegar<br>sour ketchup<br>sweet sugar<br>salty salt"
          ],
          [
           "pasta<br>broccoli<br>umami chicken<br>umami chicken<br>cream<br>milk<br>basil<br>umami cheese<br>flour<br>salty butter<br>pepper<br>pasta"
          ],
          [
           "umami pork<br>umami pork<br>pasta<br>sausage<br>cabbage<br>sweet carrot<br>egg<br>flour<br>onion<br>salty salt"
          ],
          [
           "umami chicken<br>umami chicken<br>umami chicken<br>cauliflower<br>sweet pea<br>sweet carrot<br>bell pepper<br>bell pepper<br>onion<br>flour<br>oil<br>pepper"
          ],
          [
           "umami chicken<br>bread<br>buttermilk<br>sour lemon<br>salty salt<br>pepper"
          ],
          [
           "umami beef<br>egg<br>oil<br>garlic<br>sweet pineapple<br>sweet sugar<br>pepper<br>rice<br>salty salt"
          ],
          [
           "umami chicken<br>cabbage<br>celery<br>onion<br>sausage<br>sweet carrot<br>milk<br>pasta<br>garlic<br>umami chicken<br>oil<br>salty salt"
          ],
          [
           "egg<br>onion<br>garlic<br>salty butter<br>oil<br>sweet pea<br>sweet carrot<br>cream<br>umami mushroom<br>turnip<br>cream<br>salty salt"
          ],
          [
           "umami pork<br>salty salt<br>salty salt<br>sweet sugar<br>alcohol<br>sweet pineapple<br>garlic<br>garlic"
          ],
          [
           "pasta<br>umami chicken<br>umami chicken<br>umami mushroom<br>onion<br>sweet carrot<br>onion<br>umami clam<br>alcohol<br>oil<br>pepper"
          ],
          [
           "egg<br>umami tomato<br>onion<br>pepper<br>salty salt<br>oil"
          ],
          [
           "umami pork<br>wrapper<br>sweet carrot<br>turnip<br>pepper<br>salty salt<br>onion<br>oil<br>onion<br>egg<br>oil"
          ],
          [
           "broccoli<br>ginger<br>flour<br>oil<br>salty salt<br>umami clam<br>oil<br>alcohol<br>sweet sugar"
          ],
          [
           "potato<br>sweet carrot<br>mayonnaise<br>sweet pineapple<br>onion<br>parsley<br>pepper<br>sweet sugar<br>salty salt"
          ],
          [
           "umami chicken<br>umami chicken<br>sausage<br>umami beef<br>sausage<br>umami mushroom<br>cream<br>potato<br>sweet carrot<br>sour lemon<br>umami soy sauce<br>salty butter<br>bread<br>salty salt"
          ],
          [
           "umami beef<br>sweet banana<br>cabbage<br>bean<br>eggplant<br>peanut<br>peanut<br>salty butter<br>umami shrimp<br>annatto<br>rice<br>onion<br>salty salt"
          ],
          [
           "umami pork<br>sour pickle<br>egg<br>umami cheese<br>bell pepper<br>sweet raisin<br>sweet carrot<br>onion<br>salty salt<br>pepper<br>bread"
          ],
          [
           "pasta<br>umami beef<br>umami pork<br>cream<br>umami cheese<br>onion<br>nut<br>salty salt"
          ],
          [
           "umami beef<br>umami beef<br>cabbage<br>eggplant<br>bean<br>sweet banana<br>peanut<br>salty butter<br>annatto<br>umami fish sauce<br>flour<br>onion<br>oil"
          ],
          [
           "pasta<br>mayonnaise<br>alcohol<br>sweet pineapple<br>milk<br>sweet raisin<br>sweet coconut<br>sweet coconut<br>umami cheese"
          ],
          [
           "bread<br>flour<br>ginger<br>umami soy sauce<br>sweet sugar<br>onion<br>salty salt<br>pepper<br>oil"
          ],
          [
           "mayonnaise<br>egg<br>umami pork<br>sweet pea<br>onion<br>celery<br>sweet sugar<br>salty salt<br>pepper"
          ],
          [
           "umami chicken<br>umami chicken<br>umami mushroom<br>onion<br>bell pepper<br>bell pepper<br>salty butter<br>flour<br>milk<br>salty salt"
          ],
          [
           "pasta<br>umami cheese<br>umami cheese<br>umami cheese<br>umami beef<br>onion<br>umami tomato<br>umami tomato<br>umami beef<br>umami broth<br>sweet sugar<br>oil<br>salty salt"
          ],
          [
           "umami pork<br>egg<br>mayonnaise<br>umami cheese<br>onion<br>onion<br>mustard<br>salty salt<br>egg"
          ],
          [
           "salty salt<br>pepper<br>salty butter<br>oil<br>egg"
          ],
          [
           "salty butter<br>umami crab<br>sour lemon<br>garlic<br>sour vinegar<br>pepper<br>salty salt"
          ],
          [
           "pasta<br>mayonnaise<br>bell pepper<br>bell pepper<br>sweet carrot<br>celery<br>onion<br>mustard<br>sweet sugar<br>pepper<br>salty salt"
          ],
          [
           "umami chicken<br>umami pork<br>umami cheese<br>bread<br>egg<br>oil<br>salty salt<br>cream<br>mustard<br>salty butter<br>onion<br>salty salt"
          ],
          [
           "umami chicken<br>lemongrass<br>annatto<br>sweet sugar<br>sour vinegar<br>salty salt<br>annatto<br>salty butter<br>salty salt"
          ],
          [
           "umami chicken<br>pasta<br>sweet pineapple<br>sweet carrot<br>umami cheese<br>sweet raisin<br>umami chicken<br>pasta<br>mayonnaise<br>sweet pineapple<br>garlic<br>salty salt<br>pepper<br>sweet sugar"
          ],
          [
           "pasta<br>salty salt<br>umami cheese<br>milk<br>flour<br>salty butter<br>salty salt<br>umami cheese<br>umami pork<br>onion<br>umami tomato<br>umami tomato<br>basil<br>parsley<br>salty salt"
          ],
          [
           "umami chicken<br>sweet carrot<br>cabbage<br>onion<br>egg<br>pasta<br>garlic<br>egg<br>umami chicken<br>umami broth<br>salty salt"
          ],
          [
           "umami beef<br>egg<br>bread<br>flour<br>oil<br>salty salt<br>garlic<br>pepper<br>umami soy sauce<br>ginger<br>garlic<br>sweet sugar<br>sweet honey<br>flour"
          ],
          [
           "potato<br>bell pepper<br>bell pepper<br>onion<br>oil<br>garlic<br>pepper<br>salty salt"
          ],
          [
           "umami chicken<br>umami chicken<br>rice<br>onion<br>umami cheese<br>oil<br>bread<br>flour<br>egg<br>oil<br>egg"
          ],
          [
           "umami pork<br>umami pork<br>onion<br>sweet carrot<br>onion<br>egg<br>oil<br>pepper<br>egg"
          ],
          [
           "umami beef<br>onion<br>umami tomato<br>sweet raisin<br>umami beef<br>umami broth<br>alcohol<br>potato<br>sweet carrot<br>sweet pea<br>oil<br>salty salt"
          ],
          [
           "egg<br>spinach<br>umami tomato<br>umami cheese<br>salty butter"
          ],
          [
           "umami crab<br>garlic<br>salty salt<br>sour lemon<br>salty butter<br>cream"
          ],
          [
           "umami clam<br>onion<br>sweet carrot<br>spinach<br>pepper<br>oil<br>salty salt"
          ],
          [
           "pasta<br>mayonnaise<br>umami chicken<br>egg<br>sweet raisin<br>umami cheese<br>sweet pineapple<br>onion<br>sweet carrot<br>relish<br>garlic<br>garlic<br>salty salt"
          ],
          [
           "umami pork<br>salty salt<br>sweet sugar<br>salty salt<br>bay leaf<br>ice<br>sweet sugar<br>sweet honey<br>mustard<br>sweet pineapple"
          ],
          [
           "umami beef<br>umami pork<br>cabbage<br>eggplant<br>bean<br>sweet banana<br>annatto<br>peanut<br>salty butter<br>peanut<br>flour<br>umami fish sauce<br>onion<br>oil"
          ],
          [
           "pasta<br>umami pork<br>umami tomato<br>umami pork<br>umami tomato<br>bell pepper<br>bell pepper<br>umami cheese<br>onion<br>sweet sugar<br>oil<br>salty salt"
          ],
          [
           "garlic<br>rice<br>egg<br>umami soy sauce<br>umami pork<br>bread<br>flour<br>egg<br>salty salt<br>pepper<br>garlic<br>oil"
          ],
          [
           "umami pork<br>oil<br>salty salt<br>flour<br>egg<br>salty butter<br>sausage<br>salty salt<br>garlic"
          ],
          [
           "umami chicken<br>egg<br>flour<br>bread<br>salty salt<br>oil"
          ],
          [
           "flour<br>umami crab<br>sweet corn<br>umami cheese<br>onion<br>umami cheese<br>flour<br>milk<br>umami tomato<br>chili<br>salty butter<br>salty salt<br>chili"
          ],
          [
           "salty salt<br>pepper<br>ginger<br>onion<br>chili<br>chili<br>sour lemon<br>sweet coconut<br>cream"
          ],
          [
           "umami beef<br>bean<br>cabbage<br>peanut<br>onion<br>sweet banana<br>flour<br>annatto<br>oil<br>umami shrimp"
          ],
          [
           "egg<br>salty salt<br>pepper<br>umami cheese<br>oil"
          ],
          [
           "umami fish<br>salty salt<br>oil<br>sweet pineapple<br>sweet sugar<br>bell pepper<br>bell pepper<br>onion<br>sour ketchup<br>sour vinegar<br>garlic<br>flour"
          ],
          [
           "umami cheese<br>sausage<br>bell pepper<br>bell pepper<br>onion<br>salty butter<br>oil<br>alcohol<br>garlic<br>salty salt"
          ],
          [
           "umami fish<br>flour<br>flour<br>salty salt<br>pepper<br>oil"
          ],
          [
           "pasta<br>umami crab<br>cream<br>umami cheese<br>salty butter<br>garlic<br>pepper"
          ],
          [
           "eggplant<br>egg<br>salty salt<br>pepper<br>oil"
          ],
          [
           "pasta<br>umami chicken<br>umami chicken<br>cabbage<br>sweet carrot<br>onion<br>onion<br>flour<br>egg<br>salty salt<br>pepper<br>oil"
          ],
          [
           "umami pork<br>sausage<br>umami tomato<br>onion<br>sweet banana<br>cabbage<br>bean<br>potato<br>umami tomato<br>umami pork<br>salty salt<br>oil"
          ],
          [
           "umami chicken<br>sweet coconut<br>sweet coconut<br>pepper<br>lemongrass<br>umami tomato<br>onion<br>potato<br>onion<br>umami chicken<br>salty salt<br>pepper"
          ],
          [
           "umami chicken<br>sweet carrot<br>celery<br>onion<br>pasta<br>salty salt"
          ],
          [
           "bean<br>umami shrimp<br>sweet carrot<br>cabbage<br>onion<br>salty salt<br>onion<br>oil"
          ],
          [
           "umami chicken<br>bell pepper<br>umami chicken<br>egg<br>bell pepper<br>bread<br>oil<br>sweet raisin<br>egg<br>relish<br>umami cheese<br>pepper<br>salty salt"
          ],
          [
           "pasta<br>umami pork<br>umami beef<br>salty butter<br>umami mushroom<br>umami beef<br>umami broth<br>cream<br>umami cheese<br>egg<br>onion<br>salty salt"
          ],
          [
           "rice<br>sweet sugar<br>sweet chocolate<br>salty salt<br>umami fish"
          ],
          [
           "umami cheese<br>umami beef<br>umami beef<br>bell pepper<br>bell pepper<br>onion<br>umami tomato<br>salty salt<br>oil<br>salty butter<br>flour<br>milk<br>umami cheese"
          ],
          [
           "umami chicken<br>umami beef<br>sausage<br>egg<br>umami mushroom<br>sweet carrot<br>potato<br>salty butter<br>flour<br>umami chicken<br>umami broth<br>umami cheese<br>bread<br>salty salt"
          ],
          [
           "umami beef<br>rice<br>egg<br>egg<br>oil<br>garlic<br>salty salt"
          ],
          [
           "mayonnaise<br>onion<br>celery<br>mustard<br>pepper<br>salty salt<br>bread"
          ],
          [
           "umami pork<br>onion<br>bell pepper<br>sweet carrot<br>sour pickle<br>sweet raisin<br>umami cheese<br>egg<br>pepper<br>salty salt<br>bread"
          ],
          [
           "cabbage<br>umami clam<br>sweet sugar<br>garlic<br>pepper<br>oil<br>oil<br>salty salt"
          ],
          [
           "umami chicken<br>potato<br>sweet carrot<br>relish<br>sweet pea<br>salty salt<br>umami cheese<br>mayonnaise"
          ],
          [
           "umami pork<br>umami pork<br>umami tomato<br>sweet raisin<br>umami pork<br>sweet carrot<br>potato<br>onion<br>garlic<br>oil<br>sweet sugar<br>salty salt"
          ],
          [
           "umami chicken<br>onion<br>garlic<br>sour vinegar<br>sweet sugar<br>salty salt<br>pepper<br>umami chicken<br>bread<br>oil"
          ],
          [
           "umami fish<br>salty salt<br>pepper<br>garlic<br>flour<br>flour<br>alcohol<br>oil"
          ],
          [
           "umami pork<br>egg<br>rice<br>sweet papaya<br>egg<br>flour<br>salty salt<br>pepper<br>oil"
          ],
          [
           "umami pork<br>egg<br>flour<br>flour<br>salty salt<br>pepper"
          ],
          [
           "umami tomato<br>onion<br>sour vinegar<br>pepper<br>salty salt<br>sweet sugar"
          ],
          [
           "rice<br>umami fish<br>egg<br>umami tomato<br>onion<br>garlic<br>salty salt<br>oil"
          ],
          [
           "egg<br>umami tomato<br>onion<br>spinach<br>salty salt<br>pepper<br>oil<br>salty butter"
          ],
          [
           "salty salt<br>umami fish<br>egg<br>garlic<br>rice<br>sweet papaya<br>oil<br>onion"
          ],
          [
           "umami pork<br>sweet pea<br>bread<br>egg<br>egg<br>sweet pineapple<br>umami cheese<br>sour pickle<br>sweet raisin<br>bell pepper"
          ],
          [
           "umami pork<br>sweet carrot<br>onion<br>garlic<br>pepper<br>salty salt<br>egg<br>wrapper<br>oil"
          ],
          [
           "umami fish<br>sweet sweet potato<br>ginger<br>umami tomato<br>onion<br>salty salt"
          ],
          [
           "sweet papaya<br>sweet carrot<br>bell pepper<br>sweet raisin<br>garlic<br>sour vinegar<br>sweet sugar<br>salty salt<br>pepper<br>salty salt"
          ],
          [
           "eggplant<br>egg<br>umami crab<br>onion<br>salty salt<br>garlic<br>pepper<br>oil"
          ],
          [
           "sweet avocado<br>garlic<br>cream<br>sour lemon<br>salty salt<br>onion"
          ],
          [
           "pasta<br>umami shrimp<br>salty butter<br>cream<br>umami cheese<br>oil<br>garlic<br>salty salt"
          ],
          [
           "umami beef<br>umami pork<br>sweet sugar<br>egg<br>bread<br>salty salt<br>pepper"
          ],
          [
           "umami crab<br>salty butter<br>sour lemon<br>salty salt"
          ],
          [
           "onion<br>sour pickle<br>mayonnaise<br>sweet sugar<br>salty salt<br>garlic<br>pepper"
          ],
          [
           "potato<br>salty butter<br>onion<br>bell pepper<br>umami mushroom<br>cream<br>umami cheese<br>egg<br>onion<br>umami pork<br>salty salt"
          ],
          [
           "potato<br>umami pork<br>egg<br>bread<br>flour<br>salty salt<br>pepper<br>oil"
          ],
          [
           "bitter bitter gourd<br>egg<br>umami tomato<br>onion<br>oil<br>salty salt"
          ],
          [
           "parsley<br>onion<br>sweet carrot<br>egg<br>pasta<br>umami chicken<br>umami broth<br>salty salt"
          ],
          [
           "potato<br>cream<br>umami chicken<br>umami cheese<br>salty butter<br>oil<br>cream<br>onion<br>salty salt<br>pepper"
          ],
          [
           "sweet sugar<br>sour ketchup<br>sweet pineapple<br>sour vinegar<br>onion<br>bell pepper<br>bell pepper<br>flour"
          ],
          [
           "egg<br>mayonnaise<br>sour pickle<br>sweet sugar<br>mustard<br>onion<br>salty salt<br>pepper"
          ],
          [
           "pasta<br>umami fish<br>cream<br>umami cheese<br>salty salt"
          ],
          [
           "eggplant<br>pepper<br>onion<br>egg<br>salty salt<br>pepper<br>oil"
          ],
          [
           "pepper<br>umami pork<br>bread<br>egg<br>bread<br>onion<br>sweet carrot<br>garlic<br>salty salt<br>oil"
          ],
          [
           "eggplant<br>umami tomato<br>onion<br>sweet sugar<br>pepper<br>sweet sugar<br>salty salt<br>umami shrimp"
          ],
          [
           "umami fish<br>garlic<br>onion<br>salty salt<br>pepper<br>egg<br>bread<br>oil"
          ],
          [
           "rice<br>sweet pea<br>umami shrimp<br>sweet carrot<br>garlic<br>salty salt<br>onion<br>salty butter"
          ],
          [
           "umami beef<br>salty salt<br>umami beef<br>bread<br>umami cheese"
          ],
          [
           "umami fish<br>salty salt<br>pepper<br>chili<br>sour vinegar<br>sweet sugar"
          ],
          [
           "umami beef<br>bread<br>mustard<br>umami beef<br>onion<br>garlic<br>pepper<br>salty salt<br>salty butter<br>umami mushroom<br>flour<br>oil"
          ],
          [
           "umami pork<br>sweet banana<br>egg<br>sour vinegar<br>salty salt<br>sweet sugar<br>pepper<br>flour<br>oil<br>rice"
          ],
          [
           "egg<br>milk<br>umami pork<br>bell pepper<br>onion<br>umami tomato<br>salty butter<br>salty salt"
          ],
          [
           "umami pork<br>salty salt<br>pepper<br>flour<br>sweet sugar<br>umami soy sauce<br>garlic<br>onion<br>sweet sugar<br>oil"
          ],
          [
           "mayonnaise<br>cream<br>buttermilk<br>sweet apple<br>sour vinegar<br>garlic<br>pepper<br>salty salt<br>sauce<br>dill<br>onion"
          ],
          [
           "umami chicken<br>bread<br>bread<br>flour<br>salty salt<br>pepper<br>garlic<br>onion<br>alcohol<br>umami soy sauce<br>egg<br>oil"
          ],
          [
           "umami chicken<br>garlic<br>onion<br>pepper<br>salty salt<br>bread<br>pepper<br>wrapper<br>bread<br>egg<br>oil"
          ],
          [
           "umami chicken<br>bell pepper<br>bell pepper<br>onion<br>egg<br>umami tomato<br>sweet raisin<br>sweet carrot<br>umami cheese<br>bread<br>oil<br>sour pickle<br>pepper<br>salty salt"
          ],
          [
           "umami pork<br>egg<br>sweet carrot<br>sweet pea<br>garlic<br>umami tomato<br>sweet raisin<br>onion<br>umami beef<br>umami broth<br>oil<br>salty salt"
          ],
          [
           "pasta<br>mayonnaise<br>cream<br>mustard<br>celery<br>onion<br>parsley<br>relish<br>sweet sugar<br>salty salt"
          ],
          [
           "umami beef<br>peanut<br>cabbage<br>bean<br>sweet banana<br>eggplant<br>onion<br>annatto<br>umami beef<br>vegetable<br>umami fish sauce<br>flour<br>peanut<br>salty butter"
          ],
          [
           "umami chicken<br>lemongrass<br>onion<br>pepper<br>salty salt<br>sweet banana"
          ],
          [
           "pasta<br>umami beef<br>umami tomato<br>onion<br>umami tomato<br>spinach<br>salty butter<br>flour<br>milk<br>umami cheese<br>umami cheese<br>oil<br>salty salt"
          ],
          [
           "goat<br>buttermilk<br>potato<br>sweet carrot<br>bell pepper<br>bell pepper<br>onion<br>oil<br>umami beef<br>salty salt"
          ],
          [
           "umami pork<br>sweet sugar<br>sour vinegar<br>cucumber<br>salty salt<br>sweet sugar<br>chili<br>onion<br>pepper"
          ],
          [
           "egg<br>umami tomato<br>onion<br>salty butter<br>salty salt<br>pepper<br>garlic<br>onion"
          ],
          [
           "umami chicken<br>umami broth<br>egg<br>ginger<br>flour<br>onion<br>salty salt"
          ],
          [
           "rice<br>egg<br>salty salt<br>garlic<br>oil<br>sweet pea<br>onion"
          ],
          [
           "umami chicken<br>ginger<br>ginger<br>sweet sugar<br>chili<br>sour vinegar<br>sour lemon<br>salty salt<br>pepper<br>salty butter<br>annatto<br>salty salt<br>sour lemon"
          ],
          [
           "umami shrimp<br>salty salt<br>sour lemon<br>soda"
          ],
          [
           "umami chicken<br>pasta<br>celery<br>onion<br>sweet carrot<br>cabbage<br>umami chicken<br>umami broth<br>milk<br>salty butter<br>salty salt"
          ],
          [
           "umami chicken<br>sweet sugar<br>flour<br>egg<br>salty salt<br>oil<br>sweet orange<br>flour<br>sour vinegar<br>umami soy sauce<br>onion"
          ],
          [
           "pasta<br>onion<br>umami cheese<br>umami cheese<br>salty salt"
          ],
          [
           "pasta<br>sausage<br>umami tomato<br>umami cheese<br>basil<br>salty salt"
          ],
          [
           "umami pork<br>broccoli<br>umami cheese<br>onion<br>sour vinegar<br>sweet sugar<br>pepper<br>salty salt<br>mayonnaise<br>nut"
          ],
          [
           "bitter bitter gourd<br>eggplant<br>onion<br>ginger<br>chili<br>sweet sugar<br>pepper"
          ],
          [
           "egg<br>milk<br>umami pork<br>sausage<br>potato<br>umami cheese<br>salty salt<br>pepper"
          ],
          [
           "lettuce<br>bread<br>chili<br>umami anchovy<br>garlic<br>sour lemon<br>mustard<br>pepper<br>salty salt<br>sweet sugar<br>sour vinegar<br>oil<br>salty salt"
          ],
          [
           "rice<br>saffron<br>salty butter<br>bell pepper<br>bell pepper<br>salty salt"
          ],
          [
           "umami pork<br>egg<br>milk<br>onion<br>umami cheese<br>salty salt<br>pepper"
          ],
          [
           "umami chicken<br>garlic<br>salty salt<br>pepper<br>bread<br>flour<br>oil<br>egg<br>umami cheese<br>umami cheese<br>umami tomato<br>pasta"
          ],
          [
           "salty salt<br>sour lemon<br>pepper<br>salty butter<br>oil"
          ],
          [
           "umami fish<br>umami tomato<br>onion<br>pepper<br>salty salt"
          ],
          [
           "umami crab<br>salty salt<br>pepper<br>salty butter<br>oil<br>sour lemon"
          ],
          [
           "pasta<br>oil<br>sweet carrot<br>broccoli<br>oil<br>yam<br>salty salt"
          ],
          [
           "umami fish<br>bread<br>umami tomato<br>lettuce<br>mayonnaise<br>mayonnaise<br>oil<br>oil<br>salty salt"
          ],
          [
           "potato<br>milk<br>salty salt<br>garlic<br>pepper<br>parsley"
          ],
          [
           "sour lemon<br>chili<br>garlic<br>ginger<br>sweet sugar<br>salty salt<br>pepper"
          ],
          [
           "umami pork<br>onion<br>umami tomato<br>sweet pea<br>potato<br>sweet sugar<br>oil<br>umami beef<br>umami broth<br>salty salt"
          ],
          [
           "umami pork<br>bread<br>egg<br>salty salt<br>pepper<br>oil"
          ],
          [
           "umami pork<br>sweet carrot<br>onion<br>egg<br>paprika<br>pepper<br>garlic<br>bread<br>salty salt"
          ],
          [
           "umami chicken<br>egg<br>sour pickle<br>umami tomato<br>umami cheese<br>sweet raisin<br>sweet carrot<br>onion<br>garlic<br>oil<br>salty salt<br>pepper"
          ],
          [
           "umami chicken<br>egg<br>rice<br>salty butter<br>oil<br>garlic<br>salty salt<br>sweet pea"
          ],
          [
           "umami pork<br>umami crab<br>oil<br>egg<br>onion<br>sweet carrot<br>wrapper<br>pepper<br>salty salt<br>oil"
          ],
          [
           "umami beef<br>salty salt<br>pepper<br>garlic<br>garlic<br>sweet sugar<br>salty salt<br>pepper<br>ginger<br>cinnamon<br>ice"
          ],
          [
           "umami pork<br>pasta<br>umami tomato<br>pasta<br>umami cheese<br>salty salt"
          ],
          [
           "eggplant<br>egg<br>umami chicken<br>onion<br>garlic<br>oil<br>salty salt"
          ],
          [
           "umami clam<br>pasta<br>bell pepper<br>bell pepper<br>onion<br>onion<br>garlic<br>alcohol<br>umami clam<br>oil<br>salty salt"
          ],
          [
           "umami beef<br>bread<br>umami cheese<br>egg<br>salty butter<br>egg<br>sour lemon<br>pepper<br>salty salt<br>sour vinegar<br>cabbage"
          ],
          [
           "umami chicken<br>umami tomato<br>umami cheese<br>umami cheese<br>egg<br>milk<br>bread<br>oil"
          ],
          [
           "umami beef<br>parsley<br>salty salt<br>onion<br>pepper<br>milk"
          ],
          [
           "onion<br>sour vinegar<br>onion<br>sour yogurt<br>chili<br>bread<br>oil<br>pepper<br>salty salt"
          ],
          [
           "umami beef<br>bread<br>salty butter<br>umami cheese<br>mayonnaise<br>cabbage"
          ],
          [
           "umami fish<br>onion<br>mayonnaise<br>sour pickle<br>bread<br>salty salt"
          ],
          [
           "pasta<br>umami beef<br>salty butter<br>salty salt<br>umami tomato<br>cream<br>umami cheese<br>umami cheese<br>onion<br>umami cheese<br>pepper"
          ],
          [
           "potato<br>salty salt<br>rosemary<br>oil<br>oil"
          ],
          [
           "umami chicken<br>sweet carrot<br>pasta<br>umami chicken<br>umami broth<br>onion<br>parsley<br>milk<br>salty salt"
          ],
          [
           "umami pork<br>onion<br>cabbage<br>potato<br>sweet banana<br>pepper<br>salty salt<br>oil"
          ],
          [
           "umami chicken<br>umami pork<br>milk<br>egg<br>pasta<br>salty butter<br>onion<br>celery<br>potato<br>sweet carrot<br>umami chicken<br>umami broth<br>thyme<br>salty salt"
          ],
          [
           "bell pepper<br>flour<br>bread<br>umami tomato<br>egg<br>oregano<br>umami cheese<br>umami cheese<br>umami cheese<br>salty salt<br>pepper<br>oil<br>oil"
          ],
          [
           "umami pork<br>buttermilk<br>flour<br>bread<br>egg<br>salty salt<br>pepper<br>garlic<br>salty salt<br>oil"
          ],
          [
           "egg<br>mayonnaise<br>celery<br>mustard<br>onion<br>dill<br>sweet sugar<br>salty salt"
          ],
          [
           "bread<br>umami cheese<br>lettuce<br>umami beef<br>sweet honey<br>mustard<br>mayonnaise"
          ],
          [
           "potato<br>umami chicken<br>sweet pea<br>onion<br>sour pickle<br>mayonnaise<br>garlic<br>egg<br>flour<br>oil"
          ],
          [
           "egg<br>sweet corn<br>umami chicken<br>umami broth<br>onion<br>egg<br>flour<br>salty salt"
          ],
          [
           "umami pork<br>bread<br>egg<br>umami cheese<br>mayonnaise<br>oil"
          ],
          [
           "umami fish<br>salty salt<br>pepper<br>flour<br>flour<br>oil"
          ],
          [
           "umami beef<br>umami pork<br>bread<br>egg<br>milk<br>onion<br>mustard<br>sweet sugar<br>sour ketchup<br>umami soy sauce<br>pepper<br>salty salt<br>oil"
          ],
          [
           "umami fish<br>sweet squash<br>onion<br>egg<br>salty salt<br>pepper<br>oil"
          ],
          [
           "umami fish<br>sweet honey<br>sour vinegar<br>mustard<br>pepper<br>salty salt<br>salty butter"
          ],
          [
           "umami fish<br>salty salt<br>oil<br>flour<br>pepper<br>sour lemon"
          ],
          [
           "umami pork<br>umami mushroom<br>umami beef<br>flour<br>salty salt<br>pepper"
          ],
          [
           "bread<br>egg<br>umami pork<br>salty butter"
          ],
          [
           "umami pork<br>sweet sugar<br>barbecue<br>vegetable<br>salty butter<br>salty salt"
          ],
          [
           "mayonnaise<br>onion<br>sour lemon<br>sour pickle<br>salty salt<br>pepper"
          ],
          [
           "umami pork<br>egg<br>flour<br>bread<br>oil<br>salty salt"
          ],
          [
           "umami fish<br>umami soy sauce<br>salty salt<br>flour"
          ],
          [
           "umami tofu<br>oil<br>umami mushroom<br>salty butter<br>flour<br>vegetable<br>umami broth<br>salty salt"
          ],
          [
           "pasta<br>umami tomato<br>umami chicken<br>umami chicken<br>sweet sugar<br>onion<br>umami chicken<br>umami cheese<br>umami tomato<br>oil<br>salty salt"
          ],
          [
           "umami beef<br>sweet carrot<br>flour<br>potato<br>celery<br>onion<br>alcohol<br>salty salt<br>pepper<br>oil"
          ],
          [
           "bread<br>salty butter<br>umami cheese<br>parsley"
          ],
          [
           "salty butter<br>flour<br>milk<br>umami cheese<br>umami soy sauce<br>umami pork<br>onion"
          ],
          [
           "umami pork<br>sweet carrot<br>onion<br>spice<br>salty salt<br>pepper<br>flour<br>umami tofu<br>oil"
          ],
          [
           "sour lemon<br>umami soy sauce<br>sweet sugar<br>onion<br>flour<br>oil<br>sesame<br>oil<br>salty salt"
          ],
          [
           "umami fish<br>flour<br>sweet corn<br>egg<br>umami tomato<br>onion<br>onion<br>umami fish sauce<br>salty salt<br>pepper<br>oil"
          ],
          [
           "umami shrimp<br>egg<br>bread<br>flour<br>salty salt<br>pepper<br>oil<br>sauce"
          ],
          [
           "mayonnaise<br>umami cheese<br>sweet sugar<br>salty salt"
          ],
          [
           "umami chicken<br>flour<br>egg<br>salty salt<br>pepper<br>oil<br>salty butter<br>sour lemon<br>egg<br>cream<br>salty salt"
          ],
          [
           "umami clam<br>sweet carrot<br>peas<br>cabbage<br>bell pepper<br>cauliflower<br>egg<br>vegetable<br>flour<br>garlic<br>onion<br>oil<br>salty salt"
          ],
          [
           "egg<br>bell pepper<br>bell pepper<br>umami mushroom<br>salty butter<br>salty salt"
          ],
          [
           "umami fish<br>umami soy sauce<br>sweet sugar<br>salty salt<br>umami soy sauce<br>flour<br>oil"
          ],
          [
           "pasta<br>umami beef<br>umami tomato<br>onion<br>garlic<br>salty butter<br>flour<br>milk<br>umami cheese<br>umami cheese<br>oil<br>salty salt"
          ],
          [
           "gourd<br>onion<br>umami tomato<br>sour vinegar<br>pepper<br>sweet sugar<br>salty salt<br>salty salt"
          ],
          [
           "rice<br>broccoli<br>bell pepper<br>bell pepper<br>sweet carrot<br>oil<br>salty salt"
          ],
          [
           "umami fish<br>umami cheese<br>egg<br>salty salt<br>oil"
          ],
          [
           "umami chicken<br>flour<br>lettuce<br>celery<br>mayonnaise<br>sour lemon<br>salty salt"
          ],
          [
           "umami pork<br>bread<br>egg<br>flour<br>cabbage<br>oil<br>salty salt"
          ],
          [
           "umami clam<br>salty butter<br>oil<br>salty salt"
          ],
          [
           "umami chicken<br>pasta<br>sweet carrot<br>celery<br>onion<br>umami chicken<br>salty salt<br>pepper"
          ],
          [
           "umami chicken<br>sweet apple<br>mayonnaise<br>sour lemon<br>salty salt"
          ],
          [
           "spinach<br>garlic<br>salty butter<br>cream<br>salty salt<br>nut<br>pepper"
          ],
          [
           "umami chicken<br>onion<br>sweet carrot<br>parsley<br>garlic<br>oil<br>salty salt<br>pepper<br>egg<br>wrapper<br>oil"
          ],
          [
           "umami fish<br>umami soy sauce<br>egg<br>salty salt<br>bread<br>sweet carrot<br>onion"
          ],
          [
           "umami chicken<br>celery<br>sweet carrot<br>onion<br>egg<br>pasta<br>umami chicken<br>salty salt"
          ],
          [
           "umami chicken<br>umami cheese<br>egg<br>bread<br>mayonnaise"
          ],
          [
           "umami chicken<br>salty butter<br>thyme<br>salty salt<br>alcohol<br>ice<br>sweet apple<br>star anise<br>sweet apple<br>sweet sugar"
          ],
          [
           "umami chicken<br>flour<br>umami chicken<br>umami broth<br>salty butter<br>pepper<br>salty salt"
          ],
          [
           "umami clam<br>flour<br>flour<br>egg<br>garlic<br>pepper<br>salty salt<br>oil"
          ],
          [
           "egg<br>flour<br>milk<br>egg<br>umami cheese<br>mayonnaise<br>sour ketchup<br>oil"
          ],
          [
           "umami beef<br>bread<br>milk<br>egg<br>parsley<br>garlic<br>salty salt<br>pepper<br>vegetable<br>flour<br>umami beef<br>umami chicken<br>umami broth<br>salty butter"
          ],
          [
           "rice<br>annatto<br>salty butter<br>garlic<br>onion<br>salty salt"
          ],
          [
           "umami fish<br>mayonnaise<br>umami cheese<br>onion<br>celery<br>sweet sugar<br>sour pickle<br>umami beef<br>bread<br>salty salt"
          ],
          [
           "potato<br>salty butter<br>oil<br>umami cheese<br>garlic<br>salty salt<br>sour lemon<br>pepper"
          ],
          [
           "mayonnaise<br>umami cheese<br>umami cheese<br>onion<br>garlic<br>celery<br>sweet sugar<br>salty salt"
          ],
          [
           "bell pepper<br>bell pepper<br>onion<br>sweet pineapple<br>sweet carrot<br>sour ketchup<br>sweet sugar<br>sour vinegar<br>oil<br>flour<br>salty salt"
          ],
          [
           "umami chicken<br>bean<br>cauliflower<br>sweet carrot<br>sweet squash<br>bean<br>garlic<br>salty salt<br>oil"
          ],
          [
           "onion<br>bell pepper<br>bell pepper<br>umami mushroom<br>sweet squash<br>oil<br>garlic<br>salty salt"
          ],
          [
           "broccoli<br>sweet squash<br>bell pepper<br>bean<br>onion<br>vegetable<br>umami broth<br>salty salt"
          ],
          [
           "sausage<br>onion<br>alcohol<br>salty butter<br>garlic<br>salty salt<br>pepper<br>chili<br>sausage<br>bread"
          ],
          [
           "umami shrimp<br>egg<br>bread<br>flour<br>garlic<br>pepper<br>salty salt<br>paprika<br>oil"
          ],
          [
           "pasta<br>umami chicken<br>salty butter<br>cream<br>umami cheese<br>alcohol<br>broccoli<br>salty salt<br>garlic<br>pepper<br>oil"
          ],
          [
           "bean<br>cream<br>umami mushroom<br>onion<br>cream<br>milk<br>pepper<br>salty salt"
          ],
          [
           "umami pork<br>onion<br>garlic<br>flour<br>umami beef<br>umami broth<br>cream<br>garlic<br>salty salt<br>salty butter<br>oil"
          ],
          [
           "umami beef<br>broccoli<br>flour<br>umami clam<br>pepper<br>salty salt<br>oil"
          ],
          [
           "umami fish<br>bread<br>egg<br>mayonnaise<br>sour lemon<br>garlic<br>mustard<br>salty salt<br>pepper<br>oil<br>salty butter"
          ],
          [
           "pasta<br>broccoli<br>umami mushroom<br>sweet carrot<br>flour<br>milk<br>umami cheese<br>salty butter<br>umami cheese<br>umami cheese<br>nut<br>salty salt"
          ],
          [
           "umami pork<br>potato<br>celery<br>onion<br>umami chicken<br>umami broth<br>milk<br>flour<br>salty butter<br>salty salt<br>wrapper<br>onion"
          ],
          [
           "umami chicken<br>cream<br>alcohol<br>sweet pea<br>parsley<br>thyme<br>salty butter<br>umami chicken<br>umami broth<br>flour<br>salty salt<br>pepper"
          ],
          [
           "umami tofu<br>sweet carrot<br>peas<br>onion<br>umami mushroom<br>flour<br>oil<br>umami soy sauce<br>salty salt"
          ],
          [
           "umami pork<br>sweet pea<br>potato<br>umami beef<br>salty salt"
          ],
          [
           "egg<br>egg<br>umami pork<br>garlic<br>salty salt<br>pepper<br>sweet sugar<br>alcohol<br>umami soy sauce<br>flour<br>bread<br>oil"
          ],
          [
           "potato<br>umami tomato<br>ginger<br>onion<br>sweet sugar<br>sour vinegar<br>sweet sugar<br>salty salt<br>pepper"
          ],
          [
           "umami clam<br>pasta<br>alcohol<br>onion<br>parsley<br>umami cheese<br>salty butter<br>pepper<br>salty salt"
          ],
          [
           "eggplant<br>umami cheese<br>bread<br>umami cheese<br>umami tomato<br>parsley<br>egg<br>garlic<br>salty salt<br>pepper<br>oil"
          ],
          [
           "umami chicken<br>bread<br>pepper<br>milk<br>garlic<br>salty salt<br>flour<br>egg<br>paprika<br>oil"
          ],
          [
           "pasta<br>umami pork<br>umami pork<br>umami pork<br>salty salt<br>pepper<br>sweet sugar<br>onion<br>umami pork<br>wrapper<br>onion<br>garlic"
          ],
          [
           "onion<br>umami mushroom<br>onion<br>umami cheese<br>sweet pea<br>salty salt"
          ],
          [
           "cabbage<br>salty salt<br>pepper<br>sweet apple<br>sour vinegar"
          ],
          [
           "umami beef<br>egg<br>pasta<br>cream<br>umami mushroom<br>umami beef<br>umami broth<br>cream<br>salty butter<br>flour<br>garlic<br>salty salt<br>pepper<br>onion<br>umami mushroom"
          ],
          [
           "pasta<br>umami shrimp<br>onion<br>cream cheese<br>umami tomato<br>thyme<br>oil<br>salty salt"
          ],
          [
           "pasta<br>onion<br>bell pepper<br>bell pepper<br>umami mushroom<br>sweet squash<br>umami tomato<br>salty salt"
          ],
          [
           "umami chicken<br>bread<br>potato<br>onion<br>celery<br>sweet carrot<br>oregano<br>parsley<br>umami chicken<br>umami broth<br>flour<br>milk<br>salty butter<br>salty salt"
          ],
          [
           "umami crab<br>alcohol<br>flour<br>salty salt<br>pepper<br>oil"
          ],
          [
           "pasta<br>cream<br>umami crab<br>alcohol<br>onion<br>salty salt<br>onion<br>oil"
          ],
          [
           "umami fish<br>umami tomato<br>onion<br>sweet coconut<br>ginger<br>salty salt"
          ],
          [
           "pasta<br>egg<br>cream<br>umami pork<br>umami cheese<br>onion<br>salty butter"
          ],
          [
           "umami beef<br>sweet corn<br>cream<br>umami mushroom<br>garlic<br>umami mushroom<br>salty butter<br>salty salt<br>pepper"
          ],
          [
           "cream cheese<br>onion<br>wrapper<br>onion<br>sour lemon<br>oil<br>salty salt"
          ],
          [
           "sweet apple<br>sour vinegar<br>mayonnaise<br>sweet honey<br>cabbage<br>sweet carrot<br>onion<br>parsley<br>sweet apple<br>salty salt<br>pepper"
          ],
          [
           "potato<br>egg<br>flour<br>pepper<br>salty salt<br>paprika<br>garlic<br>onion<br>oil"
          ],
          [
           "umami pork<br>umami beef<br>umami broth<br>salty salt<br>pepper<br>garlic<br>vegetable<br>flour<br>salty butter<br>rice"
          ],
          [
           "pasta<br>umami chicken<br>milk<br>cream<br>umami cheese<br>umami cheese<br>egg<br>salty butter<br>thyme<br>salty salt"
          ],
          [
           "umami pork<br>salty salt<br>pepper<br>flour<br>egg<br>bread<br>cabbage<br>oil<br>sour ketchup<br>umami soy sauce<br>alcohol<br>ginger<br>sweet sugar<br>sweet sugar<br>alcohol"
          ],
          [
           "flour<br>sweet avocado<br>cucumber<br>sweet carrot<br>lettuce<br>umami shrimp<br>umami crab"
          ],
          [
           "umami chicken<br>oil<br>buttermilk<br>paprika<br>onion<br>garlic<br>salty salt<br>pepper<br>flour<br>salty salt<br>onion<br>paprika"
          ],
          [
           "pasta<br>salty salt<br>umami fish<br>pepper<br>salty salt<br>oil<br>umami cheese<br>basil<br>cream<br>salty butter<br>salty butter"
          ],
          [
           "umami squid<br>flour<br>egg<br>bread<br>salty salt<br>pepper<br>oil"
          ],
          [
           "umami chicken<br>ginger<br>lemongrass<br>sour vinegar<br>sour lemon<br>salty salt<br>sweet sugar<br>sour lemon<br>soda<br>pepper<br>sauce<br>annatto<br>salty butter<br>salty salt<br>sour lemon"
          ],
          [
           "umami pork<br>bread<br>salty salt<br>pepper<br>egg<br>onion<br>sweet pineapple<br>sour vinegar<br>bell pepper<br>onion<br>sour ketchup<br>sweet sugar<br>sweet carrot<br>flour<br>oil"
          ],
          [
           "umami pork<br>salty salt<br>bread<br>flour<br>salty salt<br>egg<br>pepper<br>umami beef<br>umami broth<br>oil"
          ],
          [
           "umami shrimp<br>sweet pea<br>umami chicken<br>umami broth<br>egg<br>turnip<br>sweet carrot<br>onion<br>nut<br>flour<br>salty salt<br>pepper"
          ],
          [
           "umami shrimp<br>flour<br>bean<br>salty salt<br>pepper<br>egg<br>baking<br>oil"
          ],
          [
           "umami chicken<br>bread<br>flour<br>egg<br>oil<br>umami cheese<br>umami cheese<br>parsley<br>oil<br>onion<br>sweet carrot<br>umami tomato<br>salty salt"
          ],
          [
           "umami pork<br>egg<br>onion<br>umami tomato<br>bell pepper<br>bell pepper<br>sweet pea<br>salty salt<br>pepper<br>oil"
          ],
          [
           "umami pork<br>potato<br>sweet carrot<br>umami tomato<br>onion<br>sweet sugar<br>egg<br>salty salt<br>oil"
          ],
          [
           "umami pork<br>sweet carrot<br>oil<br>onion<br>egg<br>salty salt<br>pepper<br>wrapper<br>onion<br>umami crab<br>oil"
          ],
          [
           "salty butter<br>onion<br>pepper<br>flour<br>milk<br>umami cheese<br>broccoli"
          ],
          [
           "salty butter<br>potato<br>onion<br>onion<br>onion<br>umami chicken<br>umami broth<br>cream<br>milk<br>salty salt"
          ],
          [
           "umami pork<br>bread<br>sweet apple<br>sour vinegar<br>sweet sugar<br>onion<br>umami pork<br>salty salt"
          ],
          [
           "cucumber<br>salty salt<br>pepper<br>onion<br>sweet sugar<br>ginger<br>sweet apple<br>sour vinegar"
          ],
          [
           "salty butter<br>egg<br>spinach<br>onion<br>salty salt<br>milk<br>umami cheese<br>umami pork<br>pepper"
          ],
          [
           "eggplant<br>egg<br>eggplant<br>salty salt<br>oil<br>umami beef<br>umami tomato<br>onion<br>garlic"
          ],
          [
           "sour lemon<br>flour<br>salty salt<br>egg<br>milk<br>oil"
          ],
          [
           "umami shrimp<br>mayonnaise<br>cream<br>sour lemon<br>sweet sugar<br>onion<br>salty salt"
          ],
          [
           "pasta<br>milk<br>cream<br>umami cheese<br>umami cheese<br>egg<br>umami pork<br>salty salt"
          ],
          [
           "umami beef<br>oil<br>salty salt<br>pepper<br>alcohol<br>umami beef<br>flour"
          ],
          [
           "umami chicken<br>bread<br>umami pork<br>umami cheese<br>egg<br>salty butter<br>salty salt<br>paprika"
          ],
          [
           "sweet avocado<br>sesame<br>cucumber<br>umami crab<br>rice<br>sour vinegar<br>sweet sugar<br>salty salt"
          ],
          [
           "umami pork<br>egg<br>milk<br>bread<br>oil<br>salty salt"
          ],
          [
           "sweet papaya<br>sweet carrot<br>onion<br>pepper<br>bell pepper<br>ginger<br>salty salt<br>salty salt<br>sour vinegar<br>sweet sugar<br>sweet raisin"
          ],
          [
           "umami crab<br>onion<br>egg<br>salty butter<br>onion<br>salty salt"
          ],
          [
           "umami chicken<br>milk<br>pepper<br>salty salt<br>egg<br>oil<br>salty butter<br>umami chicken<br>umami broth"
          ],
          [
           "pasta<br>umami chicken<br>sweet pineapple<br>onion<br>sweet raisin<br>egg<br>mayonnaise<br>umami cheese<br>salty salt"
          ],
          [
           "umami chicken<br>sweet sugar<br>flour<br>egg<br>salty salt<br>oil<br>sweet orange<br>flour<br>sour vinegar<br>umami soy sauce<br>onion"
          ],
          [
           "umami pork<br>sausage<br>egg<br>sour pickle<br>umami tomato<br>egg<br>umami cheese<br>bell pepper<br>bell pepper<br>sweet raisin<br>sweet carrot<br>onion<br>salty salt<br>bread"
          ],
          [
           "umami pork<br>salty salt<br>salty salt<br>sweet sugar<br>alcohol<br>sweet pineapple<br>garlic<br>garlic"
          ],
          [
           "sweet banana<br>chili<br>sour vinegar<br>sweet sugar<br>sweet chocolate<br>cinnamon<br>paprika<br>sour ketchup<br>onion<br>bell pepper<br>salty salt<br>garlic"
          ]
         ],
         "hovertemplate": "<b>%{hovertext}</b><br><br>cluster=0<br>x=%{x}<br>y=%{y}<br>final_ingredients=%{customdata[0]}<extra></extra>",
         "hovertext": [
          "Burger Steak",
          "Rellenong Alimango",
          "Chicken Corn Soup",
          "Banana Heart Burger",
          "Camaron Rebosado",
          "Lechon Sauce",
          "Tortang Tahong",
          "Cardillong Isda",
          "Garlic Butter Fried Frog Legs",
          "Corned Beef Pandesal",
          "Kabocha Salad",
          "Salted Eggs Shrimp",
          "Chop Suey with Tofu and Shitake Mushrooms",
          "Mango Bread Loaf",
          "Tortang Dulong",
          "Coconut Rice",
          "Shrimp Broccoli Stir Fry",
          "Instant Pot Filipino-style Spaghetti",
          "Filipino Scrambled Eggs",
          "Sweet and Sour Sauce Fish",
          "Corned Beef Hash Breakfast Pizza",
          "Baked Cheese Shrimp",
          "Coconut Shrimp",
          "Crispy Tuna Shanghai",
          "Crispy Tuna Pies",
          "Sweet and Sour Pork",
          "Corned Beef Frittata",
          "Crab and Corn Soup",
          "Ginataang Gulay",
          "Arroz ala Cubana",
          "Homemade Holiday Ham",
          "Peppered Strawberry Jam",
          "Hawaiian Macaroni Salad",
          "Cocido-style Nilaga",
          "Sushi Bake",
          "Escabeche Lapu Lapu",
          "Sizzling Gambas",
          "Eggplant and Tomato Torta",
          "Pichi-Pichi",
          "Pininyahang Manok",
          "Tiniim na Manok",
          "Bulanglang na Hipon",
          "Homemade Kikiam",
          "Cheater's Siopao Bola-Bola",
          "Nilupak",
          "Chicken Salad",
          "Pickled Mangoes (Burong Mangga)",
          "Sweet and Sour Meatballs",
          "Filipino-style Macaroni Salad",
          "Asian Cucumber Tomato Avocado Salad",
          "Pineapple Coleslaw",
          "Sipo Egg with Shrimp and Ham",
          "Crispy Fried Calamari",
          "Poqui Poqui",
          "Pork Embutido",
          "Homemade Fish Balls with Spicy Fish Ball Sauce",
          "Filipino Tamales",
          "Chizza",
          "Chicken Potato Salad",
          "Filipino-style Pineapple Glazed Ham",
          "Pinais na Hipon",
          "Honey Bagoong Chicken Wings",
          "Sweet and Sour Sauce",
          "Atchara",
          "Kare-Kare",
          "Salt and Pepper Shrimp",
          "Sipo Egg",
          "Cheese Pineapple Sandwich Spread",
          "Crispy Pancit Canton Noodles Recipe",
          "Creamy Tofu with Mixed Vegetables",
          "Cheesy Lumpiang Shanghai",
          "Crispy Fried Chicken with Mushroom Gravy",
          "Crispy Tofu Fried Chicken with Chicken Gravy",
          "Filipino Spaghetti Recipe",
          "Easy Chicken Ala King",
          "Crispy Fried Chicken",
          "One Pot Spaghetti",
          "Chicken Afritada sa Gata",
          "Fried Chicken Potato Salad",
          "Creamy Macaroni Sopas",
          "Pinoy Breakfast Omelet and Bacon Garlic Fried Rice",
          "Pinoy Carbonara Recipe with Ham and Bacon",
          "Creamy Sipo Egg with Chicken Gizzard",
          "Cheese Pimiento Sandwich",
          "Nutritious Ulam Idea",
          "Tofu Vegetable Stir Fry",
          "Special Lunch Menu",
          "Butter Garlic Fried Chicken",
          "Ginataang Sitaw at Kalabasa with Fried Tilapia",
          "Loaded Nachos Recipe",
          "Filipino Chicken Pasta Alfredo",
          "Air Fryer Longganisa Frittata",
          "Pineapple Fried Rice",
          "Ham Katsu",
          "Hawaiian Pizza (No Bake)",
          "Corned Beef Saute",
          "Breakfast Burrito",
          "Cheesy Corned Beef Balls",
          "Tocino Fried Rice Recipe",
          "One Pan Sandwich",
          "Christmas Chicken Curry",
          "Ham and Chicken Macaroni Salad",
          "Fried Chicken with Mayo Garlic Glaze",
          "Seafood Boil",
          "Chicken Katsu Curry",
          "Filipino Style Escabeche",
          "Malapot na Pininyahang Manok",
          "Macaroni Salad",
          "Grilled Cheese Sandwich and Chicken Tenders",
          "How to Cook Steak",
          "Sushi Bake",
          "Pasta Carbonara Filipino Style",
          "Creamy Macaroni Salad Recipe",
          "How to Make Macaroni Salad for the Holidays",
          "Ginisang Ampalaya",
          "Tortilla Espanola",
          "Crispy Garlic Bangus and Cream of Pumpkin Soup",
          "Pancit Chami Tamis Anghang Recipe",
          "No Oven Baked Macaroni Recipe",
          "Father’s Day Chicken Macaroni Salad",
          "Siopao Asado Recipe",
          "Longsilog Recipe",
          "Halabos na Hipon with Butter",
          "Chicken Gravy",
          "Sweet and Sour Chicken Meatballs",
          "Burger Steak",
          "How to Cook Crispy Eggplant Fries",
          "Mutya ng Cavite",
          "Beef Stroganoff",
          "How to Make Authentic Carbonara",
          "Ginataang Alimasag with Sitaw at Kalabasa",
          "Pata Kare Kare Recipe",
          "Puto Pao",
          "Easy Beef Nachos",
          "Creamy Lengua with Corn",
          "Sweet and Sour Tilapia",
          "Tuna Pasta Alfredo",
          "Monte Cristo",
          "Pork Menudo sa Gata",
          "Corned Beef Lomi Batangas Style",
          "Chicken Potato Salad",
          "Tortang Noodles at Sardinas",
          "Sardines Fish Ball with Sweet and Sour Sauce",
          "Talong at Tuna Torta",
          "Chicken Lollipop Recipe",
          "Creamy Garlic Parmesan Chicken with Mushrooms",
          "Garlic Butter Shrimp Recipe",
          "Pork Burger Steak with Mushroom Gravy",
          "Corned Beef Omelet",
          "Chicken Mami Recipe",
          "Ham and Egg Fried Rice with Sweet Peas",
          "Beef Stroganoff",
          "Chicken and Pork Embutido",
          "No Bake Filipino Style Lasagna",
          "Pinoy Style Baked Macaroni with White Sauce",
          "Chicken and Egg Macaroni Salad",
          "Steamed Fish with Mayonnaise",
          "7Up Fried Chicken",
          "Meaty Spaghetti Recipe",
          "Longanisa Fried Rice and Ginisang Corned Beef with Kalabasa",
          "Homemade Kalabasa and Corned Beef Nuggets",
          "Ukoy Dulong Recipe",
          "Eggplant Meatballs Talong Bola Bola Recipe",
          "Sweet and Sour Pork Recipe",
          "Chicken Pasta with Creamy Basil Sauce",
          "Pork Lomi",
          "Super Tasty Chop Suey",
          "Baked Chicken Nuggets",
          "Tapsilog",
          "Creamy Chicken Sopas",
          "Sipo Eggs Recipe",
          "Homemade Pork Tocino",
          "Longevity Noodles with Chicken and Mushroom",
          "Filipino Omelet",
          "Deep Fried Siomai",
          "Beef with Broccoli",
          "Potato Salad with Carrots and Pineapple",
          "Chicken Pastel Recipe",
          "Kare Kare",
          "Embutido Recipe",
          "Carbonara Recipe Filipino Style",
          "Kare Kare Recipe",
          "Filipino Sweet Macaroni Salad",
          "Mongolian Beef Recipe",
          "Bacon and Egg Macaroni Salad with Green Peas",
          "Chicken ala King Recipe",
          "Corned Beef Baked Macaroni",
          "Ketogenic Bacon and Egg Salad",
          "Breakfast T-Bone Steak with Fried Eggs",
          "Shrimp with Butter and Taba ng Talangka Recipe",
          "Classic Macaroni Salad Recipe",
          "Chicken Cordon Bleu with Dijon Cream Sauce",
          "Chicken Inasal BBQ Recipe",
          "Pinoy Style Chicken Macaroni Salad",
          "No Bake Lasagna",
          "Chicken Mami",
          "Deep Fried Bulalo with Restaurant Style Teriyaki Sauce",
          "Home Fries Recipe",
          "Golden Chicken Rice Balls with Crab and Corn Soup",
          "Pork Siomai and Nido Oriental Style Soup",
          "Picadillo Recipe",
          "Spinach Tomato and Cheese Omelette",
          "Broiled Lobster Tail with Lemon Butter Sauce",
          "Manila Clam and Mussel Tinola Recipe",
          "Christmas Chicken and Ham Macaroni Salad",
          "Homemade Cured Ham with Brown Sugar Honey Glaze",
          "Oxtail Kare-Kare Recipe",
          "Pinoy Spaghetti Recipe",
          "Tonkatsu Sinangag at Itlog",
          "Buffalo Pork Ribs Recipe",
          "Super Tender Juicy Chicken Nuggets",
          "Cheesy Crab and Corn Nachos",
          "Kilawing Tuna with Coconut Cream (Fish Ceviche)",
          "Beef Short Rib Kare Kare",
          "Ham and Hotdog Omelet with Cheese",
          "Sweet and Sour Red Snapper",
          "Sausage Peppers and Onion Skillet",
          "Crispy Fried Smelt",
          "Lobster Pasta in Creamy Alfredo Sauce Recipe",
          "Basic Tortang Talong",
          "Chicken Lomi Recipe",
          "Pork Pochero Recipe",
          "Binakol na Manok Recipe",
          "Chicken Macaroni Soup",
          "Mung Bean Sprouts with Shrimp",
          "Special Chicken Embutido Recipe (Filipino Chicken Meatloaf)",
          "Pinoy Style Carbonara",
          "Champorado with Tuyo (Chocolate Porridge with Salted Dried Fish)",
          "Cheesy Baked Macaroni",
          "Chicken Pastel in a Cup",
          "Corned Beef Fried Rice with Egg",
          "Tuna Salad Over Crackers",
          "Pork Embutido",
          "Bok Choy with Garlic and Oyster Sauce",
          "Chicken Potato Salad",
          "Fiesta Menudo",
          "Lechon Manok Sauce Recipe",
          "Nilasing na Tilapia Recipe",
          "Oven Baked Pork Chop Silog with Atchara",
          "Deep Fried Breaded Pork Chops",
          "Seaweed Salad Recipe (Ensaladang Lato)",
          "Tinapa Fried Rice (Smoked Fish Fried Rice)",
          "Scrambled Eggs with Tomato, Onion, and Spinach",
          "Fried Daing na Bangus with Garlic Fried Rice, Fried Egg, and Pickled Papaya (Daing Silog)",
          "Pork Giniling Hardinera Recipe",
          "How to Cook Lumpia",
          "Sinabawang Isda at Gulay",
          "How to Cook Papaya Atchara",
          "Tortang Talong with Crabmeat (Eggplant Omelet with Crab)",
          "Shrimp Avocado Salad Recipe",
          "Shrimp Alfredo Pasta with Scallops",
          "How to Make Meatloaf",
          "Steamed Lobster with Lemon Butter Sauce",
          "Tuna Sandwich Spread",
          "Loaded Breakfast Potato",
          "Pork Giniling Croquette",
          "Ginisang Ampalaya with Shrimp (Sauteed Bitter Gourd)",
          "Simple Recipe for Chicken Noodle Soup",
          "Hashbrown Casserole",
          "Easy Sweet and Sour Sauce",
          "Egg Sandwich Spread Recipe",
          "Tuna Alfredo Casserole",
          "Stuffed Eggplant",
          "Sweet Pepper Relyeno Recipe",
          "Ensaladang Filipino Recipe",
          "Crispy Tilapia Sticks Recipe",
          "Shrimp Fried Rice Recipe",
          "How to Make a Hamburger",
          "Mahi-Mahi Paksiw Recipe",
          "Salisbury Steak with Beef and Mushroom Gravy",
          "Pork Tapa with Fried Banana and Salted Egg",
          "Scrambled Eggs with Sun Dried Tomato and Bacon",
          "Orange Glazed Pork",
          "Homemade Ranch Dressing Recipe",
          "Party Fried Chicken",
          "Chicken Dynamite Lumpia Recipe",
          "Chicken Embutido",
          "Pork Giniling with Quail Eggs",
          "Easy Macaroni Salad",
          "Kare Kare Tripas",
          "Pinaupong Manok sa Asin",
          "Spinach Lasagne",
          "Kalderetang Kambing (Goat Stew)",
          "Pork Kilawin",
          "Pinoy Scrambled Eggs",
          "Egg Drop Soup",
          "Fried Rice",
          "Chicken Wings Inasal Recipe",
          "Halabos na Hipon Recipe",
          "Filipino Chicken Macaroni Sopas",
          "Orange Chicken Recipe",
          "How to Make Lasagna",
          "Italian Sausage Pasta Recipe",
          "Broccoli Bacon Salad Recipe",
          "Inun unan Recipe (Fish cooked in Vinegar)",
          "Sausage and Egg Casserole with Hash Browns Recipe",
          "Easy Chicken Caesar Salad Recipe",
          "Saffron Rice Recipe",
          "Bacon and Cheese Breakfast Casserole Recipe",
          "Baked Chicken Parmesan Recipe",
          "Baked Swai Fillet Recipe",
          "Sinigang na Isda sa Kamias (Fish Sinigang)",
          "Grilled Lobster Tails Recipe",
          "Instant Pancit Canton with Vegetables",
          "Ahi Tuna Sandwich with Wasabi Mayonnaise",
          "Garlic Mashed Potato",
          "Easy Tuna Kilawin Recipe",
          "Tasty Pork Afritada Recipe",
          "Crusted Pork Chop with Adobo Rice Recipe",
          "Pork Burger Patties",
          "Easy Turkey Embutido Recipe",
          "Chicken Egg Fried Rice Recipe",
          "Crab and Pork Shumai Recipe",
          "Brined Roast Beef",
          "Spaghetti with Meatballs",
          "Eggplant and Ground Chicken Omelet",
          "Linguine Pasta with Clams",
          "Breakfast Reuben Sandwich",
          "Easy Chicken Parm",
          "Easy Meatballs Recipe",
          "Chicken Pita",
          "Reuben Sandwich",
          "Tuna Melt Sandwich",
          "Sour Cream Noodle Bake",
          "Delicious Oven Baked Potatoes",
          "Friday Chicken Noodle Soup",
          "Nilagang Baboy (Boiled Pork Soup)",
          "Chicken and Ham Sopas Recipe",
          "Eggplant Parmigiana",
          "Deep Fried Seasoned Pork Chop",
          "Easy Egg Salad Recipe",
          "Easy Roast Beef Sandwich",
          "Fried Chicken Potato Salad",
          "Corn Soup with Quail Eggs",
          "Spam and Egg Sandwich",
          "Fried Grouper Steak",
          "Easy Meatloaf Recipe",
          "Tuna and Zucchini Omelet",
          "Honey and Balsamic Glazed Mahi-mahi",
          "Fried Pompano",
          "Slow Cook Pork Chop with Mushroom Gravy",
          "Grilled Cheese Ham and Egg Sandwich",
          "Barbecue Pork Chop with Mixed Veggies",
          "Tartar Sauce Recipe",
          "Oven Baked Crusted Pork Loin",
          "Teriyaki Salmon Recipe",
          "Tofu with Mushroom Gravy",
          "Sweet Chicken Spaghetti",
          "Slow Cooker Beef Stew",
          "Garlic Bread",
          "Cheese Fries",
          "Kikiam Recipe",
          "Teriyaki Bistek Recipe",
          "Fish Kardilyo Recipe",
          "Breaded Shrimp with Sweet and Sour Sauce",
          "Cheese Pimiento Sandwich Spread",
          "Fried Chicken Breast with Creamy Lemon Sauce Dip",
          "Scallop Chop Suey Recipe",
          "Vegetable Omelet Recipe",
          "Breaded Fried Salmon Recipe",
          "Baked Spaghetti Recipe",
          "Ampalaya Salad Recipe",
          "Vegetable Fried Rice Recipe",
          "Tuna Frittata Recipe",
          "Chicken Salad Wrap",
          "Tonkatsu Recipe",
          "Easy Seared Scallops",
          "Chicken Soup Recipe",
          "Chicken Salad with Apples and Grapes",
          "Creamed Spinach Recipe",
          "Chicken Spring Roll Recipe",
          "Salmon Patty Recipe",
          "Turkey Noodle Soup Recipe",
          "Turkey, Egg, and Cheese Breakfast Sandwich",
          "Star Anise and Cider Brined Roast Turkey",
          "Quick and Easy Turkey Gravy Recipe",
          "Deep Fried Mussels",
          "Egg and Cheese English Muffin Sandwich",
          "Easy Meatball with Mixed Vegetables Recipe",
          "Java Rice Recipe",
          "Tuna Salad Sandwich Recipe",
          "Roasted Garlic Parmesan Red Potato",
          "Tuna Salad Recipe",
          "Easy Sweet and Sour Ikea Meatbal",
          "Baked Chicken and Vegetable Stir Fry",
          "Easy Grilled Vegetables",
          "Healthy Vegetable Soup",
          "Beer Brats Recipe",
          "Breaded Butterfly Shrimp Recipe",
          "Chicken Pasta Alfredo Recipe",
          "Green Bean Casserole Recipe",
          "Smothered Pork Chop Recipe",
          "Beef Stir Fry with Chopped Broccoli",
          "Dulong Fishcake",
          "Creamy Veggie Lasagna",
          "Ham and Potato Soup Recipe",
          "Chicken a la King Recipe",
          "Stir Fry Tofu with Vegetables",
          "KBL (Kadyos, Baboy, at Langka) Recipe",
          "Scotch Eggs Recipe",
          "Sweet Potato Leaves Salad Recipe",
          "Linguine with Mussels Recipe",
          "Eggplant Parmesan Recipe",
          "Garlic Fried Chicken",
          "Batchoy Recipe",
          "Tuna Casserole Recipe",
          "How to Make Kale Chips",
          "Beef Stroganoff Recipe",
          "Shrimp Pasta in Tomato Cream Cheese Sauce Recipe",
          "Vegetable Stir-fry Pasta Recipe",
          "Turkey Pot Pie",
          "Crispy Crablets Recipe",
          "Aligue Pasta",
          "Genesee's Grilled Boneless Bangus in Pandan Leaves",
          "Spaghetti Carbonara Recipe",
          "Sizzling Bulalo Recipe",
          "Antonio's Tuna Cream Cheese and Onion Spread",
          "Apple Coleslaw Recipe",
          "Crispy Potato Wedges Recipe",
          "Sizzling Pork Chop Recipe",
          "Rotini Chicken Alfredo Recipe",
          "Pork Loin Tonkatsu Recipe",
          "Sushi Summer Roll Recipe",
          "Easy Buttermilk Fried Chicken",
          "Creamy Tuyo Pesto",
          "Calamares Recipe",
          "Chicken Inasal Recipe",
          "Sweet and Sour Meatball Recipe",
          "Country Fried Breaded Pork Chop Recipe",
          "Shrimp with Quail Eggs and Green Peas",
          "Ukoy Recipe (Shrimp Fritter)",
          "Chicken Parmesan Recipe",
          "Tortang Giniling Recipe",
          "Pork Giniling Recipe",
          "Pinsec Frito Recipe - Deep Fried Wonton",
          "Cheesy Broccoli Soup Recipe",
          "Potato and Leek Soup Recipe",
          "Lechon Sauce Recipe",
          "Cucumber Salad",
          "Ham and Spinach Omelet Recipe",
          "Shared Recipe: Tortang Talong with Giniling",
          "Camaron Rebosado Recipe",
          "Marinated Shrimp with Lemon Dill Sauce",
          "Fettuccine Alfredo Recipe",
          "Roast Beef",
          "Chicken Cordon Bleu",
          "California Roll",
          "Breaded Pork Loin",
          "Atchara (Papaya)",
          "Crab Meat Omelette",
          "Fried Chicken with White Gravy Recipe",
          "Recipe for Chicken Macaroni Salad",
          "Orange Chicken Recipe",
          "Embutido",
          "Homemade Pork Tocino",
          "Banana Ketchup Recipe"
         ],
         "legendgroup": "0",
         "marker": {
          "color": "rgb(57, 105, 172)",
          "size": 5,
          "symbol": "circle"
         },
         "mode": "markers",
         "name": "0",
         "showlegend": true,
         "type": "scattergl",
         "x": [
          0.8976741433143616,
          0.9010202288627625,
          0.9189090132713318,
          0.9092346429824829,
          0.7746357917785645,
          0.907633364200592,
          0.8991721272468567,
          0.9300503134727478,
          0.8610212802886963,
          0.8847586512565613,
          0.8291566967964172,
          0.929435133934021,
          0.8835537433624268,
          0.7882265448570251,
          0.9216757416725159,
          0.8172109127044678,
          0.8718131184577942,
          0.868511974811554,
          0.8744107484817505,
          0.949997067451477,
          0.8935887217521667,
          0.8419938087463379,
          0.8665916919708252,
          0.8087811470031738,
          0.8628562688827515,
          0.9168774485588074,
          0.9352148771286011,
          0.9067184925079346,
          0.9244406819343567,
          0.9433991312980652,
          0.7839472889900208,
          0.8139224052429199,
          0.8735172748565674,
          0.8942732214927673,
          0.8979254961013794,
          0.9171885848045349,
          0.8433059453964233,
          0.8929228186607361,
          0.7805536985397339,
          0.9217531085014343,
          0.935294508934021,
          0.8959959745407104,
          0.9241918325424194,
          0.9008281230926514,
          0.7792017459869385,
          0.8895562291145325,
          0.8218728303909302,
          0.9080840945243835,
          0.9111078977584839,
          0.8496489524841309,
          0.8561264872550964,
          0.9274429082870483,
          0.8440862894058228,
          0.8929228186607361,
          0.9176061153411865,
          0.9183608889579773,
          0.9010123610496521,
          0.9127917885780334,
          0.9253041744232178,
          0.8235278725624084,
          0.9199694395065308,
          0.8761436343193054,
          0.8493163585662842,
          0.8336025476455688,
          0.9157788157463074,
          0.8982106447219849,
          0.908538818359375,
          0.8783845901489258,
          0.8919541835784912,
          0.9124966859817505,
          0.8184350728988647,
          0.8297626972198486,
          0.847050666809082,
          0.8677422404289246,
          0.9201301336288452,
          0.8194773197174072,
          0.8849561214447021,
          0.9076750874519348,
          0.9260367155075073,
          0.8835787177085876,
          0.9243929386138916,
          0.862051248550415,
          0.9031147360801697,
          0.868073582649231,
          0.8928163051605225,
          0.935632050037384,
          0.891273021697998,
          0.8716893196105957,
          0.9188476800918579,
          0.8547466993331909,
          0.8286473751068115,
          0.8612889051437378,
          0.925984799861908,
          0.8944412469863892,
          0.9022853970527649,
          0.8622134923934937,
          0.8905372619628906,
          0.8694924712181091,
          0.9238897562026978,
          0.8517796993255615,
          0.9343557953834534,
          0.8942598104476929,
          0.871913492679596,
          0.9099164605140686,
          0.909522294998169,
          0.8808364272117615,
          0.9475488662719727,
          0.8939598798751831,
          0.8509482145309448,
          0.8581457138061523,
          0.8639243841171265,
          0.8190094232559204,
          0.9020305275917053,
          0.8148546814918518,
          0.8387811183929443,
          0.8226779699325562,
          0.8833790421485901,
          0.8982664346694946,
          0.9159070253372192,
          0.9014948010444641,
          0.8168990015983582,
          0.7980589866638184,
          0.78122478723526,
          0.8502820730209351,
          0.9313812851905823,
          0.8957741260528564,
          0.8829691410064697,
          0.9103857278823853,
          0.877841591835022,
          0.8592650294303894,
          0.9032770395278931,
          0.8372958898544312,
          0.8771746158599854,
          0.920213520526886,
          0.8844821453094482,
          0.9066019654273987,
          0.8401983380317688,
          0.8722198605537415,
          0.8899686336517334,
          0.8997973799705505,
          0.9103178977966309,
          0.899689793586731,
          0.89454585313797,
          0.8165225982666016,
          0.8623812198638916,
          0.8840782642364502,
          0.76596599817276,
          0.9061357975006104,
          0.9041346311569214,
          0.9100017547607422,
          0.8879688382148743,
          0.8688521981239319,
          0.9146844148635864,
          0.8732280135154724,
          0.8945612907409668,
          0.9194067716598511,
          0.8935980796813965,
          0.896862804889679,
          0.9033718109130859,
          0.9215906262397766,
          0.8855412006378174,
          0.8039020895957947,
          0.8982467651367188,
          0.9114816188812256,
          0.8633598685264587,
          0.8731387257575989,
          0.8851157426834106,
          0.8871384859085083,
          0.9485511779785156,
          0.9099886417388916,
          0.8928070664405823,
          0.8310174942016602,
          0.8995827436447144,
          0.9188116788864136,
          0.8769941926002502,
          0.8687583208084106,
          0.8741938471794128,
          0.9220710396766663,
          0.8657035231590271,
          0.8997162580490112,
          0.890305757522583,
          0.870833158493042,
          0.8221461772918701,
          0.8953575491905212,
          0.9081408977508545,
          0.899559736251831,
          0.8906747102737427,
          0.8709456920623779,
          0.784317135810852,
          0.8849838972091675,
          0.8542951345443726,
          0.8977669477462769,
          0.8681380748748779,
          0.9174725413322449,
          0.875588059425354,
          0.9022499322891235,
          0.9043064117431641,
          0.8553116321563721,
          0.8354698419570923,
          0.8991207480430603,
          0.8836061358451843,
          0.8666431903839111,
          0.8656613826751709,
          0.911737322807312,
          0.9117984175682068,
          0.8365473747253418,
          0.8780832290649414,
          0.8832809329032898,
          0.9132744669914246,
          0.8459491729736328,
          0.8383164405822754,
          0.897540807723999,
          0.8657221794128418,
          0.8520979881286621,
          0.8971691131591797,
          0.9214581251144409,
          0.8776602149009705,
          0.8117791414260864,
          0.8622083067893982,
          0.7742549180984497,
          0.9096558094024658,
          0.8930702209472656,
          0.8983882665634155,
          0.8466259837150574,
          0.8929280042648315,
          0.9094867706298828,
          0.8778320550918579,
          0.801578938961029,
          0.8929056525230408,
          0.8871088027954102,
          0.8935748338699341,
          0.8320395946502686,
          0.8997162580490112,
          0.9162369966506958,
          0.9103752374649048,
          0.9052389860153198,
          0.9171335697174072,
          0.8245750665664673,
          0.8854800462722778,
          0.8071841597557068,
          0.8686664700508118,
          0.9368228912353516,
          0.921828031539917,
          0.924918532371521,
          0.869025707244873,
          0.8611730933189392,
          0.8728296160697937,
          0.8458376526832581,
          0.8788211941719055,
          0.8721119165420532,
          0.8851306438446045,
          0.8908941745758057,
          0.8101978898048401,
          0.8738304972648621,
          0.9198020100593567,
          0.873935878276825,
          0.8315677642822266,
          0.8869754672050476,
          0.9028260111808777,
          0.853204071521759,
          0.8408710956573486,
          0.8137582540512085,
          0.8022922873497009,
          0.8866207599639893,
          0.8642048835754395,
          0.8963155746459961,
          0.888681173324585,
          0.8140159845352173,
          0.8899574279785156,
          0.8970260620117188,
          0.9181097745895386,
          0.927742600440979,
          0.9158386588096619,
          0.8411170244216919,
          0.8902957439422607,
          0.8090097904205322,
          0.9051341414451599,
          0.9367513656616211,
          0.8576487302780151,
          0.8203070759773254,
          0.8955462574958801,
          0.8789191246032715,
          0.908320426940918,
          0.8930891752243042,
          0.8856312036514282,
          0.8750301003456116,
          0.8879688382148743,
          0.8908673524856567,
          0.8292064070701599,
          0.8881068229675293,
          0.9287917613983154,
          0.8094721436500549,
          0.8364028334617615,
          0.9253424406051636,
          0.7902777194976807,
          0.8861668109893799,
          0.8859553337097168,
          0.7796832919120789,
          0.9022666215896606,
          0.9045404195785522,
          0.8114054799079895,
          0.8890845775604248,
          0.8753025531768799,
          0.8088575005531311,
          0.9023194313049316,
          0.8362860083580017,
          0.8269249796867371,
          0.9093174338340759,
          0.895729660987854,
          0.8927820920944214,
          0.9367959499359131,
          0.9154490232467651,
          0.9187108278274536,
          0.8499090075492859,
          0.8315834403038025,
          0.8882723450660706,
          0.8480871915817261,
          0.9057690501213074,
          0.8439137935638428,
          0.8665593862533569,
          0.8712434768676758,
          0.8516204357147217,
          0.8855025172233582,
          0.8881579637527466,
          0.7766988277435303,
          0.8842943906784058,
          0.9357284307479858,
          0.9097775220870972,
          0.9167253375053406,
          0.8686805963516235,
          0.8452280759811401,
          0.8461264967918396,
          0.8885269165039062,
          0.8932058811187744,
          0.8436908721923828,
          0.8117791414260864,
          0.9137992858886719,
          0.914259672164917,
          0.9080837965011597,
          0.8857440948486328,
          0.8743547201156616,
          0.7942019701004028,
          0.8469190001487732,
          0.8374125957489014,
          0.8447185754776001,
          0.8568038940429688,
          0.8795883655548096,
          0.8897425532341003,
          0.8884788751602173,
          0.8034988045692444,
          0.8800591230392456,
          0.9163364171981812,
          0.9132562875747681,
          0.9488401412963867,
          0.8737852573394775,
          0.8824208974838257,
          0.890717625617981,
          0.8672617077827454,
          0.8405049443244934,
          0.8799108862876892,
          0.8922961950302124,
          0.8557753562927246,
          0.8450435996055603,
          0.8829265832901001,
          0.8588241338729858,
          0.8564177751541138,
          0.778095543384552,
          0.8841244578361511,
          0.8977428674697876,
          0.811286211013794,
          0.8389074802398682,
          0.9402026534080505,
          0.8680095076560974,
          0.7982630729675293,
          0.8631463050842285,
          0.8875901699066162,
          0.8244696259498596,
          0.8098571300506592,
          0.9017598628997803,
          0.8174268007278442,
          0.9176332354545593,
          0.9187089800834656,
          0.9132626056671143,
          0.8805617690086365,
          0.9112166166305542,
          0.8813778162002563,
          0.847870945930481,
          0.8343749642372131,
          0.8820641040802002,
          0.9096246361732483,
          0.8497196435928345,
          0.8832802772521973,
          0.8949911594390869,
          0.8981719613075256,
          0.8184515833854675,
          0.8708495497703552,
          0.9171419143676758,
          0.9228017330169678,
          0.8527907729148865,
          0.896176815032959,
          0.8553211688995361,
          0.8784225583076477,
          0.9165679216384888,
          0.8851596117019653,
          0.8630627393722534,
          0.8495015501976013,
          0.819181501865387,
          0.8863356709480286,
          0.9185450077056885,
          0.8007400631904602,
          0.9086931943893433,
          0.8202687501907349,
          0.8760973215103149,
          0.9115824699401855,
          0.843287467956543,
          0.9188741445541382,
          0.7861350774765015,
          0.872352659702301,
          0.8420281410217285,
          0.9046111702919006,
          0.8650579452514648,
          0.8667758703231812,
          0.8195348381996155,
          0.8624439835548401,
          0.8978363275527954,
          0.8278087973594666,
          0.8878515958786011,
          0.9179021120071411,
          0.8991658687591553,
          0.9310389757156372,
          0.7973698377609253,
          0.9290778636932373,
          0.8762787580490112,
          0.9224503040313721,
          0.9162446856498718,
          0.8007912635803223,
          0.8844717741012573,
          0.8940542340278625,
          0.8448792099952698,
          0.9191678166389465,
          0.8958421945571899,
          0.793815016746521,
          0.8918317556381226,
          0.8425300717353821,
          0.8505458235740662,
          0.8960626721382141,
          0.8960539698600769,
          0.8755863308906555,
          0.8474572896957397,
          0.82464200258255,
          0.8986951112747192,
          0.8927273750305176,
          0.9287917613983154,
          0.871191680431366,
          0.8310174942016602,
          0.8630804419517517
         ],
         "xaxis": "x",
         "y": [
          0.09030651301145554,
          0.08683940023183823,
          0.04525741934776306,
          0.0984344333410263,
          0.17956653237342834,
          0.12404625862836838,
          0.06352617591619492,
          0.045669637620449066,
          0.2646212875843048,
          0.23776522278785706,
          0.29706284403800964,
          0.13356022536754608,
          0.13353294134140015,
          0.26976528763771057,
          0.04656565189361572,
          0.29091930389404297,
          0.09533356875181198,
          0.0899139791727066,
          0.1962604522705078,
          0.05573626607656479,
          0.08699750900268555,
          0.10357320308685303,
          0.2875707745552063,
          0.20260345935821533,
          0.19929280877113342,
          0.053690046072006226,
          0.07408669590950012,
          0.13603152334690094,
          0.043466031551361084,
          0.050067588686943054,
          0.2017759382724762,
          0.29974377155303955,
          0.26345688104629517,
          0.04371035471558571,
          0.07182210683822632,
          0.049815062433481216,
          0.11945982277393341,
          0.12211231887340546,
          0.285114586353302,
          0.07384306192398071,
          0.06339874863624573,
          0.055716197937726974,
          0.05311241000890732,
          0.1488403081893921,
          0.26410871744155884,
          0.1487736850976944,
          0.17319320142269135,
          0.19052448868751526,
          0.1111718937754631,
          0.08019495755434036,
          0.23331737518310547,
          0.04303846135735512,
          0.08232729136943817,
          0.12211231887340546,
          0.13333480060100555,
          0.055587925016880035,
          0.11055156588554382,
          0.1602933555841446,
          0.07779577374458313,
          0.14627425372600555,
          0.12011908739805222,
          0.1390909105539322,
          0.20162533223628998,
          0.21238914132118225,
          0.08113466203212738,
          0.06937579810619354,
          0.08725424110889435,
          0.15646976232528687,
          0.06319176405668259,
          0.09815245866775513,
          0.1562829166650772,
          0.2895101308822632,
          0.21077759563922882,
          0.16562548279762268,
          0.1494496464729309,
          0.22472122311592102,
          0.0744166150689125,
          0.07574209570884705,
          0.055817581713199615,
          0.15981003642082214,
          0.06705829501152039,
          0.17511504888534546,
          0.178791344165802,
          0.08808279037475586,
          0.26492828130722046,
          0.055326223373413086,
          0.11611397564411163,
          0.19332706928253174,
          0.10256655514240265,
          0.12297973036766052,
          0.12260466814041138,
          0.21425750851631165,
          0.08953848481178284,
          0.07946280390024185,
          0.17800363898277283,
          0.18758442997932434,
          0.18450549244880676,
          0.24141766130924225,
          0.06531430035829544,
          0.13236702978610992,
          0.07100605964660645,
          0.09287377446889877,
          0.20144537091255188,
          0.05041106417775154,
          0.16641679406166077,
          0.1724274456501007,
          0.04737668111920357,
          0.06132844090461731,
          0.2026294618844986,
          0.2069481611251831,
          0.12196768820285797,
          0.11582901328802109,
          0.04603539779782295,
          0.25448718667030334,
          0.06388351321220398,
          0.2076801061630249,
          0.19108057022094727,
          0.04286343231797218,
          0.0529002882540226,
          0.11060906946659088,
          0.1893366426229477,
          0.1552266627550125,
          0.12817388772964478,
          0.10711433738470078,
          0.09878864139318466,
          0.06752784550189972,
          0.13020287454128265,
          0.1074940413236618,
          0.17529511451721191,
          0.11191833764314651,
          0.07077032327651978,
          0.10986968129873276,
          0.19040833413600922,
          0.08475349843502045,
          0.14981119334697723,
          0.0792660266160965,
          0.16011004149913788,
          0.10582125186920166,
          0.09131964296102524,
          0.1288323551416397,
          0.11325740814208984,
          0.17578916251659393,
          0.13326343894004822,
          0.1875251978635788,
          0.22112661600112915,
          0.15772391855716705,
          0.1719609647989273,
          0.17221565544605255,
          0.05885675922036171,
          0.07036194205284119,
          0.22525610029697418,
          0.1071494072675705,
          0.1235281229019165,
          0.19893407821655273,
          0.1546156257390976,
          0.14916928112506866,
          0.17076462507247925,
          0.128397598862648,
          0.0887271985411644,
          0.16833865642547607,
          0.20168733596801758,
          0.16907548904418945,
          0.0997733324766159,
          0.06473207473754883,
          0.14121045172214508,
          0.17269061505794525,
          0.11036494374275208,
          0.18898943066596985,
          0.09978526085615158,
          0.04681594297289848,
          0.2011958360671997,
          0.1400940865278244,
          0.043769389390945435,
          0.09288198500871658,
          0.10213904082775116,
          0.14212444424629211,
          0.24049323797225952,
          0.05034274235367775,
          0.13718734681606293,
          0.11540506780147552,
          0.0897483080625534,
          0.07569143921136856,
          0.2878956198692322,
          0.12543505430221558,
          0.13092920184135437,
          0.17776964604854584,
          0.05775100737810135,
          0.06697889417409897,
          0.2685178518295288,
          0.05800306424498558,
          0.18298159539699554,
          0.11213355511426926,
          0.09724116325378418,
          0.10287785530090332,
          0.09934736043214798,
          0.06298209726810455,
          0.10053065419197083,
          0.07844583690166473,
          0.1547117978334427,
          0.09018022567033768,
          0.08333805948495865,
          0.17172527313232422,
          0.12487007677555084,
          0.08674821257591248,
          0.10538507997989655,
          0.05125004053115845,
          0.08143488317728043,
          0.0682012140750885,
          0.05854661390185356,
          0.18085522949695587,
          0.23113426566123962,
          0.19921386241912842,
          0.09248150885105133,
          0.11187125742435455,
          0.12397962808609009,
          0.08318495750427246,
          0.09015288203954697,
          0.23568126559257507,
          0.08496762812137604,
          0.11624646186828613,
          0.14681296050548553,
          0.04642489552497864,
          0.060087818652391434,
          0.07483787834644318,
          0.08165808767080307,
          0.10104390978813171,
          0.06262052059173584,
          0.30214986205101013,
          0.1437486708164215,
          0.13814979791641235,
          0.10471455752849579,
          0.18880276381969452,
          0.11540506780147552,
          0.05250978842377663,
          0.09904150664806366,
          0.07500389218330383,
          0.07095184922218323,
          0.11002928018569946,
          0.17414869368076324,
          0.2385196089744568,
          0.10837949812412262,
          0.041586630046367645,
          0.1320086270570755,
          0.040878694504499435,
          0.15505635738372803,
          0.10809396207332611,
          0.10304095596075058,
          0.20737101137638092,
          0.08079743385314941,
          0.08444496989250183,
          0.06587276607751846,
          0.1914893537759781,
          0.17777782678604126,
          0.14370951056480408,
          0.07960778474807739,
          0.20012468099594116,
          0.06904268264770508,
          0.05264522135257721,
          0.09591326117515564,
          0.1845674067735672,
          0.23788166046142578,
          0.15761518478393555,
          0.1607666015625,
          0.19821065664291382,
          0.1657935380935669,
          0.14736810326576233,
          0.14898458123207092,
          0.23083394765853882,
          0.03961927071213722,
          0.1273537576198578,
          0.20043382048606873,
          0.12451846152544022,
          0.05606507882475853,
          0.08997057378292084,
          0.05043846741318703,
          0.24643956124782562,
          0.08040040731430054,
          0.04915674403309822,
          0.15487165749073029,
          0.14103807508945465,
          0.05615910142660141,
          0.16529914736747742,
          0.09058859944343567,
          0.04965771734714508,
          0.16436223685741425,
          0.08228864520788193,
          0.22525610029697418,
          0.059813741594552994,
          0.11254970729351044,
          0.06951874494552612,
          0.08719490468502045,
          0.1386927217245102,
          0.06806439161300659,
          0.04978010058403015,
          0.1343013197183609,
          0.17022539675235748,
          0.10159286111593246,
          0.12928952276706696,
          0.14504893124103546,
          0.12289127707481384,
          0.13915473222732544,
          0.0415433868765831,
          0.113614022731781,
          0.17335176467895508,
          0.09908855706453323,
          0.16181175410747528,
          0.11458228528499603,
          0.048592790961265564,
          0.12518329918384552,
          0.1258534938097,
          0.06071535497903824,
          0.16558879613876343,
          0.07862605154514313,
          0.0864269882440567,
          0.11760546267032623,
          0.08327221125364304,
          0.07700781524181366,
          0.13460123538970947,
          0.1489144265651703,
          0.07415095716714859,
          0.09684140980243683,
          0.08094824105501175,
          0.08779804408550262,
          0.08657068759202957,
          0.12622782588005066,
          0.05110554397106171,
          0.04346504807472229,
          0.04523215815424919,
          0.07369916886091232,
          0.2260293960571289,
          0.14373566210269928,
          0.087300606071949,
          0.10337036848068237,
          0.18801486492156982,
          0.07585415989160538,
          0.23568126559257507,
          0.059154611080884933,
          0.12000363320112228,
          0.056745514273643494,
          0.0954420268535614,
          0.09776569902896881,
          0.17153164744377136,
          0.08281835913658142,
          0.05573992431163788,
          0.17685383558273315,
          0.07236769795417786,
          0.1091352179646492,
          0.09457778930664062,
          0.10471048951148987,
          0.12195324152708054,
          0.07840167731046677,
          0.06817958503961563,
          0.046250853687524796,
          0.07016057521104813,
          0.14273540675640106,
          0.21572265028953552,
          0.22741973400115967,
          0.10876280069351196,
          0.18031950294971466,
          0.09403510391712189,
          0.12392154335975647,
          0.10669063031673431,
          0.13078418374061584,
          0.09414844214916229,
          0.07649628818035126,
          0.1434483528137207,
          0.19086237251758575,
          0.0531729981303215,
          0.056475937366485596,
          0.17037437856197357,
          0.10896508395671844,
          0.06784240156412125,
          0.12723559141159058,
          0.12429514527320862,
          0.14261208474636078,
          0.09259439259767532,
          0.2021903544664383,
          0.18578298389911652,
          0.1201246976852417,
          0.1700829714536667,
          0.055068984627723694,
          0.04925813153386116,
          0.06687924265861511,
          0.18097615242004395,
          0.07900883257389069,
          0.050397396087646484,
          0.08158218115568161,
          0.16873206198215485,
          0.09784683585166931,
          0.062177613377571106,
          0.18631751835346222,
          0.0464041568338871,
          0.0988810807466507,
          0.1100049689412117,
          0.2710328698158264,
          0.14312902092933655,
          0.06856599450111389,
          0.0687243789434433,
          0.1218569427728653,
          0.07863599061965942,
          0.12070280313491821,
          0.07870151847600937,
          0.08908631652593613,
          0.13050439953804016,
          0.14285504817962646,
          0.1624060720205307,
          0.14610183238983154,
          0.13839036226272583,
          0.051425885409116745,
          0.13173244893550873,
          0.0703655257821083,
          0.1524333655834198,
          0.09875335544347763,
          0.07762240618467331,
          0.11907972395420074,
          0.11486954987049103,
          0.19235721230506897,
          0.12431486696004868,
          0.1598069667816162,
          0.05906711518764496,
          0.21762311458587646,
          0.06875632703304291,
          0.1368989497423172,
          0.13492019474506378,
          0.07661150395870209,
          0.21795061230659485,
          0.07265133410692215,
          0.1229497566819191,
          0.10310283303260803,
          0.12469370663166046,
          0.18617483973503113,
          0.10573849827051163,
          0.06780523806810379,
          0.1306619644165039,
          0.08913857489824295,
          0.28197309374809265,
          0.13332447409629822,
          0.13993224501609802,
          0.15657663345336914,
          0.1640019714832306,
          0.04668787866830826,
          0.21425873041152954,
          0.1299934685230255,
          0.20757120847702026,
          0.07553709298372269,
          0.05225571244955063,
          0.10341572016477585,
          0.20174890756607056,
          0.19039154052734375,
          0.22213071584701538,
          0.08660727739334106,
          0.15740397572517395,
          0.08719490468502045,
          0.10012965649366379,
          0.1400940865278244,
          0.09105732291936874
         ],
         "yaxis": "y"
        },
        {
         "customdata": [
          [
           "oil<br>bell pepper<br>bell pepper<br>sausage<br>onion<br>garlic<br>umami chicken<br>umami soy sauce<br>sweet pineapple<br>umami tomato<br>umami tomato<br>salty salt<br>potato<br>sweet carrot<br>sweet raisin"
          ],
          [
           "umami beef<br>salty salt<br>umami soy sauce<br>umami soy sauce<br>sweet sugar<br>chili<br>salty butter<br>oil<br>garlic"
          ],
          [
           "umami beef<br>onion<br>umami tomato<br>umami fish sauce<br>taro<br>chili<br>bitter radish<br>sour tamarind<br>spinach<br>salty salt"
          ],
          [
           "oil<br>umami fish<br>onion<br>umami fish sauce<br>salty salt"
          ],
          [
           "umami soy sauce<br>sweet sugar<br>alcohol<br>alcohol<br>sweet sugar<br>ginger<br>garlic<br>umami fish<br>oil<br>sesame<br>onion"
          ],
          [
           "oil<br>potato<br>onion<br>garlic<br>ginger<br>umami chicken<br>umami fish sauce<br>sweet coconut<br>chili<br>bell pepper<br>bell pepper<br>salty salt"
          ],
          [
           "umami pork<br>umami shrimp<br>sausage<br>parsley<br>garlic<br>ginger<br>umami soy sauce<br>salty salt<br>egg<br>wrapper<br>oil"
          ],
          [
           "umami fish<br>salty salt<br>oil<br>onion<br>garlic<br>ginger<br>umami tomato<br>umami tofu<br>sour vinegar<br>bean"
          ],
          [
           "umami pork<br>umami soy sauce<br>sour vinegar<br>sweet sugar<br>garlic<br>pepper<br>bay leaf<br>bread<br>sweet honey<br>salty butter"
          ],
          [
           "umami beef<br>umami beef<br>oil<br>onion<br>umami pork<br>bean<br>salty salt"
          ],
          [
           "umami crab<br>oil<br>onion<br>garlic<br>ginger<br>chili<br>umami fish sauce<br>sweet coconut<br>sweet squash<br>bean<br>sweet coconut<br>cream<br>salty salt"
          ],
          [
           "oil<br>onion<br>garlic<br>umami chicken<br>umami fish sauce<br>sweet carrot<br>peas<br>egg<br>cream<br>salty salt"
          ],
          [
           "oil<br>sweet banana<br>onion<br>garlic<br>umami pork<br>sour vinegar<br>umami soy sauce<br>sweet sugar<br>sweet carrot<br>sausage"
          ],
          [
           "umami beef<br>onion<br>pepper<br>umami fish sauce<br>salty salt<br>cabbage<br>egg<br>pasta<br>onion<br>garlic<br>oil"
          ],
          [
           "bitter bitter gourd<br>oil<br>onion<br>garlic<br>umami tomato<br>umami fish sauce<br>umami shrimp<br>egg<br>sweet sugar<br>salty salt"
          ],
          [
           "taro<br>lemongrass<br>oil<br>onion<br>garlic<br>ginger<br>umami pork<br>pepper<br>umami shrimp<br>sweet coconut<br>chili<br>sweet coconut<br>cream<br>salty salt"
          ],
          [
           "okra<br>oil<br>onion<br>garlic<br>umami tomato<br>chili<br>salty salt"
          ],
          [
           "umami beef<br>onion<br>umami fish sauce<br>pepper<br>sweet corn<br>cabbage<br>onion<br>salty salt<br>umami fish sauce<br>sour lemon<br>chili"
          ],
          [
           "umami pork<br>sweet sugar<br>garlic<br>umami soy sauce<br>sour vinegar<br>salty salt<br>pepper<br>flour<br>oil"
          ],
          [
           "umami fish<br>onion<br>onion<br>nut<br>sesame<br>ginger<br>umami soy sauce<br>oil<br>salty salt<br>rice"
          ],
          [
           "pasta<br>bean<br>oil<br>onion<br>garlic<br>umami tomato<br>umami fish sauce<br>umami shrimp<br>spinach<br>salty salt"
          ],
          [
           "oil<br>onion<br>garlic<br>umami fish sauce<br>sweet coconut<br>chili<br>sweet squash<br>bean<br>umami shrimp<br>salty salt"
          ],
          [
           "spinach<br>umami tofu<br>oil<br>umami clam<br>chili<br>garlic<br>oil<br>flour"
          ],
          [
           "umami beef<br>lemongrass<br>oil<br>garlic<br>ginger<br>onion<br>annatto<br>sour tamarind<br>sweet jackfruit<br>sour lemon<br>chili<br>salty salt"
          ],
          [
           "umami pork<br>salty salt<br>oil<br>onion<br>garlic<br>umami tomato<br>umami shrimp<br>sour vinegar<br>eggplant<br>sweet mango<br>umami tomato<br>onion<br>onion"
          ],
          [
           "umami soy sauce<br>sweet sugar<br>oil<br>umami shrimp<br>onion<br>garlic<br>umami tomato<br>bean<br>pepper"
          ],
          [
           "salty salt<br>sweet sugar<br>onion<br>garlic<br>bay leaf<br>pepper<br>wrapper<br>umami chicken<br>umami fish sauce<br>oil"
          ],
          [
           "pasta<br>oil<br>onion<br>umami chicken<br>sausage<br>umami shrimp<br>sweet carrot<br>broccoli<br>garlic<br>onion<br>sour lemon"
          ],
          [
           "oil<br>salty butter<br>onion<br>garlic<br>ginger<br>umami clam<br>umami soy sauce<br>pepper<br>sour lemon<br>salty salt"
          ],
          [
           "gourd<br>oil<br>onion<br>umami pork<br>umami fish sauce<br>pasta<br>salty salt"
          ],
          [
           "umami fish sauce<br>sour lemon<br>onion<br>umami tomato<br>chili<br>bitter radish<br>bean<br>umami fish<br>eggplant<br>okra<br>salty salt<br>cabbage"
          ],
          [
           "oil<br>sweet banana<br>potato<br>onion<br>garlic<br>umami chicken<br>umami fish sauce<br>umami tomato<br>sausage<br>bean<br>bean<br>cabbage<br>cabbage<br>salty salt"
          ],
          [
           "umami pork<br>oil<br>salty salt<br>egg<br>bread<br>cabbage<br>umami soy sauce"
          ],
          [
           "umami fish sauce<br>oil<br>sweet sugar<br>chili<br>flour"
          ],
          [
           "oil<br>onion<br>garlic<br>ginger<br>umami chicken<br>umami shrimp<br>sweet coconut<br>cream<br>chili<br>chili<br>salty salt"
          ],
          [
           "umami pork<br>sour vinegar<br>salty salt<br>garlic"
          ],
          [
           "sweet banana<br>salty salt<br>oil<br>onion<br>garlic<br>umami pork<br>umami fish sauce<br>sweet coconut<br>chili<br>salty salt"
          ],
          [
           "oil<br>onion<br>garlic<br>umami shrimp<br>umami fish sauce<br>sweet carrot<br>bean<br>bean<br>salty salt"
          ],
          [
           "rice<br>umami mushroom<br>umami pork<br>nut<br>ginger<br>onion<br>garlic<br>alcohol<br>oil<br>egg<br>salty salt<br>umami soy sauce<br>chili"
          ],
          [
           "umami shrimp<br>oil<br>onion<br>garlic<br>umami fish sauce<br>umami tomato<br>umami clam<br>salty salt"
          ],
          [
           "oil<br>potato<br>sweet carrot<br>bell pepper<br>bell pepper<br>umami chicken<br>onion<br>garlic<br>umami tomato<br>umami fish sauce<br>sweet pea<br>salty salt"
          ],
          [
           "oil<br>egg<br>umami pork<br>bell pepper<br>peas<br>umami pork<br>rice<br>sweet pineapple<br>umami soy sauce<br>oil<br>onion<br>salty salt"
          ],
          [
           "umami beef<br>onion<br>garlic<br>bay leaf<br>pepper<br>salty salt<br>potato<br>umami mushroom<br>onion<br>garlic<br>umami tomato<br>umami broth<br>umami soy sauce<br>sweet sugar<br>salty salt"
          ],
          [
           "oil<br>umami shrimp<br>onion<br>garlic<br>umami chicken<br>umami pork<br>sausage<br>sweet carrot<br>cabbage<br>umami clam<br>salty salt"
          ],
          [
           "umami beef<br>onion<br>umami fish sauce<br>umami tomato<br>sweet guava<br>salty salt<br>spinach"
          ],
          [
           "oil<br>onion<br>garlic<br>umami pork<br>umami tomato<br>umami clam<br>cabbage<br>salty salt"
          ],
          [
           "goat<br>sour vinegar<br>salty salt<br>onion<br>ginger<br>umami fish sauce<br>sour tamarind<br>chili<br>onion<br>salty salt"
          ],
          [
           "umami pork<br>sour vinegar<br>salty salt<br>bay leaf<br>oil<br>umami tofu<br>onion<br>garlic<br>umami tomato<br>bean"
          ],
          [
           "umami fish<br>salty salt<br>oil<br>onion<br>garlic<br>ginger<br>umami tomato<br>sweet coconut<br>chili"
          ],
          [
           "oil<br>onion<br>garlic<br>umami tomato<br>umami shrimp<br>umami clam<br>gourd<br>salty salt"
          ],
          [
           "umami chicken<br>sour vinegar<br>garlic<br>pepper<br>salty salt<br>oil"
          ],
          [
           "umami fish<br>oil<br>onion<br>garlic<br>ginger<br>umami shrimp<br>sweet coconut<br>chili<br>bean<br>salty salt"
          ],
          [
           "oil<br>onion<br>garlic<br>umami chicken<br>umami tomato<br>umami clam<br>gourd<br>salty salt"
          ],
          [
           "rice<br>oil<br>umami pork<br>onion<br>garlic<br>umami tomato<br>umami shrimp<br>sour vinegar<br>sweet sugar<br>sweet mango<br>onion"
          ],
          [
           "rice<br>umami pork<br>onion<br>garlic<br>umami soy sauce<br>onion<br>salty salt<br>egg"
          ],
          [
           "rice<br>ginger<br>salty salt<br>umami tofu<br>oil<br>sour vinegar<br>umami soy sauce<br>salty salt<br>sweet sugar<br>onion<br>chili"
          ],
          [
           "umami shrimp<br>onion<br>sweet carrot<br>celery<br>garlic<br>bay leaf<br>pepper"
          ],
          [
           "bitter bitter gourd<br>oil<br>onion<br>garlic<br>umami tomato<br>umami fish sauce<br>umami fish<br>umami tomato<br>sweet sugar<br>salty salt"
          ],
          [
           "umami squid<br>salty salt<br>onion<br>garlic<br>ginger<br>bell pepper<br>bell pepper<br>chili<br>sour lemon<br>umami soy sauce<br>sweet sugar<br>salty butter<br>oil"
          ],
          [
           "garlic<br>oil<br>umami fish<br>salty salt<br>sour lemon<br>umami soy sauce<br>sweet sugar<br>umami clam<br>salty butter<br>onion"
          ],
          [
           "oil<br>potato<br>onion<br>garlic<br>umami beef<br>salty salt"
          ],
          [
           "umami pork<br>bay leaf<br>salty salt<br>pepper<br>umami pork<br>umami pork<br>sour lemon<br>onion<br>ginger<br>chili<br>salty salt"
          ],
          [
           "umami pork<br>sour vinegar<br>salty salt<br>garlic"
          ],
          [
           "oil<br>onion<br>garlic<br>umami pork<br>umami soy sauce<br>salty salt<br>sweet banana"
          ],
          [
           "oil<br>onion<br>garlic<br>umami pork<br>umami tomato<br>umami fish sauce<br>cabbage<br>salty salt"
          ],
          [
           "sweet mango<br>umami tomato<br>onion<br>cilantro<br>sour vinegar<br>umami fish sauce<br>oil<br>sweet sugar<br>pepper"
          ],
          [
           "umami chicken<br>onion<br>ginger<br>pepper<br>umami fish sauce<br>potato<br>cabbage<br>cabbage<br>salty salt"
          ],
          [
           "oil<br>onion<br>garlic<br>umami fish sauce<br>umami tomato<br>sweet squash<br>okra<br>bean<br>sweet melon<br>eggplant<br>salty salt<br>umami pork"
          ],
          [
           "sour vinegar<br>umami fish sauce<br>oil<br>sweet sugar<br>salty salt<br>chili<br>pepper<br>cucumber<br>onion"
          ],
          [
           "sweet sweet potato<br>umami tomato<br>onion<br>sour vinegar<br>garlic<br>umami fish sauce<br>sweet sugar<br>salty salt"
          ],
          [
           "oil<br>onion<br>garlic<br>ginger<br>umami pork<br>umami clam<br>sweet sugar<br>umami soy sauce<br>bean<br>sweet carrot<br>salty salt"
          ],
          [
           "umami fish<br>sour vinegar<br>salty salt<br>oil<br>onion<br>garlic<br>ginger<br>umami tomato<br>umami clam<br>cabbage"
          ],
          [
           "umami fish<br>eggplant<br>onion<br>garlic<br>ginger<br>sour vinegar<br>chili<br>salty salt<br>pepper<br>oil"
          ],
          [
           "umami chicken<br>umami soy sauce<br>alcohol<br>egg<br>flour<br>oil<br>onion<br>sweet honey<br>umami soy sauce<br>sour lemon<br>garlic<br>sauce<br>salty salt"
          ],
          [
           "umami fish<br>sour lemon<br>garlic<br>chili<br>umami clam<br>oil<br>salty salt"
          ],
          [
           "oil<br>eggplant<br>onion<br>garlic<br>umami pork<br>umami shrimp<br>umami tomato<br>sour vinegar<br>sweet sugar<br>chili<br>salty salt"
          ],
          [
           "umami fish<br>sour tamarind<br>salty salt<br>onion<br>ginger<br>oil"
          ],
          [
           "oil<br>potato<br>sweet carrot<br>onion<br>garlic<br>ginger<br>umami beef<br>umami fish sauce<br>sweet coconut<br>salty salt<br>bell pepper<br>bell pepper"
          ],
          [
           "umami chicken<br>umami shrimp<br>flour<br>oil<br>pasta<br>sausage<br>onion<br>garlic<br>broccoli<br>gourd<br>sweet carrot<br>cabbage<br>umami clam<br>umami soy sauce<br>salty salt"
          ],
          [
           "umami chicken<br>garlic<br>ginger<br>lemongrass<br>buttermilk<br>umami fish sauce<br>sweet sugar<br>salty salt"
          ],
          [
           "bean<br>oil<br>onion<br>garlic<br>umami pork<br>umami tomato<br>umami fish sauce<br>sweet coconut<br>salty salt<br>spinach"
          ],
          [
           "gourd<br>oil<br>onion<br>garlic<br>umami chicken<br>umami fish sauce<br>salty salt<br>pasta<br>garlic"
          ],
          [
           "oil<br>eggplant<br>onion<br>garlic<br>umami pork<br>umami fish sauce<br>sweet coconut<br>cream<br>chili<br>salty salt"
          ],
          [
           "umami pork<br>sweet pineapple<br>umami soy sauce<br>sour ketchup<br>salty salt<br>oil<br>potato<br>onion<br>garlic<br>peas<br>umami cheese"
          ],
          [
           "oil<br>potato<br>onion<br>garlic<br>sour vinegar<br>umami soy sauce<br>salty salt<br>egg"
          ],
          [
           "eggplant<br>umami tomato<br>egg<br>onion<br>sour vinegar<br>umami fish sauce<br>pepper"
          ],
          [
           "oil<br>potato<br>sweet carrot<br>bell pepper<br>bell pepper<br>umami beef<br>onion<br>garlic<br>umami fish sauce<br>umami tomato<br>umami tomato<br>salty salt"
          ],
          [
           "umami pork<br>sour vinegar<br>umami soy sauce<br>sweet pineapple<br>oil<br>onion<br>garlic<br>pepper<br>bay leaf<br>bean<br>sweet pineapple<br>sweet banana<br>sweet sugar<br>salty salt"
          ],
          [
           "oil<br>onion<br>garlic<br>umami beef<br>umami soy sauce<br>umami tomato<br>chili<br>cumin<br>salty salt<br>rice<br>lettuce<br>umami tomato<br>umami cheese<br>cream"
          ],
          [
           "umami chicken<br>flour<br>salty salt<br>oil<br>sour lemon<br>umami soy sauce<br>onion<br>garlic"
          ],
          [
           "rice<br>oil<br>egg<br>onion<br>garlic<br>umami fish<br>onion<br>umami soy sauce<br>salty salt"
          ],
          [
           "oil<br>onion<br>garlic<br>umami shrimp<br>chili<br>umami chicken<br>rice<br>umami soy sauce<br>salty salt<br>egg<br>onion<br>cucumber<br>umami tomato"
          ],
          [
           "umami beef<br>onion<br>garlic<br>bay leaf<br>pepper<br>salty salt<br>cream<br>umami mushroom<br>salty butter<br>umami mushroom<br>onion<br>pepper"
          ],
          [
           "umami chicken<br>salty salt<br>wrapper<br>oil<br>lettuce<br>cabbage<br>sweet carrot<br>bean<br>sour vinegar<br>umami soy sauce<br>oil<br>sweet sugar<br>chili<br>garlic<br>ginger"
          ],
          [
           "umami chicken<br>sour tamarind<br>garlic<br>salty salt<br>oil"
          ],
          [
           "umami beef<br>umami fish sauce<br>sweet sugar<br>garlic<br>pepper<br>oil"
          ],
          [
           "salty salt<br>umami fish<br>bay leaf<br>sweet carrot<br>garlic<br>sour pickle<br>pepper<br>chili<br>oil"
          ],
          [
           "oil<br>umami shrimp<br>flour<br>alcohol<br>chili<br>garlic<br>umami soy sauce<br>oil<br>onion<br>garlic<br>bean"
          ],
          [
           "oil<br>potato<br>onion<br>garlic<br>ginger<br>rib<br>sweet pineapple<br>umami soy sauce<br>sweet pineapple<br>sweet raisin<br>salty salt"
          ],
          [
           "umami chicken<br>egg<br>flour<br>alcohol<br>salty salt<br>oil<br>umami clam<br>umami soy sauce<br>sweet honey<br>pepper<br>oil<br>onion<br>bell pepper<br>bell pepper"
          ],
          [
           "lemongrass<br>garlic<br>ginger<br>sour vinegar<br>sour lemon<br>sweet sugar<br>salty salt<br>umami chicken<br>umami chicken<br>annatto<br>garlic<br>bay leaf"
          ],
          [
           "sweet papaya<br>egg<br>flour<br>umami fish sauce<br>salty salt<br>sweet squash<br>onion<br>onion<br>oil<br>umami shrimp<br>sour vinegar<br>chili<br>onion<br>garlic<br>salty salt"
          ],
          [
           "oil<br>onion<br>garlic<br>pasta<br>salty salt<br>cabbage<br>parsley<br>umami chicken<br>onion<br>nut<br>garlic<br>sweet carrot<br>umami soy sauce<br>salty salt<br>pepper"
          ],
          [
           "oil<br>onion<br>garlic<br>umami pork<br>sour vinegar<br>salty salt<br>bay leaf<br>pepper<br>sweet sugar<br>garlic"
          ],
          [
           "rice<br>oil<br>umami pork<br>umami soy sauce<br>sweet sugar"
          ],
          [
           "umami chicken<br>sweet pineapple<br>umami soy sauce<br>salty salt<br>oil<br>potato<br>sweet carrot<br>bell pepper<br>bell pepper<br>onion<br>garlic<br>chili<br>umami tomato<br>umami cheese"
          ],
          [
           "oil<br>onion<br>garlic<br>sour vinegar<br>umami pork<br>sweet sugar<br>umami pork<br>bay leaf<br>salty salt"
          ],
          [
           "rice<br>rice<br>onion<br>garlic<br>umami chicken<br>sausage<br>saffron<br>umami fish sauce<br>sweet coconut<br>umami chicken<br>umami broth<br>umami tomato<br>bell pepper<br>bell pepper<br>peas"
          ],
          [
           "sour lemon<br>umami fish sauce<br>garlic<br>chili<br>sweet sugar<br>salty salt<br>umami pork<br>umami clam<br>sour vinegar<br>garlic<br>onion<br>chili<br>salty salt<br>pepper"
          ],
          [
           "umami tofu<br>oil<br>salty butter<br>onion<br>garlic<br>bell pepper<br>bell pepper<br>chili<br>chili<br>sour lemon<br>sauce<br>mayonnaise"
          ],
          [
           "umami chicken<br>umami soy sauce<br>sour lemon<br>garlic<br>sweet sugar<br>salty salt"
          ],
          [
           "umami fish<br>sour tamarind<br>umami tomato<br>onion<br>ginger<br>garlic<br>salty butter<br>salty salt<br>sour lemon<br>umami soy sauce"
          ],
          [
           "umami beef<br>umami beef<br>onion<br>pepper<br>umami fish sauce<br>sweet corn<br>potato<br>cabbage<br>bean<br>salty salt<br>onion"
          ],
          [
           "umami fish<br>salty salt<br>mayonnaise<br>sour tamarind"
          ],
          [
           "umami pork<br>onion<br>umami fish sauce<br>spinach<br>sweet guava<br>taro<br>salty salt"
          ],
          [
           "oil<br>onion<br>garlic<br>umami pork<br>umami fish sauce<br>umami tomato<br>sour ketchup<br>potato<br>sweet carrot<br>egg<br>sweet pea<br>sweet raisin<br>salty salt"
          ],
          [
           "onion<br>umami tomato<br>umami fish sauce<br>bitter radish<br>umami shrimp<br>sour lemon<br>cabbage<br>salty salt"
          ],
          [
           "umami mushroom<br>umami pork<br>umami shrimp<br>ginger<br>umami soy sauce<br>salty salt<br>sweet sugar<br>flour<br>wrapper<br>sour lemon<br>umami soy sauce<br>chili<br>garlic"
          ],
          [
           "umami clam<br>mayonnaise<br>umami cheese<br>chili<br>onion<br>sour lemon"
          ],
          [
           "onion<br>umami tomato<br>umami fish sauce<br>bitter radish<br>sour tamarind<br>cabbage<br>umami beef<br>salty salt"
          ],
          [
           "umami pork<br>sour vinegar<br>garlic<br>salty salt<br>pepper<br>oil"
          ],
          [
           "oil<br>garlic<br>onion<br>umami pork<br>umami fish sauce<br>potato<br>sweet carrot<br>bean<br>bean<br>salty salt<br>wrapper"
          ],
          [
           "oil<br>bell pepper<br>bell pepper<br>onion<br>garlic<br>umami pork<br>umami fish sauce<br>sweet pineapple<br>cream<br>sweet pineapple"
          ],
          [
           "oil<br>potato<br>sweet carrot<br>bell pepper<br>bell pepper<br>onion<br>garlic<br>umami pork<br>umami fish sauce<br>umami tomato<br>umami tomato<br>salty salt"
          ],
          [
           "oil<br>potato<br>sweet carrot<br>bell pepper<br>bell pepper<br>onion<br>garlic<br>ginger<br>umami chicken<br>umami fish sauce<br>sweet coconut<br>salty salt"
          ],
          [
           "umami pork<br>salty salt<br>sour vinegar<br>lemongrass<br>onion<br>garlic"
          ],
          [
           "oil<br>annatto<br>onion<br>garlic<br>umami pork<br>umami tomato<br>umami fish sauce<br>potato<br>sweet carrot<br>umami beef<br>bean<br>bell pepper<br>bell pepper<br>sweet raisin<br>salty salt"
          ],
          [
           "oil<br>onion<br>garlic<br>umami pork<br>umami fish sauce<br>umami tomato<br>potato<br>sweet carrot<br>bell pepper<br>bell pepper<br>sweet raisin<br>salty salt"
          ],
          [
           "oil<br>onion<br>bell pepper<br>bell pepper<br>umami beef<br>salty salt<br>umami tomato<br>umami tomato<br>umami tomato<br>umami tomato<br>umami soy sauce<br>oregano<br>basil<br>sweet sugar<br>pasta"
          ],
          [
           "umami chicken<br>umami soy sauce<br>sour lemon<br>sweet sugar<br>garlic<br>salty salt<br>oil"
          ],
          [
           "oil<br>umami pork<br>onion<br>garlic<br>umami shrimp<br>umami tomato<br>sour vinegar<br>chili<br>sweet sugar<br>salty salt"
          ],
          [
           "sour lemon<br>umami soy sauce<br>onion<br>garlic<br>oil<br>salty salt<br>onion"
          ],
          [
           "umami chicken<br>salty salt<br>pepper<br>bay leaf<br>oil<br>onion<br>sweet carrot<br>celery<br>rice<br>ginger"
          ],
          [
           "umami chicken<br>salty salt<br>oil<br>bell pepper<br>bell pepper<br>onion<br>ginger<br>garlic<br>sweet pineapple<br>umami soy sauce<br>umami chicken<br>umami broth<br>sweet sugar<br>sweet pineapple<br>flour"
          ],
          [
           "oil<br>onion<br>garlic<br>umami tomato<br>chili<br>potato<br>salty salt"
          ],
          [
           "umami mushroom<br>pasta<br>oil<br>umami chicken<br>umami soy sauce<br>alcohol<br>flour<br>umami soy sauce<br>sour vinegar<br>garlic<br>ginger<br>nut<br>onion<br>lettuce"
          ],
          [
           "oil<br>onion<br>garlic<br>umami pork<br>umami tomato<br>gourd<br>umami clam<br>salty salt"
          ],
          [
           "oil<br>onion<br>garlic<br>umami pork<br>annatto<br>gourd<br>pasta<br>umami clam<br>salty salt"
          ],
          [
           "oil<br>potato<br>sweet carrot<br>bell pepper<br>bell pepper<br>onion<br>garlic<br>umami chicken<br>umami fish sauce<br>umami tomato<br>sweet pineapple<br>salty salt<br>peas<br>sweet pineapple"
          ],
          [
           "pasta<br>umami chicken<br>salty salt<br>pepper<br>oil<br>onion<br>garlic<br>umami mushroom<br>bell pepper<br>bell pepper<br>pasta<br>umami chicken<br>umami broth<br>salty salt<br>umami cheese"
          ],
          [
           "umami shrimp<br>oil<br>onion<br>garlic<br>umami pork<br>umami fish sauce<br>umami shrimp<br>umami broth<br>salty salt<br>flour<br>umami pork<br>egg<br>garlic<br>onion<br>sour lemon"
          ],
          [
           "umami pork<br>salty salt<br>ginger<br>sweet pineapple<br>sweet pineapple<br>umami soy sauce<br>sour ketchup<br>oil<br>onion<br>garlic"
          ],
          [
           "sweet guava<br>onion<br>spinach<br>umami fish sauce<br>umami fish<br>umami shrimp<br>salty salt"
          ],
          [
           "oil<br>onion<br>garlic<br>umami pork<br>umami fish sauce<br>umami shrimp<br>sweet carrot<br>bean<br>bean<br>salty salt<br>wrapper"
          ],
          [
           "rice<br>oil<br>onion<br>garlic<br>sausage<br>umami shrimp<br>sweet pea<br>umami soy sauce<br>onion<br>salty salt<br>egg"
          ],
          [
           "sour lemon<br>umami fish sauce<br>sweet sugar<br>oil<br>chili<br>sweet coconut<br>sweet mango<br>bean<br>peanut<br>basil"
          ],
          [
           "umami mushroom<br>umami fish<br>umami soy sauce<br>oil<br>onion<br>garlic<br>nut<br>celery<br>salty salt<br>wrapper"
          ],
          [
           "umami fish<br>salty salt<br>oil<br>onion<br>garlic<br>bell pepper<br>bell pepper<br>chili<br>chili<br>sour lemon<br>sauce<br>salty salt"
          ],
          [
           "pasta<br>oil<br>sausage<br>onion<br>garlic<br>bell pepper<br>umami beef<br>umami tomato<br>umami tomato<br>sour ketchup<br>umami beef<br>umami broth<br>sweet sugar<br>salty salt<br>umami cheese"
          ],
          [
           "oil<br>onion<br>garlic<br>umami shrimp<br>umami fish sauce<br>sweet squash<br>bean<br>sweet coconut<br>cream<br>salty salt"
          ],
          [
           "oil<br>garlic<br>onion<br>umami tomato<br>umami fish sauce<br>umami tomato<br>umami fish<br>pasta<br>salty salt"
          ],
          [
           "oil<br>onion<br>garlic<br>umami pork<br>umami tomato<br>umami shrimp<br>sour vinegar<br>sweet coconut<br>chili<br>sweet sugar<br>salty salt"
          ],
          [
           "chili<br>chili<br>umami tomato<br>onion<br>garlic<br>sour vinegar<br>oregano<br>cinnamon<br>garlic<br>oil<br>umami pork<br>salty salt"
          ],
          [
           "gourd<br>oil<br>garlic<br>onion<br>umami tomato<br>umami fish sauce<br>umami tomato<br>umami fish<br>salty salt"
          ],
          [
           "oil<br>potato<br>onion<br>garlic<br>ginger<br>umami chicken<br>umami fish sauce<br>sweet sugar<br>salty salt"
          ],
          [
           "umami soy sauce<br>sour lemon<br>garlic<br>sweet sugar<br>salty salt<br>umami beef<br>oil"
          ],
          [
           "umami fish<br>sour vinegar<br>garlic<br>pepper<br>salty salt<br>oil"
          ],
          [
           "umami squid<br>umami crab<br>umami clam<br>oil<br>onion<br>garlic<br>ginger<br>umami shrimp<br>sweet coconut<br>cream<br>salty salt"
          ],
          [
           "oil<br>onion<br>garlic<br>umami tomato<br>umami shrimp<br>umami fish sauce<br>sweet squash<br>bean<br>eggplant<br>bitter bitter gourd<br>okra<br>gourd<br>salty salt"
          ],
          [
           "chili<br>umami pork<br>garlic<br>onion<br>salty salt<br>wrapper<br>oil"
          ],
          [
           "umami chicken<br>cumin<br>cinnamon<br>cardamom<br>pepper<br>chili<br>pepper<br>salty salt<br>oil<br>onion<br>garlic<br>ginger<br>umami fish sauce<br>sweet coconut<br>sweet mango"
          ],
          [
           "rice<br>salty butter<br>oil<br>onion<br>garlic<br>bell pepper<br>annatto<br>umami soy sauce<br>salty salt"
          ],
          [
           "bitter bitter gourd<br>umami beef<br>umami clam<br>umami soy sauce<br>oil<br>salty salt<br>oil<br>onion<br>sweet sugar<br>flour"
          ],
          [
           "umami pork<br>onion<br>pepper<br>umami fish sauce<br>sweet squash<br>cabbage<br>salty salt"
          ],
          [
           "bitter bitter gourd<br>umami chicken<br>oil<br>onion<br>garlic<br>ginger<br>umami fish sauce<br>salty salt"
          ],
          [
           "oil<br>onion<br>umami beef<br>umami tomato<br>umami fish sauce<br>potato<br>cabbage<br>salty salt"
          ],
          [
           "umami pork<br>sour vinegar<br>salty salt<br>garlic"
          ],
          [
           "umami fish<br>sour lemon<br>umami soy sauce<br>oil<br>onion<br>sweet carrot<br>sweet pea<br>sweet raisin<br>umami clam<br>salty salt"
          ],
          [
           "oil<br>onion<br>ginger<br>umami tomato<br>umami fish sauce<br>umami clam<br>salty salt<br>spinach"
          ],
          [
           "sweet corn<br>oil<br>onion<br>garlic<br>umami shrimp<br>umami shrimp<br>salty salt<br>spinach"
          ],
          [
           "umami fish<br>salty salt<br>oil<br>potato<br>onion<br>garlic<br>ginger<br>umami fish sauce<br>cabbage<br>cabbage<br>onion"
          ],
          [
           "umami pork<br>umami tomato<br>onion<br>umami fish sauce<br>taro<br>bitter radish<br>chili<br>bean<br>eggplant<br>okra<br>sour tamarind<br>salty salt<br>cabbage"
          ],
          [
           "eggplant<br>umami pork<br>flour<br>sour vinegar<br>onion<br>salty salt<br>oil<br>chili<br>sweet sugar<br>salty salt<br>umami soy sauce<br>sour vinegar<br>umami clam"
          ],
          [
           "rice<br>bell pepper<br>onion<br>onion<br>egg<br>umami soy sauce<br>oil<br>oil<br>salty salt"
          ],
          [
           "umami pork<br>umami pork<br>umami soy sauce<br>sour lemon<br>onion<br>flour<br>oil<br>pepper"
          ],
          [
           "egg<br>rice<br>onion<br>bell pepper<br>pepper<br>umami soy sauce<br>oil<br>onion<br>salty salt<br>sweet sugar<br>oil"
          ],
          [
           "umami pork<br>umami pork<br>umami cheese<br>bell pepper<br>bell pepper<br>sweet pea<br>potato<br>sweet carrot<br>umami tomato<br>umami tomato<br>umami soy sauce<br>onion<br>oil<br>salty salt"
          ],
          [
           "rice<br>oil<br>oil<br>umami pork<br>annatto<br>umami shrimp<br>umami fish<br>flour<br>onion<br>umami fish sauce<br>umami pork<br>egg<br>onion<br>garlic<br>sour lemon"
          ],
          [
           "umami pork<br>umami pork<br>egg<br>onion<br>sour lemon<br>garlic<br>umami soy sauce<br>umami clam<br>umami soy sauce<br>sweet sugar<br>oil<br>pepper"
          ],
          [
           "umami tofu<br>broccoli<br>sweet carrot<br>onion<br>garlic<br>ginger<br>umami clam<br>oil<br>salty salt"
          ],
          [
           "sweet banana<br>umami pork<br>umami pork<br>onion<br>sour vinegar<br>oil<br>salty salt<br>umami fish sauce"
          ],
          [
           "umami chicken<br>onion<br>umami chicken<br>umami soy sauce<br>umami clam<br>sour vinegar<br>sweet sugar<br>bay leaf<br>onion<br>salty salt"
          ],
          [
           "umami pork<br>umami pork<br>potato<br>sweet corn<br>cabbage<br>cabbage<br>bean<br>onion<br>pepper<br>umami fish sauce"
          ],
          [
           "rice<br>taro<br>oil<br>umami anchovy<br>salty salt<br>chili"
          ],
          [
           "spinach<br>umami pork<br>umami clam<br>onion<br>oil<br>salty salt"
          ],
          [
           "rice<br>egg<br>umami chicken<br>vegetable<br>onion<br>oil<br>salty salt<br>umami clam<br>umami soy sauce<br>oil"
          ],
          [
           "umami fish<br>sweet coconut<br>ginger<br>sweet pineapple<br>bell pepper<br>cabbage<br>onion<br>salty salt<br>umami fish sauce<br>oil"
          ],
          [
           "spinach<br>onion<br>oil<br>umami clam<br>umami soy sauce<br>flour"
          ],
          [
           "eggplant<br>umami pork<br>bell pepper<br>onion<br>ginger<br>oil<br>umami soy sauce<br>sweet sugar<br>bell pepper<br>oil<br>umami clam<br>onion<br>salty salt"
          ],
          [
           "umami pork<br>umami pork<br>cabbage<br>umami mushroom<br>sweet carrot<br>sweet sugar<br>oil<br>umami soy sauce<br>flour<br>star anise<br>bay leaf<br>pepper<br>onion<br>oil"
          ],
          [
           "umami pork<br>sweet sugar<br>salty salt<br>pepper<br>barbecue<br>umami soy sauce<br>sweet apple<br>garlic"
          ],
          [
           "umami pork<br>sweet coconut<br>umami shrimp<br>eggplant<br>umami tomato<br>onion<br>sour vinegar<br>sweet sugar<br>chili<br>oil<br>umami fish sauce"
          ],
          [
           "sweet corn<br>umami crab<br>sweet corn<br>pepper<br>umami pork<br>onion<br>oil<br>umami fish sauce"
          ],
          [
           "umami beef<br>umami mushroom<br>cream<br>umami mushroom<br>onion<br>salty butter<br>oil<br>parsley<br>salty salt"
          ],
          [
           "cabbage<br>umami pork<br>umami pork<br>bell pepper<br>bell pepper<br>sweet pea<br>sweet carrot<br>onion<br>umami soy sauce<br>salty salt<br>oil"
          ],
          [
           "umami beef<br>umami beef<br>sweet corn<br>potato<br>bean<br>cabbage<br>cabbage<br>onion<br>oil<br>umami fish sauce"
          ],
          [
           "umami beef<br>peanut<br>annatto<br>onion<br>umami fish sauce<br>oil<br>eggplant<br>sweet banana<br>cabbage<br>bean"
          ],
          [
           "bean<br>umami pork<br>umami pork<br>pepper<br>onion<br>umami tomato<br>oil<br>umami fish sauce<br>umami fish<br>salty salt<br>oil"
          ],
          [
           "umami pork<br>umami shrimp<br>cabbage<br>sweet carrot<br>bell pepper<br>onion<br>peas<br>onion<br>annatto<br>umami soy sauce<br>oil<br>umami fish sauce"
          ],
          [
           "umami squid<br>umami tomato<br>onion<br>garlic<br>umami soy sauce<br>sour vinegar<br>sweet sugar<br>umami squid<br>oil<br>salty salt"
          ],
          [
           "umami chicken<br>sausage<br>onion<br>sour ketchup<br>umami clam<br>oil<br>salty salt"
          ],
          [
           "lettuce<br>oil<br>onion<br>onion<br>sweet carrot<br>turnip<br>umami soy sauce<br>sour vinegar<br>oil<br>umami soy sauce<br>salty salt"
          ],
          [
           "umami beef<br>egg<br>oil<br>parsley<br>umami mushroom<br>onion<br>umami beef<br>umami broth<br>umami soy sauce<br>umami soy sauce<br>oil<br>flour<br>salty salt"
          ],
          [
           "umami beef<br>garlic<br>parsley<br>oil<br>umami mushroom<br>salty butter<br>flour<br>umami beef<br>umami broth<br>umami soy sauce<br>salty salt"
          ],
          [
           "umami beef<br>onion<br>sweet orange<br>umami soy sauce<br>sour vinegar<br>oil<br>pepper<br>sweet sugar<br>ginger<br>flour<br>oil"
          ],
          [
           "umami pork<br>onion<br>onion<br>chili<br>salty salt<br>umami pork<br>pepper<br>bay leaf<br>mayonnaise<br>sour vinegar<br>pepper"
          ],
          [
           "umami pork<br>umami pork<br>sausage<br>egg<br>rice<br>onion<br>paprika<br>pepper<br>bell pepper<br>onion<br>oil<br>sour lemon<br>mayonnaise"
          ],
          [
           "umami pork<br>cream<br>umami mushroom<br>salty butter<br>bell pepper<br>onion<br>parsley<br>umami cheese<br>pasta"
          ],
          [
           "umami beef<br>umami beef<br>salty butter<br>oil<br>umami soy sauce<br>umami clam<br>pepper<br>garlic<br>flour"
          ],
          [
           "umami squid<br>umami clam<br>umami shrimp<br>rice<br>sweet pea<br>saffron<br>paprika<br>bell pepper<br>umami tomato<br>onion<br>oil<br>parsley<br>salty salt"
          ],
          [
           "umami chicken<br>umami chicken<br>sausage<br>cabbage<br>celery<br>sweet carrot<br>milk<br>pasta<br>onion<br>oil<br>umami fish sauce"
          ],
          [
           "umami beef<br>onion<br>pepper<br>flour<br>sweet sugar<br>umami soy sauce<br>sour lemon<br>oil"
          ],
          [
           "umami chicken<br>umami chicken<br>potato<br>umami soy sauce<br>sour lemon<br>umami tomato<br>bell pepper<br>bay leaf<br>onion<br>sweet sugar<br>salty salt<br>oil"
          ],
          [
           "umami pork<br>sour tamarind<br>spinach<br>bean<br>eggplant<br>bitter radish<br>okra<br>umami tomato<br>pepper<br>onion<br>umami fish sauce"
          ],
          [
           "umami chicken<br>potato<br>celery<br>bell pepper<br>pepper<br>onion<br>ginger<br>sweet coconut<br>cream<br>umami fish sauce"
          ],
          [
           "umami pork<br>umami pork<br>sour vinegar<br>umami soy sauce<br>sweet sugar<br>salty salt<br>pepper<br>onion<br>onion<br>pepper<br>oil"
          ],
          [
           "goat<br>ginger<br>sour vinegar<br>ginger<br>chili<br>onion<br>onion<br>umami fish sauce<br>sweet sugar<br>pepper"
          ],
          [
           "umami chicken<br>sweet coconut<br>bean<br>chili<br>chili<br>umami shrimp<br>onion<br>ginger<br>oil"
          ],
          [
           "sweet jackfruit<br>umami shrimp<br>sweet coconut<br>umami fish sauce<br>umami fish<br>onion<br>chili<br>sour vinegar<br>umami fish sauce<br>oil"
          ],
          [
           "umami pork<br>potato<br>onion<br>umami tomato<br>umami soy sauce<br>umami clam<br>oil<br>pepper"
          ],
          [
           "umami chicken<br>sweet coconut<br>bean<br>chili<br>onion<br>umami shrimp<br>pepper<br>oil"
          ],
          [
           "umami soy sauce<br>pepper<br>salty salt<br>sweet sugar<br>sour lemon<br>soda<br>oil<br>rice<br>egg<br>onion<br>onion<br>bell pepper<br>umami soy sauce<br>oil<br>salty salt"
          ],
          [
           "umami pork<br>umami chicken<br>oil<br>umami soy sauce<br>sour ketchup<br>sour lemon<br>sweet sugar"
          ],
          [
           "eggplant<br>bean<br>onion<br>chili<br>oil<br>sweet sugar<br>umami soy sauce<br>sour vinegar<br>umami clam<br>oil<br>flour"
          ],
          [
           "umami pork<br>sweet banana<br>sweet sugar<br>sweet pineapple<br>umami soy sauce<br>bay leaf<br>star anise<br>onion<br>salty salt<br>oil"
          ],
          [
           "umami crab<br>umami chicken<br>umami tomato<br>sour ketchup<br>flour<br>egg<br>onion<br>chili<br>onion<br>ginger<br>oil<br>salty salt"
          ],
          [
           "umami beef<br>umami beef<br>broccoli<br>sweet carrot<br>umami soy sauce<br>umami clam<br>oil<br>sweet sugar<br>flour<br>onion<br>garlic<br>oil<br>sesame<br>salty salt"
          ],
          [
           "umami pork<br>umami pork<br>sweet banana<br>umami soy sauce<br>sour vinegar<br>bay leaf<br>sweet sugar<br>onion<br>pepper<br>salty salt"
          ],
          [
           "bean<br>umami pork<br>sweet coconut<br>umami tofu<br>malunggay<br>onion<br>umami tomato<br>oil"
          ],
          [
           "umami chicken<br>pasta<br>umami chicken<br>sweet papaya<br>malunggay<br>onion<br>oil<br>rice<br>umami fish sauce"
          ],
          [
           "umami fish<br>umami tofu<br>bean<br>umami tomato<br>ginger<br>onion<br>sour vinegar<br>oil<br>sweet sugar<br>salty salt"
          ],
          [
           "umami chicken<br>rice<br>umami fish sauce<br>pepper<br>onion<br>egg<br>onion<br>ginger<br>umami chicken<br>sour lemon<br>oil"
          ],
          [
           "umami pork<br>bay leaf<br>salty salt<br>umami pork<br>umami pork<br>sour vinegar<br>sweet sugar<br>pepper<br>onion<br>garlic<br>umami soy sauce<br>bread<br>oil"
          ],
          [
           "umami beef<br>umami beef<br>umami tomato<br>alcohol<br>potato<br>sweet carrot<br>alcohol<br>bell pepper<br>thyme<br>onion<br>garlic<br>umami soy sauce<br>oil<br>salty salt"
          ],
          [
           "umami tofu<br>onion<br>bell pepper<br>onion<br>oil<br>mayonnaise<br>onion<br>sour lemon"
          ],
          [
           "egg<br>umami shrimp<br>pasta<br>cabbage<br>sour lemon<br>garlic<br>onion<br>umami soy sauce<br>umami clam<br>onion<br>salty butter<br>oil<br>salty salt"
          ],
          [
           "umami beef<br>cabbage<br>cabbage<br>sweet corn<br>pepper<br>onion<br>onion<br>umami fish sauce"
          ],
          [
           "umami pork<br>onion<br>lemongrass<br>onion<br>salty salt<br>pepper<br>oil"
          ],
          [
           "umami pork<br>umami tofu<br>sour lemon<br>umami soy sauce<br>onion<br>chili<br>umami soy sauce<br>sour vinegar<br>sour lemon<br>soda<br>pepper"
          ],
          [
           "goat<br>onion<br>umami tomato<br>chili<br>umami tomato<br>bell pepper<br>sour vinegar<br>sweet carrot<br>potato<br>oil<br>salty salt"
          ],
          [
           "umami fish<br>mayonnaise<br>cream<br>umami cheese<br>garlic<br>sour lemon<br>broccoli<br>bell pepper<br>sweet carrot<br>bean<br>oil<br>salty salt"
          ],
          [
           "umami pork<br>bell pepper<br>bell pepper<br>sweet pineapple<br>sweet carrot<br>onion<br>sweet coconut<br>oil<br>salty salt<br>umami fish sauce"
          ],
          [
           "umami pork<br>umami pork<br>umami pork<br>sausage<br>potato<br>sweet carrot<br>bell pepper<br>sweet pea<br>onion<br>umami tomato<br>umami soy sauce<br>bay leaf<br>sweet sugar<br>oil<br>salty salt"
          ],
          [
           "umami beef<br>salty salt<br>salty butter<br>oil<br>pepper<br>umami soy sauce<br>umami clam"
          ],
          [
           "umami chicken<br>sour ketchup<br>sweet sugar<br>sour lemon<br>soda<br>sweet pineapple<br>bay leaf<br>pepper<br>umami soy sauce<br>onion<br>oil<br>sweet carrot<br>cauliflower<br>broccoli<br>bean"
          ],
          [
           "umami chicken<br>bell pepper<br>umami chicken<br>sweet pea<br>bean<br>onion<br>umami tomato<br>umami soy sauce<br>umami tomato<br>sour ketchup<br>sweet sugar<br>salty salt<br>oil"
          ],
          [
           "umami pork<br>umami pork<br>sweet banana<br>sweet carrot<br>sweet sugar<br>umami soy sauce<br>sour vinegar<br>bay leaf<br>pepper<br>oil"
          ],
          [
           "umami pork<br>rice<br>sweet carrot<br>sweet pea<br>onion<br>egg<br>onion<br>umami soy sauce<br>umami soy sauce<br>oil<br>salty salt<br>oil"
          ],
          [
           "eggplant<br>sweet squash<br>bean<br>spinach<br>okra<br>umami tomato<br>onion<br>umami fish sauce<br>salty salt"
          ],
          [
           "umami chicken<br>umami soy sauce<br>sour lemon<br>salty salt<br>pepper<br>sour ketchup"
          ],
          [
           "umami pork<br>eggplant<br>umami fish sauce<br>chili<br>umami tomato<br>onion<br>sour vinegar<br>sweet sugar<br>oil<br>pepper"
          ],
          [
           "bean<br>umami pork<br>spinach<br>umami tomato<br>onion<br>umami fish sauce<br>umami beef<br>umami pork<br>pepper"
          ],
          [
           "pasta<br>umami pork<br>umami pork<br>umami pork<br>oil<br>umami shrimp<br>sweet carrot<br>sweet pea<br>cabbage<br>onion<br>sausage<br>umami clam<br>umami soy sauce<br>parsley<br>pepper"
          ],
          [
           "umami fish<br>sweet mango<br>umami tomato<br>onion<br>ginger<br>sour lemon<br>oil<br>salty salt"
          ],
          [
           "eggplant<br>chili<br>umami fish sauce<br>onion<br>umami tomato<br>sweet sugar<br>sour vinegar<br>oil<br>umami pork<br>pepper"
          ],
          [
           "umami pork<br>umami pork<br>potato<br>sweet carrot<br>umami soy sauce<br>sour lemon<br>onion<br>sweet sugar<br>umami tomato<br>oil<br>bay leaf<br>salty salt"
          ],
          [
           "umami pork<br>bean<br>umami pork<br>sweet coconut<br>onion<br>ginger<br>chili<br>umami shrimp<br>oil<br>pepper"
          ],
          [
           "umami chicken<br>potato<br>sweet carrot<br>umami tomato<br>sausage<br>sweet pea<br>bay leaf<br>onion<br>umami chicken<br>umami broth<br>sweet sugar<br>oil<br>salty salt"
          ],
          [
           "umami chicken<br>umami chicken<br>umami pork<br>onion<br>pepper<br>bay leaf<br>sour vinegar<br>sweet sugar<br>salty salt<br>oil"
          ],
          [
           "umami pork<br>umami soy sauce<br>sour lemon<br>oil<br>onion<br>sweet sugar<br>salty salt"
          ],
          [
           "umami pork<br>salty salt<br>oil<br>umami fish sauce<br>peanut<br>umami pork<br>annatto<br>onion<br>rice<br>oil<br>cabbage<br>eggplant<br>bean<br>sweet banana"
          ],
          [
           "bean<br>umami pork<br>umami pork<br>sweet coconut<br>onion<br>ginger<br>pepper<br>oil<br>umami fish sauce"
          ],
          [
           "umami pork<br>umami pork<br>cabbage<br>umami mushroom<br>sweet sugar<br>oil<br>umami soy sauce<br>alcohol<br>flour<br>star anise<br>pepper"
          ],
          [
           "umami chicken<br>umami fish sauce<br>bean<br>onion<br>umami tomato<br>sour vinegar<br>sweet sugar<br>oil<br>chili<br>chili<br>pepper"
          ],
          [
           "umami pork<br>umami soy sauce<br>rice<br>salty salt<br>onion<br>oil"
          ],
          [
           "sweet carrot<br>umami tomato<br>umami pork<br>umami shrimp<br>onion<br>umami fish sauce<br>pepper<br>oil"
          ],
          [
           "umami pork<br>umami shrimp<br>bean<br>sweet squash<br>okra<br>eggplant<br>bitter bitter gourd<br>sweet sweet potato<br>umami tomato<br>ginger<br>onion<br>umami fish sauce<br>oil<br>pepper"
          ],
          [
           "umami chicken<br>umami chicken<br>umami tomato<br>sweet pineapple<br>potato<br>sweet carrot<br>bell pepper<br>bell pepper<br>onion<br>bay leaf<br>oil<br>umami fish sauce"
          ],
          [
           "umami pork<br>umami pork<br>umami fish sauce<br>onion<br>umami tomato<br>sour vinegar<br>eggplant<br>sweet sugar<br>pepper<br>onion<br>oil"
          ],
          [
           "umami pork<br>umami pork<br>umami pork<br>potato<br>sweet carrot<br>bay leaf<br>sweet coconut<br>umami tomato<br>onion<br>oil<br>umami soy sauce<br>salty salt"
          ],
          [
           "umami beef<br>umami beef<br>star anise<br>onion<br>ginger<br>umami soy sauce<br>sweet sugar<br>oil<br>onion<br>pepper<br>flour<br>salty salt<br>rice<br>oil<br>salty salt"
          ],
          [
           "umami pork<br>sausage<br>sweet banana<br>potato<br>cabbage<br>bean<br>bean<br>onion<br>umami tomato<br>umami tomato<br>umami fish sauce<br>oil"
          ],
          [
           "umami chicken<br>umami chicken<br>peanut<br>cabbage<br>eggplant<br>bean<br>onion<br>paprika<br>umami fish sauce<br>sweet coconut<br>oil<br>pepper<br>salty salt"
          ],
          [
           "umami pork<br>umami pork<br>umami pork<br>onion<br>sour vinegar<br>sweet sugar<br>bay leaf<br>pepper<br>salty salt"
          ],
          [
           "umami pork<br>umami pork<br>sweet banana<br>bean<br>sour vinegar<br>umami soy sauce<br>onion<br>sweet sugar"
          ],
          [
           "umami beef<br>umami beef<br>umami soy sauce<br>bell pepper<br>bell pepper<br>potato<br>sweet carrot<br>umami tomato<br>peanut<br>salty butter<br>chili<br>onion<br>salty salt<br>oil"
          ],
          [
           "umami beef<br>umami clam<br>umami soy sauce<br>flour<br>pepper<br>bell pepper<br>bell pepper<br>oil"
          ],
          [
           "pasta<br>umami chicken<br>umami chicken<br>onion<br>sweet carrot<br>onion<br>celery<br>annatto<br>umami fish sauce<br>oil"
          ],
          [
           "umami pork<br>umami pork<br>sweet pineapple<br>sweet sugar<br>umami soy sauce<br>onion<br>oil<br>salty salt"
          ],
          [
           "umami chicken<br>sweet pineapple<br>umami tomato<br>bell pepper<br>sweet carrot<br>umami fish sauce<br>milk<br>onion<br>oil"
          ],
          [
           "umami pork<br>umami pork<br>umami pork<br>onion<br>bay leaf<br>salty salt<br>ginger<br>mayonnaise<br>sour vinegar<br>pepper<br>salty salt<br>sweet sugar<br>sour lemon"
          ],
          [
           "umami chicken<br>sweet pineapple<br>bell pepper<br>bell pepper<br>sweet coconut<br>umami fish sauce<br>sweet carrot<br>onion<br>umami tomato<br>garlic<br>pepper<br>oil"
          ],
          [
           "umami pork<br>sweet pineapple<br>umami tofu<br>umami soy sauce<br>sour vinegar<br>sweet sugar<br>bean<br>onion<br>star anise<br>pepper<br>oil"
          ],
          [
           "bean<br>umami shrimp<br>umami shrimp<br>spinach<br>onion<br>umami tomato<br>oil<br>umami fish sauce"
          ],
          [
           "umami pork<br>umami pork<br>yam<br>sweet squash<br>bean<br>okra<br>eggplant<br>bitter bitter gourd<br>umami tomato<br>onion<br>ginger<br>umami fish sauce<br>oil<br>pepper"
          ],
          [
           "umami chicken<br>umami clam<br>bean<br>sweet sugar<br>alcohol<br>onion<br>chili<br>garlic<br>oil<br>oil"
          ],
          [
           "umami beef<br>umami beef<br>umami tomato<br>onion<br>bean<br>potato<br>oil<br>umami fish sauce"
          ],
          [
           "umami beef<br>umami beef<br>umami beef<br>umami beef<br>sour tamarind<br>onion<br>pepper<br>umami beef<br>salty salt<br>oil"
          ],
          [
           "umami pork<br>umami pork<br>star anise<br>sweet sugar<br>umami soy sauce<br>onion<br>flour<br>oil<br>salty salt"
          ],
          [
           "rib<br>sweet pineapple<br>umami beef<br>umami broth<br>onion<br>umami soy sauce<br>sweet sugar<br>oil<br>salty salt"
          ],
          [
           "umami fish<br>mayonnaise<br>onion<br>onion<br>chili<br>salty butter<br>garlic<br>oil"
          ],
          [
           "umami beef<br>umami beef<br>peanut<br>bean<br>eggplant<br>cabbage<br>annatto<br>flour<br>pepper<br>umami fish sauce<br>oil"
          ],
          [
           "umami chicken<br>umami chicken<br>onion<br>lemongrass<br>pepper<br>onion<br>potato<br>salty salt<br>oil"
          ],
          [
           "umami pork<br>potato<br>onion<br>umami tomato<br>umami fish sauce<br>umami soy sauce<br>sweet pineapple<br>sour ketchup<br>pepper<br>oil"
          ],
          [
           "umami fish<br>sweet coconut<br>spinach<br>chili<br>pepper<br>ginger<br>onion<br>sour vinegar<br>oil"
          ],
          [
           "umami beef<br>umami soy sauce<br>alcohol<br>umami clam<br>flour<br>broccoli<br>ginger<br>onion<br>umami beef<br>umami broth<br>oil<br>salty salt"
          ],
          [
           "umami chicken<br>umami chicken<br>umami chicken<br>pepper<br>bay leaf<br>umami clam<br>sweet sugar<br>sour vinegar<br>oil"
          ],
          [
           "umami fish<br>umami tomato<br>pasta<br>cabbage<br>onion<br>oil<br>onion<br>umami fish sauce"
          ],
          [
           "sour tamarind<br>umami tomato<br>bitter radish<br>onion<br>spinach<br>okra<br>eggplant<br>pepper<br>oil<br>salty salt<br>umami fish sauce"
          ],
          [
           "umami pork<br>sour lemon<br>umami fish sauce<br>flour<br>egg<br>pepper<br>oil"
          ],
          [
           "taro<br>sweet coconut<br>umami shrimp<br>onion<br>ginger<br>chili<br>umami pork<br>pepper"
          ],
          [
           "umami pork<br>salty salt<br>umami fish sauce<br>onion<br>umami tomato<br>ginger<br>pepper<br>sour vinegar<br>sweet sugar<br>oil<br>pepper"
          ],
          [
           "umami chicken<br>umami chicken<br>sweet carrot<br>potato<br>umami tomato<br>bell pepper<br>umami tomato<br>chili<br>onion<br>umami cheese<br>oil"
          ],
          [
           "umami squid<br>umami soy sauce<br>sour vinegar<br>salty salt<br>onion<br>umami tomato<br>sweet sugar<br>oil"
          ],
          [
           "umami fish<br>umami cheese<br>pasta<br>basil<br>nut<br>umami cheese<br>oil"
          ],
          [
           "umami fish<br>umami pork<br>sweet coconut<br>sour lemon<br>ginger<br>chili<br>eggplant<br>onion<br>umami fish sauce<br>salty salt"
          ],
          [
           "umami beef<br>umami beef<br>rice<br>sweet corn<br>onion<br>garlic<br>onion<br>egg<br>oil<br>salty salt<br>umami fish sauce"
          ],
          [
           "sour tamarind<br>spinach<br>bean<br>okra<br>eggplant<br>bitter radish<br>umami tomato<br>pepper<br>onion<br>umami fish sauce"
          ],
          [
           "bean<br>umami pork<br>umami pork<br>spinach<br>umami tomato<br>umami pork<br>onion<br>umami fish sauce<br>oil"
          ],
          [
           "umami pork<br>umami pork<br>sweet sugar<br>sour ketchup<br>sour lemon<br>umami soy sauce<br>pepper"
          ],
          [
           "umami pork<br>mayonnaise<br>onion<br>chili<br>pepper<br>umami pork<br>pepper<br>umami soy sauce<br>salty butter<br>oil"
          ],
          [
           "rice<br>umami pork<br>umami soy sauce<br>salty salt<br>umami shrimp<br>sweet pea<br>onion<br>egg<br>sweet sugar<br>ginger<br>oil"
          ],
          [
           "umami chicken<br>umami chicken<br>flour<br>umami soy sauce<br>sour lemon<br>pepper<br>oil"
          ],
          [
           "sweet jackfruit<br>malunggay<br>sweet coconut<br>umami anchovy<br>chili<br>umami fish sauce<br>oil"
          ],
          [
           "umami chicken<br>sweet papaya<br>spinach<br>sweet coconut<br>chili<br>onion<br>ginger<br>umami fish sauce<br>oil"
          ],
          [
           "pasta<br>umami chicken<br>peas<br>sweet carrot<br>cabbage<br>onion<br>umami soy sauce<br>oil<br>salty salt"
          ],
          [
           "umami chicken<br>umami pork<br>umami pork<br>potato<br>bell pepper<br>bell pepper<br>sweet pea<br>onion<br>ginger<br>sweet coconut<br>umami fish sauce<br>oil"
          ],
          [
           "umami chicken<br>umami chicken<br>sausage<br>potato<br>sweet carrot<br>bell pepper<br>bell pepper<br>umami mushroom<br>cream<br>umami soy sauce<br>sour lemon<br>onion<br>salty salt"
          ],
          [
           "umami fish<br>onion<br>onion<br>chili<br>pepper<br>umami soy sauce<br>ginger<br>umami pork<br>mayonnaise<br>salty butter<br>garlic<br>salty salt"
          ],
          [
           "cabbage<br>umami pork<br>umami clam<br>onion<br>salty salt<br>oil"
          ],
          [
           "bitter radish<br>umami pork<br>umami pork<br>sour vinegar<br>sweet sugar<br>onion<br>oil<br>salty salt<br>salty salt"
          ],
          [
           "umami chicken<br>sweet banana<br>potato<br>umami chicken<br>umami broth<br>cabbage<br>onion<br>umami fish sauce<br>pepper"
          ],
          [
           "umami chicken<br>umami soy sauce<br>rice<br>salty salt<br>oil<br>umami beef<br>egg<br>pepper<br>oil"
          ],
          [
           "umami fish<br>umami soy sauce<br>sweet sugar<br>sour lemon<br>pepper"
          ],
          [
           "umami beef<br>umami mushroom<br>peas<br>umami soy sauce<br>ginger<br>garlic<br>umami beef<br>umami broth<br>onion<br>alcohol<br>oil<br>flour<br>pepper<br>salty salt"
          ],
          [
           "umami pork<br>umami soy sauce<br>sour vinegar<br>sweet sugar<br>sweet banana<br>bay leaf<br>pepper<br>salty salt"
          ],
          [
           "umami beef<br>umami soy sauce<br>sweet sugar<br>sweet sugar<br>alcohol<br>oil<br>chili"
          ],
          [
           "umami pork<br>sweet pineapple<br>bay leaf<br>umami pork<br>umami pork<br>umami beef<br>umami pork<br>onion<br>annatto<br>ginger<br>bell pepper<br>umami beef<br>salty salt<br>oil"
          ],
          [
           "umami fish<br>oil<br>umami soy sauce<br>salty salt<br>oil<br>pepper"
          ],
          [
           "umami pork<br>umami pork<br>sour tamarind<br>spinach<br>eggplant<br>bean<br>umami tomato<br>okra<br>onion<br>pepper<br>salty salt<br>umami fish sauce"
          ],
          [
           "bean<br>spinach<br>umami shrimp<br>umami pork<br>sweet coconut<br>chili<br>ginger<br>onion<br>oil<br>pepper"
          ],
          [
           "umami pork<br>umami pork<br>sweet pineapple<br>umami soy sauce<br>sweet pineapple<br>sweet sugar<br>onion<br>oil<br>pepper"
          ],
          [
           "umami squid<br>umami pork<br>sweet carrot<br>celery<br>onion<br>umami tomato<br>sour lemon<br>umami soy sauce<br>salty salt<br>egg<br>flour<br>oil"
          ],
          [
           "umami pork<br>umami pork<br>umami soy sauce<br>sour ketchup<br>sour lemon<br>pepper<br>umami soy sauce<br>sour ketchup<br>sour lemon<br>oil"
          ],
          [
           "umami mushroom<br>pasta<br>umami clam<br>umami soy sauce<br>onion<br>celery<br>parsley<br>cabbage<br>sweet carrot<br>sweet pea<br>oil<br>pepper"
          ],
          [
           "lemongrass<br>chili<br>onion<br>ginger<br>onion<br>umami beef<br>umami broth<br>flour<br>sweet sugar<br>pepper<br>umami fish sauce<br>oil"
          ],
          [
           "umami clam<br>spinach<br>ginger<br>onion<br>salty salt<br>pepper<br>oil<br>pepper"
          ],
          [
           "umami pork<br>sour lemon<br>sour ketchup<br>umami soy sauce<br>sweet sugar<br>garlic<br>umami soy sauce<br>sour lemon<br>sour ketchup<br>oil"
          ],
          [
           "umami chicken<br>ginger<br>sour vinegar<br>sour lemon<br>lemongrass<br>annatto<br>oil<br>salty butter<br>sour lemon"
          ],
          [
           "umami beef<br>star anise<br>sweet sugar<br>onion<br>ginger<br>umami soy sauce<br>onion<br>oil<br>salty salt"
          ],
          [
           "flour<br>umami pork<br>sausage<br>onion<br>sweet pea<br>sweet carrot<br>cabbage<br>umami chicken<br>umami broth<br>umami clam<br>umami soy sauce<br>parsley<br>oil<br>salty salt"
          ],
          [
           "umami chicken<br>pasta<br>pasta<br>cabbage<br>sweet carrot<br>parsley<br>onion<br>celery<br>umami soy sauce<br>pepper<br>oil"
          ],
          [
           "umami pork<br>umami pork<br>sweet pineapple<br>egg<br>umami soy sauce<br>pepper<br>bay leaf<br>sour vinegar<br>sweet sugar"
          ],
          [
           "garlic<br>onion<br>umami beef<br>umami broth<br>bell pepper<br>bell pepper<br>umami tomato<br>chili<br>bay leaf<br>potato<br>sweet carrot<br>oil<br>salty salt"
          ],
          [
           "bean<br>umami anchovy<br>umami tomato<br>onion<br>spinach<br>pepper<br>umami fish sauce"
          ],
          [
           "cabbage<br>umami squid<br>peas<br>umami clam<br>sweet carrot<br>bell pepper<br>cauliflower<br>umami chicken<br>egg<br>umami chicken<br>umami broth<br>onion<br>salty salt<br>oil"
          ],
          [
           "umami pork<br>spinach<br>chili<br>umami tomato<br>bitter radish<br>bean<br>onion<br>okra<br>sour tamarind<br>umami fish sauce<br>pepper"
          ],
          [
           "umami chicken<br>umami chicken<br>potato<br>cabbage<br>cabbage<br>umami tomato<br>bean<br>sausage<br>sweet pea<br>sweet banana<br>umami tomato<br>onion<br>oil<br>umami fish sauce"
          ],
          [
           "umami pork<br>umami pork<br>cabbage<br>turnip<br>bean<br>sweet sweet potato<br>sweet carrot<br>parsley<br>onion<br>umami fish sauce<br>oil<br>umami soy sauce<br>sweet sugar<br>flour<br>peanut"
          ],
          [
           "cabbage<br>umami chicken<br>umami chicken<br>bell pepper<br>bell pepper<br>umami clam<br>onion<br>oil<br>salty salt"
          ],
          [
           "umami squid<br>onion<br>umami tomato<br>umami soy sauce<br>sour vinegar<br>garlic<br>sweet sugar<br>salty salt<br>oil"
          ],
          [
           "umami pork<br>umami tomato<br>eggplant<br>umami pork<br>umami broth<br>sour vinegar<br>umami fish sauce<br>onion<br>sweet sugar<br>pepper<br>oil"
          ],
          [
           "umami pork<br>umami pork<br>sweet pineapple<br>onion<br>umami soy sauce<br>sweet sugar<br>bay leaf<br>pepper<br>oil<br>salty salt"
          ],
          [
           "taro<br>sweet coconut<br>umami pork<br>chili<br>ginger<br>onion"
          ],
          [
           "umami beef<br>bitter bitter gourd<br>onion<br>oil<br>umami clam<br>umami soy sauce<br>oil<br>flour<br>ginger<br>pepper"
          ],
          [
           "umami pork<br>umami pork<br>umami pork<br>pepper<br>onion<br>sour vinegar<br>bay leaf<br>oil<br>sweet sugar<br>salty salt"
          ],
          [
           "sweet jackfruit<br>umami pork<br>sweet coconut<br>onion<br>chili<br>oil"
          ],
          [
           "umami beef<br>sausage<br>umami beef<br>pasta<br>umami cheese<br>umami cheese<br>umami cheese<br>umami tomato<br>umami tomato<br>onion<br>parsley<br>basil<br>oil<br>salty salt"
          ],
          [
           "umami pork<br>bay leaf<br>onion<br>pepper<br>oil<br>sour vinegar<br>onion<br>onion<br>pepper<br>pepper<br>sweet sugar"
          ],
          [
           "umami pork<br>umami pork<br>sweet coconut<br>sweet coconut<br>cream<br>onion<br>umami fish sauce<br>chili<br>ginger"
          ],
          [
           "umami chicken<br>sweet pineapple<br>sweet sugar<br>umami soy sauce<br>onion<br>oil<br>salty salt"
          ],
          [
           "umami pork<br>sweet carrot<br>potato<br>umami tomato<br>bell pepper<br>chili<br>sweet pea<br>umami beef<br>umami broth<br>onion<br>umami soy sauce<br>oil"
          ],
          [
           "umami pork<br>umami pork<br>umami chicken<br>onion<br>mayonnaise<br>onion<br>pepper<br>chili<br>salty butter<br>oil"
          ],
          [
           "pasta<br>umami shrimp<br>umami chicken<br>cabbage<br>sweet carrot<br>celery<br>bean<br>onion<br>umami soy sauce<br>sausage<br>parsley<br>pepper<br>oil"
          ],
          [
           "pasta<br>umami beef<br>umami pork<br>umami pork<br>pasta<br>umami cheese<br>onion<br>garlic<br>oil<br>salty salt"
          ],
          [
           "bean<br>spinach<br>sour vinegar<br>umami soy sauce<br>onion<br>oil<br>salty salt"
          ],
          [
           "umami fish<br>ginger<br>sour vinegar<br>onion<br>eggplant<br>okra<br>pepper<br>pepper<br>salty salt"
          ],
          [
           "umami pork<br>mayonnaise<br>sour lemon<br>onion<br>chili<br>pepper<br>onion<br>salty salt"
          ],
          [
           "okra<br>umami tomato<br>garlic<br>salty salt<br>oil"
          ],
          [
           "umami fish<br>umami fish<br>spinach<br>bean<br>umami tomato<br>okra<br>bitter radish<br>onion<br>pepper<br>umami fish sauce<br>pepper"
          ],
          [
           "umami pork<br>sweet coconut<br>sweet squash<br>bean<br>onion<br>umami fish sauce<br>pepper<br>oil"
          ],
          [
           "umami chicken<br>potato<br>sweet carrot<br>bell pepper<br>umami cheese<br>umami tomato<br>umami chicken<br>umami broth<br>onion<br>oil<br>salty salt"
          ],
          [
           "umami pork<br>onion<br>alcohol<br>sour lemon<br>umami soy sauce<br>garlic<br>oil<br>salty salt"
          ],
          [
           "gourd<br>sweet squash<br>umami pork<br>onion<br>umami tomato<br>umami fish sauce<br>pepper"
          ],
          [
           "umami beef<br>sweet squash<br>cabbage<br>bean<br>onion<br>pepper<br>umami beef<br>umami broth<br>umami fish sauce"
          ],
          [
           "sweet squash<br>umami pork<br>umami shrimp<br>umami tomato<br>onion<br>parsley<br>umami fish sauce<br>pepper<br>oil"
          ],
          [
           "umami pork<br>umami chicken<br>mayonnaise<br>onion<br>sour lemon<br>chili<br>garlic<br>pepper<br>oil<br>salty butter"
          ],
          [
           "umami fish<br>sweet coconut<br>chili<br>chili<br>spinach<br>onion<br>oil<br>pepper<br>salty salt"
          ],
          [
           "umami shrimp<br>sour tamarind<br>okra<br>bean<br>bitter radish<br>umami tomato<br>onion<br>umami fish sauce<br>pepper"
          ],
          [
           "umami pork<br>cabbage<br>sweet banana<br>sausage<br>umami tomato<br>bean<br>potato<br>umami tomato<br>onion<br>umami beef<br>umami broth<br>umami fish sauce<br>pepper<br>oil"
          ],
          [
           "umami beef<br>umami beef<br>cabbage<br>sweet corn<br>bean<br>onion<br>pepper<br>umami fish sauce"
          ],
          [
           "umami beef<br>umami beef<br>cabbage<br>umami mushroom<br>onion<br>onion<br>star anise<br>pepper<br>salty salt"
          ],
          [
           "umami pork<br>sweet coconut<br>pepper<br>chili<br>garlic<br>onion<br>pepper<br>oil"
          ],
          [
           "umami pork<br>lemongrass<br>salty salt<br>oil<br>sour vinegar<br>sour vinegar<br>chili<br>bell pepper<br>pepper<br>salty salt"
          ],
          [
           "umami fish<br>sour tamarind<br>spinach<br>bean<br>okra<br>pepper<br>umami tomato<br>onion<br>umami fish sauce<br>pepper"
          ],
          [
           "umami pork<br>umami pork<br>sweet coconut<br>pepper<br>sweet jackfruit<br>bean<br>umami fish sauce<br>pepper<br>bay leaf<br>onion<br>chili<br>pepper<br>oil"
          ],
          [
           "umami fish<br>onion<br>sour lemon<br>umami soy sauce<br>salty salt<br>sweet sugar<br>pepper<br>oil"
          ],
          [
           "umami pork<br>sweet banana<br>umami soy sauce<br>sour vinegar<br>sweet sugar<br>umami beef<br>umami broth<br>oil"
          ],
          [
           "umami pork<br>umami fish sauce<br>chili<br>sweet coconut<br>onion<br>oil<br>salty salt"
          ],
          [
           "umami shrimp<br>bell pepper<br>bell pepper<br>umami tomato<br>sour lemon<br>sweet coconut<br>parsley<br>ginger<br>onion<br>pepper<br>chili<br>oil"
          ],
          [
           "onion<br>onion<br>umami pork<br>umami soy sauce<br>chili<br>mayonnaise<br>garlic<br>pepper<br>salty salt<br>salty butter<br>oil"
          ],
          [
           "umami beef<br>sour tamarind<br>spinach<br>eggplant<br>umami tomato<br>pepper<br>okra<br>bitter radish<br>bean<br>onion<br>umami fish sauce<br>pepper"
          ],
          [
           "pasta<br>mayonnaise<br>umami fish<br>onion<br>celery<br>sour pickle<br>umami cheese<br>salty salt<br>pepper"
          ],
          [
           "umami beef<br>sour tamarind<br>spinach<br>okra<br>eggplant<br>bean<br>bitter radish<br>onion<br>umami tomato<br>pepper<br>umami fish sauce<br>pepper"
          ],
          [
           "umami pork<br>sweet corn<br>peas<br>umami clam<br>flour<br>garlic<br>umami soy sauce<br>pepper<br>umami beef<br>umami broth<br>oil"
          ],
          [
           "bean<br>umami pork<br>umami pork<br>sweet coconut<br>spinach<br>bitter bitter gourd<br>chili<br>onion<br>umami fish sauce<br>pepper"
          ],
          [
           "umami chicken<br>sweet carrot<br>potato<br>bell pepper<br>bell pepper<br>sweet raisin<br>onion<br>umami tomato<br>umami soy sauce<br>sour lemon<br>garlic<br>umami chicken<br>umami broth<br>oil<br>salty salt"
          ],
          [
           "umami chicken<br>egg<br>umami pork<br>sweet sugar<br>salty salt<br>umami soy sauce<br>sour vinegar<br>pepper"
          ],
          [
           "pasta<br>pasta<br>umami shrimp<br>umami shrimp<br>umami pork<br>umami chicken<br>cabbage<br>sweet carrot<br>bean<br>parsley<br>umami soy sauce<br>pepper<br>oil"
          ],
          [
           "umami beef<br>umami beef<br>cabbage<br>sweet corn<br>bean<br>onion<br>pepper<br>umami fish sauce"
          ],
          [
           "umami pork<br>spinach<br>sweet coconut<br>sweet coconut<br>cream<br>chili<br>onion<br>oil<br>pepper<br>umami fish sauce"
          ],
          [
           "umami chicken<br>umami chicken<br>rice<br>onion<br>garlic<br>oil<br>salty salt"
          ],
          [
           "pasta<br>umami shrimp<br>cabbage<br>umami shrimp<br>umami chicken<br>peas<br>sausage<br>sweet carrot<br>parsley<br>umami soy sauce<br>onion<br>pepper<br>oil"
          ],
          [
           "umami beef<br>onion<br>pepper<br>sweet banana<br>potato<br>cabbage<br>cabbage<br>umami fish sauce"
          ],
          [
           "umami chicken<br>sweet squash<br>cabbage<br>cabbage<br>umami chicken<br>umami broth<br>onion<br>pepper<br>umami fish sauce"
          ],
          [
           "umami pork<br>umami beef<br>parsley<br>garlic<br>salty salt<br>pepper<br>bell pepper<br>bell pepper<br>umami cheese"
          ],
          [
           "umami pork<br>sweet coconut<br>cream<br>pepper<br>chili<br>umami shrimp<br>onion<br>oil"
          ],
          [
           "umami shrimp<br>umami squid<br>rice<br>alcohol<br>umami fish<br>umami broth<br>umami squid<br>onion<br>umami tomato<br>bell pepper<br>bell pepper<br>sour lemon<br>oil"
          ],
          [
           "umami chicken<br>egg<br>umami pork<br>sweet sugar<br>salty salt<br>umami soy sauce<br>sour vinegar<br>pepper"
          ],
          [
           "umami shrimp<br>umami squid<br>salty butter<br>garlic<br>chili<br>parsley<br>salty salt"
          ],
          [
           "umami pork<br>umami pork<br>umami pork<br>potato<br>umami tomato<br>sweet carrot<br>sweet raisin<br>bay leaf<br>umami soy sauce<br>ginger<br>onion<br>oil<br>salty salt"
          ],
          [
           "umami fish<br>okra<br>umami tomato<br>bitter bitter gourd<br>onion<br>bean<br>umami fish sauce"
          ],
          [
           "umami pork<br>umami pork<br>turnip<br>sweet carrot<br>onion<br>parsley<br>garlic<br>pepper<br>salty salt<br>egg<br>oil"
          ],
          [
           "umami beef<br>sausage<br>umami tomato<br>potato<br>bean<br>cabbage<br>cabbage<br>sweet banana<br>sweet pea<br>umami beef<br>umami broth<br>onion<br>umami fish sauce<br>pepper<br>oil"
          ],
          [
           "umami beef<br>pepper<br>onion<br>sweet corn<br>umami fish sauce<br>umami beef<br>potato<br>cabbage"
          ],
          [
           "pasta<br>umami shrimp<br>sausage<br>cabbage<br>parsley<br>sweet carrot<br>onion<br>umami fish sauce<br>onion<br>paprika<br>pepper<br>oil"
          ],
          [
           "pasta<br>umami shrimp<br>umami pork<br>umami fish<br>flour<br>annatto<br>umami fish sauce<br>pepper<br>oil<br>cabbage<br>egg<br>umami pork<br>onion"
          ],
          [
           "taro<br>umami pork<br>umami shrimp<br>sweet coconut<br>umami shrimp<br>onion<br>chili<br>oil"
          ],
          [
           "umami fish<br>pepper<br>chili<br>mayonnaise<br>umami pork<br>onion<br>garlic<br>salty salt<br>pepper<br>salty butter"
          ],
          [
           "cabbage<br>salty salt<br>bitter radish<br>ginger<br>garlic<br>onion<br>umami fish sauce<br>umami shrimp<br>sweet sugar"
          ],
          [
           "umami beef<br>umami beef<br>onion<br>chili<br>rice<br>annatto<br>salty salt<br>garlic<br>umami beef<br>umami broth<br>onion"
          ],
          [
           "umami pork<br>umami tofu<br>sour vinegar<br>sour vinegar<br>chili<br>onion<br>onion<br>sweet sugar<br>umami soy sauce<br>pepper"
          ],
          [
           "umami pork<br>egg<br>umami tomato<br>oil"
          ],
          [
           "umami fish<br>bean<br>umami shrimp<br>bitter bitter gourd<br>umami tomato<br>onion<br>chili<br>umami fish sauce<br>pepper<br>oil"
          ],
          [
           "umami fish<br>bean<br>mustard<br>okra<br>chili<br>rice<br>umami tomato<br>onion<br>umami fish sauce"
          ],
          [
           "umami pork<br>umami tofu<br>chili<br>bean<br>ginger<br>chili<br>onion<br>bean<br>oil<br>umami chicken<br>umami broth<br>flour"
          ],
          [
           "umami fish<br>salty salt<br>oil<br>egg<br>umami tomato<br>onion<br>umami fish sauce"
          ],
          [
           "umami fish<br>salty salt<br>oil<br>eggplant<br>umami tomato<br>onion<br>sour lemon<br>umami shrimp<br>pepper"
          ],
          [
           "umami tofu<br>chili<br>pepper<br>onion<br>vegetable<br>umami broth<br>flour<br>onion<br>umami soy sauce<br>oil<br>salty salt"
          ],
          [
           "egg<br>garlic<br>rice<br>umami tomato<br>oil"
          ],
          [
           "umami pork<br>sweet sugar<br>onion<br>umami soy sauce<br>alcohol<br>umami beef<br>umami broth<br>oil<br>flour<br>salty salt"
          ],
          [
           "umami beef<br>sweet melon<br>spinach<br>bean<br>umami tomato<br>onion<br>pepper<br>umami fish sauce"
          ],
          [
           "gourd<br>umami pork<br>umami tomato<br>onion<br>garlic<br>umami beef<br>umami broth<br>oil<br>salty salt"
          ],
          [
           "umami pork<br>umami tomato<br>potato<br>sweet carrot<br>bay leaf<br>umami beef<br>umami broth<br>bell pepper<br>bell pepper<br>onion<br>oil<br>salty salt"
          ],
          [
           "umami beef<br>potato<br>cabbage<br>onion<br>garlic<br>umami beef<br>umami broth<br>oil<br>parsley<br>salty salt"
          ],
          [
           "umami fish<br>mustard<br>okra<br>umami tomato<br>pepper<br>onion<br>pepper<br>umami fish sauce"
          ],
          [
           "umami pork<br>oil<br>bean<br>spinach<br>umami shrimp<br>umami tomato<br>onion<br>oil<br>salty salt"
          ],
          [
           "egg<br>umami pork<br>umami soy sauce<br>sour lemon<br>pepper<br>garlic<br>rice<br>oil<br>salty salt"
          ],
          [
           "umami pork<br>sour lemon<br>oil<br>bean<br>malunggay<br>umami pork<br>umami pork<br>umami tomato<br>onion<br>pepper<br>oil<br>umami fish sauce"
          ],
          [
           "umami pork<br>umami soy sauce<br>sour lemon<br>sour ketchup<br>sweet sugar<br>garlic<br>pepper<br>salty salt<br>sour lemon"
          ],
          [
           "umami pork<br>umami pork<br>potato<br>sweet banana<br>cabbage<br>onion<br>pepper<br>umami fish sauce"
          ],
          [
           "umami shrimp<br>sweet squash<br>bean<br>malunggay<br>umami chicken<br>umami broth<br>onion<br>garlic<br>oil<br>salty salt"
          ],
          [
           "umami chicken<br>rice<br>umami chicken<br>egg<br>onion<br>onion<br>garlic<br>oil<br>pepper<br>umami fish sauce"
          ],
          [
           "umami pork<br>sweet banana<br>umami pork<br>bean<br>sweet sugar<br>onion<br>bay leaf<br>sweet pineapple<br>umami soy sauce<br>sour vinegar<br>oil"
          ],
          [
           "bean<br>umami pork<br>umami pork<br>spinach<br>malunggay<br>umami tomato<br>onion<br>pepper<br>umami fish sauce<br>oil"
          ],
          [
           "umami shrimp<br>cabbage<br>pasta<br>umami shrimp<br>sweet carrot<br>celery<br>peas<br>parsley<br>onion<br>umami soy sauce<br>pepper<br>oil"
          ],
          [
           "umami pork<br>umami soy sauce<br>sweet sugar<br>umami tofu<br>egg<br>umami beef<br>umami broth<br>salty salt<br>garlic<br>oil"
          ],
          [
           "umami pork<br>potato<br>sweet carrot<br>bell pepper<br>bell pepper<br>sweet raisin<br>onion<br>umami tomato<br>umami beef<br>umami broth<br>oil"
          ],
          [
           "umami chicken<br>sweet squash<br>bean<br>onion<br>sweet coconut<br>umami fish sauce<br>pepper<br>oil"
          ],
          [
           "umami shrimp<br>sweet coconut<br>pepper<br>umami beef<br>chili<br>onion<br>onion<br>pepper<br>umami fish sauce<br>oil"
          ],
          [
           "umami pork<br>sweet coconut<br>umami pork<br>pepper<br>sour vinegar<br>onion<br>pepper<br>oil<br>salty salt"
          ],
          [
           "umami pork<br>pepper<br>umami beef<br>chili<br>onion<br>sweet coconut<br>umami shrimp<br>oil<br>pepper<br>salty salt"
          ],
          [
           "umami shrimp<br>chili<br>onion<br>oil<br>salty butter<br>salty salt<br>pepper"
          ],
          [
           "bean<br>okra<br>bitter bitter gourd<br>malunggay<br>onion<br>umami tomato<br>umami fish sauce"
          ],
          [
           "umami pork<br>sweet banana<br>pepper<br>bay leaf<br>onion<br>sweet sugar<br>umami soy sauce<br>sour vinegar<br>oil<br>salty salt"
          ],
          [
           "umami beef<br>onion<br>pepper<br>salty salt<br>umami fish sauce<br>cabbage<br>cabbage<br>chili<br>umami fish sauce<br>sour lemon"
          ],
          [
           "umami beef<br>onion<br>potato<br>parsley<br>oil<br>salty salt"
          ],
          [
           "umami fish<br>egg<br>onion<br>onion<br>umami tomato<br>pepper<br>umami fish sauce<br>oil"
          ],
          [
           "umami clam<br>umami squid<br>umami shrimp<br>sweet coconut<br>umami shrimp<br>garlic<br>onion<br>chili<br>pepper<br>oil"
          ],
          [
           "umami chicken<br>umami shrimp<br>umami shrimp<br>wrapper<br>umami chicken<br>onion<br>oil<br>annatto<br>onion<br>umami fish sauce<br>pepper<br>salty salt"
          ],
          [
           "gourd<br>umami pork<br>umami tomato<br>onion<br>pepper<br>oil"
          ],
          [
           "pasta<br>umami shrimp<br>oil<br>salty butter<br>umami chicken<br>umami broth<br>sour lemon<br>parsley<br>pepper<br>pepper<br>salty salt"
          ],
          [
           "umami clam<br>garlic<br>parsley<br>umami cheese<br>salty butter<br>oil"
          ],
          [
           "umami chicken<br>pasta<br>malunggay<br>egg<br>sweet papaya<br>onion<br>umami chicken<br>oil<br>umami fish sauce<br>pepper"
          ],
          [
           "flour<br>cabbage<br>sweet pea<br>sweet carrot<br>bell pepper<br>umami pork<br>umami chicken<br>umami chicken<br>umami broth<br>flour<br>onion<br>umami soy sauce<br>umami clam<br>pepper<br>oil"
          ],
          [
           "umami chicken<br>malunggay<br>sweet coconut<br>sweet papaya<br>onion<br>umami chicken<br>pepper<br>umami fish sauce<br>oil"
          ],
          [
           "pasta<br>umami chicken<br>ginger<br>garlic<br>pepper<br>cabbage<br>umami clam<br>umami soy sauce<br>oil<br>alcohol<br>umami chicken<br>umami broth<br>flour<br>salty salt<br>oil"
          ],
          [
           "umami beef<br>sweet pea<br>umami soy sauce<br>umami clam<br>alcohol<br>garlic<br>pepper<br>salty salt<br>flour<br>oil"
          ],
          [
           "umami pork<br>umami tomato<br>onion<br>umami chicken<br>umami broth<br>oil<br>salty salt"
          ],
          [
           "umami beef<br>flour<br>umami tomato<br>umami beef<br>alcohol<br>onion<br>sweet sugar<br>umami soy sauce<br>sour vinegar<br>bay leaf<br>umami mushroom<br>salty salt<br>oil"
          ],
          [
           "umami pork<br>oil<br>salty salt<br>pepper<br>salty butter<br>umami soy sauce<br>umami clam"
          ],
          [
           "okra<br>umami pork<br>umami soy sauce<br>sour vinegar<br>garlic<br>sweet sugar<br>oil<br>salty salt"
          ],
          [
           "umami beef<br>umami soy sauce<br>umami beef<br>umami broth<br>onion<br>pepper<br>salty salt<br>sweet sugar<br>sour lemon"
          ],
          [
           "umami pork<br>sweet coconut<br>cream<br>umami shrimp<br>chili<br>pepper<br>onion<br>oil<br>salty salt"
          ],
          [
           "umami beef<br>umami beef<br>sausage<br>egg<br>sweet carrot<br>umami tomato<br>umami beef<br>sour pickle<br>onion<br>salty salt<br>flour<br>oil<br>umami soy sauce<br>garlic<br>pepper"
          ],
          [
           "umami pork<br>potato<br>bell pepper<br>bell pepper<br>sweet pea<br>umami pork<br>sour lemon<br>umami soy sauce<br>onion<br>salty salt<br>oil"
          ],
          [
           "umami fish<br>sour tamarind<br>pepper<br>onion<br>bitter radish<br>mustard<br>umami tomato<br>umami miso<br>umami fish sauce"
          ],
          [
           "umami pork<br>okra<br>bean<br>umami tomato<br>spinach<br>eggplant<br>pepper<br>umami fish sauce"
          ],
          [
           "umami pork<br>umami soy sauce<br>pepper<br>flour<br>ginger<br>onion<br>rice<br>oil"
          ],
          [
           "pasta<br>umami pork<br>umami tomato<br>umami beef<br>sour ketchup<br>onion<br>garlic<br>sweet sugar<br>sausage<br>umami cheese<br>salty salt<br>oil"
          ],
          [
           "umami pork<br>chili<br>eggplant<br>umami tomato<br>onion<br>spinach<br>bean<br>umami fish sauce"
          ],
          [
           "umami chicken<br>onion<br>bay leaf<br>lemongrass<br>salty salt<br>pepper<br>lemongrass<br>onion"
          ],
          [
           "pasta<br>gourd<br>umami pork<br>umami beef<br>onion<br>onion<br>umami chicken<br>umami broth<br>oil<br>salty salt"
          ],
          [
           "umami pork<br>onion<br>sour lemon<br>umami soy sauce<br>salty salt<br>pepper<br>sweet sugar<br>oil"
          ],
          [
           "rice<br>salty salt<br>umami fish<br>garlic<br>oil<br>onion"
          ],
          [
           "umami pork<br>sweet squash<br>umami shrimp<br>gourd<br>eggplant<br>okra<br>bean<br>umami beef<br>umami broth<br>onion<br>umami tomato<br>oil<br>salty salt"
          ],
          [
           "umami beef<br>onion<br>rice<br>egg<br>oil<br>umami beef<br>umami broth<br>salty salt"
          ],
          [
           "umami pork<br>umami pork<br>umami tomato<br>onion<br>pepper<br>sour tamarind<br>umami pork<br>oil<br>salty salt"
          ],
          [
           "umami chicken<br>onion<br>garlic<br>umami chicken<br>umami broth<br>umami tomato<br>potato<br>sweet carrot<br>bay leaf<br>sweet sugar<br>salty salt<br>oil"
          ],
          [
           "umami fish<br>parsley<br>onion<br>sour lemon<br>umami chicken<br>umami broth<br>salty salt"
          ],
          [
           "umami squid<br>onion<br>salty salt<br>umami soy sauce<br>sweet sugar<br>garlic<br>pepper<br>sour ketchup<br>sour lemon"
          ],
          [
           "umami beef<br>umami tomato<br>chili<br>chili<br>onion<br>annatto<br>umami beef<br>sour tamarind<br>sweet jackfruit<br>umami fish sauce"
          ],
          [
           "umami fish<br>umami soy sauce<br>chili<br>sweet sugar<br>sour lemon<br>pepper<br>umami soy sauce<br>sweet sugar"
          ],
          [
           "umami crab<br>sweet coconut<br>chili<br>spinach<br>umami shrimp<br>onion<br>pepper<br>oil"
          ],
          [
           "umami fish<br>umami miso<br>umami tomato<br>onion<br>okra<br>bitter radish<br>pepper<br>mustard<br>umami fish sauce"
          ],
          [
           "pasta<br>basil<br>umami tomato<br>umami tomato<br>umami cheese<br>oil"
          ],
          [
           "umami pork<br>bay leaf<br>salty salt<br>pepper"
          ],
          [
           "bean<br>umami fish<br>umami fish<br>onion<br>umami tomato<br>umami fish sauce<br>pepper<br>oil<br>salty salt"
          ],
          [
           "bean<br>sweet coconut<br>onion<br>umami pork<br>pepper<br>umami fish sauce<br>pepper<br>oil"
          ],
          [
           "umami beef<br>gourd<br>umami soy sauce<br>alcohol<br>flour<br>umami clam<br>oil<br>pepper<br>oil"
          ],
          [
           "umami crab<br>bean<br>ginger<br>onion<br>chili<br>egg<br>flour<br>sour ketchup<br>umami chicken<br>umami broth<br>umami soy sauce<br>oil<br>salty salt"
          ],
          [
           "rib<br>eggplant<br>umami fish sauce<br>garlic<br>onion<br>paprika<br>salty salt<br>sour lemon<br>pepper<br>sweet sugar"
          ],
          [
           "umami beef<br>bay leaf<br>salty butter<br>oil<br>salty salt"
          ],
          [
           "okra<br>umami fish<br>onion<br>umami tomato<br>umami fish sauce<br>pepper<br>oil"
          ],
          [
           "sweet jackfruit<br>sweet coconut<br>chili<br>umami fish<br>malunggay<br>onion<br>umami shrimp<br>sour vinegar<br>oil<br>pepper<br>salty salt"
          ],
          [
           "umami beef<br>umami soy sauce<br>flour<br>alcohol<br>sweet sugar<br>ginger<br>garlic<br>oil<br>broccoli<br>umami beef<br>umami broth<br>umami clam"
          ],
          [
           "umami fish<br>bitter bitter gourd<br>sweet coconut<br>cream<br>onion<br>oil<br>umami fish sauce<br>pepper<br>chili"
          ],
          [
           "umami pork<br>bell pepper<br>umami tomato<br>onion<br>garlic<br>bay leaf<br>umami beef<br>potato<br>oil<br>salty salt"
          ],
          [
           "umami tomato<br>onion<br>onion<br>umami fish sauce<br>sour lemon<br>pepper"
          ],
          [
           "umami fish<br>mustard<br>okra<br>onion<br>bitter radish<br>umami tomato<br>pepper<br>umami miso<br>sour tamarind"
          ],
          [
           "umami chicken<br>sour vinegar<br>ginger<br>umami soy sauce<br>alcohol<br>salty salt<br>pepper<br>sour lemon<br>annatto<br>umami soy sauce<br>salty butter"
          ],
          [
           "sweet jackfruit<br>sweet coconut<br>malunggay<br>umami fish<br>onion<br>garlic<br>chili<br>umami fish sauce<br>oil"
          ],
          [
           "umami pork<br>sweet pineapple<br>umami soy sauce<br>umami beef<br>umami broth<br>onion<br>oil<br>sweet sugar<br>salty salt"
          ],
          [
           "umami beef<br>umami tomato<br>onion<br>okra<br>eggplant<br>bean<br>spinach<br>umami fish sauce<br>taro<br>umami beef<br>umami broth"
          ],
          [
           "bean<br>umami tofu<br>cabbage<br>onion<br>umami tomato<br>garlic<br>salty salt<br>pepper<br>egg<br>oil"
          ],
          [
           "umami fish<br>umami tomato<br>onion<br>bean<br>eggplant<br>okra<br>sweet melon<br>umami fish sauce"
          ],
          [
           "umami chicken<br>umami soy sauce<br>pepper<br>garlic<br>salty salt<br>sesame"
          ],
          [
           "umami chicken<br>umami pork<br>sweet carrot<br>celery<br>onion<br>umami chicken<br>umami broth<br>milk<br>salty butter<br>onion<br>garlic<br>salty salt"
          ],
          [
           "sausage<br>umami pork<br>umami pork<br>potato<br>bell pepper<br>sweet pea<br>sweet carrot<br>onion<br>garlic<br>oil<br>umami tomato<br>umami beef<br>umami broth<br>salty salt"
          ],
          [
           "umami chicken<br>chili<br>pepper<br>sweet coconut<br>cream<br>ginger<br>onion<br>umami chicken<br>umami fish sauce"
          ],
          [
           "umami chicken<br>cabbage<br>pasta<br>umami chicken<br>umami pork<br>sweet carrot<br>onion<br>onion<br>umami chicken<br>umami broth<br>umami fish sauce<br>oil"
          ],
          [
           "umami pork<br>umami beef<br>umami broth<br>sweet coconut<br>umami shrimp<br>sweet squash<br>bean<br>onion<br>oil<br>pepper<br>salty salt"
          ],
          [
           "umami chicken<br>umami chicken<br>umami broth<br>onion<br>onion<br>onion<br>garlic<br>paprika<br>pepper<br>salty salt"
          ],
          [
           "sausage<br>salty butter<br>oil<br>umami cheese<br>umami cheese<br>sauce<br>onion<br>umami beef<br>umami broth<br>salty salt<br>onion"
          ],
          [
           "umami fish<br>parsley<br>garlic<br>oil<br>salty salt<br>pepper"
          ],
          [
           "umami fish<br>salty salt<br>oil<br>sauce"
          ],
          [
           "spinach<br>sweet coconut<br>chili<br>onion<br>ginger<br>umami shrimp<br>pepper<br>oil"
          ],
          [
           "pepper<br>umami soy sauce<br>cilantro<br>flour<br>onion<br>egg<br>chili<br>salty salt<br>oil"
          ],
          [
           "umami beef<br>salty salt<br>pepper<br>salty butter<br>umami mushroom<br>onion<br>umami tomato<br>umami beef<br>umami broth<br>parsley<br>oregano"
          ],
          [
           "rice<br>umami pork<br>egg<br>umami soy sauce<br>oil<br>salty salt<br>garlic<br>onion<br>onion<br>oil"
          ],
          [
           "umami squid<br>sweet coconut<br>cream<br>chili<br>garlic<br>ginger<br>onion<br>umami fish sauce<br>pepper<br>spinach"
          ],
          [
           "umami pork<br>flour<br>oil<br>onion<br>celery<br>thyme<br>oregano<br>umami tomato<br>potato<br>umami chicken<br>umami broth<br>salty salt"
          ],
          [
           "umami pork<br>umami soy sauce<br>sour lemon<br>garlic<br>pepper<br>sweet sugar<br>umami soy sauce<br>sesame"
          ],
          [
           "umami pork<br>cabbage<br>onion<br>potato<br>sweet squash<br>onion<br>umami fish sauce<br>pepper"
          ],
          [
           "umami pork<br>onion<br>pepper<br>salty salt<br>garlic<br>oil"
          ],
          [
           "umami pork<br>umami soy sauce<br>sour ketchup<br>sour lemon<br>garlic<br>pepper<br>sweet sugar<br>salty salt"
          ],
          [
           "sausage<br>umami tomato<br>umami beef<br>umami broth<br>bean<br>pepper<br>onion<br>pepper<br>garlic<br>salty salt<br>onion<br>oil"
          ],
          [
           "egg<br>pasta<br>sweet carrot<br>bell pepper<br>umami mushroom<br>umami chicken<br>umami broth<br>spinach<br>onion<br>umami clam<br>umami soy sauce<br>salty salt<br>oil"
          ],
          [
           "umami fish<br>umami tomato<br>onion<br>onion<br>ginger<br>garlic<br>sour lemon<br>pepper<br>salty salt<br>oil"
          ],
          [
           "umami chicken<br>sweet orange<br>onion<br>oil"
          ],
          [
           "umami beef<br>ginger<br>onion<br>umami soy sauce<br>sweet sugar<br>flour<br>alcohol<br>umami soy sauce<br>sour vinegar<br>sauce<br>oil<br>salty salt<br>pepper<br>oil"
          ],
          [
           "umami pork<br>sweet pea<br>pepper<br>umami tomato<br>umami beef<br>umami broth<br>onion<br>oil<br>salty salt"
          ],
          [
           "umami pork<br>umami beef<br>umami broth<br>annatto<br>umami shrimp<br>flour<br>umami fish<br>egg<br>umami shrimp<br>cabbage<br>umami pork<br>onion<br>oil<br>salty salt"
          ],
          [
           "egg<br>mayonnaise<br>mustard<br>paprika<br>dill"
          ],
          [
           "umami pork<br>umami soy sauce<br>sour vinegar<br>umami shrimp<br>rice<br>sour vinegar<br>egg"
          ],
          [
           "umami pork<br>umami soy sauce<br>garlic<br>umami beef<br>umami broth<br>bay leaf<br>umami clam<br>pepper<br>egg<br>sweet sugar<br>sweet sugar<br>salty salt"
          ],
          [
           "pasta<br>umami pork<br>umami pork<br>pasta<br>umami cheese<br>umami beef<br>umami broth<br>onion<br>garlic<br>salty salt<br>oil"
          ],
          [
           "umami shrimp<br>pasta<br>cabbage<br>cabbage<br>bell pepper<br>bell pepper<br>bell pepper<br>onion<br>umami chicken<br>umami broth<br>umami clam<br>garlic<br>salty salt<br>oil"
          ],
          [
           "umami fish<br>spinach<br>sweet guava<br>okra<br>onion<br>umami tomato<br>chili<br>umami fish sauce<br>pepper"
          ],
          [
           "umami beef<br>umami beef<br>potato<br>cabbage<br>sweet pea<br>umami tomato<br>umami beef<br>umami broth<br>sweet banana<br>sausage<br>onion<br>umami fish sauce<br>pepper<br>oil"
          ],
          [
           "umami beef<br>sweet banana<br>potato<br>pepper<br>onion<br>umami fish sauce<br>cabbage<br>cabbage<br>bean"
          ],
          [
           "umami pork<br>chili<br>ginger<br>garlic<br>sweet squash<br>bell pepper<br>alcohol<br>umami soy sauce<br>sour vinegar<br>flour<br>sweet sugar<br>oil"
          ],
          [
           "umami pork<br>sweet carrot<br>cabbage<br>parsley<br>onion<br>garlic<br>flour<br>umami beef<br>umami broth<br>oil<br>bell pepper<br>umami soy sauce<br>salty salt"
          ],
          [
           "umami pork<br>umami tofu<br>umami fish<br>eggplant<br>rice<br>egg<br>sour vinegar"
          ],
          [
           "umami fish<br>umami tofu<br>onion<br>chili<br>sweet apple<br>umami soy sauce<br>sweet sugar<br>oil<br>salty salt"
          ],
          [
           "umami fish<br>salty salt<br>pepper<br>garlic<br>onion<br>oil"
          ],
          [
           "umami chicken<br>flour<br>salty salt<br>pepper<br>sweet honey<br>oil<br>sour ketchup<br>garlic<br>ginger<br>alcohol<br>flour<br>umami soy sauce<br>onion<br>sesame<br>oil"
          ],
          [
           "egg<br>egg<br>bell pepper<br>bell pepper<br>umami tomato<br>onion<br>onion<br>parsley<br>umami chicken<br>umami broth<br>umami fish sauce<br>pepper<br>oil"
          ],
          [
           "umami clam<br>sweet corn<br>malunggay<br>umami chicken<br>umami broth<br>ginger<br>onion<br>garlic<br>salty salt<br>oil"
          ],
          [
           "umami pork<br>umami shrimp<br>umami tomato<br>onion<br>garlic<br>umami beef<br>umami broth<br>eggplant<br>pepper<br>oil"
          ],
          [
           "umami fish<br>bean<br>ginger<br>garlic<br>onion<br>oil<br>alcohol<br>salty salt<br>flour<br>umami chicken<br>umami broth<br>pepper<br>sweet sugar<br>oil"
          ],
          [
           "umami chicken<br>umami clam<br>alcohol<br>pepper<br>salty salt<br>umami chicken<br>umami broth<br>flour<br>bell pepper<br>oil"
          ],
          [
           "bean<br>salty salt<br>umami fish<br>malunggay<br>umami fish sauce<br>pepper<br>onion<br>umami tomato<br>oil"
          ],
          [
           "spinach<br>umami clam<br>garlic<br>umami beef<br>umami broth<br>flour<br>salty salt<br>pepper<br>sesame<br>oil"
          ],
          [
           "umami beef<br>bell pepper<br>bell pepper<br>bell pepper<br>onion<br>umami soy sauce<br>umami clam<br>flour<br>pepper<br>salty salt<br>oil"
          ],
          [
           "umami pork<br>umami clam<br>onion<br>garlic<br>umami pork<br>parsley<br>umami cheese<br>egg<br>salty salt<br>pepper"
          ],
          [
           "umami fish<br>sour lemon<br>umami tomato<br>onion<br>bean<br>okra<br>spinach<br>pepper<br>umami miso<br>umami fish sauce"
          ],
          [
           "umami pork<br>umami beef<br>umami broth<br>cabbage<br>pepper<br>umami fish sauce<br>onion<br>potato<br>sweet banana"
          ],
          [
           "umami beef<br>broccoli<br>alcohol<br>umami soy sauce<br>umami clam<br>pepper<br>garlic<br>sweet sugar<br>onion<br>ginger<br>flour<br>oil"
          ],
          [
           "umami pork<br>taro<br>spinach<br>umami tomato<br>bean<br>onion<br>eggplant<br>okra<br>sour lemon<br>pepper<br>umami fish sauce"
          ],
          [
           "umami chicken<br>sweet coconut<br>lemongrass<br>onion<br>pepper<br>bay leaf<br>salty salt"
          ],
          [
           "umami pork<br>bay leaf<br>pepper<br>lemongrass<br>onion<br>salty salt<br>garlic<br>milk"
          ],
          [
           "umami chicken<br>sweet pea<br>umami tomato<br>umami chicken<br>umami broth<br>bell pepper<br>onion<br>oil<br>salty salt"
          ],
          [
           "umami pork<br>flour<br>cream<br>onion<br>chili<br>chili"
          ],
          [
           "umami shrimp<br>cabbage<br>umami tomato<br>onion<br>umami chicken<br>umami broth<br>salty salt<br>oil"
          ],
          [
           "bay leaf<br>sweet coconut<br>pepper<br>umami soy sauce<br>salty salt<br>oil"
          ],
          [
           "pasta<br>salty salt<br>umami fish<br>umami cheese<br>pepper<br>garlic<br>basil<br>oil"
          ],
          [
           "umami pork<br>salty salt<br>pepper<br>paprika<br>garlic<br>flour<br>oil"
          ],
          [
           "pasta<br>umami chicken<br>sausage<br>umami pork<br>parsley<br>umami soy sauce<br>sweet carrot<br>sweet pea<br>cabbage<br>onion<br>garlic<br>oil<br>salty salt"
          ],
          [
           "umami beef<br>onion<br>umami beef<br>umami broth<br>potato<br>parsley<br>salty salt<br>oil"
          ],
          [
           "umami pork<br>umami beef<br>umami broth<br>umami mushroom<br>onion<br>garlic<br>sweet sugar<br>salty salt"
          ],
          [
           "umami beef<br>sweet carrot<br>potato<br>celery<br>umami tomato<br>umami beef<br>umami broth<br>umami soy sauce<br>onion<br>garlic<br>oregano<br>oil<br>umami cheese<br>bread<br>salty salt"
          ],
          [
           "umami pork<br>umami soy sauce<br>onion<br>sour lemon<br>salty salt<br>sweet sugar<br>oil"
          ],
          [
           "umami pork<br>sweet banana<br>sweet carrot<br>sweet sugar<br>umami soy sauce<br>bay leaf<br>sour vinegar<br>pepper<br>oil<br>salty salt"
          ],
          [
           "onion<br>oil<br>garlic<br>cream<br>umami chicken<br>umami broth<br>salty salt"
          ],
          [
           "umami fish<br>umami soy sauce<br>sweet sugar<br>pepper<br>garlic"
          ],
          [
           "bean<br>onion<br>umami tomato<br>umami soy sauce<br>oil<br>salty salt"
          ],
          [
           "umami beef<br>umami beef<br>umami broth<br>umami soy sauce<br>onion<br>pepper<br>salty salt"
          ],
          [
           "umami beef<br>umami soy sauce<br>ginger<br>garlic<br>oil<br>oil<br>sweet sugar<br>alcohol<br>sour vinegar<br>bell pepper<br>bell pepper<br>onion<br>salty salt"
          ],
          [
           "umami chicken<br>umami chicken<br>umami broth<br>onion<br>onion<br>oil<br>annatto<br>salty salt"
          ],
          [
           "umami squid<br>cabbage<br>sweet carrot<br>onion<br>umami pork<br>umami soy sauce<br>sour lemon<br>onion<br>oil<br>oil<br>salty salt"
          ],
          [
           "umami beef<br>salty salt<br>pepper<br>garlic<br>chili<br>potato<br>oil"
          ],
          [
           "rice<br>umami beef<br>egg<br>umami beef<br>ginger<br>onion<br>garlic<br>oil<br>garlic<br>onion<br>umami pork<br>salty salt"
          ],
          [
           "umami clam<br>umami tomato<br>onion<br>garlic<br>umami tomato<br>bread<br>parsley<br>oil<br>sour lemon"
          ],
          [
           "sweet jackfruit<br>umami pork<br>sweet coconut<br>chili<br>onion<br>garlic<br>umami fish sauce<br>pepper<br>oil"
          ],
          [
           "rice<br>oil<br>salty salt<br>umami beef<br>parsley"
          ],
          [
           "umami chicken<br>egg<br>pasta<br>umami chicken<br>umami broth<br>onion<br>sweet carrot<br>celery<br>salty butter<br>garlic<br>parsley<br>thyme<br>salty salt"
          ],
          [
           "umami beef<br>pasta<br>umami tomato<br>umami tomato<br>oil<br>garlic<br>onion<br>sweet carrot<br>basil<br>thyme<br>oregano<br>salty salt<br>pepper"
          ],
          [
           "umami chicken<br>garlic<br>salty salt<br>rosemary<br>pepper<br>sour lemon<br>oil<br>vegetable"
          ],
          [
           "sour lemon<br>soda<br>umami soy sauce<br>sour lemon<br>chili<br>salty salt<br>garlic<br>pepper"
          ],
          [
           "umami pork<br>barbecue<br>oil<br>salty salt<br>pepper"
          ],
          [
           "umami squid<br>flour<br>salty salt<br>garlic<br>parsley<br>sour lemon<br>oil"
          ],
          [
           "umami pork<br>umami pork<br>potato<br>sweet carrot<br>onion<br>garlic<br>ginger<br>sweet raisin<br>sweet pea<br>bay leaf<br>umami tomato<br>umami beef<br>umami broth<br>oil<br>salty salt"
          ],
          [
           "umami beef<br>bean<br>onion<br>umami beef<br>umami broth<br>salty salt<br>oil"
          ],
          [
           "sweet avocado<br>cilantro<br>umami tomato<br>onion<br>sour lemon<br>garlic<br>salty salt<br>chili"
          ],
          [
           "umami chicken<br>barbecue<br>salty salt<br>oil"
          ],
          [
           "sweet corn<br>onion<br>umami tomato<br>malunggay<br>umami chicken<br>umami broth<br>oil<br>salty salt"
          ],
          [
           "umami fish<br>bread<br>umami cheese<br>parsley<br>garlic<br>oil<br>sour lemon"
          ],
          [
           "umami chicken<br>umami soy sauce<br>umami fish sauce<br>sweet sugar<br>alcohol<br>nut<br>garlic<br>pepper<br>oil"
          ],
          [
           "bean<br>umami anchovy<br>malunggay<br>onion<br>umami tomato<br>garlic<br>oil<br>umami fish sauce<br>pepper"
          ],
          [
           "umami pork<br>bean<br>onion<br>taro<br>lemongrass<br>rice<br>bell pepper<br>onion<br>salty salt"
          ],
          [
           "bean<br>umami tofu<br>onion<br>umami soy sauce<br>sour vinegar<br>oil<br>salty salt"
          ],
          [
           "umami chicken<br>sweet banana<br>malunggay<br>umami chicken<br>umami broth<br>onion<br>oil<br>umami fish sauce<br>pepper<br>salty salt"
          ],
          [
           "umami pork<br>sour lemon<br>umami soy sauce<br>salty salt<br>pepper<br>sour ketchup<br>sweet sugar<br>oil"
          ],
          [
           "gourd<br>umami chicken<br>umami shrimp<br>onion<br>umami chicken<br>umami broth<br>salty salt<br>oil"
          ],
          [
           "umami pork<br>umami pork<br>onion<br>ginger<br>onion<br>oil<br>salty salt"
          ],
          [
           "umami chicken<br>umami soy sauce<br>spice<br>salty salt<br>pepper<br>oil"
          ],
          [
           "umami fish<br>sweet coconut<br>cream<br>garlic<br>ginger<br>chili<br>chili<br>onion<br>sweet sugar<br>sour vinegar<br>umami fish sauce<br>pepper"
          ],
          [
           "umami fish<br>salty salt<br>garlic<br>sour lemon<br>oil"
          ],
          [
           "cabbage<br>umami pork<br>onion<br>bell pepper<br>oil<br>umami beef<br>umami broth<br>salty salt"
          ],
          [
           "umami beef<br>sweet carrot<br>cabbage<br>egg<br>garlic<br>star anise<br>onion<br>umami beef<br>umami broth<br>salty salt<br>oil"
          ],
          [
           "pasta<br>umami pork<br>umami chicken<br>cream<br>umami cheese<br>egg<br>basil<br>parsley<br>oil<br>salty salt<br>sour lemon"
          ],
          [
           "umami beef<br>sweet coconut<br>umami shrimp<br>chili<br>ginger<br>onion<br>salty salt<br>oil"
          ],
          [
           "umami beef<br>bell pepper<br>bell pepper<br>onion<br>umami soy sauce<br>pepper<br>alcohol<br>oil<br>garlic<br>flour<br>salty salt"
          ],
          [
           "umami chicken<br>umami chicken<br>onion<br>garlic<br>chili<br>umami soy sauce<br>salty butter<br>mayonnaise<br>egg<br>salty salt<br>oil"
          ],
          [
           "umami pork<br>thyme<br>rosemary<br>sweet apple<br>onion<br>sweet apple<br>umami beef<br>umami broth<br>oil<br>salty salt"
          ],
          [
           "umami pork<br>umami soy sauce<br>umami clam<br>pepper<br>salty salt<br>flour<br>bell pepper<br>onion<br>alcohol<br>oil"
          ],
          [
           "cabbage<br>umami pork<br>umami tomato<br>onion<br>oil<br>salty salt"
          ],
          [
           "umami beef<br>umami tofu<br>oil<br>umami soy sauce<br>sour vinegar<br>sweet sugar<br>pepper<br>salty salt<br>onion<br>onion<br>sesame"
          ],
          [
           "umami beef<br>cabbage<br>bean<br>umami tomato<br>onion<br>umami beef<br>umami broth<br>umami soy sauce<br>sweet sugar<br>salty salt<br>oil"
          ],
          [
           "umami beef<br>pasta<br>chili<br>cabbage<br>onion<br>umami soy sauce<br>alcohol<br>sweet sugar<br>ginger<br>garlic<br>star anise<br>umami beef<br>umami broth<br>oil<br>salty salt"
          ],
          [
           "sweet corn<br>vegetable<br>onion<br>garlic<br>alcohol<br>umami chicken<br>umami broth<br>turnip<br>oil<br>salty salt"
          ],
          [
           "umami chicken<br>umami tomato<br>potato<br>sweet carrot<br>sweet pea<br>onion<br>garlic<br>umami chicken<br>umami broth<br>bay leaf<br>salty salt<br>oil"
          ],
          [
           "umami tofu<br>egg<br>umami tomato<br>onion<br>umami fish sauce<br>pepper<br>oil<br>garlic<br>parsley"
          ],
          [
           "umami pork<br>onion<br>garlic<br>ginger<br>umami pork<br>sweet sugar<br>umami soy sauce<br>salty salt<br>oil"
          ],
          [
           "basil<br>umami tomato<br>parsley<br>onion<br>oil<br>sour vinegar<br>sour lemon<br>salty salt"
          ],
          [
           "spinach<br>umami soy sauce<br>sour vinegar<br>sweet sugar<br>salty salt<br>oil"
          ],
          [
           "umami pork<br>umami tofu<br>onion<br>onion<br>sweet sugar<br>sour vinegar<br>umami soy sauce<br>sweet sugar<br>pepper<br>salty salt<br>oil"
          ],
          [
           "umami squid<br>sweet coconut<br>malunggay<br>chili<br>onion<br>garlic<br>umami fish sauce<br>pepper<br>oil"
          ],
          [
           "umami chicken<br>bean<br>onion<br>onion<br>garlic<br>ginger<br>oil<br>alcohol<br>sesame<br>umami soy sauce<br>sweet sugar<br>salty salt<br>oil"
          ],
          [
           "umami fish<br>onion<br>onion<br>parsley<br>sour lemon<br>salty salt<br>oil"
          ],
          [
           "rice<br>pasta<br>umami chicken<br>onion<br>garlic<br>onion<br>umami chicken<br>umami broth<br>garlic<br>oil<br>salty salt"
          ],
          [
           "cabbage<br>umami pork<br>onion<br>garlic<br>sweet sugar<br>sweet sugar<br>umami chicken<br>umami broth<br>salty salt<br>pepper<br>oil"
          ],
          [
           "umami chicken<br>umami soy sauce<br>oil<br>ginger<br>sweet sugar<br>pepper<br>salty salt<br>sour lemon<br>sweet corn<br>salty butter"
          ],
          [
           "sweet banana<br>garlic<br>onion<br>sweet sugar<br>sour vinegar<br>chili<br>umami fish sauce<br>pepper<br>vegetable<br>umami broth<br>salty salt<br>oil"
          ],
          [
           "umami shrimp<br>cumin<br>garlic<br>chili<br>sour lemon<br>pepper<br>salty salt<br>cilantro<br>cream<br>umami tomato<br>sauce<br>flour<br>oil"
          ],
          [
           "cabbage<br>sweet carrot<br>bean<br>onion<br>garlic<br>ginger<br>oil<br>umami soy sauce<br>pepper<br>wrapper<br>egg<br>oil"
          ],
          [
           "umami chicken<br>barbecue<br>umami soy sauce<br>sour vinegar<br>sweet sugar<br>pepper<br>bread"
          ],
          [
           "bean<br>umami chicken<br>garlic<br>onion<br>umami soy sauce<br>umami clam<br>onion<br>salty salt<br>oil"
          ],
          [
           "umami squid<br>umami soy sauce<br>sweet sugar<br>sauce<br>sour lemon<br>salty salt"
          ],
          [
           "umami pork<br>pasta<br>umami fish sauce<br>umami soy sauce<br>umami beef<br>egg<br>garlic<br>onion<br>flour<br>pepper<br>oil"
          ],
          [
           "umami shrimp<br>umami pork<br>sour lemon<br>pepper<br>garlic<br>salty salt"
          ],
          [
           "umami fish<br>bean<br>parsley<br>onion<br>garlic<br>umami clam<br>umami soy sauce<br>flour<br>oil<br>salty salt"
          ],
          [
           "umami pork<br>rosemary<br>garlic<br>salty salt<br>pepper<br>oil"
          ],
          [
           "potato<br>oil<br>onion<br>umami pork<br>pepper<br>mayonnaise<br>mustard<br>umami soy sauce<br>parsley<br>salty salt<br>pepper"
          ],
          [
           "basil<br>garlic<br>umami cheese<br>oil<br>nut<br>salty salt"
          ],
          [
           "umami fish<br>umami miso<br>umami tomato<br>onion<br>mustard<br>umami fish sauce<br>okra<br>pepper<br>oil"
          ],
          [
           "gourd<br>pasta<br>umami tomato<br>onion<br>garlic<br>umami shrimp<br>umami broth<br>umami fish sauce<br>garlic<br>oil<br>salty salt"
          ],
          [
           "umami pork<br>cabbage<br>sweet banana<br>potato<br>sweet squash<br>umami tomato<br>umami beef<br>umami broth<br>garlic<br>onion<br>oil<br>umami fish sauce<br>pepper"
          ],
          [
           "umami pork<br>peanut<br>peanut<br>salty butter<br>eggplant<br>umami fish sauce<br>cabbage<br>bean<br>onion<br>annatto<br>oil<br>pepper<br>salty salt<br>umami shrimp"
          ],
          [
           "umami fish<br>umami cheese<br>paprika<br>parsley<br>pepper<br>oil"
          ],
          [
           "umami pork<br>umami soy sauce<br>sour lemon<br>umami soy sauce<br>garlic<br>sour ketchup<br>sweet sugar<br>salty salt<br>pepper<br>oil"
          ],
          [
           "pasta<br>umami beef<br>umami beef<br>umami broth<br>sweet squash<br>onion<br>egg<br>onion<br>umami fish sauce<br>pepper<br>oil"
          ],
          [
           "umami chicken<br>sour lemon<br>rosemary<br>thyme<br>garlic<br>oil<br>parsley<br>salty salt<br>pepper"
          ],
          [
           "umami pork<br>rice<br>umami soy sauce<br>salty salt<br>oil"
          ],
          [
           "umami mushroom<br>onion<br>garlic<br>umami soy sauce<br>umami clam<br>umami soy sauce<br>parsley<br>sweet sugar<br>flour<br>oil<br>salty salt"
          ],
          [
           "umami pork<br>sweet pineapple<br>umami soy sauce<br>onion<br>salty salt<br>pepper<br>sweet sugar<br>rosemary<br>oil"
          ],
          [
           "umami pork<br>onion<br>umami soy sauce<br>salty salt<br>sour lemon<br>mayonnaise<br>pepper<br>sauce<br>salty butter"
          ],
          [
           "umami beef<br>basil<br>umami tomato<br>egg<br>salty salt<br>pepper<br>oil"
          ],
          [
           "pasta<br>umami pork<br>umami beef<br>umami broth<br>umami pork<br>cabbage<br>sweet pea<br>sweet carrot<br>onion<br>oil<br>umami soy sauce<br>pepper<br>sweet banana"
          ],
          [
           "umami pork<br>salty salt<br>rice<br>umami chicken<br>umami broth<br>egg<br>onion"
          ],
          [
           "rice<br>cilantro<br>oil<br>garlic<br>sour lemon<br>salty salt"
          ],
          [
           "umami pork<br>sweet carrot<br>onion<br>alcohol<br>umami beef<br>umami broth<br>oil<br>thyme<br>salty salt"
          ],
          [
           "rice<br>sausage<br>egg<br>salty salt<br>garlic<br>umami soy sauce<br>oil"
          ],
          [
           "onion<br>oil<br>onion<br>umami soy sauce<br>salty salt"
          ],
          [
           "umami tomato<br>cilantro<br>onion<br>sour lemon<br>cilantro<br>garlic<br>chili<br>salty salt"
          ],
          [
           "umami pork<br>bell pepper<br>sweet carrot<br>broccoli<br>sweet pineapple<br>ginger<br>onion<br>umami soy sauce<br>umami clam<br>umami soy sauce<br>onion<br>oil<br>salty salt"
          ],
          [
           "umami chicken<br>umami chicken<br>umami broth<br>bread<br>mayonnaise<br>oil<br>sour lemon<br>paprika<br>umami soy sauce<br>mustard<br>sweet sugar<br>sour vinegar<br>chili<br>cabbage<br>umami cheese"
          ],
          [
           "sweet corn<br>salty butter<br>onion<br>umami pork<br>garlic<br>rosemary<br>umami chicken<br>umami broth"
          ],
          [
           "umami beef<br>umami soy sauce<br>umami soy sauce<br>barbecue<br>sweet sugar<br>sour ketchup<br>sour lemon<br>garlic<br>salty salt<br>pepper"
          ],
          [
           "umami chicken<br>sweet pea<br>sweet carrot<br>onion<br>ginger<br>garlic<br>oil<br>umami soy sauce<br>sweet sugar<br>umami clam<br>umami chicken<br>umami broth<br>salty salt<br>oil"
          ],
          [
           "sour vinegar<br>garlic<br>alcohol<br>umami soy sauce<br>pepper<br>flour<br>flour<br>oil<br>bay leaf<br>pepper"
          ],
          [
           "umami pork<br>garlic<br>onion<br>basil<br>oil<br>salty salt<br>pepper<br>umami beef<br>bread"
          ],
          [
           "umami chicken<br>potato<br>rosemary<br>garlic<br>sour lemon<br>oil<br>potato<br>salty salt<br>pepper<br>garlic"
          ],
          [
           "umami pork<br>egg<br>garlic<br>rice<br>garlic<br>umami soy sauce<br>salty salt<br>pepper<br>sweet sugar<br>oil"
          ],
          [
           "umami fish<br>salty salt<br>onion<br>umami soy sauce<br>alcohol<br>ginger<br>oil"
          ],
          [
           "umami pork<br>umami soy sauce<br>sweet sugar<br>ginger<br>garlic<br>oil<br>salty salt<br>sesame"
          ],
          [
           "umami beef<br>onion<br>potato<br>oil<br>umami beef<br>umami broth<br>garlic<br>salty salt"
          ],
          [
           "gourd<br>onion<br>umami tomato<br>umami pork<br>oil<br>salty salt<br>pepper"
          ],
          [
           "umami pork<br>oil<br>garlic<br>salty salt<br>pepper<br>chili"
          ],
          [
           "umami fish<br>malunggay<br>okra<br>bean<br>bitter bitter gourd<br>umami fish sauce<br>ginger<br>umami tomato<br>onion"
          ],
          [
           "spinach<br>umami tofu<br>chili<br>garlic<br>onion<br>umami clam<br>pepper<br>oil<br>salty salt"
          ],
          [
           "eggplant<br>umami pork<br>umami tomato<br>onion<br>egg<br>umami soy sauce<br>salty salt<br>pepper<br>oil"
          ],
          [
           "umami fish<br>sour vinegar<br>pepper<br>salty salt<br>oil"
          ],
          [
           "bean<br>umami pork<br>umami shrimp<br>sweet coconut<br>onion<br>oil<br>chili<br>pepper"
          ],
          [
           "umami pork<br>garlic<br>salty salt<br>pepper<br>sweet mango<br>onion<br>bell pepper<br>turnip<br>chili<br>cilantro<br>sour lemon<br>salty salt"
          ],
          [
           "potato<br>oil<br>garlic<br>salty salt<br>parsley<br>umami cheese"
          ],
          [
           "rice<br>egg<br>umami soy sauce<br>salty salt<br>garlic<br>oil"
          ],
          [
           "cabbage<br>umami pork<br>onion<br>oil<br>salty salt"
          ],
          [
           "ginger<br>sweet sugar<br>umami soy sauce<br>sour ketchup<br>umami beef<br>chili<br>alcohol<br>oil<br>onion<br>salty salt"
          ],
          [
           "pasta<br>umami beef<br>broccoli<br>umami beef<br>umami broth<br>onion<br>ginger<br>garlic<br>umami clam<br>umami soy sauce<br>sweet sugar<br>alcohol<br>oil<br>oil<br>salty salt"
          ],
          [
           "umami fish<br>garlic<br>oil<br>salty salt<br>pepper<br>sour lemon"
          ],
          [
           "pasta<br>umami chicken<br>umami tomato<br>umami tomato<br>onion<br>basil<br>parsley<br>chili<br>umami soy sauce<br>umami chicken<br>umami broth<br>umami cheese<br>sweet sugar<br>oil<br>salty salt"
          ],
          [
           "umami fish<br>flour<br>umami tomato<br>onion<br>cilantro<br>sour lemon<br>cabbage<br>chili<br>salty salt<br>chili<br>cream<br>oil"
          ],
          [
           "umami pork<br>bell pepper<br>sweet carrot<br>annatto<br>sour vinegar<br>pepper<br>ginger<br>onion<br>bay leaf<br>oil<br>salty salt"
          ],
          [
           "umami chicken<br>flour<br>umami soy sauce<br>flour<br>sour lemon<br>alcohol<br>umami chicken<br>umami broth<br>celery<br>sweet sugar<br>salty salt<br>oil"
          ],
          [
           "sweet carrot<br>celery<br>potato<br>paprika<br>garlic<br>bay leaf<br>flour<br>onion<br>umami beef<br>umami broth<br>salty salt<br>pepper<br>oil"
          ],
          [
           "umami chicken<br>sweet avocado<br>flour<br>chili<br>umami tomato<br>umami chicken<br>umami broth<br>salty salt<br>cilantro<br>sour lemon<br>umami cheese<br>oil<br>onion"
          ],
          [
           "umami beef<br>potato<br>bell pepper<br>umami soy sauce<br>onion<br>salty butter<br>umami cheese<br>salty salt"
          ],
          [
           "umami pork<br>salty salt<br>pepper<br>garlic<br>oil"
          ],
          [
           "umami chicken<br>oil<br>celery<br>onion<br>sour lemon<br>pepper<br>garlic<br>salty salt<br>thyme"
          ],
          [
           "umami pork<br>wrapper<br>ginger<br>garlic<br>oil<br>oil<br>egg<br>cabbage<br>sweet carrot<br>umami soy sauce"
          ],
          [
           "cabbage<br>onion<br>umami tomato<br>umami chicken<br>umami broth<br>oil"
          ],
          [
           "potato<br>umami pork<br>umami cheese<br>umami cheese<br>cream<br>onion<br>salty salt<br>garlic<br>oil<br>paprika<br>pepper"
          ],
          [
           "umami pork<br>umami chicken<br>umami pork<br>umami chicken<br>umami broth<br>cabbage<br>umami mushroom<br>sweet carrot<br>onion"
          ],
          [
           "mayonnaise<br>umami fish<br>oil<br>chili<br>rice<br>cucumber<br>sour vinegar<br>chili<br>garlic<br>mayonnaise<br>bread"
          ],
          [
           "umami chicken<br>sweet corn<br>umami chicken<br>umami broth<br>umami soy sauce<br>flour<br>egg<br>onion<br>oil<br>ginger<br>salty salt<br>pepper<br>oil"
          ],
          [
           "umami pork<br>umami tomato<br>onion<br>umami tomato<br>sweet pea<br>sweet banana<br>potato<br>cabbage<br>bean<br>cabbage<br>oil<br>pepper<br>umami fish sauce"
          ],
          [
           "umami chicken<br>rice<br>barbecue<br>salty salt<br>oil"
          ],
          [
           "cinnamon<br>bay leaf<br>chili<br>onion<br>garlic<br>garlic<br>umami tomato<br>sour lemon<br>ginger<br>milk<br>salty salt<br>oil"
          ],
          [
           "umami chicken<br>chili<br>flour<br>paprika<br>salty butter<br>sauce<br>pepper<br>salty salt<br>garlic<br>oil"
          ],
          [
           "pasta<br>umami pork<br>umami chicken<br>cabbage<br>sweet carrot<br>onion<br>umami soy sauce<br>umami clam<br>alcohol<br>salty salt<br>pepper<br>oil"
          ],
          [
           "sweet coconut<br>umami shrimp<br>onion<br>pepper<br>chili<br>oil"
          ],
          [
           "umami chicken<br>umami soy sauce<br>salty salt<br>pepper<br>sour lemon<br>mayonnaise<br>mustard<br>onion<br>bread<br>oil"
          ],
          [
           "sweet squash<br>umami chicken<br>umami broth<br>salty salt<br>onion<br>garlic<br>cream<br>pepper<br>parsley"
          ],
          [
           "umami crab<br>bean<br>sweet coconut<br>umami fish sauce<br>pepper<br>onion<br>oil"
          ],
          [
           "umami beef<br>potato<br>vegetable<br>onion<br>salty butter<br>umami beef<br>umami broth<br>umami soy sauce<br>salty salt<br>pepper"
          ],
          [
           "umami chicken<br>sweet coconut<br>sweet coconut<br>umami chicken<br>umami broth<br>umami fish sauce<br>sweet papaya<br>pepper<br>lemongrass<br>onion<br>ginger<br>pepper<br>oil"
          ],
          [
           "umami pork<br>bell pepper<br>sweet pea<br>umami tomato<br>umami beef<br>umami broth<br>garlic<br>onion<br>oil<br>salty salt"
          ],
          [
           "umami pork<br>mustard<br>umami soy sauce<br>sweet sugar<br>salty salt<br>pepper"
          ],
          [
           "salty salt<br>pepper<br>onion<br>onion<br>umami tomato<br>bell pepper<br>parsley<br>onion<br>bell pepper<br>sour vinegar<br>oil<br>salty salt"
          ],
          [
           "sweet corn<br>malunggay<br>umami chicken<br>umami broth<br>onion<br>oil<br>salty salt"
          ],
          [
           "onion<br>parsley<br>oil<br>bell pepper<br>sour vinegar<br>egg<br>salty salt"
          ],
          [
           "umami pork<br>umami mushroom<br>umami mushroom<br>ginger<br>umami tofu<br>sweet carrot<br>umami chicken<br>umami broth<br>sour vinegar<br>umami soy sauce<br>chili<br>flour<br>egg<br>wrapper<br>onion"
          ],
          [
           "umami fish<br>sweet pineapple<br>umami tomato<br>cilantro<br>chili<br>sour lemon<br>chili<br>garlic<br>oil<br>salty salt"
          ],
          [
           "umami pork<br>umami tofu<br>parsley<br>umami soy sauce<br>umami clam<br>onion<br>bean<br>sweet sugar<br>oil<br>salty salt"
          ],
          [
           "umami fish<br>cilantro<br>oil<br>sour lemon<br>sweet sugar<br>pepper<br>salty salt"
          ],
          [
           "umami pork<br>garlic<br>salty butter<br>sour lemon"
          ],
          [
           "rice<br>umami clam<br>umami squid<br>umami crab<br>umami tomato<br>chili<br>onion<br>garlic<br>saffron<br>oil<br>salty salt"
          ],
          [
           "umami chicken<br>onion<br>bell pepper<br>bell pepper<br>bell pepper<br>oil<br>sour lemon<br>chili<br>garlic<br>cumin<br>paprika<br>oil<br>salty salt<br>pepper"
          ],
          [
           "umami chicken<br>ginger<br>sour yogurt<br>cardamom<br>garlic<br>sour lemon<br>cumin<br>cilantro<br>chili<br>pepper<br>salty salt<br>oil"
          ],
          [
           "umami pork<br>umami shrimp<br>salty salt<br>umami pork<br>sour vinegar<br>oil<br>garlic<br>onion<br>salty salt"
          ],
          [
           "umami chicken<br>chili<br>ginger<br>bell pepper<br>peanut<br>salty salt<br>alcohol<br>umami soy sauce<br>flour<br>umami soy sauce<br>sour vinegar<br>flour<br>sweet sugar<br>oil"
          ],
          [
           "umami chicken<br>oil<br>sour vinegar<br>mustard<br>sweet carrot<br>umami tomato<br>salty salt"
          ],
          [
           "umami beef<br>oil<br>onion<br>celery<br>sweet carrot<br>umami beef<br>umami broth<br>alcohol<br>thyme<br>salty salt"
          ],
          [
           "pasta<br>umami chicken<br>alcohol<br>umami chicken<br>umami broth<br>oil<br>cream<br>basil<br>salty salt<br>pepper"
          ],
          [
           "potato<br>bean<br>mustard<br>dill<br>oil<br>sour vinegar<br>salty salt<br>pepper"
          ],
          [
           "bean<br>sour vinegar<br>onion<br>oil<br>umami cheese<br>onion<br>dill<br>salty salt<br>pepper"
          ],
          [
           "umami chicken<br>oregano<br>garlic<br>cumin<br>salty salt<br>oil<br>umami cheese<br>salty salt<br>basil"
          ],
          [
           "ginger<br>sour vinegar<br>onion<br>gourd<br>chili<br>salty salt<br>pepper"
          ],
          [
           "celery<br>sweet apple<br>umami chicken<br>umami broth<br>nut<br>cream<br>mayonnaise<br>salty salt<br>pepper"
          ],
          [
           "umami pork<br>umami fish<br>cucumber<br>sour vinegar<br>onion<br>ginger<br>chili<br>sour lemon<br>salty salt"
          ],
          [
           "umami fish<br>cabbage<br>rice<br>salty salt<br>onion<br>onion<br>ginger<br>umami fish sauce<br>pepper<br>oil"
          ],
          [
           "cabbage<br>ginger<br>umami clam<br>umami soy sauce<br>sweet sugar<br>oil<br>oil"
          ],
          [
           "umami fish<br>sour lemon<br>ginger<br>salty salt<br>pepper<br>chili"
          ],
          [
           "umami beef<br>umami beef<br>umami beef<br>ginger<br>onion<br>chili<br>salty salt<br>pepper<br>sour lemon<br>oil"
          ],
          [
           "umami tofu<br>vegetable<br>umami broth<br>alcohol<br>oil<br>umami soy sauce<br>flour<br>ginger<br>bean<br>onion<br>bell pepper<br>cabbage<br>salty salt<br>pepper<br>oil"
          ],
          [
           "umami pork<br>bean<br>onion<br>bell pepper<br>umami mushroom<br>onion<br>oil<br>egg<br>alcohol<br>salty salt<br>umami chicken<br>umami broth<br>umami clam<br>umami soy sauce<br>flour"
          ],
          [
           "pasta<br>umami chicken<br>celery<br>onion<br>pepper<br>annatto<br>onion<br>umami fish sauce<br>sweet carrot<br>oil"
          ],
          [
           "umami fish<br>sour vinegar<br>ginger<br>onion<br>salty salt<br>pepper<br>sour lemon<br>chili"
          ],
          [
           "umami pork<br>bay leaf<br>pepper<br>sweet carrot<br>sweet banana<br>sour vinegar<br>umami soy sauce<br>sweet sugar<br>oil"
          ],
          [
           "umami chicken<br>sweet coconut<br>umami soy sauce<br>umami fish sauce<br>ginger<br>garlic<br>lemongrass<br>sweet sugar<br>salty salt<br>peanut"
          ],
          [
           "bean<br>sweet carrot<br>onion<br>umami fish sauce<br>umami shrimp<br>umami tofu<br>pepper<br>wrapper<br>oil"
          ],
          [
           "umami shrimp<br>ginger<br>peanut<br>chili<br>onion<br>onion<br>umami soy sauce<br>flour<br>oil<br>sour vinegar<br>sweet sugar<br>oil"
          ],
          [
           "lettuce<br>umami cheese<br>umami soy sauce<br>egg<br>pepper<br>salty salt<br>oil<br>bread<br>sour lemon"
          ],
          [
           "oil<br>garlic<br>onion<br>umami tomato<br>salty salt<br>umami fish sauce<br>umami broth<br>umami beef<br>sweet carrot<br>cabbage<br>broccoli<br>bean<br>cauliflower<br>cabbage<br>pasta"
          ],
          [
           "umami tofu<br>pepper<br>salty salt<br>rosemary<br>basil<br>thyme<br>umami tomato<br>bell pepper<br>onion<br>garlic<br>pasta<br>umami mushroom<br>sour ketchup<br>umami fish"
          ],
          [
           "umami beef<br>umami broth<br>star anise<br>flour<br>onion<br>pepper<br>sweet sugar<br>umami soy sauce<br>umami soy sauce<br>salty salt"
          ],
          [
           "umami fish<br>umami tomato<br>onion<br>pepper<br>onion<br>egg<br>umami fish sauce"
          ],
          [
           "umami pork<br>sweet pineapple<br>onion<br>bean<br>umami soy sauce<br>sour vinegar<br>sweet sugar<br>sweet banana<br>bay leaf<br>pepper"
          ],
          [
           "umami pork<br>umami chicken<br>nut<br>umami fish sauce<br>salty salt<br>annatto<br>onion<br>wrapper<br>onion<br>pepper<br>egg<br>garlic<br>oil"
          ],
          [
           "umami beef<br>bread<br>onion<br>celery<br>umami soy sauce<br>salty salt<br>umami tomato<br>mustard<br>egg<br>sour ketchup"
          ],
          [
           "umami beef<br>umami beef<br>salty salt<br>sour lemon<br>umami soy sauce<br>sweet carrot<br>oil<br>dill<br>egg<br>umami cheese"
          ],
          [
           "umami chicken<br>sweet coconut<br>spinach<br>onion<br>ginger<br>sweet papaya<br>paprika<br>chili<br>chili<br>oil<br>salty salt"
          ],
          [
           "umami beef<br>star anise<br>umami beef<br>oil<br>garlic<br>onion<br>onion<br>egg<br>pasta<br>cabbage<br>egg<br>salty salt"
          ],
          [
           "umami pork<br>sour vinegar<br>pepper<br>salty salt<br>bay leaf"
          ],
          [
           "umami chicken<br>egg<br>flour<br>onion<br>bell pepper<br>broccoli<br>umami soy sauce<br>alcohol<br>umami clam<br>nut<br>onion<br>oil"
          ],
          [
           "umami fish<br>sour lemon<br>sour lemon<br>sweet sugar<br>cilantro<br>ginger<br>sour lemon"
          ],
          [
           "wrapper<br>umami chicken<br>bay leaf<br>cilantro<br>oil<br>salty salt<br>pepper"
          ],
          [
           "umami pork<br>umami soy sauce<br>sour lemon<br>pepper<br>salty salt<br>sour ketchup<br>oil"
          ],
          [
           "gourd<br>onion<br>umami tomato<br>umami pork<br>oil<br>salty salt<br>pepper"
          ],
          [
           "umami beef<br>potato<br>cabbage<br>onion<br>sweet carrot<br>pepper<br>umami fish sauce"
          ],
          [
           "umami beef<br>umami soy sauce<br>garlic<br>sweet sugar<br>salty salt<br>pepper"
          ],
          [
           "umami squid<br>umami soy sauce<br>umami tomato<br>onion<br>chili<br>sour lemon<br>salty salt"
          ],
          [
           "umami beef<br>cabbage<br>cabbage<br>bean<br>potato<br>sweet banana<br>sausage<br>umami tomato<br>onion<br>pepper<br>umami fish sauce<br>umami tomato<br>bean<br>oil"
          ],
          [
           "umami chicken<br>umami clam<br>umami soy sauce<br>onion<br>flour<br>ginger<br>sweet sugar<br>bean<br>chili<br>oil"
          ],
          [
           "pasta<br>umami pork<br>umami chicken<br>peas<br>sweet carrot<br>cabbage<br>celery<br>onion<br>umami chicken<br>umami soy sauce"
          ],
          [
           "umami pork<br>sweet pineapple<br>sweet pineapple<br>umami soy sauce<br>sweet sugar<br>oil<br>umami beef<br>umami broth"
          ]
         ],
         "hovertemplate": "<b>%{hovertext}</b><br><br>cluster=2<br>x=%{x}<br>y=%{y}<br>final_ingredients=%{customdata[0]}<extra></extra>",
         "hovertext": [
          "Chicken Menudo",
          "Beef Salpicao",
          "Sinigang na Baka",
          "Dinengdeng na Saluyot at Labong",
          "Teriyaki Salmon",
          "Ginataang Manok",
          "Pinsec Frito",
          "Totsong Bangus",
          "Baby Back Ribs with Adobo Glaze",
          "Papis",
          "Ginataang Alimasag",
          "Liver and Gizzard with Sweet Peas",
          "Pork Estofado",
          "Bulalo Mami",
          "Ginisang Ampalaya at Hipon",
          "Laing",
          "Curried Okra with Tomatoes",
          "Bulalo",
          "Skinless Longganisa",
          "Ahi Shoyu Poke",
          "Ginisang Munggo at Sotanghon",
          "Ginataang Kalabasa, Sitaw at Hipon",
          "Kangkong and Tofu with Oyster Sauce",
          "Kansi",
          "Crispy Pork Binagoongan",
          "Green Bean and Shrimp Stir-fry",
          "Fried Chicken a la Max's Restaurant",
          "Mock Pancit Canton Stir-Fry",
          "Adobong Talaba",
          "Miswa at Patola Soup",
          "Sinigang na Salmon Belly sa Kamias",
          "Chicken Pochero",
          "Tonkatsu",
          "How to Make Ginisang Bagoong",
          "Chicken Bicol Express",
          "Oven-Roasted Pig Head",
          "Ginataang Puso ng Saging",
          "Ginisang Togue",
          "Chinese Pearl Balls",
          "Shrimp with Oyster Sauce",
          "Chicken Afritada",
          "Hawaiian Fried Rice",
          "Lengua Estofado",
          "Ginisang Repolyo",
          "Sinigang na Baka sa Bayabas",
          "Ginisang Pechay",
          "Sinampalukang Kambing",
          "Tokwa't Baboy with Tausi",
          "Coconut Curry Salmon",
          "Ginisang Sayote",
          "Chicken Skin Chicharon",
          "Gising Gising with Bangus",
          "Ginisang Sayote with Chicken",
          "Binagoongan Fried Rice",
          "Bacon Fried Rice",
          "Lugaw at Tokwa",
          "How to Make Shrimp Stock",
          "Ginisang Ampalaya sa Sardinas",
          "Sisig Pusit",
          "Bangus ala Pobre",
          "Ginisang Corned Beef",
          "Dinakdakan",
          "Crispy Pork Shoulder",
          "Banana Meat",
          "Kinamatisang Baboy",
          "Filipino Mango and Tomato Salad",
          "Pesang Manok",
          "Pinakbet with Crispy Lechon",
          "Ensaladang Pipino",
          "Ensaladang Talbos ng Kamote",
          "Pork and Green Bean Stir-fry",
          "Ulo-Ulo Salmon",
          "Paksiw na Bangus",
          "Honey Garlic Chicken",
          "Grilled Tuna Belly",
          "Binagoongan Talong",
          "Banana-Wrapped Salay-Salay Fish",
          "Beef Curry",
          "Pancit Lomi Guisado",
          "Lemongrass Roasted Chicken",
          "Ginataang Munggo at Baboy",
          "Sotanghon at Upo Soup",
          "Ginataang Talong",
          "Sinantomas",
          "Adobong Itlog",
          "Tomato, Grilled Eggplant and Salted Egg Salad",
          "Beef Afritada",
          "Humba",
          "Taco Rice",
          "Crispy Chicken Livers a la Bistek",
          "Tinapa Fried Rice",
          "Nasi Goreng (Indonesian Fried Rice)",
          "Lengua in Mushroom Sauce",
          "Chinese Chicken Salad",
          "Tamarind Chicken Wings",
          "Beef Tapa",
          "Spanish-style Sardines Bangus in Olive Oil",
          "Shrimp in Black Bean Sauce",
          "Pineapple Pork Ribs",
          "Black Pepper Chicken",
          "Chicken Inasal",
          "Ukoy",
          "Sotanghon at Bola Bola Sopas (Cellophane Noodles and Meatball Soup)",
          "Adobong Puti",
          "Spam Musubi",
          "Chicken Caldereta",
          "Paksiw na Lechon",
          "Arroz Valenciana",
          "Inihaw na Liempo",
          "Sizzling Tofu",
          "Chicken Tapa",
          "Pinaputok na Tilapia",
          "Nilagang Baka",
          "Baked Salmon with Tamarind Mayo Topping",
          "Pork Bulanglang",
          "Pork Giniling with Quail Eggs",
          "Sinigang na Hipon sa Calamansi",
          "Siomai",
          "Baked Tahong with Sweet Chili-Mayo Topping",
          "Corned Beef Sinigang",
          "Pork Chicharon",
          "Lumpiang Prito with Pork",
          "Pininyahang Pork",
          "Pork Afritada",
          "Chicken Curry",
          "Pork Belly Lechon Roll",
          "Pork Menudo",
          "Giniling na Baboy",
          "American Chop Suey",
          "Filipino-style Barbecue Chicken",
          "Binagoongan Baboy",
          "Bistek Tagalog (Filipino Beef Steak)",
          "Chicken Rice Congee",
          "Hawaiian Chicken",
          "Carne Guisada",
          "Minced Chicken in Lettuce Cups",
          "Ginisang Upo with Pork",
          "Pancit Upo",
          "Pineapple Chicken Afritada",
          "Filipino-style Chicken Baked Macaroni",
          "Easy Pancit Luglug",
          "Spare Ribs with Ketchup and Pineapple",
          "Bulanglang na Bangus at Hipon",
          "Lumpiang Togue",
          "Yang Chow Fried Rice",
          "Thai Mango Salad",
          "Lumpiang Galunggong",
          "Bangus Sisig",
          "Filipino-style Spaghetti",
          "Ginataang Sigarilyas at Kalabasa",
          "Ginisang Sardinas at Miswa",
          "Binagoongan Baboy sa Gata",
          "Mexican Pork Adobo",
          "Ginisang Upo at Sardinas",
          "Lalaine's Stewed Chicken and Potatoes in Fish Sauce",
          "Filipino Beef Tapa",
          "Daing na Bangus",
          "Ginataang Seafood",
          "Ginisang Gulay",
          "Dynamite Lumpia",
          "Mango Curry Chicken",
          "Java Rice",
          "Ampalaya con Carne",
          "Nilagang Baboy",
          "Ampalaya with Chicken Feet",
          "Beef, Potato and Pechay Soup",
          "Lechon sa Hurno",
          "Relyenong Bangus",
          "Sinabawang Tahong",
          "Suam na Mais",
          "Pesang Dalag",
          "Sinigang na Baboy",
          "Stir Fry Eggplant Recipe",
          "Ham Fried Rice",
          "Pork Chop Steak",
          "Egg Fried Rice Recipe",
          "Cheesy Pork Caldereta",
          "Crispy Palabok",
          "Pork Belly with Boiled Eggs in Oyster Sauce",
          "Tofu and Broccoli Stir fry",
          "Ginisang Puso ng Saging",
          "Chicken Adobo Recipe (boneless thigh)",
          "Nilagang Pata",
          "Laing Fried Rice",
          "Kangkong and Ground Pork with Oyster Sauce Stir Fry",
          "Chicken Fried Rice Recipe",
          "Fish in Coconut Milk with Pineapple",
          "Garlic Tokwa and Kangkong in Oyster Sauce",
          "Eggplant with Ground Pork in Oyster Sauce",
          "Easy Pata Tim Recipe",
          "Oven BBQ Spareribs",
          "Pork Binagoongan sa Gata",
          "Suam na Mais",
          "Creamy Beef with Mushroom",
          "Amazing Cabbage Recipe",
          "Better Beef Nilaga",
          "Kare Kare Buntot ng Baka",
          "Pork Monggo with Fried Galunggong",
          "Sotanghon Guisado",
          "Tastylicious Adobong Pusit Recipe",
          "Stir Fried Chicken Franks",
          "Asian Chicken Lettuce Wrap",
          "Loco Moco Recipe",
          "Pinoy Burger Steak Recipe",
          "Orange Crispy Burger",
          "Crispy Pata Dinakdakan",
          "Sisig Paella",
          "Festive Tuna Carbonara",
          "Garlic Pepper Beef",
          "Easy Seafood Paella",
          "Pinoy Chicken Sopas",
          "Filipino Style Beef Steak",
          "Chicken Mechado",
          "Sinigang",
          "Pinoy Chicken Curry Recipe",
          "Tokwat Baboy Recipe",
          "Kilawing Kambing",
          "Chicken Gising-gising",
          "Utan nga Langka Recipe",
          "Pork Giniling with Oyster Sauce",
          "Chicken Gizzard Bicol Express",
          "Tapa and Egg Fried Rice",
          "Filipino Style Pork and Chicken Barbecue",
          "Spicy Eggplant Stir Fry Recipe",
          "Estofado Recipe (Probinsya Style)",
          "Chili Garlic Crab and Shrimp Recipe",
          "Beef Broccoli Recipe with Carrots",
          "Paksiw na Pata",
          "Ginataang Monggo with Tofu and Malunggay",
          "Chicken Sotanghon Tinola Recipe",
          "Tochong Bangus",
          "Arroz Caldo Recipe",
          "Homemade Lechon Paksiw",
          "Beef Caldereta Recipe",
          "Sizzling Tofu Sisig",
          "Garlic Butter Shrimp Pancit Canton",
          "Bulalo Recipe",
          "Crispy Lechon Belly Roll",
          "Kakaibang Tokwat Baboy",
          "Kalderetang Kambing",
          "Creamy Baked Salmon",
          "Pininyahang Baboy sa Gata",
          "Masarsang Menudo",
          "Beef Salpicao",
          "Patotin Recipe",
          "Sinarsahang Manok",
          "Pata Estofado Recipe",
          "Pork Chao Fan Recipe",
          "Laswa Recipe",
          "Chicken Barbecue",
          "Binagoongan Bagnet with Talong",
          "Ginisang Munggo (Monggo)",
          "Pancit Bihon with Lechon Kawali",
          "Pinaputok na Tilapia Recipe",
          "Binagoongang Talong Recipe",
          "Pork Menudo",
          "Bicol Express Gising-gising",
          "Chicken Afritada Recipe",
          "Chicken Paksiw",
          "Pork Steak Recipe",
          "Crispy Kare-kare",
          "Ginataang Kalabasa at Sitaw",
          "Pata Tim Recipe",
          "Chicken Binagoongan",
          "Adobo Fried Rice",
          "Ginisang Labanos Recipe",
          "Pinakbet Tagalog Recipe",
          "Pineapple Chicken Afritada",
          "Pork Ribs Binagoongan with Talong",
          "Pork Menudo sa Gata",
          "Beef Pares Kanto Style",
          "Pata Pochero",
          "Chicken Kare-kare sa Gata",
          "Lechon Paksiw",
          "Humba Recipe (Bisaya Version)",
          "Filipino Beef Caldereta (Pulutan Style)",
          "Beef Stir Fry",
          "Garlic Bihon Recipe",
          "Pinatuyong Pork Hamonado",
          "Pininyahang Manok",
          "Pork Sisig",
          "Pininyahang Manok sa Gata",
          "Tokwa at Baboy Humba",
          "Tipid Sarap Monggo",
          "Crispy Air Fried Liempo Pinakbet with Ube",
          "Chicken Feet in Oyster Sauce with Salted Black Beans",
          "Kinamatisang Baka",
          "Beef Papaitan",
          "Sweet Pata Asado",
          "Spare Ribs Hamonado",
          "Salmon Sisig",
          "Bulalo Kare-Kare",
          "Max’s Style Fried Chicken with Kamote Fries",
          "Sinantomas",
          "Ginataang Sapsap",
          "Saucy Beef with Broccoli",
          "Chicken and Liver Adobo",
          "Sardines with Sotanghon and Pechay",
          "Fish Sinigang",
          "Low-Carb Breaded Pinatisang Baboy",
          "Shrimp Laing Recipe",
          "Crispy Pork Binagoongan",
          "Chicken Caldereta Recipe",
          "Easy Adobong Pusit Recipe",
          "Tuyo Pesto Spaghetti Pasta",
          "Ginataang Tulingan",
          "Bulalugaw Recipe",
          "Sinigang na Hipon",
          "Pork Monggo with Kangkong Recipe",
          "Pork Barbecue",
          "Sizzling Crispy Sisig",
          "Yang Chow Fried Rice Recipe",
          "Quick and Easy Fried Chicken",
          "Ginataang Langka with Malunggay and Dilis",
          "Ginataang Manok with Papaya",
          "Chicken Pancit Habhab",
          "Pinoy Style Pork and Chicken Curry",
          "Creamy Chicken Pastel",
          "Bangus Sisig",
          "Ginisang Pechay at Giniling with Oyster Sauce",
          "Kilawing Labanos Recipe",
          "Nilagang Manok Recipe",
          "Chicken Adobo Fried Rice and Tortang Corned Beef",
          "Grilled Tuna Belly",
          "Asian Beef with Mushroom",
          "Paksiw na Pata Recipe",
          "Galbi Recipe",
          "Paklay Recipe",
          "Bangus Salpicao",
          "Sinigang na Pata with Gabi",
          "Ginataang Bitsuelas",
          "Hamonadong Baboy",
          "Rellenong Pusit",
          "Easy Liempo Inihaw",
          "Vegetarian Pancit Canton",
          "Soup Number 5",
          "Tinolang Tahong Recipe",
          "Pinoy Pork Barbeque",
          "Inasal Recipe",
          "Beef Pares",
          "Pancit Canton Recipe",
          "Chicken Pancit Recipe",
          "Pork Adobo in Pineapple Juice with Boiled Eggs",
          "Beef Kaldereta Recipe",
          "Ginisang Monggo with Dilis",
          "Squid Ball Chop Suey",
          "Sinigang na Baboy with Gabi",
          "Chicken Pochero Recipe",
          "Lumpiang Hubad Recipe",
          "Ginisang Repolyo with Chicken",
          "Adobong Pusit Recipe",
          "Pork Binagoongan Recipe",
          "Pata Hamonado",
          "Laing na Gabi Recipe",
          "Ampalaya Con Carne Recipe",
          "Pork Dinuguan Recipe",
          "Ginataang Langka with Pork Recipe",
          "Christmas Lasagna",
          "Super Crispy Pata with Yummy Sawsawan",
          "Bicol Express",
          "Chicken Hamonado",
          "Spicy Pork Kaldereta Recipe",
          "Sisig Recipe",
          "Pancit Guisado Recipe",
          "Filipino Style Spaghetti Recipe",
          "Adobong Sitaw at Kangkong with Chicharon",
          "Paksiw na Bangus Recipe",
          "Pork Dinakdakan Recipe",
          "Seared Okra and Tomato Recipe",
          "Salmon Sinigang Recipe",
          "Ginataang Lechon Kawali with Kalabasa and Long Green Beans",
          "Cheesy Chicken Afritada Recipe",
          "Root Beer Pork Steak",
          "Ginisang Upo at Kalabasa - Sauteed Opo and Butternut Squash",
          "Nilagang Baka with Kalabasa – Filipino boiled beef Soup",
          "Ginisang Upo with Ground Pork and Shrimp",
          "Sizzling Liempo Sisig",
          "Ginataang Salmon (Salmon in Coconut Milk)",
          "Sinigang na Sugpo Recipe",
          "Pocherong Baboy Recipe",
          "How to Cook Bulalo",
          "Oxtail Soup Recipe",
          "Crispy Bicol Express",
          "Chicharon Bulaklak with Spicy Vinegar",
          "Sinigang na Bangus Recipe",
          "Pata at Hipon sa Gata na May Monggo at Langka",
          "Tanigue Fish Steak ala Bistek",
          "Estofadong Baboy",
          "Bicol Express ala Bebet",
          "Filipino Shrimp Curry Recipe",
          "Tuna Sisig",
          "Beef Ribs Sinigang",
          "Tuna Macaroni Salad",
          "Corned Beef Sinigang",
          "15 Minute Pork Stir Fry",
          "Ginataang Monggo with Pork Recipe",
          "Healthy Chicken Menudo",
          "Bacon and Egg Chicken Adobo",
          "Pancit Canton at Bihon Recipe",
          "Beef Bulalo Recipe",
          "Pork Ginataan",
          "Chicken Congee Recipe",
          "Shrimp and Chicken Pancit Canton",
          "Nilagang Buto-buto ng Baka Recipe",
          "Chicken Nilaga with Kalabasa",
          "Stuffed Beef and Pork Burger Patties",
          "Ginataang Santol (Sinantolan) Recipe",
          "Paella Negra (Arroz Negre) Recipe",
          "Bacon and Egg Chicken Adobo",
          "Butter Garlic Shrimp and Squid",
          "Filipino Pork Menudo Recipe",
          "Dinengdeng na Saluyot with Tinapa",
          "Noche Buena Lumpiang Shanghai",
          "Pocherong Baka Recipe",
          "Nilagang Baka ala Bulalo",
          "Pancit Sotanghon Na May Hipon",
          "Palabok Recipe",
          "Anghang Sarap Laing",
          "Sizzling Tuna Sisig",
          "How to Make Kimchi at Home",
          "Gotong Batangas Recipe",
          "Grilled Liempo with Fried Tofu",
          "Pork Tocino with Salted Egg and Chopped Tomato",
          "Spicy Monggo with Tinapa",
          "Seafood Sinigang",
          "Ma Po Tofu Recipe",
          "Fried Galunggong with Salted Egg and Tomato Salad",
          "Inihaw na Galunggong with Ensaladang Talong",
          "Crispy Tofu Sisig",
          "Hotsilog (Hotdog Sinangang at Itlog)",
          "Asadong Baboy",
          "Beef Short Rib Sinigang Na May Pakwan",
          "Sauteed Bottle Gourd with Ground Pork and Shrimp",
          "Afritadang Baboy",
          "Corned Beef with Cabbage and Potato",
          "Sinigang na Salmon sa Miso",
          "Shrimp Monggo with Lechon Kawali",
          "Grilled Pork Belly with Garlic Fried Rice and Fried Egg - Liempo Sinangag Itlog",
          "Ginisang Monggo with Inihaw na Liempo",
          "Filipino Style Pork BBQ",
          "Pork Nilaga Recipe",
          "Ginisang Sitaw at Kalabasa with Shrimp",
          "Chicken Arroz Caldo Recipe",
          "Pork Pata Humba Recipe",
          "Pork Monggo Recipe",
          "Shrimp Pancit Bihon Recipe",
          "Braised Pork Belly in Soy Sauce (Tau Yew Bak)",
          "Pork Menudo with Ham Recipe",
          "Ginataang Manok with Sitaw at Kalabasa",
          "Spicy Ginataang Hipon Recipe",
          "Pork Dinuguan sa Gata Recipe",
          "Pork Bicol Express Recipe",
          "Chili Garlic Butter Shrimp Recipe",
          "Dinendeng with Bilong-bilong Recipe",
          "Pata Paksiw Recipe",
          "Batangas Bulalo Recipe",
          "Sinabawang Corned Beef",
          "Tuna in Can Sarciado",
          "Seafood Bicol Express",
          "Chicken Molo Soup",
          "Upo Guisado Recipe",
          "Shrimp Scampi with Linguine",
          "Baked Tahong with Butter Cheese and Roasted Garlic Recipe",
          "Tinola Chicken Mami",
          "Saucy Pancit Canton",
          "Tinolang Manok sa Gata",
          "Fried Noodles with Chicken and Shrimp",
          "Stir Fried Beef with Oyster Sauce and Snap Peas",
          "Sauteed Chayote with Pork and Tomato",
          "Lengua Estofado Recipe",
          "Pork Tenderloin Salpicao",
          "Adobong Okra with Pork Recipe",
          "Slow Cooked Beefsteak (Bistek Tagalog)",
          "Pork Chop Bicol Express",
          "Classic Beef Morcon Recipe",
          "Pork Mechado Recipe",
          "Tuna Jaw Sinigang",
          "Pork Chop Sinigang",
          "Pork and Scallion Stir Fry Recipe",
          "Panlasang Pinoy Spaghetti",
          "Sinigang na Buntot ng Baboy with Gabi",
          "Lechon Manok Recipe",
          "Misua with Patola and Meatballs",
          "Grilled Liver Bistek",
          "Danggit Fried Rice",
          "Pinakbet with Lechon Kawali",
          "Corned Beef Silog",
          "Tinumis Recipe",
          "Simple Chicken Afritada",
          "Ginisang Tuna (Canned Albacore Tuna Sauteed with Onions)",
          "Inihaw na Pusit with Scallion",
          "Cansi Recipe (Ilonggo Bulalo and Sinigang in one Delicious Soup Dish)",
          "Inihaw na Panga ng Tuna (Grilled Tuna Jaw)",
          "Crawfish in Coconut Milk with Spinach",
          "Sinigang na Bangus Belly sa Miso",
          "Fresh Basil and Sun Dried Tomato Spaghetti Pasta",
          "Tulapho Recipe (Crispy Fried Pork)",
          "Ginisang Munggo with Tinapa and Fried Red Snapper",
          "Sigarilyas Gising gising Recipe",
          "Beef Stir Fry in Oyster Sauce with Ampalaya",
          "Chili Crab with String Beans",
          "Grilled St. Louis Style Ribs with Ensaladang Talong and Bagoong",
          "How to Cook Tender Juicy Rib Eye Steak Using a Frying Pan",
          "Ginisang Okra with Fish Flakes Recipe",
          "How to Cook Ginataang Langka with Tinapa Flakes",
          "Classic Beef with Broccoli Recipe",
          "Ginataang Yellow Fin Tuna",
          "Slow Cook Pork Afritada",
          "Chopped Tomato and Onion with Bagoong Isda",
          "Sinigang na Lapu lapu sa Miso",
          "Beer Marinated Grilled Chicken Breast Inasal",
          "Ginataang Langka with Malunggay and Daing",
          "Easy Pork Hamonado",
          "Beef Sinigang sa Kamias with Gabi (Beef in Sour Broth with Taro)",
          "Lumpiang Gulay (Vegetable Egg Roll Recipe)",
          "Inabraw Recipe (Boiled Vegetables with Fried Fish)",
          "Teriyaki Chicken Thighs",
          "Turkey and Ham Sopas",
          "Sausage, Liver, and Pork Stew",
          "Spicy Chicken in Coconut Milk (Ginataang Manok)",
          "Pinoy Chicken Noodle Soup",
          "Pork Ginataan with Squash and String Beans",
          "Yellow Arroz Caldo Recipe",
          "Breakfast Sausage Hash",
          "Baked Garlic Milkfish",
          "Sweet and Sour Pompano",
          "Apple Snails in Coconut Milk (Ginataang Kuhol)",
          "Huevos Rancheros",
          "Beef and Mushroom Braised Stew",
          "Pork BBQ Fried Rice",
          "Dried Squid in Coconut Milk",
          "Pork and Potato Stew Recipe",
          "Asian Style Spare Ribs",
          "Pork Nilaga with Kalabasa",
          "Bagnet Recipe",
          "Filipino Skewered Pork BBQ",
          "Easy Callos Recipe",
          "Simple Lo Mein",
          "Grilled Stuffed Tilapia Recipe",
          "Simple Orange Chicken Tenders",
          "Mongolian Beef",
          "Dutch Oven Pork Stew Recipe",
          "Simple Pancit Palabok Recipe",
          "Deviled Egg Recipe",
          "Pork Adobo Paksiw with Jeprox and Shrimp Fried Rice",
          "Crock Pot Pork Adobo",
          "Filipino Style Spaghetti",
          "Shrimp Pancit Canton Recipe",
          "Sinigang na Bangus sa Bayabas",
          "Beef and Tripe Pochero Recipe",
          "Slow Cooked Beef Nilaga Soup Recipe",
          "Kung Pao Pork Recipe",
          "Pork Chop Suey Recipe",
          "Special Pinoy Pork Chop Binalot Lunch Combo Meal Recipe",
          "Tokwa and Tuna Recipe",
          "Cedar Plank Salmon",
          "Sticky Asian Fried Chicken Wings",
          "Sarciadong Itlog Recipe",
          "Corn Soup with Mussels and Malunggay",
          "Binagoongang Baboy Recipe (Pork in Shrimp Paste)",
          "Easy Fish with Tausi Recipe",
          "Chicken with Oyster Sauce Stir Fry",
          "Monggo with Tuyo Recipe (Mung Beans with Salted Fish)",
          "Kangkong in Oyster Sauce Recipe",
          "Quick and Easy Beef and Pepper Stir Fry",
          "Relyenong Tahong (Stuffed Mussels)",
          "Sinigang na Isda sa Kamias with Miso",
          "Nilagang Pata Recipe",
          "Beef and Broccoli Stir Fry",
          "Pork Sinigang sa Kamias Recipe",
          "Filipino Roasted Chicken Pandan Recipe",
          "Lechon Pata Recipe",
          "Chicken Guisantes Recipe",
          "Sisig Pizza",
          "Sauteed Bok Choy with Shrimp",
          "Adobong Hipon sa Gata",
          "Tuyo Pasta",
          "Lightly Breaded Fried Pork Chop",
          "Pancit Sotanghon",
          "Corned Beef and Potato Casserole",
          "Slow Cooked Pork Chop with Shiitake Mushrooms",
          "Crock Pot Beef Stew Sandwich",
          "Filipino Pork Chop Steak Recipe",
          "Liempo Estofado Recipe",
          "Cream of Asparagus Soup",
          "Grilled Ahi Tuna Recipe",
          "Sauteed Shrimp with String Beans",
          "Slow Cooked Beef Brisket Recipe",
          "Beef Kebab Recipe",
          "Chicken and Miswa Soup Recipe",
          "Pancit Udon Recipe",
          "Rib Eye Steak with Grilled Potato",
          "Special Goto Recipe",
          "Grilled Mussels Recipe",
          "Ginataang Langka with Pork Recipe",
          "Taco Fried Rice Recipe",
          "Homemade Chicken Noodle Soup Recipe",
          "How to Make Spaghetti with Meat Sauce",
          "Rosemary Baked Chicken Recipe with Vegetables",
          "Recipe for Barbecue Chicken Marinade",
          "Simple Baked Pork Chop Recipe",
          "Easy Calamari Recipe",
          "Menudo with Raisins and Green Peas",
          "Papis Recipe",
          "How to Make Homemade Guacamole",
          "Billy's BBQ Chicken Recipe",
          "Ginarep Recipe (Shrimp and Corn Soup)",
          "Panko Parmesan Crusted Halibut",
          "Spring Fried Chicken",
          "Monggo Guisado with Dilis and Malunggay (Mung Bean Stew with Dried Anchovies)",
          "Linat an Recipe (Boiled Pork Soup with Lemongrass)",
          "Adobong Sitaw with Tofu",
          "Kinamunggayang Manok Recipe",
          "Inihaw na Pork Chop",
          "Sayote Guisado with Chicken and Shrimp",
          "Bas-uy Recipe (Pork and Liver Soup with Lemongrass and Chayote)",
          "Asian Fried Chicken",
          "Ginataang Salmon Recipe",
          "Broiled Red Snapper with Pico de Gallo",
          "Ginisang Repolyo",
          "Bulalo Beef Mami",
          "Chicken Carbonara",
          "Beef Bicol Express",
          "Pepper Steak",
          "Sizzling Chicken Sisig",
          "Apple Pork Pot Roast",
          "Pork Stir Fry with Scallions",
          "Sautéed Napa Cabbage with Ground Pork",
          "Tokwat Baka (Fried Tofu and Grilled Beef in Vinegar Sauce)",
          "Sauteed Flank Steak with Bok Choy and String Beans",
          "Spicy Beef Noodle Soup",
          "Baby Corn Ham and Jicama Stir Fry",
          "Chicken Giniling with Green Peas",
          "Tofu Sarciado",
          "Higadillo Recipe (Pork and Liver Stew)",
          "Chickpea Salad",
          "Saucy Adobong Kangkong",
          "Special Tokwat Baboy",
          "Ginataang Pusit Recipe (squid in coconut milk)",
          "Bean Sprout Chicken",
          "Simple Tuna Recipe",
          "Asian Chicken Soup",
          "Braised Collard Greens",
          "Asian Grilled Chicken and Corn",
          "Kilawing Puso ng Saging",
          "Tangy Shrimp Tacos",
          "Vegetable Spring Roll",
          "Pulled Chicken BBQ Sandwich recipe",
          "Sautéed String Beans with Chicken",
          "Grilled Calamari",
          "Lechon Lomi",
          "Bacon Wrapped Shrimp",
          "Tilapia with Salted Black Beans",
          "Rosemary Garlic Pork Tenderloin",
          "Grilled Potato Salad",
          "Basil Pesto",
          "Sinigang na Tilapia sa Miso Recipe",
          "Misua with Patola and Shrimp",
          "Pata Pochero Recipe",
          "Pata Kare-kare Recipe",
          "Parmesan Crusted Fish Recipe",
          "Filipino BBQ Pork Chop Recipe",
          "Misua with Ground Beef and Zucchini Soup",
          "Roasted Chicken Quarter Recipe",
          "Filipino Pork Fried Rice Recipe",
          "Lengua Con Setas Recipe",
          "Pineapple and Soy Sauce Pork Pot Roast",
          "Lechon Sisig Recipe",
          "Ground Beef Basil and Tomato Frittata",
          "Pancit Habhab Recipe",
          "Century Egg Congee with Salted Pork",
          "Cilantro Lime Rice",
          "Braised Pork Ribs Recipe",
          "Longganisa Fried Rice",
          "T-Bone Steak Sauteed with Onions",
          "Pico de Gallo",
          "Pineapple Pork Stir Fry",
          "Turkey Reuben Sandwich",
          "Bacon and Caramelized Onion Cornbread Stuffing",
          "BBQ Beef Short Ribs Recipe",
          "Chicken and Baby Corn Stir Fry",
          "Crispy Shrimp Adobo Recipe",
          "Super Easy Pork Burger Recipe",
          "Baked Garlic Rosemary Chicken Recipe",
          "Pork Tapsilog",
          "Steamed Fish with Scallions and Ginger",
          "Teriyaki Pork Chop Recipe",
          "Corned Beef Guisado Recipe",
          "Ginisang Sayote Recipe",
          "Grilled Pinoy Pork Chop Recipe",
          "Dinengdeng Recipe",
          "Kangkong and Tofu Stir Fry",
          "Rellenong Talong (Stuffed Eggplant) Recipe",
          "Fried Bangus Recipe (Fried Milkfish)",
          "Gising gising Recipe (Green bean with Pork in Coconut milk)",
          "Grilled Pork Chop with Mango Salsa",
          "Baked Garlic Parmesan French Fries",
          "Ham and Egg Fried Rice",
          "Sauteed Brussels Sprouts with Bacon Recipe",
          "Sweet and Spicy Shrimp Stir Fry",
          "Beef with Broccoli Lo Mein Recipe",
          "Salmon Steak Recipe",
          "Chicken Spaghetti Recipe",
          "Tilapia Fish Tacos Recipe",
          "Spicy Bopis Recipe",
          "Oriental Lemon Chicken Recipe",
          "Beef Stew Recipe",
          "Tortilla Soup Recipe",
          "Ground Beef Casserole Recipe",
          "Fried Pork Chop Recipe",
          "Oven Baked Chicken Recipe",
          "Egg Roll",
          "Cabbage Soup Recipe",
          "Baked Potato Skin Recipe",
          "Hototay Soup Recipe",
          "Tuna Sushi Roll",
          "Chicken and Corn Soup",
          "Pochero Recipe",
          "Chicken Barbecue Fried Rice",
          "Beef Curry Recipe",
          "Buffalo Chicken Wings Recipe",
          "Pancit Miki Guisado Recipe",
          "Mixed Seafood in Coconut Milk Recipe",
          "Asian Chicken Barbecue Submarine Sandwich",
          "Pumpkin Soup Recipe",
          "Ginataang Sitaw at Kalabasa with Crabs Recipe",
          "Shepherds Pie",
          "Chicken Binakol",
          "Pork Guisantes Recipe",
          "Grilled Dijon Pork Chop Recipe",
          "Round Steak in Criolla Sauce Recipe",
          "Corn and Malunggay Soup Recipe",
          "How to Make Lengua a la Vinagreta",
          "Hot and Sour Soup",
          "Baked Tilapia with Grilled Pineapple Salsa",
          "Pork and Tofu in Oyster Sauce Recipe",
          "Baked Cilantro Lime Cod Recipe",
          "Bacon wrapped Scallops in Lemon Garlic Butter Sauce",
          "Paella Marinera Recipe",
          "Chicken Fajita Recipe",
          "Tandoori Chicken Recipe",
          "Adobong Labong Recipe",
          "Kung Pao Chicken Recipe",
          "Grilled Chicken Salad",
          "Braised Beef",
          "Bow Tie Pasta with Vodka Sauce Recipe",
          "Potato and Green Bean Salad Recipe",
          "Green Bean Salad with Feta and Dill Recipe",
          "Garlic Parmesan Chicken Wings Recipe",
          "Paksiw na Isda Recipe",
          "Tarragon Chicken Salad",
          "Sinuglaw",
          "Pesang Isda Recipe",
          "Bok Choy in Garlic Sauce",
          "Kinilaw na Dulong",
          "Papaitan Recipe",
          "Tofu in Black Bean Sauce Recipe",
          "Egg Foo Young Recipe",
          "Sotanghon Guisado Recipe",
          "Kinilaw na Tuna",
          "Pork Estofado Recipe",
          "Chicken Satay with Peanut Sauce",
          "Lumpiang Togue Recipe",
          "Kung Pao Shrimp",
          "Caesar Salad",
          "Spiral Noodles with Vegetables",
          "Tofu Steak Fried in Honey and Rosemary with Tuna & Tomato Sauce",
          "Special Siopao Sauce Recipe",
          "Sarciadong Isda Recipe",
          "Humba Recipe",
          "Molo Soup",
          "Meatloaf Recipe",
          "Morcon",
          "Ginataang Manok Recipe",
          "Beef Mami Recipe",
          "Grilled Isaw (Intestine) Recipe",
          "Cashew Chicken Recipe",
          "Easy Steamed Fish Recipe",
          "Max's style Fried Chicken",
          "Inihaw na Liempo Recipe",
          "Ginisang Upo Recipe",
          "Beef Nilaga Recipe",
          "Homemade Beef Tapa",
          "Inihaw na Pusit Recipe (Grilled Squid)",
          "Beef Pochero Recipe",
          "Spicy Chicken Feet",
          "Pancit Bihon Recipe",
          "Pork Hamonado Recipe"
         ],
         "legendgroup": "2",
         "marker": {
          "color": "rgb(242, 183, 1)",
          "size": 5,
          "symbol": "circle"
         },
         "mode": "markers",
         "name": "2",
         "showlegend": true,
         "type": "scattergl",
         "x": [
          0.9411698579788208,
          0.9150159358978271,
          0.8873968124389648,
          0.8811690807342529,
          0.8698752522468567,
          0.9456689953804016,
          0.8499842882156372,
          0.9382414817810059,
          0.9067668318748474,
          0.9072235822677612,
          0.9160360097885132,
          0.9362743496894836,
          0.9287866353988647,
          0.9170560240745544,
          0.9038168787956238,
          0.8945075273513794,
          0.91817706823349,
          0.9190499782562256,
          0.919988751411438,
          0.8992558717727661,
          0.9357818365097046,
          0.9464181065559387,
          0.8200543522834778,
          0.8850579857826233,
          0.9211184978485107,
          0.942282497882843,
          0.8748260140419006,
          0.9078271389007568,
          0.9129022359848022,
          0.8763266801834106,
          0.9072058200836182,
          0.928227961063385,
          0.9078826904296875,
          0.803050696849823,
          0.9112106561660767,
          0.8867653012275696,
          0.9548609256744385,
          0.9380984306335449,
          0.878990113735199,
          0.9346868991851807,
          0.9325635433197021,
          0.9383193850517273,
          0.912022054195404,
          0.9356509447097778,
          0.9407720565795898,
          0.9418636560440063,
          0.9009464383125305,
          0.9061386585235596,
          0.9290635585784912,
          0.9202862977981567,
          0.902411937713623,
          0.9281097650527954,
          0.9244676828384399,
          0.9326776266098022,
          0.9128321409225464,
          0.926393449306488,
          0.8018980622291565,
          0.8875201344490051,
          0.9390827417373657,
          0.9490025043487549,
          0.9255232810974121,
          0.8596370816230774,
          0.8867653012275696,
          0.9483352303504944,
          0.9517884850502014,
          0.9121991395950317,
          0.9125858545303345,
          0.9455288648605347,
          0.9236679077148438,
          0.9351459741592407,
          0.9458690881729126,
          0.9369189143180847,
          0.9129539728164673,
          0.9028857946395874,
          0.9079369902610779,
          0.9361697435379028,
          0.8596276044845581,
          0.9464359879493713,
          0.8924036026000977,
          0.9169413447380066,
          0.9631764888763428,
          0.9070831537246704,
          0.9262219667434692,
          0.9408683180809021,
          0.9229046106338501,
          0.9020903706550598,
          0.9292806386947632,
          0.9169116616249084,
          0.9097751379013062,
          0.9072829484939575,
          0.9342830777168274,
          0.9418104887008667,
          0.8911412954330444,
          0.9249546527862549,
          0.854302167892456,
          0.8882831931114197,
          0.8728376626968384,
          0.8485889434814453,
          0.9072234630584717,
          0.9166873693466187,
          0.8631051182746887,
          0.9465082287788391,
          0.9341905117034912,
          0.8559411764144897,
          0.8169944882392883,
          0.9481450319290161,
          0.8769795298576355,
          0.9127749800682068,
          0.9278877973556519,
          0.9134995341300964,
          0.9247921705245972,
          0.9432522058486938,
          0.9040431976318359,
          0.8579972386360168,
          0.9241979122161865,
          0.9478021264076233,
          0.9043502807617188,
          0.9071084856987,
          0.8659663200378418,
          0.8966596126556396,
          0.8920024633407593,
          0.9175163507461548,
          0.9056993126869202,
          0.9362034201622009,
          0.9525083303451538,
          0.895637571811676,
          0.9184225797653198,
          0.9479371309280396,
          0.9136993885040283,
          0.92698073387146,
          0.9263278245925903,
          0.903009831905365,
          0.8738486766815186,
          0.9469301700592041,
          0.9306233525276184,
          0.8805140852928162,
          0.9269307851791382,
          0.8582429885864258,
          0.9409019351005554,
          0.9122037887573242,
          0.923092246055603,
          0.9214233160018921,
          0.9235413074493408,
          0.9064441323280334,
          0.9461362361907959,
          0.8683254718780518,
          0.8535439372062683,
          0.9230673313140869,
          0.9213676452636719,
          0.9339582920074463,
          0.9177947044372559,
          0.9212864637374878,
          0.8816590309143066,
          0.9127227067947388,
          0.9418879747390747,
          0.9208258390426636,
          0.8918367624282837,
          0.9090096950531006,
          0.9061025977134705,
          0.7908689975738525,
          0.8944109082221985,
          0.9077625870704651,
          0.9041536450386047,
          0.927678644657135,
          0.8866659998893738,
          0.9354721307754517,
          0.8867653012275696,
          0.9544054865837097,
          0.9383796453475952,
          0.9393638372421265,
          0.8978366851806641,
          0.9053303003311157,
          0.9522440433502197,
          0.9074510335922241,
          0.8817316293716431,
          0.9322859048843384,
          0.9083285927772522,
          0.8782311081886292,
          0.9231120347976685,
          0.927072286605835,
          0.957482635974884,
          0.9372565746307373,
          0.8719445466995239,
          0.8562140464782715,
          0.920416533946991,
          0.9011790156364441,
          0.9248224496841431,
          0.7739508152008057,
          0.9552937746047974,
          0.9028445482254028,
          0.9029797315597534,
          0.9328421950340271,
          0.9189842939376831,
          0.8994215726852417,
          0.9262235760688782,
          0.8470574617385864,
          0.8357957005500793,
          0.9303992390632629,
          0.8904005885124207,
          0.9302281141281128,
          0.9265211820602417,
          0.9086971282958984,
          0.893500566482544,
          0.8892413973808289,
          0.8996762037277222,
          0.890643835067749,
          0.9089266061782837,
          0.8982135057449341,
          0.8896400332450867,
          0.9233527183532715,
          0.8559263944625854,
          0.9068856239318848,
          0.9462867379188538,
          0.8878003358840942,
          0.8876868486404419,
          0.9347776174545288,
          0.8740289211273193,
          0.8880058526992798,
          0.894284725189209,
          0.9237844347953796,
          0.8918641805648804,
          0.9335145950317383,
          0.8987436294555664,
          0.8976027965545654,
          0.9092092514038086,
          0.9391568899154663,
          0.9377297163009644,
          0.9269515872001648,
          0.8962543606758118,
          0.7652891278266907,
          0.9368237257003784,
          0.8907628655433655,
          0.9194668531417847,
          0.8691591024398804,
          0.8809993863105774,
          0.9289231896400452,
          0.8327128887176514,
          0.8785937428474426,
          0.8958960771560669,
          0.9145066738128662,
          0.9390932321548462,
          0.9527692794799805,
          0.9152379035949707,
          0.9135873913764954,
          0.91522616147995,
          0.9331656694412231,
          0.897459864616394,
          0.9255726933479309,
          0.8990460634231567,
          0.9074190258979797,
          0.9409744739532471,
          0.904531717300415,
          0.9033724069595337,
          0.9091525673866272,
          0.9409744739532471,
          0.9428287744522095,
          0.8978087902069092,
          0.9143430590629578,
          0.9226672649383545,
          0.9368560910224915,
          0.9089841842651367,
          0.9067149758338928,
          0.8713762164115906,
          0.9337438941001892,
          0.9052428603172302,
          0.9263735413551331,
          0.9070368409156799,
          0.9190064072608948,
          0.9389407634735107,
          0.9418172836303711,
          0.9112160801887512,
          0.8989418745040894,
          0.930585503578186,
          0.8922067880630493,
          0.9035082459449768,
          0.9374570846557617,
          0.8775706887245178,
          0.825304388999939,
          0.9373415112495422,
          0.9259871244430542,
          0.8852508664131165,
          0.9331653118133545,
          0.9185791015625,
          0.8865160942077637,
          0.8962228894233704,
          0.9153881669044495,
          0.9023486375808716,
          0.8764873743057251,
          0.9173060059547424,
          0.9369794130325317,
          0.9296036958694458,
          0.8089867830276489,
          0.8965250253677368,
          0.9227253198623657,
          0.8780059814453125,
          0.8997719287872314,
          0.8585132360458374,
          0.8662884831428528,
          0.8896155953407288,
          0.8744446635246277,
          0.8636698126792908,
          0.9461255073547363,
          0.9221740961074829,
          0.9465137720108032,
          0.7716267108917236,
          0.9392577409744263,
          0.941076397895813,
          0.8717964887619019,
          0.8959439992904663,
          0.8708143830299377,
          0.9077783823013306,
          0.9410858154296875,
          0.8497923612594604,
          0.8335651159286499,
          0.8883944153785706,
          0.9094024896621704,
          0.9296261072158813,
          0.9330586194992065,
          0.9401689767837524,
          0.9129352569580078,
          0.8902743458747864,
          0.8789272308349609,
          0.8998266458511353,
          0.8811240196228027,
          0.8907749652862549,
          0.9215764999389648,
          0.8516704440116882,
          0.8990229964256287,
          0.9055183529853821,
          0.9247204065322876,
          0.8989865183830261,
          0.9042969942092896,
          0.9541282057762146,
          0.8626657724380493,
          0.9012569189071655,
          0.9169517755508423,
          0.8892349600791931,
          0.8824965953826904,
          0.8526895642280579,
          0.9165582656860352,
          0.9209649562835693,
          0.883204996585846,
          0.8861472606658936,
          0.892451286315918,
          0.900877833366394,
          0.9169103503227234,
          0.9012772440910339,
          0.9007943868637085,
          0.9026305079460144,
          0.9148979187011719,
          0.9442718029022217,
          0.9317115545272827,
          0.9248703718185425,
          0.8223487138748169,
          0.8954180479049683,
          0.8971682786941528,
          0.9014031887054443,
          0.887754499912262,
          0.8816142082214355,
          0.8852891325950623,
          0.9455648064613342,
          0.9201790690422058,
          0.9274755120277405,
          0.882622241973877,
          0.9111166000366211,
          0.9051022529602051,
          0.8805468082427979,
          0.8924444317817688,
          0.8875653743743896,
          0.8915654420852661,
          0.9255666732788086,
          0.9383293390274048,
          0.8842849731445312,
          0.8771318197250366,
          0.8761534094810486,
          0.9267328977584839,
          0.9278826117515564,
          0.9307113885879517,
          0.9033827781677246,
          0.9106618165969849,
          0.8555154204368591,
          0.8774701952934265,
          0.8854448199272156,
          0.8764541149139404,
          0.9002503752708435,
          0.907504141330719,
          0.9440272450447083,
          0.920258641242981,
          0.9337725639343262,
          0.8827813863754272,
          0.922577977180481,
          0.8835827708244324,
          0.8984644412994385,
          0.8835827708244324,
          0.8958205580711365,
          0.9165300130844116,
          0.9540215730667114,
          0.9495955109596252,
          0.9050565361976624,
          0.8555152416229248,
          0.9191441535949707,
          0.9223347902297974,
          0.8917178511619568,
          0.8511863946914673,
          0.8571385145187378,
          0.893750786781311,
          0.8881936073303223,
          0.8787279725074768,
          0.9495956301689148,
          0.893915057182312,
          0.924802303314209,
          0.8792500495910645,
          0.9336745738983154,
          0.9090093374252319,
          0.8450445532798767,
          0.8978551030158997,
          0.8570789694786072,
          0.8647010326385498,
          0.9307446479797363,
          0.9055278301239014,
          0.8722478151321411,
          0.915351390838623,
          0.7698893547058105,
          0.9160318374633789,
          0.875780463218689,
          0.86033695936203,
          0.9328572154045105,
          0.9314871430397034,
          0.9146319031715393,
          0.8082451820373535,
          0.8874263763427734,
          0.9171849489212036,
          0.9124704599380493,
          0.9061814546585083,
          0.8691058158874512,
          0.8882938027381897,
          0.9319984316825867,
          0.9310534000396729,
          0.9143661260604858,
          0.8991172313690186,
          0.8927463889122009,
          0.9314093589782715,
          0.8872290253639221,
          0.8958877325057983,
          0.9022369384765625,
          0.8827632069587708,
          0.9279863834381104,
          0.9160141944885254,
          0.9143801927566528,
          0.9036489725112915,
          0.931203305721283,
          0.9323980808258057,
          0.915047287940979,
          0.8589776754379272,
          0.9230196475982666,
          0.9112680554389954,
          0.9047061800956726,
          0.9080996513366699,
          0.9014399647712708,
          0.8574811220169067,
          0.8821395635604858,
          0.9260028600692749,
          0.8646551966667175,
          0.8603602647781372,
          0.9069623947143555,
          0.8510583639144897,
          0.8799189329147339,
          0.9059157967567444,
          0.9308595657348633,
          0.906816303730011,
          0.9178707003593445,
          0.9159365296363831,
          0.9281466007232666,
          0.9278904795646667,
          0.9493145942687988,
          0.9385027289390564,
          0.8852946162223816,
          0.8515698909759521,
          0.8197693228721619,
          0.9249900579452515,
          0.8837634921073914,
          0.8352087736129761,
          0.8836497068405151,
          0.9333083629608154,
          0.9268791675567627,
          0.9220823049545288,
          0.8989530801773071,
          0.9212606549263,
          0.9241010546684265,
          0.9212424159049988,
          0.9114912748336792,
          0.8675674796104431,
          0.8986012935638428,
          0.8994470834732056,
          0.8880310654640198,
          0.8114863634109497,
          0.8322693109512329,
          0.9308518171310425,
          0.907427191734314,
          0.8020643591880798,
          0.9208239316940308,
          0.8931466937065125,
          0.8195280432701111,
          0.8838052749633789,
          0.924970269203186,
          0.8719239234924316,
          0.8819200396537781,
          0.8941967487335205,
          0.8975458145141602,
          0.875749945640564,
          0.8926294445991516,
          0.8922455906867981,
          0.9464292526245117,
          0.8610159158706665,
          0.90994793176651,
          0.8533886671066284,
          0.9224342107772827,
          0.9267104268074036,
          0.9181637763977051,
          0.8717513680458069,
          0.8652786016464233,
          0.9487887620925903,
          0.8851528763771057,
          0.9001960754394531,
          0.8633320927619934,
          0.7535104751586914,
          0.8665571212768555,
          0.9054396748542786,
          0.9140846133232117,
          0.9203681349754333,
          0.8874176740646362,
          0.9141822457313538,
          0.9043334722518921,
          0.8657038807868958,
          0.8966845870018005,
          0.9088019132614136,
          0.9329900741577148,
          0.9299668073654175,
          0.9175612926483154,
          0.7840290665626526,
          0.8747255206108093,
          0.931480884552002,
          0.8932503461837769,
          0.7434329390525818,
          0.8690285682678223,
          0.9277492165565491,
          0.9060906171798706,
          0.8983614444732666,
          0.9066924452781677,
          0.9120895266532898,
          0.8667705655097961,
          0.8667149543762207,
          0.9163870215415955,
          0.8469616770744324,
          0.9479047060012817,
          0.9100074172019958,
          0.8961713910102844,
          0.9263472557067871,
          0.9090781211853027,
          0.9039937853813171,
          0.9255664348602295,
          0.8986862301826477,
          0.9111460447311401,
          0.9022998809814453,
          0.9186155200004578,
          0.9126204252243042,
          0.8910625576972961,
          0.8975625038146973,
          0.9039373397827148,
          0.8809511065483093,
          0.8627303242683411,
          0.8547586798667908,
          0.9477879405021667,
          0.7691782712936401,
          0.9341012835502625,
          0.8614993691444397,
          0.9020125865936279,
          0.8390983939170837,
          0.9293323755264282,
          0.8780958652496338,
          0.9127056002616882,
          0.9350582957267761,
          0.9368560910224915,
          0.9220384955406189,
          0.8831084966659546,
          0.8929973244667053,
          0.9325640201568604,
          0.9020805358886719,
          0.8784717321395874,
          0.8636457324028015,
          0.9369826316833496,
          0.9205991625785828,
          0.9203481674194336,
          0.9095008373260498,
          0.9344640970230103,
          0.8935585021972656,
          0.9011883735656738,
          0.8888953328132629,
          0.8855020999908447,
          0.8892518281936646,
          0.8115792870521545,
          0.8340532183647156,
          0.9058493375778198,
          0.8804532289505005,
          0.8788126707077026,
          0.7710275053977966,
          0.927642822265625,
          0.8900224566459656,
          0.8809058666229248,
          0.9222325086593628,
          0.8912578225135803,
          0.9043105840682983,
          0.9009669423103333,
          0.9176081418991089,
          0.8632030487060547,
          0.9144985675811768,
          0.8966353535652161,
          0.9004037976264954,
          0.8498594760894775,
          0.9145239591598511,
          0.897802472114563,
          0.902316689491272,
          0.9216108322143555,
          0.8867844343185425,
          0.9218825101852417,
          0.9042164087295532,
          0.9108332991600037,
          0.9384347200393677,
          0.9490506649017334,
          0.9300948977470398,
          0.8854450583457947,
          0.9143034219741821,
          0.9128718376159668,
          0.9288980960845947,
          0.9223133325576782,
          0.8607537150382996,
          0.925337016582489,
          0.9457015991210938,
          0.8932031989097595,
          0.9020075798034668,
          0.898038923740387,
          0.9088723659515381,
          0.9335160255432129,
          0.9313980340957642,
          0.9526020884513855,
          0.9177941083908081,
          0.774688184261322,
          0.8480641841888428,
          0.916592001914978,
          0.8604348301887512,
          0.8952939510345459,
          0.8998661041259766,
          0.9112997651100159,
          0.8406139612197876,
          0.9077661633491516,
          0.8312801122665405,
          0.8931203484535217,
          0.907127320766449,
          0.9250741004943848,
          0.9105470180511475,
          0.8721532821655273,
          0.9165072441101074,
          0.8964191675186157,
          0.8324829339981079,
          0.8662156462669373,
          0.9278216361999512,
          0.9424303770065308,
          0.9242380857467651,
          0.9203789830207825,
          0.9074891209602356,
          0.9075114727020264,
          0.8293447494506836,
          0.9064860343933105,
          0.8907252550125122,
          0.8986185193061829,
          0.8680915832519531,
          0.952605128288269,
          0.9058529138565063,
          0.9261413812637329,
          0.8764552474021912,
          0.9262408018112183,
          0.7807416915893555,
          0.903478741645813,
          0.9045695066452026,
          0.9348199963569641,
          0.8775755167007446,
          0.9144641160964966,
          0.8908738493919373,
          0.9049069881439209,
          0.8887994885444641,
          0.8857110738754272,
          0.9243384599685669,
          0.9492270946502686,
          0.8987937569618225,
          0.8932874202728271,
          0.8737431764602661,
          0.8752011656761169,
          0.8798677921295166,
          0.8894573450088501,
          0.8824480772018433,
          0.9033530950546265,
          0.8878750801086426,
          0.9199808835983276,
          0.9504638314247131,
          0.8812508583068848,
          0.9015995264053345,
          0.8827742338180542,
          0.9535574316978455,
          0.9309742450714111,
          0.8747893571853638,
          0.8981918692588806,
          0.7666332721710205,
          0.874195396900177,
          0.9137587547302246,
          0.8530214428901672,
          0.8954629898071289,
          0.8931791186332703,
          0.9131282567977905,
          0.8031232357025146,
          0.808660626411438,
          0.8868076801300049,
          0.9223691821098328,
          0.8528701066970825,
          0.9218814373016357,
          0.9133720993995667,
          0.8730990290641785,
          0.92690110206604,
          0.8719067573547363,
          0.9362930059432983,
          0.9053220748901367,
          0.8987263441085815,
          0.9042953252792358,
          0.798376202583313,
          0.8842202425003052,
          0.9178472757339478,
          0.9304627180099487,
          0.9122314453125,
          0.8650131225585938,
          0.9256183505058289,
          0.8736595511436462,
          0.8709303140640259,
          0.9316743612289429,
          0.8986265063285828,
          0.9366101026535034,
          0.8688749074935913,
          0.8632317781448364,
          0.8247717022895813,
          0.902208685874939,
          0.8646235466003418,
          0.8080040216445923,
          0.8979053497314453,
          0.918032705783844,
          0.9038732051849365,
          0.8095186352729797,
          0.8830813765525818,
          0.8808414936065674,
          0.8832898736000061,
          0.9115860462188721,
          0.8674716949462891,
          0.8968181014060974,
          0.8887627720832825,
          0.9257029294967651,
          0.7946035861968994,
          0.8891023397445679,
          0.9467785358428955,
          0.9238337278366089,
          0.9055137634277344,
          0.9136513471603394,
          0.8901309967041016,
          0.8973935842514038,
          0.8940277099609375,
          0.9163948893547058,
          0.9291114807128906,
          0.9161757230758667,
          0.897538423538208,
          0.8621962070465088,
          0.8880698084831238,
          0.8324037790298462,
          0.7749083042144775,
          0.9172680377960205,
          0.9049069881439209,
          0.8485190868377686,
          0.9158040881156921,
          0.9255976676940918,
          0.902840793132782,
          0.8945584893226624,
          0.8251175284385681,
          0.8995637893676758
         ],
         "xaxis": "x",
         "y": [
          -0.049217306077480316,
          -0.11809834837913513,
          -0.19756269454956055,
          -0.15259195864200592,
          -0.05403885245323181,
          -0.1567755788564682,
          -0.09886249899864197,
          -0.13057032227516174,
          -0.0808839499950409,
          -0.06650208681821823,
          -0.055203381925821304,
          -0.00661859754472971,
          -0.08246265351772308,
          -0.13054805994033813,
          -0.04782351106405258,
          -0.09972953051328659,
          -0.10553313791751862,
          -0.1587129384279251,
          -0.025825191289186478,
          -0.13448531925678253,
          -0.11104002594947815,
          -0.10258840024471283,
          -0.11704950034618378,
          -0.15575875341892242,
          -0.049412116408348083,
          -0.0843944400548935,
          -0.08901160210371017,
          -0.07108001410961151,
          -0.1803840696811676,
          -0.1280515044927597,
          -0.12224090099334717,
          -0.028970275074243546,
          -0.026496442034840584,
          -0.08360596001148224,
          -0.11022107303142548,
          -0.0704292356967926,
          -0.08094476163387299,
          -0.1208484023809433,
          -0.18502089381217957,
          -0.16842925548553467,
          -0.04484250396490097,
          -0.07326209545135498,
          -0.17514747381210327,
          -0.07779230177402496,
          -0.052112579345703125,
          -0.06960280239582062,
          -0.1708168387413025,
          -0.17800763249397278,
          -0.07640492916107178,
          -0.07577021420001984,
          -0.13480699062347412,
          -0.1028246283531189,
          -0.07323381304740906,
          -0.05773567035794258,
          -0.05441952124238014,
          -0.16797098517417908,
          -0.11329462379217148,
          -0.07957550138235092,
          -0.10488657653331757,
          -0.09373150765895844,
          -0.0792737826704979,
          -0.14821156859397888,
          -0.0704292356967926,
          -0.1021832600235939,
          -0.1508602499961853,
          -0.15379221737384796,
          -0.08680015802383423,
          -0.1098574697971344,
          -0.1629747748374939,
          -0.03080052323639393,
          -0.0801895409822464,
          -0.10784117877483368,
          -0.1532408893108368,
          -0.07338397949934006,
          -0.18088658154010773,
          -0.057292304933071136,
          -0.15351149439811707,
          -0.08952696621417999,
          -0.04838620126247406,
          -0.05153731256723404,
          -0.11680782586336136,
          -0.1434398740530014,
          -0.13981014490127563,
          -0.1139889657497406,
          -0.11021406948566437,
          -0.1038389652967453,
          -0.08569233119487762,
          -0.1253456473350525,
          -0.17097094655036926,
          -0.10527701675891876,
          -0.09590886533260345,
          -0.15198293328285217,
          -0.04887178912758827,
          -0.07550396025180817,
          -0.15590360760688782,
          -0.18645256757736206,
          -0.14472654461860657,
          -0.16723690927028656,
          -0.112396739423275,
          -0.046746980398893356,
          -0.1167922168970108,
          -0.07167012244462967,
          -0.11324551701545715,
          -0.13659274578094482,
          -0.049633562564849854,
          -0.10074879229068756,
          -0.16210569441318512,
          -0.13122893869876862,
          -0.14169982075691223,
          -0.1545325219631195,
          -0.08588743209838867,
          -0.11156532168388367,
          -0.057239338755607605,
          -0.055535461753606796,
          -0.10902601480484009,
          -0.011744498275220394,
          -0.16187050938606262,
          -0.04537516459822655,
          -0.10103939473628998,
          -0.17017047107219696,
          -0.15583856403827667,
          -0.04924150928854942,
          -0.13091830909252167,
          -0.09585228562355042,
          -0.08625519275665283,
          -0.15338870882987976,
          -0.059208307415246964,
          -0.06462280452251434,
          -0.0901852548122406,
          -0.15406779944896698,
          -0.08081075549125671,
          -0.18416154384613037,
          -0.1061062291264534,
          -0.053099364042282104,
          -0.0644591897726059,
          -0.11138202995061874,
          -0.08626320958137512,
          -0.06583700329065323,
          -0.022424332797527313,
          -0.05727265030145645,
          -0.09489321708679199,
          -0.14898282289505005,
          -0.08899250626564026,
          -0.07335293292999268,
          -0.06705470383167267,
          -0.0863059014081955,
          -0.09550158679485321,
          -0.11220742762088776,
          -0.03616103529930115,
          -0.043300315737724304,
          -0.08062923699617386,
          -0.04373331367969513,
          -0.14148551225662231,
          -0.17909809947013855,
          -0.12902943789958954,
          -0.16447004675865173,
          -0.14362850785255432,
          -0.028553323820233345,
          -0.08948948979377747,
          -0.0870564728975296,
          -0.1617755889892578,
          -0.10720489919185638,
          -0.02734341472387314,
          -0.06497950106859207,
          -0.18639355897903442,
          -0.1333252191543579,
          -0.0704292356967926,
          -0.050369203090667725,
          -0.16349630057811737,
          -0.025381268933415413,
          -0.15792883932590485,
          -0.14464688301086426,
          -0.038126058876514435,
          -0.11987219750881195,
          -0.12858279049396515,
          -0.03848448023200035,
          -0.029488272964954376,
          -0.09394844621419907,
          -0.1182955950498581,
          -0.04949074238538742,
          -0.12998884916305542,
          -0.13940075039863586,
          -0.08782400190830231,
          -0.08193792402744293,
          -0.03960859775543213,
          -0.038718678057193756,
          -0.1064624935388565,
          -0.1353808045387268,
          -0.0952872484922409,
          -0.14025340974330902,
          -0.053279146552085876,
          -0.14188507199287415,
          -0.09601536393165588,
          -0.02180301770567894,
          -0.086342453956604,
          -0.10456597059965134,
          -0.08477338403463364,
          -0.14827632904052734,
          -0.19239813089370728,
          -0.12306813895702362,
          -0.045709531754255295,
          -0.15188434720039368,
          -0.10642995685338974,
          -0.09328823536634445,
          -0.0740160346031189,
          -0.19638317823410034,
          -0.11281642317771912,
          -0.017825299873948097,
          -0.059475358575582504,
          -0.1685861051082611,
          -0.06326986104249954,
          -0.05283687263727188,
          -0.15692569315433502,
          -0.17207053303718567,
          -0.11636625230312347,
          -0.10744911432266235,
          -0.1730947345495224,
          -0.14089304208755493,
          -0.1665567308664322,
          -0.12692543864250183,
          -0.10044624656438828,
          -0.0736367404460907,
          -0.1393701583147049,
          -0.08385337889194489,
          -0.14182259142398834,
          -0.017578044906258583,
          -0.013012206181883812,
          -0.1224464476108551,
          -0.022902848199009895,
          -0.132823646068573,
          -0.046045880764722824,
          -0.19832400977611542,
          -0.16039510071277618,
          -0.05809120833873749,
          -0.1411573588848114,
          -0.0777781754732132,
          -0.12262916564941406,
          -0.13988734781742096,
          -0.1907762587070465,
          -0.08147740364074707,
          -0.05061991512775421,
          -0.024029701948165894,
          -0.05772510915994644,
          -0.06153992563486099,
          -0.10551564395427704,
          -0.026429494842886925,
          -0.14702510833740234,
          -0.021787196397781372,
          -0.035474810749292374,
          -0.10206499695777893,
          -0.16855701804161072,
          -0.17094463109970093,
          -0.12821562588214874,
          -0.047440752387046814,
          -0.16855701804161072,
          -0.13555908203125,
          -0.12919487059116364,
          -0.031800493597984314,
          -0.15795084834098816,
          -0.1139492392539978,
          -0.07596586644649506,
          -0.18720996379852295,
          -0.08709844201803207,
          -0.15950390696525574,
          -0.1331208199262619,
          -0.13333067297935486,
          -0.10767019540071487,
          -0.1458749771118164,
          -0.1081346869468689,
          -0.11414341628551483,
          -0.07241028547286987,
          -0.06659384816884995,
          -0.13651207089424133,
          -0.06751781702041626,
          -0.05750451236963272,
          -0.06209563463926315,
          -0.12724818289279938,
          -0.1316203474998474,
          -0.025734197348356247,
          -0.0566202811896801,
          -0.12725621461868286,
          -0.08347232639789581,
          -0.16810187697410583,
          -0.18902619183063507,
          -0.13361963629722595,
          -0.033146873116493225,
          -0.1447296142578125,
          -0.0640198364853859,
          -0.03325028717517853,
          -0.10308314859867096,
          -0.08705591410398483,
          -0.06392180174589157,
          -0.1253344863653183,
          -0.16928204894065857,
          -0.17293858528137207,
          -0.10222078114748001,
          -0.1485762894153595,
          -0.11359016597270966,
          -0.20169660449028015,
          -0.1159835234284401,
          -0.11203848570585251,
          -0.14472584426403046,
          -0.07806253433227539,
          -0.07159504294395447,
          -0.0818287581205368,
          -0.15079215168952942,
          -0.0712284967303276,
          -0.16901439428329468,
          -0.2019875943660736,
          -0.12533268332481384,
          -0.1663469523191452,
          -0.01386794913560152,
          -0.15529799461364746,
          -0.14902263879776,
          -0.19498667120933533,
          -0.031108897179365158,
          -0.11298040300607681,
          -0.067063108086586,
          -0.1647704541683197,
          -0.08772288262844086,
          -0.04546044021844864,
          -0.14796949923038483,
          -0.10245344042778015,
          -0.1326616406440735,
          -0.11863799393177032,
          -0.08850279450416565,
          -0.07507991045713425,
          -0.1268707513809204,
          -0.08585470914840698,
          -0.0981631875038147,
          -0.1426268219947815,
          -0.03219246864318848,
          -0.050073906779289246,
          -0.15983238816261292,
          -0.1657903790473938,
          -0.16106438636779785,
          -0.059334270656108856,
          -0.15841878950595856,
          -0.12364326417446136,
          -0.17084838449954987,
          -0.0681326687335968,
          -0.18447981774806976,
          -0.14099343121051788,
          -0.13851720094680786,
          -0.14205753803253174,
          -0.04520293325185776,
          -0.18133775889873505,
          -0.017444496974349022,
          -0.04959201440215111,
          -0.03408815339207649,
          -0.1231178343296051,
          -0.16350653767585754,
          -0.14903084933757782,
          -0.1416723132133484,
          -0.12967519462108612,
          -0.12357351183891296,
          -0.04038885980844498,
          -0.061337873339653015,
          -0.13475076854228973,
          -0.09068942815065384,
          -0.029974548146128654,
          -0.16386383771896362,
          -0.09137126058340073,
          -0.18299104273319244,
          -0.04468545317649841,
          -0.18460586667060852,
          -0.04881405457854271,
          -0.07330025732517242,
          -0.06570274382829666,
          -0.1399284303188324,
          -0.07890652120113373,
          -0.058187469840049744,
          -0.18581229448318481,
          -0.12371480464935303,
          -0.14899200201034546,
          -0.14646001160144806,
          -0.16133615374565125,
          -0.026547901332378387,
          -0.18727146089076996,
          -0.12042190134525299,
          -0.13815400004386902,
          -0.05536188185214996,
          -0.1518542468547821,
          -0.1597059667110443,
          -0.1286686509847641,
          -0.17959433794021606,
          -0.11195050925016403,
          -0.09883411228656769,
          -0.15625883638858795,
          -0.11165159940719604,
          -0.1650020182132721,
          -0.14880742132663727,
          -0.022879183292388916,
          -0.14880742132663727,
          -0.06385762244462967,
          -0.10260385274887085,
          -0.13492166996002197,
          -0.0351819209754467,
          -0.1563972681760788,
          -0.13815408945083618,
          -0.1024077981710434,
          -0.06397470086812973,
          -0.1456211358308792,
          -0.10354600846767426,
          -0.16254961490631104,
          -0.05705709382891655,
          -0.10016891360282898,
          -0.1016298234462738,
          -0.03518187627196312,
          -0.07843255996704102,
          -0.16287840902805328,
          -0.10148309171199799,
          -0.019004326313734055,
          -0.04181665927171707,
          -0.1259528547525406,
          -0.16232997179031372,
          -0.051924753934144974,
          -0.14908462762832642,
          -0.058231234550476074,
          -0.12857723236083984,
          -0.11577977240085602,
          -0.1326531171798706,
          -0.1382627636194229,
          -0.15256869792938232,
          -0.16604238748550415,
          -0.14353880286216736,
          -0.07787590473890305,
          -0.06502717733383179,
          -0.10535864531993866,
          -0.0919170156121254,
          -0.05494162067770958,
          -0.13550198078155518,
          -0.15278129279613495,
          -0.11148537695407867,
          -0.17311948537826538,
          -0.11851300299167633,
          -0.06045463681221008,
          -0.136455237865448,
          -0.17517611384391785,
          -0.0915045291185379,
          -0.10546817630529404,
          -0.12623438239097595,
          -0.14757129549980164,
          -0.13598333299160004,
          -0.1466585248708725,
          -0.16776151955127716,
          -0.07562435418367386,
          -0.033005356788635254,
          -0.08861047029495239,
          -0.18550324440002441,
          -0.016538269817829132,
          -0.0842895656824112,
          -0.024140628054738045,
          -0.07877802848815918,
          -0.16690632700920105,
          -0.17519241571426392,
          -0.0559174045920372,
          -0.11354270577430725,
          -0.10626479983329773,
          -0.1005469486117363,
          -0.09851039201021194,
          -0.06461071968078613,
          -0.08864301443099976,
          -0.06806250661611557,
          -0.05413323640823364,
          -0.10898230969905853,
          -0.13955527544021606,
          -0.05175668001174927,
          -0.08015493303537369,
          -0.07956741750240326,
          -0.048748407512903214,
          -0.16505783796310425,
          -0.13909776508808136,
          -0.05447934567928314,
          0.0003066062927246094,
          -0.1291150152683258,
          -0.19893357157707214,
          -0.15383249521255493,
          -0.13289441168308258,
          -0.04283537343144417,
          -0.19963063299655914,
          -0.05785468965768814,
          -0.10886125266551971,
          -0.1233493983745575,
          -0.06352296471595764,
          -0.09503734856843948,
          -0.04678775370121002,
          -0.05778492987155914,
          -0.09387755393981934,
          -0.1303354650735855,
          -0.10177893191576004,
          -0.1295965015888214,
          -0.09145206958055496,
          -0.08873973786830902,
          -0.1752360612154007,
          -0.0625392347574234,
          -0.12466941773891449,
          -0.1347053050994873,
          -0.15771067142486572,
          -0.08826315402984619,
          -0.14398083090782166,
          -0.11565487086772919,
          -0.06132906675338745,
          -0.1563008576631546,
          -0.0597207248210907,
          -0.08319790661334991,
          -0.1022263914346695,
          -0.1751367747783661,
          -0.17907273769378662,
          -0.13183847069740295,
          -0.08263061195611954,
          -0.1730262190103531,
          -0.08990535140037537,
          -0.13978725671768188,
          -0.026280401274561882,
          -0.10431919991970062,
          -0.16277888417243958,
          -0.023835040628910065,
          -0.05067935958504677,
          -0.13992784917354584,
          -0.16181708872318268,
          -0.029622886329889297,
          -0.16453245282173157,
          -0.019105784595012665,
          -0.1456575095653534,
          -0.1369948834180832,
          -0.13316720724105835,
          -0.11937904357910156,
          -0.054965633898973465,
          -0.10837706923484802,
          -0.16669218242168427,
          -0.08349749445915222,
          -0.14612838625907898,
          -0.1141195297241211,
          -0.10249872505664825,
          -0.08275504410266876,
          -0.10233967006206512,
          -0.12137003988027573,
          -0.1115226000547409,
          -0.06541086733341217,
          -0.08187846094369888,
          -0.0379856675863266,
          -0.042803432792425156,
          -0.08673663437366486,
          -0.1275787353515625,
          -0.13459530472755432,
          -0.09351024031639099,
          -0.09212610125541687,
          -0.13635984063148499,
          -0.07587180286645889,
          -0.09119173139333725,
          -0.12340179830789566,
          -0.16975533962249756,
          -0.09345605969429016,
          -0.08995221555233002,
          -0.06882545351982117,
          -0.030951928347349167,
          -0.15195485949516296,
          -0.14612600207328796,
          -0.14869435131549835,
          -0.0419786274433136,
          -0.03116503171622753,
          -0.09923630952835083,
          -0.053197406232357025,
          -0.07939963042736053,
          -0.022255469113588333,
          -0.13108959794044495,
          -0.14554694294929504,
          -0.06521566957235336,
          -0.15322943031787872,
          -0.06381034106016159,
          -0.13878880441188812,
          -0.06338636577129364,
          -0.09883041679859161,
          -0.13000385463237762,
          -0.15943720936775208,
          -0.04208718240261078,
          -0.047261495143175125,
          -0.11881300061941147,
          -0.12041276693344116,
          -0.052815526723861694,
          -0.10286955535411835,
          -0.1139492392539978,
          -0.12527669966220856,
          -0.09358201920986176,
          -0.1312805712223053,
          -0.12269410490989685,
          -0.18374770879745483,
          -0.13129548728466034,
          -0.10603740811347961,
          -0.1501515507698059,
          -0.12549357116222382,
          -0.04988531023263931,
          -0.05006418377161026,
          -0.14437811076641083,
          -0.06623917818069458,
          -0.026215147227048874,
          -0.07426174730062485,
          -0.10886044800281525,
          -0.11441237479448318,
          -0.12118092179298401,
          -0.04839007928967476,
          -0.12267215549945831,
          -0.12556007504463196,
          -0.0620068721473217,
          -0.12266413867473602,
          -0.062343940138816833,
          -0.08810212463140488,
          -0.1456623524427414,
          -0.16987892985343933,
          -0.07847656309604645,
          -0.17718201875686646,
          -0.17239677906036377,
          -0.0809723287820816,
          -0.1634451001882553,
          -0.07115037739276886,
          -0.1452513486146927,
          -0.13269998133182526,
          -0.14414742588996887,
          -0.1685577780008316,
          -0.09760843217372894,
          -0.10001359134912491,
          -0.11939665675163269,
          -0.08566327393054962,
          -0.13776856660842896,
          -0.12825600802898407,
          -0.09251492470502853,
          -0.049094490706920624,
          -0.1047835648059845,
          -0.08782496303319931,
          -0.1781257838010788,
          -0.023991473019123077,
          -0.10658279061317444,
          -0.16311366856098175,
          -0.1292419731616974,
          -0.09077572822570801,
          -0.04487956315279007,
          -0.05429471284151077,
          -0.19942893087863922,
          -0.11869743466377258,
          -0.04432482272386551,
          -0.0869816318154335,
          -0.029740840196609497,
          -0.05394608527421951,
          -0.11529690027236938,
          -0.1425209641456604,
          -0.055168937891721725,
          -0.1090351790189743,
          -0.16867373883724213,
          -0.08700672537088394,
          -0.0661577507853508,
          -0.04220898449420929,
          -0.08884894847869873,
          -0.15606467425823212,
          -0.1717434823513031,
          -0.04937095195055008,
          -0.19196446239948273,
          -0.17812806367874146,
          -0.12138725817203522,
          -0.05769426003098488,
          -0.1247347742319107,
          -0.1370491087436676,
          -0.0894327461719513,
          -0.14061778783798218,
          -0.07356418669223785,
          -0.0367015078663826,
          -0.09491435438394547,
          -0.09769682586193085,
          -0.042027950286865234,
          -0.08826814591884613,
          -0.03907257318496704,
          -0.09500651061534882,
          -0.0644930750131607,
          -0.0891263484954834,
          -0.09080974757671356,
          -0.09683369100093842,
          -0.1402488648891449,
          -0.14409883320331573,
          -0.09089113026857376,
          -0.14250808954238892,
          -0.14414173364639282,
          -0.13186518847942352,
          -0.07415317744016647,
          -0.07452566921710968,
          -0.014023375697433949,
          -0.1732310652732849,
          -0.1346389651298523,
          -0.13859818875789642,
          -0.04222387820482254,
          -0.15064814686775208,
          -0.10181319713592529,
          -0.16582107543945312,
          -0.07893047481775284,
          -0.027404753491282463,
          -0.10522490739822388,
          -0.07754585891962051,
          -0.04681547358632088,
          -0.08002863079309464,
          -0.08480236679315567,
          -0.11942797154188156,
          -0.08930575102567673,
          -0.11256130784749985,
          -0.1335974931716919,
          -0.025186870247125626,
          -0.12116208672523499,
          -0.07864855229854584,
          -0.1740749031305313,
          -0.10544078052043915,
          -0.05361763387918472,
          -0.11809205263853073,
          -0.10256396234035492,
          -0.09391939640045166,
          -0.1772068440914154,
          -0.09715253114700317,
          -0.1348569393157959,
          -0.02804047241806984,
          -0.07186869531869888,
          -0.044742196798324585,
          -0.0814095139503479,
          -0.13441431522369385,
          -0.049757830798625946,
          -0.09003896266222,
          -0.08083818107843399,
          -0.08107473701238632,
          -0.029152944684028625,
          -0.1714504212141037,
          -0.05094583332538605,
          -0.16720566153526306,
          -0.08401492983102798,
          -0.041073523461818695,
          -0.03220100700855255,
          -0.06761973351240158,
          -0.06408219039440155,
          -0.1140199527144432,
          -0.12428268790245056,
          -0.09940290451049805,
          -0.028949826955795288,
          -0.07496976107358932,
          -0.16596198081970215,
          -0.13193480670452118,
          -0.14119668304920197,
          -0.13184334337711334,
          -0.026604359969496727,
          -0.024674739688634872,
          -0.09246088564395905,
          -0.11194490641355515,
          -0.05763893201947212,
          -0.017869118601083755,
          -0.10450884699821472,
          -0.09181255102157593,
          -0.026074523106217384,
          -0.12386171519756317,
          -0.17484717071056366,
          -0.14720699191093445,
          -0.07489611208438873,
          -0.1890106499195099,
          -0.11787176132202148,
          -0.1110926941037178,
          -0.15643012523651123,
          -0.0924847424030304,
          -0.14947837591171265,
          -0.10949350893497467,
          -0.13496845960617065,
          -0.13598164916038513,
          -0.0335065983235836,
          -0.06886723637580872,
          -0.10326164960861206,
          -0.08989012986421585,
          -0.06411751359701157,
          -0.11494304239749908,
          -0.08342771232128143,
          -0.02914147451519966,
          -0.1400461047887802,
          -0.09215694665908813,
          -0.03088763728737831,
          -0.16041088104248047,
          -0.06945499777793884,
          -0.08011791110038757,
          -0.11101733148097992,
          -0.12334945797920227,
          -0.04222387820482254,
          -0.1622943878173828,
          -0.06535346806049347,
          -0.15342938899993896,
          -0.04193422198295593,
          -0.057249896228313446,
          -0.10243676602840424,
          -0.0541510283946991
         ],
         "yaxis": "y"
        },
        {
         "customdata": [
          [
           "flour<br>oil<br>onion<br>garlic<br>umami chicken<br>umami fish sauce<br>annatto<br>eggplant<br>bean<br>cabbage<br>peanut<br>salty butter<br>salty salt"
          ],
          [
           "pasta<br>oil<br>umami chicken<br>onion<br>garlic<br>umami chicken<br>umami fish sauce<br>umami crab<br>sweet corn<br>salty salt<br>sweet carrot<br>cabbage<br>egg<br>flour"
          ],
          [
           "umami chicken<br>salty salt<br>egg<br>flour<br>oil<br>onion<br>bell pepper<br>sweet pineapple<br>sweet pineapple<br>chili<br>umami soy sauce<br>flour"
          ],
          [
           "umami chicken<br>salty salt<br>flour<br>umami soy sauce<br>umami clam<br>alcohol<br>sweet sugar<br>oil<br>peas<br>onion<br>garlic<br>nut"
          ],
          [
           "umami soy sauce<br>umami clam<br>alcohol<br>flour<br>sweet sugar<br>oil<br>peas<br>sweet carrot<br>celery<br>egg<br>umami shrimp<br>onion<br>garlic"
          ],
          [
           "umami shrimp<br>salty butter<br>garlic<br>chili<br>salty salt"
          ],
          [
           "sweet banana<br>oil<br>onion<br>garlic<br>umami pork<br>chili<br>umami clam<br>wrapper<br>salty salt"
          ],
          [
           "flour<br>salty salt<br>egg<br>umami fish sauce<br>onion<br>onion<br>umami fish<br>oil"
          ],
          [
           "umami soy sauce<br>sweet sugar<br>alcohol<br>alcohol<br>salty salt<br>pasta<br>onion<br>ginger"
          ],
          [
           "umami pork<br>oil<br>onion<br>garlic<br>vegetable<br>umami clam<br>flour<br>salty salt"
          ],
          [
           "umami pork<br>eggplant<br>bean<br>cabbage<br>flour<br>annatto<br>peanut<br>salty butter<br>oil<br>onion<br>garlic<br>umami fish sauce<br>salty salt<br>umami shrimp"
          ],
          [
           "umami chicken<br>onion<br>nut<br>sweet carrot<br>garlic<br>umami soy sauce<br>salty salt<br>pepper<br>wrapper<br>oil"
          ],
          [
           "umami clam<br>oil<br>garlic<br>chili<br>onion<br>bell pepper<br>umami tomato<br>alcohol<br>salty salt"
          ],
          [
           "oil<br>onion<br>garlic<br>umami pork<br>umami shrimp<br>umami tomato<br>sweet squash<br>okra<br>bean<br>bitter bitter gourd<br>eggplant<br>salty salt"
          ],
          [
           "sweet pineapple<br>onion<br>cilantro<br>sour lemon<br>salty salt"
          ],
          [
           "umami shrimp<br>umami pork<br>onion<br>nut<br>sweet carrot<br>garlic<br>umami soy sauce<br>salty salt<br>wrapper<br>oil"
          ],
          [
           "umami pork<br>salty salt<br>onion<br>umami tomato<br>taro<br>bitter radish<br>bean<br>eggplant<br>okra<br>sweet banana<br>sour tamarind<br>cabbage"
          ],
          [
           "umami beef<br>onion<br>pepper<br>potato<br>bean<br>umami beef<br>cabbage<br>salty salt"
          ],
          [
           "goat<br>sour vinegar<br>salty salt<br>sweet pineapple<br>oil<br>potato<br>sweet carrot<br>bell pepper<br>bell pepper<br>onion<br>garlic<br>chili<br>umami tomato<br>sour pickle<br>salty salt"
          ],
          [
           "umami fish<br>flour<br>salty salt<br>garlic<br>oil"
          ],
          [
           "umami pork<br>bell pepper<br>bell pepper<br>onion<br>chili<br>sour lemon<br>salty salt"
          ],
          [
           "umami fish<br>salty salt<br>umami pork<br>sour lemon<br>sour vinegar"
          ],
          [
           "umami mushroom<br>umami tofu<br>oil<br>onion<br>garlic<br>umami mushroom<br>umami clam<br>umami soy sauce<br>alcohol<br>sweet sugar<br>flour"
          ],
          [
           "umami clam<br>flour<br>salty salt<br>garlic<br>oil<br>sour vinegar<br>garlic<br>pepper<br>chili<br>salty salt"
          ],
          [
           "umami soy sauce<br>oil<br>sweet sugar<br>flour<br>oil<br>bean<br>umami mushroom<br>onion<br>garlic<br>sesame"
          ],
          [
           "pasta<br>oil<br>umami soy sauce<br>umami clam<br>alcohol<br>sweet sugar<br>oil<br>onion<br>cabbage<br>celery"
          ],
          [
           "umami shrimp<br>chili<br>salty butter<br>oil<br>alcohol<br>salty salt<br>onion<br>sour lemon"
          ],
          [
           "oil<br>onion<br>garlic<br>chili<br>sweet jackfruit<br>umami fish sauce<br>sweet coconut<br>sweet coconut<br>cream<br>salty salt"
          ],
          [
           "pasta<br>oil<br>onion<br>garlic<br>umami beef<br>pasta<br>salty salt<br>umami cheese"
          ],
          [
           "oil<br>onion<br>garlic<br>umami pork<br>umami shrimp<br>sweet coconut<br>salty salt<br>chili<br>sweet coconut<br>cream<br>bean"
          ],
          [
           "umami chicken<br>flour<br>umami soy sauce<br>alcohol<br>sweet sugar<br>vegetable<br>garlic<br>chili"
          ],
          [
           "umami shrimp<br>flour<br>salty salt<br>paprika<br>garlic<br>egg<br>milk<br>sauce<br>oil"
          ],
          [
           "pasta<br>umami chicken<br>oil<br>onion<br>cabbage<br>sweet carrot<br>umami soy sauce<br>umami soy sauce<br>umami clam<br>sweet sugar"
          ],
          [
           "umami squid<br>umami tomato<br>onion<br>salty salt<br>sweet honey<br>sweet sugar<br>sour vinegar<br>garlic<br>ginger<br>salty salt<br>chili"
          ],
          [
           "umami beef<br>salty salt<br>oil<br>umami mushroom<br>salty butter<br>onion<br>garlic<br>umami beef<br>umami broth<br>cream"
          ],
          [
           "umami fish<br>sour tamarind<br>salty salt<br>sour lemon<br>onion<br>sweet carrot<br>bell pepper<br>egg<br>mayonnaise<br>sour pickle"
          ],
          [
           "umami chicken<br>salty salt<br>pepper<br>garlic<br>bay leaf<br>alcohol<br>salty butter<br>onion<br>garlic<br>bell pepper<br>bell pepper<br>umami mushroom<br>cream<br>salty salt"
          ],
          [
           "umami fish<br>umami tomato<br>oil<br>potato<br>sweet carrot<br>bell pepper<br>bell pepper<br>onion<br>garlic<br>chili<br>salty salt"
          ],
          [
           "pasta<br>umami fish<br>sour pickle<br>bell pepper<br>celery<br>onion<br>egg<br>mayonnaise<br>sour pickle<br>salty salt"
          ],
          [
           "umami tofu<br>oil<br>onion<br>garlic<br>sweet carrot<br>bean<br>salty salt"
          ],
          [
           "oil<br>umami tofu<br>onion<br>garlic<br>yam<br>sweet carrot<br>cabbage<br>bean<br>wrapper<br>salty salt"
          ],
          [
           "umami chicken<br>salty salt<br>sweet mango<br>barbecue<br>pepper<br>oil"
          ],
          [
           "oil<br>sweet banana<br>potato<br>sweet carrot<br>sausage<br>onion<br>garlic<br>umami pork<br>umami tomato<br>umami fish sauce<br>umami pork<br>bean<br>cabbage<br>salty salt<br>bean"
          ],
          [
           "oil<br>onion<br>garlic<br>umami pork<br>umami shrimp<br>sweet coconut<br>chili<br>chili<br>sweet coconut<br>cream<br>salty salt"
          ],
          [
           "oil<br>potato<br>sweet carrot<br>onion<br>garlic<br>umami tomato<br>umami tomato<br>chili<br>umami cheese<br>bell pepper<br>bell pepper<br>salty salt"
          ],
          [
           "umami fish<br>salty salt<br>mayonnaise<br>chili<br>umami cheese"
          ],
          [
           "oil<br>onion<br>bell pepper<br>umami chicken<br>bean<br>sweet corn<br>spinach<br>chili<br>salty salt<br>garlic<br>wrapper<br>umami cheese"
          ],
          [
           "umami beef<br>umami soy sauce<br>flour<br>umami clam<br>alcohol<br>sweet sugar<br>oil<br>bell pepper<br>sweet corn<br>nut<br>peas<br>onion<br>garlic"
          ],
          [
           "umami pork<br>garlic<br>ginger<br>alcohol<br>umami soy sauce<br>oil<br>sweet sugar<br>salty salt<br>flour<br>bean<br>onion"
          ],
          [
           "sour lemon<br>umami soy sauce<br>garlic<br>salty salt<br>umami chicken<br>flour<br>baking<br>oil"
          ],
          [
           "egg<br>flour<br>umami fish sauce<br>salty salt<br>annatto<br>bean<br>sweet carrot<br>onion<br>oil<br>umami shrimp"
          ],
          [
           "umami fish<br>umami tomato<br>onion<br>ginger<br>sour tamarind<br>cabbage<br>sweet coconut<br>sweet coconut<br>chili<br>salty salt"
          ],
          [
           "umami shrimp<br>salty salt<br>garlic<br>sweet mango<br>sweet avocado<br>cucumber<br>onion<br>sour lemon<br>sweet honey<br>oil<br>salty salt"
          ],
          [
           "pasta<br>umami pork<br>onion<br>garlic<br>umami mushroom<br>salty butter<br>umami chicken<br>umami broth<br>cream<br>umami cheese<br>nut<br>salty salt<br>parsley"
          ],
          [
           "umami pork<br>egg<br>salty salt<br>flour<br>oil<br>garlic<br>chili<br>onion"
          ],
          [
           "bitter bitter gourd<br>oil<br>onion<br>garlic<br>umami tomato<br>umami fish<br>salty salt"
          ],
          [
           "onion<br>garlic<br>umami shrimp<br>sweet squash<br>bean<br>eggplant<br>bitter bitter gourd<br>okra<br>gourd<br>salty salt"
          ],
          [
           "sweet pineapple<br>sour ketchup<br>sweet sugar<br>garlic<br>salty salt<br>umami chicken<br>oil"
          ],
          [
           "umami pork<br>sweet sugar<br>salty salt<br>garlic<br>oil"
          ],
          [
           "umami pork<br>umami pork<br>potato<br>sweet carrot<br>umami tomato<br>bay leaf<br>bell pepper<br>bell pepper<br>onion<br>salty salt<br>oil"
          ],
          [
           "pasta<br>cream<br>umami mushroom<br>umami mushroom<br>cream<br>oil<br>rosemary<br>parsley<br>salty butter<br>umami cheese<br>oil<br>pepper"
          ],
          [
           "umami mushroom<br>thyme<br>parsley<br>alcohol<br>salty butter<br>oil<br>onion<br>salty salt"
          ],
          [
           "umami beef<br>potato<br>sweet carrot<br>sour ketchup<br>umami soy sauce<br>sweet honey<br>onion<br>flour<br>bitter coffee<br>oil<br>salty butter<br>umami cheese<br>salty salt"
          ],
          [
           "bean<br>umami pork<br>umami shrimp<br>bean<br>eggplant<br>sweet melon<br>sweet squash<br>okra<br>umami tomato<br>ginger<br>onion<br>salty salt"
          ],
          [
           "pasta<br>umami crab<br>sweet corn<br>umami squid<br>umami crab<br>cabbage<br>sweet carrot<br>bean<br>egg<br>onion<br>umami soy sauce<br>oil<br>salty salt"
          ],
          [
           "pasta<br>umami shrimp<br>gourd<br>onion<br>onion<br>umami fish sauce<br>oil<br>umami tofu<br>egg<br>sweet carrot<br>onion<br>onion<br>flour<br>salty salt<br>pepper"
          ],
          [
           "umami pork<br>bell pepper<br>bell pepper<br>bell pepper<br>umami clam<br>umami soy sauce<br>sweet sugar<br>flour<br>onion<br>oil<br>salty salt"
          ],
          [
           "umami pork<br>umami pork<br>sour ketchup<br>umami soy sauce<br>sweet sugar<br>flour<br>onion<br>star anise<br>salty butter<br>oil"
          ],
          [
           "umami pork<br>umami pork<br>bean<br>sweet carrot<br>umami tomato<br>umami soy sauce<br>onion<br>salty butter<br>sweet sugar<br>oil<br>salty salt"
          ],
          [
           "umami beef<br>pasta<br>pasta<br>onion<br>oil<br>parsley<br>umami cheese<br>salty salt"
          ],
          [
           "sausage<br>pasta<br>umami tomato<br>onion<br>pepper<br>umami tomato<br>umami cheese<br>oil<br>salty salt"
          ],
          [
           "umami pork<br>umami mushroom<br>umami pork<br>umami cheese<br>onion<br>salty butter<br>oil<br>salty salt"
          ],
          [
           "umami beef<br>bread<br>cabbage<br>umami soy sauce<br>sour ketchup<br>sweet sugar<br>salty butter<br>oil<br>mayonnaise"
          ],
          [
           "umami pork<br>umami tomato<br>potato<br>sweet carrot<br>bell pepper<br>sweet pea<br>onion<br>umami cheese<br>oil<br>salty salt"
          ],
          [
           "pasta<br>umami pork<br>pasta<br>umami pork<br>bell pepper<br>bell pepper<br>onion<br>umami cheese<br>oil<br>salty salt"
          ],
          [
           "pasta<br>umami cheese<br>parsley<br>salty salt<br>umami beef<br>umami beef<br>umami tomato<br>onion<br>salty salt<br>umami cheese<br>umami cheese<br>umami cheese<br>egg<br>basil"
          ],
          [
           "umami pork<br>umami pork<br>wrapper<br>onion<br>sour vinegar<br>salty salt<br>garlic<br>pepper<br>onion"
          ],
          [
           "umami chicken<br>umami chicken<br>cream<br>sweet carrot<br>bean<br>umami mushroom<br>onion<br>garlic<br>salty salt<br>pepper<br>salty butter<br>oil"
          ],
          [
           "pasta<br>cream<br>sour lemon<br>umami tomato<br>umami cheese<br>salty butter<br>parsley<br>oil<br>salty salt"
          ],
          [
           "umami pork<br>umami pork<br>sausage<br>sweet carrot<br>potato<br>umami tomato<br>sweet pea<br>umami tomato<br>bay leaf<br>onion<br>oil<br>salty salt"
          ],
          [
           "umami fish<br>mayonnaise<br>sour lemon<br>umami cheese<br>garlic<br>salty salt<br>bell pepper<br>bell pepper<br>onion<br>salty butter<br>mayonnaise<br>onion<br>pepper"
          ],
          [
           "umami pork<br>sweet pineapple<br>umami soy sauce<br>sour lemon<br>sour ketchup<br>umami squid<br>sweet sugar<br>baking soda<br>sour lemon<br>umami tomato<br>onion<br>pepper"
          ],
          [
           "umami beef<br>peanut<br>nut<br>cabbage<br>eggplant<br>bean<br>onion<br>umami beef<br>umami broth<br>annatto<br>salty salt"
          ],
          [
           "umami pork<br>umami pork<br>sweet raisin<br>potato<br>sweet carrot<br>sweet pea<br>onion<br>umami tomato<br>umami tomato<br>oil<br>egg<br>umami fish sauce"
          ],
          [
           "bean<br>sweet squash<br>sweet coconut<br>onion<br>umami fish sauce<br>malunggay<br>salty salt<br>oil<br>salty salt"
          ],
          [
           "egg<br>pasta<br>onion<br>cabbage<br>sweet carrot<br>onion<br>ginger<br>oil<br>umami clam<br>oil<br>sweet sugar<br>umami soy sauce<br>alcohol<br>flour<br>pepper"
          ],
          [
           "umami beef<br>peas<br>umami tomato<br>sausage<br>umami pork<br>bell pepper<br>onion<br>oil<br>salty salt<br>pepper<br>sweet carrot<br>pepper"
          ],
          [
           "umami beef<br>pasta<br>onion<br>umami mushroom<br>salty butter<br>umami cheese<br>paprika<br>cream"
          ],
          [
           "umami beef<br>umami beef<br>pasta<br>onion<br>ginger<br>flour<br>sweet sugar<br>star anise<br>egg<br>umami soy sauce<br>oil<br>salty salt"
          ],
          [
           "pasta<br>umami cheese<br>umami cheese<br>parsley<br>umami beef<br>umami beef<br>umami tomato<br>umami tomato<br>onion<br>salty salt"
          ],
          [
           "sweet squash<br>sweet carrot<br>onion<br>malunggay<br>oil<br>flour<br>salty salt<br>pepper<br>garlic<br>egg<br>onion<br>onion<br>sour vinegar<br>umami fish sauce<br>pepper"
          ],
          [
           "umami chicken<br>sour lemon<br>salty butter<br>rosemary<br>salty salt<br>pepper"
          ],
          [
           "umami pork<br>gourd<br>pasta<br>onion<br>umami fish sauce<br>egg<br>umami beef<br>flour<br>salty salt<br>pepper<br>oil"
          ],
          [
           "umami shrimp<br>umami broth<br>cream<br>bread<br>umami chicken<br>umami pork<br>umami cheese<br>mayonnaise<br>lettuce<br>umami tomato"
          ],
          [
           "umami fish<br>sour lemon<br>umami tomato<br>onion<br>pepper<br>umami pork<br>salty salt"
          ],
          [
           "umami pork<br>umami pork<br>umami tomato<br>bell pepper<br>bell pepper<br>potato<br>sweet carrot<br>onion<br>oil<br>salty salt"
          ],
          [
           "umami beef<br>cabbage<br>cabbage<br>sweet banana<br>potato<br>onion<br>celery<br>star anise<br>umami beef<br>umami broth<br>salty salt"
          ],
          [
           "umami shrimp<br>ginger<br>lemongrass<br>eggplant<br>bean<br>okra<br>spinach<br>salty salt"
          ],
          [
           "umami chicken<br>pasta<br>mayonnaise<br>sweet pineapple<br>umami cheese<br>sweet carrot<br>bell pepper<br>sweet raisin<br>relish<br>garlic<br>salty salt<br>pepper"
          ],
          [
           "umami chicken<br>sour tamarind<br>ginger<br>lemongrass<br>sour lemon<br>soda<br>salty salt<br>pepper<br>salty butter<br>annatto"
          ],
          [
           "eggplant<br>sweet coconut<br>umami tofu<br>malunggay<br>onion<br>oil<br>pepper<br>salty salt"
          ],
          [
           "umami pork<br>sweet coconut<br>sweet coconut<br>cream<br>umami shrimp<br>chili<br>ginger<br>onion<br>chili"
          ],
          [
           "umami fish<br>spinach<br>umami tomato<br>umami cheese<br>cream<br>onion<br>salty butter<br>oil<br>parsley<br>salty salt"
          ],
          [
           "eggplant<br>umami fish<br>umami tomato<br>egg<br>umami tomato<br>onion<br>onion<br>sour lemon<br>oil<br>salty salt"
          ],
          [
           "sweet banana<br>sweet coconut<br>umami pork<br>chili<br>onion<br>pepper<br>oil"
          ],
          [
           "rice<br>umami clam<br>umami squid<br>umami crab<br>sour lemon<br>onion<br>salty butter<br>oil<br>salty salt"
          ],
          [
           "umami pork<br>umami pork<br>potato<br>sweet carrot<br>bell pepper<br>sweet pea<br>umami tomato<br>onion<br>chili<br>oil<br>salty salt"
          ],
          [
           "umami beef<br>sweet corn<br>sweet pea<br>bell pepper<br>umami soy sauce<br>umami clam<br>flour<br>pepper<br>salty salt<br>alcohol<br>oil"
          ],
          [
           "umami fish<br>cabbage<br>onion<br>umami tomato<br>ginger<br>chili<br>sweet coconut<br>salty salt"
          ],
          [
           "umami beef<br>umami tomato<br>umami tomato<br>umami beef<br>umami broth<br>sweet coconut<br>peanut<br>salty butter<br>onion<br>potato<br>bell pepper<br>bell pepper<br>chili<br>oil<br>salty salt"
          ],
          [
           "pasta<br>umami shrimp<br>umami pork<br>umami fish<br>annatto<br>flour<br>onion<br>egg<br>onion<br>oil<br>umami fish sauce"
          ],
          [
           "umami chicken<br>umami chicken<br>spinach<br>onion<br>oil<br>salty salt"
          ],
          [
           "umami chicken<br>umami chicken<br>pasta<br>cream<br>umami cheese<br>salty butter<br>parsley<br>salty salt<br>oil"
          ],
          [
           "umami pork<br>umami pork<br>umami pork<br>bean<br>potato<br>sweet banana<br>cabbage<br>cabbage<br>bean<br>sausage<br>umami tomato<br>onion<br>umami fish sauce<br>oil"
          ],
          [
           "umami chicken<br>umami chicken<br>egg<br>bell pepper<br>sweet pea<br>umami clam<br>sweet sugar<br>flour<br>umami soy sauce<br>sour vinegar<br>onion<br>salty salt<br>oil"
          ],
          [
           "pasta<br>egg<br>celery<br>bell pepper<br>sweet pea<br>umami cheese<br>onion<br>parsley<br>mayonnaise<br>mustard<br>relish<br>salty salt"
          ],
          [
           "umami beef<br>alcohol<br>umami beef<br>umami broth<br>umami pork<br>onion<br>umami tomato<br>sweet carrot<br>thyme<br>onion<br>salty salt"
          ],
          [
           "bean<br>sweet carrot<br>umami tomato<br>onion<br>bell pepper<br>bell pepper<br>umami clam<br>pepper<br>oil"
          ],
          [
           "umami mushroom<br>salty butter<br>umami beef<br>onion<br>garlic<br>cream<br>mayonnaise<br>salty salt"
          ],
          [
           "umami fish<br>umami tomato<br>spinach<br>cream<br>alcohol<br>umami cheese<br>onion<br>oil<br>salty butter<br>salty salt"
          ],
          [
           "pasta<br>bell pepper<br>bell pepper<br>celery<br>oil<br>mayonnaise<br>onion<br>pepper<br>salty salt<br>sour lemon"
          ],
          [
           "gourd<br>umami pork<br>sweet carrot<br>umami pork<br>onion<br>pepper"
          ],
          [
           "pepper<br>umami cheese<br>wrapper<br>oil<br>umami pork<br>onion<br>egg<br>oil<br>salty salt"
          ],
          [
           "umami fish<br>umami tomato<br>onion<br>sour lemon<br>ginger<br>salty salt<br>pepper"
          ],
          [
           "eggplant<br>umami tomato<br>onion<br>sour vinegar<br>salty salt<br>pepper<br>umami shrimp"
          ],
          [
           "umami pork<br>sour vinegar<br>pepper<br>sweet sugar<br>onion<br>oil<br>umami pork<br>umami pork<br>salty salt"
          ],
          [
           "umami pork<br>wrapper<br>cabbage<br>onion<br>alcohol<br>ginger<br>oil<br>salty salt<br>pepper"
          ],
          [
           "umami chicken<br>sweet squash<br>sweet coconut<br>malunggay<br>onion<br>oil"
          ],
          [
           "wrapper<br>oil<br>umami pork<br>onion<br>sweet carrot<br>garlic<br>pepper<br>parsley<br>salty salt<br>oil<br>egg"
          ],
          [
           "umami pork<br>sweet sugar<br>paprika<br>oil<br>salty salt<br>pepper"
          ],
          [
           "sweet squash<br>bean<br>umami pork<br>sweet coconut<br>onion<br>oil"
          ],
          [
           "pasta<br>umami pork<br>umami pork<br>sausage<br>umami cheese<br>umami tomato<br>umami tomato<br>onion<br>garlic<br>sweet sugar<br>oil<br>salty salt"
          ],
          [
           "umami pork<br>umami pork<br>wrapper<br>sweet carrot<br>onion<br>egg<br>parsley<br>pepper<br>salty salt<br>oil<br>garlic<br>oil"
          ],
          [
           "umami chicken<br>peanut<br>salty butter<br>cabbage<br>eggplant<br>bean<br>onion<br>annatto<br>umami fish sauce<br>umami chicken<br>umami broth<br>flour<br>oil"
          ],
          [
           "spinach<br>umami squid<br>umami clam<br>umami chicken<br>umami broth<br>flour<br>onion<br>oil<br>salty salt"
          ],
          [
           "umami pork<br>umami pork<br>peanut<br>salty butter<br>cabbage<br>bean<br>eggplant<br>onion<br>oil<br>flour<br>pepper<br>salty salt<br>umami fish sauce"
          ],
          [
           "umami chicken<br>cabbage<br>pasta<br>umami pork<br>sweet carrot<br>celery<br>onion<br>salty butter<br>umami chicken<br>umami broth<br>milk<br>salty salt"
          ],
          [
           "umami chicken<br>flour<br>chili<br>salty salt<br>oil<br>sauce<br>salty butter<br>garlic"
          ],
          [
           "egg<br>umami fish<br>spinach<br>onion<br>oil<br>salty salt"
          ],
          [
           "malunggay<br>spinach<br>umami fish<br>eggplant<br>okra<br>gourd<br>sweet papaya<br>sweet squash<br>umami tomato<br>onion<br>salty salt"
          ],
          [
           "pasta<br>umami pork<br>mayonnaise<br>onion<br>umami cheese<br>sour pickle<br>salty salt<br>salty salt"
          ],
          [
           "umami pork<br>bell pepper<br>bell pepper<br>umami tomato<br>umami tomato<br>potato<br>sweet carrot<br>onion<br>oil<br>salty salt"
          ],
          [
           "umami fish<br>bitter bitter gourd<br>sour vinegar<br>sweet coconut<br>cream<br>chili<br>onion<br>chili<br>salty salt<br>pepper"
          ],
          [
           "umami shrimp<br>sweet squash<br>bean<br>sweet coconut<br>sweet coconut<br>cream<br>chili<br>onion<br>umami fish sauce<br>pepper"
          ],
          [
           "pasta<br>umami pork<br>gourd<br>onion<br>onion<br>pepper<br>umami fish sauce<br>oil<br>umami pork<br>egg<br>onion<br>flour<br>salty salt<br>pepper"
          ],
          [
           "umami chicken<br>garlic<br>pepper<br>salty salt<br>paprika<br>egg<br>flour<br>oil"
          ],
          [
           "bitter bitter gourd<br>umami tomato<br>onion<br>egg<br>umami shrimp<br>garlic<br>salty salt<br>pepper<br>oil"
          ],
          [
           "umami pork<br>bean<br>onion<br>umami tomato<br>sweet sugar<br>sour vinegar<br>mustard<br>salty salt<br>oil"
          ],
          [
           "bread<br>umami fish<br>umami tomato<br>umami cheese<br>umami tomato<br>parsley<br>pepper"
          ],
          [
           "umami clam<br>umami pork<br>garlic<br>salty salt<br>salty butter<br>parsley"
          ],
          [
           "pasta<br>umami fish<br>umami tomato<br>oil<br>pepper<br>parsley<br>salty salt"
          ],
          [
           "umami fish<br>sour lemon<br>salty butter<br>dill<br>garlic<br>salty salt"
          ],
          [
           "umami beef<br>umami tomato<br>alcohol<br>umami beef<br>umami broth<br>onion<br>potato<br>thyme<br>salty butter<br>oil<br>salty salt"
          ],
          [
           "umami fish<br>salty salt<br>flour<br>oil<br>umami tomato<br>onion<br>bell pepper<br>egg<br>vegetable<br>umami broth<br>salty salt<br>oil"
          ],
          [
           "umami pork<br>umami pork<br>bell pepper<br>bell pepper<br>alcohol<br>umami tomato<br>potato<br>sweet carrot<br>onion<br>garlic<br>umami cheese<br>oil<br>salty salt"
          ],
          [
           "umami shrimp<br>peas<br>sweet corn<br>bell pepper<br>bell pepper<br>cabbage<br>cauliflower<br>broccoli<br>onion<br>umami chicken<br>umami broth<br>flour<br>oil<br>salty salt"
          ],
          [
           "cabbage<br>umami shrimp<br>bell pepper<br>bell pepper<br>egg<br>cauliflower<br>umami chicken<br>umami chicken<br>umami pork<br>sweet carrot<br>onion<br>flour<br>umami clam<br>oil<br>salty salt"
          ],
          [
           "pasta<br>umami beef<br>umami pork<br>umami mushroom<br>umami cheese<br>cream<br>parsley<br>salty salt"
          ],
          [
           "umami fish<br>wrapper<br>celery<br>onion<br>sweet carrot<br>parsley<br>turnip<br>salty salt<br>pepper<br>egg<br>oil"
          ],
          [
           "umami chicken<br>salty salt<br>oil<br>barbecue<br>umami cheese<br>flour<br>lettuce<br>cabbage<br>cabbage<br>sweet carrot"
          ],
          [
           "umami chicken<br>sweet honey<br>sour vinegar<br>garlic<br>chili<br>cumin<br>paprika<br>pepper<br>salty salt<br>sweet squash<br>sweet squash<br>sweet carrot<br>broccoli<br>cauliflower"
          ],
          [
           "goat<br>chili<br>sweet pea<br>bell pepper<br>bell pepper<br>peanut<br>salty butter<br>umami tomato<br>umami tomato<br>onion<br>umami beef<br>umami broth<br>oil<br>salty salt"
          ],
          [
           "sweet mango<br>umami tomato<br>sour lemon<br>umami shrimp"
          ],
          [
           "eggplant<br>egg<br>umami pork<br>umami tomato<br>onion<br>garlic<br>oil<br>salty salt<br>pepper"
          ],
          [
           "umami chicken<br>sweet coconut<br>sweet pea<br>potato<br>garlic<br>ginger<br>onion<br>ginger<br>salty salt<br>oil"
          ],
          [
           "umami tofu<br>bell pepper<br>bell pepper<br>onion<br>salty butter<br>oil<br>mayonnaise<br>onion"
          ],
          [
           "umami squid<br>umami tomato<br>onion<br>sweet sugar<br>alcohol<br>umami soy sauce<br>annatto<br>onion<br>sour lemon<br>salty salt<br>pepper"
          ],
          [
           "umami fish<br>salty butter<br>garlic<br>salty salt<br>sour lemon"
          ],
          [
           "umami squid<br>bean<br>sweet squash<br>okra<br>eggplant<br>sweet melon<br>ginger<br>sweet coconut<br>onion<br>umami shrimp<br>pepper<br>oil"
          ],
          [
           "umami beef<br>bell pepper<br>onion<br>umami clam<br>flour<br>pepper<br>oil"
          ],
          [
           "pasta<br>umami chicken<br>celery<br>sweet carrot<br>onion<br>umami chicken<br>oil<br>salty salt"
          ],
          [
           "umami pork<br>malunggay<br>sweet papaya<br>sweet coconut<br>cream<br>onion<br>pepper<br>umami pork<br>umami fish sauce<br>oil"
          ],
          [
           "umami beef<br>umami broth<br>cream<br>cream<br>umami mushroom<br>umami mushroom<br>onion<br>salty salt<br>oil"
          ],
          [
           "umami clam<br>salty butter<br>oil<br>alcohol<br>parsley<br>onion<br>sour lemon<br>umami clam<br>salty salt"
          ],
          [
           "umami fish<br>umami tomato<br>onion<br>sour tamarind<br>pepper<br>salty salt"
          ],
          [
           "umami beef<br>sweet carrot<br>potato<br>bell pepper<br>bell pepper<br>umami beef<br>onion<br>pepper<br>salty salt<br>oil"
          ],
          [
           "umami beef<br>pasta<br>onion<br>garlic<br>egg<br>umami beef<br>umami fish sauce<br>salty salt"
          ],
          [
           "bread<br>umami pork<br>umami cheese<br>basil<br>umami tomato<br>salty butter"
          ],
          [
           "umami chicken<br>bell pepper<br>bell pepper<br>potato<br>sweet carrot<br>umami tomato<br>umami chicken<br>bay leaf<br>onion<br>oil<br>salty salt"
          ],
          [
           "sweet squash<br>bean<br>umami pork<br>sweet coconut<br>onion<br>oil<br>pepper"
          ],
          [
           "umami beef<br>bread<br>umami cheese<br>umami pork<br>umami beef<br>cabbage<br>mayonnaise<br>oil"
          ],
          [
           "umami clam<br>lemongrass<br>malunggay<br>onion<br>salty salt"
          ],
          [
           "salty salt<br>umami fish<br>oil<br>garlic<br>rice<br>egg"
          ],
          [
           "umami pork<br>cauliflower<br>sweet carrot<br>bell pepper<br>bell pepper<br>cabbage<br>egg<br>onion<br>umami shrimp<br>umami clam<br>flour<br>oil<br>salty salt"
          ],
          [
           "umami fish<br>ginger<br>chili<br>sour lemon<br>onion<br>pepper<br>sweet sugar<br>salty salt"
          ],
          [
           "umami crab<br>umami clam<br>umami squid<br>bean<br>sweet banana<br>sweet coconut<br>cream<br>peanut<br>salty butter<br>annatto<br>umami fish sauce<br>umami shrimp<br>oil"
          ],
          [
           "umami fish<br>pepper<br>sour vinegar<br>salty salt"
          ],
          [
           "gourd<br>okra<br>umami tomato<br>bean<br>eggplant<br>vegetable<br>umami broth<br>onion<br>sweet squash<br>salty salt<br>oil"
          ],
          [
           "eggplant<br>okra<br>ginger<br>umami tomato<br>onion<br>spinach<br>malunggay<br>pepper<br>umami fish<br>bean<br>salty salt"
          ],
          [
           "umami crab<br>sour lemon<br>sweet apple<br>garlic"
          ],
          [
           "umami fish<br>salty butter<br>thyme<br>garlic<br>salty salt<br>pepper<br>oil<br>sour lemon"
          ],
          [
           "rice<br>salty butter<br>garlic<br>egg<br>sausage<br>sweet pea<br>onion<br>umami soy sauce"
          ],
          [
           "umami shrimp<br>cilantro<br>alcohol<br>salty butter<br>salty salt<br>garlic"
          ],
          [
           "umami pork<br>chili<br>sour vinegar<br>sweet sugar<br>onion<br>pepper<br>salty salt<br>onion<br>umami chicken<br>salty butter"
          ],
          [
           "potato<br>oil<br>bread<br>oregano<br>garlic<br>onion<br>paprika<br>salty salt"
          ],
          [
           "umami pork<br>egg<br>salty salt<br>onion<br>pepper<br>oil"
          ],
          [
           "umami chicken<br>salty salt<br>pepper<br>garlic<br>onion<br>flour<br>oil"
          ],
          [
           "umami clam<br>alcohol<br>garlic<br>salty butter<br>salty salt<br>parsley<br>sour lemon"
          ],
          [
           "umami pork<br>umami tomato<br>bell pepper<br>bell pepper<br>sweet carrot<br>umami pork<br>oil<br>onion<br>pepper<br>salty salt"
          ],
          [
           "milk<br>sweet coconut<br>umami fish<br>chili<br>cabbage<br>ginger<br>garlic<br>umami shrimp"
          ],
          [
           "umami pork<br>egg<br>salty salt<br>pepper<br>oil"
          ],
          [
           "egg<br>pasta<br>umami beef<br>ginger<br>broccoli<br>umami soy sauce<br>umami clam<br>garlic<br>flour<br>sweet sugar<br>alcohol<br>salty salt<br>oil"
          ],
          [
           "pasta<br>sweet carrot<br>cabbage<br>sausage<br>umami pork<br>onion<br>onion<br>garlic<br>umami chicken<br>umami broth<br>flour<br>oil<br>egg<br>salty salt"
          ],
          [
           "umami pork<br>umami chicken<br>onion<br>garlic<br>salty butter<br>mayonnaise<br>salty salt<br>onion<br>egg"
          ],
          [
           "umami crab<br>malunggay<br>sweet squash<br>sweet coconut<br>cream<br>sweet coconut<br>ginger<br>onion<br>umami shrimp<br>umami fish sauce<br>pepper"
          ],
          [
           "umami beef<br>sweet carrot<br>egg<br>sour pickle<br>sausage<br>flour<br>oil<br>umami beef<br>umami broth<br>umami soy sauce<br>salty salt"
          ],
          [
           "umami pork<br>umami tomato<br>potato<br>bell pepper<br>sweet carrot<br>umami beef<br>sweet sugar<br>pepper<br>garlic<br>onion<br>bay leaf<br>salty salt"
          ],
          [
           "umami pork<br>egg<br>bread<br>gourd<br>pasta<br>umami tomato<br>wrapper<br>onion<br>onion<br>salty salt<br>umami fish sauce<br>pepper<br>umami beef<br>oil"
          ],
          [
           "taro<br>sweet coconut<br>sweet coconut<br>cream<br>umami shrimp<br>umami pork<br>chili<br>onion<br>ginger"
          ],
          [
           "umami shrimp<br>salty salt<br>pepper<br>garlic"
          ],
          [
           "umami beef<br>umami clam<br>umami soy sauce<br>peas<br>onion<br>flour<br>oil<br>salty salt"
          ],
          [
           "sweet squash<br>umami chicken<br>umami broth<br>bitter bitter gourd<br>onion<br>garlic<br>salty salt"
          ],
          [
           "umami chicken<br>pepper<br>umami fish sauce<br>flour<br>flour<br>oil"
          ],
          [
           "umami tofu<br>umami mushroom<br>bean<br>umami chicken<br>umami clam<br>alcohol<br>onion<br>ginger<br>flour<br>oil"
          ],
          [
           "garlic<br>salty butter<br>oil<br>oregano<br>pasta<br>umami cheese<br>pepper"
          ],
          [
           "umami pork<br>onion<br>sweet sugar<br>sweet sugar<br>sour vinegar<br>salty salt<br>pepper<br>garlic<br>umami tomato<br>sauce"
          ],
          [
           "umami fish<br>salty salt<br>pepper<br>oil"
          ],
          [
           "umami chicken<br>umami chicken<br>umami mushroom<br>vegetable<br>rice<br>onion<br>salty salt<br>umami cheese"
          ],
          [
           "salty salt<br>umami fish<br>rice<br>umami tomato<br>oil<br>sour vinegar"
          ],
          [
           "flour<br>chili<br>garlic<br>onion<br>umami tomato<br>sweet sugar<br>sour vinegar<br>umami chicken<br>cumin<br>umami cheese<br>bean<br>cream"
          ],
          [
           "umami chicken<br>umami soy sauce<br>sweet sugar<br>garlic<br>sweet sugar<br>alcohol<br>rice<br>egg<br>sesame"
          ],
          [
           "pasta<br>cabbage<br>sweet carrot<br>sweet pea<br>umami chicken<br>umami broth<br>umami pork<br>oil<br>salty salt"
          ],
          [
           "pasta<br>umami fish<br>umami tomato<br>gourd<br>onion<br>garlic<br>onion<br>salty salt<br>oil"
          ],
          [
           "umami fish<br>flour<br>alcohol<br>sour vinegar<br>bell pepper<br>bell pepper<br>sweet carrot<br>onion<br>umami soy sauce<br>sour ketchup<br>sweet sugar<br>flour<br>oil<br>salty salt"
          ],
          [
           "umami pork<br>potato<br>bell pepper<br>bell pepper<br>sweet pea<br>umami pork<br>umami tomato<br>umami tomato<br>onion<br>oil<br>salty salt"
          ],
          [
           "umami clam<br>spinach<br>onion<br>ginger<br>salty salt"
          ],
          [
           "umami pork<br>sausage<br>onion<br>umami tomato<br>cabbage<br>salty salt"
          ],
          [
           "bread<br>umami beef<br>umami tomato<br>lettuce<br>cucumber<br>mayonnaise<br>rosemary<br>salty salt"
          ],
          [
           "egg<br>onion<br>bell pepper<br>onion<br>umami tomato<br>oil<br>umami cheese<br>salty salt"
          ],
          [
           "umami chicken<br>bitter bitter gourd<br>onion<br>umami clam<br>salty salt<br>oil"
          ],
          [
           "umami chicken<br>potato<br>sweet pea<br>sweet coconut<br>ginger<br>umami tomato<br>onion<br>chili<br>oil<br>salty salt"
          ],
          [
           "onion<br>sour ketchup<br>garlic<br>salty salt<br>oil"
          ],
          [
           "umami chicken<br>umami shrimp<br>oil<br>oil<br>umami mushroom<br>umami chicken<br>onion<br>sweet carrot<br>pepper<br>garlic<br>salty salt<br>egg<br>wrapper"
          ],
          [
           "umami pork<br>lettuce<br>umami tomato<br>sweet avocado<br>mustard<br>mayonnaise<br>bread"
          ],
          [
           "umami pork<br>bread<br>flour<br>egg<br>salty salt<br>pepper<br>umami tomato<br>oregano<br>basil<br>umami cheese<br>oil"
          ],
          [
           "pasta<br>umami tomato<br>umami tomato<br>umami pork<br>sweet sugar<br>onion<br>umami beef<br>umami broth<br>oil<br>salty salt"
          ],
          [
           "umami beef<br>broccoli<br>umami clam<br>umami soy sauce<br>umami beef<br>garlic<br>flour<br>oil<br>sweet sugar<br>salty salt"
          ],
          [
           "umami chicken<br>sweet avocado<br>chili<br>paprika<br>garlic<br>salty salt<br>pepper<br>flour"
          ],
          [
           "umami soy sauce<br>alcohol<br>sweet sugar<br>sweet sugar<br>garlic<br>ginger"
          ],
          [
           "pasta<br>celery<br>onion<br>cabbage<br>sweet carrot<br>parsley<br>annatto<br>garlic<br>vegetable<br>umami broth<br>oil<br>salty salt"
          ],
          [
           "umami chicken<br>flour<br>umami cheese<br>parsley<br>sour lemon<br>umami chicken<br>umami broth<br>oil<br>salty butter<br>pepper"
          ],
          [
           "pasta<br>umami chicken<br>basil<br>umami tomato<br>umami cheese<br>salty salt<br>pepper"
          ],
          [
           "umami pork<br>parsley<br>bean<br>umami clam<br>onion<br>garlic<br>flour<br>pepper<br>oil"
          ],
          [
           "umami chicken<br>broccoli<br>onion<br>ginger<br>garlic<br>flour<br>egg<br>umami clam<br>umami soy sauce<br>flour<br>oil<br>salty salt"
          ],
          [
           "umami beef<br>sausage<br>sausage<br>bread<br>umami tomato<br>sour pickle<br>sour pickle<br>onion<br>chili<br>mustard"
          ],
          [
           "umami chicken<br>umami mushroom<br>salty butter<br>oil<br>cream<br>umami mushroom<br>cream<br>umami chicken<br>umami broth<br>rosemary<br>cream<br>umami cheese<br>salty salt"
          ],
          [
           "spinach<br>sweet berry<br>sweet orange<br>nut<br>oil<br>sour vinegar<br>garlic<br>mustard<br>salty salt"
          ],
          [
           "umami pork<br>umami clam<br>umami soy sauce<br>sweet squash<br>flour<br>umami beef<br>umami broth<br>salty salt<br>oil"
          ],
          [
           "pasta<br>umami shrimp<br>umami clam<br>bay leaf<br>parsley<br>onion<br>garlic<br>salty butter<br>oil<br>alcohol<br>flour<br>milk<br>umami cheese"
          ],
          [
           "sweet corn<br>potato<br>umami pork<br>onion<br>umami cheese<br>salty salt<br>pepper<br>oil"
          ],
          [
           "sour ketchup<br>umami soy sauce<br>ginger<br>garlic<br>sweet sugar<br>salty salt<br>alcohol"
          ],
          [
           "umami beef<br>oil<br>salty salt<br>pepper"
          ],
          [
           "umami crab<br>salty butter<br>parsley<br>sour lemon<br>salty salt<br>pepper"
          ],
          [
           "umami beef<br>flour<br>cilantro<br>sour lemon<br>rice<br>cream<br>bell pepper<br>umami cheese<br>sour lemon"
          ],
          [
           "umami fish<br>flour<br>ice<br>onion<br>onion<br>onion<br>cabbage<br>vegetable<br>umami broth<br>salty salt<br>pepper<br>umami fish sauce"
          ],
          [
           "umami pork<br>salty salt<br>sweet sugar<br>ice<br>garlic<br>pepper<br>oil"
          ],
          [
           "umami tomato<br>nut<br>sour vinegar<br>oil<br>salty salt"
          ],
          [
           "oil<br>garlic<br>cumin<br>cilantro<br>sour lemon<br>sweet sugar<br>salty salt<br>pepper"
          ],
          [
           "umami chicken<br>salty butter<br>thyme<br>salty salt<br>celery<br>rosemary<br>pepper"
          ],
          [
           "umami chicken<br>sweet pineapple<br>sour lemon<br>soda<br>umami soy sauce<br>salty salt<br>pepper<br>egg<br>flour<br>garlic<br>oil<br>salty salt"
          ],
          [
           "pasta<br>umami pork<br>umami beef<br>umami tomato<br>onion<br>oil<br>umami cheese<br>salty salt"
          ],
          [
           "sweet avocado<br>sour lemon<br>salty salt<br>onion<br>cilantro<br>umami tomato"
          ],
          [
           "umami pork<br>sweet apple<br>sweet apple<br>onion<br>sweet sugar<br>salty butter<br>thyme<br>rosemary<br>oregano<br>oil<br>salty salt<br>pepper"
          ],
          [
           "potato<br>onion<br>oil<br>parsley<br>umami cheese"
          ],
          [
           "umami chicken<br>sour lemon<br>umami soy sauce<br>sweet sugar<br>salty salt<br>pepper<br>flour<br>oil"
          ],
          [
           "rice<br>umami pork<br>egg<br>sweet pea<br>salty salt<br>garlic<br>umami soy sauce"
          ],
          [
           "umami beef<br>umami pork<br>sweet raisin<br>sweet pea<br>onion<br>garlic<br>umami tomato<br>umami tomato<br>umami soy sauce<br>umami soy sauce<br>sweet banana<br>egg<br>rice<br>salty salt"
          ],
          [
           "umami chicken<br>salty butter<br>rosemary<br>thyme<br>sour lemon<br>alcohol<br>salty salt"
          ],
          [
           "umami chicken<br>egg<br>flour<br>salty salt<br>pepper<br>garlic<br>chili<br>oil"
          ],
          [
           "umami tofu<br>bell pepper<br>bell pepper<br>onion<br>sweet carrot<br>sweet pineapple<br>sweet sugar<br>sour ketchup<br>sour vinegar<br>umami soy sauce<br>flour<br>oil"
          ],
          [
           "umami chicken<br>salty salt<br>garlic<br>pepper<br>paprika<br>sweet corn<br>salty butter"
          ],
          [
           "broccoli<br>cauliflower<br>sweet carrot<br>rice<br>umami soy sauce<br>garlic<br>onion<br>salty salt<br>salty butter"
          ],
          [
           "umami beef<br>umami cheese<br>mayonnaise<br>onion<br>sour pickle<br>salty salt"
          ],
          [
           "umami pork<br>umami fish<br>sweet coconut<br>sweet coconut<br>cream<br>chili<br>onion<br>ginger<br>chili<br>salty salt"
          ],
          [
           "umami pork<br>ginger<br>sweet carrot<br>onion<br>oil<br>garlic<br>salty salt<br>pepper<br>oil<br>oil<br>wrapper"
          ],
          [
           "umami crab<br>potato<br>sweet carrot<br>bread<br>onion<br>chili<br>umami tomato<br>parsley<br>garlic<br>salty salt<br>pepper<br>oil<br>egg<br>oil"
          ],
          [
           "sweet papaya<br>sweet squash<br>lemongrass<br>umami tomato<br>okra<br>malunggay<br>ginger<br>salty salt<br>rice"
          ],
          [
           "umami clam<br>onion<br>celery<br>salty butter<br>umami pork<br>thyme<br>potato<br>umami clam<br>salty salt"
          ],
          [
           "umami shrimp<br>pasta<br>alcohol<br>umami clam<br>oil<br>sour lemon<br>parsley<br>salty butter<br>salty salt"
          ],
          [
           "umami fish<br>salty salt<br>pepper<br>garlic<br>sour lemon<br>wrapper<br>umami tomato<br>sour vinegar<br>umami cheese"
          ],
          [
           "umami pork<br>alcohol<br>oil<br>umami soy sauce<br>umami soy sauce<br>sweet honey<br>sweet sugar<br>umami clam"
          ],
          [
           "umami pork<br>spice<br>garlic<br>pepper<br>alcohol<br>flour<br>salty salt<br>oil"
          ],
          [
           "umami beef<br>bean<br>lettuce<br>umami tomato<br>cream<br>salty salt<br>oil"
          ],
          [
           "bitter bitter gourd<br>umami pork<br>onion<br>sweet carrot<br>bread<br>garlic<br>salty salt<br>pepper<br>paprika<br>egg"
          ],
          [
           "umami fish<br>bell pepper<br>onion<br>sour vinegar<br>pepper<br>salty salt<br>sweet sugar<br>oil"
          ],
          [
           "umami pork<br>potato<br>egg<br>milk<br>basil<br>umami tomato<br>umami cheese<br>salty salt<br>oil"
          ],
          [
           "umami fish<br>umami tomato<br>onion<br>sour lemon<br>salty salt<br>oil"
          ],
          [
           "cauliflower<br>oil<br>umami cheese<br>parsley<br>salty salt"
          ],
          [
           "umami beef<br>alcohol<br>salty salt<br>onion<br>oil<br>potato"
          ],
          [
           "umami pork<br>sweet sugar<br>ginger<br>umami soy sauce<br>salty salt"
          ],
          [
           "umami shrimp<br>umami tomato<br>umami pork<br>onion<br>sweet sugar<br>sour vinegar"
          ],
          [
           "egg<br>pasta<br>umami chicken<br>cabbage<br>oil<br>umami chicken<br>umami broth<br>umami clam<br>spice<br>sweet carrot<br>bean<br>bell pepper<br>flour<br>salty salt<br>oil"
          ],
          [
           "umami anchovy<br>sour ketchup<br>chili<br>sweet sugar<br>oil"
          ],
          [
           "spinach<br>oil<br>umami cheese<br>umami chicken<br>thyme<br>onion<br>salty salt<br>pepper"
          ],
          [
           "pasta<br>oil<br>onion<br>umami tomato<br>umami mushroom<br>spinach<br>umami cheese<br>salty salt"
          ],
          [
           "pasta<br>onion<br>sausage<br>umami pork<br>umami pork<br>flour<br>umami pork<br>umami fish sauce<br>umami soy sauce<br>pepper<br>umami pork<br>egg<br>onion<br>egg<br>oil"
          ],
          [
           "umami fish<br>egg<br>salty salt<br>pepper<br>oil"
          ],
          [
           "umami chicken<br>salty butter<br>sour lemon<br>thyme<br>onion<br>celery<br>pepper<br>salty salt<br>garlic"
          ],
          [
           "salty butter<br>onion<br>umami chicken<br>umami chicken<br>umami broth<br>pasta<br>celery<br>sweet carrot<br>cabbage<br>salty salt"
          ],
          [
           "sour lemon<br>chili<br>bell pepper<br>oil<br>onion<br>alcohol<br>umami tomato<br>chili<br>salty salt"
          ],
          [
           "umami pork<br>spice<br>umami soy sauce<br>sweet sugar<br>alcohol<br>salty salt"
          ],
          [
           "umami chicken<br>egg<br>pasta<br>oil<br>umami chicken<br>umami broth<br>salty salt<br>celery<br>onion<br>sweet carrot<br>flour<br>parsley"
          ],
          [
           "sweet jackfruit<br>onion<br>umami shrimp<br>garlic<br>umami tomato<br>chili<br>sweet coconut<br>umami fish"
          ],
          [
           "sweet corn<br>umami tomato<br>onion<br>cilantro<br>sour lemon<br>salty salt"
          ],
          [
           "umami chicken<br>pepper<br>sour lemon<br>salty salt<br>thyme<br>oil"
          ],
          [
           "pasta<br>oil<br>umami tomato<br>pepper<br>basil<br>umami cheese<br>salty salt"
          ],
          [
           "sweet sugar<br>sour ketchup<br>sour vinegar<br>umami soy sauce<br>flour"
          ],
          [
           "egg<br>umami fish<br>onion<br>cream cheese<br>cream<br>mustard<br>salty salt<br>paprika<br>dill"
          ],
          [
           "umami crab<br>oil<br>parsley<br>sour lemon<br>salty butter<br>salty salt"
          ],
          [
           "peas<br>sweet corn<br>pepper<br>umami mushroom<br>sweet carrot<br>onion<br>umami soy sauce<br>umami clam<br>oil<br>sweet sugar<br>salty salt"
          ],
          [
           "umami pork<br>salty salt<br>salty salt<br>vegetable<br>sweet sugar<br>garlic<br>paprika<br>alcohol<br>pepper<br>sweet pineapple"
          ],
          [
           "umami chicken<br>sour lemon<br>salty salt<br>pepper<br>oil"
          ],
          [
           "umami fish<br>bean<br>parsley<br>onion<br>onion<br>egg<br>flour<br>oil"
          ],
          [
           "pasta<br>salty salt<br>sour ketchup<br>umami tomato<br>umami pork<br>sweet sugar<br>onion<br>umami cheese<br>oil"
          ],
          [
           "umami tomato<br>potato<br>onion<br>umami beef<br>onion<br>umami mushroom<br>umami clam<br>oil"
          ]
         ],
         "hovertemplate": "<b>%{hovertext}</b><br><br>cluster=5<br>x=%{x}<br>y=%{y}<br>final_ingredients=%{customdata[0]}<extra></extra>",
         "hovertext": [
          "Chicken Kare-Kare",
          "Pancit Lomi",
          "Panda Express Sweet Fire Chicken Copycat",
          "Cashew Chicken",
          "Snow Peas and Shrimp Stir-fry",
          "Halabos na Hipon",
          "Lumpiang Puso ng Saging",
          "Ukoy na Dilis",
          "Kake Udon",
          "Asian Vegetable Stir-fry",
          "Kare-kareng Pata",
          "Lumpiang Shanghai",
          "Spicy Tahong",
          "Pinakbet",
          "Pineapple Salsa",
          "Rellenong Hipon",
          "Sinigang na Inihaw na Liempo",
          "Corned Beef Nilaga",
          "Kalderetang Kambing",
          "Crispy Fried Smelt Fish",
          "Crispy Sisig",
          "Sinaing na Tulingan",
          "Tofu, Asparagus and Mushroom Stir-Fry",
          "Crispy Tahong (Deep-Fried Mussels)",
          "Green Bean Mushroom Stir-fry",
          "Panda Express Chow Mein Copycat",
          "Sriracha Shrimp Scampi",
          "Ginataang Langka at Danggit",
          "Corned Beef Spaghetti",
          "Gising Gising",
          "Asian Jalapeno Chicken",
          "Crispy Breaded Shrimp",
          "Chicken Yakisoba",
          "Inihaw na Pusit (Grilled Squid)",
          "Beef in Creamy Mushroom Sauce",
          "Steamed Lapu Lapu with Mayonnaise",
          "Chicken a la King",
          "Sardines Caldereta",
          "Creamy Tuna Pasta Salad",
          "Ginisang Togi at Tokwa (Tofu and Bean Sprouts Stir Fry)",
          "Lumpiang Prito",
          "Sweet Mango Barbecue Chicken Skewers",
          "Pork Pochero",
          "Bicol Express",
          "Beef Caldereta",
          "Baked Salmon with Sweet Chili-Mayo Topping",
          "Southwestern Chicken Egg Rolls",
          "Beef and Baby Corn Stir-fry",
          "Steamed Spareribs with Black Beans",
          "Filipino-style Fried Chicken",
          "Ukoy na Togue",
          "Sinanglay na Tilapia",
          "Grilled Shrimp Mango Avocado Salad",
          "Filipino-style Pasta Carbonara",
          "Salt and Pepper Pork Chops",
          "Ginisang Ampalaya Leaves with Tinapa",
          "Laswa",
          "Chicken Tocino",
          "Homemade Pork Tocino",
          "How to Cook Easy Pork Afritada",
          "Truffle Mushroom Pasta",
          "Garlic Mushroom",
          "Japanese Curry Recipe",
          "Monggo Pinakbet Recipe",
          "Seafood Lomi Recipe",
          "Tofu Balls Almondigas with Misua and Patola",
          "Pepper Pork Belly Recipe",
          "Pork Belly Asado",
          "Sinarsahang Pork Ribs",
          "No Bake Macaroni",
          "Longganisa Pasta",
          "Cheesy Ham Steak with Bacon and Mushroom",
          "Crispy Katsu Sando",
          "Luncheon Meat Caldereta",
          "The Only Filipino Spaghetti Recipe That I Trust for the Holidays",
          "Lasagna Roll-Ups",
          "Crispy Lechon Belly with Bacon",
          "Creamy Mushroom Chicken",
          "Lemon Garlic Shrimp Pasta",
          "Pork Afritada Recipe",
          "Baked Garlic Salmon and Easy Tofu Sisig",
          "Inihaw na Liempo at Pusit",
          "Lengua Kare-Kare Recipe",
          "Pork Picadillo Recipe",
          "Ginataang Hipon, Sitaw, at Kalabasa",
          "Pan Fried Noodles",
          "Callos Recipe",
          "Beef Stroganoff Lasagna",
          "Beef Pares Lomi",
          "Baked Spaghetti",
          "Vegetable Okoy",
          "Garlic Roast Chicken",
          "Almondigas Recipe",
          "Shrimp Bisque and Clubhouse Sandwich",
          "Pinangat na Galunggong sa Kamias",
          "Pork Caldereta Recipe",
          "Nilagang Baka Recipe",
          "Easy Utan Bisaya (Law-Uy)",
          "Filipino Chicken Macaroni Salad Recipe",
          "Sinigang Mix Inasal na Manok",
          "Ginataang Talong with Malunggay and Tofu",
          "Bicol Express Recipe",
          "Tuscan Salmon",
          "Eggplant and Sardine Omelet",
          "Ginataang Puso ng Saging",
          "Aligue Fried Rice",
          "Spareribs Kaldereta",
          "Beef and Baby Corn Stir Fry Recipe",
          "Sinanglay na Tilapia Recipe",
          "Beef Kaldereta sa Gata with Peanut Butter",
          "Easy Palabok Recipe",
          "Chicken Asparagus Soup",
          "Chicken Alfredo",
          "Pochero with Pork and Beans",
          "Chicken Liver and Gizzard Stew with Quail Eggs and Snap Peas",
          "Easy Classic Macaroni Salad",
          "Red Wine Beef Stew",
          "Ginisang Togue Recipe",
          "Creamy Lengua in White Sauce",
          "Creamy Garlic Salmon",
          "Seared Shrimp Macaroni Salad with Roasted Bell Pepper",
          "Ginisang Sayote",
          "Dynamite Lumpia",
          "Inihaw na Bangus Recipe (Grilled Milkfish)",
          "Eggplant Salad",
          "Dinuguan Recipe",
          "Pork Dumpling",
          "Ginataang Manok and Kalabasa",
          "Lumpia Recipe",
          "Skinless Longganisa",
          "Ginataang Gulay",
          "Easy Pinoy Spaghetti Recipe",
          "Lumpiang Shanghai Recipe",
          "Chicken Kare Kare Recipe",
          "Kangkong with Squid Balls in Oyster Sauce",
          "Pork Kare Kare Recipe",
          "Rich and Creamy Chicken Sopas with Bacon",
          "Buffalo Chicken Wings Recipe with Sauce",
          "Tortang Tuna with Spinach - Omelet Recipe",
          "Bulanglang na Gulay (Batangas)",
          "Luncheon Meat Mac Salad with Cheese",
          "Calderetang Baboy Recipe",
          "Paksiw na Salmon sa Gata",
          "Ginataang Hipon na may Sitaw at Kalabasa",
          "Pork Bola Bola Soup with Misua and Patola",
          "Popcorn Chicken Recipe",
          "Ginisang Ampalaya na May Itlog at Hipon (Sauteed Bitter Melon with Egg and Shrimp)",
          "Homemade Pork and Beans Recipe",
          "Pandesal and Sardines Pizza",
          "Bacon Wrapped Sea Scallop",
          "Spanish Sardines Pasta with Sun Dried Tomato and Chopped Olives",
          "Baked Salmon with Lemon Garlic and Butter",
          "Oxtail Stew",
          "Crispy Fried Mahi Mahi Sarciado",
          "Special Pork Kaldereta",
          "Chopsuey Stir Fry",
          "Super Special Chopsuey",
          "Filipino Style Creamy Bacon and Mushroom Carbonara",
          "Fish Lumpia Recipe",
          "BBQ Chicken Wrap",
          "Spicy Honey Chicken with Steamed Vegetables",
          "Spicy Calderetang Kambing with Peanut Butter (Goat Meat Caldereta)",
          "Ensaladang Mangga (Green Mango Salad)",
          "Tortang Talong with Ground Pork Recipe",
          "Chicken Curry",
          "Sizzling Tofu",
          "Grilled Stuffed Squid (inihaw na pusit)",
          "Grilled Grouper Steak in Foil Packet",
          "Pinakbet with Squid in Coconut Milk (Pinakbet sa Gata)",
          "Stir Fried Pepper Steak",
          "Simple Chicken Noodle Soup",
          "Spicy Ginataang Baboy with Papaya and Malunggay",
          "Lengua in White Mushroom Sauce",
          "Seared Scallops in Herbed Butter Sauce Recipe",
          "Poached Tilapia in Sour Broth",
          "How To Cook Beef Kaldereta",
          "Beef Pares Mami Noodles Recipe",
          "Embutido Meatloaf with Tomato and Basil Grilled Cheese Sandwich",
          "Chicken Afritada with Bell Pepper",
          "Ginataang Gulay with Pork and Shrimp",
          "Pork Cheeseburger",
          "Tinolang Tahong with Malunggay",
          "Danggit Silog",
          "Chopsuey with Quail Eggs",
          "Kinilaw na Tanigue Recipe (Fish Ceviche)",
          "Seafood Kare Kare Recipe",
          "The Simplest Paksiw na Galunggong Recipe",
          "Ginisang Gulay",
          "Utan Bisaya",
          "Steamed Snow Crab Legs Recipe",
          "Lemon Garlic Butter Salmon with spring salad Recipe",
          "Kielbasa Fried Rice",
          "Beer and Cilantro Marinated Prawn",
          "Crispy Pata Sisig Recipe",
          "Crispy Baked Yukon Gold Potato Wedges",
          "Ground Pork Kaldereta Omelet",
          "Pinoy Style Fried Chicken",
          "Drunken Mussels Recipe",
          "Pork Giniling Kaldereta Recipe",
          "Kale and Tuna Laing Recipe",
          "Fried Embutido Recipe",
          "Lo Mein with Beef and Broccoli",
          "Oriental Lomi Recipe",
          "Grilled Liempo Sisig Recipe",
          "Ginataang Alimasag with Malunggay",
          "Beef Morcon Recipe",
          "Slow Cook Pork Hock Stew",
          "Misua Soup with Meatballs",
          "Laing Recipe",
          "Steamed Shrimp",
          "Beef in Oyster Sauce with Snow Peas",
          "Kalabasa Soup with Ampalaya Leaves",
          "Patis Fried Chicken",
          "Tofu with Tausi and Straw Mushrooms",
          "Garlic Shrimp Pasta",
          "Pulled Pork Crock Pot Recipe",
          "Inihaw na Tilapia Recipe",
          "Chicken and Rice Casserole Recipe",
          "Tuyo with Rice and Tomato",
          "Chicken Enchilada Casserole Recipe",
          "Chicken Teriyaki, Brown Rice, and Sunny Side Up Egg Recipe",
          "Pancit Bato Noodle Soup",
          "Sardines with Misua and Patola Recipe",
          "Sweet and Sour Mahi-mahi",
          "Easy Afritada",
          "Clam Soup Recipe (Tinolang Halaan)",
          "Pamplina Recipe (Pork and Chorizo Soup with Beans)",
          "Quick Roast Beef Sandwich",
          "Panlasang Pinoy Omelet",
          "Chicken with Ampalaya in Oyster Sauce",
          "Easy Chicken Curry",
          "Sauteed Onion and Hotdog with Ketchup",
          "Chicken Siomai",
          "Bacon and Avocado Sandwich",
          "Pork Parmesan",
          "Jollibee Style Spaghetti",
          "Easy Beef with Broccoli",
          "Easy Chicken Tacos",
          "Basic Teriyaki Sauce",
          "Vegetarian Pancit Sotanghon",
          "Chicken Piccata",
          "Chicken Pesto Pasta",
          "Pork with Salted Black Beans",
          "Chicken with Broccoli Recipe",
          "Chicago Style Hotdog",
          "Creamy Chicken with Mushroom Recipe",
          "Strawberry Mandarin and Spinach Salad in Balsamic Vinaigrette Dressing",
          "Pork with Zucchini in Oyster Sauce",
          "Creamy Seafood Pasta Recipe",
          "Corn Chowder Recipe",
          "Tonkatsu Sauce",
          "Easy Porterhouse Steak Recipe",
          "Baked Lobster Tail Recipe",
          "Carne Asada Burrito Recipe",
          "Fish Ball Soup Recipe",
          "Grilled Brined Pork Chop Recipe",
          "Arugula Salad with Chopped Walnuts",
          "Carne Asada Recipe",
          "Classic Roast Turkey Recipe",
          "Pineapple Fried Chicken Recipe",
          "Fettuccine Pasta with Tomato Meat Sauce",
          "Easy Guacamole Recipe",
          "Apple Glazed Pork Chop Recipe",
          "Baked Potato Parmesan Recipe",
          "Dusty Fried Chicken Recipe",
          "Bacon and Egg Fried Rice Recipe",
          "Arroz a la Cubana Recipe",
          "Baked Turkey Breast",
          "Popcorn Chicken",
          "Sweet and Sour Tofu",
          "Grilled Chicken and Corn",
          "Shrimp and Vegetable Fried Rice Recipe",
          "Tasty Sliders Recipe",
          "Spicy Laing Recipe",
          "Spring Rolls Recipe",
          "Rellenong Alimasag Recipe",
          "Bulanglang Recipe",
          "Easy Clam Chowder Recipe",
          "Shrimp Scampi Recipe",
          "Baked Salmon Recipe",
          "Barbecued Pork Char Siu",
          "Crispy Five Spice Spare Ribs",
          "Ground Beef Tostada",
          "Stuffed Ampalaya",
          "Fish Escabeche Recipe",
          "Bacon Frittata Recipe",
          "Grilled Tilapia Recipe",
          "Roasted Cauliflower Recipe",
          "Pepper Crusted Filet Mignon Recipe",
          "Slow Cooked Asian Pork Chop Recipe",
          "Bagoong Guisado Recipe",
          "Crispy Noodles",
          "Spicy Dilis",
          "Grilled Chicken and Spinach Salad Recipe",
          "Spinach and Feta Pasta Recipe",
          "Lomi Recipe",
          "Tortang Dulong",
          "Roasted Chicken Recipe",
          "Chicken Sopas Recipe",
          "Sizzling Gambas Recipe",
          "Pork Asado Recipe",
          "Chicken Noodle Soup Recipe",
          "Ginataang Langka Recipe",
          "Corn Salsa Recipe",
          "Shared Recipe. Roast Chicken",
          "Spaghetti with Tomato and Basil",
          "Sweet and Sour Sauce Recipe",
          "Deviled Egg with Salmon Recipe",
          "Baked King Crab Legs with Garlic Lemon Butter Sauce",
          "Braised Vegetable Recipe",
          "Longanisa Recipe (Filipino Sausage)",
          "Filipino Fried Chicken Recipe",
          "Fish Fillet with Tausi",
          "Pinoy Spaghetti Recipe",
          "Lengua Estofada Recipe"
         ],
         "legendgroup": "5",
         "marker": {
          "color": "rgb(231, 63, 116)",
          "size": 5,
          "symbol": "circle"
         },
         "mode": "markers",
         "name": "5",
         "showlegend": true,
         "type": "scattergl",
         "x": [
          0.8939327001571655,
          0.9305316805839539,
          0.947658121585846,
          0.92464280128479,
          0.905512809753418,
          0.8840832114219666,
          0.8871447443962097,
          0.8736588954925537,
          0.8503100275993347,
          0.9104486703872681,
          0.9047662019729614,
          0.8736491203308105,
          0.886283278465271,
          0.8752948045730591,
          0.8422725200653076,
          0.8879157304763794,
          0.8639049530029297,
          0.8648303747177124,
          0.8947561979293823,
          0.8283827900886536,
          0.8531283736228943,
          0.8775560855865479,
          0.8984188437461853,
          0.9008215665817261,
          0.8911427855491638,
          0.8519137501716614,
          0.8977630138397217,
          0.9050678610801697,
          0.9114856719970703,
          0.9263486862182617,
          0.90943843126297,
          0.855707049369812,
          0.8910537958145142,
          0.8976920247077942,
          0.8873980045318604,
          0.9034948348999023,
          0.8772977590560913,
          0.8883177042007446,
          0.8797010779380798,
          0.9087790250778198,
          0.8589105606079102,
          0.837575376033783,
          0.9207333326339722,
          0.9220410585403442,
          0.8742346167564392,
          0.904832124710083,
          0.8883700370788574,
          0.9150795936584473,
          0.8921062350273132,
          0.8685726523399353,
          0.9143416881561279,
          0.8925643563270569,
          0.90836501121521,
          0.897463858127594,
          0.9074605107307434,
          0.8524457216262817,
          0.8307867646217346,
          0.9213013648986816,
          0.8887917995452881,
          0.8652501106262207,
          0.8570041656494141,
          0.8504111766815186,
          0.9198922514915466,
          0.8522087335586548,
          0.9132207036018372,
          0.9170434474945068,
          0.9252852201461792,
          0.9049466848373413,
          0.9335519671440125,
          0.8952739238739014,
          0.8984987735748291,
          0.8970027565956116,
          0.8866708874702454,
          0.903253436088562,
          0.9182909727096558,
          0.8515708446502686,
          0.8356913924217224,
          0.9382805228233337,
          0.9043431878089905,
          0.880383312702179,
          0.9229953289031982,
          0.9142732620239258,
          0.8648400902748108,
          0.9123551249504089,
          0.9127854704856873,
          0.892980694770813,
          0.9040565490722656,
          0.8584356904029846,
          0.9060947299003601,
          0.8559167385101318,
          0.9386123418807983,
          0.8673648834228516,
          0.9018893837928772,
          0.8423914909362793,
          0.9055138826370239,
          0.8764038681983948,
          0.8778870105743408,
          0.8209165334701538,
          0.9301104545593262,
          0.8895463943481445,
          0.8791819214820862,
          0.8836131691932678,
          0.9143632650375366,
          0.909091055393219,
          0.9061405658721924,
          0.9262453317642212,
          0.9095208048820496,
          0.9187618494033813,
          0.9132362604141235,
          0.9377650022506714,
          0.8224926590919495,
          0.9015473127365112,
          0.864187479019165,
          0.8843751549720764,
          0.9595314860343933,
          0.8856091499328613,
          0.8805360198020935,
          0.8762247562408447,
          0.9025830030441284,
          0.9093514680862427,
          0.8924212455749512,
          0.8475481271743774,
          0.8719466328620911,
          0.9015152454376221,
          0.9173203110694885,
          0.9145013689994812,
          0.8107953071594238,
          0.8137818574905396,
          0.8735580444335938,
          0.8709445595741272,
          0.8815357685089111,
          0.9108620285987854,
          0.8806638717651367,
          0.8546866178512573,
          0.8935633897781372,
          0.9108487963676453,
          0.8999851942062378,
          0.8678164482116699,
          0.8833111524581909,
          0.8283246755599976,
          0.8929457068443298,
          0.8659495115280151,
          0.8531052470207214,
          0.8867946267127991,
          0.9001237154006958,
          0.8582438826560974,
          0.847027063369751,
          0.918468177318573,
          0.8644952774047852,
          0.8595861792564392,
          0.8969030380249023,
          0.8693078756332397,
          0.8977288603782654,
          0.9361811876296997,
          0.847661554813385,
          0.9061411619186401,
          0.928791880607605,
          0.8520933389663696,
          0.8460543155670166,
          0.8800309896469116,
          0.8886427879333496,
          0.9203229546546936,
          0.8193046450614929,
          0.9184476733207703,
          0.9085753560066223,
          0.9076418280601501,
          0.8831200003623962,
          0.8692891597747803,
          0.871584951877594,
          0.9014308452606201,
          0.9008522629737854,
          0.8673076629638672,
          0.8706873655319214,
          0.8896148800849915,
          0.9170738458633423,
          0.8807539939880371,
          0.8778490424156189,
          0.8736314177513123,
          0.8828562498092651,
          0.8957340121269226,
          0.8670768737792969,
          0.8504000902175903,
          0.8785531520843506,
          0.9218420386314392,
          0.8873624205589294,
          0.8643618226051331,
          0.8765067458152771,
          0.8900412321090698,
          0.8716344833374023,
          0.807277500629425,
          0.8858318328857422,
          0.8999220132827759,
          0.8699146509170532,
          0.9267527461051941,
          0.8397379517555237,
          0.9011775851249695,
          0.852784276008606,
          0.8583785891532898,
          0.8701502084732056,
          0.8915863037109375,
          0.8811366558074951,
          0.8937341570854187,
          0.9056904315948486,
          0.913841187953949,
          0.8736588954925537,
          0.9338354468345642,
          0.8736083507537842,
          0.9077562093734741,
          0.8628638386726379,
          0.8613569736480713,
          0.9079217314720154,
          0.8636605739593506,
          0.8224535584449768,
          0.8865257501602173,
          0.8569507002830505,
          0.9136258959770203,
          0.8589208722114563,
          0.8907901048660278,
          0.9205329418182373,
          0.9249956011772156,
          0.8771612644195557,
          0.9113739728927612,
          0.9009343981742859,
          0.9027305841445923,
          0.8669206500053406,
          0.8788223266601562,
          0.8969875574111938,
          0.8966994881629944,
          0.9373649954795837,
          0.873184859752655,
          0.92166668176651,
          0.8624929785728455,
          0.9194679856300354,
          0.8504526615142822,
          0.912467360496521,
          0.9095602035522461,
          0.9108859300613403,
          0.9095035791397095,
          0.8270235061645508,
          0.8401505947113037,
          0.9162411689758301,
          0.8589880466461182,
          0.8523444533348083,
          0.8963342905044556,
          0.8366583585739136,
          0.870398759841919,
          0.8346072435379028,
          0.9159960150718689,
          0.88468337059021,
          0.9255051016807556,
          0.8659162521362305,
          0.868925929069519,
          0.865234911441803,
          0.8522999286651611,
          0.8808172941207886,
          0.8904716968536377,
          0.8782190084457397,
          0.8380795121192932,
          0.866115391254425,
          0.9350156784057617,
          0.9052446484565735,
          0.8834793567657471,
          0.8712932467460632,
          0.8559063076972961,
          0.926341712474823,
          0.916137158870697,
          0.9092864990234375,
          0.852816104888916,
          0.8987016677856445,
          0.9263496994972229,
          0.8953157663345337,
          0.899946391582489,
          0.8932514190673828,
          0.9232203960418701,
          0.8749237060546875,
          0.9191088080406189,
          0.8374585509300232,
          0.8967428207397461,
          0.9005682468414307,
          0.9014900922775269,
          0.8691158890724182,
          0.8214524984359741,
          0.9002645015716553,
          0.8545642495155334,
          0.9256408214569092,
          0.9282326102256775,
          0.9157735109329224,
          0.8332042098045349,
          0.8678693771362305,
          0.9012303352355957,
          0.9107284545898438,
          0.9243513345718384,
          0.8740113973617554,
          0.9293420910835266,
          0.8975125551223755,
          0.8667376041412354,
          0.8764601945877075,
          0.9021251201629639,
          0.8828474283218384,
          0.8502219915390015,
          0.8618900179862976,
          0.8841887712478638,
          0.9005844593048096,
          0.888838529586792,
          0.874631941318512,
          0.8911866545677185,
          0.8552191257476807,
          0.8660346865653992,
          0.88303542137146,
          0.9466382265090942,
          0.8720746636390686,
          0.8825927376747131,
          0.8337901830673218,
          0.920570433139801,
          0.8749421834945679
         ],
         "xaxis": "x",
         "y": [
          0.016540030017495155,
          0.02372058294713497,
          0.021775348111987114,
          0.024625567719340324,
          0.0004556281492114067,
          0.01657881960272789,
          -0.012711117044091225,
          0.014665707014501095,
          0.054016947746276855,
          0.028245359659194946,
          0.005078543443232775,
          -0.03886755555868149,
          -0.037396784871816635,
          -0.022760014981031418,
          0.03311717137694359,
          -0.03797251358628273,
          -0.013141918927431107,
          0.023957634344697,
          -0.002359441015869379,
          -0.010177982039749622,
          0.0033283764496445656,
          0.012960068881511688,
          -0.011976605281233788,
          0.012656712904572487,
          -0.02940876968204975,
          -0.042297668755054474,
          -0.008892348036170006,
          -0.009145851247012615,
          0.02048151195049286,
          0.011364833451807499,
          0.015064756385982037,
          -0.010071052238345146,
          -0.025584103539586067,
          0.00909428671002388,
          -0.028943762183189392,
          0.01669616810977459,
          -0.022260958328843117,
          0.012380212545394897,
          -0.011536874808371067,
          -0.001253817230463028,
          0.026533327996730804,
          -0.03644268214702606,
          -0.013356664218008518,
          -0.017714064568281174,
          0.015170147642493248,
          -0.011483176611363888,
          0.014226846396923065,
          0.007976226508617401,
          -0.014686072245240211,
          -0.009211956523358822,
          0.025449227541685104,
          0.02121035009622574,
          0.04251943901181221,
          -0.01397883053869009,
          -0.005711151286959648,
          -0.025349806994199753,
          0.0366830974817276,
          0.03104795515537262,
          0.03067215159535408,
          -0.03399590030312538,
          -0.007235976867377758,
          0.00020111622870899737,
          0.0188402459025383,
          0.05173727869987488,
          0.002098103053867817,
          0.030713465064764023,
          0.004292457364499569,
          0.004244903102517128,
          0.0046896543353796005,
          0.027115775272250175,
          0.035942211747169495,
          0.025129713118076324,
          0.0077007971704006195,
          0.03659486398100853,
          0.01347891241312027,
          0.03461724519729614,
          -0.029650690034031868,
          0.0249562356621027,
          0.04118634760379791,
          -0.021430604159832,
          0.0013208091259002686,
          -0.01595146767795086,
          0.007054567337036133,
          0.03131571039557457,
          -0.0006186082027852535,
          -0.001563129248097539,
          -0.006789643317461014,
          -0.0016590678133070469,
          -0.007739800028502941,
          0.033130206167697906,
          0.020911671221256256,
          0.014958006329834461,
          0.01770808920264244,
          -0.033158302307128906,
          -0.014447465538978577,
          0.0404973030090332,
          -0.02482505515217781,
          -0.027211755514144897,
          0.021140873432159424,
          0.01956341788172722,
          0.017865365371108055,
          -0.02599678561091423,
          0.005978558678179979,
          0.016718558967113495,
          -0.012474928982555866,
          0.013173436746001244,
          0.0019480688497424126,
          0.005920808762311935,
          0.00604627188295126,
          0.010771526955068111,
          -0.006927145645022392,
          -0.01379182655364275,
          0.039328720420598984,
          -0.035995963960886,
          0.008570480160415173,
          -0.016222525388002396,
          -0.011029956862330437,
          -0.00546637549996376,
          0.020204342901706696,
          0.04054047167301178,
          0.010317297652363777,
          -0.032891154289245605,
          0.03833223506808281,
          -0.009299262426793575,
          -0.010661153122782707,
          -0.003184317611157894,
          -0.028973858803510666,
          -0.015464777126908302,
          0.04577428102493286,
          0.0044298358261585236,
          0.008325318805873394,
          0.01791505515575409,
          0.013127993792295456,
          -0.034238241612911224,
          0.01867523416876793,
          0.03260759636759758,
          0.032938726246356964,
          -0.016758501529693604,
          0.02473447471857071,
          0.04173833131790161,
          0.025688232854008675,
          0.03572068363428116,
          0.02247665449976921,
          0.014977947808802128,
          0.026909006759524345,
          0.047281160950660706,
          0.019477635622024536,
          0.004121560603380203,
          0.026578020304441452,
          -0.036728084087371826,
          0.014824424870312214,
          -0.021015262231230736,
          -0.005533244926482439,
          0.020393233746290207,
          0.03219912201166153,
          0.037691570818424225,
          0.02390327677130699,
          0.0047090547159314156,
          0.052734412252902985,
          0.03584274649620056,
          0.03131769597530365,
          0.004548368509858847,
          -0.03485804796218872,
          0.021628746762871742,
          0.0021005715243518353,
          -0.015358611941337585,
          -0.01011574175208807,
          0.057780761271715164,
          0.00002747355028986931,
          0.0177537202835083,
          0.027244601398706436,
          -0.04534705728292465,
          -0.03920360282063484,
          -0.010555228218436241,
          -0.014355925843119621,
          0.03724188357591629,
          -0.03260422497987747,
          0.046439673751592636,
          -0.032550349831581116,
          0.028328120708465576,
          -0.006744950544089079,
          -0.016585417091846466,
          -0.007086805533617735,
          0.03646736964583397,
          0.02762918919324875,
          0.04755888134241104,
          0.013732765801250935,
          -0.028086064383387566,
          0.0006785038858652115,
          -0.03582271188497543,
          -0.023720072582364082,
          0.0020010564476251602,
          0.02251182124018669,
          0.015587362460792065,
          0.03883109614253044,
          0.006826900877058506,
          0.05975897237658501,
          0.021504148840904236,
          0.03671204671263695,
          -0.034066904336214066,
          -0.012848874554038048,
          0.007830888964235783,
          0.026006123051047325,
          0.023066742345690727,
          0.011167656630277634,
          0.003920386545360088,
          -0.010072344914078712,
          0.014365127310156822,
          -0.01762065850198269,
          0.014180862344801426,
          0.022518401965498924,
          -0.029983853921294212,
          0.003457336686551571,
          -0.00880088284611702,
          -0.032801155000925064,
          -0.0068076783791184425,
          0.03302762657403946,
          0.02591996267437935,
          0.0323563814163208,
          0.016950465738773346,
          -0.00227933656424284,
          -0.006882605142891407,
          -0.014297695830464363,
          0.03439700976014137,
          0.048375099897384644,
          0.007421541027724743,
          0.02116335555911064,
          0.023688556626439095,
          0.03001089207828045,
          -0.03387264534831047,
          -0.007227732799947262,
          0.0025834310799837112,
          0.026501290500164032,
          0.030517956241965294,
          0.014949260279536247,
          0.010713690891861916,
          0.036075178533792496,
          0.026940111070871353,
          -0.005155935417860746,
          -0.01758340373635292,
          -0.009560148231685162,
          0.05128059908747673,
          -0.030289486050605774,
          0.01100077759474516,
          0.02980406954884529,
          0.004203903488814831,
          0.008551573380827904,
          -0.00844624638557434,
          -0.04141468182206154,
          0.03139915317296982,
          -0.028408240526914597,
          0.012409457936882973,
          0.05736374109983444,
          0.01620044745504856,
          -0.020988043397665024,
          -0.014718098565936089,
          -0.006793234497308731,
          0.03264983370900154,
          -0.034648165106773376,
          0.003713688813149929,
          -0.013211430050432682,
          -0.01678159460425377,
          0.024251429364085197,
          0.004036596044898033,
          -0.003437700681388378,
          -0.00568679254502058,
          0.03674820065498352,
          0.01462638285011053,
          0.026121683418750763,
          -0.007353126537054777,
          0.014578700065612793,
          0.029559986665844917,
          -0.008932889439165592,
          0.0331617034971714,
          -0.0410977266728878,
          0.038011450320482254,
          0.016840677708387375,
          -0.0014679189771413803,
          -0.010402485728263855,
          0.02027316391468048,
          -0.034647803753614426,
          -0.014252732507884502,
          -0.0023703891783952713,
          0.06067188084125519,
          0.014605386182665825,
          0.006408781744539738,
          0.005019684322178364,
          -0.0008123863954097033,
          -0.0034800474531948566,
          -0.0022278176620602608,
          -0.006567645817995071,
          -0.005312009714543819,
          -0.020587781444191933,
          0.000011473195627331734,
          0.02994285523891449,
          -0.023196769878268242,
          0.024789392948150635,
          0.006903874222189188,
          0.018707972019910812,
          -0.0176607146859169,
          -0.014981173910200596,
          0.013411212712526321,
          0.012206641025841236,
          0.030029401183128357,
          -0.011699166148900986,
          0.004119993187487125,
          0.014837061986327171,
          0.030129102990031242,
          0.026097360998392105,
          0.015218600630760193,
          0.054717328399419785,
          -0.00034434814006090164,
          0.037620771676301956,
          0.025479663163423538,
          -0.00810961052775383
         ],
         "yaxis": "y"
        },
        {
         "customdata": [
          [
           "sweet avocado<br>sour lemon<br>milk<br>milk"
          ],
          [
           "sweet avocado<br>milk<br>sweet sugar<br>sour lemon<br>ice"
          ],
          [
           "sweet coconut<br>rice<br>taro<br>yam<br>sweet sweet potato<br>sweet banana<br>gelatin<br>sweet jackfruit<br>sweet coconut<br>cream"
          ],
          [
           "gelatin<br>sweet sugar<br>sour lemon<br>milk<br>cream<br>gelatin"
          ],
          [
           "okra<br>oil<br>egg<br>flour<br>salty salt"
          ],
          [
           "sweet sugar<br>sweet coconut<br>gelatin<br>umami tofu"
          ],
          [
           "cucumber<br>sour lemon<br>sweet sugar<br>ice"
          ],
          [
           "umami pork<br>sweet pineapple<br>sweet cherry<br>sweet sugar"
          ],
          [
           "rice<br>oil<br>garlic<br>salty salt"
          ],
          [
           "umami shrimp<br>alcohol<br>garlic<br>salty salt<br>flour<br>oil"
          ],
          [
           "sweet avocado<br>sour lemon<br>milk<br>cream"
          ],
          [
           "sausage<br>nut<br>onion<br>wrapper<br>oil"
          ],
          [
           "eggplant<br>egg<br>salty salt<br>oil"
          ],
          [
           "eggplant<br>egg<br>bell pepper<br>sweet carrot<br>onion<br>oil<br>onion"
          ],
          [
           "umami pork<br>flour<br>milk<br>egg<br>egg<br>oil"
          ],
          [
           "umami pork<br>umami pork<br>egg<br>flour<br>bread<br>oil"
          ],
          [
           "sweet coconut<br>sweet carrot<br>bean<br>broccoli<br>bell pepper<br>onion<br>oil"
          ],
          [
           "eggplant<br>egg<br>salty salt<br>oil"
          ],
          [
           "umami chicken<br>flour<br>flour<br>garlic<br>onion<br>pepper<br>baking<br>chili<br>egg<br>oil<br>salty salt<br>rosemary<br>ice"
          ],
          [
           "umami pork<br>umami pork<br>turnip<br>oil<br>pepper<br>onion<br>sweet carrot<br>egg<br>onion<br>wrapper"
          ],
          [
           "umami beef<br>umami beef<br>cabbage<br>bean<br>eggplant<br>peanut<br>annatto<br>onion<br>flour<br>oil<br>umami shrimp"
          ],
          [
           "wrapper<br>oil<br>umami chicken<br>umami chicken<br>onion<br>sweet carrot<br>egg<br>pepper"
          ],
          [
           "bread<br>bell pepper<br>bread<br>egg<br>oil<br>mayonnaise"
          ],
          [
           "umami chicken<br>umami chicken<br>egg<br>flour<br>pepper<br>oil"
          ],
          [
           "umami tofu<br>gelatin<br>sweet sugar<br>sweet vanilla"
          ],
          [
           "rice<br>garlic<br>oil<br>salty salt"
          ],
          [
           "egg<br>eggplant<br>garlic<br>salty salt<br>pepper<br>oil"
          ],
          [
           "bread<br>rosemary<br>oil<br>salty salt<br>pepper"
          ],
          [
           "umami beef<br>garlic<br>rice<br>egg"
          ],
          [
           "flour<br>egg<br>alcohol<br>baking<br>pepper<br>garlic<br>chili<br>salty salt<br>oil"
          ],
          [
           "cream<br>mayonnaise<br>dill<br>parsley<br>onion<br>salty salt"
          ],
          [
           "eggplant<br>oil<br>flour<br>umami fish sauce"
          ],
          [
           "flour<br>alcohol<br>pepper<br>salty salt<br>chili<br>flour<br>oil"
          ],
          [
           "alcohol<br>salty salt<br>spice<br>pepper<br>salty salt"
          ],
          [
           "lemongrass<br>onion<br>onion<br>salty salt<br>milk<br>pepper<br>oil"
          ],
          [
           "garlic<br>thyme<br>rosemary<br>salty salt<br>pepper<br>oil"
          ],
          [
           "sweet apple<br>sweet apple<br>sweet honey<br>cinnamon<br>sour lemon"
          ],
          [
           "sausage<br>pasta<br>salty butter<br>basil<br>umami cheese"
          ],
          [
           "pasta<br>umami tomato<br>oil<br>umami cheese"
          ],
          [
           "umami pork<br>umami soy sauce<br>umami pork<br>sweet sugar"
          ],
          [
           "egg<br>flour<br>flour<br>garlic<br>oil"
          ],
          [
           "pasta<br>cream<br>umami fish<br>umami cheese<br>pepper"
          ],
          [
           "pasta<br>sweet pea<br>cream<br>umami cheese<br>umami cheese"
          ],
          [
           "garlic<br>sour ketchup<br>sauce<br>salty butter<br>alcohol<br>salty salt<br>onion"
          ],
          [
           "rice<br>salty salt<br>umami fish<br>oil<br>salty salt"
          ],
          [
           "pepper<br>bay leaf<br>salty salt<br>oil"
          ],
          [
           "umami pork<br>rice<br>egg<br>oil"
          ],
          [
           "rice<br>garlic<br>oil<br>salty salt"
          ],
          [
           "umami beef<br>bread<br>mayonnaise<br>cabbage"
          ],
          [
           "salty butter<br>oil<br>chili<br>parsley<br>garlic<br>salty salt"
          ],
          [
           "pasta<br>oil<br>umami cheese<br>pasta<br>umami tomato<br>umami cheese<br>broccoli"
          ],
          [
           "rice<br>cabbage<br>bitter radish<br>chili<br>cabbage<br>bitter radish<br>chili<br>oil<br>oil"
          ],
          [
           "gourd<br>umami shrimp<br>onion<br>garlic<br>oil<br>wrapper<br>egg<br>salty salt"
          ],
          [
           "bitter radish<br>onion<br>sweet sugar<br>pepper<br>sweet sugar<br>salty salt"
          ],
          [
           "pasta<br>gourd<br>onion<br>oil<br>salty salt"
          ],
          [
           "pasta<br>pasta<br>garlic<br>umami cheese"
          ],
          [
           "garlic<br>rosemary<br>thyme<br>pepper<br>salty salt<br>oil"
          ],
          [
           "flour<br>garlic<br>salty salt<br>pepper<br>oil"
          ],
          [
           "umami mushroom<br>spinach<br>egg<br>oil<br>salty salt"
          ],
          [
           "potato<br>mayonnaise<br>sour pickle<br>celery<br>cream<br>onion<br>nut<br>salty salt"
          ],
          [
           "umami pork<br>salty salt<br>pepper<br>thyme<br>oregano<br>oil<br>cinnamon<br>nut<br>sweet sugar<br>alcohol"
          ],
          [
           "spinach<br>umami tofu<br>oil<br>oil<br>oil<br>salty salt"
          ],
          [
           "pasta<br>umami beef<br>salty butter<br>cream<br>garlic<br>umami cheese<br>parsley"
          ],
          [
           "bean<br>umami cheese<br>cream<br>chili"
          ],
          [
           "umami crab<br>cream cheese<br>cream<br>mustard<br>umami cheese<br>umami crab<br>chili"
          ],
          [
           "umami fish<br>umami tomato<br>lettuce<br>umami cheese<br>flour"
          ],
          [
           "umami chicken<br>cream cheese<br>bread<br>sweet berry"
          ],
          [
           "umami chicken<br>umami soy sauce<br>sweet sugar<br>alcohol<br>umami soy sauce<br>alcohol"
          ],
          [
           "broccoli<br>oil<br>salty salt<br>garlic"
          ],
          [
           "mayonnaise<br>cream<br>nut<br>vegetable<br>spinach"
          ],
          [
           "chili<br>cream cheese<br>umami cheese<br>parsley"
          ],
          [
           "okra<br>oil<br>salty salt<br>pepper"
          ],
          [
           "oil<br>umami fish sauce<br>umami fish sauce<br>ice<br>ice"
          ],
          [
           "pasta<br>bell pepper<br>broccoli<br>oil<br>salty salt"
          ],
          [
           "spinach<br>oil<br>oil<br>salty salt"
          ],
          [
           "umami chicken<br>alcohol<br>umami soy sauce<br>sweet sugar<br>alcohol<br>sweet sugar<br>sesame"
          ],
          [
           "spinach<br>ice<br>salty salt<br>egg<br>oil"
          ],
          [
           "sour vinegar<br>salty salt<br>pepper<br>oil<br>ice"
          ],
          [
           "flour<br>bean<br>sesame<br>oil"
          ],
          [
           "bay leaf<br>salty salt<br>pepper<br>sour vinegar<br>oil"
          ],
          [
           "alcohol<br>salty salt<br>pepper<br>oil"
          ],
          [
           "eggplant<br>sweet melon<br>bean<br>potato<br>okra<br>umami tomato<br>onion<br>umami pork<br>umami anchovy"
          ]
         ],
         "hovertemplate": "<b>%{hovertext}</b><br><br>cluster=4<br>x=%{x}<br>y=%{y}<br>final_ingredients=%{customdata[0]}<extra></extra>",
         "hovertext": [
          "Avocado Ice Candy",
          "Avocado Milkshake",
          "Binignit",
          "Avocado Sago Jelly",
          "Fried Okra",
          "Taho",
          "Cucumber Lime Smoothie",
          "Slow Cooker Ham with Pineapple",
          "Sinangag (Garlic Fried Rice)",
          "Nilasing na Hipon",
          "Avocado Ice Cream",
          "Longganisa Wonton",
          "Tortang Talong",
          "Relyenong Talong with Tuna",
          "Bacon Stuffed Pancake",
          "Quick and Easy Pan-Fried Pork Chops",
          "Healthy Ginataang Gulay with Tofu and Shrimp",
          "Tortang Talong Recipe",
          "Crispy Fried Chicken (Spicy Version)",
          "Pork Siomai",
          "Beef Tripe Kare Kare",
          "Chicken Lumpia",
          "Fried Ham and Cheese Roll",
          "Crispy Fried Chicken",
          "Homemade Taho",
          "Sinangag na Kanin Recipe - How to Make Garlic Fried Rice",
          "Eggplant Omelette",
          "Rosemary Crusted Roast Rack of Lamb",
          "Morcon with Garlic Fried Rice and Eggs",
          "Spicy Camaron Rebosado (Deep Fried Beer Battered Shrimp)",
          "Dill Dip Recipe",
          "Fried Eggplant (Pritong Talong)",
          "Nilasing na Hipon",
          "Oven Roasted Pork Belly",
          "Roasted Pork Belly (Lechon Liempo)",
          "Crown Roast of Lamb",
          "Simple Applesauce Recipe",
          "Sausage Macaroni Pasta",
          "Simple Sun-Dried Tomato and Basil Spaghetti",
          "Pork Adobo Paksiw Recipe",
          "Crispy Spam Steak Recipe",
          "Smoked Salmon Pasta",
          "Tuna Macaroni Pasta",
          "Chili Garlic Shrimp Stir Fry",
          "Tuyo Fried Rice",
          "Chicharon Bulaklak Recipe",
          "Tosilog Recipe",
          "Sinangag Recipe (Filipino Fried Rice)",
          "Delicious Reuben Sandwich",
          "Chili Garlic Shrimp Saute",
          "Chicken Pasta Casserole",
          "Simple Kimchi Fried Rice",
          "Panara Recipe (Deep Fried Shrimp Wonton)",
          "Atcharang Labanos Recipe",
          "Odong Recipe",
          "Pinoy Baked Whole Wheat Penne Pasta",
          "Grilled Lamb Chops",
          "Fried Whiting Fish Recipe",
          "Mushroom and Spinach Omelet",
          "Curried Potato Salad",
          "Baked Pork Tenderloin with Peaches",
          "Sauteed Spinach with Tofu",
          "Ground Beef Spaghetti Alfredo",
          "Sta. Fe Dip Recipe",
          "Crab Dip Recipe",
          "Tuna Salad Wrap",
          "Turkey and Cranberry Sandwich with Cream Cheese",
          "How to Cook Easy Chicken Teriyaki",
          "Oven Roasted Broccoli",
          "Easy Spinach Dip Recipe",
          "Artichoke Dip",
          "Roasted Okra",
          "Kangkong with Bagoong Recipe",
          "Easy Pasta Salad Recipe",
          "Garlic Sesame Spinach Recipe",
          "Chicken Teriyaki Recipe",
          "Crispy Spinach Recipe",
          "Asparagus Salad",
          "Buchi",
          "Chicharon Bituka Recipe",
          "Nilasing na Hipon Recipe",
          "Pakbet Ilocano Recipe"
         ],
         "legendgroup": "4",
         "marker": {
          "color": "rgb(128, 186, 90)",
          "size": 5,
          "symbol": "circle"
         },
         "mode": "markers",
         "name": "4",
         "showlegend": true,
         "type": "scattergl",
         "x": [
          0.6921788454055786,
          0.6959590911865234,
          0.7229448556900024,
          0.7077345848083496,
          0.6929556727409363,
          0.7044907808303833,
          0.6541032791137695,
          0.7204678654670715,
          0.7705166935920715,
          0.806503415107727,
          0.6875053644180298,
          0.4153478741645813,
          0.6383048295974731,
          0.8011299967765808,
          0.7159068584442139,
          0.7354297637939453,
          0.8052512407302856,
          0.6383048295974731,
          0.8106623291969299,
          0.7671793699264526,
          0.8151477575302124,
          0.7558771371841431,
          0.7074503302574158,
          0.7958093881607056,
          0.675701916217804,
          0.7705166935920715,
          0.8072687983512878,
          0.7672542333602905,
          0.6804529428482056,
          0.7167047262191772,
          0.7913373708724976,
          0.586998462677002,
          0.7304033041000366,
          0.6590867042541504,
          0.8112449049949646,
          0.7068383097648621,
          0.7315720319747925,
          0.7645858526229858,
          0.7980921268463135,
          0.6994956135749817,
          0.589464545249939,
          0.7730147242546082,
          0.674616277217865,
          0.8116713166236877,
          0.7931058406829834,
          0.6899168491363525,
          0.6338955163955688,
          0.7705166935920715,
          0.7437639236450195,
          0.8019152879714966,
          0.7966694235801697,
          0.6668717861175537,
          0.7992572784423828,
          0.759211540222168,
          0.7610025405883789,
          0.6951653957366943,
          0.7068383097648621,
          0.7355872988700867,
          0.8199895024299622,
          0.815298318862915,
          0.8151935338973999,
          0.7860237956047058,
          0.8118654489517212,
          0.5901811122894287,
          0.7979053258895874,
          0.8005331754684448,
          0.6769199371337891,
          0.7922472357749939,
          0.7164959907531738,
          0.6167668104171753,
          0.677780270576477,
          0.7456742525100708,
          0.5365341901779175,
          0.7000850439071655,
          0.6803664565086365,
          0.8097789287567139,
          0.6365194916725159,
          0.6690273880958557,
          0.5498492121696472,
          0.6711441874504089,
          0.7025006413459778,
          0.7895631194114685
         ],
         "xaxis": "x",
         "y": [
          0.15561430156230927,
          0.23567995429039001,
          0.2637953758239746,
          0.23975324630737305,
          0.2109202891588211,
          0.21236246824264526,
          0.10335952043533325,
          0.14232009649276733,
          0.030107147991657257,
          0.01423630304634571,
          0.11883056163787842,
          -0.035912517458200455,
          0.07769718766212463,
          0.09748180955648422,
          0.1476939171552658,
          0.10582457482814789,
          0.11139057576656342,
          0.07769718766212463,
          0.09523718059062958,
          0.031603697687387466,
          0.07619226723909378,
          0.0754171833395958,
          0.13205334544181824,
          0.06649565696716309,
          0.18735146522521973,
          0.030107147991657257,
          0.08663441985845566,
          0.10761778801679611,
          -0.13520319759845734,
          0.13621315360069275,
          0.05487135797739029,
          -0.17445415258407593,
          0.1755264550447464,
          0.14366348087787628,
          0.05286973714828491,
          -0.0623435378074646,
          0.2397303283214569,
          0.06552894413471222,
          0.0010443292558193207,
          -0.051680661737918854,
          0.15539295971393585,
          0.021111739799380302,
          0.18455156683921814,
          0.05640000104904175,
          0.08558737486600876,
          -0.07730542868375778,
          -0.12199176847934723,
          0.030107147991657257,
          -0.03082486055791378,
          0.021625205874443054,
          0.016891106963157654,
          -0.12049427628517151,
          0.07074654847383499,
          0.2222009152173996,
          0.09959623217582703,
          0.07722585648298264,
          -0.0623435378074646,
          0.14784887433052063,
          0.02656247653067112,
          0.09085813909769058,
          0.01311870664358139,
          0.048408329486846924,
          0.038260940462350845,
          -0.04571440443396568,
          0.048329081386327744,
          0.10338462144136429,
          0.16209837794303894,
          0.06276268512010574,
          -0.027204878628253937,
          0.0574546754360199,
          -0.0033490434288978577,
          0.08817765861749649,
          -0.2597050666809082,
          0.010571960359811783,
          0.16865316033363342,
          0.030660536140203476,
          0.06890994310379028,
          -0.07985130697488785,
          0.017904063686728477,
          -0.17087852954864502,
          0.07635349035263062,
          -0.004037332721054554
         ],
         "yaxis": "y"
        },
        {
         "customdata": [
          [
           "sweet mango<br>milk<br>sweet sugar<br>ice"
          ],
          [
           "rice<br>cinnamon<br>milk<br>milk<br>sweet sugar<br>cinnamon"
          ],
          [
           "sweet coconut<br>sweet coconut<br>milk<br>sweet coconut<br>ice<br>gelatin<br>sweet coconut<br>sweet sugar<br>sweet coconut"
          ],
          [
           "cream<br>milk<br>sweet mango<br>bread<br>sweet mango<br>sweet sugar"
          ],
          [
           "gelatin<br>rice<br>gelatin<br>peanut<br>sweet coconut<br>cream<br>ice<br>gelatin<br>sweet sugar<br>sweet coconut<br>peanut"
          ],
          [
           "sesame<br>sweet sugar<br>flour<br>sweet coconut"
          ],
          [
           "gelatin<br>sweet coconut<br>sweet sugar<br>sweet coconut<br>sweet coconut<br>sweet coconut<br>cream<br>milk"
          ],
          [
           "baking<br>egg<br>sweet sugar<br>milk<br>oil<br>cream"
          ],
          [
           "bean<br>sweet coconut<br>rice<br>sweet coconut<br>cream<br>sweet sugar"
          ],
          [
           "flour<br>sweet sugar<br>milk<br>ice"
          ],
          [
           "oil<br>sweet sugar<br>flour<br>egg"
          ],
          [
           "gelatin<br>sweet coconut<br>sweet sugar<br>sweet coconut<br>sweet coconut<br>sweet coconut<br>sweet coconut<br>cream<br>milk"
          ],
          [
           "sweet banana<br>sweet sugar<br>wrapper<br>sweet jackfruit<br>oil"
          ],
          [
           "gelatin<br>bean<br>sweet coconut<br>sweet coconut<br>sweet banana<br>sweet jackfruit<br>sweet coconut<br>yam<br>ice<br>milk<br>milk<br>egg"
          ],
          [
           "sweet mango<br>sweet coconut<br>sweet coconut<br>cream<br>milk"
          ],
          [
           "gelatin<br>milk<br>nut<br>alcohol"
          ],
          [
           "sweet sugar<br>egg<br>milk<br>milk"
          ],
          [
           "sweet mango<br>sweet sugar<br>wrapper<br>cream cheese<br>oil"
          ],
          [
           "cream<br>milk<br>sweet coconut<br>sweet coconut"
          ],
          [
           "gelatin<br>sweet coconut<br>sweet sugar<br>sweet coconut<br>sweet coconut<br>sweet coconut"
          ],
          [
           "gelatin<br>sweet sugar<br>sweet coconut<br>gelatin<br>sweet coconut<br>sweet sugar<br>sweet coconut"
          ],
          [
           "gelatin<br>sweet sugar<br>sweet mango<br>milk<br>gelatin"
          ],
          [
           "sesame<br>peanut<br>sweet sugar<br>flour"
          ],
          [
           "sweet coconut<br>flour<br>taro<br>sweet sugar<br>sweet coconut<br>cream"
          ],
          [
           "gelatin<br>gelatin<br>sweet sugar<br>sweet banana<br>ice<br>gelatin<br>gelatin<br>sweet sugar<br>peanut<br>sweet sugar"
          ],
          [
           "cream<br>milk<br>bread<br>alcohol"
          ],
          [
           "cassava<br>sweet sugar<br>sweet coconut<br>sweet coconut<br>salty butter<br>sweet sugar"
          ],
          [
           "gelatin<br>gelatin<br>gelatin<br>gelatin<br>cream<br>milk"
          ],
          [
           "sweet sugar<br>milk<br>milk<br>egg"
          ],
          [
           "sweet sugar<br>sweet coconut<br>sweet coconut<br>milk<br>ice"
          ],
          [
           "gelatin<br>sweet sugar<br>sweet coconut<br>sweet coconut<br>gelatin<br>sweet coconut<br>sweet coconut<br>sweet coconut<br>milk"
          ],
          [
           "gelatin<br>bitter coffee<br>sweet sugar<br>milk<br>cream"
          ],
          [
           "milk<br>cream<br>milk<br>peanut<br>sweet sugar"
          ],
          [
           "egg<br>milk<br>sour lemon<br>sweet sugar<br>wrapper"
          ],
          [
           "sweet coconut<br>milk<br>cream<br>gelatin<br>sweet coconut<br>sweet vanilla<br>gelatin"
          ],
          [
           "sweet coconut<br>yam<br>yam<br>flour<br>sweet sugar<br>sweet coconut<br>sweet coconut<br>oil"
          ],
          [
           "sweet banana<br>sweet jackfruit<br>sweet sugar<br>wrapper<br>oil"
          ],
          [
           "egg<br>milk<br>salty butter<br>nut"
          ],
          [
           "cassava<br>sweet sugar<br>lye<br>sweet coconut"
          ],
          [
           "gelatin<br>cream<br>sweet pineapple<br>milk<br>gelatin"
          ],
          [
           "sweet banana<br>wrapper<br>sweet jackfruit<br>sweet sugar<br>sweet vanilla<br>oil<br>sweet sugar"
          ],
          [
           "sweet squash<br>salty butter<br>sweet sugar<br>salty salt"
          ],
          [
           "flour<br>sweet squash<br>sweet sugar<br>egg<br>baking<br>baking soda<br>oil<br>cinnamon<br>nut<br>sweet sugar"
          ],
          [
           "sweet melon<br>sweet sugar<br>sweet vanilla<br>ice"
          ],
          [
           "sweet berry<br>sweet vanilla<br>sour yogurt<br>ice<br>sweet sugar<br>milk"
          ],
          [
           "sweet berry<br>sour yogurt<br>sweet vanilla<br>ice<br>sweet sugar<br>milk"
          ],
          [
           "sweet coconut<br>sweet coconut<br>milk<br>milk<br>sweet vanilla"
          ],
          [
           "cassava<br>sweet sugar<br>sweet coconut<br>cream<br>sweet banana"
          ],
          [
           "sweet berry<br>sweet apple<br>sweet apple<br>sweet sugar"
          ],
          [
           "gelatin<br>nut<br>milk<br>sweet sugar"
          ],
          [
           "flour<br>gelatin<br>egg<br>sweet sugar<br>sweet sugar<br>baking<br>sweet vanilla"
          ],
          [
           "sweet chocolate<br>sweet chocolate<br>sweet sugar<br>sweet vanilla<br>cream"
          ],
          [
           "bean<br>sweet coconut<br>rice<br>sweet sugar"
          ],
          [
           "bread<br>bread<br>cream<br>milk<br>sweet mango"
          ],
          [
           "sweet banana<br>sweet sugar<br>sweet vanilla<br>salty salt"
          ],
          [
           "potato<br>milk<br>salty butter<br>salty salt"
          ],
          [
           "sweet berry<br>sweet berry<br>sweet coconut<br>milk<br>cream"
          ],
          [
           "flour<br>sweet sugar<br>sesame<br>sweet coconut"
          ],
          [
           "cassava<br>sweet sugar<br>sweet coconut<br>lye<br>sweet coconut"
          ],
          [
           "flour<br>flour<br>sweet sugar<br>lye"
          ]
         ],
         "hovertemplate": "<b>%{hovertext}</b><br><br>cluster=6<br>x=%{x}<br>y=%{y}<br>final_ingredients=%{customdata[0]}<extra></extra>",
         "hovertext": [
          "Mango Shake",
          "Horchata",
          "Buko Pandan Drink",
          "Mango Royale",
          "Ginumis",
          "Palitaw",
          "White Buko Salad",
          "Ube Mamon",
          "Ginataang Munggo",
          "Instant Pot Boba Milk Tea",
          "Tikoy",
          "Buko Pandan Salad",
          "Banana Turon",
          "Halo-Halo",
          "Mango Bango",
          "Almond Jello",
          "Leche Flan",
          "Mango and Cream Cheese Turon",
          "Buko Pandan Ice Cream",
          "Buko Pandan Gelatin",
          "Pandan Coconut Jelly",
          "Mango Jelly",
          "Sticky Rice Balls with Peanuts",
          "Kalamay Gabi",
          "Sago at Gulaman",
          "Fruit Cocktail Graham Float",
          "Puto Lanson",
          "Cathedral Window Gelatin",
          "Dulce de Leche Flan",
          "Buko Shake",
          "Buko Salad Drink",
          "Coffee Jelly",
          "No-cook Caramel Pastillas",
          "Yema",
          "Buko Pandan",
          "Ube Kalamay Recipe",
          "Turon (Banana Lumpia with Caramel)",
          "How to Make Yema",
          "Ube Pichi Pichi Recipe",
          "Cathedral Window Gelatin Recipe",
          "Mini Turon Recipe (Banana Lumpia with Caramel)",
          "Caramelized Butternut Squash",
          "Pumpkin Muffins",
          "Melon Juice",
          "Blueberry Greek Yogurt Smoothie",
          "Strawberry Greek Yogurt Smoothie",
          "Buko Ice Candy",
          "Cassava Suman",
          "Cranberry Apple Juice",
          "Almond Jelly with Fruit Cocktail Recipe",
          "Jelly Roll",
          "No-Bake Chocolate Fudge Tart",
          "Ginataang Monggo Recipe",
          "Jean's Graham Mango Float",
          "Minatamis na Saging",
          "Homemade Mashed Potatoes",
          "Fruit Salad Recipe",
          "Palitaw Recipe",
          "Pichi-Pichi Recipe",
          "Kutsinta Recipe"
         ],
         "legendgroup": "6",
         "marker": {
          "color": "rgb(230, 131, 16)",
          "size": 5,
          "symbol": "circle"
         },
         "mode": "markers",
         "name": "6",
         "showlegend": true,
         "type": "scattergl",
         "x": [
          0.5539209842681885,
          0.679206907749176,
          0.568890392780304,
          0.6282597184181213,
          0.6804055571556091,
          0.6189416646957397,
          0.6480849385261536,
          0.6191859245300293,
          0.7059906721115112,
          0.47179800271987915,
          0.6242306232452393,
          0.6376937627792358,
          0.5870773196220398,
          0.689616322517395,
          0.6848592162132263,
          0.2892969846725464,
          0.5389087200164795,
          0.49379146099090576,
          0.641559898853302,
          0.5209325551986694,
          0.5478706955909729,
          0.5704551935195923,
          0.49334120750427246,
          0.6499248743057251,
          0.5580628514289856,
          0.32993197441101074,
          0.6653581857681274,
          0.4042779207229614,
          0.5389087200164795,
          0.5927224159240723,
          0.58664470911026,
          0.6066974401473999,
          0.6011905670166016,
          0.4578792452812195,
          0.6841768622398376,
          0.6104525327682495,
          0.5870773196220398,
          0.5823845267295837,
          0.6035497188568115,
          0.5382283926010132,
          0.6567162871360779,
          0.6767306327819824,
          0.7013087868690491,
          0.6066224575042725,
          0.6360256671905518,
          0.6360256671905518,
          0.6284834146499634,
          0.6798427104949951,
          0.4612603187561035,
          0.44242286682128906,
          0.5793646574020386,
          0.5929633975028992,
          0.6655726432800293,
          0.640056848526001,
          0.6735180616378784,
          0.6707320809364319,
          0.6581903100013733,
          0.6189416646957397,
          0.599947452545166,
          0.5358214974403381
         ],
         "xaxis": "x",
         "y": [
          0.3542864918708801,
          0.4076313376426697,
          0.40207579731941223,
          0.4382135570049286,
          0.35686877369880676,
          0.4061422049999237,
          0.3969889283180237,
          0.43524205684661865,
          0.3640879690647125,
          0.5012329816818237,
          0.44945770502090454,
          0.3944895267486572,
          0.31094110012054443,
          0.3669818043708801,
          0.36962229013442993,
          0.252692312002182,
          0.5546539425849915,
          0.21804358065128326,
          0.3940716087818146,
          0.3778958022594452,
          0.4023209810256958,
          0.3591136336326599,
          0.38755661249160767,
          0.4233207106590271,
          0.4179961681365967,
          0.25395888090133667,
          0.37190037965774536,
          0.2734711766242981,
          0.5546539425849915,
          0.4407057762145996,
          0.4352572560310364,
          0.30926090478897095,
          0.4899035394191742,
          0.2542896270751953,
          0.36504265666007996,
          0.3908805251121521,
          0.31094110012054443,
          0.38187143206596375,
          0.2871811091899872,
          0.263313353061676,
          0.35736188292503357,
          0.3855487108230591,
          0.36514022946357727,
          0.3207145631313324,
          0.3368379771709442,
          0.3368379771709442,
          0.41754835844039917,
          0.36754876375198364,
          0.41465792059898376,
          0.4313047230243683,
          0.499897301197052,
          0.3914259076118469,
          0.35978004336357117,
          0.3797608017921448,
          0.4184635281562805,
          0.40613988041877747,
          0.4242636561393738,
          0.4061422049999237,
          0.3084593117237091,
          0.488334596157074
         ],
         "yaxis": "y"
        }
       ],
       "layout": {
        "height": 1000,
        "legend": {
         "title": {
          "text": "cluster"
         },
         "tracegroupgap": 0
        },
        "margin": {
         "t": 60
        },
        "template": {
         "data": {
          "bar": [
           {
            "error_x": {
             "color": "#2a3f5f"
            },
            "error_y": {
             "color": "#2a3f5f"
            },
            "marker": {
             "line": {
              "color": "#E5ECF6",
              "width": 0.5
             },
             "pattern": {
              "fillmode": "overlay",
              "size": 10,
              "solidity": 0.2
             }
            },
            "type": "bar"
           }
          ],
          "barpolar": [
           {
            "marker": {
             "line": {
              "color": "#E5ECF6",
              "width": 0.5
             },
             "pattern": {
              "fillmode": "overlay",
              "size": 10,
              "solidity": 0.2
             }
            },
            "type": "barpolar"
           }
          ],
          "carpet": [
           {
            "aaxis": {
             "endlinecolor": "#2a3f5f",
             "gridcolor": "white",
             "linecolor": "white",
             "minorgridcolor": "white",
             "startlinecolor": "#2a3f5f"
            },
            "baxis": {
             "endlinecolor": "#2a3f5f",
             "gridcolor": "white",
             "linecolor": "white",
             "minorgridcolor": "white",
             "startlinecolor": "#2a3f5f"
            },
            "type": "carpet"
           }
          ],
          "choropleth": [
           {
            "colorbar": {
             "outlinewidth": 0,
             "ticks": ""
            },
            "type": "choropleth"
           }
          ],
          "contour": [
           {
            "colorbar": {
             "outlinewidth": 0,
             "ticks": ""
            },
            "colorscale": [
             [
              0,
              "#0d0887"
             ],
             [
              0.1111111111111111,
              "#46039f"
             ],
             [
              0.2222222222222222,
              "#7201a8"
             ],
             [
              0.3333333333333333,
              "#9c179e"
             ],
             [
              0.4444444444444444,
              "#bd3786"
             ],
             [
              0.5555555555555556,
              "#d8576b"
             ],
             [
              0.6666666666666666,
              "#ed7953"
             ],
             [
              0.7777777777777778,
              "#fb9f3a"
             ],
             [
              0.8888888888888888,
              "#fdca26"
             ],
             [
              1,
              "#f0f921"
             ]
            ],
            "type": "contour"
           }
          ],
          "contourcarpet": [
           {
            "colorbar": {
             "outlinewidth": 0,
             "ticks": ""
            },
            "type": "contourcarpet"
           }
          ],
          "heatmap": [
           {
            "colorbar": {
             "outlinewidth": 0,
             "ticks": ""
            },
            "colorscale": [
             [
              0,
              "#0d0887"
             ],
             [
              0.1111111111111111,
              "#46039f"
             ],
             [
              0.2222222222222222,
              "#7201a8"
             ],
             [
              0.3333333333333333,
              "#9c179e"
             ],
             [
              0.4444444444444444,
              "#bd3786"
             ],
             [
              0.5555555555555556,
              "#d8576b"
             ],
             [
              0.6666666666666666,
              "#ed7953"
             ],
             [
              0.7777777777777778,
              "#fb9f3a"
             ],
             [
              0.8888888888888888,
              "#fdca26"
             ],
             [
              1,
              "#f0f921"
             ]
            ],
            "type": "heatmap"
           }
          ],
          "heatmapgl": [
           {
            "colorbar": {
             "outlinewidth": 0,
             "ticks": ""
            },
            "colorscale": [
             [
              0,
              "#0d0887"
             ],
             [
              0.1111111111111111,
              "#46039f"
             ],
             [
              0.2222222222222222,
              "#7201a8"
             ],
             [
              0.3333333333333333,
              "#9c179e"
             ],
             [
              0.4444444444444444,
              "#bd3786"
             ],
             [
              0.5555555555555556,
              "#d8576b"
             ],
             [
              0.6666666666666666,
              "#ed7953"
             ],
             [
              0.7777777777777778,
              "#fb9f3a"
             ],
             [
              0.8888888888888888,
              "#fdca26"
             ],
             [
              1,
              "#f0f921"
             ]
            ],
            "type": "heatmapgl"
           }
          ],
          "histogram": [
           {
            "marker": {
             "pattern": {
              "fillmode": "overlay",
              "size": 10,
              "solidity": 0.2
             }
            },
            "type": "histogram"
           }
          ],
          "histogram2d": [
           {
            "colorbar": {
             "outlinewidth": 0,
             "ticks": ""
            },
            "colorscale": [
             [
              0,
              "#0d0887"
             ],
             [
              0.1111111111111111,
              "#46039f"
             ],
             [
              0.2222222222222222,
              "#7201a8"
             ],
             [
              0.3333333333333333,
              "#9c179e"
             ],
             [
              0.4444444444444444,
              "#bd3786"
             ],
             [
              0.5555555555555556,
              "#d8576b"
             ],
             [
              0.6666666666666666,
              "#ed7953"
             ],
             [
              0.7777777777777778,
              "#fb9f3a"
             ],
             [
              0.8888888888888888,
              "#fdca26"
             ],
             [
              1,
              "#f0f921"
             ]
            ],
            "type": "histogram2d"
           }
          ],
          "histogram2dcontour": [
           {
            "colorbar": {
             "outlinewidth": 0,
             "ticks": ""
            },
            "colorscale": [
             [
              0,
              "#0d0887"
             ],
             [
              0.1111111111111111,
              "#46039f"
             ],
             [
              0.2222222222222222,
              "#7201a8"
             ],
             [
              0.3333333333333333,
              "#9c179e"
             ],
             [
              0.4444444444444444,
              "#bd3786"
             ],
             [
              0.5555555555555556,
              "#d8576b"
             ],
             [
              0.6666666666666666,
              "#ed7953"
             ],
             [
              0.7777777777777778,
              "#fb9f3a"
             ],
             [
              0.8888888888888888,
              "#fdca26"
             ],
             [
              1,
              "#f0f921"
             ]
            ],
            "type": "histogram2dcontour"
           }
          ],
          "mesh3d": [
           {
            "colorbar": {
             "outlinewidth": 0,
             "ticks": ""
            },
            "type": "mesh3d"
           }
          ],
          "parcoords": [
           {
            "line": {
             "colorbar": {
              "outlinewidth": 0,
              "ticks": ""
             }
            },
            "type": "parcoords"
           }
          ],
          "pie": [
           {
            "automargin": true,
            "type": "pie"
           }
          ],
          "scatter": [
           {
            "fillpattern": {
             "fillmode": "overlay",
             "size": 10,
             "solidity": 0.2
            },
            "type": "scatter"
           }
          ],
          "scatter3d": [
           {
            "line": {
             "colorbar": {
              "outlinewidth": 0,
              "ticks": ""
             }
            },
            "marker": {
             "colorbar": {
              "outlinewidth": 0,
              "ticks": ""
             }
            },
            "type": "scatter3d"
           }
          ],
          "scattercarpet": [
           {
            "marker": {
             "colorbar": {
              "outlinewidth": 0,
              "ticks": ""
             }
            },
            "type": "scattercarpet"
           }
          ],
          "scattergeo": [
           {
            "marker": {
             "colorbar": {
              "outlinewidth": 0,
              "ticks": ""
             }
            },
            "type": "scattergeo"
           }
          ],
          "scattergl": [
           {
            "marker": {
             "colorbar": {
              "outlinewidth": 0,
              "ticks": ""
             }
            },
            "type": "scattergl"
           }
          ],
          "scattermapbox": [
           {
            "marker": {
             "colorbar": {
              "outlinewidth": 0,
              "ticks": ""
             }
            },
            "type": "scattermapbox"
           }
          ],
          "scatterpolar": [
           {
            "marker": {
             "colorbar": {
              "outlinewidth": 0,
              "ticks": ""
             }
            },
            "type": "scatterpolar"
           }
          ],
          "scatterpolargl": [
           {
            "marker": {
             "colorbar": {
              "outlinewidth": 0,
              "ticks": ""
             }
            },
            "type": "scatterpolargl"
           }
          ],
          "scatterternary": [
           {
            "marker": {
             "colorbar": {
              "outlinewidth": 0,
              "ticks": ""
             }
            },
            "type": "scatterternary"
           }
          ],
          "surface": [
           {
            "colorbar": {
             "outlinewidth": 0,
             "ticks": ""
            },
            "colorscale": [
             [
              0,
              "#0d0887"
             ],
             [
              0.1111111111111111,
              "#46039f"
             ],
             [
              0.2222222222222222,
              "#7201a8"
             ],
             [
              0.3333333333333333,
              "#9c179e"
             ],
             [
              0.4444444444444444,
              "#bd3786"
             ],
             [
              0.5555555555555556,
              "#d8576b"
             ],
             [
              0.6666666666666666,
              "#ed7953"
             ],
             [
              0.7777777777777778,
              "#fb9f3a"
             ],
             [
              0.8888888888888888,
              "#fdca26"
             ],
             [
              1,
              "#f0f921"
             ]
            ],
            "type": "surface"
           }
          ],
          "table": [
           {
            "cells": {
             "fill": {
              "color": "#EBF0F8"
             },
             "line": {
              "color": "white"
             }
            },
            "header": {
             "fill": {
              "color": "#C8D4E3"
             },
             "line": {
              "color": "white"
             }
            },
            "type": "table"
           }
          ]
         },
         "layout": {
          "annotationdefaults": {
           "arrowcolor": "#2a3f5f",
           "arrowhead": 0,
           "arrowwidth": 1
          },
          "autotypenumbers": "strict",
          "coloraxis": {
           "colorbar": {
            "outlinewidth": 0,
            "ticks": ""
           }
          },
          "colorscale": {
           "diverging": [
            [
             0,
             "#8e0152"
            ],
            [
             0.1,
             "#c51b7d"
            ],
            [
             0.2,
             "#de77ae"
            ],
            [
             0.3,
             "#f1b6da"
            ],
            [
             0.4,
             "#fde0ef"
            ],
            [
             0.5,
             "#f7f7f7"
            ],
            [
             0.6,
             "#e6f5d0"
            ],
            [
             0.7,
             "#b8e186"
            ],
            [
             0.8,
             "#7fbc41"
            ],
            [
             0.9,
             "#4d9221"
            ],
            [
             1,
             "#276419"
            ]
           ],
           "sequential": [
            [
             0,
             "#0d0887"
            ],
            [
             0.1111111111111111,
             "#46039f"
            ],
            [
             0.2222222222222222,
             "#7201a8"
            ],
            [
             0.3333333333333333,
             "#9c179e"
            ],
            [
             0.4444444444444444,
             "#bd3786"
            ],
            [
             0.5555555555555556,
             "#d8576b"
            ],
            [
             0.6666666666666666,
             "#ed7953"
            ],
            [
             0.7777777777777778,
             "#fb9f3a"
            ],
            [
             0.8888888888888888,
             "#fdca26"
            ],
            [
             1,
             "#f0f921"
            ]
           ],
           "sequentialminus": [
            [
             0,
             "#0d0887"
            ],
            [
             0.1111111111111111,
             "#46039f"
            ],
            [
             0.2222222222222222,
             "#7201a8"
            ],
            [
             0.3333333333333333,
             "#9c179e"
            ],
            [
             0.4444444444444444,
             "#bd3786"
            ],
            [
             0.5555555555555556,
             "#d8576b"
            ],
            [
             0.6666666666666666,
             "#ed7953"
            ],
            [
             0.7777777777777778,
             "#fb9f3a"
            ],
            [
             0.8888888888888888,
             "#fdca26"
            ],
            [
             1,
             "#f0f921"
            ]
           ]
          },
          "colorway": [
           "#636efa",
           "#EF553B",
           "#00cc96",
           "#ab63fa",
           "#FFA15A",
           "#19d3f3",
           "#FF6692",
           "#B6E880",
           "#FF97FF",
           "#FECB52"
          ],
          "font": {
           "color": "#2a3f5f"
          },
          "geo": {
           "bgcolor": "white",
           "lakecolor": "white",
           "landcolor": "#E5ECF6",
           "showlakes": true,
           "showland": true,
           "subunitcolor": "white"
          },
          "hoverlabel": {
           "align": "left"
          },
          "hovermode": "closest",
          "mapbox": {
           "style": "light"
          },
          "paper_bgcolor": "white",
          "plot_bgcolor": "#E5ECF6",
          "polar": {
           "angularaxis": {
            "gridcolor": "white",
            "linecolor": "white",
            "ticks": ""
           },
           "bgcolor": "#E5ECF6",
           "radialaxis": {
            "gridcolor": "white",
            "linecolor": "white",
            "ticks": ""
           }
          },
          "scene": {
           "xaxis": {
            "backgroundcolor": "#E5ECF6",
            "gridcolor": "white",
            "gridwidth": 2,
            "linecolor": "white",
            "showbackground": true,
            "ticks": "",
            "zerolinecolor": "white"
           },
           "yaxis": {
            "backgroundcolor": "#E5ECF6",
            "gridcolor": "white",
            "gridwidth": 2,
            "linecolor": "white",
            "showbackground": true,
            "ticks": "",
            "zerolinecolor": "white"
           },
           "zaxis": {
            "backgroundcolor": "#E5ECF6",
            "gridcolor": "white",
            "gridwidth": 2,
            "linecolor": "white",
            "showbackground": true,
            "ticks": "",
            "zerolinecolor": "white"
           }
          },
          "shapedefaults": {
           "line": {
            "color": "#2a3f5f"
           }
          },
          "ternary": {
           "aaxis": {
            "gridcolor": "white",
            "linecolor": "white",
            "ticks": ""
           },
           "baxis": {
            "gridcolor": "white",
            "linecolor": "white",
            "ticks": ""
           },
           "bgcolor": "#E5ECF6",
           "caxis": {
            "gridcolor": "white",
            "linecolor": "white",
            "ticks": ""
           }
          },
          "title": {
           "x": 0.05
          },
          "xaxis": {
           "automargin": true,
           "gridcolor": "white",
           "linecolor": "white",
           "ticks": "",
           "title": {
            "standoff": 15
           },
           "zerolinecolor": "white",
           "zerolinewidth": 2
          },
          "yaxis": {
           "automargin": true,
           "gridcolor": "white",
           "linecolor": "white",
           "ticks": "",
           "title": {
            "standoff": 15
           },
           "zerolinecolor": "white",
           "zerolinewidth": 2
          }
         }
        },
        "title": {
         "text": "Ingredient-Based Clustering of Filipino Dishes"
        },
        "updatemenus": [
         {
          "buttons": [
           {
            "args": [
             {
              "visible": [
               true,
               false,
               false,
               false,
               false,
               false,
               false
              ]
             },
             {
              "title": "Ingredient-Based Clustering - Cluster 1"
             }
            ],
            "label": "Cluster 1",
            "method": "update"
           },
           {
            "args": [
             {
              "visible": [
               false,
               true,
               false,
               false,
               false,
               false,
               false
              ]
             },
             {
              "title": "Ingredient-Based Clustering - Cluster 3"
             }
            ],
            "label": "Cluster 3",
            "method": "update"
           },
           {
            "args": [
             {
              "visible": [
               false,
               false,
               true,
               false,
               false,
               false,
               false
              ]
             },
             {
              "title": "Ingredient-Based Clustering - Cluster 0"
             }
            ],
            "label": "Cluster 0",
            "method": "update"
           },
           {
            "args": [
             {
              "visible": [
               false,
               false,
               false,
               true,
               false,
               false,
               false
              ]
             },
             {
              "title": "Ingredient-Based Clustering - Cluster 2"
             }
            ],
            "label": "Cluster 2",
            "method": "update"
           },
           {
            "args": [
             {
              "visible": [
               false,
               false,
               false,
               false,
               true,
               false,
               false
              ]
             },
             {
              "title": "Ingredient-Based Clustering - Cluster 5"
             }
            ],
            "label": "Cluster 5",
            "method": "update"
           },
           {
            "args": [
             {
              "visible": [
               false,
               false,
               false,
               false,
               false,
               true,
               false
              ]
             },
             {
              "title": "Ingredient-Based Clustering - Cluster 4"
             }
            ],
            "label": "Cluster 4",
            "method": "update"
           },
           {
            "args": [
             {
              "visible": [
               false,
               false,
               false,
               false,
               false,
               false,
               true
              ]
             },
             {
              "title": "Ingredient-Based Clustering - Cluster 6"
             }
            ],
            "label": "Cluster 6",
            "method": "update"
           }
          ],
          "direction": "down",
          "type": "buttons"
         }
        ],
        "width": 800,
        "xaxis": {
         "anchor": "y",
         "domain": [
          0,
          1
         ],
         "title": {
          "text": "x"
         }
        },
        "yaxis": {
         "anchor": "x",
         "domain": [
          0,
          1
         ],
         "title": {
          "text": "y"
         }
        }
       }
      }
     },
     "metadata": {},
     "output_type": "display_data"
    }
   ],
   "source": [
    "import plotly.express as px\n",
    "import pandas as pd\n",
    "\n",
    "\n",
    "def plot_clusters_3d(reduced_embeddings, cluster_labels, recipe_df):\n",
    "    \"\"\"Plots a 3D scatter plot of recipe clusters.\"\"\"\n",
    "\n",
    "    final_df = pd.DataFrame(\n",
    "        {\n",
    "            \"x\": reduced_embeddings[:, 0],\n",
    "            \"y\": reduced_embeddings[:, 1],\n",
    "            # \"z\": reduced_embeddings[:, 2],\n",
    "            \"cluster\": cluster_labels.astype(str),\n",
    "            \"recipe_name\": recipe_df[\"name\"],\n",
    "            \"final_ingredients\": [\n",
    "                \"<br>\".join(ingredients)\n",
    "                for ingredients in recipe_df.final_ingredients\n",
    "            ],\n",
    "        }\n",
    "    )\n",
    "\n",
    "    fig = px.scatter(\n",
    "        final_df,\n",
    "        x=\"x\",\n",
    "        y=\"y\",\n",
    "        # z=\"z\",\n",
    "        color=\"cluster\",\n",
    "        hover_name=\"recipe_name\",\n",
    "        hover_data=[\"final_ingredients\"],\n",
    "        width=800,\n",
    "        height=1000,\n",
    "        color_discrete_sequence=px.colors.qualitative.Bold,\n",
    "    )\n",
    "\n",
    "    fig.update_traces(marker=dict(size=5))\n",
    "    fig.update_layout(title=\"Ingredient-Based Clustering of Filipino Dishes\")\n",
    "\n",
    "    unique_clusters = final_df[\"cluster\"].unique()\n",
    "    buttons = [\n",
    "        dict(\n",
    "            label=f\"Cluster {cluster}\",\n",
    "            method=\"update\",\n",
    "            args=[\n",
    "                {\"visible\": [cluster == c for c in unique_clusters]},\n",
    "                {\"title\": f\"Ingredient-Based Clustering - Cluster {cluster}\"},\n",
    "            ],\n",
    "        )\n",
    "        for cluster in unique_clusters\n",
    "    ]\n",
    "    fig.update_layout(\n",
    "        updatemenus=[\n",
    "            dict(\n",
    "                type=\"buttons\",\n",
    "                direction=\"down\",\n",
    "                buttons=buttons,\n",
    "            )\n",
    "        ]\n",
    "    )\n",
    "\n",
    "    fig.show()\n",
    "\n",
    "\n",
    "plot_clusters_3d(reduced_embeddings, cluster_labels, recipe_df)"
   ]
  }
 ],
 "metadata": {
  "kernelspec": {
   "display_name": "venv",
   "language": "python",
   "name": "python3"
  },
  "language_info": {
   "codemirror_mode": {
    "name": "ipython",
    "version": 3
   },
   "file_extension": ".py",
   "mimetype": "text/x-python",
   "name": "python",
   "nbconvert_exporter": "python",
   "pygments_lexer": "ipython3",
   "version": "3.12.2"
  }
 },
 "nbformat": 4,
 "nbformat_minor": 2
}
