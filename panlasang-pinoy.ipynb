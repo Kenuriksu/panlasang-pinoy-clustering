{
 "cells": [
  {
   "cell_type": "markdown",
   "metadata": {},
   "source": [
    "# Ingredient-Based Clustering of Pinoy Dishes\n",
    "\n",
    "The ambition is to identify clusters of Filipino dishes based on their ingredients. The results can be used to define the most common ingredients of a Filipino pantry. This project leverages techniques from data mining, natural language processing, and unsupervised learning. The dataset is a collection of Filipino recipes from various online recipe websites. The dataset contains the name, ingredients, and instructions of the recipes. "
   ]
  },
  {
   "cell_type": "markdown",
   "metadata": {},
   "source": [
    "## Data loading and preview"
   ]
  },
  {
   "cell_type": "code",
   "execution_count": 1,
   "metadata": {},
   "outputs": [
    {
     "data": {
      "text/html": [
       "<div>\n",
       "<style scoped>\n",
       "    .dataframe tbody tr th:only-of-type {\n",
       "        vertical-align: middle;\n",
       "    }\n",
       "\n",
       "    .dataframe tbody tr th {\n",
       "        vertical-align: top;\n",
       "    }\n",
       "\n",
       "    .dataframe thead th {\n",
       "        text-align: right;\n",
       "    }\n",
       "</style>\n",
       "<table border=\"1\" class=\"dataframe\">\n",
       "  <thead>\n",
       "    <tr style=\"text-align: right;\">\n",
       "      <th></th>\n",
       "      <th>link</th>\n",
       "      <th>name</th>\n",
       "      <th>ingredients</th>\n",
       "      <th>instructions</th>\n",
       "    </tr>\n",
       "  </thead>\n",
       "  <tbody>\n",
       "    <tr>\n",
       "      <th>0</th>\n",
       "      <td>https://www.kawalingpinoy.com/cheese-cupcakes/</td>\n",
       "      <td>Cheese Cupcakes</td>\n",
       "      <td>[flour, sifted, baking powder, salt, butter, s...</td>\n",
       "      <td>[Line muffin pan with cupcake liners., In a la...</td>\n",
       "    </tr>\n",
       "    <tr>\n",
       "      <th>1</th>\n",
       "      <td>https://www.kawalingpinoy.com/adobong-sitaw-wi...</td>\n",
       "      <td>Adobong Sitaw with Pork</td>\n",
       "      <td>[canola oil, pork belly, cut into thin strips,...</td>\n",
       "      <td>[In a skillet over medium heat, heat oil. Add ...</td>\n",
       "    </tr>\n",
       "    <tr>\n",
       "      <th>2</th>\n",
       "      <td>https://www.kawalingpinoy.com/burger-steak/</td>\n",
       "      <td>Burger Steak</td>\n",
       "      <td>[white bread, torn into small pieces, beef bro...</td>\n",
       "      <td>[In a small bowl, soak bread in broth. Tear wi...</td>\n",
       "    </tr>\n",
       "    <tr>\n",
       "      <th>3</th>\n",
       "      <td>https://www.kawalingpinoy.com/chicken-menudo/</td>\n",
       "      <td>Chicken Menudo</td>\n",
       "      <td>[canola oil, red bell pepper, cored, seeded an...</td>\n",
       "      <td>[In a wide pan over medium heat, heat 1 tables...</td>\n",
       "    </tr>\n",
       "    <tr>\n",
       "      <th>4</th>\n",
       "      <td>https://www.kawalingpinoy.com/beef-salpicao/</td>\n",
       "      <td>Beef Salpicao</td>\n",
       "      <td>[ribeye steak, cut into 1-inch cubes, salt and...</td>\n",
       "      <td>[In a bowl, season beef with salt and pepper t...</td>\n",
       "    </tr>\n",
       "  </tbody>\n",
       "</table>\n",
       "</div>"
      ],
      "text/plain": [
       "                                                link                     name  \\\n",
       "0     https://www.kawalingpinoy.com/cheese-cupcakes/          Cheese Cupcakes   \n",
       "1  https://www.kawalingpinoy.com/adobong-sitaw-wi...  Adobong Sitaw with Pork   \n",
       "2        https://www.kawalingpinoy.com/burger-steak/             Burger Steak   \n",
       "3      https://www.kawalingpinoy.com/chicken-menudo/           Chicken Menudo   \n",
       "4       https://www.kawalingpinoy.com/beef-salpicao/            Beef Salpicao   \n",
       "\n",
       "                                         ingredients  \\\n",
       "0  [flour, sifted, baking powder, salt, butter, s...   \n",
       "1  [canola oil, pork belly, cut into thin strips,...   \n",
       "2  [white bread, torn into small pieces, beef bro...   \n",
       "3  [canola oil, red bell pepper, cored, seeded an...   \n",
       "4  [ribeye steak, cut into 1-inch cubes, salt and...   \n",
       "\n",
       "                                        instructions  \n",
       "0  [Line muffin pan with cupcake liners., In a la...  \n",
       "1  [In a skillet over medium heat, heat oil. Add ...  \n",
       "2  [In a small bowl, soak bread in broth. Tear wi...  \n",
       "3  [In a wide pan over medium heat, heat 1 tables...  \n",
       "4  [In a bowl, season beef with salt and pepper t...  "
      ]
     },
     "execution_count": 1,
     "metadata": {},
     "output_type": "execute_result"
    }
   ],
   "source": [
    "import json\n",
    "import os\n",
    "\n",
    "import pandas as pd\n",
    "\n",
    "\n",
    "def merge_recipe_data(path=\"data/recipes\"):\n",
    "    \"\"\"Combines all recipe data into a single list.\"\"\"\n",
    "    files = [file for file in os.listdir(path)]\n",
    "\n",
    "    recipes = []\n",
    "    for file in files:\n",
    "        file_path = os.path.join(path, file)\n",
    "        with open(file_path, encoding=\"utf-8\") as f:\n",
    "            recipe_data = json.load(f)\n",
    "            recipes.extend(recipe_data)\n",
    "\n",
    "    return recipes\n",
    "\n",
    "\n",
    "recipes = merge_recipe_data()\n",
    "recipe_df = pd.DataFrame(recipes)\n",
    "recipe_df.head()"
   ]
  },
  {
   "cell_type": "code",
   "execution_count": 2,
   "metadata": {},
   "outputs": [
    {
     "name": "stdout",
     "output_type": "stream",
     "text": [
      "<class 'pandas.core.frame.DataFrame'>\n",
      "RangeIndex: 2815 entries, 0 to 2814\n",
      "Data columns (total 4 columns):\n",
      " #   Column        Non-Null Count  Dtype \n",
      "---  ------        --------------  ----- \n",
      " 0   link          2815 non-null   object\n",
      " 1   name          2469 non-null   object\n",
      " 2   ingredients   2469 non-null   object\n",
      " 3   instructions  2469 non-null   object\n",
      "dtypes: object(4)\n",
      "memory usage: 88.1+ KB\n"
     ]
    }
   ],
   "source": [
    "recipe_df.info()"
   ]
  },
  {
   "cell_type": "markdown",
   "metadata": {},
   "source": [
    "### Discover patterns through visualization"
   ]
  },
  {
   "cell_type": "code",
   "execution_count": 3,
   "metadata": {},
   "outputs": [
    {
     "data": {
      "image/png": "[encoded data removed]",
      "text/plain": [
       "<Figure size 800x1000 with 2 Axes>"
      ]
     },
     "metadata": {},
     "output_type": "display_data"
    }
   ],
   "source": [
    "%matplotlib inline\n",
    "import matplotlib.pyplot as plt\n",
    "import seaborn as sns\n",
    "\n",
    "def plot_ingredient_analysis(\n",
    "    ingredient_series,\n",
    "    n=30,\n",
    "    show_distribution=True,\n",
    "    most_common=True,\n",
    "    figsize=(8, 10),\n",
    "):\n",
    "    \"\"\"Plots ingredient distributions and displays most/least common ingredients.\n",
    "\n",
    "    Args:\n",
    "        ingredient_series: A Series containing lists of ingredients.\n",
    "        n: Number of top/bottom ingredients to display.\n",
    "        show_distribution: If True, shows the ingredient distribution plot.\n",
    "        most_common: If True, shows the most common ingredients.\n",
    "        figsize: Size of the plot figure.\n",
    "    \"\"\"\n",
    "\n",
    "    all_ingredients = ingredient_series.dropna().explode()\n",
    "    ingredient_counts = all_ingredients.value_counts()\n",
    "\n",
    "    _, axs = plt.subplots(2, 1, figsize=figsize, gridspec_kw={\"height_ratios\": [1, 5]})\n",
    "\n",
    "    if show_distribution:\n",
    "        counts = ingredient_series.dropna().apply(len)\n",
    "        sns.histplot(counts, kde=True, binwidth=1, ax=axs[0])\n",
    "        axs[0].set_title(f\"Number of ingredients in {len(counts)} recipes\")\n",
    "        axs[0].set_xlabel(\"Number of ingredients\")\n",
    "        axs[0].set_ylabel(\"Number of recipes\")\n",
    "\n",
    "    if most_common:\n",
    "        top_n_ingredients = ingredient_counts.head(n)\n",
    "    else:\n",
    "        top_n_ingredients = ingredient_counts.tail(n)\n",
    "\n",
    "    ylabels = [\n",
    "        f\"{i[:20]:>20}{\"...\" if len(i) > 20 else \"\"}\"\n",
    "        for i in top_n_ingredients.index\n",
    "    ]\n",
    "    sns.barplot(\n",
    "        x=top_n_ingredients.values,\n",
    "        y=ylabels,\n",
    "        ax=axs[1]\n",
    "    )\n",
    "\n",
    "    indicator = \"Most\" if most_common else \"Least\"\n",
    "    axs[1].set_title(f\"Top {n} {indicator} Common Ingredients\")\n",
    "    axs[1].set_xlabel(\"Number of Recipes\")\n",
    "    axs[1].set_ylabel(\"Ingredient\")\n",
    "\n",
    "    plt.tight_layout()\n",
    "    plt.show()\n",
    "\n",
    "plot_ingredient_analysis(recipe_df[\"ingredients\"])"
   ]
  },
  {
   "cell_type": "markdown",
   "metadata": {},
   "source": [
    "## Preprocessing\n"
   ]
  },
  {
   "cell_type": "markdown",
   "metadata": {},
   "source": [
    "### Remove recipes with no ingredients"
   ]
  },
  {
   "cell_type": "code",
   "execution_count": 4,
   "metadata": {},
   "outputs": [
    {
     "name": "stdout",
     "output_type": "stream",
     "text": [
      "<class 'pandas.core.frame.DataFrame'>\n",
      "Index: 2469 entries, 0 to 2814\n",
      "Data columns (total 4 columns):\n",
      " #   Column        Non-Null Count  Dtype \n",
      "---  ------        --------------  ----- \n",
      " 0   link          2469 non-null   object\n",
      " 1   name          2469 non-null   object\n",
      " 2   ingredients   2469 non-null   object\n",
      " 3   instructions  2469 non-null   object\n",
      "dtypes: object(4)\n",
      "memory usage: 96.4+ KB\n"
     ]
    }
   ],
   "source": [
    "recipe_df = recipe_df.dropna(subset=[\"ingredients\"])\n",
    "recipe_df.info()"
   ]
  },
  {
   "cell_type": "markdown",
   "metadata": {},
   "source": [
    "### Tokenize"
   ]
  },
  {
   "cell_type": "code",
   "execution_count": 5,
   "metadata": {},
   "outputs": [
    {
     "name": "stdout",
     "output_type": "stream",
     "text": [
      "text       lemma      pos    tag    dep       is_alpha\n",
      "---------  ---------  -----  -----  --------  ----------\n",
      "small      small      ADJ    JJ     amod      True\n",
      "lemon      lemon      NOUN   NN     compound  True\n",
      "lemons     lemon      NOUN   NNS    ROOT      True\n",
      "or         or         CCONJ  CC     cc        True\n",
      "6          6          NUM    CD     quantmod  False\n",
      "to         to         PART   TO     quantmod  True\n",
      "7          7          NUM    CD     nummod    False\n",
      "pieces     piece      NOUN   NNS    conj      True\n",
      "calamansi  calamansi  PROPN  NNP    npadvmod  True\n"
     ]
    }
   ],
   "source": [
    "import spacy\n",
    "from tabulate import tabulate\n",
    "\n",
    "nlp = spacy.load(\"en_core_web_lg\")\n",
    "\n",
    "\n",
    "def display_tokens(text):\n",
    "    \"\"\"Display token attributes of a given string.\"\"\",\n",
    "    rows = []\n",
    "    for token in nlp(text):\n",
    "        row = [\n",
    "            token.text,\n",
    "            token.lemma_,\n",
    "            token.pos_,\n",
    "            token.tag_,\n",
    "            token.dep_,\n",
    "            token.is_alpha,\n",
    "        ]\n",
    "        rows.append(row)\n",
    "    headers = [\"text\", \"lemma\", \"pos\", \"tag\", \"dep\", \"is_alpha\"]\n",
    "    print(tabulate(rows, headers=headers))\n",
    "\n",
    "\n",
    "SAMPLE_INGREDIENT = \"small lemon lemons or 6 to 7 pieces calamansi\"\n",
    "display_tokens(SAMPLE_INGREDIENT)"
   ]
  },
  {
   "cell_type": "markdown",
   "metadata": {},
   "source": [
    "### Lemmatize and remove non-ingredient words"
   ]
  },
  {
   "cell_type": "code",
   "execution_count": 6,
   "metadata": {},
   "outputs": [
    {
     "name": "stdout",
     "output_type": "stream",
     "text": [
      "text       lemma      pos    tag    dep       is_alpha\n",
      "---------  ---------  -----  -----  --------  ----------\n",
      "lemon      lemon      NOUN   NN     compound  True\n",
      "lemon      lemon      NOUN   NN     compound  True\n",
      "piece      piece      NOUN   NN     compound  True\n",
      "calamansi  calamansi  NOUN   NN     ROOT      True\n"
     ]
    }
   ],
   "source": [
    "def lemmatize_valid_nouns(ingredient):\n",
    "    \"\"\"Lemmatize valid nouns in a string.\"\"\",\n",
    "    doc = nlp(ingredient)\n",
    "    valid_lemmas = []\n",
    "    for token in doc:\n",
    "        outliers = [\"cauliflower\", \"baking\"]\n",
    "        if token.text in outliers:\n",
    "            token.pos_ = \"NOUN\"  # Override POS tag for some words\n",
    "\n",
    "        if (\n",
    "            token.is_alpha\n",
    "            and not token.is_stop\n",
    "            and token.pos_ in [\"NOUN\", \"PROPN\"]\n",
    "        ):\n",
    "            valid_lemmas.append(token.lemma_)\n",
    "    return \" \".join(valid_lemmas)\n",
    "\n",
    "\n",
    "lemmatized = lemmatize_valid_nouns(SAMPLE_INGREDIENT)\n",
    "display_tokens(lemmatized)"
   ]
  },
  {
   "cell_type": "markdown",
   "metadata": {},
   "source": [
    "### Remove culinary stop words"
   ]
  },
  {
   "cell_type": "code",
   "execution_count": 7,
   "metadata": {},
   "outputs": [
    {
     "name": "stdout",
     "output_type": "stream",
     "text": [
      "text       lemma      pos    tag    dep       is_alpha\n",
      "---------  ---------  -----  -----  --------  ----------\n",
      "lemon      lemon      NOUN   NN     compound  True\n",
      "lemon      lemon      NOUN   NN     compound  True\n",
      "calamansi  calamansi  PROPN  NNP    ROOT      True\n"
     ]
    }
   ],
   "source": [
    "with open(f\"data/culinary_stopwords.txt\", encoding=\"utf-8\") as file:\n",
    "    stopwords = [line.strip() for line in file]\n",
    "\n",
    "\n",
    "def filter_stopwords(text):\n",
    "    \"\"\"Filter out stopwords from a string.\"\"\"\n",
    "    meaningful_terms = []\n",
    "    for term in text.split():\n",
    "        if term not in stopwords:\n",
    "            meaningful_terms.append(term)\n",
    "    return \" \".join(meaningful_terms)\n",
    "\n",
    "\n",
    "filtered = filter_stopwords(lemmatized)\n",
    "display_tokens(filtered)"
   ]
  },
  {
   "cell_type": "markdown",
   "metadata": {},
   "source": [
    "### Handle synonyms at word level"
   ]
  },
  {
   "cell_type": "code",
   "execution_count": 8,
   "metadata": {},
   "outputs": [
    {
     "name": "stdout",
     "output_type": "stream",
     "text": [
      "text    lemma    pos    tag    dep       is_alpha\n",
      "------  -------  -----  -----  --------  ----------\n",
      "lemon   lemon    NOUN   NN     compound  True\n",
      "lemon   lemon    NOUN   NN     compound  True\n",
      "lemon   lemon    NOUN   NN     ROOT      True\n"
     ]
    }
   ],
   "source": [
    "with open(\"data/word_synonyms.json\") as file:\n",
    "    word_synonyms = json.load(file)\n",
    "\n",
    "\n",
    "def handle_word_synonym(ingredient):\n",
    "    \"\"\"Replace ingredient synonyms with a common name.\"\"\"\n",
    "    common_words = []\n",
    "    for word in ingredient.split():\n",
    "        common_words.append(word_synonyms.get(word, word))\n",
    "    return \" \".join(common_words)\n",
    "\n",
    "\n",
    "normalized_words = handle_word_synonym(filtered)\n",
    "display_tokens(normalized_words)"
   ]
  },
  {
   "cell_type": "markdown",
   "metadata": {},
   "source": [
    "### Remove duplicate terms"
   ]
  },
  {
   "cell_type": "code",
   "execution_count": 9,
   "metadata": {},
   "outputs": [
    {
     "name": "stdout",
     "output_type": "stream",
     "text": [
      "text    lemma    pos    tag    dep    is_alpha\n",
      "------  -------  -----  -----  -----  ----------\n",
      "lemon   lemon    NOUN   NN     ROOT   True\n"
     ]
    }
   ],
   "source": [
    "def remove_duplicates(text):\n",
    "    \"\"\"Remove duplicate terms while preserving order.\"\"\"\n",
    "    seen = set()\n",
    "    unique = []\n",
    "    for ingredient in text.split():\n",
    "        if ingredient not in seen:\n",
    "            unique.append(ingredient)\n",
    "            seen.add(ingredient)\n",
    "    return \" \".join(unique)\n",
    "\n",
    "unique = remove_duplicates(normalized_words)\n",
    "display_tokens(unique)"
   ]
  },
  {
   "cell_type": "markdown",
   "metadata": {},
   "source": [
    "### Handle synonyms to standardize ingredients"
   ]
  },
  {
   "cell_type": "code",
   "execution_count": 10,
   "metadata": {},
   "outputs": [
    {
     "name": "stdout",
     "output_type": "stream",
     "text": [
      "text    lemma    pos    tag    dep    is_alpha\n",
      "------  -------  -----  -----  -----  ----------\n",
      "lemon   lemon    NOUN   NN     ROOT   True\n"
     ]
    }
   ],
   "source": [
    "with open(\"data/phrase_synonyms.json\") as file:\n",
    "    phrase_synonyms = json.load(file)\n",
    "\n",
    "\n",
    "def handle_phrase_synonym(ingredient):\n",
    "    \"\"\"Replace ingredient synonyms with a common name.\"\"\"\n",
    "    return phrase_synonyms.get(ingredient, ingredient)\n",
    "\n",
    "common_name = handle_phrase_synonym(unique)\n",
    "display_tokens(common_name)"
   ]
  },
  {
   "cell_type": "markdown",
   "metadata": {},
   "source": [
    "### Define the entire preprocessing pipeline"
   ]
  },
  {
   "cell_type": "code",
   "execution_count": 11,
   "metadata": {},
   "outputs": [
    {
     "data": {
      "text/plain": [
       "'lemon'"
      ]
     },
     "execution_count": 11,
     "metadata": {},
     "output_type": "execute_result"
    }
   ],
   "source": [
    "import re\n",
    "\n",
    "\n",
    "def preprocess_ingredient(ingredient):\n",
    "    \"\"\"Preprocess an ingredient string to extract key terms.\"\"\",\n",
    "    no_parenthesis = re.sub(r\"\\([^)]*\\)\", \"\", ingredient)\n",
    "    first_option = no_parenthesis.split(\" or \")[0]\n",
    "    formatted = first_option.lower().strip()\n",
    "\n",
    "    lemmatized = lemmatize_valid_nouns(formatted)\n",
    "    filtered = filter_stopwords(lemmatized)\n",
    "    word_synonym = handle_word_synonym(filtered)\n",
    "    unique = remove_duplicates(word_synonym)\n",
    "    phrase_synonym = handle_phrase_synonym(unique)\n",
    "\n",
    "    return phrase_synonym\n",
    "\n",
    "\n",
    "clean_ingredient = preprocess_ingredient(SAMPLE_INGREDIENT)\n",
    "clean_ingredient"
   ]
  },
  {
   "cell_type": "markdown",
   "metadata": {},
   "source": [
    "### Apply the preprocessing pipeline"
   ]
  },
  {
   "cell_type": "code",
   "execution_count": 12,
   "metadata": {},
   "outputs": [
    {
     "data": {
      "application/vnd.jupyter.widget-view+json": {
       "model_id": "de834e3f4582496081b2891fb2d9758a",
       "version_major": 2,
       "version_minor": 0
      },
      "text/plain": [
       "  0%|          | 0/2469 [00:00<?, ?it/s]"
      ]
     },
     "metadata": {},
     "output_type": "display_data"
    }
   ],
   "source": [
    "from tqdm.auto import tqdm\n",
    "\n",
    "\n",
    "def clean_ingredients(ingredients):\n",
    "    \"\"\"Applies preprocessing to a list of ingredients and flattens the list.\"\"\"\n",
    "    cleaned_ingredients = []\n",
    "    for ingredient in ingredients:\n",
    "        cleaned = preprocess_ingredient(ingredient)\n",
    "        if isinstance(cleaned, list):\n",
    "            cleaned_ingredients.extend(cleaned)\n",
    "        else:\n",
    "            cleaned_ingredients.append(cleaned)\n",
    "\n",
    "    return list(sorted(set(filter(None, cleaned_ingredients))))\n",
    "\n",
    "\n",
    "tqdm.pandas()\n",
    "\n",
    "recipe_df[\"cleaned_ingredients\"] = (\n",
    "    recipe_df[\"ingredients\"].progress_apply(clean_ingredients)\n",
    ")"
   ]
  },
  {
   "cell_type": "code",
   "execution_count": 13,
   "metadata": {},
   "outputs": [
    {
     "data": {
      "image/png": "[encoded data removed]",
      "text/plain": [
       "<Figure size 800x1000 with 2 Axes>"
      ]
     },
     "metadata": {},
     "output_type": "display_data"
    }
   ],
   "source": [
    "plot_ingredient_analysis(recipe_df[\"cleaned_ingredients\"])"
   ]
  },
  {
   "cell_type": "code",
   "execution_count": 14,
   "metadata": {},
   "outputs": [],
   "source": [
    "def save_ingredients(ingredient_series):\n",
    "    ingredients = ingredient_series.dropna().explode().unique().astype(str)\n",
    "    ingredients.sort()\n",
    "\n",
    "    filename = f\"data/{ingredient_series.name}.txt\"\n",
    "    with open(filename, \"w\", encoding=\"utf-8\") as file:\n",
    "        file.writelines(\"\\n\".join(ingredients))\n",
    "\n",
    "\n",
    "save_ingredients(recipe_df[\"cleaned_ingredients\"])"
   ]
  },
  {
   "cell_type": "code",
   "execution_count": 15,
   "metadata": {},
   "outputs": [],
   "source": [
    "recipe_df[[\"ingredients\", \"cleaned_ingredients\"]].to_json(\n",
    "    \"data/cleaned_recipes.json\",\n",
    "    indent=2,\n",
    "    orient=\"records\",\n",
    ")"
   ]
  },
  {
   "cell_type": "markdown",
   "metadata": {},
   "source": [
    "### Remove common ingredients not specific to Filipino cuisine"
   ]
  },
  {
   "cell_type": "code",
   "execution_count": 16,
   "metadata": {},
   "outputs": [
    {
     "data": {
      "image/png": "[encoded data removed]",
      "text/plain": [
       "<Figure size 800x1000 with 2 Axes>"
      ]
     },
     "metadata": {},
     "output_type": "display_data"
    }
   ],
   "source": [
    "ingredients_to_remove = [\n",
    "    \"oil\",\n",
    "    \"salt\",\n",
    "    \"onion\",\n",
    "    \"sugar\",\n",
    "    \"pepper\",\n",
    "    \"garlic\",\n",
    "]\n",
    "\n",
    "\n",
    "def remove_rare_ingredients(ingredients):\n",
    "    return [i for i in ingredients if i not in ingredients_to_remove]\n",
    "\n",
    "\n",
    "reduced_df = recipe_df.copy()\n",
    "\n",
    "reduced_df[\"cleaned_ingredients\"] = (\n",
    "    reduced_df[\"cleaned_ingredients\"].apply(remove_rare_ingredients)\n",
    ")\n",
    "\n",
    "plot_ingredient_analysis(reduced_df[\"cleaned_ingredients\"])"
   ]
  },
  {
   "cell_type": "markdown",
   "metadata": {},
   "source": [
    "### Remove rare ingredients"
   ]
  },
  {
   "cell_type": "code",
   "execution_count": 17,
   "metadata": {},
   "outputs": [],
   "source": [
    "counts = recipe_df[\"cleaned_ingredients\"].explode().value_counts()\n",
    "rare_ingredients = counts[counts <= 5].index\n",
    "\n",
    "with open(\"data/rare_ingredients.txt\", \"w\", encoding=\"utf-8\") as file:\n",
    "    file.writelines(\"\\n\".join(sorted(rare_ingredients)))"
   ]
  },
  {
   "cell_type": "code",
   "execution_count": 18,
   "metadata": {},
   "outputs": [
    {
     "data": {
      "image/png": "[encoded data removed]",
      "text/plain": [
       "<Figure size 800x1000 with 2 Axes>"
      ]
     },
     "metadata": {},
     "output_type": "display_data"
    }
   ],
   "source": [
    "def remove_rare_ingredients(ingredients):\n",
    "    \"\"\"Remove rare ingredients from a list.\"\"\"\n",
    "    return [\n",
    "        ingredient\n",
    "        for ingredient in ingredients\n",
    "        if ingredient not in rare_ingredients\n",
    "    ]\n",
    "\n",
    "reduced_df.loc[:, \"cleaned_ingredients\"] = (\n",
    "    reduced_df[\"cleaned_ingredients\"].apply(remove_rare_ingredients)\n",
    ")\n",
    "\n",
    "plot_ingredient_analysis(reduced_df[\"cleaned_ingredients\"])"
   ]
  },
  {
   "cell_type": "markdown",
   "metadata": {},
   "source": [
    "### Remove recipes with very few ingredients"
   ]
  },
  {
   "cell_type": "code",
   "execution_count": 19,
   "metadata": {},
   "outputs": [
    {
     "data": {
      "image/png": "[encoded data removed]",
      "text/plain": [
       "<Figure size 800x1000 with 2 Axes>"
      ]
     },
     "metadata": {},
     "output_type": "display_data"
    }
   ],
   "source": [
    "MIN_INGREDIENT = 4\n",
    "MAX_INGREDIENT = 9\n",
    "\n",
    "counts = reduced_df[\"cleaned_ingredients\"].apply(len)\n",
    "reduced_df = reduced_df[(counts >= MIN_INGREDIENT) & (counts <= MAX_INGREDIENT)]\n",
    "\n",
    "plot_ingredient_analysis(reduced_df[\"cleaned_ingredients\"])"
   ]
  },
  {
   "cell_type": "markdown",
   "metadata": {},
   "source": [
    "## Vectorization\n"
   ]
  },
  {
   "cell_type": "code",
   "execution_count": 20,
   "metadata": {},
   "outputs": [
    {
     "data": {
      "application/vnd.jupyter.widget-view+json": {
       "model_id": "1d2cab1c527f47e68606ff8f6a520f02",
       "version_major": 2,
       "version_minor": 0
      },
      "text/plain": [
       "Batches:   0%|          | 0/58 [00:00<?, ?it/s]"
      ]
     },
     "metadata": {},
     "output_type": "display_data"
    }
   ],
   "source": [
    "from sentence_transformers import SentenceTransformer\n",
    "\n",
    "model = SentenceTransformer(\"all-mpnet-base-v2\")\n",
    "embeddings = model.encode(\n",
    "    [\" \".join(sorted(ingredients)) for ingredients in reduced_df[\"ingredients\"]],\n",
    "    show_progress_bar=True,\n",
    ")"
   ]
  },
  {
   "cell_type": "code",
   "execution_count": 21,
   "metadata": {},
   "outputs": [
    {
     "data": {
      "text/plain": [
       "(1827, 768)"
      ]
     },
     "execution_count": 21,
     "metadata": {},
     "output_type": "execute_result"
    }
   ],
   "source": [
    "embeddings.shape"
   ]
  },
  {
   "cell_type": "markdown",
   "metadata": {},
   "source": [
    "## Dimensionality reduction"
   ]
  },
  {
   "cell_type": "code",
   "execution_count": 22,
   "metadata": {},
   "outputs": [],
   "source": [
    "from sklearn.decomposition import TruncatedSVD\n",
    "\n",
    "dimensions_to_keep = 3\n",
    "svd = TruncatedSVD(n_components=dimensions_to_keep)\n",
    "reduced_embeddings = svd.fit_transform(embeddings)"
   ]
  },
  {
   "cell_type": "markdown",
   "metadata": {},
   "source": [
    "## Clustering\n"
   ]
  },
  {
   "cell_type": "code",
   "execution_count": 23,
   "metadata": {},
   "outputs": [],
   "source": [
    "from sklearn.cluster import AgglomerativeClustering\n",
    "\n",
    "n_clusters = 7\n",
    "clustering = AgglomerativeClustering(n_clusters=n_clusters, linkage=\"ward\")\n",
    "cluster_labels = clustering.fit_predict(reduced_embeddings)"
   ]
  },
  {
   "cell_type": "markdown",
   "metadata": {},
   "source": [
    "## Visualization\n"
   ]
  },
  {
   "cell_type": "code",
   "execution_count": 24,
   "metadata": {},
   "outputs": [
    {
     "data": {
      "application/vnd.plotly.v1+json": {
       "config": {
        "plotlyServerURL": "https://plot.ly"
       },
       "data": [
        {
         "customdata": [
          [
           "baking<br>butter<br>cheese<br>egg<br>flour<br>milk"
          ],
          [
           "coconut cream<br>cornstarch<br>flour<br>jackfruit<br>mung bean<br>sago"
          ],
          [
           "coconut<br>coconut cream<br>flour<br>milk"
          ],
          [
           "breadcrumb<br>butter<br>egg<br>flour<br>milk<br>yeast"
          ],
          [
           "coconut<br>coconut cream<br>flour<br>jackfruit<br>milk"
          ],
          [
           "baking<br>cream tartar<br>egg<br>milk"
          ],
          [
           "coconut<br>coconut cream<br>flour<br>jackfruit<br>milk"
          ],
          [
           "butter<br>cashew<br>cream<br>milk"
          ],
          [
           "cheese<br>coconut<br>egg<br>flour<br>margarine<br>milk"
          ],
          [
           "baking<br>baking soda<br>egg<br>flour<br>milk<br>vanilla"
          ],
          [
           "coffee<br>egg<br>milk<br>vanilla"
          ],
          [
           "bread crumb<br>coconut<br>cornstarch<br>egg<br>shrimp"
          ],
          [
           "baking<br>butter<br>egg<br>flour<br>vanilla"
          ],
          [
           "cream tartar<br>egg<br>lemon<br>milk<br>vanilla"
          ],
          [
           "butter<br>egg<br>flour<br>vanilla"
          ],
          [
           "baking soda<br>butter<br>chocolate<br>coffee<br>milk<br>vanilla<br>vinegar"
          ],
          [
           "baking<br>butter<br>cream cheese<br>egg<br>graham cracker crumbs<br>lemon"
          ],
          [
           "bread<br>bread crumb<br>cheese<br>egg<br>hotdog<br>milk"
          ],
          [
           "bread crumb<br>butter<br>chocolate<br>egg<br>graham cracker crumbs<br>milk<br>yeast"
          ],
          [
           "bread crumb<br>butter<br>chocolate<br>cream cheese<br>egg<br>flour<br>milk<br>vanilla<br>yeast"
          ],
          [
           "cream<br>egg<br>graham<br>milk"
          ],
          [
           "baking<br>baking soda<br>butter<br>chocolate<br>egg<br>milk<br>vanilla"
          ],
          [
           "coconut<br>flour<br>milk<br>vanilla"
          ],
          [
           "coconut<br>jackfruit<br>milk<br>pandan<br>rice<br>spring wrapper"
          ],
          [
           "baking<br>baking soda<br>butter<br>cherry<br>chocolate<br>cream<br>egg<br>flour<br>milk"
          ],
          [
           "butter<br>cashew<br>cream tartar<br>egg<br>graham cracker crumbs<br>vanilla"
          ],
          [
           "baking<br>coconut<br>flour<br>milk"
          ],
          [
           "butter<br>egg<br>ice<br>milk"
          ],
          [
           "coconut<br>coconut cream<br>flour<br>milk<br>taro"
          ],
          [
           "cocktail<br>cream<br>graham<br>milk"
          ],
          [
           "almond<br>baking<br>butter<br>cake flour<br>cheese<br>egg<br>milk<br>vanilla"
          ],
          [
           "butter<br>egg<br>flour<br>milk<br>mung bean<br>yeast"
          ],
          [
           "butter<br>coconut<br>egg<br>flour<br>milk<br>vanilla<br>vegetable oil<br>yeast"
          ],
          [
           "butter<br>coconut<br>egg<br>milk<br>vanilla"
          ],
          [
           "coffee<br>cream<br>gelatin<br>milk"
          ],
          [
           "baking<br>butter<br>egg<br>milk"
          ],
          [
           "coconut<br>coconut cream<br>flour<br>milk"
          ],
          [
           "baking<br>butter<br>cheese<br>egg<br>milk<br>vanilla"
          ],
          [
           "butter<br>cassava<br>cheese<br>coconut cream<br>egg<br>milk"
          ],
          [
           "baking<br>banana<br>butter<br>cheese<br>coconut<br>duck egg<br>egg<br>flour<br>milk"
          ],
          [
           "baking<br>bread crumb<br>cheese<br>egg<br>flour<br>milk"
          ],
          [
           "baking soda<br>banana<br>egg<br>flour<br>vanilla"
          ],
          [
           "cream<br>egg<br>gelatin<br>milk<br>vanilla"
          ],
          [
           "baking<br>banana<br>egg<br>flour<br>milk<br>vanilla"
          ],
          [
           "baking soda<br>chocolate<br>egg<br>flour<br>mayonnaise<br>vanilla<br>walnut"
          ],
          [
           "baking<br>chocolate<br>egg<br>flour<br>vanilla"
          ],
          [
           "coconut<br>cornstarch<br>kernel corn<br>milk"
          ],
          [
           "baking<br>cake flour<br>egg<br>milk<br>vanilla"
          ],
          [
           "butter<br>egg<br>milk<br>walnut"
          ],
          [
           "baking<br>butter<br>cheese<br>coconut cream<br>egg<br>rice"
          ],
          [
           "baking<br>baking soda<br>butter<br>buttermilk<br>egg<br>flour<br>vanilla"
          ],
          [
           "baking soda<br>banana<br>egg<br>flour<br>raisin<br>vanilla"
          ],
          [
           "baking soda<br>banana<br>butter<br>cream<br>flour<br>vanilla<br>walnut"
          ],
          [
           "baking<br>egg<br>flour<br>milk<br>vanilla"
          ],
          [
           "baking<br>cheese<br>flour<br>milk<br>vanilla"
          ],
          [
           "banana<br>jackfruit<br>lumpia wrapper<br>vanilla"
          ],
          [
           "coconut<br>corn<br>cornstarch<br>cream<br>milk"
          ],
          [
           "baking soda<br>butter<br>chocolate<br>egg<br>flour<br>milk<br>vanilla"
          ],
          [
           "butter<br>chocolate<br>flour<br>vanilla"
          ],
          [
           "apple<br>baking soda<br>cinnamon<br>egg<br>flour<br>honey<br>milk<br>vanilla<br>walnut"
          ],
          [
           "cheese<br>coconut<br>egg<br>flour<br>margarine<br>milk"
          ],
          [
           "baking soda<br>banana<br>chocolate<br>egg<br>flour"
          ],
          [
           "baking<br>butter<br>corn<br>egg<br>honey"
          ],
          [
           "coconut<br>corn<br>milk<br>mung bean<br>rice<br>vanilla"
          ],
          [
           "almond<br>baking soda<br>butter<br>chocolate<br>flour<br>vanilla"
          ],
          [
           "banana<br>ice<br>milk<br>vanilla"
          ],
          [
           "baking<br>baking soda<br>cinnamon<br>egg<br>flour<br>nutmeg"
          ],
          [
           "baking<br>butter<br>cashew<br>chocolate<br>egg<br>flour<br>vanilla"
          ],
          [
           "baking<br>butter<br>chocolate<br>egg<br>flour<br>vanilla"
          ],
          [
           "baking soda<br>banana<br>egg<br>flour<br>vanilla"
          ],
          [
           "almond<br>butter<br>egg<br>flour<br>milk<br>nut<br>potato<br>vanilla"
          ],
          [
           "baking soda<br>butter<br>chocolate<br>egg<br>flour<br>vanilla"
          ],
          [
           "berry<br>ice<br>milk<br>vanilla<br>yogurt"
          ],
          [
           "baking<br>baking soda<br>butter<br>buttermilk<br>egg<br>flour"
          ],
          [
           "berry<br>ice<br>milk<br>vanilla<br>yogurt"
          ],
          [
           "baking<br>berry<br>egg<br>flour<br>milk"
          ],
          [
           "baking<br>baking soda<br>banana<br>butter<br>egg<br>flour<br>vanilla"
          ],
          [
           "baking<br>butter<br>cheese<br>egg<br>flour<br>graham cracker crumbs<br>lemon<br>milk<br>vanilla"
          ],
          [
           "baking soda<br>butter<br>buttermilk<br>corn<br>egg<br>flour<br>kernel corn"
          ],
          [
           "baking<br>butter<br>cheese<br>cherry<br>egg<br>flour<br>milk<br>walnut"
          ],
          [
           "baking<br>baking soda<br>butter<br>buttermilk<br>egg<br>flour<br>milk"
          ],
          [
           "coconut<br>flour<br>jackfruit<br>milk<br>vanilla<br>yam"
          ],
          [
           "baking soda<br>butter<br>chocolate<br>egg<br>flour<br>milk"
          ],
          [
           "baking<br>baking soda<br>butter<br>chocolate<br>cream<br>cream cheese<br>egg<br>flour<br>vanilla"
          ],
          [
           "baking<br>butter<br>egg<br>flour<br>milk<br>sausage<br>vanilla"
          ],
          [
           "baking<br>baking soda<br>buttermilk<br>egg<br>flour<br>raisin<br>vanilla<br>vegetable oil"
          ],
          [
           "chocolate<br>egg<br>flour<br>milk<br>vanilla<br>vegetable oil<br>walnut"
          ],
          [
           "baking<br>baking soda<br>banana<br>egg<br>flour<br>lemon<br>vanilla<br>vegetable oil<br>walnut"
          ],
          [
           "banana<br>coconut<br>coconut cream<br>milk<br>rice"
          ],
          [
           "baking soda<br>butter<br>chocolate<br>egg<br>flour<br>vanilla<br>walnut"
          ],
          [
           "banana<br>chocolate<br>egg<br>vegetable oil"
          ],
          [
           "baking<br>egg<br>flour<br>vanilla"
          ],
          [
           "baking<br>berry<br>egg<br>flour<br>milk<br>vegetable oil"
          ],
          [
           "baking<br>butter<br>corn<br>egg<br>flour<br>milk"
          ],
          [
           "berry<br>cake flour<br>cream<br>cream tartar<br>egg<br>vanilla"
          ],
          [
           "baking<br>butter<br>egg<br>flour<br>milk<br>pineapple"
          ],
          [
           "coconut<br>cream<br>milk<br>pineapple"
          ],
          [
           "bread crumb<br>egg<br>flour<br>milk<br>potato"
          ],
          [
           "baking<br>bread crumb<br>egg<br>flour<br>milk"
          ],
          [
           "cinnamon<br>egg<br>milk<br>nutmeg"
          ],
          [
           "baking<br>butter<br>cinnamon<br>egg<br>mango<br>nut<br>raisin<br>vanilla"
          ],
          [
           "baking soda<br>butter<br>buttermilk<br>cherry<br>chocolate<br>cream<br>egg<br>flour<br>vanilla"
          ],
          [
           "apple<br>butter<br>cinnamon<br>nutmeg"
          ],
          [
           "banana<br>butter<br>cornstarch<br>cream<br>egg<br>graham cracker crumbs<br>milk<br>vanilla"
          ],
          [
           "baking soda<br>butter<br>corn<br>peanut"
          ],
          [
           "cream<br>graham<br>mango<br>milk"
          ],
          [
           "butter<br>cinnamon<br>egg<br>milk<br>nutmeg<br>potato<br>vanilla"
          ],
          [
           "butter<br>coconut<br>cornstarch<br>flour<br>milk"
          ],
          [
           "baking soda<br>butter<br>egg<br>flour<br>vanilla"
          ],
          [
           "cream tartar<br>egg<br>milk<br>vanilla"
          ],
          [
           "coconut<br>kernel corn<br>milk<br>rice"
          ],
          [
           "baking<br>cake flour<br>cream tartar<br>egg<br>lemon<br>vegetable oil"
          ],
          [
           "baking<br>butter<br>corn<br>egg<br>flour<br>honey<br>kernel corn<br>milk"
          ],
          [
           "baking<br>butter<br>cinnamon<br>egg<br>flour<br>raisin<br>vanilla"
          ],
          [
           "butter<br>egg<br>flour<br>milk<br>vanilla"
          ],
          [
           "corn kernel<br>cornstarch<br>milk<br>peanut<br>raisin"
          ],
          [
           "baking<br>butter<br>chocolate<br>coffee<br>egg<br>flour<br>vanilla<br>walnut"
          ],
          [
           "berry<br>coconut<br>cream<br>milk"
          ],
          [
           "baking<br>cake flour<br>cream tartar<br>egg<br>lemon<br>milk"
          ],
          [
           "cream<br>cream cheese<br>egg<br>flour<br>graham<br>vanilla"
          ],
          [
           "baking<br>baking soda<br>butter<br>egg<br>flour<br>walnut"
          ],
          [
           "baking<br>butter<br>cake flour<br>cream<br>cream tartar<br>egg<br>milk<br>vanilla"
          ],
          [
           "baking<br>butter<br>chocolate<br>egg<br>flour<br>vanilla"
          ],
          [
           "butter<br>cheese<br>egg<br>flour<br>milk"
          ],
          [
           "butter<br>cassava<br>cheese<br>coconut<br>egg<br>milk"
          ],
          [
           "baking<br>bread crumb<br>butter<br>egg<br>flour<br>milk"
          ],
          [
           "baking<br>butter<br>cocktail<br>egg<br>gelatin<br>milk<br>vanilla"
          ],
          [
           "butter<br>coconut<br>egg<br>milk"
          ]
         ],
         "hovertemplate": "<b>%{hovertext}</b><br><br>cluster=1<br>x=%{x}<br>y=%{y}<br>z=%{z}<br>cleaned_ingredients=%{customdata[0]}<extra></extra>",
         "hovertext": [
          "Cheese Cupcakes",
          "Bibingkoy",
          "Kalamay Lansong",
          "Pandesal",
          "Kalamay sa Latik",
          "Ube Mamon",
          "Ginataang Bilo Bilo",
          "Polvoron",
          "Royal Bibingka",
          "Kababayan",
          "Coffee Flan",
          "Coconut Shrimp",
          "Uraro Cookies",
          "Brazo de Mercedes",
          "Lengua de Gato",
          "Moist Chocolate Cupcakes with Mocha Buttercream Frosting",
          "Calamansi Cheesecake Squares",
          "Cheese Dog Bread Rolls",
          "Chocolate Pandesal",
          "Red Velvet Pandesal",
          "Graham de Leche",
          "Impossible Chocolate Flan Cake",
          "Espasol",
          "Turon Malagkit",
          "Black Forest Swiss Roll",
          "Silvanas (Sylvanas)",
          "Puto",
          "Mini Egg Pies",
          "Kalamay Gabi",
          "Fruit Cocktail Graham Float",
          "Yema Cake",
          "Monggo Bread Loaf",
          "Pan de Coco",
          "Filipino Coconut Macaroons",
          "Coffee Jelly",
          "Leche Puto",
          "Kalamay Hati",
          "Cheese Puto",
          "Cassava Cake Recipe Creamy and Cheesy Version",
          "Bibingka Recipe",
          "Cheesy Onion Rings",
          "Banana Bread Recipe",
          "No Steam Easy Flan",
          "Banana Fritter Recipe",
          "Mayo Brownies",
          "Chocolate Crinkle Cookies",
          "Maja Blanca",
          "Puto Cake",
          "How to Make Yema",
          "Panlasang Pinoy Bibingkang Galapong",
          "Buttermilk Waffles",
          "Moist Banana Bread with Raisins",
          "Mini Banana Cake with Walnuts for Kids",
          "Leche Puto Recipe",
          "Cheese Puto Recipe",
          "Mini Turon Recipe (Banana Lumpia with Caramel)",
          "Creamy Mais Maja Blanca",
          "Oat Bran Chocolate Chip Cookie",
          "Microwave Brownie in a Bowl",
          "Apple Cake Recipe",
          "Royal Bibingka",
          "Dark Chocolate Banana Bread",
          "How to Make Cornbread for Beginners",
          "Ginataang Monggo at Mais",
          "Oatmeal Chocolate Chip Cookies",
          "Saging con Hielo",
          "Pumpkin Muffins",
          "Brownies Recipe",
          "How to Make Brownies",
          "Gluten Free Banana Bread with Almonds Recipe",
          "Sweet Potato Casserole",
          "White Chocolate Chip Cookie",
          "Blueberry Greek Yogurt Smoothie",
          "Delicious Whole Wheat Pancakes",
          "Strawberry Greek Yogurt Smoothie",
          "Yummy Blueberry Pancake Recipe",
          "Easy Banana Muffin",
          "Lemon Cupcake with Cream Cheese Frosting",
          "Buttermilk Cornbread",
          "Pineapple Cake",
          "Buttermilk Pancakes",
          "Sapin Sapin Recipe",
          "Ghostly Dark Chocolate Cupcake",
          "Chocolate Cupcake with Cream Cheese Frosting",
          "Sausage and Egg Waffle Sandwich",
          "Raisin Bran Muffin Recipe",
          "Fudge Brownies",
          "Banana Nut Muffin",
          "Bibingkang Malagkit Recipe",
          "Chocolate Chip Cookie Recipe",
          "Banana Chocolate Chip Muffin Recipe",
          "Jelly Roll",
          "Blueberry Muffins Recipe",
          "Cornbread Recipe",
          "Angel Food Cake with Strawberries",
          "Pineapple Upside Down Cake",
          "Buko Salad Recipe",
          "Potato Croquettes Recipe",
          "Onion Rings",
          "Pumpkin Pie",
          "Fruity Prune Cake",
          "Black Forest Cupcake Recipe",
          "Apple Pie Recipe",
          "How to Make Banana Cream Pie",
          "Peanut Brittle Recipe",
          "Jean's Graham Mango Float",
          "Sweet Potato Pie Recipe",
          "Buko Pie",
          "Sugar Cookie Recipe",
          "Brazo de Mercedes",
          "Ginataang Mais Recipe",
          "Mamon Recipe",
          "Cornbread Muffin Recipe",
          "Oatmeal Cookies",
          "Egg Pie Recipe",
          "Shared Recipe. Maja Blanca",
          "Brownies with Walnuts",
          "Fruit Salad Recipe",
          "Custard Cake Recipe",
          "New York Style Cheesecake",
          "Food for the Gods Recipe",
          "Vanilla Chiffon Cake",
          "Chocolate Cupcake Recipe",
          "Ensaymada Recipe",
          "Cassava Cake",
          "Pandesal",
          "Crema de Fruta Recipe",
          "Coconut Macaroon Recipe"
         ],
         "legendgroup": "1",
         "marker": {
          "color": "rgb(127, 60, 141)",
          "size": 5,
          "symbol": "circle"
         },
         "mode": "markers",
         "name": "1",
         "scene": "scene",
         "showlegend": true,
         "type": "scatter3d",
         "x": [
          0.666070282459259,
          0.7566360235214233,
          0.5640736222267151,
          0.6124342083930969,
          0.677069365978241,
          0.6800602674484253,
          0.7411226034164429,
          0.6188636422157288,
          0.705294668674469,
          0.6852624416351318,
          0.6480915546417236,
          0.7922573089599609,
          0.6989441514015198,
          0.6937863826751709,
          0.6978298425674438,
          0.6845864057540894,
          0.6882439851760864,
          0.6827385425567627,
          0.6693931818008423,
          0.6534548997879028,
          0.6046632528305054,
          0.6156989336013794,
          0.6789346933364868,
          0.7191050052642822,
          0.5244996547698975,
          0.7130841612815857,
          0.6565606594085693,
          0.6113044023513794,
          0.5757550597190857,
          0.607276976108551,
          0.6419627666473389,
          0.7191615104675293,
          0.6939047574996948,
          0.6474067568778992,
          0.6021068692207336,
          0.6714801788330078,
          0.6175915002822876,
          0.7294383645057678,
          0.6483453512191772,
          0.7770240902900696,
          0.7352898120880127,
          0.7417778968811035,
          0.6962265372276306,
          0.7815554141998291,
          0.7164019346237183,
          0.6974542737007141,
          0.6423091292381287,
          0.6922011375427246,
          0.5260560512542725,
          0.7990639805793762,
          0.7179241180419922,
          0.7353867292404175,
          0.7474356889724731,
          0.680518388748169,
          0.7546782493591309,
          0.689751148223877,
          0.6048976182937622,
          0.6471596956253052,
          0.7195651531219482,
          0.707561194896698,
          0.7087385654449463,
          0.7234583497047424,
          0.7211477160453796,
          0.7417681217193604,
          0.6856058239936829,
          0.6373331546783447,
          0.7099934816360474,
          0.7444425225257874,
          0.6636468172073364,
          0.7167946696281433,
          0.7106959223747253,
          0.6827291250228882,
          0.5925500988960266,
          0.6735004782676697,
          0.5682870745658875,
          0.7299416065216064,
          0.7331454753875732,
          0.73277348279953,
          0.6817626357078552,
          0.6688703298568726,
          0.6485875844955444,
          0.7234017848968506,
          0.5678398609161377,
          0.6672987937927246,
          0.7379527688026428,
          0.7515183091163635,
          0.6896423697471619,
          0.7654950618743896,
          0.65535569190979,
          0.6812552213668823,
          0.6866706609725952,
          0.6830484867095947,
          0.7501178979873657,
          0.6953145861625671,
          0.6771960854530334,
          0.7736863493919373,
          0.560600757598877,
          0.7700769901275635,
          0.7682105302810669,
          0.6086536049842834,
          0.700636088848114,
          0.6416846513748169,
          0.5196484327316284,
          0.6760608553886414,
          0.6420092582702637,
          0.48807644844055176,
          0.7644422650337219,
          0.7235945463180542,
          0.7340918779373169,
          0.6284481287002563,
          0.6122781038284302,
          0.7083278298377991,
          0.7206392884254456,
          0.7275330424308777,
          0.6236444711685181,
          0.5853773951530457,
          0.6414169669151306,
          0.5580500364303589,
          0.5353094339370728,
          0.6419661641120911,
          0.650374174118042,
          0.5076660513877869,
          0.47264614701271057,
          0.7226886749267578,
          0.596662700176239,
          0.6667291522026062,
          0.7334716320037842,
          0.6578388810157776
         ],
         "y": [
          0.06812508404254913,
          -0.060788098722696304,
          -0.14172105491161346,
          0.044783227145671844,
          -0.11651734262704849,
          -0.06587904691696167,
          -0.06796198338270187,
          -0.16223332285881042,
          0.000806514173746109,
          -0.40294337272644043,
          -0.09957046061754227,
          -0.047715917229652405,
          -0.12816956639289856,
          0.023218557238578796,
          -0.1494448035955429,
          -0.4467845559120178,
          -0.06484656780958176,
          0.06259670108556747,
          0.03332526981830597,
          0.057046640664339066,
          0.04992131143808365,
          0.022603191435337067,
          -0.29505041241645813,
          -0.014954691752791405,
          -0.04641693830490112,
          0.008443010970950127,
          0.019582580775022507,
          -0.017427360638976097,
          -0.02113804966211319,
          0.09615938365459442,
          -0.04392283037304878,
          -0.28041040897369385,
          0.03159961849451065,
          0.017252342775464058,
          0.02313368022441864,
          -0.13509272038936615,
          0.06063937023282051,
          -0.22251465916633606,
          -0.20430836081504822,
          -0.299692302942276,
          -0.3096942901611328,
          -0.40555495023727417,
          -0.2306709736585617,
          -0.3994942009449005,
          -0.43465763330459595,
          -0.41670429706573486,
          -0.2196188122034073,
          -0.4122127592563629,
          -0.18042096495628357,
          -0.29974645376205444,
          -0.3944205641746521,
          -0.3922058343887329,
          -0.3054612874984741,
          -0.1507631540298462,
          -0.35352766513824463,
          -0.024532955139875412,
          0.000012062955647706985,
          -0.4590262174606323,
          -0.3013172149658203,
          -0.44619306921958923,
          -0.2205166220664978,
          -0.38230979442596436,
          -0.25910359621047974,
          -0.30310678482055664,
          -0.297734797000885,
          -0.27729445695877075,
          -0.4350334703922272,
          -0.3689316511154175,
          -0.38087910413742065,
          -0.3201618790626526,
          -0.38620200753211975,
          -0.40718042850494385,
          -0.2060999572277069,
          -0.4869215488433838,
          -0.21564963459968567,
          -0.3570936322212219,
          -0.34097203612327576,
          -0.26078611612319946,
          -0.33319276571273804,
          -0.3897813558578491,
          -0.4036228060722351,
          -0.07568489760160446,
          -0.2805485725402832,
          -0.37700462341308594,
          -0.33045387268066406,
          -0.3694181442260742,
          -0.4203130602836609,
          -0.30289778113365173,
          -0.25218209624290466,
          -0.45332932472229004,
          -0.14208565652370453,
          -0.34841546416282654,
          -0.40768006443977356,
          -0.38839757442474365,
          -0.20536445081233978,
          -0.2652815878391266,
          -0.02659907564520836,
          -0.34248965978622437,
          -0.34017038345336914,
          -0.03925064206123352,
          -0.3416513502597809,
          -0.06426450610160828,
          -0.31568172574043274,
          -0.36570900678634644,
          -0.4255949854850769,
          -0.17111723124980927,
          -0.2813419997692108,
          0.03241075947880745,
          -0.414573609828949,
          -0.31790000200271606,
          -0.1150011345744133,
          -0.3529714047908783,
          -0.41909506916999817,
          -0.4247151017189026,
          -0.07135887444019318,
          -0.18649090826511383,
          -0.4191644787788391,
          -0.10211918503046036,
          -0.036246541887521744,
          -0.11027459055185318,
          -0.43865224719047546,
          -0.20555005967617035,
          -0.10172565281391144,
          -0.2369450330734253,
          -0.10172082483768463,
          -0.3976847529411316,
          -0.30383792519569397,
          -0.2717874050140381
         ],
         "z": [
          0.5416987538337708,
          0.3277590572834015,
          0.4731692671775818,
          0.4663301706314087,
          0.4151550531387329,
          0.4152948260307312,
          0.37839174270629883,
          0.47965067625045776,
          0.45679616928100586,
          0.3909814953804016,
          0.46996602416038513,
          0.37472546100616455,
          0.4328666925430298,
          0.4069923460483551,
          0.40611475706100464,
          0.3010845184326172,
          0.5299332141876221,
          0.4130740761756897,
          0.4259829819202423,
          0.4685104191303253,
          0.584229588508606,
          0.5167877674102783,
          0.3251575231552124,
          0.321999192237854,
          0.44711369276046753,
          0.4011758863925934,
          0.3744114935398102,
          0.5848296880722046,
          0.40885496139526367,
          0.46982523798942566,
          0.587751567363739,
          0.36258465051651,
          0.36783063411712646,
          0.5132424831390381,
          0.4582631289958954,
          0.5105673670768738,
          0.5119112133979797,
          0.4399295449256897,
          0.41458553075790405,
          0.3721001148223877,
          0.32415738701820374,
          0.31336185336112976,
          0.4297988712787628,
          0.31681251525878906,
          0.35638391971588135,
          0.40837401151657104,
          0.4543699622154236,
          0.38939791917800903,
          0.444732666015625,
          0.2589995563030243,
          0.4099852740764618,
          0.3862866461277008,
          0.35016971826553345,
          0.5162966251373291,
          0.41348862648010254,
          0.36762735247612,
          0.506741464138031,
          0.4644455313682556,
          0.346752405166626,
          0.3120342195034027,
          0.47120869159698486,
          0.3848150074481964,
          0.401309072971344,
          0.28502434492111206,
          0.4762335419654846,
          0.27068158984184265,
          0.3065680265426636,
          0.39014238119125366,
          0.3213688135147095,
          0.3963134288787842,
          0.43992161750793457,
          0.4531219005584717,
          0.4551551342010498,
          0.32153964042663574,
          0.4331367611885071,
          0.398562490940094,
          0.39374062418937683,
          0.4510940611362457,
          0.41041821241378784,
          0.4778980612754822,
          0.42948782444000244,
          0.3582737445831299,
          0.43642717599868774,
          0.42485398054122925,
          0.38752496242523193,
          0.35607871413230896,
          0.4505631923675537,
          0.2510169446468353,
          0.33197885751724243,
          0.43324732780456543,
          0.4485260248184204,
          0.4847094416618347,
          0.3282850384712219,
          0.4394416809082031,
          0.42134398221969604,
          0.4066447615623474,
          0.488680362701416,
          0.2582387328147888,
          0.23914489150047302,
          0.4629586935043335,
          0.3178459405899048,
          0.3667612075805664,
          0.3898245692253113,
          0.481298565864563,
          0.37380313873291016,
          0.42245548963546753,
          0.2690381705760956,
          0.3254806399345398,
          0.37134915590286255,
          0.49669283628463745,
          0.439292848110199,
          0.3339691162109375,
          0.33384525775909424,
          0.36225616931915283,
          0.4833720028400421,
          0.5233837962150574,
          0.46339648962020874,
          0.39092642068862915,
          0.4711627960205078,
          0.5513017177581787,
          0.42662477493286133,
          0.42541438341140747,
          0.4218929409980774,
          0.4200138747692108,
          0.5090212225914001,
          0.38377809524536133,
          0.4118662476539612,
          0.4433671832084656
         ]
        },
        {
         "customdata": [
          [
           "bean<br>pork<br>soy sauce<br>vinegar"
          ],
          [
           "beef<br>beef broth<br>bread<br>butter<br>egg<br>mushroom"
          ],
          [
           "bell pepper<br>carrot<br>chicken<br>hotdog<br>pineapple<br>potato<br>raisin<br>soy sauce<br>tomato"
          ],
          [
           "beef rib<br>chili<br>fish sauce<br>radish<br>spinach<br>tamarind<br>taro<br>tomato"
          ],
          [
           "chicken<br>lemon<br>peppercorn<br>soy sauce"
          ],
          [
           "bay leaf<br>coconut vinegar<br>oyster sauce<br>peppercorn<br>pork<br>soy sauce"
          ],
          [
           "annatto<br>bean<br>cabbage<br>chicken<br>eggplant<br>fish sauce<br>flour<br>peanut butter"
          ],
          [
           "bay leaf<br>chili<br>coconut<br>milk<br>peppercorn<br>pork<br>soy sauce<br>vinegar"
          ],
          [
           "chicken<br>chili<br>coconut<br>fish sauce<br>ginger<br>lemongrass<br>milk<br>papaya<br>spinach"
          ],
          [
           "cabbage<br>carrot<br>chicken<br>corn<br>cornstarch<br>crab<br>egg<br>fish sauce"
          ],
          [
           "chili<br>fish sauce<br>ginger<br>pork"
          ],
          [
           "bell pepper<br>chicken<br>chili sauce<br>cornstarch<br>egg<br>pineapple<br>soy sauce"
          ],
          [
           "cashew<br>chicken<br>cornstarch<br>oyster sauce<br>peas<br>soy sauce<br>wine"
          ],
          [
           "chicken<br>corn<br>cornstarch<br>egg<br>ginger<br>peppercorn<br>soy sauce"
          ],
          [
           "ginger<br>mirin<br>sake<br>salmon<br>sesame seed<br>soy sauce"
          ],
          [
           "bell pepper<br>chicken<br>chili<br>coconut<br>fish sauce<br>ginger<br>milk<br>potato"
          ],
          [
           "carrot<br>celery<br>cornstarch<br>egg<br>oyster sauce<br>peas<br>shrimp<br>soy sauce<br>wine"
          ],
          [
           "chicken<br>coconut<br>fish sauce<br>ginger<br>lemongrass<br>papaya<br>spinach"
          ],
          [
           "egg<br>ginger<br>pork<br>sausage<br>shrimp<br>soy sauce<br>wonton wrapper"
          ],
          [
           "black bean<br>fish<br>ginger<br>tofu<br>tomato<br>vinegar"
          ],
          [
           "chili<br>ketchup<br>oyster sauce<br>pork<br>sesame oil<br>soy sauce<br>vinegar"
          ],
          [
           "pork<br>soy sauce<br>spinach<br>vinegar"
          ],
          [
           "bean<br>chili<br>coconut<br>coconut cream<br>crab<br>fish sauce<br>ginger<br>milk<br>squash"
          ],
          [
           "bottle gourd<br>chicken<br>fish sauce<br>ginger<br>spinach"
          ],
          [
           "carrot<br>chicken<br>cream<br>egg<br>fish sauce<br>peas"
          ],
          [
           "egg<br>mussel<br>oyster sauce<br>shallot<br>tomato"
          ],
          [
           "cornstarch<br>egg<br>fish sauce<br>shallot"
          ],
          [
           "banana<br>carrot<br>pork<br>sausage<br>soy sauce<br>vinegar"
          ],
          [
           "beef<br>cabbage<br>egg<br>fish sauce<br>pasta<br>peppercorn"
          ],
          [
           "bitter gourd<br>egg<br>fish sauce<br>shrimp<br>tomato"
          ],
          [
           "ginger<br>mirin<br>pasta<br>sake<br>soy sauce"
          ],
          [
           "cornstarch<br>oyster sauce<br>pork<br>vegetable"
          ],
          [
           "bottle gourd<br>fish sauce<br>shrimp<br>tomato"
          ],
          [
           "apple vinegar<br>bay leaf<br>peppercorn<br>pineapple<br>pork<br>soy sauce"
          ],
          [
           "beef<br>cabbage<br>chili<br>corn<br>fish sauce<br>lemon<br>peppercorn"
          ],
          [
           "annatto<br>bean<br>cabbage<br>eggplant<br>fish sauce<br>flour<br>peanut butter<br>pork<br>shrimp"
          ],
          [
           "ginger<br>nut<br>rice<br>sesame oil<br>sesame seed<br>soy sauce"
          ],
          [
           "bean<br>fish sauce<br>pasta<br>shrimp<br>spinach<br>tomato"
          ],
          [
           "chili garlic sauce<br>eggplant<br>ginger<br>soy sauce<br>vinegar"
          ],
          [
           "carrot<br>mayonnaise<br>raisin<br>walnut"
          ],
          [
           "butter<br>chili<br>egg<br>milk<br>shallot<br>shrimp"
          ],
          [
           "broccoli<br>cabbage<br>carrot<br>cornstarch<br>mushroom"
          ],
          [
           "bean<br>chili<br>coconut<br>fish sauce<br>milk<br>shrimp<br>squash"
          ],
          [
           "chili garlic sauce<br>cornstarch<br>oyster sauce<br>sesame oil<br>spinach<br>tofu"
          ],
          [
           "annatto<br>beef<br>chili<br>ginger<br>jackfruit<br>kamia<br>lemongrass<br>tamarind"
          ],
          [
           "eggplant<br>mango<br>pork<br>shrimp<br>tomato<br>vinegar"
          ],
          [
           "bean<br>shrimp<br>soy sauce<br>tomato"
          ],
          [
           "annatto<br>broth<br>cornstarch<br>egg<br>fish<br>lemon<br>pork<br>shrimp<br>tofu"
          ],
          [
           "broccoli<br>carrot<br>chicken<br>lemon<br>pancit<br>sausage<br>shrimp"
          ],
          [
           "carrot<br>chestnut<br>chicken<br>soy sauce<br>spring wrapper"
          ],
          [
           "bay leaf<br>fish sauce<br>peppercorn<br>squid<br>tomato<br>vinegar"
          ],
          [
           "butter<br>ginger<br>lemon<br>soy sauce"
          ],
          [
           "bay leaf<br>broth<br>carrot<br>chestnut<br>chicken<br>fish sauce<br>pepper corn<br>pork<br>soy sauce"
          ],
          [
           "bean<br>cabbage<br>chili<br>eggplant<br>fish sauce<br>kamia<br>okra<br>salmon<br>tomato"
          ],
          [
           "bell pepper<br>chili<br>mussel<br>sherry<br>tomato sauce"
          ],
          [
           "banana<br>bean<br>cabbage<br>chicken<br>fish sauce<br>garbanzo bean<br>potato<br>sausage<br>tomato sauce"
          ],
          [
           "bread crumb<br>cabbage<br>egg<br>pork<br>soy sauce"
          ],
          [
           "chili<br>coconut<br>fish sauce<br>ginger<br>milk<br>shrimp"
          ],
          [
           "bay leaf<br>chili<br>coconut<br>fish sauce<br>ginger<br>milk<br>squid<br>tomato<br>vinegar"
          ],
          [
           "bell pepper<br>carrot<br>chili<br>fish sauce<br>pork<br>vinegar"
          ],
          [
           "chicken<br>chili<br>coconut cream<br>ginger<br>shrimp"
          ],
          [
           "bean<br>bitter gourd<br>eggplant<br>okra<br>pork<br>shrimp<br>squash<br>tomato"
          ],
          [
           "bay leaf<br>chili<br>peppercorn<br>pork<br>shallot<br>soy sauce<br>tofu<br>vinegar"
          ],
          [
           "banana<br>chili<br>coconut<br>fish sauce<br>milk<br>pork"
          ],
          [
           "chicken<br>mussel<br>paprika<br>rice<br>sausage<br>shrimp<br>tomato sauce"
          ],
          [
           "cornstarch<br>egg<br>fish sauce<br>lettuce<br>peanut<br>peanut butter<br>pork<br>shrimp<br>soy sauce"
          ],
          [
           "bean<br>carrot<br>fish sauce<br>shrimp"
          ],
          [
           "banana<br>chili<br>fish sauce<br>pork<br>vinegar"
          ],
          [
           "fish sauce<br>oyster sauce<br>shrimp<br>tomato sauce"
          ],
          [
           "bell pepper<br>carrot<br>chicken<br>fish sauce<br>pea<br>potato<br>tomato"
          ],
          [
           "bell pepper<br>egg<br>ham<br>peas<br>pineapple<br>pork<br>rice<br>sesame oil<br>soy sauce"
          ],
          [
           "carrot<br>chestnut<br>pork<br>shrimp<br>soy sauce<br>spring wrapper"
          ],
          [
           "beef<br>bell pepper<br>cheese<br>hotdog<br>pasta<br>pasta sauce<br>tomato"
          ],
          [
           "bay leaf<br>beef<br>broth<br>mushroom<br>pepper corn<br>potato<br>soy sauce<br>tomato sauce"
          ],
          [
           "fish<br>fish sauce<br>ginger<br>mustard<br>radish<br>tamarind<br>tomato"
          ],
          [
           "cabbage<br>carrot<br>chicken<br>oyster sauce<br>pork<br>sausage<br>shrimp"
          ],
          [
           "bay leaf<br>fish<br>ginger<br>lemon<br>peppercorn<br>soy sauce<br>star anise<br>tomato<br>vinegar"
          ],
          [
           "beef<br>fish sauce<br>guava<br>spinach<br>tomato"
          ],
          [
           "bean<br>beef<br>cabbage<br>peppercorn<br>potato"
          ],
          [
           "cabbage<br>oyster sauce<br>pork<br>tomato"
          ],
          [
           "chili<br>fish sauce<br>ginger<br>goat<br>tamarind<br>vinegar"
          ],
          [
           "bay leaf<br>bell pepper<br>garbanzo bean<br>pickle<br>pork<br>sausage<br>soy sauce<br>tomato"
          ],
          [
           "bay leaf<br>bean<br>pork<br>tofu<br>tomato<br>vinegar"
          ],
          [
           "bell pepper<br>cornstarch<br>egg<br>fish<br>pineapple<br>soy sauce<br>vinegar"
          ],
          [
           "chili<br>coconut<br>ginger<br>milk<br>salmon<br>tomato"
          ],
          [
           "bell pepper<br>carrot<br>chili<br>goat<br>pickle<br>pineapple<br>potato<br>tomato sauce<br>vinegar"
          ],
          [
           "bean<br>chili<br>coconut<br>fish<br>ginger<br>milk<br>shrimp"
          ],
          [
           "mango<br>pork<br>rice<br>shrimp<br>tomato<br>vinegar"
          ],
          [
           "egg<br>pork<br>rice<br>soy sauce"
          ],
          [
           "chili<br>ginger<br>rice<br>shallot<br>soy sauce<br>tofu<br>vinegar"
          ],
          [
           "beef<br>egg<br>miki pasta<br>pork<br>shrimp"
          ],
          [
           "bay leaf<br>carrot<br>celery<br>peppercorn<br>shrimp"
          ],
          [
           "bitter gourd<br>fish<br>fish sauce<br>tomato"
          ],
          [
           "chili<br>eggplant<br>soy sauce<br>vinegar"
          ],
          [
           "bell pepper<br>butter<br>chili<br>ginger<br>lemon<br>soy sauce<br>squid"
          ],
          [
           "butter<br>fish<br>lemon<br>oyster sauce<br>soy sauce"
          ],
          [
           "cabbage<br>fish sauce<br>pork rib<br>tomato"
          ],
          [
           "cilantro<br>fish sauce<br>mango<br>tomato<br>vinegar"
          ],
          [
           "cabbage<br>chicken<br>fish sauce<br>ginger<br>peppercorn<br>potato"
          ],
          [
           "bean<br>eggplant<br>fish sauce<br>melon<br>okra<br>pork<br>squash<br>tomato"
          ],
          [
           "bell pepper<br>chili<br>lemon<br>pork"
          ],
          [
           "chili<br>cucumber<br>fish sauce<br>peppercorn<br>sesame oil<br>vinegar"
          ],
          [
           "fish sauce<br>kamote<br>shallot<br>tomato<br>vinegar"
          ],
          [
           "bean<br>carrot<br>ginger<br>oyster sauce<br>pork<br>soy sauce"
          ],
          [
           "cabbage<br>ginger<br>oyster sauce<br>salmon<br>tomato<br>vinegar"
          ],
          [
           "beef<br>egg<br>pea<br>potato"
          ],
          [
           "bean<br>coconut<br>eggplant<br>jackfruit<br>milk<br>pork<br>shrimp<br>squash"
          ],
          [
           "cornstarch<br>mushroom<br>soy sauce<br>tofu<br>wine"
          ],
          [
           "bay leaf<br>chicken<br>pork<br>soy sauce<br>vinegar"
          ],
          [
           "bean<br>cornstarch<br>mushroom<br>sesame oil<br>sesame seed<br>soy sauce"
          ],
          [
           "cabbage<br>celery<br>oyster sauce<br>pasta<br>sesame oil<br>soy sauce<br>wine"
          ],
          [
           "chili<br>eggplant<br>fish<br>ginger<br>peppercorn<br>vinegar"
          ],
          [
           "bay leaf<br>egg<br>peppercorn<br>rib<br>soy sauce<br>vinegar"
          ],
          [
           "chicken<br>cornstarch<br>egg<br>honey<br>lime<br>sauce<br>soy sauce<br>wine"
          ],
          [
           "bay leaf<br>chicken<br>soy sauce<br>vinegar"
          ],
          [
           "chili sauce<br>fish<br>lemon<br>oyster sauce<br>sesame oil"
          ],
          [
           "chili<br>coconut<br>coconut cream<br>fish sauce<br>milk"
          ],
          [
           "chili<br>eggplant<br>pork<br>shrimp<br>tomato<br>vinegar"
          ],
          [
           "fish<br>ginger<br>shallot<br>tamarind"
          ],
          [
           "bay leaf<br>fish sauce<br>pork<br>vinegar"
          ],
          [
           "beef<br>cheese<br>pasta<br>pasta sauce"
          ],
          [
           "beef<br>bell pepper<br>carrot<br>coconut<br>fish sauce<br>ginger<br>milk<br>potato"
          ],
          [
           "cabbage<br>carrot<br>chicken<br>chicken broth<br>fish<br>lemon<br>miki pasta<br>pasta<br>shrimp"
          ],
          [
           "buttermilk<br>chicken<br>fish sauce<br>ginger<br>lemongrass"
          ],
          [
           "fish sauce<br>mung bean<br>spinach<br>tomato<br>vegetable oil"
          ],
          [
           "bitter gourd<br>fish<br>fish sauce<br>mung bean<br>spinach"
          ],
          [
           "bottle gourd<br>chicken<br>fish sauce<br>pasta"
          ],
          [
           "bean<br>chili<br>coconut<br>coconut cream<br>milk<br>pork<br>shrimp"
          ],
          [
           "chili<br>coconut cream<br>eggplant<br>fish sauce<br>pork"
          ],
          [
           "pineapple<br>pork<br>soy sauce<br>vinegar"
          ],
          [
           "duck egg<br>eggplant<br>fish sauce<br>grape tomato<br>vinegar"
          ],
          [
           "beef<br>bell pepper<br>carrot<br>fish sauce<br>potato<br>tomato"
          ],
          [
           "banana blossom<br>bay leaf<br>black bean<br>peppercorn<br>pineapple<br>pork<br>soy sauce<br>vinegar"
          ],
          [
           "cabbage<br>carrot<br>chicken<br>oyster sauce<br>pasta<br>soy sauce"
          ],
          [
           "chicken<br>cornstarch<br>lemon<br>soy sauce"
          ],
          [
           "egg<br>fish<br>rice<br>soy sauce"
          ],
          [
           "chili<br>ginger<br>honey<br>squid<br>tomato<br>vinegar"
          ],
          [
           "chicken<br>chili<br>cucumber<br>egg<br>rice<br>shallot<br>shrimp<br>tomato"
          ],
          [
           "bay leaf<br>beef<br>butter<br>cream<br>mushroom<br>peppercorn"
          ],
          [
           "beef<br>beef broth<br>butter<br>cream<br>mushroom"
          ],
          [
           "cabbage<br>carrot<br>celery<br>chicken<br>chicken broth<br>egg<br>fish sauce<br>ginger<br>pasta"
          ],
          [
           "beef<br>broth<br>fish sauce<br>ginger<br>lemon<br>peppercorn<br>rice"
          ],
          [
           "banana<br>beef<br>cabbage<br>garbanzo bean<br>potato<br>sausage"
          ],
          [
           "bay leaf<br>carrot<br>chili<br>fish<br>peppercorn<br>pickle"
          ],
          [
           "bean<br>chili garlic sauce<br>cornstarch<br>sesame oil<br>shrimp<br>soy sauce<br>wine"
          ],
          [
           "cheese<br>crab<br>cucumber<br>egg<br>mango<br>mayonnaise<br>rice<br>sauce<br>vinegar"
          ],
          [
           "bay leaf<br>bell pepper<br>butter<br>chicken<br>cream<br>mushroom<br>peppercorn<br>sherry wine"
          ],
          [
           "ginger<br>pineapple<br>potato<br>raisin<br>rib<br>soy sauce"
          ],
          [
           "bay leaf<br>lemon<br>peppercorn<br>pork<br>potato<br>soy sauce<br>tomato sauce"
          ],
          [
           "bell pepper<br>cornstarch<br>fish<br>ginger<br>papaya<br>vinegar"
          ],
          [
           "bell pepper<br>carrot<br>chili<br>fish<br>potato<br>tomato"
          ],
          [
           "bay leaf<br>chicken<br>peppercorn<br>potato<br>soy sauce<br>vinegar"
          ],
          [
           "chili<br>cornstarch<br>egg<br>fish sauce<br>papaya<br>shallot<br>shrimp<br>squash<br>vinegar"
          ],
          [
           "bell pepper<br>bread crumb<br>butter<br>chili<br>shrimp<br>tomato sauce<br>wine"
          ],
          [
           "bell pepper<br>celery<br>egg<br>fish<br>mayonnaise<br>pasta<br>pickle"
          ],
          [
           "cabbage<br>carrot<br>chestnut<br>chicken<br>pasta<br>shallot<br>soy sauce"
          ],
          [
           "bay leaf<br>chicken<br>soy sauce<br>vinegar"
          ],
          [
           "bean<br>cabbage<br>carrot<br>spring wrapper<br>tofu<br>yam"
          ],
          [
           "bay leaf<br>ginger<br>pork<br>vinegar"
          ],
          [
           "bay leaf<br>chicken<br>fish sauce<br>peppercorn<br>vinegar"
          ],
          [
           "bell pepper<br>carrot<br>cheese<br>chicken<br>chili<br>pineapple<br>potato<br>soy sauce<br>tomato sauce"
          ],
          [
           "bay leaf<br>pork<br>pork sauce<br>vinegar"
          ],
          [
           "bay leaf<br>chicken<br>lemon<br>peppercorn<br>potato<br>soy sauce<br>tomato sauce"
          ],
          [
           "chicken<br>fish sauce<br>lemon<br>lemongrass<br>shallot<br>soy sauce"
          ],
          [
           "chili<br>fish sauce<br>lemon<br>oyster sauce<br>pork<br>vinegar"
          ],
          [
           "bell pepper<br>butter<br>chili<br>lemon<br>mayonnaise<br>sauce<br>tofu"
          ],
          [
           "fish sauce<br>ginger<br>pasta<br>pork"
          ],
          [
           "banana<br>bean<br>cabbage<br>carrot<br>fish sauce<br>pork<br>potato<br>sausage<br>tomato"
          ],
          [
           "chili<br>fish sauce<br>ginger<br>pork<br>vinegar"
          ],
          [
           "butter<br>fish<br>ginger<br>lemon<br>soy sauce<br>tamarind<br>tomato"
          ],
          [
           "chicken<br>cornstarch<br>ginger<br>peppercorn<br>pineapple<br>shallot<br>soy sauce"
          ],
          [
           "bean<br>beef<br>cabbage<br>corn<br>fish sauce<br>peppercorn<br>potato"
          ],
          [
           "carrot<br>chestnut<br>cornstarch<br>pork<br>shrimp<br>spice<br>tofu"
          ],
          [
           "fish sauce<br>guava<br>pork<br>spinach<br>taro"
          ],
          [
           "carrot<br>egg<br>fish sauce<br>ketchup<br>pea<br>pork<br>potato<br>raisin<br>tomato sauce"
          ],
          [
           "fish<br>fish sauce<br>ginger<br>tamarind<br>tomato"
          ],
          [
           "black bean<br>fish<br>fish sauce<br>ginger<br>tomato"
          ],
          [
           "cabbage<br>fish sauce<br>lemon<br>radish<br>shrimp<br>tomato"
          ],
          [
           "chili<br>cornstarch<br>ginger<br>lemon<br>mushroom<br>pork<br>shrimp<br>soy sauce"
          ],
          [
           "chili sauce<br>ginger<br>salmon<br>sesame oil<br>soy sauce<br>vinegar"
          ],
          [
           "chili<br>coconut<br>coconut cream<br>milk<br>pork<br>shrimp"
          ],
          [
           "bell pepper<br>carrot<br>cheese<br>chili<br>potato<br>tomato<br>tomato sauce"
          ],
          [
           "cheese<br>chili sauce<br>mayonnaise<br>salmon"
          ],
          [
           "cheese<br>chili sauce<br>lime<br>mayonnaise<br>mussel"
          ],
          [
           "chicken<br>chicken broth<br>fish sauce<br>ginger<br>lemon<br>rice"
          ],
          [
           "beef<br>cabbage<br>fish sauce<br>radish<br>tamarind<br>tomato"
          ],
          [
           "chicken<br>egg<br>mayonnaise<br>milk<br>pineapple<br>relish"
          ],
          [
           "bean<br>carrot<br>fish sauce<br>pork<br>potato<br>spring wrapper"
          ],
          [
           "bell pepper<br>cream<br>fish sauce<br>pineapple<br>pork"
          ],
          [
           "bell pepper<br>carrot<br>fish sauce<br>pork<br>potato<br>tomato<br>tomato sauce"
          ],
          [
           "bay leaf<br>beef<br>bell pepper<br>peas<br>peppercorn<br>pork<br>soy sauce<br>vinegar"
          ],
          [
           "bay leaf<br>beef<br>bell pepper<br>fish sauce<br>pea<br>pork<br>tomato sauce"
          ],
          [
           "bell pepper<br>carrot<br>chicken<br>coconut<br>fish sauce<br>ginger<br>milk<br>potato"
          ],
          [
           "beef<br>bell pepper<br>chestnut<br>corn<br>cornstarch<br>oyster sauce<br>peas<br>soy sauce<br>wine"
          ],
          [
           "bell pepper<br>carrot<br>fish sauce<br>pork<br>potato<br>raisin<br>tomato"
          ],
          [
           "chicken<br>chili<br>lemon<br>mayonnaise<br>soy sauce"
          ],
          [
           "bean<br>cornstarch<br>ginger<br>pork<br>rice wine<br>sesame oil<br>soy sauce"
          ],
          [
           "bell pepper<br>chili<br>egg<br>ginger<br>oyster sauce<br>shallot<br>soy sauce"
          ],
          [
           "chili<br>pork<br>shrimp<br>tomato<br>vinegar"
          ],
          [
           "bay leaf<br>carrot<br>celery<br>chicken<br>ginger<br>pepper corn<br>rice"
          ],
          [
           "cabbage<br>carrot<br>mayonnaise<br>pineapple<br>raisin<br>vinegar"
          ],
          [
           "bottle gourd<br>oyster sauce<br>pork<br>tomato"
          ],
          [
           "annatto<br>bottle gourd<br>oyster sauce<br>pancit pasta<br>pork"
          ],
          [
           "bell pepper<br>carrot<br>chicken<br>fish sauce<br>peas<br>pineapple<br>potato<br>tomato sauce"
          ],
          [
           "annatto<br>carrot<br>cornstarch<br>egg<br>fish sauce<br>mung bean<br>shallot<br>shrimp"
          ],
          [
           "butter<br>carrot<br>cornstarch<br>cream<br>fish sauce<br>ham<br>pea<br>shrimp<br>singkama"
          ],
          [
           "bell pepper<br>cheese<br>chicken<br>chicken broth<br>mushroom<br>pasta<br>pasta sauce<br>peppercorn"
          ],
          [
           "broth<br>cornstarch<br>egg<br>fish sauce<br>lemon<br>pasta<br>pork<br>shrimp"
          ],
          [
           "ginger<br>ketchup<br>pineapple<br>pork<br>soy sauce"
          ],
          [
           "fish<br>fish sauce<br>guava<br>shrimp<br>spinach"
          ],
          [
           "avocado<br>cucumber<br>honey<br>lime<br>mango<br>shrimp"
          ],
          [
           "bean<br>carrot<br>fish sauce<br>pork<br>shrimp<br>spring wrapper"
          ],
          [
           "egg<br>pea<br>sausage<br>shrimp<br>soy sauce"
          ],
          [
           "basil<br>bean<br>chili<br>coconut<br>fish sauce<br>lime<br>mango<br>peanut<br>vegetable oil"
          ],
          [
           "celery<br>chestnut<br>fish<br>mushroom<br>soy sauce"
          ],
          [
           "bell pepper<br>chili<br>fish<br>lemon<br>sauce"
          ],
          [
           "beef<br>beef broth<br>bell pepper<br>cheese<br>hotdog<br>ketchup<br>pasta<br>tomato<br>tomato sauce"
          ],
          [
           "bean<br>coconut cream<br>fish sauce<br>shrimp<br>squash"
          ],
          [
           "fish<br>fish sauce<br>pasta<br>tomato"
          ],
          [
           "chili<br>cornstarch<br>fish<br>shallot<br>soy sauce"
          ],
          [
           "chili<br>coconut<br>milk<br>pork<br>shrimp<br>tomato<br>vinegar"
          ],
          [
           "bay leaf<br>beef<br>ginger<br>peppercorn<br>soy sauce<br>star anise"
          ],
          [
           "chicken<br>chili<br>egg<br>fish sauce<br>ginger"
          ],
          [
           "bottle gourd<br>fish<br>fish sauce<br>tomato"
          ],
          [
           "chicken<br>fish sauce<br>ginger<br>potato"
          ],
          [
           "beef<br>beef broth<br>cabbage<br>egg<br>pasta<br>pork<br>soy sauce<br>star anise<br>wonton wrapper"
          ],
          [
           "chili<br>cornstarch<br>egg<br>pork"
          ],
          [
           "coconut cream<br>crab<br>ginger<br>mussel<br>shrimp<br>squid"
          ],
          [
           "bean<br>bitter gourd<br>eggplant<br>fish sauce<br>okra<br>patola<br>shrimp<br>squash<br>tomato"
          ],
          [
           "bean<br>bitter gourd<br>eggplant<br>okra<br>patola<br>shrimp<br>squash"
          ],
          [
           "chicken<br>coconut<br>fish sauce<br>ginger<br>mango<br>milk"
          ],
          [
           "coconut<br>coconut cream<br>pork<br>shrimp"
          ],
          [
           "cabbage<br>fish sauce<br>peppercorn<br>pork<br>squash"
          ],
          [
           "bitter gourd<br>chicken<br>fish sauce<br>ginger"
          ],
          [
           "bay leaf<br>bell pepper<br>carrot<br>lemon<br>pork<br>potato<br>soy sauce<br>tomato sauce"
          ],
          [
           "bay leaf<br>chili<br>peppercorn<br>pork<br>shallot<br>soy sauce<br>vinegar"
          ],
          [
           "broth<br>chicken<br>egg<br>fish sauce<br>ginger<br>lemon<br>rice"
          ],
          [
           "butter<br>carrot<br>cream<br>egg<br>fish sauce<br>pea<br>singkama"
          ],
          [
           "beef<br>chili<br>fish sauce<br>lemon"
          ],
          [
           "bean<br>chicken<br>fish sauce<br>ginger<br>tamarind<br>tomato"
          ],
          [
           "cabbage<br>fish sauce<br>ginger<br>potato"
          ],
          [
           "chicken<br>fish sauce<br>ginger<br>papaya<br>spinach"
          ],
          [
           "bean<br>chili garlic sauce<br>fish<br>soy sauce"
          ],
          [
           "eggplant<br>fish sauce<br>okra<br>pork<br>snake bean<br>spinach<br>tamarind<br>tomato"
          ],
          [
           "cheese<br>luncheon<br>mayonnaise<br>pasta<br>pickle"
          ],
          [
           "cabbage<br>carrot<br>chicken<br>pancit<br>parsley<br>peas<br>sausage<br>shrimp<br>soy sauce"
          ],
          [
           "bread<br>cheese<br>fish<br>parsley<br>tomato"
          ],
          [
           "chili<br>coconut<br>pork<br>shrimp<br>taro"
          ],
          [
           "chili<br>coconut<br>crab<br>fish sauce<br>ginger<br>jackfruit<br>malunggay"
          ],
          [
           "chili<br>fish<br>fish sauce<br>mustard<br>okra<br>rice<br>snake bean<br>tomato"
          ],
          [
           "beef rib<br>fish sauce<br>melon<br>snake bean<br>spinach<br>tomato"
          ],
          [
           "bean<br>chicken<br>coconut<br>patis<br>squash"
          ],
          [
           "annatto<br>chicken<br>fish sauce<br>scallion<br>sesame oil<br>shrimp<br>wonton wrapper"
          ],
          [
           "coconut<br>pork<br>snake bean<br>squash"
          ],
          [
           "egg<br>pork<br>rice<br>shrimp<br>soy sauce<br>vinegar"
          ],
          [
           "fish<br>pasta<br>patola<br>tomato"
          ],
          [
           "carrot<br>chicken<br>chicken broth<br>milk<br>parsley<br>pasta"
          ],
          [
           "bread<br>chicken<br>chicken sauce<br>soy sauce<br>wine vinegar"
          ],
          [
           "chicken<br>oyster sauce<br>soy sauce<br>string bean"
          ],
          [
           "beef<br>cornstarch<br>egg<br>fish sauce<br>miki pasta<br>pork<br>soy sauce"
          ],
          [
           "butter<br>flour<br>mushroom<br>tofu<br>vegetable broth"
          ],
          [
           "celery<br>chicken<br>lettuce<br>lime<br>mayonnaise"
          ],
          [
           "egg<br>ham<br>rice<br>soy sauce"
          ],
          [
           "carrot<br>celery<br>chicken<br>chicken broth<br>cornstarch<br>egg<br>parsley<br>pasta<br>vegetable oil"
          ],
          [
           "cabbage<br>fish sauce<br>pork<br>tomato"
          ]
         ],
         "hovertemplate": "<b>%{hovertext}</b><br><br>cluster=6<br>x=%{x}<br>y=%{y}<br>z=%{z}<br>cleaned_ingredients=%{customdata[0]}<extra></extra>",
         "hovertext": [
          "Adobong Sitaw with Pork",
          "Burger Steak",
          "Chicken Menudo",
          "Sinigang na Baka",
          "Chicken Bistek",
          "Pork Adobo with Oyster Sauce",
          "Chicken Kare-Kare",
          "Adobo sa Gata",
          "Chicken Halang Halang",
          "Pancit Lomi",
          "Batchoy Tagalog",
          "Panda Express Sweet Fire Chicken Copycat",
          "Cashew Chicken",
          "Chicken Corn Soup",
          "Teriyaki Salmon",
          "Ginataang Manok",
          "Snow Peas and Shrimp Stir-fry",
          "Chicken Binakol",
          "Pinsec Frito",
          "Totsong Bangus",
          "Filipino Pork Barbecue",
          "Adobong Kangkong",
          "Ginataang Alimasag",
          "Tinolang Manok sa Upo",
          "Liver and Gizzard with Sweet Peas",
          "Tortang Tahong",
          "Ukoy na Dilis",
          "Pork Estofado",
          "Bulalo Mami",
          "Ginisang Ampalaya at Hipon",
          "Kake Udon",
          "Asian Vegetable Stir-fry",
          "Ginisang Upo at Hipon",
          "Pata Hamonado",
          "Bulalo",
          "Kare-kareng Pata",
          "Ahi Shoyu Poke",
          "Ginisang Munggo at Sotanghon",
          "Eggplant with Spicy Garlic Sauce",
          "Kabocha Salad",
          "Salted Eggs Shrimp",
          "Chop Suey with Tofu and Shitake Mushrooms",
          "Ginataang Kalabasa, Sitaw at Hipon",
          "Kangkong and Tofu with Oyster Sauce",
          "Kansi",
          "Crispy Pork Binagoongan",
          "Green Bean and Shrimp Stir-fry",
          "Pancit Palabok",
          "Mock Pancit Canton Stir-Fry",
          "Lumpiang Shanghai",
          "Ginisang Pusit",
          "Adobong Talaba",
          "Pancit Molo",
          "Sinigang na Salmon Belly sa Kamias",
          "Spicy Tahong",
          "Chicken Pochero",
          "Tonkatsu",
          "Ginataang Hipon",
          "Adobong Pusit sa Gata",
          "Bopis",
          "Chicken Bicol Express",
          "Pinakbet",
          "Tokwa’t Baboy",
          "Ginataang Puso ng Saging",
          "Paella",
          "Lumpiang Ubod",
          "Ginisang Togue",
          "Kilawing Puso nang Saging",
          "Shrimp with Oyster Sauce",
          "Chicken Afritada",
          "Hawaiian Fried Rice",
          "Rellenong Hipon",
          "Instant Pot Filipino-style Spaghetti",
          "Lengua Estofado",
          "Sinigang na Hito sa Miso",
          "Ginisang Repolyo",
          "Adobong Hito",
          "Sinigang na Baka sa Bayabas",
          "Corned Beef Nilaga",
          "Ginisang Pechay",
          "Sinampalukang Kambing",
          "Waknatoy",
          "Tokwa't Baboy with Tausi",
          "Sweet and Sour Sauce Fish",
          "Coconut Curry Salmon",
          "Kalderetang Kambing",
          "Gising Gising with Bangus",
          "Binagoongan Fried Rice",
          "Bacon Fried Rice",
          "Lugaw at Tokwa",
          "La Paz Batchoy",
          "How to Make Shrimp Stock",
          "Ginisang Ampalaya sa Sardinas",
          "Adobong Talong",
          "Sisig Pusit",
          "Bangus ala Pobre",
          "Kinamatisang Baboy",
          "Filipino Mango and Tomato Salad",
          "Pesang Manok",
          "Pinakbet with Crispy Lechon",
          "Crispy Sisig",
          "Ensaladang Pipino",
          "Ensaladang Talbos ng Kamote",
          "Pork and Green Bean Stir-fry",
          "Ulo-Ulo Salmon",
          "Corned Beef Frittata",
          "Ginataang Gulay",
          "Tofu, Asparagus and Mushroom Stir-Fry",
          "Chicken and Pork Adobo",
          "Green Bean Mushroom Stir-fry",
          "Panda Express Chow Mein Copycat",
          "Paksiw na Bangus",
          "Loslos",
          "Honey Garlic Chicken",
          "Instant Pot Chicken Adobo",
          "Grilled Tuna Belly",
          "Ginataang Langka at Danggit",
          "Binagoongan Talong",
          "Banana-Wrapped Salay-Salay Fish",
          "Kilawing Labanos at Baboy",
          "Corned Beef Spaghetti",
          "Beef Curry",
          "Miki Bihon",
          "Lemongrass Roasted Chicken",
          "Ginisang Munggo at Chicharon (Mung Bean Soup with Pork Cracklings)",
          "Ginisang Munggo at Tinapa",
          "Sotanghon at Upo Soup",
          "Gising Gising",
          "Ginataang Talong",
          "Pork Adobo with Pineapple",
          "Tomato, Grilled Eggplant and Salted Egg Salad",
          "Beef Afritada",
          "Humba",
          "Chicken Yakisoba",
          "Crispy Chicken Livers a la Bistek",
          "Tinapa Fried Rice",
          "Inihaw na Pusit (Grilled Squid)",
          "Nasi Goreng (Indonesian Fried Rice)",
          "Lengua in Mushroom Sauce",
          "Beef in Creamy Mushroom Sauce",
          "Chicken Sotanghon Soup",
          "Goto",
          "Cocido-style Nilaga",
          "Spanish-style Sardines Bangus in Olive Oil",
          "Shrimp in Black Bean Sauce",
          "Sushi Bake",
          "Chicken a la King",
          "Pineapple Pork Ribs",
          "Pork Asado",
          "Escabeche Lapu Lapu",
          "Sardines Caldereta",
          "Chicken Adobo",
          "Ukoy",
          "Sizzling Gambas",
          "Creamy Tuna Pasta Salad",
          "Sotanghon at Bola Bola Sopas (Cellophane Noodles and Meatball Soup)",
          "Chicken Adobo with Liver Spread",
          "Lumpiang Prito",
          "Adobong Dilaw",
          "Adobong Manok sa Patis",
          "Chicken Caldereta",
          "Paksiw na Lechon",
          "Chicken Asado",
          "Lechon Manok",
          "Inihaw na Liempo",
          "Sizzling Tofu",
          "Batsui",
          "Pork Pochero",
          "Dinuguan",
          "Pinaputok na Tilapia",
          "Tiniim na Manok",
          "Nilagang Baka",
          "Homemade Kikiam",
          "Pork Bulanglang",
          "Pork Giniling with Quail Eggs",
          "Pinangat na Pompano",
          "Bangus sa Tausi (Milkfish with Tomatoes and Black Beans)",
          "Sinigang na Hipon sa Calamansi",
          "Siomai",
          "Hoisin-Glazed Salmon",
          "Bicol Express",
          "Beef Caldereta",
          "Baked Salmon with Sweet Chili-Mayo Topping",
          "Baked Tahong with Sweet Chili-Mayo Topping",
          "Arroz Caldong Paa ng Manok (Congee with Chicken Feet)",
          "Corned Beef Sinigang",
          "Chicken Salad",
          "Lumpiang Prito with Pork",
          "Pininyahang Pork",
          "Pork Afritada",
          "Igado",
          "Pork Guisantes",
          "Chicken Curry",
          "Beef and Baby Corn Stir-fry",
          "Giniling na Baboy",
          "Chicken Sisig",
          "Steamed Spareribs with Black Beans",
          "Sizzling Balut",
          "Binagoongan Baboy",
          "Chicken Rice Congee",
          "Pineapple Coleslaw",
          "Ginisang Upo with Pork",
          "Pancit Upo",
          "Pineapple Chicken Afritada",
          "Ukoy na Togue",
          "Sipo Egg with Shrimp and Ham",
          "Filipino-style Chicken Baked Macaroni",
          "Easy Pancit Luglug",
          "Spare Ribs with Ketchup and Pineapple",
          "Bulanglang na Bangus at Hipon",
          "Grilled Shrimp Mango Avocado Salad",
          "Lumpiang Togue",
          "Yang Chow Fried Rice",
          "Thai Mango Salad",
          "Lumpiang Galunggong",
          "Bangus Sisig",
          "Filipino-style Spaghetti",
          "Ginataang Sigarilyas at Kalabasa",
          "Ginisang Sardinas at Miswa",
          "Homemade Fish Balls with Spicy Fish Ball Sauce",
          "Binagoongan Baboy sa Gata",
          "Beef Pares",
          "Pinatisang Manok",
          "Ginisang Upo at Sardinas",
          "Lalaine's Stewed Chicken and Potatoes in Fish Sauce",
          "Beef Wonton Mami",
          "Salt and Pepper Pork Chops",
          "Ginataang Seafood",
          "Ginisang Gulay",
          "Laswa",
          "Mango Curry Chicken",
          "Pinais na Hipon",
          "Nilagang Baboy",
          "Ampalaya with Chicken Feet",
          "Beef Mechado",
          "Crispy Pata",
          "Arroz Caldo",
          "Sipo Egg",
          "Bagis",
          "Sinampalukang Manok",
          "Pesang Dalag",
          "Tinolang Manok",
          "Tilapia in Black Bean Garlic Sauce",
          "Sinigang na Pata with Gabi",
          "Luncheon Meat Mac Salad with Cheese",
          "Shrimp and Chicken Pancit Canton",
          "Pandesal and Sardines Pizza",
          "Anghang Sarap Laing",
          "Ginataang Langka with Alimasag",
          "Seafood Sinigang",
          "Beef Short Rib Sinigang Na May Pakwan",
          "Ginataang Manok with Sitaw at Kalabasa",
          "Chicken Molo Soup",
          "Ginataang Gulay with Pork and Shrimp",
          "Pork Adobo Paksiw with Jeprox and Shrimp Fried Rice",
          "Sardines with Misua and Patola Recipe",
          "Friday Chicken Noodle Soup",
          "Pulled Chicken BBQ Sandwich recipe",
          "Sautéed String Beans with Chicken",
          "Lechon Lomi",
          "Tofu with Mushroom Gravy",
          "Chicken Salad Wrap",
          "Ham and Egg Fried Rice",
          "Chicken Noodle Soup Recipe",
          "Ginisang Pechay (Sautéed Bok Choy)"
         ],
         "legendgroup": "6",
         "marker": {
          "color": "rgb(17, 165, 121)",
          "size": 5,
          "symbol": "circle"
         },
         "mode": "markers",
         "name": "6",
         "scene": "scene",
         "showlegend": true,
         "type": "scatter3d",
         "x": [
          0.7665762305259705,
          0.7252025008201599,
          0.7713043093681335,
          0.7670576572418213,
          0.784408450126648,
          0.8429794907569885,
          0.706183671951294,
          0.8768954277038574,
          0.7670092582702637,
          0.7499885559082031,
          0.7551129460334778,
          0.7895715236663818,
          0.7421659827232361,
          0.8357650637626648,
          0.8288292288780212,
          0.7884742021560669,
          0.7595075964927673,
          0.7420254945755005,
          0.8328866362571716,
          0.771662712097168,
          0.8198068141937256,
          0.7643465995788574,
          0.8323009014129639,
          0.7917815446853638,
          0.7628328800201416,
          0.7402322292327881,
          0.79746013879776,
          0.815224826335907,
          0.7944877743721008,
          0.8319796323776245,
          0.7291382551193237,
          0.7825994491577148,
          0.7922987341880798,
          0.7297006249427795,
          0.8196433782577515,
          0.7413678169250488,
          0.7850514650344849,
          0.7508552670478821,
          0.8380368947982788,
          0.729184091091156,
          0.8437159657478333,
          0.6669958829879761,
          0.7643800973892212,
          0.7483211159706116,
          0.7701296806335449,
          0.8641233444213867,
          0.822737991809845,
          0.7882084846496582,
          0.7860262393951416,
          0.7624675631523132,
          0.821045994758606,
          0.8155905604362488,
          0.7700996398925781,
          0.7766309976577759,
          0.773604154586792,
          0.6884838342666626,
          0.786021888256073,
          0.7620875835418701,
          0.8628712892532349,
          0.8661308288574219,
          0.7937943935394287,
          0.7849677801132202,
          0.7828534245491028,
          0.7950388193130493,
          0.6617461442947388,
          0.7775264978408813,
          0.6934926509857178,
          0.861454963684082,
          0.7872673273086548,
          0.7715650796890259,
          0.839271605014801,
          0.8175339698791504,
          0.6749727725982666,
          0.7818295955657959,
          0.7257634997367859,
          0.8288266062736511,
          0.7573568224906921,
          0.7073249220848083,
          0.7445017695426941,
          0.8074264526367188,
          0.8275326490402222,
          0.6402509212493896,
          0.7700957655906677,
          0.8540949821472168,
          0.8862739205360413,
          0.8082500696182251,
          0.8513599038124084,
          0.8349173069000244,
          0.7731264233589172,
          0.8142849206924438,
          0.7731519341468811,
          0.7704830765724182,
          0.7428976893424988,
          0.754570722579956,
          0.7972143292427063,
          0.7131882905960083,
          0.7839899063110352,
          0.8165286779403687,
          0.7015860080718994,
          0.744027316570282,
          0.7271859645843506,
          0.8578168153762817,
          0.828565239906311,
          0.8355109691619873,
          0.7635782361030579,
          0.7618147134780884,
          0.7340853810310364,
          0.7619874477386475,
          0.7877776026725769,
          0.8323075175285339,
          0.783110499382019,
          0.8105113506317139,
          0.7832032442092896,
          0.7302024364471436,
          0.8090773224830627,
          0.7834125757217407,
          0.7178584337234497,
          0.8386630415916443,
          0.7394188046455383,
          0.7283681035041809,
          0.7126602530479431,
          0.7599637508392334,
          0.6624214053153992,
          0.8134580850601196,
          0.8490264415740967,
          0.7666480541229248,
          0.7544636130332947,
          0.8368678689002991,
          0.7816505432128906,
          0.8199204206466675,
          0.7911144495010376,
          0.779849648475647,
          0.7900492548942566,
          0.7285270094871521,
          0.7942217588424683,
          0.7298967838287354,
          0.7466901540756226,
          0.8177003860473633,
          0.7230637669563293,
          0.7197197675704956,
          0.7807234525680542,
          0.7574337720870972,
          0.7062559127807617,
          0.7825199365615845,
          0.7712461352348328,
          0.7764763832092285,
          0.7558654546737671,
          0.7094684839248657,
          0.8351492881774902,
          0.8068801164627075,
          0.7639173269271851,
          0.7362344264984131,
          0.8310106992721558,
          0.7729141712188721,
          0.7100748419761658,
          0.7278739213943481,
          0.809451162815094,
          0.7301543354988098,
          0.8112310767173767,
          0.7780657410621643,
          0.7418231964111328,
          0.7239996790885925,
          0.8204211592674255,
          0.8492224216461182,
          0.8545540571212769,
          0.8166401386260986,
          0.7591866254806519,
          0.6803790330886841,
          0.8333444595336914,
          0.8413668870925903,
          0.8078254461288452,
          0.7332019805908203,
          0.7170125842094421,
          0.728974461555481,
          0.8372008204460144,
          0.7949095964431763,
          0.6673184037208557,
          0.7299349308013916,
          0.7667809724807739,
          0.7962742447853088,
          0.791770339012146,
          0.7867170572280884,
          0.7394552826881409,
          0.7610254287719727,
          0.8376609086990356,
          0.7164183855056763,
          0.7751131057739258,
          0.7708643078804016,
          0.7864081859588623,
          0.7509864568710327,
          0.7927409410476685,
          0.7761353254318237,
          0.804053783416748,
          0.8001422882080078,
          0.8042498230934143,
          0.8630409240722656,
          0.7967190742492676,
          0.8652489185333252,
          0.8125695586204529,
          0.8487487435340881,
          0.7555878162384033,
          0.7828370928764343,
          0.8087682723999023,
          0.7575153112411499,
          0.7823283672332764,
          0.8147807121276855,
          0.7042253017425537,
          0.779055655002594,
          0.7938289642333984,
          0.7053117752075195,
          0.7764007449150085,
          0.8002220988273621,
          0.7757070064544678,
          0.7770687937736511,
          0.70885169506073,
          0.7482764720916748,
          0.7024317979812622,
          0.7657129764556885,
          0.7578808665275574,
          0.8556731343269348,
          0.8448716402053833,
          0.8147998452186584,
          0.7295849323272705,
          0.7185700535774231,
          0.805038571357727,
          0.794918417930603,
          0.7946692109107971,
          0.7848904132843018,
          0.7673677206039429,
          0.7070622444152832,
          0.7472847700119019,
          0.816601037979126,
          0.75234055519104,
          0.7804677486419678,
          0.7854216694831848,
          0.8533267974853516,
          0.7527639865875244,
          0.7062634229660034,
          0.8597921133041382,
          0.7004393339157104,
          0.7462313175201416,
          0.7674363851547241,
          0.7872164249420166,
          0.7663834095001221,
          0.742489755153656,
          0.745803713798523,
          0.7174251079559326,
          0.6005203127861023,
          0.6707449555397034,
          0.6609327793121338,
          0.6694972515106201,
          0.6354159116744995,
          0.7545583844184875,
          0.7301443815231323,
          0.7504093050956726,
          0.7705685496330261,
          0.8058260083198547,
          0.7323302626609802,
          0.8494219183921814,
          0.7835740447044373,
          0.7360807657241821,
          0.7284977436065674,
          0.7208011746406555,
          0.7674528360366821,
          0.8082812428474426
         ],
         "y": [
          0.4108732044696808,
          0.3695279657840729,
          0.4210316836833954,
          0.487241268157959,
          0.3988637328147888,
          0.2796291410923004,
          0.39462465047836304,
          0.32096877694129944,
          0.5006573796272278,
          0.48242825269699097,
          0.4917822480201721,
          0.40133845806121826,
          0.3478044867515564,
          0.2770773768424988,
          0.3045594096183777,
          0.49995025992393494,
          0.380399227142334,
          0.4742604196071625,
          0.2352529764175415,
          0.37562665343284607,
          0.3550402820110321,
          0.37418025732040405,
          0.2978461980819702,
          0.49728110432624817,
          0.378824383020401,
          0.29542577266693115,
          0.22536560893058777,
          0.3951060175895691,
          0.41069158911705017,
          0.3310934603214264,
          0.31588470935821533,
          0.39866718649864197,
          0.37138864398002625,
          0.39722880721092224,
          0.43869394063949585,
          0.4058016538619995,
          0.29419761896133423,
          0.46363359689712524,
          0.252296507358551,
          0.271901398897171,
          0.2914685308933258,
          0.4606056213378906,
          0.43705785274505615,
          0.3561905324459076,
          0.33974048495292664,
          0.2830224633216858,
          0.396213173866272,
          0.451869398355484,
          0.3385840058326721,
          0.28646522760391235,
          0.2880118191242218,
          0.2865216135978699,
          0.25240179896354675,
          0.4262036681175232,
          0.3869985342025757,
          0.4820060133934021,
          0.29488709568977356,
          0.4336428940296173,
          0.3408011794090271,
          0.34917211532592773,
          0.43050917983055115,
          0.42059630155563354,
          0.43124526739120483,
          0.4358097016811371,
          0.38629236817359924,
          0.4245256185531616,
          0.5095655918121338,
          0.33492422103881836,
          0.33991187810897827,
          0.4817678928375244,
          0.36570534110069275,
          0.35157597064971924,
          0.42849284410476685,
          0.4476895034313202,
          0.5052934885025024,
          0.30784910917282104,
          0.40817955136299133,
          0.48541849851608276,
          0.4014244079589844,
          0.38462087512016296,
          0.31199926137924194,
          0.4201138913631439,
          0.46329548954963684,
          0.29740720987319946,
          0.2798651158809662,
          0.3122870624065399,
          0.33105579018592834,
          0.29859912395477295,
          0.2846057713031769,
          0.32930177450180054,
          0.30662959814071655,
          0.27802884578704834,
          0.41894739866256714,
          0.3712979555130005,
          0.34805357456207275,
          0.38941699266433716,
          0.46470552682876587,
          0.33054298162460327,
          0.5009897351264954,
          0.48159343004226685,
          0.33335497975349426,
          0.2729804515838623,
          0.29614391922950745,
          0.3324713110923767,
          0.408969521522522,
          0.3578973412513733,
          0.4172409176826477,
          0.4120676517486572,
          0.42433345317840576,
          0.26616811752319336,
          0.2796684205532074,
          0.295261025428772,
          0.2716130018234253,
          0.3534996509552002,
          0.3665701746940613,
          0.29149550199508667,
          0.36087125539779663,
          0.39332786202430725,
          0.43899327516555786,
          0.4384998679161072,
          0.31591132283210754,
          0.45676565170288086,
          0.48857104778289795,
          0.25597453117370605,
          0.31262141466140747,
          0.47098225355148315,
          0.4906058609485626,
          0.32132142782211304,
          0.49387431144714355,
          0.29918208718299866,
          0.28918156027793884,
          0.43025779724121094,
          0.331573486328125,
          0.46950823068618774,
          0.33098727464675903,
          0.3872030973434448,
          0.35399875044822693,
          0.3336670398712158,
          0.29281312227249146,
          0.3123123347759247,
          0.43066054582595825,
          0.3529069423675537,
          0.4455758333206177,
          0.3028050363063812,
          0.41958415508270264,
          0.2856467366218567,
          0.3285309672355652,
          0.393205463886261,
          0.3740816116333008,
          0.3691116273403168,
          0.4596315920352936,
          0.4631724953651428,
          0.3905761241912842,
          0.36918875575065613,
          0.3216312527656555,
          0.3924178183078766,
          0.30767232179641724,
          0.35457372665405273,
          0.3125051259994507,
          0.40891510248184204,
          0.47517770528793335,
          0.43868309259414673,
          0.44407206773757935,
          0.28444114327430725,
          0.378048837184906,
          0.3803125023841858,
          0.4652837812900543,
          0.4840964078903198,
          0.3554963767528534,
          0.2967604696750641,
          0.33433613181114197,
          0.41932231187820435,
          0.2794555723667145,
          0.5076861381530762,
          0.23704303801059723,
          0.3946130871772766,
          0.49095040559768677,
          0.44182226061820984,
          0.3617640733718872,
          0.3819848299026489,
          0.44391411542892456,
          0.4757555425167084,
          0.24557746946811676,
          0.21728064119815826,
          0.3376975953578949,
          0.43984076380729675,
          0.2921464145183563,
          0.3174683749675751,
          0.46872031688690186,
          0.4189899265766144,
          0.3923600912094116,
          0.4208080768585205,
          0.45202702283859253,
          0.3140508532524109,
          0.3915760815143585,
          0.2600019574165344,
          0.30550616979599,
          0.3253791630268097,
          0.40339410305023193,
          0.3191920816898346,
          0.21883292496204376,
          0.45693957805633545,
          0.3635730743408203,
          0.5029391646385193,
          0.32280266284942627,
          0.3087485730648041,
          0.3666578531265259,
          0.44149789214134216,
          0.423856258392334,
          0.4284181296825409,
          0.2909071147441864,
          0.32068881392478943,
          0.39999091625213623,
          0.25615787506103516,
          0.4667779803276062,
          0.4258928894996643,
          0.3561927080154419,
          0.4094286561012268,
          0.4378368556499481,
          0.2688668966293335,
          0.38970819115638733,
          0.3257514238357544,
          0.5057336091995239,
          0.4100396931171417,
          0.39223814010620117,
          0.3043326735496521,
          0.31926965713500977,
          0.32346832752227783,
          0.4912898540496826,
          0.4059757590293884,
          0.48625826835632324,
          0.275684654712677,
          0.48211216926574707,
          0.32043007016181946,
          0.3910514712333679,
          0.2975621223449707,
          0.5012479424476624,
          0.3359907269477844,
          0.2896389365196228,
          0.49227264523506165,
          0.4488021731376648,
          0.5142093896865845,
          0.3997127413749695,
          0.2647339701652527,
          0.2150563895702362,
          0.24507784843444824,
          0.2678125202655792,
          0.3292236924171448,
          0.31591087579727173,
          0.35655221343040466,
          0.3575417995452881,
          0.40621042251586914,
          0.2845165431499481,
          0.3235178589820862,
          0.3297981321811676,
          0.3066411316394806,
          0.2578544616699219,
          0.24036666750907898,
          0.2881847321987152,
          0.26931846141815186,
          0.3053319752216339,
          0.22204682230949402,
          0.271479994058609,
          0.22226253151893616,
          0.29301488399505615
         ],
         "z": [
          0.028619710355997086,
          0.10946878045797348,
          0.03540193289518356,
          -0.01474821288138628,
          -0.012219139374792576,
          -0.132883682847023,
          0.17199493944644928,
          -0.07735523581504822,
          0.10448618978261948,
          0.10154049098491669,
          -0.05128942430019379,
          0.09556500613689423,
          -0.07585024833679199,
          0.044048093259334564,
          0.042913805693387985,
          0.11749081313610077,
          -0.011246278882026672,
          0.09779352694749832,
          0.013018704950809479,
          0.12882286310195923,
          -0.06688908487558365,
          -0.14382892847061157,
          -0.00625029020011425,
          0.08338096737861633,
          0.0882452130317688,
          0.009144250303506851,
          0.014727924019098282,
          0.03753399848937988,
          -0.04714542627334595,
          0.06093931943178177,
          0.07000628113746643,
          -0.04400532692670822,
          -0.09601122885942459,
          -0.08105896413326263,
          -0.11707345396280289,
          0.10971632599830627,
          0.03349490463733673,
          0.007062440738081932,
          -0.07551178336143494,
          0.09424673020839691,
          0.05707945674657822,
          0.0312509685754776,
          0.03571562469005585,
          -0.041493698954582214,
          0.060378432273864746,
          -0.01078368816524744,
          0.06920227408409119,
          0.09848607331514359,
          0.11894744634628296,
          0.1755913645029068,
          -0.10218857228755951,
          0.005161304026842117,
          0.0950666293501854,
          0.10821408033370972,
          -0.07973694056272507,
          0.050041526556015015,
          0.09226063638925552,
          0.01844073086977005,
          -0.04919244349002838,
          -0.10008210688829422,
          -0.0037916875444352627,
          0.06709565222263336,
          -0.022639283910393715,
          0.10337577760219574,
          -0.009864261373877525,
          0.09699283540248871,
          0.09080764651298523,
          -0.08043036609888077,
          -0.04490751028060913,
          0.12163730710744858,
          0.08440077304840088,
          0.09684956073760986,
          0.08182476460933685,
          0.015741530805826187,
          -0.028686849400401115,
          0.03179289773106575,
          -0.037655554711818695,
          0.036254361271858215,
          0.14716264605522156,
          0.04167947173118591,
          -0.06058674305677414,
          -0.01695862226188183,
          0.033722009509801865,
          0.13306161761283875,
          0.027631286531686783,
          0.05743413791060448,
          -0.01172216422855854,
          -0.007379530929028988,
          0.0858822911977768,
          0.03836003690958023,
          0.07714273035526276,
          -0.06542082130908966,
          0.06386610865592957,
          -0.12131397426128387,
          0.02816520817577839,
          0.0073332954198122025,
          -0.029049299657344818,
          0.02543274685740471,
          0.08246338367462158,
          -0.021776817739009857,
          -0.0945008397102356,
          -0.1250859946012497,
          -0.11431644856929779,
          0.06917823851108551,
          0.024730218574404716,
          0.2518864572048187,
          0.22207681834697723,
          0.11227993667125702,
          -0.09225215762853622,
          0.1355935037136078,
          -0.09980417788028717,
          0.013705617748200893,
          -0.0693943053483963,
          -0.1450226753950119,
          -0.0046456195414066315,
          -0.1377609372138977,
          0.08367276936769485,
          -0.00948805920779705,
          -0.04753149300813675,
          -0.13579025864601135,
          0.22104495763778687,
          0.048981837928295135,
          0.041039735078811646,
          0.02382439561188221,
          -0.02774728462100029,
          0.01800703816115856,
          0.0012610340490937233,
          0.05279110372066498,
          0.04554624482989311,
          -0.09763465821743011,
          -0.01917831040918827,
          0.0584123432636261,
          0.05196557939052582,
          0.02616221457719803,
          -0.004608451388776302,
          -0.04728041589260101,
          -0.030213261023163795,
          0.05289236083626747,
          0.06309600919485092,
          0.16079717874526978,
          -0.029001731425523758,
          -0.054487522691488266,
          0.08870409429073334,
          -0.12168708443641663,
          -0.07559730112552643,
          0.15215401351451874,
          0.0052944086492061615,
          -0.019404655322432518,
          -0.01584291085600853,
          0.09798335283994675,
          0.034566089510917664,
          0.00593884103000164,
          -0.037278108298778534,
          -0.04725588113069534,
          0.13655395805835724,
          0.007208514492958784,
          -0.15675505995750427,
          0.18427474796772003,
          -0.11381974816322327,
          0.003953155130147934,
          0.10134200751781464,
          -0.08172138035297394,
          -0.0372140109539032,
          0.011535490863025188,
          -0.05660780519247055,
          0.04019618406891823,
          0.053509004414081573,
          0.06442731618881226,
          -0.03406073898077011,
          -0.07711505889892578,
          0.07274387776851654,
          0.021554403007030487,
          0.03845265880227089,
          0.02690957486629486,
          0.16706156730651855,
          -0.03231963515281677,
          0.0675564780831337,
          -0.1249575987458229,
          0.013517997227609158,
          -0.039522577077150345,
          0.03271413594484329,
          -0.03042086400091648,
          0.13318181037902832,
          0.08242379128932953,
          0.04770735651254654,
          0.10616461932659149,
          0.25385627150535583,
          0.1706339418888092,
          0.0335686132311821,
          -0.0048944586887955666,
          -0.06864957511425018,
          -0.02385980635881424,
          0.0930636003613472,
          0.139637753367424,
          0.0164350438863039,
          -0.09492391347885132,
          -0.04180997982621193,
          -0.007347721606492996,
          -0.09473270177841187,
          -0.022770803421735764,
          0.14621502161026,
          0.00616111233830452,
          0.06982402503490448,
          0.11316715180873871,
          0.08120459318161011,
          0.14973434805870056,
          0.1584654450416565,
          0.06216655671596527,
          0.1147272065281868,
          -0.037130147218704224,
          -0.0024007847532629967,
          0.14933165907859802,
          0.02902422659099102,
          0.06894182413816452,
          0.12393639981746674,
          -0.09987322986125946,
          0.06632018089294434,
          0.08192618936300278,
          0.04367925226688385,
          -0.06608162075281143,
          -0.008779455907642841,
          -0.09147896617650986,
          0.03053455799818039,
          0.0500345379114151,
          0.10991954803466797,
          0.13671287894248962,
          0.00403942633420229,
          0.10278049111366272,
          0.015605933032929897,
          0.02609351836144924,
          0.030976248905062675,
          0.07808263599872589,
          -0.0047796331346035,
          -0.0771893635392189,
          -0.0363912396132946,
          -0.08222760260105133,
          0.06162036955356598,
          0.07602483034133911,
          -0.07855755090713501,
          0.030656112357974052,
          -0.010532364249229431,
          0.07995004206895828,
          -0.03518560528755188,
          -0.1649438589811325,
          0.11252264678478241,
          0.10288017243146896,
          0.06684917211532593,
          0.04472356289625168,
          0.05162973701953888,
          0.05565382540225983,
          -0.00779364351183176,
          0.06588969379663467,
          -0.015226015821099281,
          0.0038217278197407722,
          0.034958742558956146,
          -0.09486016631126404,
          0.05742606148123741,
          0.06655584275722504,
          -0.008404766209423542,
          -0.11263996362686157,
          0.22290192544460297,
          0.11325986683368683,
          0.01809464395046234,
          0.09353139996528625,
          -0.05365433543920517
         ]
        },
        {
         "customdata": [
          [
           "beef<br>butter<br>chili<br>soy sauce"
          ],
          [
           "celery<br>chili<br>cornstarch<br>ginger<br>peanut<br>shrimp<br>soy sauce<br>vinegar<br>wine"
          ],
          [
           "fish sauce<br>pasta<br>patola<br>pork"
          ],
          [
           "bay leaf<br>chili<br>lemon<br>peppercorn<br>pork<br>soy sauce<br>vinegar"
          ],
          [
           "chili<br>cornstarch<br>mussel<br>peppercorn<br>vinegar"
          ],
          [
           "butter<br>chili sauce<br>lemon<br>shrimp<br>vegetable oil<br>wine"
          ],
          [
           "bay leaf<br>chicken<br>chili garlic sauce<br>peppercorn<br>soy sauce<br>vinegar"
          ],
          [
           "bay leaf<br>peppercorn<br>pork<br>vinegar"
          ],
          [
           "bay leaf<br>pork rib<br>soy sauce<br>star anise"
          ],
          [
           "chicken<br>chili<br>ginger<br>honey<br>lemon<br>sesame seed<br>soy sauce<br>vinegar"
          ],
          [
           "cabbage<br>mushroom<br>pork<br>soy sauce<br>star anise<br>vinegar<br>wine"
          ],
          [
           "chili<br>cinnamon<br>oregano<br>pork<br>tomato<br>vinegar"
          ],
          [
           "beef<br>bitter gourd<br>cornstarch<br>oyster sauce<br>sesame oil<br>soy sauce"
          ],
          [
           "beef<br>cabbage<br>fish sauce<br>potato<br>tomato"
          ],
          [
           "bay leaf<br>pork<br>soy sauce<br>vinegar"
          ],
          [
           "bay leaf<br>bell pepper<br>carrot<br>pork<br>potato<br>tomato sauce"
          ],
          [
           "cornstarch<br>lemon<br>pork<br>soy sauce"
          ],
          [
           "eggplant<br>fish sauce<br>okra<br>pork<br>radish<br>spinach<br>string bean<br>tamarind<br>tomato"
          ],
          [
           "broccoli<br>carrot<br>ginger<br>oyster sauce<br>tofu"
          ],
          [
           "banana<br>fish sauce<br>pork<br>vinegar"
          ],
          [
           "bay leaf<br>chicken<br>oyster sauce<br>soy sauce<br>vinegar"
          ],
          [
           "bean<br>cabbage<br>corn<br>fish sauce<br>peppercorn<br>pork<br>potato"
          ],
          [
           "chicken<br>egg<br>oyster sauce<br>rice<br>sesame oil<br>soy sauce<br>vegetable"
          ],
          [
           "bell pepper<br>cabbage<br>coconut<br>fish<br>fish sauce<br>ginger<br>pineapple"
          ],
          [
           "annatto<br>fish sauce<br>pasta<br>pork"
          ],
          [
           "bell pepper<br>eggplant<br>ginger<br>oyster sauce<br>pork<br>sesame oil<br>soy sauce"
          ],
          [
           "bean<br>cabbage<br>carrot<br>corn<br>crab<br>egg<br>pasta<br>soy sauce<br>squid"
          ],
          [
           "carrot<br>egg<br>fish sauce<br>flour<br>pasta<br>patola<br>shrimp<br>tofu"
          ],
          [
           "chili<br>coconut<br>eggplant<br>fish sauce<br>pork<br>shrimp<br>tomato<br>vinegar"
          ],
          [
           "corn<br>corn kernel<br>crab<br>fish sauce<br>pork"
          ],
          [
           "bell pepper<br>cabbage<br>carrot<br>pea<br>pork<br>soy sauce"
          ],
          [
           "bean<br>beef<br>cabbage<br>corn<br>fish sauce<br>potato"
          ],
          [
           "fish<br>fish sauce<br>mustard<br>okra<br>radish<br>spinach<br>string bean<br>tamarind<br>tomato"
          ],
          [
           "cabbage<br>chicken<br>chili<br>fish sauce<br>ginger<br>tomato"
          ],
          [
           "fish sauce<br>mustard<br>okra<br>radish<br>salmon<br>tamarind<br>tomato"
          ],
          [
           "coconut<br>fish<br>squash<br>string bean"
          ],
          [
           "fish<br>fish sauce<br>mung bean<br>pork<br>tomato"
          ],
          [
           "annatto<br>bell pepper<br>cabbage<br>carrot<br>fish sauce<br>peas<br>pork<br>shrimp<br>soy sauce"
          ],
          [
           "annatto<br>bean<br>beef<br>bell pepper<br>chili<br>fish sauce<br>knob ginger<br>lemongrass<br>tomato sauce"
          ],
          [
           "chicken<br>ketchup<br>oyster sauce<br>sausage"
          ],
          [
           "carrot<br>jicama<br>lettuce<br>sesame oil<br>soy sauce<br>vinegar"
          ],
          [
           "cheese<br>pasta<br>sausage<br>tomato<br>tomato sauce"
          ],
          [
           "butter<br>carrot<br>egg<br>pea<br>pork<br>rice<br>soy sauce"
          ],
          [
           "bell pepper<br>carrot<br>cheese<br>luncheon<br>pea<br>potato<br>tomato sauce"
          ],
          [
           "basil<br>beef<br>cheese<br>egg<br>parsley<br>pasta<br>tomato sauce"
          ],
          [
           "eggplant<br>fish sauce<br>okra<br>pork<br>radish<br>spinach<br>string bean<br>tamarind<br>tomato"
          ],
          [
           "bell pepper<br>egg<br>lemon<br>mayonnaise<br>paprika<br>pork<br>rice<br>sausage"
          ],
          [
           "bell pepper<br>chicken<br>laurel<br>lemon<br>potato<br>soy sauce<br>tomato sauce"
          ],
          [
           "bell pepper<br>carrot<br>laurel<br>pea<br>pork<br>soy sauce<br>vinegar"
          ],
          [
           "eggplant<br>fish sauce<br>okra<br>pork<br>radish<br>spinach<br>string bean<br>tamarind<br>tomato"
          ],
          [
           "bay leaf<br>carrot<br>hotdog<br>pea<br>pork<br>potato<br>tomato<br>tomato sauce"
          ],
          [
           "annatto<br>bay leaf<br>carrot<br>chili<br>fish sauce<br>ginger<br>pork<br>vinegar"
          ],
          [
           "bagoong<br>chili<br>coconut<br>fish<br>fish sauce<br>jackfruit<br>milk<br>shrimp<br>vinegar"
          ],
          [
           "bean<br>chicken<br>chili<br>coconut<br>shrimp"
          ],
          [
           "chili<br>coconut<br>fish sauce<br>ginger<br>milk<br>papaya<br>pork<br>spinach"
          ],
          [
           "bean<br>bell pepper<br>broccoli<br>carrot<br>coconut"
          ],
          [
           "coconut<br>malunggay<br>mung bean<br>pork<br>tofu<br>tomato"
          ],
          [
           "chicken<br>malunggay<br>papaya<br>pasta<br>patis pepper<br>rice"
          ],
          [
           "bagoong<br>coconut<br>malunggay<br>milk<br>squash<br>string bean"
          ],
          [
           "chicken<br>fish sauce<br>ginger<br>okra<br>radish<br>spinach<br>string bean<br>tamarind<br>tomato"
          ],
          [
           "beef<br>chili<br>fish sauce<br>ginger<br>kamia<br>melon<br>pork<br>vinegar"
          ],
          [
           "beef<br>beef rib<br>bell pepper<br>carrot<br>potato<br>soy sauce<br>thyme<br>tomato sauce<br>wine"
          ],
          [
           "butter<br>cabbage<br>egg<br>lemon<br>oyster sauce<br>pancit<br>shrimp<br>soy sauce"
          ],
          [
           "beef<br>cabbage<br>corn<br>fish sauce<br>peppercorn"
          ],
          [
           "beef<br>egg<br>ginger<br>miki pasta<br>potato<br>soy sauce<br>star anise"
          ],
          [
           "beef<br>cheese<br>parsley<br>pasta<br>tomato<br>tomato sauce"
          ],
          [
           "bay leaf<br>beef<br>lemon<br>potato<br>soy sauce<br>tomato sauce"
          ],
          [
           "bell pepper<br>carrot<br>coconut<br>fish sauce<br>milk<br>pineapple<br>pork"
          ],
          [
           "bean<br>fish sauce<br>pork<br>tomato"
          ],
          [
           "bay leaf<br>ginger<br>pork<br>tamarind"
          ],
          [
           "fish<br>kamia<br>pork<br>tomato"
          ],
          [
           "bell pepper<br>carrot<br>pork<br>potato<br>tomato sauce"
          ],
          [
           "eggplant<br>ginger<br>lemongrass<br>okra<br>shrimp<br>spinach<br>string bean"
          ],
          [
           "coconut<br>fish sauce<br>ginger<br>milk<br>pork<br>string bean"
          ],
          [
           "annatto<br>chicken<br>ginger<br>lemon lime soda<br>lemongrass<br>margarine<br>tamarind"
          ],
          [
           "chili<br>fish<br>fish sauce<br>miso<br>mustard<br>okra<br>radish<br>tamarind<br>tomato"
          ],
          [
           "bay leaf<br>bell pepper<br>carrot<br>chicken<br>fish sauce<br>pineapple<br>potato<br>tomato sauce"
          ],
          [
           "bay leaf<br>carrot<br>coconut<br>milk<br>pork<br>potato<br>soy sauce<br>tomato sauce"
          ],
          [
           "banana<br>bean<br>cabbage<br>patis pepper<br>pork<br>potato<br>sausage<br>tomato<br>tomato sauce"
          ],
          [
           "bay leaf<br>peppercorn<br>pork<br>pork sauce<br>vinegar"
          ],
          [
           "beef<br>bell pepper<br>carrot<br>chili<br>peanut butter<br>potato<br>soy sauce<br>tomato sauce"
          ],
          [
           "annatto<br>carrot<br>celery<br>chicken<br>fish sauce<br>pasta"
          ],
          [
           "annatto<br>egg<br>fish<br>patis pepper<br>rice<br>shrimp"
          ],
          [
           "mung bean<br>patis pepper<br>shrimp<br>spinach<br>tomato"
          ],
          [
           "bean<br>beef<br>patis pepper<br>potato<br>tomato"
          ],
          [
           "egg<br>eggplant<br>fish<br>lemon<br>tomato"
          ],
          [
           "cornstarch<br>pork<br>soy sauce<br>star anise"
          ],
          [
           "cabbage<br>fish sauce<br>ginger<br>miso<br>peppercorn<br>rice<br>soy sauce<br>tofu<br>tomato"
          ],
          [
           "banana<br>chili<br>coconut<br>pork"
          ],
          [
           "bell pepper<br>chicken<br>chili<br>ginger<br>lemongrass<br>soy sauce<br>vinegar"
          ],
          [
           "butter<br>crab<br>lemon<br>mussel<br>rice<br>squid"
          ],
          [
           "bell pepper<br>carrot<br>coconut<br>milk<br>pea<br>pork<br>potato<br>tomato sauce"
          ],
          [
           "chicken<br>malunggay<br>pasta<br>patis pepper"
          ],
          [
           "bell pepper<br>carrot<br>chili<br>pea<br>pork<br>pork rib<br>potato<br>tomato sauce"
          ],
          [
           "cabbage<br>fish<br>pasta<br>patis pepper<br>tomato"
          ],
          [
           "eggplant<br>fish sauce<br>okra<br>radish<br>spinach<br>tamarind<br>tomato"
          ],
          [
           "bell pepper<br>chili<br>ginger<br>peanut<br>scallion<br>shrimp"
          ],
          [
           "beef<br>corn<br>egg<br>fish sauce<br>rice<br>scallion"
          ],
          [
           "eggplant<br>fish sauce<br>okra<br>radish<br>snake bean<br>spinach<br>tamarind<br>tomato"
          ],
          [
           "cabbage<br>carrot<br>chicken<br>egg<br>pasta"
          ],
          [
           "mung bean<br>patis pepper<br>pork<br>spinach<br>tomato"
          ],
          [
           "eggplant<br>fish sauce<br>okra<br>pork<br>snake bean<br>spinach<br>tamarind<br>tomato"
          ],
          [
           "anchovy<br>chili<br>coconut<br>jackfruit<br>malunggay<br>milk<br>patis pepper"
          ],
          [
           "hotdog<br>pasta<br>pork<br>tomato sauce"
          ],
          [
           "bell pepper<br>carrot<br>cauliflower<br>chicken<br>cornstarch<br>pea"
          ],
          [
           "cabbage<br>carrot<br>celery<br>mushroom<br>oyster sauce<br>pancit<br>parsley<br>pea<br>soy sauce"
          ],
          [
           "annatto<br>bay leaf<br>cabbage<br>carrot<br>celery<br>chicken<br>fish sauce<br>pasta<br>scallion"
          ],
          [
           "beef<br>ginger<br>scallion<br>soy sauce<br>star anise"
          ],
          [
           "cabbage<br>carrot<br>celery<br>chicken<br>parsley<br>pasta<br>soy sauce"
          ],
          [
           "chili<br>fish sauce<br>okra<br>pork<br>radish<br>snake bean<br>spinach<br>tamarind<br>tomato"
          ],
          [
           "bell pepper<br>cabbage<br>chicken<br>oyster sauce"
          ],
          [
           "soy sauce<br>squid<br>tomato<br>vinegar"
          ],
          [
           "bay leaf<br>peppercorn<br>pineapple<br>pork<br>soy sauce"
          ],
          [
           "bagoong<br>bean<br>chili<br>coconut<br>pork"
          ],
          [
           "bell pepper<br>celery<br>chicken<br>chili<br>coconut<br>fish sauce<br>potato"
          ],
          [
           "bean<br>coconut<br>pork<br>squash"
          ],
          [
           "beef broth<br>bell pepper<br>carrot<br>chili<br>pea<br>pork<br>potato<br>soy sauce<br>tomato"
          ],
          [
           "bean<br>soy sauce<br>spinach<br>vinegar"
          ],
          [
           "chicken broth<br>cornstarch<br>oyster sauce<br>spinach<br>squid"
          ],
          [
           "beer<br>lime<br>pork<br>soy sauce"
          ],
          [
           "bottle gourd<br>fish sauce<br>pork<br>squash<br>tomato"
          ],
          [
           "bagoong<br>egg<br>lemon<br>pork<br>soy sauce<br>tomato"
          ],
          [
           "bell pepper<br>carrot<br>pork<br>potato<br>tomato<br>tomato sauce"
          ],
          [
           "bagoong<br>chili<br>coconut<br>milk<br>pork"
          ],
          [
           "chicken<br>egg<br>peppercorn<br>pork<br>soy sauce<br>vinegar"
          ],
          [
           "chicken<br>rice<br>scallion<br>sesame oil"
          ],
          [
           "chili<br>coconut cream<br>pork<br>shrimp"
          ],
          [
           "chicken<br>egg<br>peppercorn<br>pork<br>soy sauce<br>vinegar"
          ],
          [
           "bagoong<br>bitter gourd<br>fish<br>okra<br>snake bean<br>tomato"
          ],
          [
           "chili<br>liempo<br>soy sauce<br>tofu<br>vinegar"
          ],
          [
           "chili<br>coconut cream<br>ginger<br>lime"
          ],
          [
           "beef broth<br>cornstarch<br>pork<br>soy sauce<br>wine"
          ],
          [
           "mung bean<br>pork<br>shrimp<br>spinach<br>tomato"
          ],
          [
           "fish sauce<br>lime<br>malunggay<br>mung bean<br>pork<br>tomato"
          ],
          [
           "cabbage<br>chicken broth<br>fish sauce<br>pork<br>shrimp<br>tomato"
          ],
          [
           "chicken broth<br>malunggay<br>shrimp<br>snake bean<br>squash"
          ],
          [
           "fish sauce<br>malunggay<br>mung bean<br>pork<br>spinach<br>tomato"
          ],
          [
           "chili<br>coconut<br>fish sauce<br>scallion<br>shrimp"
          ],
          [
           "chili<br>coconut<br>pork<br>shrimp"
          ],
          [
           "fish<br>fish sauce<br>melon<br>scallion<br>tomato"
          ],
          [
           "ketchup<br>lemon<br>pork<br>soy sauce"
          ],
          [
           "beef<br>cabbage<br>chili<br>fish sauce<br>lemon<br>peppercorn"
          ],
          [
           "beef<br>cornstarch<br>oyster sauce<br>pea<br>sherry<br>soy sauce"
          ],
          [
           "cabbage<br>carrot<br>mung bean<br>scallion<br>shrimp"
          ],
          [
           "okra<br>pork<br>soy sauce<br>vinegar"
          ],
          [
           "beef<br>beef broth<br>lemon<br>soy sauce"
          ],
          [
           "beef<br>egg<br>fish sauce<br>miki pasta<br>scallion"
          ],
          [
           "chili<br>coconut cream<br>pork<br>shrimp"
          ],
          [
           "beef<br>beef broth<br>garlic rice<br>ginger<br>scallion<br>soy sauce<br>star anise"
          ],
          [
           "bell pepper<br>lime<br>pea<br>pork<br>potato<br>soy sauce"
          ],
          [
           "bay leaf<br>chicken<br>chicken broth<br>peppercorn<br>pork<br>soy sauce<br>vinegar"
          ],
          [
           "bean<br>eggplant<br>fish sauce<br>pork<br>serrano pepper<br>spinach<br>tomato"
          ],
          [
           "beef<br>chicken broth<br>pasta<br>patola<br>pork"
          ],
          [
           "annatto<br>beef<br>chili<br>fish sauce<br>jackfruit<br>plum tomato<br>tamarind"
          ],
          [
           "bagoong<br>coconut vinegar<br>pork<br>soy sauce<br>spinach"
          ],
          [
           "beef<br>celery<br>fish sauce<br>miki pasta<br>pork<br>scallion"
          ],
          [
           "fish<br>fish sauce<br>okra<br>tomato"
          ],
          [
           "cabbage<br>celery<br>fish sauce<br>potato<br>rib"
          ],
          [
           "beef<br>beef broth<br>lemon<br>soy sauce"
          ],
          [
           "eggplant<br>gourd<br>okra<br>squash<br>string bean<br>tomato<br>vegetable broth"
          ],
          [
           "fish<br>fish sauce<br>squash<br>string bean"
          ],
          [
           "beef<br>beef broth<br>lime<br>scallion<br>soy sauce"
          ],
          [
           "cabbage<br>chicken broth<br>fish sauce<br>pork"
          ],
          [
           "lime<br>pork rib<br>sesame seed<br>soy sauce"
          ],
          [
           "beef<br>cornstarch<br>ginger<br>sauce<br>scallion<br>sesame oil<br>soy sauce<br>vinegar<br>wine"
          ],
          [
           "chicken<br>egg<br>margarine<br>mayonnaise<br>pork"
          ],
          [
           "chili<br>ginger<br>pork<br>shrimp"
          ],
          [
           "lime<br>pork<br>sauce<br>soy sauce"
          ],
          [
           "beef broth<br>bell pepper<br>cabbage<br>carrot<br>cornstarch<br>parsley<br>pork<br>soy sauce"
          ],
          [
           "dried fish<br>fish sauce<br>malunggay<br>mung bean<br>plum tomato"
          ],
          [
           "bean<br>fish sauce<br>plum tomato<br>pork"
          ],
          [
           "crab<br>fish sauce<br>ginger<br>pasta<br>patola"
          ],
          [
           "beef<br>cornstarch<br>oyster sauce<br>peas<br>soy sauce"
          ],
          [
           "butter<br>ketchup<br>sauce<br>sherry wine"
          ],
          [
           "cabbage<br>chicken broth<br>shrimp<br>tomato"
          ],
          [
           "beef broth<br>chili<br>fish sauce<br>okra<br>pork<br>spinach<br>tamarind<br>taro<br>tomato"
          ],
          [
           "fish<br>fish sauce<br>ginger<br>malunggay"
          ],
          [
           "fish<br>lemon<br>parsley<br>soy sauce"
          ],
          [
           "cabbage<br>carrot<br>lemon<br>pork<br>soy sauce<br>squid"
          ],
          [
           "dried fish<br>plum tomato<br>rice<br>vinegar"
          ],
          [
           "cabbage<br>carrot<br>chicken broth<br>pasta<br>pea<br>pork"
          ],
          [
           "chicken<br>chicken broth<br>ginger<br>lemon<br>rice<br>saffron<br>scallion"
          ],
          [
           "beef broth<br>chili<br>fish sauce<br>okra<br>pork<br>spinach<br>tamarind<br>taro<br>tomato"
          ],
          [
           "cabbage<br>plum tomato<br>pork<br>sausage"
          ],
          [
           "bell pepper<br>lemongrass<br>pork rib<br>rice<br>string bean<br>taro"
          ],
          [
           "cabbage<br>carrot<br>chicken broth<br>fish sauce<br>pasta<br>pea<br>pork<br>shrimp<br>soy sauce"
          ],
          [
           "chili<br>coconut<br>fish sauce<br>malunggay<br>milk<br>squid"
          ],
          [
           "bay leaf<br>cabbage<br>soy sauce<br>vinegar"
          ],
          [
           "banana blossom<br>chili<br>fish sauce<br>vegetable broth<br>vinegar"
          ],
          [
           "fish<br>fish sauce<br>spinach<br>tamarind<br>tomato"
          ],
          [
           "bay leaf<br>fish sauce<br>spinach<br>zucchini"
          ],
          [
           "chili<br>ketchup<br>lemon<br>rib<br>soy sauce"
          ],
          [
           "lemon<br>sauce<br>soy sauce<br>squid"
          ],
          [
           "black bean<br>cornstarch<br>fish<br>oyster sauce<br>parsley<br>soy sauce"
          ],
          [
           "chayote<br>chili<br>fish sauce<br>ginger<br>malunggay<br>salmon"
          ],
          [
           "fish<br>fish sauce<br>miso<br>mustard<br>okra<br>tomato"
          ],
          [
           "bean<br>cornstarch<br>oyster sauce<br>parsley<br>pork"
          ],
          [
           "banana<br>beef broth<br>cabbage<br>fish sauce<br>pork<br>potato<br>squash<br>tomato sauce"
          ],
          [
           "chicken<br>chicken broth<br>fish sauce<br>ginger<br>spinach"
          ],
          [
           "cornstarch<br>mushroom<br>oyster sauce<br>parsley<br>soy sauce"
          ],
          [
           "lime<br>margarine<br>mayonnaise<br>pork<br>sauce<br>soy sauce"
          ],
          [
           "banana<br>beef broth<br>cabbage<br>carrot<br>pea<br>pork<br>soy sauce"
          ],
          [
           "cabbage<br>fish<br>fish sauce<br>ice<br>scallion<br>vegetable broth"
          ],
          [
           "bagoong<br>mango<br>pork<br>rice<br>scallion"
          ],
          [
           "chili<br>cilantro<br>lemon<br>tomato"
          ],
          [
           "butter<br>celery<br>chicken<br>rosemary<br>thyme<br>turkey"
          ],
          [
           "fish<br>fish sauce<br>ginger<br>lemon<br>lemongrass<br>malunggay"
          ],
          [
           "chili<br>fish<br>fish sauce<br>lemon<br>parsley<br>tomato"
          ],
          [
           "chili<br>oyster sauce<br>spinach<br>tofu"
          ],
          [
           "egg<br>eggplant<br>pork<br>soy sauce<br>tomato"
          ],
          [
           "chili<br>coconut<br>fish sauce<br>ginger<br>milk"
          ],
          [
           "annatto<br>bay leaf<br>bell pepper<br>carrot<br>ginger<br>pork<br>vinegar"
          ],
          [
           "celery<br>chicken<br>chicken broth<br>cornstarch<br>lemon<br>sherry<br>soy sauce"
          ],
          [
           "bay leaf<br>beef broth<br>carrot<br>celery<br>cornstarch<br>paprika<br>potato"
          ],
          [
           "honey<br>oyster sauce<br>pork<br>sesame oil<br>sherry<br>soy sauce"
          ],
          [
           "cabbage<br>carrot<br>chicken<br>miki pasta<br>oyster sauce<br>pork<br>sherry<br>soy sauce"
          ],
          [
           "chili<br>cilantro<br>fish<br>lime<br>pineapple<br>tomato"
          ],
          [
           "chili<br>crab<br>mussel<br>rice<br>saffron<br>squid<br>tomato sauce"
          ],
          [
           "fish<br>ginger<br>pandan<br>tomato"
          ],
          [
           "beef<br>chili<br>ginger<br>oyster sauce<br>soy sauce<br>spinach"
          ],
          [
           "chili<br>cucumber<br>fish<br>ginger<br>lemon<br>liempo<br>vinegar"
          ],
          [
           "cabbage<br>fish<br>fish sauce<br>ginger<br>peppercorn<br>rice"
          ],
          [
           "annatto<br>chicken<br>coconut vinegar<br>ginger<br>lemon<br>lemongrass<br>margarine<br>sauce"
          ],
          [
           "annatto<br>carrot<br>celery<br>chicken<br>fish sauce<br>pasta<br>peppercorn"
          ],
          [
           "bell pepper<br>chili<br>chili sauce<br>lemon<br>rice wine<br>tomato sauce"
          ],
          [
           "bay leaf<br>beef broth<br>peppercorn<br>pork<br>pork sauce<br>soy sauce<br>vinegar"
          ],
          [
           "beef broth<br>cornstarch<br>soy sauce<br>star anise"
          ],
          [
           "butter<br>crab<br>lemon<br>parsley"
          ],
          [
           "beef<br>cabbage<br>egg<br>pasta<br>star anise"
          ],
          [
           "chili sauce<br>crab<br>fish sauce<br>ginger<br>ketchup<br>sesame oil<br>soy sauce"
          ],
          [
           "chili<br>lemon<br>soy sauce<br>squid<br>tomato"
          ],
          [
           "fish sauce<br>salmon<br>spinach<br>tamarind<br>tomato"
          ],
          [
           "chili<br>coconut<br>fish sauce<br>ginger<br>milk<br>pork<br>shrimp<br>taro"
          ]
         ],
         "hovertemplate": "<b>%{hovertext}</b><br><br>cluster=5<br>x=%{x}<br>y=%{y}<br>z=%{z}<br>cleaned_ingredients=%{customdata[0]}<extra></extra>",
         "hovertext": [
          "Beef Salpicao",
          "Kung Pao Shrimp",
          "Miswa at Patola Soup",
          "Sizzling Sisig",
          "Crispy Tahong (Deep-Fried Mussels)",
          "Sriracha Shrimp Scampi",
          "Adobong Paa nang Manok (Chicken Feet Adobo)",
          "Adobong Puti",
          "Pork Spareribs Macao-style Asado",
          "Plum Sauce Chicken Lollipops",
          "Pata Tim",
          "Mexican Pork Adobo",
          "Ampalaya con Carne",
          "Beef, Potato and Pechay Soup",
          "Pork Adobo",
          "How to Cook Easy Pork Afritada",
          "Pork Chop Steak",
          "Lechon Sinigang",
          "Tofu and Broccoli Stir fry",
          "Ginisang Puso ng Saging",
          "Chicken Adobo Recipe (boneless thigh)",
          "Nilagang Pata",
          "Chicken Fried Rice Recipe",
          "Fish in Coconut Milk with Pineapple",
          "Sotanghon with Sayote and Giniling",
          "Eggplant with Ground Pork in Oyster Sauce",
          "Seafood Lomi Recipe",
          "Tofu Balls Almondigas with Misua and Patola",
          "Pork Binagoongan sa Gata",
          "Suam na Mais",
          "Amazing Cabbage Recipe",
          "Better Beef Nilaga",
          "How to Cook Sinigang na Bangus",
          "Kinamatisang Manok",
          "Fish Sinigang Recipe",
          "Ginataang Sitaw at Kalabasa with Fried Tilapia",
          "Pork Monggo with Fried Galunggong",
          "Sotanghon Guisado",
          "Balbacua Recipe",
          "Stir Fried Chicken Franks",
          "Asian Chicken Lettuce Wrap",
          "Longganisa Pasta",
          "Tocino Fried Rice Recipe",
          "Luncheon Meat Caldereta",
          "Lasagna Roll-Ups",
          "Killer Crispy Sinigang",
          "Sisig Paella",
          "Chicken Mechado",
          "Igado Recipe",
          "Sinigang",
          "Pork Afritada Recipe",
          "Bopis Recipe",
          "Utan nga Langka Recipe",
          "Chicken Gizzard Bicol Express",
          "Pork Curry Tinola",
          "Healthy Ginataang Gulay with Tofu and Shrimp",
          "Ginataang Monggo with Tofu and Malunggay",
          "Chicken Sotanghon Tinola Recipe",
          "Ginataang Hipon, Sitaw, at Kalabasa",
          "Chicknigang Recipe",
          "Pinapaitan sa Ampalaya",
          "Beef Caldereta Recipe",
          "Garlic Butter Shrimp Pancit Canton",
          "Bulalo Recipe",
          "Beef Pares Lomi",
          "Baked Spaghetti",
          "Beef Mechado Recipe",
          "Pininyahang Baboy sa Gata",
          "Ginisang Sigarilyas",
          "How to Cook Dinuguan Using Sinigang Mix",
          "Pinangat na Galunggong sa Kamias",
          "Pork Caldereta Recipe",
          "Easy Utan Bisaya (Law-Uy)",
          "Ginataang Kalabasa at Sitaw",
          "Sinigang Mix Inasal na Manok",
          "Air Fried Fish Sinigang sa Miso",
          "Pineapple Chicken Afritada",
          "Pork Menudo sa Gata",
          "Pata Pochero",
          "Lechon Paksiw",
          "Filipino Beef Caldereta (Pulutan Style)",
          "Garlic Bihon Recipe",
          "Arroz Palabok",
          "Tipid Sarap Monggo",
          "Kinamatisang Baka",
          "Eggplant and Sardine Omelet",
          "Sweet Pata Asado",
          "Pesang Isda with Ginisang Miso",
          "Ginataang Puso ng Saging",
          "Chicken Hinalang (Halang-halang na Manok)",
          "Aligue Fried Rice",
          "Pork Menudo sa Gata",
          "Chicken Sotanghon Soup with Malunggay at Sayote",
          "Spareribs Kaldereta",
          "Sardines with Sotanghon and Pechay",
          "Fish Sinigang",
          "Easy Kung Pao Shrimp Recipe",
          "Bulalugaw Recipe",
          "Sinigang na Hipon",
          "Chicken Mami Recipe",
          "Pork Monggo with Kangkong Recipe",
          "Sinigang na Lechon",
          "Ginataang Langka with Malunggay and Dilis",
          "Meaty Spaghetti Recipe",
          "Super Tasty Chop Suey",
          "Vegetarian Pancit Canton",
          "Chicken Sotanghon Soup",
          "Beef Pares",
          "Chicken Pancit Recipe",
          "Sinigang na Baboy with Gabi",
          "Ginisang Repolyo with Chicken",
          "Adobong Pusit Recipe",
          "Pata Hamonado",
          "Gising Gising Recipe",
          "Filipino Style Chicken Curry Recipe",
          "Ginataang Gulay",
          "Spicy Pork Kaldereta Recipe",
          "Adobong Sitaw at Kangkong with Chicharon",
          "Kangkong with Squid Balls in Oyster Sauce",
          "Root Beer Pork Steak",
          "Ginisang Upo at Kalabasa - Sauteed Opo and Butternut Squash",
          "Filipino Fried Pork Chop Recipe with Tomato and Salted Egg",
          "Calderetang Baboy Recipe",
          "Bicol Express ala Bebet",
          "Bacon and Egg Chicken Adobo",
          "Chicken Congee Recipe",
          "Ginataang Santol (Sinantolan) Recipe",
          "Bacon and Egg Chicken Adobo",
          "Dinengdeng na Saluyot with Tinapa",
          "Grilled Liempo with Fried Tofu",
          "Kilawing Tuna with Coconut Cream (Fish Ceviche)",
          "Asadong Baboy",
          "Shrimp Monggo with Lechon Kawali",
          "Ginisang Monggo with Inihaw na Liempo",
          "Ginisang Pechay with Ground Pork and Shrimp (Sauteed Bok Choy)",
          "Ginisang Sitaw at Kalabasa with Shrimp",
          "Pork Monggo Recipe",
          "Spicy Ginataang Hipon Recipe",
          "Pork Bicol Express Recipe",
          "Ginisang Sardinas with Ampalaya",
          "Inihaw na Baboy",
          "Batangas Bulalo Recipe",
          "Stir Fried Beef with Oyster Sauce and Snap Peas",
          "Mung Bean Sprouts with Shrimp",
          "Adobong Okra with Pork Recipe",
          "Slow Cooked Beefsteak (Bistek Tagalog)",
          "Beef Pares Mami Noodles Recipe",
          "Pork Chop Bicol Express",
          "Crockpot Beef Pares Recipe",
          "Pork Mechado Recipe",
          "Paksiw na Lechon Manok",
          "Sinigang na Buntot ng Baboy with Gabi",
          "Misua with Patola and Meatballs",
          "Cansi Recipe (Ilonggo Bulalo and Sinigang in one Delicious Soup Dish)",
          "Apan - Apan Recipe (Adobong Kangkong with Fried Pork)",
          "Beef Batchoy with Liver and Bung",
          "Ginisang Okra with Fish Flakes Recipe",
          "Pork Baby Back Ribs Nilaga Recipe",
          "Pinoy Beefsteak",
          "Ginisang Gulay",
          "Ginisang Kalabasa at Sitaw with Daing Recipe",
          "Sirloin Beef Steak Tagalog",
          "Bok Choy Guisado Recipe",
          "Asian Style Spare Ribs",
          "Mongolian Beef",
          "Grilled Liempo Sisig Recipe",
          "Laing with Shrimp Recipe",
          "Grilled Pork Belly",
          "Pork Chop Suey Recipe",
          "Monggo with Tuyo Recipe (Mung Beans with Salted Fish)",
          "Ginisang Baguio Beans with Pork",
          "Crab with Misua and Patola",
          "Beef in Oyster Sauce with Snow Peas",
          "Chili Garlic Shrimp Stir Fry",
          "Sauteed Bok Choy with Shrimp",
          "Sinigang na Liempo sa Sampaloc",
          "Tinolang Bangus Recipe",
          "Filipino Fish Steak Recipe",
          "Pancit Udon Recipe",
          "Tuyo with Rice and Tomato",
          "Pancit Bato Noodle Soup",
          "Rotisserie Chicken Arroz Caldo Recipe",
          "Sinigang na Liempo sa Sampaloc with Gabi",
          "Pamplina Recipe (Pork and Chorizo Soup with Beans)",
          "Linat an Recipe (Boiled Pork Soup with Lemongrass)",
          "Pancit Bato Guisado",
          "Ginataang Pusit Recipe (squid in coconut milk)",
          "Bok Choy Adobo",
          "Kilawing Puso ng Saging",
          "Fried Bangus Sinigang sa Miso",
          "Scallop and Zucchini Stir fry",
          "Grilled Ribs with Pico de Gallo",
          "Grilled Calamari",
          "Tilapia with Salted Black Beans",
          "Fish Tinola Recipe",
          "Sinigang na Tilapia sa Miso Recipe",
          "Pork with Salted Black Beans",
          "Pata Pochero Recipe",
          "Easy Chicken Tinola Recipe",
          "Lengua Con Setas Recipe",
          "Lechon Sisig Recipe",
          "Pancit Habhab Recipe",
          "Fish Ball Soup Recipe",
          "Bagoong Rice Recipe",
          "Pico de Gallo",
          "Classic Roast Turkey Recipe",
          "Fish in Ginger Soup",
          "Ginisang Sardinas Recipe (Sautéed Sardines)",
          "Kangkong and Tofu Stir Fry",
          "Rellenong Talong (Stuffed Eggplant) Recipe",
          "Ginataang Hipon Recipe",
          "Spicy Bopis Recipe",
          "Oriental Lemon Chicken Recipe",
          "Beef Stew Recipe",
          "Barbecued Pork Char Siu",
          "Pancit Miki Guisado Recipe",
          "Baked Tilapia with Grilled Pineapple Salsa",
          "Paella Marinera Recipe",
          "Genesee's Grilled Boneless Bangus in Pandan Leaves",
          "Beef in Oyster Sauce",
          "Sinuglaw",
          "Pesang Isda Recipe",
          "Chicken Inasal Recipe",
          "Sotanghon Guisado Recipe",
          "Sizzling Gambas Recipe",
          "Lechon Paksiw Recipe",
          "Special Siopao Sauce Recipe",
          "Baked King Crab Legs with Garlic Lemon Butter Sauce",
          "Beef Mami Recipe",
          "Chili Crab",
          "Inihaw na Pusit Recipe (Grilled Squid)",
          "Sinigang na Salmon Recipe",
          "Laing Recipe"
         ],
         "legendgroup": "5",
         "marker": {
          "color": "rgb(57, 105, 172)",
          "size": 5,
          "symbol": "circle"
         },
         "mode": "markers",
         "name": "5",
         "scene": "scene",
         "showlegend": true,
         "type": "scatter3d",
         "x": [
          0.824118435382843,
          0.7945001125335693,
          0.8329925537109375,
          0.8278704881668091,
          0.8532727360725403,
          0.8138675093650818,
          0.8836073875427246,
          0.8618261814117432,
          0.8021982908248901,
          0.8748178482055664,
          0.7951322793960571,
          0.8506748676300049,
          0.8553569912910461,
          0.8787782192230225,
          0.8119946122169495,
          0.8906578421592712,
          0.851240873336792,
          0.7701029777526855,
          0.8725345730781555,
          0.9077125191688538,
          0.8732627630233765,
          0.8134278655052185,
          0.865743100643158,
          0.8243335485458374,
          0.8758335113525391,
          0.8221433162689209,
          0.8214703798294067,
          0.9084787368774414,
          0.7747241854667664,
          0.9057883620262146,
          0.8651024699211121,
          0.8701493740081787,
          0.7484477758407593,
          0.891808807849884,
          0.7359084486961365,
          0.7472420334815979,
          0.8995149731636047,
          0.9270339012145996,
          0.8636890649795532,
          0.834719717502594,
          0.863204836845398,
          0.6922378540039062,
          0.853041410446167,
          0.8639323115348816,
          0.8258147835731506,
          0.8300683498382568,
          0.7324733734130859,
          0.8900594711303711,
          0.8319579362869263,
          0.81446373462677,
          0.8938384056091309,
          0.8768665790557861,
          0.867218017578125,
          0.8133281469345093,
          0.8428175449371338,
          0.7674500346183777,
          0.7569597363471985,
          0.7641035318374634,
          0.7567236423492432,
          0.7867234349250793,
          0.8549695014953613,
          0.8663039207458496,
          0.8435808420181274,
          0.8549728393554688,
          0.8809115886688232,
          0.6677216291427612,
          0.9022428393363953,
          0.8689079284667969,
          0.8037020564079285,
          0.8080856204032898,
          0.7994516491889954,
          0.8744969367980957,
          0.8272442817687988,
          0.8704912662506104,
          0.6766990423202515,
          0.710367739200592,
          0.91269850730896,
          0.8930346369743347,
          0.8010838031768799,
          0.8544164896011353,
          0.8745681643486023,
          0.9056950807571411,
          0.8044923543930054,
          0.8178596496582031,
          0.8389657735824585,
          0.7807008028030396,
          0.8317803144454956,
          0.8741813898086548,
          0.7979038953781128,
          0.8482880592346191,
          0.7636679410934448,
          0.8578512072563171,
          0.8195184469223022,
          0.8685705065727234,
          0.7858394384384155,
          0.8138523697853088,
          0.8815083503723145,
          0.8937278389930725,
          0.7708842754364014,
          0.8484727740287781,
          0.8217740058898926,
          0.7788941860198975,
          0.6826815605163574,
          0.8528056740760803,
          0.8374348878860474,
          0.852828323841095,
          0.8859366178512573,
          0.8419673442840576,
          0.8284090757369995,
          0.7706981897354126,
          0.8267098665237427,
          0.8939936757087708,
          0.8805378079414368,
          0.7905987501144409,
          0.8110261559486389,
          0.7546013593673706,
          0.9040654897689819,
          0.8140397071838379,
          0.8095340132713318,
          0.8566334843635559,
          0.8732263445854187,
          0.8281927704811096,
          0.8188703656196594,
          0.8287603259086609,
          0.7839305996894836,
          0.8460650444030762,
          0.8610081672668457,
          0.7839305996894836,
          0.6495133638381958,
          0.8169243335723877,
          0.8637521266937256,
          0.8469313979148865,
          0.7805588245391846,
          0.8781342506408691,
          0.8636484146118164,
          0.8689112663269043,
          0.8822032809257507,
          0.8206831812858582,
          0.769676685333252,
          0.8798907995223999,
          0.8199087381362915,
          0.8802133798599243,
          0.8593883514404297,
          0.8584059476852417,
          0.8181367516517639,
          0.8385512828826904,
          0.8329784274101257,
          0.9017127752304077,
          0.8720661997795105,
          0.8792492151260376,
          0.8134448528289795,
          0.7549290657043457,
          0.7807973027229309,
          0.8225409984588623,
          0.7203198671340942,
          0.8858726024627686,
          0.7965817451477051,
          0.83320152759552,
          0.7813557386398315,
          0.8252814412117004,
          0.8681273460388184,
          0.8773578405380249,
          0.8945910334587097,
          0.8153271675109863,
          0.8225446939468384,
          0.8384607434272766,
          0.8584275245666504,
          0.7806534171104431,
          0.8876203894615173,
          0.835233747959137,
          0.8657090663909912,
          0.8847533464431763,
          0.8815988302230835,
          0.8761419653892517,
          0.8537415862083435,
          0.8608907461166382,
          0.8441563844680786,
          0.8344805836677551,
          0.8988913893699646,
          0.6032634377479553,
          0.7652550935745239,
          0.8704388737678528,
          0.8608907461166382,
          0.7804173827171326,
          0.8312588334083557,
          0.8827667236328125,
          0.8900681138038635,
          0.853246808052063,
          0.8304123878479004,
          0.858784556388855,
          0.8406995534896851,
          0.8195128440856934,
          0.7921741604804993,
          0.8562400937080383,
          0.8504413962364197,
          0.8615401983261108,
          0.8755578398704529,
          0.89714115858078,
          0.8368352651596069,
          0.8373425006866455,
          0.7988674640655518,
          0.8809599876403809,
          0.8596862554550171,
          0.757725715637207,
          0.7726179361343384,
          0.6805489659309387,
          0.7910139560699463,
          0.8620637655258179,
          0.8467812538146973,
          0.8468197584152222,
          0.882654070854187,
          0.7739005088806152,
          0.785335123538971,
          0.8675601482391357,
          0.7305818796157837,
          0.8946096897125244,
          0.8555408716201782,
          0.7870038151741028,
          0.7067759037017822,
          0.8687545657157898,
          0.7869511842727661,
          0.856886625289917,
          0.7907952666282654,
          0.8355318307876587,
          0.8772835731506348,
          0.8233215808868408,
          0.8169821500778198,
          0.7546312212944031,
          0.8819490671157837,
          0.8412450551986694,
          0.760769784450531,
          0.7032802104949951,
          0.8311653733253479
         ],
         "y": [
          0.18746867775917053,
          0.1933625340461731,
          0.21230420470237732,
          0.23083963990211487,
          0.1177714467048645,
          0.24842573702335358,
          0.06930729746818542,
          0.16890740394592285,
          0.2144479751586914,
          0.022091809660196304,
          0.13200171291828156,
          0.1934232860803604,
          0.09210583567619324,
          0.035805247724056244,
          0.26047220826148987,
          0.04484126344323158,
          0.0036785174161195755,
          0.11053740233182907,
          0.12659034132957458,
          0.06408874690532684,
          0.006262233480811119,
          0.08841784298419952,
          -0.03850981593132019,
          0.22311291098594666,
          0.02551094815135002,
          -0.05746447294950485,
          0.15621739625930786,
          0.08164944499731064,
          0.21568109095096588,
          0.06731560826301575,
          0.0330297127366066,
          0.11014343798160553,
          0.18498024344444275,
          0.09636388719081879,
          0.16334813833236694,
          0.06911347806453705,
          0.07208816707134247,
          0.003792477771639824,
          -0.04058338701725006,
          0.016496770083904266,
          0.02885257638990879,
          0.07978171110153198,
          0.08717674016952515,
          0.09129790961742401,
          -0.015715640038251877,
          0.10556918382644653,
          0.01647033542394638,
          -0.03482053801417351,
          -0.033899009227752686,
          -0.007224855944514275,
          -0.03243030607700348,
          -0.04912035912275314,
          -0.03143720701336861,
          0.026747168973088264,
          -0.0772116556763649,
          0.011610332876443863,
          0.11782610416412354,
          0.15923786163330078,
          0.09317484498023987,
          -0.023393237963318825,
          -0.043409425765275955,
          0.06066685542464256,
          0.14982163906097412,
          0.1194576621055603,
          0.012529848143458366,
          0.08620792627334595,
          0.012933055870234966,
          0.11870435625314713,
          -0.0067472513765096664,
          -0.009132802486419678,
          -0.04461216554045677,
          0.0928088128566742,
          -0.007585139945149422,
          -0.003633948042988777,
          0.09743532538414001,
          0.23858000338077545,
          0.019385602325201035,
          0.05430830270051956,
          0.1123882532119751,
          -0.00731302797794342,
          0.09811678528785706,
          0.1070542261004448,
          0.11384179443120956,
          0.05968660116195679,
          0.0024390574544668198,
          0.03901403024792671,
          0.09234209358692169,
          -0.0157785527408123,
          0.06201869249343872,
          -0.044667888432741165,
          0.08066138625144958,
          0.09703771770000458,
          0.1048966646194458,
          0.13304835557937622,
          0.20053957402706146,
          0.13106206059455872,
          0.020778855308890343,
          0.03284819424152374,
          0.15805895626544952,
          0.1283433586359024,
          0.09158637374639511,
          0.038242463022470474,
          -0.03309287130832672,
          0.03460707515478134,
          0.01855533756315708,
          -0.06266827136278152,
          0.12148293852806091,
          0.005052072927355766,
          0.0316045917570591,
          0.14411954581737518,
          0.10528051108121872,
          -0.0028236424550414085,
          -0.04362878203392029,
          0.08594634383916855,
          -0.005671740509569645,
          0.13363060355186462,
          0.02877698466181755,
          0.027207057923078537,
          0.149994358420372,
          -0.016089243814349174,
          0.05351676791906357,
          0.02980085089802742,
          0.23610039055347443,
          0.009034981019794941,
          0.12619364261627197,
          0.06203129142522812,
          -0.030211107805371284,
          0.12619364261627197,
          0.04193682223558426,
          0.22915849089622498,
          0.08994416147470474,
          0.11710414290428162,
          0.0748877227306366,
          0.0814201682806015,
          0.0660872608423233,
          0.0021050777286291122,
          0.03499017655849457,
          0.24945878982543945,
          0.10469374805688858,
          0.005706742871552706,
          0.0839327871799469,
          0.16042357683181763,
          0.022433968260884285,
          0.00930520985275507,
          0.22857819497585297,
          0.06832487881183624,
          0.17206737399101257,
          0.01284795068204403,
          -0.05065326765179634,
          0.12929297983646393,
          0.10199256241321564,
          0.16924989223480225,
          0.11349040269851685,
          0.024546518921852112,
          0.13995569944381714,
          0.025456957519054413,
          0.15976129472255707,
          0.02777782268822193,
          0.09709074348211288,
          0.2065630704164505,
          0.021958135068416595,
          0.02005397528409958,
          0.06141347438097,
          0.09967918694019318,
          0.177690789103508,
          0.13416025042533875,
          0.10724770277738571,
          0.12822727859020233,
          0.08953233063220978,
          0.0596921481192112,
          -0.0036953133530914783,
          0.1291152834892273,
          0.12552455067634583,
          0.011892191134393215,
          -0.007799345999956131,
          0.045347295701503754,
          0.01142808049917221,
          0.09467500448226929,
          0.09426718950271606,
          0.02735162153840065,
          0.018873047083616257,
          0.002302771434187889,
          0.045347295701503754,
          0.025037994608283043,
          -0.01249272096902132,
          0.09887337684631348,
          0.07978339493274689,
          -0.013848838396370411,
          0.11898520588874817,
          0.0853380337357521,
          0.15878894925117493,
          0.00035307276993989944,
          0.15803396701812744,
          0.17390096187591553,
          0.08808062970638275,
          0.10491293668746948,
          0.04008358716964722,
          0.15969857573509216,
          0.05335718393325806,
          0.07086837291717529,
          0.039403244853019714,
          0.11425650119781494,
          0.11353177577257156,
          0.1649402529001236,
          0.005130292847752571,
          0.07453938573598862,
          -0.037252478301525116,
          0.04370981454849243,
          0.07243931293487549,
          0.10572817921638489,
          0.09798723459243774,
          0.017082443460822105,
          0.11685389280319214,
          0.029969491064548492,
          -0.015428809449076653,
          0.06050856038928032,
          -0.009875339455902576,
          0.15060803294181824,
          0.046617601066827774,
          -0.013135408982634544,
          0.04972953349351883,
          0.10338783264160156,
          0.09361916035413742,
          -0.025609273463487625,
          0.021940670907497406,
          0.11214369535446167,
          0.06701235473155975,
          0.0016775813419371843,
          0.1363532990217209,
          0.026185262948274612,
          0.005933387205004692,
          0.22778475284576416,
          0.005886920727789402
         ],
         "z": [
          -0.08899928629398346,
          -0.1117035374045372,
          -0.1286950409412384,
          -0.168718159198761,
          -0.06605225801467896,
          -0.15009178221225739,
          -0.12015234678983688,
          -0.0932876244187355,
          -0.12368010729551315,
          -0.09620441496372223,
          -0.1974712312221527,
          -0.08681114763021469,
          -0.13263848423957825,
          -0.13260139524936676,
          -0.1982705295085907,
          -0.18299636244773865,
          -0.26153117418289185,
          -0.2599361538887024,
          -0.07954879850149155,
          -0.22401447594165802,
          -0.17726077139377594,
          -0.15495765209197998,
          -0.19188104569911957,
          -0.2470746636390686,
          -0.2492673397064209,
          -0.2669706344604492,
          -0.0861920714378357,
          -0.0833747461438179,
          -0.2067185342311859,
          -0.1205720603466034,
          -0.2091790735721588,
          -0.09020807594060898,
          -0.2431396245956421,
          -0.20328062772750854,
          -0.24040937423706055,
          -0.14146828651428223,
          -0.267896443605423,
          -0.18702103197574615,
          -0.2592763900756836,
          -0.09316380321979523,
          -0.10558164119720459,
          -0.0967990905046463,
          -0.10368691384792328,
          -0.0922786146402359,
          -0.09423018246889114,
          -0.3062845766544342,
          -0.13444188237190247,
          -0.20593973994255066,
          -0.2928156554698944,
          -0.174988254904747,
          -0.22212368249893188,
          -0.31637370586395264,
          -0.1836886703968048,
          -0.23900772631168365,
          -0.2882438600063324,
          -0.15708936750888824,
          -0.12878011167049408,
          -0.21459464728832245,
          -0.18453028798103333,
          -0.2273164689540863,
          -0.3582943379878998,
          -0.14093543589115143,
          -0.14681190252304077,
          -0.18812015652656555,
          -0.14749205112457275,
          -0.09895143657922745,
          -0.23705905675888062,
          -0.1342783272266388,
          -0.25887739658355713,
          -0.30743953585624695,
          -0.2624354958534241,
          -0.15459701418876648,
          -0.15217792987823486,
          -0.20394864678382874,
          -0.09399112313985825,
          -0.2729400098323822,
          -0.20056970417499542,
          -0.22487443685531616,
          -0.09239202737808228,
          -0.2577156126499176,
          -0.16460776329040527,
          -0.14853161573410034,
          -0.09380361437797546,
          -0.17174206674098969,
          -0.2026551365852356,
          -0.21038766205310822,
          -0.16123872995376587,
          -0.23220773041248322,
          -0.2822411358356476,
          -0.25530391931533813,
          -0.19268250465393066,
          -0.13576561212539673,
          -0.11238706856966019,
          -0.19025006890296936,
          -0.21730881929397583,
          -0.25620466470718384,
          -0.19852060079574585,
          -0.26853132247924805,
          -0.22873781621456146,
          -0.11663982272148132,
          -0.24552233517169952,
          -0.17205753922462463,
          -0.18477857112884521,
          -0.12851954996585846,
          -0.09852461516857147,
          -0.2413647323846817,
          -0.19811952114105225,
          -0.2284587323665619,
          -0.1114845722913742,
          -0.15853217244148254,
          -0.10098491609096527,
          -0.176565021276474,
          -0.22936856746673584,
          -0.16580452024936676,
          -0.12901923060417175,
          -0.19049477577209473,
          -0.161453515291214,
          -0.3211280107498169,
          -0.18277649581432343,
          -0.22469472885131836,
          -0.12997838854789734,
          -0.15492814779281616,
          -0.07841584086418152,
          -0.24191325902938843,
          -0.12404102087020874,
          -0.12907329201698303,
          -0.15217991173267365,
          -0.12404102087020874,
          -0.08862610161304474,
          -0.08490345627069473,
          -0.09488453716039658,
          -0.18927031755447388,
          -0.2346729040145874,
          -0.24605053663253784,
          -0.15556882321834564,
          -0.14261093735694885,
          -0.11747349798679352,
          -0.2168480008840561,
          -0.23831012845039368,
          -0.10676974058151245,
          -0.09246856719255447,
          -0.14532148838043213,
          -0.138939768075943,
          -0.10613422095775604,
          -0.1895201951265335,
          -0.11137834936380386,
          -0.12206423282623291,
          -0.18020983040332794,
          -0.2361035943031311,
          -0.099716916680336,
          -0.1830442100763321,
          -0.22747188806533813,
          -0.12728570401668549,
          -0.08572037518024445,
          -0.2343430370092392,
          -0.11372745037078857,
          -0.20888932049274445,
          -0.13971751928329468,
          -0.1571427583694458,
          -0.07474847137928009,
          -0.1257794052362442,
          -0.1692911684513092,
          -0.09763506054878235,
          -0.18493662774562836,
          -0.13391141593456268,
          -0.13791042566299438,
          -0.044488295912742615,
          -0.14975853264331818,
          -0.1483973264694214,
          -0.19384445250034332,
          -0.15811915695667267,
          -0.14792980253696442,
          -0.04697715491056442,
          -0.13318148255348206,
          -0.17722918093204498,
          -0.20967574417591095,
          -0.18623296916484833,
          -0.19381281733512878,
          -0.12991270422935486,
          -0.18852204084396362,
          -0.20062577724456787,
          -0.21669384837150574,
          -0.20967574417591095,
          -0.16002559661865234,
          -0.11522176861763,
          -0.12985529005527496,
          -0.10734840482473373,
          -0.16700568795204163,
          -0.07935953885316849,
          -0.17929290235042572,
          -0.12177328765392303,
          -0.17284023761749268,
          -0.10514003038406372,
          -0.11244623363018036,
          -0.20744487643241882,
          -0.1959378868341446,
          -0.13394209742546082,
          -0.10154490172863007,
          -0.23622605204582214,
          -0.120277538895607,
          -0.13569660484790802,
          -0.04541652649641037,
          -0.02965434268116951,
          -0.1931329220533371,
          -0.1150665432214737,
          -0.07960182428359985,
          -0.33141303062438965,
          -0.2466331273317337,
          -0.21786129474639893,
          -0.11737865209579468,
          -0.099580317735672,
          -0.12451639771461487,
          -0.1187659278512001,
          -0.17569762468338013,
          -0.12973026931285858,
          -0.15653279423713684,
          -0.20659518241882324,
          -0.17607173323631287,
          -0.110320083796978,
          -0.2715217173099518,
          -0.21497566998004913,
          -0.13678115606307983,
          -0.08751790225505829,
          -0.11090177297592163,
          -0.2271307408809662,
          -0.20602452754974365,
          -0.14033377170562744,
          -0.10524308681488037,
          -0.050073347985744476,
          -0.15315525233745575,
          -0.3058243691921234,
          -0.24747130274772644,
          -0.20052960515022278
         ]
        },
        {
         "customdata": [
          [
           "paprika<br>pork<br>soy sauce<br>vinegar<br>wine"
          ],
          [
           "coconut<br>milk<br>pandan<br>rice"
          ],
          [
           "banana<br>cheese<br>egg<br>lettuce<br>mayonnaise<br>oyster sauce<br>tomato"
          ],
          [
           "bay leaf<br>breadcrumb<br>butter<br>honey<br>peppercorn<br>pork rib<br>soy sauce<br>vinegar"
          ],
          [
           "cornstarch<br>egg<br>ice<br>shrimp"
          ],
          [
           "banana<br>chili<br>oyster sauce<br>pork<br>shallot<br>spring wrapper"
          ],
          [
           "chili<br>coconut<br>coconut cream<br>ginger<br>lemongrass<br>milk<br>pork<br>shrimp<br>taro"
          ],
          [
           "baking<br>chili<br>cornstarch<br>egg<br>orange<br>shallot<br>soy sauce<br>vinegar"
          ],
          [
           "banana blossom<br>bay leaf<br>peppercorn<br>pork<br>soy sauce<br>vinegar"
          ],
          [
           "cornstarch<br>pork<br>soy sauce<br>vinegar"
          ],
          [
           "bay leaf<br>chicken<br>fish sauce<br>peppercorn"
          ],
          [
           "beef<br>ginger<br>sesame oil<br>sesame seed<br>soy sauce<br>vegetable oil"
          ],
          [
           "beef<br>carrot<br>fish sauce<br>peas<br>potato<br>raisin<br>tomato<br>tomato sauce"
          ],
          [
           "broccoli<br>carrot<br>cornstarch<br>oyster sauce<br>sesame oil<br>shrimp<br>vinegar<br>wine"
          ],
          [
           "bell pepper<br>cornstarch<br>pineapple<br>pork<br>soy sauce<br>vinegar<br>wine"
          ],
          [
           "fish<br>kamia<br>pork<br>vinegar"
          ],
          [
           "banana<br>bean<br>coconut<br>cream<br>ice<br>jackfruit<br>milk<br>yam"
          ],
          [
           "banana<br>beef<br>egg<br>pea<br>rice<br>soy sauce<br>tomato sauce"
          ],
          [
           "chicken<br>coconut<br>fish sauce<br>ginger<br>lime<br>milk"
          ],
          [
           "coconut<br>fish sauce<br>milk<br>mung bean<br>pork<br>spinach<br>tomato"
          ],
          [
           "cheese<br>ketchup<br>peas<br>pineapple<br>pork rib<br>potato<br>soy sauce"
          ],
          [
           "egg<br>potato<br>soy sauce<br>vinegar"
          ],
          [
           "chicken<br>chili<br>cornstarch<br>soy sauce<br>vegetable<br>wine"
          ],
          [
           "beef<br>ginger<br>sesame oil<br>sesame seed<br>soy sauce<br>vinegar"
          ],
          [
           "cornstarch<br>egg<br>milk<br>paprika<br>sauce<br>shrimp"
          ],
          [
           "chicken<br>chicken broth<br>chili<br>cornstarch<br>sesame oil<br>sesame seed<br>soy sauce<br>vinegar"
          ],
          [
           "bell pepper<br>carrot<br>egg<br>fish<br>lemon<br>mayonnaise<br>pickle<br>tamarind"
          ],
          [
           "bell pepper<br>chicken<br>cornstarch<br>egg<br>honey<br>oyster sauce<br>rice wine<br>sesame oil<br>soy sauce"
          ],
          [
           "annatto<br>bay leaf<br>chicken<br>coconut vinegar<br>ginger<br>lemon<br>lemongrass"
          ],
          [
           "chicken<br>chicken sauce<br>mango<br>sesame oil"
          ],
          [
           "chicken<br>chicken broth<br>cinnamon<br>ginger<br>rice wine<br>soy sauce<br>star anise"
          ],
          [
           "apple vinegar<br>bay leaf<br>peppercorn<br>pineapple<br>pork<br>soy sauce"
          ],
          [
           "lemongrass<br>pork rib<br>shallot<br>vinegar"
          ],
          [
           "beef<br>bell pepper<br>bread<br>cornstarch<br>egg<br>milk<br>pineapple<br>vinegar"
          ],
          [
           "bell pepper<br>chicken<br>chicken broth<br>cornstarch<br>ginger<br>pineapple<br>soy sauce"
          ],
          [
           "avocado<br>cucumber<br>rice<br>sesame oil<br>tomato<br>vinegar"
          ],
          [
           "baking<br>chicken<br>cornstarch<br>lemon<br>soy sauce"
          ],
          [
           "cornstarch<br>lemon<br>milk<br>squid"
          ],
          [
           "chicken<br>chicken broth<br>coconut<br>egg<br>flour<br>milk<br>peanut butter"
          ],
          [
           "buttermilk<br>cheese<br>chicken<br>chili<br>cornstarch<br>egg<br>ham<br>pineapple"
          ],
          [
           "bay leaf<br>ginger<br>pork rib<br>soy sauce<br>vinegar"
          ],
          [
           "annatto<br>bell pepper<br>butter<br>rice<br>shallot<br>soy sauce"
          ],
          [
           "beer<br>ham<br>mustard<br>pineapple"
          ],
          [
           "carrot<br>fish<br>lemon<br>oyster sauce<br>pea<br>raisin<br>soy sauce"
          ],
          [
           "bell pepper<br>carrot<br>ginger<br>peppercorn<br>raisin<br>vinegar"
          ],
          [
           "fish sauce<br>ginger<br>mussel<br>spinach<br>tomato"
          ],
          [
           "cabbage<br>carrot<br>chicken<br>corn<br>crab<br>egg<br>oyster sauce<br>pancit<br>sesame oil"
          ],
          [
           "butter<br>carrot<br>chicken<br>corn kernel<br>cream<br>mushroom<br>pea<br>tofu"
          ],
          [
           "annatto<br>egg<br>fish<br>fish sauce<br>flour<br>lemon<br>pork<br>rice<br>shrimp"
          ],
          [
           "baking<br>butter<br>chicken<br>cornstarch<br>egg<br>flour<br>tofu"
          ],
          [
           "flour<br>pasta<br>pasta sauce<br>pork"
          ],
          [
           "beef<br>bell pepper<br>cheese<br>cream cheese<br>mushroom<br>pasta<br>tomato sauce"
          ],
          [
           "bell pepper<br>carrot<br>chicken<br>coconut<br>pea<br>potato<br>tomato sauce"
          ],
          [
           "butter<br>carrot<br>chicken<br>corn kernel<br>cream<br>mushroom<br>pasta"
          ],
          [
           "butter<br>cheese<br>cream<br>flour<br>mushroom<br>pasta<br>pork"
          ],
          [
           "beef<br>butter<br>cream<br>mushroom<br>parsley"
          ],
          [
           "breadcrumb<br>cabbage<br>carrot<br>egg<br>flour<br>ice<br>pork<br>sesame oil<br>soy sauce"
          ],
          [
           "butter<br>chicken<br>egg<br>flour<br>milk<br>parsley"
          ],
          [
           "soy sauce<br>squid<br>tomato<br>vinegar"
          ],
          [
           "beef<br>cheese<br>parsley<br>pasta<br>pasta sauce"
          ],
          [
           "beef<br>cheese<br>pasta sauce<br>tomato"
          ],
          [
           "butter<br>cheese<br>cream<br>pasta"
          ],
          [
           "beef<br>beef broth<br>butter<br>flour<br>mushroom<br>parsley<br>soy sauce"
          ],
          [
           "bell pepper<br>cheese<br>egg<br>pea<br>sausage"
          ],
          [
           "bell pepper<br>cashew<br>egg<br>ham<br>pea<br>pineapple<br>rice"
          ],
          [
           "butter<br>cheese<br>ham<br>mushroom<br>pork"
          ],
          [
           "beef<br>bread<br>butter<br>cabbage<br>mayonnaise"
          ],
          [
           "beef<br>butter<br>carrot<br>kernel corn<br>pea"
          ],
          [
           "beef<br>bread crumb<br>cheese<br>egg<br>flour"
          ],
          [
           "bell pepper<br>cheese<br>pasta<br>pasta sauce<br>pork"
          ],
          [
           "bell pepper<br>carrot<br>chicken<br>coconut<br>cream<br>milk<br>mushroom<br>potato"
          ],
          [
           "corn<br>crab<br>ginger<br>mussel<br>shrimp"
          ],
          [
           "cabbage<br>carrot<br>celery<br>chicken<br>fish sauce<br>hotdog<br>milk<br>pasta"
          ],
          [
           "bean<br>butter<br>carrot<br>chicken<br>cream<br>mushroom"
          ],
          [
           "beef<br>cornstarch<br>lemon<br>peppercorn<br>soy sauce"
          ],
          [
           "butter<br>cheese<br>cream<br>grape tomato<br>lemon<br>parsley<br>pasta"
          ],
          [
           "breadcrumb<br>buttermilk<br>carrot<br>chicken<br>potato<br>sauce"
          ],
          [
           "bell pepper<br>celery<br>chicken<br>coconut<br>cream<br>fish sauce<br>ginger<br>milk<br>potato"
          ],
          [
           "bell pepper<br>carrot<br>chicken<br>cornstarch<br>pineapple<br>soy sauce"
          ],
          [
           "beef<br>butter<br>flour<br>milk<br>potato<br>rosemary<br>thyme"
          ],
          [
           "chicken<br>chili<br>cornstarch<br>crab<br>egg<br>ginger<br>ketchup<br>tomato"
          ],
          [
           "carrot<br>egg<br>fish sauce<br>pea<br>pork<br>potato<br>raisin<br>tomato"
          ],
          [
           "beef<br>broccoli<br>carrot<br>cornstarch<br>oyster sauce<br>sesame oil<br>sesame seed<br>soy sauce"
          ],
          [
           "avocado<br>cream<br>cream cheese<br>cucumber<br>mayonnaise<br>rice<br>sauce<br>vinegar"
          ],
          [
           "chicken<br>egg<br>fish sauce<br>ginger<br>lemon<br>rice<br>scallion"
          ],
          [
           "beef<br>beef hotdog<br>bread crumb<br>egg<br>pickle<br>pineapple<br>pork<br>raisin<br>tomato sauce"
          ],
          [
           "beef<br>butter<br>cheese<br>cream<br>mushroom<br>paprika<br>pasta"
          ],
          [
           "cheese<br>cocktail<br>coconut<br>cream<br>mayonnaise<br>milk<br>pasta"
          ],
          [
           "butter<br>chicken<br>chili<br>sausage"
          ],
          [
           "cornstarch<br>cream<br>fish<br>flour<br>parsley<br>rice<br>squash"
          ],
          [
           "bread<br>cheese<br>cream<br>lettuce<br>mayonnaise<br>pork<br>shrimp<br>tomato<br>turkey"
          ],
          [
           "bean<br>bell pepper<br>chicken<br>ketchup<br>pea<br>soy sauce<br>tomato<br>tomato sauce"
          ],
          [
           "beef<br>bell pepper<br>cheese<br>cream<br>ketchup<br>pasta<br>tomato sauce"
          ],
          [
           "banana<br>bay leaf<br>carrot<br>peppercorn<br>pork<br>soy sauce<br>vinegar"
          ],
          [
           "chicken<br>ketchup<br>lemon<br>soy sauce"
          ],
          [
           "beef<br>fish sauce<br>mung bean<br>pork<br>spinach<br>tomato"
          ],
          [
           "banana<br>beef<br>beef broth<br>cabbage<br>celery<br>potato<br>star anise"
          ],
          [
           "coconut<br>eggplant<br>malunggay<br>tofu"
          ],
          [
           "cabbage<br>cornstarch<br>mushroom<br>peppercorn<br>pork<br>sesame oil<br>soy sauce<br>star anise<br>wine"
          ],
          [
           "beef<br>breadcrumb<br>butter<br>egg<br>flour<br>mushroom<br>parsley"
          ],
          [
           "bagoong<br>eggplant<br>pork<br>tomato<br>vinegar"
          ],
          [
           "beef<br>butter<br>cream<br>egg<br>flour<br>mushroom<br>pasta"
          ],
          [
           "beef<br>cabbage<br>carrot<br>celery<br>egg<br>miki pasta<br>mung bean<br>pork<br>soy sauce"
          ],
          [
           "butter<br>cheese<br>cream<br>parsley<br>salmon<br>spinach<br>sun tomato"
          ],
          [
           "coconut<br>crab<br>ginger<br>snake bean<br>squash"
          ],
          [
           "annatto<br>banana<br>cabbage<br>eggplant<br>flour<br>peanut<br>pork<br>shrimp<br>string bean"
          ],
          [
           "annatto<br>bagoong<br>bean<br>beef<br>cabbage<br>cornstarch<br>eggplant<br>peanut"
          ],
          [
           "butter<br>cheese<br>cream<br>fish<br>linguine<br>milk<br>parsley"
          ],
          [
           "beef<br>carrot<br>cornstarch<br>egg<br>flour<br>pasta<br>soy sauce"
          ],
          [
           "egg<br>fish<br>flour<br>pasta<br>tomato"
          ],
          [
           "bell pepper<br>carrot<br>cheese<br>chicken<br>chili<br>potato<br>tomato<br>tomato sauce"
          ],
          [
           "annatto<br>egg<br>fish<br>flour<br>pasta<br>patis pepper<br>pork<br>shrimp"
          ],
          [
           "carrot<br>egg<br>jicama<br>pork<br>scallion<br>sesame oil<br>wonton wrapper"
          ],
          [
           "annatto<br>beef<br>cabbage<br>eggplant<br>flour<br>peanut<br>shrimp<br>snake bean"
          ],
          [
           "chicken<br>flour<br>lemon<br>soy sauce"
          ],
          [
           "butter<br>cheese<br>chicken<br>cream<br>parsley<br>pasta"
          ],
          [
           "beef<br>bell pepper<br>butter<br>cheese<br>flour<br>milk<br>pasta<br>pork<br>tomato sauce"
          ],
          [
           "banana<br>bean<br>cabbage<br>patis pepper<br>pork<br>potato<br>sausage<br>tomato"
          ],
          [
           "cabbage<br>carrot<br>chicken<br>pasta<br>peas<br>soy sauce"
          ],
          [
           "bagoong<br>chicken<br>chili<br>coconut<br>ginger<br>milk"
          ],
          [
           "bell pepper<br>carrot<br>chicken<br>cream<br>lime<br>mushroom<br>potato<br>sausage<br>soy sauce"
          ],
          [
           "banana<br>cabbage<br>chicken<br>chicken broth<br>fish sauce<br>peppercorn<br>potato"
          ],
          [
           "basil<br>broccoli<br>butter<br>cheese<br>chicken<br>cream<br>flour<br>milk<br>pasta"
          ],
          [
           "cabbage<br>carrot<br>cornstarch<br>egg<br>pasta<br>pork<br>sausage"
          ],
          [
           "bean<br>chili<br>coconut<br>ginger<br>milk<br>pork<br>shrimp<br>spinach"
          ],
          [
           "beef<br>butter<br>cream<br>mayonnaise<br>mushroom"
          ],
          [
           "beef broth<br>chili<br>cornstarch<br>fish sauce<br>ginger<br>lemongrass"
          ],
          [
           "ketchup<br>lemon<br>pork<br>soy sauce<br>vegetable oil"
          ],
          [
           "bay leaf<br>egg<br>peppercorn<br>pineapple<br>pork<br>soy sauce<br>vinegar"
          ],
          [
           "cabbage<br>carrot<br>celery<br>chicken<br>hotdog<br>milk<br>pasta"
          ],
          [
           "bay leaf<br>beef broth<br>bell pepper<br>carrot<br>chili<br>potato<br>tomato sauce"
          ],
          [
           "basil<br>beef<br>bread crumb<br>cheese<br>egg<br>pasta<br>pork<br>tomato<br>tomato sauce"
          ],
          [
           "beef<br>bread crumb<br>butter<br>cornstarch<br>ketchup<br>milk<br>mustard<br>potato<br>soy sauce"
          ],
          [
           "carrot<br>chicken<br>mushroom<br>oyster sauce<br>pasta<br>scallion<br>wine"
          ],
          [
           "chili<br>coconut<br>ginger<br>pork<br>taro"
          ],
          [
           "chicken<br>coconut<br>malunggay<br>squash"
          ],
          [
           "chili<br>coconut<br>jackfruit<br>pork"
          ],
          [
           "basil<br>beef<br>cheese<br>parsley<br>pasta<br>sausage<br>tomato"
          ],
          [
           "bagoong<br>chili<br>coconut<br>coconut cream<br>ginger<br>milk<br>pork"
          ],
          [
           "cheese<br>hotdog<br>pasta<br>pork<br>tomato<br>tomato sauce"
          ],
          [
           "annatto<br>bagoong<br>cabbage<br>chicken<br>chicken broth<br>cornstarch<br>eggplant<br>peanut butter<br>snake bean"
          ],
          [
           "beef<br>cheese<br>luncheon<br>pasta<br>pasta sauce<br>pork"
          ],
          [
           "bell pepper<br>butter<br>chicken<br>chili<br>flour<br>milk<br>mushroom"
          ],
          [
           "bagoong<br>cabbage<br>cornstarch<br>eggplant<br>peanut butter<br>pork<br>snake bean"
          ],
          [
           "fish<br>okra<br>patis<br>radish<br>salmon<br>snake bean<br>spinach<br>tomato"
          ],
          [
           "butter<br>cabbage<br>carrot<br>celery<br>chicken<br>chicken broth<br>milk<br>pasta<br>pork"
          ],
          [
           "bean<br>coconut<br>fish sauce<br>pork<br>squash"
          ],
          [
           "bell pepper<br>carrot<br>cheese<br>chicken<br>chicken broth<br>potato<br>tomato sauce"
          ],
          [
           "bean<br>beef<br>beef broth<br>cabbage<br>fish sauce<br>peppercorn<br>squash"
          ],
          [
           "beef<br>beef broth<br>cheese<br>pasta<br>tomato<br>tomato sauce"
          ],
          [
           "fish sauce<br>parsley<br>pork<br>shrimp<br>squash<br>tomato"
          ],
          [
           "eggplant<br>fish<br>malunggay<br>okra<br>papaya<br>patola<br>spinach<br>squash<br>tomato"
          ],
          [
           "chili<br>coconut<br>salmon<br>spinach"
          ],
          [
           "bean<br>okra<br>patis<br>radish<br>shrimp<br>tamarind<br>tomato"
          ],
          [
           "bean<br>beef<br>cabbage<br>corn<br>fish sauce<br>peppercorn"
          ],
          [
           "chili<br>cinnamon<br>lemongrass<br>pork<br>soy sauce<br>tofu<br>vinegar"
          ],
          [
           "beef<br>cabbage<br>mushroom<br>oxtail<br>scallion<br>star anise"
          ],
          [
           "bean<br>fish<br>fish sauce<br>okra<br>spinach<br>tamarind<br>tomato"
          ],
          [
           "bell pepper<br>chili<br>coconut<br>ginger<br>lemon<br>milk<br>parsley<br>shrimp<br>tomato"
          ],
          [
           "butter<br>chili<br>mayonnaise<br>pork<br>scallion<br>soy sauce"
          ],
          [
           "beef rib<br>eggplant<br>okra<br>patis<br>radish<br>snake bean<br>spinach<br>tamarind<br>tomato"
          ],
          [
           "chili<br>coconut<br>coconut cream<br>fish sauce<br>milk<br>shrimp<br>snake bean<br>squash"
          ],
          [
           "bottle gourd<br>fish<br>fish sauce<br>tomato"
          ],
          [
           "beef<br>eggplant<br>fish sauce<br>okra<br>radish<br>snake bean<br>spinach<br>tamarind<br>tomato"
          ],
          [
           "egg<br>flour<br>pasta<br>patis<br>patola<br>pork<br>scallion"
          ],
          [
           "bay leaf<br>beef<br>beef broth<br>bell pepper<br>lemon<br>potato<br>soy sauce<br>tomato<br>tomato sauce"
          ],
          [
           "beef broth<br>corn<br>cornstarch<br>oyster sauce<br>peas<br>pork<br>soy sauce"
          ],
          [
           "butter<br>chili<br>cornstarch<br>cream<br>egg<br>shrimp<br>wine"
          ],
          [
           "bitter gourd<br>chili<br>coconut<br>fish sauce<br>milk<br>mung bean<br>pork<br>spinach"
          ],
          [
           "bell pepper<br>carrot<br>chicken<br>chicken broth<br>lime<br>potato<br>raisin<br>soy sauce<br>tomato sauce"
          ],
          [
           "bay leaf<br>bread crumb<br>carrot<br>celery<br>chicken<br>egg<br>parsley<br>pasta"
          ],
          [
           "cabbage<br>carrot<br>chicken<br>chicken broth<br>egg<br>pasta<br>scallion"
          ],
          [
           "bean<br>beef<br>cabbage<br>soy sauce<br>tomato"
          ],
          [
           "bean<br>beef<br>cabbage<br>corn<br>fish sauce<br>peppercorn"
          ],
          [
           "bread crumb<br>cheese<br>chicken<br>egg<br>flour<br>rice"
          ],
          [
           "carrot<br>egg<br>pork<br>scallion<br>sesame oil"
          ],
          [
           "chicken broth<br>fish sauce<br>pasta<br>pork<br>shrimp<br>squash"
          ],
          [
           "bean<br>mustard<br>pork<br>tomato sauce<br>vinegar"
          ],
          [
           "banana<br>beef<br>cabbage<br>patis<br>peppercorn<br>potato"
          ],
          [
           "chicken<br>chicken broth<br>egg<br>fish sauce<br>lemon<br>rice<br>scallion"
          ],
          [
           "fish<br>parsley<br>pasta<br>sun tomato"
          ],
          [
           "cabbage<br>chicken<br>chicken broth<br>fish sauce<br>peppercorn<br>squash"
          ],
          [
           "beef broth<br>butter<br>oxtail<br>potato<br>thyme<br>tomato<br>wine"
          ],
          [
           "butter<br>cream<br>lemon<br>lobster"
          ],
          [
           "bell pepper<br>broth<br>fish<br>lemon<br>rice<br>shrimp<br>squid<br>tomato<br>wine"
          ],
          [
           "bell pepper<br>egg<br>fish<br>flour<br>tomato<br>vegetable broth"
          ],
          [
           "bell pepper<br>carrot<br>cheese<br>pork<br>potato<br>tomato sauce"
          ],
          [
           "bell pepper<br>cheese<br>pasta<br>pork<br>tomato<br>tomato sauce"
          ],
          [
           "beef<br>chicken broth<br>chili<br>paprika<br>rice"
          ],
          [
           "bell pepper<br>broccoli<br>cabbage<br>cauliflower<br>chicken broth<br>corn<br>cornstarch<br>peas<br>shrimp"
          ],
          [
           "bell pepper<br>cabbage<br>chicken broth<br>fish sauce<br>pork<br>tomato"
          ],
          [
           "beef<br>cabbage<br>corn<br>fish sauce<br>peppercorn<br>potato"
          ],
          [
           "bread crumb<br>egg<br>flour<br>garlic rice<br>pork<br>soy sauce"
          ],
          [
           "cabbage<br>carrot<br>fish sauce<br>paprika<br>parsley<br>pasta<br>sausage<br>scallion<br>shrimp"
          ],
          [
           "beef<br>cheese<br>cream<br>mushroom<br>parsley<br>pasta<br>pork"
          ],
          [
           "carrot<br>celery<br>egg<br>fish<br>jicama<br>lumpia wrapper<br>parsley"
          ],
          [
           "butter<br>chili<br>egg<br>flour<br>pork rib<br>sausage"
          ],
          [
           "cabbage<br>carrot<br>cheese<br>chicken<br>flour tortilla<br>lettuce<br>vegetable oil"
          ],
          [
           "chicken<br>chili<br>coconut<br>fish sauce<br>ginger"
          ],
          [
           "cabbage<br>fish sauce<br>ginger<br>radish<br>scallion<br>shrimp"
          ],
          [
           "beef broth<br>bell pepper<br>chili<br>goat<br>pea<br>peanut butter<br>tomato<br>tomato sauce"
          ],
          [
           "bean<br>bitter gourd<br>chili<br>fish<br>fish sauce<br>shrimp<br>tomato"
          ],
          [
           "egg<br>fish<br>patis<br>scallion<br>tomato"
          ],
          [
           "eggplant<br>fish<br>lemon<br>shrimp<br>tomato"
          ],
          [
           "annatto<br>banana blossom<br>beef rib<br>cabbage<br>flour<br>peanut<br>shrimp<br>snake bean"
          ],
          [
           "chili<br>cornstarch<br>soy sauce<br>tofu<br>vegetable broth"
          ],
          [
           "lime<br>mango<br>shrimp<br>tomato"
          ],
          [
           "chicken<br>coconut<br>ginger<br>pea<br>potato"
          ],
          [
           "beef broth<br>bottle gourd<br>pork<br>tomato"
          ],
          [
           "bay leaf<br>beef broth<br>bell pepper<br>carrot<br>pork<br>potato<br>tomato sauce"
          ],
          [
           "beef<br>beef broth<br>cabbage<br>parsley<br>potato"
          ],
          [
           "fish sauce<br>mustard<br>okra<br>salmon<br>tomato"
          ],
          [
           "bell pepper<br>cornstarch<br>fish<br>ketchup<br>pineapple<br>vinegar"
          ],
          [
           "egg<br>lemon<br>pork<br>rice<br>soy sauce"
          ],
          [
           "ketchup<br>lemon<br>pork<br>soy sauce"
          ],
          [
           "banana<br>cabbage<br>fish sauce<br>peppercorn<br>pork<br>potato"
          ],
          [
           "butter<br>cheese<br>cream<br>lobster<br>pasta"
          ],
          [
           "chicken<br>egg<br>fish sauce<br>rice<br>scallion"
          ],
          [
           "cabbage<br>carrot<br>celery<br>parsley<br>pasta<br>peas<br>shrimp<br>soy sauce"
          ],
          [
           "beef broth<br>egg<br>pork<br>soy sauce<br>tofu<br>vegetable oil"
          ],
          [
           "beef broth<br>bell pepper<br>carrot<br>pork<br>potato<br>raisin<br>tomato sauce"
          ],
          [
           "bean<br>bell pepper<br>chicken broth<br>oyster sauce<br>snake bean<br>tofu"
          ],
          [
           "chili<br>pork<br>rice pasta<br>scallion<br>sesame oil<br>wonton wrapper"
          ],
          [
           "mung bean<br>patis<br>spinach<br>tomato"
          ],
          [
           "cabbage<br>chicken<br>chili<br>fish sauce<br>peppercorn<br>pork<br>potato"
          ],
          [
           "bagoong<br>bean<br>bitter gourd<br>malunggay<br>okra<br>tomato"
          ],
          [
           "egg<br>fish<br>fish sauce<br>scallion<br>tomato"
          ],
          [
           "chili<br>coconut<br>milk<br>mussel<br>shrimp<br>squid"
          ],
          [
           "chicken<br>fish sauce<br>patola<br>scallion"
          ],
          [
           "cabbage<br>carrot<br>chicken<br>cornstarch<br>egg<br>miki pasta<br>scallion"
          ],
          [
           "butter<br>carrot<br>egg<br>pea<br>rice"
          ],
          [
           "carrot<br>celery<br>chicken<br>pasta"
          ],
          [
           "butter<br>chicken broth<br>lemon<br>linguine<br>parsley<br>shrimp"
          ],
          [
           "banana<br>bean<br>cabbage<br>plum tomato<br>pork<br>potato<br>sausage<br>tomato sauce"
          ],
          [
           "coconut cream<br>fish sauce<br>malunggay<br>papaya<br>pork"
          ],
          [
           "chicken<br>egg<br>fish sauce<br>malunggay<br>miki pasta<br>papaya"
          ],
          [
           "chicken<br>coconut<br>fish sauce<br>malunggay<br>milk<br>papaya"
          ],
          [
           "bay leaf<br>bell pepper<br>pea<br>pork<br>soy sauce<br>vinegar"
          ],
          [
           "bay leaf<br>beef<br>flour<br>mushroom<br>soy sauce<br>tomato<br>vinegar<br>wine"
          ],
          [
           "beef<br>beef broth<br>butter<br>cheese<br>cream<br>egg<br>mushroom<br>pasta<br>pork"
          ],
          [
           "beef<br>bell pepper<br>carrot<br>potato"
          ],
          [
           "beef<br>bell pepper<br>butter<br>cheese<br>flour<br>milk<br>tomato sauce"
          ],
          [
           "beef<br>beef hotdog<br>carrot<br>egg<br>flour<br>pickle<br>soy sauce<br>tomato sauce"
          ],
          [
           "basil<br>bread<br>butter<br>cheese<br>grape tomato<br>pork"
          ],
          [
           "fish<br>fish sauce<br>miso<br>mustard<br>radish<br>tamarind<br>tomato"
          ],
          [
           "eggplant<br>fish sauce<br>okra<br>pork<br>snake bean<br>spinach<br>tomato"
          ],
          [
           "cornstarch<br>ginger<br>pork<br>rice<br>scallion<br>soy sauce"
          ],
          [
           "bay leaf<br>bell pepper<br>carrot<br>chicken<br>potato<br>tomato sauce"
          ],
          [
           "carrot<br>cheese<br>chicken<br>mayonnaise<br>pea<br>potato<br>relish"
          ],
          [
           "beef<br>cheese<br>hotdog<br>ketchup<br>pasta<br>pork<br>tomato sauce"
          ],
          [
           "carrot<br>pork<br>potato<br>raisin<br>tomato sauce"
          ],
          [
           "beef<br>beef broth<br>egg<br>rice"
          ],
          [
           "bay leaf<br>carrot<br>chicken<br>chicken broth<br>potato<br>tomato"
          ],
          [
           "beef<br>cabbage<br>cheese<br>mayonnaise<br>pork"
          ],
          [
           "egg<br>flour<br>papaya<br>pork<br>rice"
          ],
          [
           "chicken broth<br>fish<br>lime<br>parsley"
          ],
          [
           "bell pepper<br>cabbage<br>carrot<br>cauliflower<br>cornstarch<br>egg<br>oyster sauce<br>pork<br>shrimp"
          ],
          [
           "bagoong<br>eggplant<br>fish<br>ice<br>okra<br>tomato"
          ],
          [
           "chili<br>coconut<br>crab<br>milk<br>shrimp<br>spinach"
          ],
          [
           "fish<br>fish sauce<br>miso<br>mustard<br>okra<br>plum tomato<br>radish"
          ],
          [
           "bean<br>coconut<br>fish sauce<br>milk<br>pork"
          ],
          [
           "bagoong<br>eggplant<br>lemon<br>paprika"
          ],
          [
           "butter<br>egg<br>plum tomato<br>spinach"
          ],
          [
           "dried fish<br>egg<br>garlic rice<br>papaya<br>scallion"
          ],
          [
           "ketchup<br>lemon<br>papaya<br>soy sauce"
          ],
          [
           "fish<br>kamote<br>knob ginger<br>tomato"
          ],
          [
           "bay leaf<br>beef<br>bell pepper<br>pork<br>potato<br>tomato"
          ],
          [
           "beef<br>beef broth<br>cabbage<br>fish sauce<br>peppercorn<br>potato"
          ],
          [
           "beef<br>bell pepper<br>egg<br>soy sauce"
          ],
          [
           "bagoong<br>lemon<br>plum tomato<br>scallion"
          ],
          [
           "beef<br>egg<br>garlic rice<br>soy sauce"
          ],
          [
           "butter<br>cheese<br>cream<br>pasta<br>shrimp"
          ],
          [
           "chicken broth<br>ginger<br>rib<br>sesame oil<br>sesame seed<br>soy sauce<br>spice<br>vinegar"
          ],
          [
           "chili<br>coconut<br>fish<br>fish sauce<br>jackfruit<br>malunggay<br>milk"
          ],
          [
           "bay leaf<br>beef<br>peppercorn<br>pineapple<br>pork<br>soy sauce<br>vinegar"
          ],
          [
           "butter<br>egg<br>pea<br>rice<br>sausage<br>soy sauce"
          ],
          [
           "beef<br>beef broth<br>eggplant<br>fish sauce<br>okra<br>spinach<br>string bean<br>taro<br>tomato"
          ],
          [
           "cabbage<br>egg<br>mung bean<br>tofu<br>tomato"
          ],
          [
           "butter<br>carrot<br>celery<br>chicken broth<br>ham<br>milk<br>turkey"
          ],
          [
           "chicken<br>chili<br>coconut cream<br>fish sauce<br>ginger"
          ],
          [
           "cabbage<br>carrot<br>chicken<br>chicken broth<br>fish sauce<br>miki pasta<br>pork"
          ],
          [
           "cabbage<br>carrot<br>chicken broth<br>lobster<br>pancit pasta<br>parsley<br>soy sauce<br>squid"
          ],
          [
           "beef broth<br>butter<br>cheese<br>sauce<br>sausage"
          ],
          [
           "carrot<br>chicken broth<br>egg<br>parsley<br>pasta"
          ],
          [
           "butter<br>cheese<br>chicken<br>cream<br>potato"
          ],
          [
           "chili<br>cilantro<br>egg<br>flour tortilla<br>soy sauce"
          ],
          [
           "bell pepper<br>cornstarch<br>ketchup<br>pineapple<br>vinegar"
          ],
          [
           "basil<br>bell pepper<br>chili<br>fish sauce<br>pork<br>soy sauce"
          ],
          [
           "bell pepper<br>carrot<br>pork<br>tomato sauce"
          ],
          [
           "chili<br>coconut cream<br>fish sauce<br>ginger<br>spinach<br>squid"
          ],
          [
           "celery<br>chicken broth<br>flour<br>oregano<br>plum tomato<br>pork<br>potato<br>thyme"
          ],
          [
           "chili<br>coconut<br>fish<br>ginger<br>milk<br>shrimp"
          ],
          [
           "cabbage<br>fish sauce<br>peppercorn<br>pork<br>potato<br>squash"
          ],
          [
           "ketchup<br>lemon<br>pork<br>soy sauce"
          ],
          [
           "cheese<br>cream<br>fish<br>pasta"
          ],
          [
           "bean<br>beef broth<br>peppercorn<br>sausage<br>tomato sauce"
          ],
          [
           "bell pepper<br>carrot<br>chicken broth<br>egg<br>mushroom<br>oyster sauce<br>pasta<br>soy sauce<br>spinach"
          ],
          [
           "beef<br>broccoli<br>cornstarch<br>egg<br>ginger<br>oyster sauce<br>pasta<br>sherry wine<br>soy sauce"
          ],
          [
           "basil<br>butter<br>cheese<br>pasta<br>sausage"
          ],
          [
           "carrot<br>chicken<br>ginger<br>lettuce<br>scallion<br>sesame seed<br>soy sauce"
          ],
          [
           "beef broth<br>pea<br>pork<br>tomato sauce"
          ],
          [
           "breadcrumb<br>carrot<br>egg<br>pork"
          ],
          [
           "cabbage<br>carrot<br>chicken broth<br>egg<br>flour<br>miki pasta<br>pork<br>sausage<br>scallion"
          ],
          [
           "annatto<br>beef broth<br>cabbage<br>egg<br>fish<br>flour<br>pork<br>scallion<br>shrimp"
          ],
          [
           "coconut<br>coconut cream<br>crab<br>fish sauce<br>ginger<br>malunggay<br>shrimp<br>squash"
          ],
          [
           "beef broth<br>cheese<br>luncheon<br>pasta<br>pasta sauce<br>pork"
          ],
          [
           "egg<br>pork<br>rice<br>shrimp<br>soy sauce"
          ],
          [
           "bell pepper<br>cabbage<br>chicken broth<br>oyster sauce<br>pancit pasta<br>shrimp"
          ],
          [
           "fish sauce<br>okra<br>plum tomato<br>radish<br>shrimp<br>spinach<br>tamarind"
          ],
          [
           "beef broth<br>carrot<br>egg<br>flour<br>pickle<br>sausage<br>soy sauce"
          ],
          [
           "chili<br>fish<br>fish sauce<br>guava<br>okra<br>spinach<br>tomato"
          ],
          [
           "banana<br>bean<br>beef<br>cabbage<br>fish sauce<br>peppercorn<br>potato"
          ],
          [
           "bay leaf<br>beef<br>bell pepper<br>carrot<br>pork<br>potato<br>tomato sauce"
          ],
          [
           "beef<br>bread crumb<br>egg<br>fish sauce<br>pasta<br>patola<br>pork<br>spring onion<br>tomato sauce"
          ],
          [
           "duck egg<br>eggplant<br>fish<br>pork<br>rice<br>tofu<br>vinegar"
          ],
          [
           "apple vinegar<br>chili<br>fish<br>soy sauce<br>tofu"
          ],
          [
           "chicken broth<br>ginger<br>kernel corn<br>malunggay<br>mussel"
          ],
          [
           "beef broth<br>eggplant<br>plum tomato<br>pork<br>shrimp"
          ],
          [
           "fish<br>fish sauce<br>miso<br>okra<br>spinach<br>string bean<br>tomato"
          ],
          [
           "banana<br>beef broth<br>cabbage<br>fish sauce<br>peppercorn<br>pork<br>potato"
          ],
          [
           "beef broth<br>carrot<br>egg<br>pea<br>pork<br>raisin<br>tomato sauce"
          ],
          [
           "celery<br>cream<br>mayonnaise<br>mustard<br>parsley<br>pasta<br>relish"
          ],
          [
           "eggplant<br>fish sauce<br>kamia<br>okra<br>plum tomato<br>pork<br>spinach<br>string bean<br>taro"
          ],
          [
           "buttermilk<br>chili<br>fish sauce<br>ginger<br>goat<br>tamarind"
          ],
          [
           "cheese<br>cream<br>pasta<br>salmon"
          ],
          [
           "bell pepper<br>chicken<br>chicken broth<br>pea<br>tomato"
          ],
          [
           "beef<br>bell pepper<br>buttermilk<br>carrot<br>goat<br>potato"
          ],
          [
           "fish sauce<br>malunggay<br>papaya<br>parsley"
          ],
          [
           "butter<br>egg<br>lemon<br>pork"
          ],
          [
           "chili<br>fish<br>fish sauce<br>tomato"
          ],
          [
           "chili<br>coconut<br>fish<br>fish sauce<br>ginger<br>malunggay<br>milk<br>papaya"
          ],
          [
           "basil<br>cheese<br>dried fish<br>pasta"
          ],
          [
           "cabbage<br>carrot<br>chicken<br>parsley<br>pasta<br>pea<br>pork<br>sausage<br>soy sauce"
          ],
          [
           "beef<br>beef broth<br>parsley<br>potato"
          ],
          [
           "butter<br>cabbage<br>carrot<br>celery<br>chicken<br>chicken broth<br>milk<br>pasta"
          ],
          [
           "black bean<br>chicken<br>cornstarch<br>ginger<br>mushroom<br>oyster sauce<br>sherry wine<br>tofu"
          ],
          [
           "butter<br>cheese<br>oregano<br>pasta"
          ],
          [
           "bagoong<br>fish<br>mung bean<br>spinach<br>tomato"
          ],
          [
           "basil<br>cheese<br>pasta<br>sausage<br>tomato sauce"
          ],
          [
           "bell pepper<br>butter<br>rice<br>saffron"
          ],
          [
           "bread crumb<br>cheese<br>chicken<br>egg<br>flour<br>pasta<br>tomato sauce"
          ],
          [
           "broccoli<br>carrot<br>pancit<br>sesame oil<br>yam"
          ],
          [
           "lettuce<br>mayonnaise<br>sesame oil<br>tomato"
          ],
          [
           "beef broth<br>pea<br>pork<br>potato<br>tomato sauce"
          ],
          [
           "carrot<br>cheese<br>egg<br>pickle<br>raisin<br>tomato sauce<br>turkey"
          ],
          [
           "butter<br>carrot<br>celery<br>chicken<br>chicken broth<br>egg<br>parsley<br>pasta<br>thyme"
          ],
          [
           "chicken<br>chicken sauce<br>lemon<br>lemon lime soda<br>soy sauce"
          ],
          [
           "carrot<br>crab<br>egg<br>pork<br>sesame oil<br>wonton wrapper"
          ],
          [
           "flour<br>lemon<br>parsley<br>squid"
          ],
          [
           "bell pepper<br>carrot<br>cornstarch<br>fish<br>flour<br>ketchup<br>rice<br>soy sauce<br>vinegar"
          ],
          [
           "bay leaf<br>beef broth<br>carrot<br>ginger<br>pea<br>pork<br>potato<br>raisin<br>tomato sauce"
          ],
          [
           "cheese<br>pasta<br>pasta sauce<br>pork<br>tomato"
          ],
          [
           "bell pepper<br>clam<br>linguine<br>scallion<br>wine"
          ],
          [
           "bell pepper<br>pea<br>pork<br>potato<br>tomato<br>tomato sauce"
          ],
          [
           "broccoli<br>cheese<br>pasta<br>pasta sauce<br>tomato"
          ],
          [
           "bread<br>fish<br>mayonnaise<br>pickle"
          ],
          [
           "beef<br>butter<br>cheese<br>cream<br>pasta<br>scallion<br>tomato sauce"
          ],
          [
           "beef<br>bread<br>cucumber<br>lettuce<br>mayonnaise<br>rosemary<br>tomato"
          ],
          [
           "liempo<br>patis<br>spinach<br>tamarind<br>taro<br>tomato"
          ],
          [
           "chicken broth<br>kernel corn<br>malunggay<br>plum tomato"
          ],
          [
           "bottle gourd<br>egg<br>shrimp<br>wonton wrapper"
          ],
          [
           "ketchup<br>lemon<br>pork<br>soy sauce"
          ],
          [
           "chayote<br>chicken<br>chicken broth<br>shrimp"
          ],
          [
           "beef<br>beef broth<br>cabbage<br>carrot<br>egg<br>star anise"
          ],
          [
           "basil<br>cheese<br>chicken<br>cream<br>egg<br>lemon<br>parsley<br>pasta<br>pork"
          ],
          [
           "bell pepper<br>chestnut<br>chicken<br>ginger<br>lettuce<br>mushroom<br>orange<br>soy sauce"
          ],
          [
           "butter<br>chicken<br>egg<br>mayonnaise<br>serrano pepper<br>soy sauce"
          ],
          [
           "chicken<br>chicken broth<br>ginger<br>patis<br>rice<br>tofu"
          ],
          [
           "avocado<br>bread<br>dijon mustard<br>lettuce<br>mayonnaise<br>pork<br>tomato"
          ],
          [
           "chicken<br>egg<br>flour<br>mayonnaise<br>pea<br>pickle<br>potato<br>scallion"
          ],
          [
           "beef<br>sesame oil<br>sesame seed<br>soy sauce<br>tofu<br>vinegar"
          ],
          [
           "beef broth<br>cabbage<br>soy sauce<br>string bean<br>tomato"
          ],
          [
           "chicken broth<br>corn<br>cornstarch<br>egg"
          ],
          [
           "bay leaf<br>carrot<br>chicken<br>chicken broth<br>pea<br>potato<br>tomato sauce"
          ],
          [
           "egg<br>fish sauce<br>parsley<br>tofu<br>tomato"
          ],
          [
           "chicken<br>chicken broth<br>rice pasta<br>scallion"
          ],
          [
           "butter<br>fish<br>honey<br>mustard<br>vinegar"
          ],
          [
           "chili<br>cilantro<br>cream<br>cumin<br>flour tortilla<br>lemon<br>sauce<br>shrimp<br>tomato"
          ],
          [
           "bean<br>cabbage<br>carrot<br>egg<br>ginger<br>sesame oil<br>soy sauce<br>spring wrapper"
          ],
          [
           "ginger<br>lemon<br>salmon<br>sauce<br>soy sauce"
          ],
          [
           "beef<br>cornstarch<br>mushroom<br>pork"
          ],
          [
           "beef<br>broccoli<br>cornstarch<br>oyster sauce<br>soy sauce"
          ],
          [
           "chicken<br>chili<br>flour tortilla<br>paprika"
          ],
          [
           "annatto<br>cabbage<br>carrot<br>celery<br>parsley<br>pasta<br>vegetable broth"
          ],
          [
           "butter<br>cheese<br>chicken<br>chicken broth<br>flour<br>lemon<br>parsley"
          ],
          [
           "basil<br>cheese<br>chicken<br>pasta<br>sun tomato"
          ],
          [
           "carrot<br>cornstarch<br>pork<br>spice<br>tofu"
          ],
          [
           "broth<br>fish sauce<br>pasta<br>patola<br>shrimp<br>tomato sauce"
          ],
          [
           "broccoli<br>chicken<br>cornstarch<br>egg<br>ginger<br>oyster sauce<br>soy sauce"
          ],
          [
           "cornstarch<br>lemon<br>sesame oil<br>sesame seed<br>soy sauce"
          ],
          [
           "cheese<br>fish<br>paprika<br>parsley"
          ],
          [
           "beef hotdog<br>chili<br>mustard<br>pickle<br>tomato"
          ],
          [
           "beef<br>beef broth<br>egg<br>fish sauce<br>pasta<br>zucchini"
          ],
          [
           "bell pepper<br>cabbage<br>carrot<br>cauliflower<br>cornstarch<br>egg<br>peas<br>vegetable"
          ],
          [
           "beef broth<br>flour<br>oyster sauce<br>pork<br>soy sauce<br>zucchini"
          ],
          [
           "bell pepper<br>butter<br>egg<br>mushroom"
          ],
          [
           "beef<br>butter<br>cheese<br>flour<br>milk<br>pasta<br>tomato sauce"
          ],
          [
           "cheese<br>corn<br>pork<br>potato"
          ],
          [
           "bread crumb<br>cabbage<br>egg<br>flour<br>pork"
          ],
          [
           "pineapple<br>pork<br>rosemary<br>soy sauce"
          ],
          [
           "beef<br>butter<br>cheese<br>cream<br>parsley<br>pasta"
          ],
          [
           "carrot<br>celery<br>chicken<br>pasta"
          ],
          [
           "beef<br>bell pepper<br>cheese<br>cream<br>flour tortilla<br>lime"
          ],
          [
           "cheese<br>chili<br>crab<br>cream<br>cream cheese<br>mustard"
          ],
          [
           "chicken broth<br>egg<br>pork<br>rice<br>scallion"
          ],
          [
           "butter<br>cream<br>nutmeg<br>spinach"
          ],
          [
           "bell pepper<br>broccoli<br>carrot<br>ginger<br>oyster sauce<br>pineapple<br>pork<br>scallion<br>soy sauce"
          ],
          [
           "bread<br>cheese<br>chicken broth<br>turkey"
          ],
          [
           "carrot<br>celery<br>chicken<br>egg<br>pasta<br>turkey"
          ],
          [
           "apple vinegar<br>butter<br>ice<br>star anise<br>thyme<br>turkey"
          ],
          [
           "beef rib<br>chicken sauce<br>ketchup<br>lime<br>soy sauce"
          ],
          [
           "beef<br>cheese<br>pasta<br>pork<br>tomato sauce"
          ],
          [
           "avocado<br>cilantro<br>lime<br>tomato"
          ],
          [
           "carrot<br>chicken<br>chicken broth<br>ginger<br>oyster sauce<br>pea<br>scallion<br>sesame oil<br>soy sauce"
          ],
          [
           "chicken<br>flour<br>lemon<br>soy sauce"
          ],
          [
           "chestnut<br>cream<br>mayonnaise<br>spinach"
          ],
          [
           "banana<br>beef<br>egg<br>pea<br>pork<br>raisin<br>rice<br>soy sauce<br>tomato"
          ],
          [
           "chicken<br>lemon<br>potato<br>rosemary"
          ],
          [
           "egg<br>garlic rice<br>pork<br>soy sauce"
          ],
          [
           "bean<br>carrot<br>cauliflower<br>chicken<br>squash"
          ],
          [
           "ginger<br>pork<br>sesame oil<br>sesame seed<br>soy sauce"
          ],
          [
           "bagoong<br>bitter gourd<br>fish<br>knob ginger<br>malunggay<br>okra<br>string bean<br>tomato"
          ],
          [
           "butter<br>chicken<br>corn<br>paprika"
          ],
          [
           "bagoong<br>fish sauce<br>ice<br>sesame oil"
          ],
          [
           "beef<br>cheese<br>mayonnaise<br>pickle"
          ],
          [
           "beef broth<br>butter<br>cream<br>flour<br>pork"
          ],
          [
           "beef<br>broccoli<br>cornstarch<br>oyster sauce"
          ],
          [
           "chili<br>coconut<br>coconut cream<br>fish<br>ginger<br>milk<br>pork"
          ],
          [
           "beef<br>beef broth<br>broccoli<br>ginger<br>oyster sauce<br>pasta<br>sesame oil<br>sherry<br>soy sauce"
          ],
          [
           "carrot<br>cornstarch<br>mushroom<br>peas<br>soy sauce<br>tofu<br>vegetable oil"
          ],
          [
           "bread crumb<br>carrot<br>chili<br>crab<br>egg<br>parsley<br>potato<br>tomato"
          ],
          [
           "cabbage<br>chili<br>cilantro<br>cream<br>fish<br>flour tortilla<br>lime<br>tomato"
          ],
          [
           "butter<br>celery<br>clam<br>pork<br>potato<br>thyme"
          ],
          [
           "butter<br>clam<br>lemon<br>linguine<br>parsley<br>shrimp<br>wine"
          ],
          [
           "avocado<br>cheese<br>chicken<br>chicken broth<br>chili<br>cilantro<br>corn<br>lime<br>tomato"
          ],
          [
           "beef<br>bell pepper<br>butter<br>cheese<br>potato<br>soy sauce"
          ],
          [
           "cabbage<br>carrot<br>chicken<br>chicken broth<br>mushroom<br>pork"
          ],
          [
           "bread crumb<br>cheese<br>egg<br>eggplant<br>parsley<br>tomato"
          ],
          [
           "anchovy<br>chili<br>coconut<br>fish sauce<br>milk"
          ],
          [
           "bean<br>beef<br>cream<br>lettuce<br>tomato"
          ],
          [
           "bean<br>chicken<br>chicken broth<br>eggplant<br>fish sauce<br>spinach<br>tamarind<br>tomato"
          ],
          [
           "chili<br>coconut<br>milk<br>shrimp"
          ],
          [
           "bread<br>chicken<br>dijon mustard<br>lemon<br>mayonnaise<br>soy sauce"
          ],
          [
           "chicken broth<br>cream<br>parsley<br>squash"
          ],
          [
           "beef<br>beef broth<br>butter<br>potato<br>soy sauce<br>vegetable"
          ],
          [
           "beef broth<br>bell pepper<br>pea<br>pork<br>tomato"
          ],
          [
           "bean<br>oyster sauce<br>parsley<br>pork<br>soy sauce<br>tofu"
          ],
          [
           "cream cheese<br>pasta<br>shrimp<br>thyme<br>tomato"
          ],
          [
           "bell pepper<br>mushroom<br>pasta<br>squash<br>tomato sauce"
          ],
          [
           "crab<br>cream<br>pasta<br>rice wine"
          ],
          [
           "cheese<br>mushroom<br>pasta<br>spinach<br>tomato"
          ],
          [
           "basil<br>chicken<br>chicken broth<br>cream<br>pasta"
          ],
          [
           "beef broth<br>butter<br>flour<br>pork<br>rice<br>vegetable"
          ],
          [
           "butter<br>cheese<br>chicken<br>cream<br>egg<br>milk<br>pasta<br>thyme"
          ],
          [
           "avocado<br>carrot<br>crab<br>cucumber<br>lettuce<br>shrimp"
          ],
          [
           "cassava<br>egg<br>fish sauce<br>miki pasta<br>pork<br>sausage<br>soy sauce"
          ],
          [
           "basil<br>butter<br>cheese<br>cream<br>dried fish<br>pasta"
          ],
          [
           "chicken<br>mirin<br>sake<br>sesame seed<br>soy sauce"
          ],
          [
           "fish<br>fish sauce<br>pasta<br>scallion"
          ],
          [
           "butter<br>cabbage<br>carrot<br>celery<br>chicken<br>chicken broth<br>pasta"
          ],
          [
           "bell pepper<br>egg<br>pea<br>pork<br>tomato"
          ],
          [
           "carrot<br>egg<br>pork<br>potato<br>tomato sauce"
          ],
          [
           "chili<br>eggplant<br>fish<br>fish sauce<br>okra<br>spinach<br>string bean<br>tomato"
          ],
          [
           "cilantro<br>corn kernel<br>lime<br>tomato"
          ],
          [
           "chicken<br>coconut<br>fish sauce<br>ginger<br>lemongrass<br>milk<br>soy sauce"
          ],
          [
           "bean<br>carrot<br>fish sauce<br>shrimp<br>spring wrapper<br>tofu"
          ],
          [
           "chili<br>cornstarch<br>ginger<br>peanut<br>sesame oil<br>shrimp<br>soy sauce<br>vinegar"
          ],
          [
           "bread<br>cheese<br>egg<br>lemon<br>lettuce<br>soy sauce"
          ],
          [
           "egg<br>fish<br>fish sauce<br>tomato"
          ],
          [
           "beef<br>egg<br>eggplant<br>tomato"
          ],
          [
           "annatto<br>chestnut<br>chicken<br>egg<br>fish sauce<br>pork<br>wonton wrapper"
          ],
          [
           "beef<br>carrot<br>cheese<br>dill<br>egg<br>lemon<br>soy sauce"
          ],
          [
           "avocado<br>crab<br>cucumber<br>rice<br>sesame seed<br>vinegar"
          ],
          [
           "bell pepper<br>broccoli<br>cashew<br>chicken<br>cornstarch<br>egg<br>oyster sauce<br>rice wine<br>soy sauce"
          ],
          [
           "beef<br>cabbage<br>carrot<br>fish sauce<br>pepper corn<br>potato"
          ],
          [
           "paprika<br>pineapple<br>pork<br>vegetable"
          ],
          [
           "eggplant<br>melon<br>okra<br>pork<br>potato<br>string bean<br>tomato"
          ],
          [
           "cabbage<br>carrot<br>celery<br>chicken<br>pancit pasta<br>peas<br>pork<br>soy sauce"
          ],
          [
           "beef broth<br>pineapple<br>pork<br>soy sauce"
          ]
         ],
         "hovertemplate": "<b>%{hovertext}</b><br><br>cluster=0<br>x=%{x}<br>y=%{y}<br>z=%{z}<br>cleaned_ingredients=%{customdata[0]}<extra></extra>",
         "hovertext": [
          "Longganisa",
          "Bibingkang Malagkit",
          "Banana Heart Burger",
          "Baby Back Ribs with Adobo Glaze",
          "Camaron Rebosado",
          "Lumpiang Puso ng Saging",
          "Laing",
          "Kwek-kwek",
          "Paksiw na Pata",
          "Skinless Longganisa",
          "Fried Chicken a la Max's Restaurant",
          "Korean Ground Beef",
          "Filipino-style Picadillo with Potatoes",
          "Shrimp Broccoli Stir Fry",
          "Sweet and Sour Pork",
          "Sinaing na Tulingan",
          "Halo-Halo",
          "Arroz ala Cubana",
          "Coconut Lime Chicken",
          "Ginataang Munggo at Baboy",
          "Sinantomas",
          "Adobong Itlog",
          "Asian Jalapeno Chicken",
          "Korean BBQ Bulgogi",
          "Crispy Breaded Shrimp",
          "Sesame Chicken",
          "Steamed Lapu Lapu with Mayonnaise",
          "Black Pepper Chicken",
          "Chicken Inasal",
          "Sweet Mango Barbecue Chicken Skewers",
          "Crispy Soy Chicken",
          "Pork Hamonado",
          "Pork Belly Lechon Roll",
          "Sweet and Sour Meatballs",
          "Hawaiian Chicken",
          "Asian Cucumber Tomato Avocado Salad",
          "Filipino-style Fried Chicken",
          "Crispy Fried Calamari",
          "Filipino Tamales",
          "Chizza",
          "Pork Ribs Adobo with Atsuete",
          "Java Rice",
          "Filipino-style Pineapple Glazed Ham",
          "Relyenong Bangus",
          "Atchara",
          "Sinabawang Tahong",
          "Crispy Pancit Canton Noodles Recipe",
          "Creamy Tofu with Mixed Vegetables",
          "Crispy Palabok",
          "Crispy Tofu Fried Chicken with Chicken Gravy",
          "Filipino Spaghetti Recipe",
          "One Pot Spaghetti",
          "Chicken Afritada sa Gata",
          "Creamy Macaroni Sopas",
          "Pinoy Carbonara Recipe with Ham and Bacon",
          "Creamy Beef with Mushroom",
          "Crispy Cabbage Rolls",
          "Butter Garlic Fried Chicken",
          "Tastylicious Adobong Pusit Recipe",
          "No Bake Macaroni",
          "Loaded Nachos Recipe",
          "Filipino Chicken Pasta Alfredo",
          "Pinoy Burger Steak Recipe",
          "Air Fryer Longganisa Frittata",
          "Pineapple Fried Rice",
          "Cheesy Ham Steak with Bacon and Mushroom",
          "Crispy Katsu Sando",
          "Corned Beef Saute",
          "Cheesy Corned Beef Balls",
          "The Only Filipino Spaghetti Recipe That I Trust for the Holidays",
          "Christmas Chicken Curry",
          "Seafood Boil",
          "Pinoy Chicken Sopas",
          "Creamy Mushroom Chicken",
          "Filipino Style Beef Steak",
          "Lemon Garlic Shrimp Pasta",
          "Chicken Katsu Curry",
          "Pinoy Chicken Curry Recipe",
          "Malapot na Pininyahang Manok",
          "How to Cook Steak",
          "Chili Garlic Crab and Shrimp Recipe",
          "Pork Picadillo Recipe",
          "Beef Broccoli Recipe with Carrots",
          "Sushi Bake",
          "Arroz Caldo Recipe",
          "Hardinera (Jardinera) Recipe",
          "Beef Stroganoff Lasagna",
          "How to Make Macaroni Salad for the Holidays",
          "Original Buffalo Wings",
          "Crispy Garlic Bangus and Cream of Pumpkin Soup",
          "Shrimp Bisque and Clubhouse Sandwich",
          "Sinarsahang Manok",
          "No Oven Baked Macaroni Recipe",
          "Pata Estofado Recipe",
          "Chicken Barbecue",
          "Ginisang Munggo (Monggo)",
          "Nilagang Baka Recipe",
          "Ginataang Talong with Malunggay and Tofu",
          "Pata Tim Recipe",
          "Burger Steak",
          "Pork Ribs Binagoongan with Talong",
          "Beef Stroganoff",
          "Pancit Batil Patung Recipe",
          "Tuscan Salmon",
          "Ginataang Alimasag with Sitaw at Kalabasa",
          "Pata Kare Kare Recipe",
          "Bulalo Kare-Kare",
          "Tuna Pasta Alfredo",
          "Corned Beef Lomi Batangas Style",
          "Tortang Noodles at Sardinas",
          "Chicken Caldereta Recipe",
          "Easy Palabok Recipe",
          "Pork Siomai",
          "Beef Tripe Kare Kare",
          "Quick and Easy Fried Chicken",
          "Chicken Alfredo",
          "Pinoy Style Baked Macaroni with White Sauce",
          "Pochero with Pork and Beans",
          "Chicken Pancit Habhab",
          "Chicken Bicol Express",
          "Creamy Chicken Pastel",
          "Nilagang Manok Recipe",
          "Chicken Pasta with Creamy Basil Sauce",
          "Pork Lomi",
          "Ginataang Bitsuelas",
          "Creamy Lengua in White Sauce",
          "Soup Number 5",
          "Pinoy Pork Barbeque",
          "Pork Adobo in Pineapple Juice with Boiled Eggs",
          "Creamy Chicken Sopas",
          "Beef Kaldereta Recipe",
          "Spaghetti and Meatballs",
          "Salisbury Steak with Mashed Potato",
          "Longevity Noodles with Chicken and Mushroom",
          "Laing na Gabi Recipe",
          "Ginataang Manok and Kalabasa",
          "Ginataang Langka with Pork Recipe",
          "Christmas Lasagna",
          "Bicol Express",
          "Easy Pinoy Spaghetti Recipe",
          "Chicken Kare Kare Recipe",
          "Filipino Style Spaghetti Recipe",
          "Chicken ala King Recipe",
          "Pork Kare Kare Recipe",
          "Salmon Sinigang Recipe",
          "Rich and Creamy Chicken Sopas with Bacon",
          "Ginataang Lechon Kawali with Kalabasa and Long Green Beans",
          "Cheesy Chicken Afritada Recipe",
          "Nilagang Baka with Kalabasa – Filipino boiled beef Soup",
          "Corned Beef Baked Macaroni",
          "Ginisang Upo with Ground Pork and Shrimp",
          "Bulanglang na Gulay (Batangas)",
          "Ginataang Salmon (Salmon in Coconut Milk)",
          "Sinigang na Sugpo Recipe",
          "How to Cook Bulalo",
          "Spicy Tokwat Baboy Recipe",
          "Oxtail Soup Recipe",
          "Sinigang na Bangus Recipe",
          "Filipino Shrimp Curry Recipe",
          "Tuna Sisig",
          "Beef Ribs Sinigang",
          "Ginataang Hipon na may Sitaw at Kalabasa",
          "Ginisang Upo with Sardinas",
          "Corned Beef Sinigang",
          "Pork Bola Bola Soup with Misua and Patola",
          "Mechadong Baka Recipe",
          "15 Minute Pork Stir Fry",
          "Salted Egg Prawns",
          "Ginataang Monggo with Pork Recipe",
          "Healthy Chicken Menudo",
          "Chicken Meatball Noodle Soup",
          "Chicken Mami",
          "Sauteed Green Beans with Ground Beef",
          "Beef Bulalo Recipe",
          "Golden Chicken Rice Balls with Crab and Corn Soup",
          "Pork Siomai and Nido Oriental Style Soup",
          "Sotanghon with Upo Soup",
          "Homemade Pork and Beans Recipe",
          "Nilagang Buto-buto ng Baka Recipe",
          "How To Cook Filipino Chicken Arroz Caldo",
          "Spanish Sardines Pasta with Sun Dried Tomato and Chopped Olives",
          "Chicken Nilaga with Kalabasa",
          "Oxtail Stew",
          "Broiled Lobster Tail with Lemon Butter Sauce",
          "Paella Negra (Arroz Negre) Recipe",
          "Crispy Fried Mahi Mahi Sarciado",
          "Special Pork Kaldereta",
          "Pinoy Spaghetti Recipe",
          "Grilled Rib Eye Steak with Arroz Amarillo",
          "Chopsuey Stir Fry",
          "Ginisang Reployo with Giniling",
          "Nilagang Baka ala Bulalo",
          "Tonkatsu Sinangag at Itlog",
          "Pancit Sotanghon Na May Hipon",
          "Filipino Style Creamy Bacon and Mushroom Carbonara",
          "Fish Lumpia Recipe",
          "Buffalo Pork Ribs Recipe",
          "BBQ Chicken Wrap",
          "Ginataang Manok Na May Luyang Dilaw",
          "How to Make Kimchi at Home",
          "Spicy Calderetang Kambing with Peanut Butter (Goat Meat Caldereta)",
          "Spicy Monggo with Tinapa",
          "Fried Galunggong with Salted Egg and Tomato Salad",
          "Inihaw na Galunggong with Ensaladang Talong",
          "Beef Short Rib Kare Kare",
          "Crispy Tofu Sisig",
          "Ensaladang Mangga (Green Mango Salad)",
          "Chicken Curry",
          "Sauteed Bottle Gourd with Ground Pork and Shrimp",
          "Afritadang Baboy",
          "Corned Beef with Cabbage and Potato",
          "Sinigang na Salmon sa Miso",
          "Sweet and Sour Red Snapper",
          "Grilled Pork Belly with Garlic Fried Rice and Fried Egg - Liempo Sinangag Itlog",
          "Filipino Style Pork BBQ",
          "Pork Nilaga Recipe",
          "Lobster Pasta in Creamy Alfredo Sauce Recipe",
          "Chicken Arroz Caldo Recipe",
          "Shrimp Pancit Bihon Recipe",
          "Braised Pork Belly in Soy Sauce (Tau Yew Bak)",
          "Pork Menudo with Ham Recipe",
          "Tofu and Green Bean Stir Fry in Oyster Sauce with Salted Black Beans",
          "Spicy Wonton Soup Recipe",
          "Monggo with Hibi (Mung beans with small dried shrimp)",
          "Pesang Baboy at Manok Recipe",
          "Dinendeng with Bilong-bilong Recipe",
          "Tuna in Can Sarciado",
          "Seafood Bicol Express",
          "Chicken Soup with Misua and Patola",
          "Chicken Lomi Recipe",
          "Special Longanisa Fried Rice Recipe",
          "Simple Chicken Noodle Soup",
          "Shrimp Scampi with Linguine",
          "Pork Pochero Recipe",
          "Spicy Ginataang Baboy with Papaya and Malunggay",
          "Tinola Chicken Mami",
          "Tinolang Manok sa Gata",
          "Dinaldalem Recipe",
          "Lengua Estofado Recipe",
          "Pinoy Style Carbonara",
          "How To Cook Beef Kaldereta",
          "Cheesy Baked Macaroni",
          "Classic Beef Morcon Recipe",
          "Embutido Meatloaf with Tomato and Basil Grilled Cheese Sandwich",
          "Tuna Jaw Sinigang",
          "Pork Chop Sinigang",
          "Pork and Scallion Stir Fry Recipe",
          "Chicken Afritada with Bell Pepper",
          "Chicken Potato Salad",
          "Panlasang Pinoy Spaghetti",
          "Fiesta Menudo",
          "Corned Beef Silog",
          "Simple Chicken Afritada",
          "Pork Cheeseburger",
          "Oven Baked Pork Chop Silog with Atchara",
          "Ginisang Tuna (Canned Albacore Tuna Sauteed with Onions)",
          "Chopsuey with Quail Eggs",
          "Boiled Okra and Eggplant with Bagoong Dipping Sauce",
          "Crawfish in Coconut Milk with Spinach",
          "Sinigang na Bangus Belly sa Miso",
          "Sigarilyas Gising gising Recipe",
          "Grilled St. Louis Style Ribs with Ensaladang Talong and Bagoong",
          "Scrambled Eggs with Tomato, Onion, and Spinach",
          "Fried Daing na Bangus with Garlic Fried Rice, Fried Egg, and Pickled Papaya (Daing Silog)",
          "Oven Grilled Liempo",
          "Sinabawang Isda at Gulay",
          "Slow Cook Pork Afritada",
          "Nilagang Litid ng Baka",
          "Ground Beef Omelet",
          "Chopped Tomato and Onion with Bagoong Isda",
          "Beef Teriyaki Tapa with Fried Rice and Egg",
          "Shrimp Alfredo Pasta with Scallops",
          "Asian BBQ Pork Baby Back Ribs",
          "Ginataang Langka with Malunggay and Daing",
          "Paksiw na Pata with Pineapple",
          "Kielbasa Fried Rice",
          "Beef Sinigang sa Kamias with Gabi (Beef in Sour Broth with Taro)",
          "Lumpiang Gulay (Vegetable Egg Roll Recipe)",
          "Turkey and Ham Sopas",
          "Spicy Chicken in Coconut Milk (Ginataang Manok)",
          "Pinoy Chicken Noodle Soup",
          "Squid Ball Pancit Canton Recipe",
          "Breakfast Sausage Hash",
          "Simple Recipe for Chicken Noodle Soup",
          "Hashbrown Casserole",
          "Huevos Rancheros",
          "Easy Sweet and Sour Sauce",
          "Basil Pork Recipe",
          "Pork Giniling Kaldereta Recipe",
          "Dried Squid in Coconut Milk",
          "Pork and Potato Stew Recipe",
          "Kale and Tuna Laing Recipe",
          "Pork Nilaga with Kalabasa",
          "Filipino Skewered Pork BBQ",
          "Tuna Alfredo Casserole",
          "Easy Callos Recipe",
          "Simple Lo Mein",
          "Lo Mein with Beef and Broccoli",
          "Sausage Macaroni Pasta",
          "Teriyaki Chicken Lettuce Wrap",
          "Dutch Oven Pork Stew Recipe",
          "Sweet Pepper Relyeno Recipe",
          "Oriental Lomi Recipe",
          "Simple Pancit Palabok Recipe",
          "Ginataang Alimasag with Malunggay",
          "Filipino Style Spaghetti",
          "Meatball Adobo with Shrimp Fried Rice and Egg",
          "Shrimp Pancit Canton Recipe",
          "Sinigang na Hipon sa Sampaloc",
          "Beef Morcon Recipe",
          "Sinigang na Bangus sa Bayabas",
          "Slow Cooked Beef Nilaga Soup Recipe",
          "Slow Cook Pork Hock Stew",
          "Misua Soup with Meatballs",
          "Special Pinoy Pork Chop Binalot Lunch Combo Meal Recipe",
          "Tokwa and Tuna Recipe",
          "Corn Soup with Mussels and Malunggay",
          "Binagoongang Baboy Recipe (Pork in Shrimp Paste)",
          "Sinigang na Isda sa Kamias with Miso",
          "Nilagang Pata Recipe",
          "Pork Giniling with Quail Eggs",
          "Easy Macaroni Salad",
          "Pork Sinigang sa Kamias Recipe",
          "Sinampalukang Kambing",
          "Smoked Salmon Pasta",
          "Chicken Guisantes Recipe",
          "Kalderetang Kambing (Goat Stew)",
          "Ginisang Papaya",
          "How to Make Eggs Benedict",
          "Sarciadong Daing",
          "Ginataang Papaya",
          "Tuyo Pasta",
          "Pancit Sotanghon",
          "Corned Beef and Potato Casserole",
          "Filipino Chicken Macaroni Sopas",
          "Tofu with Tausi and Straw Mushrooms",
          "Garlic Shrimp Pasta",
          "Monggo Guisado Recipe",
          "Italian Sausage Pasta Recipe",
          "Saffron Rice Recipe",
          "Baked Chicken Parmesan Recipe",
          "Instant Pancit Canton with Vegetables",
          "Ahi Tuna Sandwich with Wasabi Mayonnaise",
          "Tasty Pork Afritada Recipe",
          "Easy Turkey Embutido Recipe",
          "Homemade Chicken Noodle Soup Recipe",
          "Easy Chicken Barbecue Recipe",
          "Crab and Pork Shumai Recipe",
          "Easy Calamari Recipe",
          "Sweet and Sour Mahi-mahi",
          "Menudo with Raisins and Green Peas",
          "Spaghetti with Meatballs",
          "Linguine Pasta with Clams",
          "Easy Afritada",
          "Chicken Pasta Casserole",
          "Tuna Melt Sandwich",
          "Sour Cream Noodle Bake",
          "Quick Roast Beef Sandwich",
          "Sinigang na Liempo sa Sampaloc",
          "Ginarep Recipe (Shrimp and Corn Soup)",
          "Panara Recipe (Deep Fried Shrimp Wonton)",
          "Inihaw na Pork Chop",
          "Sayote Guisado with Chicken and Shrimp",
          "Bulalo Beef Mami",
          "Chicken Carbonara",
          "Barbecued Chicken Lettuce Wrap",
          "Sizzling Chicken Sisig",
          "Arroz Caldo with tokwa",
          "Bacon and Avocado Sandwich",
          "Fried Chicken Potato Salad",
          "Tokwat Baka (Fried Tofu and Grilled Beef in Vinegar Sauce)",
          "Sauteed Flank Steak with Bok Choy and String Beans",
          "Corn Soup with Quail Eggs",
          "Chicken Giniling with Green Peas",
          "Tofu Sarciado",
          "Asian Chicken Soup",
          "Honey and Balsamic Glazed Mahi-mahi",
          "Tangy Shrimp Tacos",
          "Vegetable Spring Roll",
          "Hoisin Glazed Salmon",
          "Slow Cook Pork Chop with Mushroom Gravy",
          "Easy Beef with Broccoli",
          "Easy Chicken Tacos",
          "Vegetarian Pancit Sotanghon",
          "Chicken Piccata",
          "Chicken Pesto Pasta",
          "Kikiam Recipe",
          "Misua with Patola and Shrimp",
          "Chicken with Broccoli Recipe",
          "Teriyaki Bistek Recipe",
          "Parmesan Crusted Fish Recipe",
          "Chicago Style Hotdog",
          "Misua with Ground Beef and Zucchini Soup",
          "Scallop Chop Suey Recipe",
          "Pork with Zucchini in Oyster Sauce",
          "Vegetable Omelet Recipe",
          "Baked Spaghetti Recipe",
          "Corn Chowder Recipe",
          "Tonkatsu Recipe",
          "Pineapple and Soy Sauce Pork Pot Roast",
          "Ground Beef Spaghetti Alfredo",
          "Chicken Soup Recipe",
          "Carne Asada Burrito Recipe",
          "Crab Dip Recipe",
          "Century Egg Congee with Salted Pork",
          "Creamed Spinach Recipe",
          "Pineapple Pork Stir Fry",
          "Turkey Reuben Sandwich",
          "Turkey Noodle Soup Recipe",
          "Star Anise and Cider Brined Roast Turkey",
          "BBQ Beef Short Ribs Recipe",
          "Fettuccine Pasta with Tomato Meat Sauce",
          "Easy Guacamole Recipe",
          "Chicken and Baby Corn Stir Fry",
          "Dusty Fried Chicken Recipe",
          "Easy Spinach Dip Recipe",
          "Arroz a la Cubana Recipe",
          "Baked Garlic Rosemary Chicken Recipe",
          "Pork Tapsilog",
          "Baked Chicken and Vegetable Stir Fry",
          "Teriyaki Pork Chop Recipe",
          "Dinengdeng Recipe",
          "Grilled Chicken and Corn",
          "Kangkong with Bagoong Recipe",
          "Tasty Sliders Recipe",
          "Smothered Pork Chop Recipe",
          "Beef Stir Fry with Chopped Broccoli",
          "Spicy Laing Recipe",
          "Beef with Broccoli Lo Mein Recipe",
          "Stir Fry Tofu with Vegetables",
          "Rellenong Alimasag Recipe",
          "Tilapia Fish Tacos Recipe",
          "Easy Clam Chowder Recipe",
          "Shrimp Scampi Recipe",
          "Tortilla Soup Recipe",
          "Ground Beef Casserole Recipe",
          "Hototay Soup Recipe",
          "Eggplant Parmesan Recipe",
          "Ginataang Langka with Dilis Recipe",
          "Ground Beef Tostada",
          "Sinampalukang Manok Recipe",
          "Mixed Seafood in Coconut Milk Recipe",
          "Asian Chicken Barbecue Submarine Sandwich",
          "Pumpkin Soup Recipe",
          "Shepherds Pie",
          "Pork Guisantes Recipe",
          "Pork and Tofu in Oyster Sauce Recipe",
          "Shrimp Pasta in Tomato Cream Cheese Sauce Recipe",
          "Vegetable Stir-fry Pasta Recipe",
          "Aligue Pasta",
          "Spinach and Feta Pasta Recipe",
          "Bow Tie Pasta with Vodka Sauce Recipe",
          "Sizzling Pork Chop Recipe",
          "Rotini Chicken Alfredo Recipe",
          "Sushi Summer Roll Recipe",
          "Lomi Recipe",
          "Creamy Tuyo Pesto",
          "Chicken Teriyaki Recipe",
          "Sardines with Misua Recipe",
          "Chicken Sopas Recipe",
          "Tortang Giniling Recipe",
          "Pork Giniling Recipe",
          "Sinigang na Panga ng Tuna Recipe (Tuna jaw cooked in sour broth)",
          "Corn Salsa Recipe",
          "Chicken Satay with Peanut Sauce",
          "Lumpiang Togue Recipe",
          "Kung Pao Shrimp",
          "Caesar Salad",
          "Sarciadong Isda Recipe",
          "Shared Recipe: Tortang Talong with Giniling",
          "Molo Soup",
          "Morcon",
          "California Roll",
          "Cashew Chicken Recipe",
          "Beef Nilaga Recipe",
          "Longanisa Recipe (Filipino Sausage)",
          "Pakbet Ilocano Recipe",
          "Pancit Bihon Recipe",
          "Pork Hamonado Recipe"
         ],
         "legendgroup": "0",
         "marker": {
          "color": "rgb(242, 183, 1)",
          "size": 5,
          "symbol": "circle"
         },
         "mode": "markers",
         "name": "0",
         "scene": "scene",
         "showlegend": true,
         "type": "scatter3d",
         "x": [
          0.8141953349113464,
          0.6747042536735535,
          0.8214147090911865,
          0.8617624044418335,
          0.701264500617981,
          0.8738642334938049,
          0.9005643129348755,
          0.838948667049408,
          0.8164992928504944,
          0.8602461218833923,
          0.8519786596298218,
          0.8703920245170593,
          0.8583967089653015,
          0.5959988236427307,
          0.8560987710952759,
          0.742919921875,
          0.6642128229141235,
          0.8761842250823975,
          0.7818024754524231,
          0.885877788066864,
          0.8131178617477417,
          0.852426290512085,
          0.6088544130325317,
          0.8731793761253357,
          0.844648540019989,
          0.8271344900131226,
          0.827244222164154,
          0.8845546245574951,
          0.7901190519332886,
          0.6924527883529663,
          0.8937007188796997,
          0.8826843500137329,
          0.7267248630523682,
          0.8749340176582336,
          0.850250244140625,
          0.8215801119804382,
          0.7836347222328186,
          0.7568731307983398,
          0.7613508105278015,
          0.7384032011032104,
          0.780013382434845,
          0.8090916275978088,
          0.7456754446029663,
          0.8813909292221069,
          0.7902552485466003,
          0.8624012470245361,
          0.8234734535217285,
          0.8275359272956848,
          0.9120446443557739,
          0.7882708311080933,
          0.6680493354797363,
          0.8183419704437256,
          0.630864143371582,
          0.828728199005127,
          0.8191170692443848,
          0.7866359353065491,
          0.8515836596488953,
          0.8442481756210327,
          0.8723164200782776,
          0.7685571908950806,
          0.7813119292259216,
          0.6954811811447144,
          0.8552709817886353,
          0.6763386726379395,
          0.7966330051422119,
          0.8216337561607361,
          0.7211902141571045,
          0.8000946044921875,
          0.753797173500061,
          0.7100225687026978,
          0.8489365577697754,
          0.8252699375152588,
          0.8987904787063599,
          0.8812800049781799,
          0.8404741287231445,
          0.7964558601379395,
          0.8441250920295715,
          0.872525155544281,
          0.8886551260948181,
          0.7935067415237427,
          0.8886217474937439,
          0.9241195917129517,
          0.8590474724769592,
          0.6656319499015808,
          0.9155369997024536,
          0.8049143552780151,
          0.7634144425392151,
          0.707680881023407,
          0.5452101230621338,
          0.8454932570457458,
          0.7325577735900879,
          0.8584173917770386,
          0.8248305320739746,
          0.9055860042572021,
          0.8290942311286926,
          0.8833468556404114,
          0.8125591278076172,
          0.6894952654838562,
          0.8560537695884705,
          0.805354118347168,
          0.8890213966369629,
          0.8321793079376221,
          0.8615667819976807,
          0.8650498390197754,
          0.5649657249450684,
          0.8808814883232117,
          0.8345642685890198,
          0.7930173873901367,
          0.8682336807250977,
          0.8595020771026611,
          0.8749828934669495,
          0.8195163011550903,
          0.8251635432243347,
          0.8695558905601501,
          0.804985761642456,
          0.7549892663955688,
          0.8169198036193848,
          0.72528475522995,
          0.8714350461959839,
          0.857014536857605,
          0.6767727136611938,
          0.831446647644043,
          0.7793561816215515,
          0.7562254071235657,
          0.8479979634284973,
          0.8025386333465576,
          0.8510538935661316,
          0.8247601389884949,
          0.8476893901824951,
          0.8700852990150452,
          0.8995928168296814,
          0.8686074614524841,
          0.7494671940803528,
          0.8707537055015564,
          0.6271114349365234,
          0.7434636354446411,
          0.6092547178268433,
          0.7560214996337891,
          0.7386524081230164,
          0.8736085891723633,
          0.7636069655418396,
          0.732498288154602,
          0.8461647033691406,
          0.8276187181472778,
          0.6375762820243835,
          0.7814838290214539,
          0.6903375387191772,
          0.8230886459350586,
          0.7817844748497009,
          0.7615780234336853,
          0.8817673921585083,
          0.7536957263946533,
          0.6585792899131775,
          0.5449037551879883,
          0.8073022365570068,
          0.8857434988021851,
          0.8381097316741943,
          0.7223615646362305,
          0.857092022895813,
          0.8234233856201172,
          0.7026666402816772,
          0.8385300636291504,
          0.7882723212242126,
          0.6822070479393005,
          0.8723475933074951,
          0.8294158577919006,
          0.8743610978126526,
          0.8606750965118408,
          0.8455422520637512,
          0.905739963054657,
          0.8989790678024292,
          0.8146876692771912,
          0.8935350179672241,
          0.8232594728469849,
          0.7668412327766418,
          0.8144717812538147,
          0.7948969602584839,
          0.7717393636703491,
          0.7661455869674683,
          0.8607105612754822,
          0.8300008773803711,
          0.7519120573997498,
          0.785577654838562,
          0.7738434672355652,
          0.7767147421836853,
          0.8488969802856445,
          0.8442990779876709,
          0.7941980361938477,
          0.8351396322250366,
          0.8314915895462036,
          0.8525474071502686,
          0.8102719187736511,
          0.8398476839065552,
          0.8868306279182434,
          0.7610735893249512,
          0.8472745418548584,
          0.7920495271682739,
          0.8209216594696045,
          0.7533606290817261,
          0.8731318712234497,
          0.8350391983985901,
          0.8683195114135742,
          0.8304893374443054,
          0.7915494441986084,
          0.8995440006256104,
          0.8997883200645447,
          0.6365663409233093,
          0.7400162220001221,
          0.8821430206298828,
          0.7890161275863647,
          0.7715905904769897,
          0.6882768869400024,
          0.8657407164573669,
          0.8758494853973389,
          0.8491349220275879,
          0.8171106576919556,
          0.7886843681335449,
          0.8935658931732178,
          0.8941342234611511,
          0.8559123277664185,
          0.7133051156997681,
          0.8675066232681274,
          0.9077072143554688,
          0.8147308826446533,
          0.821764349937439,
          0.7070520520210266,
          0.8049839735031128,
          0.8721431493759155,
          0.9360625147819519,
          0.9124305248260498,
          0.799001157283783,
          0.8433809280395508,
          0.8596345782279968,
          0.766425609588623,
          0.8866293430328369,
          0.8927127122879028,
          0.8874759674072266,
          0.8985549211502075,
          0.8788767457008362,
          0.825432300567627,
          0.8005013465881348,
          0.8013076186180115,
          0.8288534283638,
          0.7684799432754517,
          0.7672796249389648,
          0.7509874105453491,
          0.8755048513412476,
          0.8449897766113281,
          0.766276478767395,
          0.8256163597106934,
          0.8207951188087463,
          0.7856805324554443,
          0.8798202872276306,
          0.6702339053153992,
          0.8470795750617981,
          0.7115142941474915,
          0.905199408531189,
          0.5022838115692139,
          0.8765302896499634,
          0.7956435680389404,
          0.8942461013793945,
          0.76738440990448,
          0.8676806092262268,
          0.7084553241729736,
          0.780468225479126,
          0.7845481038093567,
          0.915226936340332,
          0.7741508483886719,
          0.8393079042434692,
          0.7431163191795349,
          0.5900956392288208,
          0.775967001914978,
          0.6758936047554016,
          0.8723258972167969,
          0.8809207081794739,
          0.8484527468681335,
          0.8341124057769775,
          0.8380794525146484,
          0.8223198056221008,
          0.8699933290481567,
          0.8787076473236084,
          0.7943478226661682,
          0.828060507774353,
          0.8673482537269592,
          0.8544516563415527,
          0.802442193031311,
          0.8216682076454163,
          0.9204497337341309,
          0.8767268061637878,
          0.8783550262451172,
          0.8813694715499878,
          0.8330084085464478,
          0.7799893617630005,
          0.8216525912284851,
          0.652428925037384,
          0.7891526818275452,
          0.9097588062286377,
          0.9031354784965515,
          0.5462956428527832,
          0.8448837995529175,
          0.8345860838890076,
          0.8343187570571899,
          0.8974159955978394,
          0.8730473518371582,
          0.8307542204856873,
          0.8067769408226013,
          0.6076009273529053,
          0.7682236433029175,
          0.7986931800842285,
          0.8208568692207336,
          0.8361456394195557,
          0.7545924186706543,
          0.8450548648834229,
          0.8238515853881836,
          0.6970864534378052,
          0.8964440226554871,
          0.7982151508331299,
          0.8753564357757568,
          0.8253817558288574,
          0.7540369033813477,
          0.8654522895812988,
          0.8062961101531982,
          0.7645755410194397,
          0.8741269111633301,
          0.7261379361152649,
          0.8058159351348877,
          0.8823840022087097,
          0.8807809948921204,
          0.7446637749671936,
          0.7897183299064636,
          0.884679913520813,
          0.7806641459465027,
          0.8949881792068481,
          0.8013355731964111,
          0.871649980545044,
          0.7736290097236633,
          0.8220500349998474,
          0.8698576092720032,
          0.7474948167800903,
          0.8424395322799683,
          0.7854101061820984,
          0.7291747331619263,
          0.7766417264938354,
          0.7093649506568909,
          0.8141338229179382,
          0.8590975999832153,
          0.5776674747467041,
          0.8668433427810669,
          0.7836562991142273,
          0.8965373039245605,
          0.8613753318786621,
          0.7691490054130554,
          0.842738926410675,
          0.7682861089706421,
          0.6967579126358032,
          0.7026776671409607,
          0.8128970861434937,
          0.8077003955841064,
          0.6934366822242737,
          0.7465322017669678,
          0.8687609434127808,
          0.9157965779304504,
          0.8620755672454834,
          0.8698075413703918,
          0.8374047875404358,
          0.863393247127533,
          0.8844782114028931,
          0.89426189661026,
          0.7725059986114502,
          0.8242907524108887,
          0.886151134967804,
          0.8708484172821045,
          0.7858917713165283,
          0.8398480415344238,
          0.9184110760688782,
          0.9027657508850098,
          0.8318808078765869,
          0.8442572951316833,
          0.8571003675460815,
          0.845258355140686,
          0.7465419173240662,
          0.9034857153892517,
          0.787176787853241,
          0.818798303604126,
          0.8648547530174255,
          0.7682982087135315,
          0.8320810794830322,
          0.8742600679397583,
          0.8624383211135864,
          0.8778898119926453,
          0.7983925342559814,
          0.7997075319290161,
          0.8177850246429443,
          0.9010055065155029,
          0.8572274446487427,
          0.7902401089668274,
          0.8672581911087036,
          0.8173615336418152,
          0.8060817122459412,
          0.8296114802360535,
          0.6273093819618225,
          0.8110212087631226,
          0.6808009743690491,
          0.6424126029014587,
          0.7968736886978149,
          0.7768347859382629,
          0.8378406167030334,
          0.6692830324172974,
          0.8779734373092651,
          0.5963855981826782,
          0.8210352659225464,
          0.7241102457046509,
          0.6884589195251465,
          0.8961561322212219,
          0.8580492734909058,
          0.7347886562347412,
          0.9090425372123718,
          0.8051906228065491,
          0.8869533538818359,
          0.8494554758071899,
          0.8931586742401123,
          0.5773436427116394,
          0.8555508852005005,
          0.6057689785957336,
          0.7549668550491333,
          0.8789879083633423,
          0.8791510462760925,
          0.880050778388977,
          0.8711850643157959,
          0.8870900869369507,
          0.77142733335495,
          0.746147871017456,
          0.88130784034729,
          0.8030667304992676,
          0.8371715545654297,
          0.8419786691665649,
          0.7906083464622498,
          0.7691131234169006,
          0.8679449558258057,
          0.8468684554100037,
          0.8172520995140076,
          0.8471601009368896,
          0.8372873663902283,
          0.8476693034172058,
          0.8322904109954834,
          0.8272143602371216,
          0.914469838142395,
          0.8601422905921936,
          0.6968291997909546,
          0.8525662422180176,
          0.7018466591835022,
          0.8429019451141357,
          0.8573997616767883,
          0.7781306505203247,
          0.7188833951950073,
          0.863720715045929,
          0.8108621835708618,
          0.6885020732879639,
          0.8998871445655823,
          0.830223798751831,
          0.7763532996177673,
          0.9024270176887512,
          0.6659641265869141,
          0.7792829871177673,
          0.855344831943512,
          0.845731794834137,
          0.8941938877105713,
          0.8606963157653809,
          0.8743468523025513,
          0.7194399833679199,
          0.8876963257789612,
          0.8311112523078918,
          0.7988820672035217,
          0.8484216928482056,
          0.683036208152771,
          0.7199856042861938,
          0.7948259711265564,
          0.8382012844085693,
          0.8124947547912598
         ],
         "y": [
          0.16249024868011475,
          0.07156559079885483,
          0.10599364340305328,
          0.06024928390979767,
          0.1519080251455307,
          0.25169968605041504,
          0.17937350273132324,
          0.19184890389442444,
          0.18323352932929993,
          -0.07747258245944977,
          0.19928130507469177,
          0.033988501876592636,
          0.20085842907428741,
          0.30699145793914795,
          0.2191934883594513,
          0.2314807027578354,
          0.04845842719078064,
          0.18701928853988647,
          0.23660027980804443,
          0.2466963529586792,
          0.1578092724084854,
          0.239617258310318,
          0.30099767446517944,
          0.22002214193344116,
          0.045005545020103455,
          0.16176477074623108,
          0.23835401237010956,
          0.2298823446035385,
          0.21521121263504028,
          0.19996319711208344,
          -0.01687472313642502,
          0.19777023792266846,
          0.2638854682445526,
          0.14563998579978943,
          0.2705763876438141,
          0.12978163361549377,
          -0.02603994309902191,
          0.15345588326454163,
          0.1597253680229187,
          0.13348323106765747,
          0.17241685092449188,
          0.13903740048408508,
          0.11416679620742798,
          0.0893930047750473,
          -0.04793567955493927,
          0.07673396915197372,
          -0.0021120309829711914,
          -0.05116236209869385,
          0.059436749666929245,
          0.06812204420566559,
          0.2633160352706909,
          -0.012555384077131748,
          0.2940656244754791,
          -0.0639682412147522,
          -0.06417036056518555,
          -0.011060371994972229,
          0.03767653554677963,
          -0.10865623503923416,
          -0.025629431009292603,
          0.1020825207233429,
          0.0674339234828949,
          0.05278899520635605,
          -0.01774192601442337,
          -0.003669995814561844,
          0.05297652631998062,
          -0.0510747954249382,
          0.0314197801053524,
          0.05201520770788193,
          -0.04043859615921974,
          0.19820117950439453,
          -0.08448709547519684,
          -0.07770635187625885,
          -0.05202588811516762,
          -0.12360060960054398,
          -0.10868023335933685,
          -0.07843117415904999,
          -0.048826754093170166,
          -0.003954069688916206,
          0.01969142258167267,
          -0.10158094763755798,
          -0.07610336691141129,
          -0.04295327514410019,
          0.012897305190563202,
          0.04643358290195465,
          -0.046943653374910355,
          -0.0033018458634614944,
          -0.0449979342520237,
          -0.0020271483808755875,
          0.09132906049489975,
          -0.08384260535240173,
          -0.05131682753562927,
          -0.045955464243888855,
          -0.0788465291261673,
          -0.07758475095033646,
          0.051888901740312576,
          -0.036226529628038406,
          -0.05437865108251572,
          0.2635705769062042,
          -0.07257682085037231,
          -0.04133443534374237,
          -0.09547049552202225,
          0.03197047486901283,
          0.06443075090646744,
          -0.13245618343353271,
          0.22640380263328552,
          -0.1471487283706665,
          0.06186797097325325,
          -0.07581418007612228,
          0.007139237597584724,
          -0.04405058175325394,
          -0.04349843040108681,
          0.13300706446170807,
          -0.017564797773957253,
          -0.11852072179317474,
          -0.025663793087005615,
          -0.026873689144849777,
          -0.05535535886883736,
          0.14175614714622498,
          -0.01495315507054329,
          -0.044845376163721085,
          0.15236087143421173,
          -0.040660545229911804,
          -0.02255863882601261,
          0.14651279151439667,
          -0.06735401600599289,
          -0.07591895759105682,
          -0.06142282485961914,
          -0.09837154299020767,
          -0.11692990362644196,
          -0.02501598559319973,
          -0.02031450718641281,
          -0.07394293695688248,
          -0.019115649163722992,
          -0.08240993320941925,
          0.19086360931396484,
          0.22612681984901428,
          0.258277028799057,
          -0.04740998521447182,
          0.014296922832727432,
          -0.017203954979777336,
          -0.0317438542842865,
          0.19870325922966003,
          0.04487277567386627,
          -0.02841368317604065,
          0.14897629618644714,
          0.09312774240970612,
          0.30287009477615356,
          0.06180131435394287,
          0.036537863314151764,
          0.11401552706956863,
          -0.07185132056474686,
          -0.01916627585887909,
          0.2970471680164337,
          0.20539191365242004,
          -0.07329506427049637,
          -0.04402957111597061,
          -0.08089842647314072,
          0.1852339804172516,
          -0.09084169566631317,
          0.06904327869415283,
          0.1311403512954712,
          -0.08197692036628723,
          0.1813863068819046,
          0.15551504492759705,
          0.03401955962181091,
          0.05283823981881142,
          -0.10816489160060883,
          -0.09212122857570648,
          -0.10371730476617813,
          -0.019855264574289322,
          -0.07948729395866394,
          -0.06003392115235329,
          0.025134744122624397,
          -0.051850028336048126,
          0.08027105033397675,
          0.14298087358474731,
          0.17473916709423065,
          0.06474120914936066,
          -0.04577773064374924,
          -0.04733807221055031,
          -0.030665768310427666,
          0.05539756268262863,
          -0.02353605628013611,
          0.018292531371116638,
          -0.00003711692988872528,
          0.00045010820031166077,
          0.18452735245227814,
          0.20894359052181244,
          -0.0768435001373291,
          -0.059780701994895935,
          -0.10756310075521469,
          0.0021074519027024508,
          0.2005157172679901,
          0.047649629414081573,
          0.15015685558319092,
          -0.13140898942947388,
          -0.04590344429016113,
          0.20647794008255005,
          0.17297710478305817,
          -0.027401871979236603,
          0.09327800571918488,
          -0.000566478818655014,
          -0.059113286435604095,
          -0.04872731491923332,
          -0.0013511991128325462,
          0.0026939474046230316,
          0.11411001533269882,
          0.11706021428108215,
          -0.02840264141559601,
          0.12218570709228516,
          0.09163747727870941,
          0.30520498752593994,
          -0.015231032855808735,
          -0.013952404260635376,
          -0.1128980964422226,
          0.06901450455188751,
          -0.02557317353785038,
          -0.0904635563492775,
          -0.011789870448410511,
          -0.05393489450216293,
          0.10495493561029434,
          -0.008199292235076427,
          -0.019673246890306473,
          -0.07274436205625534,
          0.13227970898151398,
          0.18415670096874237,
          0.0833350196480751,
          0.012135764583945274,
          -0.04366530478000641,
          0.013315338641405106,
          0.03157069906592369,
          0.12316304445266724,
          0.06788569688796997,
          0.10838373005390167,
          -0.029122665524482727,
          0.000875706784427166,
          -0.0820152685046196,
          0.0012905485928058624,
          0.027487877756357193,
          -0.018956370651721954,
          0.1551428586244583,
          -0.013386210426688194,
          0.018959082663059235,
          -0.020433705300092697,
          -0.019375596195459366,
          0.12935522198677063,
          -0.013720342889428139,
          0.13265638053417206,
          0.08681102842092514,
          0.11383195221424103,
          0.14995163679122925,
          0.1186542958021164,
          -0.03371207043528557,
          0.06199050322175026,
          -0.14040090143680573,
          0.19134221971035004,
          -0.07950050383806229,
          0.2106625735759735,
          -0.03506451100111008,
          0.04855157807469368,
          -0.10338026285171509,
          0.15546689927577972,
          -0.11229044944047928,
          0.15682709217071533,
          0.1977485716342926,
          0.21867766976356506,
          0.047533728182315826,
          0.1453000009059906,
          -0.026698503643274307,
          0.12104415893554688,
          0.20426513254642487,
          -0.04382387548685074,
          0.29607394337654114,
          -0.11531120538711548,
          -0.002482860116288066,
          -0.05853991582989693,
          -0.03689420595765114,
          -0.09319373220205307,
          0.024410806596279144,
          0.10736217349767685,
          -0.0016333083622157574,
          0.1863660365343094,
          -0.0566488616168499,
          0.0890355259180069,
          -0.02130982279777527,
          0.07265600562095642,
          -0.07220993936061859,
          -0.04089502990245819,
          0.11034375429153442,
          0.026873603463172913,
          -0.010072220116853714,
          -0.04911316931247711,
          0.10350301116704941,
          -0.07801336795091629,
          0.1944667249917984,
          0.16236743330955505,
          -0.03206724673509598,
          -0.015000208280980587,
          0.14048674702644348,
          0.062122978270053864,
          0.07766974717378616,
          -0.05780167132616043,
          0.042579490691423416,
          0.03959788382053375,
          0.07583902031183243,
          0.11392408609390259,
          0.14336037635803223,
          0.25308758020401,
          0.16540208458900452,
          0.17548102140426636,
          -0.024495478719472885,
          0.04701755568385124,
          0.1379241943359375,
          0.07009929418563843,
          0.3440377116203308,
          -0.08100804686546326,
          0.07890012860298157,
          -0.06730055809020996,
          -0.006073521915823221,
          0.13880449533462524,
          0.02478591538965702,
          -0.02117927558720112,
          0.05048920586705208,
          0.026090998202562332,
          -0.05455921217799187,
          0.08431193232536316,
          -0.05274258181452751,
          -0.021349983289837837,
          -0.03394058346748352,
          0.19930927455425262,
          -0.05760621279478073,
          -0.06064046919345856,
          -0.02222178876399994,
          0.07782118767499924,
          -0.05078115314245224,
          0.13082997500896454,
          -0.08796010911464691,
          -0.08909568935632706,
          0.048545368015766144,
          -0.11912751942873001,
          0.048704709857702255,
          0.06804382801055908,
          0.014734380878508091,
          0.06924039125442505,
          0.0023611951619386673,
          -0.016270574182271957,
          0.18105456233024597,
          -0.08091519773006439,
          0.06743354350328445,
          0.021492771804332733,
          0.012639721855521202,
          0.08948168903589249,
          -0.09005560725927353,
          0.15284474194049835,
          -0.0012333369813859463,
          0.06025943160057068,
          -0.016995616257190704,
          -0.049596965312957764,
          0.18090468645095825,
          0.18717534840106964,
          -0.018484406173229218,
          -0.035680562257766724,
          -0.02640962041914463,
          0.05469159036874771,
          -0.04147278517484665,
          0.06374640017747879,
          -0.012478811666369438,
          -0.08188406378030777,
          -0.08211404830217361,
          0.017053356394171715,
          -0.038968633860349655,
          -0.009456630796194077,
          0.0659736692905426,
          0.0696173906326294,
          -0.07016611844301224,
          0.008055882528424263,
          0.1077980101108551,
          -0.09215547144412994,
          -0.0831260234117508,
          0.09520649909973145,
          0.009311113506555557,
          -0.017197754234075546,
          0.061226241290569305,
          0.18237556517124176,
          -0.11874110251665115,
          -0.0689961388707161,
          0.08482316136360168,
          0.18471889197826385,
          0.07985377311706543,
          0.029282143339514732,
          0.02311773970723152,
          -0.06790731102228165,
          0.1410214602947235,
          -0.01568695530295372,
          0.014213386923074722,
          -0.042577680200338364,
          -0.06138968467712402,
          0.09180935472249985,
          -0.015175187960267067,
          0.1182733029127121,
          0.12429399788379669,
          0.0016969777643680573,
          0.041139885783195496,
          0.0729493796825409,
          0.02186991088092327,
          0.04191805422306061,
          0.1888238489627838,
          0.03140207380056381,
          0.013713669031858444,
          0.09617435187101364,
          -0.10405156016349792,
          0.07043083012104034,
          0.1618645191192627,
          -0.053093671798706055,
          0.079191192984581,
          -0.02687392383813858,
          -0.002626413479447365,
          -0.03483996167778969,
          -0.059186480939388275,
          0.09621226787567139,
          -0.09123960137367249,
          0.05168730020523071,
          -0.10386476665735245,
          0.2802574634552002,
          -0.038618721067905426,
          -0.10389414429664612,
          -0.07766030728816986,
          -0.03956448659300804,
          -0.0734640434384346,
          -0.07247104495763779,
          0.1439509391784668,
          0.09692725539207458,
          -0.08622218668460846,
          0.15095339715480804,
          -0.039119601249694824,
          -0.09238375723361969,
          -0.00452573224902153,
          0.05115075409412384,
          0.09092210978269577,
          -0.05429180711507797,
          -0.009797175414860249,
          -0.08837541937828064,
          -0.09501480311155319,
          -0.11172489076852798,
          0.1193993091583252,
          0.1375407576560974,
          -0.08130334317684174,
          -0.06610511988401413,
          0.2961033880710602,
          -0.055112045258283615,
          0.12696316838264465,
          -0.09720207750797272,
          0.005252673756331205,
          -0.050730954855680466,
          0.07849453389644623,
          0.005553579423576593,
          -0.0773727223277092,
          0.03655543923377991,
          -0.04610022157430649,
          0.1334349513053894,
          -0.07111848890781403,
          -0.03870004415512085,
          0.14329788088798523,
          -0.03354593738913536,
          0.19668534398078918,
          0.044626764953136444,
          -0.02277020737528801,
          -0.059624578803777695,
          0.06202054023742676,
          0.15782944858074188,
          -0.07956954091787338,
          0.0543007031083107,
          -0.03014814481139183,
          -0.10623341798782349,
          0.1260610967874527,
          0.0423135869204998,
          -0.04635101184248924,
          -0.05997898057103157,
          -0.0522221177816391
         ],
         "z": [
          -0.036073725670576096,
          0.19774940609931946,
          0.2519753575325012,
          -0.03139545023441315,
          0.2221864014863968,
          -0.025026123970746994,
          0.0060730259865522385,
          0.10288496315479279,
          -0.03194885328412056,
          -0.04613388702273369,
          -0.02179516851902008,
          0.06788269430398941,
          0.06718957424163818,
          -0.11890322715044022,
          -0.027441028505563736,
          0.01471667643636465,
          0.1685977280139923,
          0.07924385368824005,
          -0.06372282654047012,
          0.1043352335691452,
          0.1405588984489441,
          0.06468267738819122,
          -0.09126601368188858,
          0.009578675962984562,
          0.06639229506254196,
          0.04704880341887474,
          0.08961658179759979,
          -0.008472219109535217,
          0.1011267602443695,
          -0.19924622774124146,
          0.0032892581075429916,
          0.02224169671535492,
          -0.17370013892650604,
          0.2308044135570526,
          0.08244559168815613,
          0.04940221831202507,
          0.05707637220621109,
          -0.07843296974897385,
          0.16890734434127808,
          0.21485602855682373,
          -0.06855545938014984,
          0.007549544796347618,
          0.179732084274292,
          0.04957929626107216,
          0.0393185093998909,
          0.037917908281087875,
          -0.01431896723806858,
          0.16901423037052155,
          -0.042315851897001266,
          0.14099738001823425,
          -0.05934697389602661,
          -0.04496902972459793,
          -0.053395844995975494,
          0.12974311411380768,
          0.11759139597415924,
          -0.08304343372583389,
          0.0032809842377901077,
          0.005182888358831406,
          -0.10466258972883224,
          -0.059523675590753555,
          0.04233690723776817,
          0.18720853328704834,
          0.018332589417696,
          0.15073925256729126,
          0.00041649118065834045,
          -0.002000715583562851,
          0.0311942957341671,
          -0.016344860196113586,
          0.12347416579723358,
          -0.06044631078839302,
          -0.03561399132013321,
          -0.07228206098079681,
          -0.021967370063066483,
          0.04488155618309975,
          -0.06959017366170883,
          0.03087252378463745,
          0.1201661080121994,
          -0.03970351442694664,
          -0.08678559213876724,
          0.036431580781936646,
          -0.09716811031103134,
          -0.11748328804969788,
          -0.07217716425657272,
          0.040981583297252655,
          -0.03912891820073128,
          0.1569809466600418,
          0.14058011770248413,
          0.1550736129283905,
          0.03011326491832733,
          0.1006539911031723,
          0.10372639447450638,
          -0.09357120096683502,
          0.07015340030193329,
          -0.07697318494319916,
          -0.004648357164114714,
          -0.033905863761901855,
          -0.0810445249080658,
          -0.17997047305107117,
          -0.029680028557777405,
          0.11025801301002502,
          -0.07963169366121292,
          0.052014268934726715,
          0.04322890564799309,
          0.05282365530729294,
          -0.08757166564464569,
          0.02858203649520874,
          -0.05480441451072693,
          0.15294131636619568,
          -0.006974622141569853,
          0.00492036622017622,
          -0.004423688165843487,
          -0.01615898869931698,
          -0.07533442974090576,
          0.003868740750476718,
          -0.02123221382498741,
          0.06949310004711151,
          0.05725911259651184,
          -0.0872291773557663,
          -0.1130826473236084,
          -0.05071476474404335,
          -0.04519923776388168,
          -0.013421711511909962,
          0.08662744611501694,
          -0.0735543891787529,
          -0.12056361138820648,
          -0.00006103515625,
          -0.11362095177173615,
          -0.01945735141634941,
          -0.07763230800628662,
          -0.037751615047454834,
          -0.14163796603679657,
          0.03744950890541077,
          0.02599240466952324,
          -0.10298144072294235,
          -0.10666070133447647,
          -0.11539770662784576,
          -0.045021623373031616,
          -0.0830792635679245,
          -0.03675013408064842,
          -0.11087093502283096,
          0.01291572954505682,
          -0.048207737505435944,
          0.08999021351337433,
          -0.0681840032339096,
          0.07975568622350693,
          0.23954689502716064,
          -0.008755547925829887,
          0.17935413122177124,
          -0.005555243231356144,
          0.23690861463546753,
          -0.048658587038517,
          -0.08481301367282867,
          -0.037425946444272995,
          0.006600029766559601,
          0.006516067311167717,
          -0.06398746371269226,
          -0.09478548169136047,
          0.005140495486557484,
          -0.027959182858467102,
          0.048497095704078674,
          0.027568986639380455,
          0.009105603210628033,
          -0.0038472353480756283,
          0.012598887085914612,
          0.03592856600880623,
          0.05833650007843971,
          -0.0890289694070816,
          0.020072398707270622,
          -0.07506375014781952,
          -0.1063927710056305,
          -0.05408017337322235,
          0.0038562496192753315,
          -0.07523417472839355,
          0.005557030439376831,
          0.28100812435150146,
          0.07142376899719238,
          0.04639480262994766,
          0.10781465470790863,
          0.053728558123111725,
          -0.12616877257823944,
          -0.046430595219135284,
          0.0540405809879303,
          0.14050263166427612,
          0.07345684617757797,
          -0.054160792380571365,
          0.0001682746224105358,
          0.1433866173028946,
          0.13369828462600708,
          -0.06588386744260788,
          -0.06081828474998474,
          -0.058775484561920166,
          0.12776468694210052,
          0.1188989132642746,
          0.005535095930099487,
          0.1614658385515213,
          0.017023280262947083,
          0.029225708916783333,
          0.1142558827996254,
          -0.07336047291755676,
          -0.10324139147996902,
          0.03818109631538391,
          -0.08352813869714737,
          -0.012666448019444942,
          -0.040254056453704834,
          0.01712854765355587,
          -0.13004449009895325,
          0.028108272701501846,
          -0.0028683776035904884,
          -0.1126570776104927,
          0.07139499485492706,
          0.11376674473285675,
          -0.023626085370779037,
          0.019281061366200447,
          -0.13788500428199768,
          -0.02462460845708847,
          0.04334372654557228,
          -0.07698049396276474,
          -0.06132292002439499,
          -0.047759100794792175,
          -0.11581680923700333,
          0.22463305294513702,
          -0.06673011928796768,
          -0.03562377020716667,
          -0.052969805896282196,
          -0.012076476588845253,
          -0.0074040875770151615,
          0.06283082813024521,
          -0.03988759219646454,
          -0.0742618665099144,
          0.017090052366256714,
          -0.04688948392868042,
          -0.014268121682107449,
          -0.06250910460948944,
          0.1460202932357788,
          -0.09730710834264755,
          -0.016654055565595627,
          -0.04085753485560417,
          -0.05741753429174423,
          0.13983039557933807,
          0.15775930881500244,
          -0.016653530299663544,
          0.12893089652061462,
          -0.03632603585720062,
          0.13390369713306427,
          -0.03433755412697792,
          0.03774714097380638,
          -0.12489902973175049,
          0.08523966372013092,
          0.1254674196243286,
          0.1411396563053131,
          0.10384470969438553,
          0.04370323196053505,
          0.08136887848377228,
          0.12777644395828247,
          0.03490186855196953,
          0.002899737562984228,
          -0.002511044964194298,
          -0.09852486848831177,
          0.004154354799538851,
          0.08017341047525406,
          -0.07785167545080185,
          -0.056237347424030304,
          0.011302255094051361,
          -0.08639858663082123,
          -0.030330009758472443,
          -0.04798705130815506,
          -0.06816200911998749,
          -0.054203566163778305,
          -0.02655917964875698,
          -0.04359864071011543,
          -0.13438093662261963,
          0.08588224649429321,
          -0.11320614814758301,
          -0.09611069411039352,
          0.04590683430433273,
          0.09737794101238251,
          -0.030979719012975693,
          0.09229481220245361,
          0.05242672562599182,
          0.0084756501019001,
          0.06460191309452057,
          0.11261821538209915,
          0.08706972002983093,
          0.004824104718863964,
          0.16803134977817535,
          0.06833551079034805,
          0.07315461337566376,
          -0.1315651684999466,
          0.05424776300787926,
          -0.051477402448654175,
          -0.03727409988641739,
          0.11843208968639374,
          0.09769175946712494,
          -0.0485740527510643,
          0.06974833458662033,
          0.07766081392765045,
          -0.00888482853770256,
          -0.043547868728637695,
          0.07734617590904236,
          -0.07908651232719421,
          0.04535076767206192,
          0.15496593713760376,
          0.00952808279544115,
          0.03507139906287193,
          0.13147389888763428,
          -0.044624149799346924,
          0.09777925908565521,
          -0.04742511361837387,
          -0.022527098655700684,
          0.019073203206062317,
          -0.018022501841187477,
          0.06786224991083145,
          0.13680654764175415,
          0.2082836925983429,
          -0.025318825617432594,
          -0.10772281140089035,
          0.06574292480945587,
          -0.09193027019500732,
          -0.036186590790748596,
          0.08391371369361877,
          0.1564696729183197,
          0.16265517473220825,
          -0.0034627127461135387,
          0.02882545068860054,
          0.0719243735074997,
          0.06930218636989594,
          0.05895588546991348,
          -0.09713281691074371,
          0.1107964739203453,
          -0.009821062907576561,
          -0.05236382409930229,
          0.033734146505594254,
          -0.08210743963718414,
          0.13497987389564514,
          0.03905423730611801,
          0.03775645047426224,
          -0.00457286462187767,
          -0.06795711815357208,
          -0.01524207554757595,
          -0.031858015805482864,
          0.21756967902183533,
          -0.017882809042930603,
          0.15543286502361298,
          0.16283613443374634,
          0.2126891016960144,
          -0.05861837789416313,
          -0.19168078899383545,
          -0.012888511642813683,
          -0.03366468846797943,
          0.061875320971012115,
          -0.07894903421401978,
          0.07264245301485062,
          -0.09076406806707382,
          0.13847054541110992,
          0.013010031543672085,
          0.1082998663187027,
          0.0009191899443976581,
          0.10644987970590591,
          0.0375363789498806,
          0.04730745404958725,
          0.056685686111450195,
          -0.0691957101225853,
          -0.11094930022954941,
          -0.02189430221915245,
          0.06735863536596298,
          -0.08863285183906555,
          -0.06859341263771057,
          -0.07375311851501465,
          0.0796918272972107,
          0.19688108563423157,
          -0.05362755432724953,
          -0.06675954163074493,
          0.21679982542991638,
          0.08734877407550812,
          -0.12186374515295029,
          -0.07319764792919159,
          0.031846657395362854,
          -0.07477178424596786,
          -0.0025364882312715054,
          -0.017282195389270782,
          0.002018190920352936,
          -0.11474242061376572,
          0.08154880255460739,
          -0.036399293690919876,
          0.0447273924946785,
          0.017272641882300377,
          -0.009086817502975464,
          -0.00860760360956192,
          -0.017052438110113144,
          -0.027650417760014534,
          -0.03454414755105972,
          0.007036272436380386,
          -0.014625159092247486,
          -0.008064713329076767,
          -0.06641533970832825,
          0.14967048168182373,
          0.10925288498401642,
          0.26046624779701233,
          0.1883435994386673,
          -0.033488258719444275,
          0.06930322200059891,
          -0.040424030274152756,
          0.14392507076263428,
          0.17975974082946777,
          0.03343215584754944,
          0.2039014995098114,
          0.06934504210948944,
          0.09998317062854767,
          0.028543327003717422,
          0.012945977970957756,
          -0.08128419518470764,
          0.03405938670039177,
          -0.13715672492980957,
          0.0004239967092871666,
          0.1460389494895935,
          0.08166904747486115,
          -0.0881829485297203,
          -0.09866886585950851,
          -0.08862528204917908,
          -0.029275931417942047,
          -0.09242890775203705,
          0.08418399095535278,
          0.03286820277571678,
          -0.17989231646060944,
          0.18840549886226654,
          0.06787770986557007,
          -0.00409687589854002,
          -0.03120289370417595,
          -0.08842649310827255,
          -0.016855016350746155,
          0.10676083713769913,
          0.15810823440551758,
          0.07977065443992615,
          -0.04986193776130676,
          0.09602200239896774,
          0.024259725585579872,
          -0.05289788171648979,
          0.19381824135780334,
          0.08324852585792542,
          0.053016215562820435,
          0.020740292966365814,
          -0.06887395679950714,
          -0.03933330252766609,
          0.00007137586362659931,
          0.0035086418502032757,
          0.021438971161842346,
          -0.09500153362751007,
          0.01591327227652073,
          -0.0992870181798935,
          -0.08583485335111618,
          -0.07365040481090546,
          -0.027953514829277992,
          0.022203603759407997,
          0.13983963429927826,
          0.172456294298172,
          -0.07435795664787292,
          0.07903870940208435,
          -0.022840242832899094,
          -0.07813003659248352,
          0.06681746244430542,
          0.01015719398856163,
          -0.06056685000658035,
          -0.032283250242471695,
          0.0571933388710022,
          0.046735819429159164,
          0.011335048824548721,
          -0.055279407650232315,
          -0.0023703905753791332,
          -0.027911772951483727,
          -0.031343523412942886,
          0.07370875775814056,
          0.026924144476652145,
          0.16741639375686646,
          -0.09178944677114487,
          0.14801660180091858,
          -0.0228669885545969,
          0.0003769863396883011,
          -0.013419657945632935,
          0.010580191388726234
         ]
        },
        {
         "customdata": [
          [
           "bell pepper<br>bread crumb<br>butter<br>crab<br>lemon<br>mayonnaise"
          ],
          [
           "coconut<br>coconut cream<br>flour<br>milk"
          ],
          [
           "agar<br>coconut<br>ice<br>milk<br>pandan"
          ],
          [
           "cream<br>graham<br>mango<br>milk"
          ],
          [
           "butter<br>egg<br>milk<br>potato<br>yeast"
          ],
          [
           "agar<br>coconut cream<br>ice<br>pandan<br>peanut<br>sago"
          ],
          [
           "butter<br>chili<br>cornstarch<br>egg<br>milk"
          ],
          [
           "coconut<br>coconut cream<br>flour<br>milk<br>yam"
          ],
          [
           "cream<br>lime<br>milk<br>yam"
          ],
          [
           "cassava<br>coconut<br>jackfruit<br>milk<br>sago"
          ],
          [
           "beef<br>breadcrumb<br>butter<br>egg<br>milk<br>yeast"
          ],
          [
           "agar<br>coconut<br>cream<br>milk"
          ],
          [
           "coconut<br>coconut cream<br>cornstarch<br>kernel corn<br>milk"
          ],
          [
           "coconut<br>corn<br>cornstarch<br>milk"
          ],
          [
           "coconut<br>coconut cream<br>milk<br>mung bean<br>rice"
          ],
          [
           "coconut<br>coconut cream<br>cornstarch<br>jackfruit<br>milk"
          ],
          [
           "coconut<br>coconut cream<br>cornstarch<br>milk"
          ],
          [
           "coconut<br>coconut cream<br>corn<br>milk<br>rice"
          ],
          [
           "banana<br>coconut<br>coconut cream<br>flour<br>jackfruit<br>milk<br>potato<br>sago"
          ],
          [
           "coconut<br>coconut cream<br>guava<br>milk<br>sago"
          ],
          [
           "cream<br>lemon<br>milk<br>sago"
          ],
          [
           "baking<br>butter<br>coconut<br>cream cheese<br>egg<br>flour<br>margarine<br>milk"
          ],
          [
           "banana<br>coconut<br>milk<br>rice"
          ],
          [
           "baking<br>butter<br>egg<br>flour<br>margarine<br>milk<br>vanilla"
          ],
          [
           "agar<br>coconut<br>cream<br>milk<br>pandan"
          ],
          [
           "beef<br>bell pepper<br>cheese<br>egg"
          ],
          [
           "carrot<br>cheese<br>chestnut<br>spring wrapper"
          ],
          [
           "bread<br>bread crumb<br>cheese<br>egg<br>fish<br>mayonnaise<br>milk"
          ],
          [
           "chocolate<br>coconut<br>ginger<br>mango<br>milk<br>rice"
          ],
          [
           "chicken broth<br>corn kernel<br>cornstarch<br>crab<br>egg"
          ],
          [
           "butter<br>egg<br>flour<br>milk<br>yeast"
          ],
          [
           "cheese<br>cocktail<br>coconut<br>cornstarch<br>milk"
          ],
          [
           "butter<br>chocolate<br>coconut<br>graham cracker crumbs<br>lime<br>mango<br>milk<br>pineapple"
          ],
          [
           "baking<br>chocolate<br>cream<br>cream tartar<br>egg<br>flour<br>mango"
          ],
          [
           "breadcrumb<br>butter<br>egg<br>flour<br>milk<br>pandan<br>yam<br>yeast"
          ],
          [
           "coconut<br>cream<br>mango<br>milk"
          ],
          [
           "bread<br>butter<br>egg<br>flour<br>milk<br>vanilla<br>yeast"
          ],
          [
           "almond<br>cocktail<br>gelatin<br>milk"
          ],
          [
           "bread crumb<br>butter<br>cheese<br>egg<br>milk<br>vegetable oil<br>yam<br>yeast"
          ],
          [
           "coconut<br>coconut cream<br>flour<br>jackfruit<br>milk<br>string bean<br>yam"
          ],
          [
           "coconut<br>coconut cream<br>milk<br>rice<br>yam"
          ],
          [
           "cocktail<br>coconut<br>corn kernel<br>cream<br>milk<br>pineapple"
          ],
          [
           "butter<br>cassava<br>cheese<br>coconut<br>milk<br>string bean<br>yam"
          ],
          [
           "butter<br>cheese<br>coconut<br>cream tartar<br>egg<br>milk<br>yam"
          ],
          [
           "cassava<br>cheese<br>coconut<br>lye<br>pandan"
          ],
          [
           "agar<br>coconut<br>milk<br>pandan"
          ],
          [
           "butter<br>cheese<br>coconut<br>coconut cream<br>milk<br>yam"
          ],
          [
           "cornstarch<br>egg<br>pork<br>soy sauce"
          ],
          [
           "butter<br>egg<br>milk<br>yeast"
          ],
          [
           "butter<br>cassava<br>cheese<br>milk"
          ],
          [
           "butter<br>cashew<br>cream tartar<br>egg<br>vanilla"
          ],
          [
           "butter<br>cassava<br>coconut<br>egg<br>milk<br>string bean"
          ],
          [
           "bean<br>bell pepper<br>cheese<br>chicken<br>chili<br>corn<br>egg<br>pasta<br>spinach"
          ],
          [
           "banana<br>ice<br>peanut<br>sago"
          ],
          [
           "cheese<br>cocktail<br>coconut<br>cream<br>milk<br>pasta<br>pineapple"
          ],
          [
           "basil<br>beef<br>bell pepper<br>oregano<br>pasta<br>soy sauce<br>tomato<br>tomato sauce"
          ],
          [
           "avocado<br>cream<br>lemon<br>milk"
          ],
          [
           "agar<br>coconut<br>milk<br>sago"
          ],
          [
           "carrot<br>egg<br>ketchup<br>pineapple<br>pork<br>raisin<br>sausage"
          ],
          [
           "butter<br>cheese<br>chicken broth<br>cream<br>mushroom<br>nutmeg<br>parsley<br>pasta<br>pork"
          ],
          [
           "butter<br>cinnamon<br>coconut<br>cream<br>egg<br>milk<br>nutmeg<br>pineapple<br>raisin"
          ],
          [
           "baking<br>banana<br>butter<br>egg<br>milk"
          ],
          [
           "carrot<br>chicken<br>egg<br>ham<br>mayonnaise<br>milk<br>pickle<br>pineapple<br>potato"
          ],
          [
           "coconut<br>milk<br>squash<br>starch pearl"
          ],
          [
           "baking<br>bread<br>breadcrumb<br>cheese<br>egg<br>flour<br>mayonnaise<br>milk"
          ],
          [
           "butter<br>cheese<br>coconut<br>milk<br>yam"
          ],
          [
           "coconut cream<br>jackfruit<br>rice<br>starch pearl"
          ],
          [
           "butter<br>cheese<br>chili<br>crab<br>flour<br>kernel corn<br>milk<br>tomato"
          ],
          [
           "butter<br>cassava<br>coconut<br>egg<br>milk"
          ],
          [
           "cream<br>gelatin<br>milk<br>pineapple"
          ],
          [
           "cherry<br>cocktail<br>cream<br>graham<br>milk<br>vanilla"
          ],
          [
           "beef<br>butter<br>cheese<br>flour<br>milk<br>pasta<br>spinach<br>tomato"
          ],
          [
           "cheese<br>cream<br>pasta<br>pea"
          ],
          [
           "cheese<br>chicken<br>mushroom<br>rice<br>vegetable"
          ],
          [
           "bean<br>cheese<br>chicken<br>cream<br>cumin<br>flour tortilla"
          ],
          [
           "beef<br>bread<br>cheese<br>egg"
          ],
          [
           "bread crumb<br>egg<br>fish<br>flour<br>lettuce<br>tomato"
          ],
          [
           "cheese<br>chicken<br>pasta<br>tomato<br>tomato sauce"
          ],
          [
           "cheese<br>fish<br>flour tortilla<br>lettuce<br>tomato"
          ],
          [
           "cinnamon<br>egg<br>flour<br>lime<br>nutmeg"
          ],
          [
           "coconut<br>milk<br>mung bean<br>rice"
          ]
         ],
         "hovertemplate": "<b>%{hovertext}</b><br><br>cluster=4<br>x=%{x}<br>y=%{y}<br>z=%{z}<br>cleaned_ingredients=%{customdata[0]}<extra></extra>",
         "hovertext": [
          "Rellenong Alimango",
          "Sapin Sapin",
          "Buko Pandan Drink",
          "Mango Royale",
          "Yema Bread Rolls",
          "Ginumis",
          "Garlic Butter Fried Frog Legs",
          "Ube Kalamay",
          "Pastillas de Ube",
          "Ginataang Kamoteng Kahoy",
          "Corned Beef Pandesal",
          "White Buko Salad",
          "Maja Blanca Espesyal",
          "Maja Blanca",
          "Ginataang Munggo",
          "Maja Langka",
          "Ube Maja Blanca",
          "Ginataang Mais",
          "Ginataang Halo-halo",
          "Guava in Coconut Cream",
          "Avocado Sago Jelly",
          "Bibingka",
          "Suman Malagkit with Coconut Caramel Sauce",
          "Cebuana Torta",
          "Buko Pandan Salad",
          "Corned Beef Hash Breakfast Pizza",
          "Crispy Tuna Shanghai",
          "Crispy Tuna Pies",
          "Puto Maya and Sikwate",
          "Crab and Corn Soup",
          "Otap",
          "Maja Jubilee",
          "Tropical Magic Bars",
          "Mango Bravo Cake",
          "Pandan Pandesal with Ube Halaya Filling",
          "Mango Bango",
          "Kalihim",
          "Almond Jello",
          "Ube Cheese Pandesal",
          "Mini Special Sapin-Sapin",
          "Ube Biko",
          "Buko Salad",
          "Ube Cassava Cake",
          "Floating Island Dessert",
          "Pichi-Pichi",
          "Pandan Coconut Jelly",
          "Halayang Ube",
          "Cheater's Siopao Bola-Bola",
          "Bicho-Bicho",
          "Nilupak",
          "Sans Rival",
          "Cassava Cake with Custard Topping",
          "Southwestern Chicken Egg Rolls",
          "Sago at Gulaman",
          "Pasta Fruit Salad",
          "American Chop Suey",
          "Avocado Ice Cream",
          "Buko Salad Drink",
          "Pork Embutido",
          "Filipino-style Pasta Carbonara",
          "Hawaiian Bread Pudding",
          "Maruya",
          "Chicken Potato Salad",
          "Tapioca Coconut Dessert Soup",
          "Idol Cheesedog Bread Roll and Bites",
          "Ube Halaya with Cheese",
          "Ginataang Bilo bilo with Langka",
          "Cheesy Crab and Corn Nachos",
          "Steamed Cassava Cake",
          "Cathedral Window Gelatin Recipe",
          "Fruit Cocktail Float",
          "Spinach Lasagne",
          "Tuna Macaroni Pasta",
          "Chicken and Rice Casserole Recipe",
          "Chicken Enchilada Casserole Recipe",
          "Breakfast Reuben Sandwich",
          "Fried Fish Sandwich",
          "Sweet Chicken Spaghetti",
          "Tuna Salad Wrap",
          "Peach Pie Recipe",
          "Ginataang Monggo Recipe"
         ],
         "legendgroup": "4",
         "marker": {
          "color": "rgb(231, 63, 116)",
          "size": 5,
          "symbol": "circle"
         },
         "mode": "markers",
         "name": "4",
         "scene": "scene",
         "showlegend": true,
         "type": "scatter3d",
         "x": [
          0.7770565748214722,
          0.5839467644691467,
          0.5986135005950928,
          0.6276081800460815,
          0.6544918417930603,
          0.6088780164718628,
          0.7560495138168335,
          0.6863452792167664,
          0.7173464298248291,
          0.6964873671531677,
          0.7335901260375977,
          0.6637839078903198,
          0.5887200832366943,
          0.6146629452705383,
          0.6347591876983643,
          0.6319577693939209,
          0.6089417338371277,
          0.6779672503471375,
          0.6776654720306396,
          0.5711880922317505,
          0.6227222681045532,
          0.7081409692764282,
          0.6093547344207764,
          0.6454343795776367,
          0.6442604064941406,
          0.7962385416030884,
          0.7439955472946167,
          0.7702905535697937,
          0.7110615968704224,
          0.7965366840362549,
          0.6249726414680481,
          0.612116813659668,
          0.6513426303863525,
          0.7451629638671875,
          0.6884012818336487,
          0.46069782972335815,
          0.6031221151351929,
          0.46673962473869324,
          0.6358631253242493,
          0.6494849920272827,
          0.6365550756454468,
          0.6504084467887878,
          0.6721826791763306,
          0.6118282079696655,
          0.6927042007446289,
          0.5850038528442383,
          0.5918959975242615,
          0.7169970273971558,
          0.5990506410598755,
          0.7334479093551636,
          0.7191746830940247,
          0.6652876734733582,
          0.7739027738571167,
          0.5891113877296448,
          0.6136394143104553,
          0.7835028767585754,
          0.5929863452911377,
          0.6282250881195068,
          0.7967776656150818,
          0.7388944625854492,
          0.6552497744560242,
          0.6567873954772949,
          0.784704327583313,
          0.6290731430053711,
          0.5908002257347107,
          0.51063072681427,
          0.6233576536178589,
          0.7430933117866516,
          0.627077579498291,
          0.5771093368530273,
          0.4360431730747223,
          0.7812765836715698,
          0.6336830854415894,
          0.765107274055481,
          0.6457440853118896,
          0.6224250793457031,
          0.72955322265625,
          0.7633634805679321,
          0.5010435581207275,
          0.6527625322341919,
          0.531253457069397
         ],
         "y": [
          0.16211310029029846,
          0.13435505330562592,
          0.13769866526126862,
          0.27801257371902466,
          0.10891535878181458,
          0.19218407571315765,
          0.22988256812095642,
          0.21938815712928772,
          0.18627208471298218,
          0.30479615926742554,
          0.24955520033836365,
          0.27595338225364685,
          0.1485963612794876,
          0.20535525679588318,
          0.23996347188949585,
          0.19786474108695984,
          0.15381038188934326,
          0.2104654312133789,
          0.26255184412002563,
          0.2885740101337433,
          0.12237413227558136,
          0.1944454312324524,
          0.22071120142936707,
          0.10337433218955994,
          0.2662465274333954,
          0.23463916778564453,
          0.24691148102283478,
          0.18375402688980103,
          0.25809699296951294,
          0.1906816065311432,
          0.06748397648334503,
          0.13681305944919586,
          0.16772155463695526,
          0.1309874951839447,
          0.23704928159713745,
          0.2654401659965515,
          0.0016457205638289452,
          0.0917692556977272,
          0.19830337166786194,
          0.27990835905075073,
          0.0010308707132935524,
          0.2586694657802582,
          0.2281154990196228,
          0.15702009201049805,
          0.26163220405578613,
          0.09009314328432083,
          0.14535623788833618,
          0.16684134304523468,
          0.015448203310370445,
          0.14820395410060883,
          0.1514534205198288,
          0.22967126965522766,
          0.2427290678024292,
          0.12761709094047546,
          0.3207201659679413,
          0.25036442279815674,
          0.13513606786727905,
          0.2931852340698242,
          0.2108839750289917,
          0.2446739673614502,
          0.22891253232955933,
          0.14950157701969147,
          0.19651533663272858,
          0.3186773657798767,
          0.023141585290431976,
          0.0626055896282196,
          0.014365947805345058,
          0.1207282692193985,
          0.05568918585777283,
          0.00018963031470775604,
          0.07323112338781357,
          0.1501961052417755,
          0.1503657102584839,
          0.181498721241951,
          0.17008894681930542,
          0.007985148578882217,
          0.20891356468200684,
          0.19695521891117096,
          0.20082618296146393,
          0.11266693472862244,
          -0.007973424158990383
         ],
         "z": [
          0.2150469422340393,
          0.4293125867843628,
          0.41556262969970703,
          0.3399142920970917,
          0.39715322852134705,
          0.3782723546028137,
          0.18861982226371765,
          0.33721378445625305,
          0.37483879923820496,
          0.34756988286972046,
          0.2915332615375519,
          0.3528493642807007,
          0.5356251001358032,
          0.48861074447631836,
          0.3420804738998413,
          0.4629640281200409,
          0.4923921227455139,
          0.4066045582294464,
          0.4276847839355469,
          0.2919374406337738,
          0.28944849967956543,
          0.3820796608924866,
          0.36216312646865845,
          0.4154255986213684,
          0.33010366559028625,
          0.25767573714256287,
          0.3028291165828705,
          0.285322904586792,
          0.25036436319351196,
          0.17561164498329163,
          0.3930579125881195,
          0.4660686254501343,
          0.46214163303375244,
          0.39931803941726685,
          0.23264248669147491,
          0.2409258484840393,
          0.3449300229549408,
          0.30233561992645264,
          0.41333872079849243,
          0.3684406578540802,
          0.3153754472732544,
          0.359665185213089,
          0.42562079429626465,
          0.5233838558197021,
          0.33084961771965027,
          0.3666134178638458,
          0.5236989259719849,
          0.3149412274360657,
          0.35202839970588684,
          0.3599861264228821,
          0.3193123936653137,
          0.45170608162879944,
          0.267197847366333,
          0.25949379801750183,
          0.3382304608821869,
          0.16936010122299194,
          0.2857404351234436,
          0.30417367815971375,
          0.26170334219932556,
          0.19675326347351074,
          0.4500223398208618,
          0.38804545998573303,
          0.20039165019989014,
          0.35274070501327515,
          0.2718575596809387,
          0.3718101680278778,
          0.3359919786453247,
          0.3086344003677368,
          0.4238741993904114,
          0.3204009234905243,
          0.4030819833278656,
          0.2839694023132324,
          0.22901010513305664,
          0.24250154197216034,
          0.26102763414382935,
          0.21999451518058777,
          0.2784992456436157,
          0.23826274275779724,
          0.24896347522735596,
          0.3836776614189148,
          0.28373053669929504
         ]
        },
        {
         "customdata": [
          [
           "avocado<br>ice<br>lemon<br>milk"
          ],
          [
           "coconut<br>cornstarch<br>cream<br>egg<br>flour<br>lemon<br>milk"
          ],
          [
           "baking<br>banana<br>butter<br>cashew<br>egg<br>pandan"
          ],
          [
           "berry<br>bread<br>bread crumb<br>cheese<br>egg<br>milk"
          ],
          [
           "coconut<br>coconut cream<br>milk<br>rice"
          ],
          [
           "baking soda<br>cinnamon<br>egg<br>lemon<br>mango<br>raisin"
          ],
          [
           "butter<br>egg<br>flour<br>milk<br>yeast"
          ],
          [
           "butter<br>cream<br>lime<br>milk"
          ],
          [
           "flour<br>peanut<br>vanilla<br>yam"
          ],
          [
           "apple vinegar<br>carrot<br>mayonnaise<br>milk<br>pasta"
          ],
          [
           "baking soda<br>butter<br>cream<br>egg<br>lemon<br>vegetable oil"
          ],
          [
           "butter<br>egg<br>flour<br>potato<br>yeast"
          ],
          [
           "baking<br>cornstarch<br>cream tartar<br>egg<br>margarine<br>milk<br>vanilla"
          ],
          [
           "cornstarch<br>egg<br>honey<br>mayonnaise<br>milk<br>peanut<br>shrimp<br>walnut"
          ],
          [
           "bell pepper<br>cornstarch<br>pineapple<br>vinegar"
          ],
          [
           "baking<br>butter<br>chicken<br>cornstarch<br>cream<br>egg<br>flour<br>mushroom"
          ],
          [
           "bell pepper<br>breadcrumb<br>butter<br>chicken<br>corn<br>cream<br>egg<br>flour"
          ],
          [
           "baking<br>chicken<br>egg<br>flour<br>milk"
          ],
          [
           "baking<br>beef<br>beef broth<br>butter<br>flour<br>ice<br>paprika<br>pea<br>raisin"
          ],
          [
           "breadcrumb<br>cornstarch<br>egg<br>flour<br>lemon<br>mango<br>vanilla"
          ],
          [
           "butter<br>carrot<br>chicken<br>corn kernel<br>cream<br>egg<br>jicama<br>mushroom<br>pea"
          ],
          [
           "butter<br>cornstarch<br>ketchup<br>pork<br>soy sauce<br>star anise"
          ],
          [
           "bay leaf<br>butter<br>chicken<br>cornstarch<br>egg<br>lemon lime soda<br>soy sauce<br>vinegar<br>yogurt"
          ],
          [
           "butter<br>carrot<br>cream<br>egg<br>kernel corn<br>mushroom<br>string bean"
          ],
          [
           "coconut<br>coconut cream<br>corn<br>milk<br>rice<br>vanilla"
          ],
          [
           "breadcrumb<br>egg<br>flour<br>ham<br>ketchup<br>oyster sauce<br>soy sauce"
          ],
          [
           "baking<br>beer<br>cheese<br>flour<br>ham<br>pineapple"
          ],
          [
           "bread<br>butter<br>egg<br>mayonnaise<br>pork"
          ],
          [
           "bell pepper<br>butter<br>cheese<br>cream<br>mushroom<br>parsley<br>pasta<br>pork"
          ],
          [
           "bread<br>carrot<br>cheese<br>chicken<br>egg<br>flour<br>mayonnaise<br>pickle"
          ],
          [
           "beef<br>beef hotdog<br>bread<br>cheese<br>ketchup<br>mayonnaise<br>pork<br>sausage"
          ],
          [
           "bread<br>bread crumb<br>chicken<br>dijon mustard<br>mayonnaise"
          ],
          [
           "butter<br>cheese<br>cream<br>mushroom<br>pasta<br>pork"
          ],
          [
           "beef<br>bell pepper<br>butter<br>cheese<br>flour<br>milk<br>paprika<br>pasta<br>tomato"
          ],
          [
           "baking<br>cornstarch<br>flour<br>oyster sauce<br>pork<br>soy sauce<br>yeast"
          ],
          [
           "annatto<br>bagoong<br>banana blossom<br>cabbage<br>eggplant<br>peanut<br>pork<br>rice<br>string bean"
          ],
          [
           "chicken<br>cornstarch<br>egg<br>flour<br>ketchup<br>soy sauce<br>vinegar"
          ],
          [
           "baking<br>chicken<br>chili<br>cornstarch<br>egg<br>flour<br>ice<br>rosemary"
          ],
          [
           "beef<br>butter<br>cream<br>kernel corn<br>mushroom"
          ],
          [
           "bread<br>butter<br>cheese<br>egg<br>ham<br>mustard<br>turkey"
          ],
          [
           "breadcrumb<br>cinnamon<br>cornstarch<br>egg<br>mango"
          ],
          [
           "bread crumb<br>chicken<br>egg<br>flour"
          ],
          [
           "bread crumb<br>butter<br>egg<br>flour<br>mushroom<br>pork"
          ],
          [
           "beef<br>beef broth<br>butter<br>cream<br>flour<br>mushroom"
          ],
          [
           "breadcrumb<br>carrot<br>chicken<br>egg<br>mayonnaise<br>pickle<br>pork<br>raisin"
          ],
          [
           "cheese<br>chicken<br>egg<br>mayonnaise<br>parsley<br>pasta<br>pineapple<br>raisin"
          ],
          [
           "cocktail<br>coconut<br>cream<br>mayonnaise<br>milk<br>pasta"
          ],
          [
           "chicken<br>egg<br>flour<br>lemon lime soda"
          ],
          [
           "beef<br>breadcrumb<br>egg<br>squash"
          ],
          [
           "baking<br>cornstarch<br>egg<br>mung bean"
          ],
          [
           "coconut<br>cream<br>gelatin<br>milk<br>vanilla"
          ],
          [
           "bread crumb<br>egg<br>eggplant<br>flour<br>ketchup<br>mayonnaise<br>pork"
          ],
          [
           "coconut<br>flour<br>milk<br>yam"
          ],
          [
           "bread<br>bread crumb<br>egg<br>mayonnaise"
          ],
          [
           "bread crumb<br>buttermilk<br>chicken<br>lemon"
          ],
          [
           "carrot<br>mayonnaise<br>parsley<br>pineapple<br>potato"
          ],
          [
           "beef<br>cheese<br>cream<br>nutmeg<br>pasta<br>pork"
          ],
          [
           "annatto<br>bagoong<br>banana blossom<br>bean<br>beef<br>cabbage<br>cornstarch<br>eggplant<br>peanut butter"
          ],
          [
           "cheese<br>cocktail<br>coconut<br>mayonnaise<br>milk<br>pasta<br>pineapple<br>raisin"
          ],
          [
           "celery<br>egg<br>mayonnaise<br>pea<br>pork"
          ],
          [
           "cheese<br>dijon mustard<br>egg<br>mayonnaise<br>pork<br>scallion"
          ],
          [
           "bread crumb<br>butter<br>cheese<br>chicken<br>cream<br>dijon mustard<br>egg<br>ham"
          ],
          [
           "celery<br>cheese<br>fish<br>mayonnaise<br>pasta<br>pickle"
          ],
          [
           "banana<br>coconut<br>flour<br>jackfruit<br>milk<br>potato<br>starch pearl<br>taro<br>yam"
          ],
          [
           "carrot<br>cheese<br>chicken<br>mayonnaise<br>pasta<br>pineapple<br>raisin"
          ],
          [
           "beef<br>breadcrumb<br>cornstarch<br>egg<br>flour<br>ginger<br>honey<br>soy sauce"
          ],
          [
           "butter<br>cheese<br>egg<br>spinach<br>tomato"
          ],
          [
           "carrot<br>cheese<br>chicken<br>egg<br>mayonnaise<br>pasta<br>pineapple<br>raisin<br>relish"
          ],
          [
           "berry<br>honey<br>vanilla<br>yogurt"
          ],
          [
           "bread crumb<br>chicken<br>egg<br>flour"
          ],
          [
           "chocolate<br>coconut<br>milk<br>rice"
          ],
          [
           "butter<br>coconut<br>egg<br>milk<br>vanilla"
          ],
          [
           "bell pepper<br>bread crumb<br>cheese<br>chicken<br>egg<br>raisin<br>relish<br>vegetable oil"
          ],
          [
           "baking<br>beer<br>chili<br>egg<br>flour"
          ],
          [
           "bell pepper<br>breadcrumb<br>carrot<br>cheese<br>egg<br>pickle<br>pork<br>raisin"
          ],
          [
           "annatto<br>beef<br>beef broth<br>cabbage<br>eggplant<br>fish sauce<br>peanut<br>rice<br>string bean"
          ],
          [
           "cornstarch<br>egg<br>flour<br>pork"
          ],
          [
           "bell pepper<br>bread crumb<br>cheese<br>egg<br>pea<br>pickle<br>pineapple<br>pork<br>raisin"
          ],
          [
           "butter<br>cheese<br>cream cheese<br>flour<br>milk<br>pasta<br>pasta sauce"
          ],
          [
           "beef<br>breadcrumb<br>egg<br>pork"
          ],
          [
           "bagoong<br>eggplant<br>fish<br>melon<br>okra<br>plum tomato<br>string bean"
          ],
          [
           "bell pepper<br>butter<br>cheese<br>cream<br>egg<br>mushroom<br>pork<br>potato"
          ],
          [
           "breadcrumb<br>egg<br>flour<br>pork<br>potato"
          ],
          [
           "bread crumb<br>oregano<br>paprika<br>potato"
          ],
          [
           "egg<br>mayonnaise<br>mustard<br>pickle"
          ],
          [
           "apple<br>cinnamon<br>honey<br>lemon"
          ],
          [
           "butter<br>carrot<br>pea<br>rice<br>shrimp"
          ],
          [
           "beef<br>breadcrumb<br>butter<br>flour<br>mushroom<br>mustard"
          ],
          [
           "bell pepper<br>butter<br>egg<br>milk<br>pork<br>sun tomato"
          ],
          [
           "bread crumb<br>chicken<br>cornstarch<br>egg<br>sherry wine<br>soy sauce"
          ],
          [
           "bread crumb<br>chicken<br>egg<br>lumpia wrapper"
          ],
          [
           "bell pepper<br>bread crumb<br>carrot<br>cheese<br>chicken<br>egg<br>pickle<br>raisin<br>tomato sauce"
          ],
          [
           "baking<br>butter<br>cheese<br>egg<br>milk<br>pandan"
          ],
          [
           "chicken<br>cornstarch<br>fish sauce<br>flour"
          ],
          [
           "broccoli<br>cashew<br>cheese<br>mayonnaise<br>pork<br>vinegar"
          ],
          [
           "cheese<br>egg<br>milk<br>pork<br>potato<br>sausage"
          ],
          [
           "cheese<br>egg<br>milk<br>pork"
          ],
          [
           "bread crumb<br>lemon<br>mussel<br>parsley<br>plum tomato<br>tomato"
          ],
          [
           "bread crumb<br>carrot<br>egg<br>paprika<br>pork"
          ],
          [
           "butter<br>chicken<br>egg<br>pea<br>rice"
          ],
          [
           "bread crumb<br>cheese<br>chicken<br>egg<br>milk<br>tomato sauce"
          ],
          [
           "beef<br>bread<br>butter<br>cheese<br>mayonnaise"
          ],
          [
           "banana<br>honey<br>ice<br>vanilla<br>yogurt"
          ],
          [
           "bell pepper<br>cheese<br>egg<br>scallion<br>tomato"
          ],
          [
           "bread crumb<br>cheese<br>fish<br>lemon<br>parsley"
          ],
          [
           "coconut<br>coconut cream<br>flour<br>milk"
          ],
          [
           "bell pepper<br>breadcrumb<br>cheese<br>egg<br>flour<br>oregano<br>tomato sauce"
          ],
          [
           "carrot<br>chicken<br>egg<br>mushroom<br>sesame oil<br>shrimp<br>wonton wrapper"
          ],
          [
           "bread crumb<br>buttermilk<br>egg<br>flour<br>pork"
          ],
          [
           "beef<br>bread<br>cheese<br>lettuce<br>mayonnaise"
          ],
          [
           "basil<br>bread crumb<br>cheese<br>egg<br>flour<br>oregano<br>pork<br>tomato"
          ],
          [
           "bread<br>cheese<br>egg<br>mayonnaise"
          ],
          [
           "breadcrumb<br>egg<br>flour<br>pork"
          ],
          [
           "butter<br>cheese<br>flour<br>milk<br>pork<br>soy sauce"
          ],
          [
           "bread crumb<br>egg<br>flour<br>sauce<br>shrimp<br>vegetable oil"
          ],
          [
           "butter<br>cheese<br>chicken<br>chicken broth<br>cream<br>mushroom<br>rosemary"
          ],
          [
           "butter<br>chicken<br>cream<br>egg<br>flour<br>lemon"
          ],
          [
           "bread crumb<br>carrot<br>egg<br>salmon<br>soy sauce"
          ],
          [
           "berry<br>bread<br>cream cheese<br>turkey"
          ],
          [
           "bread<br>cheese<br>egg<br>mayonnaise<br>turkey"
          ],
          [
           "butter<br>chicken broth<br>flour<br>turkey"
          ],
          [
           "butter<br>chicken broth<br>corn<br>pork<br>rosemary"
          ],
          [
           "chicken<br>egg<br>flour<br>lemon<br>pineapple<br>soy sauce"
          ],
          [
           "cornstarch<br>egg<br>flour<br>mussel"
          ],
          [
           "cheese<br>egg<br>ketchup<br>mayonnaise"
          ],
          [
           "egg<br>pea<br>pork<br>rice<br>soy sauce"
          ],
          [
           "beef<br>bread crumb<br>butter<br>egg<br>milk<br>parsley<br>vegetable"
          ],
          [
           "celery<br>cheese<br>fish<br>mayonnaise<br>pickle"
          ],
          [
           "cheese<br>chili<br>cream cheese<br>parsley"
          ],
          [
           "bread crumb<br>egg<br>flour<br>paprika<br>shrimp"
          ],
          [
           "broccoli<br>butter<br>cheese<br>chicken<br>cream<br>pasta<br>wine"
          ],
          [
           "bean<br>cream<br>milk<br>mushroom"
          ],
          [
           "breadcrumb<br>butter<br>dijon mustard<br>egg<br>lemon<br>mayonnaise"
          ],
          [
           "broccoli<br>butter<br>carrot<br>cheese<br>flour<br>milk<br>mushroom<br>nutmeg<br>pasta"
          ],
          [
           "butter<br>celery<br>chicken broth<br>flour<br>ham<br>milk<br>potato<br>spring onion"
          ],
          [
           "butter<br>chicken<br>chicken broth<br>cream<br>flour<br>parsley<br>pea<br>sherry<br>thyme"
          ],
          [
           "bread crumb<br>egg<br>flour<br>pork<br>sherry<br>soy sauce"
          ],
          [
           "bread crumb<br>chili<br>cucumber<br>fish<br>mayonnaise<br>rice<br>sesame oil<br>vinegar"
          ],
          [
           "bread crumb<br>chicken<br>egg<br>flour<br>milk<br>paprika"
          ],
          [
           "basil<br>cheese<br>egg<br>milk<br>plum tomato<br>pork<br>potato"
          ],
          [
           "bean<br>beef<br>chili<br>cumin<br>flour<br>tomato<br>tomato sauce"
          ],
          [
           "beef<br>beef broth<br>butter<br>cream<br>egg<br>flour<br>mushroom<br>pasta"
          ],
          [
           "butter<br>cheese<br>cream<br>egg<br>pasta<br>pork"
          ],
          [
           "egg<br>flour<br>paprika<br>potato"
          ],
          [
           "buttermilk<br>chicken<br>flour<br>paprika"
          ],
          [
           "breadcrumb<br>egg<br>flour<br>squid"
          ],
          [
           "banana<br>coconut<br>jackfruit<br>milk<br>potato<br>rice<br>starch pearl<br>taro<br>yam"
          ],
          [
           "bell pepper<br>bread crumb<br>carrot<br>cornstarch<br>egg<br>ketchup<br>pineapple<br>pork<br>vinegar"
          ],
          [
           "beef broth<br>breadcrumb<br>egg<br>flour<br>pork"
          ],
          [
           "carrot<br>cashew<br>chicken broth<br>cornstarch<br>egg<br>jicama<br>pea<br>shrimp"
          ],
          [
           "baking<br>cornstarch<br>egg<br>mung bean<br>shrimp"
          ],
          [
           "bread crumb<br>carrot<br>cheese<br>chicken<br>egg<br>flour<br>parsley<br>tomato"
          ],
          [
           "chili<br>coconut<br>fish<br>jackfruit<br>milk<br>shrimp<br>tomato"
          ],
          [
           "annatto<br>cornstarch<br>egg<br>flour"
          ],
          [
           "broccoli<br>butter<br>cheese<br>flour<br>milk"
          ],
          [
           "butter<br>chicken broth<br>cream<br>milk<br>potato"
          ],
          [
           "butter<br>cheese<br>egg<br>ham<br>milk<br>spinach"
          ],
          [
           "butter<br>milk<br>vanilla<br>yam"
          ],
          [
           "cornstarch<br>egg<br>lemon<br>milk"
          ],
          [
           "cheese<br>cream<br>egg<br>milk<br>pasta<br>pork"
          ],
          [
           "beef<br>bread<br>celery<br>egg<br>ketchup<br>mustard<br>soy sauce<br>tomato"
          ],
          [
           "breadcrumb<br>butter<br>cheese<br>chicken<br>egg<br>ham<br>paprika"
          ],
          [
           "bread crumb<br>egg<br>milk<br>pork"
          ],
          [
           "coconut<br>flour<br>milk<br>vanilla"
          ],
          [
           "butter<br>chicken<br>chicken broth<br>egg<br>milk"
          ],
          [
           "cheese<br>chicken<br>egg<br>mayonnaise<br>pasta<br>pineapple<br>raisin"
          ]
         ],
         "hovertemplate": "<b>%{hovertext}</b><br><br>cluster=2<br>x=%{x}<br>y=%{y}<br>z=%{z}<br>cleaned_ingredients=%{customdata[0]}<extra></extra>",
         "hovertext": [
          "Avocado Milkshake",
          "Buko Pie (Filipino Coconut Pie)",
          "Banana Pandan Bread",
          "Ham and Cheese Bread Rolls",
          "Biko",
          "Mango Bread Loaf",
          "Monay",
          "Pastillas de Leche",
          "Peanut Tikoy Rolls with Ube Filling",
          "Hawaiian Macaroni Salad",
          "Calamansi Muffins",
          "Sweet Potato Dinner Rolls",
          "Pianono (Filipino Sponge Cake Roll)",
          "Honey Walnut Shrimp",
          "Sweet and Sour Sauce",
          "Crispy Fried Chicken with Mushroom Gravy",
          "Easy Chicken Ala King",
          "Crispy Fried Chicken",
          "Beef Empanada Recipe",
          "Air Fried Peach Mango Pie",
          "Creamy Sipo Egg with Chicken Gizzard",
          "Pork Belly Asado",
          "Kakaibang Filipino Chicken Adobo",
          "Nutritious Ulam Idea",
          "Ginataang Mais at Malagkit (Sweet Corn and Glutinous Rice in Coconut Milk)",
          "Ham Katsu",
          "Hawaiian Pizza (No Bake)",
          "One Pan Sandwich",
          "Festive Tuna Carbonara",
          "Chicken Sandwich",
          "Cheeseburger and Hotdog Sandwich Recipe",
          "Grilled Cheese Sandwich and Chicken Tenders",
          "Pasta Carbonara Filipino Style",
          "Baked Macaroni Recipe",
          "Siopao Asado Recipe",
          "Crispy Kare-kare",
          "McDonalds Style Chicken Nuggets",
          "Crispy Fried Chicken (Spicy Version)",
          "Creamy Lengua with Corn",
          "Monte Cristo",
          "Peach Mango Nuggets",
          "Chicken Lollipop Recipe",
          "Pork Burger Steak with Mushroom Gravy",
          "Beef Stroganoff",
          "Chicken and Pork Embutido",
          "Chicken and Egg Macaroni Salad",
          "Macaroni Fruit Salad",
          "7Up Fried Chicken",
          "Homemade Kalabasa and Corned Beef Nuggets",
          "Ukoy Dulong Recipe",
          "Buko Pandan",
          "Eggplant Meatballs Talong Bola Bola Recipe",
          "Ube Kalamay Recipe",
          "Fried Ham and Cheese Roll",
          "Baked Chicken Nuggets",
          "Potato Salad with Carrots and Pineapple",
          "Carbonara Recipe Filipino Style",
          "Kare Kare Recipe",
          "Filipino Sweet Macaroni Salad",
          "Bacon and Egg Macaroni Salad with Green Peas",
          "Ketogenic Bacon and Egg Salad",
          "Chicken Cordon Bleu with Dijon Cream Sauce",
          "Tuna Macaroni Salad",
          "Binignit Recipe",
          "Pinoy Style Chicken Macaroni Salad",
          "Deep Fried Bulalo with Restaurant Style Teriyaki Sauce",
          "Spinach Tomato and Cheese Omelette",
          "Christmas Chicken and Ham Macaroni Salad",
          "Healthy Frozen Blueberry Yogurt Recipe",
          "Super Tender Juicy Chicken Nuggets",
          "Chocolate Biko Recipe",
          "Chewy Coconut Macaroons Recipe",
          "Special Chicken Embutido Recipe (Filipino Chicken Meatloaf)",
          "Spicy Camaron Rebosado (Deep Fried Beer Battered Shrimp)",
          "Pork Embutido",
          "Beef Kare-Kare Recipe",
          "Deep Fried Breaded Pork Chops",
          "Pork Giniling Hardinera Recipe",
          "Creamy Baked Spaghetti",
          "How to Make Meatloaf",
          "Inabraw Recipe (Boiled Vegetables with Fried Fish)",
          "Loaded Breakfast Potato",
          "Pork Giniling Croquette",
          "Crispy Baked Yukon Gold Potato Wedges",
          "Egg Sandwich Spread Recipe",
          "Simple Applesauce Recipe",
          "Shrimp Fried Rice Recipe",
          "Salisbury Steak with Beef and Mushroom Gravy",
          "Scrambled Eggs with Sun Dried Tomato and Bacon",
          "Party Fried Chicken",
          "Chicken Dynamite Lumpia Recipe",
          "Chicken Embutido",
          "Buttered Puto",
          "Patis Fried Chicken",
          "Broccoli Bacon Salad Recipe",
          "Sausage and Egg Casserole with Hash Browns Recipe",
          "Bacon and Cheese Breakfast Casserole Recipe",
          "Grilled Mussels Recipe",
          "Pork Burger Patties",
          "Chicken Egg Fried Rice Recipe",
          "Easy Chicken Parm",
          "Reuben Sandwich",
          "Banana Yogurt Smoothie",
          "Panlasang Pinoy Omelet",
          "Panko Parmesan Crusted Halibut",
          "Kalamay hati Recipe",
          "Eggplant Parmigiana",
          "Chicken Siomai",
          "Deep Fried Seasoned Pork Chop",
          "Easy Roast Beef Sandwich",
          "Pork Parmesan",
          "Spam and Egg Sandwich",
          "Oven Baked Crusted Pork Loin",
          "Cheese Fries",
          "Breaded Shrimp with Sweet and Sour Sauce",
          "Creamy Chicken with Mushroom Recipe",
          "Fried Chicken Breast with Creamy Lemon Sauce Dip",
          "Salmon Patty Recipe",
          "Turkey and Cranberry Sandwich with Cream Cheese",
          "Turkey, Egg, and Cheese Breakfast Sandwich",
          "Quick and Easy Turkey Gravy Recipe",
          "Bacon and Caramelized Onion Cornbread Stuffing",
          "Pineapple Fried Chicken Recipe",
          "Deep Fried Mussels",
          "Egg and Cheese English Muffin Sandwich",
          "Bacon and Egg Fried Rice Recipe",
          "Easy Meatball with Mixed Vegetables Recipe",
          "Tuna Salad Sandwich Recipe",
          "Artichoke Dip",
          "Breaded Butterfly Shrimp Recipe",
          "Chicken Pasta Alfredo Recipe",
          "Green Bean Casserole Recipe",
          "Dulong Fishcake",
          "Creamy Veggie Lasagna",
          "Ham and Potato Soup Recipe",
          "Chicken a la King Recipe",
          "Scotch Eggs Recipe",
          "Tuna Sushi Roll",
          "Garlic Fried Chicken",
          "Bacon Frittata Recipe",
          "Best Game Day Chili Recipe",
          "Beef Stroganoff Recipe",
          "Spaghetti Carbonara Recipe",
          "Crispy Potato Wedges Recipe",
          "Easy Buttermilk Fried Chicken",
          "Calamares Recipe",
          "Ginataang Halo-halo Recipe (Binignit)",
          "Sweet and Sour Meatball Recipe",
          "Country Fried Breaded Pork Chop Recipe",
          "Shrimp with Quail Eggs and Green Peas",
          "Ukoy Recipe (Shrimp Fritter)",
          "Chicken Parmesan Recipe",
          "Ginataang Langka Recipe",
          "Tokneneng",
          "Cheesy Broccoli Soup Recipe",
          "Potato and Leek Soup Recipe",
          "Ham and Spinach Omelet Recipe",
          "Ube Halaya",
          "Camaron Rebosado Recipe",
          "Fettuccine Alfredo Recipe",
          "Meatloaf Recipe",
          "Chicken Cordon Bleu",
          "Breaded Pork Loin",
          "Espasol Recipe",
          "Fried Chicken with White Gravy Recipe",
          "Recipe for Chicken Macaroni Salad"
         ],
         "legendgroup": "2",
         "marker": {
          "color": "rgb(128, 186, 90)",
          "size": 5,
          "symbol": "circle"
         },
         "mode": "markers",
         "name": "2",
         "scene": "scene",
         "showlegend": true,
         "type": "scatter3d",
         "x": [
          0.5654142498970032,
          0.7399766445159912,
          0.7611031532287598,
          0.7268952131271362,
          0.6648555397987366,
          0.772883951663971,
          0.6113901734352112,
          0.6119661927223206,
          0.6591306328773499,
          0.8294826149940491,
          0.7694359421730042,
          0.7300390005111694,
          0.7245452404022217,
          0.8120740652084351,
          0.8270480632781982,
          0.7755721807479858,
          0.8253976702690125,
          0.7830057144165039,
          0.8413084745407104,
          0.7558720707893372,
          0.7808922529220581,
          0.8335775136947632,
          0.8244325518608093,
          0.8303866982460022,
          0.7054643630981445,
          0.8257312178611755,
          0.7982985377311707,
          0.6518482565879822,
          0.7747714519500732,
          0.62486732006073,
          0.7410199642181396,
          0.7621798515319824,
          0.6205570101737976,
          0.8520519733428955,
          0.7884073257446289,
          0.8353455066680908,
          0.842400074005127,
          0.8026851415634155,
          0.8298107385635376,
          0.669009804725647,
          0.7208354473114014,
          0.7742667198181152,
          0.8382247686386108,
          0.8314692378044128,
          0.7462007403373718,
          0.7372523546218872,
          0.6689728498458862,
          0.7930688261985779,
          0.7988534569740295,
          0.765767514705658,
          0.6053067445755005,
          0.861780047416687,
          0.698189914226532,
          0.71474689245224,
          0.7726864814758301,
          0.8253964781761169,
          0.8519362807273865,
          0.8314200639724731,
          0.6445736289024353,
          0.7962394952774048,
          0.8286178112030029,
          0.8334086537361145,
          0.7499898076057434,
          0.7054900527000427,
          0.8033684492111206,
          0.837941586971283,
          0.6930540204048157,
          0.7640969157218933,
          0.4582952558994293,
          0.6559874415397644,
          0.656593918800354,
          0.7056854963302612,
          0.853289008140564,
          0.8107472658157349,
          0.7805888056755066,
          0.8436148762702942,
          0.7459819316864014,
          0.7503371238708496,
          0.6801544427871704,
          0.7537330985069275,
          0.6141003966331482,
          0.8368536829948425,
          0.7517064213752747,
          0.7861791849136353,
          0.8015543222427368,
          0.5359333753585815,
          0.8277676701545715,
          0.8441253304481506,
          0.8136718273162842,
          0.7995468378067017,
          0.7578060626983643,
          0.7753637433052063,
          0.7137995958328247,
          0.8321135640144348,
          0.812026858329773,
          0.6774275302886963,
          0.7650222182273865,
          0.8314435482025146,
          0.8155951499938965,
          0.8055864572525024,
          0.749548614025116,
          0.6956605315208435,
          0.6167848110198975,
          0.8247131705284119,
          0.8043312430381775,
          0.6458899974822998,
          0.8022457361221313,
          0.803508996963501,
          0.8162179589271545,
          0.7437708377838135,
          0.8269895911216736,
          0.7647837400436401,
          0.7945460677146912,
          0.7612406015396118,
          0.7950162887573242,
          0.8277075290679932,
          0.7798447608947754,
          0.8032006621360779,
          0.6825022101402283,
          0.6592354774475098,
          0.5450611710548401,
          0.8599314093589783,
          0.8402634263038635,
          0.8280011415481567,
          0.7209033370018005,
          0.850955605506897,
          0.8068313598632812,
          0.6768988370895386,
          0.7705380320549011,
          0.7983880043029785,
          0.7740964293479919,
          0.6790523529052734,
          0.8253636360168457,
          0.6890267133712769,
          0.813439667224884,
          0.8714927434921265,
          0.8670263290405273,
          0.8001452684402466,
          0.8009811639785767,
          0.7605747580528259,
          0.8470602035522461,
          0.8139795064926147,
          0.7141821980476379,
          0.8622773885726929,
          0.8292138576507568,
          0.7887060642242432,
          0.7126166224479675,
          0.9010947942733765,
          0.8476603627204895,
          0.8226108551025391,
          0.7710674405097961,
          0.8593810200691223,
          0.8501042127609253,
          0.7609695196151733,
          0.7758519649505615,
          0.8595623970031738,
          0.8347139358520508,
          0.44875842332839966,
          0.7958430051803589,
          0.6949077248573303,
          0.822350263595581,
          0.777665913105011,
          0.8213828206062317,
          0.6446319818496704,
          0.7770776152610779,
          0.7612218856811523
         ],
         "y": [
          -0.09009420871734619,
          -0.02437913417816162,
          -0.12299804389476776,
          0.0028337687253952026,
          -0.05324799194931984,
          0.005361848510801792,
          -0.20316234230995178,
          -0.20122796297073364,
          -0.23968631029129028,
          -0.11769311875104904,
          -0.11460471898317337,
          -0.16870853304862976,
          -0.19248652458190918,
          -0.08040650188922882,
          -0.3188360333442688,
          -0.23411397635936737,
          -0.12631815671920776,
          -0.2332020401954651,
          -0.3517955541610718,
          -0.23069420456886292,
          -0.15861552953720093,
          -0.128569096326828,
          -0.16106590628623962,
          -0.21986401081085205,
          -0.19603919982910156,
          -0.06423752009868622,
          -0.1741933524608612,
          -0.17336468398571014,
          -0.12844103574752808,
          -0.049388445913791656,
          -0.15717577934265137,
          -0.2717311978340149,
          -0.06541579216718674,
          -0.19596388936042786,
          -0.24190405011177063,
          -0.18884426355361938,
          -0.1644175797700882,
          -0.3588219881057739,
          -0.11776985228061676,
          -0.13741235435009003,
          -0.22789625823497772,
          -0.2429806888103485,
          -0.12443134188652039,
          -0.17358654737472534,
          -0.18999037146568298,
          -0.20077304542064667,
          -0.07305765151977539,
          -0.33851081132888794,
          -0.23285479843616486,
          -0.3607851266860962,
          -0.09919805824756622,
          -0.12889909744262695,
          -0.06478744000196457,
          -0.18666476011276245,
          -0.22152888774871826,
          -0.20863530039787292,
          -0.19685672223567963,
          -0.13630585372447968,
          -0.1600697636604309,
          -0.2744620740413666,
          -0.13631582260131836,
          -0.20520661771297455,
          -0.1941899210214615,
          -0.05691991001367569,
          -0.12749184668064117,
          -0.18592481315135956,
          -0.0661238357424736,
          -0.21549859642982483,
          -0.15473005175590515,
          -0.1527673304080963,
          -0.20960848033428192,
          -0.23047594726085663,
          -0.18381348252296448,
          -0.2582468092441559,
          -0.1393526792526245,
          -0.17784124612808228,
          -0.15670986473560333,
          -0.09281791746616364,
          -0.0221371129155159,
          -0.18250872194766998,
          -0.038663893938064575,
          -0.09682805091142654,
          -0.18832361698150635,
          -0.3351801037788391,
          -0.24249640107154846,
          -0.25152239203453064,
          -0.16696423292160034,
          -0.2078493982553482,
          -0.24048179388046265,
          -0.3281377851963043,
          -0.1260974109172821,
          -0.28714489936828613,
          -0.22472603619098663,
          -0.1790849268436432,
          -0.2948973774909973,
          -0.1639045774936676,
          -0.23271283507347107,
          -0.24540556967258453,
          -0.2566298544406891,
          -0.1622452586889267,
          -0.08129183948040009,
          -0.13809950649738312,
          -0.14668984711170197,
          -0.08943898975849152,
          -0.227871373295784,
          -0.13192451000213623,
          -0.18973253667354584,
          -0.09740859270095825,
          -0.24754364788532257,
          -0.1561204046010971,
          -0.07113861292600632,
          -0.06620503962039948,
          -0.04872928932309151,
          -0.17875640094280243,
          -0.16415147483348846,
          -0.1601935476064682,
          -0.16392378509044647,
          -0.06709044426679611,
          -0.041993096470832825,
          -0.03367999568581581,
          -0.05442735552787781,
          -0.07947889715433121,
          -0.25314655900001526,
          -0.1800294667482376,
          -0.1986810564994812,
          -0.17337176203727722,
          -0.18376384675502777,
          0.029120158404111862,
          -0.10792937874794006,
          -0.2928493320941925,
          -0.2983265221118927,
          0.060114774852991104,
          -0.34376734495162964,
          -0.18990539014339447,
          -0.2213185727596283,
          -0.12754535675048828,
          -0.2705618441104889,
          -0.16502220928668976,
          -0.3155556917190552,
          -0.2470506727695465,
          -0.13853803277015686,
          -0.15657107532024384,
          -0.14156264066696167,
          -0.2348082959651947,
          -0.24499520659446716,
          -0.05937916785478592,
          -0.1319902539253235,
          -0.18817132711410522,
          -0.21909475326538086,
          -0.1398494392633438,
          -0.3435196578502655,
          -0.18547774851322174,
          -0.07484454661607742,
          -0.21252219378948212,
          -0.22413302958011627,
          -0.097514308989048,
          -0.17660439014434814,
          -0.1038433238863945,
          -0.2678166627883911,
          -0.11178319156169891,
          -0.27302199602127075,
          -0.11156784743070602,
          -0.16344569623470306,
          -0.19911766052246094,
          -0.3524845838546753,
          -0.16727641224861145
         ],
         "z": [
          0.2564069628715515,
          0.23810172080993652,
          0.24391311407089233,
          0.2613440752029419,
          0.29360464215278625,
          0.23506617546081543,
          0.3288246989250183,
          0.3754734396934509,
          0.14346404373645782,
          0.11860215663909912,
          0.2332421839237213,
          0.3576660752296448,
          0.3820350766181946,
          0.28149619698524475,
          0.09654664248228073,
          0.2210802435874939,
          0.24642202258110046,
          0.21051421761512756,
          0.055337172001600266,
          0.31676027178764343,
          0.24395745992660522,
          0.04985601454973221,
          0.09394915401935577,
          0.1359221637248993,
          0.28005164861679077,
          0.21862348914146423,
          0.2466425597667694,
          0.21029168367385864,
          0.1277044713497162,
          0.14235810935497284,
          0.13053828477859497,
          0.08132965862751007,
          0.23129986226558685,
          0.12869465351104736,
          0.1958930492401123,
          0.06787145137786865,
          0.08889849483966827,
          0.05379938334226608,
          0.0540011003613472,
          0.21694394946098328,
          0.36284416913986206,
          0.1745987832546234,
          0.19125261902809143,
          0.06656616926193237,
          0.12890401482582092,
          0.1486588716506958,
          0.13177132606506348,
          0.14066658914089203,
          0.14046640694141388,
          0.12401364743709564,
          0.2917465567588806,
          0.11102557182312012,
          0.325717568397522,
          0.23859381675720215,
          0.1879725456237793,
          0.114216148853302,
          0.09869270026683807,
          0.07596853375434875,
          0.23931604623794556,
          0.07438400387763977,
          0.08162960410118103,
          0.14039403200149536,
          0.07805834710597992,
          0.29325056076049805,
          0.15372371673583984,
          0.1743697077035904,
          0.2530601918697357,
          0.10231973975896835,
          0.2945336699485779,
          0.28048667311668396,
          0.24922361969947815,
          0.23919221758842468,
          0.1687370091676712,
          0.08324932307004929,
          0.25965407490730286,
          0.08246473968029022,
          0.1909984052181244,
          0.2524709105491638,
          0.2613047957420349,
          0.35949379205703735,
          -0.06796397268772125,
          0.14008286595344543,
          0.2480584979057312,
          0.08963842689990997,
          0.1242181807756424,
          0.04614211618900299,
          0.10843458026647568,
          0.19613879919052124,
          0.2863035798072815,
          0.13027547299861908,
          0.18333739042282104,
          0.13864651322364807,
          0.31401658058166504,
          0.15161943435668945,
          0.1176723837852478,
          0.22908934950828552,
          0.22174525260925293,
          0.0941736251115799,
          0.10281869024038315,
          0.07391357421875,
          0.28242647647857666,
          0.26742225885391235,
          0.32493096590042114,
          0.2034580558538437,
          0.14462241530418396,
          0.3459368050098419,
          0.1484309732913971,
          0.1127040684223175,
          0.20006470382213593,
          0.19460974633693695,
          0.19407808780670166,
          0.23865142464637756,
          0.2195853888988495,
          0.2760606110095978,
          0.1982269287109375,
          0.11667701601982117,
          0.19721098244190216,
          0.21912258863449097,
          0.23432119190692902,
          0.2696768343448639,
          0.03268223628401756,
          0.13927678763866425,
          0.06367461383342743,
          0.09554365277290344,
          0.23417167365550995,
          0.12765997648239136,
          0.17333145439624786,
          0.2740701735019684,
          0.1292458176612854,
          0.14027565717697144,
          0.08169970661401749,
          0.2546916902065277,
          0.0596340149641037,
          0.2817341685295105,
          0.11435864865779877,
          0.1008719950914383,
          0.1048835888504982,
          0.12473313510417938,
          0.14800533652305603,
          0.11199361085891724,
          0.15673786401748657,
          0.21687382459640503,
          0.23751448094844818,
          0.08574185520410538,
          0.08114509284496307,
          0.19963675737380981,
          0.2416495978832245,
          0.11096778512001038,
          0.17048344016075134,
          0.1245088130235672,
          0.11578667908906937,
          0.14512667059898376,
          0.13168194890022278,
          0.21983712911605835,
          0.3192315101623535,
          0.14440800249576569,
          0.18295949697494507,
          0.19527922570705414,
          0.09889291226863861,
          0.23267896473407745,
          0.051603686064481735,
          0.19788172841072083,
          0.1447593718767166,
          0.37784215807914734,
          0.12257930636405945,
          0.1632155478000641
         ]
        },
        {
         "customdata": [
          [
           "bay leaf<br>chili<br>ginger<br>lemon<br>pepper corn<br>pork"
          ],
          [
           "chili<br>cinnamon<br>peanut<br>soy sauce<br>star anise"
          ],
          [
           "bay leaf<br>ketchup<br>oyster sauce<br>pork<br>sesame oil<br>soy sauce<br>vinegar"
          ],
          [
           "baking<br>chili<br>cornstarch<br>egg<br>eggplant<br>flour<br>soy sauce<br>vinegar"
          ],
          [
           "chili<br>cornstarch<br>eggplant<br>oyster sauce<br>pork<br>soy sauce<br>vinegar"
          ],
          [
           "bell pepper<br>egg<br>rice<br>sesame oil<br>soy sauce"
          ],
          [
           "bell pepper<br>egg<br>rice<br>sesame oil<br>soy sauce"
          ],
          [
           "carrot<br>cheese<br>cornstarch<br>egg<br>lumpia wrapper<br>pork"
          ],
          [
           "butter<br>cheese<br>cream<br>mushroom<br>parsley<br>pasta"
          ],
          [
           "egg<br>lime<br>oyster sauce<br>pork<br>soy sauce"
          ],
          [
           "butter<br>mushroom<br>parsley<br>thyme<br>wine"
          ],
          [
           "cornstarch<br>oyster sauce<br>soy sauce<br>spinach"
          ],
          [
           "carrot<br>chicken<br>mayonnaise<br>pickle<br>pineapple<br>potato"
          ],
          [
           "apple<br>chicken sauce<br>pork rib<br>soy sauce"
          ],
          [
           "butter<br>cheese<br>egg<br>pork<br>rice<br>tomato"
          ],
          [
           "bell pepper<br>cornstarch<br>oyster sauce<br>pork<br>soy sauce"
          ],
          [
           "bread<br>cheese<br>cream cheese<br>mayonnaise"
          ],
          [
           "annatto<br>banana blossom<br>beef<br>cabbage<br>eggplant<br>fish sauce<br>peanut<br>string bean"
          ],
          [
           "bell pepper<br>carrot<br>egg<br>eggplant"
          ],
          [
           "butter<br>carrot<br>pork<br>pork rib<br>soy sauce<br>string bean<br>tomato"
          ],
          [
           "beef<br>beef broth<br>cornstarch<br>egg<br>mushroom<br>parsley<br>soy sauce"
          ],
          [
           "beef<br>cornstarch<br>ginger<br>orange<br>sesame oil<br>soy sauce<br>vinegar"
          ],
          [
           "bay leaf<br>butter<br>chicken<br>oyster sauce<br>peppercorn<br>soy sauce<br>vinegar"
          ],
          [
           "bay leaf<br>chili<br>mayonnaise<br>peppercorn<br>pork<br>vinegar"
          ],
          [
           "bell pepper<br>carrot<br>chicken<br>cream<br>mayonnaise<br>pasta<br>pea<br>pickle<br>pineapple"
          ],
          [
           "butter<br>chicken<br>cornstarch<br>egg<br>flour<br>honey<br>lemon<br>mayonnaise"
          ],
          [
           "beef<br>butter<br>cornstarch<br>oyster sauce<br>soy sauce"
          ],
          [
           "bread crumb<br>egg<br>flour<br>pork"
          ],
          [
           "bay leaf<br>chicken<br>egg<br>peppercorn<br>soy sauce<br>vinegar"
          ],
          [
           "bay leaf<br>pork<br>soy sauce<br>vinegar"
          ],
          [
           "peppercorn<br>pork<br>scallion<br>soy sauce<br>vinegar"
          ],
          [
           "chicken<br>chili<br>fish sauce<br>soy sauce<br>vinegar"
          ],
          [
           "bell pepper<br>carrot<br>cornstarch<br>ketchup<br>vinegar"
          ],
          [
           "bell pepper<br>butter<br>cheese<br>lemon<br>mayonnaise<br>salmon"
          ],
          [
           "chili<br>fish sauce<br>ginger<br>goat<br>vinegar"
          ],
          [
           "bean<br>chicken<br>chili<br>coconut<br>ginger<br>shrimp"
          ],
          [
           "oyster sauce<br>pork<br>potato<br>soy sauce<br>tomato"
          ],
          [
           "bell pepper<br>egg<br>lemon lime soda<br>rice<br>sesame oil<br>soy sauce"
          ],
          [
           "bay leaf<br>chili<br>soy sauce<br>star anise<br>vinegar"
          ],
          [
           "chicken<br>ketchup<br>lemon<br>pork<br>soy sauce"
          ],
          [
           "bell pepper<br>carrot<br>cheese<br>chicken<br>mayonnaise<br>pasta<br>pickle<br>pineapple<br>raisin"
          ],
          [
           "baking soda<br>ketchup<br>lemon<br>pineapple<br>pork<br>soy sauce<br>squid<br>tomato"
          ],
          [
           "chili<br>cornstarch<br>eggplant<br>oyster sauce<br>sesame oil<br>soy sauce<br>string bean<br>vinegar"
          ],
          [
           "almond<br>annatto<br>beef<br>beef broth<br>cabbage<br>eggplant<br>peanut<br>string bean"
          ],
          [
           "banana<br>laurel<br>pineapple<br>pork<br>soy sauce<br>star anise"
          ],
          [
           "bay leaf<br>lemon lime soda<br>oyster sauce<br>pork<br>soy sauce<br>vinegar"
          ],
          [
           "banana blossom<br>coconut vinegar<br>laurel<br>peppercorn<br>pork<br>soy sauce"
          ],
          [
           "black bean<br>fish<br>ginger<br>tofu<br>tomato<br>vinegar"
          ],
          [
           "laurel<br>lemongrass<br>peppercorn<br>pork<br>vinegar"
          ],
          [
           "breadcrumb<br>laurel<br>pork<br>soy sauce<br>vinegar"
          ],
          [
           "bell pepper<br>lemon<br>mayonnaise<br>tofu"
          ],
          [
           "carrot<br>celery<br>cheese<br>chicken<br>mayonnaise<br>parsley<br>pasta<br>pickle<br>pineapple"
          ],
          [
           "bell pepper<br>carrot<br>oxtail<br>peas<br>peppercorn<br>pork<br>sausage<br>tomato sauce"
          ],
          [
           "chili<br>lemon<br>lemon lime soda<br>pork<br>soy sauce<br>tofu<br>vinegar"
          ],
          [
           "bell pepper<br>carrot<br>chili<br>goat<br>potato<br>tomato<br>tomato sauce<br>vinegar"
          ],
          [
           "bean<br>bell pepper<br>broccoli<br>carrot<br>cheese<br>cream<br>lemon<br>mayonnaise<br>salmon"
          ],
          [
           "carrot<br>cornstarch<br>egg<br>fish sauce<br>malunggay<br>squash<br>vinegar"
          ],
          [
           "butter<br>chicken<br>lemon<br>rosemary"
          ],
          [
           "bread crumb<br>laurel<br>lemongrass<br>peppercorn<br>pork<br>soy sauce<br>vinegar"
          ],
          [
           "bell pepper<br>carrot<br>hotdog<br>laurel<br>pea<br>pork<br>potato<br>soy sauce<br>tomato sauce"
          ],
          [
           "beef<br>egg<br>fish sauce<br>flour<br>pasta<br>patola<br>pork"
          ],
          [
           "beef<br>butter<br>oyster sauce<br>soy sauce"
          ],
          [
           "cabbage<br>carrot<br>chicken<br>cornstarch<br>egg<br>oyster sauce<br>pasta<br>pork<br>soy sauce"
          ],
          [
           "carrot<br>egg<br>pea<br>pork<br>rice<br>sesame oil<br>soy sauce"
          ],
          [
           "bay leaf<br>chicken<br>ketchup<br>lemon lime soda<br>peppercorn<br>soy sauce<br>vinegar"
          ],
          [
           "bagoong<br>eggplant<br>okra<br>spinach<br>squash<br>string bean<br>tomato"
          ],
          [
           "annatto<br>baking<br>bay leaf<br>egg<br>flour<br>margarine<br>pork<br>rice"
          ],
          [
           "carrot<br>cheese<br>chicken<br>mayonnaise<br>pasta<br>pickle<br>pineapple"
          ],
          [
           "bagoong<br>eggplant<br>pork<br>serrano pepper<br>tomato<br>vinegar"
          ],
          [
           "bay leaf<br>fish sauce<br>pineapple<br>pork<br>soy sauce<br>vinegar"
          ],
          [
           "fish<br>ginger<br>lemon<br>mango<br>tomato"
          ],
          [
           "bagoong<br>chili<br>eggplant<br>pork<br>tomato<br>vinegar"
          ],
          [
           "bay leaf<br>peppercorn<br>pork<br>star anise<br>vinegar"
          ],
          [
           "bay leaf<br>carrot<br>lemon<br>pork<br>potato<br>soy sauce<br>tomato sauce"
          ],
          [
           "bean<br>chili<br>coconut<br>ginger<br>milk<br>pork<br>shrimp"
          ],
          [
           "bay leaf<br>carrot<br>chicken<br>chicken broth<br>hotdog<br>pea<br>potato<br>tomato sauce"
          ],
          [
           "bay leaf<br>chicken<br>peppercorn<br>pork sauce<br>vinegar"
          ],
          [
           "bay leaf<br>bell pepper<br>carrot<br>chicken<br>pea<br>soy sauce<br>vinegar"
          ],
          [
           "bell pepper<br>carrot<br>cheese<br>chicken<br>mayonnaise<br>pasta<br>pineapple<br>raisin<br>relish"
          ],
          [
           "chili<br>coconut<br>coconut cream<br>ginger<br>milk<br>pork<br>serrano pepper<br>shrimp"
          ],
          [
           "bagoong<br>bean<br>chicken<br>chili<br>serrano pepper<br>tomato<br>vinegar"
          ],
          [
           "bay leaf<br>fish sauce<br>peppercorn<br>pork<br>serrano pepper<br>vinegar"
          ],
          [
           "carrot<br>fish sauce<br>pork<br>shrimp<br>tomato"
          ],
          [
           "bell pepper<br>breadcrumb<br>carrot<br>chicken<br>cornstarch<br>egg<br>ketchup<br>vinegar"
          ],
          [
           "breadcrumb<br>chili<br>egg<br>eggplant<br>flour<br>ketchup<br>mayonnaise"
          ],
          [
           "bell pepper<br>chili<br>coconut vinegar<br>peppercorn<br>soy sauce"
          ],
          [
           "beef<br>cornstarch<br>ginger<br>rice<br>soy sauce<br>star anise"
          ],
          [
           "cheese<br>egg<br>pasta<br>pork"
          ],
          [
           "bagoong<br>cabbage<br>chicken<br>coconut<br>eggplant<br>milk<br>paprika<br>peanut<br>snake bean"
          ],
          [
           "banana blossom<br>bean<br>pork<br>soy sauce<br>vinegar"
          ],
          [
           "chicken<br>chili<br>ginger<br>lemongrass<br>pasta<br>patis"
          ],
          [
           "beef<br>bell pepper<br>cornstarch<br>oyster sauce<br>soy sauce"
          ],
          [
           "bell pepper<br>carrot<br>chicken<br>fish sauce<br>milk<br>pineapple<br>tomato"
          ],
          [
           "bay leaf<br>ginger<br>lime<br>mayonnaise<br>pork<br>vinegar"
          ],
          [
           "bell pepper<br>carrot<br>chicken<br>coconut<br>fish sauce<br>milk<br>pineapple<br>tomato"
          ],
          [
           "bean<br>pineapple<br>pork<br>soy sauce<br>star anise<br>tofu<br>vinegar"
          ],
          [
           "bean<br>chicken<br>chili<br>mirin<br>oyster sauce"
          ],
          [
           "bay leaf<br>beef<br>butter<br>lemon<br>peppercorn<br>soy sauce<br>tomato<br>tomato sauce<br>vinegar"
          ],
          [
           "bay leaf<br>chicken<br>lemon lime soda<br>peppercorn<br>soy sauce<br>vinegar"
          ],
          [
           "beef<br>butter<br>cheese<br>chili<br>cumin<br>flour<br>milk<br>serrano pepper<br>tomato"
          ],
          [
           "bell pepper<br>carrot<br>cornstarch<br>fish<br>ginger<br>ketchup<br>vinegar"
          ],
          [
           "beef broth<br>pineapple<br>rib<br>soy sauce"
          ],
          [
           "bay leaf<br>peppercorn<br>pork<br>soy sauce<br>vinegar"
          ],
          [
           "butter<br>chili<br>mayonnaise<br>salmon"
          ],
          [
           "bell pepper<br>chili<br>coconut<br>fish sauce<br>ginger<br>milk<br>mussel<br>shrimp"
          ],
          [
           "bay leaf<br>peppercorn<br>pork<br>soy sauce<br>vinegar"
          ],
          [
           "chicken<br>lemongrass<br>peppercorn<br>potato"
          ],
          [
           "fish sauce<br>ketchup<br>peppercorn<br>pineapple<br>pork rib<br>potato<br>soy sauce<br>tomato"
          ],
          [
           "chili<br>coconut<br>fish<br>ginger<br>spinach<br>vinegar"
          ],
          [
           "carrot<br>cheese<br>chicken<br>mayonnaise<br>pea<br>potato<br>relish"
          ],
          [
           "beef<br>beef broth<br>broccoli<br>cornstarch<br>ginger<br>oyster sauce<br>soy sauce<br>wine"
          ],
          [
           "breadcrumb<br>cabbage<br>cornstarch<br>egg<br>fish<br>tomato<br>vinegar"
          ],
          [
           "bay leaf<br>chicken<br>oyster sauce<br>peppercorn<br>vinegar"
          ],
          [
           "bay leaf<br>chicken<br>coconut<br>peppercorn<br>soy sauce<br>vinegar"
          ],
          [
           "bay leaf<br>chicken<br>coconut<br>milk<br>peppercorn<br>soy sauce<br>vinegar"
          ],
          [
           "beef<br>bell pepper<br>corn<br>cornstarch<br>oyster sauce<br>pea<br>soy sauce<br>wine"
          ],
          [
           "cabbage<br>chili<br>coconut<br>fish<br>ginger<br>milk<br>tomato"
          ],
          [
           "egg<br>flour<br>lime<br>patis<br>pork"
          ],
          [
           "chili<br>coconut<br>ginger<br>milk<br>pork<br>shrimp<br>taro"
          ],
          [
           "beef<br>chili<br>ginger<br>soy sauce<br>vinegar"
          ],
          [
           "bagoong<br>ginger<br>pork<br>tomato<br>vinegar"
          ],
          [
           "soy sauce<br>squid<br>tomato<br>vinegar"
          ],
          [
           "butter<br>cheese<br>chicken<br>flour<br>milk<br>mushroom"
          ],
          [
           "butter<br>lemon<br>lemon lime soda<br>parsley"
          ],
          [
           "basil<br>cheese<br>fish<br>nut<br>pasta"
          ],
          [
           "chili<br>coconut<br>eggplant<br>fish<br>ginger<br>kamia<br>milk<br>patis<br>pork"
          ],
          [
           "carrot<br>cornstarch<br>egg<br>ketchup<br>lumpia wrapper<br>pork<br>singkama<br>soy sauce<br>vinegar"
          ],
          [
           "ketchup<br>lemon<br>pork<br>soy sauce"
          ],
          [
           "chili<br>margarine<br>mayonnaise<br>pork<br>soy sauce"
          ],
          [
           "butter<br>cheese<br>flour<br>hotdog<br>milk<br>pasta<br>pork<br>tomato sauce"
          ],
          [
           "egg<br>ginger<br>pea<br>pork<br>rice<br>shrimp<br>soy sauce"
          ],
          [
           "chicken<br>nutmeg<br>patis<br>wine"
          ],
          [
           "chicken<br>chili<br>coconut<br>ginger<br>milk<br>papaya<br>patis pepper<br>spinach"
          ],
          [
           "bell pepper<br>chicken<br>cornstarch<br>egg<br>oyster sauce<br>pea<br>soy sauce<br>vinegar"
          ],
          [
           "bell pepper<br>carrot<br>egg<br>ginger<br>mayonnaise<br>relish<br>scallion"
          ],
          [
           "chili<br>lemongrass<br>peppercorn<br>pork<br>scallion<br>soy sauce<br>vinegar"
          ],
          [
           "bell pepper<br>chicken<br>coconut<br>ginger<br>milk<br>patis pepper<br>pea<br>pork<br>potato"
          ],
          [
           "bay leaf<br>chili<br>lemon<br>mayonnaise<br>peppercorn<br>pork<br>soy sauce"
          ],
          [
           "bay leaf<br>ginger<br>lemongrass<br>liempo<br>peppercorn<br>pork<br>vinegar"
          ],
          [
           "bay leaf<br>chicken<br>peppercorn<br>soy sauce<br>vinegar"
          ],
          [
           "beef<br>butter<br>carrot<br>egg<br>pea<br>rice<br>squash"
          ],
          [
           "bay leaf<br>bean<br>peppercorn<br>pork<br>rice<br>soy sauce<br>vinegar"
          ],
          [
           "butter<br>chili<br>fish<br>ginger<br>mayonnaise<br>pork<br>scallion<br>soy sauce"
          ],
          [
           "bell pepper<br>carrot<br>cornstarch<br>flour<br>ketchup<br>pork<br>soy sauce<br>vinegar"
          ],
          [
           "beef<br>chicken<br>egg<br>rice<br>soy sauce"
          ],
          [
           "beef<br>beef broth<br>cornstarch<br>ginger<br>mushroom<br>peas<br>soy sauce<br>wine"
          ],
          [
           "bay leaf<br>chicken<br>oyster sauce<br>peppercorn<br>pork<br>soy sauce<br>vinegar"
          ],
          [
           "beef<br>beef broth<br>carrot<br>pork<br>thyme<br>tomato<br>wine"
          ],
          [
           "banana blossom<br>bay leaf<br>pepper corn<br>pork<br>soy sauce<br>vinegar"
          ],
          [
           "beef rib<br>chili<br>rice wine<br>sesame oil<br>soy sauce"
          ],
          [
           "annatto<br>bay leaf<br>beef<br>bell pepper<br>ginger<br>oxtail<br>pineapple<br>pork"
          ],
          [
           "carrot<br>chicken<br>egg<br>lumpia wrapper"
          ],
          [
           "bell pepper<br>carrot<br>mung bean<br>oyster sauce<br>tomato"
          ],
          [
           "butter<br>cheese<br>cream<br>salmon<br>spinach<br>tomato<br>wine"
          ],
          [
           "bay leaf<br>chicken<br>chicken broth<br>fish sauce<br>parsley<br>pea<br>tomato"
          ],
          [
           "carrot<br>celery<br>egg<br>flour<br>lemon<br>pork<br>soy sauce<br>squid<br>tomato"
          ],
          [
           "bell pepper<br>celery<br>lemon<br>mayonnaise<br>pasta"
          ],
          [
           "ketchup<br>lemon<br>pork<br>soy sauce"
          ],
          [
           "chili<br>coconut<br>fish<br>fish sauce<br>ginger<br>milk<br>spinach<br>vinegar"
          ],
          [
           "cheese<br>egg<br>lumpia wrapper<br>pork"
          ],
          [
           "fish<br>ginger<br>lemon<br>tomato"
          ],
          [
           "eggplant<br>shrimp<br>tomato<br>vinegar"
          ],
          [
           "beef<br>egg<br>pineapple<br>rice"
          ],
          [
           "annatto<br>chicken<br>ginger<br>lemon<br>lemongrass<br>lime<br>margarine<br>vinegar"
          ],
          [
           "anchovy<br>mung bean<br>patis<br>spinach<br>tomato"
          ],
          [
           "bay leaf<br>peppercorn<br>pork<br>star anise"
          ],
          [
           "butter<br>carrot<br>cream<br>egg<br>mushroom<br>pea<br>singkama"
          ],
          [
           "chili<br>coconut<br>fish<br>fish sauce<br>ginger<br>milk<br>spinach"
          ],
          [
           "cabbage<br>ginger<br>pork<br>sesame oil<br>wine"
          ],
          [
           "bay leaf<br>chicken<br>peppercorn<br>soy sauce<br>vinegar"
          ],
          [
           "bagoong<br>eggplant<br>pork<br>tomato<br>vinegar"
          ],
          [
           "carrot<br>egg<br>jicama<br>pork<br>sesame oil<br>wonton wrapper"
          ],
          [
           "broccoli<br>cornstarch<br>ginger<br>oyster sauce<br>sesame oil<br>wine"
          ],
          [
           "beef<br>bitter gourd<br>cornstarch<br>ginger<br>oyster sauce<br>sesame oil<br>soy sauce"
          ],
          [
           "carrot<br>egg<br>lumpia wrapper<br>parsley<br>pork<br>sesame oil"
          ],
          [
           "chicken<br>fish sauce<br>ginger<br>papaya<br>rice"
          ],
          [
           "bay leaf<br>chicken<br>peppercorn<br>soy sauce<br>vinegar"
          ],
          [
           "bay leaf<br>peppercorn<br>pork<br>scallion<br>vinegar"
          ],
          [
           "bell pepper<br>bread crumb<br>carrot<br>cheese<br>egg<br>pickle<br>pork<br>raisin"
          ],
          [
           "butter<br>chicken<br>chili<br>mayonnaise<br>pork"
          ],
          [
           "carrot<br>egg<br>lumpia wrapper<br>parsley<br>pork<br>sesame oil"
          ],
          [
           "bay leaf<br>carrot<br>ginger<br>lemon<br>pork<br>potato<br>soy sauce<br>tomato sauce"
          ],
          [
           "bread<br>cornstarch<br>ginger<br>soy sauce<br>vegetable oil"
          ],
          [
           "eggplant<br>fish<br>ginger<br>okra<br>peppercorn<br>vinegar"
          ],
          [
           "chili<br>liempo<br>lime<br>mayonnaise"
          ],
          [
           "butter<br>chicken<br>chili<br>flour<br>sauce"
          ],
          [
           "bean<br>beef<br>chili<br>coconut<br>fish sauce<br>milk<br>spinach"
          ],
          [
           "chicken<br>chili<br>lemon<br>margarine<br>mayonnaise<br>pork"
          ],
          [
           "butter<br>crab<br>lemon<br>vinegar"
          ],
          [
           "bell pepper<br>chili<br>coconut vinegar<br>lemongrass<br>peppercorn<br>pork<br>vinegar"
          ],
          [
           "bagoong<br>bay leaf<br>chili<br>coconut<br>jackfruit<br>milk<br>mung bean<br>peppercorn<br>pork"
          ],
          [
           "bell pepper<br>carrot<br>celery<br>mayonnaise<br>mustard<br>pasta"
          ],
          [
           "chicken<br>lemongrass<br>soy sauce<br>star anise"
          ],
          [
           "banana<br>beef broth<br>pork<br>soy sauce<br>vinegar"
          ],
          [
           "bitter gourd<br>chili<br>coconut cream<br>coconut vinegar<br>salmon"
          ],
          [
           "annatto<br>chicken<br>coconut vinegar<br>lemongrass<br>margarine"
          ],
          [
           "bay leaf<br>coconut cream<br>peppercorn<br>pork<br>soy sauce<br>vinegar"
          ],
          [
           "chicken<br>egg<br>flour<br>paprika"
          ],
          [
           "chili<br>lemongrass<br>peppercorn<br>pork<br>scallion<br>soy sauce<br>vinegar"
          ],
          [
           "bitter gourd<br>egg<br>shrimp<br>tomato"
          ],
          [
           "beef<br>beef broth<br>chili<br>fish sauce<br>papaya<br>spinach"
          ],
          [
           "chili<br>coconut<br>coconut cream<br>fish sauce<br>milk<br>pork<br>spinach"
          ],
          [
           "beef<br>beef broth<br>carrot<br>pea<br>potato<br>raisin<br>tomato"
          ],
          [
           "chicken<br>chili<br>fish sauce<br>malunggay<br>rice<br>squash"
          ],
          [
           "bay leaf<br>beef broth<br>peppercorn<br>pork<br>soy sauce<br>vinegar"
          ],
          [
           "butter<br>dill<br>lemon<br>salmon"
          ],
          [
           "beef<br>bell pepper<br>cheese<br>parsley<br>pork"
          ],
          [
           "lemongrass<br>pork<br>scallion<br>star anise"
          ],
          [
           "butter<br>chili<br>parsley<br>shrimp<br>squid"
          ],
          [
           "bay leaf<br>peppercorn<br>pork<br>wine"
          ],
          [
           "bay leaf<br>dijon mustard<br>ham<br>honey<br>ice<br>pineapple"
          ],
          [
           "bay leaf<br>carrot<br>ginger<br>pork<br>potato<br>raisin<br>soy sauce<br>tomato sauce"
          ],
          [
           "carrot<br>egg<br>jicama<br>parsley<br>pork"
          ],
          [
           "bay leaf<br>beef broth<br>peppercorn<br>pork<br>pork sauce<br>soy sauce<br>vinegar"
          ],
          [
           "bay leaf<br>beef<br>beef broth<br>carrot<br>potato<br>rosemary<br>thyme<br>wine"
          ],
          [
           "beef broth<br>lime<br>pork<br>soy sauce"
          ],
          [
           "butter<br>chili<br>fish<br>mayonnaise<br>pork"
          ],
          [
           "bay leaf<br>beef broth<br>chili<br>peppercorn<br>pork<br>soy sauce"
          ],
          [
           "annatto<br>beef<br>beef broth<br>chili<br>rice"
          ],
          [
           "bay leaf<br>chicken<br>coconut<br>milk<br>soy sauce<br>vinegar"
          ],
          [
           "egg<br>eggplant<br>pork<br>tomato"
          ],
          [
           "bell pepper<br>butter<br>mayonnaise<br>tofu"
          ],
          [
           "annatto<br>lime<br>mirin<br>scallion<br>soy sauce<br>squid<br>tomato"
          ],
          [
           "bay leaf<br>chicken<br>chicken broth<br>peppercorn<br>soy sauce<br>vinegar"
          ],
          [
           "beef<br>garlic rice<br>ginger<br>soy sauce<br>star anise"
          ],
          [
           "bell pepper<br>butter<br>cheese<br>sausage<br>wine"
          ],
          [
           "banana blossom<br>bay leaf<br>bean<br>ham<br>pineapple<br>pork<br>soy sauce<br>vinegar"
          ],
          [
           "bay leaf<br>chicken<br>chicken broth<br>egg<br>peppercorn<br>soy sauce<br>vinegar"
          ],
          [
           "butter<br>chili<br>scallion<br>shrimp"
          ],
          [
           "bay leaf<br>coconut<br>fish sauce<br>milk<br>soy sauce<br>squid<br>vinegar"
          ],
          [
           "beef<br>bell pepper<br>cornstarch<br>oyster sauce<br>scallion"
          ],
          [
           "banana blossom<br>bay leaf<br>peppercorn<br>pork<br>soy sauce<br>vinegar"
          ],
          [
           "pork<br>snake bean<br>soy sauce<br>vinegar"
          ],
          [
           "beef broth<br>pork<br>snake bean<br>soy sauce<br>vinegar"
          ],
          [
           "chicken<br>coconut<br>lemongrass<br>plum tomato<br>potato<br>scallion"
          ],
          [
           "carrot<br>celery<br>chicken<br>pasta"
          ],
          [
           "chicken<br>fish sauce<br>ginger<br>malunggay<br>papaya<br>vegetable oil"
          ],
          [
           "butter<br>clam<br>lemon<br>parsley<br>wine"
          ],
          [
           "fish<br>plum tomato<br>scallion<br>tamarind"
          ],
          [
           "butter<br>oyster sauce<br>pork<br>soy sauce"
          ],
          [
           "chili<br>coconut<br>fish<br>fish sauce<br>malunggay<br>milk"
          ],
          [
           "bay leaf<br>coconut vinegar<br>peppercorn<br>pork<br>soy sauce"
          ],
          [
           "cream<br>dill<br>mayonnaise<br>parsley"
          ],
          [
           "bay leaf<br>peppercorn<br>pork<br>soy sauce<br>vinegar"
          ],
          [
           "cornstarch<br>fish<br>flour<br>wine"
          ],
          [
           "beef broth<br>eggplant<br>gourd<br>okra<br>plum tomato<br>pork<br>shrimp<br>snake bean<br>squash"
          ],
          [
           "broth<br>fish<br>fish sauce<br>lemongrass<br>plum tomato<br>scallion"
          ],
          [
           "ketchup<br>lime<br>scallion<br>soy sauce<br>squid"
          ],
          [
           "chili<br>fish<br>lime<br>soy sauce"
          ],
          [
           "basil<br>cheese<br>grape tomato<br>pasta<br>sun tomato"
          ],
          [
           "chili<br>fish<br>ginger<br>lemon"
          ],
          [
           "bagoong<br>fish<br>gourd<br>knob ginger<br>okra<br>plum tomato<br>snake bean"
          ],
          [
           "fish<br>fish sauce<br>mung bean<br>plum tomato"
          ],
          [
           "bay leaf<br>chili<br>coconut vinegar<br>ginger"
          ],
          [
           "duck egg<br>fish<br>plum tomato<br>rice"
          ],
          [
           "beef<br>cornstarch<br>gourd<br>oyster sauce<br>sesame oil<br>sherry<br>soy sauce"
          ],
          [
           "chicken broth<br>chili<br>cornstarch<br>crab<br>egg<br>ketchup<br>knob ginger<br>snake bean<br>soy sauce"
          ],
          [
           "chicken<br>chicken broth<br>egg<br>fish sauce<br>pork<br>scallion<br>sesame oil<br>shrimp"
          ],
          [
           "carrot<br>egg<br>lumpia wrapper<br>pork"
          ],
          [
           "bay leaf<br>beef<br>chicken<br>coconut vinegar<br>peppercorn<br>pork<br>soy sauce"
          ],
          [
           "chili<br>coconut<br>fish<br>jackfruit<br>malunggay<br>milk<br>shrimp<br>vinegar"
          ],
          [
           "beef<br>beef broth<br>broccoli<br>cornstarch<br>ginger<br>oyster sauce<br>soy sauce<br>wine"
          ],
          [
           "bay leaf<br>chili<br>cumin<br>peppercorn<br>pork<br>vinegar"
          ],
          [
           "bitter gourd<br>chili<br>coconut cream<br>fish<br>fish sauce"
          ],
          [
           "bay leaf<br>beef broth<br>egg<br>peppercorn<br>pork<br>soy sauce<br>vinegar"
          ],
          [
           "bell pepper<br>carrot<br>papaya<br>raisin<br>vinegar"
          ],
          [
           "eggplant<br>fish<br>ginger<br>malunggay<br>okra<br>spinach<br>string bean<br>tomato"
          ],
          [
           "fish<br>miso<br>mustard<br>okra<br>radish<br>tamarind<br>tomato"
          ],
          [
           "butter<br>lemon<br>salmon<br>thyme"
          ],
          [
           "bay leaf<br>ham<br>peppercorn<br>soy sauce<br>vinegar"
          ],
          [
           "annatto<br>beer<br>chicken<br>ginger<br>lime<br>margarine<br>soy sauce<br>vinegar"
          ],
          [
           "beef broth<br>pineapple<br>pork<br>soy sauce"
          ],
          [
           "chicken<br>chili<br>fish sauce<br>ginger<br>lemongrass<br>papaya"
          ],
          [
           "beef broth<br>bell pepper<br>carrot<br>pea<br>pork<br>potato<br>sausage<br>tomato"
          ],
          [
           "beef broth<br>coconut<br>milk<br>pork<br>shrimp<br>squash<br>string bean"
          ],
          [
           "beef broth<br>pork<br>soy sauce<br>spinach"
          ],
          [
           "beer<br>butter<br>cilantro<br>shrimp"
          ],
          [
           "chicken<br>chili<br>margarine<br>pork<br>vinegar"
          ],
          [
           "chili<br>coconut<br>ginger<br>milk<br>shrimp<br>spinach"
          ],
          [
           "beef<br>beef broth<br>butter<br>mushroom<br>oregano<br>parsley<br>tomato"
          ],
          [
           "egg<br>pork<br>rice<br>sesame oil<br>soy sauce"
          ],
          [
           "butter<br>lime<br>mussel<br>parsley<br>wine"
          ],
          [
           "chicken<br>chicken sauce<br>lemon<br>paprika<br>soy sauce"
          ],
          [
           "fish<br>ginger<br>lemon<br>plum tomato<br>scallion"
          ],
          [
           "bay leaf<br>chicken<br>flour<br>peppercorn<br>soy sauce<br>vinegar"
          ],
          [
           "dijon mustard<br>dill<br>egg<br>mayonnaise<br>paprika"
          ],
          [
           "bay leaf<br>beef broth<br>cane<br>egg<br>oyster sauce<br>peppercorn<br>pork<br>soy sauce"
          ],
          [
           "cane<br>eggplant<br>plum tomato<br>shrimp"
          ],
          [
           "bay leaf<br>beef broth<br>pork<br>soy sauce<br>vinegar"
          ],
          [
           "chili<br>coconut vinegar<br>fish<br>peppercorn"
          ],
          [
           "banana<br>cornstarch<br>egg<br>pork<br>rice<br>vinegar"
          ],
          [
           "beef<br>oregano<br>paprika<br>rosemary<br>thyme"
          ],
          [
           "cane<br>cornstarch<br>pork<br>soy sauce"
          ],
          [
           "apple vinegar<br>buttermilk<br>cream<br>dill<br>mayonnaise<br>sauce"
          ],
          [
           "bell pepper<br>chicken broth<br>egg<br>fish sauce<br>parsley<br>plum tomato<br>scallion"
          ],
          [
           "bean<br>chicken broth<br>cornstarch<br>fish<br>ginger<br>sesame oil<br>sherry wine"
          ],
          [
           "bell pepper<br>chicken<br>chicken broth<br>cornstarch<br>oyster sauce<br>sherry wine"
          ],
          [
           "beef broth<br>cornstarch<br>oyster sauce<br>sesame seed<br>spinach"
          ],
          [
           "beef<br>bell pepper<br>cornstarch<br>oyster sauce<br>soy sauce"
          ],
          [
           "cheese<br>egg<br>mussel<br>parsley<br>pork"
          ],
          [
           "broccoli<br>cornstarch<br>ginger<br>oyster sauce<br>sherry wine<br>soy sauce"
          ],
          [
           "bay leaf<br>chicken<br>lemongrass<br>pandan<br>peppercorn"
          ],
          [
           "bay leaf<br>lemongrass<br>milk<br>peppercorn<br>pork"
          ],
          [
           "chili<br>coconut<br>coconut cream<br>ginger<br>milk<br>pork<br>shrimp<br>taro"
          ],
          [
           "chili<br>cucumber<br>pork<br>vinegar"
          ],
          [
           "bay leaf<br>coconut<br>milk<br>peppercorn<br>soy sauce"
          ],
          [
           "chicken broth<br>cornstarch<br>egg<br>ginger"
          ],
          [
           "annatto<br>chicken<br>chili<br>ginger<br>lemon<br>margarine<br>vinegar"
          ],
          [
           "beef<br>beef broth<br>carrot<br>celery<br>cheese<br>oregano<br>potato<br>soy sauce<br>tomato"
          ],
          [
           "bay leaf<br>chili<br>ginger<br>mayonnaise<br>peppercorn<br>pork"
          ],
          [
           "chicken<br>cornstarch<br>egg<br>flour<br>orange<br>soy sauce<br>vinegar"
          ],
          [
           "pork<br>sauce<br>tomato<br>vinegar"
          ],
          [
           "bitter gourd<br>cane<br>chili<br>eggplant<br>ginger<br>peppercorn"
          ],
          [
           "banana<br>bay leaf<br>carrot<br>pork<br>soy sauce<br>wine vinegar"
          ],
          [
           "chili<br>dijon mustard<br>lemon<br>paprika<br>soy sauce<br>wine vinegar"
          ],
          [
           "beef<br>bell pepper<br>ginger<br>rice<br>sesame oil<br>soy sauce<br>vinegar"
          ],
          [
           "chicken<br>chicken broth<br>soy sauce<br>spice<br>star anise"
          ],
          [
           "beef<br>egg<br>ginger<br>oxtail<br>pork<br>rice"
          ],
          [
           "chili<br>coconut<br>fish sauce<br>jackfruit<br>milk<br>pork"
          ],
          [
           "chicken<br>egg<br>mirin<br>rice<br>sesame seed<br>soy sauce"
          ],
          [
           "basil<br>beef<br>carrot<br>oregano<br>pasta<br>thyme<br>tomato"
          ],
          [
           "chicken<br>lemon<br>rosemary<br>vegetable"
          ],
          [
           "chili<br>lemon<br>lemon lime soda<br>soy sauce"
          ],
          [
           "bay leaf<br>peppercorn<br>pork<br>soy sauce"
          ],
          [
           "beef<br>cinnamon<br>ginger<br>ice"
          ],
          [
           "coconut<br>fish sauce<br>ginger<br>milk<br>shrimp<br>spinach"
          ],
          [
           "bread<br>chili<br>wine vinegar<br>yogurt"
          ],
          [
           "avocado<br>chili<br>cilantro<br>lime<br>plum tomato"
          ],
          [
           "bay leaf<br>fish<br>pepper corn<br>soy sauce<br>vinegar"
          ],
          [
           "chicken<br>fish sauce<br>nutmeg<br>soy sauce<br>wine"
          ],
          [
           "anchovy<br>fish sauce<br>malunggay<br>mung bean<br>plum tomato"
          ],
          [
           "soy sauce<br>string bean<br>tofu<br>vinegar"
          ],
          [
           "banana blossom<br>chicken<br>chicken broth<br>fish sauce<br>malunggay"
          ],
          [
           "banana<br>cabbage<br>peppercorn<br>pork<br>potato"
          ],
          [
           "chicken<br>chili<br>coconut<br>ginger<br>milk<br>pea<br>potato<br>tomato"
          ],
          [
           "chili<br>coconut cream<br>fish sauce<br>ginger<br>salmon<br>vinegar"
          ],
          [
           "beef broth<br>bell pepper<br>cabbage<br>pork"
          ],
          [
           "beef<br>coconut<br>ginger<br>milk<br>serrano pepper<br>shrimp"
          ],
          [
           "beef<br>bell pepper<br>cornstarch<br>soy sauce<br>wine"
          ],
          [
           "bay leaf<br>beef<br>peppercorn<br>soy sauce<br>vinegar"
          ],
          [
           "beef<br>chili<br>miki pasta<br>vegetable oil"
          ],
          [
           "celery<br>dijon mustard<br>dill<br>egg<br>mayonnaise"
          ],
          [
           "apple<br>beef broth<br>pork<br>rosemary<br>thyme"
          ],
          [
           "bell pepper<br>cornstarch<br>oyster sauce<br>pork<br>scallion<br>soy sauce<br>wine"
          ],
          [
           "cabbage<br>chicken<br>chicken broth<br>fish sauce<br>ginger<br>peppercorn<br>potato"
          ],
          [
           "chicken broth<br>corn<br>jicama<br>vegetable<br>wine"
          ],
          [
           "ginger<br>pork<br>pork sauce<br>soy sauce"
          ],
          [
           "basil<br>lemon<br>parsley<br>tomato<br>wine vinegar"
          ],
          [
           "pork<br>soy sauce<br>tofu<br>vinegar"
          ],
          [
           "beef<br>bread crumb<br>egg<br>ketchup<br>milk<br>mustard<br>pork<br>soy sauce"
          ],
          [
           "chicken<br>ginger<br>mung bean<br>scallion<br>sesame oil<br>sesame seed<br>soy sauce<br>wine"
          ],
          [
           "beef broth<br>pasta<br>pork<br>tomato<br>tomato sauce"
          ],
          [
           "butter<br>chicken<br>corn<br>ginger<br>lemon<br>sesame oil<br>soy sauce"
          ],
          [
           "beef broth<br>chayote<br>fish sauce<br>pork<br>rice<br>spinach"
          ],
          [
           "basil<br>beef<br>chili<br>fish sauce"
          ],
          [
           "almond<br>celery<br>cream<br>mayonnaise<br>pickle<br>potato"
          ],
          [
           "dijon mustard<br>mayonnaise<br>parsley<br>pork<br>potato<br>soy sauce"
          ],
          [
           "beef<br>carrot<br>celery<br>flour<br>potato<br>wine"
          ],
          [
           "basil<br>chicken<br>chili<br>fish sauce"
          ],
          [
           "bay leaf<br>mussel<br>peppercorn<br>soy sauce<br>vinegar"
          ],
          [
           "coconut<br>fish<br>fish sauce<br>knob ginger<br>milk<br>serrano pepper"
          ],
          [
           "annatto<br>cabbage<br>eggplant<br>fish sauce<br>peanut<br>peanut butter<br>pork<br>shrimp<br>string bean"
          ],
          [
           "chili<br>coconut<br>fish sauce<br>ginger<br>milk<br>mussel<br>spinach"
          ],
          [
           "corn<br>egg<br>fish<br>fish sauce<br>flour<br>scallion<br>tomato"
          ],
          [
           "cinnamon<br>nutmeg<br>oregano<br>pork<br>thyme<br>wine"
          ],
          [
           "ketchup<br>lemon<br>pork<br>soy sauce"
          ],
          [
           "berry<br>dijon mustard<br>orange<br>spinach<br>vinegar<br>walnut"
          ],
          [
           "sesame oil<br>spinach<br>tofu<br>vegetable oil"
          ],
          [
           "chicken<br>lemon<br>parsley<br>rosemary<br>thyme"
          ],
          [
           "bay leaf<br>chili<br>oyster sauce<br>peppercorn<br>pork<br>soy sauce<br>vinegar"
          ],
          [
           "bell pepper<br>broccoli<br>carrot<br>rice"
          ],
          [
           "ginger<br>ketchup<br>sake<br>soy sauce"
          ],
          [
           "butter<br>lemon<br>lobster<br>parsley"
          ],
          [
           "bell pepper<br>oyster sauce<br>parsley<br>pea<br>soy sauce"
          ],
          [
           "chili sauce<br>fish sauce<br>knob ginger<br>sesame oil<br>soy sauce"
          ],
          [
           "basil<br>beef<br>egg<br>tomato"
          ],
          [
           "apple<br>chicken<br>lemon<br>mayonnaise"
          ],
          [
           "beef broth<br>carrot<br>pork rib<br>thyme<br>wine"
          ],
          [
           "egg<br>rice<br>sausage<br>soy sauce"
          ],
          [
           "carrot<br>chicken<br>egg<br>parsley<br>sesame oil<br>spring wrapper"
          ],
          [
           "beef<br>cumin<br>parsley<br>rice"
          ],
          [
           "bay leaf<br>cornstarch<br>flour<br>peppercorn<br>sherry<br>soy sauce<br>wine vinegar"
          ],
          [
           "apple<br>butter<br>oregano<br>pork<br>rosemary<br>thyme"
          ],
          [
           "bay leaf<br>egg<br>oyster sauce<br>pepper corn<br>pork<br>sherry<br>soy sauce<br>vinegar"
          ],
          [
           "butter<br>cheese<br>lemon<br>potato"
          ],
          [
           "butter<br>lime<br>rosemary<br>thyme<br>turkey<br>wine"
          ],
          [
           "bell pepper<br>carrot<br>cornstarch<br>ketchup<br>pineapple<br>vinegar"
          ],
          [
           "chicken<br>chili<br>egg<br>flour"
          ],
          [
           "fish<br>ginger<br>scallion<br>sesame oil<br>sherry<br>soy sauce"
          ],
          [
           "bean<br>bell pepper<br>broccoli<br>squash<br>vegetable broth"
          ],
          [
           "ginger<br>pea<br>spinach<br>tomato<br>vegetable broth"
          ],
          [
           "beer<br>bread<br>butter<br>chili<br>sausage"
          ],
          [
           "bell pepper<br>carrot<br>cornstarch<br>ketchup<br>pineapple<br>soy sauce<br>tofu<br>vinegar"
          ],
          [
           "bay leaf<br>pepper corn<br>pork<br>potato<br>soy sauce<br>vinegar"
          ],
          [
           "bean<br>chili<br>coconut<br>milk<br>pork<br>shrimp"
          ],
          [
           "broccoli<br>butter<br>carrot<br>cauliflower<br>rice<br>soy sauce"
          ],
          [
           "bell pepper<br>chili<br>cilantro<br>jicama<br>lime<br>mango<br>pork"
          ],
          [
           "chili<br>ginger<br>ketchup<br>scallion<br>sherry wine<br>soy sauce"
          ],
          [
           "bay leaf<br>oyster sauce<br>pork<br>soy sauce<br>vinegar"
          ],
          [
           "carrot<br>ginger<br>pork<br>sesame oil<br>spring wrapper"
          ],
          [
           "ginger<br>lemongrass<br>malunggay<br>okra<br>papaya<br>rice<br>squash<br>tomato"
          ],
          [
           "ginger<br>potato<br>tomato<br>vinegar"
          ],
          [
           "butter<br>cheese<br>linguine<br>mussel<br>parsley<br>wine"
          ],
          [
           "cheese<br>grape tomato<br>lemon<br>salmon<br>vinegar"
          ],
          [
           "celery<br>chicken<br>lemon<br>thyme"
          ],
          [
           "cabbage<br>carrot<br>egg<br>ginger<br>pasta<br>pork<br>soy sauce"
          ],
          [
           "cheese<br>cream<br>paprika<br>pork<br>potato"
          ],
          [
           "bell pepper<br>chicken<br>ginger<br>lemon<br>sesame oil<br>soy sauce"
          ],
          [
           "chicken<br>chicken broth<br>cornstarch<br>egg<br>ginger<br>kernel corn<br>sesame oil<br>soy sauce"
          ],
          [
           "cornstarch<br>pork rib<br>sherry<br>spice"
          ],
          [
           "bay leaf<br>chili<br>cinnamon<br>ginger<br>lemon<br>milk<br>tomato"
          ],
          [
           "bitter gourd<br>bread<br>carrot<br>egg<br>paprika<br>pork"
          ],
          [
           "butter<br>chicken<br>chili<br>flour<br>paprika<br>sauce"
          ],
          [
           "bell pepper<br>fish<br>peppercorn<br>vinegar"
          ],
          [
           "bay leaf<br>chicken<br>chili<br>oyster sauce<br>peppercorn<br>soy sauce<br>vinegar"
          ],
          [
           "coconut<br>crab<br>fish sauce<br>milk<br>string bean"
          ],
          [
           "chili<br>fish<br>fish sauce<br>mustard<br>tomato"
          ],
          [
           "chicken<br>chicken broth<br>coconut<br>fish sauce<br>knob ginger<br>lemongrass<br>papaya"
          ],
          [
           "bell pepper<br>parsley<br>peppercorn<br>tomato<br>wine vinegar"
          ],
          [
           "bell pepper<br>egg<br>parsley<br>wine vinegar"
          ],
          [
           "beef<br>bell pepper<br>honey<br>soy sauce<br>wine vinegar"
          ],
          [
           "bell pepper<br>chicken<br>chili<br>cumin<br>lime<br>paprika"
          ],
          [
           "bay leaf<br>cheese<br>chili<br>oregano<br>parsley<br>tomato<br>tomato sauce"
          ],
          [
           "pork<br>shrimp<br>tomato<br>vinegar"
          ],
          [
           "chicken<br>chili<br>cumin<br>ginger<br>lemon<br>yogurt"
          ],
          [
           "cheese<br>chicken<br>spinach<br>thyme"
          ],
          [
           "beef<br>butter<br>corn<br>cream<br>mushroom"
          ],
          [
           "apple<br>apple vinegar<br>cabbage<br>carrot<br>honey<br>mayonnaise<br>parsley"
          ],
          [
           "bay leaf<br>chili<br>peppercorn<br>rice wine<br>soy sauce<br>vinegar"
          ],
          [
           "carrot<br>chicken<br>dijon mustard<br>grape tomato<br>wine vinegar"
          ],
          [
           "beef<br>beef broth<br>carrot<br>celery<br>thyme<br>wine"
          ],
          [
           "bean<br>dijon mustard<br>dill<br>potato<br>wine vinegar"
          ],
          [
           "bean<br>cheese<br>dill<br>wine vinegar"
          ],
          [
           "basil<br>cheese<br>chicken<br>cumin<br>oregano"
          ],
          [
           "chili<br>fish sauce<br>pork<br>tamarind<br>vinegar<br>wine"
          ],
          [
           "chili<br>gourd<br>knob ginger<br>peppercorn<br>vinegar"
          ],
          [
           "chicken<br>fish sauce<br>ginger<br>lemon<br>oyster sauce<br>soy sauce"
          ],
          [
           "apple<br>celery<br>chicken broth<br>cream<br>mayonnaise<br>walnut"
          ],
          [
           "cabbage<br>ginger<br>oyster sauce<br>sesame oil<br>soy sauce<br>vegetable oil"
          ],
          [
           "chili<br>fish<br>ginger<br>lemon"
          ],
          [
           "beef<br>chili<br>ginger<br>lemon<br>oxtail"
          ],
          [
           "butter<br>celery<br>chicken<br>lemon<br>thyme"
          ],
          [
           "chicken<br>chicken broth<br>fish sauce<br>knob ginger<br>pork<br>spinach"
          ],
          [
           "chili<br>cilantro<br>fish sauce<br>lemongrass<br>lime<br>mushroom<br>shrimp<br>tamarind<br>tomato"
          ],
          [
           "chili<br>ginger<br>peppercorn<br>vinegar"
          ],
          [
           "pork<br>soy sauce<br>string bean<br>vinegar"
          ],
          [
           "pork<br>rice wine<br>soy sauce<br>spice"
          ],
          [
           "chili<br>fish<br>ginger<br>lemon<br>vinegar"
          ],
          [
           "bay leaf<br>chili<br>goat<br>soy sauce<br>vinegar"
          ],
          [
           "banana<br>bay leaf<br>carrot<br>peppercorn<br>pork<br>soy sauce<br>vinegar"
          ],
          [
           "carrot<br>crab<br>egg<br>pork<br>sesame oil<br>wonton wrapper"
          ],
          [
           "chili<br>sesame oil<br>soy sauce<br>vinegar"
          ],
          [
           "bay leaf<br>butter<br>chicken<br>lemon<br>potato<br>soy sauce<br>tomato sauce"
          ],
          [
           "beef broth<br>egg<br>fish sauce<br>knob ginger<br>lemon<br>oxtail<br>rice<br>scallion"
          ],
          [
           "banana blossom<br>bay leaf<br>bean<br>peppercorn<br>pineapple<br>pork<br>soy sauce<br>vinegar"
          ],
          [
           "basil<br>cheese<br>pasta<br>tomato"
          ],
          [
           "cornstarch<br>ketchup<br>soy sauce<br>vinegar"
          ],
          [
           "cream<br>lemon<br>mayonnaise<br>shrimp"
          ],
          [
           "cream<br>cream cheese<br>dill<br>egg<br>mustard<br>paprika<br>salmon"
          ],
          [
           "chicken<br>chili<br>coconut<br>ginger<br>milk<br>papaya<br>paprika<br>spinach"
          ],
          [
           "bell pepper<br>carrot<br>ginger<br>papaya<br>peppercorn<br>raisin<br>vinegar"
          ],
          [
           "bay leaf<br>pepper corn<br>pork<br>vinegar"
          ],
          [
           "cilantro<br>fish<br>ginger<br>lemon"
          ],
          [
           "ketchup<br>lemon<br>pork<br>soy sauce"
          ],
          [
           "basil<br>beef<br>cheese<br>egg<br>parsley<br>pasta<br>tomato<br>tomato sauce"
          ],
          [
           "butter<br>chicken<br>chili<br>knob ginger<br>lemon<br>mayonnaise<br>pork<br>soy sauce"
          ],
          [
           "carrot<br>corn<br>mushroom<br>oyster sauce<br>peas<br>soy sauce"
          ],
          [
           "chili<br>coconut<br>crab<br>fish sauce<br>ginger<br>milk<br>shrimp<br>spinach"
          ],
          [
           "chicken<br>cornstarch<br>egg<br>flour<br>orange<br>soy sauce<br>vinegar"
          ],
          [
           "chicken<br>fish sauce<br>ginger<br>papaya<br>rice"
          ],
          [
           "banana<br>bell pepper<br>chili<br>chocolate<br>cinnamon<br>ketchup<br>paprika<br>vinegar"
          ],
          [
           "bean<br>cornstarch<br>egg<br>fish<br>parsley"
          ],
          [
           "cheese<br>ketchup<br>pasta<br>pork<br>tomato sauce"
          ],
          [
           "bean<br>chicken<br>chili<br>cornstarch<br>ginger<br>oyster sauce<br>soy sauce"
          ],
          [
           "beef<br>mushroom<br>oyster sauce<br>potato<br>tomato sauce"
          ]
         ],
         "hovertemplate": "<b>%{hovertext}</b><br><br>cluster=3<br>x=%{x}<br>y=%{y}<br>z=%{z}<br>cleaned_ingredients=%{customdata[0]}<extra></extra>",
         "hovertext": [
          "Dinakdakan",
          "Chinese Boiled Peanuts",
          "BBQ Pork Ears",
          "Fried Eggplant (Crispy Fritters / Talong Okoy)",
          "Stir Fry Eggplant Recipe",
          "Ham Fried Rice",
          "Egg Fried Rice Recipe",
          "Cheesy Lumpiang Shanghai",
          "Truffle Mushroom Pasta",
          "Pork Belly with Boiled Eggs in Oyster Sauce",
          "Garlic Mushroom",
          "Garlic Tokwa and Kangkong in Oyster Sauce",
          "Fried Chicken Potato Salad",
          "Oven BBQ Spareribs",
          "Pinoy Breakfast Omelet and Bacon Garlic Fried Rice",
          "Pepper Pork Belly Recipe",
          "Cheese Pimiento Sandwich",
          "Kare Kare Buntot ng Baka",
          "Relyenong Talong with Tuna",
          "Sinarsahang Pork Ribs",
          "Loco Moco Recipe",
          "Orange Crispy Burger",
          "Not Your Ordinary Chicken Adobo",
          "Crispy Pata Dinakdakan",
          "Ham and Chicken Macaroni Salad",
          "Fried Chicken with Mayo Garlic Glaze",
          "Garlic Pepper Beef",
          "Quick and Easy Pan-Fried Pork Chops",
          "Perfect Chicken Adobo on a Budget",
          "Pork Adobo Recipe",
          "Tokwat Baboy Recipe",
          "Betamax Recipe",
          "Filipino Style Escabeche",
          "Baked Garlic Salmon and Easy Tofu Sisig",
          "Kilawing Kambing",
          "Chicken Gising-gising",
          "Pork Giniling with Oyster Sauce",
          "Tapa and Egg Fried Rice",
          "Chili Garlic Oil Recipe",
          "Filipino Style Pork and Chicken Barbecue",
          "Macaroni Salad",
          "Inihaw na Liempo at Pusit",
          "Spicy Eggplant Stir Fry Recipe",
          "Lengua Kare-Kare Recipe",
          "Estofado Recipe (Probinsya Style)",
          "Most Delicious Pork Adobo Recipe",
          "Paksiw na Pata",
          "Tochong Bangus",
          "Crispy Bagnet Recipe",
          "Homemade Lechon Paksiw",
          "Sizzling Tofu Sisig",
          "Creamy Macaroni Salad Recipe",
          "Callos Recipe",
          "Kakaibang Tokwat Baboy",
          "Kalderetang Kambing",
          "Creamy Baked Salmon",
          "Vegetable Okoy",
          "Garlic Roast Chicken",
          "Crispy Ulo and Lechon Sauce",
          "Masarsang Menudo",
          "Almondigas Recipe",
          "Beef Salpicao",
          "Pancit Chami Tamis Anghang Recipe",
          "Pork Chao Fan Recipe",
          "Ketchup Fried Chicken",
          "Laswa Recipe",
          "Java Rice with Pork chop",
          "Father’s Day Chicken Macaroni Salad",
          "Binagoongan Bagnet with Talong",
          "Nagmamantikang Pork Adobo",
          "Pinaputok na Tilapia Recipe",
          "Binagoongang Talong Recipe",
          "Air Fryer Crispy Pata",
          "Pork Menudo",
          "Bicol Express Gising-gising",
          "Chicken Afritada Recipe",
          "Chicken Paksiw",
          "Chicken Igado Recipe",
          "Filipino Chicken Macaroni Salad Recipe",
          "Bicol Express Recipe",
          "Chicken Binagoongan",
          "Pork Dinuguan Isaw at Tenga ng Baboy",
          "Ginisang Labanos Recipe",
          "Sweet and Sour Chicken Meatballs",
          "How to Cook Crispy Eggplant Fries",
          "Filipino Vinegar Dipping Sauce",
          "Beef Pares Kanto Style",
          "How to Make Authentic Carbonara",
          "Chicken Kare-kare sa Gata",
          "Humba Recipe (Bisaya Version)",
          "Spicy Sotanghon Chicken Soup",
          "Beef Stir Fry",
          "Pininyahang Manok",
          "Pork Sisig",
          "Pininyahang Manok sa Gata",
          "Tokwa at Baboy Humba",
          "Chicken Feet in Oyster Sauce with Salted Black Beans",
          "Beef Asado",
          "Killer Chicken Adobo",
          "Easy Beef Nachos",
          "Sweet and Sour Tilapia",
          "Spare Ribs Hamonado",
          "Coke Pork Adobo",
          "Salmon Sisig",
          "Seafood Curry",
          "Sprite Pork Adobo Recipe",
          "Max’s Style Fried Chicken with Kamote Fries",
          "Sinantomas",
          "Ginataang Sapsap",
          "Chicken Potato Salad",
          "Saucy Beef with Broccoli",
          "Sardines Fish Ball with Sweet and Sour Sauce",
          "Chicken and Liver Adobo",
          "Adobong Manok sa Buko",
          "Adobong Manok sa Gata",
          "Beef and Baby Corn Stir Fry Recipe",
          "Sinanglay na Tilapia Recipe",
          "Low-Carb Breaded Pinatisang Baboy",
          "Shrimp Laing Recipe",
          "Beef Hinalang Recipe",
          "Crispy Pork Binagoongan",
          "Easy Adobong Pusit Recipe",
          "Creamy Garlic Parmesan Chicken with Mushrooms",
          "Garlic Butter Shrimp Recipe",
          "Tuyo Pesto Spaghetti Pasta",
          "Ginataang Tulingan",
          "Longanisa Lumpiang Shanghai",
          "Pork Barbecue",
          "Sizzling Crispy Sisig",
          "No Bake Filipino Style Lasagna",
          "Yang Chow Fried Rice Recipe",
          "Pinoy Fried Chicken",
          "Ginataang Manok with Papaya",
          "Chicken Liver and Gizzard Stew with Quail Eggs and Snap Peas",
          "Steamed Fish with Mayonnaise",
          "Lechon Belly Roll",
          "Pinoy Style Pork and Chicken Curry",
          "Crispy Dinakdakan",
          "Crispy Dinuguan",
          "Easy Chicken Adobo Recipe",
          "Longanisa Fried Rice and Ginisang Corned Beef with Kalabasa",
          "Pork Adobo with Tokwa and Tausi and Garlic Fried Rice Adobo",
          "Bangus Sisig",
          "Sweet and Sour Pork Recipe",
          "Chicken Adobo Fried Rice and Tortang Corned Beef",
          "Asian Beef with Mushroom",
          "Pork and Chicken Adobo Recipe",
          "Red Wine Beef Stew",
          "Paksiw na Pata Recipe",
          "Galbi Recipe",
          "Paklay Recipe",
          "Chicken Lumpia",
          "Ginisang Togue Recipe",
          "Creamy Garlic Salmon",
          "Sarciadong Manok",
          "Rellenong Pusit",
          "Seared Shrimp Macaroni Salad with Roasted Bell Pepper",
          "Easy Liempo Inihaw",
          "Ginataang Mackerel",
          "Dynamite Lumpia",
          "Inihaw na Bangus Recipe (Grilled Milkfish)",
          "Eggplant Salad",
          "Tapsilog",
          "Inasal Recipe",
          "Ginisang Monggo with Dilis",
          "Crispy Pata Recipe",
          "Sipo Eggs Recipe",
          "Ginataang Tilapia",
          "Pork Dumpling",
          "Easy Chicken Adobo",
          "Pork Binagoongan Recipe",
          "Deep Fried Siomai",
          "Beef with Broccoli",
          "Ampalaya Con Carne Recipe",
          "Lumpia Recipe",
          "Chicken Tinola Recipe",
          "Chicken Adobo",
          "Super Crispy Pata with Yummy Sawsawan",
          "Embutido Recipe",
          "Sisig Recipe",
          "Lumpiang Shanghai Recipe",
          "Filipino Pork Menudo Recipe",
          "Mongolian Beef Recipe",
          "Paksiw na Bangus Recipe",
          "Pork Dinakdakan Recipe",
          "Buffalo Chicken Wings Recipe with Sauce",
          "Ginataang Baka – Beef in Coconut Milk with Green Beans and Spinach",
          "Sizzling Liempo Sisig",
          "Shrimp with Butter and Taba ng Talangka Recipe",
          "Chicharon Bulaklak with Spicy Vinegar",
          "Pata at Hipon sa Gata na May Monggo at Langka",
          "Classic Macaroni Salad Recipe",
          "7Up Chicken Asado",
          "Estofadong Baboy",
          "Paksiw na Salmon sa Gata",
          "Chicken Inasal BBQ Recipe",
          "Adobong Baboy sa Gata (Pork Adobo in Coconut Milk)",
          "Popcorn Chicken Recipe",
          "Putok Batok Crispy Pata Slices",
          "Ginisang Ampalaya na May Itlog at Hipon (Sauteed Bitter Melon with Egg and Shrimp)",
          "Beef Tinola Recipe",
          "Pork Ginataan",
          "Picadillo Recipe",
          "Tinolang Manok sa Upo",
          "Lechon Belly Pork Adobo Recipe",
          "Baked Salmon with Lemon Garlic and Butter",
          "Stuffed Beef and Pork Burger Patties",
          "Crispy Lechon Belly Recipe",
          "Butter Garlic Shrimp and Squid",
          "Crispy Pata",
          "Homemade Cured Ham with Brown Sugar Honey Glaze",
          "Filipino Pork Menudo Recipe",
          "Noche Buena Lumpiang Shanghai",
          "Paksiw na Lechon Kawali",
          "Beef Pot Roast",
          "Pork Chop Steak ala Bistek",
          "Sizzling Tuna Sisig",
          "Extremely Spicy Pork Adobo na Tuyo",
          "Gotong Batangas Recipe",
          "Chicken Adobo sa Gata",
          "Tortang Talong with Ground Pork Recipe",
          "Sizzling Tofu",
          "Grilled Stuffed Squid (inihaw na pusit)",
          "Sous Vide Chicken Adobo",
          "Bulalo Beef Pares Recipe",
          "Sausage Peppers and Onion Skillet",
          "Pork Pata Humba Recipe",
          "Chicken Adobo with Egg",
          "Chili Garlic Butter Shrimp Recipe",
          "Adobong Pusit sa Gata",
          "Stir Fried Pepper Steak",
          "Pata Paksiw Recipe",
          "Adobong Sitaw with Lechon Kawali",
          "Pork Adobo with Sitaw",
          "Binakol na Manok Recipe",
          "Chicken Macaroni Soup",
          "Classic Tinolang Manok Recipe",
          "Seared Scallops in Herbed Butter Sauce Recipe",
          "Poached Tilapia in Sour Broth",
          "Pork Tenderloin Salpicao",
          "Fried Tilapia in Coconut Milk (Ginataang Tilapia)",
          "Basic Pork Adobo Recipe",
          "Dill Dip Recipe",
          "Crispy Tenga Recipe (Crispy Pig Ears)",
          "Nilasing na Tilapia Recipe",
          "Pinakbet with Lechon Kawali",
          "Tinolang Isda",
          "Inihaw na Pusit with Scallion",
          "Inihaw na Panga ng Tuna (Grilled Tuna Jaw)",
          "Fresh Basil and Sun Dried Tomato Spaghetti Pasta",
          "Kinilaw na Tanigue Recipe (Fish Ceviche)",
          "Dinengdeng with Fried Fish Recipe",
          "Ginisang Munggo with Tinapa and Fried Red Snapper",
          "Kilawing Kambing Recipe",
          "Tinapa Fried Rice (Smoked Fish Fried Rice)",
          "Beef Stir Fry in Oyster Sauce with Ampalaya",
          "Chili Crab with String Beans",
          "Pancit Molo Recipe",
          "How to Cook Lumpia",
          "Excursion Chicken and Pork Adobo",
          "How to Cook Ginataang Langka with Tinapa Flakes",
          "Classic Beef with Broccoli Recipe",
          "Inihaw na Isaw ng Baboy",
          "Ginataang Yellow Fin Tuna",
          "Adobong Baboy with Boiled Egg",
          "How to Cook Papaya Atchara",
          "Utan Bisaya",
          "Sinigang na Lapu lapu sa Miso",
          "Lemon Garlic Butter Salmon with spring salad Recipe",
          "Adobong Pata (Ham Hock Adobo)",
          "Beer Marinated Grilled Chicken Breast Inasal",
          "Easy Pork Hamonado",
          "Chicken Halang-halang Recipe",
          "Sausage, Liver, and Pork Stew",
          "Pork Ginataan with Squash and String Beans",
          "Pork and Kangkong Guisado",
          "Beer and Cilantro Marinated Prawn",
          "Crispy Pata Sisig Recipe",
          "Apple Snails in Coconut Milk (Ginataang Kuhol)",
          "Beef and Mushroom Braised Stew",
          "Pork BBQ Fried Rice",
          "Drunken Mussels Recipe",
          "Oven Roasted BBQ Chicken Recipe",
          "Grilled Stuffed Tilapia Recipe",
          "Chicken Liver and Gizzard Adobo",
          "Deviled Egg Recipe",
          "Crock Pot Pork Adobo",
          "Ensaladang Filipino Recipe",
          "Adobo Meatballs Recipe",
          "Mahi-Mahi Paksiw Recipe",
          "Pork Tapa with Fried Banana and Salted Egg",
          "Sirloin Tip Roast Recipe",
          "Orange Glazed Pork",
          "Homemade Ranch Dressing Recipe",
          "Sarciadong Itlog Recipe",
          "Easy Fish with Tausi Recipe",
          "Chicken with Oyster Sauce Stir Fry",
          "Kangkong in Oyster Sauce Recipe",
          "Quick and Easy Beef and Pepper Stir Fry",
          "Relyenong Tahong (Stuffed Mussels)",
          "Beef and Broccoli Stir Fry",
          "Filipino Roasted Chicken Pandan Recipe",
          "Lechon Pata Recipe",
          "Laing Recipe",
          "Pork Kilawin",
          "Adobong Hipon sa Gata",
          "Egg Drop Soup",
          "Chicken Wings Inasal Recipe",
          "Crock Pot Beef Stew Sandwich",
          "Dinakdakan Recipe",
          "Orange Chicken Recipe",
          "Pulled Pork Crock Pot Recipe",
          "Inun unan Recipe (Fish cooked in Vinegar)",
          "Liempo Estofado Recipe",
          "Flank Steak Marinade",
          "Beef Kebab Recipe",
          "Sweet Chicken Asado Recipe",
          "Special Goto Recipe",
          "Ginataang Langka with Pork Recipe",
          "Chicken Teriyaki, Brown Rice, and Sunny Side Up Egg Recipe",
          "How to Make Spaghetti with Meat Sauce",
          "Rosemary Baked Chicken Recipe with Vegetables",
          "Recipe for Barbecue Chicken Marinade",
          "Adobo Pork Chops",
          "Brined Roast Beef",
          "Snails with Spinach in Coconut Milk Recipe",
          "Chicken Pita",
          "How to Make Homemade Guacamole",
          "Fish Adobo",
          "Spring Fried Chicken",
          "Monggo Guisado with Dilis and Malunggay (Mung Bean Stew with Dried Anchovies)",
          "Adobong Sitaw with Tofu",
          "Kinamunggayang Manok Recipe",
          "Nilagang Baboy (Boiled Pork Soup)",
          "Easy Chicken Curry",
          "Ginataang Salmon Recipe",
          "Ginisang Repolyo",
          "Beef Bicol Express",
          "Pepper Steak",
          "Adobong Bulalo",
          "Shingaling Recipe",
          "Easy Egg Salad Recipe",
          "Apple Pork Pot Roast",
          "Pork Stir Fry with Scallions",
          "Pesang Manok (Chicken Soup in Ginger Broth)",
          "Baby Corn Ham and Jicama Stir Fry",
          "Higadillo Recipe (Pork and Liver Stew)",
          "Chickpea Salad",
          "Special Tokwat Baboy",
          "Easy Meatloaf Recipe",
          "Bean Sprout Chicken",
          "Jollibee Style Spaghetti",
          "Asian Grilled Chicken and Corn",
          "Pork Tinola Recipe",
          "Basil Beef Recipe",
          "Curried Potato Salad",
          "Grilled Potato Salad",
          "Slow Cooker Beef Stew",
          "Basil Chicken Recipe",
          "Adobong Tahong Recipe (Mussels Adobo)",
          "Ginataang Galunggong Recipe",
          "Pata Kare-kare Recipe",
          "Ginataang Tahong",
          "Fish Kardilyo Recipe",
          "Baked Pork Tenderloin with Peaches",
          "Filipino BBQ Pork Chop Recipe",
          "Strawberry Mandarin and Spinach Salad in Balsamic Vinaigrette Dressing",
          "Sauteed Spinach with Tofu",
          "Roasted Chicken Quarter Recipe",
          "Spicy Pork Adobo Recipe",
          "Vegetable Fried Rice Recipe",
          "Tonkatsu Sauce",
          "Baked Lobster Tail Recipe",
          "Easy Ham and Green Peas Saute",
          "Chili Shrimp Recipe",
          "Ground Beef Basil and Tomato Frittata",
          "Chicken Salad with Apples and Grapes",
          "Braised Pork Ribs Recipe",
          "Longganisa Fried Rice",
          "Chicken Spring Roll Recipe",
          "Carne Asada Fried Rice",
          "Crispy Shrimp Adobo Recipe",
          "Apple Glazed Pork Chop Recipe",
          "Pork Adobo with Boiled Eggs",
          "Roasted Garlic Parmesan Red Potato",
          "Baked Turkey Breast",
          "Easy Sweet and Sour Ikea Meatbal",
          "Popcorn Chicken",
          "Steamed Fish with Scallions and Ginger",
          "Healthy Vegetable Soup",
          "Chickpea and Spinach Curry",
          "Beer Brats Recipe",
          "Sweet and Sour Tofu",
          "Pork Adobo with Potato Recipe",
          "Gising gising Recipe (Green bean with Pork in Coconut milk)",
          "Shrimp and Vegetable Fried Rice Recipe",
          "Grilled Pork Chop with Mango Salsa",
          "Sweet and Spicy Shrimp Stir Fry",
          "Pork Adobo with Tofu Recipe",
          "Spring Rolls Recipe",
          "Bulanglang Recipe",
          "Sweet Potato Leaves Salad Recipe",
          "Linguine with Mussels Recipe",
          "Baked Salmon Recipe",
          "Oven Baked Chicken Recipe",
          "Egg Roll",
          "Baked Potato Skin Recipe",
          "Asian Chicken Stir Fry Recipe",
          "Chicken and Corn Soup",
          "Crispy Five Spice Spare Ribs",
          "Beef Curry Recipe",
          "Stuffed Ampalaya",
          "Buffalo Chicken Wings Recipe",
          "Fish Escabeche Recipe",
          "Chicken Feet Adobo",
          "Ginataang Sitaw at Kalabasa with Crabs Recipe",
          "Sinigang na Bangus sa Miso",
          "Chicken Binakol",
          "Round Steak in Criolla Sauce Recipe",
          "How to Make Lengua a la Vinagreta",
          "Adobo Steak Recipe",
          "Chicken Fajita Recipe",
          "Marinara Sauce Recipe",
          "Bagoong Guisado Recipe",
          "Tandoori Chicken Recipe",
          "Grilled Chicken and Spinach Salad Recipe",
          "Sizzling Bulalo Recipe",
          "Apple Coleslaw Recipe",
          "Adobong Isaw Recipe",
          "Grilled Chicken Salad",
          "Braised Beef",
          "Potato and Green Bean Salad Recipe",
          "Green Bean Salad with Feta and Dill Recipe",
          "Garlic Parmesan Chicken Wings Recipe",
          "Dinuguan Laman-Loob Recipe (Blood Stew)",
          "Paksiw na Isda Recipe",
          "Chicken Pandan",
          "Tarragon Chicken Salad",
          "Bok Choy in Garlic Sauce",
          "Kinilaw na Dulong",
          "Papaitan Recipe",
          "Roasted Chicken Recipe",
          "Pinatisang Manok",
          "How to Make Tom Yum Goong",
          "How to Make Sinamak",
          "Adobong Sitaw Recipe",
          "Pork Asado Recipe",
          "Kinilaw na Tuna",
          "Adobong Kambing Recipe",
          "Pork Estofado Recipe",
          "Pinsec Frito Recipe - Deep Fried Wonton",
          "Asian Dipping Sauce Recipe",
          "Chicken Asado",
          "Goto Recipe (Rice Porridge)",
          "Humba Recipe",
          "Spaghetti with Tomato and Basil",
          "Sweet and Sour Sauce Recipe",
          "Marinated Shrimp with Lemon Dill Sauce",
          "Deviled Egg with Salmon Recipe",
          "Ginataang Manok Recipe",
          "Atchara (Papaya)",
          "Grilled Isaw (Intestine) Recipe",
          "Easy Steamed Fish Recipe",
          "Inihaw na Liempo Recipe",
          "Homemade Lasagna Recipe",
          "Sisig Recipe",
          "Braised Vegetable Recipe",
          "Ginataang Alimasag Recipe",
          "Orange Chicken Recipe",
          "Chicken Tinola Recipe",
          "Banana Ketchup Recipe",
          "Fish Fillet with Tausi",
          "Pinoy Spaghetti Recipe",
          "Spicy Chicken Feet",
          "Lengua Estofada Recipe"
         ],
         "legendgroup": "3",
         "marker": {
          "color": "rgb(230, 131, 16)",
          "size": 5,
          "symbol": "circle"
         },
         "mode": "markers",
         "name": "3",
         "scene": "scene",
         "showlegend": true,
         "type": "scatter3d",
         "x": [
          0.8155211210250854,
          0.7845768332481384,
          0.8284549713134766,
          0.8596876859664917,
          0.8324929475784302,
          0.8845889568328857,
          0.8292033672332764,
          0.8737308979034424,
          0.7545338869094849,
          0.9060863256454468,
          0.7686012983322144,
          0.8347004055976868,
          0.8003974556922913,
          0.7850633859634399,
          0.747024655342102,
          0.8663688898086548,
          0.8074150681495667,
          0.8829954862594604,
          0.7683293223381042,
          0.8844928741455078,
          0.873638927936554,
          0.7836072444915771,
          0.8812337517738342,
          0.8232148885726929,
          0.753388524055481,
          0.7654841542243958,
          0.8365135788917542,
          0.7687585353851318,
          0.8443505764007568,
          0.7739560008049011,
          0.872732400894165,
          0.8571439981460571,
          0.8607652187347412,
          0.8466544151306152,
          0.8400822877883911,
          0.8000888824462891,
          0.8824492692947388,
          0.863883912563324,
          0.8094953894615173,
          0.8715857267379761,
          0.7415375113487244,
          0.8171067237854004,
          0.847265362739563,
          0.7982833385467529,
          0.8949184417724609,
          0.8026177883148193,
          0.8763787150382996,
          0.8460683822631836,
          0.7463133335113525,
          0.8722206354141235,
          0.8482887148857117,
          0.7234858274459839,
          0.8089986443519592,
          0.8196406960487366,
          0.9094983339309692,
          0.8209234476089478,
          0.8513540029525757,
          0.6994568705558777,
          0.8748561143875122,
          0.8833315968513489,
          0.9245812296867371,
          0.8162018060684204,
          0.8282501697540283,
          0.8942413330078125,
          0.8394744396209717,
          0.7575001120567322,
          0.8538506627082825,
          0.7293779850006104,
          0.8747087717056274,
          0.8592971563339233,
          0.8402783274650574,
          0.8511084318161011,
          0.8526597023010254,
          0.8904454708099365,
          0.8724893927574158,
          0.8916869163513184,
          0.8551054000854492,
          0.8635988235473633,
          0.8045676350593567,
          0.7579171657562256,
          0.8446958065032959,
          0.8526487350463867,
          0.8528034687042236,
          0.8424070477485657,
          0.8502416014671326,
          0.809760570526123,
          0.7992790937423706,
          0.7428512573242188,
          0.8231261372566223,
          0.7780941724777222,
          0.8547094464302063,
          0.8249890804290771,
          0.8604390025138855,
          0.8006513714790344,
          0.8976985812187195,
          0.8866707682609558,
          0.8412215709686279,
          0.8265194892883301,
          0.832988440990448,
          0.8244284391403198,
          0.8391240239143372,
          0.8359527587890625,
          0.6974197030067444,
          0.8220090866088867,
          0.8300296664237976,
          0.7775890827178955,
          0.8353362679481506,
          0.8498375415802002,
          0.7933722734451294,
          0.8111376166343689,
          0.8696439266204834,
          0.8580268025398254,
          0.8643059730529785,
          0.8728376030921936,
          0.8584194183349609,
          0.8336795568466187,
          0.7535800933837891,
          0.8012517690658569,
          0.8187692165374756,
          0.8399703502655029,
          0.8183855414390564,
          0.8136050701141357,
          0.829452633857727,
          0.7662296295166016,
          0.6718246936798096,
          0.8288687467575073,
          0.8974449634552002,
          0.8239731192588806,
          0.8118300437927246,
          0.7703888416290283,
          0.8768306970596313,
          0.8186461925506592,
          0.7698133587837219,
          0.9035508036613464,
          0.8220632672309875,
          0.8616797924041748,
          0.8492660522460938,
          0.805983304977417,
          0.8143060207366943,
          0.8497971892356873,
          0.8772670030593872,
          0.8628575205802917,
          0.8170548677444458,
          0.8611547946929932,
          0.8743047714233398,
          0.8433618545532227,
          0.8666089773178101,
          0.8072302341461182,
          0.8294151425361633,
          0.850699782371521,
          0.7860174179077148,
          0.8507941365242004,
          0.8306193947792053,
          0.843532919883728,
          0.8793449401855469,
          0.9150363206863403,
          0.8078064918518066,
          0.8549001216888428,
          0.8725622296333313,
          0.8703507781028748,
          0.7720571756362915,
          0.7769281268119812,
          0.8866241574287415,
          0.8025482892990112,
          0.750035285949707,
          0.7936808466911316,
          0.8843987584114075,
          0.8375098705291748,
          0.8430643677711487,
          0.8765448927879333,
          0.8225947618484497,
          0.8793947696685791,
          0.8519333600997925,
          0.8215296864509583,
          0.8669167160987854,
          0.8129150867462158,
          0.7797621488571167,
          0.7864629030227661,
          0.7993903756141663,
          0.8228460550308228,
          0.8663251399993896,
          0.8829615712165833,
          0.8320479989051819,
          0.7847666144371033,
          0.7690905332565308,
          0.7638961672782898,
          0.8775582313537598,
          0.8427897095680237,
          0.7697934508323669,
          0.8612312078475952,
          0.8719377517700195,
          0.8235547542572021,
          0.8893989324569702,
          0.8914428949356079,
          0.7928040027618408,
          0.7929364442825317,
          0.8247150182723999,
          0.8035761713981628,
          0.8973348140716553,
          0.8749366402626038,
          0.8913990259170532,
          0.855656623840332,
          0.8663454055786133,
          0.8694636821746826,
          0.8784606456756592,
          0.8019520044326782,
          0.8009781241416931,
          0.8329851031303406,
          0.8368800282478333,
          0.8361812829971313,
          0.8042319416999817,
          0.8895219564437866,
          0.897797703742981,
          0.8968597650527954,
          0.8209952116012573,
          0.8961760997772217,
          0.8060762882232666,
          0.8609976768493652,
          0.8548009395599365,
          0.803136944770813,
          0.8154505491256714,
          0.8713669776916504,
          0.8409528732299805,
          0.8676584959030151,
          0.9020046591758728,
          0.8243279457092285,
          0.8612492680549622,
          0.8991686701774597,
          0.8680583238601685,
          0.8757455348968506,
          0.8512720465660095,
          0.8866231441497803,
          0.8558334112167358,
          0.873184859752655,
          0.76008540391922,
          0.7827248573303223,
          0.8994254469871521,
          0.8491137027740479,
          0.7525261640548706,
          0.8475549221038818,
          0.8736987709999084,
          0.817375123500824,
          0.8119583129882812,
          0.8206163048744202,
          0.82920241355896,
          0.8346150517463684,
          0.8108444809913635,
          0.8269259929656982,
          0.7402127981185913,
          0.7448398470878601,
          0.7592335343360901,
          0.7658406496047974,
          0.8626061677932739,
          0.7948707342147827,
          0.8693379163742065,
          0.8074922561645508,
          0.8685216903686523,
          0.9115198850631714,
          0.898867130279541,
          0.8591426610946655,
          0.8381651639938354,
          0.8373404145240784,
          0.7174460291862488,
          0.8355076909065247,
          0.8572998642921448,
          0.7801581621170044,
          0.7809100151062012,
          0.7690265774726868,
          0.7768979072570801,
          0.8523005247116089,
          0.8443019986152649,
          0.8946845531463623,
          0.8825894594192505,
          0.8745051026344299,
          0.834601104259491,
          0.8958830833435059,
          0.7732169032096863,
          0.8756375312805176,
          0.8343809843063354,
          0.8715620040893555,
          0.843981146812439,
          0.8101187944412231,
          0.8354560136795044,
          0.860389769077301,
          0.882375180721283,
          0.7953909039497375,
          0.8440740704536438,
          0.731642484664917,
          0.869387686252594,
          0.8499022126197815,
          0.8894773721694946,
          0.7363067865371704,
          0.8341619372367859,
          0.8624438047409058,
          0.8959773182868958,
          0.8565621376037598,
          0.8301618099212646,
          0.8821244239807129,
          0.8433976173400879,
          0.8279640078544617,
          0.8469322919845581,
          0.8324236273765564,
          0.7816164493560791,
          0.818759024143219,
          0.8797052502632141,
          0.8138865828514099,
          0.8268641829490662,
          0.800813615322113,
          0.8980773091316223,
          0.8627759218215942,
          0.870191216468811,
          0.8574475049972534,
          0.7860842347145081,
          0.8797702789306641,
          0.8176480531692505,
          0.8853917717933655,
          0.8436723351478577,
          0.8783599138259888,
          0.905761182308197,
          0.7734712362289429,
          0.8235287666320801,
          0.8056017160415649,
          0.804699718952179,
          0.8606626987457275,
          0.7356651425361633,
          0.8749997615814209,
          0.8414947986602783,
          0.817000150680542,
          0.822729229927063,
          0.8332070112228394,
          0.9005488753318787,
          0.8952141404151917,
          0.9007843136787415,
          0.8139640688896179,
          0.8743466138839722,
          0.8512691259384155,
          0.8264920711517334,
          0.8797705769538879,
          0.8548623323440552,
          0.8337976336479187,
          0.8319480419158936,
          0.85373854637146,
          0.8001565933227539,
          0.8640971183776855,
          0.8283819556236267,
          0.8208203315734863,
          0.8840861916542053,
          0.7971992492675781,
          0.8801344633102417,
          0.8393430709838867,
          0.8922600746154785,
          0.8625234365463257,
          0.8581675887107849,
          0.8562189340591431,
          0.8829883337020874,
          0.8406494855880737,
          0.839392364025116,
          0.831993579864502,
          0.8873460292816162,
          0.8199370503425598,
          0.8671888709068298,
          0.8590975999832153,
          0.8936068415641785,
          0.8492918014526367,
          0.7514729499816895,
          0.8542323708534241,
          0.8378103971481323,
          0.7540373206138611,
          0.8285356163978577,
          0.8593968152999878,
          0.8801746964454651,
          0.7955838441848755,
          0.7727725505828857,
          0.890290379524231,
          0.8701701760292053,
          0.7742947936058044,
          0.7987115979194641,
          0.8153499960899353,
          0.8174211978912354,
          0.8684927225112915,
          0.818204402923584,
          0.8727171421051025,
          0.8269994854927063,
          0.8243227601051331,
          0.8451265096664429,
          0.7072319388389587,
          0.8679026961326599,
          0.8052324056625366,
          0.7876497507095337,
          0.7079967260360718,
          0.8673834800720215,
          0.7449198365211487,
          0.8739317655563354,
          0.8656789660453796,
          0.8625137805938721,
          0.8421188592910767,
          0.770905077457428,
          0.867800235748291,
          0.8840768337249756,
          0.767726719379425,
          0.6713910698890686,
          0.7091442346572876,
          0.7811447381973267,
          0.8166239261627197,
          0.8630056381225586,
          0.8729603886604309,
          0.8237319588661194,
          0.8610408306121826,
          0.8498440980911255,
          0.7947449684143066,
          0.8210439682006836,
          0.8309081196784973,
          0.8186342716217041,
          0.8545509576797485,
          0.8439574241638184,
          0.8644143342971802,
          0.8316411375999451,
          0.8682509064674377,
          0.8449578285217285,
          0.7928474545478821,
          0.8396496772766113,
          0.8175118565559387,
          0.8206969499588013,
          0.8032607436180115,
          0.8071509599685669,
          0.8286767601966858,
          0.8350327610969543,
          0.7978306412696838,
          0.8463771939277649,
          0.8353058099746704,
          0.8456255197525024,
          0.8013977408409119,
          0.8015470504760742,
          0.8041588068008423,
          0.8470674753189087,
          0.7734419703483582,
          0.8778719902038574,
          0.8061157464981079,
          0.7960702180862427,
          0.7221243381500244,
          0.7420447468757629,
          0.8478174209594727,
          0.8223331570625305,
          0.8186326026916504,
          0.7909631729125977,
          0.844835638999939,
          0.8459756374359131,
          0.7682666778564453,
          0.8730670809745789,
          0.8404278755187988,
          0.8833642601966858,
          0.7738122344017029,
          0.8966705203056335,
          0.910485565662384,
          0.7873243689537048,
          0.7913234829902649,
          0.7333253622055054,
          0.8494064807891846,
          0.8027970194816589,
          0.8513805866241455,
          0.7860630750656128,
          0.6031948328018188,
          0.604193389415741,
          0.8067632913589478,
          0.7534860372543335,
          0.8058602809906006,
          0.8263127207756042,
          0.8239391446113586,
          0.870191216468811,
          0.8001875877380371,
          0.8051725625991821,
          0.8848983645439148,
          0.8349487781524658,
          0.8287492990493774,
          0.8421452641487122
         ],
         "y": [
          -0.04158211871981621,
          -0.10818827897310257,
          -0.11228114366531372,
          -0.1762515753507614,
          -0.24723641574382782,
          -0.06145881488919258,
          -0.15057921409606934,
          -0.16855502128601074,
          -0.1556239277124405,
          -0.10242621600627899,
          -0.17197848856449127,
          -0.1535961925983429,
          -0.17333237826824188,
          -0.219791978597641,
          -0.08459264785051346,
          -0.07320879399776459,
          -0.21316055953502655,
          -0.07048505544662476,
          -0.13993242383003235,
          -0.06264562159776688,
          -0.06912283599376678,
          -0.10974401235580444,
          -0.20598895847797394,
          -0.22298015654087067,
          -0.12206476181745529,
          -0.2168668806552887,
          -0.13017095625400543,
          -0.1381532847881317,
          -0.15321758389472961,
          -0.12309584021568298,
          -0.18761169910430908,
          -0.07328198850154877,
          -0.2935149669647217,
          -0.21981950104236603,
          -0.14773395657539368,
          -0.03154987841844559,
          -0.08637174963951111,
          -0.22318103909492493,
          -0.25183406472206116,
          -0.15754519402980804,
          -0.16126061975955963,
          -0.24551834166049957,
          -0.2877262830734253,
          -0.1567973643541336,
          -0.10511812567710876,
          -0.24653315544128418,
          -0.19632071256637573,
          -0.13533098995685577,
          -0.30520638823509216,
          -0.11737377941608429,
          -0.22326332330703735,
          -0.14392659068107605,
          -0.08304092288017273,
          -0.12874718010425568,
          -0.09695662558078766,
          -0.14215639233589172,
          -0.22168278694152832,
          -0.1444787234067917,
          -0.2008190006017685,
          -0.06170385330915451,
          -0.19398340582847595,
          -0.15898288786411285,
          -0.16404521465301514,
          -0.09995562583208084,
          -0.33143919706344604,
          -0.05726126208901405,
          -0.21266043186187744,
          -0.10172246396541595,
          -0.14833229780197144,
          -0.21389184892177582,
          -0.1509716808795929,
          -0.1344737410545349,
          -0.1491696536540985,
          -0.18073886632919312,
          -0.15002089738845825,
          -0.08712475746870041,
          -0.06239417567849159,
          -0.20114201307296753,
          -0.15059363842010498,
          -0.22567330300807953,
          -0.204446479678154,
          -0.23487451672554016,
          -0.17198263108730316,
          -0.1565077304840088,
          -0.22690652310848236,
          -0.11599686741828918,
          -0.046283576637506485,
          -0.11052186042070389,
          -0.1471504271030426,
          -0.2840626537799835,
          -0.11562919616699219,
          -0.13477040827274323,
          -0.1365697830915451,
          -0.11505761742591858,
          -0.17336399853229523,
          -0.22420503199100494,
          -0.11618233472108841,
          -0.17456023395061493,
          -0.24804095923900604,
          -0.2120594084262848,
          -0.20543530583381653,
          -0.031089752912521362,
          -0.2848232388496399,
          -0.1382296085357666,
          -0.12400573492050171,
          -0.34265345335006714,
          -0.13341878354549408,
          -0.19831401109695435,
          -0.07082654535770416,
          -0.1827494502067566,
          -0.1201241984963417,
          -0.20307044684886932,
          -0.16757991909980774,
          -0.20017309486865997,
          -0.17301364243030548,
          -0.18617594242095947,
          -0.2675410211086273,
          -0.18587693572044373,
          -0.14469800889492035,
          -0.13044574856758118,
          -0.11687526106834412,
          -0.2064586877822876,
          -0.20977896451950073,
          -0.1533273160457611,
          -0.2249704897403717,
          -0.1520410180091858,
          -0.13812227547168732,
          -0.07650108635425568,
          -0.13892361521720886,
          -0.10383448749780655,
          -0.10038210451602936,
          -0.2147028148174286,
          -0.16849841177463531,
          -0.1752939522266388,
          -0.2554500997066498,
          -0.16945192217826843,
          -0.0795857310295105,
          -0.11713813245296478,
          -0.24268941581249237,
          -0.202945277094841,
          -0.202489972114563,
          -0.17800918221473694,
          -0.28704535961151123,
          -0.2598016858100891,
          -0.1683124452829361,
          -0.29213136434555054,
          -0.2940150797367096,
          -0.25446197390556335,
          -0.33224010467529297,
          -0.16248783469200134,
          -0.20090243220329285,
          -0.18067722022533417,
          -0.13575878739356995,
          -0.2009456306695938,
          -0.1186065822839737,
          -0.152671679854393,
          -0.1656460016965866,
          -0.06030549108982086,
          -0.0977364107966423,
          -0.21777039766311646,
          -0.23464950919151306,
          -0.1660831719636917,
          -0.14588238298892975,
          -0.21188236773014069,
          -0.2156030833721161,
          -0.2559715509414673,
          -0.21689943969249725,
          -0.11920301616191864,
          -0.1255866438150406,
          -0.15942896902561188,
          -0.03461340069770813,
          -0.16629117727279663,
          -0.08521971106529236,
          -0.163980171084404,
          -0.29095616936683655,
          -0.20768648386001587,
          -0.3481096625328064,
          -0.17937973141670227,
          -0.22818635404109955,
          -0.21314741671085358,
          -0.22831417620182037,
          -0.14766044914722443,
          -0.1916818916797638,
          -0.19129668176174164,
          -0.08076225221157074,
          -0.2890101969242096,
          -0.10730169713497162,
          -0.2252126932144165,
          -0.032905157655477524,
          -0.18575486540794373,
          -0.09871833026409149,
          -0.2365902215242386,
          -0.11646237969398499,
          -0.19118639826774597,
          -0.26345065236091614,
          -0.20577581226825714,
          -0.2793700695037842,
          -0.13685151934623718,
          -0.06943601369857788,
          -0.18355047702789307,
          -0.12269721180200577,
          -0.18997469544410706,
          -0.14376647770404816,
          -0.09464027732610703,
          -0.25075602531433105,
          -0.20356228947639465,
          -0.24704524874687195,
          -0.1722705215215683,
          -0.1463989019393921,
          -0.12483580410480499,
          -0.16387750208377838,
          -0.06735354661941528,
          -0.16390876471996307,
          -0.16886165738105774,
          -0.24714823067188263,
          -0.12101142853498459,
          -0.21515783667564392,
          -0.13204185664653778,
          -0.07155929505825043,
          -0.311737060546875,
          -0.06847553700208664,
          -0.15519669651985168,
          -0.09798166155815125,
          -0.10791293531656265,
          -0.044991765171289444,
          -0.15620800852775574,
          -0.27170702815055847,
          -0.09675739705562592,
          -0.06999260187149048,
          -0.1710018813610077,
          -0.13739252090454102,
          -0.2114216387271881,
          -0.22818207740783691,
          -0.2151556760072708,
          -0.14698703587055206,
          -0.03399910032749176,
          -0.07099258899688721,
          -0.17294920980930328,
          -0.16955354809761047,
          -0.12193617224693298,
          -0.10479749739170074,
          -0.22220954298973083,
          -0.23699796199798584,
          -0.22095540165901184,
          -0.1905769556760788,
          -0.14197704195976257,
          -0.1423223912715912,
          -0.23760458827018738,
          -0.17258146405220032,
          -0.1893552988767624,
          -0.18807870149612427,
          -0.17805065214633942,
          -0.1199217215180397,
          -0.11512845009565353,
          -0.1743703931570053,
          -0.16724546253681183,
          -0.1626051515340805,
          -0.14259633421897888,
          -0.14117330312728882,
          -0.19896161556243896,
          -0.2424771785736084,
          -0.16771231591701508,
          -0.3089986741542816,
          -0.15977804362773895,
          -0.29002273082733154,
          -0.3421764373779297,
          -0.08195032924413681,
          -0.1250922679901123,
          -0.2907053530216217,
          -0.2778795063495636,
          -0.16654053330421448,
          -0.04801664501428604,
          -0.1664409190416336,
          -0.14458195865154266,
          -0.28826791048049927,
          -0.06989146023988724,
          -0.20662172138690948,
          -0.16903391480445862,
          -0.1800171434879303,
          -0.17648881673812866,
          -0.10863105207681656,
          -0.2179928570985794,
          -0.04871512949466705,
          -0.1526455581188202,
          -0.16158783435821533,
          -0.17996245622634888,
          -0.2561039328575134,
          -0.25129327178001404,
          -0.27942290902137756,
          -0.10234010219573975,
          -0.1964043825864792,
          -0.28303349018096924,
          -0.22054463624954224,
          -0.17501093447208405,
          -0.13680168986320496,
          -0.3292224407196045,
          -0.1348862498998642,
          -0.08082516491413116,
          -0.20718196034431458,
          -0.25140541791915894,
          -0.12335085868835449,
          -0.18464498221874237,
          -0.05971329286694527,
          -0.14316695928573608,
          -0.14370295405387878,
          -0.26333391666412354,
          -0.20521306991577148,
          -0.1718216985464096,
          -0.13802431523799896,
          -0.13498252630233765,
          -0.25858667492866516,
          -0.18644756078720093,
          -0.12258314341306686,
          -0.25163882970809937,
          -0.20018836855888367,
          -0.08205319195985794,
          -0.12879608571529388,
          -0.06906655430793762,
          -0.13065539300441742,
          -0.11492952704429626,
          -0.24843856692314148,
          -0.2012351155281067,
          -0.2863611578941345,
          -0.15201076865196228,
          -0.29607337713241577,
          -0.229854553937912,
          -0.2826283574104309,
          -0.03764978423714638,
          -0.21663063764572144,
          -0.17111575603485107,
          -0.056550461798906326,
          -0.12049086391925812,
          -0.17382991313934326,
          -0.0959274172782898,
          -0.23081740736961365,
          -0.167634516954422,
          -0.10181053727865219,
          -0.0568133182823658,
          -0.18862056732177734,
          -0.2878611981868744,
          -0.1908888816833496,
          -0.18662866950035095,
          -0.057258859276771545,
          -0.17490741610527039,
          -0.05135195329785347,
          -0.0652611255645752,
          -0.10315322130918503,
          -0.17949654161930084,
          -0.1152084693312645,
          -0.30323874950408936,
          -0.21309930086135864,
          -0.2324364185333252,
          -0.16987910866737366,
          -0.16040781140327454,
          -0.23865242302417755,
          -0.1846185028553009,
          -0.2166484147310257,
          -0.21988216042518616,
          -0.14601226150989532,
          -0.18326044082641602,
          -0.16114091873168945,
          -0.21154548227787018,
          -0.08009221404790878,
          -0.21451322734355927,
          -0.3689541518688202,
          -0.24869687855243683,
          -0.17927977442741394,
          -0.10094179213047028,
          -0.1332758218050003,
          -0.2936132550239563,
          -0.14952224493026733,
          -0.11950863152742386,
          -0.08339886367321014,
          -0.1673658788204193,
          -0.06531740725040436,
          -0.12523430585861206,
          -0.20108811557292938,
          -0.18012110888957977,
          -0.11643955856561661,
          -0.21968354284763336,
          -0.08497726172208786,
          -0.1364823579788208,
          -0.2724997401237488,
          -0.31196320056915283,
          -0.2214677333831787,
          -0.39149540662765503,
          -0.13971394300460815,
          -0.217506542801857,
          -0.16760651767253876,
          -0.09248293191194534,
          -0.22508792579174042,
          -0.17485880851745605,
          -0.25343284010887146,
          -0.2800810933113098,
          -0.18520338833332062,
          -0.17561811208724976,
          -0.19478729367256165,
          -0.12136603891849518,
          -0.15971042215824127,
          -0.1310531198978424,
          -0.21360304951667786,
          -0.30030325055122375,
          -0.21436773240566254,
          -0.13154709339141846,
          -0.19408094882965088,
          -0.18149948120117188,
          -0.30111461877822876,
          -0.09807220846414566,
          -0.1773667335510254,
          -0.21325773000717163,
          -0.35102951526641846,
          -0.18841242790222168,
          -0.20125159621238708,
          -0.1654738187789917,
          -0.21267074346542358,
          -0.14917603135108948,
          -0.06046373397111893,
          -0.20475810766220093,
          -0.19626173377037048,
          -0.349738746881485,
          -0.09186805039644241,
          -0.3052181899547577,
          -0.25087273120880127,
          -0.19922751188278198,
          -0.334506630897522,
          -0.21070624887943268,
          -0.16490179300308228,
          -0.27414149045944214,
          -0.21718189120292664,
          -0.21391400694847107,
          -0.15373046696186066,
          -0.33566921949386597,
          -0.28653109073638916,
          -0.27197644114494324,
          -0.06330254673957825,
          -0.20965532958507538,
          -0.07789788395166397,
          -0.273252934217453,
          -0.15541520714759827,
          -0.20516365766525269,
          -0.20737577974796295,
          -0.2910962700843811,
          -0.135893315076828,
          -0.1424751579761505,
          -0.11938396841287613,
          -0.1836014688014984,
          -0.16944290697574615,
          -0.2148628979921341,
          -0.18353940546512604,
          -0.25218772888183594,
          -0.20212778449058533,
          -0.09116251766681671,
          -0.2005225419998169,
          -0.04561430215835571,
          -0.3423713743686676,
          -0.1961369812488556,
          -0.21961592137813568,
          -0.13084052503108978,
          -0.14090482890605927,
          -0.12626886367797852,
          -0.36298757791519165,
          -0.1528744250535965,
          -0.21425364911556244,
          -0.14074692130088806,
          -0.14762616157531738,
          -0.20975583791732788,
          -0.15749885141849518,
          -0.12377381324768066,
          -0.25858667492866516,
          -0.11834828555583954,
          -0.2712676525115967,
          -0.23059505224227905,
          -0.24838465452194214,
          -0.199246346950531,
          -0.11088372766971588
         ],
         "z": [
          -0.21642327308654785,
          -0.1138017475605011,
          -0.1644236147403717,
          -0.034440115094184875,
          -0.24719813466072083,
          -0.18675298988819122,
          -0.15526923537254333,
          -0.09393081068992615,
          0.05492735654115677,
          -0.2231399416923523,
          -0.1822381317615509,
          -0.1498951017856598,
          -0.08082586526870728,
          -0.16135817766189575,
          -0.1382678598165512,
          -0.15548494458198547,
          0.056317031383514404,
          -0.12816157937049866,
          -0.17784744501113892,
          -0.12702789902687073,
          -0.1635890007019043,
          -0.113030806183815,
          -0.13258396089076996,
          -0.2462567836046219,
          0.02990908734500408,
          -0.03884362056851387,
          -0.04651670530438423,
          0.06190166249871254,
          -0.13812290132045746,
          -0.3477751612663269,
          -0.22380629181861877,
          -0.22174778580665588,
          -0.18237727880477905,
          -0.03438008576631546,
          -0.22940334677696228,
          -0.17218726873397827,
          -0.27384814620018005,
          -0.1780339926481247,
          -0.21768400073051453,
          -0.08374498784542084,
          -0.021543201059103012,
          -0.05553087219595909,
          -0.1306084543466568,
          -0.16285762190818787,
          -0.19950133562088013,
          -0.297214150428772,
          -0.185198575258255,
          -0.2832099199295044,
          -0.34323105216026306,
          -0.1593720018863678,
          -0.09386969357728958,
          -0.006555669941008091,
          -0.1274401843547821,
          -0.2623784840106964,
          -0.24426020681858063,
          0.008254406973719597,
          -0.2512644827365875,
          -0.15369877219200134,
          -0.12809734046459198,
          -0.16828081011772156,
          0.02422122098505497,
          -0.2055739164352417,
          0.038674987852573395,
          -0.2069634199142456,
          -0.13628652691841125,
          -0.17883293330669403,
          -0.10567554831504822,
          -0.00977588351815939,
          -0.1421363204717636,
          -0.23046618700027466,
          -0.26540499925613403,
          -0.27720409631729126,
          -0.2891637086868286,
          -0.27863603830337524,
          -0.1909644901752472,
          -0.21384266018867493,
          -0.2187349498271942,
          -0.30253589153289795,
          -0.01341819018125534,
          -0.02195565216243267,
          -0.2705504298210144,
          -0.2448289692401886,
          -0.21274438500404358,
          -0.042326271533966064,
          0.028819089755415916,
          -0.31523287296295166,
          -0.20151709020137787,
          0.05065148323774338,
          -0.1641017198562622,
          0.011624147184193134,
          -0.16781067848205566,
          -0.15883877873420715,
          -0.04208361357450485,
          -0.23730218410491943,
          0.006251699291169643,
          -0.09390907734632492,
          -0.1723392903804779,
          -0.26257649064064026,
          -0.21014907956123352,
          0.06589250266551971,
          -0.2076943963766098,
          -0.19149447977542877,
          -0.22671256959438324,
          -0.14357635378837585,
          -0.13253530859947205,
          -0.18190717697143555,
          -0.15979628264904022,
          -0.06943507492542267,
          -0.2199309915304184,
          -0.042559266090393066,
          -0.22987695038318634,
          0.029177285730838776,
          -0.18786373734474182,
          -0.1796899437904358,
          -0.12161515653133392,
          -0.018262485042214394,
          -0.03092142939567566,
          0.023824427276849747,
          -0.1299511194229126,
          -0.33358874917030334,
          -0.3377719521522522,
          -0.23215313255786896,
          0.004747406113892794,
          -0.20415154099464417,
          0.015350677073001862,
          -0.17825627326965332,
          -0.05212758481502533,
          -0.10327765345573425,
          -0.14473450183868408,
          0.044134050607681274,
          -0.12150750309228897,
          -0.14616376161575317,
          -0.2180371731519699,
          -0.1355295330286026,
          0.002733267843723297,
          -0.26110658049583435,
          -0.1389196515083313,
          -0.24843214452266693,
          -0.28587573766708374,
          -0.2088230550289154,
          -0.11178872734308243,
          -0.15839196741580963,
          -0.11131732165813446,
          0.027316564694046974,
          -0.05121015012264252,
          -0.24043118953704834,
          -0.2401459962129593,
          -0.2010124921798706,
          -0.1734931468963623,
          -0.11279118806123734,
          -0.12634891271591187,
          -0.0647256001830101,
          -0.2568480968475342,
          -0.01776800863444805,
          -0.24502265453338623,
          -0.0404820442199707,
          -0.06014140322804451,
          -0.1562015861272812,
          -0.262800008058548,
          -0.10750867426395416,
          -0.17666354775428772,
          -0.1810159683227539,
          -0.10282748937606812,
          -0.24459625780582428,
          -0.0453820526599884,
          -0.2609896659851074,
          0.05473095551133156,
          -0.20016011595726013,
          -0.18598836660385132,
          -0.1632932722568512,
          -0.14419353008270264,
          -0.021405858919024467,
          -0.17626726627349854,
          -0.23252061009407043,
          -0.0717170462012291,
          -0.2655307352542877,
          -0.27616867423057556,
          -0.21192824840545654,
          0.032448962330818176,
          -0.14569787681102753,
          -0.07794177532196045,
          -0.12587004899978638,
          -0.10028720647096634,
          -0.2739899754524231,
          -0.20038804411888123,
          -0.025557346642017365,
          -0.15516671538352966,
          -0.135899156332016,
          -0.16075392067432404,
          -0.251842200756073,
          -0.12876053154468536,
          0.017028693109750748,
          -0.1994829922914505,
          -0.1372845619916916,
          -0.14160729944705963,
          -0.1546276956796646,
          -0.2693822979927063,
          0.014542670920491219,
          -0.26654112339019775,
          -0.11874689161777496,
          -0.17105521261692047,
          -0.07016300410032272,
          -0.07387562841176987,
          -0.16901326179504395,
          -0.1686638444662094,
          -0.15085141360759735,
          -0.02529684081673622,
          -0.22543980181217194,
          -0.05753389373421669,
          -0.20084697008132935,
          0.006888076663017273,
          -0.20648494362831116,
          -0.028439752757549286,
          -0.20401720702648163,
          -0.13051104545593262,
          -0.20495185256004333,
          -0.16384956240653992,
          -0.286909282207489,
          -0.2007976770401001,
          -0.17652936279773712,
          -0.11744826287031174,
          -0.04856486618518829,
          -0.19175371527671814,
          -0.20297355949878693,
          -0.1846335381269455,
          -0.07474003732204437,
          -0.1279582679271698,
          -0.18620125949382782,
          -0.12488546222448349,
          -0.14356204867362976,
          -0.10942737758159637,
          -0.23116685450077057,
          -0.2517327666282654,
          -0.16653531789779663,
          0.020035140216350555,
          -0.141305610537529,
          -0.14073076844215393,
          -0.11007720232009888,
          -0.145120307803154,
          -0.14127370715141296,
          -0.15320180356502533,
          -0.310111403465271,
          -0.07172609865665436,
          -0.2492627203464508,
          0.027210049331188202,
          -0.2242923527956009,
          -0.1467454731464386,
          -0.0038816393353044987,
          -0.11233246326446533,
          -0.005308488383889198,
          -0.22040343284606934,
          -0.11382103711366653,
          -0.1316220462322235,
          -0.26375359296798706,
          -0.02016366645693779,
          -0.22052988409996033,
          -0.20238570868968964,
          -0.028242599219083786,
          -0.010507523082196712,
          -0.2855627238750458,
          -0.07310786098241806,
          -0.09785597026348114,
          -0.3073051869869232,
          -0.1380678117275238,
          -0.2005661427974701,
          -0.0523892417550087,
          -0.1112745851278305,
          -0.013798563741147518,
          -0.1449497640132904,
          -0.25071293115615845,
          -0.08866583555936813,
          -0.16530226171016693,
          -0.17745473980903625,
          -0.07281124591827393,
          -0.18894559144973755,
          -0.16248832643032074,
          0.006756028160452843,
          -0.028461333364248276,
          -0.011971102096140385,
          -0.043091654777526855,
          -0.16933518648147583,
          -0.02686307206749916,
          -0.14223194122314453,
          -0.17839555442333221,
          -0.15515632927417755,
          -0.002308076713234186,
          -0.17388826608657837,
          -0.047919001430273056,
          -0.22806349396705627,
          -0.17689013481140137,
          -0.019119158387184143,
          -0.20429879426956177,
          -0.1234709694981575,
          -0.01971692591905594,
          -0.040827676653862,
          -0.15460065007209778,
          -0.14517807960510254,
          -0.142411008477211,
          -0.14064554870128632,
          0.01557842455804348,
          -0.06158881261944771,
          -0.14885371923446655,
          -0.16776502132415771,
          -0.010021967813372612,
          -0.1048741340637207,
          -0.2635256052017212,
          -0.07671300321817398,
          -0.12736615538597107,
          -0.07353021949529648,
          -0.21084609627723694,
          -0.021189548075199127,
          -0.13363796472549438,
          -0.1623150110244751,
          -0.23892387747764587,
          -0.20108330249786377,
          -0.12544186413288116,
          -0.2151455581188202,
          -0.14254173636436462,
          -0.06479062139987946,
          -0.0316416472196579,
          -0.06287799775600433,
          -0.10026098787784576,
          -0.16691185534000397,
          -0.2799976170063019,
          -0.09856057912111282,
          -0.08147087693214417,
          0.0027527837082743645,
          -0.16220420598983765,
          -0.26053157448768616,
          -0.09715790301561356,
          -0.1621440351009369,
          -0.1807757169008255,
          -0.146324023604393,
          -0.11468765139579773,
          -0.07698973268270493,
          -0.14529570937156677,
          -0.21816590428352356,
          -0.1211993396282196,
          -0.21917538344860077,
          -0.2476530224084854,
          -0.03274919092655182,
          0.002802914008498192,
          -0.18581625819206238,
          -0.13726036250591278,
          -0.1361355483531952,
          -0.14926645159721375,
          -0.23887954652309418,
          -0.1334804892539978,
          -0.1325691044330597,
          0.037813760340213776,
          -0.0888989046216011,
          -0.11618507653474808,
          -0.028788400813937187,
          -0.17501957714557648,
          -0.06057082861661911,
          -0.04203986003994942,
          -0.0420558825135231,
          0.0464208722114563,
          -0.1917390525341034,
          -0.23267938196659088,
          -0.09394679963588715,
          -0.024589672684669495,
          -0.15307873487472534,
          0.06396506726741791,
          -0.10456246882677078,
          -0.11039196699857712,
          -0.05629374086856842,
          -0.11936713755130768,
          -0.08031786233186722,
          -0.2669508457183838,
          -0.025143204256892204,
          -0.11817982792854309,
          -0.13788755238056183,
          -0.16936686635017395,
          -0.17375466227531433,
          -0.1135086640715599,
          -0.011260857805609703,
          -0.21353867650032043,
          -0.11791564524173737,
          0.006944839842617512,
          -0.1696186661720276,
          -0.059898193925619125,
          -0.11152026057243347,
          -0.14307522773742676,
          -0.024173680692911148,
          -0.1523236185312271,
          -0.011236703023314476,
          0.04326915740966797,
          -0.18483787775039673,
          -0.1559024453163147,
          -0.1141880601644516,
          0.02024930901825428,
          -0.0321529246866703,
          -0.25411558151245117,
          -0.04275178909301758,
          0.04305107891559601,
          -0.2762846052646637,
          -0.24869221448898315,
          -0.2608274817466736,
          0.07307314872741699,
          -0.142163947224617,
          -0.03960796818137169,
          -0.03540048003196716,
          0.02861562743782997,
          -0.18267028033733368,
          0.04864601045846939,
          0.03301272913813591,
          -0.20033420622348785,
          -0.03827683627605438,
          -0.2101903110742569,
          -0.16593769192695618,
          -0.02803477644920349,
          0.03274308890104294,
          -0.16988041996955872,
          -0.2543012201786041,
          -0.025700340047478676,
          -0.1192605122923851,
          -0.07491960376501083,
          -0.2435815930366516,
          -0.21405069530010223,
          -0.22361476719379425,
          -0.21162346005439758,
          -0.05929437279701233,
          -0.07148600369691849,
          -0.1732022911310196,
          -0.04498668015003204,
          0.02725558914244175,
          0.032549288123846054,
          -0.2766553461551666,
          -0.12461978197097778,
          -0.16836616396903992,
          -0.1741231381893158,
          -0.11543091386556625,
          -0.16370871663093567,
          -0.17350810766220093,
          -0.2754083275794983,
          -0.14493316411972046,
          -0.019244564697146416,
          -0.06209614872932434,
          -0.2700793743133545,
          -0.2604873478412628,
          -0.07163655012845993,
          0.025618478655815125,
          -0.13215960562229156,
          -0.21992391347885132,
          -0.2302263081073761,
          -0.08348482847213745,
          -0.26410016417503357,
          -0.24404510855674744,
          -0.2079264521598816,
          0.020134419202804565,
          -0.2657196521759033,
          -0.12600615620613098,
          -0.14917846024036407,
          -0.044807009398937225,
          -0.1418742835521698,
          0.008327048271894455,
          -0.06485369056463242,
          -0.039186134934425354,
          -0.19854731857776642,
          -0.07129689306020737,
          -0.206975519657135,
          -0.13403727114200592,
          -0.19969427585601807,
          -0.06850814074277878,
          -0.13137909770011902,
          -0.2162383645772934,
          -0.13271263241767883,
          -0.021189548075199127,
          -0.23087571561336517,
          -0.09802204370498657,
          -0.017889192327857018,
          -0.03386697545647621,
          -0.0429786741733551,
          -0.14730516076087952
         ]
        }
       ],
       "layout": {
        "height": 1000,
        "legend": {
         "title": {
          "text": "cluster"
         },
         "tracegroupgap": 0
        },
        "margin": {
         "t": 60
        },
        "scene": {
         "domain": {
          "x": [
           0,
           1
          ],
          "y": [
           0,
           1
          ]
         },
         "xaxis": {
          "title": {
           "text": "x"
          }
         },
         "yaxis": {
          "title": {
           "text": "y"
          }
         },
         "zaxis": {
          "title": {
           "text": "z"
          }
         }
        },
        "template": {
         "data": {
          "bar": [
           {
            "error_x": {
             "color": "#2a3f5f"
            },
            "error_y": {
             "color": "#2a3f5f"
            },
            "marker": {
             "line": {
              "color": "#E5ECF6",
              "width": 0.5
             },
             "pattern": {
              "fillmode": "overlay",
              "size": 10,
              "solidity": 0.2
             }
            },
            "type": "bar"
           }
          ],
          "barpolar": [
           {
            "marker": {
             "line": {
              "color": "#E5ECF6",
              "width": 0.5
             },
             "pattern": {
              "fillmode": "overlay",
              "size": 10,
              "solidity": 0.2
             }
            },
            "type": "barpolar"
           }
          ],
          "carpet": [
           {
            "aaxis": {
             "endlinecolor": "#2a3f5f",
             "gridcolor": "white",
             "linecolor": "white",
             "minorgridcolor": "white",
             "startlinecolor": "#2a3f5f"
            },
            "baxis": {
             "endlinecolor": "#2a3f5f",
             "gridcolor": "white",
             "linecolor": "white",
             "minorgridcolor": "white",
             "startlinecolor": "#2a3f5f"
            },
            "type": "carpet"
           }
          ],
          "choropleth": [
           {
            "colorbar": {
             "outlinewidth": 0,
             "ticks": ""
            },
            "type": "choropleth"
           }
          ],
          "contour": [
           {
            "colorbar": {
             "outlinewidth": 0,
             "ticks": ""
            },
            "colorscale": [
             [
              0,
              "#0d0887"
             ],
             [
              0.1111111111111111,
              "#46039f"
             ],
             [
              0.2222222222222222,
              "#7201a8"
             ],
             [
              0.3333333333333333,
              "#9c179e"
             ],
             [
              0.4444444444444444,
              "#bd3786"
             ],
             [
              0.5555555555555556,
              "#d8576b"
             ],
             [
              0.6666666666666666,
              "#ed7953"
             ],
             [
              0.7777777777777778,
              "#fb9f3a"
             ],
             [
              0.8888888888888888,
              "#fdca26"
             ],
             [
              1,
              "#f0f921"
             ]
            ],
            "type": "contour"
           }
          ],
          "contourcarpet": [
           {
            "colorbar": {
             "outlinewidth": 0,
             "ticks": ""
            },
            "type": "contourcarpet"
           }
          ],
          "heatmap": [
           {
            "colorbar": {
             "outlinewidth": 0,
             "ticks": ""
            },
            "colorscale": [
             [
              0,
              "#0d0887"
             ],
             [
              0.1111111111111111,
              "#46039f"
             ],
             [
              0.2222222222222222,
              "#7201a8"
             ],
             [
              0.3333333333333333,
              "#9c179e"
             ],
             [
              0.4444444444444444,
              "#bd3786"
             ],
             [
              0.5555555555555556,
              "#d8576b"
             ],
             [
              0.6666666666666666,
              "#ed7953"
             ],
             [
              0.7777777777777778,
              "#fb9f3a"
             ],
             [
              0.8888888888888888,
              "#fdca26"
             ],
             [
              1,
              "#f0f921"
             ]
            ],
            "type": "heatmap"
           }
          ],
          "heatmapgl": [
           {
            "colorbar": {
             "outlinewidth": 0,
             "ticks": ""
            },
            "colorscale": [
             [
              0,
              "#0d0887"
             ],
             [
              0.1111111111111111,
              "#46039f"
             ],
             [
              0.2222222222222222,
              "#7201a8"
             ],
             [
              0.3333333333333333,
              "#9c179e"
             ],
             [
              0.4444444444444444,
              "#bd3786"
             ],
             [
              0.5555555555555556,
              "#d8576b"
             ],
             [
              0.6666666666666666,
              "#ed7953"
             ],
             [
              0.7777777777777778,
              "#fb9f3a"
             ],
             [
              0.8888888888888888,
              "#fdca26"
             ],
             [
              1,
              "#f0f921"
             ]
            ],
            "type": "heatmapgl"
           }
          ],
          "histogram": [
           {
            "marker": {
             "pattern": {
              "fillmode": "overlay",
              "size": 10,
              "solidity": 0.2
             }
            },
            "type": "histogram"
           }
          ],
          "histogram2d": [
           {
            "colorbar": {
             "outlinewidth": 0,
             "ticks": ""
            },
            "colorscale": [
             [
              0,
              "#0d0887"
             ],
             [
              0.1111111111111111,
              "#46039f"
             ],
             [
              0.2222222222222222,
              "#7201a8"
             ],
             [
              0.3333333333333333,
              "#9c179e"
             ],
             [
              0.4444444444444444,
              "#bd3786"
             ],
             [
              0.5555555555555556,
              "#d8576b"
             ],
             [
              0.6666666666666666,
              "#ed7953"
             ],
             [
              0.7777777777777778,
              "#fb9f3a"
             ],
             [
              0.8888888888888888,
              "#fdca26"
             ],
             [
              1,
              "#f0f921"
             ]
            ],
            "type": "histogram2d"
           }
          ],
          "histogram2dcontour": [
           {
            "colorbar": {
             "outlinewidth": 0,
             "ticks": ""
            },
            "colorscale": [
             [
              0,
              "#0d0887"
             ],
             [
              0.1111111111111111,
              "#46039f"
             ],
             [
              0.2222222222222222,
              "#7201a8"
             ],
             [
              0.3333333333333333,
              "#9c179e"
             ],
             [
              0.4444444444444444,
              "#bd3786"
             ],
             [
              0.5555555555555556,
              "#d8576b"
             ],
             [
              0.6666666666666666,
              "#ed7953"
             ],
             [
              0.7777777777777778,
              "#fb9f3a"
             ],
             [
              0.8888888888888888,
              "#fdca26"
             ],
             [
              1,
              "#f0f921"
             ]
            ],
            "type": "histogram2dcontour"
           }
          ],
          "mesh3d": [
           {
            "colorbar": {
             "outlinewidth": 0,
             "ticks": ""
            },
            "type": "mesh3d"
           }
          ],
          "parcoords": [
           {
            "line": {
             "colorbar": {
              "outlinewidth": 0,
              "ticks": ""
             }
            },
            "type": "parcoords"
           }
          ],
          "pie": [
           {
            "automargin": true,
            "type": "pie"
           }
          ],
          "scatter": [
           {
            "fillpattern": {
             "fillmode": "overlay",
             "size": 10,
             "solidity": 0.2
            },
            "type": "scatter"
           }
          ],
          "scatter3d": [
           {
            "line": {
             "colorbar": {
              "outlinewidth": 0,
              "ticks": ""
             }
            },
            "marker": {
             "colorbar": {
              "outlinewidth": 0,
              "ticks": ""
             }
            },
            "type": "scatter3d"
           }
          ],
          "scattercarpet": [
           {
            "marker": {
             "colorbar": {
              "outlinewidth": 0,
              "ticks": ""
             }
            },
            "type": "scattercarpet"
           }
          ],
          "scattergeo": [
           {
            "marker": {
             "colorbar": {
              "outlinewidth": 0,
              "ticks": ""
             }
            },
            "type": "scattergeo"
           }
          ],
          "scattergl": [
           {
            "marker": {
             "colorbar": {
              "outlinewidth": 0,
              "ticks": ""
             }
            },
            "type": "scattergl"
           }
          ],
          "scattermapbox": [
           {
            "marker": {
             "colorbar": {
              "outlinewidth": 0,
              "ticks": ""
             }
            },
            "type": "scattermapbox"
           }
          ],
          "scatterpolar": [
           {
            "marker": {
             "colorbar": {
              "outlinewidth": 0,
              "ticks": ""
             }
            },
            "type": "scatterpolar"
           }
          ],
          "scatterpolargl": [
           {
            "marker": {
             "colorbar": {
              "outlinewidth": 0,
              "ticks": ""
             }
            },
            "type": "scatterpolargl"
           }
          ],
          "scatterternary": [
           {
            "marker": {
             "colorbar": {
              "outlinewidth": 0,
              "ticks": ""
             }
            },
            "type": "scatterternary"
           }
          ],
          "surface": [
           {
            "colorbar": {
             "outlinewidth": 0,
             "ticks": ""
            },
            "colorscale": [
             [
              0,
              "#0d0887"
             ],
             [
              0.1111111111111111,
              "#46039f"
             ],
             [
              0.2222222222222222,
              "#7201a8"
             ],
             [
              0.3333333333333333,
              "#9c179e"
             ],
             [
              0.4444444444444444,
              "#bd3786"
             ],
             [
              0.5555555555555556,
              "#d8576b"
             ],
             [
              0.6666666666666666,
              "#ed7953"
             ],
             [
              0.7777777777777778,
              "#fb9f3a"
             ],
             [
              0.8888888888888888,
              "#fdca26"
             ],
             [
              1,
              "#f0f921"
             ]
            ],
            "type": "surface"
           }
          ],
          "table": [
           {
            "cells": {
             "fill": {
              "color": "#EBF0F8"
             },
             "line": {
              "color": "white"
             }
            },
            "header": {
             "fill": {
              "color": "#C8D4E3"
             },
             "line": {
              "color": "white"
             }
            },
            "type": "table"
           }
          ]
         },
         "layout": {
          "annotationdefaults": {
           "arrowcolor": "#2a3f5f",
           "arrowhead": 0,
           "arrowwidth": 1
          },
          "autotypenumbers": "strict",
          "coloraxis": {
           "colorbar": {
            "outlinewidth": 0,
            "ticks": ""
           }
          },
          "colorscale": {
           "diverging": [
            [
             0,
             "#8e0152"
            ],
            [
             0.1,
             "#c51b7d"
            ],
            [
             0.2,
             "#de77ae"
            ],
            [
             0.3,
             "#f1b6da"
            ],
            [
             0.4,
             "#fde0ef"
            ],
            [
             0.5,
             "#f7f7f7"
            ],
            [
             0.6,
             "#e6f5d0"
            ],
            [
             0.7,
             "#b8e186"
            ],
            [
             0.8,
             "#7fbc41"
            ],
            [
             0.9,
             "#4d9221"
            ],
            [
             1,
             "#276419"
            ]
           ],
           "sequential": [
            [
             0,
             "#0d0887"
            ],
            [
             0.1111111111111111,
             "#46039f"
            ],
            [
             0.2222222222222222,
             "#7201a8"
            ],
            [
             0.3333333333333333,
             "#9c179e"
            ],
            [
             0.4444444444444444,
             "#bd3786"
            ],
            [
             0.5555555555555556,
             "#d8576b"
            ],
            [
             0.6666666666666666,
             "#ed7953"
            ],
            [
             0.7777777777777778,
             "#fb9f3a"
            ],
            [
             0.8888888888888888,
             "#fdca26"
            ],
            [
             1,
             "#f0f921"
            ]
           ],
           "sequentialminus": [
            [
             0,
             "#0d0887"
            ],
            [
             0.1111111111111111,
             "#46039f"
            ],
            [
             0.2222222222222222,
             "#7201a8"
            ],
            [
             0.3333333333333333,
             "#9c179e"
            ],
            [
             0.4444444444444444,
             "#bd3786"
            ],
            [
             0.5555555555555556,
             "#d8576b"
            ],
            [
             0.6666666666666666,
             "#ed7953"
            ],
            [
             0.7777777777777778,
             "#fb9f3a"
            ],
            [
             0.8888888888888888,
             "#fdca26"
            ],
            [
             1,
             "#f0f921"
            ]
           ]
          },
          "colorway": [
           "#636efa",
           "#EF553B",
           "#00cc96",
           "#ab63fa",
           "#FFA15A",
           "#19d3f3",
           "#FF6692",
           "#B6E880",
           "#FF97FF",
           "#FECB52"
          ],
          "font": {
           "color": "#2a3f5f"
          },
          "geo": {
           "bgcolor": "white",
           "lakecolor": "white",
           "landcolor": "#E5ECF6",
           "showlakes": true,
           "showland": true,
           "subunitcolor": "white"
          },
          "hoverlabel": {
           "align": "left"
          },
          "hovermode": "closest",
          "mapbox": {
           "style": "light"
          },
          "paper_bgcolor": "white",
          "plot_bgcolor": "#E5ECF6",
          "polar": {
           "angularaxis": {
            "gridcolor": "white",
            "linecolor": "white",
            "ticks": ""
           },
           "bgcolor": "#E5ECF6",
           "radialaxis": {
            "gridcolor": "white",
            "linecolor": "white",
            "ticks": ""
           }
          },
          "scene": {
           "xaxis": {
            "backgroundcolor": "#E5ECF6",
            "gridcolor": "white",
            "gridwidth": 2,
            "linecolor": "white",
            "showbackground": true,
            "ticks": "",
            "zerolinecolor": "white"
           },
           "yaxis": {
            "backgroundcolor": "#E5ECF6",
            "gridcolor": "white",
            "gridwidth": 2,
            "linecolor": "white",
            "showbackground": true,
            "ticks": "",
            "zerolinecolor": "white"
           },
           "zaxis": {
            "backgroundcolor": "#E5ECF6",
            "gridcolor": "white",
            "gridwidth": 2,
            "linecolor": "white",
            "showbackground": true,
            "ticks": "",
            "zerolinecolor": "white"
           }
          },
          "shapedefaults": {
           "line": {
            "color": "#2a3f5f"
           }
          },
          "ternary": {
           "aaxis": {
            "gridcolor": "white",
            "linecolor": "white",
            "ticks": ""
           },
           "baxis": {
            "gridcolor": "white",
            "linecolor": "white",
            "ticks": ""
           },
           "bgcolor": "#E5ECF6",
           "caxis": {
            "gridcolor": "white",
            "linecolor": "white",
            "ticks": ""
           }
          },
          "title": {
           "x": 0.05
          },
          "xaxis": {
           "automargin": true,
           "gridcolor": "white",
           "linecolor": "white",
           "ticks": "",
           "title": {
            "standoff": 15
           },
           "zerolinecolor": "white",
           "zerolinewidth": 2
          },
          "yaxis": {
           "automargin": true,
           "gridcolor": "white",
           "linecolor": "white",
           "ticks": "",
           "title": {
            "standoff": 15
           },
           "zerolinecolor": "white",
           "zerolinewidth": 2
          }
         }
        },
        "title": {
         "text": "Ingredient-Based Clustering of Filipino Dishes"
        },
        "updatemenus": [
         {
          "buttons": [
           {
            "args": [
             {
              "visible": [
               true,
               false,
               false,
               false,
               false,
               false,
               false
              ]
             },
             {
              "title": "Ingredient-Based Clustering - Cluster 1"
             }
            ],
            "label": "Cluster 1",
            "method": "update"
           },
           {
            "args": [
             {
              "visible": [
               false,
               true,
               false,
               false,
               false,
               false,
               false
              ]
             },
             {
              "title": "Ingredient-Based Clustering - Cluster 6"
             }
            ],
            "label": "Cluster 6",
            "method": "update"
           },
           {
            "args": [
             {
              "visible": [
               false,
               false,
               true,
               false,
               false,
               false,
               false
              ]
             },
             {
              "title": "Ingredient-Based Clustering - Cluster 5"
             }
            ],
            "label": "Cluster 5",
            "method": "update"
           },
           {
            "args": [
             {
              "visible": [
               false,
               false,
               false,
               true,
               false,
               false,
               false
              ]
             },
             {
              "title": "Ingredient-Based Clustering - Cluster 0"
             }
            ],
            "label": "Cluster 0",
            "method": "update"
           },
           {
            "args": [
             {
              "visible": [
               false,
               false,
               false,
               false,
               true,
               false,
               false
              ]
             },
             {
              "title": "Ingredient-Based Clustering - Cluster 4"
             }
            ],
            "label": "Cluster 4",
            "method": "update"
           },
           {
            "args": [
             {
              "visible": [
               false,
               false,
               false,
               false,
               false,
               true,
               false
              ]
             },
             {
              "title": "Ingredient-Based Clustering - Cluster 2"
             }
            ],
            "label": "Cluster 2",
            "method": "update"
           },
           {
            "args": [
             {
              "visible": [
               false,
               false,
               false,
               false,
               false,
               false,
               true
              ]
             },
             {
              "title": "Ingredient-Based Clustering - Cluster 3"
             }
            ],
            "label": "Cluster 3",
            "method": "update"
           }
          ],
          "direction": "down",
          "type": "buttons"
         }
        ],
        "width": 800
       }
      }
     },
     "metadata": {},
     "output_type": "display_data"
    }
   ],
   "source": [
    "import plotly.express as px\n",
    "import pandas as pd\n",
    "\n",
    "final_df = pd.DataFrame(\n",
    "    {\n",
    "        \"x\": reduced_embeddings[:, 0],\n",
    "        \"y\": reduced_embeddings[:, 1],\n",
    "        \"z\": reduced_embeddings[:, 2],\n",
    "        \"cluster\": cluster_labels.astype(str),\n",
    "        \"recipe_name\": reduced_df[\"name\"],\n",
    "        \"cleaned_ingredients\": [\n",
    "            \"<br>\".join(ingredients)\n",
    "            for ingredients in reduced_df[\"cleaned_ingredients\"]\n",
    "        ],\n",
    "    }\n",
    ")\n",
    "\n",
    "fig = px.scatter_3d(\n",
    "    final_df,\n",
    "    x=\"x\",\n",
    "    y=\"y\",\n",
    "    z=\"z\",\n",
    "    color=\"cluster\",\n",
    "    hover_name=\"recipe_name\",\n",
    "    hover_data=[\"cleaned_ingredients\"],\n",
    "    width=800,\n",
    "    height=1000,\n",
    "    color_discrete_sequence=px.colors.qualitative.Bold,\n",
    ")\n",
    "\n",
    "fig.update_traces(marker=dict(size=5))\n",
    "fig.update_layout(title=\"Ingredient-Based Clustering of Filipino Dishes\")\n",
    "\n",
    "unique_clusters = final_df[\"cluster\"].unique()\n",
    "buttons = list(\n",
    "    [\n",
    "        dict(\n",
    "            label=f\"Cluster {cluster}\",\n",
    "            method=\"update\",\n",
    "            args=[\n",
    "                {\"visible\": [cluster == c for c in unique_clusters]},\n",
    "                {\"title\": f\"Ingredient-Based Clustering - Cluster {cluster}\"},\n",
    "            ],\n",
    "        )\n",
    "        for cluster in unique_clusters\n",
    "    ]\n",
    ")\n",
    "fig.update_layout(\n",
    "    updatemenus=[\n",
    "        dict(\n",
    "            type=\"buttons\",\n",
    "            direction=\"down\",\n",
    "            buttons=buttons,\n",
    "        )\n",
    "    ]\n",
    ")\n",
    "\n",
    "fig.show()"
   ]
  }
 ],
 "metadata": {
  "kernelspec": {
   "display_name": "venv",
   "language": "python",
   "name": "python3"
  },
  "language_info": {
   "codemirror_mode": {
    "name": "ipython",
    "version": 3
   },
   "file_extension": ".py",
   "mimetype": "text/x-python",
   "name": "python",
   "nbconvert_exporter": "python",
   "pygments_lexer": "ipython3",
   "version": "3.12.2"
  }
 },
 "nbformat": 4,
 "nbformat_minor": 2
}
