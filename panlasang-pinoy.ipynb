{
 "cells": [
  {
   "cell_type": "markdown",
   "metadata": {},
   "source": [
    "# Ingredient-Based Clustering of Pinoy Dishes\n",
    "\n",
    "The ambition is to identify clusters of Filipino dishes based on their ingredients. The results can be used to define the most common ingredients of a Filipino pantry. This project leverages techniques from data mining, natural language processing, and unsupervised learning. The dataset is a collection of Filipino recipes from various online recipe websites. The dataset contains the name, ingredients, and instructions of the recipes. "
   ]
  },
  {
   "cell_type": "markdown",
   "metadata": {},
   "source": [
    "## Data loading and preview"
   ]
  },
  {
   "cell_type": "code",
   "execution_count": 24,
   "metadata": {},
   "outputs": [
    {
     "data": {
      "text/html": [
       "<div>\n",
       "<style scoped>\n",
       "    .dataframe tbody tr th:only-of-type {\n",
       "        vertical-align: middle;\n",
       "    }\n",
       "\n",
       "    .dataframe tbody tr th {\n",
       "        vertical-align: top;\n",
       "    }\n",
       "\n",
       "    .dataframe thead th {\n",
       "        text-align: right;\n",
       "    }\n",
       "</style>\n",
       "<table border=\"1\" class=\"dataframe\">\n",
       "  <thead>\n",
       "    <tr style=\"text-align: right;\">\n",
       "      <th></th>\n",
       "      <th>link</th>\n",
       "      <th>name</th>\n",
       "      <th>ingredients</th>\n",
       "      <th>instructions</th>\n",
       "    </tr>\n",
       "  </thead>\n",
       "  <tbody>\n",
       "    <tr>\n",
       "      <th>0</th>\n",
       "      <td>https://www.kawalingpinoy.com/cheese-cupcakes/</td>\n",
       "      <td>Cheese Cupcakes</td>\n",
       "      <td>[flour, sifted, baking powder, salt, butter, s...</td>\n",
       "      <td>[Line muffin pan with cupcake liners., In a la...</td>\n",
       "    </tr>\n",
       "    <tr>\n",
       "      <th>1</th>\n",
       "      <td>https://www.kawalingpinoy.com/adobong-sitaw-wi...</td>\n",
       "      <td>Adobong Sitaw with Pork</td>\n",
       "      <td>[canola oil, pork belly, cut into thin strips,...</td>\n",
       "      <td>[In a skillet over medium heat, heat oil. Add ...</td>\n",
       "    </tr>\n",
       "    <tr>\n",
       "      <th>2</th>\n",
       "      <td>https://www.kawalingpinoy.com/burger-steak/</td>\n",
       "      <td>Burger Steak</td>\n",
       "      <td>[white bread, torn into small pieces, beef bro...</td>\n",
       "      <td>[In a small bowl, soak bread in broth. Tear wi...</td>\n",
       "    </tr>\n",
       "    <tr>\n",
       "      <th>3</th>\n",
       "      <td>https://www.kawalingpinoy.com/chicken-menudo/</td>\n",
       "      <td>Chicken Menudo</td>\n",
       "      <td>[canola oil, red bell pepper, cored, seeded an...</td>\n",
       "      <td>[In a wide pan over medium heat, heat 1 tables...</td>\n",
       "    </tr>\n",
       "    <tr>\n",
       "      <th>4</th>\n",
       "      <td>https://www.kawalingpinoy.com/beef-salpicao/</td>\n",
       "      <td>Beef Salpicao</td>\n",
       "      <td>[ribeye steak, cut into 1-inch cubes, salt and...</td>\n",
       "      <td>[In a bowl, season beef with salt and pepper t...</td>\n",
       "    </tr>\n",
       "  </tbody>\n",
       "</table>\n",
       "</div>"
      ],
      "text/plain": [
       "                                                link                     name  \\\n",
       "0     https://www.kawalingpinoy.com/cheese-cupcakes/          Cheese Cupcakes   \n",
       "1  https://www.kawalingpinoy.com/adobong-sitaw-wi...  Adobong Sitaw with Pork   \n",
       "2        https://www.kawalingpinoy.com/burger-steak/             Burger Steak   \n",
       "3      https://www.kawalingpinoy.com/chicken-menudo/           Chicken Menudo   \n",
       "4       https://www.kawalingpinoy.com/beef-salpicao/            Beef Salpicao   \n",
       "\n",
       "                                         ingredients  \\\n",
       "0  [flour, sifted, baking powder, salt, butter, s...   \n",
       "1  [canola oil, pork belly, cut into thin strips,...   \n",
       "2  [white bread, torn into small pieces, beef bro...   \n",
       "3  [canola oil, red bell pepper, cored, seeded an...   \n",
       "4  [ribeye steak, cut into 1-inch cubes, salt and...   \n",
       "\n",
       "                                        instructions  \n",
       "0  [Line muffin pan with cupcake liners., In a la...  \n",
       "1  [In a skillet over medium heat, heat oil. Add ...  \n",
       "2  [In a small bowl, soak bread in broth. Tear wi...  \n",
       "3  [In a wide pan over medium heat, heat 1 tables...  \n",
       "4  [In a bowl, season beef with salt and pepper t...  "
      ]
     },
     "execution_count": 24,
     "metadata": {},
     "output_type": "execute_result"
    }
   ],
   "source": [
    "import json\n",
    "import os\n",
    "\n",
    "import pandas as pd\n",
    "\n",
    "\n",
    "def merge_recipe_data(path=\"data/recipes\"):\n",
    "    \"\"\"Combines all recipe data into a single list.\"\"\"\n",
    "    files = [file for file in os.listdir(path)]\n",
    "\n",
    "    recipes = []\n",
    "    for file in files:\n",
    "        file_path = os.path.join(path, file)\n",
    "        with open(file_path, encoding=\"utf-8\") as f:\n",
    "            recipe_data = json.load(f)\n",
    "            recipes.extend(recipe_data)\n",
    "\n",
    "    return recipes\n",
    "\n",
    "\n",
    "recipes = merge_recipe_data()\n",
    "recipe_df = pd.DataFrame(recipes)\n",
    "recipe_df.head()"
   ]
  },
  {
   "cell_type": "code",
   "execution_count": 25,
   "metadata": {},
   "outputs": [
    {
     "name": "stdout",
     "output_type": "stream",
     "text": [
      "<class 'pandas.core.frame.DataFrame'>\n",
      "RangeIndex: 2815 entries, 0 to 2814\n",
      "Data columns (total 4 columns):\n",
      " #   Column        Non-Null Count  Dtype \n",
      "---  ------        --------------  ----- \n",
      " 0   link          2815 non-null   object\n",
      " 1   name          2469 non-null   object\n",
      " 2   ingredients   2469 non-null   object\n",
      " 3   instructions  2469 non-null   object\n",
      "dtypes: object(4)\n",
      "memory usage: 88.1+ KB\n"
     ]
    }
   ],
   "source": [
    "recipe_df.info()"
   ]
  },
  {
   "cell_type": "markdown",
   "metadata": {},
   "source": [
    "### Discover patterns through visualization"
   ]
  },
  {
   "cell_type": "code",
   "execution_count": 26,
   "metadata": {},
   "outputs": [
    {
     "data": {
      "image/png": "[encoded data removed]",
      "text/plain": [
       "<Figure size 1000x500 with 1 Axes>"
      ]
     },
     "metadata": {},
     "output_type": "display_data"
    }
   ],
   "source": [
    "%matplotlib inline\n",
    "\n",
    "import matplotlib.pyplot as plt\n",
    "import seaborn as sns\n",
    "\n",
    "def plot_ingredient_distribution(ingredient_series):\n",
    "    \"\"\"Plots the distribution of the number of ingredients in a recipe.\"\"\"\n",
    "\n",
    "    counts = ingredient_series.dropna().apply(len)\n",
    "\n",
    "    plt.figure(figsize=(10, 5))\n",
    "    sns.histplot(counts, kde=True, binwidth=1)\n",
    "    plt.title(f\"Number of ingredients in {len(counts)} recipes\")\n",
    "    plt.xlabel(\"Number of ingredients\")\n",
    "    plt.ylabel(\"Number of recipes\")\n",
    "    plt.show()\n",
    "\n",
    "plot_ingredient_distribution(recipe_df[\"ingredients\"])"
   ]
  },
  {
   "cell_type": "code",
   "execution_count": 27,
   "metadata": {},
   "outputs": [
    {
     "data": {
      "image/png": "[encoded data removed]",
      "text/plain": [
       "<Figure size 700x500 with 1 Axes>"
      ]
     },
     "metadata": {},
     "output_type": "display_data"
    }
   ],
   "source": [
    "import matplotlib.pyplot as plt\n",
    "import seaborn as sns\n",
    "\n",
    "\n",
    "def plot_common_ingredients(\n",
    "    ingredient_series,\n",
    "    n=20,\n",
    "    most_common=True,\n",
    "    figsize=(7, 5),\n",
    "):\n",
    "    \"\"\"Plots the frequency of the top n most or least common ingredients.\"\"\"\n",
    "\n",
    "    all_ingredients = ingredient_series.dropna().explode()\n",
    "    ingredient_counts = all_ingredients.value_counts()\n",
    "\n",
    "    if most_common:\n",
    "        top_n_ingredients = ingredient_counts.head(n)\n",
    "    else:\n",
    "        top_n_ingredients = ingredient_counts.tail(n)\n",
    "\n",
    "    plt.figure(figsize=figsize)\n",
    "    sns.barplot(\n",
    "        x=top_n_ingredients.values,\n",
    "        y=top_n_ingredients.index,\n",
    "    )\n",
    "\n",
    "    indicator = \"Most\" if most_common else \"Least\"\n",
    "    plt.title(f\"Top {n} {indicator} Common Ingredients\")\n",
    "    plt.xlabel(\"Number of Recipes\")\n",
    "    plt.ylabel(\"Ingredient\")\n",
    "    plt.show()\n",
    "\n",
    "\n",
    "plot_common_ingredients(recipe_df[\"ingredients\"])"
   ]
  },
  {
   "cell_type": "markdown",
   "metadata": {},
   "source": [
    "### Save the all unique ingredients in a file"
   ]
  },
  {
   "cell_type": "code",
   "execution_count": 28,
   "metadata": {},
   "outputs": [],
   "source": [
    "def save_ingredients(series, path):\n",
    "    ingredients = series.dropna().explode().unique().astype(str)\n",
    "    ingredients.sort()\n",
    "\n",
    "    with open(path, \"w\", encoding=\"utf-8\") as file:\n",
    "        file.writelines(\"\\n\".join(ingredients))\n",
    "\n",
    "\n",
    "save_ingredients(recipe_df[\"ingredients\"], \"data/raw_ingredients.txt\")"
   ]
  },
  {
   "cell_type": "markdown",
   "metadata": {},
   "source": [
    "## Preprocessing\n"
   ]
  },
  {
   "cell_type": "markdown",
   "metadata": {},
   "source": [
    "### Remove recipes with no ingredients"
   ]
  },
  {
   "cell_type": "code",
   "execution_count": 29,
   "metadata": {},
   "outputs": [
    {
     "name": "stdout",
     "output_type": "stream",
     "text": [
      "<class 'pandas.core.frame.DataFrame'>\n",
      "Index: 2469 entries, 0 to 2814\n",
      "Data columns (total 4 columns):\n",
      " #   Column        Non-Null Count  Dtype \n",
      "---  ------        --------------  ----- \n",
      " 0   link          2469 non-null   object\n",
      " 1   name          2469 non-null   object\n",
      " 2   ingredients   2469 non-null   object\n",
      " 3   instructions  2469 non-null   object\n",
      "dtypes: object(4)\n",
      "memory usage: 96.4+ KB\n"
     ]
    }
   ],
   "source": [
    "recipe_df = recipe_df.dropna(subset=[\"ingredients\"])\n",
    "recipe_df.info()"
   ]
  },
  {
   "cell_type": "markdown",
   "metadata": {},
   "source": [
    "### Tokenize"
   ]
  },
  {
   "cell_type": "code",
   "execution_count": 30,
   "metadata": {},
   "outputs": [
    {
     "name": "stdout",
     "output_type": "stream",
     "text": [
      "text         lemma        pos    tag    dep    is_alpha\n",
      "-----------  -----------  -----  -----  -----  ----------\n",
      "cauliflower  cauliflower  VERB   VB     ROOT   True\n",
      "florets      floret       NOUN   NNS    dobj   True\n"
     ]
    }
   ],
   "source": [
    "import spacy\n",
    "from tabulate import tabulate\n",
    "\n",
    "nlp = spacy.load(\"en_core_web_lg\")\n",
    "\n",
    "\n",
    "def display_tokens(text):\n",
    "    \"\"\"Display token attributes of a given string.\"\"\",\n",
    "    rows = []\n",
    "    for token in nlp(text):\n",
    "        row = [\n",
    "            token.text,\n",
    "            token.lemma_,\n",
    "            token.pos_,\n",
    "            token.tag_,\n",
    "            token.dep_,\n",
    "            token.is_alpha,\n",
    "        ]\n",
    "        rows.append(row)\n",
    "    headers = [\"text\", \"lemma\", \"pos\", \"tag\", \"dep\", \"is_alpha\"]\n",
    "    print(tabulate(rows, headers=headers))\n",
    "\n",
    "\n",
    "# SAMPLE_INGREDIENT = \"small lemon lemons or 6 to 7 pieces calamansi\"\n",
    "SAMPLE_INGREDIENT = \"cauliflower florets\"\n",
    "display_tokens(SAMPLE_INGREDIENT)"
   ]
  },
  {
   "cell_type": "markdown",
   "metadata": {},
   "source": [
    "### Lemmatize and remove non-ingredient words"
   ]
  },
  {
   "cell_type": "code",
   "execution_count": 31,
   "metadata": {},
   "outputs": [
    {
     "name": "stdout",
     "output_type": "stream",
     "text": [
      "text         lemma        pos    tag    dep    is_alpha\n",
      "-----------  -----------  -----  -----  -----  ----------\n",
      "cauliflower  cauliflower  PROPN  NNP    nsubj  True\n",
      "floret       floret       ADJ    JJ     ROOT   True\n"
     ]
    }
   ],
   "source": [
    "def lemmatize_valid_nouns(ingredient):\n",
    "    \"\"\"Lemmatize valid nouns in a string.\"\"\",\n",
    "    doc = nlp(ingredient)\n",
    "    valid_lemmas = []\n",
    "    for token in doc:\n",
    "        outliers = [\"cauliflower\", \"baking\"]\n",
    "        if token.text in outliers:\n",
    "            token.pos_ = \"NOUN\"  # Override POS tag for some words\n",
    "\n",
    "        if (\n",
    "            token.is_alpha\n",
    "            and not token.is_stop\n",
    "            and token.pos_ in [\"NOUN\", \"PROPN\"]\n",
    "        ):\n",
    "            valid_lemmas.append(token.lemma_)\n",
    "    return \" \".join(valid_lemmas)\n",
    "\n",
    "\n",
    "lemmatized = lemmatize_valid_nouns(SAMPLE_INGREDIENT)\n",
    "display_tokens(lemmatized)"
   ]
  },
  {
   "cell_type": "markdown",
   "metadata": {},
   "source": [
    "### Remove culinary stop words"
   ]
  },
  {
   "cell_type": "code",
   "execution_count": 32,
   "metadata": {},
   "outputs": [
    {
     "name": "stdout",
     "output_type": "stream",
     "text": [
      "text         lemma        pos    tag    dep    is_alpha\n",
      "-----------  -----------  -----  -----  -----  ----------\n",
      "cauliflower  cauliflower  NOUN   NN     ROOT   True\n"
     ]
    }
   ],
   "source": [
    "with open(f\"data/culinary_stopwords.txt\") as file:\n",
    "    stopwords = [line.strip() for line in file]\n",
    "\n",
    "\n",
    "def filter_stopwords(text):\n",
    "    \"\"\"Filter out stopwords from a string.\"\"\"\n",
    "    meaningful_terms = []\n",
    "    for term in text.split():\n",
    "        if term not in stopwords:\n",
    "            meaningful_terms.append(term)\n",
    "    return \" \".join(meaningful_terms)\n",
    "\n",
    "\n",
    "filtered = filter_stopwords(lemmatized)\n",
    "display_tokens(filtered)"
   ]
  },
  {
   "cell_type": "markdown",
   "metadata": {},
   "source": [
    "### Handle synonyms at word level"
   ]
  },
  {
   "cell_type": "code",
   "execution_count": 33,
   "metadata": {},
   "outputs": [
    {
     "name": "stdout",
     "output_type": "stream",
     "text": [
      "text         lemma        pos    tag    dep    is_alpha\n",
      "-----------  -----------  -----  -----  -----  ----------\n",
      "cauliflower  cauliflower  NOUN   NN     ROOT   True\n"
     ]
    }
   ],
   "source": [
    "with open(\"data/word_synonyms.json\") as file:\n",
    "    word_synonyms = json.load(file)\n",
    "\n",
    "\n",
    "def handle_word_synonym(ingredient):\n",
    "    \"\"\"Replace ingredient synonyms with a common name.\"\"\"\n",
    "    common_words = []\n",
    "    for word in ingredient.split():\n",
    "        common_words.append(word_synonyms.get(word, word))\n",
    "    return \" \".join(common_words)\n",
    "\n",
    "\n",
    "normalized_words = handle_word_synonym(filtered)\n",
    "display_tokens(normalized_words)"
   ]
  },
  {
   "cell_type": "markdown",
   "metadata": {},
   "source": [
    "### Remove duplicate terms"
   ]
  },
  {
   "cell_type": "code",
   "execution_count": 34,
   "metadata": {},
   "outputs": [
    {
     "name": "stdout",
     "output_type": "stream",
     "text": [
      "text         lemma        pos    tag    dep    is_alpha\n",
      "-----------  -----------  -----  -----  -----  ----------\n",
      "cauliflower  cauliflower  NOUN   NN     ROOT   True\n"
     ]
    }
   ],
   "source": [
    "def remove_duplicates(text):\n",
    "    \"\"\"Remove duplicate terms while preserving order.\"\"\"\n",
    "    seen = set()\n",
    "    unique = []\n",
    "    for ingredient in text.split():\n",
    "        if ingredient not in seen:\n",
    "            unique.append(ingredient)\n",
    "            seen.add(ingredient)\n",
    "    return \" \".join(unique)\n",
    "\n",
    "unique = remove_duplicates(normalized_words)\n",
    "display_tokens(unique)"
   ]
  },
  {
   "cell_type": "markdown",
   "metadata": {},
   "source": [
    "### Handle synonyms to standardize ingredients"
   ]
  },
  {
   "cell_type": "code",
   "execution_count": 35,
   "metadata": {},
   "outputs": [
    {
     "name": "stdout",
     "output_type": "stream",
     "text": [
      "text         lemma        pos    tag    dep    is_alpha\n",
      "-----------  -----------  -----  -----  -----  ----------\n",
      "cauliflower  cauliflower  NOUN   NN     ROOT   True\n"
     ]
    }
   ],
   "source": [
    "with open(\"data/phrase_synonyms.json\") as file:\n",
    "    phrase_synonyms = json.load(file)\n",
    "\n",
    "\n",
    "def handle_phrase_synonym(ingredient):\n",
    "    \"\"\"Replace ingredient synonyms with a common name.\"\"\"\n",
    "    return phrase_synonyms.get(ingredient, ingredient)\n",
    "\n",
    "common_name = handle_phrase_synonym(unique)\n",
    "display_tokens(common_name)"
   ]
  },
  {
   "cell_type": "markdown",
   "metadata": {},
   "source": [
    "### Define the entire preprocessing pipeline"
   ]
  },
  {
   "cell_type": "code",
   "execution_count": 36,
   "metadata": {},
   "outputs": [
    {
     "data": {
      "text/plain": [
       "'cauliflower'"
      ]
     },
     "execution_count": 36,
     "metadata": {},
     "output_type": "execute_result"
    }
   ],
   "source": [
    "import re\n",
    "\n",
    "\n",
    "def preprocess_ingredient(ingredient):\n",
    "    \"\"\"Preprocess an ingredient string to extract key terms.\"\"\",\n",
    "    no_parenthesis = re.sub(r\"\\([^)]*\\)\", \"\", ingredient)\n",
    "    first_option = no_parenthesis.split(\" or \")[0]\n",
    "    formatted = first_option.lower().strip()\n",
    "\n",
    "    lemmatized = lemmatize_valid_nouns(formatted)\n",
    "    filtered = filter_stopwords(lemmatized)\n",
    "    word_synonym = handle_word_synonym(filtered)\n",
    "    unique = remove_duplicates(word_synonym)\n",
    "    # phrase_synonym = handle_phrase_synonym(unique)\n",
    "\n",
    "    return unique\n",
    "\n",
    "\n",
    "clean_ingredient = preprocess_ingredient(SAMPLE_INGREDIENT)\n",
    "clean_ingredient"
   ]
  },
  {
   "cell_type": "markdown",
   "metadata": {},
   "source": [
    "### Apply the preprocessing pipeline"
   ]
  },
  {
   "cell_type": "code",
   "execution_count": 37,
   "metadata": {},
   "outputs": [
    {
     "data": {
      "application/vnd.jupyter.widget-view+json": {
       "model_id": "ed37411766e54f839d9c13f04789ee7a",
       "version_major": 2,
       "version_minor": 0
      },
      "text/plain": [
       "  0%|          | 0/2469 [00:00<?, ?it/s]"
      ]
     },
     "metadata": {},
     "output_type": "display_data"
    }
   ],
   "source": [
    "from tqdm.auto import tqdm\n",
    "\n",
    "\n",
    "def clean_ingredients(ingredients):\n",
    "    \"\"\"Applies preprocessing to a list of ingredients.\"\"\"\n",
    "    cleaned_ingredients = [\n",
    "        preprocess_ingredient(ingredient) for ingredient in ingredients\n",
    "    ]\n",
    "    return list(sorted(set(filter(None, cleaned_ingredients))))\n",
    "\n",
    "\n",
    "tqdm.pandas()\n",
    "\n",
    "recipe_df[\"cleaned_ingredients\"] = (\n",
    "    recipe_df[\"ingredients\"].progress_apply(clean_ingredients)\n",
    ")"
   ]
  },
  {
   "cell_type": "code",
   "execution_count": 38,
   "metadata": {},
   "outputs": [],
   "source": [
    "save_ingredients(\n",
    "    recipe_df[\"cleaned_ingredients\"],\n",
    "    \"data/cleaned_ingredients.txt\",\n",
    ")"
   ]
  },
  {
   "cell_type": "code",
   "execution_count": 39,
   "metadata": {},
   "outputs": [],
   "source": [
    "cleaned_ingredients = (\n",
    "    recipe_df[\"cleaned_ingredients\"].explode().unique().astype(str)\n",
    ")\n",
    "\n",
    "with open(\"data/phrase_synonyms.json\") as file:\n",
    "    phrase_synonyms = json.load(file)\n",
    "\n",
    "# Remove entries in synonyms that are not in the cleaned ingredients\n",
    "phrase_synonyms = {\n",
    "    key: value\n",
    "    for key, value in phrase_synonyms.items()\n",
    "    if key in cleaned_ingredients\n",
    "}\n",
    "\n",
    "with open(\"data/phrase_synonyms.json\", \"w\") as file:\n",
    "    json.dump(phrase_synonyms, file, indent=2)"
   ]
  },
  {
   "cell_type": "code",
   "execution_count": 40,
   "metadata": {},
   "outputs": [],
   "source": [
    "recipe_df[[\"ingredients\", \"cleaned_ingredients\"]].to_json(\n",
    "    \"data/cleaned_recipes.json\",\n",
    "    indent=2,\n",
    "    orient=\"records\",\n",
    ")"
   ]
  },
  {
   "cell_type": "markdown",
   "metadata": {},
   "source": [
    "### Visualize cleaned ingredients"
   ]
  },
  {
   "cell_type": "code",
   "execution_count": null,
   "metadata": {},
   "outputs": [],
   "source": [
    "plot_ingredient_distribution(recipe_df[\"ingredients\"])\n",
    "plot_ingredient_distribution(recipe_df[\"cleaned_ingredients\"])"
   ]
  },
  {
   "cell_type": "code",
   "execution_count": null,
   "metadata": {},
   "outputs": [],
   "source": [
    "plot_common_ingredients(recipe_df[\"ingredients\"])\n",
    "plot_common_ingredients(recipe_df[\"cleaned_ingredients\"])"
   ]
  },
  {
   "cell_type": "markdown",
   "metadata": {},
   "source": [
    "### Remove common ingredients not specific to Filipino cuisine"
   ]
  },
  {
   "cell_type": "code",
   "execution_count": null,
   "metadata": {},
   "outputs": [],
   "source": [
    "ingredients_to_remove = [\"oil\", \"salt\", \"onion\", \"sugar\", \"pepper\", \"garlic\"]\n",
    "\n",
    "recipe_df[\"cleaned_ingredients\"] = recipe_df[\"cleaned_ingredients\"].apply(\n",
    "    lambda ingredients: [\n",
    "        i for i in ingredients if i not in ingredients_to_remove\n",
    "    ]\n",
    ")\n",
    "\n",
    "plot_common_ingredients(recipe_df[\"cleaned_ingredients\"])"
   ]
  },
  {
   "cell_type": "markdown",
   "metadata": {},
   "source": [
    "### Remove rare ingredients"
   ]
  },
  {
   "cell_type": "code",
   "execution_count": null,
   "metadata": {},
   "outputs": [],
   "source": [
    "counts = recipe_df[\"cleaned_ingredients\"].explode().value_counts()\n",
    "rare_ingredients = counts[counts <= 5].index\n",
    "\n",
    "rare_ingredients[:10]"
   ]
  },
  {
   "cell_type": "code",
   "execution_count": null,
   "metadata": {},
   "outputs": [],
   "source": [
    "with open(\"data/rare_ingredients.txt\", \"w\", encoding=\"utf-8\") as file:\n",
    "    file.writelines(\"\\n\".join(sorted(rare_ingredients)))"
   ]
  },
  {
   "cell_type": "code",
   "execution_count": null,
   "metadata": {},
   "outputs": [],
   "source": [
    "def remove_rare_ingredients(ingredients):\n",
    "    \"\"\"Remove rare ingredients from a list.\"\"\"\n",
    "    return [\n",
    "        ingredient\n",
    "        for ingredient in ingredients\n",
    "        if ingredient not in rare_ingredients\n",
    "    ]\n",
    "\n",
    "\n",
    "reduced_df = recipe_df.copy()\n",
    "\n",
    "reduced_df.loc[:, \"cleaned_ingredients\"] = (\n",
    "    reduced_df[\"cleaned_ingredients\"].apply(remove_rare_ingredients)\n",
    ")\n",
    "\n",
    "plot_ingredient_distribution(reduced_df[\"cleaned_ingredients\"])"
   ]
  },
  {
   "cell_type": "code",
   "execution_count": null,
   "metadata": {},
   "outputs": [],
   "source": [
    "plot_common_ingredients(reduced_df[\"cleaned_ingredients\"], most_common=False)"
   ]
  },
  {
   "cell_type": "markdown",
   "metadata": {},
   "source": [
    "### Remove recipes with very few ingredients"
   ]
  },
  {
   "cell_type": "code",
   "execution_count": null,
   "metadata": {},
   "outputs": [],
   "source": [
    "counts = reduced_df[\"cleaned_ingredients\"].apply(len)\n",
    "q1 = counts.quantile(0.75)\n",
    "reduced_df = reduced_df[counts <= q1]\n",
    "\n",
    "plot_ingredient_distribution(reduced_df, colname=\"cleaned_ingredients\")"
   ]
  },
  {
   "cell_type": "code",
   "execution_count": null,
   "metadata": {},
   "outputs": [],
   "source": [
    "plot_common_ingredients(reduced_df, colname=\"cleaned_ingredients\")"
   ]
  },
  {
   "cell_type": "markdown",
   "metadata": {},
   "source": [
    "## Vectorization\n"
   ]
  },
  {
   "cell_type": "code",
   "execution_count": null,
   "metadata": {},
   "outputs": [],
   "source": [
    "from sentence_transformers import SentenceTransformer\n",
    "\n",
    "model = SentenceTransformer(\"all-mpnet-base-v2\")\n",
    "embeddings = model.encode(\n",
    "    [\" \".join(sorted(ingredients)) for ingredients in reduced_df[\"ingredients\"]],\n",
    "    show_progress_bar=True,\n",
    ")"
   ]
  },
  {
   "cell_type": "code",
   "execution_count": null,
   "metadata": {},
   "outputs": [],
   "source": [
    "embeddings.shape"
   ]
  },
  {
   "cell_type": "markdown",
   "metadata": {},
   "source": [
    "## Dimensionality reduction"
   ]
  },
  {
   "cell_type": "code",
   "execution_count": null,
   "metadata": {},
   "outputs": [],
   "source": [
    "from sklearn.decomposition import TruncatedSVD\n",
    "\n",
    "dimensions_to_keep = 2\n",
    "svd = TruncatedSVD(n_components=dimensions_to_keep)\n",
    "reduced_embeddings = svd.fit_transform(embeddings)"
   ]
  },
  {
   "cell_type": "markdown",
   "metadata": {},
   "source": [
    "## Clustering\n"
   ]
  },
  {
   "cell_type": "code",
   "execution_count": null,
   "metadata": {},
   "outputs": [],
   "source": [
    "from sklearn.cluster import AgglomerativeClustering\n",
    "\n",
    "n_clusters = 7\n",
    "clustering = AgglomerativeClustering(n_clusters=n_clusters, linkage=\"ward\")\n",
    "cluster_labels = clustering.fit_predict(reduced_embeddings)"
   ]
  },
  {
   "cell_type": "markdown",
   "metadata": {},
   "source": [
    "## Visualization\n"
   ]
  },
  {
   "cell_type": "code",
   "execution_count": null,
   "metadata": {},
   "outputs": [],
   "source": [
    "import plotly.express as px\n",
    "import pandas as pd\n",
    "\n",
    "recipe_df = pd.DataFrame(\n",
    "    {\n",
    "        \"x\": reduced_embeddings[:, 0],\n",
    "        \"y\": reduced_embeddings[:, 1],\n",
    "        \"cluster\": cluster_labels.astype(str),\n",
    "        \"recipe_name\": reduced_df[\"name\"],\n",
    "        \"cleaned_ingredients\": [\n",
    "            \"<br>\".join(ingredients)\n",
    "            for ingredients in reduced_df[\"cleaned_ingredients\"]\n",
    "        ],\n",
    "    }\n",
    ")\n",
    "\n",
    "fig = px.scatter(\n",
    "    recipe_df,\n",
    "    x=\"x\",\n",
    "    y=\"y\",\n",
    "    color=\"cluster\",\n",
    "    hover_name=\"recipe_name\",\n",
    "    hover_data=[\"cleaned_ingredients\"],\n",
    "    width=750,\n",
    "    height=750,\n",
    "    color_discrete_sequence=px.colors.qualitative.Bold,\n",
    ")\n",
    "\n",
    "fig.update_traces(marker=dict(size=5))\n",
    "fig.update_layout(title=\"Ingredient-Based Clustering of Filipino Dishes\")\n",
    "\n",
    "unique_clusters = recipe_df[\"cluster\"].unique()\n",
    "buttons = list(\n",
    "    [\n",
    "        dict(\n",
    "            label=f\"Cluster {cluster}\",\n",
    "            method=\"update\",\n",
    "            args=[\n",
    "                {\"visible\": [cluster == c for c in unique_clusters]},\n",
    "                {\"title\": f\"Ingredient-Based Clustering - Cluster {cluster}\"},\n",
    "            ],\n",
    "        )\n",
    "        for cluster in unique_clusters\n",
    "    ]\n",
    ")\n",
    "fig.update_layout(\n",
    "    updatemenus=[\n",
    "        dict(\n",
    "            type=\"buttons\",\n",
    "            direction=\"down\",\n",
    "            buttons=buttons,\n",
    "        )\n",
    "    ]\n",
    ")\n",
    "\n",
    "fig.show()"
   ]
  }
 ],
 "metadata": {
  "kernelspec": {
   "display_name": "venv",
   "language": "python",
   "name": "python3"
  },
  "language_info": {
   "codemirror_mode": {
    "name": "ipython",
    "version": 3
   },
   "file_extension": ".py",
   "mimetype": "text/x-python",
   "name": "python",
   "nbconvert_exporter": "python",
   "pygments_lexer": "ipython3",
   "version": "3.12.2"
  }
 },
 "nbformat": 4,
 "nbformat_minor": 2
}
