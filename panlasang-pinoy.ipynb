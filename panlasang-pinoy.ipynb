{
 "cells": [
  {
   "cell_type": "markdown",
   "metadata": {},
   "source": [
    "# Ingredient-Based Clustering of Pinoy Dishes\n"
   ]
  },
  {
   "cell_type": "markdown",
   "metadata": {},
   "source": [
    "## Data loading and preview\n"
   ]
  },
  {
   "cell_type": "markdown",
   "metadata": {},
   "source": [
    "### Load the recipe dataset"
   ]
  },
  {
   "cell_type": "code",
   "execution_count": 1,
   "metadata": {},
   "outputs": [
    {
     "data": {
      "text/html": [
       "<div>\n",
       "<style scoped>\n",
       "    .dataframe tbody tr th:only-of-type {\n",
       "        vertical-align: middle;\n",
       "    }\n",
       "\n",
       "    .dataframe tbody tr th {\n",
       "        vertical-align: top;\n",
       "    }\n",
       "\n",
       "    .dataframe thead th {\n",
       "        text-align: right;\n",
       "    }\n",
       "</style>\n",
       "<table border=\"1\" class=\"dataframe\">\n",
       "  <thead>\n",
       "    <tr style=\"text-align: right;\">\n",
       "      <th></th>\n",
       "      <th>link</th>\n",
       "      <th>name</th>\n",
       "      <th>ingredients</th>\n",
       "      <th>instructions</th>\n",
       "    </tr>\n",
       "  </thead>\n",
       "  <tbody>\n",
       "    <tr>\n",
       "      <th>0</th>\n",
       "      <td>https://www.kawalingpinoy.com/cheese-cupcakes/</td>\n",
       "      <td>Cheese Cupcakes</td>\n",
       "      <td>[flour, sifted, baking powder, salt, butter, s...</td>\n",
       "      <td>[Line muffin pan with cupcake liners., In a la...</td>\n",
       "    </tr>\n",
       "    <tr>\n",
       "      <th>1</th>\n",
       "      <td>https://www.kawalingpinoy.com/adobong-sitaw-wi...</td>\n",
       "      <td>Adobong Sitaw with Pork</td>\n",
       "      <td>[canola oil, pork belly, cut into thin strips,...</td>\n",
       "      <td>[In a skillet over medium heat, heat oil. Add ...</td>\n",
       "    </tr>\n",
       "    <tr>\n",
       "      <th>2</th>\n",
       "      <td>https://www.kawalingpinoy.com/burger-steak/</td>\n",
       "      <td>Burger Steak</td>\n",
       "      <td>[white bread, torn into small pieces, beef bro...</td>\n",
       "      <td>[In a small bowl, soak bread in broth. Tear wi...</td>\n",
       "    </tr>\n",
       "    <tr>\n",
       "      <th>3</th>\n",
       "      <td>https://www.kawalingpinoy.com/chicken-menudo/</td>\n",
       "      <td>Chicken Menudo</td>\n",
       "      <td>[canola oil, red bell pepper, cored, seeded an...</td>\n",
       "      <td>[In a wide pan over medium heat, heat 1 tables...</td>\n",
       "    </tr>\n",
       "    <tr>\n",
       "      <th>4</th>\n",
       "      <td>https://www.kawalingpinoy.com/beef-salpicao/</td>\n",
       "      <td>Beef Salpicao</td>\n",
       "      <td>[ribeye steak, cut into 1-inch cubes, salt and...</td>\n",
       "      <td>[In a bowl, season beef with salt and pepper t...</td>\n",
       "    </tr>\n",
       "  </tbody>\n",
       "</table>\n",
       "</div>"
      ],
      "text/plain": [
       "                                                link                     name  \\\n",
       "0     https://www.kawalingpinoy.com/cheese-cupcakes/          Cheese Cupcakes   \n",
       "1  https://www.kawalingpinoy.com/adobong-sitaw-wi...  Adobong Sitaw with Pork   \n",
       "2        https://www.kawalingpinoy.com/burger-steak/             Burger Steak   \n",
       "3      https://www.kawalingpinoy.com/chicken-menudo/           Chicken Menudo   \n",
       "4       https://www.kawalingpinoy.com/beef-salpicao/            Beef Salpicao   \n",
       "\n",
       "                                         ingredients  \\\n",
       "0  [flour, sifted, baking powder, salt, butter, s...   \n",
       "1  [canola oil, pork belly, cut into thin strips,...   \n",
       "2  [white bread, torn into small pieces, beef bro...   \n",
       "3  [canola oil, red bell pepper, cored, seeded an...   \n",
       "4  [ribeye steak, cut into 1-inch cubes, salt and...   \n",
       "\n",
       "                                        instructions  \n",
       "0  [Line muffin pan with cupcake liners., In a la...  \n",
       "1  [In a skillet over medium heat, heat oil. Add ...  \n",
       "2  [In a small bowl, soak bread in broth. Tear wi...  \n",
       "3  [In a wide pan over medium heat, heat 1 tables...  \n",
       "4  [In a bowl, season beef with salt and pepper t...  "
      ]
     },
     "execution_count": 1,
     "metadata": {},
     "output_type": "execute_result"
    }
   ],
   "source": [
    "import json\n",
    "import os\n",
    "\n",
    "import pandas as pd\n",
    "\n",
    "\n",
    "def merge_recipe_data(path=\"data\"):\n",
    "    \"\"\"Combines all recipe data into a single list.\"\"\"\n",
    "    recipe_files = [\n",
    "        file for file in os.listdir(path) if file.endswith(\"recipes.json\")\n",
    "    ]\n",
    "\n",
    "    recipes = []\n",
    "    for file in recipe_files:\n",
    "        file_path = os.path.join(path, file)\n",
    "        with open(file_path, encoding=\"utf-8\") as f:\n",
    "            recipe_data = json.load(f)\n",
    "            recipes.extend(recipe_data)\n",
    "\n",
    "    return recipes\n",
    "\n",
    "\n",
    "recipes = merge_recipe_data()\n",
    "recipe_df = pd.DataFrame(recipes)\n",
    "recipe_df.head()"
   ]
  },
  {
   "cell_type": "code",
   "execution_count": 2,
   "metadata": {},
   "outputs": [
    {
     "name": "stdout",
     "output_type": "stream",
     "text": [
      "<class 'pandas.core.frame.DataFrame'>\n",
      "RangeIndex: 2815 entries, 0 to 2814\n",
      "Data columns (total 4 columns):\n",
      " #   Column        Non-Null Count  Dtype \n",
      "---  ------        --------------  ----- \n",
      " 0   link          2815 non-null   object\n",
      " 1   name          2469 non-null   object\n",
      " 2   ingredients   2469 non-null   object\n",
      " 3   instructions  2469 non-null   object\n",
      "dtypes: object(4)\n",
      "memory usage: 88.1+ KB\n"
     ]
    }
   ],
   "source": [
    "recipe_df.info()"
   ]
  },
  {
   "cell_type": "markdown",
   "metadata": {},
   "source": [
    "### Visualize general statistics about the ingredients"
   ]
  },
  {
   "cell_type": "code",
   "execution_count": 3,
   "metadata": {},
   "outputs": [
    {
     "data": {
      "image/png": "[encoded data removed]",
      "text/plain": [
       "<Figure size 1000x500 with 1 Axes>"
      ]
     },
     "metadata": {},
     "output_type": "display_data"
    }
   ],
   "source": [
    "%matplotlib inline\n",
    "\n",
    "import matplotlib.pyplot as plt\n",
    "import seaborn as sns\n",
    "\n",
    "def plot_ingredient_counts(df):\n",
    "    \"\"\"Plots the distribution of ingredient counts in a Pandas DataFrame.\"\"\"\n",
    "\n",
    "    ingredient_counts = df['ingredients'].dropna().apply(len)\n",
    "\n",
    "    plt.figure(figsize=(10, 5))\n",
    "    sns.histplot(ingredient_counts, kde=True, binwidth=1)\n",
    "    plt.title(f\"Number of ingredients in {len(ingredient_counts)} recipes\")\n",
    "    plt.xlabel(\"Number of ingredients\")\n",
    "    # plt.xticks(range(0, ingredient_counts.max() + 1, 4))\n",
    "    plt.ylabel(\"Number of recipes\")\n",
    "    plt.show()\n",
    "\n",
    "plot_ingredient_counts(recipe_df)"
   ]
  },
  {
   "cell_type": "code",
   "execution_count": 4,
   "metadata": {},
   "outputs": [
    {
     "data": {
      "image/png": "[encoded data removed]",
      "text/plain": [
       "<Figure size 700x500 with 1 Axes>"
      ]
     },
     "metadata": {},
     "output_type": "display_data"
    }
   ],
   "source": [
    "import matplotlib.pyplot as plt\n",
    "import seaborn as sns\n",
    "\n",
    "\n",
    "def plot_ingredient_frequencies(df, n=20, most_common=True, figsize=(7, 5)):\n",
    "    \"\"\"Displays a bar plot of the most or least frequent ingredients.\"\"\"\n",
    "\n",
    "    all_ingredients = df[\"ingredients\"].dropna().explode()\n",
    "    ingredient_counts = all_ingredients.value_counts()\n",
    "\n",
    "    if most_common:\n",
    "        top_n_ingredients = ingredient_counts.head(n)\n",
    "    else:\n",
    "        top_n_ingredients = ingredient_counts.tail(n)\n",
    "\n",
    "    plt.figure(figsize=figsize)\n",
    "    sns.barplot(\n",
    "        x=top_n_ingredients.values,\n",
    "        y=top_n_ingredients.index,\n",
    "    )\n",
    "\n",
    "    title = f\"Top {n} {'Most' if most_common else 'Least'} Common Ingredients\"\n",
    "    plt.title(title)\n",
    "    plt.xlabel(\"Number of Recipes\")\n",
    "    plt.ylabel(\"Ingredient\")\n",
    "    plt.show()\n",
    "\n",
    "\n",
    "plot_ingredient_frequencies(recipe_df)"
   ]
  },
  {
   "cell_type": "markdown",
   "metadata": {},
   "source": [
    "### Save raw ingredients for reference"
   ]
  },
  {
   "cell_type": "code",
   "execution_count": 5,
   "metadata": {},
   "outputs": [],
   "source": [
    "unique_ingredients = recipe_df[\"ingredients\"].dropna().explode().unique()\n",
    "unique_ingredients.sort()\n",
    "\n",
    "with open(\"data/unique_raw_ingredients.txt\", \"w\", encoding=\"utf-8\") as file:\n",
    "    file.writelines(\"\\n\".join(unique_ingredients))"
   ]
  },
  {
   "cell_type": "markdown",
   "metadata": {},
   "source": [
    "## Preprocessing\n"
   ]
  },
  {
   "cell_type": "markdown",
   "metadata": {},
   "source": [
    "### Remove recipes without ingredients"
   ]
  },
  {
   "cell_type": "code",
   "execution_count": 6,
   "metadata": {},
   "outputs": [
    {
     "name": "stdout",
     "output_type": "stream",
     "text": [
      "<class 'pandas.core.frame.DataFrame'>\n",
      "Index: 2469 entries, 0 to 2814\n",
      "Data columns (total 4 columns):\n",
      " #   Column        Non-Null Count  Dtype \n",
      "---  ------        --------------  ----- \n",
      " 0   link          2469 non-null   object\n",
      " 1   name          2469 non-null   object\n",
      " 2   ingredients   2469 non-null   object\n",
      " 3   instructions  2469 non-null   object\n",
      "dtypes: object(4)\n",
      "memory usage: 96.4+ KB\n"
     ]
    }
   ],
   "source": [
    "recipe_df = recipe_df.dropna(subset=[\"ingredients\", \"name\"])\n",
    "recipe_df.info()"
   ]
  },
  {
   "cell_type": "markdown",
   "metadata": {},
   "source": [
    "### Tokenize"
   ]
  },
  {
   "cell_type": "code",
   "execution_count": 7,
   "metadata": {},
   "outputs": [
    {
     "name": "stdout",
     "output_type": "stream",
     "text": [
      "text    lemma    pos    tag    dep       is_alpha\n",
      "------  -------  -----  -----  --------  ----------\n",
      "14      14       NUM    CD     nummod    False\n",
      "oz      oz       NOUN   NN     compound  True\n",
      ".       .        PUNCT  .      punct     False\n",
      "bean    bean     NOUN   NN     compound  True\n",
      "bean    bean     NOUN   NN     compound  True\n",
      "curd    curd     PROPN  NNP    ROOT      True\n",
      "(       (        PUNCT  -LRB-  punct     False\n",
      "sliced  slice    VERB   VBN    acl       True\n",
      ",       ,        PUNCT  ,      punct     False\n",
      "1/2     1/2      NUM    CD     npadvmod  False\n",
      "in      in       ADP    IN     prep      True\n",
      ".       .        PUNCT  .      punct     False\n",
      "thick   thick    ADJ    JJ     amod      True\n",
      "flat    flat     ADJ    JJ     amod      True\n",
      "pieces  piece    NOUN   NNS    ROOT      True\n",
      ")       )        PUNCT  -RRB-  punct     False\n"
     ]
    }
   ],
   "source": [
    "import spacy\n",
    "from tabulate import tabulate\n",
    "\n",
    "nlp = spacy.load(\"en_core_web_lg\")\n",
    "\n",
    "\n",
    "def display_tokens(text):\n",
    "    \"\"\"Display token attributes for a given string.\"\"\",\n",
    "    rows = []\n",
    "    for token in nlp(text):\n",
    "        row = [\n",
    "            token.text,\n",
    "            token.lemma_,\n",
    "            token.pos_,\n",
    "            token.tag_,\n",
    "            token.dep_,\n",
    "            token.is_alpha,\n",
    "        ]\n",
    "        rows.append(row)\n",
    "    headers = [\"text\", \"lemma\", \"pos\", \"tag\", \"dep\", \"is_alpha\"]\n",
    "    print(tabulate(rows, headers=headers))\n",
    "\n",
    "\n",
    "SAMPLE_INGREDIENT = \"14 oz. bean bean curd (sliced, 1/2 in. thick flat pieces)\"\n",
    "display_tokens(SAMPLE_INGREDIENT)"
   ]
  },
  {
   "cell_type": "markdown",
   "metadata": {},
   "source": [
    "### Lemmatize and remove non-ingredient words"
   ]
  },
  {
   "cell_type": "code",
   "execution_count": 8,
   "metadata": {},
   "outputs": [
    {
     "name": "stdout",
     "output_type": "stream",
     "text": [
      "text    lemma    pos    tag    dep       is_alpha\n",
      "------  -------  -----  -----  --------  ----------\n",
      "oz      oz       NOUN   NN     compound  True\n",
      "bean    bean     NOUN   NN     compound  True\n",
      "bean    bean     NOUN   NN     compound  True\n",
      "curd    curd     NOUN   NN     compound  True\n",
      "piece   piece    NOUN   NN     ROOT      True\n"
     ]
    }
   ],
   "source": [
    "def lemmatize_valid_nouns(ingredient):\n",
    "    \"\"\"Lemmatize valid nouns in a string.\"\"\",\n",
    "    doc = nlp(ingredient)\n",
    "    valid_lemmas = []\n",
    "    for token in doc:\n",
    "        if token.is_alpha and token.pos_ in [\"NOUN\", \"PROPN\"]:\n",
    "            valid_lemmas.append(token.lemma_)\n",
    "    return \" \".join(valid_lemmas)\n",
    "\n",
    "\n",
    "lemmatized = lemmatize_valid_nouns(SAMPLE_INGREDIENT)\n",
    "display_tokens(lemmatized)"
   ]
  },
  {
   "cell_type": "markdown",
   "metadata": {},
   "source": [
    "### Remove culinary stop words"
   ]
  },
  {
   "cell_type": "code",
   "execution_count": 9,
   "metadata": {},
   "outputs": [
    {
     "name": "stdout",
     "output_type": "stream",
     "text": [
      "text    lemma    pos    tag    dep       is_alpha\n",
      "------  -------  -----  -----  --------  ----------\n",
      "bean    bean     NOUN   NN     compound  True\n",
      "bean    bean     NOUN   NN     compound  True\n",
      "curd    curd     NOUN   NN     ROOT      True\n"
     ]
    }
   ],
   "source": [
    "with open(f\"data/culinary_stopwords.txt\") as file:\n",
    "    stopwords = [line.strip() for line in file]\n",
    "\n",
    "\n",
    "def filter_stopwords(text):\n",
    "    \"\"\"Filter out stopwords from a string.\"\"\"\n",
    "    meaningful_terms = []\n",
    "    for term in text.split():\n",
    "        if term not in stopwords:\n",
    "            meaningful_terms.append(term)\n",
    "    return \" \".join(meaningful_terms)\n",
    "\n",
    "\n",
    "filtered = filter_stopwords(lemmatized)\n",
    "display_tokens(filtered)"
   ]
  },
  {
   "cell_type": "markdown",
   "metadata": {},
   "source": [
    "### Remove duplicate terms"
   ]
  },
  {
   "cell_type": "code",
   "execution_count": 10,
   "metadata": {},
   "outputs": [
    {
     "name": "stdout",
     "output_type": "stream",
     "text": [
      "text    lemma    pos    tag    dep       is_alpha\n",
      "------  -------  -----  -----  --------  ----------\n",
      "bean    bean     PROPN  NNP    compound  True\n",
      "curd    curd     NOUN   NN     ROOT      True\n"
     ]
    }
   ],
   "source": [
    "def remove_duplicates(text):\n",
    "    \"\"\"Remove duplicate terms while preserving order.\"\"\"\n",
    "    seen = set()\n",
    "    unique = []\n",
    "    for ingredient in text.split():\n",
    "        if ingredient not in seen:\n",
    "            unique.append(ingredient)\n",
    "            seen.add(ingredient)\n",
    "    return \" \".join(unique)\n",
    "\n",
    "unique = remove_duplicates(filtered)\n",
    "display_tokens(unique)"
   ]
  },
  {
   "cell_type": "markdown",
   "metadata": {},
   "source": [
    "### Handle synonyms to standardize ingredients"
   ]
  },
  {
   "cell_type": "code",
   "execution_count": 11,
   "metadata": {},
   "outputs": [
    {
     "name": "stdout",
     "output_type": "stream",
     "text": [
      "text    lemma    pos    tag    dep    is_alpha\n",
      "------  -------  -----  -----  -----  ----------\n",
      "tofu    tofu     VERB   VB     ROOT   True\n"
     ]
    }
   ],
   "source": [
    "with open(\"data/ingredient_synonyms.json\") as file:\n",
    "    ingredient_synonyms = json.load(file)\n",
    "\n",
    "\n",
    "def handle_synonym(ingredient):\n",
    "    \"\"\"Replace ingredient synonyms with a common name.\"\"\"\n",
    "    return ingredient_synonyms.get(ingredient, ingredient)\n",
    "\n",
    "common_name = handle_synonym(unique)\n",
    "display_tokens(common_name)"
   ]
  },
  {
   "cell_type": "markdown",
   "metadata": {},
   "source": [
    "### Define the entire preprocessing pipeline"
   ]
  },
  {
   "cell_type": "code",
   "execution_count": 12,
   "metadata": {},
   "outputs": [
    {
     "data": {
      "text/plain": [
       "'tofu'"
      ]
     },
     "execution_count": 12,
     "metadata": {},
     "output_type": "execute_result"
    }
   ],
   "source": [
    "def preprocess_ingredient(ingredient):\n",
    "    \"\"\"Preprocess an ingredient string to extract key terms.\"\"\",\n",
    "    main_text = ingredient.split(\"(\")[0]\n",
    "    first_option = main_text.split(\" or \")[0]\n",
    "    formatted = first_option.lower().strip()\n",
    "\n",
    "    lemmatized = lemmatize_valid_nouns(formatted)\n",
    "    filtered = filter_stopwords(lemmatized)\n",
    "    unique = remove_duplicates(filtered)\n",
    "    common_name = handle_synonym(unique)\n",
    "\n",
    "    return common_name\n",
    "\n",
    "\n",
    "clean_ingredient = preprocess_ingredient(SAMPLE_INGREDIENT)\n",
    "clean_ingredient"
   ]
  },
  {
   "cell_type": "markdown",
   "metadata": {},
   "source": [
    "### Apply the preprocessing pipeline"
   ]
  },
  {
   "cell_type": "code",
   "execution_count": 13,
   "metadata": {},
   "outputs": [
    {
     "data": {
      "application/vnd.jupyter.widget-view+json": {
       "model_id": "d60a8e460ef14e77aba5d23a23aa4c9e",
       "version_major": 2,
       "version_minor": 0
      },
      "text/plain": [
       "  0%|          | 0/2469 [00:00<?, ?it/s]"
      ]
     },
     "metadata": {},
     "output_type": "display_data"
    }
   ],
   "source": [
    "from tqdm.auto import tqdm\n",
    "\n",
    "\n",
    "def clean_ingredients(ingredients):\n",
    "    \"\"\"Applies preprocessing to a list of ingredients.\"\"\"\n",
    "    cleaned_ingredients = [\n",
    "        preprocess_ingredient(ingredient) for ingredient in ingredients\n",
    "    ]\n",
    "    return list(sorted(set(filter(None, cleaned_ingredients))))\n",
    "\n",
    "\n",
    "tqdm.pandas()\n",
    "\n",
    "cleaned_df = recipe_df.copy()\n",
    "cleaned_df[\"ingredients\"] = (\n",
    "    cleaned_df[\"ingredients\"].progress_apply(clean_ingredients)\n",
    ")"
   ]
  },
  {
   "cell_type": "markdown",
   "metadata": {},
   "source": [
    "### Visualize cleaned ingredients"
   ]
  },
  {
   "cell_type": "code",
   "execution_count": 14,
   "metadata": {},
   "outputs": [
    {
     "data": {
      "image/png": "[encoded data removed]",
      "text/plain": [
       "<Figure size 1000x500 with 1 Axes>"
      ]
     },
     "metadata": {},
     "output_type": "display_data"
    }
   ],
   "source": [
    "plot_ingredient_counts(cleaned_df)"
   ]
  },
  {
   "cell_type": "code",
   "execution_count": 15,
   "metadata": {},
   "outputs": [
    {
     "data": {
      "image/png": "[encoded data removed]",
      "text/plain": [
       "<Figure size 700x500 with 1 Axes>"
      ]
     },
     "metadata": {},
     "output_type": "display_data"
    }
   ],
   "source": [
    "plot_ingredient_frequencies(cleaned_df)"
   ]
  },
  {
   "cell_type": "markdown",
   "metadata": {},
   "source": [
    "### Remove recipes rare ingredients"
   ]
  },
  {
   "cell_type": "code",
   "execution_count": 16,
   "metadata": {},
   "outputs": [],
   "source": [
    "ingredient_counts = cleaned_df[\"ingredients\"].explode().value_counts()\n",
    "rare_ingredients = ingredient_counts[ingredient_counts <= 5].index\n",
    "rare_ingredients\n",
    "\n",
    "with open(\"data/rare_ingredients.txt\", \"w\", encoding=\"utf-8\") as file:\n",
    "    file.writelines(\"\\n\".join(sorted(rare_ingredients)))"
   ]
  },
  {
   "cell_type": "code",
   "execution_count": 17,
   "metadata": {},
   "outputs": [
    {
     "data": {
      "image/png": "[encoded data removed]",
      "text/plain": [
       "<Figure size 1000x500 with 1 Axes>"
      ]
     },
     "metadata": {},
     "output_type": "display_data"
    }
   ],
   "source": [
    "def remove_rare_ingredients(ingredients):\n",
    "    \"\"\"Remove rare ingredients from a list.\"\"\"\n",
    "    return [\n",
    "        ingredient\n",
    "        for ingredient in ingredients\n",
    "        if ingredient not in rare_ingredients\n",
    "    ]\n",
    "\n",
    "\n",
    "cleaned_df.loc[:, \"ingredients\"] = cleaned_df[\"ingredients\"].apply(\n",
    "    remove_rare_ingredients\n",
    ")\n",
    "\n",
    "plot_ingredient_counts(cleaned_df)"
   ]
  },
  {
   "cell_type": "markdown",
   "metadata": {},
   "source": [
    "### Remove recipes with very few ingredients"
   ]
  },
  {
   "cell_type": "code",
   "execution_count": 18,
   "metadata": {},
   "outputs": [
    {
     "data": {
      "image/png": "[encoded data removed]",
      "text/plain": [
       "<Figure size 1000x500 with 1 Axes>"
      ]
     },
     "metadata": {},
     "output_type": "display_data"
    }
   ],
   "source": [
    "ingredient_counts = cleaned_df[\"ingredients\"].apply(len)\n",
    "q1 = ingredient_counts.quantile(0.75)\n",
    "reduced_df = cleaned_df[ingredient_counts <= q1]\n",
    "\n",
    "plot_ingredient_counts(reduced_df)"
   ]
  },
  {
   "cell_type": "code",
   "execution_count": 19,
   "metadata": {},
   "outputs": [
    {
     "data": {
      "image/png": "[encoded data removed]",
      "text/plain": [
       "<Figure size 700x500 with 1 Axes>"
      ]
     },
     "metadata": {},
     "output_type": "display_data"
    }
   ],
   "source": [
    "plot_ingredient_frequencies(reduced_df)"
   ]
  },
  {
   "cell_type": "markdown",
   "metadata": {},
   "source": [
    "### Regenerate the synonym dictionary"
   ]
  },
  {
   "cell_type": "code",
   "execution_count": 20,
   "metadata": {},
   "outputs": [],
   "source": [
    "all_ingredients = reduced_df[\"ingredients\"].explode().unique().astype(str)\n",
    "all_ingredients.sort()\n",
    "ingredient_pairs = dict(zip(all_ingredients, all_ingredients))\n",
    "\n",
    "with open(\"synonyms.json\", \"w\", encoding=\"utf-8\") as file:\n",
    "    json.dump(ingredient_pairs, file, indent=2)"
   ]
  },
  {
   "cell_type": "markdown",
   "metadata": {},
   "source": [
    "## Vectorization\n"
   ]
  },
  {
   "cell_type": "code",
   "execution_count": 21,
   "metadata": {},
   "outputs": [
    {
     "data": {
      "application/vnd.jupyter.widget-view+json": {
       "model_id": "49d49313c68f4830a48bc30f87edea0e",
       "version_major": 2,
       "version_minor": 0
      },
      "text/plain": [
       "Batches:   0%|          | 0/65 [00:00<?, ?it/s]"
      ]
     },
     "metadata": {},
     "output_type": "display_data"
    }
   ],
   "source": [
    "from sentence_transformers import SentenceTransformer\n",
    "\n",
    "model = SentenceTransformer(\"all-mpnet-base-v2\")\n",
    "embeddings = model.encode(\n",
    "    [\" \".join(sorted(ingredients)) for ingredients in reduced_df[\"ingredients\"]],\n",
    "    show_progress_bar=True,\n",
    ")"
   ]
  },
  {
   "cell_type": "code",
   "execution_count": 22,
   "metadata": {},
   "outputs": [
    {
     "data": {
      "text/plain": [
       "(2069, 768)"
      ]
     },
     "execution_count": 22,
     "metadata": {},
     "output_type": "execute_result"
    }
   ],
   "source": [
    "embeddings.shape"
   ]
  },
  {
   "cell_type": "markdown",
   "metadata": {},
   "source": [
    "## Dimensionality reduction"
   ]
  },
  {
   "cell_type": "code",
   "execution_count": 23,
   "metadata": {},
   "outputs": [],
   "source": [
    "from sklearn.decomposition import TruncatedSVD\n",
    "\n",
    "dimensions_to_keep = 2\n",
    "svd = TruncatedSVD(n_components=dimensions_to_keep)\n",
    "reduced_embeddings = svd.fit_transform(embeddings)"
   ]
  },
  {
   "cell_type": "markdown",
   "metadata": {},
   "source": [
    "## Clustering\n"
   ]
  },
  {
   "cell_type": "code",
   "execution_count": 24,
   "metadata": {},
   "outputs": [],
   "source": [
    "from sklearn.cluster import AgglomerativeClustering\n",
    "\n",
    "n_clusters = 7\n",
    "clustering = AgglomerativeClustering(n_clusters=n_clusters, linkage=\"ward\")\n",
    "cluster_labels = clustering.fit_predict(reduced_embeddings)"
   ]
  },
  {
   "cell_type": "markdown",
   "metadata": {},
   "source": [
    "## Visualization\n"
   ]
  },
  {
   "cell_type": "code",
   "execution_count": 25,
   "metadata": {},
   "outputs": [
    {
     "data": {
      "application/vnd.plotly.v1+json": {
       "config": {
        "plotlyServerURL": "https://plot.ly"
       },
       "data": [
        {
         "customdata": [
          [
           "butter<br>cheese<br>egg<br>flour"
          ],
          [
           "beef<br>beef broth<br>bread<br>butter<br>egg"
          ],
          [
           "coconut<br>cornstarch<br>jackfruit<br>mung bean<br>rice<br>sago"
          ],
          [
           "cabbage<br>carrot<br>chicken<br>corn starch<br>egg<br>fish"
          ],
          [
           "banana<br>cheese<br>egg<br>lettuce<br>mayonnaise<br>oyster<br>tomato"
          ],
          [
           "breadcrumb<br>butter<br>egg<br>flour<br>milk"
          ],
          [
           "carrot<br>cream<br>egg<br>fish<br>peas"
          ],
          [
           "fish<br>shrimp<br>spinach<br>tomato"
          ],
          [
           "bread<br>bread crumb<br>cheese<br>egg<br>milk"
          ],
          [
           "cabbage<br>carrot<br>corn starch<br>mushroom"
          ],
          [
           "bean<br>shrimp<br>soy<br>tomato"
          ],
          [
           "broccoli floret<br>carrot<br>chicken<br>lime<br>pancit<br>sausage<br>shrimp"
          ],
          [
           "fish<br>patola<br>pork"
          ],
          [
           "bread crumb<br>cabbage<br>egg<br>pork"
          ],
          [
           "beef<br>carrot<br>fish<br>peas<br>potato<br>raisin<br>tomato"
          ],
          [
           "butter<br>cheese<br>coconut<br>egg<br>margarine<br>rice"
          ],
          [
           "cheese<br>coconut<br>egg<br>margarine<br>rice"
          ],
          [
           "bean<br>carrot<br>fish<br>shrimp"
          ],
          [
           "fish<br>oyster<br>tomato"
          ],
          [
           "bell pepper<br>carrot<br>chicken<br>fish<br>pea<br>potato<br>tomato"
          ],
          [
           "butter<br>egg<br>tomato"
          ],
          [
           "cabbage<br>carrot<br>chicken<br>oyster<br>pork<br>shrimp"
          ],
          [
           "bean<br>beef<br>cabbage<br>potato"
          ],
          [
           "butter<br>egg<br>flour<br>margarine<br>milk<br>vanilla"
          ],
          [
           "beef<br>bell pepper<br>cheese<br>egg"
          ],
          [
           "bread crumb<br>coconut<br>cornstarch<br>egg<br>shrimp"
          ],
          [
           "bacon<br>egg<br>rice<br>soy"
          ],
          [
           "beef<br>egg<br>pork<br>rock<br>shrimp"
          ],
          [
           "bread<br>bread crumb<br>cheese<br>egg<br>mayonnaise<br>milk"
          ],
          [
           "butter<br>egg<br>flour<br>vanilla"
          ],
          [
           "fish<br>pechay<br>pork<br>tomato"
          ],
          [
           "bok choy<br>fish<br>ginger<br>napa cabbage<br>potato"
          ],
          [
           "chicken<br>corn kernel<br>cornstarch<br>crab<br>egg"
          ],
          [
           "bean<br>calabasa<br>eggplant<br>jackfruit<br>pork<br>shrimp"
          ],
          [
           "banana<br>beef<br>egg<br>pea<br>rice<br>soy<br>tomato"
          ],
          [
           "butter<br>egg<br>flour<br>vanilla"
          ],
          [
           "coconut<br>fish<br>mung bean<br>pork<br>spinach<br>tomato"
          ],
          [
           "fish<br>mung bean<br>spinach<br>tomato<br>vegetable"
          ],
          [
           "beef<br>bell pepper<br>carrot<br>fish<br>potato<br>tomato"
          ],
          [
           "egg<br>rice<br>soy"
          ],
          [
           "banana<br>beef<br>chorizo bilbao<br>garbanzo bean<br>pechay<br>potato"
          ],
          [
           "bread<br>bread crumb<br>cheese<br>dog<br>egg<br>milk"
          ],
          [
           "bread crumb<br>butter<br>cocoa<br>egg<br>graham<br>milk"
          ],
          [
           "breadcrumb<br>butter<br>egg<br>flour<br>milk<br>yam"
          ],
          [
           "bread<br>butter<br>egg<br>flour<br>food<br>milk<br>vanilla"
          ],
          [
           "chicken<br>egg<br>fish<br>pea<br>pineapple<br>raisin<br>rice"
          ],
          [
           "bell pepper<br>carrot<br>chili<br>potato"
          ],
          [
           "bread crumb<br>butter<br>cheese<br>egg<br>milk<br>vegetable<br>yam"
          ],
          [
           "bean<br>cabbage<br>carrot<br>spring roll<br>yam"
          ],
          [
           "coconut<br>jackfruit<br>rice<br>yam"
          ],
          [
           "butter<br>cheese<br>cream tartar<br>egg"
          ],
          [
           "butter<br>cheese<br>coconut"
          ],
          [
           "bean<br>beef<br>cabbage<br>corn<br>fish<br>potato"
          ],
          [
           "bell pepper<br>carrot<br>cheese<br>chili<br>potato<br>tomato"
          ],
          [
           "peanut<br>rice<br>sesame seeds"
          ],
          [
           "bean<br>bell pepper<br>cheese<br>chicken<br>chili<br>corn<br>spinach"
          ],
          [
           "bean<br>carrot<br>fish<br>pork<br>spring roll"
          ],
          [
           "bell pepper<br>carrot<br>fish<br>pork<br>potato<br>tomato"
          ],
          [
           "bell pepper<br>carrot<br>fish<br>pork<br>potato<br>raisin<br>tomato"
          ],
          [
           "almond<br>butter<br>cake flour<br>cheese<br>egg<br>milk<br>vanilla"
          ],
          [
           "cornstarch<br>cream tartar<br>egg<br>margarine<br>milk<br>vanilla"
          ],
          [
           "annatto<br>carrot<br>cornstarch<br>egg<br>fish<br>mung bean<br>shallot"
          ],
          [
           "bean<br>carrot<br>fish<br>pork<br>shrimp<br>spring roll"
          ],
          [
           "egg<br>pea<br>rice<br>shrimp<br>soy"
          ],
          [
           "coconut<br>fish<br>kalabasa<br>shrimp"
          ],
          [
           "fish<br>tomato"
          ],
          [
           "chicken<br>fish<br>ginger<br>potato"
          ],
          [
           "chicken<br>coconut<br>egg<br>peanut butter<br>rice"
          ],
          [
           "butter<br>cheese<br>egg<br>milk<br>vanilla"
          ],
          [
           "beef<br>fish<br>pechay<br>potato<br>roma tomato"
          ],
          [
           "butter<br>carrot<br>cream<br>egg<br>fish<br>pea<br>singkama"
          ],
          [
           "corn<br>shrimp<br>spinach"
          ],
          [
           "carrot<br>cheese<br>cornstarch<br>egg<br>lumpia<br>pork"
          ],
          [
           "butter<br>chicken<br>cornstarch<br>egg<br>flour<br>mushroom"
          ],
          [
           "butter<br>chicken<br>cornstarch<br>egg<br>flour<br>tofu"
          ],
          [
           "bean<br>bok choy<br>cabbage<br>corn<br>fish<br>pork<br>potato"
          ],
          [
           "chicken<br>egg<br>flour<br>milk"
          ],
          [
           "beef<br>bell pepper<br>cheese<br>marinara<br>mushroom<br>spaghetti"
          ],
          [
           "bell pepper<br>carrot<br>chicken<br>coconut vegetable<br>pea<br>potato<br>tomato"
          ],
          [
           "carrot<br>chicken<br>mayonnaise<br>pickle<br>pineapple<br>potato"
          ],
          [
           "butter<br>carrot<br>chicken<br>corn kernel<br>macaroni<br>mushroom"
          ],
          [
           "bacon<br>butter<br>cheese<br>egg<br>rice<br>tomato"
          ],
          [
           "corn kernel<br>crab<br>fish<br>pork"
          ],
          [
           "bacon<br>butter<br>cheese<br>flour<br>mushroom<br>spaghetti"
          ],
          [
           "bean<br>beef<br>bok choy<br>cabbage<br>fish<br>potato"
          ],
          [
           "butter<br>carrot<br>egg<br>kernel corn<br>mushroom<br>string bean"
          ],
          [
           "butter<br>chicken<br>egg<br>flour<br>milk<br>parsley"
          ],
          [
           "calabaza squash<br>coconut vegetable<br>string bean<br>tilapia"
          ],
          [
           "fish<br>mung bean<br>pork<br>tomato"
          ],
          [
           "butter<br>carrot<br>pork<br>soy<br>string bean<br>tomato"
          ],
          [
           "cheese<br>pasta<br>tomato"
          ],
          [
           "cheese<br>pasta<br>sausage<br>tomato"
          ],
          [
           "butter<br>cheese<br>chicken<br>cream<br>pasta"
          ],
          [
           "bell pepper<br>cheese<br>egg<br>pea<br>sausage"
          ],
          [
           "bell pepper<br>egg<br>pea<br>pineapple<br>rice"
          ],
          [
           "butter<br>cheese<br>mushroom<br>pork"
          ],
          [
           "beer<br>flour<br>ham<br>mozzarella<br>pineapple"
          ],
          [
           "beef<br>butter<br>carrot<br>kernel corn<br>pea"
          ],
          [
           "beef<br>bread crumb<br>egg<br>flour<br>mozzarella"
          ],
          [
           "butter<br>carrot<br>egg<br>pea<br>pork<br>rice<br>soy"
          ],
          [
           "bell pepper<br>carrot<br>cheese<br>luncheon meat<br>pea<br>potato<br>tomato"
          ],
          [
           "bell pepper<br>cheese<br>pasta<br>pork<br>spaghetti"
          ],
          [
           "bell pepper<br>carrot<br>chicken<br>coconut<br>mushroom<br>potato"
          ],
          [
           "bacon<br>bell pepper<br>butter<br>cheese<br>mushroom<br>parsley<br>pasta"
          ],
          [
           "bread crumb<br>egg<br>flour<br>pork"
          ],
          [
           "bread<br>breadcrumb<br>cheese<br>egg<br>flour<br>mayonnaise<br>milk"
          ],
          [
           "bean<br>butter<br>carrot<br>chicken<br>cream<br>mushroom"
          ],
          [
           "butter<br>cassava<br>cheese<br>coconut<br>egg<br>milk"
          ],
          [
           "butter<br>cheese<br>cream<br>grape tomato<br>lemon<br>parsley<br>pasta"
          ],
          [
           "breadcrumb<br>buttermilk<br>carrot<br>chicken<br>potato"
          ],
          [
           "bean<br>chicken<br>chili<br>coconut vegetable<br>shrimp"
          ],
          [
           "bread<br>bread crumb<br>chicken<br>dijon mustard<br>mayonnaise"
          ],
          [
           "bean<br>bell pepper<br>broccoli<br>carrot<br>coconut vegetable"
          ],
          [
           "coconut vegetable<br>malunggay<br>mung bean<br>pork<br>tofu"
          ],
          [
           "chicken<br>malunggay<br>papaya<br>pasta<br>patis<br>rice"
          ],
          [
           "bacon<br>butter<br>cheese<br>cream<br>mushroom<br>pasta"
          ],
          [
           "beef<br>bok choy<br>cabbage<br>corn<br>fish"
          ],
          [
           "beef<br>cheese<br>mozzarella<br>parsley<br>spaghetti<br>tomato"
          ],
          [
           "banana<br>butter<br>cheese<br>coconut<br>egg<br>milk<br>rice"
          ],
          [
           "bread crumb<br>cheese<br>egg<br>flour<br>milk"
          ],
          [
           "beef<br>egg<br>fish<br>flour<br>misua<br>patola<br>pork"
          ],
          [
           "bean<br>fish<br>pork<br>tomato"
          ],
          [
           "banana ketchup<br>beef<br>bell pepper<br>cheese<br>cream<br>macaroni<br>tomato"
          ],
          [
           "bagoong<br>eggplant<br>okra<br>spinach<br>string bean<br>tomato"
          ],
          [
           "carrot<br>cheese<br>chicken<br>macaroni<br>mayonnaise<br>pickle<br>pineapple"
          ],
          [
           "beef<br>fish<br>mung bean<br>pork<br>spinach<br>tomato"
          ],
          [
           "bell pepper<br>carrot<br>pork<br>potato<br>tomato"
          ],
          [
           "eggplant<br>ginger<br>lemon<br>okra<br>shrimp<br>spinach<br>string bean"
          ],
          [
           "butter<br>cheese<br>coconut<br>milk<br>yam"
          ],
          [
           "carrot<br>fish<br>pork<br>shrimp<br>tomato"
          ],
          [
           "beef<br>breadcrumb<br>butter<br>egg<br>flour<br>mushroom<br>parsley"
          ],
          [
           "beef<br>butter<br>cream<br>egg<br>flour<br>mushroom"
          ],
          [
           "butter<br>cheese<br>parsley<br>salmon<br>spinach<br>sun tomato<br>whipping cream"
          ],
          [
           "calabaza squash<br>coconut vegetable<br>crab<br>ginger<br>snake bean"
          ],
          [
           "annatto seed<br>carrot<br>celery<br>chicken<br>fish<br>pasta"
          ],
          [
           "bell pepper<br>carrot<br>chicken<br>fish<br>milk<br>pineapple<br>tomato"
          ],
          [
           "bell pepper<br>carrot<br>chicken<br>coconut<br>fish<br>pineapple<br>tomato"
          ],
          [
           "annatto<br>egg<br>patis<br>rice<br>shrimp<br>tinapa"
          ],
          [
           "kangkong<br>mung bean<br>patis<br>shrimp<br>tomato"
          ],
          [
           "beef<br>patis<br>potato<br>sitaw<br>tomato"
          ],
          [
           "beef<br>butter<br>cream<br>kernel corn<br>mushroom"
          ],
          [
           "butter<br>cheese<br>cream<br>linguine<br>milk<br>parsley<br>tuna"
          ],
          [
           "bread<br>butter<br>cheese<br>egg<br>ham<br>mustard<br>turkey"
          ],
          [
           "breadcrumb<br>cinnamon<br>cornstarch<br>egg<br>mango"
          ],
          [
           "bell pepper<br>carrot<br>coconut<br>pea<br>pork<br>potato<br>tomato"
          ],
          [
           "beef<br>carrot<br>cornstarch<br>egg<br>flour<br>pasta<br>soy"
          ],
          [
           "carrot<br>cheese<br>chicken<br>mayonnaise<br>pea<br>potato<br>relish"
          ],
          [
           "bell pepper<br>carrot<br>chili<br>pea<br>pork<br>potato<br>tomato"
          ],
          [
           "pasta<br>patis<br>pechay<br>tomato"
          ],
          [
           "daikon radish<br>eggplant<br>fish<br>okra<br>sinigang sampaloc<br>spinach<br>tomato"
          ],
          [
           "bell pepper<br>carrot<br>cheese<br>chicken<br>chili<br>potato<br>tomato"
          ],
          [
           "coconut<br>jackfruit<br>rice<br>tapioca pearl"
          ],
          [
           "butter<br>cheese<br>chicken<br>flour<br>milk<br>mushroom"
          ],
          [
           "basil<br>cheese<br>fish<br>spaghetti"
          ],
          [
           "banana<br>egg<br>flour<br>milk<br>vanilla"
          ],
          [
           "bread crumb<br>butter<br>egg<br>flour<br>mushroom<br>pork"
          ],
          [
           "chicken<br>spinach"
          ],
          [
           "beef<br>corn<br>egg<br>fish<br>rice<br>scallion"
          ],
          [
           "carrot<br>egg<br>jicama<br>pork<br>scallion<br>sesame<br>wonton"
          ],
          [
           "carrot<br>chicken<br>egg<br>napa cabbage<br>pasta"
          ],
          [
           "butter<br>cheese<br>chicken<br>cream<br>parsley<br>pasta"
          ],
          [
           "bok choy<br>carrot<br>chicken<br>pasta<br>snow peas<br>soy"
          ],
          [
           "hotdog<br>pork<br>spaghetti<br>tomato"
          ],
          [
           "beef<br>butter<br>butternut squash<br>carrot<br>egg<br>pea<br>rice"
          ],
          [
           "banana ketchup<br>bread crumb<br>egg<br>eggplant<br>flour<br>mayonnaise<br>pork"
          ],
          [
           "banana<br>bok choy<br>chicken<br>fish<br>potato"
          ],
          [
           "cabbage<br>carrot<br>chorizo bilbao<br>cornstarch<br>egg<br>pasta<br>pork"
          ],
          [
           "bell pepper<br>carrot<br>mung bean<br>oyster<br>tomato"
          ],
          [
           "butter<br>cheese<br>salmon<br>spinach<br>whipping cream<br>wine"
          ],
          [
           "bell pepper<br>carrot<br>cauliflower<br>chicken<br>cornstarch<br>pea"
          ],
          [
           "cheese<br>egg<br>lumpia<br>pork"
          ],
          [
           "beef<br>egg<br>pineapple<br>rice"
          ],
          [
           "cabbage<br>carrot<br>celery<br>chicken<br>hotdog<br>macaroni<br>milk"
          ],
          [
           "anchovy<br>mung bean<br>patis<br>spinach<br>tomato"
          ],
          [
           "butter<br>carrot<br>egg<br>mushroom<br>pea<br>singkama<br>whipping cream"
          ],
          [
           "carrot<br>egg<br>jicama<br>pork<br>sesame<br>wonton"
          ],
          [
           "basil<br>beef<br>cheese<br>lasagna<br>parsley<br>sausage<br>tomato"
          ],
          [
           "bell pepper<br>celery<br>chicken<br>chili<br>coconut vegetable<br>fish<br>potato"
          ],
          [
           "bacon<br>beef<br>cheese<br>cream<br>nutmeg<br>spaghetti"
          ],
          [
           "cheese<br>hotdog<br>pork<br>spaghetti<br>tomato"
          ],
          [
           "beef<br>cheese<br>luncheon meat<br>pork<br>spaghetti"
          ],
          [
           "bagoong<br>bok choy<br>cornstarch<br>eggplant<br>peanut butter<br>pork<br>snake bean"
          ],
          [
           "daikon radish<br>kangkong<br>okra<br>patis<br>salmon<br>snake bean<br>tomato"
          ],
          [
           "bean<br>coconut vegetable<br>fish<br>pork"
          ],
          [
           "bell pepper<br>carrot<br>cheese<br>chicken<br>potato<br>tomato"
          ],
          [
           "egg<br>spinach<br>tuna"
          ],
          [
           "bean<br>beef<br>beef broth<br>bok choy<br>butternut squash<br>fish"
          ],
          [
           "beef<br>beef broth<br>cheese<br>macaroni<br>mozzarella<br>tomato"
          ],
          [
           "bean<br>beef<br>corn<br>fish<br>napa cabbage"
          ],
          [
           "bell pepper<br>carrot<br>pork<br>potato<br>tomato"
          ],
          [
           "beef<br>bok choy<br>mushroom<br>scallion<br>star anise"
          ],
          [
           "bangus<br>fish<br>okra<br>sinigang sampaloc<br>sitaw<br>tomato"
          ],
          [
           "celery<br>cheese<br>macaroni<br>mayonnaise<br>pickle<br>tuna"
          ],
          [
           "chili<br>coconut<br>fish<br>kalabasa<br>shrimp<br>snake bean"
          ],
          [
           "banana<br>gabi<br>jackfruit<br>potato<br>rice<br>tapioca pearl<br>yam"
          ],
          [
           "egg<br>flour<br>misua<br>patis<br>patola<br>pork<br>scallion"
          ],
          [
           "carrot<br>cheese<br>chicken<br>macaroni<br>mayonnaise<br>pineapple<br>raisin"
          ],
          [
           "bean<br>beef<br>cabbage<br>soy<br>tomato"
          ],
          [
           "bean<br>beef<br>corn<br>fish<br>napa cabbage"
          ],
          [
           "bread crumb<br>cheese<br>chicken<br>egg<br>flour<br>rice"
          ],
          [
           "chicken<br>fish<br>pasta<br>pork<br>shrimp"
          ],
          [
           "beef<br>beef broth<br>carrot<br>pea<br>potato<br>raisin<br>tomato"
          ],
          [
           "banana<br>beef<br>bok choy<br>napa cabbage<br>patis<br>potato"
          ],
          [
           "butter<br>cheese<br>egg<br>spinach<br>tomato"
          ],
          [
           "cheese<br>coconut<br>egg<br>margarine<br>rice<br>vanilla"
          ],
          [
           "butter<br>egg<br>milk<br>walnut"
          ],
          [
           "bagoong<br>bitter gourd<br>okra<br>snake bean<br>tomato"
          ],
          [
           "bell pepper<br>carrot<br>cheese<br>pork<br>potato<br>tomato"
          ],
          [
           "bell pepper<br>cheese<br>pork<br>spaghetti<br>tomato"
          ],
          [
           "beef<br>cabbage<br>corn<br>fish<br>potato"
          ],
          [
           "bread crumb<br>egg<br>flour<br>pork<br>rice"
          ],
          [
           "bacon<br>beef<br>cheese<br>cream<br>mushroom<br>parsley<br>spaghetti"
          ],
          [
           "butter<br>egg<br>flour<br>pork"
          ],
          [
           "butter<br>cheese<br>coconut<br>egg<br>rice"
          ],
          [
           "egg<br>pork<br>tomato"
          ],
          [
           "egg<br>patis<br>scallion<br>sea<br>tomato"
          ],
          [
           "annatto<br>banana<br>beef<br>bok choy<br>peanut<br>rice<br>snake bean"
          ],
          [
           "egg<br>rice<br>tomato"
          ],
          [
           "egg<br>eggplant<br>pork<br>tomato"
          ],
          [
           "chicken<br>coconut vegetable<br>ginger<br>pea<br>potato"
          ],
          [
           "beef<br>fish<br>kangkong<br>sinigang<br>snake bean<br>tomato"
          ],
          [
           "fish<br>mustard<br>okra<br>salmon<br>sinigang<br>tomato"
          ],
          [
           "mung bean<br>pork<br>shrimp<br>spinach<br>tomato"
          ],
          [
           "banana<br>fish<br>pechay<br>pork<br>potato"
          ],
          [
           "bok choy<br>chicken<br>fish<br>pork<br>shrimp<br>tomato"
          ],
          [
           "butternut squash<br>chicken<br>malunggay<br>shrimp<br>snake bean"
          ],
          [
           "chicken<br>egg<br>fish<br>rice<br>scallion"
          ],
          [
           "fish<br>malunggay<br>mung bean<br>pork<br>spinach<br>tomato"
          ],
          [
           "chicken<br>coconut vegetable<br>kalabasa<br>patis<br>sitaw"
          ],
          [
           "fish<br>melon<br>scallion<br>tomato"
          ],
          [
           "mung bean<br>patis<br>spinach<br>tomato"
          ],
          [
           "banana<br>chicken<br>fish<br>napa cabbage<br>pork<br>potato"
          ],
          [
           "egg<br>fish<br>scallion<br>tomato<br>tuna"
          ],
          [
           "chicken<br>fish<br>patola<br>scallion"
          ],
          [
           "cabbage<br>carrot<br>chicken<br>cornstarch<br>egg<br>pasta<br>scallion"
          ],
          [
           "butter<br>carrot<br>egg<br>pea<br>rice"
          ],
          [
           "annatto<br>chicken<br>fish<br>scallion<br>sesame<br>shrimp<br>wonton"
          ],
          [
           "coconut<br>fish<br>malunggay<br>papaya<br>pork"
          ],
          [
           "chicken<br>egg<br>fish<br>malunggay<br>papaya<br>pasta"
          ],
          [
           "chicken<br>coconut<br>fish<br>malunggay<br>papaya"
          ],
          [
           "butter<br>coconut<br>egg<br>milk<br>vanilla"
          ],
          [
           "cabbage<br>carrot<br>mung bean<br>scallion<br>shrimp"
          ],
          [
           "cheese<br>flour<br>milk<br>vanilla"
          ],
          [
           "beef<br>bell pepper<br>carrot<br>potato"
          ],
          [
           "fish<br>rice"
          ],
          [
           "beef<br>egg<br>fish<br>pasta<br>scallion"
          ],
          [
           "beef<br>bell pepper<br>butter<br>cheese<br>flour<br>milk<br>tomato"
          ],
          [
           "butter<br>chocolate<br>egg<br>flour<br>milk<br>soda<br>vanilla"
          ],
          [
           "carrot<br>cheese<br>chicken<br>mayonnaise<br>pea<br>potato<br>relish"
          ],
          [
           "banana ketchup<br>beef<br>cheese<br>hotdog<br>pork<br>spaghetti<br>tomato"
          ],
          [
           "cheese<br>coconut<br>egg<br>margarine<br>milk<br>rice"
          ],
          [
           "eggplant<br>fish<br>serrano<br>sinigang<br>sitaw<br>spinach<br>tomato"
          ],
          [
           "carrot<br>pork<br>potato<br>raisin<br>tomato"
          ],
          [
           "basil<br>cheese<br>grape tomato<br>spaghetti<br>sun tomato"
          ],
          [
           "fish<br>mung bean<br>plum tomato<br>sea"
          ],
          [
           "egg<br>plum tomato<br>rice<br>tinapa"
          ],
          [
           "bean<br>coconut<br>fish<br>pork"
          ],
          [
           "butter<br>egg<br>plum tomato<br>spinach"
          ],
          [
           "chicken<br>egg<br>fish<br>pork<br>scallion<br>sesame<br>shrimp"
          ],
          [
           "fish<br>okra<br>tomato"
          ],
          [
           "carrot<br>egg<br>lumpia<br>pork"
          ],
          [
           "bok choy<br>cabbage<br>celery<br>fish<br>potato"
          ],
          [
           "butter<br>cheese<br>flour<br>milk<br>spaghetti"
          ],
          [
           "fish<br>plum tomato"
          ],
          [
           "butter<br>cheese<br>cream<br>shrimp<br>spaghetti"
          ],
          [
           "butter<br>egg<br>pea<br>rice<br>soy"
          ],
          [
           "bagoong<br>eggplant<br>melon<br>okra<br>plum tomato<br>string bean<br>tilapia"
          ],
          [
           "butter<br>carrot<br>celery<br>chicken<br>ham<br>milk<br>turkey"
          ],
          [
           "bacon<br>cabbage<br>carrot<br>chicken<br>fish<br>pasta"
          ],
          [
           "beef broth<br>butternut squash<br>coconut<br>pork<br>shrimp<br>string bean"
          ],
          [
           "butter<br>cheese<br>chicken<br>cream"
          ],
          [
           "cabbage<br>calabaza squash<br>fish<br>pork<br>potato"
          ],
          [
           "cheese<br>pasta<br>tuna"
          ],
          [
           "cheese<br>pasta<br>sun tomato"
          ],
          [
           "butternut squash<br>coconut<br>crab<br>fish<br>ginger<br>malunggay<br>shrimp"
          ],
          [
           "cane<br>eggplant<br>plum tomato<br>shrimp"
          ],
          [
           "beef broth<br>cheese<br>luncheon meat<br>pasta<br>pork<br>spaghetti"
          ],
          [
           "fish<br>okra<br>plum tomato<br>spinach<br>tamarind"
          ],
          [
           "chili<br>fish<br>okra<br>spinach<br>tomato"
          ],
          [
           "butter<br>carrot<br>pea<br>rice<br>shrimp"
          ],
          [
           "banana<br>bean<br>beef<br>bok choy<br>fish<br>napa cabbage<br>potato"
          ],
          [
           "beef<br>breadcrumb<br>butter<br>flour<br>mushroom<br>mustard"
          ],
          [
           "bacon<br>bell pepper<br>butter<br>egg<br>milk<br>sun tomato"
          ],
          [
           "chicken<br>ginger<br>kernel corn<br>malunggay<br>mussel"
          ],
          [
           "fish<br>malunggay<br>mung bean<br>plum tomato"
          ],
          [
           "bacon<br>cheese<br>egg<br>mussel<br>parsley<br>pork"
          ],
          [
           "fish<br>kangkong<br>miso<br>okra<br>string bean<br>tomato"
          ],
          [
           "banana<br>bok choy<br>broth<br>fish<br>pork<br>potato"
          ],
          [
           "beef broth<br>carrot<br>egg<br>pea<br>pork<br>raisin<br>tomato"
          ],
          [
           "bean<br>fish<br>plum tomato<br>pork"
          ],
          [
           "beef<br>butter<br>cheese<br>flour<br>milk<br>spinach<br>tomato"
          ],
          [
           "cheese<br>pasta<br>salmon"
          ],
          [
           "beef<br>bell pepper<br>buttermilk<br>carrot<br>goat meat<br>potato"
          ],
          [
           "cheese<br>pasta<br>pea"
          ],
          [
           "crab<br>fish<br>ginger<br>pasta<br>patola"
          ],
          [
           "butter<br>cheese<br>egg<br>milk<br>pandan"
          ],
          [
           "bok choy<br>chicken<br>shrimp<br>tomato"
          ],
          [
           "egg<br>fish<br>plum tomato"
          ],
          [
           "chicken<br>cornstarch<br>fish<br>flour"
          ],
          [
           "butter<br>egg<br>tomato"
          ],
          [
           "fish<br>squid<br>tomato"
          ],
          [
           "butter<br>cabbage<br>carrot<br>celery<br>chicken<br>macaroni<br>milk"
          ],
          [
           "butter<br>cheese<br>oregano<br>pasta"
          ],
          [
           "bagoong<br>fish<br>mung bean<br>spinach<br>tomato"
          ],
          [
           "butter<br>cocoa<br>egg<br>flour<br>vanilla"
          ],
          [
           "butter<br>cassava<br>coconut"
          ],
          [
           "cheese<br>egg<br>milk<br>pork"
          ],
          [
           "cheese<br>egg<br>milk"
          ],
          [
           "bacon<br>cheese<br>egg<br>milk"
          ],
          [
           "cheese<br>chicken<br>rice<br>sea<br>vegetable"
          ],
          [
           "fish<br>plum tomato"
          ],
          [
           "almond<br>butter<br>egg<br>flour<br>milk<br>potato<br>vanilla"
          ],
          [
           "beef broth<br>pea<br>pork<br>potato<br>tomato"
          ],
          [
           "bread crumb<br>lemon<br>mussel<br>parsley<br>plum tomato<br>tomato"
          ],
          [
           "carrot<br>cheese<br>egg<br>pickle<br>raisin<br>tomato<br>turkey"
          ],
          [
           "butter<br>chicken<br>egg<br>pea<br>rice"
          ],
          [
           "cabbage<br>carrot<br>chicken<br>pea<br>pork"
          ],
          [
           "butter<br>chocolate<br>egg<br>flour<br>soda<br>vanilla"
          ],
          [
           "pasta<br>patola<br>tomato"
          ],
          [
           "bell pepper<br>pea<br>pork<br>potato<br>tomato"
          ],
          [
           "bread crumb<br>cheese<br>chicken<br>egg<br>marinara<br>milk"
          ],
          [
           "broccoli floret<br>cheese<br>pasta<br>spaghetti<br>tomato"
          ],
          [
           "beef<br>butter<br>cheese<br>cream<br>pasta<br>scallion<br>tomato"
          ],
          [
           "chicken<br>kernel corn<br>malunggay<br>plum tomato"
          ],
          [
           "anchovy<br>fish<br>malunggay<br>mung bean<br>plum tomato"
          ],
          [
           "banana<br>chicken<br>fish<br>malunggay"
          ],
          [
           "banana<br>cabbage<br>pork<br>potato"
          ],
          [
           "carrot<br>chicken<br>egg<br>mushroom<br>sesame<br>shrimp<br>wonton"
          ],
          [
           "bread crumb<br>buttermilk<br>egg<br>flour<br>pork"
          ],
          [
           "chicken<br>corn<br>cornstarch<br>egg"
          ],
          [
           "bay leaf<br>carrot<br>chicken<br>pea<br>potato<br>tomato"
          ],
          [
           "egg<br>tuna<br>zucchini"
          ],
          [
           "bangus<br>fish<br>sea<br>sinigang sampaloc<br>spinach<br>tomato"
          ],
          [
           "butter<br>buttermilk<br>egg<br>flour<br>kernel corn<br>soda"
          ],
          [
           "bay leaf<br>fish<br>spinach<br>zucchini"
          ],
          [
           "bread crumb<br>egg<br>flour<br>lettuce<br>tomato"
          ],
          [
           "beef<br>cornstarch<br>egg<br>fish<br>pasta<br>pork<br>soy"
          ],
          [
           "butter<br>cheese<br>cherry<br>egg<br>flour<br>milk<br>walnut"
          ],
          [
           "cheese<br>chicken<br>pasta<br>tomato"
          ],
          [
           "banana<br>cassava<br>coconut"
          ],
          [
           "cheese<br>chicken<br>pasta<br>sun tomato"
          ],
          [
           "butter<br>buttermilk<br>egg<br>flour<br>milk<br>soda"
          ],
          [
           "fish<br>miso<br>mustard<br>okra<br>sinigang<br>tilapia<br>tomato"
          ],
          [
           "broth<br>fish<br>pasta<br>patola<br>tomato"
          ],
          [
           "banana<br>beef broth<br>bok choy<br>calabaza squash<br>fish<br>potato<br>tomato"
          ],
          [
           "egg<br>fish<br>flour<br>scallion<br>tilapia<br>tomato"
          ],
          [
           "bread crumb<br>egg<br>flour<br>shrimp<br>vegetable"
          ],
          [
           "beef<br>beef broth<br>egg<br>fish<br>misua<br>zucchini"
          ],
          [
           "butter<br>cheese<br>chicken<br>cream<br>mushroom<br>rosemary<br>whipping cream"
          ],
          [
           "beef<br>butter<br>cheese<br>flour<br>marinara<br>milk<br>pasta"
          ],
          [
           "coconut<br>food<br>jackfruit<br>milk<br>rice<br>vanilla<br>yam"
          ],
          [
           "cheese<br>corn<br>potato"
          ],
          [
           "cheese<br>egg<br>tuna"
          ],
          [
           "bread crumb<br>cabbage<br>egg<br>flour<br>pork"
          ],
          [
           "cheese<br>lettuce<br>tomato<br>tuna"
          ],
          [
           "carrot<br>chicken<br>egg<br>parsley<br>sesame<br>spring roll"
          ],
          [
           "bread crumb<br>carrot<br>egg<br>salmon<br>soy"
          ],
          [
           "carrot<br>celery<br>chicken<br>egg<br>turkey"
          ],
          [
           "cheese<br>egg<br>mayonnaise<br>turkey"
          ],
          [
           "butter<br>chicken<br>flour<br>turkey"
          ],
          [
           "cheese<br>parsley<br>potato"
          ],
          [
           "butter<br>cocoa<br>egg<br>flour<br>milk<br>soda"
          ],
          [
           "bacon<br>egg<br>pea<br>rice<br>soy"
          ],
          [
           "beef<br>bread crumb<br>butter<br>egg<br>milk<br>parsley<br>vegetable"
          ],
          [
           "butter<br>egg<br>flour<br>milk<br>vanilla"
          ],
          [
           "buttermilk<br>egg<br>flour<br>raisin<br>soda<br>vanilla<br>vegetable"
          ],
          [
           "butter<br>cheese<br>lemon<br>potato"
          ],
          [
           "egg<br>pork<br>rice<br>soy"
          ],
          [
           "bean<br>carrot<br>cauliflower<br>chicken"
          ],
          [
           "beef<br>broth<br>potato"
          ],
          [
           "bread crumb<br>egg<br>flour<br>paprika<br>shrimp"
          ],
          [
           "broccoli<br>butter<br>cheese<br>chicken<br>cream<br>pasta<br>wine"
          ],
          [
           "egg<br>eggplant<br>pork<br>soy<br>tomato"
          ],
          [
           "broccoli<br>butter<br>carrot<br>cauliflower<br>rice<br>soy"
          ],
          [
           "beef<br>broccoli<br>cornstarch<br>oyster"
          ],
          [
           "banana<br>coconut<br>rice"
          ],
          [
           "carrot<br>cornstarch<br>mushroom<br>snow peas<br>soy<br>tofu<br>vegetable"
          ],
          [
           "butter<br>chocolate<br>egg<br>flour<br>soda<br>vanilla<br>walnut"
          ],
          [
           "bacon<br>cheese<br>cream<br>paprika<br>potato"
          ],
          [
           "bread crumb<br>cheese<br>egg<br>eggplant"
          ],
          [
           "banana<br>chocolate<br>egg<br>vegetable"
          ],
          [
           "bean<br>bok choy<br>cabbage<br>fish<br>pork<br>potato<br>tomato"
          ],
          [
           "bean<br>beef<br>cream<br>lettuce<br>tomato"
          ],
          [
           "egg<br>flour<br>milk<br>vegetable"
          ],
          [
           "bread crumb<br>chicken<br>egg<br>flour<br>milk<br>paprika"
          ],
          [
           "butter<br>egg<br>flour<br>milk"
          ],
          [
           "cake flour<br>cream<br>cream tartar<br>egg<br>vanilla"
          ],
          [
           "butter<br>egg<br>flour<br>milk<br>pineapple"
          ],
          [
           "bacon<br>basil<br>cheese<br>egg<br>milk<br>plum tomato<br>potato"
          ],
          [
           "bread crumb<br>egg<br>flour<br>milk<br>potato"
          ],
          [
           "butter<br>egg<br>raisin<br>vanilla"
          ],
          [
           "beef<br>beef broth<br>butter<br>cream<br>egg<br>flour<br>mushroom"
          ],
          [
           "cheese<br>pasta<br>shrimp<br>thyme<br>tomato"
          ],
          [
           "bacon<br>butter<br>cheese<br>egg<br>pasta<br>whipping cream"
          ],
          [
           "beef<br>butter<br>corn<br>mushroom"
          ],
          [
           "cheese<br>mushroom<br>pasta<br>spinach<br>tomato"
          ],
          [
           "beef broth<br>butter<br>flour<br>pork<br>rice<br>vegetable"
          ],
          [
           "butter<br>cheese<br>chicken<br>egg<br>milk<br>thyme<br>whipping cream"
          ],
          [
           "avocado<br>carrot<br>crab<br>cucumber<br>lettuce<br>shrimp"
          ],
          [
           "egg<br>fish<br>leek<br>pasta<br>pig<br>pork<br>soy"
          ],
          [
           "chili<br>eggplant<br>fish<br>okra<br>pork<br>spinach<br>tomato"
          ],
          [
           "butter<br>coconut<br>cornstarch<br>flour<br>milk"
          ],
          [
           "coconut<br>jackfruit<br>potato<br>rice<br>tapioca pearl<br>yam"
          ],
          [
           "beef broth<br>breadcrumb<br>egg<br>flour<br>pork"
          ],
          [
           "carrot<br>chicken<br>cornstarch<br>egg<br>jicama<br>pea<br>shrimp"
          ],
          [
           "butter<br>cabbage<br>carrot<br>celery<br>chicken<br>macaroni"
          ],
          [
           "annatto<br>carrot<br>celery<br>chicken<br>fish<br>leek<br>pasta"
          ],
          [
           "bell pepper<br>egg<br>pea<br>pork<br>tomato"
          ],
          [
           "carrot<br>egg<br>pork<br>potato<br>tomato"
          ],
          [
           "carrot<br>crab<br>egg<br>pork<br>sesame<br>wonton"
          ],
          [
           "cake flour<br>cream tartar<br>egg<br>lemon<br>vegetable"
          ],
          [
           "butter<br>egg<br>flour<br>honey<br>kernel corn<br>milk"
          ],
          [
           "carrot<br>fish<br>shrimp<br>spring roll<br>tofu"
          ],
          [
           "broccoli<br>butter<br>cheese<br>flour<br>milk"
          ],
          [
           "butter<br>egg<br>flour<br>milk<br>vanilla"
          ],
          [
           "corn kernel<br>cornstarch<br>milk<br>peanut<br>raisin"
          ],
          [
           "butter<br>chocolate<br>coffee<br>egg<br>flour<br>vanilla<br>walnut"
          ],
          [
           "butter<br>cheese<br>egg<br>ham<br>milk<br>spinach"
          ],
          [
           "egg<br>fish<br>tilapia<br>tomato"
          ],
          [
           "cake flour<br>cream tartar<br>egg<br>lemon<br>milk"
          ],
          [
           "bacon<br>cheese<br>egg<br>milk<br>pasta<br>whipping cream"
          ],
          [
           "cheese<br>cream<br>egg<br>flour<br>vanilla"
          ],
          [
           "annatto seed<br>chestnut<br>chicken<br>egg<br>fish<br>pork<br>wonton"
          ],
          [
           "butter<br>egg<br>flour<br>soda<br>walnut"
          ],
          [
           "butter<br>cake flour<br>confectioner<br>cream tartar<br>egg<br>milk<br>vanilla"
          ],
          [
           "breadcrumb<br>butter<br>cheese<br>chicken<br>egg<br>ham<br>paprika"
          ],
          [
           "butter<br>egg<br>peanut"
          ],
          [
           "butter<br>chocolate<br>cocoa<br>confectioner<br>egg<br>flour<br>vanilla"
          ],
          [
           "bread crumb<br>egg<br>milk<br>pork"
          ],
          [
           "butter<br>cheese<br>egg<br>flour<br>milk"
          ],
          [
           "butter<br>cassava<br>cheese<br>coconut<br>egg<br>milk"
          ],
          [
           "bread crumb<br>butter<br>egg<br>flour<br>milk"
          ],
          [
           "broth<br>butter<br>chicken<br>egg<br>milk"
          ],
          [
           "carrot<br>corn<br>mushroom<br>oyster<br>snow peas<br>soy"
          ],
          [
           "cheese<br>chicken<br>egg<br>macaroni<br>mayonnaise<br>pineapple<br>raisin"
          ],
          [
           "bok choy<br>fish<br>pork<br>tomato"
          ],
          [
           "beef<br>bok choy<br>carrot<br>corn<br>fish<br>potato"
          ],
          [
           "fish<br>salmon<br>sinigang sampaloc<br>tomato"
          ],
          [
           "beef<br>mushroom<br>oyster<br>potato<br>tomato"
          ]
         ],
         "hovertemplate": "<b>%{hovertext}</b><br><br>cluster=3<br>x=%{x}<br>y=%{y}<br>ingredients=%{customdata[0]}<extra></extra>",
         "hovertext": [
          "Cheese Cupcakes",
          "Burger Steak",
          "Bibingkoy",
          "Pancit Lomi",
          "Banana Heart Burger",
          "Pandesal",
          "Liver and Gizzard with Sweet Peas",
          "Ginisang Munggo at Sotanghon",
          "Ham and Cheese Bread Rolls",
          "Chop Suey with Tofu and Shitake Mushrooms",
          "Green Bean and Shrimp Stir-fry",
          "Mock Pancit Canton Stir-Fry",
          "Miswa at Patola Soup",
          "Tonkatsu",
          "Filipino-style Picadillo with Potatoes",
          "Bibingka",
          "Royal Bibingka",
          "Ginisang Togue",
          "Shrimp with Oyster Sauce",
          "Chicken Afritada",
          "Filipino Scrambled Eggs",
          "Ginisang Repolyo",
          "Corned Beef Nilaga",
          "Cebuana Torta",
          "Corned Beef Hash Breakfast Pizza",
          "Coconut Shrimp",
          "Bacon Fried Rice",
          "La Paz Batchoy",
          "Crispy Tuna Pies",
          "Uraro Cookies",
          "Kinamatisang Baboy",
          "Pesang Manok",
          "Crab and Corn Soup",
          "Ginataang Gulay",
          "Arroz ala Cubana",
          "Lengua de Gato",
          "Ginataang Munggo at Baboy",
          "Ginisang Munggo at Chicharon (Mung Bean Soup with Pork Cracklings)",
          "Beef Afritada",
          "Tinapa Fried Rice",
          "Cocido-style Nilaga",
          "Cheese Dog Bread Rolls",
          "Chocolate Pandesal",
          "Pandan Pandesal with Ube Halaya Filling",
          "Kalihim",
          "Pineapple Fried Rice",
          "Sardines Caldereta",
          "Ube Cheese Pandesal",
          "Lumpiang Prito",
          "Mini Special Sapin-Sapin",
          "Floating Island Dessert",
          "Halayang Ube",
          "Nilagang Baka",
          "Beef Caldereta",
          "Sticky Rice Balls with Peanuts",
          "Southwestern Chicken Egg Rolls",
          "Lumpiang Prito with Pork",
          "Pork Afritada",
          "Giniling na Baboy",
          "Yema Cake",
          "Pianono (Filipino Sponge Cake Roll)",
          "Ukoy na Togue",
          "Lumpiang Togue",
          "Yang Chow Fried Rice",
          "Ginataang Sigarilyas at Kalabasa",
          "Ginisang Sardinas at Miswa",
          "Lalaine's Stewed Chicken and Potatoes in Fish Sauce",
          "Filipino Tamales",
          "Cheese Puto",
          "Beef, Potato and Pechay Soup",
          "Sipo Egg",
          "Suam na Mais",
          "Cheesy Lumpiang Shanghai",
          "Crispy Fried Chicken with Mushroom Gravy",
          "Crispy Tofu Fried Chicken with Chicken Gravy",
          "Nilagang Pata",
          "Crispy Fried Chicken",
          "One Pot Spaghetti",
          "Chicken Afritada sa Gata",
          "Fried Chicken Potato Salad",
          "Creamy Macaroni Sopas",
          "Pinoy Breakfast Omelet and Bacon Garlic Fried Rice",
          "Suam na Mais",
          "Pinoy Carbonara Recipe with Ham and Bacon",
          "Better Beef Nilaga",
          "Nutritious Ulam Idea",
          "Butter Garlic Fried Chicken",
          "Ginataang Sitaw at Kalabasa with Fried Tilapia",
          "Pork Monggo with Fried Galunggong",
          "Sinarsahang Pork Ribs",
          "Loaded Nachos Recipe",
          "Longganisa Pasta",
          "Filipino Chicken Pasta Alfredo",
          "Air Fryer Longganisa Frittata",
          "Pineapple Fried Rice",
          "Cheesy Ham Steak with Bacon and Mushroom",
          "Hawaiian Pizza (No Bake)",
          "Corned Beef Saute",
          "Cheesy Corned Beef Balls",
          "Tocino Fried Rice Recipe",
          "Luncheon Meat Caldereta",
          "The Only Filipino Spaghetti Recipe That I Trust for the Holidays",
          "Christmas Chicken Curry",
          "Festive Tuna Carbonara",
          "Quick and Easy Pan-Fried Pork Chops",
          "Idol Cheesedog Bread Roll and Bites",
          "Creamy Mushroom Chicken",
          "Cassava Cake Recipe Creamy and Cheesy Version",
          "Lemon Garlic Shrimp Pasta",
          "Chicken Katsu Curry",
          "Chicken Gizzard Bicol Express",
          "Grilled Cheese Sandwich and Chicken Tenders",
          "Healthy Ginataang Gulay with Tofu and Shrimp",
          "Ginataang Monggo with Tofu and Malunggay",
          "Chicken Sotanghon Tinola Recipe",
          "Pasta Carbonara Filipino Style",
          "Bulalo Recipe",
          "Baked Spaghetti",
          "Bibingka Recipe",
          "Cheesy Onion Rings",
          "Almondigas Recipe",
          "Ginisang Sigarilyas",
          "No Oven Baked Macaroni Recipe",
          "Laswa Recipe",
          "Father’s Day Chicken Macaroni Salad",
          "Ginisang Munggo (Monggo)",
          "Pork Caldereta Recipe",
          "Easy Utan Bisaya (Law-Uy)",
          "Ube Halaya with Cheese",
          "Ginisang Labanos Recipe",
          "Burger Steak",
          "Beef Stroganoff",
          "Tuscan Salmon",
          "Ginataang Alimasag with Sitaw at Kalabasa",
          "Garlic Bihon Recipe",
          "Pininyahang Manok",
          "Pininyahang Manok sa Gata",
          "Arroz Palabok",
          "Tipid Sarap Monggo",
          "Kinamatisang Baka",
          "Creamy Lengua with Corn",
          "Tuna Pasta Alfredo",
          "Monte Cristo",
          "Peach Mango Nuggets",
          "Pork Menudo sa Gata",
          "Corned Beef Lomi Batangas Style",
          "Chicken Potato Salad",
          "Spareribs Kaldereta",
          "Sardines with Sotanghon and Pechay",
          "Fish Sinigang",
          "Chicken Caldereta Recipe",
          "Ginataang Bilo bilo with Langka",
          "Creamy Garlic Parmesan Chicken with Mushrooms",
          "Tuyo Pesto Spaghetti Pasta",
          "Banana Fritter Recipe",
          "Pork Burger Steak with Mushroom Gravy",
          "Chicken Asparagus Soup",
          "Bulalugaw Recipe",
          "Pork Siomai",
          "Chicken Mami Recipe",
          "Chicken Alfredo",
          "Chicken Pancit Habhab",
          "Meaty Spaghetti Recipe",
          "Longanisa Fried Rice and Ginisang Corned Beef with Kalabasa",
          "Eggplant Meatballs Talong Bola Bola Recipe",
          "Nilagang Manok Recipe",
          "Pork Lomi",
          "Ginisang Togue Recipe",
          "Creamy Garlic Salmon",
          "Super Tasty Chop Suey",
          "Dynamite Lumpia",
          "Tapsilog",
          "Creamy Chicken Sopas",
          "Ginisang Monggo with Dilis",
          "Sipo Eggs Recipe",
          "Deep Fried Siomai",
          "Christmas Lasagna",
          "Filipino Style Chicken Curry Recipe",
          "Carbonara Recipe Filipino Style",
          "Easy Pinoy Spaghetti Recipe",
          "Filipino Style Spaghetti Recipe",
          "Pork Kare Kare Recipe",
          "Salmon Sinigang Recipe",
          "Ginataang Lechon Kawali with Kalabasa and Long Green Beans",
          "Cheesy Chicken Afritada Recipe",
          "Tortang Tuna with Spinach - Omelet Recipe",
          "Nilagang Baka with Kalabasa – Filipino boiled beef Soup",
          "Corned Beef Baked Macaroni",
          "How to Cook Bulalo",
          "Calderetang Baboy Recipe",
          "Oxtail Soup Recipe",
          "Sinigang na Bangus Recipe",
          "Tuna Macaroni Salad",
          "Ginataang Hipon na may Sitaw at Kalabasa",
          "Binignit Recipe",
          "Pork Bola Bola Soup with Misua and Patola",
          "Pinoy Style Chicken Macaroni Salad",
          "Sauteed Green Beans with Ground Beef",
          "Beef Bulalo Recipe",
          "Golden Chicken Rice Balls with Crab and Corn Soup",
          "Sotanghon with Upo Soup",
          "Picadillo Recipe",
          "Nilagang Buto-buto ng Baka Recipe",
          "Spinach Tomato and Cheese Omelette",
          "Bibingka Muffins",
          "How to Make Yema",
          "Dinengdeng na Saluyot with Tinapa",
          "Special Pork Kaldereta",
          "Pinoy Spaghetti Recipe",
          "Nilagang Baka ala Bulalo",
          "Tonkatsu Sinangag at Itlog",
          "Filipino Style Creamy Bacon and Mushroom Carbonara",
          "Buffalo Pork Ribs Recipe",
          "Panlasang Pinoy Bibingkang Galapong",
          "Pork Tocino with Salted Egg and Chopped Tomato",
          "Fried Galunggong with Salted Egg and Tomato Salad",
          "Beef Short Rib Kare Kare",
          "Hotsilog (Hotdog Sinangang at Itlog)",
          "Tortang Talong with Ground Pork Recipe",
          "Chicken Curry",
          "Beef Short Rib Sinigang Na May Pakwan",
          "Sinigang na Salmon sa Miso",
          "Shrimp Monggo with Lechon Kawali",
          "Pork Nilaga Recipe",
          "Ginisang Pechay with Ground Pork and Shrimp (Sauteed Bok Choy)",
          "Ginisang Sitaw at Kalabasa with Shrimp",
          "Chicken Arroz Caldo Recipe",
          "Pork Monggo Recipe",
          "Ginataang Manok with Sitaw at Kalabasa",
          "Ginisang Sardinas with Ampalaya",
          "Monggo with Hibi (Mung beans with small dried shrimp)",
          "Pesang Baboy at Manok Recipe",
          "Tuna in Can Sarciado",
          "Chicken Soup with Misua and Patola",
          "Chicken Lomi Recipe",
          "Special Longanisa Fried Rice Recipe",
          "Chicken Molo Soup",
          "Spicy Ginataang Baboy with Papaya and Malunggay",
          "Tinola Chicken Mami",
          "Tinolang Manok sa Gata",
          "Chewy Coconut Macaroons Recipe",
          "Mung Bean Sprouts with Shrimp",
          "Cheese Puto Recipe",
          "How To Cook Beef Kaldereta",
          "Champorado with Tuyo (Chocolate Porridge with Salted Dried Fish)",
          "Beef Pares Mami Noodles Recipe",
          "Cheesy Baked Macaroni",
          "Oat Bran Chocolate Chip Cookie",
          "Chicken Potato Salad",
          "Panlasang Pinoy Spaghetti",
          "Royal Bibingka",
          "Sinigang na Buntot ng Baboy with Gabi",
          "Fiesta Menudo",
          "Fresh Basil and Sun Dried Tomato Spaghetti Pasta",
          "Ginisang Munggo with Tinapa and Fried Red Snapper",
          "Tinapa Fried Rice (Smoked Fish Fried Rice)",
          "Sigarilyas Gising gising Recipe",
          "Scrambled Eggs with Tomato, Onion, and Spinach",
          "Pancit Molo Recipe",
          "Ginisang Okra with Fish Flakes Recipe",
          "How to Cook Lumpia",
          "Pork Baby Back Ribs Nilaga Recipe",
          "Creamy Baked Spaghetti",
          "Kinamatisang Isda (Red Snapper with Tomatoes)",
          "Shrimp Alfredo Pasta with Scallops",
          "Kielbasa Fried Rice",
          "Inabraw Recipe (Boiled Vegetables with Fried Fish)",
          "Turkey and Ham Sopas",
          "Pinoy Chicken Noodle Soup",
          "Pork Ginataan with Squash and String Beans",
          "Hashbrown Casserole",
          "Pork Nilaga with Kalabasa",
          "Tuna Alfredo Casserole",
          "Simple Sun-Dried Tomato and Basil Spaghetti",
          "Ginataang Alimasag with Malunggay",
          "Ensaladang Filipino Recipe",
          "Filipino Style Spaghetti",
          "Sinigang na Hipon sa Sampaloc",
          "Sinigang na Bangus sa Bayabas",
          "Shrimp Fried Rice Recipe",
          "Slow Cooked Beef Nilaga Soup Recipe",
          "Salisbury Steak with Beef and Mushroom Gravy",
          "Scrambled Eggs with Sun Dried Tomato and Bacon",
          "Corn Soup with Mussels and Malunggay",
          "Monggo with Tuyo Recipe (Mung Beans with Salted Fish)",
          "Relyenong Tahong (Stuffed Mussels)",
          "Sinigang na Isda sa Kamias with Miso",
          "Nilagang Pata Recipe",
          "Pork Giniling with Quail Eggs",
          "Ginisang Baguio Beans with Pork",
          "Spinach Lasagne",
          "Smoked Salmon Pasta",
          "Kalderetang Kambing (Goat Stew)",
          "Tuna Macaroni Pasta",
          "Crab with Misua and Patola",
          "Buttered Puto",
          "Sauteed Bok Choy with Shrimp",
          "Salted Eggs and Tomato Salad",
          "Patis Fried Chicken",
          "Pinoy Scrambled Eggs",
          "Ginisang Pusit",
          "Filipino Chicken Macaroni Sopas",
          "Garlic Shrimp Pasta",
          "Monggo Guisado Recipe",
          "How to Make Brownies",
          "Nilupak Recipe",
          "Sausage and Egg Casserole with Hash Browns Recipe",
          "Ham and Cheese Quiche Recipe",
          "Bacon and Cheese Breakfast Casserole Recipe",
          "Chicken and Rice Casserole Recipe",
          "Sinigang na Isda sa Kamias (Fish Sinigang)",
          "Sweet Potato Casserole",
          "Tasty Pork Afritada Recipe",
          "Grilled Mussels Recipe",
          "Easy Turkey Embutido Recipe",
          "Chicken Egg Fried Rice Recipe",
          "Pancit Bato Noodle Soup",
          "White Chocolate Chip Cookie",
          "Sardines with Misua and Patola Recipe",
          "Easy Afritada",
          "Easy Chicken Parm",
          "Chicken Pasta Casserole",
          "Sour Cream Noodle Bake",
          "Ginarep Recipe (Shrimp and Corn Soup)",
          "Monggo Guisado with Dilis and Malunggay (Mung Bean Stew with Dried Anchovies)",
          "Kinamunggayang Manok Recipe",
          "Nilagang Baboy (Boiled Pork Soup)",
          "Chicken Siomai",
          "Deep Fried Seasoned Pork Chop",
          "Corn Soup with Quail Eggs",
          "Chicken Giniling with Green Peas",
          "Tuna and Zucchini Omelet",
          "Fried Bangus Sinigang sa Miso",
          "Buttermilk Cornbread",
          "Scallop and Zucchini Stir fry",
          "Fried Fish Sandwich",
          "Lechon Lomi",
          "Pineapple Cake",
          "Sweet Chicken Spaghetti",
          "Cassava Suman",
          "Chicken Pesto Pasta",
          "Buttermilk Pancakes",
          "Sinigang na Tilapia sa Miso Recipe",
          "Misua with Patola and Shrimp",
          "Pata Pochero Recipe",
          "Fish Kardilyo Recipe",
          "Breaded Shrimp with Sweet and Sour Sauce",
          "Misua with Ground Beef and Zucchini Soup",
          "Creamy Chicken with Mushroom Recipe",
          "Baked Spaghetti Recipe",
          "Sapin Sapin Recipe",
          "Corn Chowder Recipe",
          "Tuna Frittata Recipe",
          "Tonkatsu Recipe",
          "Tuna Salad Wrap",
          "Chicken Spring Roll Recipe",
          "Salmon Patty Recipe",
          "Turkey Noodle Soup Recipe",
          "Turkey, Egg, and Cheese Breakfast Sandwich",
          "Quick and Easy Turkey Gravy Recipe",
          "Baked Potato Parmesan Recipe",
          "Ghostly Dark Chocolate Cupcake",
          "Bacon and Egg Fried Rice Recipe",
          "Easy Meatball with Mixed Vegetables Recipe",
          "Sausage and Egg Waffle Sandwich",
          "Raisin Bran Muffin Recipe",
          "Roasted Garlic Parmesan Red Potato",
          "Pork Tapsilog",
          "Baked Chicken and Vegetable Stir Fry",
          "Corned Beef Guisado Recipe",
          "Breaded Butterfly Shrimp Recipe",
          "Chicken Pasta Alfredo Recipe",
          "Rellenong Talong (Stuffed Eggplant) Recipe",
          "Shrimp and Vegetable Fried Rice Recipe",
          "Beef Stir Fry with Chopped Broccoli",
          "Bibingkang Malagkit Recipe",
          "Stir Fry Tofu with Vegetables",
          "Chocolate Chip Cookie Recipe",
          "Baked Potato Skin Recipe",
          "Eggplant Parmesan Recipe",
          "Banana Chocolate Chip Muffin Recipe",
          "Pochero Recipe",
          "Ground Beef Tostada",
          "Blueberry Muffins Recipe",
          "Garlic Fried Chicken",
          "Cornbread Recipe",
          "Angel Food Cake with Strawberries",
          "Pineapple Upside Down Cake",
          "Bacon Frittata Recipe",
          "Potato Croquettes Recipe",
          "Fruity Prune Cake",
          "Beef Stroganoff Recipe",
          "Shrimp Pasta in Tomato Cream Cheese Sauce Recipe",
          "Spaghetti Carbonara Recipe",
          "Sizzling Bulalo Recipe",
          "Spinach and Feta Pasta Recipe",
          "Sizzling Pork Chop Recipe",
          "Rotini Chicken Alfredo Recipe",
          "Sushi Summer Roll Recipe",
          "Lomi Recipe",
          "Sinigang na Buto buto with Gabi Recipe",
          "Buko Pie",
          "Ginataang Halo-halo Recipe (Binignit)",
          "Country Fried Breaded Pork Chop Recipe",
          "Shrimp with Quail Eggs and Green Peas",
          "Chicken Sopas Recipe",
          "Sotanghon Guisado Recipe",
          "Tortang Giniling Recipe",
          "Pork Giniling Recipe",
          "Pinsec Frito Recipe - Deep Fried Wonton",
          "Mamon Recipe",
          "Cornbread Muffin Recipe",
          "Lumpiang Togue Recipe",
          "Cheesy Broccoli Soup Recipe",
          "Egg Pie Recipe",
          "Shared Recipe. Maja Blanca",
          "Brownies with Walnuts",
          "Ham and Spinach Omelet Recipe",
          "Sarciadong Isda Recipe",
          "Custard Cake Recipe",
          "Fettuccine Alfredo Recipe",
          "New York Style Cheesecake",
          "Molo Soup",
          "Food for the Gods Recipe",
          "Vanilla Chiffon Cake",
          "Chicken Cordon Bleu",
          "Yema Ball Recipe",
          "Chocolate Cupcake Recipe",
          "Breaded Pork Loin",
          "Ensaymada Recipe",
          "Cassava Cake",
          "Pandesal",
          "Fried Chicken with White Gravy Recipe",
          "Braised Vegetable Recipe",
          "Recipe for Chicken Macaroni Salad",
          "Ginisang Pechay (Sautéed Bok Choy)",
          "Beef Nilaga Recipe",
          "Sinigang na Salmon Recipe",
          "Lengua Estofada Recipe"
         ],
         "legendgroup": "3",
         "marker": {
          "color": "rgb(127, 60, 141)",
          "size": 5,
          "symbol": "circle"
         },
         "mode": "markers",
         "name": "3",
         "showlegend": true,
         "type": "scattergl",
         "x": [
          0.6471645832061768,
          0.7358287572860718,
          0.7168101072311401,
          0.7648587226867676,
          0.7884633541107178,
          0.5866060256958008,
          0.7394462823867798,
          0.7229385375976562,
          0.6538364887237549,
          0.7238903045654297,
          0.7138971090316772,
          0.7839512228965759,
          0.6413480639457703,
          0.6453686356544495,
          0.7305300235748291,
          0.757868766784668,
          0.7614511251449585,
          0.6327536106109619,
          0.6703189611434937,
          0.7159275412559509,
          0.6369144320487976,
          0.7582590579986572,
          0.6486175060272217,
          0.66383957862854,
          0.6329120993614197,
          0.6918679475784302,
          0.7319574356079102,
          0.6912152171134949,
          0.6879303455352783,
          0.6405015587806702,
          0.8266143798828125,
          0.7668689489364624,
          0.6276655793190002,
          0.7347317337989807,
          0.7987057566642761,
          0.6405015587806702,
          0.7998021245002747,
          0.6685947775840759,
          0.7378802299499512,
          0.6784069538116455,
          0.7206062078475952,
          0.6401389837265015,
          0.6142467260360718,
          0.645250678062439,
          0.6392216086387634,
          0.741450309753418,
          0.6713048219680786,
          0.6814165711402893,
          0.6679326891899109,
          0.6598968505859375,
          0.6856065988540649,
          0.7054896354675293,
          0.7251810431480408,
          0.7481799721717834,
          0.6385055780410767,
          0.7926496267318726,
          0.6736094951629639,
          0.7582640647888184,
          0.7848251461982727,
          0.6559464931488037,
          0.6609581112861633,
          0.7898088693618774,
          0.7191311120986938,
          0.7446587681770325,
          0.6418393850326538,
          0.6262069940567017,
          0.7638915777206421,
          0.7015253305435181,
          0.6734825372695923,
          0.7616633176803589,
          0.7716652750968933,
          0.6859489679336548,
          0.7701281309127808,
          0.7205787301063538,
          0.6906622648239136,
          0.7438172698020935,
          0.6252163052558899,
          0.6427057385444641,
          0.7014800310134888,
          0.7702618837356567,
          0.7138953804969788,
          0.7893555164337158,
          0.7063621282577515,
          0.6736747622489929,
          0.7350480556488037,
          0.6911386251449585,
          0.7178931832313538,
          0.6689788699150085,
          0.7527146339416504,
          0.7903637290000916,
          0.7176247835159302,
          0.7291233539581299,
          0.6499906182289124,
          0.7033131718635559,
          0.6823195219039917,
          0.6811732053756714,
          0.6995800733566284,
          0.6812292337417603,
          0.5878544449806213,
          0.7961176037788391,
          0.7116062641143799,
          0.6417728662490845,
          0.772845983505249,
          0.7237429618835449,
          0.6193516850471497,
          0.675969123840332,
          0.7557896375656128,
          0.7238010764122009,
          0.7009035348892212,
          0.6302646994590759,
          0.7732684016227722,
          0.7022385597229004,
          0.7044863700866699,
          0.6574534177780151,
          0.6158188581466675,
          0.6565563082695007,
          0.7383864521980286,
          0.7377769351005554,
          0.7603040933609009,
          0.622128963470459,
          0.7408313751220703,
          0.7586400508880615,
          0.7529311776161194,
          0.6461409330368042,
          0.731407105922699,
          0.7731360197067261,
          0.7162753343582153,
          0.7363424301147461,
          0.6889481544494629,
          0.7796337604522705,
          0.7310903072357178,
          0.707399845123291,
          0.7179679870605469,
          0.6941500902175903,
          0.7637372016906738,
          0.7906930446624756,
          0.7872254252433777,
          0.6592757701873779,
          0.6341403126716614,
          0.7276459336280823,
          0.6944239139556885,
          0.7558029890060425,
          0.7169033288955688,
          0.665324330329895,
          0.7334312796592712,
          0.7145978212356567,
          0.7595129013061523,
          0.726852536201477,
          0.6065131425857544,
          0.6894438862800598,
          0.7685659527778625,
          0.7087069749832153,
          0.7320236563682556,
          0.6806744337081909,
          0.6561570167541504,
          0.7195761203765869,
          0.6437488794326782,
          0.8022311925888062,
          0.7697876691818237,
          0.7243376970291138,
          0.6709139347076416,
          0.7025771141052246,
          0.6825007796287537,
          0.7381500005722046,
          0.7604048252105713,
          0.7192434072494507,
          0.7731795310974121,
          0.6902416348457336,
          0.718616247177124,
          0.7539172768592834,
          0.6930626630783081,
          0.6649222373962402,
          0.7395029067993164,
          0.6801494359970093,
          0.6579108238220215,
          0.7449918985366821,
          0.7295800447463989,
          0.8046243786811829,
          0.7057388424873352,
          0.7393662333488464,
          0.634312629699707,
          0.7360316514968872,
          0.7145959138870239,
          0.7626887559890747,
          0.7458988428115845,
          0.6700581312179565,
          0.7520402669906616,
          0.6831517815589905,
          0.7720222473144531,
          0.7162753343582153,
          0.7307709455490112,
          0.6924302577972412,
          0.7399560213088989,
          0.7329884767532349,
          0.6931370496749878,
          0.665574848651886,
          0.7056747674942017,
          0.7264401912689209,
          0.7720222473144531,
          0.6795755624771118,
          0.750908613204956,
          0.7600545883178711,
          0.7532552480697632,
          0.771484375,
          0.7469998002052307,
          0.6511479616165161,
          0.6867508888244629,
          0.7642121315002441,
          0.7748627066612244,
          0.7312330007553101,
          0.6494199633598328,
          0.7191662788391113,
          0.6693748235702515,
          0.7496072053909302,
          0.6905685067176819,
          0.7308985590934753,
          0.7403049468994141,
          0.6455953121185303,
          0.7064773440361023,
          0.7741937041282654,
          0.667852520942688,
          0.7744916081428528,
          0.7122058868408203,
          0.7889353036880493,
          0.7467334270477295,
          0.6703738570213318,
          0.7664177417755127,
          0.7051398754119873,
          0.6391447186470032,
          0.7576286792755127,
          0.6291477680206299,
          0.8135644197463989,
          0.6996409893035889,
          0.6528077125549316,
          0.766411304473877,
          0.671847939491272,
          0.7464889287948608,
          0.736588716506958,
          0.7159113883972168,
          0.7318845987319946,
          0.636304497718811,
          0.7171934247016907,
          0.6208485960960388,
          0.6992682218551636,
          0.6326768398284912,
          0.6784865260124207,
          0.7472207546234131,
          0.6515462398529053,
          0.7595129013061523,
          0.7641200423240662,
          0.760623037815094,
          0.7141033411026001,
          0.7548744082450867,
          0.7042073011398315,
          0.6542219519615173,
          0.6507160663604736,
          0.7292903065681458,
          0.7515047192573547,
          0.7967861890792847,
          0.7215514183044434,
          0.6352457404136658,
          0.7108402252197266,
          0.6358703374862671,
          0.6786713600158691,
          0.7046700716018677,
          0.7481156587600708,
          0.6964074373245239,
          0.7534408569335938,
          0.7831887006759644,
          0.7663454413414001,
          0.6533255577087402,
          0.7567601203918457,
          0.6492279767990112,
          0.6995033025741577,
          0.7518692016601562,
          0.6255697011947632,
          0.661201000213623,
          0.7485460042953491,
          0.7668737173080444,
          0.7451839447021484,
          0.7573123574256897,
          0.7116004824638367,
          0.783660888671875,
          0.708837628364563,
          0.6473654508590698,
          0.7878857254981995,
          0.6981685757637024,
          0.787961483001709,
          0.7982352375984192,
          0.7576380372047424,
          0.7144078016281128,
          0.6551538705825806,
          0.7794734239578247,
          0.6208885908126831,
          0.7161436676979065,
          0.6976494193077087,
          0.7296452522277832,
          0.7131743431091309,
          0.6383659839630127,
          0.6369144320487976,
          0.6642152070999146,
          0.7567108273506165,
          0.6483151912689209,
          0.6771293878555298,
          0.6341823935508728,
          0.627258837223053,
          0.7524203062057495,
          0.6037893295288086,
          0.6279215812683105,
          0.7931301593780518,
          0.6786713600158691,
          0.696081280708313,
          0.7817931175231934,
          0.7245187163352966,
          0.738978385925293,
          0.7080153226852417,
          0.739472508430481,
          0.6494948863983154,
          0.661758303642273,
          0.7292824387550354,
          0.7314756512641907,
          0.6980758309364319,
          0.7587305903434753,
          0.6859366297721863,
          0.6605802774429321,
          0.642353892326355,
          0.7131837010383606,
          0.7302564382553101,
          0.6706128120422363,
          0.666295051574707,
          0.706875205039978,
          0.6086925864219666,
          0.6506167650222778,
          0.646721363067627,
          0.648143470287323,
          0.6564894914627075,
          0.7915962934494019,
          0.6743044257164001,
          0.7405204772949219,
          0.6779645681381226,
          0.7188282608985901,
          0.6368508338928223,
          0.7707094550132751,
          0.7385979890823364,
          0.8027662038803101,
          0.7498655319213867,
          0.6936689615249634,
          0.7866512537002563,
          0.6611239910125732,
          0.6559686064720154,
          0.6929782629013062,
          0.6237914562225342,
          0.6329612135887146,
          0.6913270950317383,
          0.7471138834953308,
          0.7000025510787964,
          0.7707474231719971,
          0.6901932954788208,
          0.669069766998291,
          0.6100685596466064,
          0.6094169616699219,
          0.6295853853225708,
          0.7504803538322449,
          0.7424167394638062,
          0.6473777294158936,
          0.7155417799949646,
          0.6939340829849243,
          0.751824140548706,
          0.623123049736023,
          0.6362670660018921,
          0.6796676516532898,
          0.709513247013092,
          0.7721748352050781,
          0.7245512008666992,
          0.7237050533294678,
          0.6512238383293152,
          0.707624077796936,
          0.6453549265861511,
          0.6741617321968079,
          0.6187913417816162,
          0.6108834743499756,
          0.7605092525482178,
          0.7444645166397095,
          0.6354101896286011,
          0.7160398364067078,
          0.6256507039070129,
          0.6254417896270752,
          0.6938791871070862,
          0.7701924443244934,
          0.6429437398910522,
          0.621735692024231,
          0.7300237417221069,
          0.7861529588699341,
          0.6352177262306213,
          0.6872493624687195,
          0.713494598865509,
          0.7020742893218994,
          0.7039493918418884,
          0.7424092888832092,
          0.7860043048858643,
          0.7760040760040283,
          0.6223499774932861,
          0.7332524657249451,
          0.6747870445251465,
          0.749267578125,
          0.7267402410507202,
          0.7487297654151917,
          0.7390874624252319,
          0.7754480838775635,
          0.7135946750640869,
          0.704255223274231,
          0.6664510369300842,
          0.6438741087913513,
          0.6431702375411987,
          0.6473777294158936,
          0.6078161001205444,
          0.6451168656349182,
          0.7536249756813049,
          0.6870535612106323,
          0.6313641667366028,
          0.6358388662338257,
          0.6497384309768677,
          0.7541301250457764,
          0.6432483792304993,
          0.6370742321014404,
          0.7156765460968018,
          0.6297816038131714,
          0.6133416891098022,
          0.6606216430664062,
          0.6667200326919556,
          0.7238010764122009,
          0.6058141589164734,
          0.6657342910766602,
          0.7285993695259094,
          0.7142379283905029,
          0.7675701379776001,
          0.7204701900482178,
          0.6690343618392944,
          0.7577078342437744
         ],
         "xaxis": "x",
         "y": [
          -0.3281989097595215,
          -0.23653776943683624,
          -0.1891355812549591,
          -0.3039167821407318,
          -0.24974168837070465,
          -0.3258492350578308,
          -0.34115150570869446,
          -0.252122700214386,
          -0.3748096823692322,
          -0.1811181902885437,
          -0.18151119351387024,
          -0.2258017659187317,
          -0.17227989435195923,
          -0.12437385320663452,
          -0.3533565402030945,
          -0.29059481620788574,
          -0.24462614953517914,
          -0.2528259754180908,
          -0.16203908622264862,
          -0.2949891984462738,
          -0.21692097187042236,
          -0.19201678037643433,
          -0.2513374388217926,
          -0.18480224907398224,
          -0.1884745955467224,
          -0.24976995587348938,
          -0.15934684872627258,
          -0.20249071717262268,
          -0.3302668333053589,
          -0.14297206699848175,
          -0.22052937746047974,
          -0.20473173260688782,
          -0.2179829180240631,
          -0.2574438452720642,
          -0.31544414162635803,
          -0.14297206699848175,
          -0.28340762853622437,
          -0.2961011528968811,
          -0.2494221031665802,
          -0.1837683618068695,
          -0.2582823932170868,
          -0.33044373989105225,
          -0.28278568387031555,
          -0.3160114884376526,
          -0.2298157960176468,
          -0.344460666179657,
          -0.1602059304714203,
          -0.37580639123916626,
          -0.231509268283844,
          -0.14272797107696533,
          -0.2776392102241516,
          -0.23103809356689453,
          -0.3159036338329315,
          -0.2083025574684143,
          -0.18080657720565796,
          -0.22968336939811707,
          -0.26913172006607056,
          -0.2317703515291214,
          -0.2205708771944046,
          -0.26205483078956604,
          -0.19224750995635986,
          -0.2403172254562378,
          -0.3098267912864685,
          -0.25125908851623535,
          -0.1868179887533188,
          -0.1447068452835083,
          -0.21467897295951843,
          -0.31560707092285156,
          -0.25886064767837524,
          -0.27635347843170166,
          -0.29474014043807983,
          -0.1733759641647339,
          -0.2533504366874695,
          -0.2837836444377899,
          -0.23058763146400452,
          -0.31626656651496887,
          -0.2599422335624695,
          -0.14847593009471893,
          -0.31234222650527954,
          -0.22007417678833008,
          -0.40142345428466797,
          -0.3152453303337097,
          -0.20017357170581818,
          -0.309396892786026,
          -0.36021578311920166,
          -0.4237980246543884,
          -0.1914607733488083,
          -0.22701656818389893,
          -0.242433562874794,
          -0.26578277349472046,
          -0.33535486459732056,
          -0.3347100019454956,
          -0.3385245203971863,
          -0.2179127335548401,
          -0.15034696459770203,
          -0.15299099683761597,
          -0.19601500034332275,
          -0.385352224111557,
          -0.3206884264945984,
          -0.25244227051734924,
          -0.3062842786312103,
          -0.15454408526420593,
          -0.27467602491378784,
          -0.22867292165756226,
          -0.20003125071525574,
          -0.3463599681854248,
          -0.29993879795074463,
          -0.2518284022808075,
          -0.2056717872619629,
          -0.4014175534248352,
          -0.2256826013326645,
          -0.1631847620010376,
          -0.24354197084903717,
          -0.14014382660388947,
          -0.2475535273551941,
          -0.30837178230285645,
          -0.2468617856502533,
          -0.28430894017219543,
          -0.32247745990753174,
          -0.3696884214878082,
          -0.2032148540019989,
          -0.27220427989959717,
          -0.1832493394613266,
          -0.32520154118537903,
          -0.22571225464344025,
          -0.29031598567962646,
          -0.2019588053226471,
          -0.20743021368980408,
          -0.21746289730072021,
          -0.2677103579044342,
          -0.21234409511089325,
          -0.2832919657230377,
          -0.17625997960567474,
          -0.21677075326442719,
          -0.24225839972496033,
          -0.22104379534721375,
          -0.23814833164215088,
          -0.18985798954963684,
          -0.18234604597091675,
          -0.2686777710914612,
          -0.2745935916900635,
          -0.2274458408355713,
          -0.2844609022140503,
          -0.16384488344192505,
          -0.252622127532959,
          -0.23308102786540985,
          -0.1972680687904358,
          -0.21672509610652924,
          -0.23142406344413757,
          -0.20773550868034363,
          -0.25049787759780884,
          -0.16535812616348267,
          -0.357759952545166,
          -0.21327979862689972,
          -0.18917010724544525,
          -0.27036938071250916,
          -0.1579553484916687,
          -0.31545668840408325,
          -0.25566351413726807,
          -0.2391406148672104,
          -0.2870734632015228,
          -0.2939198315143585,
          -0.15644970536231995,
          -0.41487225890159607,
          -0.2310284972190857,
          -0.3798953890800476,
          -0.20951896905899048,
          -0.17474140226840973,
          -0.16629552841186523,
          -0.29941168427467346,
          -0.20536178350448608,
          -0.151154562830925,
          -0.19520027935504913,
          -0.2621574401855469,
          -0.18424110114574432,
          -0.23718947172164917,
          -0.1774800717830658,
          -0.2213854193687439,
          -0.23560860753059387,
          -0.2500333786010742,
          -0.2509644627571106,
          -0.3197437822818756,
          -0.16445130109786987,
          -0.2460142970085144,
          -0.273684024810791,
          -0.22594350576400757,
          -0.28013214468955994,
          -0.25509899854660034,
          -0.22713151574134827,
          -0.2019588053226471,
          -0.18693652749061584,
          -0.2153913378715515,
          -0.1836385726928711,
          -0.18105575442314148,
          -0.2560223937034607,
          -0.17345713078975677,
          -0.26754939556121826,
          -0.1617119014263153,
          -0.22713151574134827,
          -0.3667750656604767,
          -0.2863272726535797,
          -0.24545952677726746,
          -0.2799157500267029,
          -0.33711469173431396,
          -0.1910799741744995,
          -0.23412293195724487,
          -0.15458011627197266,
          -0.2309553176164627,
          -0.19884634017944336,
          -0.28853264451026917,
          -0.24488285183906555,
          -0.2315991371870041,
          -0.17913120985031128,
          -0.2993936836719513,
          -0.1712726503610611,
          -0.19801458716392517,
          -0.2695242166519165,
          -0.17522241175174713,
          -0.2587020993232727,
          -0.31466802954673767,
          -0.18239057064056396,
          -0.1962113380432129,
          -0.21609356999397278,
          -0.2974148690700531,
          -0.2823684811592102,
          -0.36617785692214966,
          -0.28242719173431396,
          -0.22125789523124695,
          -0.12849001586437225,
          -0.18830908834934235,
          -0.22070418298244476,
          -0.28272855281829834,
          -0.2537761926651001,
          -0.21659374237060547,
          -0.2829079031944275,
          -0.31592413783073425,
          -0.20627900958061218,
          -0.16670699417591095,
          -0.30789536237716675,
          -0.2382655143737793,
          -0.1429249346256256,
          -0.2372381091117859,
          -0.2112390398979187,
          -0.2113669514656067,
          -0.15653878450393677,
          -0.26329749822616577,
          -0.27497151494026184,
          -0.1589926779270172,
          -0.1972680687904358,
          -0.19540801644325256,
          -0.28150075674057007,
          -0.22247806191444397,
          -0.25330114364624023,
          -0.19152860343456268,
          -0.22407108545303345,
          -0.17153030633926392,
          -0.18212631344795227,
          -0.3011295199394226,
          -0.27146825194358826,
          -0.23592257499694824,
          -0.1528768539428711,
          -0.24789521098136902,
          -0.36393898725509644,
          -0.1827133595943451,
          -0.3047614097595215,
          -0.23549866676330566,
          -0.28645986318588257,
          -0.33505743741989136,
          -0.2975218892097473,
          -0.2665785551071167,
          -0.21612000465393066,
          -0.21865659952163696,
          -0.29938146471977234,
          -0.32809221744537354,
          -0.25944656133651733,
          -0.2038695067167282,
          -0.24595868587493896,
          -0.18602944910526276,
          -0.19564653933048248,
          -0.29781463742256165,
          -0.3594048023223877,
          -0.15189309418201447,
          -0.21516254544258118,
          -0.20617105066776276,
          -0.20824451744556427,
          -0.22240936756134033,
          -0.23357990384101868,
          -0.2572668790817261,
          -0.24069145321846008,
          -0.23967140913009644,
          -0.346238911151886,
          -0.2592359781265259,
          -0.2403266727924347,
          -0.38777250051498413,
          -0.15969152748584747,
          -0.288017213344574,
          -0.2400502860546112,
          -0.26995617151260376,
          -0.12052161991596222,
          -0.21692097187042236,
          -0.21188166737556458,
          -0.23310455679893494,
          -0.13876909017562866,
          -0.24960261583328247,
          -0.11416134983301163,
          -0.14993655681610107,
          -0.25973013043403625,
          -0.25104182958602905,
          -0.23348946869373322,
          -0.280165433883667,
          -0.1827133595943451,
          -0.2183777391910553,
          -0.2603037655353546,
          -0.16969475150108337,
          -0.2618163228034973,
          -0.30663084983825684,
          -0.2268020212650299,
          -0.14089491963386536,
          -0.2833153009414673,
          -0.24369758367538452,
          -0.2621592879295349,
          -0.36570504307746887,
          -0.34720486402511597,
          -0.3020225763320923,
          -0.1994992196559906,
          -0.19328944385051727,
          -0.17653614282608032,
          -0.2629821002483368,
          -0.25753796100616455,
          -0.23596017062664032,
          -0.16574275493621826,
          -0.3349180817604065,
          -0.19264201819896698,
          -0.25015807151794434,
          -0.1553117334842682,
          -0.30813926458358765,
          -0.26780110597610474,
          -0.2817745506763458,
          -0.3384164273738861,
          -0.20432844758033752,
          -0.33902159333229065,
          -0.19688235223293304,
          -0.19797813892364502,
          -0.24379241466522217,
          -0.24182471632957458,
          -0.2746414542198181,
          -0.31339728832244873,
          -0.24953247606754303,
          -0.13612031936645508,
          -0.2684529423713684,
          -0.22217674553394318,
          -0.33727216720581055,
          -0.2470090389251709,
          -0.17081256210803986,
          -0.23570629954338074,
          -0.19716614484786987,
          -0.25753504037857056,
          -0.2875222861766815,
          -0.18221580982208252,
          -0.29605919122695923,
          -0.21393202245235443,
          -0.13387387990951538,
          -0.21307587623596191,
          -0.3024148643016815,
          -0.20229166746139526,
          -0.2138497531414032,
          -0.20514582097530365,
          -0.19141048192977905,
          -0.296351820230484,
          -0.14344650506973267,
          -0.15349414944648743,
          -0.20391729474067688,
          -0.214232936501503,
          -0.18201200664043427,
          -0.1836649775505066,
          -0.17038343846797943,
          -0.2292032241821289,
          -0.15249136090278625,
          -0.17395925521850586,
          -0.34481826424598694,
          -0.3156605362892151,
          -0.3057115972042084,
          -0.21323806047439575,
          -0.334799200296402,
          -0.15686464309692383,
          -0.32830706238746643,
          -0.2080959528684616,
          -0.2577933073043823,
          -0.2806795537471771,
          -0.4074462056159973,
          -0.13044790923595428,
          -0.17599163949489594,
          -0.24260060489177704,
          -0.24681922793388367,
          -0.250166118144989,
          -0.31934428215026855,
          -0.1839975267648697,
          -0.20403242111206055,
          -0.21496614813804626,
          -0.23098236322402954,
          -0.2552522122859955,
          -0.15293653309345245,
          -0.2372017502784729,
          -0.15633606910705566,
          -0.31950151920318604,
          -0.2674320936203003,
          -0.2535364627838135,
          -0.18532314896583557,
          -0.3088320791721344,
          -0.1924942433834076,
          -0.15846794843673706,
          -0.2528786063194275,
          -0.16913138329982758,
          -0.3085542917251587,
          -0.20229166746139526,
          -0.2751140296459198,
          -0.18985730409622192,
          -0.33039167523384094,
          -0.27316465973854065,
          -0.13160666823387146,
          -0.24763479828834534,
          -0.2199365347623825,
          -0.2182263433933258,
          -0.15418076515197754,
          -0.2555212378501892,
          -0.21026304364204407,
          -0.35804933309555054,
          -0.21961349248886108,
          -0.21703550219535828,
          -0.3666684031486511,
          -0.2518284022808075,
          -0.32703784108161926,
          -0.14624164998531342,
          -0.2242128849029541,
          -0.24742087721824646,
          -0.22642934322357178,
          -0.39373713731765747,
          -0.2130301147699356,
          -0.2744259238243103
         ],
         "yaxis": "y"
        },
        {
         "customdata": [
          [
           "bean<br>pork<br>soy<br>vinegar"
          ],
          [
           "paprika<br>pork<br>soy<br>vinegar<br>wine"
          ],
          [
           "bay leaf<br>oyster<br>pork<br>soy<br>vinegar"
          ],
          [
           "bay leaf<br>chili<br>coconut<br>pork<br>soy<br>vinegar"
          ],
          [
           "bangus<br>ginger<br>tomato<br>vinegar"
          ],
          [
           "kangkong<br>pork<br>soy<br>vinegar"
          ],
          [
           "banana<br>bay leaf<br>pork<br>soy<br>vinegar"
          ],
          [
           "bay leaf<br>pineapple<br>soy<br>vinegar"
          ],
          [
           "chili<br>eggplant<br>ginger<br>soy<br>vinegar"
          ],
          [
           "fish<br>pork<br>vinegar"
          ],
          [
           "bay leaf<br>chili<br>lime<br>pig<br>soy<br>vinegar"
          ],
          [
           "bell pepper<br>carrot<br>chili<br>fish<br>pork<br>vinegar"
          ],
          [
           "vinegar"
          ],
          [
           "bay leaf<br>chili<br>pork<br>shallot<br>soy<br>vinegar"
          ],
          [
           "banana<br>chili<br>fish<br>pork<br>vinegar"
          ],
          [
           "bay leaf<br>ginger<br>lime<br>soy<br>star anise<br>tomato<br>vinegar"
          ],
          [
           "chili<br>fish<br>ginger<br>tamarind<br>vinegar"
          ],
          [
           "bay leaf<br>pork<br>roma tomato<br>vinegar"
          ],
          [
           "vinegar"
          ],
          [
           "chili<br>ginger<br>rice<br>shallot<br>soy<br>vinegar"
          ],
          [
           "chili<br>eggplant<br>soy<br>vinegar"
          ],
          [
           "vinegar"
          ],
          [
           "cilantro<br>fish<br>mango<br>roma tomato<br>vinegar"
          ],
          [
           "chili<br>cucumber<br>fish<br>sesame<br>vinegar"
          ],
          [
           "fish<br>kamote<br>roma tomato<br>shallot<br>vinegar"
          ],
          [
           "chili<br>cornstarch<br>vinegar"
          ],
          [
           "bay leaf<br>chicken<br>pork<br>soy<br>vinegar"
          ],
          [
           "chili<br>eggplant<br>fish<br>ginger<br>vinegar"
          ],
          [
           "bay leaf<br>egg<br>pork<br>soy<br>vinegar"
          ],
          [
           "bay leaf<br>soy<br>vinegar"
          ],
          [
           "bay leaf<br>fish<br>pork<br>vinegar"
          ],
          [
           "pineapple<br>pork<br>soy<br>vinegar"
          ],
          [
           "bay leaf<br>pineapple<br>pork<br>soy<br>vinegar"
          ],
          [
           "chili<br>ginger<br>honey<br>roma tomato<br>vinegar"
          ],
          [
           "bay leaf<br>chicken<br>chili<br>rock<br>soy<br>vinegar"
          ],
          [
           "bell pepper<br>cornstarch<br>ginger<br>papaya<br>vinegar"
          ],
          [
           "bay leaf<br>potato<br>soy<br>vinegar"
          ],
          [
           "bay leaf<br>chicken<br>soy<br>vinegar"
          ],
          [
           "bay leaf<br>pork<br>vinegar"
          ],
          [
           "bay leaf<br>ginger<br>pork<br>vinegar"
          ],
          [
           "bay leaf<br>fish<br>vinegar"
          ],
          [
           "bay leaf<br>pork<br>vinegar"
          ],
          [
           "chili<br>fish<br>lime<br>oyster<br>pork<br>vinegar"
          ],
          [
           "chili<br>fish<br>ginger<br>pork<br>vinegar"
          ],
          [
           "chili<br>ginger<br>hoisin<br>sesame<br>vinegar"
          ],
          [
           "chili<br>mango<br>vinegar"
          ],
          [
           "pork<br>vinegar"
          ],
          [
           "bay leaf<br>pineapple<br>pork<br>soy<br>vinegar"
          ],
          [
           "lemon<br>shallot<br>vinegar"
          ],
          [
           "chili<br>pork<br>shrimp<br>tomato<br>vinegar"
          ],
          [
           "avocado<br>cucumber<br>roma tomato<br>sesame<br>vinegar"
          ],
          [
           "chili<br>pork<br>roma tomato<br>shrimp<br>vinegar"
          ],
          [
           "chili<br>cinnamon<br>clove<br>oregano<br>pork<br>roma tomato<br>vinegar"
          ],
          [
           "bangus<br>vinegar"
          ],
          [
           "bay leaf<br>ginger<br>pork<br>soy<br>vinegar"
          ],
          [
           "pork<br>vinegar"
          ],
          [
           "bell pepper<br>cornstarch<br>pineapple<br>vinegar"
          ],
          [
           "bay leaf<br>chili<br>pork<br>shallot<br>soy<br>vinegar"
          ],
          [
           "bell pepper<br>carrot<br>ginger<br>raisin<br>vinegar"
          ],
          [
           "bay leaf<br>pork<br>soy<br>vinegar"
          ],
          [
           "bay leaf<br>chicken<br>oyster<br>soy<br>vinegar"
          ],
          [
           "soy<br>squid<br>tomato<br>vinegar"
          ],
          [
           "cornstarch<br>ginger<br>orange juice<br>sesame<br>soy<br>vinegar"
          ],
          [
           "bay leaf<br>chili<br>mayonnaise<br>pork<br>vinegar"
          ],
          [
           "bacon<br>pork<br>spring<br>vinegar"
          ],
          [
           "bay leaf<br>chicken<br>egg<br>soy<br>vinegar"
          ],
          [
           "bell pepper<br>carrot<br>laurel<br>pea<br>pork<br>soy<br>vinegar"
          ],
          [
           "bay leaf<br>pork<br>soy<br>vinegar"
          ],
          [
           "pig<br>pork<br>scallion<br>soy<br>vinegar"
          ],
          [
           "chicken<br>chili<br>fish<br>soy<br>vinegar"
          ],
          [
           "chili<br>fish<br>ginger<br>vinegar"
          ],
          [
           "bay leaf<br>chili<br>hoisin<br>star anise<br>vinegar"
          ],
          [
           "bay leaf<br>lemon<br>oyster<br>pork<br>soy<br>vinegar"
          ],
          [
           "bangus<br>ginger<br>tomato<br>vinegar"
          ],
          [
           "laurel<br>lemon<br>pork<br>vinegar"
          ],
          [
           "breadcrumb<br>laurel<br>pork<br>soy<br>vinegar"
          ],
          [
           "chili<br>lemon<br>lime<br>pork<br>soy<br>tofu<br>vinegar"
          ],
          [
           "banana<br>bay leaf<br>carrot<br>pork<br>soy<br>vinegar"
          ],
          [
           "bagoong<br>eggplant<br>pork<br>serrano<br>tomato<br>vinegar"
          ],
          [
           "bay leaf<br>fish<br>pineapple<br>pork<br>soy<br>vinegar"
          ],
          [
           "bay leaf<br>pork<br>star anise<br>vinegar"
          ],
          [
           "bay leaf<br>chicken<br>pork<br>vinegar"
          ],
          [
           "bay leaf<br>bell pepper<br>carrot<br>chicken<br>pea<br>soy<br>vinegar"
          ],
          [
           "bay leaf<br>fish<br>pork<br>serrano<br>vinegar"
          ],
          [
           "kangkong<br>soy<br>vinegar"
          ],
          [
           "bagoong<br>eggplant<br>pork<br>tomato<br>vinegar"
          ],
          [
           "bay leaf<br>pork<br>vinegar"
          ],
          [
           "banana<br>bean<br>pork<br>soy<br>vinegar"
          ],
          [
           "bay leaf<br>beef<br>butter<br>lemon<br>soy<br>tomato<br>vinegar"
          ],
          [
           "bay leaf<br>chicken<br>lemon<br>soy<br>vinegar"
          ],
          [
           "bay leaf<br>pork<br>soy<br>vinegar"
          ],
          [
           "bell pepper<br>chicken<br>chili<br>ginger<br>lemon<br>soy<br>vinegar"
          ],
          [
           "bay leaf<br>pork<br>soy<br>vinegar"
          ],
          [
           "bay leaf<br>chicken<br>oyster<br>vinegar"
          ],
          [
           "bay leaf<br>chicken<br>soy<br>vinegar"
          ],
          [
           "bay leaf<br>chicken<br>coconut<br>soy<br>vinegar"
          ],
          [
           "beef<br>chili<br>ginger<br>soy<br>vinegar"
          ],
          [
           "bagoong<br>ginger<br>pork<br>tomato<br>vinegar"
          ],
          [
           "soy<br>squid<br>tomato<br>vinegar"
          ],
          [
           "chili<br>lemon<br>pork<br>scallion<br>soy<br>vinegar"
          ],
          [
           "bay leaf<br>ginger<br>lemon<br>pork<br>vinegar"
          ],
          [
           "bay leaf<br>chicken<br>soy<br>vinegar"
          ],
          [
           "bay leaf<br>bean<br>pork<br>rice<br>soy<br>vinegar"
          ],
          [
           "daikon radish<br>pork<br>vinegar"
          ],
          [
           "bay leaf<br>chicken<br>oyster<br>pork<br>soy<br>vinegar"
          ],
          [
           "banana<br>bay leaf<br>corn<br>pork<br>soy<br>vinegar"
          ],
          [
           "chili<br>coconut<br>fish<br>ginger<br>spinach<br>vinegar"
          ],
          [
           "eggplant<br>shrimp<br>tomato<br>vinegar"
          ],
          [
           "pork<br>vinegar"
          ],
          [
           "bay leaf<br>egg<br>pineapple<br>pork<br>soy<br>vinegar"
          ],
          [
           "bay leaf<br>chicken<br>soy<br>vinegar"
          ],
          [
           "soy<br>squid<br>tomato<br>vinegar"
          ],
          [
           "bagoong<br>eggplant<br>pork<br>tomato<br>vinegar"
          ],
          [
           "bay leaf<br>pork<br>vinegar"
          ],
          [
           "bay leaf<br>chicken<br>soy<br>vinegar"
          ],
          [
           "bay leaf<br>peanut<br>pork<br>scallion<br>vinegar"
          ],
          [
           "kangkong<br>sitaw<br>soy<br>vinegar"
          ],
          [
           "butter<br>lime<br>vinegar"
          ],
          [
           "chili<br>leek<br>lemon<br>pig<br>soy<br>tofu<br>vinegar"
          ],
          [
           "bay leaf<br>coconut<br>pork<br>soy<br>vinegar"
          ],
          [
           "chili<br>lemon<br>pork<br>scallion<br>soy<br>vinegar"
          ],
          [
           "bacon<br>bean<br>mustard<br>tomato<br>vinegar"
          ],
          [
           "bay leaf<br>beef broth<br>pork<br>soy<br>vinegar"
          ],
          [
           "bay leaf<br>beef broth<br>pork<br>soy<br>vinegar"
          ],
          [
           "chili<br>soy<br>tofu<br>vinegar"
          ],
          [
           "chili<br>fish<br>vinegar"
          ],
          [
           "bay leaf<br>chicken<br>coconut<br>soy<br>vinegar"
          ],
          [
           "bay leaf<br>chicken<br>soy<br>vinegar"
          ],
          [
           "banana<br>bay leaf<br>bean<br>pineapple<br>pork<br>soy<br>vinegar"
          ],
          [
           "bay leaf<br>chicken<br>dark soy<br>egg<br>vinegar"
          ],
          [
           "coconut vegetable<br>pork<br>vinegar"
          ],
          [
           "bay leaf<br>coconut<br>fish<br>soy<br>squid<br>vinegar"
          ],
          [
           "banana<br>bay leaf<br>pork<br>soy<br>vinegar"
          ],
          [
           "pork<br>snake bean<br>soy<br>vinegar"
          ],
          [
           "beef broth<br>pork<br>snake bean<br>soy<br>vinegar"
          ],
          [
           "bay leaf<br>bell pepper<br>pig<br>pork<br>soy<br>vinegar"
          ],
          [
           "okra<br>pork<br>soy<br>vinegar"
          ],
          [
           "bay leaf<br>broth<br>pork<br>soy<br>vinegar"
          ],
          [
           "bay leaf<br>pig<br>soy<br>vinegar"
          ],
          [
           "plum tomato<br>vinegar"
          ],
          [
           "vinegar"
          ],
          [
           "vinegar"
          ],
          [
           "bay leaf<br>cayenne<br>cumin<br>pig<br>sea<br>vinegar"
          ],
          [
           "bell pepper<br>carrot<br>papaya<br>raisin<br>vinegar"
          ],
          [
           "lemon<br>vinegar"
          ],
          [
           "bay leaf<br>soy<br>vinegar"
          ],
          [
           "bay leaf<br>beef<br>pineapple<br>pork<br>soy<br>vinegar"
          ],
          [
           "chicken<br>chili<br>margarine<br>vinegar"
          ],
          [
           "bay leaf<br>chicken<br>flour<br>soy<br>vinegar"
          ],
          [
           "vinegar"
          ],
          [
           "bay leaf<br>beef broth<br>soy<br>vinegar"
          ],
          [
           "chili<br>cucumber<br>pork<br>vinegar"
          ],
          [
           "pork<br>sea<br>sriracha<br>tomato<br>vinegar"
          ],
          [
           "banana<br>bay leaf<br>carrot<br>pork<br>soy<br>vinegar"
          ],
          [
           "beef<br>bell pepper<br>ginger<br>sesame<br>soy<br>vinegar"
          ],
          [
           "plum tomato<br>rice<br>vinegar"
          ],
          [
           "chili<br>vinegar"
          ],
          [
           "bay leaf<br>corn<br>dark soy<br>sea<br>vinegar"
          ],
          [
           "soy<br>string bean<br>tofu<br>vinegar"
          ],
          [
           "bay leaf<br>beef<br>soy<br>vinegar"
          ],
          [
           "sesame<br>sesame seed<br>soy<br>tofu<br>vinegar"
          ],
          [
           "basil<br>lemon<br>parsley<br>tomato<br>vinegar"
          ],
          [
           "soy<br>spinach<br>vinegar"
          ],
          [
           "pork<br>soy<br>tofu<br>vinegar"
          ],
          [
           "bay leaf<br>bok choy<br>soy<br>vinegar"
          ],
          [
           "banana<br>chili<br>fish<br>vegetable broth<br>vinegar"
          ],
          [
           "barbecue<br>chicken<br>vinegar<br>worcestershire"
          ],
          [
           "bay leaf<br>mussel<br>soy<br>vinegar"
          ],
          [
           "bitter gourd<br>roma tomato<br>vinegar"
          ],
          [
           "bay leaf<br>chili<br>oyster<br>pork<br>soy<br>vinegar"
          ],
          [
           "bay leaf<br>pork<br>vinegar"
          ],
          [
           "cilantro<br>cumin<br>lime juice"
          ],
          [
           "vinegar"
          ],
          [
           "bay leaf<br>cornstarch<br>flour<br>sherry<br>sodium soy<br>vinegar"
          ],
          [
           "bay leaf<br>corn<br>pork<br>potato<br>soy<br>vinegar"
          ],
          [
           "bangus<br>vinegar"
          ],
          [
           "bay leaf<br>oyster<br>pork<br>soy<br>vinegar"
          ],
          [
           "ginger<br>potato<br>tomato<br>vinegar"
          ],
          [
           "bell pepper<br>fish<br>vinegar"
          ],
          [
           "bay leaf<br>chicken<br>chili<br>oyster<br>soy<br>vinegar"
          ],
          [
           "vinegar"
          ],
          [
           "bell pepper<br>leek<br>parsley<br>tomato<br>vinegar"
          ],
          [
           "bell pepper<br>egg<br>parsley<br>vinegar"
          ],
          [
           "beef<br>bell pepper<br>honey<br>soy<br>vinegar"
          ],
          [
           "cilantro<br>lime juice"
          ],
          [
           "pork<br>shrimp<br>tomato<br>vinegar"
          ],
          [
           "pork<br>shrimp<br>vinegar"
          ],
          [
           "bay leaf<br>chili<br>rice<br>soy<br>vinegar"
          ],
          [
           "bitter gourd<br>chili<br>knob ginger<br>vinegar"
          ],
          [
           "chili<br>cucumber<br>ginger<br>lemon<br>tuna<br>vinegar"
          ],
          [
           "ginger<br>vinegar"
          ],
          [
           "pork<br>soy<br>string bean<br>vinegar"
          ],
          [
           "chili<br>ginger<br>lemon<br>tuna<br>vinegar"
          ],
          [
           "bay leaf<br>chili<br>goat meat<br>soy<br>vinegar"
          ],
          [
           "bay leaf<br>carrot<br>pork<br>soy<br>vinegar"
          ],
          [
           "chili<br>sesame<br>soy<br>vinegar"
          ],
          [
           "bay leaf<br>broth<br>pork<br>soy<br>vinegar"
          ],
          [
           "ice<br>vinegar"
          ],
          [
           "cucumber<br>ginger<br>vinegar"
          ],
          [
           "banana<br>bay leaf<br>bean<br>pineapple<br>pork<br>soy<br>vinegar"
          ],
          [
           "bell pepper<br>carrot<br>ginger<br>papaya<br>raisin<br>vinegar"
          ],
          [
           "bay leaf<br>corn<br>pig<br>vinegar"
          ],
          [
           "bay leaf<br>corn<br>vinegar"
          ]
         ],
         "hovertemplate": "<b>%{hovertext}</b><br><br>cluster=4<br>x=%{x}<br>y=%{y}<br>ingredients=%{customdata[0]}<extra></extra>",
         "hovertext": [
          "Adobong Sitaw with Pork",
          "Longganisa",
          "Pork Adobo with Oyster Sauce",
          "Adobo sa Gata",
          "Totsong Bangus",
          "Adobong Kangkong",
          "Paksiw na Pata",
          "Pata Hamonado",
          "Eggplant with Spicy Garlic Sauce",
          "Kilayin",
          "Sizzling Sisig",
          "Bopis",
          "Oven-Roasted Pig Head",
          "Tokwa’t Baboy",
          "Kilawing Puso nang Saging",
          "Adobong Hito",
          "Sinampalukang Kambing",
          "Tokwa't Baboy with Tausi",
          "Chicken Skin Chicharon",
          "Lugaw at Tokwa",
          "Adobong Talong",
          "Crispy Pork Shoulder",
          "Filipino Mango and Tomato Salad",
          "Ensaladang Pipino",
          "Ensaladang Talbos ng Kamote",
          "Crispy Tahong (Deep-Fried Mussels)",
          "Chicken and Pork Adobo",
          "Paksiw na Bangus",
          "Loslos",
          "Instant Pot Chicken Adobo",
          "Kilawing Labanos at Baboy",
          "Pork Adobo with Pineapple",
          "Humba",
          "Inihaw na Pusit (Grilled Squid)",
          "Adobong Paa nang Manok (Chicken Feet Adobo)",
          "Escabeche Lapu Lapu",
          "Chicken Adobo",
          "Chicken Adobo with Liver Spread",
          "Adobong Puti",
          "Adobong Dilaw",
          "Adobong Manok sa Patis",
          "Paksiw na Lechon",
          "Inihaw na Liempo",
          "Dinuguan",
          "Hoisin-Glazed Salmon",
          "Pickled Mangoes (Burong Mangga)",
          "Pork Chicharon",
          "Pork Hamonado",
          "Pork Belly Lechon Roll",
          "Binagoongan Baboy",
          "Asian Cucumber Tomato Avocado Salad",
          "Binagoongan Baboy sa Gata",
          "Mexican Pork Adobo",
          "Daing na Bangus",
          "Pork Ribs Adobo with Atsuete",
          "Lechon sa Hurno",
          "Sweet and Sour Sauce",
          "Crispy Pata",
          "Atchara",
          "Pork Adobo",
          "Chicken Adobo Recipe (boneless thigh)",
          "Tastylicious Adobong Pusit Recipe",
          "Orange Crispy Burger",
          "Crispy Pata Dinakdakan",
          "Crispy Lechon Belly with Bacon",
          "Perfect Chicken Adobo on a Budget",
          "Igado Recipe",
          "Pork Adobo Recipe",
          "Tokwat Baboy Recipe",
          "Betamax Recipe",
          "Kilawing Kambing",
          "Chili Garlic Oil Recipe",
          "Most Delicious Pork Adobo Recipe",
          "Tochong Bangus",
          "Crispy Bagnet Recipe",
          "Homemade Lechon Paksiw",
          "Kakaibang Tokwat Baboy",
          "Pata Estofado Recipe",
          "Binagoongan Bagnet with Talong",
          "Nagmamantikang Pork Adobo",
          "Air Fryer Crispy Pata",
          "Chicken Paksiw",
          "Chicken Igado Recipe",
          "Pork Dinuguan Isaw at Tenga ng Baboy",
          "Adobong Kangkong Recipe",
          "Pork Ribs Binagoongan with Talong",
          "Lechon Paksiw",
          "Humba Recipe (Bisaya Version)",
          "Beef Asado",
          "Killer Chicken Adobo",
          "Coke Pork Adobo",
          "Chicken Hinalang (Halang-halang na Manok)",
          "Sprite Pork Adobo Recipe",
          "Chicken and Liver Adobo",
          "Adobong Manok sa Buko",
          "Adobong Manok sa Gata",
          "Beef Hinalang Recipe",
          "Crispy Pork Binagoongan",
          "Easy Adobong Pusit Recipe",
          "Lechon Belly Roll",
          "Crispy Dinuguan",
          "Easy Chicken Adobo Recipe",
          "Pork Adobo with Tokwa and Tausi and Garlic Fried Rice Adobo",
          "Kilawing Labanos Recipe",
          "Pork and Chicken Adobo Recipe",
          "Paksiw na Pata Recipe",
          "Ginataang Mackerel",
          "Eggplant Salad",
          "Dinuguan Recipe",
          "Pork Adobo in Pineapple Juice with Boiled Eggs",
          "Easy Chicken Adobo",
          "Adobong Pusit Recipe",
          "Pork Binagoongan Recipe",
          "Pork Dinuguan Recipe",
          "Chicken Adobo",
          "Super Crispy Pata with Yummy Sawsawan",
          "Adobong Sitaw at Kangkong with Chicharon",
          "Shrimp with Butter and Taba ng Talangka Recipe",
          "Spicy Tokwat Baboy Recipe",
          "Adobong Baboy sa Gata (Pork Adobo in Coconut Milk)",
          "Putok Batok Crispy Pata Slices",
          "Homemade Pork and Beans Recipe",
          "Lechon Belly Pork Adobo Recipe",
          "Paksiw na Lechon Kawali",
          "Grilled Liempo with Fried Tofu",
          "Spicy Daing na Bangus",
          "Chicken Adobo sa Gata",
          "Sous Vide Chicken Adobo",
          "Pork Pata Humba Recipe",
          "Chicken Adobo with Egg",
          "Pork Dinuguan sa Gata Recipe",
          "Adobong Pusit sa Gata",
          "Pata Paksiw Recipe",
          "Adobong Sitaw with Lechon Kawali",
          "Pork Adobo with Sitaw",
          "Dinaldalem Recipe",
          "Adobong Okra with Pork Recipe",
          "Paksiw na Lechon Manok",
          "Crispy Tenga Recipe (Crispy Pig Ears)",
          "Seaweed Salad Recipe (Ensaladang Lato)",
          "Grilled Filipino Sweet Sausage",
          "The Simplest Paksiw na Galunggong Recipe",
          "Inihaw na Isaw ng Baboy",
          "How to Cook Papaya Atchara",
          "Steamed Snow Crab Legs Recipe",
          "Adobong Pata (Ham Hock Adobo)",
          "Paksiw na Pata with Pineapple",
          "Crispy Pata Sisig Recipe",
          "Chicken Liver and Gizzard Adobo",
          "Crispy Fried Jeprox",
          "Adobo Meatballs Recipe",
          "Pork Kilawin",
          "Pulled Pork Crock Pot Recipe",
          "Liempo Estofado Recipe",
          "Beef Kebab Recipe",
          "Tuyo with Rice and Tomato",
          "Chicken Pita",
          "Fish Adobo",
          "Adobong Sitaw with Tofu",
          "Adobong Bulalo",
          "Tokwat Baka (Fried Tofu and Grilled Beef in Vinegar Sauce)",
          "Chickpea Salad",
          "Saucy Adobong Kangkong",
          "Special Tokwat Baboy",
          "Bok Choy Adobo",
          "Kilawing Puso ng Saging",
          "Pulled Chicken BBQ Sandwich recipe",
          "Adobong Tahong Recipe (Mussels Adobo)",
          "Ampalaya Salad Recipe",
          "Spicy Pork Adobo Recipe",
          "Adobong Dilaw Recipe (Yellow Adobo)",
          "Carne Asada Recipe",
          "Cranberry Apple Juice",
          "Crispy Shrimp Adobo Recipe",
          "Pork Adobo with Potato Recipe",
          "Fried Bangus Recipe (Fried Milkfish)",
          "Pork Adobo with Tofu Recipe",
          "Sweet Potato Leaves Salad Recipe",
          "Fish Escabeche Recipe",
          "Chicken Feet Adobo",
          "How to Make Kale Chips",
          "Round Steak in Criolla Sauce Recipe",
          "How to Make Lengua a la Vinagreta",
          "Adobo Steak Recipe",
          "Baked Cilantro Lime Cod Recipe",
          "Bagoong Guisado Recipe",
          "Adobong Labong Recipe",
          "Adobong Isaw Recipe",
          "Paksiw na Isda Recipe",
          "Sinuglaw",
          "How to Make Sinamak",
          "Adobong Sitaw Recipe",
          "Kinilaw na Tuna",
          "Adobong Kambing Recipe",
          "Pork Estofado Recipe",
          "Asian Dipping Sauce Recipe",
          "Lechon Paksiw Recipe",
          "Asparagus Salad",
          "Cucumber Salad",
          "Humba Recipe",
          "Atchara (Papaya)",
          "Grilled Isaw (Intestine) Recipe",
          "Chicharon Bituka Recipe"
         ],
         "legendgroup": "4",
         "marker": {
          "color": "rgb(17, 165, 121)",
          "size": 5,
          "symbol": "circle"
         },
         "mode": "markers",
         "name": "4",
         "showlegend": true,
         "type": "scattergl",
         "x": [
          0.636276364326477,
          0.6556901335716248,
          0.70660400390625,
          0.7388905882835388,
          0.6299658417701721,
          0.6496902704238892,
          0.7112066745758057,
          0.5995083451271057,
          0.7132962942123413,
          0.6956855654716492,
          0.6970343589782715,
          0.7826305031776428,
          0.5067388415336609,
          0.7414444088935852,
          0.7871664762496948,
          0.6273678541183472,
          0.6974971890449524,
          0.6022311449050903,
          0.5067388415336609,
          0.7298439145088196,
          0.6351921558380127,
          0.5067388415336609,
          0.7057327032089233,
          0.7737400531768799,
          0.7092221975326538,
          0.631463348865509,
          0.7269951105117798,
          0.7195566296577454,
          0.7396977543830872,
          0.5795121192932129,
          0.7204862236976624,
          0.6708959937095642,
          0.6794484853744507,
          0.6996446847915649,
          0.7505231499671936,
          0.655036211013794,
          0.6295643448829651,
          0.6521422863006592,
          0.639477014541626,
          0.656789243221283,
          0.5742156505584717,
          0.639477014541626,
          0.7766067385673523,
          0.796224057674408,
          0.6680840253829956,
          0.5892064571380615,
          0.6283788084983826,
          0.6794483661651611,
          0.5620744228363037,
          0.6949769258499146,
          0.6554811000823975,
          0.6841868162155151,
          0.6720951795578003,
          0.5378609299659729,
          0.6974329352378845,
          0.6283788681030273,
          0.6219801902770996,
          0.7414444088935852,
          0.6271770000457764,
          0.6650683879852295,
          0.7000352144241333,
          0.6319258809089661,
          0.6351317167282104,
          0.7672416567802429,
          0.6241635084152222,
          0.7065039873123169,
          0.7584199905395508,
          0.6650683879852295,
          0.6894832849502563,
          0.7545800805091858,
          0.6922948360443115,
          0.6673622727394104,
          0.7305594086647034,
          0.6299658417701721,
          0.6413956880569458,
          0.6288692355155945,
          0.7439446449279785,
          0.7573479413986206,
          0.6332164406776428,
          0.7927999496459961,
          0.6556321382522583,
          0.6791344285011292,
          0.7572981119155884,
          0.7106298208236694,
          0.5978307723999023,
          0.6247179508209229,
          0.639477014541626,
          0.6747161149978638,
          0.7093724012374878,
          0.6713281273841858,
          0.6650683879852295,
          0.7253873348236084,
          0.6650683879852295,
          0.6501506567001343,
          0.6521422863006592,
          0.6938890218734741,
          0.732100784778595,
          0.6928732395172119,
          0.6319258809089661,
          0.7543324828147888,
          0.6479942202568054,
          0.6521422863006592,
          0.7285405397415161,
          0.6378810405731201,
          0.7949502468109131,
          0.8029042482376099,
          0.7671497464179993,
          0.5870331525802612,
          0.6283788681030273,
          0.7564326524734497,
          0.6521422863006592,
          0.6319258809089661,
          0.6247179508209229,
          0.639477014541626,
          0.6521422863006592,
          0.7090926170349121,
          0.6264004707336426,
          0.6212897300720215,
          0.7324648499488831,
          0.7016027569770813,
          0.7543324828147888,
          0.7203684449195862,
          0.7198410034179688,
          0.7198410034179688,
          0.6680113077163696,
          0.6285905241966248,
          0.6938890218734741,
          0.6521422863006592,
          0.7738869786262512,
          0.6927777528762817,
          0.6803407073020935,
          0.7370977997779846,
          0.7112066745758057,
          0.6269510388374329,
          0.729644238948822,
          0.726290762424469,
          0.6478264927864075,
          0.650303840637207,
          0.6196402311325073,
          0.5169202089309692,
          0.5067388415336609,
          0.5067388415336609,
          0.6825543642044067,
          0.6040999293327332,
          0.5289323925971985,
          0.5795121192932129,
          0.7616721987724304,
          0.6471073627471924,
          0.7052432894706726,
          0.5067388415336609,
          0.6418259739875793,
          0.6788712739944458,
          0.7054469585418701,
          0.7573478817939758,
          0.7255725264549255,
          0.5394478440284729,
          0.586543083190918,
          0.7263655662536621,
          0.557185709476471,
          0.6346561908721924,
          0.6716811656951904,
          0.6470377445220947,
          0.6017657518386841,
          0.6264626979827881,
          0.7131112813949585,
          0.7212468981742859,
          0.6049492359161377,
          0.6286078691482544,
          0.4282712936401367,
          0.755450427532196,
          0.639477014541626,
          0.5900567770004272,
          0.5067388415336609,
          0.6413070559501648,
          0.8036686778068542,
          0.5378609299659729,
          0.70660400390625,
          0.6185907125473022,
          0.6130115985870361,
          0.7620302438735962,
          0.5067388415336609,
          0.6844112277030945,
          0.6491150856018066,
          0.730647623538971,
          0.5609862208366394,
          0.655242919921875,
          0.6407785415649414,
          0.7310793399810791,
          0.5537639856338501,
          0.7179585099220276,
          0.5629300475120544,
          0.6292047500610352,
          0.6972880959510803,
          0.7224389910697937,
          0.7094991207122803,
          0.6788873672485352,
          0.6503037214279175,
          0.4214266538619995,
          0.5587157011032104,
          0.7738869786262512,
          0.6312195062637329,
          0.681533932685852,
          0.6147655844688416
         ],
         "xaxis": "x",
         "y": [
          0.5233827233314514,
          0.45164841413497925,
          0.5466932058334351,
          0.6018651127815247,
          0.47549647092819214,
          0.4830307364463806,
          0.5714695453643799,
          0.6636121273040771,
          0.5474033951759338,
          0.45054227113723755,
          0.6425120830535889,
          0.4392431378364563,
          0.5073201060295105,
          0.5852144956588745,
          0.4223851263523102,
          0.5858384966850281,
          0.5427156686782837,
          0.6003389358520508,
          0.5073201060295105,
          0.47483009099960327,
          0.5078755021095276,
          0.5073201060295105,
          0.4370917081832886,
          0.4689788818359375,
          0.4273684322834015,
          0.4443708062171936,
          0.5377504825592041,
          0.47198396921157837,
          0.5120657086372375,
          0.6671497821807861,
          0.5335749983787537,
          0.5281461477279663,
          0.623248279094696,
          0.5152149200439453,
          0.5425472259521484,
          0.44582319259643555,
          0.5754046440124512,
          0.5851350426673889,
          0.6260080337524414,
          0.652829647064209,
          0.5952668190002441,
          0.6260080337524414,
          0.44332998991012573,
          0.46804895997047424,
          0.5497692227363586,
          0.5482915639877319,
          0.5398586988449097,
          0.6232482194900513,
          0.6311652064323425,
          0.4974644184112549,
          0.5336987376213074,
          0.4909757971763611,
          0.48858773708343506,
          0.39602845907211304,
          0.6348859071731567,
          0.5398586392402649,
          0.4575941562652588,
          0.5852144956588745,
          0.5518015623092651,
          0.626883327960968,
          0.5315807461738586,
          0.4661712348461151,
          0.4468916058540344,
          0.4963075518608093,
          0.4803376793861389,
          0.48991087079048157,
          0.4795559048652649,
          0.626883327960968,
          0.49477267265319824,
          0.4506205916404724,
          0.5429714322090149,
          0.5670231580734253,
          0.5853086709976196,
          0.47549647092819214,
          0.6000174283981323,
          0.4476049244403839,
          0.5311704874038696,
          0.5310183167457581,
          0.4228695333003998,
          0.4451194703578949,
          0.6070291996002197,
          0.5699951648712158,
          0.4373922348022461,
          0.5318444967269897,
          0.465785413980484,
          0.3980737030506134,
          0.6260080337524414,
          0.4942716956138611,
          0.46159660816192627,
          0.6015182137489319,
          0.626883327960968,
          0.4974238872528076,
          0.626883327960968,
          0.5270152688026428,
          0.5851350426673889,
          0.5638525485992432,
          0.5453790426254272,
          0.49165844917297363,
          0.4661712348461151,
          0.5403935313224792,
          0.6271508932113647,
          0.5851350426673889,
          0.4877355694770813,
          0.5231910943984985,
          0.42581865191459656,
          0.4529207646846771,
          0.43493932485580444,
          0.43253690004348755,
          0.5398586392402649,
          0.477059006690979,
          0.5851350426673889,
          0.4661712348461151,
          0.398073673248291,
          0.6260080337524414,
          0.5851350426673889,
          0.5707235336303711,
          0.4488837718963623,
          0.5134944319725037,
          0.48985740542411804,
          0.6140400171279907,
          0.5403935313224792,
          0.43820345401763916,
          0.5176952481269836,
          0.5176952481269836,
          0.5129089951515198,
          0.5264587998390198,
          0.5638525485992432,
          0.5851350426673889,
          0.4842875897884369,
          0.5267446041107178,
          0.5001696944236755,
          0.4774065315723419,
          0.5714695453643799,
          0.5236065983772278,
          0.4455068111419678,
          0.5626236200332642,
          0.46524763107299805,
          0.5685536861419678,
          0.5820635557174683,
          0.48584675788879395,
          0.5073201060295105,
          0.5073201060295105,
          0.5681792497634888,
          0.5589532852172852,
          0.581282377243042,
          0.6671497821807861,
          0.5090206265449524,
          0.4761587977409363,
          0.45007210969924927,
          0.5073201060295105,
          0.592653751373291,
          0.5437476634979248,
          0.5157525539398193,
          0.5310181975364685,
          0.5570406317710876,
          0.4452655017375946,
          0.546495795249939,
          0.4964165687561035,
          0.4564779996871948,
          0.6366815567016602,
          0.4773332476615906,
          0.514279842376709,
          0.5407761335372925,
          0.5082347989082336,
          0.49482858180999756,
          0.4713083505630493,
          0.4767332375049591,
          0.5637356042861938,
          0.5304821729660034,
          0.5639584064483643,
          0.6260080337524414,
          0.40179383754730225,
          0.5073201060295105,
          0.44021520018577576,
          0.4316062331199646,
          0.39602845907211304,
          0.5466932058334351,
          0.492232084274292,
          0.5444444417953491,
          0.5291284918785095,
          0.5073201060295105,
          0.48073309659957886,
          0.4780545234680176,
          0.509750485420227,
          0.3940495252609253,
          0.4828619360923767,
          0.5031355023384094,
          0.5648332834243774,
          0.5608181953430176,
          0.45366746187210083,
          0.5560157895088196,
          0.516869306564331,
          0.5111725330352783,
          0.5183520913124084,
          0.6011860966682434,
          0.6027577519416809,
          0.5685539245605469,
          0.47145891189575195,
          0.5796207189559937,
          0.4842875897884369,
          0.5378919839859009,
          0.5408505797386169,
          0.570578932762146
         ],
         "yaxis": "y"
        },
        {
         "customdata": [
          [
           "butter<br>chili<br>soy<br>worcestershire"
          ],
          [
           "chicken<br>lemon<br>soy"
          ],
          [
           "bay leaf<br>breadcrumb<br>butter<br>honey<br>pork<br>soy<br>vinegar"
          ],
          [
           "breadcrumb<br>chicken<br>vinegar"
          ],
          [
           "banana<br>carrot<br>pork<br>sausage<br>soy<br>vinegar"
          ],
          [
           "chili<br>cornstarch<br>egg<br>shallot<br>soy<br>vinegar"
          ],
          [
           "cornstarch<br>pork<br>soy<br>vinegar"
          ],
          [
           "annatto<br>beef<br>chili<br>ginger<br>kamia<br>lemon"
          ],
          [
           "eggplant<br>mango<br>pork<br>shrimp<br>tomato<br>vinegar"
          ],
          [
           "bay leaf<br>fish<br>squid<br>tomato<br>vinegar"
          ],
          [
           "butter<br>ginger<br>lime<br>oyster<br>soy"
          ],
          [
           "cilantro<br>juice lime<br>pineapple"
          ],
          [
           "bell pepper<br>cornstarch<br>egg<br>pineapple<br>soy<br>tilapia<br>vinegar"
          ],
          [
           "mango<br>pork<br>rice<br>roma tomato<br>vinegar"
          ],
          [
           "bell pepper<br>butter<br>chili<br>ginger<br>lime<br>worcestershire"
          ],
          [
           "bell pepper<br>cornstarch<br>pineapple<br>pork<br>soy<br>vinegar<br>wine"
          ],
          [
           "bay leaf<br>chili<br>corn<br>ginger<br>lime<br>pig<br>pork"
          ],
          [
           "bell pepper<br>chili<br>lime<br>pork"
          ],
          [
           "ginger<br>oyster<br>pechay<br>roma tomato<br>salmon<br>vinegar"
          ],
          [
           "butter<br>chili<br>lemon<br>vegetable<br>wine"
          ],
          [
           "chili<br>eggplant<br>pork<br>shrimp<br>tomato<br>vinegar"
          ],
          [
           "ginger<br>shallot<br>tamarind"
          ],
          [
           "chicken<br>coconut<br>fish<br>ginger<br>juice lime"
          ],
          [
           "egg<br>potato<br>soy<br>vinegar"
          ],
          [
           "chicken<br>chili<br>cornstarch<br>soy<br>vegetable<br>wine"
          ],
          [
           "egg<br>eggplant<br>fish<br>grape tomato<br>vinegar"
          ],
          [
           "ginger<br>sesame<br>sesame seeds<br>sirloin<br>soy<br>vinegar"
          ],
          [
           "cucumber<br>ice<br>lime juice"
          ],
          [
           "chicken<br>chili<br>cornstarch<br>sesame<br>sesame seed<br>soy<br>vinegar"
          ],
          [
           "carrot<br>elbow macaroni<br>mayonnaise<br>milk<br>vinegar"
          ],
          [
           "bay leaf<br>bell pepper<br>butter<br>chicken<br>cream<br>mushroom<br>sherry wine"
          ],
          [
           "chicken<br>lemon<br>soy"
          ],
          [
           "mayonnaise<br>tamarind"
          ],
          [
           "cheese<br>chili<br>lime juice<br>mayonnaise"
          ],
          [
           "bay leaf<br>beef<br>bell pepper<br>peas<br>pork<br>soy<br>vinegar"
          ],
          [
           "chicken<br>chili<br>lime<br>mayonnaise<br>soy"
          ],
          [
           "bell pepper<br>chili<br>ginger<br>oyster<br>shallot<br>soy"
          ],
          [
           "chicken<br>lime<br>soy"
          ],
          [
           "lemon<br>soy"
          ],
          [
           "cabbage<br>carrot<br>mayonnaise<br>pineapple<br>raisin<br>vinegar"
          ],
          [
           "bangus<br>bell pepper<br>chili<br>lime"
          ],
          [
           "bay leaf<br>beef<br>clove<br>ginger<br>rice<br>soy<br>star anise"
          ],
          [
           "banana ketchup<br>bay leaf<br>oyster<br>pork<br>sesame<br>soy<br>vinegar"
          ],
          [
           "beer<br>clove<br>mustard<br>pineapple"
          ],
          [
           "juice lime"
          ],
          [
           "chili<br>cornstarch<br>egg<br>eggplant<br>flour<br>soy<br>vinegar"
          ],
          [
           "chili<br>cornstarch<br>eggplant<br>oyster<br>pork<br>soy<br>vinegar"
          ],
          [
           "egg<br>lime<br>oyster<br>pork<br>soy<br>worcestershire"
          ],
          [
           "banana<br>fish<br>pork<br>vinegar"
          ],
          [
           "barbecue<br>pork<br>worcestershire"
          ],
          [
           "bay leaf<br>butter<br>chicken<br>oyster<br>soy<br>vinegar"
          ],
          [
           "bagoong<br>chili<br>coconut<br>fish<br>jackfruit<br>shrimp<br>vinegar"
          ],
          [
           "bell pepper<br>lemon<br>mayonnaise<br>tofu"
          ],
          [
           "bread crumb<br>laurel<br>lemon<br>pig<br>pork<br>soy<br>vinegar"
          ],
          [
           "banana ketchup<br>bay leaf<br>chicken<br>lemon<br>soy<br>vinegar"
          ],
          [
           "bagoong<br>chili<br>eggplant<br>pork<br>tomato<br>vinegar"
          ],
          [
           "bagoong<br>bean<br>chicken<br>chili<br>serrano<br>tomato<br>vinegar"
          ],
          [
           "bell pepper<br>chili<br>coconut<br>soy"
          ],
          [
           "bay leaf<br>ginger<br>lime<br>mayonnaise<br>pig<br>pork"
          ],
          [
           "bean<br>pineapple<br>pork<br>soy<br>star anise<br>tofu<br>vinegar"
          ],
          [
           "bell pepper<br>carrot<br>cornstarch<br>ginger<br>tilapia<br>tomato ketchup<br>vinegar"
          ],
          [
           "chili<br>coconut vegetable<br>fish<br>ginger<br>spinach<br>vinegar"
          ],
          [
           "bay leaf<br>chili<br>lime<br>mayonnaise<br>pig<br>pork<br>soy"
          ],
          [
           "bell pepper<br>celery<br>lemon<br>macaroni<br>mayonnaise"
          ],
          [
           "annatto seed<br>chicken<br>ginger<br>lemon<br>lime<br>margarine<br>vinegar"
          ],
          [
           "cabbage<br>ginger<br>pork<br>sesame<br>wine"
          ],
          [
           "eggplant<br>fish<br>ginger<br>okra<br>vinegar"
          ],
          [
           "chili<br>lime<br>mayonnaise"
          ],
          [
           "lemon<br>soy"
          ],
          [
           "chicken<br>lemon<br>soda<br>soy<br>star anise"
          ],
          [
           "banana<br>beef broth<br>pork<br>soy<br>vinegar"
          ],
          [
           "bacon<br>chicken<br>egg<br>soy<br>vinegar"
          ],
          [
           "bacon<br>chicken<br>egg<br>soy<br>vinegar"
          ],
          [
           "bay leaf<br>wine"
          ],
          [
           "bay leaf<br>dijon mustard<br>ham<br>honey<br>ice<br>pineapple<br>sea"
          ],
          [
           "bay leaf<br>beef broth<br>chili<br>pork<br>soy"
          ],
          [
           "chili<br>coconut<br>ginger<br>juice lime"
          ],
          [
           "bell pepper<br>cornstarch<br>pineapple<br>sea<br>tomato ketchup<br>vinegar"
          ],
          [
           "bell pepper<br>butter<br>wine"
          ],
          [
           "butter<br>clam juice<br>lemon<br>parsley<br>wine"
          ],
          [
           "beef<br>beef broth<br>lemon<br>soy"
          ],
          [
           "bay leaf<br>chicken<br>lemon<br>sea<br>soda"
          ],
          [
           "bread crumb<br>chicken<br>vinegar"
          ],
          [
           "chili<br>ginger<br>lime"
          ],
          [
           "bay leaf<br>chili<br>coconut<br>ginger"
          ],
          [
           "chili<br>coconut<br>jackfruit<br>malunggay<br>shrimp<br>tinapa<br>vinegar"
          ],
          [
           "sea<br>spice<br>wine"
          ],
          [
           "bay leaf<br>beef broth<br>egg<br>pork<br>soy<br>vinegar"
          ],
          [
           "beef broth<br>lemon<br>soy"
          ],
          [
           "beef<br>bell pepper<br>egg<br>worcestershire"
          ],
          [
           "avocado<br>cream<br>juice lime"
          ],
          [
           "chicken<br>ginger<br>hoisin<br>sesame<br>sesame seeds<br>spice<br>vinegar"
          ],
          [
           "rosemary<br>sea<br>thyme"
          ],
          [
           "chicken<br>paprika"
          ],
          [
           "bay leaf<br>cinnamon<br>clove"
          ],
          [
           "bell pepper<br>cornstarch<br>pineapple<br>tomato ketchup<br>vinegar"
          ],
          [
           "butter<br>lime<br>mussel<br>parsley<br>wine"
          ],
          [
           "barbecue<br>chicken<br>lemon<br>paprika<br>soy"
          ],
          [
           "apple<br>cinnamon<br>honey<br>lemon"
          ],
          [
           "hoisin<br>juice lime<br>pork<br>sesame seed<br>soy"
          ],
          [
           "egg<br>pork<br>rice<br>vinegar"
          ],
          [
           "juice lime<br>pork<br>soy<br>sriracha"
          ],
          [
           "oregano<br>paprika<br>rosemary<br>sea<br>sirloin<br>thyme"
          ],
          [
           "chili<br>soy<br>tofu<br>tuna<br>vinegar"
          ],
          [
           "buttermilk<br>cream<br>dill<br>mayonnaise<br>sriracha<br>vinegar"
          ],
          [
           "bay leaf<br>lemon<br>milk"
          ],
          [
           "bay leaf<br>coconut<br>soy"
          ],
          [
           "bay leaf<br>chili<br>ginger<br>mayonnaise<br>pig"
          ],
          [
           "juice lime<br>pork<br>soy"
          ],
          [
           "cayenne<br>dark soy<br>dijon mustard<br>lemon<br>paprika<br>vinegar<br>worcestershire"
          ],
          [
           "beef<br>worcestershire"
          ],
          [
           "beef<br>mayonnaise"
          ],
          [
           "chili<br>ginger<br>lemon"
          ],
          [
           "barbecue<br>chicken<br>lemon<br>soy"
          ],
          [
           "chili<br>dark soy<br>lemon"
          ],
          [
           "bay leaf<br>dark soy<br>pork"
          ],
          [
           "bell pepper<br>carrot<br>cornstarch<br>dark soy<br>flour<br>tomato ketchup<br>vinegar"
          ],
          [
           "bell pepper<br>clam juice<br>linguine<br>scallion<br>wine"
          ],
          [
           "basil<br>cayenne<br>shrimp<br>soda"
          ],
          [
           "chicken<br>soy<br>spice"
          ],
          [
           "chili<br>coconut<br>fish<br>ginger<br>salmon<br>vinegar"
          ],
          [
           "apple<br>beef broth<br>pork<br>rosemary<br>thyme"
          ],
          [
           "bell pepper<br>cornstarch<br>dark soy<br>oyster<br>pork<br>scallion<br>wine"
          ],
          [
           "clove<br>rosemary<br>thyme"
          ],
          [
           "butter<br>honey<br>mustard<br>sea<br>vinegar"
          ],
          [
           "ginger<br>hoisin<br>lemon<br>salmon<br>sodium soy<br>sriracha"
          ],
          [
           "lemon<br>mayonnaise<br>pickle"
          ],
          [
           "chili<br>dark soy<br>lemon<br>tomato ketchup<br>worcestershire"
          ],
          [
           "lemon<br>soy<br>squid<br>sriracha"
          ],
          [
           "ginger<br>sake<br>soy"
          ],
          [
           "pork<br>rosemary"
          ],
          [
           "cinnamon<br>nutmeg<br>oregano<br>pork<br>thyme<br>wine"
          ],
          [
           "dijon mustard<br>spinach<br>vinegar<br>walnut"
          ],
          [
           "ginger<br>sake<br>tomato ketchup<br>worcestershire"
          ],
          [
           "cornstarch<br>mushroom<br>oyster<br>parsley<br>soy<br>worcestershire"
          ],
          [
           "cilantro<br>juice lime<br>rice"
          ],
          [
           "vinegar<br>walnut"
          ],
          [
           "cinnamon<br>egg<br>flour<br>lime juice<br>nutmeg"
          ],
          [
           "butter<br>ice<br>star anise<br>thyme<br>turkey<br>vinegar"
          ],
          [
           "cilantro<br>lime juice<br>tomato"
          ],
          [
           "chicken<br>sherry<br>sodium soy<br>soy"
          ],
          [
           "barbecue<br>pork<br>worcestershire"
          ],
          [
           "butter<br>lime<br>rosemary<br>thyme<br>turkey<br>wine"
          ],
          [
           "bell pepper<br>carrot<br>cornstarch<br>pineapple<br>tomato ketchup<br>vinegar"
          ],
          [
           "ginger<br>scallion<br>sesame<br>sherry<br>soy"
          ],
          [
           "bell pepper<br>chili<br>cilantro<br>jicama<br>lime juice<br>mango<br>pork"
          ],
          [
           "chili<br>ginger<br>scallion<br>sherry wine<br>soy<br>tomato ketchup"
          ],
          [
           "annatto seed<br>bay leaf<br>bell pepper<br>carrot<br>ginger<br>pig<br>vinegar"
          ],
          [
           "cheese<br>grape tomato<br>lemon<br>salmon<br>spring<br>vinegar"
          ],
          [
           "chicken<br>lemon<br>thyme"
          ],
          [
           "cornstarch<br>pork<br>sherry<br>spice"
          ],
          [
           "dijon mustard<br>pork<br>worcestershire"
          ],
          [
           "bell pepper<br>chicken<br>cumin<br>lime juice<br>paprika"
          ],
          [
           "cayenne<br>chicken<br>clove<br>cumin<br>food<br>ginger<br>lemon"
          ],
          [
           "carrot<br>chicken<br>dijon mustard<br>grape tomato<br>vinegar"
          ],
          [
           "bean<br>dijon mustard<br>dill<br>potato<br>vinegar"
          ],
          [
           "bean<br>cheese<br>dill<br>vinegar"
          ],
          [
           "chili<br>fish<br>pig<br>pork<br>vinegar<br>wine"
          ],
          [
           "chili<br>ginger<br>lemon"
          ],
          [
           "chili<br>ginger<br>lemon<br>ox"
          ],
          [
           "pork<br>rice<br>soy<br>spice"
          ],
          [
           "bread crumb<br>pig<br>vinegar"
          ],
          [
           "chicken<br>lemon<br>sea<br>thyme"
          ],
          [
           "cornstarch<br>soy<br>tomato ketchup<br>vinegar"
          ],
          [
           "avocado<br>crab<br>cucumber<br>rice<br>sesame seeds<br>vinegar"
          ],
          [
           "cilantro<br>ginger<br>lemon"
          ],
          [
           "bay leaf<br>cilantro"
          ],
          [
           "lemon<br>soy"
          ],
          [
           "bell pepper<br>chili<br>chocolate<br>cinnamon<br>clove<br>paprika<br>vinegar"
          ]
         ],
         "hovertemplate": "<b>%{hovertext}</b><br><br>cluster=5<br>x=%{x}<br>y=%{y}<br>ingredients=%{customdata[0]}<extra></extra>",
         "hovertext": [
          "Beef Salpicao",
          "Chicken Bistek",
          "Baby Back Ribs with Adobo Glaze",
          "Lechon Sauce",
          "Pork Estofado",
          "Kwek-kwek",
          "Skinless Longganisa",
          "Kansi",
          "Crispy Pork Binagoongan",
          "Ginisang Pusit",
          "Adobong Talaba",
          "Pineapple Salsa",
          "Sweet and Sour Sauce Fish",
          "Binagoongan Fried Rice",
          "Sisig Pusit",
          "Sweet and Sour Pork",
          "Dinakdakan",
          "Crispy Sisig",
          "Ulo-Ulo Salmon",
          "Sriracha Shrimp Scampi",
          "Binagoongan Talong",
          "Banana-Wrapped Salay-Salay Fish",
          "Coconut Lime Chicken",
          "Adobong Itlog",
          "Asian Jalapeno Chicken",
          "Tomato, Grilled Eggplant and Salted Egg Salad",
          "Korean BBQ Bulgogi",
          "Cucumber Lime Smoothie",
          "Sesame Chicken",
          "Hawaiian Macaroni Salad",
          "Chicken a la King",
          "Chicken Tapa",
          "Baked Salmon with Tamarind Mayo Topping",
          "Baked Tahong with Sweet Chili-Mayo Topping",
          "Igado",
          "Chicken Sisig",
          "Sizzling Balut",
          "Filipino-style Barbecue Chicken",
          "Bistek Tagalog (Filipino Beef Steak)",
          "Pineapple Coleslaw",
          "Bangus Sisig",
          "Beef Pares",
          "BBQ Pork Ears",
          "Filipino-style Pineapple Glazed Ham",
          "Guyabano Juice",
          "Fried Eggplant (Crispy Fritters / Talong Okoy)",
          "Stir Fry Eggplant Recipe",
          "Pork Belly with Boiled Eggs in Oyster Sauce",
          "Ginisang Puso ng Saging",
          "Oven BBQ Spareribs",
          "Not Your Ordinary Chicken Adobo",
          "Utan nga Langka Recipe",
          "Sizzling Tofu Sisig",
          "Crispy Ulo and Lechon Sauce",
          "Ketchup Fried Chicken",
          "Binagoongang Talong Recipe",
          "Chicken Binagoongan",
          "Filipino Vinegar Dipping Sauce",
          "Pork Sisig",
          "Tokwa at Baboy Humba",
          "Sweet and Sour Tilapia",
          "Ginataang Sapsap",
          "Crispy Dinakdakan",
          "Seared Shrimp Macaroni Salad with Roasted Bell Pepper",
          "Inasal Recipe",
          "Pork Dumpling",
          "Paksiw na Bangus Recipe",
          "Pork Dinakdakan Recipe",
          "Tanigue Fish Steak ala Bistek",
          "7Up Chicken Asado",
          "Estofadong Baboy",
          "Bacon and Egg Chicken Adobo",
          "Bacon and Egg Chicken Adobo",
          "Crispy Pata",
          "Homemade Cured Ham with Brown Sugar Honey Glaze",
          "Extremely Spicy Pork Adobo na Tuyo",
          "Kilawing Tuna with Coconut Cream (Fish Ceviche)",
          "Sweet and Sour Red Snapper",
          "Sausage Peppers and Onion Skillet",
          "Seared Scallops in Herbed Butter Sauce Recipe",
          "Slow Cooked Beefsteak (Bistek Tagalog)",
          "Lechon Manok Recipe",
          "Lechon Manok Sauce Recipe",
          "Kinilaw na Tanigue Recipe (Fish Ceviche)",
          "Kilawing Kambing Recipe",
          "How to Cook Ginataang Langka with Tinapa Flakes",
          "Oven Roasted Pork Belly",
          "Adobong Baboy with Boiled Egg",
          "Pinoy Beefsteak",
          "Ground Beef Omelet",
          "Shrimp Avocado Salad Recipe",
          "Asian BBQ Pork Baby Back Ribs",
          "Crown Roast of Lamb",
          "Yellow Arroz Caldo Recipe",
          "Oven Baked Crispy Pata",
          "Easy Sweet and Sour Sauce",
          "Drunken Mussels Recipe",
          "Oven Roasted BBQ Chicken Recipe",
          "Simple Applesauce Recipe",
          "Asian Style Spare Ribs",
          "Pork Adobo Paksiw with Jeprox and Shrimp Fried Rice",
          "Grilled Pork Belly",
          "Sirloin Tip Roast Recipe",
          "Tokwa and Tuna Recipe",
          "Homemade Ranch Dressing Recipe",
          "Lechon Pata Recipe",
          "Adobong Hipon sa Gata",
          "Dinakdakan Recipe",
          "Filipino Pork Chop Steak Recipe",
          "Flank Steak Marinade",
          "Slow Cooked Beef Brisket Recipe",
          "Delicious Reuben Sandwich",
          "Easy Tuna Kilawin Recipe",
          "Easy Chicken Barbecue Recipe",
          "Recipe for Barbecue Chicken Marinade",
          "Adobo Pork Chops",
          "Sweet and Sour Mahi-mahi",
          "Linguine Pasta with Clams",
          "Marinated Grilled Shrimp",
          "Asian Fried Chicken",
          "Ginataang Salmon Recipe",
          "Apple Pork Pot Roast",
          "Pork Stir Fry with Scallions",
          "Grilled Lamb Chops",
          "Honey and Balsamic Glazed Mahi-mahi",
          "Hoisin Glazed Salmon",
          "Tartar Sauce Recipe",
          "Grilled Ribs with Pico de Gallo",
          "Grilled Calamari",
          "Basic Teriyaki Sauce",
          "Rosemary Garlic Pork Tenderloin",
          "Baked Pork Tenderloin with Peaches",
          "Strawberry Mandarin and Spinach Salad in Balsamic Vinaigrette Dressing",
          "Tonkatsu Sauce",
          "Lengua Con Setas Recipe",
          "Cilantro Lime Rice",
          "Arugula Salad with Chopped Walnuts",
          "Peach Pie Recipe",
          "Star Anise and Cider Brined Roast Turkey",
          "Easy Guacamole Recipe",
          "How to Cook Easy Chicken Teriyaki",
          "BBQ Baby Back Ribs Recipe",
          "Baked Turkey Breast",
          "Easy Sweet and Sour Ikea Meatbal",
          "Steamed Fish with Scallions and Ginger",
          "Grilled Pork Chop with Mango Salsa",
          "Sweet and Spicy Shrimp Stir Fry",
          "Spicy Bopis Recipe",
          "Baked Salmon Recipe",
          "Oven Baked Chicken Recipe",
          "Crispy Five Spice Spare Ribs",
          "Grilled Dijon Pork Chop Recipe",
          "Chicken Fajita Recipe",
          "Tandoori Chicken Recipe",
          "Grilled Chicken Salad",
          "Potato and Green Bean Salad Recipe",
          "Green Bean Salad with Feta and Dill Recipe",
          "Dinuguan Laman-Loob Recipe (Blood Stew)",
          "Kinilaw na Dulong",
          "Papaitan Recipe",
          "Pork Asado Recipe",
          "Lechon Sauce Recipe",
          "Shared Recipe. Roast Chicken",
          "Sweet and Sour Sauce Recipe",
          "California Roll",
          "Easy Steamed Fish Recipe",
          "Max's style Fried Chicken",
          "Liver Steak Recipe",
          "Banana Ketchup Recipe"
         ],
         "legendgroup": "5",
         "marker": {
          "color": "rgb(57, 105, 172)",
          "size": 5,
          "symbol": "circle"
         },
         "mode": "markers",
         "name": "5",
         "showlegend": true,
         "type": "scattergl",
         "x": [
          0.7491178512573242,
          0.6645737886428833,
          0.7502663731575012,
          0.5565776824951172,
          0.8157532215118408,
          0.7413070201873779,
          0.677905797958374,
          0.7628514766693115,
          0.7174074053764343,
          0.7464970946311951,
          0.7512731552124023,
          0.6152318716049194,
          0.7636404633522034,
          0.7527309060096741,
          0.7430334091186523,
          0.7553898692131042,
          0.7629293203353882,
          0.6283704042434692,
          0.7133166790008545,
          0.7147214412689209,
          0.7430121302604675,
          0.5518096685409546,
          0.7391692399978638,
          0.6718512177467346,
          0.7196614742279053,
          0.7411973476409912,
          0.763211727142334,
          0.4836116433143616,
          0.7560191750526428,
          0.7242709398269653,
          0.7394031286239624,
          0.6645737886428833,
          0.5656895637512207,
          0.7383022904396057,
          0.8099032640457153,
          0.7631215453147888,
          0.7568820714950562,
          0.617662787437439,
          0.6354628205299377,
          0.7437302470207214,
          0.5860751271247864,
          0.7234624028205872,
          0.8402128219604492,
          0.6525362133979797,
          0.4867411255836487,
          0.7388188242912292,
          0.7900987863540649,
          0.8046723008155823,
          0.7448444366455078,
          0.5809343457221985,
          0.752164900302887,
          0.7542322278022766,
          0.7197664380073547,
          0.741061270236969,
          0.7933745384216309,
          0.6753156781196594,
          0.7257555723190308,
          0.6612623929977417,
          0.7324249148368835,
          0.7383508682250977,
          0.7356057167053223,
          0.80278480052948,
          0.8141398429870605,
          0.7379737496376038,
          0.7190396785736084,
          0.7068592309951782,
          0.6785843968391418,
          0.6143914461135864,
          0.6354628205299377,
          0.742499053478241,
          0.7603926658630371,
          0.788112998008728,
          0.788112998008728,
          0.37247011065483093,
          0.7527472972869873,
          0.7614667415618896,
          0.6151639223098755,
          0.7317062616348267,
          0.5186554789543152,
          0.6734288930892944,
          0.7292462587356567,
          0.7337819337844849,
          0.5767422914505005,
          0.6271238923072815,
          0.6962565779685974,
          0.7661114931106567,
          0.4664044976234436,
          0.7659153938293457,
          0.6906689405441284,
          0.687806248664856,
          0.5054340958595276,
          0.7206845283508301,
          0.47285035252571106,
          0.566556453704834,
          0.4651208817958832,
          0.7066670656204224,
          0.57383793592453,
          0.6244164705276489,
          0.6822941899299622,
          0.7377428412437439,
          0.6984589099884033,
          0.7245681285858154,
          0.5984693169593811,
          0.784652590751648,
          0.7107487320899963,
          0.5127696394920349,
          0.629629373550415,
          0.7777724266052246,
          0.6676301956176758,
          0.695953905582428,
          0.6046693325042725,
          0.6470907926559448,
          0.6843361854553223,
          0.5835168361663818,
          0.680586040019989,
          0.6204183101654053,
          0.7322430610656738,
          0.6635550260543823,
          0.5797781944274902,
          0.5781561136245728,
          0.811335027217865,
          0.6857418417930603,
          0.7511783242225647,
          0.4863535761833191,
          0.7417516112327576,
          0.7814071774482727,
          0.6373041272163391,
          0.7691991329193115,
          0.6720290780067444,
          0.582838773727417,
          0.591256320476532,
          0.5916736125946045,
          0.7293118238449097,
          0.7293843030929565,
          0.7534221410751343,
          0.667924165725708,
          0.5622205138206482,
          0.6436882019042969,
          0.676203727722168,
          0.6236300468444824,
          0.6679844260215759,
          0.5809343457221985,
          0.5900169610977173,
          0.7119153738021851,
          0.7318806648254395,
          0.7366151809692383,
          0.7779014110565186,
          0.7138149738311768,
          0.7211881875991821,
          0.628800094127655,
          0.5419845581054688,
          0.6935757994651794,
          0.7004215717315674,
          0.7326854467391968,
          0.748887836933136,
          0.7162297964096069,
          0.6656546592712402,
          0.7192749381065369,
          0.6843361854553223,
          0.6812697649002075,
          0.5762404203414917,
          0.5584083795547485,
          0.6597166061401367,
          0.7008018493652344,
          0.7794761657714844,
          0.6549652218818665,
          0.5721359848976135,
          0.6354628205299377,
          0.6662640571594238
         ],
         "xaxis": "x",
         "y": [
          0.2771892249584198,
          0.20591548085212708,
          0.30051910877227783,
          0.3236602544784546,
          0.3489433526992798,
          0.3579321801662445,
          0.3930193781852722,
          0.21811214089393616,
          0.3460794985294342,
          0.369667112827301,
          0.18850986659526825,
          0.2918906807899475,
          0.3043662905693054,
          0.34426432847976685,
          0.30455970764160156,
          0.34075218439102173,
          0.26206275820732117,
          0.18634039163589478,
          0.40605923533439636,
          0.2671588659286499,
          0.4030454754829407,
          0.20856590569019318,
          0.18303972482681274,
          0.38779500126838684,
          0.2148045003414154,
          0.24398624897003174,
          0.4193327724933624,
          0.29627805948257446,
          0.3591461479663849,
          0.22396737337112427,
          0.1873115748167038,
          0.20591548085212708,
          0.2089548408985138,
          0.20422780513763428,
          0.338056355714798,
          0.20918285846710205,
          0.2530829906463623,
          0.18856610357761383,
          0.2169540524482727,
          0.25820621848106384,
          0.19356617331504822,
          0.26489904522895813,
          0.2983056306838989,
          0.26791059970855713,
          0.25990965962409973,
          0.27101874351501465,
          0.33864060044288635,
          0.27298715710639954,
          0.4075118601322174,
          0.29081442952156067,
          0.39192965626716614,
          0.3837159276008606,
          0.25067585706710815,
          0.34836673736572266,
          0.34548959136009216,
          0.4310675263404846,
          0.3774746060371399,
          0.22650587558746338,
          0.4008278250694275,
          0.39939647912979126,
          0.2331066131591797,
          0.3063013255596161,
          0.3190211057662964,
          0.22204722464084625,
          0.38718920946121216,
          0.2607790529727936,
          0.34174156188964844,
          0.3311448097229004,
          0.2169540524482727,
          0.23765981197357178,
          0.4044443964958191,
          0.27731114625930786,
          0.27731114625930786,
          0.3049822747707367,
          0.2213367074728012,
          0.2213372439146042,
          0.35617029666900635,
          0.2801893949508667,
          0.2701376676559448,
          0.26070716977119446,
          0.23996692895889282,
          0.24622030556201935,
          0.3008931875228882,
          0.3164268434047699,
          0.3123210668563843,
          0.29006311297416687,
          0.30300500988960266,
          0.3753076493740082,
          0.2647883892059326,
          0.23123528063297272,
          0.32992616295814514,
          0.403815358877182,
          0.289455384016037,
          0.1853056102991104,
          0.3188512623310089,
          0.29830434918403625,
          0.2709423899650574,
          0.2706286311149597,
          0.26641666889190674,
          0.299062579870224,
          0.35501813888549805,
          0.35430461168289185,
          0.27374130487442017,
          0.3729410171508789,
          0.25987178087234497,
          0.3240751028060913,
          0.20273667573928833,
          0.2503074109554291,
          0.27532675862312317,
          0.36217159032821655,
          0.19905930757522583,
          0.18977457284927368,
          0.36691299080848694,
          0.22621199488639832,
          0.3407597243785858,
          0.24406775832176208,
          0.22163525223731995,
          0.20468991994857788,
          0.29139789938926697,
          0.21047136187553406,
          0.3458077907562256,
          0.22022192180156708,
          0.21650154888629913,
          0.26964429020881653,
          0.3117450177669525,
          0.2954074740409851,
          0.2201252281665802,
          0.2585258483886719,
          0.24150598049163818,
          0.23771978914737701,
          0.19786712527275085,
          0.27689552307128906,
          0.2406228929758072,
          0.28048980236053467,
          0.20184850692749023,
          0.23862239718437195,
          0.32412484288215637,
          0.19607079029083252,
          0.3974594175815582,
          0.25754815340042114,
          0.2134612798690796,
          0.29081442952156067,
          0.26918429136276245,
          0.25867342948913574,
          0.26796871423721313,
          0.17692239582538605,
          0.24171054363250732,
          0.3791969120502472,
          0.25962358713150024,
          0.2615528106689453,
          0.25066304206848145,
          0.2986750602722168,
          0.27165037393569946,
          0.2284674346446991,
          0.2893621325492859,
          0.3313402235507965,
          0.4128001630306244,
          0.35105806589126587,
          0.36691299080848694,
          0.30113887786865234,
          0.22554242610931396,
          0.28815338015556335,
          0.2693842649459839,
          0.31706199049949646,
          0.3540860116481781,
          0.35335856676101685,
          0.22046086192131042,
          0.2169540524482727,
          0.3852914571762085
         ],
         "yaxis": "y"
        },
        {
         "customdata": [
          [
           "beef<br>chili<br>fish<br>gabi<br>kangkong<br>roma tomato<br>tamarind"
          ],
          [
           "fish<br>ginger<br>spinach"
          ],
          [
           "chicken<br>cornstarch<br>oyster<br>snow peas<br>soy<br>wine"
          ],
          [
           "chicken<br>corn<br>cornstarch<br>egg<br>ginger<br>soy"
          ],
          [
           "bell pepper<br>chili<br>fish<br>ginger<br>potato"
          ],
          [
           "coconut<br>cornstarch<br>cream<br>egg<br>flour<br>lemon<br>milk"
          ],
          [
           "egg<br>ginger<br>pork<br>sausage<br>shrimp<br>soy<br>wonton"
          ],
          [
           "banana<br>chili<br>oyster<br>pork<br>shallot<br>spring roll"
          ],
          [
           "egg<br>oyster<br>shallot<br>tomato"
          ],
          [
           "fish<br>napa cabbage"
          ],
          [
           "bitter gourd<br>egg<br>fish<br>shrimp<br>tomato"
          ],
          [
           "butter<br>cayenne<br>cornstarch<br>egg<br>milk"
          ],
          [
           "chili<br>okra<br>roma tomato"
          ],
          [
           "bottle gourd<br>fish<br>shrimp<br>tomato"
          ],
          [
           "chili<br>corn<br>fish<br>lime<br>pechay"
          ],
          [
           "carrot<br>mayonnaise<br>raisin<br>walnut"
          ],
          [
           "butter<br>chili<br>egg<br>milk<br>shallot<br>shrimp"
          ],
          [
           "chili<br>coconut<br>fish<br>kalabasa<br>shrimp<br>sitaw"
          ],
          [
           "coconut<br>jackfruit<br>rice<br>sago"
          ],
          [
           "chayote<br>fish<br>tomato"
          ],
          [
           "chicken<br>chili<br>ginger<br>shrimp"
          ],
          [
           "banana<br>chili<br>fish<br>pork<br>rock"
          ],
          [
           "chicken<br>chorizo bilbao<br>mussel<br>paprika<br>rice<br>shrimp<br>tomato"
          ],
          [
           "carrot<br>chestnut<br>pork<br>shrimp<br>soy<br>spring roll"
          ],
          [
           "egg<br>flour<br>milk<br>soda<br>vanilla"
          ],
          [
           "fish<br>ginger<br>mustard<br>tomato"
          ],
          [
           "beef<br>fish<br>kangkong<br>roma tomato"
          ],
          [
           "oyster<br>pechay<br>pork<br>tomato"
          ],
          [
           "cheese<br>mayonnaise<br>shrimp"
          ],
          [
           "bangus<br>bean<br>chili<br>coconut<br>ginger<br>shrimp"
          ],
          [
           "chicken<br>oyster<br>roma tomato"
          ],
          [
           "cream tartar<br>egg<br>lemon<br>vanilla"
          ],
          [
           "banana<br>pork<br>soy"
          ],
          [
           "bean<br>carrot<br>ginger<br>oyster<br>pork<br>soy"
          ],
          [
           "bean<br>cornstarch<br>mushroom<br>sesame<br>sesame seeds<br>soy"
          ],
          [
           "chili<br>coconut<br>fish"
          ],
          [
           "beef<br>bell pepper<br>carrot<br>fish<br>ginger<br>potato"
          ],
          [
           "broth<br>carrot<br>chicken<br>fish<br>lime<br>napa cabbage<br>shrimp"
          ],
          [
           "peanut<br>rice<br>vanilla<br>yam"
          ],
          [
           "bitter gourd<br>fish<br>mung bean<br>spinach"
          ],
          [
           "bean<br>chili<br>coconut<br>pork<br>shrimp"
          ],
          [
           "chili<br>eggplant<br>fish<br>pork"
          ],
          [
           "banana ketchup<br>cheese<br>peas<br>pineapple<br>pork<br>potato<br>soy"
          ],
          [
           "cornstarch<br>egg<br>milk<br>paprika<br>shrimp"
          ],
          [
           "bay leaf<br>beef<br>butter<br>mushroom"
          ],
          [
           "beef<br>beef broth<br>butter<br>cream"
          ],
          [
           "carrot<br>celery<br>chicken<br>egg<br>fish<br>ginger<br>napa cabbage"
          ],
          [
           "butter<br>egg<br>graham<br>lime"
          ],
          [
           "butter<br>coconut<br>graham<br>lime<br>mango<br>pineapple"
          ],
          [
           "bell pepper<br>bread crumb<br>butter<br>chili<br>tomato<br>wine"
          ],
          [
           "bell pepper<br>celery<br>egg<br>mayonnaise<br>pasta"
          ],
          [
           "rice<br>soy"
          ],
          [
           "butter<br>cream<br>egg<br>lime<br>soda<br>vegetable"
          ],
          [
           "elbow macaroni<br>fish<br>ginger<br>pork"
          ],
          [
           "butter<br>cocoa<br>egg<br>milk<br>soda<br>vanilla"
          ],
          [
           "chicken<br>cream<br>pineapple"
          ],
          [
           "coconut<br>rice<br>vanilla"
          ],
          [
           "fish<br>gabi<br>kangkong<br>pork"
          ],
          [
           "fish<br>ginger<br>tomato"
          ],
          [
           "daikon radish<br>fish<br>lime<br>tomato"
          ],
          [
           "chili<br>coconut<br>pork<br>shrimp"
          ],
          [
           "bok choy<br>fish<br>roma tomato"
          ],
          [
           "chicken<br>egg<br>mayonnaise<br>milk<br>relish"
          ],
          [
           "bell pepper<br>cream<br>fish<br>pineapple<br>pork"
          ],
          [
           "bay leaf<br>bell pepper<br>fish<br>pea<br>pork<br>tomato"
          ],
          [
           "bell pepper<br>carrot<br>coconut<br>fish<br>ginger<br>potato"
          ],
          [
           "bean<br>cornstarch<br>ginger<br>pork<br>rice<br>sesame<br>soy"
          ],
          [
           "chili<br>potato<br>tomato"
          ],
          [
           "bottle gourd<br>oyster<br>pork<br>roma tomato"
          ],
          [
           "bell pepper<br>broth<br>cheese<br>chicken<br>elbow macaroni<br>mushroom"
          ],
          [
           "cornstarch<br>egg<br>fish<br>lime<br>pork"
          ],
          [
           "chicken<br>soy"
          ],
          [
           "banana ketchup<br>carrot<br>egg<br>pineapple<br>pork<br>raisin"
          ],
          [
           "coconut<br>ginger<br>mussel<br>shrimp<br>squid"
          ],
          [
           "bitter gourd<br>calabasa<br>eggplant<br>okra<br>patola<br>shrimp<br>sitaw"
          ],
          [
           "chicken<br>fish<br>ginger<br>mango"
          ],
          [
           "banana ketchup<br>chicken<br>pineapple"
          ],
          [
           "calabasa<br>fish<br>pechay<br>pork"
          ],
          [
           "chicken<br>honey<br>shrimp"
          ],
          [
           "bangus<br>carrot<br>lemon<br>oyster<br>pea<br>raisin<br>soy"
          ],
          [
           "chili<br>cornstarch<br>shrimp"
          ],
          [
           "fish<br>ginger<br>spinach<br>tomato"
          ],
          [
           "cheese<br>mayonnaise<br>pineapple"
          ],
          [
           "bean<br>fish<br>ginger<br>tamarind<br>tomato"
          ],
          [
           "fish<br>ginger<br>napa cabbage<br>pechay<br>potato"
          ],
          [
           "fish<br>ginger<br>papaya<br>spinach"
          ],
          [
           "bell pepper<br>egg<br>rice<br>sesame<br>soy"
          ],
          [
           "bay leaf<br>bell pepper<br>carrot<br>pork<br>potato<br>tomato"
          ],
          [
           "bell pepper<br>egg<br>rice<br>sesame<br>soy"
          ],
          [
           "broccoli floret<br>carrot<br>ginger<br>oyster<br>tofu"
          ],
          [
           "anchovy<br>chili<br>rice"
          ],
          [
           "oyster<br>pork<br>spinach"
          ],
          [
           "chicken<br>egg<br>oyster<br>rice<br>sesame<br>soy<br>vegetable"
          ],
          [
           "bell pepper<br>bok choy<br>coconut vegetable<br>fish<br>ginger<br>pineapple"
          ],
          [
           "cornstarch<br>oyster<br>soy<br>spinach"
          ],
          [
           "breadcrumb<br>cornstarch<br>egg<br>flour<br>lemon<br>mango<br>vanilla"
          ],
          [
           "annatto seed<br>fish<br>pork"
          ],
          [
           "beef<br>butter<br>mushroom<br>parsley"
          ],
          [
           "banana ketchup<br>butter<br>cornstarch<br>pork<br>soy<br>star anise"
          ],
          [
           "bread<br>cheese<br>mayonnaise"
          ],
          [
           "bell pepper<br>cabbage<br>carrot<br>pea<br>pork<br>soy"
          ],
          [
           "bok choy<br>chicken<br>chili<br>fish<br>ginger<br>tomato"
          ],
          [
           "daikon radish<br>fish<br>mustard<br>okra<br>salmon<br>tomato"
          ],
          [
           "coconut<br>corn<br>rice<br>vanilla"
          ],
          [
           "banana ketchup<br>oyster"
          ],
          [
           "bread<br>butter<br>cabbage<br>mayonnaise"
          ],
          [
           "bread<br>butter<br>egg<br>mayonnaise<br>pork"
          ],
          [
           "beef<br>butter<br>cornstarch<br>oyster<br>soy"
          ],
          [
           "clove<br>crab<br>ginger<br>mussel<br>shrimp"
          ],
          [
           "bay leaf<br>carrot<br>dog<br>pea<br>pork<br>potato<br>tomato"
          ],
          [
           "bean<br>chicken<br>chili<br>coconut vegetable<br>ginger<br>shrimp"
          ],
          [
           "oyster<br>pork<br>potato<br>soy"
          ],
          [
           "bacon<br>banana ketchup<br>beef<br>cheese<br>mayonnaise"
          ],
          [
           "beef<br>butter<br>flour<br>milk<br>potato<br>rosemary<br>thyme"
          ],
          [
           "chili<br>coconut<br>fish<br>ginger<br>papaya<br>pork<br>spinach"
          ],
          [
           "chicken<br>egg<br>fish<br>ginger<br>lemon<br>rice<br>scallion"
          ],
          [
           "bacon<br>bell pepper<br>carrot<br>chorizo bilbao<br>ox<br>tomato"
          ],
          [
           "beef<br>butter<br>cream<br>lasagna<br>mozzarella<br>mushroom<br>paprika"
          ],
          [
           "beef<br>egg<br>ginger<br>pasta<br>soy<br>star anise"
          ],
          [
           "cheese<br>cream<br>fruit cocktail<br>macaroni<br>mayonnaise<br>milk"
          ],
          [
           "bell pepper<br>carrot<br>coconut<br>fish<br>pineapple<br>pork"
          ],
          [
           "bangus<br>cornstarch<br>flour<br>parsley<br>rice"
          ],
          [
           "bean<br>bell pepper<br>chicken<br>pea<br>soy<br>tomato<br>tomato ketchup"
          ],
          [
           "daikon radish<br>fish<br>kangkong<br>okra<br>pork<br>string bean<br>tomato"
          ],
          [
           "annatto<br>bay leaf<br>egg<br>flour<br>margarine<br>pork<br>rice"
          ],
          [
           "banana<br>egg<br>flour<br>soda<br>vanilla"
          ],
          [
           "kamia<br>pork<br>tomato"
          ],
          [
           "bean<br>chili<br>coconut<br>ginger<br>pork<br>shrimp"
          ],
          [
           "bay leaf<br>carrot<br>chicken<br>hotdog<br>pea<br>potato<br>tomato"
          ],
          [
           "coconut<br>fish<br>ginger<br>pork<br>string bean"
          ],
          [
           "banana ketchup<br>breadcrumb<br>egg<br>eggplant<br>flour<br>mayonnaise"
          ],
          [
           "bay leaf<br>carrot<br>coconut<br>pork<br>potato<br>soy<br>tomato"
          ],
          [
           "pineapple<br>pork<br>soy"
          ],
          [
           "bean<br>chicken<br>chili<br>mirin<br>oyster"
          ],
          [
           "egg<br>eggplant<br>lemon<br>tomato"
          ],
          [
           "cornstarch<br>pork<br>soy<br>star anise"
          ],
          [
           "banana<br>chili<br>coconut vegetable<br>pork"
          ],
          [
           "butter<br>chili<br>mayonnaise<br>salmon"
          ],
          [
           "butter<br>lemon<br>mussel<br>rice<br>squid"
          ],
          [
           "banana ketchup<br>fish<br>pineapple<br>pork<br>potato<br>soy<br>tomato"
          ],
          [
           "bay leaf<br>chicken<br>coconut"
          ],
          [
           "bok choy<br>chili<br>coconut<br>ginger<br>tilapia<br>tomato"
          ],
          [
           "bell pepper<br>chili<br>ginger<br>peanut<br>scallion<br>shrimp"
          ],
          [
           "chicharon<br>kangkong<br>mung bean<br>patis<br>pork<br>tomato"
          ],
          [
           "beef<br>beef broth<br>butter<br>cream<br>flour<br>mushroom"
          ],
          [
           "egg<br>ginger<br>pea<br>pork<br>rice<br>shrimp<br>soy"
          ],
          [
           "cream<br>fruit cocktail<br>macaroni<br>mayonnaise<br>milk"
          ],
          [
           "anchovy<br>chili<br>coconut<br>jackfruit<br>malunggay<br>patis"
          ],
          [
           "chicken<br>chili<br>coconut<br>ginger<br>papaya<br>patis<br>spinach"
          ],
          [
           "chicken<br>egg<br>flour<br>lemon"
          ],
          [
           "oyster<br>pechay<br>pork"
          ],
          [
           "bread<br>bread crumb<br>egg<br>mayonnaise"
          ],
          [
           "bean<br>chili<br>coconut<br>ginger<br>pork<br>shrimp<br>spinach"
          ],
          [
           "beef<br>butter<br>mayonnaise<br>mushroom<br>whipping cream"
          ],
          [
           "pineapple<br>pork<br>soy"
          ],
          [
           "bay leaf<br>chicken<br>fish<br>parsley<br>pea<br>tomato"
          ],
          [
           "ginger<br>mussel<br>spinach"
          ],
          [
           "bread crumb<br>buttermilk<br>chicken<br>lemon"
          ],
          [
           "cabbage<br>carrot<br>celery<br>chicken<br>parsley<br>pasta<br>soy"
          ],
          [
           "chili<br>coconut<br>fish<br>ginger<br>spinach<br>tilapia"
          ],
          [
           "food<br>pineapple<br>pork<br>sea"
          ],
          [
           "carrot<br>chicken<br>mushroom<br>oyster<br>pasta<br>scallion<br>wine"
          ],
          [
           "bell pepper<br>cabbage<br>chicken<br>oyster"
          ],
          [
           "carrot<br>mayonnaise<br>parsley<br>pineapple<br>potato"
          ],
          [
           "carrot<br>egg<br>lumpia<br>parsley<br>pork<br>sesame"
          ],
          [
           "chili<br>coconut vegetable<br>jackfruit<br>pork"
          ],
          [
           "bagoong<br>bean<br>chili<br>coconut vegetable<br>pork"
          ],
          [
           "chicken<br>fish<br>ginger<br>papaya<br>rice"
          ],
          [
           "chicken<br>pineapple<br>soy"
          ],
          [
           "butter<br>chicken<br>chili<br>mayonnaise<br>pig<br>pork"
          ],
          [
           "cheese<br>fruit cocktail<br>macaroni<br>mayonnaise<br>milk<br>pineapple<br>raisin"
          ],
          [
           "carrot<br>egg<br>lumpia<br>parsley<br>pork<br>sesame"
          ],
          [
           "bacon<br>celery<br>egg<br>mayonnaise<br>pea"
          ],
          [
           "bell pepper<br>butter<br>chicken<br>flour<br>milk<br>mushroom"
          ],
          [
           "chicken<br>cornstarch<br>kangkong<br>oyster<br>squid"
          ],
          [
           "butter<br>cayenne<br>chicken<br>flour"
          ],
          [
           "bottle gourd<br>fish<br>kalabasa<br>pork<br>tomato"
          ],
          [
           "bean<br>beef<br>chili<br>coconut<br>fish<br>spinach"
          ],
          [
           "fish<br>parsley<br>pork<br>shrimp<br>tomato"
          ],
          [
           "cheese<br>elbow macaroni<br>luncheon meat<br>mayonnaise<br>pickle"
          ],
          [
           "chili<br>coconut vegetable<br>salmon<br>spinach"
          ],
          [
           "bacon<br>cheese<br>dijon mustard<br>egg<br>mayonnaise<br>scallion"
          ],
          [
           "chili<br>coconut vegetable<br>pork"
          ],
          [
           "bell pepper<br>carrot<br>celery<br>macaroni<br>mayonnaise<br>mustard"
          ],
          [
           "bagoong<br>chili<br>coconut<br>pork"
          ],
          [
           "beef<br>soy"
          ],
          [
           "beef broth<br>corn<br>cornstarch<br>oyster<br>pork<br>snow peas<br>soy"
          ],
          [
           "butter<br>chili<br>cornstarch<br>egg<br>shrimp<br>whipping cream<br>wine"
          ],
          [
           "bay leaf<br>bread crumb<br>carrot<br>celery<br>chicken<br>egg<br>parsley"
          ],
          [
           "beef<br>beef broth<br>chili<br>fish<br>papaya<br>spinach"
          ],
          [
           "carrot<br>chicken<br>egg<br>napa cabbage<br>scallion"
          ],
          [
           "chili<br>fish"
          ],
          [
           "carrot<br>egg<br>pork<br>scallion<br>sesame"
          ],
          [
           "chili<br>coconut<br>fish<br>pork<br>spinach"
          ],
          [
           "chicken<br>chili<br>fish<br>malunggay<br>rice"
          ],
          [
           "chicken<br>rice<br>scallion<br>sesame"
          ],
          [
           "cheese<br>parsley<br>tomato"
          ],
          [
           "bacon<br>butter<br>parsley"
          ],
          [
           "chicken<br>egg<br>fish<br>lemon<br>rice<br>scallion"
          ],
          [
           "bok choy<br>cabbage<br>chicken<br>fish"
          ],
          [
           "beef<br>bell pepper<br>cheese<br>parsley<br>pork"
          ],
          [
           "chili<br>coconut<br>pork<br>shrimp"
          ],
          [
           "bell pepper<br>egg<br>flour<br>roma tomato<br>vegetable broth"
          ],
          [
           "butter<br>chili<br>parsley<br>shrimp"
          ],
          [
           "carrot<br>egg<br>jicama<br>parsley<br>pork"
          ],
          [
           "bell pepper<br>cabbage<br>chicken<br>fish<br>pork<br>tomato"
          ],
          [
           "bangus<br>carrot<br>celery<br>egg<br>jicama<br>lumpia<br>parsley"
          ],
          [
           "chili<br>coconut vegetable<br>pork<br>shrimp"
          ],
          [
           "butter<br>chili<br>mayonnaise<br>pork<br>tuna"
          ],
          [
           "chicken<br>chili<br>coconut vegetable<br>fish<br>ginger"
          ],
          [
           "daikon radish<br>fish<br>ginger<br>napa cabbage<br>scallion<br>sea<br>shrimp"
          ],
          [
           "butter<br>buttermilk<br>egg<br>flour<br>soda<br>vanilla"
          ],
          [
           "annatto seed<br>beef<br>beef broth<br>chili<br>rice"
          ],
          [
           "beef broth<br>bell pepper<br>chili<br>goat meat<br>pea<br>peanut butter<br>tomato"
          ],
          [
           "chili<br>coconut vegetable<br>crab<br>fish<br>ginger<br>jackfruit<br>malunggay"
          ],
          [
           "bitter gourd<br>chili<br>fish<br>shrimp<br>tinapa<br>tomato"
          ],
          [
           "eggplant<br>lime<br>sea<br>shrimp<br>tomato"
          ],
          [
           "beef<br>beef broth<br>cabbage<br>parsley<br>potato"
          ],
          [
           "fish<br>lime<br>malunggay<br>mung bean<br>pork<br>tomato"
          ],
          [
           "cabbage<br>carrot<br>celery<br>parsley<br>shrimp<br>snow peas<br>soy"
          ],
          [
           "banana<br>egg<br>flour<br>raisin<br>soda<br>vanilla"
          ],
          [
           "beef broth<br>dark soy<br>egg<br>pork<br>tofu<br>vegetable"
          ],
          [
           "beef broth<br>bell pepper<br>carrot<br>pork<br>potato<br>raisin<br>tomato"
          ],
          [
           "chili<br>coconut vegetable<br>fish<br>scallion<br>shrimp"
          ],
          [
           "chili<br>coconut vegetable<br>pork<br>shrimp"
          ],
          [
           "bean<br>bell pepper<br>broth<br>oyster<br>snake bean<br>tofu"
          ],
          [
           "butter<br>chili<br>scallion<br>shrimp"
          ],
          [
           "chili<br>pork<br>rice<br>scallion<br>sesame<br>wonton"
          ],
          [
           "beef<br>bell pepper<br>cornstarch<br>oyster<br>scallion"
          ],
          [
           "bagoong<br>bitter gourd<br>malunggay<br>okra<br>sitaw<br>tomato"
          ],
          [
           "beef<br>bok choy<br>cabbage<br>chili<br>fish<br>lemon<br>rock"
          ],
          [
           "chili<br>coconut<br>mussel<br>shrimp<br>squid"
          ],
          [
           "butter<br>chicken<br>lemon<br>linguine<br>parsley<br>shrimp"
          ],
          [
           "chicken<br>coconut<br>lemon<br>plum tomato<br>potato<br>scallion"
          ],
          [
           "chicken<br>fish<br>ginger<br>malunggay<br>papaya<br>vegetable"
          ],
          [
           "banana<br>butter<br>cream<br>flour<br>soda<br>vanilla<br>walnut"
          ],
          [
           "beef broth<br>cream<br>mushroom"
          ],
          [
           "cream<br>gelatin<br>milk<br>pineapple"
          ],
          [
           "plum tomato<br>scallion<br>tamarind<br>tilapia"
          ],
          [
           "chicken<br>plum tomato<br>pork"
          ],
          [
           "banana<br>chili<br>coconut<br>fish<br>malunggay<br>tilapia"
          ],
          [
           "chili<br>coconut<br>pork<br>shrimp"
          ],
          [
           "beef<br>carrot<br>dill<br>egg<br>flour<br>soy<br>tomato"
          ],
          [
           "basil<br>bread<br>butter<br>cheese<br>grape tomato<br>pork"
          ],
          [
           "daikon radish<br>fish<br>miso<br>mustard<br>tamarind<br>tomato<br>tuna"
          ],
          [
           "bay leaf<br>bell pepper<br>carrot<br>chicken<br>potato<br>tomato"
          ],
          [
           "bok choy<br>oyster<br>sesame"
          ],
          [
           "beef<br>beef broth<br>egg"
          ],
          [
           "plum tomato<br>pork<br>sinigang sampaloc"
          ],
          [
           "bay leaf<br>carrot<br>chicken<br>potato<br>tomato"
          ],
          [
           "fish<br>lemon<br>plum tomato<br>scallion<br>tuna"
          ],
          [
           "cheese<br>mayonnaise<br>pork"
          ],
          [
           "annatto<br>beef<br>chili<br>fish<br>jackfruit<br>plum tomato<br>sinigang sampaloc"
          ],
          [
           "chili<br>coconut<br>fish<br>shrimp<br>spinach"
          ],
          [
           "cornstarch<br>egg<br>flour<br>pork"
          ],
          [
           "bagoong<br>bitter gourd<br>fish<br>knob ginger<br>okra<br>plum tomato<br>snake bean"
          ],
          [
           "beef<br>celery<br>chicharon<br>fish<br>pasta<br>pork<br>scallion"
          ],
          [
           "butter<br>egg<br>honey"
          ],
          [
           "bay leaf<br>beef<br>bell pepper<br>pork<br>potato<br>tomato"
          ],
          [
           "coconut<br>corn<br>mung bean<br>rice<br>vanilla"
          ],
          [
           "beef<br>beef broth<br>cabbage<br>fish<br>potato"
          ],
          [
           "bagoong<br>lemon<br>plum tomato<br>scallion"
          ],
          [
           "bitter gourd<br>calabaza squash<br>eggplant<br>okra<br>string bean<br>tomato<br>vegetable broth"
          ],
          [
           "daikon radish<br>miso<br>mustard<br>okra<br>tamarind<br>tomato"
          ],
          [
           "chili<br>coconut<br>fish<br>jackfruit<br>malunggay"
          ],
          [
           "cabbage<br>egg<br>mung bean<br>sea<br>tofu<br>tomato"
          ],
          [
           "chicken<br>sesame seed"
          ],
          [
           "beef broth<br>pork<br>soy<br>spinach"
          ],
          [
           "broth<br>cabbage<br>carrot<br>parsley<br>pasta<br>soy<br>squid"
          ],
          [
           "beef broth<br>butter<br>cheese"
          ],
          [
           "carrot<br>chicken<br>parsley"
          ],
          [
           "coconut<br>ginger<br>shrimp<br>spinach"
          ],
          [
           "bread crumb<br>oregano<br>paprika<br>potato<br>sea"
          ],
          [
           "egg<br>rice<br>sea<br>sesame<br>soy"
          ],
          [
           "bell pepper<br>carrot<br>pork<br>tomato"
          ],
          [
           "egg<br>mayonnaise<br>mustard<br>pickle"
          ],
          [
           "chili<br>coconut<br>fish<br>ginger<br>spinach<br>squid"
          ],
          [
           "almond<br>butter<br>chocolate<br>flour<br>soda<br>vanilla"
          ],
          [
           "bok choy<br>broth<br>fish<br>pork"
          ],
          [
           "chili<br>coconut<br>ginger<br>milk<br>shrimp<br>tuna"
          ],
          [
           "bean<br>beef broth<br>sausage<br>tomato"
          ],
          [
           "carrot<br>chicken<br>ginger<br>scallion<br>sesame seeds"
          ],
          [
           "beef broth<br>pea<br>pork<br>tomato"
          ],
          [
           "chicken<br>egg<br>margarine<br>mayonnaise<br>pork"
          ],
          [
           "bell pepper<br>bok choy<br>cabbage<br>chicken<br>oyster<br>pasta<br>shrimp"
          ],
          [
           "beef broth<br>carrot<br>chorizo bilbao<br>egg<br>flour<br>pickle<br>soy"
          ],
          [
           "bay leaf<br>beef<br>bell pepper<br>carrot<br>pork<br>potato<br>tomato"
          ],
          [
           "chili<br>coconut"
          ],
          [
           "rice<br>soy"
          ],
          [
           "bell pepper<br>chicken<br>egg<br>fish<br>parsley<br>plum tomato<br>scallion"
          ],
          [
           "bread crumb<br>chicken<br>cornstarch<br>egg<br>sherry wine<br>soy"
          ],
          [
           "beef broth<br>eggplant<br>plum tomato<br>pork<br>shrimp"
          ],
          [
           "celery<br>cream<br>macaroni<br>mayonnaise<br>mustard<br>parsley<br>relish"
          ],
          [
           "bell pepper<br>broth<br>chicken<br>pea<br>tomato"
          ],
          [
           "fish<br>malunggay<br>papaya<br>parsley"
          ],
          [
           "cornstarch<br>oyster<br>sirloin<br>snow peas<br>soy"
          ],
          [
           "chili<br>fish<br>tomato"
          ],
          [
           "chili<br>coconut<br>fish<br>ginger<br>malunggay<br>papaya"
          ],
          [
           "chicken<br>cornstarch<br>egg<br>ginger"
          ],
          [
           "beef broth<br>parsley<br>potato"
          ],
          [
           "butter<br>cocoa<br>egg<br>flour<br>sea<br>vanilla"
          ],
          [
           "cabbage<br>carrot<br>lemon<br>pork<br>soy<br>squid"
          ],
          [
           "broccoli<br>carrot<br>pancit<br>sesame"
          ],
          [
           "chili<br>coconut<br>fish<br>jackfruit<br>pork"
          ],
          [
           "chicken<br>egg<br>mirin<br>rice<br>sesame seed<br>soy"
          ],
          [
           "bread crumb<br>carrot<br>egg<br>paprika<br>pork"
          ],
          [
           "beef<br>parsley<br>rice"
          ],
          [
           "butter<br>carrot<br>celery<br>chicken<br>egg<br>parsley<br>thyme"
          ],
          [
           "basil<br>beef<br>carrot<br>oregano<br>pasta<br>thyme<br>tomato"
          ],
          [
           "carrot<br>crab<br>egg<br>pork<br>sesame"
          ],
          [
           "coconut<br>fish<br>ginger<br>shrimp<br>spinach"
          ],
          [
           "ginger<br>spinach"
          ],
          [
           "butter<br>cheese<br>mayonnaise"
          ],
          [
           "rice<br>sesame<br>vegetable"
          ],
          [
           "bread<br>mayonnaise<br>pickle<br>tuna"
          ],
          [
           "chorizo bilbao<br>napa cabbage<br>plum tomato<br>pork"
          ],
          [
           "broth<br>carrot<br>chicken<br>milk<br>parsley<br>pasta<br>sea"
          ],
          [
           "bell pepper<br>cheese<br>egg<br>scallion<br>tomato"
          ],
          [
           "kangkong<br>patis<br>tamarind<br>tomato"
          ],
          [
           "bread crumb<br>cheese<br>lemon<br>parsley"
          ],
          [
           "chayote<br>chicken<br>shrimp"
          ],
          [
           "ginger<br>pig<br>pork"
          ],
          [
           "cayenne<br>chicken<br>coconut<br>ginger<br>pea<br>potato<br>tomato"
          ],
          [
           "beef<br>beef broth<br>carrot<br>egg<br>star anise"
          ],
          [
           "beef<br>coconut<br>ginger<br>serrano<br>shrimp"
          ],
          [
           "banana<br>butter<br>egg<br>flour<br>soda<br>vanilla"
          ],
          [
           "butter<br>chicken<br>egg<br>mayonnaise<br>serrano<br>soy"
          ],
          [
           "chicken<br>ginger<br>patis<br>rice<br>tofu"
          ],
          [
           "avocado<br>bacon<br>bread<br>dijon mustard<br>lettuce<br>mayonnaise<br>tomato"
          ],
          [
           "beef<br>cheese<br>lettuce<br>mayonnaise"
          ],
          [
           "napa cabbage<br>pork<br>tomato"
          ],
          [
           "chicken<br>fish<br>ginger<br>napa cabbage<br>potato"
          ],
          [
           "beef broth<br>bok choy<br>soy<br>string bean<br>tomato"
          ],
          [
           "bread<br>cheese<br>egg<br>mayonnaise"
          ],
          [
           "chicken<br>corn<br>jicama<br>vegetable<br>wine"
          ],
          [
           "egg<br>fish<br>parsley<br>tofu<br>tomato"
          ],
          [
           "chili<br>coconut<br>fish<br>malunggay<br>squid"
          ],
          [
           "beef broth<br>pork<br>spaghetti<br>tomato"
          ],
          [
           "beef broth<br>chayote<br>fish<br>pork<br>rice<br>spinach"
          ],
          [
           "basil<br>beef<br>chili<br>fish"
          ],
          [
           "beef<br>cornstarch<br>mushroom<br>pork"
          ],
          [
           "beef<br>broccoli<br>cornstarch<br>oyster<br>soy"
          ],
          [
           "almond<br>celery<br>cream<br>mayonnaise<br>pickle<br>potato"
          ],
          [
           "butter<br>flour<br>mushroom<br>tofu<br>vegetable broth"
          ],
          [
           "bacon<br>lemon<br>shrimp"
          ],
          [
           "annatto<br>cabbage<br>carrot<br>celery<br>parsley<br>pasta<br>vegetable broth"
          ],
          [
           "butter<br>cheese<br>chicken<br>flour<br>lemon<br>parsley"
          ],
          [
           "chayote<br>chili<br>fish<br>ginger<br>malunggay<br>salmon"
          ],
          [
           "beef<br>carrot<br>celery<br>flour<br>potato<br>wine"
          ],
          [
           "butter<br>cheese<br>parsley"
          ],
          [
           "bacon<br>butter<br>cheese<br>flour<br>milk<br>worcestershire"
          ],
          [
           "bean<br>cornstarch<br>oyster<br>parsley<br>pork"
          ],
          [
           "basil<br>chicken<br>chili<br>fish"
          ],
          [
           "broccoli<br>chicken<br>cornstarch<br>egg<br>ginger<br>oyster<br>soy"
          ],
          [
           "chili<br>coconut<br>fish<br>ginger<br>mussel<br>spinach"
          ],
          [
           "beef<br>dill<br>mustard<br>pickle<br>tomato"
          ],
          [
           "butter<br>chicken<br>egg<br>flour<br>lemon<br>whipping cream"
          ],
          [
           "beef broth<br>flour<br>oyster<br>pork<br>soy<br>zucchini"
          ],
          [
           "bell pepper<br>broccoli<br>carrot<br>rice"
          ],
          [
           "chicken<br>fish<br>ginger<br>spinach"
          ],
          [
           "pork<br>rice<br>soy"
          ],
          [
           "basil<br>beef<br>egg<br>roma tomato"
          ],
          [
           "bell pepper<br>cheese<br>cream<br>flour tortilla<br>lime<br>rice"
          ],
          [
           "cheese<br>crab<br>mustard<br>whipping cream"
          ],
          [
           "broth<br>egg<br>pork<br>rice<br>scallion"
          ],
          [
           "egg<br>rice<br>sausage<br>sea<br>soy"
          ],
          [
           "butter<br>nutmeg<br>spinach<br>whipping cream"
          ],
          [
           "bok choy<br>fish<br>ice<br>scallion<br>vegetable broth"
          ],
          [
           "bagoong<br>mango<br>pork<br>rice<br>scallion"
          ],
          [
           "butter<br>celery<br>rosemary<br>thyme<br>turkey"
          ],
          [
           "chicken<br>dark soy<br>egg<br>flour<br>lemon<br>pineapple"
          ],
          [
           "beef<br>cheese<br>marinara<br>pasta<br>pork"
          ],
          [
           "cheese<br>egg<br>mayonnaise<br>tomato ketchup"
          ],
          [
           "celery<br>cheese<br>mayonnaise<br>pickle<br>tuna"
          ],
          [
           "cheese<br>parsley"
          ],
          [
           "chayote<br>pork<br>tomato"
          ],
          [
           "bean<br>chili<br>coconut<br>pork<br>shrimp"
          ],
          [
           "fish<br>ice<br>sesame"
          ],
          [
           "beef<br>cheese<br>mayonnaise<br>pickle"
          ],
          [
           "beef broth<br>butter<br>cream<br>flour<br>pork"
          ],
          [
           "cheese<br>parsley<br>potato<br>sea"
          ],
          [
           "breadcrumb<br>butter<br>dijon mustard<br>egg<br>lemon<br>mayonnaise"
          ],
          [
           "egg<br>rice<br>sodium soy"
          ],
          [
           "carrot<br>ginger<br>pork<br>sesame<br>spring roll"
          ],
          [
           "sesame<br>spinach"
          ],
          [
           "avocado<br>cheese<br>chicken<br>chili<br>cilantro<br>lime<br>tomato"
          ],
          [
           "butter<br>cheese<br>linguine<br>mussel<br>parsley<br>wine"
          ],
          [
           "cabbage<br>chicken<br>tomato"
          ],
          [
           "broth<br>carrot<br>chicken<br>mushroom<br>napa cabbage<br>pig<br>pork"
          ],
          [
           "anchovy<br>chili<br>coconut<br>fish"
          ],
          [
           "chili<br>coconut<br>shrimp"
          ],
          [
           "coconut<br>cream<br>milk<br>pineapple"
          ],
          [
           "beef<br>beef broth<br>butter<br>potato<br>vegetable<br>worcestershire"
          ],
          [
           "chili<br>fish<br>mustard<br>tomato"
          ],
          [
           "beef broth<br>bell pepper<br>pea<br>pork<br>tomato"
          ],
          [
           "lemon<br>tilapia<br>tomato"
          ],
          [
           "cauliflower<br>cheese<br>parsley"
          ],
          [
           "beef<br>chili<br>cumin<br>flour<br>tomato"
          ],
          [
           "bean<br>oyster<br>parsley<br>pork<br>soy<br>tofu"
          ],
          [
           "crab<br>mussel<br>rice<br>saffron<br>squid<br>tomato"
          ],
          [
           "bangus<br>ginger<br>pandan<br>tomato"
          ],
          [
           "anchovy<br>banana ketchup<br>chili"
          ],
          [
           "cheese<br>chicken<br>spinach<br>thyme"
          ],
          [
           "butter<br>cinnamon<br>egg<br>milk<br>nutmeg<br>potato<br>vanilla"
          ],
          [
           "bok choy<br>fish<br>ginger<br>rice"
          ],
          [
           "bok choy<br>ginger<br>oyster<br>sesame<br>soy<br>vegetable"
          ],
          [
           "butter<br>egg<br>flour<br>soda<br>vanilla"
          ],
          [
           "chicken<br>fish<br>knob ginger<br>spinach"
          ],
          [
           "chili<br>coconut<br>fish<br>jackfruit<br>shrimp<br>tomato"
          ],
          [
           "butter<br>cinnamon<br>egg<br>flour<br>raisin<br>vanilla"
          ],
          [
           "broth<br>butter<br>cream<br>leek<br>milk<br>potato"
          ],
          [
           "rice<br>sesame seed"
          ],
          [
           "coconut<br>rice<br>vanilla"
          ],
          [
           "butter<br>egg<br>fruit cocktail<br>gelatin<br>milk<br>vanilla"
          ],
          [
           "chili<br>coconut<br>crab<br>fish<br>ginger<br>shrimp<br>spinach"
          ],
          [
           "beef<br>soy"
          ],
          [
           "food<br>pineapple<br>pork<br>sea"
          ],
          [
           "chicken<br>fish<br>ginger<br>papaya<br>rice"
          ],
          [
           "bean<br>cornstarch<br>egg<br>fish<br>parsley"
          ],
          [
           "banana ketchup<br>cheese<br>pork<br>spaghetti<br>tomato"
          ],
          [
           "cabbage<br>carrot<br>celery<br>chicken<br>pork<br>snow peas<br>soy"
          ]
         ],
         "hovertemplate": "<b>%{hovertext}</b><br><br>cluster=1<br>x=%{x}<br>y=%{y}<br>ingredients=%{customdata[0]}<extra></extra>",
         "hovertext": [
          "Sinigang na Baka",
          "Tinolang Palaka",
          "Cashew Chicken",
          "Chicken Corn Soup",
          "Ginataang Manok",
          "Buko Pie (Filipino Coconut Pie)",
          "Pinsec Frito",
          "Lumpiang Puso ng Saging",
          "Tortang Tahong",
          "Bulalo Mami",
          "Ginisang Ampalaya at Hipon",
          "Garlic Butter Fried Frog Legs",
          "Curried Okra with Tomatoes",
          "Ginisang Upo at Hipon",
          "Bulalo",
          "Kabocha Salad",
          "Salted Eggs Shrimp",
          "Ginataang Kalabasa, Sitaw at Hipon",
          "Ginataang Halo-halo",
          "Picadillo",
          "Chicken Bicol Express",
          "Ginataang Puso ng Saging",
          "Paella",
          "Rellenong Hipon",
          "Kababayan",
          "Sinigang na Hito sa Miso",
          "Sinigang na Baka sa Bayabas",
          "Ginisang Pechay",
          "Baked Cheese Shrimp",
          "Gising Gising with Bangus",
          "Ginisang Sayote with Chicken",
          "Brazo de Mercedes",
          "Banana Meat",
          "Pork and Green Bean Stir-fry",
          "Green Bean Mushroom Stir-fry",
          "Ginataang Langka at Danggit",
          "Beef Curry",
          "Miki Bihon",
          "Peanut Tikoy Rolls with Ube Filling",
          "Ginisang Munggo at Tinapa",
          "Gising Gising",
          "Ginataang Talong",
          "Sinantomas",
          "Crispy Breaded Shrimp",
          "Lengua in Mushroom Sauce",
          "Beef in Creamy Mushroom Sauce",
          "Chicken Sotanghon Soup",
          "Calamansi Cheesecake Squares",
          "Tropical Magic Bars",
          "Sizzling Gambas",
          "Creamy Tuna Pasta Salad",
          "Spam Musubi",
          "Calamansi Muffins",
          "Batsui",
          "Impossible Chocolate Flan Cake",
          "Pininyahang Manok",
          "Espasol",
          "Pork Bulanglang",
          "Bangus sa Tausi (Milkfish with Tomatoes and Black Beans)",
          "Sinigang na Hipon sa Calamansi",
          "Bicol Express",
          "Corned Beef Sinigang",
          "Chicken Salad",
          "Pininyahang Pork",
          "Pork Guisantes",
          "Chicken Curry",
          "Steamed Spareribs with Black Beans",
          "Carne Guisada",
          "Ginisang Upo with Pork",
          "Filipino-style Chicken Baked Macaroni",
          "Easy Pancit Luglug",
          "Chicken Adobo with Tamarind",
          "Pork Embutido",
          "Ginataang Seafood",
          "Laswa",
          "Mango Curry Chicken",
          "Chicken Tocino",
          "Nilagang Baboy",
          "Honey Bagoong Chicken Wings",
          "Relyenong Bangus",
          "Salt and Pepper Shrimp",
          "Sinabawang Tahong",
          "Cheese Pineapple Sandwich Spread",
          "Sinampalukang Manok",
          "Pesang Dalag",
          "Tinolang Manok",
          "Ham Fried Rice",
          "How to Cook Easy Pork Afritada",
          "Egg Fried Rice Recipe",
          "Tofu and Broccoli Stir fry",
          "Laing Fried Rice",
          "Kangkong and Ground Pork with Oyster Sauce Stir Fry",
          "Chicken Fried Rice Recipe",
          "Fish in Coconut Milk with Pineapple",
          "Garlic Tokwa and Kangkong in Oyster Sauce",
          "Air Fried Peach Mango Pie",
          "Sotanghon with Sayote and Giniling",
          "Creamy Beef with Mushroom",
          "Pork Belly Asado",
          "Cheese Pimiento Sandwich",
          "Amazing Cabbage Recipe",
          "Kinamatisang Manok",
          "Fish Sinigang Recipe",
          "Ginataang Mais at Malagkit (Sweet Corn and Glutinous Rice in Coconut Milk)",
          "Stir Fried Chicken Franks",
          "Crispy Katsu Sando",
          "One Pan Sandwich",
          "Garlic Pepper Beef",
          "Seafood Boil",
          "Pork Afritada Recipe",
          "Chicken Gising-gising",
          "Pork Giniling with Oyster Sauce",
          "Cheeseburger and Hotdog Sandwich Recipe",
          "How to Cook Steak",
          "Pork Curry Tinola",
          "Arroz Caldo Recipe",
          "Callos Recipe",
          "Beef Stroganoff Lasagna",
          "Beef Pares Lomi",
          "How to Make Macaroni Salad for the Holidays",
          "Pininyahang Baboy sa Gata",
          "Crispy Garlic Bangus and Cream of Pumpkin Soup",
          "Sinarsahang Manok",
          "Killer Pork Sinigang Recipe",
          "Java Rice with Pork chop",
          "Banana Bread Recipe",
          "Pinangat na Galunggong sa Kamias",
          "Bicol Express Gising-gising",
          "Chicken Afritada Recipe",
          "Ginataang Kalabasa at Sitaw",
          "How to Cook Crispy Eggplant Fries",
          "Pork Menudo sa Gata",
          "Pinatuyong Pork Hamonado",
          "Chicken Feet in Oyster Sauce with Salted Black Beans",
          "Eggplant and Sardine Omelet",
          "Sweet Pata Asado",
          "Ginataang Puso ng Saging",
          "Salmon Sisig",
          "Aligue Fried Rice",
          "Sinantomas",
          "Chicken Adobong Puti Recipe",
          "Sinanglay na Tilapia Recipe",
          "Easy Kung Pao Shrimp Recipe",
          "Pork Monggo with Kangkong Recipe",
          "Beef Stroganoff",
          "Yang Chow Fried Rice Recipe",
          "Macaroni Fruit Salad",
          "Ginataang Langka with Malunggay and Dilis",
          "Ginataang Manok with Papaya",
          "7Up Fried Chicken",
          "Ginisang Pechay at Giniling with Oyster Sauce",
          "Fried Ham and Cheese Roll",
          "Ginataang Bitsuelas",
          "Creamy Lengua in White Sauce",
          "Hamonadong Baboy",
          "Sarciadong Manok",
          "Tinolang Tahong Recipe",
          "Baked Chicken Nuggets",
          "Chicken Pancit Recipe",
          "Ginataang Tilapia",
          "Homemade Pork Tocino",
          "Longevity Noodles with Chicken and Mushroom",
          "Ginisang Repolyo with Chicken",
          "Potato Salad with Carrots and Pineapple",
          "Lumpia Recipe",
          "Ginataang Langka with Pork Recipe",
          "Gising Gising Recipe",
          "Chicken Tinola Recipe",
          "Chicken Hamonado",
          "Sisig Recipe",
          "Filipino Sweet Macaroni Salad",
          "Lumpiang Shanghai Recipe",
          "Bacon and Egg Macaroni Salad with Green Peas",
          "Chicken ala King Recipe",
          "Kangkong with Squid Balls in Oyster Sauce",
          "Buffalo Chicken Wings Recipe with Sauce",
          "Ginisang Upo at Kalabasa - Sauteed Opo and Butternut Squash",
          "Ginataang Baka – Beef in Coconut Milk with Green Beans and Spinach",
          "Ginisang Upo with Ground Pork and Shrimp",
          "Luncheon Meat Mac Salad with Cheese",
          "Ginataang Salmon (Salmon in Coconut Milk)",
          "Ketogenic Bacon and Egg Salad",
          "Crispy Bicol Express",
          "Classic Macaroni Salad Recipe",
          "Bicol Express ala Bebet",
          "Coca Cola Beef Tapa",
          "15 Minute Pork Stir Fry",
          "Salted Egg Prawns",
          "Chicken Meatball Noodle Soup",
          "Beef Tinola Recipe",
          "Chicken Mami",
          "Spicy Sardinas with Patola and Miswa",
          "Pork Siomai and Nido Oriental Style Soup",
          "Pork Ginataan",
          "Tinolang Manok sa Upo",
          "Chicken Congee Recipe",
          "Pandesal and Sardines Pizza",
          "Bacon Wrapped Sea Scallop",
          "How To Cook Filipino Chicken Arroz Caldo",
          "Chicken Nilaga with Kalabasa",
          "Stuffed Beef and Pork Burger Patties",
          "Ginataang Santol (Sinantolan) Recipe",
          "Crispy Fried Mahi Mahi Sarciado",
          "Butter Garlic Shrimp and Squid",
          "Noche Buena Lumpiang Shanghai",
          "Ginisang Reployo with Giniling",
          "Fish Lumpia Recipe",
          "Anghang Sarap Laing",
          "Sizzling Tuna Sisig",
          "Ginataang Manok Na May Luyang Dilaw",
          "How to Make Kimchi at Home",
          "Buttermilk Waffles",
          "Gotong Batangas Recipe",
          "Spicy Calderetang Kambing with Peanut Butter (Goat Meat Caldereta)",
          "Ginataang Langka with Alimasag",
          "Spicy Monggo with Tinapa",
          "Inihaw na Galunggong with Ensaladang Talong",
          "Corned Beef with Cabbage and Potato",
          "Ginisang Monggo with Inihaw na Liempo",
          "Shrimp Pancit Bihon Recipe",
          "Moist Banana Bread with Raisins",
          "Braised Pork Belly in Soy Sauce (Tau Yew Bak)",
          "Pork Menudo with Ham Recipe",
          "Spicy Ginataang Hipon Recipe",
          "Pork Bicol Express Recipe",
          "Tofu and Green Bean Stir Fry in Oyster Sauce with Salted Black Beans",
          "Chili Garlic Butter Shrimp Recipe",
          "Spicy Wonton Soup Recipe",
          "Stir Fried Pepper Steak",
          "Dinendeng with Bilong-bilong Recipe",
          "Batangas Bulalo Recipe",
          "Seafood Bicol Express",
          "Shrimp Scampi with Linguine",
          "Binakol na Manok Recipe",
          "Classic Tinolang Manok Recipe",
          "Mini Banana Cake with Walnuts for Kids",
          "Lengua in White Mushroom Sauce",
          "Cathedral Window Gelatin Recipe",
          "Poached Tilapia in Sour Broth",
          "Sauteed Chayote with Pork and Tomato",
          "Fried Tilapia in Coconut Milk (Ginataang Tilapia)",
          "Pork Chop Bicol Express",
          "Classic Beef Morcon Recipe",
          "Embutido Meatloaf with Tomato and Basil Grilled Cheese Sandwich",
          "Tuna Jaw Sinigang",
          "Chicken Afritada with Bell Pepper",
          "Bok Choy with Garlic and Oyster Sauce",
          "Corned Beef Silog",
          "Tinumis Recipe",
          "Simple Chicken Afritada",
          "Tinolang Isda",
          "Pork Cheeseburger",
          "Cansi Recipe (Ilonggo Bulalo and Sinigang in one Delicious Soup Dish)",
          "Crawfish in Coconut Milk with Spinach",
          "Deep Fried Breaded Pork Chops",
          "Dinengdeng with Fried Fish Recipe",
          "Beef Batchoy with Liver and Bung",
          "How to Make Cornbread for Beginners",
          "Slow Cook Pork Afritada",
          "Ginataang Monggo at Mais",
          "Nilagang Litid ng Baka",
          "Chopped Tomato and Onion with Bagoong Isda",
          "Ginisang Gulay",
          "Sinigang na Lapu lapu sa Miso",
          "Ginataang Langka with Malunggay and Daing",
          "Lumpiang Gulay (Vegetable Egg Roll Recipe)",
          "Teriyaki Chicken Thighs",
          "Pork and Kangkong Guisado",
          "Squid Ball Pancit Canton Recipe",
          "Breakfast Sausage Hash",
          "Simple Recipe for Chicken Noodle Soup",
          "Apple Snails in Coconut Milk (Ginataang Kuhol)",
          "Crispy Baked Yukon Gold Potato Wedges",
          "Pork BBQ Fried Rice",
          "Pork Giniling Kaldereta Recipe",
          "Egg Sandwich Spread Recipe",
          "Dried Squid in Coconut Milk",
          "Oatmeal Chocolate Chip Cookies",
          "Bok Choy Guisado Recipe",
          "Kale and Tuna Laing Recipe",
          "Easy Callos Recipe",
          "Teriyaki Chicken Lettuce Wrap",
          "Dutch Oven Pork Stew Recipe",
          "Grilled Liempo Sisig Recipe",
          "Shrimp Pancit Canton Recipe",
          "Beef Morcon Recipe",
          "Slow Cook Pork Hock Stew",
          "Mahi-Mahi Paksiw Recipe",
          "Pork Adobo Flakes",
          "Sarciadong Itlog Recipe",
          "Party Fried Chicken",
          "Binagoongang Baboy Recipe (Pork in Shrimp Paste)",
          "Easy Macaroni Salad",
          "Chicken Guisantes Recipe",
          "Ginisang Papaya",
          "Beef in Oyster Sauce with Snow Peas",
          "Sarciadong Daing",
          "Ginataang Papaya",
          "Egg Drop Soup",
          "Corned Beef and Potato Casserole",
          "Brownies Recipe",
          "Pancit Udon Recipe",
          "Instant Pancit Canton with Vegetables",
          "Ginataang Langka with Pork Recipe",
          "Chicken Teriyaki, Brown Rice, and Sunny Side Up Egg Recipe",
          "Pork Burger Patties",
          "Taco Fried Rice Recipe",
          "Homemade Chicken Noodle Soup Recipe",
          "How to Make Spaghetti with Meat Sauce",
          "Crab and Pork Shumai Recipe",
          "Snails with Spinach in Coconut Milk Recipe",
          "Clam Soup Recipe (Tinolang Halaan)",
          "Reuben Sandwich",
          "Simple Kimchi Fried Rice",
          "Tuna Melt Sandwich",
          "Pamplina Recipe (Pork and Chorizo Soup with Beans)",
          "Friday Chicken Noodle Soup",
          "Panlasang Pinoy Omelet",
          "Sinigang na Liempo sa Sampaloc",
          "Panko Parmesan Crusted Halibut",
          "Sayote Guisado with Chicken and Shrimp",
          "Bas-uy Recipe (Pork and Liver Soup with Lemongrass and Chayote)",
          "Easy Chicken Curry",
          "Bulalo Beef Mami",
          "Beef Bicol Express",
          "Easy Banana Muffin",
          "Sizzling Chicken Sisig",
          "Arroz Caldo with tokwa",
          "Bacon and Avocado Sandwich",
          "Easy Roast Beef Sandwich",
          "Sautéed Napa Cabbage with Ground Pork",
          "Pesang Manok (Chicken Soup in Ginger Broth)",
          "Sauteed Flank Steak with Bok Choy and String Beans",
          "Spam and Egg Sandwich",
          "Baby Corn Ham and Jicama Stir Fry",
          "Tofu Sarciado",
          "Ginataang Pusit Recipe (squid in coconut milk)",
          "Jollibee Style Spaghetti",
          "Pork Tinola Recipe",
          "Basil Beef Recipe",
          "Slow Cook Pork Chop with Mushroom Gravy",
          "Easy Beef with Broccoli",
          "Curried Potato Salad",
          "Tofu with Mushroom Gravy",
          "Bacon Wrapped Shrimp",
          "Vegetarian Pancit Sotanghon",
          "Chicken Piccata",
          "Fish Tinola Recipe",
          "Slow Cooker Beef Stew",
          "Garlic Bread",
          "Cheese Fries",
          "Pork with Salted Black Beans",
          "Basil Chicken Recipe",
          "Chicken with Broccoli Recipe",
          "Ginataang Tahong",
          "Chicago Style Hotdog",
          "Fried Chicken Breast with Creamy Lemon Sauce Dip",
          "Pork with Zucchini in Oyster Sauce",
          "Vegetable Fried Rice Recipe",
          "Easy Chicken Tinola Recipe",
          "Filipino Pork Fried Rice Recipe",
          "Ground Beef Basil and Tomato Frittata",
          "Carne Asada Burrito Recipe",
          "Crab Dip Recipe",
          "Century Egg Congee with Salted Pork",
          "Longganisa Fried Rice",
          "Creamed Spinach Recipe",
          "Fish Ball Soup Recipe",
          "Bagoong Rice Recipe",
          "Classic Roast Turkey Recipe",
          "Pineapple Fried Chicken Recipe",
          "Fettuccine Pasta with Tomato Meat Sauce",
          "Egg and Cheese English Muffin Sandwich",
          "Tuna Salad Sandwich Recipe",
          "Artichoke Dip",
          "Ginisang Sayote Recipe",
          "Gising gising Recipe (Green bean with Pork in Coconut milk)",
          "Kangkong with Bagoong Recipe",
          "Tasty Sliders Recipe",
          "Smothered Pork Chop Recipe",
          "Baked Garlic Parmesan French Fries",
          "Dulong Fishcake",
          "Ham and Egg Fried Rice",
          "Spring Rolls Recipe",
          "Garlic Sesame Spinach Recipe",
          "Tortilla Soup Recipe",
          "Linguine with Mussels Recipe",
          "Cabbage Soup Recipe",
          "Hototay Soup Recipe",
          "Ginataang Langka with Dilis Recipe",
          "Mixed Seafood in Coconut Milk Recipe",
          "Buko Salad Recipe",
          "Shepherds Pie",
          "Sinigang na Bangus sa Miso",
          "Pork Guisantes Recipe",
          "Grilled Tilapia Recipe",
          "Roasted Cauliflower Recipe",
          "Best Game Day Chili Recipe",
          "Pork and Tofu in Oyster Sauce Recipe",
          "Paella Marinera Recipe",
          "Genesee's Grilled Boneless Bangus in Pandan Leaves",
          "Spicy Dilis",
          "Grilled Chicken and Spinach Salad Recipe",
          "Sweet Potato Pie Recipe",
          "Pesang Isda Recipe",
          "Bok Choy in Garlic Sauce",
          "Sugar Cookie Recipe",
          "Pinatisang Manok",
          "Ginataang Langka Recipe",
          "Oatmeal Cookies",
          "Potato and Leek Soup Recipe",
          "Tikoy Recipe",
          "Espasol Recipe",
          "Crema de Fruta Recipe",
          "Ginataang Alimasag Recipe",
          "Homemade Beef Tapa",
          "Homemade Pork Tocino",
          "Chicken Tinola Recipe",
          "Fish Fillet with Tausi",
          "Pinoy Spaghetti Recipe",
          "Pancit Bihon Recipe"
         ],
         "legendgroup": "1",
         "marker": {
          "color": "rgb(242, 183, 1)",
          "size": 5,
          "symbol": "circle"
         },
         "mode": "markers",
         "name": "1",
         "showlegend": true,
         "type": "scattergl",
         "x": [
          0.7167571783065796,
          0.7317898869514465,
          0.7498706579208374,
          0.790002167224884,
          0.7449408173561096,
          0.6380254626274109,
          0.7710212469100952,
          0.6655388474464417,
          0.7111475467681885,
          0.6347929239273071,
          0.7608026266098022,
          0.6838956475257874,
          0.6232452988624573,
          0.7242375612258911,
          0.6944823861122131,
          0.7494051456451416,
          0.8075799942016602,
          0.7016282081604004,
          0.6307948231697083,
          0.6132510900497437,
          0.685585618019104,
          0.7202224731445312,
          0.7054939270019531,
          0.6820897459983826,
          0.6466289758682251,
          0.7950283885002136,
          0.6941437125205994,
          0.7658580541610718,
          0.7540322542190552,
          0.7166030406951904,
          0.6669780015945435,
          0.6713449358940125,
          0.7126842737197876,
          0.7939442992210388,
          0.7345907688140869,
          0.6505870223045349,
          0.7926766872406006,
          0.8145942687988281,
          0.6251258254051208,
          0.6605923175811768,
          0.7195462584495544,
          0.7647832632064819,
          0.8079384565353394,
          0.7106608152389526,
          0.6663112640380859,
          0.5985351204872131,
          0.8446568250656128,
          0.633219838142395,
          0.6850771903991699,
          0.739875316619873,
          0.6974600553512573,
          0.593474268913269,
          0.7673723101615906,
          0.7722225189208984,
          0.631818413734436,
          0.6490806341171265,
          0.6101340651512146,
          0.6278066039085388,
          0.7637142539024353,
          0.756348192691803,
          0.682166337966919,
          0.6975128650665283,
          0.7319739460945129,
          0.7893772721290588,
          0.7476938962936401,
          0.7940824031829834,
          0.7816014289855957,
          0.6662467122077942,
          0.6480287313461304,
          0.718308687210083,
          0.7851014733314514,
          0.6026090383529663,
          0.7698878645896912,
          0.6640033721923828,
          0.7061134576797485,
          0.7854573726654053,
          0.7717602252960205,
          0.6392143964767456,
          0.6891037225723267,
          0.7368171811103821,
          0.6618555784225464,
          0.7789303064346313,
          0.7515190839767456,
          0.8111666440963745,
          0.8019841909408569,
          0.7848867177963257,
          0.7905365824699402,
          0.7291000485420227,
          0.7905365824699402,
          0.7489531636238098,
          0.59405118227005,
          0.66004478931427,
          0.768247663974762,
          0.819628119468689,
          0.6723458766937256,
          0.6556620597839355,
          0.6123709678649902,
          0.6847813129425049,
          0.7980141639709473,
          0.6936355233192444,
          0.7942278981208801,
          0.7920506000518799,
          0.750159502029419,
          0.6207053065299988,
          0.7145872712135315,
          0.7358425259590149,
          0.759194016456604,
          0.7286995649337769,
          0.6138208508491516,
          0.696126401424408,
          0.8118623495101929,
          0.7242751121520996,
          0.7622109055519104,
          0.7269648313522339,
          0.8556513786315918,
          0.8381033539772034,
          0.7200398445129395,
          0.6485759615898132,
          0.7424353361129761,
          0.6745115518569946,
          0.8384349942207336,
          0.6588103175163269,
          0.8031125068664551,
          0.7571113109588623,
          0.7486944198608398,
          0.6660363674163818,
          0.635167121887207,
          0.7865597009658813,
          0.7551203966140747,
          0.8067381381988525,
          0.7281780242919922,
          0.8230782747268677,
          0.6658461689949036,
          0.6965526342391968,
          0.7170990109443665,
          0.6900283098220825,
          0.7766425609588623,
          0.783225417137146,
          0.6580517888069153,
          0.8357681035995483,
          0.7152895331382751,
          0.7998226881027222,
          0.7596852779388428,
          0.6956837177276611,
          0.7100417017936707,
          0.8070983290672302,
          0.6557185649871826,
          0.6465595960617065,
          0.8154951333999634,
          0.6599411368370056,
          0.6094613075256348,
          0.6788868308067322,
          0.8304212093353271,
          0.6617311239242554,
          0.6658459901809692,
          0.7557584047317505,
          0.6301369667053223,
          0.6250674724578857,
          0.7888387441635132,
          0.8071396946907043,
          0.628035306930542,
          0.7076438665390015,
          0.665835440158844,
          0.7665733098983765,
          0.8378927111625671,
          0.7504324316978455,
          0.7114021182060242,
          0.7897801995277405,
          0.6548659205436707,
          0.7557684779167175,
          0.6510666608810425,
          0.8378926515579224,
          0.7837063074111938,
          0.7683296203613281,
          0.6524996757507324,
          0.6119400858879089,
          0.7534535527229309,
          0.816097617149353,
          0.8201197385787964,
          0.6953138113021851,
          0.7746683955192566,
          0.7316318154335022,
          0.6557155847549438,
          0.7762374877929688,
          0.6504379510879517,
          0.6025757193565369,
          0.7753022909164429,
          0.7076554894447327,
          0.7512543797492981,
          0.8157119154930115,
          0.797871470451355,
          0.5908259749412537,
          0.8182651996612549,
          0.8301430940628052,
          0.6724234819412231,
          0.7574262619018555,
          0.7378695607185364,
          0.6274887323379517,
          0.8300524950027466,
          0.6905341744422913,
          0.774045467376709,
          0.682166337966919,
          0.6471242904663086,
          0.73902428150177,
          0.8024107217788696,
          0.7981694340705872,
          0.6965886950492859,
          0.7500755786895752,
          0.7788145542144775,
          0.8554592132568359,
          0.7500770092010498,
          0.657902717590332,
          0.7457212805747986,
          0.7980054616928101,
          0.8226484060287476,
          0.7619828581809998,
          0.7256653904914856,
          0.7515195608139038,
          0.7436644434928894,
          0.7699357867240906,
          0.6528951525688171,
          0.7403663992881775,
          0.799700915813446,
          0.7916208505630493,
          0.7500755786895752,
          0.6451341509819031,
          0.6779364943504333,
          0.7655383348464966,
          0.7377673387527466,
          0.6689651012420654,
          0.7604349851608276,
          0.6417762637138367,
          0.7727156281471252,
          0.8038738369941711,
          0.787038266658783,
          0.656305193901062,
          0.6296356916427612,
          0.6090937256813049,
          0.6972060203552246,
          0.6983241438865662,
          0.7237130403518677,
          0.682166337966919,
          0.7799992561340332,
          0.7825353145599365,
          0.7735844254493713,
          0.7272359132766724,
          0.6732903718948364,
          0.6708434820175171,
          0.6529285907745361,
          0.7281822562217712,
          0.7532234191894531,
          0.7478731870651245,
          0.7626767754554749,
          0.8211570978164673,
          0.6283285021781921,
          0.658065140247345,
          0.7781113982200623,
          0.6520134806632996,
          0.7760667204856873,
          0.6889126300811768,
          0.7507472634315491,
          0.6458301544189453,
          0.7220373749732971,
          0.723449170589447,
          0.6791754364967346,
          0.7804992198944092,
          0.6466456055641174,
          0.7247964143753052,
          0.7523170709609985,
          0.6561185121536255,
          0.6576085090637207,
          0.7215943932533264,
          0.7374238967895508,
          0.760911226272583,
          0.7332043051719666,
          0.7320140600204468,
          0.8078570365905762,
          0.6196314692497253,
          0.7210096120834351,
          0.7843784093856812,
          0.7242310643196106,
          0.7802221775054932,
          0.7857993841171265,
          0.7742214798927307,
          0.7786195278167725,
          0.7883304357528687,
          0.7568674087524414,
          0.6207243800163269,
          0.593474268913269,
          0.824474036693573,
          0.7599325776100159,
          0.7915961146354675,
          0.7286936640739441,
          0.7237927913665771,
          0.6919838190078735,
          0.6990194320678711,
          0.7009315490722656,
          0.7975490093231201,
          0.7179635763168335,
          0.652441143989563,
          0.6641214489936829,
          0.7943841218948364,
          0.748382031917572,
          0.7976454496383667,
          0.7695897817611694,
          0.6785300970077515,
          0.63286292552948,
          0.7936769723892212,
          0.7183049917221069,
          0.7632794380187988,
          0.7952139377593994,
          0.6346310973167419,
          0.7199486494064331,
          0.6305868625640869,
          0.7439855337142944,
          0.6994668841362,
          0.7700939178466797,
          0.7978904247283936,
          0.5831441879272461,
          0.6824386715888977,
          0.6068136096000671,
          0.5883458256721497,
          0.8154625296592712,
          0.7514259815216064,
          0.7228531837463379,
          0.6737142205238342,
          0.7831261157989502,
          0.6634662747383118,
          0.73470139503479,
          0.7471816539764404,
          0.6927876472473145,
          0.8454851508140564,
          0.7917292714118958,
          0.7246181964874268,
          0.6403652429580688,
          0.8126130104064941,
          0.6529824733734131,
          0.7198207974433899,
          0.7959601879119873,
          0.664237380027771,
          0.6681019067764282,
          0.7502656579017639,
          0.7301800847053528,
          0.6730273365974426,
          0.665044903755188,
          0.6783704161643982,
          0.7652838230133057,
          0.7314056158065796,
          0.7167989015579224,
          0.6626279950141907,
          0.7295277118682861,
          0.7518887519836426,
          0.7199232578277588,
          0.811078667640686,
          0.8386234045028687,
          0.7479665279388428,
          0.650009036064148,
          0.7635475397109985,
          0.6349570751190186,
          0.8046844005584717,
          0.665368914604187,
          0.6371785998344421,
          0.6791518926620483,
          0.631839394569397,
          0.6875803470611572,
          0.7947414517402649,
          0.6119474172592163,
          0.7203474044799805,
          0.6126260757446289,
          0.6835471391677856,
          0.7382742166519165,
          0.6484552025794983,
          0.7732040882110596,
          0.7730162143707275,
          0.6210347414016724,
          0.6321280002593994,
          0.7195462584495544,
          0.6556776165962219,
          0.7522452473640442,
          0.6907422542572021,
          0.769589364528656,
          0.7007110118865967,
          0.7080829739570618,
          0.6303415298461914,
          0.6626929640769958,
          0.7925757169723511,
          0.7055137753486633,
          0.7117029428482056,
          0.7762817144393921,
          0.6066666841506958,
          0.6233590245246887,
          0.6336192488670349,
          0.7480884790420532,
          0.8065310120582581,
          0.8009256720542908,
          0.7204593420028687,
          0.6347938776016235,
          0.6802735924720764,
          0.6810628771781921,
          0.7562792301177979,
          0.6221212148666382,
          0.6661161780357361,
          0.7544374465942383,
          0.6752870678901672,
          0.6761224269866943,
          0.7239396572113037,
          0.6554148197174072,
          0.7635246515274048,
          0.8076868653297424,
          0.6447880268096924,
          0.7084039449691772,
          0.6346614956855774,
          0.6101340651512146,
          0.6318001747131348,
          0.8339932560920715,
          0.6025757193565369,
          0.628035306930542,
          0.7897801995277405,
          0.7702087163925171,
          0.788689136505127,
          0.786262571811676
         ],
         "xaxis": "x",
         "y": [
          -0.04818537086248398,
          -0.038088031113147736,
          -0.10291239619255066,
          -0.0768628641963005,
          -0.07953228801488876,
          -0.013900330290198326,
          -0.1436876654624939,
          -0.09813782572746277,
          -0.11064355820417404,
          0.01681947149336338,
          -0.11059823632240295,
          -0.04583083093166351,
          -0.047187015414237976,
          -0.08892959356307983,
          -0.004947781562805176,
          -0.0367235392332077,
          -0.1164323017001152,
          -0.0865119993686676,
          -0.09293466806411743,
          -0.014721383340656757,
          0.004088509362190962,
          -0.11788389831781387,
          -0.14250865578651428,
          -0.1086399257183075,
          -0.09441378712654114,
          -0.06764179468154907,
          -0.1142343208193779,
          -0.12362304329872131,
          -0.15451616048812866,
          -0.05562175437808037,
          -0.12944673001766205,
          -0.054674938321113586,
          -0.03124057501554489,
          -0.05485288053750992,
          -0.1341041624546051,
          -0.0432882159948349,
          -0.19596116244792938,
          -0.06017058342695236,
          -0.09170939773321152,
          -0.06102496758103371,
          -0.1032005175948143,
          -0.10707872360944748,
          -0.1949545443058014,
          -0.07538662850856781,
          0.003900105133652687,
          -0.007518728729337454,
          -0.15726794302463531,
          0.016066230833530426,
          -0.03060285374522209,
          -0.0028379373252391815,
          -0.07694810628890991,
          -0.035004351288080215,
          -0.07179386168718338,
          -0.08382730185985565,
          -0.10170591622591019,
          -0.029844515025615692,
          -0.0023021730594336987,
          -0.09501054883003235,
          -0.08882103860378265,
          -0.03533446416258812,
          -0.022617559880018234,
          -0.15237122774124146,
          -0.06435658037662506,
          -0.0510510616004467,
          -0.07343842834234238,
          -0.1940988004207611,
          -0.050203900784254074,
          -0.1337442696094513,
          0.038786381483078,
          -0.09976708889007568,
          -0.045732609927654266,
          -0.01577695645391941,
          -0.16202691197395325,
          -0.11885769665241241,
          -0.0946044772863388,
          -0.10148988664150238,
          -0.07840317487716675,
          -0.06775237619876862,
          -0.045746736228466034,
          -0.053665198385715485,
          0.0010344060137867928,
          -0.1269809454679489,
          -0.060993343591690063,
          -0.11459025740623474,
          -0.15643036365509033,
          -0.08826925605535507,
          -0.030721716582775116,
          -0.06615802645683289,
          -0.030721716582775116,
          -0.14549469947814941,
          0.006138995289802551,
          -0.09799420833587646,
          -0.17598509788513184,
          -0.08391351997852325,
          -0.03728053346276283,
          -0.04652511328458786,
          -0.0047379909083247185,
          -0.023562444373965263,
          -0.06297121942043304,
          -0.022300690412521362,
          -0.03720900043845177,
          -0.20824868977069855,
          -0.16958938539028168,
          -0.0492357537150383,
          -0.06216614693403244,
          0.0008061937987804413,
          -0.1432529091835022,
          -0.07475978136062622,
          0.005124133080244064,
          -0.11998041719198227,
          -0.1691192090511322,
          -0.07140739262104034,
          -0.10704967379570007,
          -0.10903435945510864,
          -0.050595223903656006,
          -0.08849149197340012,
          -0.08069062978029251,
          -0.10744458436965942,
          -0.056663092225790024,
          -0.10803434252738953,
          -0.1421123743057251,
          -0.04789219796657562,
          -0.10053405910730362,
          -0.17108458280563354,
          -0.0038978513330221176,
          -0.042868226766586304,
          0.004859208595007658,
          -0.030844997614622116,
          -0.15722523629665375,
          -0.15455234050750732,
          -0.12292266637086868,
          -0.06515058875083923,
          0.04649735242128372,
          -0.08616903424263,
          -0.1317295879125595,
          0.004235331900417805,
          -0.08496242016553879,
          -0.05768249183893204,
          -0.056429460644721985,
          -0.1609010100364685,
          0.0071728965267539024,
          -0.11998941004276276,
          -0.02441985160112381,
          -0.10039070248603821,
          -0.14361177384853363,
          -0.16720476746559143,
          -0.03656192123889923,
          -0.08147337287664413,
          -0.06958992034196854,
          0.05535808205604553,
          -0.06027441471815109,
          -0.1013358011841774,
          -0.07922408729791641,
          -0.051423896104097366,
          0.046497270464897156,
          -0.07860448211431503,
          -0.0697263777256012,
          -0.061640623956918716,
          -0.09260169416666031,
          -0.06652236729860306,
          -0.020441893488168716,
          -0.13136762380599976,
          -0.010068461298942566,
          -0.13581472635269165,
          -0.08336585015058517,
          -0.054836586117744446,
          -0.0834115520119667,
          -0.1373378336429596,
          0.04002397134900093,
          -0.08575009554624557,
          -0.09852325916290283,
          -0.08336591720581055,
          -0.18758973479270935,
          -0.16178515553474426,
          -0.046873193234205246,
          -0.010230551473796368,
          -0.059071704745292664,
          -0.19003410637378693,
          -0.15156912803649902,
          -0.14522476494312286,
          -0.14186450839042664,
          -0.07370270043611526,
          0.022883577272295952,
          -0.04488383233547211,
          -0.004685737192630768,
          0.004382089711725712,
          -0.14794667065143585,
          -0.009437688626348972,
          -0.0794944167137146,
          -0.08278156071901321,
          -0.18084487318992615,
          -0.020510617643594742,
          -0.10682578384876251,
          -0.1223829835653305,
          -0.11771498620510101,
          -0.10609821230173111,
          -0.12548136711120605,
          0.016371769830584526,
          -0.16812345385551453,
          -0.13461361825466156,
          -0.02421063929796219,
          -0.022617559880018234,
          -0.008221852593123913,
          -0.002566477283835411,
          -0.08864624798297882,
          -0.13187646865844727,
          -0.14717623591423035,
          -0.06768770515918732,
          -0.04216710478067398,
          -0.07313866913318634,
          -0.09461510181427002,
          -0.1165352389216423,
          -0.007732807658612728,
          -0.1812131404876709,
          -0.08033902943134308,
          -0.02451149933040142,
          -0.1241152435541153,
          -0.08211010694503784,
          -0.07015590369701385,
          -0.09702267497777939,
          -0.10980051755905151,
          -0.025700120255351067,
          -0.15881410241127014,
          -0.15667493641376495,
          -0.06768770515918732,
          0.003336291527375579,
          -0.042626745998859406,
          -0.0917305201292038,
          -0.02591688744723797,
          -0.11338920891284943,
          -0.09483648836612701,
          -0.0980796292424202,
          -0.12901188433170319,
          -0.18807967007160187,
          -0.1907387673854828,
          -0.12467609345912933,
          0.018476907163858414,
          -0.03266404569149017,
          -0.10941830277442932,
          -0.13287505507469177,
          -0.12130133807659149,
          -0.022617559880018234,
          -0.10472361743450165,
          -0.11822062730789185,
          -0.09014892578125,
          -0.10900469124317169,
          -0.09068870544433594,
          -0.10907847434282303,
          -0.05196060240268707,
          -0.13406573235988617,
          -0.15048906207084656,
          -0.05656532570719719,
          -0.1438593715429306,
          -0.1612348109483719,
          -0.052377618849277496,
          -0.1110704243183136,
          -0.14817668497562408,
          -0.037997908890247345,
          -0.05837060138583183,
          -0.11832432448863983,
          -0.17652854323387146,
          0.012270590290427208,
          0.011486620642244816,
          -0.0879741758108139,
          -0.08677302300930023,
          -0.20547831058502197,
          -0.08540646731853485,
          -0.005028076469898224,
          -0.061440106481313705,
          -0.12623804807662964,
          -0.03448232263326645,
          -0.07298842072486877,
          -0.006440402939915657,
          -0.1416468322277069,
          -0.1307993233203888,
          -0.025879479944705963,
          -0.0790979415178299,
          -0.07073003798723221,
          -0.10796108096837997,
          -0.05788037180900574,
          -0.13377034664154053,
          -0.07022931426763535,
          -0.19077180325984955,
          -0.12294256687164307,
          -0.17320752143859863,
          -0.051391154527664185,
          -0.07995105534791946,
          -0.006049042567610741,
          -0.035004351288080215,
          -0.13537821173667908,
          -0.07709930092096329,
          -0.1383574903011322,
          -0.016638845205307007,
          -0.02327641472220421,
          -0.03406302630901337,
          -0.13266581296920776,
          -0.04937434941530228,
          -0.03742782771587372,
          -0.009884553030133247,
          -0.04035026580095291,
          -0.060786373913288116,
          -0.02972107194364071,
          -0.14849938452243805,
          -0.09607792645692825,
          -0.1513477861881256,
          -0.10397354513406754,
          0.012677687220275402,
          -0.13686971366405487,
          -0.08730849623680115,
          -0.09144939482212067,
          -0.16535115242004395,
          0.018017910420894623,
          -0.0786781758069992,
          -0.05360496789216995,
          -0.12292491644620895,
          -0.05741318315267563,
          -0.12967368960380554,
          -0.1980462372303009,
          0.004939020611345768,
          -0.10332376509904861,
          0.003483761101961136,
          0.0017855875194072723,
          -0.16062718629837036,
          -0.1204133927822113,
          -0.01950949989259243,
          -0.07858157157897949,
          -0.10084912180900574,
          -0.07362791150808334,
          -0.10807763785123825,
          -0.052396271377801895,
          -0.0047454070299863815,
          -0.18675591051578522,
          -0.16282519698143005,
          -0.10983968526124954,
          0.019114337861537933,
          -0.1264280378818512,
          -0.09002749621868134,
          -0.1434733271598816,
          -0.11431387066841125,
          0.004744122736155987,
          -0.07575050741434097,
          -0.08981399238109589,
          -0.09882256388664246,
          -0.07900579273700714,
          0.0215156227350235,
          0.00015860982239246368,
          -0.11959041655063629,
          0.005129370838403702,
          -0.05852050706744194,
          -0.08952073752880096,
          -0.04272719845175743,
          -0.038602523505687714,
          -0.035323332995176315,
          -0.1610402911901474,
          -0.09214873611927032,
          -0.01812903955578804,
          -0.11810044199228287,
          -0.1478443294763565,
          -0.020987382158637047,
          -0.11958152800798416,
          -0.03698309138417244,
          -0.1008952409029007,
          -0.11075153946876526,
          -0.017772680148482323,
          -0.04552936553955078,
          -0.14488448202610016,
          -0.04719502478837967,
          -0.03572080656886101,
          -0.055529844015836716,
          -0.06663890182971954,
          0.005847383756190538,
          -0.1019103080034256,
          -0.11338113248348236,
          -0.14455485343933105,
          0.0022149933502078056,
          0.021494761109352112,
          -0.1032005175948143,
          -0.05436426401138306,
          -0.06126003712415695,
          -0.06145676597952843,
          -0.1414763331413269,
          -0.04895033314824104,
          -0.12410096824169159,
          -0.06850103288888931,
          -0.07074464112520218,
          -0.09698132425546646,
          -0.05690212547779083,
          -0.13364990055561066,
          -0.0897752046585083,
          -0.03980293869972229,
          -0.03530236333608627,
          -0.03274419158697128,
          -0.015577789396047592,
          -0.07445031404495239,
          -0.11730526387691498,
          -0.007259996607899666,
          -0.05872566998004913,
          0.004090530797839165,
          0.019145146012306213,
          -0.16546639800071716,
          -0.041149117052555084,
          0.026606524363160133,
          -0.1297975480556488,
          -0.10237950086593628,
          -0.09061559289693832,
          -0.026916153728961945,
          -0.07677503675222397,
          -0.07181762158870697,
          -0.19396288692951202,
          -0.11272881180047989,
          -0.1450459212064743,
          -0.08069711923599243,
          -0.0023021730594336987,
          -0.05440070852637291,
          -0.1035761684179306,
          0.004382089711725712,
          -0.020441893488168716,
          -0.1373378336429596,
          -0.1484769582748413,
          -0.20662450790405273,
          -0.17655032873153687
         ],
         "yaxis": "y"
        },
        {
         "customdata": [
          [
           "bell pepper<br>bread crumb<br>butter<br>crab<br>lemon<br>mayonnaise"
          ],
          [
           "chili<br>fish<br>ginger<br>lemon<br>papaya<br>spinach"
          ],
          [
           "chili<br>fish<br>ginger<br>pork"
          ],
          [
           "bell pepper<br>chicken<br>chili<br>cornstarch<br>egg<br>pineapple<br>soy"
          ],
          [
           "ginger<br>mirin<br>sake<br>sesame seed<br>soy"
          ],
          [
           "coconut<br>fish<br>ginger<br>lemon<br>papaya<br>spinach"
          ],
          [
           "bean<br>calabasa<br>chili<br>coconut<br>crab<br>fish<br>ginger"
          ],
          [
           "bottle gourd<br>chicken<br>fish<br>ginger<br>spinach"
          ],
          [
           "chili<br>coconut<br>gabi<br>ginger<br>lemon<br>pork<br>shrimp"
          ],
          [
           "ginger<br>rice<br>sea<br>sesame<br>sesame seed<br>soy"
          ],
          [
           "chili<br>cornstarch<br>kangkong<br>oyster<br>sesame"
          ],
          [
           "bell pepper<br>chili<br>mussel<br>sherry<br>tomato"
          ],
          [
           "chili<br>fish<br>ginger"
          ],
          [
           "beef<br>ginger<br>sesame<br>sesame seed<br>sodium soy<br>vegetable"
          ],
          [
           "bay leaf<br>beef<br>broth<br>corn<br>potato<br>soy<br>tomato"
          ],
          [
           "chili<br>coconut<br>ginger<br>roma tomato<br>salmon"
          ],
          [
           "bangus<br>butter<br>lime<br>oyster<br>soy"
          ],
          [
           "cabbage<br>celery<br>oyster<br>pasta<br>sesame<br>soy<br>wine"
          ],
          [
           "chili<br>lemon<br>oyster<br>sesame<br>tuna"
          ],
          [
           "chili<br>cinnamon<br>peanut<br>soy<br>star anise"
          ],
          [
           "buttermilk<br>fish<br>ginger<br>lemon"
          ],
          [
           "cabbage<br>carrot<br>chicken<br>oyster<br>soy<br>worcestershire"
          ],
          [
           "chicken<br>cornstarch<br>lemon<br>soy"
          ],
          [
           "beef<br>broth<br>fish<br>ginger<br>lime<br>rice<br>rock"
          ],
          [
           "bell pepper<br>carrot<br>egg<br>lemon<br>mayonnaise<br>pickle<br>tamarind"
          ],
          [
           "chili<br>cornstarch<br>sesame<br>shrimp<br>soy<br>wine"
          ],
          [
           "ginger<br>pineapple<br>pork<br>potato<br>raisin<br>soy"
          ],
          [
           "bay leaf<br>lime<br>pork<br>potato<br>soy<br>tomato"
          ],
          [
           "carrot<br>chestnut<br>chicken<br>napa cabbage<br>shallot<br>soy"
          ],
          [
           "bay leaf<br>chicken<br>lime<br>potato<br>soy<br>tomato"
          ],
          [
           "chicken<br>fish<br>lemon<br>lime<br>shallot<br>soy"
          ],
          [
           "bell pepper<br>butter<br>chili<br>lime<br>mayonnaise"
          ],
          [
           "butter<br>ginger<br>lime<br>soy<br>tamarind<br>tilapia<br>tomato"
          ],
          [
           "cornstarch<br>ginger<br>pineapple<br>shallot<br>soy"
          ],
          [
           "carrot<br>chestnut<br>cornstarch<br>pork<br>shrimp<br>spice<br>tofu"
          ],
          [
           "fish<br>ginger<br>tamarind<br>tomato"
          ],
          [
           "bay leaf<br>pork<br>soy<br>star anise"
          ],
          [
           "chili<br>cornstarch<br>lime<br>mushroom<br>pork<br>shrimp<br>soy"
          ],
          [
           "cheese<br>chili<br>mayonnaise"
          ],
          [
           "broth<br>chicken<br>fish<br>ginger<br>lime<br>rice"
          ],
          [
           "basil<br>beef<br>bell pepper<br>elbow macaroni<br>oregano<br>tomato<br>worcestershire"
          ],
          [
           "bay leaf<br>carrot<br>celery<br>chicken<br>corn<br>ginger<br>rice"
          ],
          [
           "bell pepper<br>chicken<br>cornstarch<br>ginger<br>pineapple<br>soy"
          ],
          [
           "chicken<br>corn starch<br>lime<br>soy"
          ],
          [
           "banana ketchup<br>ginger<br>pineapple<br>pork<br>soy"
          ],
          [
           "chili<br>ginger<br>pechay<br>shallot<br>tamarind<br>tilapia<br>tomato"
          ],
          [
           "bok choy<br>mushroom<br>pork<br>soy<br>star anise<br>vinegar<br>wine"
          ],
          [
           "avocado<br>cucumber<br>honey<br>lime juice<br>mango<br>shrimp"
          ],
          [
           "chili<br>cornstarch<br>fish<br>shallot<br>soy"
          ],
          [
           "chili<br>egg<br>fish<br>ginger"
          ],
          [
           "beef<br>lime<br>soy"
          ],
          [
           "butter<br>egg<br>lime"
          ],
          [
           "annatto<br>bell pepper<br>butter<br>rice<br>shallot<br>soy"
          ],
          [
           "bitter gourd<br>cornstarch<br>oyster<br>sesame<br>sirloin<br>soy"
          ],
          [
           "bitter gourd<br>chicken<br>fish<br>ginger"
          ],
          [
           "broth<br>egg<br>fish<br>ginger<br>lime<br>rice"
          ],
          [
           "beef<br>chili<br>fish<br>lime"
          ],
          [
           "lemon<br>mango"
          ],
          [
           "cornstarch<br>lemon<br>pork<br>soy"
          ],
          [
           "butter<br>mushroom<br>parsley<br>thyme<br>wine"
          ],
          [
           "bell pepper<br>eggplant<br>ginger<br>oyster<br>pork<br>sesame<br>soy"
          ],
          [
           "bell pepper<br>cornstarch<br>oyster<br>pork<br>soy"
          ],
          [
           "beef broth<br>cornstarch<br>egg<br>mushroom<br>parsley<br>soy<br>worcestershire"
          ],
          [
           "beef broth<br>butter<br>flour<br>mushroom<br>parsley<br>worcestershire"
          ],
          [
           "banana ketchup<br>breadcrumb<br>egg<br>flour<br>oyster<br>worcestershire"
          ],
          [
           "beef<br>cornstarch<br>lemon<br>soy"
          ],
          [
           "bell pepper<br>chicken<br>laurel<br>lemon<br>potato<br>soy<br>tomato"
          ],
          [
           "banana ketchup<br>bell pepper<br>carrot<br>cornstarch<br>vinegar"
          ],
          [
           "bell pepper<br>butter<br>cheese<br>lemon<br>mayonnaise<br>salmon"
          ],
          [
           "bell pepper<br>carrot<br>chicken<br>cornstarch<br>pineapple<br>soy"
          ],
          [
           "bell pepper<br>egg<br>lemon<br>rice<br>sesame<br>soy"
          ],
          [
           "banana ketchup<br>chicken<br>lime<br>pork<br>soy"
          ],
          [
           "banana<br>laurel<br>pineapple<br>pork<br>soy<br>star anise"
          ],
          [
           "banana<br>coconut<br>laurel<br>pork<br>soy"
          ],
          [
           "bell pepper<br>carrot<br>chili<br>goat meat<br>potato<br>tomato<br>vinegar"
          ],
          [
           "bay leaf<br>beef<br>lemon<br>potato<br>soy<br>tomato"
          ],
          [
           "carrot<br>cornstarch<br>egg<br>fish<br>kalabasa<br>malunggay<br>vinegar"
          ],
          [
           "butter<br>chicken<br>lemon<br>rosemary"
          ],
          [
           "beef<br>butter<br>oyster<br>worcestershire"
          ],
          [
           "bay leaf<br>ginger<br>pork<br>sinigang sampaloc"
          ],
          [
           "banana ketchup<br>chicken<br>lemon<br>soy"
          ],
          [
           "ginger<br>lemon<br>mango<br>tilapia<br>tomato"
          ],
          [
           "lime<br>pork<br>soy"
          ],
          [
           "annatto seed<br>chicken<br>ginger<br>lemon<br>margarine<br>sinigang sampaloc"
          ],
          [
           "chili<br>coconut<br>ginger<br>pork<br>serrano<br>shrimp"
          ],
          [
           "beef<br>cornstarch<br>ginger<br>rice<br>soy<br>star anise"
          ],
          [
           "chicken<br>cornstarch<br>egg<br>flour<br>tomato ketchup<br>vinegar<br>worcestershire"
          ],
          [
           "cayenne<br>chicken<br>cornstarch<br>egg<br>flour<br>ice<br>rosemary"
          ],
          [
           "chicken<br>chili<br>ginger<br>lemon<br>patis"
          ],
          [
           "beef<br>bell pepper<br>cornstarch<br>oyster<br>soy"
          ],
          [
           "beef broth<br>pineapple<br>soy"
          ],
          [
           "bell pepper<br>cayenne<br>coconut<br>fish<br>ginger<br>mussel<br>shrimp"
          ],
          [
           "breadcrumb<br>cornstarch<br>egg<br>pechay<br>tomato<br>vinegar"
          ],
          [
           "chili<br>coconut<br>ginger<br>pork<br>shrimp"
          ],
          [
           "chili<br>coconut<br>eggplant<br>ginger<br>kamia<br>patis<br>pork"
          ],
          [
           "banana ketchup<br>lime<br>pork<br>soy"
          ],
          [
           "chili<br>margarine<br>mayonnaise<br>pork<br>soy"
          ],
          [
           "chicken<br>flour<br>lime<br>soy"
          ],
          [
           "bell pepper<br>carrot<br>egg<br>ginger<br>mayonnaise<br>relish<br>scallion"
          ],
          [
           "bagoong<br>chicken<br>chili<br>coconut<br>ginger"
          ],
          [
           "bacon<br>beef<br>beef broth<br>carrot<br>thyme<br>tomato<br>wine"
          ],
          [
           "beef<br>chili<br>rice<br>sesame<br>soy"
          ],
          [
           "fish<br>worcestershire"
          ],
          [
           "banana ketchup<br>lemon<br>pork<br>soy"
          ],
          [
           "beef broth<br>chili<br>cornstarch<br>fish<br>ginger<br>lemon"
          ],
          [
           "fish<br>ginger<br>lemon<br>tomato"
          ],
          [
           "bay leaf<br>corn<br>pork"
          ],
          [
           "banana ketchup<br>lime<br>pork<br>soy<br>vegetable"
          ],
          [
           "beef<br>ginger<br>scallion<br>soy<br>star anise"
          ],
          [
           "broccoli<br>cornstarch<br>ginger<br>oyster<br>sesame<br>wine"
          ],
          [
           "bay leaf<br>pineapple<br>pork<br>soy"
          ],
          [
           "chili<br>coconut vegetable<br>ginger<br>pork"
          ],
          [
           "beef<br>bitter gourd<br>cornstarch<br>ginger<br>oyster<br>sesame<br>soy"
          ],
          [
           "beef<br>lime<br>soy"
          ],
          [
           "chili<br>coconut<br>ginger<br>pork"
          ],
          [
           "cornstarch<br>dark soy<br>ginger<br>vegetable"
          ],
          [
           "beer<br>lime<br>pork<br>soy"
          ],
          [
           "chicken<br>chili<br>lemon<br>margarine<br>mayonnaise<br>pork"
          ],
          [
           "bagoong<br>egg<br>lime<br>pork<br>soy<br>tomato"
          ],
          [
           "bell pepper<br>chili<br>coconut<br>lemon<br>pork<br>sea"
          ],
          [
           "bagoong<br>bay leaf<br>chili<br>coconut<br>jackfruit<br>mung bean<br>pork"
          ],
          [
           "butter<br>chicharon<br>chili<br>scallion<br>soy"
          ],
          [
           "bitter gourd<br>chili<br>coconut<br>fish<br>mung bean<br>pork<br>spinach"
          ],
          [
           "butter<br>dill<br>lemon<br>salmon"
          ],
          [
           "beef broth<br>butter<br>potato<br>thyme<br>tomato<br>wine"
          ],
          [
           "lemon<br>pork<br>scallion<br>star anise"
          ],
          [
           "butter<br>cream<br>lemon"
          ],
          [
           "bell pepper<br>fish<br>lemon<br>rice<br>roma tomato<br>squid<br>wine"
          ],
          [
           "beef broth<br>lime<br>pork<br>soy"
          ],
          [
           "chili<br>cornstarch<br>soy<br>tofu<br>vegetable broth"
          ],
          [
           "juice lime<br>mango<br>shrimp<br>tomato"
          ],
          [
           "beef broth<br>cornstarch<br>pork<br>soy<br>wine"
          ],
          [
           "bell pepper<br>butter<br>mayonnaise<br>tofu"
          ],
          [
           "beef broth<br>bottle gourd<br>pork<br>tomato"
          ],
          [
           "annatto<br>lime<br>mirin<br>scallion<br>soy<br>squid<br>tomato"
          ],
          [
           "bay leaf<br>beef broth<br>bell pepper<br>carrot<br>pork<br>potato<br>tomato"
          ],
          [
           "beef<br>ginger<br>rice<br>soy<br>star anise"
          ],
          [
           "egg<br>lemon<br>pork<br>rice<br>soy"
          ],
          [
           "banana ketchup<br>lemon<br>lime<br>pork<br>soy"
          ],
          [
           "banana ketchup<br>lemon<br>pork<br>soy"
          ],
          [
           "beef broth<br>chili<br>pork"
          ],
          [
           "beef<br>cornstarch<br>oyster<br>pea<br>sherry<br>soy"
          ],
          [
           "butter<br>oyster<br>pork<br>worcestershire"
          ],
          [
           "beef broth<br>ginger<br>rice<br>scallion<br>sirloin<br>soy<br>star anise"
          ],
          [
           "bell pepper<br>lime<br>pea<br>pork<br>potato<br>soy"
          ],
          [
           "celery<br>mayonnaise<br>mustard"
          ],
          [
           "bay leaf<br>coconut<br>pork<br>soy"
          ],
          [
           "cream<br>mayonnaise<br>parsley"
          ],
          [
           "cornstarch<br>ginger<br>pork<br>rice<br>scallion<br>soy"
          ],
          [
           "banana ketchup<br>lime<br>pork"
          ],
          [
           "lemon<br>pig<br>soy"
          ],
          [
           "chicken<br>lime<br>parsley<br>tuna"
          ],
          [
           "banana ketchup<br>lime<br>scallion<br>soy<br>squid"
          ],
          [
           "chili<br>lime<br>soy<br>tuna"
          ],
          [
           "beef<br>bitter gourd<br>cornstarch<br>oyster<br>sesame<br>sherry<br>soy"
          ],
          [
           "bay leaf<br>beef<br>chicken<br>coconut<br>pork<br>soy"
          ],
          [
           "banana ketchup<br>lemon<br>soy"
          ],
          [
           "beef broth<br>broccoli<br>cornstarch<br>ginger<br>oyster<br>soy<br>wine"
          ],
          [
           "kamote<br>knob ginger<br>sea<br>tomato"
          ],
          [
           "bitter gourd<br>chili<br>coconut<br>fish<br>tuna"
          ],
          [
           "butter<br>lemon<br>salmon<br>thyme"
          ],
          [
           "beef<br>beef broth<br>lime<br>scallion<br>soy"
          ],
          [
           "beef broth<br>pineapple<br>pork<br>soy"
          ],
          [
           "chicken<br>chili<br>fish<br>ginger<br>lemon<br>papaya"
          ],
          [
           "chicken<br>chili<br>coconut<br>fish<br>ginger"
          ],
          [
           "beer<br>butter<br>cilantro<br>sea"
          ],
          [
           "basil<br>bell pepper<br>chili<br>dark soy<br>fish<br>pork"
          ],
          [
           "banana ketchup<br>lemon<br>pork<br>soy"
          ],
          [
           "ginger<br>lemon<br>plum tomato<br>scallion<br>tilapia"
          ],
          [
           "dijon mustard<br>dill<br>egg<br>mayonnaise<br>paprika"
          ],
          [
           "bay leaf<br>beef broth<br>cane<br>egg<br>oyster<br>pork<br>soy"
          ],
          [
           "chili<br>ginger<br>pork<br>shrimp"
          ],
          [
           "banana<br>corn starch<br>egg<br>pork<br>rice<br>vinegar"
          ],
          [
           "bell pepper<br>cabbage<br>carrot<br>cornstarch<br>parsley<br>pork<br>soy"
          ],
          [
           "egg<br>pork<br>rice<br>tuna<br>vinegar"
          ],
          [
           "bean<br>broth<br>cornstarch<br>fish<br>ginger<br>sesame<br>sherry wine"
          ],
          [
           "bell pepper<br>broth<br>chicken<br>cornstarch<br>oyster<br>sherry wine"
          ],
          [
           "beef broth<br>cornstarch<br>kangkong<br>oyster<br>sesame seed"
          ],
          [
           "beef<br>bell pepper<br>cornstarch<br>oyster<br>soy"
          ],
          [
           "broccoli floret<br>cornstarch<br>ginger<br>oyster<br>sherry wine<br>soy"
          ],
          [
           "bay leaf<br>chicken<br>lemon<br>pandan<br>sea"
          ],
          [
           "buttermilk<br>chili<br>fish<br>ginger<br>goat meat<br>leek<br>tamarind"
          ],
          [
           "chili<br>coconut<br>ginger<br>pork<br>shrimp"
          ],
          [
           "banana<br>chicken<br>leek<br>lemon"
          ],
          [
           "bacon<br>butter<br>egg<br>lemon"
          ],
          [
           "banana ketchup<br>butter<br>sherry wine<br>sriracha"
          ],
          [
           "flour<br>paprika<br>pork<br>sea"
          ],
          [
           "fish<br>lemon<br>parsley<br>soy"
          ],
          [
           "chicken<br>cornstarch<br>ginger<br>mushroom<br>oyster<br>sherry wine<br>tofu"
          ],
          [
           "chicken<br>cornstarch<br>egg<br>flour<br>orange juice<br>soy<br>vinegar"
          ],
          [
           "bacon<br>broccoli<br>cheese<br>mayonnaise<br>vinegar"
          ],
          [
           "bitter gourd<br>cane<br>chili<br>eggplant<br>ginger"
          ],
          [
           "bell pepper<br>butter<br>rice<br>saffron"
          ],
          [
           "mayonnaise<br>sesame<br>tomato<br>tuna"
          ],
          [
           "beef<br>chicharon<br>egg<br>ginger<br>ox<br>rice"
          ],
          [
           "chicken<br>lemon<br>rosemary<br>vegetable"
          ],
          [
           "butter<br>chili<br>parsley"
          ],
          [
           "chicken<br>ginger<br>lemon<br>rice<br>saffron<br>scallion"
          ],
          [
           "avocado<br>cayenne<br>cilantro<br>juice lime<br>plum tomato"
          ],
          [
           "cucumber<br>lettuce<br>mayonnaise<br>rosemary<br>tomato"
          ],
          [
           "fish<br>nutmeg<br>soy<br>wine"
          ],
          [
           "bell pepper<br>lemon<br>pork<br>rice<br>string bean"
          ],
          [
           "banana ketchup<br>lemon<br>pork<br>soy"
          ],
          [
           "beef broth<br>bell pepper<br>cabbage<br>pork"
          ],
          [
           "banana ketchup"
          ],
          [
           "bell pepper<br>breadcrumb<br>cheese<br>egg<br>flour<br>marinara<br>oregano"
          ],
          [
           "bell pepper<br>chestnut<br>chicken<br>ginger<br>hoisin<br>mushroom<br>orange juice"
          ],
          [
           "beef<br>bell pepper<br>cornstarch<br>soy<br>wine"
          ],
          [
           "celery<br>dijon mustard<br>dill<br>egg<br>mayonnaise"
          ],
          [
           "ginger<br>pork<br>soy"
          ],
          [
           "lemon<br>parsley<br>tuna"
          ],
          [
           "butter<br>chicken<br>corn<br>ginger<br>lemon<br>sesame<br>soy"
          ],
          [
           "cornstarch<br>oyster<br>parsley<br>soy<br>tilapia"
          ],
          [
           "bacon<br>dijon mustard<br>mayonnaise<br>parsley<br>potato<br>sea<br>worcestershire"
          ],
          [
           "carrot<br>cornstarch<br>pork<br>spice<br>tofu"
          ],
          [
           "coconut<br>fish<br>knob ginger<br>serrano"
          ],
          [
           "cornstarch<br>lemon<br>sesame<br>sesame seeds<br>sodium soy"
          ],
          [
           "cheese<br>fish<br>paprika<br>parsley"
          ],
          [
           "banana ketchup<br>lemon<br>pork<br>soy<br>worcestershire"
          ],
          [
           "flour<br>salmon<br>soy<br>worcestershire"
          ],
          [
           "chicken<br>lemon<br>parsley<br>rosemary<br>thyme"
          ],
          [
           "celery<br>chicken<br>lettuce<br>lime juice<br>mayonnaise"
          ],
          [
           "pineapple<br>pork<br>rosemary<br>soy"
          ],
          [
           "lime<br>margarine<br>mayonnaise<br>pork<br>soy"
          ],
          [
           "bell pepper<br>oyster<br>parsley<br>pea<br>soy"
          ],
          [
           "chili<br>clove<br>fish<br>hoisin<br>knob ginger<br>leek<br>sesame"
          ],
          [
           "apple<br>chicken<br>lemon<br>mayonnaise"
          ],
          [
           "beef broth<br>carrot<br>pork<br>thyme<br>wine"
          ],
          [
           "chili<br>cilantro<br>lemon<br>tomato"
          ],
          [
           "cumin<br>parsley<br>rice"
          ],
          [
           "bacon<br>broth<br>butter<br>rosemary"
          ],
          [
           "banana ketchup<br>barbecue<br>beef<br>dark soy<br>juice lime<br>worcestershire"
          ],
          [
           "apple<br>butter<br>oregano<br>pork<br>rosemary<br>thyme"
          ],
          [
           "chicken<br>flour<br>lemon<br>soy"
          ],
          [
           "chestnut<br>cream<br>mayonnaise<br>spinach"
          ],
          [
           "chicken<br>lemon<br>potato<br>rosemary"
          ],
          [
           "celery<br>cheese<br>mayonnaise"
          ],
          [
           "fish<br>ginger<br>lemon<br>malunggay"
          ],
          [
           "ginger<br>spinach<br>tomato<br>vegetable broth"
          ],
          [
           "ginger<br>pork<br>sesame<br>sesame seeds<br>soy"
          ],
          [
           "chili<br>fish<br>lemon<br>parsley<br>tomato"
          ],
          [
           "chili<br>coconut<br>fish<br>ginger"
          ],
          [
           "chili<br>coconut<br>fish<br>ginger<br>pork"
          ],
          [
           "bread crumb<br>chicken<br>egg<br>flour<br>pork<br>sherry<br>worcestershire"
          ],
          [
           "bacon<br>butter<br>clam juice<br>potato<br>thyme"
          ],
          [
           "butter<br>clam juice<br>lemon<br>linguine<br>parsley<br>shrimp<br>wine"
          ],
          [
           "celery<br>chicken<br>cornstarch<br>lemon<br>sherry<br>soy"
          ],
          [
           "bay leaf<br>beef broth<br>carrot<br>clove<br>cornstarch<br>paprika<br>potato"
          ],
          [
           "beef<br>bell pepper<br>butter<br>cheese<br>worcestershire"
          ],
          [
           "cabbage<br>carrot<br>egg<br>ginger<br>pork<br>soy"
          ],
          [
           "bell pepper<br>chicken<br>ginger<br>hoisin<br>lemon<br>sesame<br>sodium soy"
          ],
          [
           "hoisin<br>honey<br>oyster<br>pork<br>sesame<br>sherry<br>soy"
          ],
          [
           "bitter gourd<br>bread<br>carrot<br>egg<br>paprika<br>pork"
          ],
          [
           "butter<br>chicken<br>chili<br>flour<br>paprika"
          ],
          [
           "bread<br>chicken<br>dijon mustard<br>lemon<br>mayonnaise<br>soy"
          ],
          [
           "chicken<br>coconut<br>fish<br>knob ginger<br>lemon<br>papaya"
          ],
          [
           "chili<br>cilantro<br>lime juice<br>pineapple<br>tilapia<br>tomato"
          ],
          [
           "bacon<br>butter<br>lemon"
          ],
          [
           "bay leaf<br>cheese<br>chili<br>oregano<br>parsley<br>tomato"
          ],
          [
           "ginger<br>pork<br>soy"
          ],
          [
           "beef<br>chili<br>ginger<br>oyster<br>soy<br>spinach"
          ],
          [
           "cabbage<br>carrot<br>honey<br>mayonnaise<br>parsley<br>vinegar"
          ],
          [
           "beef<br>broth<br>carrot<br>celery<br>thyme<br>wine"
          ],
          [
           "basil<br>cheese<br>chicken<br>cumin<br>oregano"
          ],
          [
           "chicken<br>fish<br>ginger<br>lemon<br>oyster<br>soy"
          ],
          [
           "apple<br>broth<br>celery<br>cream<br>mayonnaise<br>walnut"
          ],
          [
           "chicken<br>mirin<br>sake<br>sesame seeds<br>soy"
          ],
          [
           "butter<br>celery<br>chicken<br>lemon<br>thyme"
          ],
          [
           "annatto<br>chicken<br>coconut<br>ginger<br>lemon<br>margarine"
          ],
          [
           "bell pepper<br>chili<br>lemon<br>rice<br>tomato"
          ],
          [
           "cilantro<br>corn kernel<br>lime juice<br>tomato"
          ],
          [
           "bay leaf<br>butter<br>chicken<br>lemon<br>potato<br>soy<br>tomato"
          ],
          [
           "chicken<br>coconut<br>fish<br>ginger<br>lemon<br>peanut<br>soy"
          ],
          [
           "cheese<br>egg<br>lemon<br>lettuce<br>worcestershire"
          ],
          [
           "broth<br>cornstarch<br>soy<br>star anise<br>worcestershire"
          ],
          [
           "cream<br>lemon<br>mayonnaise<br>shrimp"
          ],
          [
           "cheese<br>cream<br>dill<br>egg<br>mustard<br>paprika<br>salmon"
          ],
          [
           "beef<br>carrot<br>cheese<br>dill<br>egg<br>lemon<br>soy"
          ],
          [
           "chicken<br>chili<br>coconut<br>ginger<br>papaya<br>paprika<br>spinach"
          ],
          [
           "chili<br>crab<br>fish<br>ginger<br>hoisin<br>sesame"
          ],
          [
           "lemon<br>pork<br>soy"
          ],
          [
           "chicken<br>cornstarch<br>egg<br>flour<br>orange juice<br>soy<br>vinegar"
          ],
          [
           "chili<br>lemon<br>soy<br>squid<br>tomato"
          ],
          [
           "chicken<br>lemon"
          ],
          [
           "chili<br>coconut<br>fish<br>ginger<br>pork<br>shrimp"
          ],
          [
           "bean<br>chicken<br>chili<br>cornstarch<br>ginger<br>oyster<br>soy"
          ],
          [
           "beef broth<br>pineapple<br>pork<br>soy"
          ]
         ],
         "hovertemplate": "<b>%{hovertext}</b><br><br>cluster=2<br>x=%{x}<br>y=%{y}<br>ingredients=%{customdata[0]}<extra></extra>",
         "hovertext": [
          "Rellenong Alimango",
          "Chicken Halang Halang",
          "Batchoy Tagalog",
          "Panda Express Sweet Fire Chicken Copycat",
          "Teriyaki Salmon",
          "Chicken Binakol",
          "Ginataang Alimasag",
          "Tinolang Manok sa Upo",
          "Laing",
          "Ahi Shoyu Poke",
          "Kangkong and Tofu with Oyster Sauce",
          "Spicy Tahong",
          "Ginataang Hipon",
          "Korean Ground Beef",
          "Lengua Estofado",
          "Coconut Curry Salmon",
          "Bangus ala Pobre",
          "Panda Express Chow Mein Copycat",
          "Grilled Tuna Belly",
          "Chinese Boiled Peanuts",
          "Lemongrass Roasted Chicken",
          "Chicken Yakisoba",
          "Crispy Chicken Livers a la Bistek",
          "Goto",
          "Steamed Lapu Lapu with Mayonnaise",
          "Shrimp in Black Bean Sauce",
          "Pineapple Pork Ribs",
          "Pork Asado",
          "Sotanghon at Bola Bola Sopas (Cellophane Noodles and Meatball Soup)",
          "Chicken Asado",
          "Lechon Manok",
          "Sizzling Tofu",
          "Pinaputok na Tilapia",
          "Tiniim na Manok",
          "Homemade Kikiam",
          "Pinangat na Pompano",
          "Pork Spareribs Macao-style Asado",
          "Siomai",
          "Baked Salmon with Sweet Chili-Mayo Topping",
          "Arroz Caldong Paa ng Manok (Congee with Chicken Feet)",
          "American Chop Suey",
          "Chicken Rice Congee",
          "Hawaiian Chicken",
          "Filipino-style Fried Chicken",
          "Spare Ribs with Ketchup and Pineapple",
          "Sinanglay na Tilapia",
          "Pata Tim",
          "Grilled Shrimp Mango Avocado Salad",
          "Homemade Fish Balls with Spicy Fish Ball Sauce",
          "Pinatisang Manok",
          "Filipino Beef Tapa",
          "Calamansi Bars",
          "Java Rice",
          "Ampalaya con Carne",
          "Ampalaya with Chicken Feet",
          "Arroz Caldo",
          "Bagis",
          "Mango Jam",
          "Pork Chop Steak",
          "Garlic Mushroom",
          "Eggplant with Ground Pork in Oyster Sauce",
          "Pepper Pork Belly Recipe",
          "Loco Moco Recipe",
          "Pinoy Burger Steak Recipe",
          "Ham Katsu",
          "Filipino Style Beef Steak",
          "Chicken Mechado",
          "Filipino Style Escabeche",
          "Baked Garlic Salmon and Easy Tofu Sisig",
          "Malapot na Pininyahang Manok",
          "Tapa and Egg Fried Rice",
          "Filipino Style Pork and Chicken Barbecue",
          "Estofado Recipe (Probinsya Style)",
          "Paksiw na Pata",
          "Kalderetang Kambing",
          "Beef Mechado Recipe",
          "Vegetable Okoy",
          "Garlic Roast Chicken",
          "Beef Salpicao",
          "How to Cook Dinuguan Using Sinigang Mix",
          "Chicken Barbecue",
          "Pinaputok na Tilapia Recipe",
          "Pork Steak Recipe",
          "Sinigang Mix Inasal na Manok",
          "Bicol Express Recipe",
          "Beef Pares Kanto Style",
          "McDonalds Style Chicken Nuggets",
          "Crispy Fried Chicken (Spicy Version)",
          "Spicy Sotanghon Chicken Soup",
          "Beef Stir Fry",
          "Spare Ribs Hamonado",
          "Seafood Curry",
          "Sardines Fish Ball with Sweet and Sour Sauce",
          "Shrimp Laing Recipe",
          "Ginataang Tulingan",
          "Pork Barbecue",
          "Sizzling Crispy Sisig",
          "Quick and Easy Fried Chicken",
          "Steamed Fish with Mayonnaise",
          "Chicken Bicol Express",
          "Red Wine Beef Stew",
          "Galbi Recipe",
          "Bangus Salpicao",
          "Easy Liempo Inihaw",
          "Soup Number 5",
          "Inihaw na Bangus Recipe (Grilled Milkfish)",
          "Lechon Kawali Recipe",
          "Pinoy Pork Barbeque",
          "Beef Pares",
          "Beef with Broccoli",
          "Pata Hamonado",
          "Laing na Gabi Recipe",
          "Ampalaya Con Carne Recipe",
          "Bistek Tagalog (beefsteak) Recipe",
          "Bicol Express",
          "Mongolian Beef Recipe",
          "Root Beer Pork Steak",
          "Sizzling Liempo Sisig",
          "Filipino Fried Pork Chop Recipe with Tomato and Salted Egg",
          "Chicharon Bulaklak with Spicy Vinegar",
          "Pata at Hipon sa Gata na May Monggo at Langka",
          "Tuna Sisig",
          "Ginataang Monggo with Pork Recipe",
          "Baked Salmon with Lemon Garlic and Butter",
          "Oxtail Stew",
          "Crispy Lechon Belly Recipe",
          "Broiled Lobster Tail with Lemon Butter Sauce",
          "Paella Negra (Arroz Negre) Recipe",
          "Pork Chop Steak ala Bistek",
          "Crispy Tofu Sisig",
          "Ensaladang Mangga (Green Mango Salad)",
          "Asadong Baboy",
          "Sizzling Tofu",
          "Sauteed Bottle Gourd with Ground Pork and Shrimp",
          "Grilled Stuffed Squid (inihaw na pusit)",
          "Afritadang Baboy",
          "Bulalo Beef Pares Recipe",
          "Grilled Pork Belly with Garlic Fried Rice and Fried Egg - Liempo Sinangag Itlog",
          "Filipino Style Pork BBQ",
          "Inihaw na Baboy",
          "Dinardaraan Recipe (Dinuguan)",
          "Stir Fried Beef with Oyster Sauce and Snap Peas",
          "Pork Tenderloin Salpicao",
          "Crockpot Beef Pares Recipe",
          "Pork Mechado Recipe",
          "Tuna Salad Over Crackers",
          "Basic Pork Adobo Recipe",
          "Dill Dip Recipe",
          "Pork and Scallion Stir Fry Recipe",
          "Marinated Grilled Pork Chop",
          "Grilled Liver Bistek",
          "Ginisang Tuna (Canned Albacore Tuna Sauteed with Onions)",
          "Inihaw na Pusit with Scallion",
          "Inihaw na Panga ng Tuna (Grilled Tuna Jaw)",
          "Beef Stir Fry in Oyster Sauce with Ampalaya",
          "Excursion Chicken and Pork Adobo",
          "Oven Grilled Liempo",
          "Classic Beef with Broccoli Recipe",
          "Sinabawang Isda at Gulay",
          "Ginataang Yellow Fin Tuna",
          "Lemon Garlic Butter Salmon with spring salad Recipe",
          "Sirloin Beef Steak Tagalog",
          "Easy Pork Hamonado",
          "Chicken Halang-halang Recipe",
          "Spicy Chicken in Coconut Milk (Ginataang Manok)",
          "Beer and Cilantro Marinated Prawn",
          "Basil Pork Recipe",
          "Filipino Skewered Pork BBQ",
          "Grilled Stuffed Tilapia Recipe",
          "Deviled Egg Recipe",
          "Crock Pot Pork Adobo",
          "Laing with Shrimp Recipe",
          "Pork Tapa with Fried Banana and Salted Egg",
          "Pork Chop Suey Recipe",
          "Special Pinoy Pork Chop Binalot Lunch Combo Meal Recipe",
          "Easy Fish with Tausi Recipe",
          "Chicken with Oyster Sauce Stir Fry",
          "Kangkong in Oyster Sauce Recipe",
          "Quick and Easy Beef and Pepper Stir Fry",
          "Beef and Broccoli Stir Fry",
          "Filipino Roasted Chicken Pandan Recipe",
          "Sinampalukang Kambing",
          "Laing Recipe",
          "Pinaupong Manok sa Asin",
          "How to Make Eggs Benedict",
          "Chili Garlic Shrimp Stir Fry",
          "Lightly Breaded Fried Pork Chop",
          "Filipino Fish Steak Recipe",
          "Tofu with Tausi and Straw Mushrooms",
          "Orange Chicken Recipe",
          "Broccoli Bacon Salad Recipe",
          "Inun unan Recipe (Fish cooked in Vinegar)",
          "Saffron Rice Recipe",
          "Ahi Tuna Sandwich with Wasabi Mayonnaise",
          "Special Goto Recipe",
          "Rosemary Baked Chicken Recipe with Vegetables",
          "Chili Garlic Shrimp Saute",
          "Rotisserie Chicken Arroz Caldo Recipe",
          "How to Make Homemade Guacamole",
          "Quick Roast Beef Sandwich",
          "Spring Fried Chicken",
          "Linat an Recipe (Boiled Pork Soup with Lemongrass)",
          "Inihaw na Pork Chop",
          "Ginisang Repolyo",
          "Sauteed Onion and Hotdog with Ketchup",
          "Eggplant Parmigiana",
          "Barbecued Chicken Lettuce Wrap",
          "Pepper Steak",
          "Easy Egg Salad Recipe",
          "Higadillo Recipe (Pork and Liver Stew)",
          "Simple Tuna Recipe",
          "Asian Grilled Chicken and Corn",
          "Tilapia with Salted Black Beans",
          "Grilled Potato Salad",
          "Kikiam Recipe",
          "Ginataang Galunggong Recipe",
          "Teriyaki Bistek Recipe",
          "Parmesan Crusted Fish Recipe",
          "Filipino BBQ Pork Chop Recipe",
          "Breaded Fried Salmon Recipe",
          "Roasted Chicken Quarter Recipe",
          "Chicken Salad Wrap",
          "Pineapple and Soy Sauce Pork Pot Roast",
          "Lechon Sisig Recipe",
          "Easy Ham and Green Peas Saute",
          "Chili Shrimp Recipe",
          "Chicken Salad with Apples and Grapes",
          "Braised Pork Ribs Recipe",
          "Pico de Gallo",
          "Carne Asada Fried Rice",
          "Bacon and Caramelized Onion Cornbread Stuffing",
          "BBQ Beef Short Ribs Recipe",
          "Apple Glazed Pork Chop Recipe",
          "Dusty Fried Chicken Recipe",
          "Easy Spinach Dip Recipe",
          "Baked Garlic Rosemary Chicken Recipe",
          "Tuna Salad Recipe",
          "Fish in Ginger Soup",
          "Chickpea and Spinach Curry",
          "Teriyaki Pork Chop Recipe",
          "Ginisang Sardinas Recipe (Sautéed Sardines)",
          "Ginataang Hipon Recipe",
          "Spicy Laing Recipe",
          "Scotch Eggs Recipe",
          "Easy Clam Chowder Recipe",
          "Shrimp Scampi Recipe",
          "Oriental Lemon Chicken Recipe",
          "Beef Stew Recipe",
          "Ground Beef Casserole Recipe",
          "Egg Roll",
          "Asian Chicken Stir Fry Recipe",
          "Barbecued Pork Char Siu",
          "Stuffed Ampalaya",
          "Buffalo Chicken Wings Recipe",
          "Asian Chicken Barbecue Submarine Sandwich",
          "Chicken Binakol",
          "Baked Tilapia with Grilled Pineapple Salsa",
          "Bacon wrapped Scallops in Lemon Garlic Butter Sauce",
          "Marinara Sauce Recipe",
          "Slow Cooked Asian Pork Chop Recipe",
          "Beef in Oyster Sauce",
          "Apple Coleslaw Recipe",
          "Braised Beef",
          "Garlic Parmesan Chicken Wings Recipe",
          "Chicken Pandan",
          "Tarragon Chicken Salad",
          "Chicken Teriyaki Recipe",
          "Roasted Chicken Recipe",
          "Chicken Inasal Recipe",
          "Sizzling Gambas Recipe",
          "Corn Salsa Recipe",
          "Chicken Asado",
          "Chicken Satay with Peanut Sauce",
          "Caesar Salad",
          "Special Siopao Sauce Recipe",
          "Marinated Shrimp with Lemon Dill Sauce",
          "Deviled Egg with Salmon Recipe",
          "Morcon",
          "Ginataang Manok Recipe",
          "Chili Crab",
          "Inihaw na Liempo Recipe",
          "Orange Chicken Recipe",
          "Inihaw na Pusit Recipe (Grilled Squid)",
          "Filipino Fried Chicken Recipe",
          "Laing Recipe",
          "Spicy Chicken Feet",
          "Pork Hamonado Recipe"
         ],
         "legendgroup": "2",
         "marker": {
          "color": "rgb(231, 63, 116)",
          "size": 5,
          "symbol": "circle"
         },
         "mode": "markers",
         "name": "2",
         "showlegend": true,
         "type": "scattergl",
         "x": [
          0.7268414497375488,
          0.8359926342964172,
          0.7732040286064148,
          0.8075661063194275,
          0.7038652300834656,
          0.8126461505889893,
          0.8314196467399597,
          0.7778002619743347,
          0.7877708673477173,
          0.7740062475204468,
          0.723502516746521,
          0.7157049775123596,
          0.6914690136909485,
          0.7939887046813965,
          0.8052717447280884,
          0.7857086658477783,
          0.7073850631713867,
          0.8108873963356018,
          0.7427753210067749,
          0.7063133120536804,
          0.7726768255233765,
          0.8069926500320435,
          0.7159146070480347,
          0.788343071937561,
          0.7968593835830688,
          0.7709788084030151,
          0.7879505753517151,
          0.8386288285255432,
          0.7915156483650208,
          0.8306333422660828,
          0.8233546018600464,
          0.7117225527763367,
          0.8160710334777832,
          0.7237026691436768,
          0.6783700585365295,
          0.8074414730072021,
          0.6485759615898132,
          0.8180561065673828,
          0.7262842655181885,
          0.7702925801277161,
          0.7409906983375549,
          0.7930477857589722,
          0.7942896485328674,
          0.7067710757255554,
          0.8398635387420654,
          0.7642148733139038,
          0.7795208692550659,
          0.7433528900146484,
          0.777614176273346,
          0.7898311614990234,
          0.6804126501083374,
          0.6238059997558594,
          0.7581491470336914,
          0.7549028992652893,
          0.6947208642959595,
          0.793311595916748,
          0.6689015626907349,
          0.6263805627822876,
          0.686189591884613,
          0.6597675085067749,
          0.8536671996116638,
          0.7796930074691772,
          0.7629067897796631,
          0.7369378805160522,
          0.7742853164672852,
          0.7614806294441223,
          0.8304733633995056,
          0.7566549777984619,
          0.817499577999115,
          0.7954456806182861,
          0.8506488800048828,
          0.8333221673965454,
          0.7763634920120239,
          0.7901651263237,
          0.7929025888442993,
          0.8279918432235718,
          0.8146623373031616,
          0.7105684876441956,
          0.7192368507385254,
          0.6988949775695801,
          0.8313345313072205,
          0.7789164781570435,
          0.6409629583358765,
          0.7870728373527527,
          0.7264558672904968,
          0.8029150366783142,
          0.7319067716598511,
          0.6813154816627502,
          0.7319931387901306,
          0.7716516256332397,
          0.7016602754592896,
          0.811654806137085,
          0.6820011138916016,
          0.7514969110488892,
          0.8248319625854492,
          0.8355105519294739,
          0.7958903908729553,
          0.7019342184066772,
          0.7831929922103882,
          0.7797979712486267,
          0.7365079522132874,
          0.7930856347084045,
          0.6451001763343811,
          0.8452985286712646,
          0.7856449484825134,
          0.823067843914032,
          0.6492608785629272,
          0.8421613574028015,
          0.7789996266365051,
          0.7375921010971069,
          0.7182701826095581,
          0.7863657474517822,
          0.7928775548934937,
          0.6804124116897583,
          0.7106584310531616,
          0.6863378882408142,
          0.6609970331192017,
          0.7906591892242432,
          0.8217695355415344,
          0.8068761825561523,
          0.8151729106903076,
          0.7177115678787231,
          0.81032395362854,
          0.688543975353241,
          0.7593636512756348,
          0.6500551700592041,
          0.666822612285614,
          0.7811849117279053,
          0.7753423452377319,
          0.6786279678344727,
          0.6625625491142273,
          0.7268995642662048,
          0.7560520172119141,
          0.6922621726989746,
          0.805850625038147,
          0.7809223532676697,
          0.7832629084587097,
          0.817027747631073,
          0.8460106253623962,
          0.8452985286712646,
          0.6964122653007507,
          0.7845417261123657,
          0.7131085395812988,
          0.7983185648918152,
          0.7976529598236084,
          0.7389925718307495,
          0.742957592010498,
          0.6795560121536255,
          0.7918846607208252,
          0.7770237326622009,
          0.626956582069397,
          0.7663428783416748,
          0.8086910247802734,
          0.6931362152099609,
          0.7811864614486694,
          0.7746210098266602,
          0.8245466947555542,
          0.7739869356155396,
          0.6628944873809814,
          0.7446641325950623,
          0.6932816505432129,
          0.7868368029594421,
          0.7507933974266052,
          0.8339129686355591,
          0.8450794219970703,
          0.6762993931770325,
          0.806069016456604,
          0.8452985286712646,
          0.765612006187439,
          0.6881502270698547,
          0.7714388966560364,
          0.6806814670562744,
          0.7688496112823486,
          0.8458985686302185,
          0.8370240926742554,
          0.7706501483917236,
          0.7064129114151001,
          0.7566331028938293,
          0.7716516256332397,
          0.7617862224578857,
          0.7422308921813965,
          0.8234131932258606,
          0.7514969110488892,
          0.7514625787734985,
          0.7615357041358948,
          0.7700116634368896,
          0.6348019242286682,
          0.7591588497161865,
          0.7517169713973999,
          0.7000393271446228,
          0.7651298642158508,
          0.6616820096969604,
          0.6364676356315613,
          0.7315736413002014,
          0.7293851375579834,
          0.6179183721542358,
          0.6538064479827881,
          0.7800252437591553,
          0.703628420829773,
          0.7628783583641052,
          0.72565758228302,
          0.717632532119751,
          0.8452985286712646,
          0.7480746507644653,
          0.6313409805297852,
          0.7377607226371765,
          0.6759049296379089,
          0.6950404644012451,
          0.728598952293396,
          0.6847320795059204,
          0.6964942812919617,
          0.8200479745864868,
          0.7386074066162109,
          0.7336551547050476,
          0.6300125122070312,
          0.639663577079773,
          0.7602023482322693,
          0.7411178350448608,
          0.7942229509353638,
          0.7726943492889404,
          0.6818349957466125,
          0.7657228708267212,
          0.6978836059570312,
          0.7948903441429138,
          0.7424331903457642,
          0.7438243627548218,
          0.670995831489563,
          0.7309662103652954,
          0.751072108745575,
          0.6312680840492249,
          0.6815228462219238,
          0.7787618041038513,
          0.6616508960723877,
          0.7032835483551025,
          0.6855583786964417,
          0.7492308020591736,
          0.639316976070404,
          0.6978583335876465,
          0.6472833156585693,
          0.7562516331672668,
          0.813843846321106,
          0.805739164352417,
          0.8523896932601929,
          0.7579228281974792,
          0.7542273998260498,
          0.6916522979736328,
          0.7813425660133362,
          0.7715944051742554,
          0.7665070295333862,
          0.8244786262512207,
          0.7772945761680603,
          0.7993088960647583,
          0.7051514983177185,
          0.6481420993804932,
          0.7814528942108154,
          0.8046749234199524,
          0.736405074596405,
          0.7035104036331177,
          0.7432302236557007,
          0.6847320795059204,
          0.8337705135345459,
          0.7753061652183533,
          0.7166041135787964,
          0.7397732138633728,
          0.8370413184165955,
          0.756294846534729,
          0.696140706539154,
          0.7830688953399658,
          0.7066918015480042,
          0.7787752151489258,
          0.6718776822090149,
          0.8304275870323181,
          0.8251805305480957,
          0.7931671142578125,
          0.7156013250350952,
          0.7207335233688354,
          0.7666359543800354,
          0.8279255628585815,
          0.8195086121559143,
          0.8359113335609436,
          0.6858277916908264,
          0.7000393271446228,
          0.7974765300750732,
          0.6621435880661011,
          0.8291075229644775,
          0.7992837429046631,
          0.7507933974266052
         ],
         "xaxis": "x",
         "y": [
          0.040752291679382324,
          0.05887967720627785,
          0.0754905492067337,
          0.0020490260794758797,
          0.2056216448545456,
          -0.031281523406505585,
          -0.05027789622545242,
          -0.008894626051187515,
          0.0871191918849945,
          0.02402638830244541,
          0.08194904774427414,
          0.11558905243873596,
          0.14935708045959473,
          0.024987276643514633,
          -0.002486143261194229,
          0.06417474150657654,
          0.06658989191055298,
          0.022044507786631584,
          0.0317995622754097,
          0.17317506670951843,
          0.14556920528411865,
          0.14594003558158875,
          0.14494091272354126,
          0.013474157080054283,
          0.05474131554365158,
          0.15027278661727905,
          0.019921530038118362,
          0.06192464381456375,
          -0.01886831782758236,
          0.005990666802972555,
          0.10087036341428757,
          0.20972800254821777,
          0.11544308066368103,
          0.15406325459480286,
          0.05889732018113136,
          -0.014784365892410278,
          0.1631452441215515,
          0.0914798155426979,
          0.08500096946954727,
          0.034174174070358276,
          0.14280270040035248,
          -0.004817581735551357,
          0.11593493819236755,
          0.09030143916606903,
          0.030947154387831688,
          0.04932298883795738,
          0.1948346495628357,
          0.1345902532339096,
          0.0827639028429985,
          0.033804379403591156,
          0.1975749284029007,
          0.09554246813058853,
          0.06915600597858429,
          0.08398821204900742,
          0.10470137745141983,
          -0.006261360831558704,
          0.16126367449760437,
          0.09834220260381699,
          0.17768767476081848,
          0.15200254321098328,
          0.03427329659461975,
          0.09488481283187866,
          0.14258547127246857,
          0.06927947700023651,
          -0.010395422577857971,
          0.154889315366745,
          0.02940286695957184,
          0.1549861878156662,
          -0.013962027616798878,
          0.023736510425806046,
          0.0655050128698349,
          0.002947123721241951,
          0.026834342628717422,
          0.01813444122672081,
          0.17064595222473145,
          0.028604231774806976,
          0.022396303713321686,
          0.10988296568393707,
          0.16859041154384613,
          0.15099310874938965,
          0.0296771340072155,
          0.004681579768657684,
          0.1638568639755249,
          0.03428434953093529,
          0.059319883584976196,
          0.03435521200299263,
          0.1486605554819107,
          0.1788892149925232,
          0.13031364977359772,
          0.05606836825609207,
          0.13262486457824707,
          0.022339198738336563,
          0.077894426882267,
          0.04259190708398819,
          -0.015320929698646069,
          0.07925981283187866,
          0.038773275911808014,
          0.08292286098003387,
          0.017433200031518936,
          0.0062925368547439575,
          0.04154695197939873,
          0.002633899450302124,
          0.1523122936487198,
          0.0584467314183712,
          0.18269172310829163,
          -0.00583278015255928,
          0.07087782770395279,
          -0.002922401763498783,
          0.08194085210561752,
          0.09082906693220139,
          0.18750427663326263,
          0.06840752810239792,
          0.10002803057432175,
          0.19757488369941711,
          0.12124007940292358,
          0.08918594568967819,
          0.15169280767440796,
          0.057122547179460526,
          -0.025199279189109802,
          0.16078323125839233,
          -0.048894476145505905,
          0.1266200691461563,
          -0.042778268456459045,
          0.11540951579809189,
          0.0010600322857499123,
          0.15273752808570862,
          0.12396565079689026,
          0.03549196943640709,
          0.1742313653230667,
          0.11912664771080017,
          0.12321853637695312,
          0.09792894124984741,
          0.07188642024993896,
          0.04964146390557289,
          0.0489407479763031,
          -0.00009150314144790173,
          0.030811283737421036,
          -0.03384111821651459,
          0.09525465965270996,
          0.0584467314183712,
          0.08949480950832367,
          0.04037359356880188,
          0.19641490280628204,
          0.07322491705417633,
          0.010384899564087391,
          0.03053354099392891,
          0.14740365743637085,
          0.10107535123825073,
          0.020260894671082497,
          0.1070706769824028,
          0.11903579533100128,
          0.07053514569997787,
          -0.006467198953032494,
          0.1461140662431717,
          0.11484578251838684,
          0.04463738948106766,
          0.09419333934783936,
          0.0659722238779068,
          0.0844360738992691,
          0.04234722629189491,
          0.1408780813217163,
          0.15820498764514923,
          0.049995794892311096,
          0.038370776921510696,
          -0.013897561468183994,
          0.0667431503534317,
          0.16780227422714233,
          0.05844682455062866,
          0.007839083671569824,
          0.14373332262039185,
          0.0856141597032547,
          0.07921835035085678,
          0.1619686633348465,
          0.010256282053887844,
          0.17869210243225098,
          0.1274612993001938,
          0.16147178411483765,
          0.01761956699192524,
          0.05606836825609207,
          0.07175688445568085,
          0.06513480842113495,
          -0.004067402333021164,
          0.04259190708398819,
          0.009037386626005173,
          0.0030500628054142,
          0.11972377449274063,
          0.10984673351049423,
          0.15104307234287262,
          0.02619188278913498,
          0.1803208440542221,
          0.05417110398411751,
          0.13398878276348114,
          0.1252061277627945,
          0.06373090296983719,
          0.05157153308391571,
          0.09901831299066544,
          0.07029338926076889,
          0.13908962905406952,
          0.17118923366069794,
          0.04954231157898903,
          0.10210387408733368,
          0.04539758712053299,
          0.05844682455062866,
          0.06610709428787231,
          0.11522495746612549,
          0.022003713995218277,
          0.1836162954568863,
          0.2128339409828186,
          0.12220663577318192,
          0.14072562754154205,
          0.14273619651794434,
          0.007766076363623142,
          0.05998848378658295,
          0.09486735612154007,
          0.09453821182250977,
          0.11596424877643585,
          0.12371645867824554,
          0.027975592762231827,
          0.20631569623947144,
          0.14028531312942505,
          0.1386842578649521,
          0.13113267719745636,
          0.19069945812225342,
          0.10335119813680649,
          0.12760232388973236,
          0.12159619480371475,
          0.18219837546348572,
          0.09866448491811752,
          0.09253659844398499,
          0.13578876852989197,
          0.1049995869398117,
          0.19254350662231445,
          0.16727139055728912,
          0.0491085983812809,
          0.0864342451095581,
          0.0633934810757637,
          0.09577963501214981,
          0.13126468658447266,
          0.11853471398353577,
          0.051932498812675476,
          0.023411761969327927,
          0.10822468996047974,
          0.018159734085202217,
          0.03758108615875244,
          0.048478733748197556,
          0.2023778110742569,
          0.17105919122695923,
          0.12138927727937698,
          0.09445680677890778,
          -0.045540113002061844,
          0.20346710085868835,
          0.1669306457042694,
          0.04665936902165413,
          0.07446874678134918,
          -0.016413185745477676,
          0.006107044406235218,
          0.11218742281198502,
          0.14846116304397583,
          0.12241952121257782,
          0.14072562754154205,
          0.0653465986251831,
          0.19934998452663422,
          0.09885779768228531,
          0.09226857125759125,
          0.04360584169626236,
          0.11304385960102081,
          0.06369893252849579,
          0.05528322234749794,
          0.10674619674682617,
          0.029405899345874786,
          0.0784192681312561,
          0.024120589718222618,
          -0.02657536044716835,
          0.06181522086262703,
          0.1825329214334488,
          0.08228759467601776,
          0.0017122142016887665,
          0.004665199667215347,
          0.020492296665906906,
          0.02468085289001465,
          0.18733078241348267,
          0.1803208440542221,
          0.11803659051656723,
          0.15233656764030457,
          -0.027417168021202087,
          0.038018085062503815,
          0.049995794892311096
         ],
         "yaxis": "y"
        },
        {
         "customdata": [
          [
           "bagoong<br>tilapia"
          ],
          [
           "coconut<br>pandan<br>rice"
          ],
          [
           "coconut<br>jackfruit<br>rice"
          ],
          [
           "coconut"
          ],
          [
           "coconut<br>rice"
          ],
          [
           "butter<br>vanilla"
          ],
          [
           "coconut<br>rice"
          ],
          [
           "coconut"
          ],
          [
           "cream<br>graham"
          ],
          [
           "butter<br>egg<br>milk<br>potato<br>yeast"
          ],
          [
           "cornstarch<br>egg<br>ice"
          ],
          [
           "beef"
          ],
          [
           "egg<br>roma tomato"
          ],
          [
           "cornstarch<br>egg<br>fish<br>shallot"
          ],
          [
           "cornstarch<br>oyster<br>pork"
          ],
          [
           "coconut<br>jackfruit<br>rice"
          ],
          [
           "coconut<br>rice"
          ],
          [
           "coconut<br>rice<br>sesame seeds"
          ],
          [
           "jackfruit<br>sago"
          ],
          [
           "banana<br>butter<br>egg<br>pandan"
          ],
          [
           "breadcrumb<br>butter<br>egg<br>milk"
          ],
          [
           "coconut<br>rice"
          ],
          [
           "coconut"
          ],
          [
           "cream tartar<br>egg<br>milk"
          ],
          [
           "cornstarch"
          ],
          [
           "coconut<br>cornstarch"
          ],
          [
           "coconut<br>jackfruit<br>rice"
          ],
          [
           "coconut<br>mung bean<br>rice"
          ],
          [
           "coconut<br>cornstarch<br>jackfruit"
          ],
          [
           "carrot<br>chicken<br>soy<br>spring roll"
          ],
          [
           "butter"
          ],
          [
           "coconut<br>cornstarch"
          ],
          [
           "coconut<br>rice"
          ],
          [
           "coconut<br>sago"
          ],
          [
           "coconut<br>rice"
          ],
          [
           "butter"
          ],
          [
           "pork"
          ],
          [
           "egg<br>rice"
          ],
          [
           "cream<br>food<br>mango"
          ],
          [
           "egg<br>roma tomato"
          ],
          [
           "coconut<br>rice"
          ],
          [
           "milk<br>rice"
          ],
          [
           "jackfruit"
          ],
          [
           "coconut"
          ],
          [
           "cornstarch<br>egg<br>okra"
          ],
          [
           "banana<br>rice"
          ],
          [
           "coffee<br>egg<br>vanilla"
          ],
          [
           "coconut<br>pandan"
          ],
          [
           "oyster<br>roma tomato<br>shrimp"
          ],
          [
           "banana<br>jackfruit<br>spring roll"
          ],
          [
           "cornstarch"
          ],
          [
           "carrot<br>cheese<br>chestnut<br>spring roll"
          ],
          [
           "potato"
          ],
          [
           "butter<br>egg<br>flour<br>milk<br>yeast"
          ],
          [
           "egg<br>pea<br>potato"
          ],
          [
           "banana<br>bean<br>ice<br>jackfruit<br>milk<br>yam"
          ],
          [
           "butter<br>egg<br>flour<br>milk<br>yeast"
          ],
          [
           "cheese<br>spaghetti"
          ],
          [
           "pork"
          ],
          [
           "pork<br>rock"
          ],
          [
           "beef<br>fish"
          ],
          [
           "chocolate<br>cream tartar<br>egg<br>flour<br>mango<br>whipping cream"
          ],
          [
           "egg"
          ],
          [
           "cheese<br>spring roll"
          ],
          [
           "egg"
          ],
          [
           "bean<br>carrot"
          ],
          [
           "cheese<br>spring roll"
          ],
          [
           "almond<br>cherry<br>egg<br>flour<br>margarine<br>nutmeg<br>raisin"
          ],
          [
           "coconut<br>rice<br>yam"
          ],
          [
           "coconut"
          ],
          [
           "coconut"
          ],
          [
           "egg<br>eggplant<br>tomato"
          ],
          [
           "butter<br>cheese"
          ],
          [
           "cream<br>egg<br>graham"
          ],
          [
           "rice"
          ],
          [
           "coconut<br>pandan"
          ],
          [
           "corn starch<br>shrimp"
          ],
          [
           "coconut<br>jackfruit<br>pandan<br>rice<br>spring roll"
          ],
          [
           "cornstarch<br>egg<br>soy"
          ],
          [
           "butter<br>chocolate<br>cream<br>egg<br>soda"
          ],
          [
           "butter<br>egg<br>milk<br>yeast"
          ],
          [
           "butter<br>cassava<br>cheese<br>milk"
          ],
          [
           "cream tartar<br>egg<br>graham<br>vanilla"
          ],
          [
           "cream tartar<br>egg<br>vanilla"
          ],
          [
           "butter<br>egg<br>milk"
          ],
          [
           "rice"
          ],
          [
           "butter<br>egg<br>ice"
          ],
          [
           "coconut<br>gabi<br>rice"
          ],
          [
           "coconut"
          ],
          [
           "cheese<br>pasta"
          ],
          [
           "butter<br>egg<br>flour<br>potato<br>yeast"
          ],
          [
           "butter<br>egg"
          ],
          [
           "butter<br>egg<br>flour<br>milk<br>mung bean<br>yeast"
          ],
          [
           "egg<br>vegetable"
          ],
          [
           "rice"
          ],
          [
           "egg"
          ],
          [
           "mango<br>milk<br>tapioca pearl"
          ],
          [
           "butter<br>coconut<br>egg<br>vanilla"
          ],
          [
           "coconut<br>food"
          ],
          [
           "egg<br>eggplant<br>tomato"
          ],
          [
           "egg"
          ],
          [
           "butter<br>egg"
          ],
          [
           "coconut<br>rice"
          ],
          [
           "chili<br>cornstarch<br>egg"
          ],
          [
           "egg"
          ],
          [
           "chili<br>pork<br>spring roll"
          ],
          [
           "peanut"
          ],
          [
           "banana<br>butter<br>egg<br>milk"
          ],
          [
           "milk<br>peanut butter"
          ],
          [
           "chestnut<br>sausage<br>wonton"
          ],
          [
           "egg<br>milk"
          ],
          [
           "egg<br>eggplant"
          ],
          [
           "food<br>pork"
          ],
          [
           "butter<br>cheese<br>mushroom<br>parsley<br>pasta<br>whipping cream"
          ],
          [
           "flour<br>pork<br>spaghetti"
          ],
          [
           "bell pepper<br>breadcrumb<br>butter<br>chicken<br>egg<br>flour"
          ],
          [
           "bell pepper<br>carrot<br>egg<br>eggplant"
          ],
          [
           "flour"
          ],
          [
           "cheese<br>macaroni<br>parsley<br>pasta"
          ],
          [
           "egg<br>pork"
          ],
          [
           "bagoong<br>coconut<br>kalabasa<br>malunggay<br>string bean"
          ],
          [
           "butter<br>chicken"
          ],
          [
           "egg<br>potato"
          ],
          [
           "egg<br>eggplant"
          ],
          [
           "egg<br>rice"
          ],
          [
           "coconut<br>rice"
          ],
          [
           "coconut vegetable<br>eggplant<br>malunggay<br>tofu"
          ],
          [
           "butter<br>chicken<br>flour"
          ],
          [
           "egg<br>milk<br>vanilla"
          ],
          [
           "rice"
          ],
          [
           "milk<br>peanut"
          ],
          [
           "egg<br>spaghetti"
          ],
          [
           "cream<br>egg<br>gelatin<br>milk<br>vanilla"
          ],
          [
           "coconut<br>rice"
          ],
          [
           "beef<br>sinigang sampaloc"
          ],
          [
           "chicken<br>lemon<br>potato"
          ],
          [
           "chicken<br>malunggay<br>patis"
          ],
          [
           "egg<br>flour<br>pasta<br>tomato"
          ],
          [
           "egg<br>eggplant"
          ],
          [
           "bread crumb<br>chicken<br>egg<br>flour"
          ],
          [
           "beef<br>egg"
          ],
          [
           "egg<br>pea<br>rice"
          ],
          [
           "pork"
          ],
          [
           "beef<br>breadcrumb<br>egg<br>kalabasa"
          ],
          [
           "cornstarch<br>egg<br>mung bean"
          ],
          [
           "coconut<br>rice<br>yam"
          ],
          [
           "beef<br>egg<br>rice"
          ],
          [
           "tilapia"
          ],
          [
           "coconut<br>rice<br>sea"
          ],
          [
           "banana<br>jackfruit<br>lumpia"
          ],
          [
           "carrot<br>chicken<br>egg<br>lumpia"
          ],
          [
           "chicken<br>egg<br>flour"
          ],
          [
           "carrot<br>pork"
          ],
          [
           "egg<br>sea<br>tomato"
          ],
          [
           "chicken<br>coconut vegetable<br>kalabasa<br>malunggay"
          ],
          [
           "chocolate<br>cocoa<br>egg<br>flour<br>vanilla"
          ],
          [
           "coconut<br>cornstarch<br>kernel corn<br>milk"
          ],
          [
           "coconut vegetable<br>kalabasa<br>pork<br>sitaw"
          ],
          [
           "okra<br>tomato"
          ],
          [
           "rice"
          ],
          [
           "okra<br>patis<br>sinigang sampaloc<br>sitaw<br>tomato"
          ],
          [
           "butter<br>egg"
          ],
          [
           "cake flour<br>egg<br>milk<br>vanilla"
          ],
          [
           "bell pepper<br>potato"
          ],
          [
           "egg<br>eggplant"
          ],
          [
           "parsley<br>pasta<br>sun tomato"
          ],
          [
           "mussel<br>spinach"
          ],
          [
           "butter<br>coconut<br>rice"
          ],
          [
           "butter<br>food<br>milk"
          ],
          [
           "pork"
          ],
          [
           "chicken<br>fish<br>sinigang sampaloc"
          ],
          [
           "bread crumb<br>chicken<br>egg<br>flour"
          ],
          [
           "cheese<br>egg"
          ],
          [
           "butter<br>cassava<br>coconut<br>egg<br>milk"
          ],
          [
           "cornstarch<br>flour"
          ],
          [
           "butter<br>cheese<br>spaghetti<br>whipping cream"
          ],
          [
           "egg<br>milk<br>vanilla"
          ],
          [
           "coconut<br>rice"
          ],
          [
           "egg<br>eggplant"
          ],
          [
           "beef<br>parsley<br>potato"
          ],
          [
           "carrot<br>celery<br>chicken<br>pasta"
          ],
          [
           "butter<br>mussel<br>parsley"
          ],
          [
           "carrot<br>celery<br>macaroni"
          ],
          [
           "coconut"
          ],
          [
           "bagoong<br>eggplant<br>okra"
          ],
          [
           "egg<br>flour<br>milk<br>vanilla"
          ],
          [
           "egg<br>rice"
          ],
          [
           "banana<br>jackfruit<br>lumpia"
          ],
          [
           "coconut<br>cornstarch<br>milk"
          ],
          [
           "beef<br>egg<br>rice"
          ],
          [
           "butter<br>cocoa<br>flour<br>vanilla"
          ],
          [
           "chicken<br>misua<br>patola<br>pork"
          ],
          [
           "rice"
          ],
          [
           "bagoong<br>eggplant<br>flour"
          ],
          [
           "coconut vegetable<br>pork<br>snake bean"
          ],
          [
           "banana<br>chocolate<br>egg<br>flour<br>soda"
          ],
          [
           "egg"
          ],
          [
           "egg<br>flour<br>pork"
          ],
          [
           "egg<br>rice"
          ],
          [
           "eggplant<br>okra"
          ],
          [
           "bagoong<br>coconut<br>kangkong<br>soy"
          ],
          [
           "egg<br>rice<br>scallion"
          ],
          [
           "crab<br>egg<br>eggplant"
          ],
          [
           "egg<br>rice"
          ],
          [
           "calabaza squash<br>fish<br>string bean"
          ],
          [
           "beef<br>breadcrumb<br>egg<br>pork"
          ],
          [
           "breadcrumb<br>egg<br>flour<br>pork<br>potato"
          ],
          [
           "butter<br>butternut squash"
          ],
          [
           "banana<br>cilantro<br>egg<br>flour tortilla"
          ],
          [
           "egg"
          ],
          [
           "chicken<br>flour<br>sea"
          ],
          [
           "egg"
          ],
          [
           "pork"
          ],
          [
           "banana<br>ice<br>milk<br>vanilla"
          ],
          [
           "egg<br>eggplant<br>scallion"
          ],
          [
           "basil<br>butter<br>cheese<br>macaroni<br>sausage"
          ],
          [
           "coconut<br>yam"
          ],
          [
           "breadcrumb<br>carrot<br>egg<br>pork"
          ],
          [
           "egg<br>rice"
          ],
          [
           "breadcrumb<br>egg<br>sea<br>tilapia"
          ],
          [
           "pork"
          ],
          [
           "beef<br>fish"
          ],
          [
           "beef<br>cheese"
          ],
          [
           "cornstarch<br>egg<br>flour"
          ],
          [
           "bread crumb<br>chicken<br>egg<br>lumpia"
          ],
          [
           "bitter gourd<br>butternut squash<br>chicken"
          ],
          [
           "rice"
          ],
          [
           "basil<br>cheese<br>pasta"
          ],
          [
           "egg<br>pea<br>rice"
          ],
          [
           "bread<br>pork"
          ],
          [
           "salmon"
          ],
          [
           "bangus<br>fish<br>ginger<br>malunggay"
          ],
          [
           "mushroom<br>pork"
          ],
          [
           "cheese<br>pasta"
          ],
          [
           "egg"
          ],
          [
           "basil<br>cheese<br>marinara<br>pasta<br>sausage"
          ],
          [
           "coconut<br>rice"
          ],
          [
           "chicken<br>cream"
          ],
          [
           "lettuce"
          ],
          [
           "soy<br>tuna"
          ],
          [
           "soy<br>string bean<br>tomato"
          ],
          [
           "annatto<br>chicken"
          ],
          [
           "cayenne<br>potato"
          ],
          [
           "milk<br>parsley<br>potato"
          ],
          [
           "bean<br>cheese<br>chicken<br>cream<br>cumin<br>flour tortilla"
          ],
          [
           "bread crumb<br>egg<br>pork"
          ],
          [
           "cheese<br>spaghetti"
          ],
          [
           "chicken<br>egg<br>eggplant"
          ],
          [
           "cheese<br>egg"
          ],
          [
           "butter<br>buttermilk<br>egg<br>soda"
          ],
          [
           "barbecue<br>chicken"
          ],
          [
           "egg<br>flour<br>milk"
          ],
          [
           "bottle gourd<br>egg<br>shrimp<br>wonton"
          ],
          [
           "coconut<br>rice"
          ],
          [
           "beef<br>chili<br>pasta<br>vegetable"
          ],
          [
           "tomato"
          ],
          [
           "cheese"
          ],
          [
           "cornstarch<br>flour<br>sea"
          ],
          [
           "flour"
          ],
          [
           "chicken<br>rice<br>scallion"
          ],
          [
           "bacon<br>cane<br>chicken"
          ],
          [
           "bagoong<br>ice<br>okra"
          ],
          [
           "potato<br>sea"
          ],
          [
           "butter<br>egg"
          ],
          [
           "chicken<br>oyster<br>soy<br>string bean"
          ],
          [
           "barbecue<br>butter<br>pork<br>vegetable"
          ],
          [
           "egg<br>mushroom<br>spinach"
          ],
          [
           "breadcrumb<br>egg<br>flour<br>pork"
          ],
          [
           "butter<br>cheese"
          ],
          [
           "cornstarch<br>salmon"
          ],
          [
           "basil<br>cheese"
          ],
          [
           "milk<br>rice"
          ],
          [
           "bell pepper<br>butter<br>egg<br>mushroom"
          ],
          [
           "sesame<br>spinach<br>tofu<br>vegetable"
          ],
          [
           "butter"
          ],
          [
           "beef<br>butter<br>cheese<br>parsley<br>pasta<br>whipping cream"
          ],
          [
           "carrot<br>celery<br>chicken"
          ],
          [
           "rice"
          ],
          [
           "cheese<br>turkey"
          ],
          [
           "broth<br>cheese<br>turkey"
          ],
          [
           "cornstarch<br>egg<br>flour"
          ],
          [
           "chicken<br>chili<br>egg<br>flour"
          ],
          [
           "okra"
          ],
          [
           "bell pepper<br>broccoli<br>pasta"
          ],
          [
           "bean<br>cream<br>milk<br>mushroom"
          ],
          [
           "bacon"
          ],
          [
           "beef<br>pork<br>potato<br>sinigang"
          ],
          [
           "banana"
          ],
          [
           "pork"
          ],
          [
           "barbecue<br>chicken<br>rice"
          ],
          [
           "confectioner<br>egg<br>flour<br>vanilla"
          ],
          [
           "pasta<br>pig<br>pork<br>spring"
          ],
          [
           "coconut<br>crab<br>fish<br>string bean"
          ],
          [
           "cheese<br>mushroom<br>pea"
          ],
          [
           "bread crumb<br>egg<br>flour<br>milk"
          ],
          [
           "spinach"
          ],
          [
           "chicken<br>corn<br>malunggay"
          ],
          [
           "butter<br>cheese<br>mussel"
          ],
          [
           "chocolate<br>vanilla<br>whipping cream"
          ],
          [
           "butter<br>peanut<br>soda"
          ],
          [
           "coconut<br>mung bean<br>rice"
          ],
          [
           "cornstarch"
          ],
          [
           "crab<br>pasta<br>rice<br>whipping cream"
          ],
          [
           "cheese<br>lemon<br>rock<br>spring"
          ],
          [
           "basil<br>broth<br>chicken<br>cream<br>pasta"
          ],
          [
           "egg<br>flour<br>paprika<br>potato"
          ],
          [
           "peanut"
          ],
          [
           "egg"
          ],
          [
           "basil<br>butter<br>cheese<br>pasta<br>whipping cream"
          ],
          [
           "banana<br>vanilla"
          ],
          [
           "breadcrumb<br>egg<br>flour<br>squid"
          ],
          [
           "rice"
          ],
          [
           "cornstarch<br>egg<br>mung bean<br>shrimp"
          ],
          [
           "egg<br>ice<br>spinach"
          ],
          [
           "confectioner<br>cream tartar<br>egg<br>milk<br>vanilla"
          ],
          [
           "coconut"
          ],
          [
           "annatto seed<br>chicken<br>cornstarch<br>flour"
          ],
          [
           "coconut<br>kernel corn<br>rice"
          ],
          [
           "butter<br>milk<br>potato"
          ],
          [
           "butter<br>chicken<br>flour"
          ],
          [
           "potato"
          ],
          [
           "butter<br>flour<br>milk"
          ],
          [
           "potato"
          ],
          [
           "pork"
          ],
          [
           "basil<br>cheese<br>pasta"
          ],
          [
           "butter"
          ],
          [
           "coconut<br>rice<br>sesame seeds"
          ],
          [
           "beef<br>clove<br>eggplant"
          ],
          [
           "butter<br>milk<br>vanilla<br>yam"
          ],
          [
           "cornstarch<br>egg<br>lemon<br>milk"
          ],
          [
           "butter<br>crab<br>egg"
          ],
          [
           "beef<br>cabbage<br>egg<br>star anise"
          ],
          [
           "bean<br>rice<br>sesame seeds"
          ],
          [
           "rice"
          ],
          [
           "annatto<br>cornstarch<br>egg"
          ],
          [
           "cocoa<br>milk<br>rice"
          ],
          [
           "cheese<br>spring roll"
          ],
          [
           "potato"
          ],
          [
           "butter<br>coconut<br>egg<br>milk"
          ]
         ],
         "hovertemplate": "<b>%{hovertext}</b><br><br>cluster=6<br>x=%{x}<br>y=%{y}<br>ingredients=%{customdata[0]}<extra></extra>",
         "hovertext": [
          "Dinengdeng na Saluyot at Labong",
          "Bibingkang Malagkit",
          "Kapit",
          "Buko Lychee Sorbet",
          "Sapin Sapin",
          "Pinipig Shortbread Cookies",
          "Kalamay Lansong",
          "Buko Lychee Juice",
          "Mango Royale",
          "Yema Bread Rolls",
          "Camaron Rebosado",
          "Papis",
          "Cardillong Isda",
          "Ukoy na Dilis",
          "Asian Vegetable Stir-fry",
          "Kalamay sa Latik",
          "Ube Kalamay",
          "Palitaw",
          "Ginataang Kamoteng Kahoy",
          "Banana Pandan Bread",
          "Corned Beef Pandesal",
          "Biko",
          "White Buko Salad",
          "Ube Mamon",
          "Maja Blanca Espesyal",
          "Maja Blanca",
          "Ginataang Bilo Bilo",
          "Ginataang Munggo",
          "Maja Langka",
          "Lumpiang Shanghai",
          "Polvoron",
          "Ube Maja Blanca",
          "Ginataang Mais",
          "Guava in Coconut Cream",
          "Tibok-Tibok",
          "Biscocho",
          "Pinakupsan",
          "Tikoy",
          "Mango Ice Cream",
          "Tortang Dulong",
          "Coconut Rice",
          "Champorado",
          "Minatamis na Langka",
          "Minatamis na Bao (Coconut Jam)",
          "Fried Okra",
          "Suman Malagkit with Coconut Caramel Sauce",
          "Coffee Flan",
          "Buko Pandan Salad",
          "Ginisang Sayote",
          "Banana Turon",
          "Crispy Fried Smelt Fish",
          "Crispy Tuna Shanghai",
          "Ginisang Corned Beef",
          "Monay",
          "Corned Beef Frittata",
          "Halo-Halo",
          "Otap",
          "Corned Beef Spaghetti",
          "Slow Cooker Lechon",
          "Homemade Holiday Ham",
          "Beef Tapa",
          "Mango Bravo Cake",
          "Coconut Flan",
          "Cheese Sticks",
          "Leche Flan",
          "Ginisang Togi at Tokwa (Tofu and Bean Sprouts Stir Fry)",
          "Mango and Cream Cheese Turon",
          "Christmas Fruitcake",
          "Ube Biko",
          "Buko Salad",
          "Buko Pandan Gelatin",
          "Eggplant and Tomato Torta",
          "Ube Cassava Cake",
          "Graham de Leche",
          "Sinangag (Garlic Fried Rice)",
          "Pandan Coconut Jelly",
          "Nilasing na Hipon",
          "Turon Malagkit",
          "Cheater's Siopao Bola-Bola",
          "Black Forest Swiss Roll",
          "Bicho-Bicho",
          "Nilupak",
          "Silvanas (Sylvanas)",
          "Sans Rival",
          "Cassava Cake with Custard Topping",
          "Puto",
          "Mini Egg Pies",
          "Kalamay Gabi",
          "Cassava Suman",
          "Pasta Fruit Salad",
          "Sweet Potato Dinner Rolls",
          "Easy Yema Spread",
          "Monggo Bread Loaf",
          "Ube Crinkles (Purple Yam Crinkles)",
          "Carioca",
          "Dulce de Leche Flan",
          "Mango Sago",
          "Filipino Coconut Macaroons",
          "Buko Salad Drink",
          "Poqui Poqui",
          "Leche Flan with Whole Eggs",
          "Leche Puto",
          "Kalamay Hati",
          "Salt and Pepper Pork Chops",
          "Cream Cheese Flan",
          "Dynamite Lumpia",
          "No-cook Caramel Pastillas",
          "Maruya",
          "Tsokolate",
          "Longganisa Wonton",
          "Yema",
          "Tortang Talong",
          "Homemade Pork Tocino",
          "Truffle Mushroom Pasta",
          "Filipino Spaghetti Recipe",
          "Easy Chicken Ala King",
          "Relyenong Talong with Tuna",
          "Tornado Franks",
          "No Bake Macaroni",
          "Bacon Stuffed Pancake",
          "Ginataang Hipon, Sitaw, at Kalabasa",
          "Original Buffalo Wings",
          "Tortilla Espanola",
          "Tortang Talong Recipe",
          "Longsilog Recipe",
          "Biko Recipe",
          "Ginataang Talong with Malunggay and Tofu",
          "Chicken Gravy",
          "Leche Flan",
          "Adobo Fried Rice",
          "Yema Recipe",
          "How to Make Authentic Carbonara",
          "No Steam Easy Flan",
          "Biko with Latik",
          "Beef Papaitan",
          "Max’s Style Fried Chicken with Kamote Fries",
          "Chicken Sotanghon Soup with Malunggay at Sayote",
          "Tortang Noodles at Sardinas",
          "Talong at Tuna Torta",
          "Chicken Lollipop Recipe",
          "Corned Beef Omelet",
          "Ham and Egg Fried Rice with Sweet Peas",
          "Turbo Crispy Liempo",
          "Homemade Kalabasa and Corned Beef Nuggets",
          "Ukoy Dulong Recipe",
          "Ube Kalamay Recipe",
          "Chicken Adobo Fried Rice and Tortang Corned Beef",
          "Fried Tilapia Recipe",
          "Suman sa Ibos Recipe",
          "Turon (Banana Lumpia with Caramel)",
          "Chicken Lumpia",
          "Crispy Fried Chicken",
          "Ginisang Sayote",
          "Filipino Omelet",
          "Ginataang Manok and Kalabasa",
          "Chocolate Crinkle Cookies",
          "Maja Blanca",
          "Ginataang Gulay",
          "Seared Okra and Tomato Recipe",
          "Sinangag na Kanin Recipe - How to Make Garlic Fried Rice",
          "Sinigang na Sugpo Recipe",
          "Breakfast T-Bone Steak with Fried Eggs",
          "Puto Cake",
          "Home Fries Recipe",
          "Eggplant Omelette",
          "Spanish Sardines Pasta with Sun Dried Tomato and Chopped Olives",
          "Manila Clam and Mussel Tinola Recipe",
          "Puto Bumbong Recipe",
          "Pastimallows",
          "How to Cook Pork Bagnet",
          "How to Cook Sinampalukang Manok",
          "Super Tender Juicy Chicken Nuggets",
          "Ham and Hotdog Omelet with Cheese",
          "Steamed Cassava Cake",
          "Crispy Fried Smelt",
          "Lobster Pasta in Creamy Alfredo Sauce Recipe",
          "Oven Baked Leche Flan Recipe",
          "Chocolate Biko Recipe",
          "Basic Tortang Talong",
          "Sinabawang Corned Beef",
          "Simple Chicken Noodle Soup",
          "Baked Tahong with Butter Cheese and Roasted Garlic Recipe",
          "Chicken Macaroni Soup",
          "How to Make Latik from a Can of Coconut Cream",
          "Steamed Eggplant and Okra with Bagoong",
          "Leche Puto Recipe",
          "Morcon with Garlic Fried Rice and Eggs",
          "Mini Turon Recipe (Banana Lumpia with Caramel)",
          "Creamy Mais Maja Blanca",
          "Corned Beef Fried Rice with Egg",
          "Microwave Brownie in a Bowl",
          "Misua with Patola and Meatballs",
          "Danggit Fried Rice",
          "Fried Eggplant (Pritong Talong)",
          "Ginataang Gulay with Pork and Shrimp",
          "Dark Chocolate Banana Bread",
          "Bistek Silog",
          "Oven Baked Pork Chop Silog with Atchara",
          "Danggit Silog",
          "Boiled Okra and Eggplant with Bagoong Dipping Sauce",
          "Apan - Apan Recipe (Adobong Kangkong with Fried Pork)",
          "Fried Daing na Bangus with Garlic Fried Rice, Fried Egg, and Pickled Papaya (Daing Silog)",
          "Tortang Talong with Crabmeat (Eggplant Omelet with Crab)",
          "Beef Teriyaki Tapa with Fried Rice and Egg",
          "Ginisang Kalabasa at Sitaw with Daing Recipe",
          "How to Make Meatloaf",
          "Pork Giniling Croquette",
          "Caramelized Butternut Squash",
          "Huevos Rancheros",
          "Ground Pork Kaldereta Omelet",
          "Pinoy Style Fried Chicken",
          "Fried Embutido Recipe",
          "Bagnet Recipe",
          "Saging con Hielo",
          "Stuffed Eggplant",
          "Sausage Macaroni Pasta",
          "Simple Ube Halaya Recipe",
          "Sweet Pepper Relyeno Recipe",
          "Meatball Adobo with Shrimp Fried Rice and Egg",
          "Crispy Tilapia Sticks Recipe",
          "Pork Adobo Paksiw Recipe",
          "Slow Cooked Beef Lauya Soup Recipe",
          "How to Make a Hamburger",
          "Crispy Spam Steak Recipe",
          "Chicken Dynamite Lumpia Recipe",
          "Kalabasa Soup with Ampalaya Leaves",
          "Tuyo Fried Rice",
          "Tuyo Pasta",
          "Fried Rice",
          "Pulled Pork Sandwich Recipe",
          "How to Grill Salmon",
          "Tinolang Bangus Recipe",
          "Slow Cooked Pork Chop with Shiitake Mushrooms",
          "How to Make Lasagna",
          "Tosilog Recipe",
          "Italian Sausage Pasta Recipe",
          "Ube Biko Recipe",
          "Cream of Asparagus Soup",
          "Easy Chicken Caesar Salad Recipe",
          "Grilled Ahi Tuna Recipe",
          "Sauteed Shrimp with String Beans",
          "Chicken and Miswa Soup Recipe",
          "Rib Eye Steak with Grilled Potato",
          "Garlic Mashed Potato",
          "Chicken Enchilada Casserole Recipe",
          "Crusted Pork Chop with Adobo Rice Recipe",
          "Spaghetti with Meatballs",
          "Eggplant and Ground Chicken Omelet",
          "Breakfast Reuben Sandwich",
          "Delicious Whole Wheat Pancakes",
          "Billy's BBQ Chicken Recipe",
          "Yummy Blueberry Pancake Recipe",
          "Panara Recipe (Deep Fried Shrimp Wonton)",
          "Kalamay hati Recipe",
          "Shingaling Recipe",
          "Sweet Pusit Adobo",
          "Pinoy Baked Whole Wheat Penne Pasta",
          "Fried Grouper Steak",
          "Fried Whiting Fish Recipe",
          "Asian Chicken Soup",
          "Braised Collard Greens",
          "Steamed Okra and Bagoong",
          "Oven Baked French Fries",
          "Grilled Cheese Ham and Egg Sandwich",
          "Sautéed String Beans with Chicken",
          "Barbecue Pork Chop with Mixed Veggies",
          "Mushroom and Spinach Omelet",
          "Oven Baked Crusted Pork Loin",
          "Grilled Swiss Cheese Sandwich",
          "Teriyaki Salmon Recipe",
          "Basil Pesto",
          "Easy Champorado Recipe",
          "Vegetable Omelet Recipe",
          "Sauteed Spinach with Tofu",
          "Easy Seared Scallops",
          "Ground Beef Spaghetti Alfredo",
          "Chicken Soup Recipe",
          "Lugaw Recipe",
          "Turkey and Cranberry Sandwich with Cream Cheese",
          "Turkey Reuben Sandwich",
          "Deep Fried Mussels",
          "Popcorn Chicken",
          "Roasted Okra",
          "Easy Pasta Salad Recipe",
          "Green Bean Casserole Recipe",
          "Sauteed Brussels Sprouts with Bacon Recipe",
          "KBL (Kadyos, Baboy, at Langka) Recipe",
          "How to Make Banana Chips",
          "Fried Pork Chop Recipe",
          "Chicken Barbecue Fried Rice",
          "Jelly Roll",
          "Batchoy Recipe",
          "Ginataang Sitaw at Kalabasa with Crabs Recipe",
          "Tuna Casserole Recipe",
          "Onion Rings",
          "New York Strip Steak with Sauteed Spinach Recipe",
          "Corn and Malunggay Soup Recipe",
          "Baked Tahong Recipe",
          "No-Bake Chocolate Fudge Tart",
          "Peanut Brittle Recipe",
          "Ginataang Monggo Recipe",
          "Crispy Crablets Recipe",
          "Aligue Pasta",
          "Antonio's Tuna Cream Cheese and Onion Spread",
          "Bow Tie Pasta with Vodka Sauce Recipe",
          "Crispy Potato Wedges Recipe",
          "Adobong Mani Recipe",
          "Tortang Dulong",
          "Creamy Tuyo Pesto",
          "Minatamis na Saging",
          "Calamares Recipe",
          "How to Make Bilo-bilo",
          "Ukoy Recipe (Shrimp Fritter)",
          "Crispy Spinach Recipe",
          "Brazo de Mercedes",
          "Binatog Recipe (Boiled white corn kernels with Shredded Coconut)",
          "Tokneneng",
          "Ginataang Mais Recipe",
          "Homemade Mashed Potatoes",
          "KFC Style Gravy Recipe",
          "Crispy Homemade French Fries",
          "Polvoron Recipe",
          "Homemade Potato Chips Recipe",
          "Baked Pork Chops with Italian Seasoning",
          "Spaghetti with Tomato and Basil",
          "Perfect Rice Puff Dessert",
          "Palitaw Recipe",
          "Shared Recipe: Tortang Talong with Giniling",
          "Ube Halaya",
          "Camaron Rebosado Recipe",
          "Crab Meat Omelette",
          "Beef Mami Recipe",
          "Buchi",
          "Garlic Fried Rice",
          "Kwek - Kwek Recipe",
          "Champorado Recipe",
          "Cheese Sticks",
          "Kamote Cue Recipe",
          "Coconut Macaroon Recipe"
         ],
         "legendgroup": "6",
         "marker": {
          "color": "rgb(128, 186, 90)",
          "size": 5,
          "symbol": "circle"
         },
         "mode": "markers",
         "name": "6",
         "showlegend": true,
         "type": "scattergl",
         "x": [
          0.4780106544494629,
          0.5619908571243286,
          0.5999189615249634,
          0.5027422904968262,
          0.6056750416755676,
          0.526862382888794,
          0.6056750416755676,
          0.5027422904968262,
          0.46177205443382263,
          0.6116073131561279,
          0.4573413133621216,
          0.4833177328109741,
          0.5059130191802979,
          0.5906513333320618,
          0.5721151828765869,
          0.5999189615249634,
          0.6056750416755676,
          0.5967151522636414,
          0.4765227437019348,
          0.608424186706543,
          0.49211931228637695,
          0.6056751012802124,
          0.5027422904968262,
          0.5080316066741943,
          0.5418263673782349,
          0.5736398100852966,
          0.5999189615249634,
          0.5260277986526489,
          0.5993247032165527,
          0.6013947129249573,
          0.46566838026046753,
          0.5736398696899414,
          0.6056751012802124,
          0.46438050270080566,
          0.6056751012802124,
          0.46566835045814514,
          0.5206472277641296,
          0.5778008103370667,
          0.5549812316894531,
          0.5059130191802979,
          0.6056751012802124,
          0.5510684847831726,
          0.49897482991218567,
          0.5027422904968262,
          0.47119298577308655,
          0.6010141968727112,
          0.49776312708854675,
          0.4991753101348877,
          0.5838035941123962,
          0.4389967918395996,
          0.5418263673782349,
          0.5475382804870605,
          0.45813241600990295,
          0.6048873066902161,
          0.4506544768810272,
          0.6158103942871094,
          0.6048873066902161,
          0.5133249163627625,
          0.5206472277641296,
          0.456637442111969,
          0.5541419982910156,
          0.5411224365234375,
          0.44517505168914795,
          0.4464106559753418,
          0.44517505168914795,
          0.4596670866012573,
          0.4464106559753418,
          0.627562403678894,
          0.5792703032493591,
          0.5027422904968262,
          0.5027422904968262,
          0.5805725455284119,
          0.5612345933914185,
          0.5597831606864929,
          0.48380547761917114,
          0.49917536973953247,
          0.5882923603057861,
          0.5324417352676392,
          0.6180713176727295,
          0.5915185809135437,
          0.5142539739608765,
          0.5932108163833618,
          0.5547953844070435,
          0.5476003885269165,
          0.5445629358291626,
          0.48380547761917114,
          0.4757459759712219,
          0.5344905853271484,
          0.5027422904968262,
          0.5464463233947754,
          0.6119904518127441,
          0.5408517718315125,
          0.6071003675460815,
          0.5681822896003723,
          0.48380547761917114,
          0.44517505168914795,
          0.5429479479789734,
          0.620610773563385,
          0.5913977026939392,
          0.5805725455284119,
          0.44517505168914795,
          0.5408517718315125,
          0.6056751012802124,
          0.569507896900177,
          0.44517505168914795,
          0.5371250510215759,
          0.4422764182090759,
          0.5708640813827515,
          0.5676413178443909,
          0.44726091623306274,
          0.46671468019485474,
          0.5172462463378906,
          0.5340182185173035,
          0.6063263416290283,
          0.44207480549812317,
          0.6098723411560059,
          0.6063179969787598,
          0.45097190141677856,
          0.5777269601821899,
          0.5614330768585205,
          0.545195460319519,
          0.5924274921417236,
          0.4837077260017395,
          0.5172462463378906,
          0.5778008103370667,
          0.6056750416755676,
          0.6026641726493835,
          0.5295042991638184,
          0.5405930280685425,
          0.48380547761917114,
          0.4560306668281555,
          0.4792530834674835,
          0.6172560453414917,
          0.6056751012802124,
          0.51390141248703,
          0.617680549621582,
          0.4813380241394043,
          0.5195343494415283,
          0.5172462463378906,
          0.4163099527359009,
          0.5815262198448181,
          0.5419031381607056,
          0.5206472277641296,
          0.5143594145774841,
          0.41154149174690247,
          0.5792703032493591,
          0.588509738445282,
          0.42633816599845886,
          0.5618661642074585,
          0.4349200129508972,
          0.4294450581073761,
          0.565819263458252,
          0.5720198154449463,
          0.5613234639167786,
          0.5930535197257996,
          0.5790146589279175,
          0.5321445465087891,
          0.550912618637085,
          0.5539068579673767,
          0.48380547761917114,
          0.592914342880249,
          0.5408517718315125,
          0.5750353932380676,
          0.4989747703075409,
          0.5172461271286011,
          0.57002854347229,
          0.5190588235855103,
          0.546837568283081,
          0.560139536857605,
          0.5206472277641296,
          0.5663160085678101,
          0.4163099527359009,
          0.5477966070175171,
          0.5640497803688049,
          0.5061416029930115,
          0.5545667409896851,
          0.5405930280685425,
          0.6056750416755676,
          0.5172462463378906,
          0.5719469785690308,
          0.5695472955703735,
          0.5776227712631226,
          0.5098869800567627,
          0.5027422904968262,
          0.49185362458229065,
          0.610194206237793,
          0.5778008103370667,
          0.4349200129508972,
          0.49727967381477356,
          0.5885096788406372,
          0.6034066081047058,
          0.5817261934280396,
          0.48380547761917114,
          0.41355007886886597,
          0.6304835081100464,
          0.6064237952232361,
          0.44517505168914795,
          0.5718603730201721,
          0.5778008103370667,
          0.4974752962589264,
          0.48388612270355225,
          0.5514947175979614,
          0.5501555800437927,
          0.5778008103370667,
          0.47526273131370544,
          0.5191686153411865,
          0.5121449828147888,
          0.5293680429458618,
          0.4522063732147217,
          0.44517505168914795,
          0.6055945158004761,
          0.44517505168914795,
          0.5206472277641296,
          0.5373800992965698,
          0.4955977499485016,
          0.6207060813903809,
          0.5449719429016113,
          0.5633255839347839,
          0.5778008103370667,
          0.47801899909973145,
          0.5206472277641296,
          0.5541419982910156,
          0.5827386379241943,
          0.5288042426109314,
          0.3760906159877777,
          0.5490432977676392,
          0.48380547761917114,
          0.49080026149749756,
          0.5419031381607056,
          0.5536637902259827,
          0.5234426856040955,
          0.5422317981719971,
          0.5377106666564941,
          0.5464463233947754,
          0.44517505168914795,
          0.6021125316619873,
          0.6056751012802124,
          0.5415124297142029,
          0.5001945495605469,
          0.5387458801269531,
          0.5225770473480225,
          0.5226277112960815,
          0.551404595375061,
          0.49677574634552,
          0.573664665222168,
          0.5429633259773254,
          0.5133249163627625,
          0.5727350115776062,
          0.5477966070175171,
          0.5822644233703613,
          0.46678590774536133,
          0.5277762413024902,
          0.5592790842056274,
          0.6056751012802124,
          0.5922253727912903,
          0.5022814869880676,
          0.4861312806606293,
          0.5737308263778687,
          0.45097190141677856,
          0.6116348505020142,
          0.5007359385490417,
          0.4875985383987427,
          0.4191904664039612,
          0.5408517718315125,
          0.6050512790679932,
          0.5831480622291565,
          0.5704218149185181,
          0.512423038482666,
          0.5612345933914185,
          0.5436629056930542,
          0.5573084354400635,
          0.5510684847831726,
          0.6097524166107178,
          0.5792055130004883,
          0.46566835045814514,
          0.618568480014801,
          0.6146596074104309,
          0.48380547761917114,
          0.49758511781692505,
          0.501888632774353,
          0.5288042426109314,
          0.5554801821708679,
          0.4930974841117859,
          0.5376386642456055,
          0.5542351603507996,
          0.5076518654823303,
          0.6210347414016724,
          0.4645862579345703,
          0.5206472277641296,
          0.5254607796669006,
          0.5155441164970398,
          0.5401008129119873,
          0.538731575012207,
          0.5536599159240723,
          0.5565972328186035,
          0.5094102621078491,
          0.5530217885971069,
          0.5751991271972656,
          0.4482651352882385,
          0.565644383430481,
          0.5260277986526489,
          0.5418263673782349,
          0.5464054346084595,
          0.557837963104248,
          0.576665997505188,
          0.5477858781814575,
          0.4422764182090759,
          0.44517505168914795,
          0.5321998000144958,
          0.539730429649353,
          0.44844871759414673,
          0.48380547761917114,
          0.4552106559276581,
          0.483634352684021,
          0.616314172744751,
          0.5027422904968262,
          0.5412775874137878,
          0.5894907116889954,
          0.5443530082702637,
          0.5295042991638184,
          0.45813241600990295,
          0.5866241455078125,
          0.45813241600990295,
          0.5206472277641296,
          0.4908002018928528,
          0.46566835045814514,
          0.5967151522636414,
          0.5475220084190369,
          0.5911561846733093,
          0.5693819522857666,
          0.5594154596328735,
          0.5969313979148865,
          0.5433894991874695,
          0.48380547761917114,
          0.4534291625022888,
          0.5411161184310913,
          0.4464106559753418,
          0.45813241600990295,
          0.5259886980056763
         ],
         "xaxis": "x",
         "y": [
          -0.11755562573671341,
          -0.07758009433746338,
          -0.12172354757785797,
          -0.1592724323272705,
          -0.11741170287132263,
          -0.056966766715049744,
          -0.11741170287132263,
          -0.1592724323272705,
          -0.090251125395298,
          -0.15547512471675873,
          -0.10416160523891449,
          -0.09456159174442291,
          -0.1063774824142456,
          -0.14101526141166687,
          -0.005600307136774063,
          -0.12172354757785797,
          -0.11741170287132263,
          -0.09629914164543152,
          -0.06617189198732376,
          -0.18190759420394897,
          -0.2389775812625885,
          -0.11741165816783905,
          -0.1592724323272705,
          -0.10920122265815735,
          -0.09029620885848999,
          -0.03304661065340042,
          -0.12172354757785797,
          -0.15316951274871826,
          -0.11756257712841034,
          -0.14619556069374084,
          -0.1544775813817978,
          -0.0330466702580452,
          -0.11741165816783905,
          -0.08889677375555038,
          -0.11741165816783905,
          -0.15447759628295898,
          -0.08320311456918716,
          -0.17113234102725983,
          -0.07826714217662811,
          -0.1063774824142456,
          -0.11741165816783905,
          -0.15466061234474182,
          -0.1385880708694458,
          -0.1592724323272705,
          -0.2251439094543457,
          -0.13563179969787598,
          -0.049667805433273315,
          -0.08130916208028793,
          -0.08497472107410431,
          -0.19472552835941315,
          -0.09029620885848999,
          -0.2437535524368286,
          -0.27562445402145386,
          -0.18356114625930786,
          -0.3606244623661041,
          -0.17911025881767273,
          -0.18356114625930786,
          -0.2397594153881073,
          -0.08320311456918716,
          -0.09017296135425568,
          -0.12769077718257904,
          -0.12917611002922058,
          -0.2409602403640747,
          -0.22225335240364075,
          -0.2409602403640747,
          -0.2156471610069275,
          -0.22225335240364075,
          -0.16500578820705414,
          -0.11422693729400635,
          -0.1592724323272705,
          -0.1592724323272705,
          -0.23845022916793823,
          -0.16766011714935303,
          -0.1991073340177536,
          -0.13860498368740082,
          -0.08130916208028793,
          -0.0919666662812233,
          -0.16074711084365845,
          -0.11553774774074554,
          -0.08271636068820953,
          -0.0765635147690773,
          -0.14798277616500854,
          -0.14059455692768097,
          -0.104977548122406,
          -0.2087184339761734,
          -0.13860498368740082,
          -0.12389236688613892,
          -0.13939280807971954,
          -0.1592724323272705,
          -0.28358981013298035,
          -0.1692785620689392,
          -0.2517056167125702,
          -0.1918211728334427,
          -0.24547907710075378,
          -0.13860498368740082,
          -0.2409602403640747,
          -0.043161991983652115,
          -0.10776707530021667,
          -0.16230948269367218,
          -0.23845022916793823,
          -0.2409602403640747,
          -0.2517056167125702,
          -0.11741165816783905,
          -0.07075317203998566,
          -0.2409602403640747,
          -0.05968761071562767,
          -0.24003228545188904,
          -0.17878657579421997,
          -0.2551601827144623,
          -0.0686376616358757,
          -0.14832425117492676,
          -0.22966641187667847,
          -0.08443797379732132,
          -0.18152816593647003,
          -0.13680589199066162,
          -0.0976913720369339,
          -0.13317033648490906,
          -0.18385832011699677,
          -0.22303937375545502,
          -0.11493727564811707,
          -0.2684267461299896,
          -0.22314554452896118,
          -0.3144814968109131,
          -0.22966641187667847,
          -0.17113234102725983,
          -0.11741170287132263,
          -0.14691872894763947,
          -0.2277699112892151,
          -0.08383575081825256,
          -0.13860498368740082,
          -0.2234819233417511,
          -0.2684522867202759,
          -0.1592436134815216,
          -0.11741165816783905,
          -0.09338518977165222,
          -0.10127053409814835,
          -0.15192124247550964,
          -0.26859158277511597,
          -0.22966641187667847,
          -0.20065055787563324,
          -0.21264883875846863,
          -0.21815142035484314,
          -0.08320311456918716,
          -0.2336641103029251,
          -0.1969936192035675,
          -0.11422693729400635,
          -0.15504491329193115,
          -0.13480785489082336,
          -0.08058594167232513,
          -0.12470628321170807,
          -0.1904667615890503,
          -0.20586273074150085,
          -0.07788266241550446,
          -0.09890200942754745,
          -0.15341348946094513,
          -0.1605563759803772,
          -0.1252956986427307,
          -0.034939832985401154,
          -0.12915171682834625,
          -0.13860498368740082,
          -0.14668849110603333,
          -0.2517056167125702,
          -0.2127874493598938,
          -0.12088602781295776,
          -0.22966644167900085,
          -0.09612838178873062,
          -0.12658658623695374,
          -0.13734176754951477,
          -0.2887302041053772,
          -0.08320311456918716,
          -0.13661013543605804,
          -0.20065055787563324,
          -0.2683046758174896,
          -0.1305428296327591,
          -0.08667105436325073,
          -0.1914994865655899,
          -0.08383575081825256,
          -0.11741170287132263,
          -0.22966641187667847,
          -0.1411779522895813,
          -0.2295611947774887,
          -0.009305359795689583,
          -0.2052886188030243,
          -0.1592724323272705,
          -0.21081072092056274,
          -0.1878543496131897,
          -0.17113234102725983,
          -0.12470628321170807,
          -0.06248244270682335,
          -0.15504489839076996,
          -0.07148436456918716,
          -0.07915553450584412,
          -0.13860498368740082,
          -0.14530599117279053,
          -0.17080560326576233,
          -0.0984765887260437,
          -0.2409602403640747,
          -0.1434445083141327,
          -0.17113234102725983,
          -0.23192885518074036,
          -0.05159229412674904,
          -0.1383107453584671,
          -0.1702868938446045,
          -0.17113234102725983,
          -0.16797178983688354,
          -0.19244220852851868,
          -0.28896161913871765,
          -0.25040218234062195,
          -0.17722615599632263,
          -0.2409602403640747,
          -0.1275923103094101,
          -0.2409602403640747,
          -0.08320311456918716,
          -0.03357161581516266,
          -0.1903945505619049,
          -0.16035225987434387,
          -0.08138342201709747,
          -0.18791373074054718,
          -0.17113234102725983,
          -0.20039410889148712,
          -0.08320311456918716,
          -0.12769077718257904,
          -0.14710459113121033,
          -0.14582090079784393,
          -0.2111961543560028,
          -0.033568430691957474,
          -0.13860498368740082,
          -0.1501900851726532,
          -0.21815146505832672,
          -0.0767054408788681,
          -0.12231872975826263,
          -0.07317280769348145,
          -0.03629549220204353,
          -0.28358981013298035,
          -0.2409602403640747,
          -0.07110977917909622,
          -0.11741165816783905,
          -0.03992021828889847,
          -0.06369544565677643,
          -0.02563645876944065,
          -0.07614695280790329,
          -0.1168486624956131,
          -0.06637527048587799,
          -0.16435551643371582,
          -0.19822894036769867,
          -0.16523492336273193,
          -0.2397594153881073,
          -0.23134438693523407,
          -0.2683046758174896,
          -0.060574404895305634,
          -0.07229852676391602,
          -0.2666223347187042,
          -0.025481227785348892,
          -0.11741165816783905,
          -0.11455262452363968,
          -0.12199598550796509,
          -0.1615418940782547,
          -0.02864236943423748,
          -0.18385832011699677,
          -0.09160520136356354,
          -0.10680431127548218,
          -0.12776558101177216,
          -0.15396559238433838,
          -0.2517056167125702,
          -0.1749083548784256,
          -0.0683150440454483,
          -0.19039420783519745,
          -0.17471736669540405,
          -0.16766014695167542,
          -0.05852542072534561,
          -0.025278456509113312,
          -0.15466061234474182,
          -0.0719415619969368,
          -0.019269051030278206,
          -0.15447759628295898,
          -0.17986278235912323,
          -0.1742011457681656,
          -0.13860498368740082,
          -0.24183084070682526,
          -0.149592787027359,
          -0.14582090079784393,
          -0.08318665623664856,
          -0.17315122485160828,
          -0.11095848679542542,
          -0.11692221462726593,
          -0.09437249600887299,
          -0.16891877353191376,
          -0.15643632411956787,
          -0.08320311456918716,
          -0.044462379068136215,
          -0.12453970313072205,
          -0.16093872487545013,
          -0.23412927985191345,
          -0.28298312425613403,
          -0.297207772731781,
          -0.12552425265312195,
          -0.18244196474552155,
          -0.25773853063583374,
          -0.07670234143733978,
          -0.06560124456882477,
          -0.15316951274871826,
          -0.09029620885848999,
          -0.07804901152849197,
          -0.05557376146316528,
          -0.04191701486706734,
          -0.1885000467300415,
          -0.24003228545188904,
          -0.2409602403640747,
          -0.10403688251972198,
          -0.029487211257219315,
          -0.2092691957950592,
          -0.13860498368740082,
          -0.1182863861322403,
          -0.09080744534730911,
          -0.17239928245544434,
          -0.1592724323272705,
          -0.07975338399410248,
          -0.21173039078712463,
          -0.29416945576667786,
          -0.2277699112892151,
          -0.27562445402145386,
          -0.25867751240730286,
          -0.27562445402145386,
          -0.08320311456918716,
          -0.150190070271492,
          -0.15447759628295898,
          -0.09629914164543152,
          -0.06168860197067261,
          -0.06928195804357529,
          -0.0019159391522407532,
          -0.20916298031806946,
          -0.09294785559177399,
          -0.1158863753080368,
          -0.13860498368740082,
          -0.1570684164762497,
          -0.14651215076446533,
          -0.22225335240364075,
          -0.27562445402145386,
          -0.17392298579216003
         ],
         "yaxis": "y"
        },
        {
         "customdata": [
          [
           "avocado<br>lemon<br>milk"
          ],
          [
           "cream<br>milk"
          ],
          [
           "ice<br>mango<br>milk"
          ],
          [
           "avocado<br>ice<br>lemon<br>milk"
          ],
          [
           "butter<br>chili<br>shrimp<br>soda"
          ],
          [
           "cinnamon<br>rice"
          ],
          [
           "coconut<br>ice<br>milk<br>pandan"
          ],
          [
           "coconut<br>ice<br>sago"
          ],
          [
           "ginger<br>mirin<br>sake<br>soy"
          ],
          [
           ""
          ],
          [
           ""
          ],
          [
           "butter<br>orange juice"
          ],
          [
           "cinnamon<br>egg<br>lemon<br>raisin<br>soda"
          ],
          [
           "bay leaf<br>fish"
          ],
          [
           "lime<br>soy"
          ],
          [
           "lime<br>soy"
          ],
          [
           "ice<br>milk<br>tapioca pearl"
          ],
          [
           "bagoong<br>chili<br>corn starch"
          ],
          [
           "cream"
          ],
          [
           "cream<br>lemon<br>milk<br>sago"
          ],
          [
           "ice"
          ],
          [
           "beef<br>bell pepper<br>cheese<br>dog"
          ],
          [
           "bay leaf<br>carrot<br>celery"
          ],
          [
           "bitter gourd<br>fish<br>tomato"
          ],
          [
           "ginger<br>rice"
          ],
          [
           ""
          ],
          [
           "butter<br>lime<br>milk"
          ],
          [
           "kamia<br>pork<br>rock"
          ],
          [
           "pandan"
          ],
          [
           "cornstarch<br>mushroom<br>soy<br>wine"
          ],
          [
           "graham"
          ],
          [
           "bay leaf<br>pork"
          ],
          [
           "mango"
          ],
          [
           "bottle gourd<br>chicken<br>fish"
          ],
          [
           ""
          ],
          [
           "cheese<br>cornstarch<br>fruit cocktail"
          ],
          [
           "butter<br>lemon"
          ],
          [
           "chicken<br>tamarind"
          ],
          [
           "bangus<br>bay leaf<br>chili<br>rock"
          ],
          [
           "cherry"
          ],
          [
           "cream<br>mango<br>milk"
          ],
          [
           "almond<br>milk"
          ],
          [
           "coffee<br>milk"
          ],
          [
           "coconut<br>cream"
          ],
          [
           "barbecue<br>chicken<br>sesame"
          ],
          [
           "cheese<br>coconut<br>food<br>lye"
          ],
          [
           "kangkong<br>shrimp"
          ],
          [
           "mango<br>milk<br>sago"
          ],
          [
           "banana<br>ice<br>sago"
          ],
          [
           "graham"
          ],
          [
           "cassava<br>coconut<br>margarine"
          ],
          [
           "annatto<br>bottle gourd<br>oyster<br>pork"
          ],
          [
           "cream<br>milk"
          ],
          [
           "cornstarch<br>lemon<br>milk<br>squid"
          ],
          [
           "coconut<br>ice<br>milk"
          ],
          [
           "fish<br>kangkong"
          ],
          [
           "avocado<br>cream"
          ],
          [
           "celery<br>chestnut<br>mushroom<br>soy"
          ],
          [
           "fish<br>lime<br>rock"
          ],
          [
           ""
          ],
          [
           "coconut<br>margarine"
          ],
          [
           "coffee"
          ],
          [
           "bottle gourd<br>fish<br>tomato"
          ],
          [
           "lye"
          ],
          [
           ""
          ],
          [
           "bitter gourd<br>tomato"
          ],
          [
           "clove<br>coconut<br>pork"
          ],
          [
           "banana<br>sea"
          ],
          [
           "mung bean<br>rice<br>sesame seeds"
          ],
          [
           "calabasa<br>tapioca pearl"
          ],
          [
           "lime"
          ],
          [
           "bean<br>chili<br>soy"
          ],
          [
           "lemon<br>pork"
          ],
          [
           "bitter gourd<br>egg<br>tomato"
          ],
          [
           "barbecue<br>lime<br>pork"
          ],
          [
           "cornstarch<br>flour<br>hoisin<br>oyster<br>pork<br>soy<br>yeast"
          ],
          [
           "butter<br>lemon<br>parsley"
          ],
          [
           "bay leaf<br>pork"
          ],
          [
           "egg<br>lime<br>patis<br>pork"
          ],
          [
           "butter<br>lemon<br>parsley"
          ],
          [
           "chicken<br>nutmeg<br>patis<br>wine"
          ],
          [
           "coconut<br>cream<br>gelatin<br>milk"
          ],
          [
           "lime<br>soy<br>tuna"
          ],
          [
           "tofu<br>vanilla"
          ],
          [
           "bay leaf<br>star anise"
          ],
          [
           "bay leaf<br>pork"
          ],
          [
           "paprika<br>pork<br>vegetable"
          ],
          [
           "cayenne<br>chicken"
          ],
          [
           "bitter gourd<br>chili<br>coconut<br>salmon"
          ],
          [
           "annatto<br>chicken<br>coconut<br>lemon<br>margarine"
          ],
          [
           "bottle gourd<br>fish<br>tomato"
          ],
          [
           "chicken<br>egg<br>flour<br>paprika"
          ],
          [
           "bitter gourd<br>egg<br>shrimp<br>tomato"
          ],
          [
           "breadcrumb<br>rosemary"
          ],
          [
           "bay leaf<br>pork"
          ],
          [
           "cayenne<br>chicken<br>paprika<br>rice"
          ],
          [
           "honey"
          ],
          [
           "bay leaf<br>pork"
          ],
          [
           "mustard<br>rice<br>sea"
          ],
          [
           "sea"
          ],
          [
           "cassava<br>coconut<br>lye"
          ],
          [
           "butter<br>lemon<br>sea"
          ],
          [
           "bottle gourd<br>plum tomato<br>pork"
          ],
          [
           "beer<br>cayenne<br>egg<br>flour"
          ],
          [
           "cornstarch<br>flour<br>sea<br>tilapia<br>wine"
          ],
          [
           "bay leaf<br>pork<br>rock"
          ],
          [
           "lemon<br>malunggay<br>mussel"
          ],
          [
           ""
          ],
          [
           "bay leaf<br>pork<br>rock"
          ],
          [
           "bay leaf<br>pork"
          ],
          [
           "cayenne<br>cornstarch<br>flour"
          ],
          [
           "bagoong<br>eggplant<br>lemon<br>paprika"
          ],
          [
           "bay leaf<br>butter"
          ],
          [
           "cherry<br>cream<br>fruit cocktail<br>graham<br>milk<br>vanilla<br>whipping cream"
          ],
          [
           "cayenne<br>fish<br>sea"
          ],
          [
           "vanilla"
          ],
          [
           "butter<br>lemon"
          ],
          [
           "lemon<br>milk<br>scallion"
          ],
          [
           "mayonnaise<br>pickle"
          ],
          [
           "fish<br>parsley<br>sea"
          ],
          [
           "bitter gourd<br>egg<br>tomato"
          ],
          [
           "sea"
          ],
          [
           ""
          ],
          [
           "cherry<br>milk"
          ],
          [
           "scallion"
          ],
          [
           "sea"
          ],
          [
           "cane<br>cornstarch<br>pork<br>soy"
          ],
          [
           "salmon<br>sea"
          ],
          [
           "sea<br>shrimp"
          ],
          [
           "chili"
          ],
          [
           ""
          ],
          [
           "sea"
          ],
          [
           "cinnamon<br>egg<br>flour<br>nutmeg<br>soda"
          ],
          [
           "lemon<br>sea<br>shrimp"
          ],
          [
           "sago"
          ],
          [
           "bay leaf<br>sea"
          ],
          [
           ""
          ],
          [
           "sea"
          ],
          [
           ""
          ],
          [
           "ice<br>vanilla"
          ],
          [
           "rice<br>sea"
          ],
          [
           "banana<br>egg<br>soda<br>vanilla"
          ],
          [
           "chicken<br>soy<br>spice<br>star anise"
          ],
          [
           "butter<br>lemon"
          ],
          [
           "butter<br>lime"
          ],
          [
           "cinnamon<br>ginger<br>ice<br>sea"
          ],
          [
           "barbecue<br>pork"
          ],
          [
           "flour<br>lemon<br>parsley"
          ],
          [
           ""
          ],
          [
           "ice<br>milk"
          ],
          [
           "beef<br>milk<br>parsley"
          ],
          [
           "bean<br>beef<br>broth"
          ],
          [
           "ice<br>milk<br>vanilla"
          ],
          [
           "banana<br>honey<br>ice<br>vanilla"
          ],
          [
           "potato<br>rosemary"
          ],
          [
           "bitter gourd<br>chicken<br>oyster"
          ],
          [
           "pork<br>sea"
          ],
          [
           "lemon<br>sea"
          ],
          [
           "cane<br>daikon radish<br>sea"
          ],
          [
           "bottle gourd"
          ],
          [
           "coconut<br>milk<br>vanilla"
          ],
          [
           "flour<br>lemon<br>sea"
          ],
          [
           "hoisin<br>tofu"
          ],
          [
           "chicken<br>chili<br>flour tortilla<br>paprika"
          ],
          [
           "tofu"
          ],
          [
           "ginger<br>soy<br>squid"
          ],
          [
           "mayonnaise"
          ],
          [
           "banana<br>sea"
          ],
          [
           "chayote<br>fish"
          ],
          [
           "sea"
          ],
          [
           "butter<br>lemon<br>parsley"
          ],
          [
           "bean<br>cream"
          ],
          [
           "worcestershire"
          ],
          [
           "ice<br>pork"
          ],
          [
           "orange juice"
          ],
          [
           ""
          ],
          [
           "annatto<br>margarine<br>rice"
          ],
          [
           "basil<br>pork"
          ],
          [
           "bell pepper"
          ],
          [
           "bean<br>bell pepper<br>broccoli floret<br>vegetable broth"
          ],
          [
           "beer<br>butter"
          ],
          [
           "chili<br>pork"
          ],
          [
           "chili<br>kangkong<br>oyster<br>tofu"
          ],
          [
           "butter<br>chicken<br>paprika"
          ],
          [
           "lemon"
          ],
          [
           "almond<br>milk"
          ],
          [
           "calabaza squash<br>chicken<br>parsley<br>whipping cream"
          ],
          [
           "cinnamon<br>egg<br>milk<br>nutmeg"
          ],
          [
           "potato<br>wine"
          ],
          [
           ""
          ],
          [
           ""
          ],
          [
           "apple<br>butter<br>cinnamon<br>nutmeg"
          ],
          [
           "bell pepper<br>marinara<br>mushroom"
          ],
          [
           "banana<br>lye<br>rice"
          ],
          [
           "cream<br>graham<br>mango<br>milk"
          ],
          [
           "buttermilk<br>chicken<br>flour<br>paprika"
          ],
          [
           "fish<br>misua<br>scallion"
          ],
          [
           "annatto seed"
          ],
          [
           "crab"
          ],
          [
           "milk"
          ],
          [
           "graham<br>milk"
          ],
          [
           "milk"
          ],
          [
           "cream<br>milk"
          ],
          [
           "butter<br>lemon<br>parsley"
          ],
          [
           "beef<br>cornstarch<br>wine"
          ],
          [
           "cassava<br>coconut<br>lye"
          ],
          [
           "flour<br>lye<br>rice"
          ],
          [
           "bottle gourd<br>pork<br>tomato"
          ],
          [
           "wine"
          ],
          [
           "paprika<br>pineapple<br>pork<br>vegetable"
          ],
          [
           "gelatin<br>tapioca pearl<br>vanilla"
          ]
         ],
         "hovertemplate": "<b>%{hovertext}</b><br><br>cluster=0<br>x=%{x}<br>y=%{y}<br>ingredients=%{customdata[0]}<extra></extra>",
         "hovertext": [
          "Avocado Ice Candy",
          "Mais con Queso Ice Candy",
          "Mango Shake",
          "Avocado Milkshake",
          "Halabos na Hipon",
          "Horchata",
          "Buko Pandan Drink",
          "Ginumis",
          "Kake Udon",
          "Pastillas de Ube",
          "Melon Juice",
          "Minatamis na Kamote",
          "Mango Bread Loaf",
          "Fried Chicken a la Max's Restaurant",
          "Toyomansi Pork Chops",
          "Pork Bistek",
          "Instant Pot Boba Milk Tea",
          "How to Make Ginisang Bagoong",
          "Ube Macapuno Ice Cream",
          "Avocado Sago Jelly",
          "Melon Drink",
          "Instant Pot Filipino-style Spaghetti",
          "How to Make Shrimp Stock",
          "Ginisang Ampalaya sa Sardinas",
          "Puto Maya and Sikwate",
          "Sampalok Candy",
          "Pastillas de Leche",
          "Sinaing na Tulingan",
          "Taho",
          "Tofu, Asparagus and Mushroom Stir-Fry",
          "Graham Balls",
          "Lechon Kawali",
          "Homemade Mango Nectar",
          "Sotanghon at Upo Soup",
          "Tamarind Drink",
          "Maja Jubilee",
          "Peppered Strawberry Jam",
          "Tamarind Chicken Wings",
          "Spanish-style Sardines Bangus in Olive Oil",
          "Slow Cooker Ham with Pineapple",
          "Mango Bango",
          "Almond Jello",
          "Dalgona Coffee",
          "Buko Pandan Ice Cream",
          "Sweet Mango Barbecue Chicken Skewers",
          "Pichi-Pichi",
          "Bulanglang na Hipon",
          "Mango Jelly",
          "Sago at Gulaman",
          "Fruit Cocktail Graham Float",
          "Puto Lanson",
          "Pancit Upo",
          "Cathedral Window Gelatin",
          "Crispy Fried Calamari",
          "Buko Shake",
          "Bulanglang na Bangus at Hipon",
          "Avocado Ice Cream",
          "Lumpiang Galunggong",
          "Pinaupong Manok",
          "Salted Eggs",
          "Binatog",
          "Coffee Jelly",
          "Ginisang Upo at Sardinas",
          "Kutsinta",
          "How to Toast Garlic",
          "Ginisang Ampalaya Leaves with Tinapa",
          "Pinais na Hipon",
          "Fried Bananas with Salted Caramel Coconut Sauce",
          "Buchi",
          "Tapioca Coconut Dessert Soup",
          "Calamansi Juice",
          "Tilapia in Black Bean Garlic Sauce",
          "Crispy Lechon Belly Roll",
          "Ginisang Ampalaya",
          "Grilled Liempo with Barbecue Sauce",
          "Siopao Asado Recipe",
          "Halabos na Hipon with Butter",
          "Crispy Pork Belly Chips",
          "Low-Carb Breaded Pinatisang Baboy",
          "Garlic Butter Shrimp Recipe",
          "Pinoy Fried Chicken",
          "Buko Pandan",
          "Grilled Tuna Belly",
          "Homemade Taho",
          "Crispy Pata Recipe",
          "Crispy Pork Belly Chicharon",
          "Skinless Longganisa",
          "Crispy Baked Chicken Wings",
          "Paksiw na Salmon sa Gata",
          "Chicken Inasal BBQ Recipe",
          "Ginisang Upo with Sardinas",
          "Popcorn Chicken Recipe",
          "Ginisang Ampalaya na May Itlog at Hipon (Sauteed Bitter Melon with Egg and Shrimp)",
          "Rosemary Crusted Roast Rack of Lamb",
          "Lechon Kawali",
          "Grilled Rib Eye Steak with Arroz Amarillo",
          "Healthy Frozen Blueberry Yogurt Recipe",
          "How To Cook Super Crispy Lechon Kawali",
          "Burong Mustasa (Pickled Flat Mustard Greens)",
          "Sous Vide Strip Steak Recipe",
          "Ube Pichi Pichi Recipe",
          "Grilled Grouper Steak in Foil Packet",
          "Upo Guisado Recipe",
          "Spicy Camaron Rebosado (Deep Fried Beer Battered Shrimp)",
          "Nilasing na Tilapia Recipe",
          "Crispy Bagbagis (Crispy Deep Fried Pork Intestine)",
          "Tinolang Tahong with Malunggay",
          "How to Steam Broccoli",
          "Tulapho Recipe (Crispy Fried Pork)",
          "Lechon Carajay Recipe",
          "Nilasing na Hipon",
          "Grilled St. Louis Style Ribs with Ensaladang Talong and Bagoong",
          "How to Cook Tender Juicy Rib Eye Steak Using a Frying Pan",
          "Fruit Cocktail Float",
          "Daing na Bangus Recipe",
          "Simple Bibingkang Malagkit",
          "Steamed Lobster with Lemon Butter Sauce",
          "Roasted Pork Belly (Lechon Liempo)",
          "Tuna Sandwich Spread",
          "Baked Garlic Milkfish",
          "Ginisang Ampalaya with Shrimp (Sauteed Bitter Gourd)",
          "Sweet and Sour Pompano",
          "Sweet and Sour Chicken Nuggets",
          "Pinoy Fruit Salad Recipe",
          "Simple Orange Chicken Tenders",
          "Roasted Pumpkin Seeds",
          "Orange Glazed Pork",
          "Cedar Plank Salmon",
          "Steamed Shrimp",
          "Sisig Pizza",
          "How to Make Potato Chips on the Stovetop",
          "Grilled Pompano",
          "Pumpkin Muffins",
          "Halabos na Hipon Recipe",
          "How to Make Sago Pearls",
          "Chicharon Bulaklak Recipe",
          "Grilled Flank Steak Recipe",
          "Inihaw na Tilapia Recipe",
          "Breakfast Daing na Bisugo with Sinangag",
          "Melon Juice",
          "Sinangag Recipe (Filipino Fried Rice)",
          "Gluten Free Banana Bread with Almonds Recipe",
          "Sweet Chicken Asado Recipe",
          "Baked Swai Fillet Recipe",
          "Grilled Lobster Tails Recipe",
          "Brined Roast Beef",
          "Simple Baked Pork Chop Recipe",
          "Easy Calamari Recipe",
          "Fried Fish Adobo",
          "Blueberry Greek Yogurt Smoothie",
          "Easy Meatballs Recipe",
          "Papis Recipe",
          "Strawberry Greek Yogurt Smoothie",
          "Banana Yogurt Smoothie",
          "Delicious Oven Baked Potatoes",
          "Chicken with Ampalaya in Oyster Sauce",
          "Crispy Oven Broiled Liempo",
          "Broiled Red Snapper with Pico de Gallo",
          "Atcharang Labanos Recipe",
          "Odong Recipe",
          "Buko Ice Candy",
          "Fried Pompano",
          "Hoisin Glazed Grilled Tofu",
          "Easy Chicken Tacos",
          "Miso Soup Recipe",
          "Squid Sisig Recipe",
          "Cheese Pimiento Sandwich Spread",
          "Sinaing na Tulingan Recipe",
          "Sardines with Chayote Recipe",
          "Easy Porterhouse Steak Recipe",
          "Baked Lobster Tail Recipe",
          "Sta. Fe Dip Recipe",
          "T-Bone Steak Sauteed with Onions",
          "Grilled Brined Pork Chop Recipe",
          "Easy Cranberry Sauce Recipe",
          "Oven Roasted Broccoli",
          "Java Rice Recipe",
          "Super Easy Pork Burger Recipe",
          "Easy Grilled Vegetables",
          "Healthy Vegetable Soup",
          "Beer Brats Recipe",
          "Grilled Pinoy Pork Chop Recipe",
          "Kangkong and Tofu Stir Fry",
          "Grilled Chicken and Corn",
          "Salmon Steak Recipe",
          "Almond Jelly with Fruit Cocktail Recipe",
          "Pumpkin Soup Recipe",
          "Pumpkin Pie",
          "Pepper Crusted Filet Mignon Recipe",
          "Crispy Adobo Flakes Recipe",
          "Bananacue Recipe",
          "Apple Pie Recipe",
          "Vegetable Stir-fry Pasta Recipe",
          "Suman sa Lihiya Recipe",
          "Jean's Graham Mango Float",
          "Easy Buttermilk Fried Chicken",
          "Sardines with Misua Recipe",
          "How to Make Annatto Oil",
          "Halabos na Alimasag Recipe",
          "Latik Recipe",
          "Peach Refrigerator Cake",
          "Pastillas de leche",
          "Fruit Salad Recipe",
          "Baked King Crab Legs with Garlic Lemon Butter Sauce",
          "Roast Beef",
          "Pichi-Pichi Recipe",
          "Kutsinta Recipe",
          "Ginisang Upo Recipe",
          "Nilasing na Hipon Recipe",
          "Longanisa Recipe (Filipino Sausage)",
          "Sago at Gulaman Recipe"
         ],
         "legendgroup": "0",
         "marker": {
          "color": "rgb(230, 131, 16)",
          "size": 5,
          "symbol": "circle"
         },
         "mode": "markers",
         "name": "0",
         "showlegend": true,
         "type": "scattergl",
         "x": [
          0.46818411350250244,
          0.4404606223106384,
          0.285155713558197,
          0.4591068625450134,
          0.6193409562110901,
          0.562248170375824,
          0.4713049530982971,
          0.4933308959007263,
          0.6011165380477905,
          0.2221888303756714,
          0.2221887856721878,
          0.5609859824180603,
          0.6072515845298767,
          0.3998548984527588,
          0.5564003586769104,
          0.5564003586769104,
          0.4675748944282532,
          0.5402148365974426,
          0.36444589495658875,
          0.5521434545516968,
          0.2758728861808777,
          0.5037997961044312,
          0.5988084077835083,
          0.5294885635375977,
          0.6375840306282043,
          0.2221888303756714,
          0.5360623002052307,
          0.4716990888118744,
          0.3033043444156647,
          0.5612364411354065,
          0.25566020607948303,
          0.57196044921875,
          0.4088219106197357,
          0.5574411153793335,
          0.2221888303756714,
          0.5192280411720276,
          0.5990191102027893,
          0.6076372265815735,
          0.5706727504730225,
          0.3012844920158386,
          0.38948118686676025,
          0.48870790004730225,
          0.3934464752674103,
          0.4901197850704193,
          0.5790017247200012,
          0.5801331996917725,
          0.453532338142395,
          0.46095386147499084,
          0.48739922046661377,
          0.2556602954864502,
          0.5575268864631653,
          0.4862273037433624,
          0.4404606223106384,
          0.5978432297706604,
          0.43313875794410706,
          0.41225147247314453,
          0.41095009446144104,
          0.5663154125213623,
          0.48011475801467896,
          0.2221888303756714,
          0.5645319819450378,
          0.34792131185531616,
          0.6002193689346313,
          0.35556286573410034,
          0.2221888303756714,
          0.35272178053855896,
          0.5780363082885742,
          0.42030608654022217,
          0.38605937361717224,
          0.5179436206817627,
          0.37977516651153564,
          0.5634961724281311,
          0.5970489382743835,
          0.4416722059249878,
          0.479434609413147,
          0.6095343828201294,
          0.5987511277198792,
          0.5719603896141052,
          0.6255172491073608,
          0.5987511277198792,
          0.5221108794212341,
          0.5082811713218689,
          0.6316578984260559,
          0.514931321144104,
          0.3681414723396301,
          0.5719603896141052,
          0.5667539834976196,
          0.5797801613807678,
          0.6134562492370605,
          0.6307077407836914,
          0.6002193689346313,
          0.6180052161216736,
          0.6234908103942871,
          0.442590594291687,
          0.5719603896141052,
          0.5777624249458313,
          0.36305907368659973,
          0.5719603896141052,
          0.5968749523162842,
          0.2637620270252228,
          0.4787270128726959,
          0.6158784031867981,
          0.6203732490539551,
          0.5592326521873474,
          0.5835114121437073,
          0.586129367351532,
          0.563633382320404,
          0.2221888303756714,
          0.586129367351532,
          0.5719603896141052,
          0.5632704496383667,
          0.5998950004577637,
          0.520702600479126,
          0.4011603593826294,
          0.4289245903491974,
          0.38653117418289185,
          0.5990190505981445,
          0.5286906957626343,
          0.5891746878623962,
          0.5588840842247009,
          0.4416722059249878,
          0.2637620270252228,
          0.2221888303756714,
          0.4443756937980652,
          0.3273342251777649,
          0.2637620270252228,
          0.5877562165260315,
          0.3947802186012268,
          0.42000865936279297,
          0.5358816385269165,
          0.2221888303756714,
          0.2637620270252228,
          0.6031787395477295,
          0.531417965888977,
          0.2413855642080307,
          0.35420507192611694,
          0.2221888303756714,
          0.2637620270252228,
          0.2221888303756714,
          0.43296536803245544,
          0.4305074214935303,
          0.5728797912597656,
          0.5548964738845825,
          0.5990191102027893,
          0.5834657549858093,
          0.5330561399459839,
          0.4572259783744812,
          0.4503345787525177,
          0.2221888303756714,
          0.3536128103733063,
          0.5884504914283752,
          0.4655526876449585,
          0.44911324977874756,
          0.5941153764724731,
          0.5560812950134277,
          0.5513033270835876,
          0.5593928694725037,
          0.48575377464294434,
          0.549441933631897,
          0.35968881845474243,
          0.5461377501487732,
          0.5703012347221375,
          0.4111016094684601,
          0.5109924077987671,
          0.39010298252105713,
          0.6097233891487122,
          0.6150543689727783,
          0.42030608654022217,
          0.4674563705921173,
          0.2637620270252228,
          0.5987511277198792,
          0.4502868056297302,
          0.39497944712638855,
          0.5011922121047974,
          0.49311333894729614,
          0.2221888303756714,
          0.5116977691650391,
          0.5787391066551208,
          0.5286963582038879,
          0.6222087740898132,
          0.40920934081077576,
          0.5566263198852539,
          0.5901914834976196,
          0.5801224708557129,
          0.4974324107170105,
          0.4887078106403351,
          0.5704928636550903,
          0.6165674328804016,
          0.43003755807876587,
          0.2221888303756714,
          0.2221888303756714,
          0.6206411123275757,
          0.5963301062583923,
          0.6079906821250916,
          0.44360780715942383,
          0.5612257122993469,
          0.4231206178665161,
          0.40593016147613525,
          0.3857734799385071,
          0.4139438271522522,
          0.4154435992240906,
          0.4139438271522522,
          0.4404606223106384,
          0.5987511277198792,
          0.5174411535263062,
          0.4787270128726959,
          0.4990822374820709,
          0.5812599062919617,
          0.34904196858406067,
          0.5997259616851807,
          0.5149728059768677
         ],
         "xaxis": "x",
         "y": [
          0.22254431247711182,
          -0.017130177468061447,
          0.04331900179386139,
          0.19083233177661896,
          0.07392928004264832,
          0.03413017466664314,
          -0.030939126387238503,
          -0.012559453025460243,
          0.16205619275569916,
          -0.06863725930452347,
          -0.06863728165626526,
          0.09599500894546509,
          0.14391084015369415,
          0.016948994249105453,
          0.14731207489967346,
          0.14731207489967346,
          0.004495107568800449,
          0.007087683770805597,
          0.024504873901605606,
          0.12721870839595795,
          -0.05587971583008766,
          -0.013441594317555428,
          0.04951782897114754,
          0.1415051519870758,
          0.05295470356941223,
          -0.06863725930452347,
          0.08085501939058304,
          -0.014011956751346588,
          -0.023422788828611374,
          0.13352914154529572,
          -0.07010619342327118,
          0.12840162217617035,
          -0.08385199308395386,
          0.014665281400084496,
          -0.06863725930452347,
          0.05356987938284874,
          0.12443114817142487,
          0.03177632391452789,
          0.05276862159371376,
          -0.05701650679111481,
          0.036291614174842834,
          -0.005137130618095398,
          -0.04595820978283882,
          0.049100376665592194,
          0.07488326728343964,
          0.02786114253103733,
          -0.01075716596096754,
          -0.016578540205955505,
          -0.01951286382973194,
          -0.07010617852210999,
          0.040994368493556976,
          0.1098054051399231,
          -0.017130177468061447,
          0.05682913213968277,
          -0.008210010826587677,
          -0.0404224693775177,
          0.18392939865589142,
          0.08830077201128006,
          -0.03534693643450737,
          -0.06863725930452347,
          0.026711612939834595,
          -0.016080470755696297,
          0.023780688643455505,
          0.11888658255338669,
          -0.06863725930452347,
          0.19670358300209045,
          0.1278647780418396,
          -0.039635442197322845,
          -0.06724592298269272,
          -0.030505046248435974,
          0.04863937571644783,
          0.059169702231884,
          0.1468764990568161,
          0.12183073163032532,
          0.14570382237434387,
          0.11135087162256241,
          0.11984565109014511,
          0.12840168178081512,
          0.04777490347623825,
          0.11984565109014511,
          0.03134196251630783,
          -0.04006803408265114,
          0.07832729071378708,
          0.011494802311062813,
          0.054243054240942,
          0.12840168178081512,
          0.12651249766349792,
          0.04885154217481613,
          0.16598409414291382,
          0.07946985960006714,
          0.023780688643455505,
          0.03007998690009117,
          0.06604928523302078,
          0.035512108355760574,
          0.12840168178081512,
          0.13756312429904938,
          0.018015017732977867,
          0.12840168178081512,
          0.10473670065402985,
          -0.01875372789800167,
          0.20063666999340057,
          0.08289318531751633,
          0.06131257489323616,
          0.04700717329978943,
          0.08815876394510269,
          0.08396747708320618,
          0.0697191059589386,
          -0.06863725930452347,
          0.08396747708320618,
          0.12840168178081512,
          0.07797113060951233,
          0.10623074322938919,
          0.15264010429382324,
          0.04658239334821701,
          0.052754923701286316,
          -0.06511559337377548,
          0.12443114072084427,
          0.10485532134771347,
          0.14535047113895416,
          0.01820732280611992,
          0.12183073163032532,
          -0.01875372789800167,
          -0.06863725930452347,
          -0.004519134294241667,
          -0.0687919408082962,
          -0.01875372789800167,
          0.027225784957408905,
          -0.03665803000330925,
          -0.09186603128910065,
          0.05247099697589874,
          -0.06863725930452347,
          -0.01875372789800167,
          0.05389824137091637,
          0.09536679834127426,
          0.0023584850132465363,
          0.07196224480867386,
          -0.06863725930452347,
          -0.01875372789800167,
          -0.06863725930452347,
          -0.011616984382271767,
          -0.026248794049024582,
          0.031929902732372284,
          0.1520249843597412,
          0.12443114817142487,
          0.13489747047424316,
          0.15587656199932098,
          0.034650709480047226,
          0.0876295268535614,
          -0.06863725930452347,
          -0.003156186081469059,
          0.08088023960590363,
          0.030941035598516464,
          0.02147904969751835,
          0.06627107411623001,
          0.06485754251480103,
          0.027937425300478935,
          0.019161175936460495,
          0.15082448720932007,
          0.06931798905134201,
          0.05917836353182793,
          0.013742120936512947,
          0.09479616582393646,
          -0.04114798456430435,
          0.05603475496172905,
          -0.08593031764030457,
          0.04160178825259209,
          0.1739434152841568,
          -0.039635442197322845,
          -0.039010148495435715,
          -0.01875372789800167,
          0.11984565109014511,
          0.006717110984027386,
          0.14047442376613617,
          -0.00048185442574322224,
          0.182654470205307,
          -0.06863725930452347,
          -0.02151264064013958,
          0.07099248468875885,
          0.0586528442800045,
          0.0691482424736023,
          -0.029478199779987335,
          0.08588998019695282,
          0.04066605120897293,
          0.1080448180437088,
          0.09603726863861084,
          -0.005137171130627394,
          0.034857671707868576,
          0.0541255921125412,
          0.014364439994096756,
          -0.06863725930452347,
          -0.06863725930452347,
          0.07203245162963867,
          0.10042398422956467,
          0.07595521956682205,
          0.005399329587817192,
          0.060891591012477875,
          -0.07933782041072845,
          -0.013375982642173767,
          -0.11649614572525024,
          -0.0809333473443985,
          -0.0841655433177948,
          -0.0809333473443985,
          -0.017130177468061447,
          0.11984565109014511,
          0.09227125346660614,
          0.20063666999340057,
          0.028855755925178528,
          0.08220887929201126,
          0.13816793262958527,
          0.10804963111877441,
          -0.016517888754606247
         ],
         "yaxis": "y"
        }
       ],
       "layout": {
        "height": 750,
        "legend": {
         "title": {
          "text": "cluster"
         },
         "tracegroupgap": 0
        },
        "margin": {
         "t": 60
        },
        "template": {
         "data": {
          "bar": [
           {
            "error_x": {
             "color": "#2a3f5f"
            },
            "error_y": {
             "color": "#2a3f5f"
            },
            "marker": {
             "line": {
              "color": "#E5ECF6",
              "width": 0.5
             },
             "pattern": {
              "fillmode": "overlay",
              "size": 10,
              "solidity": 0.2
             }
            },
            "type": "bar"
           }
          ],
          "barpolar": [
           {
            "marker": {
             "line": {
              "color": "#E5ECF6",
              "width": 0.5
             },
             "pattern": {
              "fillmode": "overlay",
              "size": 10,
              "solidity": 0.2
             }
            },
            "type": "barpolar"
           }
          ],
          "carpet": [
           {
            "aaxis": {
             "endlinecolor": "#2a3f5f",
             "gridcolor": "white",
             "linecolor": "white",
             "minorgridcolor": "white",
             "startlinecolor": "#2a3f5f"
            },
            "baxis": {
             "endlinecolor": "#2a3f5f",
             "gridcolor": "white",
             "linecolor": "white",
             "minorgridcolor": "white",
             "startlinecolor": "#2a3f5f"
            },
            "type": "carpet"
           }
          ],
          "choropleth": [
           {
            "colorbar": {
             "outlinewidth": 0,
             "ticks": ""
            },
            "type": "choropleth"
           }
          ],
          "contour": [
           {
            "colorbar": {
             "outlinewidth": 0,
             "ticks": ""
            },
            "colorscale": [
             [
              0,
              "#0d0887"
             ],
             [
              0.1111111111111111,
              "#46039f"
             ],
             [
              0.2222222222222222,
              "#7201a8"
             ],
             [
              0.3333333333333333,
              "#9c179e"
             ],
             [
              0.4444444444444444,
              "#bd3786"
             ],
             [
              0.5555555555555556,
              "#d8576b"
             ],
             [
              0.6666666666666666,
              "#ed7953"
             ],
             [
              0.7777777777777778,
              "#fb9f3a"
             ],
             [
              0.8888888888888888,
              "#fdca26"
             ],
             [
              1,
              "#f0f921"
             ]
            ],
            "type": "contour"
           }
          ],
          "contourcarpet": [
           {
            "colorbar": {
             "outlinewidth": 0,
             "ticks": ""
            },
            "type": "contourcarpet"
           }
          ],
          "heatmap": [
           {
            "colorbar": {
             "outlinewidth": 0,
             "ticks": ""
            },
            "colorscale": [
             [
              0,
              "#0d0887"
             ],
             [
              0.1111111111111111,
              "#46039f"
             ],
             [
              0.2222222222222222,
              "#7201a8"
             ],
             [
              0.3333333333333333,
              "#9c179e"
             ],
             [
              0.4444444444444444,
              "#bd3786"
             ],
             [
              0.5555555555555556,
              "#d8576b"
             ],
             [
              0.6666666666666666,
              "#ed7953"
             ],
             [
              0.7777777777777778,
              "#fb9f3a"
             ],
             [
              0.8888888888888888,
              "#fdca26"
             ],
             [
              1,
              "#f0f921"
             ]
            ],
            "type": "heatmap"
           }
          ],
          "heatmapgl": [
           {
            "colorbar": {
             "outlinewidth": 0,
             "ticks": ""
            },
            "colorscale": [
             [
              0,
              "#0d0887"
             ],
             [
              0.1111111111111111,
              "#46039f"
             ],
             [
              0.2222222222222222,
              "#7201a8"
             ],
             [
              0.3333333333333333,
              "#9c179e"
             ],
             [
              0.4444444444444444,
              "#bd3786"
             ],
             [
              0.5555555555555556,
              "#d8576b"
             ],
             [
              0.6666666666666666,
              "#ed7953"
             ],
             [
              0.7777777777777778,
              "#fb9f3a"
             ],
             [
              0.8888888888888888,
              "#fdca26"
             ],
             [
              1,
              "#f0f921"
             ]
            ],
            "type": "heatmapgl"
           }
          ],
          "histogram": [
           {
            "marker": {
             "pattern": {
              "fillmode": "overlay",
              "size": 10,
              "solidity": 0.2
             }
            },
            "type": "histogram"
           }
          ],
          "histogram2d": [
           {
            "colorbar": {
             "outlinewidth": 0,
             "ticks": ""
            },
            "colorscale": [
             [
              0,
              "#0d0887"
             ],
             [
              0.1111111111111111,
              "#46039f"
             ],
             [
              0.2222222222222222,
              "#7201a8"
             ],
             [
              0.3333333333333333,
              "#9c179e"
             ],
             [
              0.4444444444444444,
              "#bd3786"
             ],
             [
              0.5555555555555556,
              "#d8576b"
             ],
             [
              0.6666666666666666,
              "#ed7953"
             ],
             [
              0.7777777777777778,
              "#fb9f3a"
             ],
             [
              0.8888888888888888,
              "#fdca26"
             ],
             [
              1,
              "#f0f921"
             ]
            ],
            "type": "histogram2d"
           }
          ],
          "histogram2dcontour": [
           {
            "colorbar": {
             "outlinewidth": 0,
             "ticks": ""
            },
            "colorscale": [
             [
              0,
              "#0d0887"
             ],
             [
              0.1111111111111111,
              "#46039f"
             ],
             [
              0.2222222222222222,
              "#7201a8"
             ],
             [
              0.3333333333333333,
              "#9c179e"
             ],
             [
              0.4444444444444444,
              "#bd3786"
             ],
             [
              0.5555555555555556,
              "#d8576b"
             ],
             [
              0.6666666666666666,
              "#ed7953"
             ],
             [
              0.7777777777777778,
              "#fb9f3a"
             ],
             [
              0.8888888888888888,
              "#fdca26"
             ],
             [
              1,
              "#f0f921"
             ]
            ],
            "type": "histogram2dcontour"
           }
          ],
          "mesh3d": [
           {
            "colorbar": {
             "outlinewidth": 0,
             "ticks": ""
            },
            "type": "mesh3d"
           }
          ],
          "parcoords": [
           {
            "line": {
             "colorbar": {
              "outlinewidth": 0,
              "ticks": ""
             }
            },
            "type": "parcoords"
           }
          ],
          "pie": [
           {
            "automargin": true,
            "type": "pie"
           }
          ],
          "scatter": [
           {
            "fillpattern": {
             "fillmode": "overlay",
             "size": 10,
             "solidity": 0.2
            },
            "type": "scatter"
           }
          ],
          "scatter3d": [
           {
            "line": {
             "colorbar": {
              "outlinewidth": 0,
              "ticks": ""
             }
            },
            "marker": {
             "colorbar": {
              "outlinewidth": 0,
              "ticks": ""
             }
            },
            "type": "scatter3d"
           }
          ],
          "scattercarpet": [
           {
            "marker": {
             "colorbar": {
              "outlinewidth": 0,
              "ticks": ""
             }
            },
            "type": "scattercarpet"
           }
          ],
          "scattergeo": [
           {
            "marker": {
             "colorbar": {
              "outlinewidth": 0,
              "ticks": ""
             }
            },
            "type": "scattergeo"
           }
          ],
          "scattergl": [
           {
            "marker": {
             "colorbar": {
              "outlinewidth": 0,
              "ticks": ""
             }
            },
            "type": "scattergl"
           }
          ],
          "scattermapbox": [
           {
            "marker": {
             "colorbar": {
              "outlinewidth": 0,
              "ticks": ""
             }
            },
            "type": "scattermapbox"
           }
          ],
          "scatterpolar": [
           {
            "marker": {
             "colorbar": {
              "outlinewidth": 0,
              "ticks": ""
             }
            },
            "type": "scatterpolar"
           }
          ],
          "scatterpolargl": [
           {
            "marker": {
             "colorbar": {
              "outlinewidth": 0,
              "ticks": ""
             }
            },
            "type": "scatterpolargl"
           }
          ],
          "scatterternary": [
           {
            "marker": {
             "colorbar": {
              "outlinewidth": 0,
              "ticks": ""
             }
            },
            "type": "scatterternary"
           }
          ],
          "surface": [
           {
            "colorbar": {
             "outlinewidth": 0,
             "ticks": ""
            },
            "colorscale": [
             [
              0,
              "#0d0887"
             ],
             [
              0.1111111111111111,
              "#46039f"
             ],
             [
              0.2222222222222222,
              "#7201a8"
             ],
             [
              0.3333333333333333,
              "#9c179e"
             ],
             [
              0.4444444444444444,
              "#bd3786"
             ],
             [
              0.5555555555555556,
              "#d8576b"
             ],
             [
              0.6666666666666666,
              "#ed7953"
             ],
             [
              0.7777777777777778,
              "#fb9f3a"
             ],
             [
              0.8888888888888888,
              "#fdca26"
             ],
             [
              1,
              "#f0f921"
             ]
            ],
            "type": "surface"
           }
          ],
          "table": [
           {
            "cells": {
             "fill": {
              "color": "#EBF0F8"
             },
             "line": {
              "color": "white"
             }
            },
            "header": {
             "fill": {
              "color": "#C8D4E3"
             },
             "line": {
              "color": "white"
             }
            },
            "type": "table"
           }
          ]
         },
         "layout": {
          "annotationdefaults": {
           "arrowcolor": "#2a3f5f",
           "arrowhead": 0,
           "arrowwidth": 1
          },
          "autotypenumbers": "strict",
          "coloraxis": {
           "colorbar": {
            "outlinewidth": 0,
            "ticks": ""
           }
          },
          "colorscale": {
           "diverging": [
            [
             0,
             "#8e0152"
            ],
            [
             0.1,
             "#c51b7d"
            ],
            [
             0.2,
             "#de77ae"
            ],
            [
             0.3,
             "#f1b6da"
            ],
            [
             0.4,
             "#fde0ef"
            ],
            [
             0.5,
             "#f7f7f7"
            ],
            [
             0.6,
             "#e6f5d0"
            ],
            [
             0.7,
             "#b8e186"
            ],
            [
             0.8,
             "#7fbc41"
            ],
            [
             0.9,
             "#4d9221"
            ],
            [
             1,
             "#276419"
            ]
           ],
           "sequential": [
            [
             0,
             "#0d0887"
            ],
            [
             0.1111111111111111,
             "#46039f"
            ],
            [
             0.2222222222222222,
             "#7201a8"
            ],
            [
             0.3333333333333333,
             "#9c179e"
            ],
            [
             0.4444444444444444,
             "#bd3786"
            ],
            [
             0.5555555555555556,
             "#d8576b"
            ],
            [
             0.6666666666666666,
             "#ed7953"
            ],
            [
             0.7777777777777778,
             "#fb9f3a"
            ],
            [
             0.8888888888888888,
             "#fdca26"
            ],
            [
             1,
             "#f0f921"
            ]
           ],
           "sequentialminus": [
            [
             0,
             "#0d0887"
            ],
            [
             0.1111111111111111,
             "#46039f"
            ],
            [
             0.2222222222222222,
             "#7201a8"
            ],
            [
             0.3333333333333333,
             "#9c179e"
            ],
            [
             0.4444444444444444,
             "#bd3786"
            ],
            [
             0.5555555555555556,
             "#d8576b"
            ],
            [
             0.6666666666666666,
             "#ed7953"
            ],
            [
             0.7777777777777778,
             "#fb9f3a"
            ],
            [
             0.8888888888888888,
             "#fdca26"
            ],
            [
             1,
             "#f0f921"
            ]
           ]
          },
          "colorway": [
           "#636efa",
           "#EF553B",
           "#00cc96",
           "#ab63fa",
           "#FFA15A",
           "#19d3f3",
           "#FF6692",
           "#B6E880",
           "#FF97FF",
           "#FECB52"
          ],
          "font": {
           "color": "#2a3f5f"
          },
          "geo": {
           "bgcolor": "white",
           "lakecolor": "white",
           "landcolor": "#E5ECF6",
           "showlakes": true,
           "showland": true,
           "subunitcolor": "white"
          },
          "hoverlabel": {
           "align": "left"
          },
          "hovermode": "closest",
          "mapbox": {
           "style": "light"
          },
          "paper_bgcolor": "white",
          "plot_bgcolor": "#E5ECF6",
          "polar": {
           "angularaxis": {
            "gridcolor": "white",
            "linecolor": "white",
            "ticks": ""
           },
           "bgcolor": "#E5ECF6",
           "radialaxis": {
            "gridcolor": "white",
            "linecolor": "white",
            "ticks": ""
           }
          },
          "scene": {
           "xaxis": {
            "backgroundcolor": "#E5ECF6",
            "gridcolor": "white",
            "gridwidth": 2,
            "linecolor": "white",
            "showbackground": true,
            "ticks": "",
            "zerolinecolor": "white"
           },
           "yaxis": {
            "backgroundcolor": "#E5ECF6",
            "gridcolor": "white",
            "gridwidth": 2,
            "linecolor": "white",
            "showbackground": true,
            "ticks": "",
            "zerolinecolor": "white"
           },
           "zaxis": {
            "backgroundcolor": "#E5ECF6",
            "gridcolor": "white",
            "gridwidth": 2,
            "linecolor": "white",
            "showbackground": true,
            "ticks": "",
            "zerolinecolor": "white"
           }
          },
          "shapedefaults": {
           "line": {
            "color": "#2a3f5f"
           }
          },
          "ternary": {
           "aaxis": {
            "gridcolor": "white",
            "linecolor": "white",
            "ticks": ""
           },
           "baxis": {
            "gridcolor": "white",
            "linecolor": "white",
            "ticks": ""
           },
           "bgcolor": "#E5ECF6",
           "caxis": {
            "gridcolor": "white",
            "linecolor": "white",
            "ticks": ""
           }
          },
          "title": {
           "x": 0.05
          },
          "xaxis": {
           "automargin": true,
           "gridcolor": "white",
           "linecolor": "white",
           "ticks": "",
           "title": {
            "standoff": 15
           },
           "zerolinecolor": "white",
           "zerolinewidth": 2
          },
          "yaxis": {
           "automargin": true,
           "gridcolor": "white",
           "linecolor": "white",
           "ticks": "",
           "title": {
            "standoff": 15
           },
           "zerolinecolor": "white",
           "zerolinewidth": 2
          }
         }
        },
        "title": {
         "text": "Ingredient-Based Clustering of Filipino Dishes"
        },
        "updatemenus": [
         {
          "buttons": [
           {
            "args": [
             {
              "visible": [
               true,
               false,
               false,
               false,
               false,
               false,
               false
              ]
             },
             {
              "title": "Ingredient-Based Clustering - Cluster 3"
             }
            ],
            "label": "Cluster 3",
            "method": "update"
           },
           {
            "args": [
             {
              "visible": [
               false,
               true,
               false,
               false,
               false,
               false,
               false
              ]
             },
             {
              "title": "Ingredient-Based Clustering - Cluster 4"
             }
            ],
            "label": "Cluster 4",
            "method": "update"
           },
           {
            "args": [
             {
              "visible": [
               false,
               false,
               true,
               false,
               false,
               false,
               false
              ]
             },
             {
              "title": "Ingredient-Based Clustering - Cluster 5"
             }
            ],
            "label": "Cluster 5",
            "method": "update"
           },
           {
            "args": [
             {
              "visible": [
               false,
               false,
               false,
               true,
               false,
               false,
               false
              ]
             },
             {
              "title": "Ingredient-Based Clustering - Cluster 1"
             }
            ],
            "label": "Cluster 1",
            "method": "update"
           },
           {
            "args": [
             {
              "visible": [
               false,
               false,
               false,
               false,
               true,
               false,
               false
              ]
             },
             {
              "title": "Ingredient-Based Clustering - Cluster 2"
             }
            ],
            "label": "Cluster 2",
            "method": "update"
           },
           {
            "args": [
             {
              "visible": [
               false,
               false,
               false,
               false,
               false,
               true,
               false
              ]
             },
             {
              "title": "Ingredient-Based Clustering - Cluster 6"
             }
            ],
            "label": "Cluster 6",
            "method": "update"
           },
           {
            "args": [
             {
              "visible": [
               false,
               false,
               false,
               false,
               false,
               false,
               true
              ]
             },
             {
              "title": "Ingredient-Based Clustering - Cluster 0"
             }
            ],
            "label": "Cluster 0",
            "method": "update"
           }
          ],
          "direction": "down",
          "type": "buttons"
         }
        ],
        "width": 750,
        "xaxis": {
         "anchor": "y",
         "domain": [
          0,
          1
         ],
         "title": {
          "text": "x"
         }
        },
        "yaxis": {
         "anchor": "x",
         "domain": [
          0,
          1
         ],
         "title": {
          "text": "y"
         }
        }
       }
      }
     },
     "metadata": {},
     "output_type": "display_data"
    }
   ],
   "source": [
    "import plotly.express as px\n",
    "import pandas as pd\n",
    "\n",
    "recipe_df = pd.DataFrame(\n",
    "    {\n",
    "        \"x\": reduced_embeddings[:, 0],\n",
    "        \"y\": reduced_embeddings[:, 1],\n",
    "        \"cluster\": cluster_labels.astype(str),\n",
    "        \"recipe_name\": reduced_df[\"name\"],\n",
    "        \"ingredients\": [\n",
    "            \"<br>\".join(ingredients)\n",
    "            for ingredients in reduced_df[\"ingredients\"]\n",
    "        ],\n",
    "    }\n",
    ")\n",
    "\n",
    "fig = px.scatter(\n",
    "    recipe_df,\n",
    "    x=\"x\",\n",
    "    y=\"y\",\n",
    "    color=\"cluster\",\n",
    "    hover_name=\"recipe_name\",\n",
    "    hover_data=[\"ingredients\"],\n",
    "    width=750,\n",
    "    height=750,\n",
    "    color_discrete_sequence=px.colors.qualitative.Bold,\n",
    ")\n",
    "\n",
    "fig.update_traces(marker=dict(size=5))\n",
    "fig.update_layout(title=\"Ingredient-Based Clustering of Filipino Dishes\")\n",
    "\n",
    "unique_clusters = recipe_df[\"cluster\"].unique()\n",
    "buttons = list(\n",
    "    [\n",
    "        dict(\n",
    "            label=f\"Cluster {cluster}\",\n",
    "            method=\"update\",\n",
    "            args=[\n",
    "                {\"visible\": [cluster == c for c in unique_clusters]},\n",
    "                {\"title\": f\"Ingredient-Based Clustering - Cluster {cluster}\"},\n",
    "            ],\n",
    "        )\n",
    "        for cluster in unique_clusters\n",
    "    ]\n",
    ")\n",
    "fig.update_layout(\n",
    "    updatemenus=[\n",
    "        dict(\n",
    "            type=\"buttons\",\n",
    "            direction=\"down\",\n",
    "            buttons=buttons,\n",
    "        )\n",
    "    ]\n",
    ")\n",
    "\n",
    "fig.show()"
   ]
  }
 ],
 "metadata": {
  "kernelspec": {
   "display_name": "venv",
   "language": "python",
   "name": "python3"
  },
  "language_info": {
   "codemirror_mode": {
    "name": "ipython",
    "version": 3
   },
   "file_extension": ".py",
   "mimetype": "text/x-python",
   "name": "python",
   "nbconvert_exporter": "python",
   "pygments_lexer": "ipython3",
   "version": "3.12.2"
  }
 },
 "nbformat": 4,
 "nbformat_minor": 2
}
