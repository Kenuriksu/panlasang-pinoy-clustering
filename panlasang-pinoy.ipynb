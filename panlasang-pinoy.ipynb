{
 "cells": [
  {
   "cell_type": "markdown",
   "metadata": {},
   "source": [
    "# Ingredient-Based Clustering of Pinoy Dishes\n"
   ]
  },
  {
   "cell_type": "markdown",
   "metadata": {},
   "source": [
    "## Data loading and preview\n"
   ]
  },
  {
   "cell_type": "code",
   "execution_count": 1,
   "metadata": {},
   "outputs": [
    {
     "data": {
      "text/plain": [
       "{'link': 'https://www.kawalingpinoy.com/cheese-cupcakes/',\n",
       " 'name': 'Cheese Cupcakes',\n",
       " 'ingredients': ['flour, sifted',\n",
       "  'baking powder',\n",
       "  'salt',\n",
       "  'butter, softened',\n",
       "  'sugar',\n",
       "  'eggs',\n",
       "  '(14 ounces) sweetened condensed milk',\n",
       "  'quick-melt cheese, shredded',\n",
       "  'cheddar cheese, shredded'],\n",
       " 'instructions': ['Line muffin pan with cupcake liners.',\n",
       "  'In a large bowl, combine flour, baking powder,\\xa0and salt.',\n",
       "  'In a medium bowl, beat butter, sugar, and eggs with an electric mixer until combined.',\n",
       "  'Beginning and ending with flour mixture, add flour mixture in thirds and ½ of sweetened condensed milk in between (⅓ flour mixture, ½ condensed milk, ⅓ flour mixture, ½ condensed milk and ⅓ flour mixture) to egg mixture. Beat at low speed with every addition.',\n",
       "  'Add quick-melt cheese and stir to combine.',\n",
       "  'Using a scoop or spoon, fill each muffin hole up to ¾ full. Top with cheddar cheese.',\n",
       "  'Bake in a 350 F oven for about 20 to 25 minutes or until a toothpick inserted comes out clean and top is golden. Remove from oven and allow to cool.']}"
      ]
     },
     "execution_count": 1,
     "metadata": {},
     "output_type": "execute_result"
    }
   ],
   "source": [
    "import os\n",
    "import json\n",
    "\n",
    "DATA_FOLDER = \"data\"\n",
    "\n",
    "recipe_files = [\n",
    "    file\n",
    "    for file in os.listdir(DATA_FOLDER)\n",
    "    if file.endswith(\"recipes.json\")\n",
    "]\n",
    "\n",
    "recipes = []\n",
    "for file in recipe_files:\n",
    "    file_path = os.path.join(DATA_FOLDER, file)\n",
    "    with open(file_path, encoding=\"utf-8\") as f:\n",
    "        recipe_data = json.load(f)\n",
    "        recipes.extend(recipe_data)\n",
    "\n",
    "recipes[0]"
   ]
  },
  {
   "cell_type": "code",
   "execution_count": 2,
   "metadata": {},
   "outputs": [
    {
     "data": {
      "text/plain": [
       "2815"
      ]
     },
     "execution_count": 2,
     "metadata": {},
     "output_type": "execute_result"
    }
   ],
   "source": [
    "len(recipes)"
   ]
  },
  {
   "cell_type": "code",
   "execution_count": 3,
   "metadata": {},
   "outputs": [
    {
     "data": {
      "text/plain": [
       "5024"
      ]
     },
     "execution_count": 3,
     "metadata": {},
     "output_type": "execute_result"
    }
   ],
   "source": [
    "def get_unique_ingredients(recipes):\n",
    "    \"\"\"Get a list of unique ingredients from a list of recipes.\"\"\"\n",
    "    ingredients = set()\n",
    "    for recipe in recipes:\n",
    "        if not recipe[\"ingredients\"]:\n",
    "            continue\n",
    "        for ingredient in recipe[\"ingredients\"]:\n",
    "            ingredients.add(ingredient)\n",
    "    return list(sorted(ingredients))\n",
    "\n",
    "\n",
    "unique_ingredients = get_unique_ingredients(recipes)\n",
    "len(unique_ingredients)"
   ]
  },
  {
   "cell_type": "code",
   "execution_count": 4,
   "metadata": {},
   "outputs": [],
   "source": [
    "with open(\"data/raw_ingredients.txt\", \"w\", encoding=\"utf-8\") as file:\n",
    "    file.writelines(\"\\n\".join(unique_ingredients))"
   ]
  },
  {
   "cell_type": "markdown",
   "metadata": {},
   "source": [
    "## Preprocessing\n"
   ]
  },
  {
   "cell_type": "code",
   "execution_count": 5,
   "metadata": {},
   "outputs": [],
   "source": [
    "import spacy\n",
    "from tabulate import tabulate\n",
    "from tqdm import tqdm"
   ]
  },
  {
   "cell_type": "code",
   "execution_count": 6,
   "metadata": {},
   "outputs": [],
   "source": [
    "nlp = spacy.load(\"en_core_web_lg\")"
   ]
  },
  {
   "cell_type": "code",
   "execution_count": 7,
   "metadata": {},
   "outputs": [
    {
     "data": {
      "text/plain": [
       "(2469, 346)"
      ]
     },
     "execution_count": 7,
     "metadata": {},
     "output_type": "execute_result"
    }
   ],
   "source": [
    "non_empty_recipes = [\n",
    "    recipe\n",
    "    for recipe in recipes\n",
    "    if recipe[\"ingredients\"]\n",
    "]\n",
    "\n",
    "len(non_empty_recipes), len(recipes) - len(non_empty_recipes)"
   ]
  },
  {
   "cell_type": "code",
   "execution_count": 8,
   "metadata": {},
   "outputs": [
    {
     "name": "stdout",
     "output_type": "stream",
     "text": [
      "text    lemma    pos    tag    dep       is_alpha    ent_type\n",
      "------  -------  -----  -----  --------  ----------  ----------\n",
      "14      14       NUM    CD     nummod    False       QUANTITY\n",
      "oz      oz       NOUN   NN     compound  True        QUANTITY\n",
      ".       .        PUNCT  .      punct     False\n",
      "bean    bean     PROPN  NNP    compound  True\n",
      "curd    curd     PROPN  NNP    ROOT      True\n",
      ",       ,        PUNCT  ,      punct     False\n",
      "sliced  slice    VERB   VBN    acl       True\n",
      "into    into     ADP    IN     prep      True\n",
      "1/2     1/2      NUM    CD     nummod    False       QUANTITY\n",
      "inch    inch     NOUN   NN     npadvmod  True        QUANTITY\n",
      "thick   thick    ADJ    JJ     amod      True\n",
      "flat    flat     ADJ    JJ     amod      True\n",
      "pieces  piece    NOUN   NNS    pobj      True\n"
     ]
    }
   ],
   "source": [
    "def display_tokens(text):\n",
    "    \"\"\"Display token attributes for a given string.\"\"\",\n",
    "    rows = []\n",
    "    for token in nlp(text):\n",
    "        row = [\n",
    "            token.text,\n",
    "            token.lemma_,\n",
    "            token.pos_,\n",
    "            token.tag_,\n",
    "            token.dep_,\n",
    "            token.is_alpha,\n",
    "            token.ent_type_\n",
    "        ]\n",
    "        rows.append(row)\n",
    "    headers = [\n",
    "        \"text\",\n",
    "        \"lemma\",\n",
    "        \"pos\",\n",
    "        \"tag\",\n",
    "        \"dep\",\n",
    "        \"is_alpha\",\n",
    "        \"ent_type\"\n",
    "    ]\n",
    "    print(tabulate(rows, headers=headers))\n",
    "\n",
    "\n",
    "SAMPLE_INGREDIENT = \"14 oz. bean curd, sliced into 1/2 inch thick flat pieces\"\n",
    "display_tokens(SAMPLE_INGREDIENT)"
   ]
  },
  {
   "cell_type": "code",
   "execution_count": 9,
   "metadata": {},
   "outputs": [
    {
     "name": "stdout",
     "output_type": "stream",
     "text": [
      "text    lemma    pos    tag    dep       is_alpha    ent_type\n",
      "------  -------  -----  -----  --------  ----------  ----------\n",
      "oz      oz       NOUN   NN     compound  True\n",
      "bean    bean     NOUN   NN     compound  True\n",
      "curd    curd     NOUN   NN     compound  True\n",
      "inch    inch     NOUN   NN     compound  True\n",
      "piece   piece    NOUN   NN     ROOT      True\n"
     ]
    }
   ],
   "source": [
    "def lemmatize_valid_nouns(ingredient):\n",
    "    \"\"\"Lemmatize valid nouns in a string.\"\"\",\n",
    "    doc = nlp(ingredient)\n",
    "    valid_lemmas = []\n",
    "    for token in doc:\n",
    "        if token.is_alpha and token.pos_ in [\"NOUN\", \"PROPN\"]:\n",
    "            valid_lemmas.append(token.lemma_)\n",
    "    return \" \".join(valid_lemmas)\n",
    "\n",
    "\n",
    "lemmatized = lemmatize_valid_nouns(SAMPLE_INGREDIENT)\n",
    "display_tokens(lemmatized)"
   ]
  },
  {
   "cell_type": "code",
   "execution_count": 10,
   "metadata": {},
   "outputs": [
    {
     "name": "stdout",
     "output_type": "stream",
     "text": [
      "text    lemma    pos    tag    dep       is_alpha    ent_type\n",
      "------  -------  -----  -----  --------  ----------  ----------\n",
      "bean    bean     PROPN  NNP    compound  True\n",
      "curd    curd     NOUN   NN     ROOT      True\n"
     ]
    }
   ],
   "source": [
    "with open(f\"data/culinary_stopwords.txt\") as file:\n",
    "    culinary_stopwords = [line.strip() for line in file]\n",
    "\n",
    "\n",
    "def filter_stopwords(ingredient):\n",
    "    \"\"\"Filter out culinary stopwords from a string of terms.\"\"\"\n",
    "    clean_terms = []\n",
    "    for term in ingredient.split():\n",
    "        if term not in culinary_stopwords:\n",
    "            clean_terms.append(term)\n",
    "    return \" \".join(clean_terms)\n",
    "\n",
    "\n",
    "filtered = filter_stopwords(lemmatized)\n",
    "display_tokens(filtered)"
   ]
  },
  {
   "cell_type": "code",
   "execution_count": 11,
   "metadata": {},
   "outputs": [
    {
     "name": "stdout",
     "output_type": "stream",
     "text": [
      "text    lemma    pos    tag    dep    is_alpha    ent_type\n",
      "------  -------  -----  -----  -----  ----------  ----------\n",
      "bean    bean     NOUN   NN     ROOT   True\n"
     ]
    }
   ],
   "source": [
    "with open(\"data/ingredient_synonyms.json\") as file:\n",
    "    ingredient_synonyms = json.load(file)\n",
    "\n",
    "\n",
    "def handle_synonym(ingredient):\n",
    "    \"\"\"Replace ingredient synonyms with a common name.\"\"\"\n",
    "    return ingredient_synonyms.get(ingredient, ingredient)\n",
    "\n",
    "common_name = handle_synonym(filtered)\n",
    "display_tokens(common_name)"
   ]
  },
  {
   "cell_type": "code",
   "execution_count": 12,
   "metadata": {},
   "outputs": [
    {
     "data": {
      "text/plain": [
       "'bean'"
      ]
     },
     "execution_count": 12,
     "metadata": {},
     "output_type": "execute_result"
    }
   ],
   "source": [
    "def preprocess_ingredient(ingredient):\n",
    "    \"\"\"Preprocess an ingredient string to extract key terms.\"\"\",\n",
    "    key_text = ingredient.split(\"(\")[0]\n",
    "    key_text = key_text.split(\" or \")[0]\n",
    "    key_text = key_text.lower().strip()\n",
    "    doc = nlp(key_text)\n",
    "\n",
    "    clean_tokens = []\n",
    "    for token in doc:\n",
    "        if (\n",
    "            token.is_alpha\n",
    "            and token.pos_ in [\"NOUN\", \"PROPN\"]\n",
    "            and token.lemma_ not in culinary_stopwords\n",
    "        ):\n",
    "            clean_tokens.append(token.lemma_)\n",
    "\n",
    "    cleaned = \" \".join(clean_tokens)\n",
    "    return ingredient_synonyms.get(cleaned, cleaned)\n",
    "\n",
    "\n",
    "clean_ingredient = preprocess_ingredient(SAMPLE_INGREDIENT)\n",
    "clean_ingredient"
   ]
  },
  {
   "cell_type": "code",
   "execution_count": 13,
   "metadata": {},
   "outputs": [
    {
     "name": "stderr",
     "output_type": "stream",
     "text": [
      "100%|██████████| 2469/2469 [01:37<00:00, 25.40it/s]\n"
     ]
    }
   ],
   "source": [
    "cleaned_recipes = non_empty_recipes.copy()\n",
    "\n",
    "for i, recipe in enumerate(tqdm(cleaned_recipes)):\n",
    "    ingredients = set()\n",
    "    for ingredient in recipe[\"ingredients\"]:\n",
    "        clean_terms = preprocess_ingredient(ingredient)\n",
    "        if clean_terms:\n",
    "            ingredients.add(clean_terms)\n",
    "    cleaned_recipes[i][\"ingredients\"] = list(sorted(ingredients))"
   ]
  },
  {
   "cell_type": "code",
   "execution_count": 14,
   "metadata": {},
   "outputs": [
    {
     "data": {
      "text/plain": [
       "1808"
      ]
     },
     "execution_count": 14,
     "metadata": {},
     "output_type": "execute_result"
    }
   ],
   "source": [
    "import numpy as np\n",
    "\n",
    "ingredient_counts = [len(recipe[\"ingredients\"]) for recipe in cleaned_recipes]\n",
    "min_ingredient = np.mean(ingredient_counts) * 0.8\n",
    "cleaned_recipes = [\n",
    "    recipe\n",
    "    for recipe in cleaned_recipes\n",
    "    if len(recipe[\"ingredients\"]) > min_ingredient\n",
    "]\n",
    "\n",
    "len(cleaned_recipes)"
   ]
  },
  {
   "cell_type": "raw",
   "metadata": {},
   "source": [
    "unique_ingredients = sorted(get_unique_ingredients(cleaned_recipes))\n",
    "ingredient_pairs = dict(zip(unique_ingredients, unique_ingredients))\n",
    "\n",
    "with open(f\"data/ingredient_synonyms.json\", \"w\", encoding=\"utf-8\") as file:\n",
    "    json.dump(ingredient_pairs, file, indent=2, ensure_ascii=False)"
   ]
  },
  {
   "cell_type": "markdown",
   "metadata": {},
   "source": [
    "## Vectorization\n"
   ]
  },
  {
   "cell_type": "code",
   "execution_count": 15,
   "metadata": {},
   "outputs": [
    {
     "data": {
      "text/plain": [
       "(1808, 751)"
      ]
     },
     "execution_count": 15,
     "metadata": {},
     "output_type": "execute_result"
    }
   ],
   "source": [
    "from sklearn.feature_extraction.text import CountVectorizer\n",
    "\n",
    "vectorizer = CountVectorizer()\n",
    "embeddings = vectorizer.fit_transform(\n",
    "    [\" \".join(recipe[\"ingredients\"]) for recipe in cleaned_recipes]\n",
    ")\n",
    "\n",
    "embeddings.shape"
   ]
  },
  {
   "cell_type": "markdown",
   "metadata": {},
   "source": [
    "## Dimensionality reduction"
   ]
  },
  {
   "cell_type": "code",
   "execution_count": 16,
   "metadata": {},
   "outputs": [
    {
     "data": {
      "text/plain": [
       "(1808, 150)"
      ]
     },
     "execution_count": 16,
     "metadata": {},
     "output_type": "execute_result"
    }
   ],
   "source": [
    "from sklearn.decomposition import TruncatedSVD\n",
    "\n",
    "dimensions_to_keep = 150\n",
    "svd = TruncatedSVD(n_components=dimensions_to_keep)\n",
    "reduced_embeddings = svd.fit_transform(embeddings)\n",
    "\n",
    "reduced_embeddings.shape\n"
   ]
  },
  {
   "cell_type": "markdown",
   "metadata": {},
   "source": [
    "## Clustering\n"
   ]
  },
  {
   "cell_type": "code",
   "execution_count": 17,
   "metadata": {},
   "outputs": [],
   "source": [
    "from sklearn.cluster import AgglomerativeClustering\n",
    "\n",
    "n_clusters = 7\n",
    "clustering = AgglomerativeClustering(n_clusters=n_clusters, linkage=\"ward\")\n",
    "cluster_labels = clustering.fit_predict(reduced_embeddings)"
   ]
  },
  {
   "cell_type": "markdown",
   "metadata": {},
   "source": [
    "## Visualization\n"
   ]
  },
  {
   "cell_type": "code",
   "execution_count": 18,
   "metadata": {},
   "outputs": [
    {
     "data": {
      "application/vnd.plotly.v1+json": {
       "config": {
        "plotlyServerURL": "https://plot.ly"
       },
       "data": [
        {
         "customdata": [
          [
           "bean<br>canola oil<br>garlic<br>onion<br>pepper<br>pork<br>soy sauce<br>vinegar"
          ],
          [
           "beef<br>bread<br>butter<br>canola oil<br>egg<br>onion<br>salt"
          ],
          [
           "canola oil<br>carrot<br>chicken<br>dog bias<br>garlic<br>onion<br>pepper<br>pineapple juice<br>potato<br>raisin<br>soy sauce<br>tomato paste"
          ],
          [
           "butter<br>garlic<br>olive oil<br>pepper<br>ribeye steak<br>soy sauce<br>sugar<br>worcestershire sauce"
          ],
          [
           "bean<br>coconut<br>corn<br>jackfruit<br>rice flour<br>sago<br>sugar"
          ],
          [
           "canola oil<br>garlic<br>hog casing foot<br>kitchen twine<br>paprika<br>pepper<br>pork<br>salt<br>soy sauce<br>sugar<br>vinegar<br>wine"
          ],
          [
           "beef<br>finger chilie<br>fish sauce<br>gabi<br>kangkong<br>onion<br>pepper<br>roma tomato<br>tamarind"
          ],
          [
           "bay<br>broth<br>canola oil<br>carrot<br>celery stalk<br>chicken<br>corn<br>egg<br>fish sauce<br>garlic<br>napa cabbage<br>oil<br>onion<br>salt"
          ],
          [
           "canola oil<br>chicken<br>corn<br>garlic<br>lemon<br>liver<br>onion<br>salt<br>soy sauce"
          ],
          [
           "bread crumb<br>butter<br>crab<br>garlic<br>juice lemon<br>mayonnaise<br>onion<br>pepper<br>salt"
          ],
          [
           "canola oil<br>fish sauce<br>frog leg<br>garlic<br>ginger<br>onion<br>pepper<br>spinach"
          ],
          [
           "bagoong<br>canola oil<br>labong<br>leave stem<br>onion<br>pepper<br>tilapia"
          ],
          [
           "bay<br>corn<br>garlic<br>onion<br>oyster sauce<br>pork<br>salt<br>soy sauce<br>vinegar"
          ],
          [
           "annatto<br>bean<br>canola oil<br>chicken<br>eggplant<br>fish sauce<br>garlic<br>onion<br>peanut butter<br>pechay leave<br>pepper<br>rice flour"
          ],
          [
           "bay<br>canola oil<br>coconut<br>corn<br>garlic<br>onion<br>pepper<br>pork<br>salt<br>soy sauce<br>vinegar"
          ],
          [
           "canola oil<br>fish sauce<br>garlic<br>ginger<br>lemongras<br>onion<br>papaya<br>pepper<br>salt<br>spinach"
          ],
          [
           "cabbage<br>canola oil<br>carrot<br>chicken<br>corn<br>egg<br>fish sauce<br>garlic<br>onion<br>pepper"
          ],
          [
           "blood<br>canola oil<br>chili leave<br>fish sauce<br>garlic<br>ginger<br>onion<br>pepper<br>pork"
          ],
          [
           "canola oil<br>chicken<br>chili sauce<br>corn<br>egg<br>light soy sauce<br>onion<br>pepper<br>pineapple<br>pineapple juice<br>salt"
          ],
          [
           "canola oil<br>cashews<br>chicken<br>corn<br>garlic<br>light soy sauce<br>onion<br>oyster sauce<br>salt<br>snow peas<br>sugar<br>wine"
          ],
          [
           "chicken<br>corn<br>egg<br>garlic<br>ginger<br>onion<br>pepper<br>salt<br>soy sauce"
          ],
          [
           "canola oil<br>garlic<br>ginger<br>mirin<br>onion<br>sake<br>sesame seed<br>soy sauce<br>sugar"
          ],
          [
           "canola oil<br>fish sauce<br>garlic<br>ginger<br>onion<br>pepper<br>potato"
          ],
          [
           "canola oil<br>carrot bias<br>celery bias<br>corn<br>garlic<br>light soy sauce<br>onion<br>oyster sauce<br>quail egg<br>shrimp<br>snow peas<br>sugar<br>wine"
          ],
          [
           "coconut<br>corn<br>cream<br>egg<br>flour<br>lard<br>lemon juice<br>milk<br>salt<br>sugar"
          ],
          [
           "calamansi juice<br>canola oil<br>chicken<br>chili flake<br>corn<br>egg<br>garlic<br>ginger<br>light soy sauce<br>onion<br>sesame oil<br>sesame seed<br>sugar<br>wine"
          ],
          [
           "cabbage<br>canola oil<br>carrot<br>garlic<br>ginger<br>honey<br>juice lemon<br>onion<br>peanut<br>peanut butter<br>pepper<br>romaine lettuce heart<br>sesame oil<br>soy sauce<br>sriracha sauce<br>sugar<br>vinegar"
          ],
          [
           "beef<br>broccoli floret<br>corn<br>egg<br>garlic<br>ginger<br>liquid broccoli<br>oil<br>onion<br>oyster sauce<br>salt<br>sesame oil<br>soy sauce<br>sugar<br>vinegar<br>wine"
          ],
          [
           "canola oil<br>coconut<br>fish sauce<br>garlic<br>ginger<br>lemongras<br>onion<br>papaya<br>spinach leave"
          ],
          [
           "butter<br>cake flour<br>corn<br>cream tartar<br>egg<br>fruit cocktail juice<br>gelatin<br>milk<br>oil<br>salt<br>sugar<br>vanilla"
          ],
          [
           "canola oil<br>egg<br>garlic<br>ginger<br>kinchay<br>pork<br>salt<br>sausage<br>shrimp<br>soy sauce<br>wonton"
          ],
          [
           "bangus<br>bean<br>canola oil<br>garlic<br>ginger<br>onion<br>pepper<br>tahure<br>tomato<br>vinegar"
          ],
          [
           "butter<br>egg<br>milk<br>potato<br>salt<br>sugar<br>yeast"
          ],
          [
           "banana<br>cheese<br>egg<br>hamburger bun<br>leaf lettuce leave<br>mayonnaise<br>oil<br>onion<br>oyster sauce<br>pepper<br>tomato"
          ],
          [
           "bay<br>breadcrumb<br>butter<br>corn<br>garlic<br>honey<br>pork<br>soy sauce<br>sugar<br>vinegar"
          ],
          [
           "breadcrumb<br>butter<br>egg<br>flour<br>milk<br>salt<br>sugar"
          ],
          [
           "banana<br>clove garlic<br>garlic<br>onion<br>oyster sauce<br>pepper<br>pork<br>salt<br>sesame oil<br>soy sauce<br>sugar<br>up<br>vinegar"
          ],
          [
           "banana<br>canola oil<br>garlic<br>oyster sauce<br>pepper<br>pork<br>shallot<br>spring roll"
          ],
          [
           "bar<br>coconut<br>gulaman<br>ice<br>pandan extract<br>panutsa syrup<br>pinipig<br>sago<br>sugar"
          ],
          [
           "canola oil<br>garlic<br>kangkong<br>onion<br>pepper<br>pork<br>soy sauce<br>vinegar"
          ],
          [
           "bean<br>calabasa<br>canola oil<br>coconut<br>crab<br>fish sauce<br>garlic<br>ginger<br>onion<br>pepper"
          ],
          [
           "canola oil<br>chicken<br>fish sauce<br>garlic<br>ginger<br>onion<br>pepper<br>spinach leave<br>upo"
          ],
          [
           "breadcrumb<br>canola oil<br>chicken<br>garlic<br>onion<br>salt<br>sugar<br>vinegar"
          ],
          [
           "canola oil<br>carrot<br>cream<br>fish sauce<br>garlic<br>gizzard bite<br>liver bite<br>onion<br>peas<br>pepper<br>quail egg"
          ],
          [
           "canola oil<br>egg<br>garlic<br>mussel meat shell<br>onion<br>oyster sauce<br>pepper<br>shallot<br>tomato"
          ],
          [
           "canola oil<br>egg<br>garlic<br>onion<br>pepper<br>pompano<br>roma tomato"
          ],
          [
           "canola oil<br>corn<br>dilis<br>egg<br>fish sauce<br>onion<br>salt<br>shallot"
          ],
          [
           "banana<br>canola oil<br>carrot<br>garlic<br>onion<br>pork<br>sausage<br>soy sauce<br>sugar<br>vinegar"
          ],
          [
           "beef<br>canola oil<br>corn<br>fish sauce<br>garlic<br>napa cabbage<br>onion<br>salt"
          ],
          [
           "ampalaya<br>canola oil<br>egg<br>fish sauce<br>garlic<br>onion<br>pepper<br>shrimp<br>sugar<br>tomato"
          ],
          [
           "canola oil<br>coconut<br>gabi<br>garlic<br>ginger<br>lemongrass stalk<br>onion<br>pepper<br>pork<br>salt<br>shrimp"
          ],
          [
           "dashi<br>ginger<br>mirin<br>onion<br>sake<br>salt<br>shichimi togarashi<br>soy sauce"
          ],
          [
           "corn<br>garlic<br>oil<br>onion<br>oyster sauce<br>pepper<br>pork"
          ],
          [
           "canola oil<br>corn<br>garlic<br>orange food<br>pepper<br>quail egg<br>salt<br>shallot<br>soy sauce<br>sugar<br>vinegar"
          ],
          [
           "banana<br>bay<br>canola oil<br>corn<br>garlic<br>onion<br>pork<br>salt<br>soy sauce<br>sugar<br>vinegar"
          ],
          [
           "butter<br>canola oil<br>cayenne<br>corn<br>egg<br>garlic<br>milk<br>onion<br>pepper<br>salt<br>sugar"
          ],
          [
           "canola oil<br>chili<br>garlic<br>okra<br>onion<br>pepper<br>roma tomato"
          ],
          [
           "banana<br>coconut<br>gabi<br>jackfruit<br>kamote<br>rice<br>sago<br>yam"
          ],
          [
           "beef<br>canola oil<br>carrot<br>egg<br>garlic<br>ice<br>milk<br>onion<br>pea<br>pepper<br>potato<br>raisin<br>salt<br>sugar<br>tomato sauce"
          ],
          [
           "fish sauce<br>garlic<br>oil<br>onion<br>pepper<br>shrimp<br>tomato<br>upo"
          ],
          [
           "bay<br>canola oil<br>corn<br>garlic<br>onion<br>pepper<br>pineapple<br>pineapple juice<br>soy sauce<br>sugar<br>vinegar"
          ],
          [
           "beef<br>calamansi juice<br>corn<br>fish sauce<br>onion<br>onion half<br>pechay leave<br>pepper<br>salt"
          ],
          [
           "canola oil<br>corn<br>garlic<br>pepper<br>pork<br>salt<br>soy sauce<br>sugar<br>vinegar"
          ],
          [
           "annatto<br>bean<br>canola oil<br>eggplant<br>fish sauce<br>garlic<br>onion<br>peanut butter<br>pechay leave<br>pepper<br>pork<br>rice flour<br>shrimp"
          ],
          [
           "ginger<br>macadamia nuts<br>maui onion<br>onion<br>sea salt<br>sesame oil<br>sesame seed<br>soy sauce<br>sushi ahi<br>sushi rice"
          ],
          [
           "banana<br>butter<br>cashew nut<br>egg<br>pandan<br>salt<br>sugar"
          ],
          [
           "canola oil<br>celery<br>chili oil<br>corn<br>dark soy sauce<br>garlic<br>ginger<br>light soy sauce<br>oil<br>peanut<br>pepper<br>salt<br>shrimp<br>sugar<br>vinegar<br>wine"
          ],
          [
           "canola oil<br>fish sauce<br>garlic<br>munggo<br>onion<br>pepper<br>shrimp<br>sotanghon<br>spinach<br>tomato"
          ],
          [
           "breadcrumb<br>butter<br>canola oil<br>egg<br>garlic<br>milk<br>onion<br>salt<br>sugar"
          ],
          [
           "canola oil<br>chili garlic sauce<br>eggplant<br>ginger<br>onion<br>soy sauce<br>sugar<br>vinegar"
          ],
          [
           "fish sauce<br>garlic<br>liver<br>oil<br>onion<br>pepper<br>pork<br>vinegar"
          ],
          [
           "bread<br>bread crumb<br>canola oil<br>cheese<br>egg<br>milk<br>seasoning<br>strawberry jam"
          ],
          [
           "butter<br>egg<br>garlic<br>milk<br>oil<br>pepper<br>salt<br>shallot<br>shrimp<br>sugar"
          ],
          [
           "broccoli crown floret<br>cabbage<br>carrot bias<br>corn<br>garlic<br>oil<br>onion<br>pepper<br>shiitake mushroom"
          ],
          [
           "canola oil<br>coconut<br>fish sauce<br>garlic<br>kalabasa<br>onion<br>pepper<br>salt<br>shrimp<br>sitaw"
          ],
          [
           "butter<br>cherry<br>cream<br>egg<br>lemon juice<br>milk<br>pineapple<br>pineapple juice<br>salt<br>sugar<br>vanilla<br>vegetable oil"
          ],
          [
           "annatto<br>beef<br>canola oil<br>garlic<br>ginger<br>kamia<br>lemongras<br>onion<br>pepper"
          ],
          [
           "canola oil<br>eggplant<br>garlic<br>mango<br>onion<br>pork<br>salt<br>shrimp paste<br>tomato<br>vinegar"
          ],
          [
           "bean<br>canola oil<br>garlic<br>onion<br>pepper<br>shrimp<br>soy sauce<br>sugar<br>tomato"
          ],
          [
           "bean<br>canola oil<br>chicken<br>corn<br>egg<br>garlic<br>ginger<br>oyster sauce<br>rice wine<br>salt<br>sesame oil<br>sodium soy sauce<br>sugar"
          ],
          [
           "carrot<br>cashews<br>celery bias<br>corn<br>egg<br>garlic<br>light soy sauce<br>oil<br>onion<br>oyster sauce<br>peas<br>pepper<br>shrimp<br>sugar<br>wine"
          ],
          [
           "annatto<br>calamansi<br>canola oil<br>egg<br>garlic<br>onion<br>pepper<br>pork<br>shrimp<br>shrimp bouillon<br>tinapa flake<br>tofu"
          ],
          [
           "cinnamon<br>egg<br>lemon juice<br>manila<br>oil<br>raisin<br>salt<br>soda<br>sugar"
          ],
          [
           "bean<br>canola oil<br>carrot<br>corn<br>egg<br>fish sauce<br>garlic<br>leaf lettuce<br>onion<br>peanut<br>peanut butter<br>potato<br>salt<br>soy sauce<br>sugar"
          ],
          [
           "bay<br>canola oil<br>chicken<br>corn<br>fish sauce<br>garlic<br>kosher salt<br>onion<br>sugar"
          ],
          [
           "broccoli floret<br>calamansi<br>canola oil<br>carrot<br>chicken<br>garlic<br>onion<br>pancit<br>sausage bias<br>shrimp"
          ],
          [
           "canola oil<br>carrot<br>chicken<br>garlic<br>onion<br>pepper<br>salt<br>soy sauce<br>spring roll"
          ],
          [
           "bay leaf<br>canola oil<br>corn<br>fish sauce<br>garlic<br>onion<br>pepper<br>squid<br>tomato<br>vinegar"
          ],
          [
           "butter<br>calamansi juice<br>canola oil<br>garlic<br>ginger<br>onion<br>oyster<br>pepper<br>salt<br>soy sauce"
          ],
          [
           "canola oil<br>fish sauce<br>miswa noodle<br>onion<br>patola<br>pepper<br>pork"
          ],
          [
           "bay<br>broth<br>canola oil<br>carrot<br>chestnut<br>chicken<br>corn<br>fish sauce<br>garlic<br>onion<br>pepper<br>pork<br>salt<br>soy sauce"
          ],
          [
           "banana<br>bean<br>bok choy<br>eggplant<br>fish sauce<br>kamia<br>okra<br>onion<br>salmon belly<br>salt<br>tomato"
          ],
          [
           "canola oil<br>chayote<br>chuck roast<br>fish sauce<br>garlic<br>onion<br>pepper<br>tomato"
          ],
          [
           "garlic<br>mussel<br>olive oil<br>onion<br>pepper<br>sherry<br>tomato sauce"
          ],
          [
           "banana<br>bean<br>canola oil<br>chicken<br>chorizo bilbao<br>fish sauce<br>garlic<br>napa cabbage leave<br>onion<br>pechay leave<br>pepper<br>potato<br>tomato sauce"
          ],
          [
           "calamansi<br>canola oil<br>garlic<br>onion<br>pork<br>salt<br>soy sauce"
          ],
          [
           "bread crumb<br>cabbage<br>canola oil<br>egg<br>pepper<br>pork<br>tonkatsu sauce"
          ],
          [
           "canola oil<br>fish sauce<br>garlic<br>ginger<br>onion<br>pepper<br>shrimp tendril"
          ],
          [
           "beef<br>garlic<br>ginger<br>onion<br>pepper<br>sesame oil<br>sesame seed<br>sodium soy sauce<br>sugar<br>vegetable oil"
          ],
          [
           "bay leaf<br>canola oil<br>coconut<br>fish sauce<br>garlic<br>ginger<br>onion<br>pepper<br>squid<br>tomato<br>vinegar"
          ],
          [
           "bay<br>calamansi juice<br>corn<br>garlic<br>liver<br>onion<br>pepper<br>pig face<br>salt<br>seasoning<br>soy sauce<br>vinegar"
          ],
          [
           "canola oil<br>egg<br>garlic<br>onion<br>pepper<br>roma tomato<br>silverfish"
          ],
          [
           "canola oil<br>carrot<br>fish sauce<br>garlic<br>onion<br>pepper<br>pork<br>salt<br>vinegar"
          ],
          [
           "canola oil<br>chicken<br>finger chili<br>garlic<br>ginger<br>onion<br>pepper<br>shrimp paste"
          ],
          [
           "beef<br>canola oil<br>carrot<br>fish sauce<br>garlic<br>olive<br>onion<br>peas<br>pepper<br>potato<br>raisin<br>tomato<br>tomato sauce"
          ],
          [
           "banana<br>bean<br>beef<br>cabbage<br>canola oil<br>chicken<br>chorizo bilbao<br>corn<br>eggplant<br>garlic<br>ham<br>oil<br>onion<br>pechay leave<br>salt<br>vinegar"
          ],
          [
           "ampalaya<br>bean<br>canola oil<br>eggplant<br>garlic<br>kalabasa<br>okra<br>onion<br>pepper<br>pork<br>roma tomato<br>shrimp"
          ],
          [
           "bay<br>corn<br>garlic<br>oil<br>onion<br>pepper<br>pork<br>salt<br>shallot<br>soy sauce<br>sugar<br>vinegar"
          ],
          [
           "butter<br>cheese<br>coconut<br>egg<br>margarine<br>rice flour<br>salt<br>sugar"
          ],
          [
           "banana<br>canola oil<br>fish sauce<br>garlic<br>onion<br>pepper<br>pork<br>rock salt"
          ],
          [
           "chicken<br>chorizo bilbao<br>garlic<br>grain rice<br>mussel<br>olive oil<br>onion<br>paprika<br>pepper<br>saffron thread<br>shrimp<br>tomato sauce"
          ],
          [
           "canola oil<br>corn<br>egg<br>fish sauce<br>garlic<br>leaf lettuce leave leave<br>matchstick<br>nonstick<br>onion<br>peanut<br>peanut butter<br>pepper<br>pork<br>salt<br>shrimp<br>soy sauce<br>sugar"
          ],
          [
           "banana<br>bread crumb<br>butter<br>calamansi<br>carrot<br>cheddar<br>egg<br>mayonnaise<br>onion<br>pineapple<br>pork<br>raisin<br>salt<br>soy sauce"
          ],
          [
           "bean<br>canola oil<br>carrot bias<br>fish sauce<br>garlic<br>onion<br>pepper<br>shrimp"
          ],
          [
           "banana<br>canola oil<br>fish sauce<br>garlic<br>onion<br>pepper<br>pork<br>vinegar"
          ],
          [
           "chestnut<br>chili sauce<br>egg<br>garlic<br>ginger mince<br>onion<br>pork<br>rice<br>salt<br>sesame oil<br>shitake mushroom<br>soy sauce<br>wine"
          ],
          [
           "canola oil<br>fish sauce<br>garlic<br>onion<br>oyster sauce<br>salt<br>shrimp shell<br>tomato sauce"
          ],
          [
           "broccoli floret<br>canola oil<br>carrot bias<br>corn<br>garlic<br>liquid broccoli<br>onion<br>oyster sauce<br>sesame oil<br>shrimp<br>sugar<br>vinegar<br>wine"
          ],
          [
           "canola oil<br>carrot<br>chicken<br>fish sauce<br>garlic<br>onion<br>pea<br>pepper<br>potato<br>tomato"
          ],
          [
           "bacon<br>canola oil<br>egg<br>ham<br>onion<br>peas<br>pepper<br>rice<br>sesame oil<br>soy sauce"
          ],
          [
           "bacon<br>bay leaf<br>beef<br>carrot<br>cheese<br>dog<br>egg<br>garlic<br>gherkins pickle<br>juice lemon<br>liver<br>oil<br>onion<br>pepper<br>soy sauce<br>tomato sauce"
          ],
          [
           "canola oil<br>carrot<br>chestnut<br>garlic<br>onion<br>pork<br>salt<br>shrimp<br>soy sauce<br>spring roll triangle"
          ],
          [
           "canola oil<br>egg<br>flour<br>milk<br>salt<br>soda<br>sugar<br>vanilla"
          ],
          [
           "banana<br>beef<br>butter<br>canola oil<br>cheese<br>garlic<br>hotdog<br>lasagna noodle<br>milk<br>onion<br>pepper<br>seasoning<br>sugar<br>tomato paste<br>tomato sauce"
          ],
          [
           "beef<br>canola<br>cheese<br>dog bias<br>garlic<br>onion<br>pepper<br>seasoning<br>sugar"
          ],
          [
           "banana<br>bean<br>bok choy leave<br>eggplant<br>gabi<br>okra<br>onion<br>pepper<br>pork<br>tamarind pod<br>tomato"
          ],
          [
           "bay<br>beef<br>broth<br>canola<br>corn<br>garlic<br>onion<br>pepper<br>potato<br>salt<br>soy sauce<br>sugar<br>tomato sauce"
          ],
          [
           "canola oil<br>fish sauce<br>garlic<br>ginger<br>miso soy paste<br>mustard leave<br>onion<br>radish labanos<br>salt<br>tomato"
          ],
          [
           "cabbage<br>canola oil<br>carrot bias<br>chicken<br>garlic<br>onion<br>oyster sauce<br>pepper<br>pork<br>shrimp"
          ],
          [
           "bay<br>calamansi half<br>canola oil<br>corn<br>garlic<br>ginger<br>onion<br>salt<br>soy sauce<br>star anise<br>sugar<br>tomato<br>vinegar"
          ],
          [
           "bean<br>beef<br>cabbage<br>corn<br>onion<br>pepper<br>potato"
          ],
          [
           "canola oil<br>garlic<br>onion<br>oyster sauce<br>pechay<br>pepper<br>pork<br>tomato"
          ],
          [
           "fish sauce<br>ginger<br>goat foot<br>onion<br>pepper<br>salt<br>tamarind<br>vinegar"
          ],
          [
           "bay leaf<br>bean<br>canola oil<br>chorizo bilbao<br>garlic<br>gherkin pickle<br>onion<br>pepper<br>pickle juice<br>pork<br>roma tomato<br>soy sauce<br>tomato paste"
          ],
          [
           "butter<br>canola oil<br>egg<br>flour<br>margarine<br>milk<br>salt<br>sugar<br>sugar top<br>vanilla"
          ],
          [
           "bay leaf<br>canola oil<br>garlic<br>onion<br>pepper<br>pork<br>roma tomato<br>vinegar"
          ],
          [
           "canola oil<br>corn<br>egg<br>onion<br>pepper<br>pineapple juice<br>salt<br>soy sauce<br>sugar<br>tilapia<br>vinegar"
          ],
          [
           "canola oil<br>coconut<br>garlic<br>ginger<br>onion<br>pepper<br>roma tomato<br>salmon"
          ],
          [
           "canola oil<br>carrot<br>garlic<br>gherkin pickle<br>goat meat<br>liver<br>olive<br>onion<br>pepper<br>pineapple juice<br>potato<br>salt<br>tomato sauce<br>vinegar"
          ],
          [
           "canola oil<br>garlic<br>onion<br>oyster sauce<br>pepper<br>roma tomato<br>sayote bias<br>shrimp"
          ],
          [
           "beef<br>cheese<br>egg<br>olive oil<br>onion<br>pepper<br>pizza dough"
          ],
          [
           "bread crumb<br>canola oil<br>coconut<br>corn<br>egg<br>pepper<br>shrimp"
          ],
          [
           "bangus belly<br>bean<br>canola oil<br>coconut<br>garlic<br>ginger<br>onion<br>pepper<br>shrimp paste"
          ],
          [
           "canola oil<br>chicken<br>garlic<br>onion<br>oyster sauce<br>pepper<br>roma tomato<br>sayote bias"
          ],
          [
           "canola oil<br>garlic<br>ginisang shrimp paste<br>mango<br>onion<br>pork<br>rice<br>roma tomato<br>sugar<br>vinegar"
          ],
          [
           "bacon<br>egg<br>garlic<br>onion<br>pepper<br>rice<br>soy sauce"
          ],
          [
           "canola oil<br>ginger<br>pepper<br>rice<br>salt<br>shallot<br>soy sauce<br>sugar<br>vinegar"
          ],
          [
           "beef<br>egg<br>garlic<br>msg<br>onion<br>pepper<br>pork<br>shrimp paste<br>sugar"
          ],
          [
           "bay<br>carrot<br>celery stalk<br>corn<br>garlic<br>olive<br>onion skin<br>shrimp shell"
          ],
          [
           "canola oil<br>carrot<br>cheese<br>chestnut<br>onion<br>pepper<br>spring roll"
          ],
          [
           "bread<br>bread crumb<br>canola oil<br>cheese<br>egg<br>mayonnaise<br>milk<br>onion<br>salt"
          ],
          [
           "ampalaya<br>canola oil<br>fish sauce<br>garlic<br>onion<br>pepper<br>sugar<br>tomato"
          ],
          [
           "arrowroot starch flour<br>butter<br>egg<br>flour<br>salt<br>sugar<br>vanilla"
          ],
          [
           "butter<br>calamansi juice<br>canola oil<br>garlic<br>ginger<br>onion<br>pepper<br>sugar<br>worcestershire sauce"
          ],
          [
           "canola oil<br>corn<br>onion<br>pepper<br>pineapple<br>pineapple juice<br>pork<br>salt<br>soy sauce<br>sugar<br>vinegar<br>wine"
          ],
          [
           "bangus belly half<br>butter<br>calamansi<br>canola oil<br>garlic<br>onion<br>oyster sauce<br>pepper<br>soy sauce<br>sugar"
          ],
          [
           "bay<br>calamansi juice<br>corn<br>ginger<br>onion<br>pepper<br>pig brain<br>pork<br>salt"
          ],
          [
           "butter<br>egg<br>flour<br>milk<br>salt<br>sugar<br>yeast"
          ],
          [
           "banana<br>canola oil<br>garlic<br>onion<br>pepper<br>pork<br>soy sauce"
          ],
          [
           "canola oil<br>fish sauce<br>garlic<br>onion<br>pechay<br>pepper<br>pork<br>tomato"
          ],
          [
           "canola oil<br>cilantro<br>fish sauce<br>mango<br>onion<br>pepper<br>roma tomato<br>sugar<br>vinegar"
          ],
          [
           "bok choy<br>corn<br>fish sauce<br>ginger<br>napa cabbage<br>onion<br>pepper<br>potato"
          ],
          [
           "bean<br>canola oil<br>eggplant<br>fish sauce<br>garlic<br>kalabasa<br>melon<br>okra<br>onion<br>pepper<br>pork<br>tomato"
          ],
          [
           "corn<br>cucumber<br>fish sauce<br>onion<br>pepper<br>salt<br>sesame oil<br>sugar<br>vinegar"
          ],
          [
           "canola<br>fish sauce<br>garlic<br>kamote<br>pepper<br>roma tomato<br>shallot<br>sugar<br>vinegar"
          ],
          [
           "bean<br>canola oil<br>carrot<br>garlic<br>ginger<br>onion<br>oyster sauce<br>pepper<br>pork<br>soy sauce<br>sugar"
          ],
          [
           "canola oil<br>garlic<br>ginger<br>onion<br>oyster sauce<br>pechay leave<br>pepper<br>roma tomato<br>salmon belly<br>vinegar"
          ],
          [
           "canola oil<br>egg<br>garlic<br>onion<br>pea<br>pepper<br>potato"
          ],
          [
           "chicken<br>corn<br>crab<br>crab meat<br>egg<br>onion<br>pepper<br>seafood soup base"
          ],
          [
           "bean<br>calabasa<br>canola oil<br>eggplant<br>garlic<br>green jackfruit<br>onion<br>pepper<br>pork<br>shrimp"
          ],
          [
           "bean<br>canola oil<br>chicken<br>corn<br>egg<br>garlic<br>onion<br>oyster sauce<br>pepper<br>sausage bias<br>shrimp<br>soy sauce<br>sugar<br>wine"
          ],
          [
           "canola oil<br>corn<br>garlic<br>light soy sauce<br>onion<br>shiitake mushroom<br>sugar<br>vegetarian mushroom oyster sauce<br>wine"
          ],
          [
           "bay<br>bean<br>cabbage<br>carrot<br>cellophane noodle<br>chicken<br>corn<br>garlic<br>miki noodle<br>onion<br>oyster sauce<br>pork<br>salt<br>sesame oil<br>vegetable oil"
          ],
          [
           "canola oil<br>corn<br>garlic<br>pepper<br>salt<br>shell new zealand mussel<br>vinegar"
          ],
          [
           "bay<br>canola oil<br>chicken<br>garlic<br>onion<br>pepper<br>pork<br>soy sauce<br>vinegar"
          ],
          [
           "banana<br>bean<br>gulaman<br>ice<br>ice cream<br>jackfruit<br>kaong<br>leche flan<br>macapuno<br>milk<br>nata coco<br>ube halaya"
          ],
          [
           "banana<br>beef<br>canola oil<br>egg<br>garlic<br>onion<br>pea<br>pepper<br>rice<br>soy sauce<br>sugar<br>tomato sauce"
          ],
          [
           "bean<br>canola oil<br>corn<br>garlic<br>mushroom<br>onion<br>sesame oil<br>sesame seeds<br>soy sauce<br>sugar"
          ],
          [
           "cabbage<br>canola oil<br>celery bias<br>fresh chow mein noodle<br>onion<br>oyster sauce<br>sesame oil<br>soy sauce<br>sugar<br>wine"
          ],
          [
           "canola oil<br>corn<br>eggplant<br>garlic<br>ginger<br>milkfish<br>onion<br>pepper<br>salt<br>vinegar"
          ],
          [
           "back rib rib<br>bay<br>canola oil<br>corn<br>egg<br>garlic<br>salt<br>soy sauce<br>vinegar"
          ],
          [
           "canola oil<br>chicken<br>corn<br>egg<br>garlic<br>honey<br>juice lime<br>light soy sauce<br>onion<br>pepper<br>soy sauce<br>sriracha sauce<br>wine"
          ],
          [
           "bay<br>garlic<br>olive oil<br>onion<br>pepper<br>soy sauce<br>sugar<br>vinegar"
          ],
          [
           "butter<br>lemon juice<br>onion<br>pepper<br>shrimp tail<br>sriracha chili sauce<br>vegetable oil<br>wine"
          ],
          [
           "chili sauce<br>garlic<br>juice lemon<br>oyster sauce<br>salt<br>sesame oil<br>tuna"
          ],
          [
           "butter<br>egg<br>flour<br>milk<br>salt<br>sugar<br>vegetable shortening<br>yeast"
          ],
          [
           "canola oil<br>eggplant<br>garlic<br>onion<br>pepper<br>pork<br>shrimp<br>sugar<br>tomato<br>vinegar"
          ],
          [
           "bacon<br>bay<br>bean<br>beef<br>corn<br>foot<br>garlic<br>onion<br>paprika<br>peas<br>pepper<br>rock salt<br>tomato sauce<br>tripe<br>vinegar"
          ],
          [
           "bay<br>fish sauce<br>garlic<br>labano<br>oil<br>onion<br>pepper<br>pork<br>vinegar"
          ],
          [
           "beef<br>canola oil<br>carrot<br>fish sauce<br>garlic<br>ginger<br>onion<br>pepper<br>potato"
          ],
          [
           "calamansi<br>canola oil<br>carrot<br>chicken<br>fish<br>garlic<br>kecap manis<br>napa cabbage<br>onion<br>pepper<br>shrimp"
          ],
          [
           "broccoli floret<br>cabbage<br>canola oil<br>carrot<br>chayote<br>chicken<br>corn<br>garlic<br>onion<br>oyster sauce<br>pepper<br>sausage bias<br>shrimp<br>soy sauce"
          ],
          [
           "chicken<br>coconut<br>coriander<br>fish sauce<br>garlic<br>ginger<br>juice lime<br>pepper"
          ],
          [
           "chili<br>cinnamon<br>garlic<br>peanut<br>soy sauce<br>star anise<br>sugar"
          ],
          [
           "buttermilk<br>fish sauce<br>garlic<br>ginger<br>lemongras<br>salt<br>sugar"
          ],
          [
           "bean<br>canola oil<br>coconut<br>fish sauce<br>garlic<br>onion<br>pepper<br>pork<br>spinach<br>tomato"
          ],
          [
           "bean<br>fish sauce<br>garlic<br>onion<br>spinach<br>tomato<br>vegetable oil"
          ],
          [
           "ampalaya<br>bean<br>fish sauce<br>garlic<br>oil<br>onion<br>spinach"
          ],
          [
           "canola oil<br>chicken<br>fish sauce<br>garlic<br>onion<br>pepper<br>sotanghon<br>upo"
          ],
          [
           "bean<br>canola oil<br>coconut<br>garlic<br>onion<br>pepper<br>pork<br>shrimp"
          ],
          [
           "canola oil<br>eggplant<br>fish sauce<br>garlic<br>onion<br>pepper<br>pork"
          ],
          [
           "banana<br>canola oil<br>cheese<br>garlic<br>onion<br>peas<br>pineapple juice<br>pork<br>potato<br>salt<br>soy sauce"
          ],
          [
           "canola oil<br>egg<br>garlic<br>onion<br>pepper<br>potato<br>soy sauce<br>vinegar"
          ],
          [
           "garlic<br>oil<br>onion<br>pepper<br>pineapple<br>pineapple juice<br>pork<br>soy sauce<br>vinegar"
          ],
          [
           "chicken<br>corn<br>garlic<br>jalapenos<br>soy sauce<br>sugar<br>vegetable<br>wine"
          ],
          [
           "duck egg<br>eggplant<br>fish sauce<br>grape tomato<br>onion<br>pepper<br>vinegar"
          ],
          [
           "beef<br>carrot<br>fish sauce<br>garlic<br>oil<br>onion<br>pepper<br>potato<br>tomato paste"
          ],
          [
           "butter<br>chocolate chip<br>cocoa<br>coffee<br>milk<br>oil<br>salt<br>soda<br>sugar<br>vanilla<br>vinegar"
          ],
          [
           "bay<br>corn<br>garlic<br>oil<br>onion<br>pineapple<br>pineapple juice<br>pork<br>salt<br>soy sauce<br>sugar<br>vinegar"
          ],
          [
           "garlic<br>ginger<br>onion<br>pear<br>salt<br>sesame oil<br>sesame seeds<br>soy sauce<br>sugar<br>top sirloin<br>vinegar"
          ],
          [
           "beef<br>canola oil<br>cheese<br>chili<br>cream<br>cumin<br>garlic<br>grain rice<br>iceberg lettuce<br>onion<br>pepper<br>roma tomato<br>salsa<br>soy sauce<br>tomato sauce"
          ],
          [
           "annatto<br>calamansi<br>canola oil<br>corn<br>crab fat<br>egg<br>fish sauce<br>garlic<br>napa cabbage<br>onion<br>pepper<br>pork<br>shrimp<br>shrimp base<br>shrimp stock<br>squid<br>tinapa flake"
          ],
          [
           "canola oil<br>corn<br>egg<br>garlic<br>milk<br>paprika<br>salt<br>sauce<br>shrimp"
          ],
          [
           "cabbage<br>canola oil<br>carrot<br>chicken<br>onion<br>oyster sauce<br>soy sauce<br>sugar<br>worcestershire sauce"
          ],
          [
           "canola oil<br>chicken<br>corn<br>garlic<br>lemon<br>onion<br>salt<br>soy sauce"
          ],
          [
           "canola oil<br>egg<br>garlic<br>onion<br>pepper<br>rice<br>soy sauce<br>tinapa galunggong"
          ],
          [
           "garlic<br>ginger<br>honey<br>onion<br>pepper<br>roma tomato<br>salt<br>sugar<br>vinegar"
          ],
          [
           "canola oil<br>chicken<br>chili<br>cucumber<br>garlic<br>kecap manis<br>onion<br>pepper<br>rice<br>shallot<br>shrimp paste<br>side egg<br>tomato"
          ],
          [
           "bay<br>beef<br>butter<br>button mushroom<br>corn<br>garlic<br>onion<br>pepper<br>salt"
          ],
          [
           "beef<br>butter<br>canola oil<br>cream<br>garlic<br>onion<br>pepper"
          ],
          [
           "canola oil<br>chicken<br>chili garlic paste<br>corn<br>onion<br>sesame oil<br>sesame seed<br>soy sauce<br>sugar<br>vinegar"
          ],
          [
           "cabbage<br>canola oil<br>carrot<br>chicken<br>chili garlic sauce<br>edamame<br>ginger<br>iceberg lettuce<br>salt<br>sesame oil<br>soy sauce<br>sugar<br>vinegar"
          ],
          [
           "bay<br>canola oil<br>chicken<br>chili garlic sauce<br>corn<br>onion<br>rock salt<br>soy sauce<br>vinegar"
          ],
          [
           "canola oil<br>carrot<br>celery<br>chicken<br>egg<br>fish sauce<br>garlic<br>ginger<br>napa cabbage<br>oil<br>onion<br>pepper"
          ],
          [
           "beef<br>broth tripe<br>calamansi<br>canola oil<br>corn<br>fish sauce<br>garlic<br>ginger<br>ginger half<br>onion<br>pepper<br>rice<br>rock salt<br>salt"
          ],
          [
           "carrot<br>elbow macaroni<br>mayonnaise<br>milk<br>onion<br>salt<br>sugar<br>vinegar"
          ],
          [
           "banana<br>bean<br>beef<br>chorizo bilbao<br>oil<br>onion<br>pechay leave<br>pepper<br>potato"
          ],
          [
           "carrot<br>egg<br>grouper<br>lemon<br>mayonnaise<br>olive<br>onion<br>pepper<br>pickle<br>tamarind"
          ],
          [
           "bangus<br>bay<br>carrot floret<br>corn<br>garlic<br>gherkin pickle<br>olive<br>olive oil<br>pepper<br>rock salt"
          ],
          [
           "canola oil<br>chili garlic sauce<br>corn<br>garlic<br>onion<br>sesame oil<br>shrimp<br>soy sauce<br>wine"
          ],
          [
           "butter<br>coconut<br>graham cracker crumbs<br>lime<br>mango<br>pineapple<br>sugar"
          ],
          [
           "cheese<br>crab<br>cucumber<br>egg<br>furikake<br>grain rice<br>mango<br>mayonnaise<br>nori seaweed<br>salt<br>sriracha sauce<br>sugar<br>vinegar"
          ],
          [
           "canola oil<br>chocolate chip<br>cream tartar<br>egg<br>flour<br>mango<br>manila mango<br>sugar<br>whipping cream"
          ],
          [
           "bread<br>bread crumb<br>canola oil<br>cheese<br>dog<br>egg<br>milk"
          ],
          [
           "bread crumb<br>butter<br>canola oil<br>cocoa<br>egg<br>f<br>graham cracker crumbs<br>milk<br>nutella<br>salt<br>sugar"
          ],
          [
           "breadcrumb<br>butter<br>egg<br>flour<br>milk<br>oil<br>salt<br>sugar<br>ube halaya"
          ],
          [
           "bay<br>butter<br>button mushroom<br>chicken<br>corn<br>cream<br>garlic<br>onion<br>pepper<br>salt<br>sherry wine"
          ],
          [
           "back rib<br>canola oil<br>garlic<br>ginger<br>onion<br>pepper<br>pineapple juice<br>pineapple tidbit<br>potato<br>raisin<br>soy sauce"
          ],
          [
           "beef<br>canola oil<br>chicken<br>corn<br>day rice<br>egg<br>garlic<br>onion<br>pea carrot<br>salt<br>sesame oil<br>shrimp<br>soy sauce<br>sugar<br>wine"
          ],
          [
           "corn<br>egg<br>flour<br>garlic<br>lime<br>milk<br>onion<br>oyster sauce<br>pork<br>salt<br>sausage<br>sesame oil<br>shrimp<br>soy sauce<br>star anise<br>sugar<br>vegetable oil<br>yeast"
          ],
          [
           "canola oil<br>corn<br>flour<br>garlic<br>lime<br>milk<br>onion<br>oyster sauce<br>pork<br>salt<br>soy sauce<br>star anise<br>sugar<br>vegetable oil<br>yeast"
          ],
          [
           "bread<br>butter<br>egg<br>flour<br>food<br>milk<br>salt<br>sugar<br>vanilla"
          ],
          [
           "canola<br>cashew<br>chicken<br>egg<br>fish sauce<br>garlic<br>onion<br>pea<br>pepper<br>pineapple<br>raisin<br>rice<br>shrimp tail<br>sugar"
          ],
          [
           "canola oil<br>chicken<br>corn<br>egg<br>honey<br>onion<br>oyster sauce<br>pepper<br>rice wine<br>salt<br>sesame oil<br>soy sauce"
          ],
          [
           "bay leaf<br>calamansi juice<br>canola oil<br>corn<br>garlic<br>onion<br>pepper<br>pork<br>potato<br>soy sauce<br>tomato sauce"
          ],
          [
           "canola oil<br>corn<br>garlic<br>ginger<br>onion<br>papaya<br>pepper<br>sugar<br>vinegar"
          ],
          [
           "bread crumb<br>butter<br>canola oil<br>cocoa<br>egg<br>flour<br>food<br>milk<br>salt<br>sugar<br>vanilla"
          ],
          [
           "annatto<br>bay leaf<br>calamansi juice<br>chicken<br>garlic<br>garlic clove<br>ginger<br>lemongras<br>salt<br>sugar<br>vinegar"
          ],
          [
           "canola oil<br>carrot<br>garlic<br>olive<br>onion<br>pepper<br>potato"
          ],
          [
           "bread crumb<br>butter<br>cheese<br>egg<br>liquid ube<br>milk<br>salt<br>sugar<br>ube<br>vegetable oil"
          ],
          [
           "bay<br>canola oil<br>corn<br>garlic<br>onion<br>pepper<br>potato<br>soy sauce<br>vinegar"
          ],
          [
           "canola oil<br>corn<br>egg<br>fish sauce<br>garlic<br>kalabasa<br>onion<br>papaya<br>pepper<br>salt<br>shallot<br>shrimp tendril<br>vinegar"
          ],
          [
           "bread crumb<br>butter<br>canola<br>garlic<br>pepper<br>shrimp tail<br>tomato sauce<br>wine"
          ],
          [
           "celery<br>egg<br>gherkin pickle<br>mayonnaise<br>onion<br>pasta<br>pepper<br>pickle juice"
          ],
          [
           "canola oil<br>carrot<br>chestnut<br>chicken<br>garlic<br>kinchay<br>napa cabbage<br>onion<br>pepper<br>salt<br>shallot<br>soy sauce"
          ],
          [
           "bay<br>canola oil<br>chicken<br>garlic<br>liver<br>pepper<br>soy sauce<br>vinegar"
          ],
          [
           "bay<br>canola oil<br>corn<br>garlic<br>onion<br>pork<br>salt<br>sugar<br>vinegar"
          ],
          [
           "bean<br>cabbage<br>canola oil<br>carrot matchstick<br>garlic<br>onion<br>pepper<br>spring roll<br>yam"
          ],
          [
           "butter<br>calamansi juice<br>calamansi zest<br>cream<br>egg<br>salt<br>soda<br>sugar<br>vegetable oil"
          ],
          [
           "bay<br>canola oil<br>garlic<br>onion<br>pepper<br>pork<br>turmeric<br>vinegar"
          ],
          [
           "bay<br>canola oil<br>corn<br>fish sauce<br>garlic<br>onion<br>salt<br>vinegar"
          ],
          [
           "canola oil<br>carrot bias<br>cheese<br>garlic<br>liver<br>olive<br>onion<br>pepper<br>pineapple juice<br>potato<br>soy sauce<br>tomato sauce"
          ],
          [
           "canola oil<br>carrot<br>carrot floret<br>cheese<br>dog<br>egg<br>garlic<br>onion<br>pepper<br>pickle<br>pineapple<br>pork<br>raisin<br>tomato sauce"
          ],
          [
           "bay<br>canola oil<br>garlic<br>liver<br>onion<br>pepper<br>pork<br>sugar<br>vinegar"
          ],
          [
           "bay leaf<br>calamansi juice<br>canola oil<br>chicken<br>corn<br>garlic<br>liver<br>onion<br>potato<br>salt<br>soy sauce<br>tomato sauce"
          ],
          [
           "almond<br>brandy<br>cherry<br>date<br>egg<br>flour<br>fruit<br>margarine<br>molasse<br>nutmeg<br>orange<br>pili nuts<br>raisin<br>salt<br>sugar<br>syrup"
          ],
          [
           "canola<br>chicken<br>coconut<br>fish sauce<br>garlic<br>grain rice<br>onion<br>peas<br>pepper<br>rice<br>saffron<br>tomato paste"
          ],
          [
           "calamansi juice<br>chicken<br>fish sauce<br>garlic<br>lemongras<br>pepper<br>shallot<br>soy sauce<br>sugar"
          ],
          [
           "coconut<br>extract<br>jackfruit<br>langka<br>rice flour<br>string<br>sugar<br>ube halaya"
          ],
          [
           "calamansi juice<br>canola<br>fish sauce<br>garlic<br>onion<br>oyster sauce<br>pepper<br>pork<br>salt<br>sugar<br>vinegar"
          ],
          [
           "butter<br>calamansi juice<br>canola oil<br>garlic<br>mayonnaise<br>onion<br>pepper<br>seasoning sauce"
          ],
          [
           "canola oil<br>elbow macaroni<br>fish sauce<br>garlic<br>ginger<br>liver<br>onion<br>pork"
          ],
          [
           "butter<br>cocoa<br>dulce de leche<br>egg<br>milk<br>soda<br>sugar<br>vanilla"
          ],
          [
           "cheese<br>coconut<br>food<br>lye<br>pandan extract<br>salt<br>sugar"
          ],
          [
           "banana<br>bean<br>canola oil<br>carrot<br>chorizo bilbao<br>fish sauce<br>garlic<br>onion<br>pechay leave<br>pepper<br>pork<br>potato<br>tomato"
          ],
          [
           "canola oil<br>finger chilie<br>fish sauce<br>garlic<br>ginger<br>onion<br>pepper<br>pork<br>sugar<br>vinegar"
          ],
          [
           "canola oil<br>chicken<br>cream<br>garlic<br>onion<br>pepper<br>pineapple<br>pineapple juice"
          ],
          [
           "butter<br>calamansi juice<br>garlic<br>ginger<br>onion<br>pepper<br>soy sauce<br>tamarind base<br>tilapia<br>tomato"
          ],
          [
           "corn<br>garlic<br>ginger<br>pineapple juice<br>pineapple tidbit<br>salt<br>shallot<br>soy sauce<br>sugar"
          ],
          [
           "bean<br>beef<br>cabbage<br>corn<br>fish sauce<br>onion<br>potato<br>salt"
          ],
          [
           "bean<br>canola oil<br>carrot<br>chestnut<br>corn<br>onion<br>pork<br>salt<br>shrimp<br>spice"
          ],
          [
           "banana<br>canola oil<br>carrot<br>fish sauce<br>garlic<br>onion<br>pea<br>pepper<br>pork<br>potato<br>quail egg<br>raisin<br>tomato sauce"
          ],
          [
           "canola oil<br>coconut<br>jackfruit<br>pandan leaf<br>rice<br>salt<br>spring roll<br>sugar"
          ],
          [
           "canola oil<br>corn<br>meatball<br>quail egg<br>salt<br>soy sauce<br>sugar"
          ],
          [
           "butter<br>canola oil<br>cherry syrup syrup<br>chocolate chip<br>cocoa cake<br>cream<br>egg<br>salt<br>soda<br>sugar"
          ],
          [
           "canola oil<br>fish sauce<br>garlic<br>ginger<br>onion<br>pepper<br>pompano<br>tamarind<br>tomato"
          ],
          [
           "bay<br>canola oil<br>garlic<br>pepper<br>pork<br>soy sauce<br>star anise<br>sugar"
          ],
          [
           "canola oil<br>fish sauce<br>garlic<br>ginger<br>milkfish part<br>onion<br>pepper<br>tomato"
          ],
          [
           "calamansi juice<br>daikon radish<br>fish sauce<br>onion<br>pak choi leave<br>salt<br>shell shrimp<br>tomato"
          ],
          [
           "butter<br>canola oil<br>egg<br>milk<br>salt<br>sugar<br>sugar coating<br>yeast"
          ],
          [
           "calamansi<br>chili garlic<br>corn<br>ginger juice<br>pork<br>salt<br>shitake mushroom<br>shrimp<br>soy sauce<br>sugar"
          ],
          [
           "garlic<br>ginger<br>hoisin sauce<br>pepper<br>sesame oil<br>sriracha chili sauce<br>vinegar"
          ],
          [
           "canola oil<br>coconut<br>finger chilie<br>garlic<br>onion<br>pepper<br>pork<br>shrimp paste"
          ],
          [
           "canola oil<br>carrot<br>cheese<br>garlic<br>liver<br>olive<br>onion<br>pepper<br>potato<br>roast<br>tomato paste<br>tomato sauce"
          ],
          [
           "calamansi<br>canola oil<br>chicken<br>fish sauce<br>garlic<br>ginger<br>oil<br>onion<br>pepper<br>rice"
          ],
          [
           "bok choy<br>fish sauce<br>onion<br>radish<br>roma tomato<br>salt<br>tamarind soup base"
          ],
          [
           "chicken<br>egg<br>mayonnaise<br>milk<br>onion<br>pepper<br>relish"
          ],
          [
           "bean<br>canola oil<br>cheese<br>chicken<br>chili<br>corn<br>garlic<br>onion<br>pepper<br>salt<br>spinach"
          ],
          [
           "canola oil<br>chicken<br>cinnamon<br>dark soy sauce<br>garlic<br>ginger<br>light soy sauce<br>rice wine<br>star anise<br>sugar"
          ],
          [
           "bean<br>camote matchstick<br>canola oil<br>carrot matchstick<br>fish sauce<br>garlic<br>onion<br>pepper<br>pork<br>spring roll"
          ],
          [
           "canola oil<br>cream<br>fish sauce<br>garlic<br>onion<br>pepper<br>pineapple<br>pineapple juice<br>pork"
          ],
          [
           "arnibal syrup<br>banana<br>gulaman<br>ice<br>panutsa<br>sago<br>sugar"
          ],
          [
           "bay<br>canola oil<br>corn<br>garlic<br>onion<br>pepper<br>pineapple<br>pineapple juice<br>pork<br>soy sauce<br>sugar<br>vinegar"
          ],
          [
           "canola oil<br>carrot<br>fish sauce<br>garlic<br>onion<br>pepper<br>pork<br>potato<br>tomato paste<br>tomato sauce"
          ],
          [
           "bay<br>beef<br>canola oil<br>corn<br>garlic<br>onion<br>peas<br>pepper<br>pork<br>salt<br>soy sauce<br>vinegar"
          ],
          [
           "bay leaf<br>canola oil<br>fish sauce<br>garlic<br>onion<br>pea<br>pepper<br>pork<br>tomato sauce"
          ],
          [
           "canola oil<br>carrot<br>coconut<br>fish sauce<br>garlic<br>ginger<br>onion<br>pepper<br>potato"
          ],
          [
           "banana<br>canola oil<br>carrot<br>carrot floret<br>chicken<br>coconut<br>egg<br>fish sauce<br>garlic<br>onion<br>peas<br>pepper<br>raisin<br>rice"
          ],
          [
           "bay<br>canola oil<br>carrot<br>celery<br>chicken<br>corn<br>dog<br>egg<br>elbow macaroni pasta<br>garlic<br>napa cabbage<br>onion<br>pepper"
          ],
          [
           "annatto<br>beef<br>canola oil<br>carrot<br>fish sauce<br>garlic<br>onion<br>pepper<br>pork<br>potato<br>raisin<br>tomato"
          ],
          [
           "butter<br>canola oil<br>carrot<br>chicken<br>egg<br>flour<br>garlic<br>ice<br>juice lemon<br>milk<br>onion<br>peas<br>pepper<br>salt<br>soy sauce<br>vegetable shortening"
          ],
          [
           "beef<br>canola oil<br>chestnut<br>corn<br>garlic<br>light soy sauce<br>onion<br>oyster sauce<br>pepper<br>snow peas<br>sugar<br>wine"
          ],
          [
           "beef<br>bread<br>canola oil<br>corn<br>egg<br>milk<br>onion<br>pepper<br>pineapple<br>pineapple juice<br>sugar<br>vinegar"
          ],
          [
           "canola oil<br>carrot<br>fish sauce<br>garlic<br>onion<br>pepper<br>pork<br>potato<br>raisin<br>tomato"
          ],
          [
           "calamansi<br>canola oil<br>chicken<br>garlic<br>mayonnaise<br>onion<br>pepper<br>soy sauce"
          ],
          [
           "calamansi<br>chicken<br>chili oil<br>garlic<br>ginger<br>honey<br>plum sauce<br>salt<br>sesame seed<br>soy sauce<br>vinegar"
          ],
          [
           "bean<br>corn<br>garlic<br>ginger<br>light soy sauce<br>onion<br>pork<br>rice wine<br>salt<br>sesame oil<br>sugar"
          ],
          [
           "carrot<br>chicken<br>eden<br>egg<br>elbow macaroni<br>ham<br>mayonnaise<br>milk<br>onion<br>pepper<br>pickle<br>raisin"
          ],
          [
           "basil<br>beef<br>canola oil<br>elbow macaroni<br>onion<br>oregano<br>pepper<br>sugar<br>tomato juice<br>tomato paste<br>worcestershire sauce"
          ],
          [
           "balut<br>canola oil<br>garlic<br>ginger<br>onion<br>oyster sauce<br>pepper<br>shallot<br>soy sauce"
          ],
          [
           "butter<br>egg<br>flour<br>potato<br>salt<br>sugar<br>yeast"
          ],
          [
           "calamansi<br>canola oil<br>chicken<br>garlic<br>salt<br>soy sauce<br>sugar"
          ],
          [
           "canola oil<br>garlic<br>onion<br>pepper<br>pork<br>shrimp paste<br>sugar<br>tomato<br>vinegar"
          ],
          [
           "almond sliver<br>butter<br>cake flour<br>cheese<br>egg<br>milk<br>sugar<br>vanilla"
          ],
          [
           "bay leaf<br>canola oil<br>carrot<br>celery<br>chicken<br>corn<br>ginger<br>onion<br>rice<br>salt"
          ],
          [
           "canola oil<br>chicken<br>corn<br>garlic<br>ginger<br>onion<br>pepper<br>pineapple<br>pineapple juice<br>soy sauce<br>sugar"
          ],
          [
           "avocado<br>cucumber<br>onion<br>roma tomato<br>salt<br>sesame oil<br>sugar<br>vinegar"
          ],
          [
           "canola oil<br>chuck steak<br>garlic<br>onion<br>pepper<br>potato<br>tomato"
          ],
          [
           "cabbage<br>carrot<br>mayonnaise<br>pineapple tidbit<br>raisin<br>salt<br>sugar<br>vinegar"
          ],
          [
           "chicken<br>corn<br>garlic<br>ginger<br>hoisin sauce<br>iceberg leaf<br>oil<br>onion<br>shitake mushroom<br>soy sauce<br>vermicelli noodle<br>vinegar<br>wine"
          ],
          [
           "bean<br>butter<br>egg<br>flour<br>milk<br>salt<br>sugar<br>yeast"
          ],
          [
           "canola oil<br>garlic<br>onion<br>oyster sauce<br>pepper<br>pork<br>roma tomato<br>upo"
          ],
          [
           "annatto<br>canola oil<br>garlic<br>onion<br>oyster sauce<br>pancit bihon<br>pepper<br>pork<br>upo"
          ],
          [
           "corn<br>cream tartar<br>egg<br>margarine<br>milk<br>sugar<br>vanilla"
          ],
          [
           "butter<br>coconut<br>egg<br>flour<br>flour milk<br>milk<br>salt<br>sugar<br>vanilla<br>vegetable oil<br>yeast"
          ],
          [
           "calamansi<br>canola oil<br>chicken<br>corn<br>garlic<br>salt<br>soy sauce"
          ],
          [
           "canola oil<br>carrot<br>chicken<br>fish sauce<br>garlic<br>onion<br>peas<br>pepper<br>pineapple juice<br>potato<br>tomato sauce"
          ],
          [
           "annatto<br>bean<br>canola oil<br>carrot<br>corn<br>egg<br>fish sauce<br>salt<br>shallot<br>shrimp tendril"
          ],
          [
           "butter<br>canola oil<br>carrot floret<br>cheese<br>egg<br>garlic<br>luncheon meat<br>onion<br>pepper<br>pickle<br>pineapple<br>pineapple tidbit<br>pork<br>raisin<br>salt<br>sugar<br>tomato ketchup<br>tomato paste"
          ],
          [
           "butter<br>canola oil<br>carrot<br>corn<br>cream<br>fish sauce<br>garlic<br>ham<br>onion<br>pea<br>pepper<br>shrimp<br>singkama"
          ],
          [
           "button mushroom<br>canola oil<br>cheese<br>chicken<br>corn<br>elbow macaroni<br>garlic<br>onion<br>pepper<br>salt<br>seasoning"
          ],
          [
           "calamansi half<br>canola oil<br>corn<br>egg<br>fish sauce<br>garlic<br>onion<br>pork<br>salt"
          ],
          [
           "canola oil<br>corn<br>garlic<br>lemon<br>milk<br>pepper<br>squid"
          ],
          [
           "banana<br>canola oil<br>garlic<br>ginger<br>onion<br>pepper<br>pineapple juice<br>pork<br>soy sauce"
          ],
          [
           "ginger<br>pechay leave<br>pepper<br>shallot<br>tamarind<br>tilapia<br>tomato"
          ],
          [
           "cabbage<br>calamansi<br>carrot bias<br>celery bias<br>chicken<br>garlic<br>onion<br>pepper<br>pork<br>rice noodle<br>shrimp<br>soy sauce<br>vegetable oil"
          ],
          [
           "bok choy leave<br>mushroom<br>oil<br>pork<br>soy sauce<br>star anise<br>sugar<br>vinegar<br>wine"
          ],
          [
           "fish sauce<br>guavas<br>kangkong<br>milkfish part<br>onion<br>salt<br>shrimp tendril"
          ],
          [
           "bean<br>canola oil<br>carrot<br>corn<br>fish sauce<br>garlic<br>kamote<br>onion<br>peanut<br>peanut butter<br>pepper<br>salt<br>singkama<br>soy sauce<br>sugar"
          ],
          [
           "avocado<br>cucumber<br>garlic<br>honey<br>lime juice<br>mango<br>olive oil<br>onion<br>pepper<br>salt<br>shrimp"
          ],
          [
           "bean<br>canola oil<br>carrot<br>fish sauce<br>garlic<br>onion<br>pepper<br>pork<br>shrimp<br>spring roll"
          ],
          [
           "day rice<br>egg<br>garlic<br>oil<br>onion<br>pea<br>pepper<br>shrimp<br>soy sauce"
          ],
          [
           "corn<br>egg<br>honey<br>mayonnaise<br>milk<br>peanut<br>pepper<br>shrimp<br>sugar<br>walnut"
          ],
          [
           "basil leave<br>bean<br>coconut<br>fish sauce<br>indian mango<br>lime<br>peanut<br>pepper<br>sugar<br>vegetable oil"
          ],
          [
           "canola oil<br>celery<br>chestnut<br>garlic<br>onion<br>pepper<br>shiitake mushroom<br>soy sauce"
          ],
          [
           "bangus<br>calamansi juice<br>canola oil<br>garlic<br>onion<br>pepper<br>seasoning sauce"
          ],
          [
           "banana<br>beef<br>cheese<br>garlic<br>hotdog<br>oil<br>onion<br>pepper<br>spaghetti<br>sugar<br>tomato paste<br>tomato sauce"
          ],
          [
           "banana<br>canola oil<br>carrot<br>egg<br>onion<br>pineapple<br>pork<br>raisin<br>salt<br>vienna sausage lengthwise"
          ],
          [
           "bean<br>canola oil<br>coconut<br>fish sauce<br>garlic<br>kalabasa<br>onion<br>pepper<br>shrimp"
          ],
          [
           "bacon<br>butter<br>button mushroom<br>cheese<br>chicken<br>cream<br>garlic<br>nutmeg<br>onion<br>parsley<br>pepper<br>spaghetti"
          ],
          [
           "canola oil<br>fish sauce<br>garlic<br>miswa noodle<br>onion<br>pepper<br>tomato"
          ],
          [
           "canola oil<br>corn<br>fish flesh<br>garlic<br>pepper<br>salt<br>shallot<br>soy sauce<br>sugar"
          ],
          [
           "butter<br>cinnamon<br>coconut<br>cream<br>egg<br>nutmeg<br>pineapple juice<br>raisin<br>sugar"
          ],
          [
           "garlic<br>oil<br>onion<br>pepper<br>pork<br>roma tomato<br>shrimp paste<br>sugar<br>vinegar"
          ],
          [
           "bay<br>beef<br>canola oil<br>corn<br>day rice<br>garlic<br>garlic clove<br>ginger<br>onion<br>pepper<br>salt<br>soy sauce<br>star anise<br>sugar"
          ],
          [
           "canola oil<br>chili<br>egg<br>fish sauce<br>garlic<br>ginger<br>onion<br>pepper"
          ],
          [
           "ancho chile<br>canola oil<br>cinnamon<br>clove<br>clove garlic<br>guajillo chile<br>onion<br>oregano<br>pepper<br>pork<br>roma tomato<br>vinegar"
          ],
          [
           "canola oil<br>fish sauce<br>garlic<br>onion<br>pepper<br>tomato<br>upo"
          ],
          [
           "canola oil<br>chicken<br>fish sauce<br>garlic<br>ginger<br>onion<br>pepper<br>potato<br>sugar"
          ],
          [
           "canola oil<br>chicken<br>coconut<br>egg<br>garlic<br>onion<br>peanut butter<br>pepper<br>rice flour"
          ],
          [
           "bamboo skewer<br>banana<br>bay<br>garlic<br>oyster sauce<br>pork<br>salt<br>sesame oil<br>soy sauce<br>vinegar"
          ],
          [
           "beef<br>calamansi juice<br>canola oil<br>garlic<br>salt<br>soy sauce<br>sugar"
          ],
          [
           "beef<br>egg<br>garlic<br>napa cabbage<br>oil<br>onion<br>pepper<br>pork<br>salt<br>soy sauce<br>star anise<br>sugar<br>wonton"
          ],
          [
           "canola oil<br>corn<br>egg<br>garlic<br>jalapeno<br>onion<br>pork<br>salt"
          ],
          [
           "ampalaya leave<br>garlic<br>oil<br>onion<br>pepper<br>scad tinapang galunggong bone<br>tomato"
          ],
          [
           "buttermilk<br>canola oil<br>cheese<br>chicken<br>corn<br>egg<br>ham<br>mozzarella<br>pepper<br>pineapple tidbit<br>pizza sauce<br>salt"
          ],
          [
           "canola oil<br>coconut<br>garlic<br>ginger<br>mussel<br>onion<br>pepper<br>shrimp<br>squid"
          ],
          [
           "bay<br>canola oil<br>garlic<br>ginger<br>onion<br>pepper<br>pork<br>soy sauce<br>sugar<br>vinegar"
          ],
          [
           "ampalaya<br>bean<br>calabasa<br>canola oil<br>eggplant<br>fish sauce<br>garlic<br>okra<br>onion<br>patola<br>pepper<br>roma tomato<br>shrimp"
          ],
          [
           "bay leaf<br>calamansi<br>canola oil<br>carrot<br>celery bias<br>chicken<br>corn<br>fish sauce<br>fungus<br>garlic<br>ginger<br>onion<br>pepper<br>salt<br>snow peas"
          ],
          [
           "ampalaya<br>calabasa<br>eggplant bias<br>garlic<br>okra bias half<br>onion<br>patola<br>pepper<br>shrimp<br>sitaw"
          ],
          [
           "canola oil<br>garlic<br>onion<br>pepper<br>pork<br>salt<br>spring roll"
          ],
          [
           "canola oil<br>chicken<br>curry<br>fish sauce<br>garlic<br>ginger<br>mango<br>onion<br>pepper"
          ],
          [
           "annatto<br>butter<br>garlic<br>oil<br>pepper<br>rice<br>shallot<br>soy sauce"
          ],
          [
           "banana<br>butter<br>canola oil<br>egg<br>milk<br>salt<br>sugar"
          ],
          [
           "canola oil<br>carrot<br>chicken<br>garlic<br>hamonado longganisa<br>kinchay<br>napa cabbage<br>onion<br>oyster sauce<br>pepper<br>shrimp<br>snow peas<br>soy sauce"
          ],
          [
           "carrot<br>chicken<br>egg<br>ham<br>mayonnaise<br>milk<br>onion<br>pepper<br>pickle<br>pineapple<br>potato"
          ],
          [
           "beer<br>clove<br>liquid<br>mustard<br>pineapple<br>pineapple juice<br>salt<br>sugar"
          ],
          [
           "ampalaya<br>corn<br>oil<br>onion<br>oyster sauce<br>pepper<br>sesame oil<br>soy sauce<br>sugar<br>top sirloin"
          ],
          [
           "banana<br>beef<br>butter<br>canola oil<br>cheese<br>garlic<br>hotdog<br>milk<br>nutmeg<br>onion<br>pepper<br>seasoning<br>sugar<br>tomato paste<br>tomato sauce"
          ],
          [
           "banana<br>canola oil<br>chicken<br>garlic<br>pineapple juice<br>salt<br>sugar"
          ],
          [
           "calabasa<br>corn<br>fish sauce<br>onion<br>pechay leave<br>pork<br>salt"
          ],
          [
           "ampalaya<br>chicken<br>fish sauce<br>garlic<br>ginger<br>oil<br>onion<br>pepper"
          ],
          [
           "beef<br>fish sauce<br>oil<br>onion<br>pechay<br>pepper<br>potato<br>roma tomato"
          ],
          [
           "bay<br>carrot<br>chuck roast<br>garlic<br>lemon<br>oil<br>onion<br>pepper<br>pork<br>potato<br>soy sauce<br>tomato sauce"
          ],
          [
           "bangus<br>carrot<br>juice lemon<br>oil<br>onion<br>oyster sauce<br>pea<br>pepper<br>raisin<br>soy sauce"
          ],
          [
           "corn<br>oil<br>pepper<br>pineapple juice<br>salt<br>sugar<br>vinegar"
          ],
          [
           "bay<br>corn<br>garlic<br>oil<br>pepper<br>pork<br>salt<br>shallot<br>soy sauce<br>vinegar"
          ],
          [
           "carrot<br>corn<br>ginger<br>onion<br>pepper<br>raisin<br>salt<br>sugar<br>vinegar"
          ],
          [
           "annatto<br>banana<br>bean<br>eggplant<br>fish sauce<br>oil<br>onion<br>oxtail<br>peanut butter<br>pechay<br>pepper<br>rice flour<br>shrimp"
          ],
          [
           "corn<br>jalapenos<br>oil<br>onion<br>pepper<br>salt<br>shrimp"
          ],
          [
           "fish sauce<br>ginger<br>oil<br>onion<br>pepper<br>shell mussel<br>spinach<br>tomato"
          ],
          [
           "bouillon<br>calamansi<br>canola oil<br>egg<br>fish sauce<br>garlic<br>ginger<br>onion<br>pepper<br>rice"
          ],
          [
           "butter<br>carrot<br>cream<br>fish sauce<br>garlic<br>onion<br>pea<br>pepper<br>quail egg<br>singkama"
          ],
          [
           "beef<br>calamansi juice<br>canola oil<br>fish sauce<br>garlic<br>onion<br>pepper<br>salt"
          ],
          [
           "canola oil<br>corn<br>garlic<br>onion<br>pepper<br>shrimp<br>spinach"
          ],
          [
           "bean<br>fish sauce<br>garlic<br>ginger<br>oil<br>onion<br>tamarind<br>tomato"
          ],
          [
           "broccoli floret<br>cabbage<br>canola oil<br>carrot bias<br>cauliflower floret<br>chicken<br>corn<br>garlic<br>liquid<br>onion<br>oyster sauce<br>pepper<br>quail egg"
          ],
          [
           "canola oil<br>dalag<br>fish sauce<br>garlic<br>ginger<br>napa cabbage leave<br>onion<br>pechay leave<br>pepper<br>potato"
          ],
          [
           "canola oil<br>fish sauce<br>garlic<br>ginger<br>onion<br>papaya<br>pepper<br>spinach leave"
          ],
          [
           "bay<br>garlic<br>oil<br>onion<br>pork<br>salt<br>soy sauce<br>vinegar"
          ],
          [
           "bean<br>bok choy<br>eggplant<br>finger chilie<br>fish sauce<br>gabi<br>okra<br>onion<br>pepper<br>pork<br>radish<br>tamarind<br>tomato"
          ],
          [
           "corn<br>egg<br>eggplant<br>flour<br>oil<br>onion<br>pepper<br>salt<br>soy sauce<br>sugar<br>vinegar"
          ],
          [
           "corn<br>eggplant<br>oil<br>onion<br>oyster sauce<br>pepper<br>pork<br>salt<br>soy sauce<br>sugar<br>vinegar"
          ],
          [
           "canola oil<br>egg<br>onion<br>pepper<br>rice<br>sesame oil<br>soy sauce"
          ],
          [
           "bok choy<br>carrot<br>chicken<br>corn<br>oil<br>onion<br>oyster sauce<br>pancit<br>quail egg<br>sesame oil"
          ],
          [
           "bay<br>carrot<br>oil<br>onion<br>pepper<br>pork<br>potato<br>tomato sauce"
          ],
          [
           "bay<br>carrot<br>corn<br>egg<br>liquid seasoning<br>onion<br>oyster sauce<br>pepper<br>pork<br>salt<br>sesame oil<br>shrimp<br>star anise<br>sugar<br>vinegar<br>wonton"
          ],
          [
           "corn<br>lemon<br>oil<br>onion<br>pepper<br>pork<br>soy sauce"
          ],
          [
           "butter<br>carrot<br>chicken<br>corn<br>cream<br>cream mushroom<br>garlic<br>oil<br>onion<br>pea<br>tofu"
          ],
          [
           "egg<br>oil<br>onion<br>pepper<br>rice<br>salt<br>sesame oil<br>soy sauce<br>sugar"
          ],
          [
           "carrot<br>cheese<br>liquid seasoning<br>liver<br>oil<br>onion<br>pea<br>pepper<br>pork<br>potato<br>soy sauce<br>tomato paste<br>tomato sauce"
          ],
          [
           "carrot<br>cheese<br>corn<br>egg<br>liquid seasoning<br>lumpia<br>oil<br>onion<br>pepper<br>pork"
          ],
          [
           "bean<br>daikon radish<br>eggplant<br>oil<br>okra<br>onion<br>pepper<br>pork<br>sinigang sampaloc<br>spinach<br>tomato"
          ],
          [
           "annatto<br>egg<br>fish flake<br>flour<br>garlic<br>lemon<br>oil<br>onion<br>pepper<br>pork<br>rice vermicelli<br>shrimp"
          ],
          [
           "butter<br>chicken<br>corn<br>cream mushroom<br>egg<br>flour<br>liquid seasoning<br>oil<br>salt"
          ],
          [
           "bella mushroom<br>butter<br>cheese<br>cream mushroom<br>fettuccine<br>oil<br>olive oil<br>parsley<br>pepper<br>sprig rosemary<br>whipping cream"
          ],
          [
           "garlic<br>lime<br>oil<br>onion<br>oyster sauce<br>pepper<br>pork<br>quail egg<br>soy sauce<br>sugar<br>worcestershire sauce"
          ],
          [
           "butter<br>chicken<br>corn<br>egg<br>flour<br>garlic<br>liquid seasoning<br>oil<br>onion<br>pepper<br>tofu"
          ],
          [
           "flour<br>liver<br>oil<br>onion<br>pepper<br>pork<br>spaghetti<br>spaghetti sauce"
          ],
          [
           "broccoli floret<br>carrot<br>garlic<br>ginger<br>oil<br>onion<br>oyster sauce<br>pepper<br>tofu"
          ],
          [
           "banana<br>oil<br>onion<br>pepper<br>pork<br>salt<br>vermicelli<br>vinegar"
          ],
          [
           "bean<br>cabbage<br>carrot<br>corn<br>kikiam<br>oil<br>onion<br>oyster sauce<br>pancit<br>pepper<br>pork<br>quail egg<br>sausage<br>sesame oil<br>shrimp<br>soy sauce"
          ],
          [
           "bay<br>chicken<br>onion<br>oyster sauce<br>pepper<br>soy sauce<br>sugar<br>vinegar"
          ],
          [
           "breadcrumb<br>butter<br>chicken<br>egg<br>flour<br>garlic<br>oil<br>pepper<br>salt"
          ],
          [
           "bean<br>bok choy<br>cabbage<br>corn<br>fish sauce<br>onion<br>pork<br>potato"
          ],
          [
           "chicken<br>egg<br>flour<br>garlic<br>milk<br>oil<br>pepper<br>salt"
          ],
          [
           "ap<br>beef<br>butter<br>ice<br>oil<br>onion<br>paprika<br>pea<br>pepper<br>raisin<br>salt<br>sugar"
          ],
          [
           "bean<br>chicken<br>chili sauce<br>corn<br>egg<br>flour<br>honey<br>life sesame oil<br>oil<br>onion<br>pepper<br>soy sauce<br>tomato ketchup<br>vinegar"
          ],
          [
           "beef<br>cheese<br>marinara sauce<br>mushroom<br>onion<br>pepper<br>spaghetti"
          ],
          [
           "chicken<br>egg<br>oil<br>onion<br>oyster sauce<br>pepper<br>rice<br>sesame oil<br>soy sauce<br>vegetable"
          ],
          [
           "butter<br>liquid seasoning<br>mushroom<br>olive oil<br>onion<br>parsley<br>pepper<br>thyme<br>wine"
          ],
          [
           "bok choy<br>fish<br>ginataang gulay<br>ginger<br>oil<br>onion<br>pepper<br>pineapple<br>salt"
          ],
          [
           "corn<br>liquid seasoning<br>oil<br>onion<br>oyster sauce<br>soy sauce<br>spinach"
          ],
          [
           "corn<br>egg<br>flour<br>lemon juice<br>life breadcrumb<br>loaf bread<br>mango<br>salt<br>sugar<br>vanilla"
          ],
          [
           "beef<br>butter<br>carrot<br>cheese<br>coffee<br>corn<br>honey<br>oil<br>onion<br>pepper<br>potato<br>tomato ketchup<br>worcestershire sauce"
          ],
          [
           "eggplant<br>ginger<br>oil<br>onion<br>oyster sauce<br>pepper<br>pork<br>sesame oil<br>soy sauce<br>sugar"
          ],
          [
           "carrot<br>chicken<br>ginataang gulay<br>oil<br>onion<br>pea<br>pepper<br>potato<br>tomato sauce"
          ],
          [
           "bay<br>bok choy<br>carrot<br>corn<br>mushroom<br>oil<br>onion<br>pork<br>sesame oil<br>soy sauce<br>star anise<br>sugar"
          ],
          [
           "bean<br>calabaza squash<br>eggplant<br>ginger<br>melon<br>okra<br>onion<br>pepper<br>pork<br>shrimp<br>tomato"
          ],
          [
           "carrot<br>chicken<br>mayonnaise<br>oil<br>onion<br>pepper<br>pickle<br>pineapple<br>potato"
          ],
          [
           "bean<br>cabbage<br>carrot<br>corn<br>egg<br>kani<br>oil<br>onion<br>pepper<br>soy sauce<br>squid<br>wonton noodle"
          ],
          [
           "apple juice<br>barbecue sauce<br>garlic<br>liquid seasoning<br>pepper<br>pork<br>salt<br>sugar<br>worcestershire sauce"
          ],
          [
           "butter<br>carrot<br>chicken<br>corn<br>cream mushroom soup<br>macaroni<br>onion<br>pepper"
          ],
          [
           "bacon<br>butter<br>cheese<br>egg<br>liquid seasoning<br>oil<br>onion<br>pepper<br>rice<br>tomato"
          ],
          [
           "carrot<br>egg<br>flour<br>misua<br>oil<br>onion<br>patola<br>pepper<br>salt<br>shrimp<br>tofu"
          ],
          [
           "eggplant<br>ginataang gulay<br>oil<br>onion<br>pepper<br>pork<br>shrimp<br>sugar<br>tomato<br>vinegar"
          ],
          [
           "bacon<br>butter<br>button mushroom<br>cheese<br>cream mushroom soup<br>flour<br>pepper<br>spaghetti"
          ],
          [
           "beef<br>butter<br>button mushroom<br>cream mushroom soup<br>oil<br>onion<br>parsley<br>pepper"
          ],
          [
           "butter<br>carrot<br>chicken<br>corn<br>cream<br>cream mushroom soup<br>jicama<br>oil<br>onion<br>pea<br>quail egg"
          ],
          [
           "corn<br>liquid seasoning<br>oil<br>onion<br>oyster sauce<br>pepper<br>pork<br>soy sauce<br>sugar"
          ],
          [
           "bread crumb<br>carrot<br>corn<br>egg<br>eggplant<br>flour<br>garlic<br>kalabasa<br>liquid seasoning<br>oil<br>onion<br>onion power<br>pea<br>pepper<br>salt<br>soy sauce<br>star anise<br>sugar<br>vinegar"
          ],
          [
           "broccoli floret<br>cabbage<br>carrot<br>corn<br>floret<br>oil<br>onion<br>oyster sauce<br>pepper<br>quail egg<br>snow peas<br>soy sauce<br>tofu"
          ],
          [
           "banana<br>butter<br>corn<br>oil<br>onion<br>pork<br>soy sauce<br>star anise<br>sugar"
          ],
          [
           "cabbage<br>carrot<br>oil<br>onion<br>pea<br>pepper<br>pork<br>soy sauce"
          ],
          [
           "bay<br>butter<br>chicken<br>corn<br>egg<br>garlic<br>lemon lime soda<br>oil<br>onion<br>soy sauce<br>vinegar<br>yogurt"
          ],
          [
           "anchovy<br>bottle gourd<br>chicken<br>garlic<br>ginataang gulay<br>lemon juice<br>liquid seasoning<br>oil<br>onion<br>pepper<br>pork<br>sardine<br>spinach<br>vermicelli<br>vinegar"
          ],
          [
           "bean<br>beef<br>bok choy<br>cabbage<br>corn<br>oil<br>onion<br>pepper<br>potato"
          ],
          [
           "bangus<br>bean<br>daikon radish<br>kangkong<br>mustard<br>oil<br>okra<br>onion<br>pepper<br>salt<br>sinigang sampaloc miso<br>tomato"
          ],
          [
           "annatto<br>banana<br>bean<br>beef<br>bok choy<br>eggplant<br>oil<br>onion<br>peanut paste<br>pepper<br>tail"
          ],
          [
           "bean<br>butter<br>carrot<br>corn<br>cream mushroom soup<br>onion<br>pepper<br>quail egg"
          ],
          [
           "bok choy<br>cabbage<br>carrot<br>chicken<br>corn<br>oil<br>onion<br>oyster sauce<br>pea<br>pepper<br>sesame oil<br>shiitake mushroom<br>snow peas<br>soy sauce<br>sugar"
          ],
          [
           "carrot<br>egg<br>eggplant<br>liquid seasoning<br>oil<br>onion<br>pepper"
          ],
          [
           "calamansi<br>cream<br>eggplant<br>ginger<br>liquid seasoning<br>milk<br>onion<br>pepper<br>pork<br>squid<br>sugar<br>tomato<br>vanilla ice cream<br>vinegar"
          ],
          [
           "breadcrumb<br>carrot<br>egg<br>flour<br>ice<br>napa cabbage leave<br>oil<br>onion<br>pepper<br>pork<br>salt<br>sesame oil<br>soy sauce"
          ],
          [
           "butter<br>chicken<br>egg<br>flour<br>liquid seasoning<br>milk<br>oil<br>parsley<br>pepper"
          ],
          [
           "bok choy<br>chicken<br>ginger<br>oil<br>onion<br>pepper<br>tomato"
          ],
          [
           "daikon radish<br>fish sauce<br>mustard<br>oil<br>okra<br>onion<br>pepper<br>salmon<br>sinigang sampaloc miso<br>tomato"
          ],
          [
           "bean<br>calabaza squash<br>ginataang gulay<br>oil<br>onion<br>salt<br>tilapia"
          ],
          [
           "bean<br>oil<br>onion<br>pepper<br>pork<br>salt<br>scad<br>tomato"
          ],
          [
           "bean<br>butter<br>carrot<br>oil<br>onion<br>pepper<br>pork<br>soy sauce<br>sugar<br>tomato paste"
          ],
          [
           "annatto<br>cabbage<br>carrot<br>oil<br>onion<br>pepper<br>pork<br>shrimp<br>snow peas<br>soy sauce<br>vermicelli"
          ],
          [
           "annatto<br>bean<br>beef<br>cow trotter<br>fish sauce<br>knob ginger<br>lemongras<br>oil<br>onion<br>pepper<br>tomato sauce"
          ],
          [
           "garlic<br>oil<br>onion<br>pepper<br>soy sauce<br>squid<br>squid ink<br>sugar<br>tomato<br>vinegar"
          ],
          [
           "carrot<br>chicken<br>hoisin sauce<br>jicama<br>lettuce<br>onion<br>pepper<br>sesame oil<br>soy sauce<br>vinegar"
          ],
          [
           "beef<br>cheese<br>macaroni<br>oil<br>onion<br>parsley<br>pepper"
          ],
          [
           "beef<br>button mushroom<br>corn<br>egg<br>oil<br>onion<br>parsley<br>patty ulam burger<br>pepper<br>soy sauce<br>worcestershire sauce"
          ],
          [
           "beef<br>cheese<br>oil<br>olive<br>onion<br>taco seasoning<br>tomato<br>tortilla chip"
          ],
          [
           "cheese<br>longganisa<br>oil<br>onion<br>penne pasta<br>pepper<br>seasoning<br>tomato paste<br>tomato sauce"
          ],
          [
           "beef<br>butter<br>button mushroom<br>flour<br>garlic<br>oil<br>parsley<br>patty ulam burger<br>pepper<br>worcestershire sauce"
          ],
          [
           "cashew nut<br>egg<br>holiday ham<br>oil<br>onion<br>pea<br>pepper<br>pineapple tidbit<br>rice"
          ],
          [
           "banana<br>breadcrumb<br>egg<br>flour<br>holiday ham<br>oil<br>oyster sauce<br>sugar<br>worcestershire sauce"
          ],
          [
           "butter<br>button mushroom<br>cheese<br>holiday ham<br>oil<br>onion<br>pepper<br>pork"
          ],
          [
           "beer<br>flour<br>ham<br>mozzarella<br>oil<br>pineapple tidbit<br>pizza sauce<br>salt<br>sugar"
          ],
          [
           "bread<br>burger patty<br>butter<br>cabbage<br>katsu sauce<br>mayonnaise<br>oil"
          ],
          [
           "burger patty<br>corn<br>ginger<br>oil<br>onion<br>orange juice<br>pepper<br>sesame oil<br>soy sauce<br>sugar<br>vinegar"
          ],
          [
           "beef<br>butter<br>carrot<br>corn<br>onion<br>pea<br>pepper"
          ],
          [
           "butter<br>cheese<br>egg<br>flour tortilla<br>milk<br>pork<br>rice<br>romaine lettuce<br>tomato<br>vinegar"
          ],
          [
           "beef<br>bread crumb<br>egg<br>flour<br>mozzarella<br>oil<br>pepper"
          ],
          [
           "butter<br>carrot<br>egg<br>oil<br>pea<br>pepper<br>pork<br>rice<br>soy sauce"
          ],
          [
           "carrot<br>cheese<br>liver<br>luncheon meat<br>oil<br>onion<br>pea<br>pepper<br>potato<br>tomato sauce"
          ],
          [
           "bay<br>butter<br>calamansi juice<br>corn<br>lemon lime soda<br>liquid seasoning<br>liver<br>luncheon meat<br>mayonnaise<br>oil<br>onion<br>pepper<br>pork<br>salt<br>tofu<br>vinegar"
          ],
          [
           "bay<br>butter<br>chicken<br>corn<br>oil<br>onion<br>oyster sauce<br>soy sauce<br>sugar<br>vinegar"
          ],
          [
           "cheese<br>oil<br>onion<br>pepper<br>pork<br>spaghetti noodle<br>spaghetti sauce"
          ],
          [
           "annatto<br>banana<br>bay<br>bean<br>bok choy<br>corn<br>eggplant<br>oil<br>onion<br>peanut paste<br>pepper<br>pork<br>salt<br>shrimp"
          ],
          [
           "breadcrumb<br>butter<br>carrot<br>cheese<br>chicken<br>dijon mustard<br>egg<br>flour<br>oil<br>onion<br>pepper<br>pickle<br>pork<br>raisin<br>salt<br>whipping cream"
          ],
          [
           "basil<br>beef<br>cheese<br>egg<br>lasagna noodle<br>marinara sauce<br>mozzarella<br>onion<br>parsley<br>pepper<br>salt"
          ],
          [
           "bay<br>corn<br>liquid seasoning<br>mayonnaise<br>onion<br>pepper<br>pork<br>salt<br>vinegar"
          ],
          [
           "carrot<br>chicken<br>coconut<br>cream mushroom<br>oil<br>pepper<br>potato"
          ],
          [
           "carrot<br>chicken<br>cream<br>macaroni<br>mayonnaise<br>onion<br>pea<br>pepper<br>pickle<br>pineapple tidbit<br>rib celery<br>sugar"
          ],
          [
           "butter<br>chicken<br>corn<br>egg<br>flour<br>garlic<br>honey<br>lemon juice<br>liquid seasoning<br>mayonnaise<br>oil<br>onion<br>pepper<br>salt"
          ],
          [
           "bean<br>daikon radish<br>eggplant<br>liquid seasoning<br>oil<br>okra<br>onion<br>pepper<br>pork<br>sinigang sampaloc<br>spinach<br>tomato"
          ],
          [
           "bacon<br>cheese<br>chicken<br>cream<br>garlic<br>grape tomato<br>mayonnaise<br>onion<br>paprika<br>penne pasta<br>pepper<br>salt<br>spinach<br>vinegar"
          ],
          [
           "cabbage<br>carrot<br>chicken<br>oil<br>onion<br>oyster sauce<br>pancit noodle<br>parsley<br>pepper<br>sausage<br>shrimp<br>snow peas<br>soy sauce<br>squid"
          ],
          [
           "bacon<br>garlic<br>liquid seasoning<br>onion<br>pepper<br>pork<br>salt<br>spring onion<br>vinegar"
          ],
          [
           "chorizo bilbao<br>lemon<br>liquid seasoning<br>mayonnaise<br>oil<br>onion<br>paella rice<br>paprika<br>pepper<br>pork<br>quail egg"
          ],
          [
           "bacon<br>butter<br>cheese<br>cream mushroom<br>fettuccine<br>onion<br>parsley<br>pepper"
          ],
          [
           "beef<br>butter<br>canola oil<br>corn<br>garlic<br>oyster sauce<br>pepper<br>soy sauce"
          ],
          [
           "clove<br>corn<br>crab<br>crab leg<br>ginger<br>mussel<br>salt<br>shrimp"
          ],
          [
           "mussel<br>olive oil<br>onion<br>paella rice<br>paprika<br>parsley<br>pea<br>pepper<br>saffron<br>shrimp<br>squid<br>tomato"
          ],
          [
           "cabbage<br>carrot<br>celery<br>chicken<br>hotdog<br>macaroni<br>milk<br>oil<br>onion<br>pepper"
          ],
          [
           "basil<br>butter<br>buttermilk<br>celery salt<br>chicken<br>flour<br>garlic<br>ginger<br>liquid seasoning<br>mustard<br>oil<br>onion<br>oregano<br>paprika<br>pepper<br>salt<br>thyme"
          ],
          [
           "bread<br>breadcrumb<br>canola oil<br>cheese<br>egg<br>flour<br>mayonnaise<br>milk<br>oil<br>salt"
          ],
          [
           "bay<br>chicken<br>corn<br>egg<br>oil<br>soy sauce<br>sugar<br>vinegar"
          ],
          [
           "bean<br>butter<br>button mushroom<br>carrot<br>chicken<br>cream<br>garlic<br>oil<br>onion<br>pepper<br>salt"
          ],
          [
           "beef<br>corn<br>lemon<br>oil<br>onion<br>soy sauce<br>sugar"
          ],
          [
           "chicken<br>laurel<br>lemon<br>oil<br>onion<br>pepper<br>potato<br>soy sauce<br>sugar<br>tomato sauce"
          ],
          [
           "carrot<br>laurel<br>oil<br>onion<br>pea<br>pepper<br>pork<br>soy sauce<br>vinegar"
          ],
          [
           "butter<br>cheese<br>cream<br>fettuccine pasta<br>grape tomato<br>lemon<br>olive oil<br>parsley<br>pepper"
          ],
          [
           "buttermilk<br>carrot<br>chicken<br>life breadcrumb<br>oil<br>onion<br>pepper<br>potato<br>salt<br>sauce"
          ],
          [
           "butter<br>carrot<br>chicken<br>egg<br>oil<br>onion<br>oyster sauce<br>pea<br>pepper<br>potato<br>raisin<br>soy sauce<br>sugar"
          ],
          [
           "bean<br>daikon radish<br>eggplant<br>okra<br>onion<br>pepper<br>pork<br>spinach<br>tamarind<br>tomato"
          ],
          [
           "bay<br>carrot<br>dog<br>oil<br>onion<br>pea<br>pepper<br>pork<br>potato<br>tomato<br>tomato sauce"
          ],
          [
           "celery<br>chicken<br>coconut<br>cream<br>ginger<br>onion<br>pepper<br>potato"
          ],
          [
           "corn<br>oil<br>onion<br>pepper<br>pig ear<br>pork<br>salt<br>scallion<br>soy sauce<br>sugar<br>vinegar"
          ],
          [
           "chicken<br>fish sauce<br>garlic<br>garlic oil<br>onion<br>pepper<br>soy sauce<br>vinegar"
          ],
          [
           "banana<br>carrot<br>corn<br>oil<br>onion<br>pepper<br>salt<br>sugar<br>vinegar"
          ],
          [
           "butter<br>cheese<br>garlic<br>lemon juice<br>liquid seasoning<br>mayonnaise<br>onion<br>pepper<br>salmon<br>salt"
          ],
          [
           "bean<br>chicken<br>daikon radish<br>eggplant<br>kangkong<br>oil<br>okra<br>onion<br>pepper<br>pork<br>sinigang sampaloc<br>tomato"
          ],
          [
           "annatto<br>bay<br>carrot<br>fish sauce<br>ginger<br>oil<br>onion<br>pepper<br>pork<br>sibot<br>vinegar"
          ],
          [
           "carrot<br>chicken<br>corn<br>liver<br>oil<br>onion<br>pepper<br>pineapple<br>soy sauce<br>sugar"
          ],
          [
           "fish sauce<br>ginger<br>goat skin<br>liquid seasoning<br>onion<br>pepper<br>sugar<br>vinegar"
          ],
          [
           "bean<br>chicken<br>ginataang gulay<br>ginger<br>oil<br>onion<br>pepper<br>shrimp"
          ],
          [
           "bagnet<br>cabbage<br>carrot<br>egg<br>mushroom<br>napa cabbage<br>oil<br>onion<br>oyster sauce<br>parsley<br>pepper<br>pork<br>snow peas<br>soy sauce"
          ],
          [
           "bago<br>coconut<br>fish<br>fish sauce<br>jackfruit<br>oil<br>onion<br>pepper<br>shrimp<br>vinegar"
          ],
          [
           "matoes<br>oil<br>onion<br>oyster sauce<br>pepper<br>pork<br>potato<br>soy sauce"
          ],
          [
           "bean<br>chicken<br>ginataang gulay<br>oil<br>onion<br>pepper<br>shrimp"
          ],
          [
           "egg<br>horse meat<br>lemon lime soda<br>oil<br>onion<br>pepper<br>rice<br>salt<br>sesame oil<br>soy sauce<br>sugar"
          ],
          [
           "bread<br>burger bun<br>carrot<br>cheese<br>chicken<br>egg<br>flour<br>mayonnaise<br>oil<br>pepper<br>pickle<br>salt"
          ],
          [
           "bay<br>canola oil<br>hoisin sauce<br>pepper<br>salt<br>star anise<br>sugar<br>vinegar"
          ],
          [
           "banana<br>calamansi<br>chicken<br>liquid seasoning<br>oil<br>pork<br>soy sauce<br>sugar"
          ],
          [
           "carrot<br>cheese<br>chicken<br>macaroni<br>mayonnaise<br>pepper<br>pickle<br>pineapple tidbit<br>raisin<br>salt"
          ],
          [
           "banana<br>lemon<br>liquid seasoning<br>onion<br>pepper<br>pineapple<br>pork<br>soda<br>soy sauce<br>squid<br>sugar<br>tomato"
          ],
          [
           "bacon<br>banana<br>beef<br>burger bun<br>cheese<br>hotdog bun<br>mayonnaise<br>oil<br>onion<br>pepper<br>salt"
          ],
          [
           "bean<br>corn<br>eggplant<br>oil<br>onion<br>oyster sauce<br>pepper<br>sesame oil<br>soy sauce<br>sugar<br>vinegar"
          ],
          [
           "almond<br>annatto<br>bean<br>beef<br>bok choy<br>eggplant<br>onion<br>peanut<br>salt"
          ],
          [
           "bread<br>bread crumb<br>chicken<br>dijon mustard<br>mayonnaise<br>oil<br>salt"
          ],
          [
           "banana<br>laurel<br>oil<br>onion<br>pepper<br>pineapple juice<br>pork<br>soy sauce<br>star anise<br>sugar"
          ],
          [
           "beef<br>butter<br>flour<br>milk<br>oil<br>pepper<br>potato<br>rosemary<br>salt<br>t bone steak<br>thyme"
          ],
          [
           "banana<br>chicken<br>corn<br>crab<br>egg<br>ginger<br>oil<br>onion<br>pepper<br>tomato paste"
          ],
          [
           "carrot<br>egg<br>matoes<br>oil<br>onion<br>pea<br>pepper<br>pork<br>potato<br>raisin<br>tomato paste"
          ],
          [
           "beef<br>broccoli floret<br>carrot<br>corn<br>garlic oil<br>onion<br>oyster sauce<br>pepper<br>sesame oil<br>sesame seed<br>soy sauce<br>sugar"
          ],
          [
           "chili garlic oil<br>coconut<br>fish sauce<br>ginger<br>onion<br>papaya<br>pepper<br>pork<br>spinach"
          ],
          [
           "bay<br>lemon lime soda<br>oil<br>onion<br>oyster sauce<br>pork<br>soy sauce<br>vinegar"
          ],
          [
           "bean<br>broccoli<br>carrot<br>ginataang gulay<br>oil<br>onion<br>pepper"
          ],
          [
           "banana<br>corn<br>laurel<br>onion<br>pork<br>salt<br>soy sauce<br>sugar<br>vinegar"
          ],
          [
           "bean<br>ginataang gulay<br>malunggay<br>mato<br>oil<br>onion<br>pork<br>tofu"
          ],
          [
           "chicken<br>malunggay<br>oil<br>onion<br>papaya<br>pepper<br>rice wash<br>sotanghon noodle"
          ],
          [
           "bagoong<br>bean<br>coconut<br>kalabasa<br>malunggay<br>oil<br>onion<br>pepper"
          ],
          [
           "avocado<br>cheese<br>cream<br>cucumber<br>furikake<br>kani<br>masago<br>mayonnaise<br>rice<br>salt<br>sriracha sauce<br>sugar<br>vinegar"
          ],
          [
           "bean<br>chicken<br>daikon radish<br>fish sauce<br>ginger<br>oil<br>okra<br>onion<br>pepper<br>sinigang sampaloc<br>spinach<br>tomato"
          ],
          [
           "bangus<br>ginger<br>oil<br>onion<br>pepper<br>sugar<br>tahure<br>tausi<br>tomato<br>vinegar"
          ],
          [
           "chicken<br>egg<br>fish sauce<br>ginger<br>lemon<br>oil<br>onion<br>pepper<br>rice<br>scallion"
          ],
          [
           "beef<br>ginger<br>intestine<br>kamia<br>melon<br>oil<br>onion<br>pepper<br>pork<br>vinegar"
          ],
          [
           "corn<br>laurel<br>lemongras<br>oil<br>onion<br>pork<br>salt<br>vinegar"
          ],
          [
           "breadcrumb<br>garlic<br>laurel<br>oil<br>onion<br>pepper<br>pork<br>salt<br>soy sauce<br>sugar<br>vinegar"
          ],
          [
           "bread crumb<br>coconut<br>corn<br>egg<br>flour<br>garlic<br>milk<br>oil<br>pepper<br>salt<br>shrimp<br>sugar<br>vinegar"
          ],
          [
           "bacon<br>butter<br>button mushroom<br>cheese<br>cream<br>cream mushroom<br>fettuccine"
          ],
          [
           "basil<br>buttermilk<br>celery salt<br>chicken<br>flour<br>ginger<br>liquid seasoning<br>mustard<br>oil<br>oregano<br>paprika<br>pepper<br>salt<br>thyme"
          ],
          [
           "beef<br>bread crumb<br>egg<br>liver<br>oil<br>onion<br>pepper<br>pickle<br>pineapple<br>pork<br>raisin<br>salt<br>tomato sauce"
          ],
          [
           "beef<br>carrot<br>garlic<br>liver<br>manzanilla olive<br>olive oil<br>onion<br>pepper<br>potato<br>soy sauce<br>thyme<br>tomato sauce<br>wine"
          ],
          [
           "lemon juice<br>liquid seasoning<br>liver<br>mayonnaise<br>oil<br>onion<br>pepper<br>tofu"
          ],
          [
           "carrot<br>celery<br>cheese<br>chicken<br>macaroni<br>mayonnaise<br>onion<br>parsley<br>pepper<br>pickle<br>pineapple<br>sugar"
          ],
          [
           "bok choy<br>carrot<br>corn<br>egg<br>ginger<br>oil<br>onion<br>oyster sauce<br>pepper<br>sesame oil<br>soy sauce<br>sugar<br>wine"
          ],
          [
           "bacon<br>carrot<br>chick peas<br>chorizo bilbao<br>corn<br>foot<br>olive oil<br>onion<br>ox tripe<br>pepper<br>salt<br>tomato sauce"
          ],
          [
           "beef<br>butter<br>cream<br>lasagna<br>mozzarella<br>mushroom<br>onion<br>paprika"
          ],
          [
           "butter<br>cabbage<br>egg<br>garlic<br>lemon<br>oil<br>onion<br>oyster sauce<br>pancit<br>pepper<br>shrimp<br>soy sauce"
          ],
          [
           "bean<br>bok choy<br>daikon radish<br>eggplant<br>oil<br>okra<br>onion<br>pepper<br>pork<br>sinigang sampaloc gabi<br>tomato"
          ],
          [
           "beef<br>egg<br>ginger<br>miki noodle<br>oil<br>onion<br>pepper<br>potato starch<br>soy sauce<br>star anise<br>sugar"
          ],
          [
           "anatto<br>egg<br>fish sauce<br>flour<br>garlic<br>lemon<br>oil<br>onion<br>pepper<br>pork<br>rice noodle<br>shrimp<br>shrimp bouillon<br>tinapa flake<br>tofu"
          ],
          [
           "calamansi<br>lemon lime soda<br>onion<br>pepper<br>pork<br>soy sauce<br>tofu<br>vinegar"
          ],
          [
           "carrot<br>chili<br>goat meat<br>liver<br>oil<br>olive<br>onion<br>pepper<br>potato<br>tomato<br>tomato sauce<br>vinegar"
          ],
          [
           "cabbage<br>carrot<br>chicken<br>flour<br>oil<br>onion<br>parsley<br>pepper<br>pork<br>rice noodle<br>sausage<br>shrimp juice<br>soy sauce<br>wood ear"
          ],
          [
           "cheese<br>cream<br>fruit cocktail<br>kaong<br>macaroni<br>mayonnaise<br>milk<br>nata de coco"
          ],
          [
           "bean<br>broccoli floret<br>carrot<br>cheese<br>cream<br>garlic<br>lemon<br>mayonnaise<br>olive oil<br>pepper<br>salmon"
          ],
          [
           "beef<br>cheese<br>mozzarella<br>onion<br>parsley<br>pepper<br>seasoning<br>spaghetti<br>tomato<br>tomato sauce"
          ],
          [
           "bay<br>beef<br>lemon<br>oil<br>onion<br>pepper<br>potato<br>salt<br>soy sauce<br>tomato sauce"
          ],
          [
           "ampalaya<br>egg<br>luke<br>oil<br>onion<br>pepper<br>salt<br>tomato"
          ],
          [
           "banana<br>butter<br>cheese<br>coconut<br>duck egg<br>egg<br>milk<br>rice flour<br>salt<br>sugar"
          ],
          [
           "carrot<br>coconut<br>oil<br>onion<br>pepper<br>pineapple juice<br>pork<br>salt fish sauce"
          ],
          [
           "carrot<br>corn<br>egg<br>fish sauce<br>garlic<br>kalabasa<br>malunggay<br>oil<br>onion<br>pepper<br>salt<br>vinegar"
          ],
          [
           "bread crumb<br>cheese<br>egg<br>flour<br>milk<br>oil<br>onion<br>salt"
          ],
          [
           "butter<br>chicken<br>lemon<br>liquid seasoning<br>pepper<br>rosemary<br>salt"
          ],
          [
           "bread crumb<br>corn<br>garlic<br>laurel<br>lemongras<br>oil<br>onion<br>pig<br>pork<br>salt<br>soy sauce<br>sugar<br>vinegar"
          ],
          [
           "carrot<br>hotdog<br>laurel<br>oil<br>onion<br>pea<br>pepper<br>pork<br>potato<br>soy sauce<br>sugar<br>tomato sauce"
          ],
          [
           "beef<br>egg<br>fish sauce<br>flour<br>misua<br>oil<br>onion<br>patola<br>pepper<br>pork<br>salt"
          ],
          [
           "bangus belly<br>corn<br>cream pumpkin soup<br>flour<br>oil<br>parsley<br>rice<br>salt"
          ],
          [
           "bean<br>fish sauce<br>oil<br>onion<br>pepper<br>pork<br>tomato"
          ],
          [
           "bacon<br>bread<br>cheese<br>cream<br>lettuce<br>mayonnaise<br>shrimp bisque<br>tomato<br>turkey deli"
          ],
          [
           "beef<br>butter<br>olive oil<br>oyster sauce<br>pepper<br>salt<br>worcestershire sauce"
          ],
          [
           "banana<br>bay<br>bean<br>broccoli floret<br>carrot<br>chicken<br>duck<br>floret<br>lemon lime soda<br>oil<br>onion<br>pepper<br>pineapple juice<br>soy sauce<br>sugar"
          ],
          [
           "cabbage<br>carrot<br>chicken<br>corn<br>noodle<br>onion<br>oyster sauce<br>pepper<br>pork<br>quail egg<br>soy sauce<br>sugar"
          ],
          [
           "bean<br>chicken<br>oil<br>onion<br>pea<br>pepper<br>soy sauce<br>sugar<br>tomato<br>tomato ketchup<br>tomato sauce"
          ],
          [
           "broccoli floret<br>cabbage<br>carrot<br>chicken<br>corn<br>floret<br>oil<br>onion<br>oyster sauce<br>pepper<br>quail egg<br>snow peas<br>soy sauce"
          ],
          [
           "banana<br>beef<br>cheese<br>cream<br>macaroni<br>oil<br>onion<br>pepper<br>sugar<br>tomato sauce"
          ],
          [
           "banana<br>bay<br>carrot<br>corn<br>oil<br>pork<br>soy sauce<br>sugar<br>vinegar"
          ],
          [
           "bean<br>daikon radish<br>kangkong<br>oil<br>okra<br>onion<br>pepper<br>pork<br>sinigang sampaloc gabi<br>talong<br>tomato"
          ],
          [
           "carrot<br>egg<br>hoisin sauce<br>oil<br>onion<br>pea<br>pepper<br>pork<br>rice<br>sesame oil<br>soy sauce"
          ],
          [
           "beef<br>butter<br>cheese<br>flour<br>macaroni<br>milk<br>onion<br>paprika<br>pepper<br>salt<br>sugar<br>tomato<br>tomato paste"
          ],
          [
           "banana<br>bay<br>chicken<br>corn<br>lemon lime soda<br>oil<br>soy sauce<br>vinegar"
          ],
          [
           "bay<br>ginger<br>oil<br>onion<br>pepper<br>pork<br>sinigang sampaloc<br>sugar"
          ],
          [
           "alugbati<br>amaranth<br>bagoong<br>bean<br>eggplant<br>kalabasa squash<br>leave<br>okra<br>onion<br>pepper<br>tomato"
          ],
          [
           "annatto<br>bay<br>egg<br>flour<br>garlic<br>margarine<br>oil<br>onion<br>pork<br>rice<br>salt<br>sugar"
          ],
          [
           "carrot<br>cheese<br>chicken<br>macaroni<br>mayonnaise<br>onion<br>pepper<br>pickle<br>pineapple tidbit<br>sugar"
          ],
          [
           "bagnet<br>bagoong<br>eggplant<br>oil<br>onion<br>pepper<br>sugar<br>tomato<br>vinegar"
          ],
          [
           "bean<br>beef<br>fish sauce<br>onion<br>pepper<br>pork<br>spinach<br>tomato"
          ],
          [
           "bay<br>fish sauce<br>oil<br>pineapple juice<br>pork<br>soy sauce<br>vinegar"
          ],
          [
           "banana<br>egg<br>flour<br>oil<br>salt<br>soda<br>sugar<br>vanilla"
          ],
          [
           "bihon<br>cabbage<br>carrot<br>oil<br>onion<br>oyster sauce<br>parsley<br>pea<br>pepper<br>pork<br>sausage<br>shrimp<br>soy sauce"
          ],
          [
           "ginger<br>green mango<br>lemon juice<br>oil<br>onion<br>pepper<br>tilapia<br>tomato"
          ],
          [
           "bagoong<br>eggplant<br>oil<br>onion<br>pepper<br>pork<br>sugar<br>tomato<br>vinegar"
          ],
          [
           "bay<br>corn<br>oil<br>onion<br>pepper<br>pork<br>star anise<br>vinegar"
          ],
          [
           "corn<br>flour<br>hoisin sauce<br>lard<br>onion<br>oyster sauce<br>pork<br>soy sauce<br>sugar<br>yeast"
          ],
          [
           "bay<br>carrot<br>lemon<br>oil<br>onion<br>pepper<br>pig liver<br>pork<br>potato<br>soy sauce<br>sugar<br>tomato sauce"
          ],
          [
           "carrot<br>liver<br>oil<br>olive<br>onion<br>pepper<br>pork<br>potato<br>tomato sauce"
          ],
          [
           "bean<br>coconut<br>ginger<br>oil<br>onion<br>pepper<br>pork<br>shrimp"
          ],
          [
           "banana<br>beef<br>bok choy<br>cabbage<br>celery<br>onion<br>pepper<br>potato<br>star anise"
          ],
          [
           "bay<br>carrot<br>chicken<br>hotdog<br>oil<br>onion<br>pea<br>pepper<br>potato<br>sugar<br>tomato sauce"
          ],
          [
           "bean<br>eggplant<br>ginger<br>lemongras<br>okra<br>pepper<br>shrimp<br>spinach"
          ],
          [
           "bay<br>chicken<br>corn<br>oil<br>onion<br>pork<br>salt<br>sugar<br>vinegar"
          ],
          [
           "bay<br>carrot<br>chicken<br>oil<br>onion<br>pea<br>pepper<br>soy sauce<br>vinegar"
          ],
          [
           "lime<br>oil<br>onion<br>pepper<br>pork<br>soy sauce<br>sugar"
          ],
          [
           "annatto<br>bagoong<br>banana<br>bean<br>eggplant<br>oil<br>onion<br>peanut<br>pechay<br>pork<br>rice<br>salt"
          ],
          [
           "bean<br>coconut<br>fish sauce<br>ginger<br>oil<br>onion<br>pepper<br>pork"
          ],
          [
           "carrot<br>cheese<br>chicken<br>garlic<br>macaroni<br>mayonnaise<br>pepper<br>pineapple<br>raisin<br>relish<br>salt"
          ],
          [
           "annatto<br>chicken<br>ginger<br>lemon lime soda<br>lemongras<br>margarine<br>pepper<br>salt<br>sinigang sampaloc"
          ],
          [
           "apple<br>bay<br>breadcrumb<br>butter<br>carrot<br>egg<br>flour<br>garam masala<br>ginger<br>ice<br>oil<br>onion<br>pepper<br>pork<br>potato<br>rice<br>salt<br>sugar"
          ],
          [
           "eggplant<br>ginataang gulay<br>malunggay<br>oil<br>onion<br>pepper<br>salt<br>tofu"
          ],
          [
           "cabbage<br>carrot<br>cauliflower<br>chicken<br>corn<br>oil<br>onion<br>oyster sauce<br>pepper<br>pork<br>quail egg<br>snow peas<br>soy sauce"
          ],
          [
           "bok choy<br>corn<br>mushroom<br>pork<br>sesame oil<br>soy sauce<br>star anise<br>sugar<br>wine"
          ],
          [
           "bagoong<br>bean<br>chicken<br>chili<br>oil<br>onion<br>pepper<br>sugar<br>tomato<br>vinegar"
          ],
          [
           "bay<br>corn<br>fish sauce<br>intestine<br>oil<br>onion<br>pepper<br>pork<br>salt<br>sugar<br>vinegar"
          ],
          [
           "carrot<br>fish sauce<br>oil<br>onion<br>pepper<br>pork<br>shrimp<br>tomato"
          ],
          [
           "banana<br>carrot<br>celery stalk<br>flour<br>garlic<br>ginger<br>liquid seasoning<br>margarine<br>oil<br>onion<br>pepper<br>shrimp<br>squid<br>wine"
          ],
          [
           "ampalaya<br>bagoong<br>eggplant<br>ginger<br>kalabasa<br>kamote<br>oil<br>okra<br>onion<br>pepper<br>pork<br>shrimp<br>sitaw<br>tomato"
          ],
          [
           "chili<br>daikon radish<br>fish sauce<br>miso<br>mustard<br>oil<br>okra<br>onion<br>pepper<br>salt<br>sinigang sampaloc<br>tilapia<br>tomato"
          ],
          [
           "banana<br>breadcrumb<br>carrot<br>chicken<br>corn<br>drop liquid seasoning<br>egg<br>oil<br>onion<br>pepper<br>salt<br>sugar<br>vinegar"
          ],
          [
           "beef<br>breadcrumb<br>butter<br>button mushroom<br>egg<br>flour<br>garlic<br>liquid seasoning<br>oil<br>onion<br>parsley<br>pepper"
          ],
          [
           "bay<br>carrot<br>chicken<br>oil<br>onion<br>pepper<br>pineapple<br>potato<br>tomato sauce"
          ],
          [
           "bagoong<br>eggplant<br>oil<br>onion<br>pepper<br>pork<br>sugar<br>tomato<br>vinegar"
          ],
          [
           "banana<br>breadcrumb<br>egg<br>eggplant<br>flour<br>garlic<br>mayonnaise<br>oil<br>onion<br>salt<br>tabasco sauce"
          ],
          [
           "bay<br>carrot<br>coconut<br>oil<br>onion<br>pepper<br>pork<br>potato<br>soy sauce<br>tomato sauce"
          ],
          [
           "corn<br>garlic<br>onion<br>pepper<br>salt<br>soy sauce<br>sugar<br>vinegar"
          ],
          [
           "butter<br>carrot<br>celery<br>crab<br>fish<br>flour<br>milk<br>mussel<br>onion<br>pepper<br>shrimp<br>squid"
          ],
          [
           "beef<br>corn<br>ginger<br>oil<br>onion<br>pepper<br>rice<br>salt<br>soy sauce<br>star anise<br>sugar"
          ],
          [
           "beef<br>butter<br>button mushroom<br>cream<br>egg<br>flour<br>oil<br>onion<br>pepper"
          ],
          [
           "chicken<br>corn<br>egg<br>flour<br>garlic<br>onion<br>pepper<br>salt<br>sugar<br>tomato ketchup<br>vinegar<br>worcestershire sauce"
          ],
          [
           "chicken<br>corn<br>egg<br>flour<br>garlic<br>ice<br>oil<br>onion<br>pepper<br>rosemary<br>salt"
          ],
          [
           "banana<br>bean<br>cabbage<br>chorizo bilbao<br>garbanzo<br>oil<br>onion<br>pepper<br>pork<br>potato<br>tomato<br>tomato sauce"
          ],
          [
           "bean<br>beef<br>cabbage<br>carrot<br>egg<br>miki noodle<br>oil<br>onion<br>pepper<br>pork<br>soy sauce<br>stalk celery"
          ],
          [
           "butter<br>cheese<br>oil<br>onion<br>parsley<br>pepper<br>salmon<br>spinach<br>sun tomato<br>whipping cream"
          ],
          [
           "bagoong<br>bean<br>bok choy<br>chicken<br>coconut<br>eggplant<br>oil<br>onion<br>paprika<br>peanut<br>pepper<br>salt"
          ],
          [
           "bay<br>corn<br>onion<br>pork<br>salt<br>sugar<br>vinegar"
          ],
          [
           "bean<br>calabaza squash<br>crab<br>ginataang gulay<br>ginger<br>oil<br>onion<br>pepper"
          ],
          [
           "bay<br>beef<br>chili<br>chili garlic oil<br>fish sauce<br>garlic<br>ginger<br>intestine<br>jasmine rice<br>lemon lime soda<br>lemongras<br>oil<br>onion<br>ox tripe<br>pepper<br>pig<br>rice<br>salt<br>soy sauce<br>tofu<br>vinegar"
          ],
          [
           "banana<br>bean<br>drink<br>onion<br>pork<br>soy sauce<br>sugar<br>vinegar"
          ],
          [
           "beef<br>carrot<br>liver<br>oil<br>onion<br>peanut butter<br>pepper<br>potato<br>soy sauce<br>tomato sauce"
          ],
          [
           "chicken<br>ginger<br>lemongras<br>oil<br>onion<br>patis<br>pepper<br>sotanghon"
          ],
          [
           "annatto<br>bihon noodle<br>carrot<br>celery<br>chicken<br>oil<br>onion<br>pepper"
          ],
          [
           "annatto<br>banana<br>bean<br>eggplant<br>oil<br>onion<br>peanut<br>pechay<br>pepper<br>pork<br>rice flour"
          ],
          [
           "oil<br>onion<br>pepper<br>pineapple<br>pork<br>soy sauce<br>sugar"
          ],
          [
           "carrot<br>chicken<br>fish sauce<br>milk<br>oil<br>onion<br>pepper<br>pineapple<br>tomato"
          ],
          [
           "bay<br>ginger<br>lime<br>liquid seasoning<br>liver<br>mayonnaise<br>onion<br>pepper<br>pig ear<br>pig snout<br>pork<br>salt<br>sugar<br>sukang iloko"
          ],
          [
           "carrot<br>chicken<br>coconut<br>fish sauce<br>garlic<br>oil<br>onion<br>pepper<br>pineapple<br>tomato"
          ],
          [
           "bean<br>oil<br>onion<br>pepper<br>pineapple juice<br>pork<br>soy sauce<br>star anise<br>sugar<br>tofu<br>vinegar"
          ],
          [
           "annatto<br>egg<br>garlic<br>onion<br>pepper<br>rice<br>shrimp<br>tinapa flake"
          ],
          [
           "bean<br>hibi<br>kangkong<br>oil<br>onion<br>pepper<br>shrimp<br>tomato"
          ],
          [
           "butter<br>cake flour<br>corn<br>egg<br>flour<br>liquid seasoning<br>milk<br>oil<br>onion<br>pepper<br>pork<br>soy sauce<br>star anise<br>sugar"
          ],
          [
           "ampalaya<br>bagoong<br>ginger<br>kalabasa<br>liempo<br>oil<br>okra<br>onion<br>pepper<br>pork<br>sitaw<br>talong<br>tomato<br>yam"
          ],
          [
           "bean<br>chicken<br>chili garlic oil<br>mirin<br>oil<br>onion<br>oyster sauce"
          ],
          [
           "beef<br>oil<br>onion<br>pepper<br>potato<br>sitaw<br>tomato"
          ],
          [
           "bay<br>beef<br>butter<br>corn<br>lemon<br>oil<br>onion<br>soy sauce<br>tomato paste<br>tomato sauce<br>vinegar"
          ],
          [
           "bay<br>chicken<br>corn<br>lemon lime soda<br>oil<br>soy sauce<br>vinegar"
          ],
          [
           "beef<br>butter<br>cheese<br>chili<br>cumin<br>flour<br>garlic<br>milk<br>oil<br>onion<br>pepper<br>tomato<br>tortilla chip"
          ],
          [
           "egg<br>eggplant<br>lemon<br>oil<br>onion<br>pepper<br>sardine tomato sauce<br>tomato"
          ],
          [
           "beef<br>butter<br>corn<br>cream<br>cream mushroom<br>onion<br>pepper<br>tongue"
          ],
          [
           "carrot<br>corn<br>ginger<br>liquid seasoning<br>oil<br>onion<br>pepper<br>sugar<br>tilapia<br>tomato ketchup<br>vinegar"
          ],
          [
           "corn<br>oil<br>onion<br>pepper<br>pork<br>soy sauce<br>star anise<br>sugar"
          ],
          [
           "canola oil<br>corn<br>egg<br>flour<br>heart palm<br>lettuce<br>oil<br>onion<br>parsley<br>peanut<br>pepper<br>pork<br>shrimp<br>soy sauce<br>sugar"
          ],
          [
           "beef<br>oil<br>onion<br>pepper<br>pineapple<br>rib<br>soy sauce<br>sugar"
          ],
          [
           "bok choy<br>corn<br>fish sauce<br>ginger<br>miso<br>napa cabbage leave<br>oil<br>onion<br>pepper<br>rice washing<br>tofu<br>tomato"
          ],
          [
           "bay<br>cola drink<br>corn<br>pork<br>salt<br>soy sauce<br>vinegar"
          ],
          [
           "butter<br>garlic<br>liquid seasoning<br>mayonnaise<br>oil<br>onion<br>pepper<br>salmon"
          ],
          [
           "annatto<br>bagoong<br>beef<br>bok choy<br>corn<br>eggplant<br>oil<br>peanut<br>pepper<br>sitaw"
          ],
          [
           "chicken<br>ginger<br>lemongras<br>oil<br>onion<br>pepper<br>soy sauce<br>vinegar"
          ],
          [
           "butter<br>cheese<br>cream<br>linguine<br>milk<br>parsley<br>pepper<br>tuna"
          ],
          [
           "coconut<br>fish sauce<br>ginger<br>mussel<br>oil<br>onion<br>pepper<br>shrimp"
          ],
          [
           "bread<br>butter<br>cheese<br>egg<br>ham<br>mustard<br>turkey"
          ],
          [
           "butter<br>lemon<br>mussel<br>oil<br>onion<br>pepper<br>rice<br>squid<br>taba talangka"
          ],
          [
           "bay<br>corn<br>oil<br>onion<br>pork<br>soy sauce<br>vinegar"
          ],
          [
           "breadcrumb<br>cinnamon<br>corn<br>egg<br>loaf bread<br>mango<br>oil<br>peach<br>sugar"
          ],
          [
           "bean<br>cake flour<br>corn<br>egg<br>eggplant<br>fish sauce<br>ice<br>oil<br>okra<br>onion<br>paprika<br>pepper<br>pork<br>rice<br>sinigang sampaloc<br>spinach<br>tomato"
          ],
          [
           "chicken<br>corn<br>lemongras<br>liquid seasoning<br>oil<br>onion<br>potato<br>salt"
          ],
          [
           "carrot<br>coconut<br>oil<br>pea<br>pepper<br>pork<br>potato<br>tomato sauce"
          ],
          [
           "banana<br>corn<br>fish sauce<br>oil<br>onion<br>pineapple juice<br>pork<br>potato<br>soy sauce<br>tomato"
          ],
          [
           "chicken<br>malunggay<br>oil<br>onion<br>pepper<br>sayote<br>sotanghon"
          ],
          [
           "beef<br>carrot<br>corn<br>egg<br>flour<br>noodle<br>oil<br>onion<br>pepper<br>soy sauce"
          ],
          [
           "butterfish<br>ginataang gulay<br>ginger<br>oil<br>onion<br>pepper<br>spinach<br>vinegar"
          ],
          [
           "carrot<br>cheese<br>chicken<br>mayonnaise<br>onion<br>pea<br>pepper<br>potato<br>relish<br>salt<br>sugar"
          ],
          [
           "egg<br>flour<br>noodle<br>oil<br>onion<br>pepper<br>sardines tomato sauce"
          ],
          [
           "beef<br>broccoli floret<br>corn<br>ginger<br>oil<br>onion<br>oyster sauce<br>pepper<br>soy sauce<br>wine"
          ],
          [
           "breadcrumb<br>corn<br>egg<br>liquid seasoning<br>oil<br>onion<br>pechay<br>sardines tomato sauce<br>sugar<br>vinegar"
          ],
          [
           "carrot<br>liver<br>oil<br>onion<br>pea<br>pepper<br>pork<br>potato<br>tomato sauce"
          ],
          [
           "bay<br>buko juice<br>chicken<br>corn<br>oil<br>onion<br>soy sauce<br>vinegar"
          ],
          [
           "daikon radish<br>eggplant<br>oil<br>okra<br>onion<br>pepper<br>salt<br>sinigang sampaloc<br>spinach<br>tomato"
          ],
          [
           "bay<br>chicken<br>coconut<br>corn<br>oil<br>soy sauce<br>vinegar"
          ],
          [
           "beef<br>corn<br>light soy sauce<br>oil<br>oyster sauce<br>pea<br>pepper<br>salt<br>spoon wine"
          ],
          [
           "bok choy<br>chili<br>coconut<br>ginger<br>onion<br>salt<br>tilapia<br>tomato"
          ],
          [
           "chili<br>ginger<br>kung pao sauce<br>oil<br>onion<br>peanut<br>pepper<br>scallion<br>shrimp"
          ],
          [
           "almond flour<br>egg<br>lime<br>oil<br>patis<br>pepper<br>pork"
          ],
          [
           "coconut<br>ginger<br>onion<br>pepper<br>pork<br>shrimp<br>taro"
          ],
          [
           "beef<br>ginger<br>oil<br>onion<br>pepper<br>soy sauce<br>vinegar"
          ],
          [
           "bagoong<br>ginger<br>oil<br>onion<br>pepper<br>pork<br>salt<br>sugar<br>tomato<br>vinegar"
          ],
          [
           "carrot<br>cheese<br>chicken<br>liver<br>oil<br>onion<br>pepper<br>potato<br>tomato<br>tomato sauce"
          ],
          [
           "bread crumb<br>chicken<br>egg<br>flour<br>oil<br>pepper<br>salt"
          ],
          [
           "oil<br>onion<br>salt<br>soy sauce<br>squid<br>sugar<br>tomato<br>vinegar"
          ],
          [
           "butter<br>cheese<br>chicken<br>flour<br>milk<br>mushroom<br>oil<br>pepper"
          ],
          [
           "banana<br>egg<br>flour<br>milk<br>oil<br>salt<br>sugar<br>vanilla"
          ],
          [
           "bread crumb<br>butter<br>button mushroom<br>egg<br>flour<br>garlic<br>onion<br>pepper<br>pork<br>salt"
          ],
          [
           "beef<br>coconut<br>oil<br>onion<br>peanut butter<br>pepper<br>potato<br>tomato<br>tomato sauce"
          ],
          [
           "coconut<br>eggplant<br>ginger<br>kamia<br>onion<br>patis<br>pepper<br>pork<br>tulingan"
          ],
          [
           "annatto<br>bihon<br>egg<br>flour<br>oil<br>onion<br>pepper<br>pork<br>shrimp<br>tinapa flake"
          ],
          [
           "beef<br>corn<br>egg<br>garlic<br>jasmine rice<br>oil<br>onion<br>pepper<br>salt<br>scallion"
          ],
          [
           "carrot<br>egg<br>jicama<br>onion<br>pepper<br>pork<br>scallion<br>sesame oil<br>wonton"
          ],
          [
           "bean<br>daikon radish<br>eggplant<br>kangkong<br>okra<br>onion<br>pepper<br>sinigang sampaloc<br>tomato"
          ],
          [
           "carrot<br>chicken<br>egg<br>garlic<br>napa cabbage<br>noodle<br>oil<br>onion<br>pepper"
          ],
          [
           "bean<br>chicharon<br>kangkong<br>oil<br>onion<br>pepper<br>pork<br>tomato"
          ],
          [
           "egg<br>garlic<br>oil<br>onion<br>pea<br>rice<br>salt"
          ],
          [
           "bean<br>eggplant<br>fish sauce<br>kangkong<br>oil<br>okra<br>onion<br>pepper<br>pork<br>sinigang sampaloc<br>tomato"
          ],
          [
           "beef<br>butter<br>cream<br>cream mushroom soup<br>flour<br>mushroom<br>olive oil<br>onion<br>pepper"
          ],
          [
           "carrot<br>corn<br>egg<br>garlic<br>lumpia<br>oil<br>onion<br>pepper<br>pork<br>salt<br>singkama<br>soy sauce<br>sugar<br>tomato ketchup<br>vinegar"
          ],
          [
           "breadcrumb<br>carrot<br>chicken<br>egg<br>mayonnaise<br>onion<br>pepper<br>pickle<br>pork<br>raisin<br>salt"
          ],
          [
           "margarine<br>mayonnaise<br>oil<br>onion<br>pepper<br>pork<br>soy sauce"
          ],
          [
           "annatto<br>bean<br>beef<br>bok choy<br>eggplant<br>oil<br>onion<br>peanut<br>pepper<br>rice flour"
          ],
          [
           "butter<br>cheese<br>flour<br>hotdog<br>lasagna<br>milk<br>oil<br>onion<br>pepper<br>pork<br>sugar<br>tomato sauce"
          ],
          [
           "egg<br>ginger<br>oil<br>onion<br>pea<br>pork<br>rice<br>salt<br>shrimp<br>soy sauce<br>sugar"
          ],
          [
           "butter<br>cheese<br>chicken<br>cream<br>fettuccine<br>olive oil<br>parsley<br>pepper"
          ],
          [
           "beef<br>butter<br>cheese<br>flour<br>macaroni<br>milk<br>oil<br>onion<br>pepper<br>pork<br>sugar<br>tomato sauce"
          ],
          [
           "cheese<br>chicken<br>egg<br>macaroni<br>mayonnaise<br>onion<br>parsley<br>pepper<br>pineapple<br>raisin<br>salt<br>sugar"
          ],
          [
           "cream<br>fruit cocktail<br>green kaong<br>kaong<br>macaroni<br>mayonnaise<br>milk<br>pich salt"
          ],
          [
           "banana<br>bean<br>cabbage<br>chorizo bilbao<br>oil<br>onion<br>pechay<br>pepper<br>pork<br>potato<br>tomato"
          ],
          [
           "chicken<br>coconut<br>ginger<br>oil<br>onion<br>papaya<br>pepper<br>spinach"
          ],
          [
           "chicken<br>corn<br>oil<br>onion<br>oyster sauce<br>pea<br>pepper<br>quail egg<br>soy sauce<br>sugar<br>vinegar"
          ],
          [
           "carrot<br>egg<br>garlic<br>ginger<br>mayonnaise<br>onion<br>pepper<br>relish<br>salt<br>scallion<br>sugar"
          ],
          [
           "chili<br>corn<br>lemongras<br>oil<br>onion<br>pork<br>scallion<br>soy sauce<br>sugar<br>vinegar"
          ],
          [
           "celery<br>cheese<br>dijon mustard<br>egg<br>macaroni<br>mayonnaise<br>onion<br>parsley<br>pea<br>pepper<br>relish"
          ],
          [
           "bok choy<br>carrot<br>chicken<br>habhab noodle<br>liquid seasoning<br>oil<br>onion<br>pepper<br>snow peas<br>soy sauce"
          ],
          [
           "chicken<br>coconut<br>ginger<br>oil<br>onion<br>pea<br>pepper<br>pork<br>potato"
          ],
          [
           "bagoong<br>chicken<br>coconut<br>ginger<br>oil<br>onion<br>pepper"
          ],
          [
           "chicken<br>egg<br>flour<br>garlic<br>lemon lime soda<br>oil<br>onion<br>pepper<br>salt"
          ],
          [
           "bay<br>calamansi<br>corn<br>mayonnaise<br>oil<br>onion<br>pepper<br>pig ear<br>pork<br>salt<br>soy sauce"
          ],
          [
           "chocolate chip<br>cocoa<br>egg<br>flour<br>mayonnaise<br>salt<br>soda<br>sugar<br>vanilla<br>walnut"
          ],
          [
           "bay<br>corn<br>ginger<br>lemongras<br>liempo<br>oil<br>onion<br>pepper<br>pork<br>salt<br>sugar<br>vinegar"
          ],
          [
           "bay<br>chicken<br>corn<br>oil<br>soy sauce<br>sugar<br>vinegar"
          ],
          [
           "button mushroom<br>carrot<br>chicken<br>chorizo bilbao<br>cream<br>lime<br>onion<br>pepper<br>potato<br>soy sauce"
          ],
          [
           "hotdog<br>liver<br>oil<br>onion<br>pepper<br>pork<br>salt<br>spaghetti<br>sugar<br>tomato sauce"
          ],
          [
           "beef<br>butter<br>butternut squash<br>carrot<br>egg<br>oil<br>onion<br>pea<br>pepper<br>rice<br>salt"
          ],
          [
           "beef<br>breadcrumb<br>egg<br>garlic<br>kalabasa<br>oil<br>pepper<br>salt"
          ],
          [
           "bean<br>corn<br>dulong<br>egg<br>garlic<br>oil<br>onion<br>pepper<br>salt"
          ],
          [
           "buko pandan<br>coconut<br>cream<br>gelatin<br>milk<br>sago pearl<br>vanilla ice cream"
          ],
          [
           "adobo sauce<br>bay<br>bean<br>corn<br>garlic<br>garlic oil<br>oil<br>pork<br>rice<br>salt<br>soy sauce<br>sugar<br>vinegar"
          ],
          [
           "bangus<br>butter<br>chicharon<br>garlic<br>ginger<br>mayonnaise<br>onion<br>pepper<br>salt<br>scallion<br>soy sauce"
          ],
          [
           "banana<br>bread crumb<br>egg<br>eggplant<br>flour<br>garlic<br>mayonnaise<br>oil<br>onion<br>pepper<br>pork<br>salt"
          ],
          [
           "daikon radish<br>oil<br>onion<br>pepper<br>pork<br>salt<br>sugar<br>vinegar"
          ],
          [
           "banana<br>bok choy<br>chicken<br>corn<br>fish sauce<br>onion<br>potato"
          ],
          [
           "carrot<br>corn<br>flour<br>onion<br>pepper<br>pork<br>soy sauce<br>sugar<br>tomato ketchup<br>vinegar"
          ],
          [
           "beef<br>chicken<br>egg<br>oil<br>pepper<br>rice<br>salt"
          ],
          [
           "beef<br>corn<br>garlic<br>ginger<br>mushroom<br>oil<br>onion<br>pepper<br>salt<br>sirloin<br>snow peas<br>soy sauce<br>wine"
          ],
          [
           "bay<br>chicken<br>corn<br>oil<br>oyster sauce<br>pork<br>salt<br>soy sauce<br>sugar<br>vinegar"
          ],
          [
           "bacon<br>beef<br>carrot<br>onion<br>pearl onion<br>pepper<br>thyme<br>tomato paste<br>wine"
          ],
          [
           "banana<br>bay<br>corn<br>pork<br>salt<br>soy sauce<br>sugar<br>vinegar"
          ],
          [
           "annatto<br>bamboo shoot<br>bay<br>beef<br>ginger<br>olive oil<br>onion<br>ox tripe<br>pepper<br>pig heart<br>pig kidney<br>pig liver<br>pig stomach<br>pineapple"
          ],
          [
           "carrot<br>chicken<br>egg<br>lumpia<br>oil<br>onion<br>pepper"
          ],
          [
           "basil<br>bowtie pasta<br>broccoli floret<br>butter<br>cheese<br>chicken<br>flour<br>milk<br>pasta<br>pepper<br>whipping cream"
          ],
          [
           "bean<br>eggplant<br>kangkong<br>okra<br>onion<br>pata<br>pepper<br>pork<br>salt<br>sinigang sampaloc<br>tomato"
          ],
          [
           "cabbage<br>carrot<br>chorizo bilbao<br>corn<br>egg<br>noodle<br>onion<br>pepper<br>pork"
          ],
          [
           "bean<br>chili<br>coconut<br>ginger<br>oil<br>onion<br>pepper<br>pork<br>shrimp<br>spinach"
          ],
          [
           "bean<br>carrot<br>oil<br>onion<br>oyster sauce<br>pepper<br>tomato"
          ],
          [
           "beef<br>butter<br>button mushroom<br>garlic<br>mayonnaise<br>onion<br>pepper<br>tongue<br>whipping cream"
          ],
          [
           "butter<br>cheese<br>cherry tomato<br>oil<br>onion<br>pepper<br>salmon<br>spinach<br>whipping cream<br>wine"
          ],
          [
           "oil<br>onion<br>pepper<br>pineapple<br>pineapple juice<br>pork<br>soy sauce<br>sugar"
          ],
          [
           "bay<br>chicken<br>oil<br>onion<br>parsley<br>pea<br>pepper<br>tomato paste<br>tomatoe"
          ],
          [
           "carrot<br>celery<br>egg<br>flour<br>lemon<br>oil<br>onion<br>pepper<br>pork<br>soy sauce<br>squid<br>tomato"
          ],
          [
           "celery<br>lemon<br>macaroni<br>mayonnaise<br>oil<br>onion<br>pepper<br>salt"
          ],
          [
           "banana<br>lemon<br>lemon juice<br>oil<br>pepper<br>pork<br>soy sauce"
          ],
          [
           "carrot<br>cauliflower<br>chicken<br>corn<br>oil<br>onion<br>pea<br>pepper"
          ],
          [
           "coconut<br>ginger<br>mackerel<br>oil<br>onion<br>pepper<br>spinach<br>vinegar"
          ],
          [
           "cabbage<br>carrot<br>celery<br>mushroom<br>oil<br>onion<br>oyster sauce<br>pancit<br>parsley<br>pea<br>pepper<br>soy sauce"
          ],
          [
           "annatto<br>bay<br>cabbage<br>carrot<br>celery<br>chicken<br>oil<br>onion<br>pepper<br>scallion<br>sotanghon noodle"
          ],
          [
           "cheese<br>egg<br>lumpia<br>oil<br>onion<br>pepper<br>pork"
          ],
          [
           "bat<br>beef<br>corn<br>fish sauce<br>ginger<br>lemongras<br>oil<br>onion<br>pepper<br>sibot herb<br>sugar"
          ],
          [
           "ginger<br>lemon<br>milkfish<br>onion<br>pepper<br>salt<br>tomato"
          ],
          [
           "eggplant<br>onion<br>pepper<br>salt<br>shrimp<br>tomato<br>vinegar"
          ],
          [
           "ginger<br>mussel<br>oil<br>onion<br>pepper<br>salt<br>spinach"
          ],
          [
           "banana<br>calamansi<br>garlic<br>liquid seasoning<br>pork<br>soy sauce<br>sugar<br>vegetable oil"
          ],
          [
           "beef<br>egg<br>garlic<br>liquid seasoning<br>oil<br>pepper<br>pineapple juice<br>rice<br>salt<br>sugar"
          ],
          [
           "annatto<br>chicken<br>ginger<br>lemon<br>lemongras<br>lime<br>liquid seasoning<br>margarine<br>oil<br>vinegar"
          ],
          [
           "beef<br>ginger<br>oil<br>onion<br>pepper<br>scallion<br>soy sauce<br>star anise<br>sugar"
          ],
          [
           "cabbage<br>carrot<br>chicken<br>flour noodle<br>leaf parsley<br>oil<br>onion<br>oyster sauce<br>pea<br>pepper<br>pork<br>sausage<br>soy sauce"
          ],
          [
           "bihon noodle<br>cabbage<br>carrot<br>celery<br>chicken<br>leaf parsley<br>oil<br>onion<br>pepper<br>sotanghon noodle<br>soy sauce"
          ],
          [
           "bay<br>corn<br>egg<br>pineapple juice<br>pork<br>soy sauce<br>sugar<br>vinegar"
          ],
          [
           "cabbage<br>carrot<br>celery<br>chicken<br>garlic<br>hotdog<br>macaroni<br>milk<br>oil<br>onion<br>pepper"
          ],
          [
           "bay<br>beef<br>carrot<br>chili flake<br>clove<br>liver<br>oil<br>olive<br>onion<br>pepper<br>potato<br>tomato sauce"
          ],
          [
           "anchovy<br>bean<br>onion<br>patis<br>pepper<br>spinach<br>tomato"
          ],
          [
           "bay<br>corn<br>garlic<br>oil<br>pepper<br>pig leg<br>salt<br>star anise"
          ],
          [
           "butter<br>carrot<br>cream mushroom<br>garlic<br>oil<br>onion<br>pea<br>pepper<br>quail egg<br>singkama<br>whipping cream"
          ],
          [
           "cabbage<br>carrot<br>cauliflower<br>chicken<br>oil<br>onion<br>oyster sauce<br>pepper<br>quail egg<br>snow peas<br>squid"
          ],
          [
           "coconut<br>fish sauce<br>ginger<br>oil<br>onion<br>pepper<br>spinach<br>tilapia"
          ],
          [
           "bean<br>daikon radish<br>fish sauce<br>kangkong<br>okra<br>onion<br>pepper<br>pork<br>sinigang sampaloc<br>tomato"
          ],
          [
           "bay<br>carrot<br>coconut<br>fish sauce<br>liver<br>oil<br>onion<br>pepper<br>pork<br>potato<br>tomato"
          ],
          [
           "basil<br>beef<br>bread crumb<br>cheese<br>egg<br>olive oil<br>onion<br>pepper<br>pork<br>salt<br>spaghetti<br>tomato<br>tomato sauce"
          ],
          [
           "banana<br>bean<br>bok choy<br>cabbage<br>chick pea<br>chicken<br>chorizo bilbao<br>fish sauce<br>oil<br>onion<br>potato<br>tomato<br>tomato sauce"
          ],
          [
           "beef<br>bread crumb<br>butter<br>corn<br>milk<br>mustard<br>olive oil<br>onion<br>pepper<br>potato<br>salt<br>tomato ketchup<br>worcestershire sauce"
          ],
          [
           "anisette liquor<br>food<br>garlic<br>pineapple juice<br>pork<br>prague<br>sea salt<br>sodium phosphate<br>sugar<br>vitamin c"
          ],
          [
           "cabbage<br>chive<br>ginger<br>gyoza<br>liquid seasoning<br>pepper<br>pork<br>salt<br>sesame oil<br>wine"
          ],
          [
           "carrot<br>chicken<br>chive<br>noodle<br>oil<br>oyster sauce<br>pepper<br>scallion<br>shiitake mushroom<br>wine"
          ],
          [
           "cabbage<br>carrot<br>chicken<br>corn<br>crab<br>liquid seasoning<br>lobster<br>mushroom<br>oil<br>pepper<br>scallion<br>sesame oil<br>spring roll<br>squid"
          ],
          [
           "bay<br>chicken<br>corn<br>oil<br>onion<br>salt<br>soy sauce<br>sugar<br>vinegar"
          ],
          [
           "bean<br>cabbage<br>carrot<br>corn<br>kamote<br>oil<br>onion<br>parsley<br>peanut<br>pepper<br>pork<br>singkama<br>soy sauce<br>sugar"
          ],
          [
           "garlic<br>oil<br>onion<br>pepper<br>soy sauce<br>squid<br>sugar<br>tomato<br>vinegar"
          ],
          [
           "bagoong<br>eggplant<br>oil<br>onion<br>pepper<br>pork<br>sugar<br>tomato<br>vinegar"
          ],
          [
           "carrot<br>egg<br>jicama<br>oil<br>onion<br>pepper<br>pork<br>salt<br>sesame oil<br>wonton"
          ],
          [
           "broccoli<br>corn<br>ginger<br>liquid seasoning<br>oil<br>oyster sauce<br>pepper<br>sesame oil<br>sugar<br>wine"
          ],
          [
           "bay<br>corn<br>oil<br>onion<br>pineapple<br>pork<br>salt<br>soy sauce<br>sugar"
          ],
          [
           "carrot<br>mayonnaise<br>onion<br>parsley<br>pepper<br>pineapple<br>potato<br>salt<br>sugar"
          ],
          [
           "beef<br>butter<br>button mushroom<br>carrot<br>chicken<br>chorizo bilbao<br>cream<br>lemon<br>pepper<br>pie crust<br>potato<br>soy sauce"
          ],
          [
           "ampalaya<br>beef<br>corn<br>ginger<br>oil<br>onion<br>oyster sauce<br>pepper<br>sesame oil<br>soy sauce"
          ],
          [
           "canola oil<br>chocolate chip<br>cocoa<br>egg<br>flour<br>salt<br>sugar<br>vanilla"
          ],
          [
           "bay<br>oil<br>onion<br>pepper<br>pork<br>sugar<br>vinegar"
          ],
          [
           "carrot<br>egg<br>garlic<br>lumpia<br>oil<br>onion<br>parsley<br>pepper<br>pork<br>salt<br>sesame oil"
          ],
          [
           "basil<br>beef<br>cheese<br>lasagna<br>olive oil<br>onion<br>parsley<br>salt<br>sausage<br>seasoning<br>tomato<br>tomato paste"
          ],
          [
           "bagoong<br>bean<br>chili<br>ginataang gulay<br>oil<br>onion<br>pork"
          ],
          [
           "beef<br>calamansi<br>oil<br>onion<br>pepper<br>salt<br>soy sauce"
          ],
          [
           "chicken<br>fish sauce<br>ginger<br>onion<br>papaya<br>pepper<br>rice washing"
          ],
          [
           "bay<br>chicken<br>corn<br>oil<br>salt<br>soy sauce<br>sugar<br>vinegar"
          ],
          [
           "annatto<br>banana<br>bean<br>eggplant<br>onion<br>oxtail<br>peanut<br>peanut butter<br>pechay<br>pepper<br>rice<br>shrimp"
          ],
          [
           "bay<br>corn<br>liquid seasoning<br>onion<br>peanut oil<br>pepper<br>pork<br>scallion<br>sugar<br>vinegar"
          ],
          [
           "bread crumb<br>carrot<br>cheese<br>egg<br>liquid seasoning<br>onion<br>pepper<br>pickle<br>pork<br>raisin<br>salt"
          ],
          [
           "celery<br>chicken<br>fish sauce<br>ginataang gulay<br>oil<br>onion<br>pepper<br>potato"
          ],
          [
           "bacon<br>beef<br>cheese<br>cream<br>nutmeg<br>onion<br>salt<br>spaghetti"
          ],
          [
           "annatto<br>bagoong<br>banana<br>beef<br>corn<br>oil<br>onion<br>peanut butter<br>pechay<br>sitaw<br>tail<br>talong"
          ],
          [
           "chicken<br>oil<br>onion<br>pepper<br>pineapple tidbit<br>soy sauce<br>sugar"
          ],
          [
           "cheese<br>garlic<br>hotdog<br>oil<br>onion<br>pepper<br>pork<br>spaghetti<br>sugar<br>tomato paste<br>tomato sauce"
          ],
          [
           "beef<br>carrot<br>liver<br>oil<br>onion<br>pea<br>pepper<br>pork<br>potato<br>soy sauce<br>tomato"
          ],
          [
           "butter<br>chicken<br>chili flake<br>liquid seasoning<br>mayonnaise<br>oil<br>onion<br>pepper<br>pig face<br>pork"
          ],
          [
           "bean<br>cabbage<br>carrot<br>celery<br>chicken<br>dark soy sauce<br>oil<br>onion<br>pancit bihon<br>parsley<br>pepper<br>sausage<br>shrimp"
          ],
          [
           "cheese<br>fruit cocktail<br>kaong<br>macaroni<br>mayonnaise<br>milk<br>nata de coco<br>pineapple<br>raisin"
          ],
          [
           "carrot<br>egg<br>garlic<br>lumpia<br>oil<br>onion<br>parsley<br>pepper<br>pork<br>salt<br>sesame oil"
          ],
          [
           "annatto<br>bagoong<br>bean<br>bok choy<br>chicken<br>corn<br>eggplant<br>oil<br>onion<br>peanut butter"
          ],
          [
           "bay<br>calamansi<br>carrot<br>ginger<br>oil<br>onion<br>pig liver<br>pork<br>potato<br>soy sauce<br>sugar<br>tomato sauce"
          ],
          [
           "corn<br>dark soy sauce<br>ginger<br>onion<br>pepper<br>salt<br>sandwich steak<br>sugar<br>vegetable oil"
          ],
          [
           "beef<br>cheese<br>garlic<br>luncheon meat<br>oil<br>onion<br>pepper<br>pork<br>spaghetti<br>spaghetti sauce"
          ],
          [
           "kangkong<br>oil<br>onion<br>pepper<br>sitaw<br>soy sauce<br>vinegar"
          ],
          [
           "corn<br>eggplant<br>ginger<br>milkfish<br>okra<br>onion<br>pepper<br>salt<br>vinegar"
          ],
          [
           "bacon<br>celery<br>egg<br>mayonnaise<br>onion<br>pea<br>pepper<br>salt<br>sugar"
          ],
          [
           "butter<br>chicken<br>flour<br>milk<br>mushroom<br>onion<br>pepper"
          ],
          [
           "chicken<br>corn<br>kangkong<br>oil<br>onion<br>oyster sauce<br>pepper<br>squid"
          ],
          [
           "bagoong<br>bean<br>bok choy<br>corn<br>eggplant<br>oil<br>onion<br>pata<br>peanut butter<br>pepper<br>pork<br>salt"
          ],
          [
           "bean<br>daikon radish<br>kangkong<br>okra<br>onion<br>patis<br>pepper<br>salmon<br>sinigang isda<br>tomato"
          ],
          [
           "bacon<br>butter<br>cabbage<br>carrot<br>celery<br>chicken<br>elbow macaroni<br>milk<br>onion<br>pepper"
          ],
          [
           "bean<br>butternut<br>fish sauce<br>ginataang gulay<br>oil<br>onion<br>pepper<br>pork"
          ],
          [
           "carrot<br>cheese<br>chicken<br>oil<br>onion<br>pepper<br>potato<br>tomato sauce"
          ],
          [
           "beer<br>garlic<br>lime<br>oil<br>onion<br>pepper<br>pork<br>soy sauce"
          ],
          [
           "ap<br>butter<br>chicken<br>garlic<br>oil<br>pepper<br>salt<br>sauce"
          ],
          [
           "fish sauce<br>kalabasa<br>onion<br>pepper<br>pork<br>tomato<br>upo"
          ],
          [
           "bean<br>beef<br>coconut<br>fish sauce<br>oil<br>onion<br>pepper<br>spinach"
          ],
          [
           "bean<br>beef<br>bok choy<br>butternut squash<br>corn<br>fish sauce<br>onion"
          ],
          [
           "beef<br>cheese<br>macaroni<br>mozzarella<br>oil<br>onion<br>pepper<br>sugar<br>tomato paste<br>tomato sauce"
          ],
          [
           "fish sauce<br>oil<br>onion<br>opo squash<br>parsley<br>pepper<br>pork<br>shrimp<br>tomato"
          ],
          [
           "fish<br>indian eggplant<br>kalabasa<br>malunggay<br>okra<br>onion<br>papaya<br>patola<br>pepper<br>spinach<br>tomato"
          ],
          [
           "cheese<br>elbow macaroni<br>luncheon meat<br>mayonnaise<br>onion<br>pepper<br>pickle<br>salt"
          ],
          [
           "chicken<br>garlic<br>lemon<br>liquid seasoning<br>margarine<br>mayonnaise<br>oil<br>onion<br>pepper<br>pork"
          ],
          [
           "ginataang gulay<br>oil<br>onion<br>pepper<br>salmon<br>salt<br>spinach"
          ],
          [
           "bacon<br>cheese<br>dijon mustard<br>egg<br>mayonnaise<br>onion<br>pepper<br>scallion"
          ],
          [
           "labanos<br>okra<br>onion<br>patis<br>pepper<br>sinigang sampaloc<br>sitaw<br>sugpo<br>tomato"
          ],
          [
           "bagoong<br>calamansi<br>egg<br>oil<br>pepper<br>pork<br>soy sauce<br>tomato"
          ],
          [
           "butter<br>calamansi<br>garlic<br>pepper<br>salt<br>taba talangka<br>vinegar"
          ],
          [
           "banana<br>bean<br>beef<br>bok choy<br>chorizo bilbao<br>fish sauce<br>oil<br>onion<br>pepper<br>pork<br>potato<br>tomato<br>tomato sauce"
          ],
          [
           "carrot<br>liver<br>oil<br>onion<br>pepper<br>pork<br>potato<br>tomato<br>tomato sauce"
          ],
          [
           "cinnamon bark<br>lemongras<br>oil<br>onion<br>onion leek<br>pepper<br>pig ear<br>salt<br>soy sauce<br>sugar<br>tofu<br>vinegar"
          ],
          [
           "beef<br>bok choy<br>onion<br>oxtail<br>pepper<br>salt<br>scallion<br>shiitake mushroom<br>star anise"
          ],
          [
           "alamang<br>chili<br>garlic<br>ginataang gulay<br>oil<br>onion<br>pepper<br>pork"
          ],
          [
           "corn<br>lemongrass<br>oil<br>pepper<br>pork<br>salt<br>sea salt<br>sukang paombong<br>vinegar"
          ],
          [
           "bangus<br>fish sauce<br>fresh kangkong<br>okra<br>onion<br>pepper<br>sinigang sampaloc<br>sitaw<br>tomato"
          ],
          [
           "bagoong<br>bay<br>bean<br>coconut<br>corn<br>jackfruit<br>oil<br>onion<br>pata<br>pepper<br>pork"
          ],
          [
           "lemon<br>oil<br>onion<br>pepper<br>salt<br>soy sauce<br>sugar<br>tanigue"
          ],
          [
           "carrot<br>celery<br>macaroni<br>mayonnaise<br>mustard<br>onion<br>pepper<br>salt<br>sugar"
          ],
          [
           "chicken<br>garlic<br>lemongras<br>oil<br>onion<br>salt<br>soy sauce<br>star anise<br>up"
          ],
          [
           "banana<br>beef<br>oil<br>pork<br>soy sauce<br>sugar<br>vinegar"
          ],
          [
           "annatto<br>bay<br>carrot<br>chicken<br>chili<br>oil<br>onion<br>patis<br>pepper<br>radish<br>soy sauce<br>tomato<br>vinegar"
          ],
          [
           "coconut<br>ginger<br>lemon<br>oil<br>onion<br>parsley<br>pat<br>pepper<br>shrimp<br>tomato"
          ],
          [
           "ampalaya<br>chili<br>coconut<br>onion<br>pepper<br>salmon<br>salt<br>vinegar"
          ],
          [
           "butter<br>chicharon<br>garlic<br>mayonnise<br>oil<br>onion<br>pepper<br>salt<br>scallion<br>soy sauce"
          ],
          [
           "bread crumb<br>butter<br>cheese<br>chicken<br>dijon mustard<br>egg<br>ham<br>oil<br>onion<br>salt<br>whipping cream"
          ],
          [
           "bean<br>beef<br>daikon radish<br>eggplant<br>kangkong<br>okra<br>onion<br>patis<br>pepper<br>sinigang sampaloc<br>tomato"
          ],
          [
           "annatto<br>chicken<br>lemongras<br>margarine<br>salt<br>sugar<br>vinegar"
          ],
          [
           "celery heart<br>cheese<br>macaroni<br>mayonnaise<br>onion<br>pepper<br>pickle<br>salt<br>tuna"
          ],
          [
           "bean<br>coconut<br>fish sauce<br>kalabasa<br>onion<br>pepper<br>shrimp"
          ],
          [
           "bottle gourd<br>fish sauce<br>oil<br>onion<br>pepper<br>sardine tomato sauce<br>tomato"
          ],
          [
           "bean<br>beef<br>daikon radish<br>eggplant<br>fish sauce<br>okra<br>onion<br>pepper<br>sinigang sampaloc<br>spinach<br>tomato"
          ],
          [
           "banana<br>coconunut milk<br>gabi<br>jackfruit<br>potato<br>rice flour<br>sugar<br>tapioca pearl<br>yam"
          ],
          [
           "egg<br>flour<br>misua<br>oil<br>onion<br>patis<br>patola<br>pepper<br>pork<br>salt<br>scallion"
          ],
          [
           "bay<br>beef<br>lemon<br>oil<br>onion<br>pepper<br>potato<br>soy sauce<br>tomato<br>tomato sauce"
          ],
          [
           "beef<br>corn<br>garlic<br>light soy sauce<br>oil<br>oyster sauce<br>pepper<br>pork<br>snow peas"
          ],
          [
           "bay<br>coconut<br>corn<br>oil<br>pork<br>salt<br>soy sauce<br>vinegar"
          ],
          [
           "banana<br>bean<br>beef<br>bok choy<br>bulalo<br>cabbage<br>fish sauce<br>garbanzo<br>oil<br>onion<br>pepper<br>potato<br>sausage<br>tomato<br>tomato sauce"
          ],
          [
           "butter<br>corn<br>curry<br>egg<br>garlic<br>oil<br>pepper<br>prawn<br>shrimp<br>whipping cream<br>wine"
          ],
          [
           "bean<br>cabbage<br>canola oil<br>carrot<br>corn<br>egg<br>fish sauce<br>flour<br>oil<br>onion<br>parsley<br>peanut<br>pepper<br>potato<br>romaine lettuce<br>shrimp<br>soy sauce<br>sugar<br>tofu"
          ],
          [
           "carrot<br>cheese<br>chicken<br>garlic<br>juice tidbit<br>macaroni<br>mayonnaise<br>pepper<br>pineapple tidbit<br>raisin<br>salt<br>sugar"
          ],
          [
           "ampalaya<br>bean<br>coconut<br>fish sauce<br>onion<br>pepper<br>pork<br>spinach"
          ],
          [
           "carrot<br>chicken<br>garlic<br>light soy sauce<br>lime<br>onion<br>pepper<br>potato<br>raisin<br>safflower oil<br>tomato sauce"
          ],
          [
           "basil<br>butter<br>cheese<br>flour<br>lasagna<br>milk<br>onion<br>parsley<br>pepper<br>pork<br>salt<br>tomato paste<br>tomato sauce"
          ],
          [
           "chicken<br>egg<br>flour<br>garlic<br>oil<br>paprika<br>pepper<br>salt"
          ],
          [
           "bacon<br>chicken<br>corn<br>egg<br>ingredient<br>salt<br>soy sauce<br>sugar<br>vinegar"
          ],
          [
           "chili<br>corn<br>garlic<br>lemongras<br>oil<br>onion<br>pork<br>salt<br>scallion<br>soy sauce<br>vinegar"
          ],
          [
           "ampalaya<br>egg<br>garlic<br>oil<br>onion<br>pepper<br>salt<br>shrimp<br>tomato"
          ],
          [
           "bay<br>bread crumb<br>carrot<br>celery stalk<br>chicken<br>egg<br>garlic<br>olive oil<br>onion<br>parsley<br>pepper<br>salt"
          ],
          [
           "beef<br>fish sauce<br>oil<br>onion<br>papaya<br>pepper<br>spinach"
          ],
          [
           "carrot<br>chicken<br>egg<br>garlic<br>napa cabbage<br>salt<br>scallion"
          ],
          [
           "bean<br>cabbage<br>carrot julienne<br>chicken<br>oil<br>pancit<br>pancit bihon<br>parsley<br>pepper<br>pork<br>shrimp<br>soy sauce"
          ],
          [
           "bean<br>beef<br>cabbage<br>garlic<br>oil<br>onion<br>pepper<br>soy sauce<br>tomato"
          ],
          [
           "beef<br>breadcrumb<br>corn<br>dark soy sauce<br>egg<br>flour<br>garlic<br>ginger<br>honey<br>oil<br>pepper<br>salt<br>sugar"
          ],
          [
           "bread crumb<br>cheese<br>chicken<br>egg<br>flour<br>oil<br>onion<br>soup<br>sushi rice"
          ],
          [
           "carrot<br>egg<br>onion<br>pepper<br>pork<br>scallion<br>sesame oil<br>soup"
          ],
          [
           "coconut<br>fish sauce<br>oil<br>onion<br>pepper<br>pork<br>spinach"
          ],
          [
           "chicken<br>fish sauce<br>garlic<br>gram sotanghon noodle<br>oil<br>onion<br>opo squash<br>pepper<br>pork<br>shrimp"
          ],
          [
           "beef<br>carrot<br>manzanilla olive<br>olive oil<br>onion<br>pea<br>pepper<br>potato<br>raisin<br>tomato"
          ],
          [
           "chicken<br>fish sauce<br>malunggay<br>oil<br>onion<br>opo squash<br>pepper<br>rice washing"
          ],
          [
           "adobong pusit<br>annatto<br>calamansi<br>egg<br>fish flake<br>fish sauce<br>garlic<br>napa cabbage<br>onion<br>oyster<br>pepper<br>pork<br>rice noodle<br>scallion<br>shrimp"
          ],
          [
           "beef<br>butter<br>carrot<br>egg<br>flour<br>milk<br>oil<br>onion<br>pea<br>pepper<br>pork<br>potato<br>raisin<br>salt<br>sugar<br>worcestershire sauce"
          ],
          [
           "cabbage<br>carrot<br>chicken<br>gram pancit<br>oil<br>onion<br>parsley<br>pepper<br>sausage<br>shrimp<br>snow peas<br>soy sauce"
          ],
          [
           "bacon<br>bean<br>molasse<br>mustard<br>oil<br>onion<br>salt<br>tomato sauce<br>vinegar"
          ],
          [
           "cheese<br>leaf parsley<br>pandesal<br>pepper<br>sardine tomato sauce<br>seasoning<br>tomato paste"
          ],
          [
           "banana<br>beef<br>bok choy<br>corn<br>napa cabbage<br>onion<br>patis<br>potato"
          ],
          [
           "chicken<br>egg<br>fish sauce<br>jasmine rice<br>kasubha<br>lemon<br>oil<br>onion<br>rice<br>scallion"
          ],
          [
           "fettuccine<br>leaf parsley<br>olive<br>olive oil<br>pepper<br>spanish sardines<br>sun tomato"
          ],
          [
           "bay<br>beef<br>corn<br>oil<br>onion<br>pork<br>soy sauce<br>sugar<br>vinegar"
          ],
          [
           "bok choy<br>butternut<br>cabbage<br>chicken<br>corn<br>fish sauce<br>onion"
          ],
          [
           "beef<br>cheese<br>garlic<br>leaf parsley<br>pepper<br>pork<br>salt"
          ],
          [
           "beef<br>butter<br>olive oil<br>onion<br>oxtail<br>pepper<br>potato<br>thyme<br>tomato<br>wine"
          ],
          [
           "chili<br>coconut<br>oil<br>onion<br>pepper<br>pork<br>santol<br>shrimp"
          ],
          [
           "garlic<br>lemongras<br>onion<br>pepper<br>pork<br>salt<br>scallion<br>star anise"
          ],
          [
           "calasparra rice<br>colossal shrimp<br>fish broth<br>lemon<br>olive oil<br>onion<br>pepper<br>roma tomato<br>squid<br>tinta de calamar<br>wine"
          ],
          [
           "egg<br>flour<br>mahi mahi<br>oil<br>olive oil<br>onion<br>pepper<br>roma tomato<br>salt<br>vegetable broth"
          ],
          [
           "bacon<br>chicken<br>corn<br>egg<br>ingredient<br>salt<br>soy sauce<br>sugar<br>vinegar"
          ],
          [
           "fennel bulb<br>manila<br>mussel<br>oil<br>onion<br>pepper<br>salt<br>spinach"
          ],
          [
           "butter<br>calamari<br>chili flake<br>garlic<br>leaf parsley<br>salt<br>shrimp"
          ],
          [
           "cheese<br>coconut<br>duck egg<br>egg<br>margarine<br>mochiko rice flour<br>salt<br>sugar<br>vanilla"
          ],
          [
           "basil<br>crab cluster<br>fennel bulb<br>fish steak<br>garlic<br>leaf parsley<br>manila<br>mussel<br>olive oil<br>onion<br>pepper<br>pinot grigio<br>sea scallop<br>shrimp<br>squid<br>tomato<br>tomato paste"
          ],
          [
           "carrot<br>cheese<br>chicken<br>egg<br>garlic<br>macaroni<br>mayonnaise<br>onion<br>pineapple tidbit<br>raisin<br>relish<br>salt"
          ],
          [
           "bay<br>dijon mustard<br>ham<br>honey<br>ice<br>pineapple juice<br>prague<br>sea salt<br>sugar"
          ],
          [
           "bay<br>carrot<br>ginger<br>oil<br>onion<br>pepper<br>pork<br>potato<br>raisin<br>soy sauce<br>tomato sauce"
          ],
          [
           "annatto<br>bagoong<br>banana<br>bean<br>bokchoy<br>corn<br>eggplant<br>oil<br>onion<br>oxtail<br>peanut<br>peanut butter<br>pork"
          ],
          [
           "ampalaya<br>bagoong<br>bean<br>galunggong<br>leave<br>okra<br>onion<br>tomato"
          ],
          [
           "carrot<br>cheese<br>garlic<br>liver<br>manzanilla olive<br>oil<br>onion<br>pepper<br>pork<br>potato<br>tomato sauce"
          ],
          [
           "cheese<br>liver<br>oil<br>onion<br>pepper<br>pork<br>spaghetti<br>sugar<br>tomato paste<br>tomato sauce"
          ],
          [
           "chicken<br>garlic<br>grain rice<br>olive oil<br>paprika<br>pepper<br>rib eye steak<br>salt"
          ],
          [
           "carrot<br>egg<br>garlic<br>jicama<br>leaf parsley<br>oil<br>onion<br>pepper<br>pork<br>salt"
          ],
          [
           "broccoli floret<br>cabbage<br>chicken<br>corn<br>floret<br>oil<br>onion<br>pepper<br>shrimp<br>snow peas"
          ],
          [
           "bean<br>beef<br>bok choy<br>cabbage<br>chickpeas<br>chorizo bilbao<br>fish sauce<br>oil<br>onion<br>pepper<br>plantain<br>potato<br>tomato"
          ],
          [
           "cabbage<br>chicken<br>fish sauce<br>oil<br>onion<br>pepper<br>pork<br>tomato"
          ],
          [
           "bay<br>beef<br>corn<br>oil<br>onion<br>pork<br>salt<br>soy sauce<br>sugar<br>vinegar"
          ],
          [
           "bread crumb<br>egg<br>flour<br>garlic<br>garlic rice<br>oil<br>pepper<br>pork<br>salt<br>tonkatsu sauce"
          ],
          [
           "cabbage<br>carrot<br>fish sauce<br>oil<br>onion<br>paprika<br>parsley<br>pepper<br>sausage<br>scallion<br>shrimp<br>sotanghon noodle"
          ],
          [
           "cabbage<br>carrot<br>cauliflower<br>chicken<br>corn<br>oil<br>onion<br>oyster sauce<br>pepper<br>pork<br>quail egg<br>shrimp"
          ],
          [
           "bacon<br>beef<br>cheese<br>cream<br>mushroom<br>parsley<br>salt<br>spaghetti"
          ],
          [
           "bangus<br>carrot<br>celery<br>egg<br>jicama<br>leaf parsley<br>lumpia<br>oil<br>onion<br>pepper<br>salt"
          ],
          [
           "annatto<br>chicharon<br>egg<br>fish sauce<br>flour<br>napa cabbage<br>oil<br>palabok noodle<br>pepper<br>pork<br>scallion<br>shrimp<br>tinapa flake"
          ],
          [
           "butter<br>egg<br>flour<br>frank redhot sauce<br>garlic<br>oil<br>pork<br>salt"
          ],
          [
           "butter<br>cheese<br>coconut<br>egg<br>jasmine rice<br>rice<br>salt<br>sugar"
          ],
          [
           "bay<br>beef<br>canola oil<br>carrot<br>onion<br>pepper<br>potato<br>rosemary<br>salt<br>thyme<br>wine"
          ],
          [
           "beef<br>garlic<br>lime<br>oil<br>onion<br>pepper<br>pork<br>salt<br>soy sauce<br>sugar"
          ],
          [
           "chili<br>ginataang gulay<br>gram taro<br>oil<br>onion<br>pork<br>shrimp"
          ],
          [
           "butter<br>chili<br>garlic<br>liquid seasoning<br>mayonnaise<br>onion<br>pepper<br>pork<br>salt<br>tuna"
          ],
          [
           "bbq sauce<br>cabbage<br>carrot<br>cheese<br>chicken<br>flour tortilla<br>romaine lettuce<br>sea salt<br>vegetable oil"
          ],
          [
           "chicken<br>chili<br>fish sauce<br>ginataang gulay<br>oil<br>onion<br>pepper<br>turmeric"
          ],
          [
           "bay<br>beef<br>chili<br>corn<br>pepper<br>pork<br>soy sauce"
          ],
          [
           "daikon radish<br>fish sauce<br>garlic<br>ginger<br>napa cabbage<br>scallion<br>sea salt<br>shrimp<br>sugar"
          ],
          [
           "chicken<br>fish sauce<br>garlic<br>onion<br>pepper<br>sinigang sampaloc<br>tamarind flower bud"
          ],
          [
           "broccoli floret<br>carrot<br>cauliflower<br>chicken<br>cumin<br>garlic<br>honey<br>paprika<br>pepper<br>salt<br>squash<br>vinegar<br>zucchini"
          ],
          [
           "butter<br>buttermilk<br>egg<br>flour<br>salt<br>soda<br>sugar<br>vanilla"
          ],
          [
           "annatto<br>beef<br>chili<br>garlic<br>intestine<br>onion<br>rice wash<br>salt<br>tripe"
          ],
          [
           "liempo<br>onion<br>pepper<br>soy sauce<br>sugar<br>tofu<br>vinegar"
          ],
          [
           "butter<br>cheese<br>corn<br>crab meat<br>flour<br>milk<br>onion<br>pepper<br>salt<br>tomato chilie<br>tortilla chip"
          ],
          [
           "beef<br>goat meat<br>oil<br>onion<br>pea<br>peanut butter<br>pepper<br>tomato<br>tomato sauce"
          ],
          [
           "crab<br>fish sauce<br>ginataang gulay<br>ginger<br>jackfruit<br>malunggay<br>oil<br>onion<br>pepper"
          ],
          [
           "ampalaya<br>chili<br>fish sauce<br>monggo<br>oil<br>onion<br>pepper<br>shrimp<br>tinapa flake<br>tomato"
          ],
          [
           "carrot<br>chicken<br>corn<br>crab meat<br>mushroom<br>napa cabbage<br>oil<br>onion<br>oyster sauce<br>pancit<br>sesame oil<br>soy sauce<br>squid"
          ],
          [
           "banana<br>bean<br>fish sauce<br>fish steak<br>mustard<br>okra<br>onion<br>rice wash<br>sinigang<br>tomato"
          ],
          [
           "bean<br>chicken<br>corn<br>ginger<br>pepper<br>pork<br>scallion<br>sesame oil<br>tofu"
          ],
          [
           "egg<br>oil<br>patis<br>scad<br>scallion<br>sea salt<br>tomato"
          ],
          [
           "bay<br>chicken<br>coconut<br>garlic<br>oil<br>soy sauce<br>vinegar"
          ],
          [
           "calamansi<br>eggplant<br>galunggong<br>oil<br>onion<br>pepper<br>sea salt<br>shrimp<br>tomato"
          ],
          [
           "chili<br>coconut<br>ginger<br>jalapeño<br>juice lime<br>onion<br>pepper<br>salt"
          ],
          [
           "annatto<br>banana<br>bean<br>beef<br>bok choy<br>oil<br>onion<br>peanut<br>rice flour<br>sautéed shrimp paste"
          ],
          [
           "chili<br>corn<br>oil<br>onion<br>pepper<br>soy sauce<br>tofu<br>vegetable broth"
          ],
          [
           "egg<br>eggplant<br>garlic<br>oil<br>onion<br>pepper<br>pork<br>salt<br>tomato"
          ],
          [
           "chicken<br>cloved garlic<br>ginataang gulay<br>ginger<br>oil<br>onion<br>pea<br>pepper<br>potato<br>turmeric"
          ],
          [
           "beef<br>corn<br>oil<br>onion<br>pepper<br>pork<br>soy sauce<br>sugar<br>wine"
          ],
          [
           "butter<br>liquid seasoning<br>mayonnaise<br>oil<br>onion<br>pepper<br>tofu"
          ],
          [
           "bean<br>beef<br>fish sauce<br>kangkong stalk<br>onion<br>pepper<br>sinigang<br>tomato<br>watermelon"
          ],
          [
           "beef<br>bottle gourd<br>garlic<br>oil<br>onion<br>pepper<br>pork<br>tomato"
          ],
          [
           "annatto<br>lime<br>mirin<br>onion<br>pepper<br>salt<br>scallion<br>soy sauce<br>squid<br>tomato"
          ],
          [
           "bay<br>beef<br>carrot<br>oil<br>onion<br>pepper<br>pork<br>potato<br>tomato sauce"
          ],
          [
           "beef<br>cabbage<br>garlic<br>oil<br>onion<br>parsley<br>pepper<br>potato"
          ],
          [
           "fish sauce<br>mustard<br>okra<br>onion<br>pepper<br>salmon<br>sinigang<br>tomato"
          ],
          [
           "beef<br>garlic rice<br>ginger<br>oil<br>onion<br>pepper<br>salt<br>soy sauce<br>star anise<br>sugar"
          ],
          [
           "corn<br>garlic<br>oil<br>onion<br>pepper<br>pineapple juice<br>sea salt<br>snapper<br>sugar<br>tomato ketchup<br>vinegar"
          ],
          [
           "butter<br>cheese<br>garlic<br>oil<br>onion<br>pepper<br>wine"
          ],
          [
           "bean<br>liquid seasoning<br>oil<br>onion<br>pepper<br>pork<br>shrimp<br>spinach<br>tomato"
          ],
          [
           "egg<br>garlic<br>lemon<br>oil<br>pepper<br>pork<br>rice<br>salt<br>soy sauce"
          ],
          [
           "bean<br>fish sauce<br>lime<br>liquid seasoning<br>malunggay<br>oil<br>onion<br>pepper<br>pork<br>tomato"
          ],
          [
           "banana<br>garlic<br>juice calamansi<br>lemon<br>pepper<br>pork<br>salt<br>soy sauce<br>sugar"
          ],
          [
           "banana<br>corn<br>fish sauce<br>onion<br>pechay<br>pork<br>potato"
          ],
          [
           "bok choy<br>chicken<br>fish sauce<br>oil<br>onion<br>pepper<br>pork<br>shrimp<br>tomato"
          ],
          [
           "bean<br>butternut squash<br>chicken<br>garlic<br>malunggay<br>oil<br>onion<br>pepper<br>shrimp"
          ],
          [
           "butter<br>cheese<br>garlic<br>meat lobster<br>pepper<br>spaghetti<br>whipping cream"
          ],
          [
           "chicken<br>egg<br>fish sauce<br>garlic<br>kasubha<br>oil<br>onion<br>pepper<br>rice<br>scallion"
          ],
          [
           "banana<br>bay<br>bean<br>ham hock<br>oil<br>onion<br>pineapple juice<br>pork<br>soy sauce<br>sugar<br>vinegar"
          ],
          [
           "bean<br>fish sauce<br>malunggay<br>oil<br>onion<br>pepper<br>pork<br>spinach<br>tomato"
          ],
          [
           "cabbage<br>carrot<br>celery<br>oil<br>onion<br>pansit bihon<br>parsley<br>pepper<br>shrimp<br>snow peas<br>soy sauce"
          ],
          [
           "banana<br>egg<br>flour<br>oil<br>raisin<br>salt<br>soda<br>sugar<br>vanilla"
          ],
          [
           "beef<br>dark soy sauce<br>egg<br>garlic<br>pork<br>salt<br>sugar<br>tofu<br>vegetable oil"
          ],
          [
           "beef<br>carrot<br>oil<br>onion<br>pepper<br>pork<br>potato<br>raisin<br>tomato sauce"
          ],
          [
           "chicken<br>ginataang gulay<br>kalabasa<br>oil<br>onion<br>patis<br>pepper<br>sitaw"
          ],
          [
           "bird eye chili<br>fish sauce<br>ginataang gulay<br>oil<br>onion<br>pepper<br>scallion<br>shrimp"
          ],
          [
           "bay<br>chicken<br>corn<br>dark soy sauce<br>egg<br>oil<br>salt<br>vinegar"
          ],
          [
           "ginataang gulay<br>oil<br>onion<br>pepper<br>pork<br>salt<br>vinegar"
          ],
          [
           "bird eye chili<br>ginataang gulay<br>oil<br>onion<br>pepper<br>pork<br>salt<br>shrimp"
          ],
          [
           "fish sauce<br>garlic<br>melon<br>oil<br>onion<br>pepper<br>sardines tomato sauce<br>scallion"
          ],
          [
           "bean<br>chicken<br>garlic<br>oil<br>onion<br>oyster sauce<br>pepper<br>tofu"
          ],
          [
           "bean<br>butternut<br>coconut<br>eggplant<br>ginger<br>melon<br>oil<br>okra<br>onion<br>pepper<br>shrimp<br>squid"
          ],
          [
           "chili oil<br>garlic<br>onion<br>pepper<br>pork<br>rice noodle<br>salt<br>scallion<br>sesame oil<br>wonton"
          ],
          [
           "bay<br>coconut<br>fish sauce<br>oil<br>pepper<br>soy sauce<br>squid<br>vinegar"
          ],
          [
           "bean<br>hibi<br>oil<br>onion<br>patis<br>pepper<br>spinach<br>tomato"
          ],
          [
           "banana<br>chicken<br>corn<br>fish sauce<br>napa cabbage<br>pork<br>potato"
          ],
          [
           "beef<br>corn<br>liquid seasoning<br>oil<br>oyster sauce<br>pepper<br>scallion"
          ],
          [
           "ampalaya<br>bagoong<br>bilong bilong<br>malunggay<br>okra<br>onion<br>sitaw<br>tomato"
          ],
          [
           "banana<br>garlic<br>lemon<br>liquid seasoning<br>pepper<br>pork<br>soy sauce"
          ],
          [
           "banana<br>bay<br>corn<br>liquid seasoning<br>oil<br>onion<br>pork<br>salt<br>soy sauce<br>sugar<br>vinegar"
          ],
          [
           "beef<br>bok choy<br>cabbage<br>corn<br>fish sauce<br>lemon<br>onion<br>pepper<br>rock salt"
          ],
          [
           "bean<br>oil<br>onion<br>pepper<br>pork<br>salt<br>soy sauce<br>vinegar"
          ],
          [
           "egg<br>fish sauce<br>oil<br>onion<br>pepper<br>scallion<br>tomato<br>tuna"
          ],
          [
           "coconut<br>garlic<br>mussel<br>oil<br>onion<br>pepper<br>shrimp<br>shrimp shell<br>squid"
          ],
          [
           "chicken<br>fish sauce<br>garlic<br>oil<br>onion<br>patola<br>pepper<br>scallion"
          ],
          [
           "cabbage<br>carrot<br>chicken<br>corn<br>egg<br>miki noodle<br>oil<br>onion<br>pepper<br>salt<br>scallion"
          ],
          [
           "butter<br>carrot<br>egg<br>oil<br>pea<br>pepper<br>rice"
          ],
          [
           "annatto<br>chicken<br>fish sauce<br>juice shrimp<br>onion<br>pepper<br>salt<br>scallion<br>sesame oil<br>shrimp<br>wonton"
          ],
          [
           "carrot<br>celery<br>chicken<br>oil<br>onion<br>pasta<br>pepper"
          ],
          [
           "butter<br>chicken<br>juice lemon<br>linguine<br>moscato<br>olive oil<br>parsley<br>pepper<br>salt<br>shrimp"
          ],
          [
           "banana<br>bean<br>bok choy<br>oil<br>onion<br>pepper<br>plum tomato<br>pork<br>potato<br>sausage<br>tomato sauce"
          ],
          [
           "coconut<br>fish sauce<br>malunggay<br>oil<br>onion<br>papaya<br>pepper<br>pork"
          ],
          [
           "chicken<br>egg<br>fish sauce<br>malunggay<br>miki noodle<br>oil<br>onion<br>papaya<br>pepper"
          ],
          [
           "cabbage<br>carrot<br>chicken<br>corn<br>gram flour<br>oil<br>onion<br>oyster sauce<br>pea<br>pepper<br>pork<br>soy sauce"
          ],
          [
           "chicken<br>coconut<br>fish sauce<br>malunggay<br>oil<br>onion<br>papaya<br>pepper"
          ],
          [
           "bean<br>beef<br>oil<br>onion<br>pepper<br>pork<br>soy sauce<br>sugar<br>vinegar"
          ],
          [
           "chicken<br>coconut<br>lemongras<br>onion<br>pepper<br>plum tomato<br>potato<br>salt<br>scallion"
          ],
          [
           "bok choy<br>chicken<br>corn<br>garlic<br>ginger<br>hong kong noodle<br>oil<br>oyster sauce<br>pepper<br>salt<br>sesame oil<br>soy sauce<br>wine"
          ],
          [
           "chicken<br>fish sauce<br>ginger<br>malunggay<br>onion<br>papaya<br>pepper<br>vegetable oil"
          ],
          [
           "beef<br>corn<br>garlic<br>oil<br>oyster sauce<br>pea<br>pepper<br>salt<br>sherry<br>soy sauce"
          ],
          [
           "banana<br>butter<br>cream<br>flour<br>salt<br>soda<br>sugar<br>vanilla<br>walnut"
          ],
          [
           "bean<br>cabbage<br>carrot<br>oil<br>onion<br>pepper<br>scallion<br>shrimp"
          ],
          [
           "beef<br>button mushroom<br>cream<br>cream mushroom<br>lengua<br>oil<br>onion<br>pepper"
          ],
          [
           "butter<br>clam juice<br>leaf parsley<br>lemon juice<br>olive oil<br>onion<br>pepper<br>scallop<br>wine"
          ],
          [
           "bread crumb<br>cheese<br>chicken<br>egg<br>pepper<br>raisin<br>relish<br>salt<br>vegetable oil"
          ],
          [
           "bay<br>chickpeas<br>garlic<br>oil<br>onion<br>pepper<br>pig liver<br>pork<br>salt<br>soy sauce<br>sugar<br>vinegar"
          ],
          [
           "bay<br>beef<br>button mushroom<br>flour<br>oil<br>olive<br>onion<br>pepper<br>soy sauce<br>sugar<br>tomato<br>vinegar<br>wine"
          ],
          [
           "bacon<br>beef<br>butter<br>button mushroom<br>cheese<br>egg<br>onion<br>pepper<br>spaghetti<br>whipping cream"
          ],
          [
           "butter<br>olive oil<br>oyster sauce<br>pepper<br>pork<br>salt<br>worcestershire sauce"
          ],
          [
           "garlic<br>oil<br>okra<br>pepper<br>pork<br>soy sauce<br>sugar<br>vinegar"
          ],
          [
           "beef<br>carrot<br>liver<br>oil<br>onion<br>pepper<br>potato"
          ],
          [
           "beef<br>juice lemon<br>onion<br>pepper<br>salt<br>soy sauce<br>sugar"
          ],
          [
           "beer<br>egg<br>flour<br>garlic<br>oil<br>pepper<br>salt"
          ],
          [
           "beef<br>egg<br>fish sauce<br>garlic<br>miki noodle<br>pepper<br>scallion"
          ],
          [
           "banana<br>cloved garlic<br>coconut<br>fish sauce<br>malunggay<br>oil<br>onion<br>pepper<br>tilapia"
          ],
          [
           "chili<br>coconut<br>oil<br>onion<br>pepper<br>pork<br>shrimp"
          ],
          [
           "beef<br>butter<br>cheese<br>flour<br>milk<br>oil<br>onion<br>pepper<br>tomato sauce"
          ],
          [
           "beef<br>carrot<br>dill pickle<br>egg<br>eye<br>flour<br>garlic<br>oil<br>onion<br>pepper<br>soy sauce<br>tomato sauce"
          ],
          [
           "beef<br>garlic rice<br>ginger<br>onion<br>pepper<br>salt<br>scallion<br>soy sauce<br>star anise<br>sugar<br>top sirloin"
          ],
          [
           "beef<br>butter<br>button mushroom<br>carrot<br>cheese<br>chicken<br>egg<br>flour<br>loaf bread<br>pepper<br>potato"
          ],
          [
           "lime<br>oil<br>onion<br>pea<br>pepper<br>pork<br>potato<br>soy sauce"
          ],
          [
           "celery<br>mayonnaise<br>mustard<br>onion<br>pepper<br>salt<br>soda cracker"
          ],
          [
           "daikon radish<br>fish sauce<br>miso paste<br>mustard green<br>onion<br>pepper<br>tamarind<br>tomato<br>tuna"
          ],
          [
           "bay<br>corn<br>oil<br>pork<br>salt<br>soy sauce<br>vinegar"
          ],
          [
           "breadcrumb<br>carrot<br>cheese<br>egg<br>onion<br>pepper<br>pickle<br>pork<br>raisin<br>salt"
          ],
          [
           "butter<br>chocolate chip<br>egg<br>flour<br>milk<br>oat bran<br>salt<br>soda<br>sugar<br>vanilla"
          ],
          [
           "annatto<br>calamansi<br>chicharon<br>egg<br>fish flake<br>fish sauce<br>flour<br>garlic<br>mussel<br>oil<br>palabok noodle<br>pork<br>scallion<br>shrimp<br>squid"
          ],
          [
           "bean<br>eggplant<br>fish sauce<br>okra<br>pepper<br>pork<br>sinigang<br>spinach<br>tomato"
          ],
          [
           "corn<br>ginger<br>light soy sauce<br>oil<br>pepper<br>pork<br>rice<br>scallion"
          ],
          [
           "apple<br>canola<br>caster sugar<br>cinnamon<br>egg<br>flour<br>honey<br>milk<br>salt<br>soda<br>sugar<br>vanilla<br>walnut"
          ],
          [
           "bay<br>chicken<br>corn<br>oil<br>onion<br>pork<br>salt<br>soy sauce<br>sugar<br>vinegar"
          ],
          [
           "bay<br>carrot<br>chicken<br>oil<br>onion<br>pepper<br>potato<br>tomato sauce"
          ],
          [
           "bok choy<br>garlic<br>oil<br>oyster sauce<br>pepper<br>salt<br>sesame oil<br>sugar"
          ],
          [
           "bay<br>corn<br>oil<br>pig ear<br>salt<br>soy sauce<br>vinegar"
          ],
          [
           "carrot<br>cheese<br>chicken<br>mayonnaise<br>pea<br>potato<br>relish<br>salt"
          ],
          [
           "banana<br>beef<br>cheese<br>garlic<br>hotdog<br>meat<br>oil<br>onion<br>pepper<br>pork<br>spaghetti<br>sugar<br>tomato sauce"
          ],
          [
           "cheese<br>coconut<br>egg<br>margarine<br>milk<br>rice flour<br>sugar"
          ],
          [
           "eggplant<br>fish sauce<br>onion<br>pepper<br>pig tail<br>sinigang<br>sitaw<br>spinach<br>tomato"
          ],
          [
           "carrot<br>garlic<br>oil<br>onion<br>pepper<br>pork<br>potato<br>raisin<br>sugar<br>tomato sauce"
          ],
          [
           "bay<br>chicken<br>onion<br>pepper<br>sea salt<br>stalk lemongras<br>stalk lemongrass<br>up"
          ],
          [
           "bread crumb<br>chicken<br>garlic<br>oil<br>onion<br>pepper<br>salt<br>sugar<br>vinegar"
          ],
          [
           "chicken<br>misua<br>oil<br>onion<br>patola<br>pepper<br>pork"
          ],
          [
           "corn<br>flour<br>garlic<br>oil<br>pepper<br>sea salt<br>tilapia<br>wine"
          ],
          [
           "lemon<br>oil<br>onion<br>pepper<br>pig liver<br>salt<br>soy sauce<br>sugar"
          ],
          [
           "bean<br>butternut<br>ginataang gulay<br>oil<br>onion<br>pepper<br>pork"
          ],
          [
           "bean<br>beef<br>butternut squash<br>eggplant<br>gourd<br>oil<br>okra<br>onion<br>pepper<br>plum tomato<br>pork<br>shrimp"
          ],
          [
           "bay<br>carrot<br>chicken<br>garlic<br>oil<br>onion<br>pepper<br>potato<br>sugar<br>tomato"
          ],
          [
           "banana<br>chocolate<br>egg<br>flour<br>oil<br>salt<br>soda<br>sugar"
          ],
          [
           "fish bouillon<br>fish sauce<br>onion<br>pepper<br>plum tomato<br>scallion<br>stalk lemongrass<br>tuna"
          ],
          [
           "annatto<br>bean<br>beef<br>bok choy<br>eggplant<br>fish sauce<br>garlic<br>oil<br>onion<br>peanut<br>pepper<br>rice"
          ],
          [
           "egg<br>flour<br>oil<br>papaya atchara<br>pepper<br>pork<br>salt<br>sinangag"
          ],
          [
           "banana<br>garlic<br>lime<br>pepper<br>salt<br>scallion<br>soy sauce<br>squid<br>sugar"
          ],
          [
           "beef<br>cabbage<br>carrot<br>fish sauce<br>igado<br>miki noodle<br>oil<br>parsley<br>pepper<br>pork<br>quail egg<br>scallion<br>soy sauce"
          ],
          [
           "cabbage<br>carrot<br>cauliflower<br>corn<br>oil<br>onion<br>oyster sauce<br>pepper<br>pork<br>quail egg<br>shrimp"
          ],
          [
           "annatto<br>beef<br>chili<br>fish sauce<br>jackfruit<br>onion<br>pepper<br>plum tomato<br>sinigang sampaloc"
          ],
          [
           "chili<br>coconut<br>crawfish<br>oil<br>onion<br>pepper<br>shrimp<br>spinach"
          ],
          [
           "bangus belly<br>daikon radish<br>fish sauce<br>miso<br>mustard green<br>okra<br>onion<br>pepper<br>plum tomato<br>sinigang"
          ],
          [
           "bagoong<br>kangkong<br>oil<br>onion<br>pepper<br>soy sauce<br>tulapho<br>vinegar"
          ],
          [
           "calamansi<br>chili<br>ginger<br>onion<br>pepper<br>salt<br>sugar<br>tanigue"
          ],
          [
           "bagoong<br>bean<br>fish<br>flower<br>gourd<br>knob ginger<br>oil<br>okra<br>onion<br>pepper<br>plum tomato<br>salt"
          ],
          [
           "bean<br>fish flake<br>fish sauce<br>oil<br>onion<br>pepper<br>plum tomato<br>sea salt<br>snapper"
          ],
          [
           "lato<br>onion<br>pepper<br>plum tomato<br>salt<br>sugar<br>vinegar"
          ],
          [
           "bay<br>ginger<br>goatskin<br>onion<br>pepper<br>spicy chili<br>vinegar"
          ],
          [
           "duck egg<br>garlic<br>oil<br>onion<br>plum tomato<br>rice<br>salt<br>tinapa flake"
          ],
          [
           "bean<br>coconut<br>fish sauce<br>oil<br>onion<br>pepper<br>pork"
          ],
          [
           "beef<br>corn<br>gourd<br>oil<br>oyster sauce<br>pepper<br>sesame oil<br>sherry<br>soy sauce"
          ],
          [
           "bay<br>garlic<br>oil<br>onion<br>pepper<br>pork<br>salt"
          ],
          [
           "bean<br>chicken<br>corn<br>crab<br>egg<br>knob ginger<br>oil<br>onion<br>pepper<br>soy sauce<br>tomato ketchup"
          ],
          [
           "annatto<br>banana<br>bean<br>coconut<br>crab<br>fish sauce<br>mussel<br>oil<br>peanut butter<br>shell<br>shrimp<br>squid"
          ],
          [
           "bagoong<br>eggplant salad<br>garlic<br>onion<br>paprika<br>pepper<br>salt<br>st louis rib<br>sugar"
          ],
          [
           "butter<br>egg<br>oil<br>onion<br>pepper<br>plum tomato<br>salt<br>spinach"
          ],
          [
           "beef<br>bung<br>celery<br>chicharon<br>fish sauce<br>garlic<br>miki noodle<br>oil<br>onion<br>pepper<br>pork<br>scallion"
          ],
          [
           "bread crumb<br>cheese<br>egg<br>pea<br>pepper<br>pickle<br>pineapple<br>pork<br>raisin"
          ],
          [
           "chicken<br>egg<br>fish sauce<br>garlic<br>onion<br>pepper<br>pork<br>salt<br>scallion<br>sesame oil<br>shrimp"
          ],
          [
           "fish sauce<br>galunggong<br>oil<br>okra<br>onion<br>pepper<br>tomato"
          ],
          [
           "carrot<br>egg<br>garlic<br>lumpia<br>oil<br>onion<br>pepper<br>pork<br>salt"
          ],
          [
           "bay<br>beef<br>chicken<br>corn<br>garlic<br>oil<br>pork<br>salt<br>soy sauce<br>vinegar"
          ],
          [
           "bok choy<br>cabbage<br>celery<br>fish sauce<br>garlic<br>onion<br>pepper<br>potato<br>rib"
          ],
          [
           "cabbage<br>carrot<br>chicken<br>garlic<br>gram pancit noodle<br>oil<br>onion<br>oyster sauce<br>pepper<br>pork<br>sausage<br>snow peas<br>soy sauce"
          ],
          [
           "canola oil<br>coconut<br>jackfruit<br>malunggay<br>onion<br>pepper<br>salt<br>shrimp<br>tinapa flake<br>vinegar"
          ],
          [
           "beef<br>broccoli<br>corn<br>garlic<br>ginger<br>oil<br>oyster sauce<br>sirloin steak<br>soy sauce<br>sugar<br>wine"
          ],
          [
           "butter<br>corn<br>egg<br>half half<br>honey<br>salt<br>sugar"
          ],
          [
           "bay<br>corn<br>cumin<br>garlic<br>pepper<br>pig intestine<br>sea salt<br>vinegar"
          ],
          [
           "ampalaya<br>chili flake<br>coconut<br>fish sauce<br>oil<br>onion<br>pepper<br>tuna"
          ],
          [
           "bay<br>beef<br>corn<br>egg<br>light soy sauce<br>oil<br>pork<br>salt<br>sugar<br>vinegar"
          ],
          [
           "cherry<br>cream<br>fruit cocktail<br>graham<br>graham cracker<br>milk<br>vanilla<br>whipping cream"
          ],
          [
           "bay<br>beef<br>garlic<br>oil<br>onion<br>pepper<br>pork<br>potato<br>tomato paste"
          ],
          [
           "beef<br>garlic<br>lemon<br>oil<br>onion<br>pepper<br>soy sauce<br>sugar"
          ],
          [
           "bean<br>coconut<br>corn<br>rice<br>salt<br>sugar<br>vanilla"
          ],
          [
           "bean<br>calabaza squash<br>eggplant<br>gourd<br>oil<br>okra<br>onion<br>pepper<br>tomato<br>vegetable broth"
          ],
          [
           "carrot<br>garlic<br>papaya<br>pepper<br>raisin<br>salt<br>sugar<br>vinegar"
          ],
          [
           "crabmeat<br>egg<br>eggplant<br>garlic<br>oil<br>onion<br>pepper<br>salt"
          ],
          [
           "bean<br>eggplant<br>fish<br>ginger<br>loofah<br>malunggay<br>okra<br>onion<br>pepper<br>salt<br>spinach<br>tomato"
          ],
          [
           "daikon radish<br>grouper<br>miso<br>mustard leave<br>okra<br>onion<br>pepper<br>tamarind<br>tomato"
          ],
          [
           "butter<br>cheese<br>cream<br>garlic<br>olive oil<br>pepper<br>shrimp<br>spaghetti"
          ],
          [
           "butter<br>canola oil<br>garlic<br>lemon<br>pepper<br>salmon<br>salt<br>thyme"
          ],
          [
           "bean<br>calabaza squash<br>fish<br>fish sauce<br>oil<br>onion<br>pepper"
          ],
          [
           "bay<br>corn<br>garlic<br>ham hock<br>oil<br>onion<br>salt<br>soy sauce<br>sugar<br>vinegar"
          ],
          [
           "chicken<br>garlic<br>ginger<br>hoisin sauce<br>onion<br>pepper<br>rib<br>sesame oil<br>sesame seeds<br>spice<br>sugar<br>teriyaki sauce<br>vinegar"
          ],
          [
           "annatto<br>beer<br>chicken<br>ginger<br>lime<br>margarine<br>pepper<br>salt<br>soy sauce<br>vinegar"
          ],
          [
           "beef<br>garlic<br>lime<br>oil<br>onion<br>pepper<br>scallion<br>soy sauce"
          ],
          [
           "coconut<br>fish<br>fish sauce<br>garlic<br>jackfruit<br>malunggay<br>oil<br>onion<br>pepper"
          ],
          [
           "beef<br>oil<br>onion<br>pepper<br>pineapple<br>pork<br>soy sauce<br>sugar"
          ],
          [
           "chicken<br>chili flake<br>fish sauce<br>garlic<br>ginger<br>lemongrass blade<br>oil<br>onion<br>papaya<br>pepper"
          ],
          [
           "beef<br>breadcrumb<br>egg<br>pepper<br>pork<br>salt<br>sugar"
          ],
          [
           "bay<br>beef<br>corn<br>garlic<br>oil<br>pineapple<br>pork<br>salt<br>soy sauce<br>sugar<br>vinegar"
          ],
          [
           "clam juice<br>garlic paste<br>lemon<br>mussel<br>neck clam<br>olive oil<br>onion<br>paella rice<br>paprika<br>parsley<br>pea<br>pepper<br>saffron<br>salt<br>squid<br>tiger shrimp<br>tomato"
          ],
          [
           "canola oil<br>milk<br>onion<br>pepper<br>salt<br>scallion<br>stalk lemongrass"
          ],
          [
           "garlic<br>lamb<br>olive oil<br>pepper<br>rosemary<br>sea salt<br>thyme"
          ],
          [
           "butter<br>egg<br>garlic<br>kielbasa sausage<br>onion<br>pea<br>rice<br>soy sauce"
          ],
          [
           "bean<br>beef<br>fish sauce<br>indian eggplant<br>okra<br>onion<br>spinach<br>taro root<br>tomato"
          ],
          [
           "bean<br>cabbage<br>egg<br>garlic<br>oil<br>onion<br>pepper<br>sea salt<br>tofu<br>tomato"
          ],
          [
           "bagoong<br>bean<br>indian eggplant<br>jute<br>melon<br>okra<br>onion<br>plum tomato<br>tilapia"
          ],
          [
           "butter<br>carrot<br>celery<br>chicken<br>farfalle<br>garlic<br>ham<br>milk<br>onion<br>pepper<br>turkey"
          ],
          [
           "garlic<br>mayonnaise<br>onion<br>pepper<br>pickle<br>salt<br>sugar"
          ],
          [
           "beef<br>carrot<br>garlic<br>kielbasa sausage<br>oil<br>onion<br>pea<br>pepper<br>pig liver<br>pork<br>potato<br>tomato"
          ],
          [
           "chicken<br>chili<br>coconut<br>fish sauce<br>ginger<br>mooring<br>onion<br>pepper"
          ],
          [
           "bacon<br>butter<br>cheese<br>cream<br>egg<br>mushroom<br>onion<br>pepper<br>potato"
          ],
          [
           "bacon<br>cabbage<br>carrot<br>chicken<br>fish sauce<br>miki noodle<br>oil<br>onion"
          ],
          [
           "bean<br>beef<br>butternut squash<br>coconut<br>oil<br>onion<br>pepper<br>pork<br>salt<br>shrimp"
          ],
          [
           "beef<br>garlic<br>oil<br>onion<br>pepper<br>pork<br>soy sauce<br>spinach"
          ],
          [
           "breadcrumb<br>egg<br>flour<br>oil<br>pepper<br>pork<br>potato<br>salt"
          ],
          [
           "cabbage<br>carrot<br>chicken<br>lobster<br>oil<br>onion<br>pancit noodle<br>parsley<br>pepper<br>soy sauce<br>squid"
          ],
          [
           "beef<br>butter<br>canola oil<br>cheese<br>onion<br>salsa con queso<br>salt<br>sauce<br>sausage link"
          ],
          [
           "chicken<br>chilie<br>margarine<br>onion<br>pata meat<br>pepper<br>salt<br>sugar<br>vinegar"
          ],
          [
           "apple snail<br>chilli<br>coconut<br>ginger<br>oil<br>onion<br>pepper<br>shrimp<br>spinach"
          ],
          [
           "butter<br>cheese<br>chicken<br>cream<br>hashbrown potato<br>oil<br>onion<br>pepper<br>salt"
          ],
          [
           "banana<br>cilantro<br>egg<br>flour tortilla<br>oil<br>onion<br>pepper"
          ],
          [
           "beef<br>butter<br>mushroom<br>onion<br>oregano<br>parsley flake<br>pepper<br>sea salt<br>tomato paste"
          ],
          [
           "bread crumb<br>garlic<br>olive oil<br>onion<br>oregano flake<br>paprika<br>sea salt<br>yukon gold potato"
          ],
          [
           "corn<br>onion<br>pepper<br>pineapple<br>sugar<br>tomato ketchup<br>vinegar"
          ],
          [
           "basil<br>dark soy sauce<br>fish sauce<br>garlic<br>oil<br>pepper<br>pork<br>sugar"
          ],
          [
           "char siu<br>egg<br>garlic<br>light soy sauce<br>oil<br>onion<br>rice<br>sea salt<br>sesame oil"
          ],
          [
           "chicken<br>flour<br>garlic<br>oil<br>onion<br>pepper<br>sea salt"
          ],
          [
           "butter<br>garlic<br>lime<br>mussel<br>parsley<br>salt<br>wine"
          ],
          [
           "carrot<br>liver<br>oil<br>olive<br>onion<br>pepper<br>pork<br>tomato sauce"
          ],
          [
           "egg<br>mayonnaise<br>mustard<br>onion<br>pepper<br>pickle<br>salt<br>sugar"
          ],
          [
           "chilie<br>coconut<br>fish sauce<br>garlic<br>ginger<br>onion<br>pepper<br>spinach<br>squid"
          ],
          [
           "barbecue sauce<br>canola oil<br>chicken<br>garlic<br>juice lemon<br>light soy sauce<br>paprika<br>pepper<br>salt"
          ],
          [
           "almond<br>butter<br>chocolate chip<br>flour<br>minute oat<br>soda<br>sugar<br>vanilla"
          ],
          [
           "celery stalk<br>chicken<br>flour<br>oil<br>onion<br>oregano<br>pepper<br>plum tomato<br>pork<br>potato<br>thyme"
          ],
          [
           "bok choy<br>chicken<br>fish sauce<br>garlic<br>oil<br>onion<br>pepper<br>pork"
          ],
          [
           "blackstrap molasse<br>garlic<br>hoisin sauce<br>juice lime<br>pepper<br>pork<br>sesame seed<br>soy sauce"
          ],
          [
           "coconut<br>garlic<br>ginger<br>kale leave<br>milk<br>pepper<br>spicy shrimp paste<br>tuna"
          ],
          [
           "cabbage<br>calabaza squash<br>corn<br>fish sauce<br>onion<br>pork<br>potato"
          ],
          [
           "banana<br>garlic<br>juice lemon<br>pepper<br>pork<br>salt<br>soy sauce<br>sugar"
          ],
          [
           "bean<br>beef<br>corn<br>garlic<br>oil<br>onion<br>pepper<br>salt<br>sausage<br>tomato sauce"
          ],
          [
           "carrot<br>chicken<br>egg<br>light soy sauce<br>mushroom<br>oil<br>onion<br>oyster sauce<br>pepper<br>snow<br>spinach"
          ],
          [
           "course sea salt<br>garlic<br>ginger<br>lemon juice<br>oil<br>onion<br>pepper<br>plum tomato<br>scallion<br>tilapia"
          ],
          [
           "beef<br>broccoli floret<br>corn<br>egg<br>garlic<br>ginger<br>light soy sauce<br>oil<br>oyster sauce<br>pepper<br>sherry wine<br>sugar"
          ],
          [
           "butter leaf lettuce<br>carrot<br>chicken<br>ginger<br>oil<br>scallion<br>sesame seeds<br>teriyaki sauce"
          ],
          [
           "bay<br>chicken<br>corn<br>flour<br>garlic<br>oil<br>onion<br>salt<br>soy sauce<br>vinegar"
          ],
          [
           "corn<br>ginger<br>hoisin sauce<br>oil<br>pepper<br>salt<br>scallion<br>sesame oil<br>sirloin<br>soy sauce<br>sriracha sauce<br>sugar<br>vinegar<br>wine"
          ],
          [
           "beef<br>oil<br>onion<br>pea<br>pepper<br>pork<br>tomato sauce"
          ],
          [
           "breadcrumb<br>carrot<br>egg<br>garlic<br>oil<br>onion<br>pepper<br>pork"
          ],
          [
           "carrot<br>chicken<br>egg<br>flour<br>garlic<br>miki noodle<br>oil<br>onion<br>pepper<br>pork<br>sausage<br>savoy cabbage<br>scallion"
          ],
          [
           "annatto<br>beef<br>cabbage<br>egg<br>flour<br>oil<br>pepper<br>pork<br>scallion<br>shrimp<br>tinapa"
          ],
          [
           "chicken<br>egg<br>garlic<br>margarine<br>mayonnaise<br>onion<br>pepper<br>pork"
          ],
          [
           "butternut squash<br>coconut<br>crab<br>fish sauce<br>ginger<br>malunggay<br>onion<br>pepper<br>shrimp"
          ],
          [
           "bay<br>beef<br>cane<br>corn<br>egg<br>garlic<br>oyster sauce<br>pork<br>salt<br>soy sauce<br>sugar"
          ],
          [
           "cane<br>eggplant<br>onion<br>pepper<br>plum tomato<br>salt<br>shrimp<br>sugar"
          ],
          [
           "beef<br>cheese<br>garlic<br>luncheon meat<br>oil<br>onion<br>pepper<br>pork<br>spaghetti noodle<br>spaghetti sauce"
          ],
          [
           "bok choy<br>cabbage<br>chicken<br>garlic<br>oil<br>onion<br>oyster sauce<br>pancit noodle<br>pepper<br>shrimp"
          ],
          [
           "daikon<br>fish sauce<br>okra<br>onion<br>pepper<br>plum tomato<br>shrimp shell<br>spinach<br>tamarind"
          ],
          [
           "beef<br>carrot<br>chorizo bilbao<br>egg<br>flank steak<br>flour<br>oil<br>pepper<br>pickle<br>soy sauce<br>steak marinade"
          ],
          [
           "bay<br>beef<br>meatball<br>oil<br>salt<br>soy sauce<br>sugar<br>vinegar"
          ],
          [
           "breadcrumb<br>egg<br>garlic<br>oil<br>onion<br>pepper<br>sea salt<br>tilapia"
          ],
          [
           "fish sauce<br>guava<br>milkfish<br>okra<br>onion<br>pepper<br>spinach<br>tomato"
          ],
          [
           "butter<br>carrot<br>garlic<br>onion<br>pea<br>rice<br>salt<br>shrimp"
          ],
          [
           "banana<br>beef<br>bok choy<br>chickpeas<br>fish sauce<br>oil<br>onion<br>ox tripe<br>pepper<br>potato<br>sausage<br>tomato sauce"
          ],
          [
           "banana<br>bean<br>beef<br>bok choy<br>corn<br>fish sauce<br>napa cabbage<br>onion<br>potato"
          ],
          [
           "bay<br>beef<br>carrot<br>garlic<br>onion<br>pepper<br>pork<br>potato<br>salt<br>sugar<br>tomato sauce"
          ],
          [
           "beef<br>bread crumb<br>egg<br>fish sauce<br>misua noodle<br>oil<br>onion<br>patola<br>pepper<br>pork<br>salt<br>spring onion<br>tomato sauce"
          ],
          [
           "beef<br>breadcrumb<br>butter<br>flour<br>garlic<br>mushroom<br>mustard<br>oil<br>onion<br>pepper<br>salt"
          ],
          [
           "banana<br>corn<br>egg<br>oil<br>pepper<br>pork<br>rice<br>salt<br>sugar<br>vinegar"
          ],
          [
           "garlic<br>olive oil<br>oregano<br>paprika<br>pepper<br>rosemary<br>sea salt<br>sirloin tip roast<br>thyme"
          ],
          [
           "canola<br>chili<br>corn<br>garlic<br>ginger<br>pepper<br>pork<br>sesame oil<br>sherry wine<br>soy sauce<br>sugar<br>vinegar<br>zucchini"
          ],
          [
           "bacon<br>butter<br>egg<br>milk<br>onion<br>pepper<br>sun tomato"
          ],
          [
           "beef<br>cabbage<br>carrot<br>garlic<br>leaf parsley<br>oil<br>onion<br>pepper<br>pork<br>soy sauce"
          ],
          [
           "chili<br>oil<br>onion<br>pepper<br>soy sauce<br>sugar<br>tofu<br>tuna<br>vinegar"
          ],
          [
           "cane<br>corn<br>garlic<br>oil<br>onion<br>pepper<br>pork<br>salt<br>soy sauce<br>sugar"
          ],
          [
           "cedar plank<br>garlic<br>olive oil<br>onion<br>pepper<br>salmon<br>sea salt"
          ],
          [
           "buttermilk<br>chive<br>cream<br>dill<br>garlic<br>mayonnaise<br>pepper<br>salt<br>sriracha sauce<br>vinegar"
          ],
          [
           "banana<br>canola oil<br>chicken<br>corn<br>garlic<br>ginger<br>honey<br>pepper<br>scallion<br>sea salt<br>sesame oil<br>sesame seed<br>sherry wine"
          ],
          [
           "chicken<br>egg<br>fish sauce<br>leaf parsley<br>oil<br>onion<br>pepper<br>plum tomato<br>scallion"
          ],
          [
           "bread crumb<br>chicken<br>corn<br>egg<br>garlic<br>oil<br>onion<br>pepper<br>salt<br>sherry wine<br>soy sauce"
          ],
          [
           "chicken<br>corn<br>garlic<br>ginger<br>malunggay<br>mussel<br>oil<br>onion<br>pepper"
          ],
          [
           "beef<br>eggplant<br>garlic<br>oil<br>onion<br>pepper<br>plum tomato<br>pork<br>shrimp"
          ],
          [
           "bean<br>chicken<br>corn<br>fish<br>garlic<br>ginger<br>oil<br>onion<br>pepper<br>salt<br>sesame oil<br>sherry wine<br>sugar"
          ],
          [
           "chicken<br>corn<br>oil<br>oyster sauce<br>pepper<br>salt<br>sherry wine"
          ],
          [
           "bean<br>fish sauce<br>malunggay<br>oil<br>onion<br>pepper<br>plum tomato<br>tuyo"
          ],
          [
           "beef<br>corn<br>garlic<br>kangkong<br>oil<br>oyster sauce<br>pepper<br>sesame seed"
          ],
          [
           "bread crumb<br>chicken<br>egg<br>garlic<br>lumpia<br>oil<br>onion<br>pepper<br>salt"
          ],
          [
           "beef<br>corn<br>light soy sauce<br>oil<br>onion<br>oyster sauce<br>pepper<br>salt"
          ],
          [
           "bacon<br>cheese<br>egg<br>garlic<br>mussel<br>onion<br>parsley<br>pepper<br>pork<br>salt"
          ],
          [
           "bread crumb<br>carrot<br>cheese<br>chicken<br>egg<br>olive oil<br>onion<br>pepper<br>pickle<br>raisin<br>salt<br>tomato sauce"
          ],
          [
           "bean<br>bilimbi<br>fish<br>fish sauce<br>kangkong<br>miso<br>okra<br>onion<br>pepper<br>tomato"
          ],
          [
           "banana<br>beef<br>bok choy<br>corn<br>fish sauce<br>onion<br>pork<br>potato"
          ],
          [
           "beef<br>carrot<br>garlic<br>oil<br>onion<br>pea<br>pepper<br>pork<br>quail egg<br>raisin<br>tomato sauce"
          ],
          [
           "celery<br>cream<br>macaroni<br>mayonnaise<br>mustard<br>onion<br>parsley<br>pepper<br>relish<br>sugar"
          ],
          [
           "broccoli floret<br>corn<br>flank steak<br>garlic<br>ginger<br>light soy sauce<br>oil<br>onion<br>oyster sauce<br>pepper<br>sherry wine<br>sugar"
          ],
          [
           "bean<br>fish sauce<br>garlic<br>oil<br>onion<br>pepper<br>plum tomato<br>pork"
          ],
          [
           "bean<br>eggplant<br>fish sauce<br>gabi<br>kamia<br>kangkong<br>okra<br>onion<br>pepper<br>plum tomato<br>pork"
          ],
          [
           "annatto<br>bagoong<br>banana<br>bean<br>beef<br>boo choy<br>eggplant<br>onion<br>ox tripe<br>peanut<br>peanut butter<br>rice flour<br>vegetable"
          ],
          [
           "bay<br>chicken<br>corn<br>lemongrass<br>onion<br>pandan<br>sea salt"
          ],
          [
           "bay<br>corn<br>garlic<br>leg<br>lemongrass<br>milk<br>onion<br>pig leg<br>salt"
          ],
          [
           "buttermilk<br>chilie<br>fish sauce<br>ginger<br>goat meat<br>leek<br>onion<br>tamarind"
          ],
          [
           "chilie<br>coconut<br>ginger<br>onion<br>pork<br>shrimp<br>taro"
          ],
          [
           "beef<br>butter<br>cheese<br>flour<br>lasagne<br>milk<br>oil<br>onion<br>pepper<br>spinach<br>tomato"
          ],
          [
           "beef<br>buttermilk<br>carrot<br>goat meat<br>liver<br>oil<br>onion<br>pepper<br>potato"
          ],
          [
           "fish sauce<br>malunggay<br>oil<br>onion<br>papaya<br>parsley<br>pepper"
          ],
          [
           "crab<br>fish sauce<br>ginger<br>misua noodle<br>oil<br>onion<br>patola<br>pepper"
          ],
          [
           "bacon<br>boiler<br>butter<br>egg<br>english muffin<br>hollandaise sauce<br>lemon<br>pepper"
          ],
          [
           "canola oil<br>corn<br>light soy sauce<br>onion<br>oyster sauce<br>pepper<br>sirloin<br>snow peas"
          ],
          [
           "banana<br>butter<br>garlic<br>onion<br>pepper<br>sherry wine<br>sriracha sauce"
          ],
          [
           "chilie<br>cucumber<br>onion<br>pepper<br>pork<br>salt<br>sugar<br>vinegar"
          ],
          [
           "bok choy<br>chicken<br>oil<br>onion<br>pepper<br>shrimp<br>tomato"
          ],
          [
           "fish<br>fish sauce<br>garlic<br>oil<br>onion<br>pepper<br>tomato"
          ],
          [
           "chili<br>coconut<br>fish<br>fish sauce<br>ginger<br>malunggay<br>oil<br>onion<br>papaya<br>pepper"
          ],
          [
           "beef<br>chili<br>fish sauce<br>gabi<br>kangkong<br>oil<br>okra<br>onion<br>pork<br>sampaloc<br>tomato"
          ],
          [
           "canola oil<br>cinnamon<br>egg<br>flour<br>nutmeg<br>pumpkin<br>soda<br>sugar"
          ],
          [
           "butter<br>egg<br>garlic<br>onion<br>pepper<br>salt<br>tomato"
          ],
          [
           "basil<br>cheese<br>garlic<br>olive oil<br>pepper<br>spaghetti noodle<br>tuyo"
          ],
          [
           "flour<br>garlic<br>oil<br>paprika<br>pepper<br>pork<br>sea salt"
          ],
          [
           "egg<br>garlic<br>oil<br>onion<br>pea<br>rice<br>salt"
          ],
          [
           "cabbage<br>carrot<br>chicken<br>garlic<br>leaf parsley<br>oil<br>onion<br>pea<br>pepper<br>pork<br>sausage<br>sotanghon noodle<br>soy sauce"
          ],
          [
           "annatto<br>chicken<br>ginger<br>juice lemon<br>lemon juice<br>margarine<br>pepper<br>salt<br>sugar<br>turmeric<br>up<br>vinegar"
          ],
          [
           "fish sauce<br>garlic<br>oil<br>onion<br>pepper<br>squid<br>tomato"
          ],
          [
           "butter<br>cabbage<br>carrot<br>celery<br>chicken<br>macaroni<br>milk<br>onion<br>pepper"
          ],
          [
           "bangus<br>fish sauce<br>ginger<br>malunggay<br>oil<br>onion<br>pepper"
          ],
          [
           "belly milkfish<br>juice lemon<br>leaf parsley<br>oil<br>onion<br>pepper<br>soy sauce"
          ],
          [
           "chicken<br>corn<br>ginger<br>mushroom<br>oil<br>onion<br>oyster sauce<br>sherry wine<br>tausi<br>tofu"
          ],
          [
           "consomme<br>garlic<br>onion<br>pepper<br>pork<br>shiitake mushroom<br>sugar"
          ],
          [
           "beef<br>carrot<br>celery stalk<br>cheese<br>garlic<br>hoagie roll<br>oil<br>onion<br>oregano<br>pepper<br>potato<br>tomato paste<br>worcestershire sauce"
          ],
          [
           "butter<br>canola oil<br>cashew<br>cocoa<br>egg<br>flour<br>sea salt<br>sugar<br>vanilla"
          ],
          [
           "bay<br>chili<br>corn<br>garlic<br>ginger<br>mayonnaise<br>onion<br>pepper<br>pig ear<br>pig face<br>pig liver"
          ],
          [
           "chicken<br>corn<br>egg<br>flour<br>oil<br>onion<br>orange juice<br>salt<br>soy sauce<br>sugar<br>vinegar"
          ],
          [
           "butter<br>cheese<br>garlic<br>olive oil<br>oregano<br>pepper<br>spaghetti noodle"
          ],
          [
           "bagoong<br>bean<br>fish flake<br>garlic<br>oil<br>onion<br>pepper<br>spinach<br>tomato"
          ],
          [
           "bacon<br>broccoli<br>cashews<br>cheese<br>mayonnaise<br>onion<br>pepper<br>salt<br>sugar<br>vinegar"
          ],
          [
           "garlic<br>onion<br>pepper<br>pork<br>sea salt<br>sriracha sauce<br>sugar<br>tomato paste<br>vinegar"
          ],
          [
           "juice lime<br>oil<br>onion<br>pepper<br>pork<br>soy sauce<br>sugar"
          ],
          [
           "ampalaya<br>cane<br>chili<br>corn<br>eggplant<br>ginger<br>onion"
          ],
          [
           "butter<br>cocoa<br>egg<br>flour<br>salt<br>sugar<br>vanilla"
          ],
          [
           "banana<br>bay<br>carrot<br>oil<br>pepper<br>pork<br>salt<br>soy sauce<br>sugar<br>vinegar"
          ],
          [
           "cheese<br>egg<br>hash brown<br>milk<br>pepper<br>pork<br>salt"
          ],
          [
           "canola oil<br>dark soy sauce<br>dijon mustard<br>garlic<br>juice lemon<br>paprika<br>pepper<br>vinegar<br>worcestershire sauce"
          ],
          [
           "beef<br>garlic<br>ginger<br>light soy sauce<br>olive oil<br>onion<br>pepper<br>sesame oil<br>sugar<br>vinegar"
          ],
          [
           "bacon<br>cheese<br>egg<br>milk<br>onion<br>pepper<br>salt"
          ],
          [
           "banana<br>canola oil<br>egg<br>gluten almond<br>gluten flour<br>salt<br>soda<br>sugar<br>vanilla"
          ],
          [
           "bread crumb<br>cheese<br>chicken<br>egg<br>flour<br>garlic<br>marinara sauce<br>mozzarella<br>oil<br>pepper<br>sea salt<br>seasoning<br>spaghetti noodle"
          ],
          [
           "chicken<br>garlic<br>oil<br>pepper<br>salt<br>soy sauce<br>spice<br>star anise<br>sugar"
          ],
          [
           "cabbage<br>carrot<br>lemon<br>oil<br>olive oil<br>onion<br>pepper<br>pork<br>soy sauce<br>squid"
          ],
          [
           "broccoli stem<br>carrot<br>olive oil<br>pancit<br>purple<br>salt<br>sesame oil"
          ],
          [
           "beef<br>iceberg lettuce<br>kaiser<br>mayonnaise<br>oil<br>pepper<br>sesame oil<br>tuna<br>wasabi mayonnaise"
          ],
          [
           "beef<br>chicharon<br>egg<br>garlic<br>ginger<br>intestine<br>oil<br>onion<br>ox tripe<br>pepper<br>rice"
          ],
          [
           "almond extract<br>butter<br>egg<br>flour<br>milk<br>pecan chip<br>potato<br>salt<br>sugar<br>vanilla"
          ],
          [
           "chili<br>garlic<br>ginger<br>juice lemon<br>pepper<br>salt<br>sugar"
          ],
          [
           "beef<br>oil<br>onion<br>pea<br>pepper<br>pork<br>potato<br>sugar<br>tomato sauce"
          ],
          [
           "bean<br>cheese<br>chicken<br>cream<br>cumin<br>enchilada sauce<br>flour tortilla"
          ],
          [
           "bread crumb<br>garlic<br>lemon juice<br>mint<br>mussel<br>olive oil<br>onion<br>parsley<br>plum tomato<br>tomato paste"
          ],
          [
           "coconut<br>fish sauce<br>garlic<br>jackfruit<br>oil<br>onion<br>pepper<br>pork"
          ],
          [
           "chicken<br>egg<br>garlic<br>mirin<br>rice<br>sesame seed<br>soy sauce<br>sugar"
          ],
          [
           "bread crumb<br>carrot<br>egg<br>garlic<br>onion<br>paprika<br>pepper<br>pork<br>salt"
          ],
          [
           "carrot<br>cheese<br>egg<br>garlic<br>olive oil<br>onion<br>pepper<br>pickle<br>raisin<br>salt<br>tomato sauce<br>turkey"
          ],
          [
           "butter<br>carrot<br>celery stalk<br>chicken<br>egg<br>garlic<br>leaf parsley<br>onion<br>pepper<br>thyme"
          ],
          [
           "butter<br>chicken<br>egg<br>garlic<br>olive oil<br>pea<br>rice<br>salt"
          ],
          [
           "basil<br>beef<br>carrot<br>garlic<br>olive oil<br>onion<br>oregano<br>pepper<br>salt<br>spaghetti noodle<br>thyme<br>tomato paste<br>tomato puree"
          ],
          [
           "chicken<br>garlic<br>lemon juice<br>olive oil<br>pepper<br>rosemary<br>salt<br>vegetable"
          ],
          [
           "chili flake<br>dark soy sauce<br>garlic<br>lemon<br>lemon lime soda<br>pepper<br>salt"
          ],
          [
           "cabbage<br>carrot<br>chicken<br>oil<br>pancit bato<br>pea<br>pepper<br>pork"
          ],
          [
           "carrot<br>crab meat<br>egg<br>oil<br>onion<br>pepper<br>pork<br>salt<br>sesame oil<br>ton"
          ],
          [
           "butter<br>chocolate chip<br>egg<br>flour<br>salt<br>soda<br>sugar<br>vanilla"
          ],
          [
           "cinnamon<br>garlic<br>ginger<br>ice<br>pepper<br>ribeye<br>sea salt<br>sugar"
          ],
          [
           "coconut<br>fish sauce<br>garlic<br>ginger<br>oil<br>onion<br>pepper<br>sea snail<br>shrimp<br>spinach"
          ],
          [
           "garlic<br>misua noodle<br>oil<br>onion<br>patola<br>pepper<br>sardine tomato sauce"
          ],
          [
           "calamari<br>flour<br>garlic<br>lemon<br>oil<br>parsley flake<br>salt"
          ],
          [
           "carrot<br>corn<br>dark soy sauce<br>flour<br>mahi mahi<br>oil<br>onion<br>pepper<br>sugar<br>tomato ketchup<br>vinegar"
          ],
          [
           "calf knuckle bone<br>cardamom pod<br>cilantro<br>cinnamon<br>clove<br>coriander seed<br>fennel seed<br>fish sauce<br>ginger<br>hoisin sauce<br>lime<br>onion<br>pepper<br>rice noodle<br>shank bone marrow<br>sirloin<br>sriracha sauce<br>star anise"
          ],
          [
           "chicken<br>garlic<br>ginger<br>jasmin rice<br>lemon<br>oil<br>onion<br>pepper<br>saffron<br>scallion"
          ],
          [
           "bay<br>beef<br>carrot<br>garlic<br>ginger<br>oil<br>onion<br>pea<br>pepper<br>pig liver<br>pork<br>potato<br>raisin<br>tomato sauce"
          ],
          [
           "chicken<br>egg<br>eggplant<br>garlic<br>oil<br>onion<br>pepper"
          ],
          [
           "clam<br>clam juice<br>garlic<br>linguine<br>olive oil<br>onion<br>pepper<br>salt<br>scallion<br>wine"
          ],
          [
           "beef<br>chili<br>fish sauce<br>gabi<br>kangkong<br>oil<br>okra<br>onion<br>pork<br>sampaloc<br>tomato"
          ],
          [
           "oil<br>onion<br>pea<br>pepper<br>pork<br>potato<br>tomato<br>tomato sauce"
          ],
          [
           "bread crumb<br>cheese<br>chicken<br>egg<br>marinara sauce<br>milk<br>olive oil"
          ],
          [
           "broccoli floret<br>cheese<br>olive oil<br>rotini pasta<br>seasoning<br>spaghetti sauce<br>tomato"
          ],
          [
           "chili<br>chive<br>med onion<br>olive oil<br>pepper<br>pita bread<br>salt<br>vinegar<br>yogurt"
          ],
          [
           "avocado<br>cilantro<br>garlic<br>juice lime<br>onion<br>pepper<br>plum tomato<br>salt"
          ],
          [
           "bay<br>corn<br>dark soy sauce<br>garlic<br>scad<br>sea salt<br>vinegar"
          ],
          [
           "butter<br>buttermilk<br>egg<br>salt<br>soda<br>sugar<br>wheat flour"
          ],
          [
           "beef<br>butter<br>cheese<br>cream<br>noodle<br>pepper<br>salt<br>scallion<br>tomato sauce"
          ],
          [
           "carrot<br>chicken<br>milk<br>noodle<br>onion<br>parsley<br>pepper"
          ],
          [
           "beef<br>cucumber<br>grain bread<br>lettuce<br>mayonnaise<br>pepper<br>rosemary<br>tomato"
          ],
          [
           "cheese<br>egg<br>olive oil<br>onion<br>pepper<br>salt<br>scallion<br>tomato"
          ],
          [
           "kangkong<br>liempo<br>onion<br>patis<br>pepper<br>tamarind<br>tap<br>taro root<br>tomato"
          ],
          [
           "blueberry<br>canola oil<br>egg<br>flour<br>milk<br>salt<br>sugar"
          ],
          [
           "chicken<br>corn<br>malunggay<br>oil<br>onion<br>pepper<br>plum tomato"
          ],
          [
           "bread crumb<br>cheese<br>garlic<br>halibut<br>lemon<br>olive oil<br>parsley flake"
          ],
          [
           "bottle gourd<br>egg<br>garlic<br>oil<br>onion<br>pepper<br>shrimp<br>wonton"
          ],
          [
           "fish sauce<br>game hen<br>garlic<br>nutmeg<br>oil<br>pepper<br>soy sauce<br>sugar<br>wine"
          ],
          [
           "anchovy<br>bean<br>fish sauce<br>garlic<br>malunggay<br>oil<br>onion<br>pepper<br>plum tomato"
          ],
          [
           "bean<br>lemongrass<br>onion<br>pepper<br>pork<br>rice washing<br>taro root"
          ],
          [
           "bean<br>oil<br>onion<br>pepper<br>soy sauce<br>tofu<br>vinegar"
          ],
          [
           "banana<br>chicken<br>fish sauce<br>malunggay<br>oil<br>onion<br>pepper<br>salt"
          ],
          [
           "banana<br>lemon<br>oil<br>pepper<br>pork<br>salt<br>soy sauce<br>sugar"
          ],
          [
           "banana<br>cabbage<br>corn<br>oil<br>onion<br>pork<br>potato<br>salt"
          ],
          [
           "chicken<br>coconut<br>ginger<br>oil<br>onion<br>pea<br>pepper<br>potato<br>salt<br>tomato"
          ],
          [
           "chili<br>coconut<br>fish sauce<br>garlic<br>ginger<br>onion<br>pepper<br>salmon<br>vinegar"
          ],
          [
           "chicken<br>chorizo bilbao<br>coconut<br>egg<br>jasmine rice<br>olive oil<br>onion<br>paprika<br>pea<br>pepper<br>raisin<br>rice<br>saffron<br>tomato<br>tomato paste"
          ],
          [
           "butter<br>carrot<br>celery rib<br>chicken<br>egg<br>ham<br>milk<br>onion<br>pepper<br>potato<br>thyme"
          ],
          [
           "bell<br>breadcrumb<br>cheese<br>egg<br>flour<br>marinara sauce<br>oil<br>olive oil<br>oregano<br>pepper<br>salt"
          ],
          [
           "beef<br>carrot<br>egg<br>garlic<br>oil<br>onion<br>pepper<br>savoy cabbage<br>star anise"
          ],
          [
           "basil<br>cheese<br>chicken<br>egg<br>lemon peel<br>olive oil<br>pancetta<br>parsley<br>pepper<br>spaghetti noodle<br>whipping cream"
          ],
          [
           "chestnut<br>chicken<br>garlic<br>ginger<br>hoisin sauce<br>iceberg<br>oil<br>onion<br>orange juice<br>pepper<br>shiitake mushroom"
          ],
          [
           "beef<br>coconut<br>ginger<br>oil<br>onion<br>pepper<br>shrimp"
          ],
          [
           "beef<br>corn<br>garlic<br>oil<br>onion<br>pepper<br>salt<br>soy sauce<br>wine"
          ],
          [
           "banana<br>butter<br>egg<br>flour<br>salt<br>soda<br>sugar<br>vanilla"
          ],
          [
           "carrot<br>chicken<br>egg<br>garlic<br>mushroom<br>olive oil<br>onion<br>pepper<br>salt<br>sesame oil<br>shrimp<br>wonton"
          ],
          [
           "bay<br>beef<br>corn<br>oil<br>soy sauce<br>sugar<br>vinegar"
          ],
          [
           "bread crumb<br>buttermilk<br>egg<br>flour<br>garlic<br>oil<br>pepper<br>pork<br>salt"
          ],
          [
           "dahon laurel<br>oil<br>pepper<br>sibuyas<br>sugar<br>sukang puti<br>tomato<br>toyo"
          ],
          [
           "butter<br>chicken<br>egg<br>garlic<br>mayonnaise<br>oil<br>onion<br>pepper<br>soy sauce"
          ],
          [
           "chicken<br>garlic<br>ginger<br>oil<br>onion<br>patis<br>rice<br>tofu"
          ],
          [
           "beef<br>corn<br>cumin<br>garlic<br>ginger<br>honey<br>oil<br>pepper<br>scallion<br>sesame oil<br>soy sauce<br>vinegar"
          ],
          [
           "cabbage<br>carrot<br>chicken<br>fish sauce<br>garlic<br>oil<br>onion<br>pancit bato<br>pea<br>pepper<br>pork<br>shrimp<br>soy sauce"
          ],
          [
           "celery<br>dijon mustard<br>dill<br>egg<br>light mayonnaise<br>onion<br>pepper<br>sugar"
          ],
          [
           "bacon<br>bread<br>dijon mustard<br>leaf lettuce<br>mayonnaise<br>side avocado<br>tomato"
          ],
          [
           "apple<br>apple juice<br>beef<br>oil<br>onion<br>pepper<br>pork<br>rosemary<br>thyme"
          ],
          [
           "chicken<br>egg<br>flour<br>garlic<br>light mayonnaise<br>oil<br>pea<br>pickle<br>potato<br>scallion"
          ],
          [
           "canola oil<br>corn<br>dark soy sauce<br>oyster sauce<br>pepper<br>pork<br>salt<br>scallion<br>wine"
          ],
          [
           "basil<br>bread crumb<br>cheese<br>egg<br>flour<br>olive oil<br>oregano<br>pepper<br>pork<br>salt<br>seasoning<br>tomato"
          ],
          [
           "light soy sauce<br>onion<br>pepper<br>porterhouse steak<br>salt<br>sesame oil<br>sesame seed<br>sugar<br>tofu<br>vinegar"
          ],
          [
           "bean<br>beef<br>bok choy<br>flank steak<br>oil<br>onion<br>pepper<br>soy sauce<br>sugar<br>tomato"
          ],
          [
           "beef<br>bok choy<br>chili<br>garlic<br>ginger<br>noodle<br>oil<br>pepper<br>scallion<br>soy sauce<br>star anise<br>sugar<br>wine"
          ],
          [
           "chicken<br>corn<br>garlic<br>jicama<br>oil<br>onion<br>pepper<br>vegetable<br>wine"
          ],
          [
           "ap<br>butter<br>cheese<br>egg<br>graham cracker crumbs<br>milk<br>sugar<br>vanilla<br>zest juice lemon"
          ],
          [
           "bay<br>carrot<br>chicken<br>garlic<br>oil<br>onion<br>pea<br>pepper<br>potato<br>tomato sauce"
          ],
          [
           "clove<br>lamb<br>olive oil<br>pepper<br>rosemary<br>salt<br>thyme"
          ],
          [
           "egg<br>fish sauce<br>garlic<br>oil<br>onion<br>parsley flake<br>pepper<br>tofu<br>tomato"
          ],
          [
           "garlic<br>ginger<br>oil<br>onion<br>pepper<br>pork<br>soy sauce<br>sugar"
          ],
          [
           "basil<br>leaf parsley<br>lemon juice<br>olive oil<br>onion<br>pepper<br>tomato<br>vinegar"
          ],
          [
           "oil<br>onion<br>pepper<br>pork<br>salt<br>soy sauce<br>sugar<br>tofu<br>vinegar"
          ],
          [
           "beef<br>bread crumb<br>egg<br>milk<br>mustard<br>olive oil<br>onion<br>pepper<br>pork<br>salt<br>sugar<br>tomato ketchup<br>worcestershire sauce"
          ],
          [
           "coconut<br>fish sauce<br>garlic<br>malunggay<br>oil<br>onion<br>pepper<br>squid"
          ],
          [
           "bean<br>chicken<br>garlic<br>ginger<br>light soy sauce<br>oil<br>onion<br>pepper<br>scallion<br>sesame oil<br>sesame seed<br>sugar<br>wine"
          ],
          [
           "french onion<br>lemon juice<br>oil<br>onion<br>parsley flake<br>pepper<br>tuna"
          ],
          [
           "beef<br>oil<br>onion<br>pepper<br>pork<br>spaghetti<br>sugar<br>tomato paste<br>tomato sauce"
          ],
          [
           "chicken<br>garlic<br>oil<br>onion<br>pepper<br>rice noodle<br>scallion"
          ],
          [
           "egg<br>oil<br>onion<br>pepper<br>salt<br>tuna<br>zucchini"
          ],
          [
           "bacon<br>cane<br>chicken<br>collard green<br>garlic<br>molasse<br>oil<br>onion<br>pepper<br>salt"
          ],
          [
           "bay<br>bok choy<br>garlic<br>oil<br>pepper<br>soy sauce<br>sugar<br>vinegar"
          ],
          [
           "butter<br>chicken<br>corn<br>ginger<br>lemon<br>pepper<br>salt<br>sesame oil<br>soy sauce<br>sugar"
          ],
          [
           "banana<br>brine salt<br>fish sauce<br>garlic<br>oil<br>onion<br>pepper<br>vegetable broth<br>vinegar"
          ],
          [
           "butter<br>honey<br>mahi mahi<br>mustard<br>pepper<br>sea salt<br>vinegar"
          ],
          [
           "chili<br>cilantro<br>cream<br>cumin<br>flour tortilla<br>garlic<br>lemon juice<br>oil<br>pepper<br>salt<br>sauce<br>shrimp<br>tomato"
          ],
          [
           "beef<br>chayote<br>fish sauce<br>oil<br>onion<br>pepper<br>pork<br>rice washing<br>spinach"
          ],
          [
           "bean<br>cabbage<br>carrot<br>egg<br>garlic<br>ginger<br>oil<br>onion<br>pepper<br>sesame oil<br>soy sauce<br>spring roll"
          ],
          [
           "basil<br>beef<br>chili flake<br>fish sauce<br>garlic<br>olive oil<br>pepper<br>sugar"
          ],
          [
           "garlic<br>ginger<br>hoisin sauce<br>lemon juice<br>olive oil<br>salmon<br>sodium soy sauce<br>sriracha sauce"
          ],
          [
           "bangus<br>fish sauce<br>garlic<br>oil<br>onion<br>pepper<br>sea salt<br>sinigang sampaloc<br>spinach<br>tomato"
          ],
          [
           "beef<br>broccoli<br>corn<br>garlic<br>oil<br>oyster sauce<br>pepper<br>soy sauce<br>sugar"
          ],
          [
           "barbecue sauce<br>chicken<br>pepper<br>sub sandwich bread<br>sugar<br>vinegar<br>worcestershire sauce"
          ],
          [
           "ap<br>butter<br>buttermilk<br>corn<br>egg<br>salt<br>soda<br>sugar"
          ],
          [
           "bean<br>chicken<br>garlic<br>oil<br>onion<br>oyster sauce<br>pepper<br>soy sauce"
          ],
          [
           "bay<br>fish sauce<br>garlic<br>oil<br>onion<br>pepper<br>spinach<br>zucchini"
          ],
          [
           "beef<br>bread crumb<br>egg<br>flour<br>kaiser roll<br>oil<br>pepper<br>pound mahi mahi<br>romaine lettuce<br>tartar sauce"
          ],
          [
           "chili<br>dark soy sauce<br>garlic<br>juice lemon<br>pepper<br>pico gallo<br>rib<br>tomato ketchup<br>worcestershire sauce"
          ],
          [
           "almond<br>celery stalk<br>cream<br>mayonnaise<br>onion<br>pepper<br>pickle<br>potato<br>sunflower seed"
          ],
          [
           "beef<br>corn<br>egg<br>fish sauce<br>garlic<br>miki noodle<br>oil<br>onion<br>pepper<br>pork<br>soy sauce"
          ],
          [
           "chicken<br>chili<br>flour tortilla<br>garlic<br>guacamole<br>paprika<br>pepper<br>pico gallo<br>salt"
          ],
          [
           "butter<br>button mushroom<br>flour<br>olive oil<br>pepper<br>tofu<br>vegetable broth"
          ],
          [
           "ap<br>butter<br>cheese<br>cherry<br>egg<br>milk<br>salt<br>sugar<br>walnut"
          ],
          [
           "canned tausi<br>corn<br>garlic<br>leaf parsley<br>oil<br>onion<br>oyster sauce<br>pepper<br>soy sauce<br>tilapia"
          ],
          [
           "annatto<br>cabbage<br>carrot<br>celery stalk<br>garlic<br>leaf parsley<br>olive oil<br>onion<br>pepper<br>vegetable broth<br>vermicelli noodle"
          ],
          [
           "cheese<br>chicken<br>oil<br>onion<br>pepper<br>spaghetti noodle<br>sugar<br>tomato paste<br>tomato sauce"
          ],
          [
           "ap<br>butter<br>caper<br>cheese<br>chicken<br>juice lemon<br>olive oil<br>parsley flake<br>pepper"
          ],
          [
           "chayote<br>finger chili<br>fish sauce<br>ginger<br>malunggay<br>olive oil<br>onion<br>pepper<br>salmon"
          ],
          [
           "basil pesto<br>cheese<br>chicken<br>penne pasta<br>pepper<br>salt<br>sun tomato"
          ],
          [
           "bacon<br>dijon mustard<br>mayonnaise<br>olive oil<br>onion<br>parsley<br>pepper<br>potato<br>sea salt<br>worcestershire sauce"
          ],
          [
           "ap<br>beef<br>carrot<br>celery stalk<br>oil<br>onion<br>pepper<br>potato<br>salt<br>wine"
          ],
          [
           "ap<br>bacon<br>butter<br>cheese<br>milk<br>onion<br>worcestershire sauce"
          ],
          [
           "ap<br>butter<br>buttermilk<br>egg<br>milk<br>salt<br>soda<br>sugar"
          ],
          [
           "bean<br>carrot<br>corn<br>oil<br>onion<br>pepper<br>pork<br>salt<br>spice"
          ],
          [
           "fish sauce<br>miso paste<br>mustard<br>oil<br>okra<br>onion<br>pepper<br>sinigang<br>tilapia<br>tomato"
          ],
          [
           "bean<br>corn<br>garlic<br>leaf parsley<br>oil<br>onion<br>oyster sauce<br>pepper<br>pork"
          ],
          [
           "fish sauce<br>garlic<br>misua noodle<br>oil<br>onion<br>patola<br>pepper<br>shrimp bouillon<br>tomato sauce"
          ],
          [
           "banana<br>beef<br>bok choy<br>calabaza squash<br>fish sauce<br>garlic<br>oil<br>onion<br>pepper<br>pig leg<br>potato<br>tomato sauce"
          ],
          [
           "basil<br>chicken<br>chili flake<br>fish sauce<br>garlic<br>oil<br>pepper<br>sugar"
          ],
          [
           "broccoli<br>chicken<br>corn<br>egg<br>garlic<br>ginger<br>oil<br>onion<br>oyster sauce<br>pepper<br>soy sauce"
          ],
          [
           "bay<br>corn<br>garlic<br>mussel<br>oil<br>salt<br>soy sauce<br>vinegar"
          ],
          [
           "coconut<br>fish sauce<br>garlic<br>knob ginger<br>onion<br>pepper<br>scad"
          ],
          [
           "annatto<br>bean<br>bok choy<br>eggplant<br>fish sauce<br>oil<br>onion<br>peanut<br>peanut butter<br>pepper<br>pork<br>salt<br>shrimp"
          ],
          [
           "corn<br>lemon<br>oil<br>onion<br>pepper<br>sesame oil<br>sesame seeds<br>skirt steak<br>sodium soy sauce<br>sugar"
          ],
          [
           "garlic<br>ginger<br>oil<br>onion<br>salt<br>soy sauce<br>squid"
          ],
          [
           "bird chili<br>coconut<br>fish sauce<br>ginger<br>mussel<br>oil<br>onion<br>pepper<br>spinach"
          ],
          [
           "ap<br>corn<br>egg<br>fish sauce<br>oil<br>onion<br>pepper<br>salt<br>scallion<br>tilapia<br>tomato"
          ],
          [
           "ap<br>bread crumb<br>egg<br>pepper<br>salt<br>sauce<br>shrimp<br>vegetable oil"
          ],
          [
           "cinnamon<br>nutmeg<br>olive oil<br>oregano<br>pepper<br>pork<br>salt<br>sugar<br>thyme<br>wine"
          ],
          [
           "beef<br>dill pickle spear<br>mustard<br>onion<br>pepper<br>pickle<br>seed hotdog bun<br>tomato"
          ],
          [
           "banana<br>garlic<br>lemon juice<br>oil<br>pepper<br>pork<br>salt<br>soy sauce<br>sugar<br>worcestershire sauce"
          ],
          [
           "beef<br>fish sauce<br>misua<br>oil<br>onion<br>pepper<br>quail egg<br>zucchini"
          ],
          [
           "butter<br>cheese<br>chicken<br>cream<br>cream mushroom<br>mushroom<br>olive oil<br>pepper<br>rosemary<br>whipping cream"
          ],
          [
           "chicken<br>corn<br>egg<br>garlic<br>ginger<br>ingredient<br>oil<br>onion<br>pepper<br>sauce ingredient<br>scallion<br>sherry<br>soy sauce<br>sugar<br>vinegar"
          ],
          [
           "dijon mustard<br>garlic<br>mandarin<br>olive oil<br>pepper<br>spinach<br>strawberry<br>vinegar<br>walnut"
          ],
          [
           "butter<br>chicken<br>egg<br>flour<br>lemon juice<br>oil<br>pepper<br>salt<br>whipping cream<br>yolk egg"
          ],
          [
           "cabbage<br>carrot<br>cauliflower<br>corn<br>garlic<br>oil<br>onion<br>pepper<br>quail egg<br>sea scallop<br>snow peas<br>vegetable"
          ],
          [
           "ap<br>beef<br>oil<br>oyster sauce<br>pepper<br>pork<br>soy sauce<br>zucchini"
          ],
          [
           "ap<br>light soy sauce<br>oil<br>salmon<br>salt<br>sugar<br>worcestershire sauce"
          ],
          [
           "ap<br>beef<br>butter<br>cheese<br>garlic<br>marinara sauce<br>milk<br>oil<br>onion<br>pepper<br>spaghetti noodle"
          ],
          [
           "chicken<br>garlic<br>leaf parsley<br>lemon juice<br>olive oil<br>pepper<br>poultry seasoning<br>rosemary<br>salt<br>thyme"
          ],
          [
           "gourd<br>onion<br>pepper<br>roma tomato<br>salt<br>sugar<br>vinegar"
          ],
          [
           "bay<br>chili<br>corn<br>light soy sauce<br>oil<br>oyster sauce<br>pork<br>salt<br>sugar<br>vinegar"
          ],
          [
           "bread crumb<br>carrot<br>chicken<br>egg<br>ham<br>juice lemon<br>onion<br>pepper<br>pickle<br>pork<br>raisin<br>salt<br>sausage<br>soy sauce<br>vienna sausage"
          ],
          [
           "coconut<br>food<br>jackfruit<br>latik<br>milk<br>oil<br>rice flour<br>sugar<br>vanilla<br>violet food<br>yam"
          ],
          [
           "ap<br>bay<br>butter<br>cheese<br>garlic<br>leaf parsley<br>linguine<br>milk<br>mussel<br>olive oil<br>onion<br>shrimp<br>wine"
          ],
          [
           "calasparra rice<br>chicken<br>chorizo<br>garlic<br>juice clam mussel<br>leaf parsley<br>lemon<br>mussel<br>olive oil<br>onion<br>paprika<br>pepper<br>rabbit meat<br>saffron thread<br>shrimp<br>tomato"
          ],
          [
           "chicken<br>fish sauce<br>ginger<br>oil<br>onion<br>pepper<br>spinach"
          ],
          [
           "cheese<br>corn<br>half half<br>oil<br>onion<br>pepper<br>potato<br>prosciutto<br>salt"
          ],
          [
           "garlic<br>ginger<br>sake<br>salt<br>sugar<br>tomato ketchup<br>worcestershire sauce"
          ],
          [
           "celery stalk<br>chicken<br>leaf lettuce<br>lime juice<br>mayonnaise<br>pepper<br>tortilla wrap"
          ],
          [
           "bread crumb<br>cabbage<br>egg<br>flour<br>oil<br>pepper<br>pork"
          ],
          [
           "corn<br>crimini mushroom<br>garlic<br>light soy sauce<br>oil<br>onion<br>oyster sauce<br>parsley flake<br>pepper<br>sugar<br>tongue<br>worcestershire sauce"
          ],
          [
           "oil<br>onion<br>pepper<br>pineapple<br>pork<br>rosemary<br>salt<br>soy sauce<br>sugar"
          ],
          [
           "beef<br>butter<br>cheese<br>garlic<br>parsley<br>spaghetti noodle<br>whipping cream"
          ],
          [
           "light mayonnaise<br>lime<br>margarine<br>onion<br>pepper<br>pork<br>salt<br>sauce<br>soy sauce"
          ],
          [
           "carrot half<br>celery stalk<br>chicken<br>onion<br>pepper<br>rotini<br>salt"
          ],
          [
           "oil<br>oyster sauce<br>parsley flake<br>pea<br>pepper<br>salt<br>soy sauce"
          ],
          [
           "chili sauce<br>clove<br>drop sesame oil<br>fish sauce<br>hoisin sauce<br>knob ginger<br>leek<br>oil<br>sriracha hot sauce"
          ],
          [
           "basil<br>beef<br>egg<br>oil<br>pepper<br>roma tomato<br>salt"
          ],
          [
           "carne asada<br>cheese<br>cilantro lime rice<br>cream<br>flour tortilla<br>lime<br>pepper<br>pico gallo"
          ],
          [
           "banana<br>beef<br>bok choy<br>carrot<br>miki lucban<br>oil<br>onion<br>pea<br>pepper<br>pig liver<br>pork<br>soy sauce"
          ],
          [
           "bay<br>knob<br>oil<br>onion<br>pork<br>sugar<br>vinegar"
          ],
          [
           "beef<br>carrot<br>olive oil<br>onion<br>pepper<br>pork<br>thyme<br>wine"
          ],
          [
           "egg<br>garlic<br>longganisa<br>oil<br>rice<br>sea salt<br>soy sauce"
          ],
          [
           "butter<br>garlic<br>nutmeg<br>pepper<br>salt<br>spinach<br>whipping cream"
          ],
          [
           "bok choy<br>fish<br>fish sauce<br>ice<br>onion<br>pepper<br>salt<br>scallion<br>tapioca starch<br>vegetable broth"
          ],
          [
           "carrot<br>chicken<br>egg<br>garlic<br>oil<br>onion<br>parsley<br>pepper<br>salt<br>sesame oil<br>spring roll"
          ],
          [
           "calasparra rice<br>clam<br>clam juice<br>fish<br>garlic<br>mussel<br>olive oil<br>onion<br>paprika<br>parsley<br>pepper<br>salt<br>scallion<br>spanish saffron<br>tomato"
          ],
          [
           "garlic<br>ice<br>olive oil<br>pepper<br>pork<br>salt<br>sugar"
          ],
          [
           "cilantro<br>garlic<br>juice lemon<br>onion<br>pepper<br>salt<br>tomato"
          ],
          [
           "broccoli<br>carrot<br>ginger<br>hoisin sauce<br>oil<br>onion<br>oyster sauce<br>pepper<br>pineapple<br>pork<br>scallion<br>soy sauce"
          ],
          [
           "cilantro<br>cumin<br>garlic<br>lime juice<br>olive oil<br>pepper<br>salt<br>skirt steak<br>sugar"
          ],
          [
           "bread crumb<br>carrot<br>egg<br>onion<br>salmon<br>salt<br>soy sauce"
          ],
          [
           "carrot<br>celery heart<br>chicken<br>egg<br>onion<br>pepper<br>roast turkey"
          ],
          [
           "cinnamon<br>egg<br>flour<br>lime juice<br>nutmeg<br>pastry dough crust pie<br>peach<br>salt<br>sugar"
          ],
          [
           "anisette liquor<br>butter<br>ice<br>sage<br>salt<br>star anise<br>sugar<br>thyme<br>turkey<br>vinegar"
          ],
          [
           "bacon<br>butter<br>chicken<br>corn<br>garlic<br>onion<br>rosemary"
          ],
          [
           "butter<br>celery stalk<br>pepper<br>rosemary<br>sage<br>salt<br>thyme<br>turkey neck gizzard cavity"
          ],
          [
           "banana<br>barbecue sauce<br>beef<br>dark soy sauce<br>garlic<br>juice lime<br>pepper<br>salt<br>sugar<br>worcestershire sauce"
          ],
          [
           "chicken<br>dark soy sauce<br>egg<br>flour<br>garlic<br>lemon soda<br>oil<br>pepper<br>pineapple<br>salt"
          ],
          [
           "butter<br>cake flour<br>cheese<br>cocoa<br>egg<br>food<br>milk<br>salt<br>soda<br>sugar<br>vanilla<br>vinegar"
          ],
          [
           "beef<br>cheese<br>fettuccine pasta<br>marinara sauce<br>olive oil<br>onion<br>pepper<br>pork<br>seasoning"
          ],
          [
           "corn<br>egg<br>flour<br>garlic<br>mussel meat<br>oil<br>pepper<br>salt"
          ],
          [
           "carrot<br>chicken<br>garlic<br>ginger<br>oil<br>oyster sauce<br>pea<br>pepper<br>scallion<br>sesame oil<br>sodium soy sauce<br>sugar"
          ],
          [
           "bay<br>corn<br>flour<br>garlic<br>oil<br>pepper<br>sherry<br>sodium soy sauce<br>vinegar"
          ],
          [
           "apple<br>apple juice<br>butter<br>oil<br>onion<br>oregano<br>pepper<br>pork<br>rosemary<br>salt<br>sugar<br>thyme"
          ],
          [
           "butter<br>cocoa<br>cupcake<br>egg<br>flour<br>ghost candy<br>milk<br>salt<br>soda<br>sugar"
          ],
          [
           "canola oil<br>chicken<br>flour<br>lemon<br>pepper<br>salt<br>soy sauce<br>sugar"
          ],
          [
           "butter<br>cheese<br>chocolate chip<br>confectioner sugar<br>cream<br>dutch cocoa<br>egg<br>flour<br>sea salt<br>soda<br>sugar<br>vanilla"
          ],
          [
           "bacon<br>egg<br>garlic<br>light soy sauce<br>pea<br>rice<br>salt"
          ],
          [
           "bay<br>corn<br>egg<br>oil<br>oyster sauce<br>pork<br>sherry<br>soy sauce<br>sugar<br>vinegar"
          ],
          [
           "beef<br>bread crumb<br>butter<br>egg<br>garlic<br>gravy<br>milk<br>parsley<br>pepper<br>salt<br>vegetable"
          ],
          [
           "basil<br>garlic<br>hamburger bun<br>olive oil<br>onion<br>pepper<br>pork<br>salt"
          ],
          [
           "banana<br>beef<br>egg<br>garlic<br>hot rice<br>light soy sauce<br>onion<br>pea<br>pepper<br>pork<br>raisin<br>tomato<br>tomato paste<br>worcestershire sauce"
          ],
          [
           "celery<br>cheese<br>hamburger bun<br>mayonnaise<br>onion<br>pepper<br>pickle<br>sugar<br>tuna"
          ],
          [
           "chicken<br>garlic<br>lemon<br>olive oil<br>pepper<br>potato<br>rosemary<br>salt"
          ],
          [
           "butter<br>egg<br>flour<br>milk<br>pancake syrup<br>salt<br>sausage patty<br>sugar<br>vanilla"
          ],
          [
           "buttermilk<br>egg<br>flour<br>raisin<br>salt<br>soda<br>sugar<br>vanilla<br>vegetable oil<br>wheat bran"
          ],
          [
           "butter<br>cheese<br>garlic<br>lemon<br>olive oil<br>pepper<br>potato<br>salt"
          ],
          [
           "chocolate chip<br>cocoa<br>egg<br>flour<br>milk<br>salt<br>sugar<br>vanilla<br>vegetable oil<br>walnut"
          ],
          [
           "celery<br>cheese<br>garlic<br>mayonnaise<br>onion<br>pepper<br>sugar"
          ],
          [
           "egg<br>garlic<br>garlic rice<br>oil<br>pepper<br>pork<br>salt<br>soy sauce<br>sugar"
          ],
          [
           "fish<br>fish sauce<br>ginger<br>lemon<br>lemongras<br>malunggay<br>oil<br>onion<br>pepper"
          ],
          [
           "butter<br>lime<br>rosemary<br>salt<br>thyme<br>turkey breast<br>wine"
          ],
          [
           "carrot<br>corn<br>oil<br>onion<br>pepper<br>pineapple<br>sugar<br>tomato ketchup<br>vinegar"
          ],
          [
           "bean<br>carrot<br>cauliflower<br>chicken<br>creole seasoning<br>garlic<br>oil<br>pepper<br>squash"
          ],
          [
           "chicken<br>chili<br>egg<br>flour<br>garlic<br>oil<br>pepper<br>salt"
          ],
          [
           "asparagus<br>crimini<br>garlic<br>olive oil<br>onion<br>pepper<br>squash"
          ],
          [
           "canola<br>ginger<br>salt<br>scallion<br>sesame oil<br>sherry<br>snapper<br>soy sauce"
          ],
          [
           "chickpea<br>curry<br>ginger<br>oil<br>onion<br>pepper<br>spinach<br>sugar<br>tomato<br>vegetable broth"
          ],
          [
           "garlic<br>ginger<br>light soy sauce<br>pepper<br>pork<br>sesame oil<br>sesame seeds<br>sugar"
          ],
          [
           "beer<br>bratwurst<br>butter<br>garlic<br>hotdog bun<br>onion<br>pepper<br>salt<br>tabasco sauce"
          ],
          [
           "chayote<br>oil<br>onion<br>pepper<br>pork<br>salt<br>tomato"
          ],
          [
           "carrot<br>corn<br>oil<br>onion<br>pepper<br>pineapple<br>soy sauce<br>sugar<br>tofu<br>tomato ketchup<br>vinegar"
          ],
          [
           "ampalaya<br>bagoong<br>bean<br>flower<br>knob ginger<br>malunggay<br>milk fish<br>okra<br>onion<br>tomato"
          ],
          [
           "bread crumb<br>egg<br>flour<br>garlic<br>oil<br>paprika<br>pepper<br>salt<br>shrimp"
          ],
          [
           "bird chili<br>fish sauce<br>leaf parsley<br>lemon<br>oil<br>onion<br>pepper<br>sardines tomato sauce<br>tomato"
          ],
          [
           "broccoli<br>butter<br>cheese<br>chicken<br>cream<br>fettuccine<br>garlic<br>olive oil<br>pepper<br>salt<br>wine"
          ],
          [
           "bay<br>corn<br>garlic<br>oil<br>pork<br>potato<br>salt<br>soy sauce<br>vinegar"
          ],
          [
           "chili<br>garlic<br>kangkong<br>oil<br>onion<br>oyster sauce<br>pepper<br>salt<br>tofu"
          ],
          [
           "butter<br>chicken<br>corn<br>garlic<br>paprika<br>pepper<br>salt"
          ],
          [
           "egg<br>eggplant<br>oil extra<br>onion<br>pepper<br>pork<br>salt<br>soy sauce<br>tomato"
          ],
          [
           "bean<br>chili<br>coconut<br>oil<br>onion<br>pepper<br>pork<br>shrimp"
          ],
          [
           "broccoli<br>butter<br>carrot<br>cauliflower<br>garlic<br>onion<br>rice<br>salt<br>soy sauce"
          ],
          [
           "beef<br>cheese<br>dinner roll<br>mayonnaise<br>onion<br>packet<br>pepper<br>pickle"
          ],
          [
           "cilantro<br>garlic<br>jicama<br>lime juice<br>mango<br>onion<br>pepper<br>pork<br>salt"
          ],
          [
           "bean<br>cream<br>cream mushroom soup<br>milk<br>onion<br>pepper<br>salt"
          ],
          [
           "beef<br>butter<br>cream<br>flour<br>garlic<br>oil<br>onion<br>pepper<br>pork"
          ],
          [
           "beef<br>broccoli<br>corn<br>olive oil<br>oyster sauce<br>pepper<br>salt"
          ],
          [
           "banana<br>egg<br>flour<br>lemon zest<br>salt<br>soda<br>sugar<br>vanilla<br>vegetable oil<br>walnut"
          ],
          [
           "chili<br>coconut<br>fish sauce<br>ginger<br>oil<br>onion<br>pepper"
          ],
          [
           "breadcrumb<br>butter<br>dijon mustard<br>dulong<br>egg<br>garlic<br>lemon juice<br>mayonnaise<br>olive oil<br>pepper<br>salt"
          ],
          [
           "broccoli<br>butter<br>carrot<br>cheese<br>flour<br>lasagna<br>milk<br>mozzarella<br>mushroom<br>nutmeg<br>salt"
          ],
          [
           "canola oil<br>egg<br>garlic<br>ingredient<br>rice<br>salt<br>sodium soy sauce"
          ],
          [
           "bird eye chili<br>ginger<br>oil<br>pepper<br>scallion<br>sherry wine<br>soy sauce<br>sugar<br>tomato ketchup"
          ],
          [
           "chili<br>coconut<br>fish<br>ginger<br>onion<br>pepper<br>pork"
          ],
          [
           "butter<br>celery<br>chicken<br>flour<br>ham<br>milk<br>onion<br>pepper<br>potato<br>spring onion"
          ],
          [
           "butter<br>chicken<br>cream<br>flour<br>parsley<br>pea<br>pepper<br>salt<br>sherry<br>thyme"
          ],
          [
           "beef<br>broccoli<br>garlic<br>ginger<br>olive oil<br>onion<br>oyster sauce<br>pepper<br>sesame oil<br>sherry<br>soy sauce<br>spaghetti noodle<br>sugar"
          ],
          [
           "bay<br>oil<br>oyster sauce<br>pepper<br>pork<br>soy sauce<br>sugar<br>vinegar"
          ],
          [
           "carrot<br>garlic<br>ginger<br>oil<br>onion<br>pepper<br>pork<br>salt<br>sesame oil<br>spring roll"
          ],
          [
           "carrot<br>corn<br>crimini mushroom<br>onion<br>pepper<br>snow peas<br>soy sauce<br>tofu<br>vegetable oil"
          ],
          [
           "bread crumb<br>carrot<br>chili<br>egg<br>garlic<br>meat shell crab<br>oil<br>onion<br>parsley<br>pepper<br>potato<br>salt<br>tomato"
          ],
          [
           "basil<br>cheese<br>chicken<br>chipotle chili adobo sauce<br>olive oil<br>onion<br>parsley<br>pepper<br>spaghetti noodle<br>sugar<br>tomato<br>tomato sauce"
          ],
          [
           "beef<br>jack fruit<br>pepper<br>pigeon pea<br>pork<br>potato<br>sinigang"
          ],
          [
           "cabbage<br>chili<br>cilantro<br>cream<br>flour tortilla<br>jalapeño<br>lime<br>olive oil<br>onion<br>salt<br>tilapia<br>tomato"
          ],
          [
           "annatto<br>bay<br>carrot<br>ginger<br>oil<br>onion<br>pepper<br>pig heart<br>vinegar"
          ],
          [
           "calabaza squash<br>ginger<br>lemongras<br>loofah<br>malunggay<br>okra<br>papaya<br>rice washing<br>salt<br>tomato"
          ],
          [
           "bread crumb<br>chicken<br>egg<br>flour<br>garlic<br>oil<br>pepper<br>pork<br>salt<br>sherry<br>sugar<br>worcestershire sauce"
          ],
          [
           "bacon<br>butter<br>celery rib<br>clam<br>clam juice<br>half half<br>onion<br>pepper<br>potato<br>thyme"
          ],
          [
           "butter<br>clam juice<br>leaf parsley<br>lemon juice<br>linguine<br>olive oil<br>pepper<br>shrimp<br>wine"
          ],
          [
           "celery<br>chicken<br>corn<br>lemon<br>oil olive oil<br>pepper<br>sherry<br>soy sauce<br>sugar"
          ],
          [
           "ginger<br>onion<br>pepper<br>potato<br>salt<br>sugar<br>tomato<br>vinegar"
          ],
          [
           "bay<br>beef<br>carrot<br>celery rib<br>clove<br>corn<br>oil<br>onion<br>paprika<br>pepper<br>potato<br>salt"
          ],
          [
           "avocado<br>cheese<br>chicken<br>cilantro<br>corn<br>lime<br>olive oil<br>onion<br>pepper<br>salt<br>tomato"
          ],
          [
           "beef<br>butter<br>cheese<br>onion<br>pepper<br>salt<br>tater tot<br>worcestershire sauce"
          ],
          [
           "blade lemongrass<br>chicken<br>chili<br>coconut<br>fish sauce<br>garlic<br>ginger<br>lemon juice<br>peanut<br>peanut butter<br>sesame oil<br>soy sauce<br>sugar"
          ],
          [
           "butter<br>cheese<br>linguine<br>mussel<br>onion<br>parsley<br>pepper<br>salt<br>wine"
          ],
          [
           "balsamic vinaigrette<br>cheese<br>garlic<br>grape tomato<br>lemon juice<br>pepper<br>salmon<br>salt<br>spring"
          ],
          [
           "butter<br>chocolate chip<br>egg<br>flour<br>salt<br>soda<br>sugar<br>vanilla<br>walnut"
          ],
          [
           "celery rib<br>chicken<br>garlic<br>lemon<br>olive oil<br>onion<br>pepper<br>salt<br>thyme"
          ],
          [
           "cabbage<br>carrot<br>egg<br>garlic<br>ginger<br>light soy sauce<br>oil<br>pork"
          ],
          [
           "bacon<br>cheese<br>cream<br>garlic<br>olive oil<br>onion<br>paprika<br>pepper<br>potato<br>salt"
          ],
          [
           "carrot<br>chicken<br>napa cabbage<br>onion<br>pig liver<br>pork<br>shitake mushroom"
          ],
          [
           "chicken<br>ginger<br>hoisin sauce<br>lemon juice<br>oil<br>onion<br>pepper<br>salt<br>sesame oil<br>sodium soy sauce"
          ],
          [
           "bread crumb<br>cheese<br>egg<br>eggplant<br>garlic<br>marinara parsley flake<br>olive oil<br>pepper<br>salt"
          ],
          [
           "bread crumb<br>chili<br>cucumber<br>dynamite sauce<br>mayonnaise<br>nori<br>sesame oil<br>sushi rice<br>tuna<br>vinegar<br>wasabi"
          ],
          [
           "chicken<br>corn<br>egg<br>ginger<br>oil<br>onion<br>pepper<br>salt<br>sesame oil<br>soy sauce"
          ],
          [
           "hoisin sauce<br>honey<br>oyster sauce<br>pork<br>sesame oil<br>sherry<br>soy sauce<br>sugar"
          ],
          [
           "anchovy<br>chilie<br>coconut<br>fish sauce<br>jack fruit<br>oil<br>onion"
          ],
          [
           "corn<br>garlic<br>oil<br>pepper<br>pork<br>salt<br>sherry<br>spice"
          ],
          [
           "bean<br>bok choy<br>cabbage<br>chickpea<br>corn<br>fish sauce<br>oil<br>onion<br>plantain<br>pork<br>potato<br>tomato<br>tomato sauce"
          ],
          [
           "bay leaf<br>cinnamon<br>clove<br>garlic<br>ginger<br>lemon juice<br>milk<br>oil<br>onion<br>pepper<br>salt<br>tomato"
          ],
          [
           "bean<br>beef<br>cream<br>lettuce<br>oil<br>pepper<br>taco seasoning<br>tomato<br>tostada shell"
          ],
          [
           "ampalaya<br>bread<br>carrot<br>egg<br>garlic<br>onion<br>paprika<br>pepper<br>pork<br>salt"
          ],
          [
           "bean<br>chicken<br>eggplant<br>fish sauce<br>oil<br>onion<br>sinigang<br>spinach<br>tamarind<br>tomato"
          ],
          [
           "blueberry<br>egg<br>flour<br>milk<br>salt<br>sugar<br>vegetable oil"
          ],
          [
           "bread crumb<br>chicken<br>egg<br>flour<br>garlic<br>milk<br>oil<br>paprika<br>pepper<br>salt"
          ],
          [
           "butter<br>chicken<br>chili<br>flour<br>garlic<br>oil<br>paprika<br>pepper<br>salt<br>sauce"
          ],
          [
           "butter<br>corn<br>egg<br>flour<br>milk<br>salt<br>sugar"
          ],
          [
           "cake flour<br>cream<br>cream tartar<br>egg<br>salt<br>strawberry<br>sugar<br>vanilla"
          ],
          [
           "butter<br>egg<br>flour<br>milk<br>pineapple<br>salt<br>sugar"
          ],
          [
           "corn<br>fish<br>oil<br>onion<br>pepper<br>salt<br>sugar<br>vinegar"
          ],
          [
           "cabbage<br>carrot<br>chicken<br>miki noodle<br>oil<br>onion<br>oyster sauce<br>pepper<br>pork<br>salt<br>sherry<br>soy sauce"
          ],
          [
           "chili<br>coconut<br>oil<br>onion<br>pepper<br>seafood<br>shrimp"
          ],
          [
           "chicken<br>dijon mustard<br>lemon juice<br>mayonnaise<br>olive oil<br>onion<br>pepper<br>salt<br>soy sauce<br>sub bread"
          ],
          [
           "bay<br>chicken<br>chili<br>corn<br>oil<br>oyster sauce<br>salt<br>soy sauce<br>sugar<br>vinegar"
          ],
          [
           "bacon<br>basil<br>cheese<br>egg<br>milk<br>olive oil<br>plum tomato<br>potato<br>salt"
          ],
          [
           "calabaza squash<br>chicken<br>garlic<br>onion<br>parsley<br>pepper<br>salt<br>whipping cream"
          ],
          [
           "garlic<br>miki noodle<br>onion<br>paste<br>pepper<br>pig intentesine<br>pig liver<br>pork<br>salt<br>spring onion<br>sugar"
          ],
          [
           "bean<br>coconut<br>crab<br>fish sauce<br>oil<br>onion<br>pepper"
          ],
          [
           "beef<br>butter<br>onion<br>pepper<br>potato<br>salt<br>vegetable<br>worcestershire sauce"
          ],
          [
           "chilie<br>fish sauce<br>milkfish<br>mustard<br>oil<br>onion<br>tomato"
          ],
          [
           "chicken<br>coconut<br>fish sauce<br>knob ginger<br>lemon grass<br>oil<br>onion<br>papaya<br>pepper"
          ],
          [
           "beef<br>garlic<br>oil<br>onion<br>pea<br>pepper<br>pork<br>tomato"
          ],
          [
           "bread crumb<br>egg<br>flour<br>milk<br>oil<br>pepper<br>potato<br>salt"
          ],
          [
           "bread crumb<br>egg<br>flour<br>milk<br>oil<br>onion<br>pepper<br>salt"
          ],
          [
           "cinnamon<br>egg<br>milk<br>nutmeg<br>pastry dough crust pie<br>pumpkin<br>salt<br>sugar"
          ],
          [
           "asparagus<br>filet mignon<br>olive oil<br>onion<br>potato<br>salt<br>wine"
          ],
          [
           "corn<br>leek<br>olive oil<br>onion<br>parsley<br>pepper<br>salt<br>steak<br>tomato<br>vinegar"
          ],
          [
           "brandy<br>butter<br>cinnamon nutmeg<br>egg<br>mango candy<br>nut<br>prune<br>raisin<br>sugar<br>vanilla"
          ],
          [
           "bean<br>beef<br>chili<br>cumin<br>flour<br>garlic<br>olive oil<br>onion<br>pepper<br>salt<br>sugar<br>tomato<br>tomato sauce"
          ],
          [
           "beef<br>butter<br>cream<br>cream mushroom soup<br>egg<br>flour<br>garlic<br>mushroom<br>onion<br>pepper<br>salt"
          ],
          [
           "egg<br>olive oil<br>onion<br>parsley<br>pepper<br>tongue<br>vinegar"
          ],
          [
           "butter<br>buttermilk<br>cherry<br>cherry liqueur<br>cocoa<br>confectioner sugar<br>egg<br>flour<br>salt<br>soda<br>sugar<br>vanilla<br>whipping cream"
          ],
          [
           "bamboo shoot<br>carrot<br>chicken<br>chili sauce<br>corn<br>egg<br>ginger<br>pork<br>shiitake mushroom<br>soy sauce<br>spring onion<br>tofu<br>vinegar<br>wood ear mushroom"
          ],
          [
           "chili<br>cilantro<br>garlic<br>lime juice<br>oil<br>pepper<br>pineapple<br>tilapia<br>tomato"
          ],
          [
           "bean<br>oil<br>onion<br>oyster sauce<br>parsley<br>pepper<br>pork<br>soy sauce<br>sugar<br>tofu"
          ],
          [
           "beef<br>honey<br>olive oil<br>onion<br>pepper<br>soy sauce<br>vinegar"
          ],
          [
           "cheese<br>olive oil<br>onion<br>pepper<br>shrimp<br>spaghetti noodle<br>thyme<br>tomato"
          ],
          [
           "crab<br>garlic<br>hint tabasco sauce<br>mussel<br>olive oil<br>onion<br>pepper<br>rice<br>saffron<br>squid<br>tomato sauce"
          ],
          [
           "chicken<br>chilli<br>cumin<br>garlic<br>lime juice<br>olive oil<br>onion<br>paprika<br>pepper<br>salt"
          ],
          [
           "bay<br>cheese<br>chili<br>olive oil<br>onion<br>oregano<br>parsley<br>tomato<br>tomato sauce"
          ],
          [
           "banana<br>butter<br>corn<br>egg<br>graham cracker crumbs<br>milk<br>salt<br>sugar<br>vanilla<br>whipping cream"
          ],
          [
           "butter<br>carrot<br>celery<br>chicken<br>flour<br>milk<br>onion<br>oregano<br>parsley<br>pastry crust pie<br>pepper<br>potato<br>turkey"
          ],
          [
           "bean<br>bok choy<br>carrot<br>chicken<br>corn<br>egg<br>oil<br>oyster sauce<br>pepper<br>sesame oil<br>spice"
          ],
          [
           "cardamom<br>chicken<br>clove<br>coriander<br>cumin<br>food<br>ginger<br>lemon<br>olive oil<br>pepper<br>salt<br>yogurt"
          ],
          [
           "bamboo shoot<br>garlic<br>oil<br>onion<br>pepper<br>pork<br>salt<br>shrimp<br>vinegar"
          ],
          [
           "crab fat<br>fettuccine noodle<br>oil<br>onion<br>pepper<br>rice wine<br>seafood<br>whipping cream"
          ],
          [
           "cheese<br>chicken<br>olive oil<br>onion<br>pepper<br>salt<br>spinach<br>thyme"
          ],
          [
           "bacon<br>cheese<br>corn<br>flour<br>glove garlic<br>hotdog<br>ketchup<br>milk<br>oil<br>onion<br>peas<br>pepper<br>pineapple<br>raisin<br>salt<br>shrimp<br>sugar"
          ],
          [
           "chicken<br>chilie<br>corn<br>ginger<br>peanut<br>pepper<br>rice wine<br>salt<br>sesame oil<br>soy sauce<br>sugar<br>vinegar"
          ],
          [
           "beef<br>chili<br>ginger<br>oil<br>oyster sauce<br>pepper<br>salt<br>soy sauce<br>spinach"
          ],
          [
           "bacon<br>butter<br>cheese<br>egg<br>onion<br>spaghetti noodle<br>whipping cream"
          ],
          [
           "beef<br>butter<br>corn<br>cream mushroom soup<br>garlic<br>mushroom<br>pepper<br>salt"
          ],
          [
           "cabbage<br>carrot<br>granny smith apples<br>honey<br>mayonnaise<br>onion<br>parsley<br>pepper<br>salt<br>vinegar"
          ],
          [
           "bay<br>chili<br>corn<br>oil<br>rice wine<br>salt<br>soy sauce<br>sugar<br>vinegar"
          ],
          [
           "carrot<br>chicken<br>dijon mustard<br>grape tomato<br>green<br>olive oil<br>salt<br>vinegar"
          ],
          [
           "cheese<br>mushroom<br>olive oil<br>onion<br>penne pasta<br>pepper<br>spinach<br>tomato"
          ],
          [
           "beef<br>carrot<br>olive oil<br>onion<br>pepper<br>stalk celery<br>thyme<br>wine"
          ],
          [
           "basil<br>chicken<br>cream<br>olive oil<br>pasta<br>pepper<br>salt<br>vodka"
          ],
          [
           "bean<br>dijon mustard<br>dill<br>olive oil<br>pepper<br>potato<br>salt<br>vinegar"
          ],
          [
           "bean<br>cheese<br>dill<br>onion<br>pepper<br>salt<br>vinegar<br>virgin olive oil"
          ],
          [
           "cocoa<br>cream tartar<br>egg<br>flour<br>graham cracker crumbs<br>milk<br>salt<br>soda<br>sugar<br>vanilla<br>vegetable oil"
          ],
          [
           "basil<br>cheese<br>chicken<br>cumin<br>garlic<br>olive oil<br>oregano<br>salt"
          ],
          [
           "chili<br>fish sauce<br>oil<br>onion<br>pig heart<br>pig intestine<br>pig liver<br>pork<br>tamarind soup base<br>vinegar<br>wine"
          ],
          [
           "chili<br>cilantro<br>corn<br>cumin<br>garlic<br>lime<br>olive oil<br>onion<br>oregano<br>paprika<br>pepper<br>salt<br>soy sauce<br>tomato<br>vinegar"
          ],
          [
           "egg<br>flour<br>garlic<br>oil<br>onion<br>paprika<br>pepper<br>potato<br>salt"
          ],
          [
           "beef<br>butter<br>flour<br>garlic<br>pepper<br>pork<br>rice<br>salt<br>vegetable"
          ],
          [
           "butter<br>cheese<br>chicken<br>egg<br>milk<br>pepper<br>rotini<br>thyme<br>whipping cream"
          ],
          [
           "butter<br>cinnamon<br>egg<br>milk<br>nutmeg<br>pie crust<br>potato<br>sugar<br>vanilla"
          ],
          [
           "bread crumb<br>egg<br>flour<br>ginger<br>mirin<br>napa cabbage<br>oil<br>pepper<br>pork<br>sake<br>salt<br>sugar<br>tomato ketchup<br>worcestershire sauce"
          ],
          [
           "corn<br>finger chili<br>gourd<br>knob ginger<br>onion<br>salt<br>vinegar"
          ],
          [
           "avocado<br>carrot<br>crabmeat<br>cucumber<br>leaf lettuce<br>shrimp<br>tapioca"
          ],
          [
           "chicken<br>fish sauce<br>ginger<br>lemon<br>oil<br>oyster sauce<br>pepper<br>soy sauce<br>sugar"
          ],
          [
           "cassava flour<br>egg<br>fish sauce<br>kikiam<br>meatball<br>miki noodle<br>oil<br>onion<br>onion leek<br>pepper<br>pig liver<br>pork<br>soy sauce"
          ],
          [
           "celery<br>chicken<br>cream<br>granny smith apple<br>grape<br>mayonnaise<br>pepper<br>salt<br>tarragon<br>walnut"
          ],
          [
           "cucumber<br>finger chilie<br>ginger<br>inihaw liempo<br>lemon<br>onion<br>salt<br>tuna<br>vinegar"
          ],
          [
           "bok choy<br>corn<br>fish<br>fish sauce<br>ginger<br>oil<br>onion<br>rice washing<br>salt"
          ],
          [
           "bok choy<br>ginger<br>oyster sauce<br>sesame oil<br>soy sauce<br>sugar<br>vegetable oil"
          ],
          [
           "buttermilk<br>chicken<br>flour<br>garlic<br>oil<br>onion<br>paprika<br>pepper<br>salt"
          ],
          [
           "basil<br>butter<br>cheese<br>olive oil<br>pepper<br>salt<br>spaghetti noodle<br>tuyo<br>whipping cream"
          ],
          [
           "chili<br>eggplant<br>fish sauce<br>oil<br>okra<br>onion<br>pork<br>radish<br>spinach<br>tamarind base sinigang<br>taro root<br>tomato"
          ],
          [
           "adobong pusit<br>annatto<br>egg<br>fish sauce<br>garlic<br>lemon<br>napa cabbage<br>onion<br>parsley<br>pepper<br>pork<br>rice noodle<br>shrimp juice<br>tinapa flake"
          ],
          [
           "butter<br>coconut<br>flour<br>milk<br>salt<br>sugar<br>vegetable shortening"
          ],
          [
           "fish sauce<br>garlic<br>misua<br>oil<br>onion<br>pepper<br>sardines<br>scallion"
          ],
          [
           "bile<br>cow heart<br>cow intestine<br>finger chilie<br>ginger<br>lemon<br>oil<br>onion<br>ox tripe<br>pepper<br>salt"
          ],
          [
           "butter<br>celery stalk<br>chicken<br>garlic<br>lemon<br>onion<br>pepper<br>salt<br>thyme"
          ],
          [
           "butter<br>egg<br>flour<br>salt<br>soda<br>sugar<br>vanilla"
          ],
          [
           "breadcrumb<br>egg<br>flour<br>oil<br>pepper<br>salt<br>squid"
          ],
          [
           "coconut<br>jackfruit<br>plantain<br>potato<br>rice<br>sugar<br>tapioca pearl<br>taro root<br>yam"
          ],
          [
           "annatto<br>basting sauce<br>chicken<br>ginger<br>lemon<br>lemon soda<br>lemongras<br>margarine<br>pepper<br>salt<br>sugar<br>vinegar"
          ],
          [
           "bread crumb<br>carrot<br>corn<br>egg<br>oil<br>onion<br>pepper<br>pineapple<br>pork<br>salt<br>sugar<br>tomato ketchup<br>vinegar"
          ],
          [
           "bean<br>bok choy<br>corn<br>ginger<br>oil<br>onion<br>pepper<br>rice wine<br>salt<br>sesame oil<br>soy sauce<br>tofu<br>vegetable stock"
          ],
          [
           "bean<br>chicken<br>corn<br>crimini<br>egg<br>oil<br>onion<br>oyster sauce<br>pepper<br>pork<br>rice wine<br>soy sauce"
          ],
          [
           "beef<br>breadcrumb<br>egg<br>flour<br>oil<br>pepper<br>pork<br>salt"
          ],
          [
           "chili<br>cilantro<br>fish sauce<br>galangal root<br>lemon grass<br>lime juice<br>lime leave<br>onion<br>pepper<br>shrimp<br>straw mushroom<br>tamarind<br>tomato"
          ],
          [
           "carrot<br>cashews<br>chicken<br>corn<br>jicama<br>onion<br>pea<br>pepper<br>quail egg<br>salt<br>shrimp"
          ],
          [
           "butter<br>cabbage<br>carrot<br>celery stalk<br>chicken<br>macaroni<br>onion<br>pepper"
          ],
          [
           "annatto<br>carrot<br>celery<br>chicken<br>corn<br>fish sauce<br>oil<br>onion<br>onion leek<br>sotanghon noodle"
          ],
          [
           "bean<br>corn<br>egg<br>oil<br>pepper<br>salt<br>shrimp"
          ],
          [
           "bread crumb<br>carrot<br>cheese<br>chicken<br>egg<br>flour<br>mozzarella<br>olive oil<br>onion<br>parsley<br>pepper<br>tomato"
          ],
          [
           "chili<br>chili sauce<br>lemon juice<br>oil<br>onion<br>pepper<br>rice wine<br>tomato sauce"
          ],
          [
           "egg<br>oil<br>onion<br>pea<br>pepper<br>pork<br>salt<br>tomato"
          ],
          [
           "carrot<br>egg<br>oil<br>onion<br>pepper<br>pork<br>potato<br>sugar<br>tomato sauce"
          ],
          [
           "bean<br>chilie<br>egg plant<br>fish sauce<br>okra<br>sinigang<br>spinach<br>tomato<br>tuna"
          ],
          [
           "carrot<br>celery<br>chicken<br>corn<br>egg<br>onion<br>parsley<br>salt<br>vegetable oil"
          ],
          [
           "chilie<br>coconut<br>fish<br>garlic<br>jackfruit<br>onion<br>shrimp<br>tomato"
          ],
          [
           "chilie<br>ginger<br>lemon<br>onion<br>pepper<br>salt<br>tuna<br>vinegar"
          ],
          [
           "bay<br>chilie<br>goat meat<br>oil<br>onion<br>soy sauce<br>vinegar"
          ],
          [
           "bay<br>carrot<br>corn<br>oil<br>plantain<br>pork<br>soy sauce<br>sugar<br>vinegar"
          ],
          [
           "carrot<br>crab meat<br>egg<br>oil<br>onion<br>pepper<br>pork<br>salt<br>sesame oil<br>wonton"
          ],
          [
           "annatto<br>chicken<br>corn<br>flour<br>oil<br>pepper<br>salt"
          ],
          [
           "bay<br>butter<br>chicken<br>lemon juice<br>oil<br>onion<br>pepper<br>potato<br>salt<br>soy sauce<br>tomato sauce"
          ],
          [
           "bamboo skewer<br>chicken<br>coconut<br>fish sauce<br>garlic<br>ginger<br>lemon grass<br>peanut sauce<br>pepper<br>soy sauce<br>sugar"
          ],
          [
           "butter<br>corn<br>egg<br>flour<br>honey<br>milk<br>salt<br>sugar"
          ],
          [
           "carrot<br>fish sauce<br>oil<br>onion<br>pepper<br>shrimp<br>spring roll<br>tofu<br>togue"
          ],
          [
           "butter<br>cinnamon<br>egg<br>flour<br>oat<br>raisin<br>salt<br>sugar<br>vanilla"
          ],
          [
           "broccoli<br>butter<br>cheese<br>flour<br>milk<br>onion<br>pepper"
          ],
          [
           "butter<br>egg<br>flour<br>milk<br>pie crust<br>salt<br>sugar<br>vanilla"
          ],
          [
           "butter<br>chicken<br>cream<br>green onion leek<br>milk<br>onion<br>onion leek<br>pepper<br>potato"
          ],
          [
           "bay<br>beef<br>corn<br>onion<br>pork<br>salt<br>soy sauce<br>sugar<br>vinegar"
          ],
          [
           "bacon<br>bread crumb<br>onion<br>pepper<br>pig liver<br>sugar<br>vinegar"
          ],
          [
           "chilie<br>corn<br>ginger<br>oil<br>onion<br>peanut<br>sesame oil<br>shrimp<br>soy sauce<br>sugar<br>vinegar"
          ],
          [
           "cucumber<br>ginger<br>onion<br>pepper<br>salt<br>sugar<br>vinegar"
          ],
          [
           "cheese<br>crouton<br>egg<br>lemon juice<br>olive oil<br>pepper<br>romaine lettuce<br>salt<br>worcestershire sauce"
          ],
          [
           "bean<br>beef<br>broccoli<br>broth<br>cabbage<br>carrot<br>cauliflower<br>clove<br>fish sauce<br>mato<br>noodle<br>oil<br>onion<br>pepper"
          ],
          [
           "butter<br>chocolate<br>coffee<br>egg<br>flour<br>salt<br>sugar<br>vanilla<br>walnut"
          ],
          [
           "basil<br>block tofu<br>garlic<br>ketchup<br>mushroom<br>onion<br>pepper<br>rosemary<br>sage<br>salt<br>spaghetti sauce<br>thyme<br>tomato<br>tuna"
          ],
          [
           "beef<br>corn<br>onion<br>pepper<br>salt<br>soy sauce<br>star anise<br>sugar<br>worcestershire sauce"
          ],
          [
           "beef<br>egg<br>fish sauce<br>knob ginger<br>lemon<br>oil<br>onion<br>ox tripe<br>pepper<br>rice<br>scallion"
          ],
          [
           "butter<br>cheese<br>egg<br>ham<br>milk<br>onion<br>pepper<br>salt<br>spinach"
          ],
          [
           "banana<br>bay<br>bean<br>corn<br>onion<br>pineapple juice<br>pork<br>soy sauce<br>sugar<br>vinegar"
          ],
          [
           "beef<br>egg<br>eggplant<br>garlic clove<br>mato<br>oil<br>onion<br>pepper"
          ],
          [
           "cream<br>lemon juice<br>mayonnaise<br>onion<br>salt<br>shrimp<br>sugar"
          ],
          [
           "cheese<br>cream<br>dill garnish<br>egg<br>mustard<br>onion<br>paprika<br>salmon<br>salt"
          ],
          [
           "cake<br>cake flour<br>caramel<br>cream tartar<br>custard<br>egg<br>lemon<br>meringue<br>milk<br>sugar"
          ],
          [
           "bacon<br>cheese<br>egg<br>fettuccine<br>milk<br>pepper<br>whipping cream"
          ],
          [
           "cheese<br>cream<br>egg<br>flour<br>graham pie crust<br>pie filling<br>sugar<br>vanilla"
          ],
          [
           "annatto<br>chestnut<br>chicken<br>egg<br>fish sauce<br>garlic<br>oil<br>onion<br>pepper<br>pork<br>salt<br>wonton"
          ],
          [
           "butter<br>egg<br>flour<br>salt<br>soda<br>sugar<br>walnut"
          ],
          [
           "butter<br>buttercream<br>cake<br>cake flour<br>canola oil<br>confectioner sugar<br>cream tartar<br>egg<br>milk<br>salt<br>sugar<br>vanilla<br>vegetable shortening"
          ],
          [
           "beef<br>bread<br>celery<br>egg<br>mustard<br>onion<br>salt<br>tomato ketchup<br>tomato paste<br>worcestershire sauce"
          ],
          [
           "breadcrumb<br>butter<br>cheese<br>chicken<br>egg<br>ham<br>paprika<br>salt"
          ],
          [
           "beef<br>carrot<br>cheese<br>dill<br>egg<br>lemon<br>oil<br>salt<br>soy sauce"
          ],
          [
           "butter<br>cake<br>carrot<br>cheese<br>cinnamon<br>confectioner sugar<br>egg<br>flour<br>milk<br>salt<br>soda<br>sugar<br>vanilla<br>vegetable oil<br>walnut"
          ],
          [
           "chicken<br>chili<br>coconut<br>ginger<br>oil<br>onion<br>papaya<br>paprika<br>pepper<br>spinach"
          ],
          [
           "avocado<br>crabstick<br>cucumber<br>salt<br>sesame seeds<br>sugar<br>sushi rice<br>vinegar"
          ],
          [
           "butter<br>chocolate<br>cocoa<br>confectioner sugar<br>cupcake<br>egg<br>flour<br>salt<br>sugar<br>vanilla"
          ],
          [
           "carrot<br>corn<br>ginger<br>onion<br>papaya<br>pepper<br>raisin<br>salt<br>sugar<br>vinegar"
          ],
          [
           "beef<br>cabbage<br>egg<br>garlic<br>oil<br>onion<br>pepper<br>star anise"
          ],
          [
           "broccoli<br>cashew nut<br>chicken<br>corn<br>egg<br>oil<br>onion<br>oyster sauce<br>pepper<br>rice wine<br>soy sauce"
          ],
          [
           "chili sauce<br>crab<br>fish sauce<br>ginger<br>hoisin sauce<br>oil<br>onion<br>pepper<br>sesame oil<br>tomato catsup"
          ],
          [
           "cilantro<br>ginger<br>grouper<br>lemon<br>lemon juice<br>lemon zest<br>sugar"
          ],
          [
           "butter<br>cheese<br>egg<br>flour<br>milk<br>rise yeast<br>salt<br>sugar"
          ],
          [
           "bean<br>cabbage<br>carrot<br>cilantro<br>corn<br>egg<br>fish sauce<br>flour<br>lettuce<br>milk<br>oil<br>onion<br>peanut<br>pork<br>potato<br>salt<br>soy sauce<br>sugar"
          ],
          [
           "banana<br>lemon<br>oil<br>pepper<br>pork<br>salt<br>soy sauce"
          ],
          [
           "basil<br>beef<br>cheese<br>egg<br>lasagna<br>mozzarella<br>oil<br>onion<br>parsley<br>pepper<br>salt<br>seasoning<br>sugar<br>tomato<br>tomato paste<br>tomato sauce"
          ],
          [
           "butter<br>cassava<br>cheese<br>coconut<br>egg<br>milk<br>sugar"
          ],
          [
           "bread crumb<br>bread flour<br>butter<br>egg<br>flour<br>milk<br>oil<br>rise yeast<br>salt<br>sugar"
          ],
          [
           "oil<br>onion<br>pepper<br>pork<br>salt<br>tomato<br>upo"
          ],
          [
           "cabbage<br>carrot<br>chicken<br>chorizo<br>flour<br>oil<br>onion<br>oyster sauce<br>parsley<br>pepper<br>pork<br>salt<br>shrimp<br>snow peas<br>soy sauce"
          ],
          [
           "butter<br>chicken<br>egg<br>milk<br>oil<br>pepper<br>salt"
          ],
          [
           "butter<br>chicken<br>chili<br>knob ginger<br>lemon<br>mayonnaise<br>onion<br>pepper<br>pig ear<br>pork<br>salt<br>soy sauce"
          ],
          [
           "butter<br>egg<br>fruit cocktail<br>gelatin<br>milk<br>sugar<br>vanilla"
          ],
          [
           "bamboo shoot<br>carrot<br>corn<br>mushroom<br>oil<br>onion<br>oyster sauce<br>pepper<br>salt<br>snow peas<br>soy sauce<br>sugar"
          ],
          [
           "chili<br>coconut<br>crab<br>fish sauce<br>ginger<br>oil<br>onion<br>pepper<br>shrimp<br>spinach"
          ],
          [
           "cheese<br>chicken<br>egg<br>macaroni<br>mayonnaise<br>onion<br>pineapple<br>raisin<br>salt"
          ],
          [
           "chicken<br>corn<br>egg<br>flour<br>oil<br>onion<br>orange juice<br>salt<br>soy sauce<br>sugar<br>vinegar"
          ],
          [
           "beef<br>bok choy<br>carrot<br>corn<br>fish sauce<br>onion<br>potato"
          ],
          [
           "chili<br>lemon<br>onion<br>pepper<br>soy sauce<br>squid<br>tomato"
          ],
          [
           "cabbage<br>carrot<br>cauliflower<br>chicken<br>corn<br>oil<br>onion<br>oyster sauce<br>pepper<br>pork<br>quail egg<br>snow peas<br>soy sauce"
          ],
          [
           "bread crumb<br>carrot<br>cheese<br>egg<br>onion<br>pepper<br>pickle<br>pork<br>raisin<br>tomato sauce<br>vienna sausage"
          ],
          [
           "bean<br>beef<br>bok choy<br>cabbage<br>chorizo bilbao<br>corn<br>fish sauce<br>garbanzo<br>oil<br>onion<br>plantain<br>potato<br>tomato<br>tomato sauce"
          ],
          [
           "carrageenan<br>garlic<br>liquor<br>meat<br>paprika<br>pepper<br>pineapple juice<br>pork<br>prague<br>salt<br>sodium phosphate<br>sugar<br>vegetable protein"
          ],
          [
           "anisette liquor<br>food<br>garlic<br>pineapple juice<br>pork<br>prague<br>sea salt<br>sodium phosphate<br>sugar<br>vitamin c"
          ],
          [
           "chicken<br>fish sauce<br>ginger<br>onion<br>papaya<br>pepper<br>rice washing"
          ],
          [
           "bird chili<br>choco<br>cinnamon<br>clove<br>ketchup<br>onion<br>paprika<br>pepper<br>saba<br>salt<br>sodium benzoate<br>sugar<br>vinegar"
          ],
          [
           "anchovy sauce<br>bagnet<br>bean<br>eggplant<br>melon<br>okra<br>onion<br>potato<br>tomato"
          ],
          [
           "fish sauce<br>kangong<br>onion<br>pepper<br>salmon<br>sinigang sampaloc<br>tomato"
          ],
          [
           "coconut<br>ginger<br>onion<br>pepper<br>pork<br>shrimp<br>taro"
          ],
          [
           "bean<br>corn<br>egg<br>fish<br>oil<br>onion<br>parsley"
          ],
          [
           "banana<br>cheese<br>oil<br>onion<br>pork<br>salt<br>spaghetti<br>sugar<br>tomato sauce"
          ],
          [
           "bean<br>chicken<br>chili<br>corn<br>ginger<br>oil<br>onion<br>oyster sauce<br>soy sauce<br>sugar"
          ],
          [
           "beef<br>mushroom<br>oil<br>olive<br>onion<br>oyster sauce<br>potato<br>tomato sauce<br>tongue"
          ],
          [
           "cabbage<br>carrot<br>celery<br>chicken<br>onion<br>pancit bihon<br>pork<br>snow peas<br>soy sauce"
          ],
          [
           "beef<br>oil<br>pineapple<br>pineapple juice<br>pork<br>soy sauce<br>sugar"
          ]
         ],
         "hovertemplate": "<b>%{hovertext}</b><br><br>x=%{x}<br>y=%{y}<br>ingredients=%{customdata[0]}<br>cluster=%{marker.color}<extra></extra>",
         "hovertext": [
          "Adobong Sitaw with Pork",
          "Burger Steak",
          "Chicken Menudo",
          "Beef Salpicao",
          "Bibingkoy",
          "Longganisa",
          "Sinigang na Baka",
          "Chicken Mami",
          "Chicken Bistek",
          "Rellenong Alimango",
          "Tinolang Palaka",
          "Dinengdeng na Saluyot at Labong",
          "Pork Adobo with Oyster Sauce",
          "Chicken Kare-Kare",
          "Adobo sa Gata",
          "Chicken Halang Halang",
          "Pancit Lomi",
          "Batchoy Tagalog",
          "Panda Express Sweet Fire Chicken Copycat",
          "Cashew Chicken",
          "Chicken Corn Soup",
          "Teriyaki Salmon",
          "Ginataang Manok",
          "Snow Peas and Shrimp Stir-fry",
          "Buko Pie (Filipino Coconut Pie)",
          "Calamansi Chicken",
          "Thai Chicken Salad with Spicy Peanut Dressing",
          "Beef Broccoli",
          "Chicken Binakol",
          "Crema de Fruta",
          "Pinsec Frito",
          "Totsong Bangus",
          "Yema Bread Rolls",
          "Banana Heart Burger",
          "Baby Back Ribs with Adobo Glaze",
          "Pandesal",
          "Filipino Pork Barbecue",
          "Lumpiang Puso ng Saging",
          "Ginumis",
          "Adobong Kangkong",
          "Ginataang Alimasag",
          "Tinolang Manok sa Upo",
          "Lechon Sauce",
          "Liver and Gizzard with Sweet Peas",
          "Tortang Tahong",
          "Cardillong Isda",
          "Ukoy na Dilis",
          "Pork Estofado",
          "Bulalo Mami",
          "Ginisang Ampalaya at Hipon",
          "Laing",
          "Kake Udon",
          "Asian Vegetable Stir-fry",
          "Kwek-kwek",
          "Paksiw na Pata",
          "Garlic Butter Fried Frog Legs",
          "Curried Okra with Tomatoes",
          "Binignit",
          "Beef Empanada",
          "Ginisang Upo at Hipon",
          "Pata Hamonado",
          "Bulalo",
          "Skinless Longganisa",
          "Kare-kareng Pata",
          "Ahi Shoyu Poke",
          "Banana Pandan Bread",
          "Kung Pao Shrimp",
          "Ginisang Munggo at Sotanghon",
          "Corned Beef Pandesal",
          "Eggplant with Spicy Garlic Sauce",
          "Kilayin",
          "Ham and Cheese Bread Rolls",
          "Salted Eggs Shrimp",
          "Chop Suey with Tofu and Shitake Mushrooms",
          "Ginataang Kalabasa, Sitaw at Hipon",
          "Pineapple Upside-down Cake",
          "Kansi",
          "Crispy Pork Binagoongan",
          "Green Bean and Shrimp Stir-fry",
          "Green Bean Chicken",
          "Shrimp with Green Peas and Cashew",
          "Pancit Palabok",
          "Mango Bread Loaf",
          "Lumpiang Sariwa",
          "Fried Chicken a la Max's Restaurant",
          "Mock Pancit Canton Stir-Fry",
          "Lumpiang Shanghai",
          "Ginisang Pusit",
          "Adobong Talaba",
          "Miswa at Patola Soup",
          "Pancit Molo",
          "Sinigang na Salmon Belly sa Kamias",
          "Picadillo",
          "Spicy Tahong",
          "Chicken Pochero",
          "Pork Bistek",
          "Tonkatsu",
          "Ginataang Hipon",
          "Korean Ground Beef",
          "Adobong Pusit sa Gata",
          "Sizzling Sisig",
          "Tortang Dulong",
          "Bopis",
          "Chicken Bicol Express",
          "Filipino-style Picadillo with Potatoes",
          "Cocido",
          "Pinakbet",
          "Tokwa’t Baboy",
          "Bibingka",
          "Ginataang Puso ng Saging",
          "Paella",
          "Lumpiang Ubod",
          "Rellenong Manok",
          "Ginisang Togue",
          "Kilawing Puso nang Saging",
          "Chinese Pearl Balls",
          "Shrimp with Oyster Sauce",
          "Shrimp Broccoli Stir Fry",
          "Chicken Afritada",
          "Hawaiian Fried Rice",
          "Morcon",
          "Rellenong Hipon",
          "Kababayan",
          "Filipino-style Lasagna",
          "Instant Pot Filipino-style Spaghetti",
          "Sinigang na Inihaw na Liempo",
          "Lengua Estofado",
          "Sinigang na Hito sa Miso",
          "Ginisang Repolyo",
          "Adobong Hito",
          "Corned Beef Nilaga",
          "Ginisang Pechay",
          "Sinampalukang Kambing",
          "Waknatoy",
          "Cebuana Torta",
          "Tokwa't Baboy with Tausi",
          "Sweet and Sour Sauce Fish",
          "Coconut Curry Salmon",
          "Kalderetang Kambing",
          "Ginisang Sayote",
          "Corned Beef Hash Breakfast Pizza",
          "Coconut Shrimp",
          "Gising Gising with Bangus",
          "Ginisang Sayote with Chicken",
          "Binagoongan Fried Rice",
          "Bacon Fried Rice",
          "Lugaw at Tokwa",
          "La Paz Batchoy",
          "How to Make Shrimp Stock",
          "Crispy Tuna Shanghai",
          "Crispy Tuna Pies",
          "Ginisang Ampalaya sa Sardinas",
          "Uraro Cookies",
          "Sisig Pusit",
          "Sweet and Sour Pork",
          "Bangus ala Pobre",
          "Dinakdakan",
          "Monay",
          "Banana Meat",
          "Kinamatisang Baboy",
          "Filipino Mango and Tomato Salad",
          "Pesang Manok",
          "Pinakbet with Crispy Lechon",
          "Ensaladang Pipino",
          "Ensaladang Talbos ng Kamote",
          "Pork and Green Bean Stir-fry",
          "Ulo-Ulo Salmon",
          "Corned Beef Frittata",
          "Crab and Corn Soup",
          "Ginataang Gulay",
          "Singapore Noodles",
          "Tofu, Asparagus and Mushroom Stir-Fry",
          "Pancit Langlang",
          "Crispy Tahong (Deep-Fried Mussels)",
          "Chicken and Pork Adobo",
          "Halo-Halo",
          "Arroz ala Cubana",
          "Green Bean Mushroom Stir-fry",
          "Panda Express Chow Mein Copycat",
          "Paksiw na Bangus",
          "Loslos",
          "Honey Garlic Chicken",
          "Instant Pot Chicken Adobo",
          "Sriracha Shrimp Scampi",
          "Grilled Tuna Belly",
          "Otap",
          "Binagoongan Talong",
          "Callos",
          "Kilawing Labanos at Baboy",
          "Beef Curry",
          "Miki Bihon",
          "Pancit Lomi Guisado",
          "Coconut Lime Chicken",
          "Chinese Boiled Peanuts",
          "Lemongrass Roasted Chicken",
          "Ginataang Munggo at Baboy",
          "Ginisang Munggo at Chicharon (Mung Bean Soup with Pork Cracklings)",
          "Ginisang Munggo at Tinapa",
          "Sotanghon at Upo Soup",
          "Gising Gising",
          "Ginataang Talong",
          "Sinantomas",
          "Adobong Itlog",
          "Pork Adobo with Pineapple",
          "Asian Jalapeno Chicken",
          "Tomato, Grilled Eggplant and Salted Egg Salad",
          "Beef Afritada",
          "Moist Chocolate Cupcakes with Mocha Buttercream Frosting",
          "Humba",
          "Korean BBQ Bulgogi",
          "Taco Rice",
          "Pancit Malabon",
          "Crispy Breaded Shrimp",
          "Chicken Yakisoba",
          "Crispy Chicken Livers a la Bistek",
          "Tinapa Fried Rice",
          "Inihaw na Pusit (Grilled Squid)",
          "Nasi Goreng (Indonesian Fried Rice)",
          "Lengua in Mushroom Sauce",
          "Beef in Creamy Mushroom Sauce",
          "Sesame Chicken",
          "Chinese Chicken Salad",
          "Adobong Paa nang Manok (Chicken Feet Adobo)",
          "Chicken Sotanghon Soup",
          "Goto",
          "Hawaiian Macaroni Salad",
          "Cocido-style Nilaga",
          "Steamed Lapu Lapu with Mayonnaise",
          "Spanish-style Sardines Bangus in Olive Oil",
          "Shrimp in Black Bean Sauce",
          "Tropical Magic Bars",
          "Sushi Bake",
          "Mango Bravo Cake",
          "Cheese Dog Bread Rolls",
          "Chocolate Pandesal",
          "Pandan Pandesal with Ube Halaya Filling",
          "Chicken a la King",
          "Pineapple Pork Ribs",
          "House Special Fried Rice",
          "Siopao Bola-Bola",
          "Siopao Asado",
          "Kalihim",
          "Pineapple Fried Rice",
          "Black Pepper Chicken",
          "Pork Asado",
          "Escabeche Lapu Lapu",
          "Red Velvet Pandesal",
          "Chicken Inasal",
          "Sardines Caldereta",
          "Ube Cheese Pandesal",
          "Chicken Adobo",
          "Ukoy",
          "Sizzling Gambas",
          "Creamy Tuna Pasta Salad",
          "Sotanghon at Bola Bola Sopas (Cellophane Noodles and Meatball Soup)",
          "Chicken Adobo with Liver Spread",
          "Adobong Puti",
          "Lumpiang Prito",
          "Calamansi Muffins",
          "Adobong Dilaw",
          "Adobong Manok sa Patis",
          "Chicken Caldereta",
          "Marikina Everlasting",
          "Paksiw na Lechon",
          "Chicken Asado",
          "Christmas Fruitcake",
          "Arroz Valenciana",
          "Lechon Manok",
          "Mini Special Sapin-Sapin",
          "Inihaw na Liempo",
          "Sizzling Tofu",
          "Batsui",
          "Impossible Chocolate Flan Cake",
          "Pichi-Pichi",
          "Pork Pochero",
          "Dinuguan",
          "Pininyahang Manok",
          "Pinaputok na Tilapia",
          "Tiniim na Manok",
          "Nilagang Baka",
          "Homemade Kikiam",
          "Pork Giniling with Quail Eggs",
          "Turon Malagkit",
          "Cheater's Siopao Bola-Bola",
          "Black Forest Swiss Roll",
          "Pinangat na Pompano",
          "Pork Spareribs Macao-style Asado",
          "Bangus sa Tausi (Milkfish with Tomatoes and Black Beans)",
          "Sinigang na Hipon sa Calamansi",
          "Bicho-Bicho",
          "Siomai",
          "Hoisin-Glazed Salmon",
          "Bicol Express",
          "Beef Caldereta",
          "Arroz Caldong Paa ng Manok (Congee with Chicken Feet)",
          "Corned Beef Sinigang",
          "Chicken Salad",
          "Southwestern Chicken Egg Rolls",
          "Crispy Soy Chicken",
          "Lumpiang Prito with Pork",
          "Pininyahang Pork",
          "Sago at Gulaman",
          "Pork Hamonado",
          "Pork Afritada",
          "Igado",
          "Pork Guisantes",
          "Chicken Curry",
          "Bringhe",
          "Chicken Sopas",
          "Pork Menudo",
          "Chicken Pastel",
          "Beef and Baby Corn Stir-fry",
          "Sweet and Sour Meatballs",
          "Giniling na Baboy",
          "Chicken Sisig",
          "Plum Sauce Chicken Lollipops",
          "Steamed Spareribs with Black Beans",
          "Filipino-style Macaroni Salad",
          "American Chop Suey",
          "Sizzling Balut",
          "Sweet Potato Dinner Rolls",
          "Filipino-style Barbecue Chicken",
          "Binagoongan Baboy",
          "Yema Cake",
          "Chicken Rice Congee",
          "Hawaiian Chicken",
          "Asian Cucumber Tomato Avocado Salad",
          "Carne Guisada",
          "Pineapple Coleslaw",
          "Minced Chicken in Lettuce Cups",
          "Monggo Bread Loaf",
          "Ginisang Upo with Pork",
          "Pancit Upo",
          "Pianono (Filipino Sponge Cake Roll)",
          "Pan de Coco",
          "Filipino-style Fried Chicken",
          "Pineapple Chicken Afritada",
          "Ukoy na Togue",
          "Hardinera",
          "Sipo Egg with Shrimp and Ham",
          "Filipino-style Chicken Baked Macaroni",
          "Easy Pancit Luglug",
          "Crispy Fried Calamari",
          "Spare Ribs with Ketchup and Pineapple",
          "Sinanglay na Tilapia",
          "Pancit Bihon Guisado",
          "Pata Tim",
          "Bulanglang na Bangus at Hipon",
          "Lumpiang Hubad",
          "Grilled Shrimp Mango Avocado Salad",
          "Lumpiang Togue",
          "Yang Chow Fried Rice",
          "Honey Walnut Shrimp",
          "Thai Mango Salad",
          "Lumpiang Galunggong",
          "Bangus Sisig",
          "Filipino-style Spaghetti",
          "Pork Embutido",
          "Ginataang Sigarilyas at Kalabasa",
          "Filipino-style Pasta Carbonara",
          "Ginisang Sardinas at Miswa",
          "Homemade Fish Balls with Spicy Fish Ball Sauce",
          "Hawaiian Bread Pudding",
          "Binagoongan Baboy sa Gata",
          "Beef Pares",
          "Pinatisang Manok",
          "Mexican Pork Adobo",
          "Ginisang Upo at Sardinas",
          "Lalaine's Stewed Chicken and Potatoes in Fish Sauce",
          "Filipino Tamales",
          "BBQ Pork Ears",
          "Filipino Beef Tapa",
          "Beef Wonton Mami",
          "Salt and Pepper Pork Chops",
          "Ginisang Ampalaya Leaves with Tinapa",
          "Chizza",
          "Ginataang Seafood",
          "Pork Ribs Adobo with Atsuete",
          "Ginisang Gulay",
          "Pancit Sotanghon",
          "Laswa",
          "Dynamite Lumpia",
          "Mango Curry Chicken",
          "Java Rice",
          "Maruya",
          "Pancit Canton",
          "Chicken Potato Salad",
          "Filipino-style Pineapple Glazed Ham",
          "Ampalaya con Carne",
          "Baked Macaroni with Cheese Topping",
          "Chicken Tocino",
          "Nilagang Baboy",
          "Ampalaya with Chicken Feet",
          "Beef, Potato and Pechay Soup",
          "Beef Mechado",
          "Relyenong Bangus",
          "Sweet and Sour Sauce",
          "Crispy Pata",
          "Atchara",
          "Kare-Kare",
          "Salt and Pepper Shrimp",
          "Sinabawang Tahong",
          "Arroz Caldo",
          "Sipo Egg",
          "Bagis",
          "Suam na Mais",
          "Sinampalukang Manok",
          "Chop Suey",
          "Pesang Dalag",
          "Tinolang Manok",
          "Pork Adobo",
          "Sinigang na Baboy",
          "Fried Eggplant (Crispy Fritters / Talong Okoy)",
          "Stir Fry Eggplant Recipe",
          "Ham Fried Rice",
          "Crispy Pancit Canton Noodles Recipe",
          "How to Cook Easy Pork Afritada",
          "Pork and Shrimp Siomai with Chili Garlic Oil",
          "Pork Chop Steak",
          "Creamy Tofu with Mixed Vegetables",
          "Egg Fried Rice Recipe",
          "Cheesy Pork Caldereta",
          "Cheesy Lumpiang Shanghai",
          "Lechon Sinigang",
          "Crispy Palabok",
          "Crispy Fried Chicken with Mushroom Gravy",
          "Truffle Mushroom Pasta",
          "Pork Belly with Boiled Eggs in Oyster Sauce",
          "Crispy Tofu Fried Chicken with Chicken Gravy",
          "Filipino Spaghetti Recipe",
          "Tofu and Broccoli Stir fry",
          "Ginisang Puso ng Saging",
          "Panlasang Pinoy Special Pancit Canton",
          "Chicken Adobo Recipe (boneless thigh)",
          "Easy Chicken Ala King",
          "Nilagang Pata",
          "Crispy Fried Chicken",
          "Beef Empanada Recipe",
          "Chili Ginger Chicken",
          "One Pot Spaghetti",
          "Chicken Fried Rice Recipe",
          "Garlic Mushroom",
          "Fish in Coconut Milk with Pineapple",
          "Garlic Tokwa and Kangkong in Oyster Sauce",
          "Air Fried Peach Mango Pie",
          "Japanese Curry Recipe",
          "Eggplant with Ground Pork in Oyster Sauce",
          "Chicken Afritada sa Gata",
          "Easy Pata Tim Recipe",
          "Monggo Pinakbet Recipe",
          "Fried Chicken Potato Salad",
          "Seafood Lomi Recipe",
          "Oven BBQ Spareribs",
          "Creamy Macaroni Sopas",
          "Pinoy Breakfast Omelet and Bacon Garlic Fried Rice",
          "Tofu Balls Almondigas with Misua and Patola",
          "Pork Binagoongan sa Gata",
          "Pinoy Carbonara Recipe with Ham and Bacon",
          "Creamy Beef with Mushroom",
          "Creamy Sipo Egg with Chicken Gizzard",
          "Pepper Pork Belly Recipe",
          "Veggie Balls with Manong Sauce",
          "Crab and Corn Chopsuey",
          "Pork Belly Asado",
          "Amazing Cabbage Recipe",
          "Kakaibang Filipino Chicken Adobo",
          "Upo Recipes (bottle gourd)",
          "Better Beef Nilaga",
          "How to Cook Sinigang na Bangus",
          "Kare Kare Buntot ng Baka",
          "Nutritious Ulam Idea",
          "Tofu Vegetable Stir Fry",
          "Relyenong Talong with Tuna",
          "Special Lunch Menu",
          "Crispy Cabbage Rolls",
          "Butter Garlic Fried Chicken",
          "Kinamatisang Manok",
          "Fish Sinigang Recipe",
          "Ginataang Sitaw at Kalabasa with Fried Tilapia",
          "Pork Monggo with Fried Galunggong",
          "Sinarsahang Pork Ribs",
          "Sotanghon Guisado",
          "Balbacua Recipe",
          "Tastylicious Adobong Pusit Recipe",
          "Asian Chicken Lettuce Wrap",
          "No Bake Macaroni",
          "Loco Moco Recipe",
          "Loaded Nachos Recipe",
          "Longganisa Pasta",
          "Pinoy Burger Steak Recipe",
          "Pineapple Fried Rice",
          "Ham Katsu",
          "Cheesy Ham Steak with Bacon and Mushroom",
          "Hawaiian Pizza (No Bake)",
          "Crispy Katsu Sando",
          "Orange Crispy Burger",
          "Corned Beef Saute",
          "Breakfast Burrito",
          "Cheesy Corned Beef Balls",
          "Tocino Fried Rice Recipe",
          "Luncheon Meat Caldereta",
          "Easy Sisig Recipes",
          "Not Your Ordinary Chicken Adobo",
          "The Only Filipino Spaghetti Recipe That I Trust for the Holidays",
          "Crispy Pata Kare Kare",
          "Embutido Cordon Bleu",
          "Lasagna Roll-Ups",
          "Crispy Pata Dinakdakan",
          "Christmas Chicken Curry",
          "Ham and Chicken Macaroni Salad",
          "Fried Chicken with Mayo Garlic Glaze",
          "Killer Crispy Sinigang",
          "Creamy Chicken Pasta with Bacon",
          "All Out Pancit Canton",
          "Crispy Lechon Belly with Bacon",
          "Sisig Paella",
          "Festive Tuna Carbonara",
          "Garlic Pepper Beef",
          "Seafood Boil",
          "Easy Seafood Paella",
          "Pinoy Chicken Sopas",
          "Popcorn Chicken and Gravy KFC Style Secret Recipe",
          "Idol Cheesedog Bread Roll and Bites",
          "Perfect Chicken Adobo on a Budget",
          "Creamy Mushroom Chicken",
          "Filipino Style Beef Steak",
          "Chicken Mechado",
          "Igado Recipe",
          "Lemon Garlic Shrimp Pasta",
          "Chicken Katsu Curry",
          "Chicken Empanada Recipe",
          "Sinigang",
          "Pork Afritada Recipe",
          "Pinoy Chicken Curry Recipe",
          "Tokwat Baboy Recipe",
          "Betamax Recipe",
          "Filipino Style Escabeche",
          "Baked Garlic Salmon and Easy Tofu Sisig",
          "Pork and Chicken Sinigang",
          "Bopis Recipe",
          "Malapot na Pininyahang Manok",
          "Kilawing Kambing",
          "Chicken Gising-gising",
          "Bagnet Pancit Canton",
          "Utan nga Langka Recipe",
          "Pork Giniling with Oyster Sauce",
          "Chicken Gizzard Bicol Express",
          "Tapa and Egg Fried Rice",
          "Chicken Sandwich",
          "Chili Garlic Oil Recipe",
          "Filipino Style Pork and Chicken Barbecue",
          "Macaroni Salad",
          "Inihaw na Liempo at Pusit",
          "Cheeseburger and Hotdog Sandwich Recipe",
          "Spicy Eggplant Stir Fry Recipe",
          "Lengua Kare-Kare Recipe",
          "Grilled Cheese Sandwich and Chicken Tenders",
          "Estofado Recipe (Probinsya Style)",
          "How to Cook Steak",
          "Chili Garlic Crab and Shrimp Recipe",
          "Pork Picadillo Recipe",
          "Beef Broccoli Recipe with Carrots",
          "Pork Curry Tinola",
          "Most Delicious Pork Adobo Recipe",
          "Healthy Ginataang Gulay with Tofu and Shrimp",
          "Paksiw na Pata",
          "Ginataang Monggo with Tofu and Malunggay",
          "Chicken Sotanghon Tinola Recipe",
          "Ginataang Hipon, Sitaw, at Kalabasa",
          "Sushi Bake",
          "Chicknigang Recipe",
          "Tochong Bangus",
          "Arroz Caldo Recipe",
          "Pinapaitan sa Ampalaya",
          "Crispy Bagnet Recipe",
          "Homemade Lechon Paksiw",
          "Coconut Shrimp",
          "Pasta Carbonara Filipino Style",
          "KFC Fried Chicken Recipe",
          "Hardinera (Jardinera) Recipe",
          "Beef Caldereta Recipe",
          "Sizzling Tofu Sisig",
          "Creamy Macaroni Salad Recipe",
          "Pan Fried Noodles",
          "Callos Recipe",
          "Beef Stroganoff Lasagna",
          "Garlic Butter Shrimp Pancit Canton",
          "Porknigang (Sinigang na Baboy)",
          "Beef Pares Lomi",
          "Pancit Palabok Recipe",
          "Kakaibang Tokwat Baboy",
          "Kalderetang Kambing",
          "Bam-I Recipe",
          "How to Make Macaroni Salad for the Holidays",
          "Creamy Baked Salmon",
          "Baked Spaghetti",
          "Beef Mechado Recipe",
          "Ginisang Ampalaya",
          "Bibingka Recipe",
          "Pininyahang Baboy sa Gata",
          "Vegetable Okoy",
          "Cheesy Onion Rings",
          "Garlic Roast Chicken",
          "Crispy Ulo and Lechon Sauce",
          "Masarsang Menudo",
          "Almondigas Recipe",
          "Crispy Garlic Bangus and Cream of Pumpkin Soup",
          "Ginisang Sigarilyas",
          "Shrimp Bisque and Clubhouse Sandwich",
          "Beef Salpicao",
          "Patotin Recipe",
          "Pancit Chami Tamis Anghang Recipe",
          "Sinarsahang Manok",
          "Chopsuey with Chicken and Broccoli",
          "No Oven Baked Macaroni Recipe",
          "Pata Estofado Recipe",
          "Killer Pork Sinigang Recipe",
          "Pork Chao Fan Recipe",
          "Baked Macaroni Recipe",
          "Ketchup Fried Chicken",
          "How to Cook Dinuguan Using Sinigang Mix",
          "Laswa Recipe",
          "Java Rice with Pork chop",
          "Father’s Day Chicken Macaroni Salad",
          "Binagoongan Bagnet with Talong",
          "Ginisang Munggo (Monggo)",
          "Nagmamantikang Pork Adobo",
          "Banana Bread Recipe",
          "Pancit Bihon with Lechon Kawali",
          "Pinaputok na Tilapia Recipe",
          "Binagoongang Talong Recipe",
          "Air Fryer Crispy Pata",
          "Siopao Asado Recipe",
          "Pork Menudo",
          "Pork Caldereta Recipe",
          "Bicol Express Gising-gising",
          "Nilagang Baka Recipe",
          "Chicken Afritada Recipe",
          "Easy Utan Bisaya (Law-Uy)",
          "Chicken Paksiw",
          "Chicken Igado Recipe",
          "Pork Steak Recipe",
          "Crispy Kare-kare",
          "Ginataang Kalabasa at Sitaw",
          "Filipino Chicken Macaroni Salad Recipe",
          "Sinigang Mix Inasal na Manok",
          "Pork Katsu Curry Recipe",
          "Ginataang Talong with Malunggay and Tofu",
          "Chop Suey",
          "Pata Tim Recipe",
          "Chicken Binagoongan",
          "Pork Dinuguan Isaw at Tenga ng Baboy",
          "Ginisang Labanos Recipe",
          "Sizzling Pusit",
          "Pinakbet Tagalog Recipe",
          "Air Fried Fish Sinigang sa Miso",
          "Sweet and Sour Chicken Meatballs",
          "Burger Steak",
          "Pineapple Chicken Afritada",
          "Pork Ribs Binagoongan with Talong",
          "How to Cook Crispy Eggplant Fries",
          "Pork Menudo sa Gata",
          "Filipino Vinegar Dipping Sauce",
          "Mutya ng Cavite",
          "Beef Pares Kanto Style",
          "Beef Stroganoff",
          "McDonalds Style Chicken Nuggets",
          "Crispy Fried Chicken (Spicy Version)",
          "Pata Pochero",
          "Pancit Batil Patung Recipe",
          "Tuscan Salmon",
          "Chicken Kare-kare sa Gata",
          "Lechon Paksiw",
          "Ginataang Alimasag with Sitaw at Kalabasa",
          "Goto Laman Loob and Tokwat Baboy",
          "Humba Recipe (Bisaya Version)",
          "Filipino Beef Caldereta (Pulutan Style)",
          "Spicy Sotanghon Chicken Soup",
          "Garlic Bihon Recipe",
          "Pata Kare Kare Recipe",
          "Pinatuyong Pork Hamonado",
          "Pininyahang Manok",
          "Pork Sisig",
          "Pininyahang Manok sa Gata",
          "Tokwa at Baboy Humba",
          "Arroz Palabok",
          "Tipid Sarap Monggo",
          "Puto Pao",
          "Crispy Air Fried Liempo Pinakbet with Ube",
          "Chicken Feet in Oyster Sauce with Salted Black Beans",
          "Kinamatisang Baka",
          "Beef Asado",
          "Killer Chicken Adobo",
          "Easy Beef Nachos",
          "Eggplant and Sardine Omelet",
          "Creamy Lengua with Corn",
          "Sweet and Sour Tilapia",
          "Sweet Pata Asado",
          "Lumpiang Ubod",
          "Spare Ribs Hamonado",
          "Pesang Isda with Ginisang Miso",
          "Coke Pork Adobo",
          "Salmon Sisig",
          "Bulalo Kare-Kare",
          "Chicken Hinalang (Halang-halang na Manok)",
          "Tuna Pasta Alfredo",
          "Seafood Curry",
          "Monte Cristo",
          "Aligue Fried Rice",
          "Sprite Pork Adobo Recipe",
          "Peach Mango Nuggets",
          "Crispy Liempo Sinigang Rice",
          "Max’s Style Fried Chicken with Kamote Fries",
          "Pork Menudo sa Gata",
          "Sinantomas",
          "Chicken Sotanghon Soup with Malunggay at Sayote",
          "Corned Beef Lomi Batangas Style",
          "Ginataang Sapsap",
          "Chicken Potato Salad",
          "Tortang Noodles at Sardinas",
          "Saucy Beef with Broccoli",
          "Sardines Fish Ball with Sweet and Sour Sauce",
          "Spareribs Kaldereta",
          "Adobong Manok sa Buko",
          "Fish Sinigang",
          "Adobong Manok sa Gata",
          "Beef and Baby Corn Stir Fry Recipe",
          "Sinanglay na Tilapia Recipe",
          "Easy Kung Pao Shrimp Recipe",
          "Low-Carb Breaded Pinatisang Baboy",
          "Shrimp Laing Recipe",
          "Beef Hinalang Recipe",
          "Crispy Pork Binagoongan",
          "Chicken Caldereta Recipe",
          "Chicken Lollipop Recipe",
          "Easy Adobong Pusit Recipe",
          "Creamy Garlic Parmesan Chicken with Mushrooms",
          "Banana Fritter Recipe",
          "Pork Burger Steak with Mushroom Gravy",
          "Beef Kaldereta sa Gata with Peanut Butter",
          "Ginataang Tulingan",
          "Easy Palabok Recipe",
          "Bulalugaw Recipe",
          "Pork Siomai",
          "Sinigang na Hipon",
          "Chicken Mami Recipe",
          "Pork Monggo with Kangkong Recipe",
          "Ham and Egg Fried Rice with Sweet Peas",
          "Sinigang na Lechon",
          "Beef Stroganoff",
          "Longanisa Lumpiang Shanghai",
          "Chicken and Pork Embutido",
          "Sizzling Crispy Sisig",
          "Beef Tripe Kare Kare",
          "No Bake Filipino Style Lasagna",
          "Yang Chow Fried Rice Recipe",
          "Chicken Alfredo",
          "Pinoy Style Baked Macaroni with White Sauce",
          "Chicken and Egg Macaroni Salad",
          "Macaroni Fruit Salad",
          "Pochero with Pork and Beans",
          "Ginataang Manok with Papaya",
          "Chicken Liver and Gizzard Stew with Quail Eggs and Snap Peas",
          "Steamed Fish with Mayonnaise",
          "Lechon Belly Roll",
          "Easy Classic Macaroni Salad",
          "Chicken Pancit Habhab",
          "Pinoy Style Pork and Chicken Curry",
          "Chicken Bicol Express",
          "7Up Fried Chicken",
          "Crispy Dinakdakan",
          "Mayo Brownies",
          "Crispy Dinuguan",
          "Easy Chicken Adobo Recipe",
          "Creamy Chicken Pastel",
          "Meaty Spaghetti Recipe",
          "Longanisa Fried Rice and Ginisang Corned Beef with Kalabasa",
          "Homemade Kalabasa and Corned Beef Nuggets",
          "Ukoy Dulong Recipe",
          "Buko Pandan",
          "Pork Adobo with Tokwa and Tausi and Garlic Fried Rice Adobo",
          "Bangus Sisig",
          "Eggplant Meatballs Talong Bola Bola Recipe",
          "Kilawing Labanos Recipe",
          "Nilagang Manok Recipe",
          "Sweet and Sour Pork Recipe",
          "Chicken Adobo Fried Rice and Tortang Corned Beef",
          "Asian Beef with Mushroom",
          "Pork and Chicken Adobo Recipe",
          "Red Wine Beef Stew",
          "Paksiw na Pata Recipe",
          "Paklay Recipe",
          "Chicken Lumpia",
          "Chicken Pasta with Creamy Basil Sauce",
          "Sinigang na Pata with Gabi",
          "Pork Lomi",
          "Ginataang Bitsuelas",
          "Ginisang Togue Recipe",
          "Creamy Lengua in White Sauce",
          "Creamy Garlic Salmon",
          "Hamonadong Baboy",
          "Sarciadong Manok",
          "Rellenong Pusit",
          "Seared Shrimp Macaroni Salad with Roasted Bell Pepper",
          "Easy Liempo Inihaw",
          "Super Tasty Chop Suey",
          "Ginataang Mackerel",
          "Vegetarian Pancit Canton",
          "Chicken Sotanghon Soup",
          "Dynamite Lumpia",
          "Soup Number 5",
          "Inihaw na Bangus Recipe (Grilled Milkfish)",
          "Eggplant Salad",
          "Tinolang Tahong Recipe",
          "Pinoy Pork Barbeque",
          "Tapsilog",
          "Inasal Recipe",
          "Beef Pares",
          "Pancit Canton Recipe",
          "Chicken Pancit Recipe",
          "Pork Adobo in Pineapple Juice with Boiled Eggs",
          "Creamy Chicken Sopas",
          "Beef Kaldereta Recipe",
          "Ginisang Monggo with Dilis",
          "Crispy Pata Recipe",
          "Sipo Eggs Recipe",
          "Squid Ball Chop Suey",
          "Ginataang Tilapia",
          "Sinigang na Baboy with Gabi",
          "Kaldereta sa Gata",
          "Spaghetti and Meatballs",
          "Chicken Pochero Recipe",
          "Salisbury Steak with Mashed Potato",
          "Homemade Pork Tocino",
          "Pork Dumpling",
          "Longevity Noodles with Chicken and Mushroom",
          "Crab and Corn Pearl Soup and Chinese Spring Roll",
          "Easy Chicken Adobo",
          "Lumpiang Hubad Recipe",
          "Adobong Pusit Recipe",
          "Pork Binagoongan Recipe",
          "Deep Fried Siomai",
          "Beef with Broccoli",
          "Pata Hamonado",
          "Potato Salad with Carrots and Pineapple",
          "Chicken Pastel Recipe",
          "Ampalaya Con Carne Recipe",
          "Chocolate Crinkle Cookies",
          "Pork Dinuguan Recipe",
          "Lumpia Recipe",
          "Christmas Lasagna",
          "Gising Gising Recipe",
          "Bistek Tagalog (beefsteak) Recipe",
          "Chicken Tinola Recipe",
          "Chicken Adobo",
          "Kare Kare",
          "Super Crispy Pata with Yummy Sawsawan",
          "Embutido Recipe",
          "Filipino Style Chicken Curry Recipe",
          "Carbonara Recipe Filipino Style",
          "Kare Kare Recipe",
          "Chicken Hamonado",
          "Easy Pinoy Spaghetti Recipe",
          "Spicy Pork Kaldereta Recipe",
          "Sisig Recipe",
          "Pancit Guisado Recipe",
          "Filipino Sweet Macaroni Salad",
          "Lumpiang Shanghai Recipe",
          "Chicken Kare Kare Recipe",
          "Filipino Pork Menudo Recipe",
          "Mongolian Beef Recipe",
          "Filipino Style Spaghetti Recipe",
          "Adobong Sitaw at Kangkong with Chicharon",
          "Paksiw na Bangus Recipe",
          "Bacon and Egg Macaroni Salad with Green Peas",
          "Chicken ala King Recipe",
          "Kangkong with Squid Balls in Oyster Sauce",
          "Pork Kare Kare Recipe",
          "Salmon Sinigang Recipe",
          "Rich and Creamy Chicken Sopas with Bacon",
          "Ginataang Lechon Kawali with Kalabasa and Long Green Beans",
          "Cheesy Chicken Afritada Recipe",
          "Root Beer Pork Steak",
          "Buffalo Chicken Wings Recipe with Sauce",
          "Ginisang Upo at Kalabasa - Sauteed Opo and Butternut Squash",
          "Ginataang Baka – Beef in Coconut Milk with Green Beans and Spinach",
          "Nilagang Baka with Kalabasa – Filipino boiled beef Soup",
          "Corned Beef Baked Macaroni",
          "Ginisang Upo with Ground Pork and Shrimp",
          "Bulanglang na Gulay (Batangas)",
          "Luncheon Meat Mac Salad with Cheese",
          "Sizzling Liempo Sisig",
          "Ginataang Salmon (Salmon in Coconut Milk)",
          "Ketogenic Bacon and Egg Salad",
          "Sinigang na Sugpo Recipe",
          "Filipino Fried Pork Chop Recipe with Tomato and Salted Egg",
          "Shrimp with Butter and Taba ng Talangka Recipe",
          "Pocherong Baboy Recipe",
          "Calderetang Baboy Recipe",
          "Spicy Tokwat Baboy Recipe",
          "Oxtail Soup Recipe",
          "Crispy Bicol Express",
          "Chicharon Bulaklak with Spicy Vinegar",
          "Sinigang na Bangus Recipe",
          "Pata at Hipon sa Gata na May Monggo at Langka",
          "Tanigue Fish Steak ala Bistek",
          "Classic Macaroni Salad Recipe",
          "7Up Chicken Asado",
          "Estofadong Baboy",
          "Bopis na Manok",
          "Filipino Shrimp Curry Recipe",
          "Paksiw na Salmon sa Gata",
          "Tuna Sisig",
          "Chicken Cordon Bleu with Dijon Cream Sauce",
          "Beef Ribs Sinigang",
          "Chicken Inasal BBQ Recipe",
          "Tuna Macaroni Salad",
          "Ginataang Hipon na may Sitaw at Kalabasa",
          "Ginisang Upo with Sardinas",
          "Corned Beef Sinigang",
          "Binignit Recipe",
          "Pork Bola Bola Soup with Misua and Patola",
          "Mechadong Baka Recipe",
          "15 Minute Pork Stir Fry",
          "Adobong Baboy sa Gata (Pork Adobo in Coconut Milk)",
          "Puchero Bulalo",
          "Salted Egg Prawns",
          "Lumpiang Sariwa with Fresh Lumpia Wrapper",
          "Pinoy Style Chicken Macaroni Salad",
          "Ginataang Monggo with Pork Recipe",
          "Healthy Chicken Menudo",
          "No Bake Lasagna",
          "Popcorn Chicken Recipe",
          "Bacon and Egg Chicken Adobo",
          "Putok Batok Crispy Pata Slices",
          "Ginisang Ampalaya na May Itlog at Hipon (Sauteed Bitter Melon with Egg and Shrimp)",
          "Chicken Meatball Noodle Soup",
          "Beef Tinola Recipe",
          "Chicken Mami",
          "Pancit Canton at Bihon Recipe",
          "Sauteed Green Beans with Ground Beef",
          "Deep Fried Bulalo with Restaurant Style Teriyaki Sauce",
          "Golden Chicken Rice Balls with Crab and Corn Soup",
          "Pork Siomai and Nido Oriental Style Soup",
          "Pork Ginataan",
          "Sotanghon with Upo Soup",
          "Picadillo Recipe",
          "Tinolang Manok sa Upo",
          "Pancit Malabon",
          "Pork Empanada Recipe",
          "Shrimp and Chicken Pancit Canton",
          "Homemade Pork and Beans Recipe",
          "Pandesal and Sardines Pizza",
          "Nilagang Buto-buto ng Baka Recipe",
          "How To Cook Filipino Chicken Arroz Caldo",
          "Spanish Sardines Pasta with Sun Dried Tomato and Chopped Olives",
          "Lechon Belly Pork Adobo Recipe",
          "Chicken Nilaga with Kalabasa",
          "Stuffed Beef and Pork Burger Patties",
          "Oxtail Stew",
          "Ginataang Santol (Sinantolan) Recipe",
          "Crispy Lechon Belly Recipe",
          "Paella Negra (Arroz Negre) Recipe",
          "Crispy Fried Mahi Mahi Sarciado",
          "Bacon and Egg Chicken Adobo",
          "Manila Clam and Mussel Tinola Recipe",
          "Butter Garlic Shrimp and Squid",
          "Bibingka Muffins",
          "Cioppino Recipe",
          "Christmas Chicken and Ham Macaroni Salad",
          "Homemade Cured Ham with Brown Sugar Honey Glaze",
          "Filipino Pork Menudo Recipe",
          "Oxtail Kare-Kare Recipe",
          "Dinengdeng na Saluyot with Tinapa",
          "Special Pork Kaldereta",
          "Pinoy Spaghetti Recipe",
          "Grilled Rib Eye Steak with Arroz Amarillo",
          "Noche Buena Lumpiang Shanghai",
          "Chopsuey Stir Fry",
          "Pocherong Baka Recipe",
          "Ginisang Reployo with Giniling",
          "Paksiw na Lechon Kawali",
          "Tonkatsu Sinangag at Itlog",
          "Pancit Sotanghon Na May Hipon",
          "Super Special Chopsuey",
          "Filipino Style Creamy Bacon and Mushroom Carbonara",
          "Fish Lumpia Recipe",
          "Palabok Recipe",
          "Buffalo Pork Ribs Recipe",
          "Panlasang Pinoy Bibingkang Galapong",
          "Beef Pot Roast",
          "Pork Chop Steak ala Bistek",
          "Anghang Sarap Laing",
          "Sizzling Tuna Sisig",
          "BBQ Chicken Wrap",
          "Ginataang Manok Na May Luyang Dilaw",
          "Extremely Spicy Pork Adobo na Tuyo",
          "How to Make Kimchi at Home",
          "How to Cook Sinampalukang Manok",
          "Spicy Honey Chicken with Steamed Vegetables",
          "Buttermilk Waffles",
          "Gotong Batangas Recipe",
          "Grilled Liempo with Fried Tofu",
          "Cheesy Crab and Corn Nachos",
          "Spicy Calderetang Kambing with Peanut Butter (Goat Meat Caldereta)",
          "Ginataang Langka with Alimasag",
          "Spicy Monggo with Tinapa",
          "Seafood Pancit Canton",
          "Seafood Sinigang",
          "Ma Po Tofu Recipe",
          "Fried Galunggong with Salted Egg and Tomato Salad",
          "Chicken Adobo sa Gata",
          "Inihaw na Galunggong with Ensaladang Talong",
          "Kilawing Tuna with Coconut Cream (Fish Ceviche)",
          "Beef Short Rib Kare Kare",
          "Crispy Tofu Sisig",
          "Tortang Talong with Ground Pork Recipe",
          "Chicken Curry",
          "Asadong Baboy",
          "Sizzling Tofu",
          "Beef Short Rib Sinigang Na May Pakwan",
          "Sauteed Bottle Gourd with Ground Pork and Shrimp",
          "Grilled Stuffed Squid (inihaw na pusit)",
          "Afritadang Baboy",
          "Corned Beef with Cabbage and Potato",
          "Sinigang na Salmon sa Miso",
          "Bulalo Beef Pares Recipe",
          "Sweet and Sour Red Snapper",
          "Sausage Peppers and Onion Skillet",
          "Shrimp Monggo with Lechon Kawali",
          "Grilled Pork Belly with Garlic Fried Rice and Fried Egg - Liempo Sinangag Itlog",
          "Ginisang Monggo with Inihaw na Liempo",
          "Filipino Style Pork BBQ",
          "Pork Nilaga Recipe",
          "Ginisang Pechay with Ground Pork and Shrimp (Sauteed Bok Choy)",
          "Ginisang Sitaw at Kalabasa with Shrimp",
          "Lobster Pasta in Creamy Alfredo Sauce Recipe",
          "Chicken Arroz Caldo Recipe",
          "Pork Pata Humba Recipe",
          "Pork Monggo Recipe",
          "Shrimp Pancit Bihon Recipe",
          "Moist Banana Bread with Raisins",
          "Braised Pork Belly in Soy Sauce (Tau Yew Bak)",
          "Pork Menudo with Ham Recipe",
          "Ginataang Manok with Sitaw at Kalabasa",
          "Spicy Ginataang Hipon Recipe",
          "Chicken Adobo with Egg",
          "Pork Dinuguan sa Gata Recipe",
          "Pork Bicol Express Recipe",
          "Ginisang Sardinas with Ampalaya",
          "Tofu and Green Bean Stir Fry in Oyster Sauce with Salted Black Beans",
          "Pinakbet with Squid in Coconut Milk (Pinakbet sa Gata)",
          "Spicy Wonton Soup Recipe",
          "Adobong Pusit sa Gata",
          "Monggo with Hibi (Mung beans with small dried shrimp)",
          "Pesang Baboy at Manok Recipe",
          "Stir Fried Pepper Steak",
          "Dinendeng with Bilong-bilong Recipe",
          "Inihaw na Baboy",
          "Pata Paksiw Recipe",
          "Batangas Bulalo Recipe",
          "Adobong Sitaw with Lechon Kawali",
          "Tuna in Can Sarciado",
          "Seafood Bicol Express",
          "Chicken Soup with Misua and Patola",
          "Chicken Lomi Recipe",
          "Special Longanisa Fried Rice Recipe",
          "Chicken Molo Soup",
          "Simple Chicken Noodle Soup",
          "Shrimp Scampi with Linguine",
          "Pork Pochero Recipe",
          "Spicy Ginataang Baboy with Papaya and Malunggay",
          "Tinola Chicken Mami",
          "Saucy Pancit Canton",
          "Tinolang Manok sa Gata",
          "Pork Adobo with Sitaw",
          "Binakol na Manok Recipe",
          "Fried Noodles with Chicken and Shrimp",
          "Classic Tinolang Manok Recipe",
          "Stir Fried Beef with Oyster Sauce and Snap Peas",
          "Mini Banana Cake with Walnuts for Kids",
          "Mung Bean Sprouts with Shrimp",
          "Lengua in White Mushroom Sauce",
          "Seared Scallops in Herbed Butter Sauce Recipe",
          "Special Chicken Embutido Recipe (Filipino Chicken Meatloaf)",
          "Dinaldalem Recipe",
          "Lengua Estofado Recipe",
          "Pinoy Style Carbonara",
          "Pork Tenderloin Salpicao",
          "Adobong Okra with Pork Recipe",
          "How To Cook Beef Kaldereta",
          "Slow Cooked Beefsteak (Bistek Tagalog)",
          "Spicy Camaron Rebosado (Deep Fried Beer Battered Shrimp)",
          "Beef Pares Mami Noodles Recipe",
          "Fried Tilapia in Coconut Milk (Ginataang Tilapia)",
          "Pork Chop Bicol Express",
          "Cheesy Baked Macaroni",
          "Classic Beef Morcon Recipe",
          "Crockpot Beef Pares Recipe",
          "Chicken Pastel in a Cup",
          "Pork Mechado Recipe",
          "Tuna Salad Over Crackers",
          "Tuna Jaw Sinigang",
          "Basic Pork Adobo Recipe",
          "Pork Embutido",
          "Oat Bran Chocolate Chip Cookie",
          "Pancit Luglug Recipe",
          "Pork Chop Sinigang",
          "Pork and Scallion Stir Fry Recipe",
          "Apple Cake Recipe",
          "Paksiw na Lechon Manok",
          "Chicken Afritada with Bell Pepper",
          "Bok Choy with Garlic and Oyster Sauce",
          "Crispy Tenga Recipe (Crispy Pig Ears)",
          "Chicken Potato Salad",
          "Panlasang Pinoy Spaghetti",
          "Royal Bibingka",
          "Sinigang na Buntot ng Baboy with Gabi",
          "Fiesta Menudo",
          "Lechon Manok Recipe",
          "Lechon Manok Sauce Recipe",
          "Misua with Patola and Meatballs",
          "Nilasing na Tilapia Recipe",
          "Grilled Liver Bistek",
          "Ginataang Gulay with Pork and Shrimp",
          "Pinakbet with Lechon Kawali",
          "Simple Chicken Afritada",
          "Dark Chocolate Banana Bread",
          "Tinolang Isda",
          "Beef Kare-Kare Recipe",
          "Oven Baked Pork Chop Silog with Atchara",
          "Inihaw na Pusit with Scallion",
          "Pancit Cabagan Recipe",
          "Chopsuey with Quail Eggs",
          "Cansi Recipe (Ilonggo Bulalo and Sinigang in one Delicious Soup Dish)",
          "Crawfish in Coconut Milk with Spinach",
          "Sinigang na Bangus Belly sa Miso",
          "Apan - Apan Recipe (Adobong Kangkong with Fried Pork)",
          "Kinilaw na Tanigue Recipe (Fish Ceviche)",
          "Dinengdeng with Fried Fish Recipe",
          "Ginisang Munggo with Tinapa and Fried Red Snapper",
          "Seaweed Salad Recipe (Ensaladang Lato)",
          "Kilawing Kambing Recipe",
          "Tinapa Fried Rice (Smoked Fish Fried Rice)",
          "Sigarilyas Gising gising Recipe",
          "Beef Stir Fry in Oyster Sauce with Ampalaya",
          "Lechon Carajay Recipe",
          "Chili Crab with String Beans",
          "Seafood Kare Kare Recipe",
          "Grilled St. Louis Style Ribs with Ensaladang Talong and Bagoong",
          "Scrambled Eggs with Tomato, Onion, and Spinach",
          "Beef Batchoy with Liver and Bung",
          "Pork Giniling Hardinera Recipe",
          "Pancit Molo Recipe",
          "Ginisang Okra with Fish Flakes Recipe",
          "How to Cook Lumpia",
          "Excursion Chicken and Pork Adobo",
          "Pork Baby Back Ribs Nilaga Recipe",
          "How to Cook Special Pancit Canton ala Corazon",
          "How to Cook Ginataang Langka with Tinapa Flakes",
          "Classic Beef with Broccoli Recipe",
          "How to Make Cornbread for Beginners",
          "Inihaw na Isaw ng Baboy",
          "Ginataang Yellow Fin Tuna",
          "Adobong Baboy with Boiled Egg",
          "Fruit Cocktail Float",
          "Slow Cook Pork Afritada",
          "Pinoy Beefsteak",
          "Ginataang Monggo at Mais",
          "Ginisang Gulay",
          "How to Cook Papaya Atchara",
          "Tortang Talong with Crabmeat (Eggplant Omelet with Crab)",
          "Utan Bisaya",
          "Sinigang na Lapu lapu sa Miso",
          "Shrimp Alfredo Pasta with Scallops",
          "Lemon Garlic Butter Salmon with spring salad Recipe",
          "Ginisang Kalabasa at Sitaw with Daing Recipe",
          "Adobong Pata (Ham Hock Adobo)",
          "Asian BBQ Pork Baby Back Ribs",
          "Beer Marinated Grilled Chicken Breast Inasal",
          "Sirloin Beef Steak Tagalog",
          "Ginataang Langka with Malunggay and Daing",
          "Easy Pork Hamonado",
          "Chicken Halang-halang Recipe",
          "How to Make Meatloaf",
          "Paksiw na Pata with Pineapple",
          "Seafood Paella Recipe",
          "Roasted Pork Belly (Lechon Liempo)",
          "Crown Roast of Lamb",
          "Kielbasa Fried Rice",
          "Beef Sinigang sa Kamias with Gabi (Beef in Sour Broth with Taro)",
          "Lumpiang Gulay (Vegetable Egg Roll Recipe)",
          "Inabraw Recipe (Boiled Vegetables with Fried Fish)",
          "Turkey and Ham Sopas",
          "Tuna Sandwich Spread",
          "Sausage, Liver, and Pork Stew",
          "Spicy Chicken in Coconut Milk (Ginataang Manok)",
          "Loaded Breakfast Potato",
          "Pinoy Chicken Noodle Soup",
          "Pork Ginataan with Squash and String Beans",
          "Pork and Kangkong Guisado",
          "Pork Giniling Croquette",
          "Squid Ball Pancit Canton Recipe",
          "Breakfast Sausage Hash",
          "Crispy Pata Sisig Recipe",
          "Apple Snails in Coconut Milk (Ginataang Kuhol)",
          "Hashbrown Casserole",
          "Huevos Rancheros",
          "Beef and Mushroom Braised Stew",
          "Crispy Baked Yukon Gold Potato Wedges",
          "Easy Sweet and Sour Sauce",
          "Basil Pork Recipe",
          "Pork BBQ Fried Rice",
          "Pinoy Style Fried Chicken",
          "Drunken Mussels Recipe",
          "Pork Giniling Kaldereta Recipe",
          "Egg Sandwich Spread Recipe",
          "Dried Squid in Coconut Milk",
          "Oven Roasted BBQ Chicken Recipe",
          "Oatmeal Chocolate Chip Cookies",
          "Pork and Potato Stew Recipe",
          "Bok Choy Guisado Recipe",
          "Asian Style Spare Ribs",
          "Kale and Tuna Laing Recipe",
          "Pork Nilaga with Kalabasa",
          "Filipino Skewered Pork BBQ",
          "Easy Callos Recipe",
          "Simple Lo Mein",
          "Grilled Stuffed Tilapia Recipe",
          "Lo Mein with Beef and Broccoli",
          "Teriyaki Chicken Lettuce Wrap",
          "Chicken Liver and Gizzard Adobo",
          "Mongolian Beef",
          "Dutch Oven Pork Stew Recipe",
          "Sweet Pepper Relyeno Recipe",
          "Oriental Lomi Recipe",
          "Simple Pancit Palabok Recipe",
          "Grilled Liempo Sisig Recipe",
          "Ginataang Alimasag with Malunggay",
          "Crock Pot Pork Adobo",
          "Ensaladang Filipino Recipe",
          "Filipino Style Spaghetti",
          "Shrimp Pancit Canton Recipe",
          "Sinigang na Hipon sa Sampaloc",
          "Beef Morcon Recipe",
          "Adobo Meatballs Recipe",
          "Crispy Tilapia Sticks Recipe",
          "Sinigang na Bangus sa Bayabas",
          "Shrimp Fried Rice Recipe",
          "Beef and Tripe Pochero Recipe",
          "Slow Cooked Beef Nilaga Soup Recipe",
          "Slow Cook Pork Hock Stew",
          "Misua Soup with Meatballs",
          "Salisbury Steak with Beef and Mushroom Gravy",
          "Pork Tapa with Fried Banana and Salted Egg",
          "Sirloin Tip Roast Recipe",
          "Kung Pao Pork Recipe",
          "Scrambled Eggs with Sun Dried Tomato and Bacon",
          "Pork Chop Suey Recipe",
          "Tokwa and Tuna Recipe",
          "Orange Glazed Pork",
          "Cedar Plank Salmon",
          "Homemade Ranch Dressing Recipe",
          "Sticky Asian Fried Chicken Wings",
          "Sarciadong Itlog Recipe",
          "Party Fried Chicken",
          "Corn Soup with Mussels and Malunggay",
          "Binagoongang Baboy Recipe (Pork in Shrimp Paste)",
          "Easy Fish with Tausi Recipe",
          "Chicken with Oyster Sauce Stir Fry",
          "Monggo with Tuyo Recipe (Mung Beans with Salted Fish)",
          "Kangkong in Oyster Sauce Recipe",
          "Chicken Dynamite Lumpia Recipe",
          "Quick and Easy Beef and Pepper Stir Fry",
          "Relyenong Tahong (Stuffed Mussels)",
          "Chicken Embutido",
          "Sinigang na Isda sa Kamias with Miso",
          "Nilagang Pata Recipe",
          "Pork Giniling with Quail Eggs",
          "Easy Macaroni Salad",
          "Beef and Broccoli Stir Fry",
          "Ginisang Baguio Beans with Pork",
          "Pork Sinigang sa Kamias Recipe",
          "Kare Kare Tripas",
          "Filipino Roasted Chicken Pandan Recipe",
          "Lechon Pata Recipe",
          "Sinampalukang Kambing",
          "Laing Recipe",
          "Spinach Lasagne",
          "Kalderetang Kambing (Goat Stew)",
          "Ginisang Papaya",
          "Crab with Misua and Patola",
          "How to Make Eggs Benedict",
          "Beef in Oyster Sauce with Snow Peas",
          "Chili Garlic Shrimp Stir Fry",
          "Pork Kilawin",
          "Sauteed Bok Choy with Shrimp",
          "Sarciadong Daing",
          "Ginataang Papaya",
          "Sinigang na Liempo sa Sampaloc",
          "Pumpkin Muffins",
          "Pinoy Scrambled Eggs",
          "Tuyo Pasta",
          "Lightly Breaded Fried Pork Chop",
          "Fried Rice",
          "Pancit Sotanghon",
          "Chicken Wings Inasal Recipe",
          "Ginisang Pusit",
          "Filipino Chicken Macaroni Sopas",
          "Tinolang Bangus Recipe",
          "Filipino Fish Steak Recipe",
          "Tofu with Tausi and Straw Mushrooms",
          "Slow Cooked Pork Chop with Shiitake Mushrooms",
          "Crock Pot Beef Stew Sandwich",
          "Brownies Recipe",
          "Dinakdakan Recipe",
          "Orange Chicken Recipe",
          "Garlic Shrimp Pasta",
          "Monggo Guisado Recipe",
          "Broccoli Bacon Salad Recipe",
          "Pulled Pork Crock Pot Recipe",
          "Filipino Pork Chop Steak Recipe",
          "Inun unan Recipe (Fish cooked in Vinegar)",
          "How to Make Brownies",
          "Liempo Estofado Recipe",
          "Sausage and Egg Casserole with Hash Browns Recipe",
          "Flank Steak Marinade",
          "Beef Kebab Recipe",
          "Bacon and Cheese Breakfast Casserole Recipe",
          "Gluten Free Banana Bread with Almonds Recipe",
          "Baked Chicken Parmesan Recipe",
          "Sweet Chicken Asado Recipe",
          "Pancit Udon Recipe",
          "Instant Pancit Canton with Vegetables",
          "Ahi Tuna Sandwich with Wasabi Mayonnaise",
          "Special Goto Recipe",
          "Sweet Potato Casserole",
          "Easy Tuna Kilawin Recipe",
          "Tasty Pork Afritada Recipe",
          "Chicken Enchilada Casserole Recipe",
          "Grilled Mussels Recipe",
          "Ginataang Langka with Pork Recipe",
          "Chicken Teriyaki, Brown Rice, and Sunny Side Up Egg Recipe",
          "Pork Burger Patties",
          "Easy Turkey Embutido Recipe",
          "Homemade Chicken Noodle Soup Recipe",
          "Chicken Egg Fried Rice Recipe",
          "How to Make Spaghetti with Meat Sauce",
          "Rosemary Baked Chicken Recipe with Vegetables",
          "Recipe for Barbecue Chicken Marinade",
          "Pancit Bato Noodle Soup",
          "Crab and Pork Shumai Recipe",
          "White Chocolate Chip Cookie",
          "Brined Roast Beef",
          "Snails with Spinach in Coconut Milk Recipe",
          "Sardines with Misua and Patola Recipe",
          "Easy Calamari Recipe",
          "Sweet and Sour Mahi-mahi",
          "Beef Pho Noodle Soup",
          "Rotisserie Chicken Arroz Caldo Recipe",
          "Menudo with Raisins and Green Peas",
          "Eggplant and Ground Chicken Omelet",
          "Linguine Pasta with Clams",
          "Sinigang na Liempo sa Sampaloc with Gabi",
          "Easy Afritada",
          "Easy Chicken Parm",
          "Chicken Pasta Casserole",
          "Chicken Pita",
          "How to Make Homemade Guacamole",
          "Fish Adobo",
          "Delicious Whole Wheat Pancakes",
          "Sour Cream Noodle Bake",
          "Friday Chicken Noodle Soup",
          "Quick Roast Beef Sandwich",
          "Panlasang Pinoy Omelet",
          "Sinigang na Liempo sa Sampaloc",
          "Yummy Blueberry Pancake Recipe",
          "Ginarep Recipe (Shrimp and Corn Soup)",
          "Panko Parmesan Crusted Halibut",
          "Panara Recipe (Deep Fried Shrimp Wonton)",
          "Spring Fried Chicken",
          "Monggo Guisado with Dilis and Malunggay (Mung Bean Stew with Dried Anchovies)",
          "Linat an Recipe (Boiled Pork Soup with Lemongrass)",
          "Adobong Sitaw with Tofu",
          "Kinamunggayang Manok Recipe",
          "Inihaw na Pork Chop",
          "Nilagang Baboy (Boiled Pork Soup)",
          "Easy Chicken Curry",
          "Ginataang Salmon Recipe",
          "Arroz ala Valenciana",
          "Chicken and Ham Sopas Recipe",
          "Eggplant Parmigiana",
          "Bulalo Beef Mami",
          "Chicken Carbonara",
          "Barbecued Chicken Lettuce Wrap",
          "Beef Bicol Express",
          "Pepper Steak",
          "Easy Banana Muffin",
          "Chicken Siomai",
          "Adobong Bulalo",
          "Deep Fried Seasoned Pork Chop",
          "Sweet Pusit Adobo",
          "Sizzling Chicken Sisig",
          "Arroz Caldo with tokwa",
          "Ginger Beef Stir Fry Recipe",
          "Pancit Bato Guisado",
          "Easy Egg Salad Recipe",
          "Bacon and Avocado Sandwich",
          "Apple Pork Pot Roast",
          "Fried Chicken Potato Salad",
          "Pork Stir Fry with Scallions",
          "Pork Parmesan",
          "Tokwat Baka (Fried Tofu and Grilled Beef in Vinegar Sauce)",
          "Sauteed Flank Steak with Bok Choy and String Beans",
          "Spicy Beef Noodle Soup",
          "Baby Corn Ham and Jicama Stir Fry",
          "Lemon Cupcake with Cream Cheese Frosting",
          "Chicken Giniling with Green Peas",
          "Grilled Lamb Chops",
          "Tofu Sarciado",
          "Higadillo Recipe (Pork and Liver Stew)",
          "Chickpea Salad",
          "Special Tokwat Baboy",
          "Easy Meatloaf Recipe",
          "Ginataang Pusit Recipe (squid in coconut milk)",
          "Bean Sprout Chicken",
          "Simple Tuna Recipe",
          "Jollibee Style Spaghetti",
          "Asian Chicken Soup",
          "Tuna and Zucchini Omelet",
          "Braised Collard Greens",
          "Bok Choy Adobo",
          "Asian Grilled Chicken and Corn",
          "Kilawing Puso ng Saging",
          "Honey and Balsamic Glazed Mahi-mahi",
          "Tangy Shrimp Tacos",
          "Pork Tinola Recipe",
          "Vegetable Spring Roll",
          "Basil Beef Recipe",
          "Hoisin Glazed Salmon",
          "Fried Bangus Sinigang sa Miso",
          "Easy Beef with Broccoli",
          "Pulled Chicken BBQ Sandwich recipe",
          "Buttermilk Cornbread",
          "Sautéed String Beans with Chicken",
          "Scallop and Zucchini Stir fry",
          "Fried Fish Sandwich",
          "Grilled Ribs with Pico de Gallo",
          "Curried Potato Salad",
          "Lechon Lomi",
          "Easy Chicken Tacos",
          "Tofu with Mushroom Gravy",
          "Pineapple Cake",
          "Tilapia with Salted Black Beans",
          "Vegetarian Pancit Sotanghon",
          "Sweet Chicken Spaghetti",
          "Chicken Piccata",
          "Fish Tinola Recipe",
          "Chicken Pesto Pasta",
          "Grilled Potato Salad",
          "Slow Cooker Beef Stew",
          "Cheese Fries",
          "Buttermilk Pancakes",
          "Kikiam Recipe",
          "Sinigang na Tilapia sa Miso Recipe",
          "Pork with Salted Black Beans",
          "Misua with Patola and Shrimp",
          "Pata Pochero Recipe",
          "Basil Chicken Recipe",
          "Chicken with Broccoli Recipe",
          "Adobong Tahong Recipe (Mussels Adobo)",
          "Ginataang Galunggong Recipe",
          "Pata Kare-kare Recipe",
          "Teriyaki Bistek Recipe",
          "Squid Sisig Recipe",
          "Ginataang Tahong",
          "Fish Kardilyo Recipe",
          "Breaded Shrimp with Sweet and Sour Sauce",
          "Baked Pork Tenderloin with Peaches",
          "Chicago Style Hotdog",
          "Filipino BBQ Pork Chop Recipe",
          "Misua with Ground Beef and Zucchini Soup",
          "Creamy Chicken with Mushroom Recipe",
          "General Tso Chicken Recipe",
          "Strawberry Mandarin and Spinach Salad in Balsamic Vinaigrette Dressing",
          "Fried Chicken Breast with Creamy Lemon Sauce Dip",
          "Scallop Chop Suey Recipe",
          "Pork with Zucchini in Oyster Sauce",
          "Breaded Fried Salmon Recipe",
          "Baked Spaghetti Recipe",
          "Roasted Chicken Quarter Recipe",
          "Ampalaya Salad Recipe",
          "Spicy Pork Adobo Recipe",
          "Chicken Galantina Recipe",
          "Sapin Sapin Recipe",
          "Creamy Seafood Pasta Recipe",
          "Paella Mixta Recipe",
          "Easy Chicken Tinola Recipe",
          "Corn Chowder Recipe",
          "Tonkatsu Sauce",
          "Chicken Salad Wrap",
          "Tonkatsu Recipe",
          "Lengua Con Setas Recipe",
          "Pineapple and Soy Sauce Pork Pot Roast",
          "Ground Beef Spaghetti Alfredo",
          "Lechon Sisig Recipe",
          "Chicken Soup Recipe",
          "Easy Ham and Green Peas Saute",
          "Chili Shrimp Recipe",
          "Ground Beef Basil and Tomato Frittata",
          "Carne Asada Burrito Recipe",
          "Pancit Habhab Recipe",
          "Adobong Dilaw Recipe (Yellow Adobo)",
          "Braised Pork Ribs Recipe",
          "Longganisa Fried Rice",
          "Creamed Spinach Recipe",
          "Fish Ball Soup Recipe",
          "Chicken Spring Roll Recipe",
          "Paella de Marisco Recipe",
          "Grilled Brined Pork Chop Recipe",
          "Pico de Gallo",
          "Pineapple Pork Stir Fry",
          "Carne Asada Recipe",
          "Salmon Patty Recipe",
          "Turkey Noodle Soup Recipe",
          "Peach Pie Recipe",
          "Star Anise and Cider Brined Roast Turkey",
          "Bacon and Caramelized Onion Cornbread Stuffing",
          "Classic Roast Turkey Recipe",
          "BBQ Beef Short Ribs Recipe",
          "Pineapple Fried Chicken Recipe",
          "Red Velvet Cupcake Recipe",
          "Fettuccine Pasta with Tomato Meat Sauce",
          "Deep Fried Mussels",
          "Chicken and Baby Corn Stir Fry",
          "Crispy Shrimp Adobo Recipe",
          "Apple Glazed Pork Chop Recipe",
          "Ghostly Dark Chocolate Cupcake",
          "Dusty Fried Chicken Recipe",
          "Chocolate Cupcake with Cream Cheese Frosting",
          "Bacon and Egg Fried Rice Recipe",
          "Pork Adobo with Boiled Eggs",
          "Easy Meatball with Mixed Vegetables Recipe",
          "Super Easy Pork Burger Recipe",
          "Arroz a la Cubana Recipe",
          "Tuna Salad Sandwich Recipe",
          "Baked Garlic Rosemary Chicken Recipe",
          "Sausage and Egg Waffle Sandwich",
          "Raisin Bran Muffin Recipe",
          "Roasted Garlic Parmesan Red Potato",
          "Fudge Brownies",
          "Tuna Salad Recipe",
          "Pork Tapsilog",
          "Fish in Ginger Soup",
          "Baked Turkey Breast",
          "Easy Sweet and Sour Ikea Meatbal",
          "Baked Chicken and Vegetable Stir Fry",
          "Popcorn Chicken",
          "Easy Grilled Vegetables",
          "Steamed Fish with Scallions and Ginger",
          "Chickpea and Spinach Curry",
          "Teriyaki Pork Chop Recipe",
          "Beer Brats Recipe",
          "Ginisang Sayote Recipe",
          "Sweet and Sour Tofu",
          "Dinengdeng Recipe",
          "Breaded Butterfly Shrimp Recipe",
          "Ginisang Sardinas Recipe (Sautéed Sardines)",
          "Chicken Pasta Alfredo Recipe",
          "Pork Adobo with Potato Recipe",
          "Kangkong and Tofu Stir Fry",
          "Grilled Chicken and Corn",
          "Rellenong Talong (Stuffed Eggplant) Recipe",
          "Gising gising Recipe (Green bean with Pork in Coconut milk)",
          "Shrimp and Vegetable Fried Rice Recipe",
          "Tasty Sliders Recipe",
          "Grilled Pork Chop with Mango Salsa",
          "Green Bean Casserole Recipe",
          "Smothered Pork Chop Recipe",
          "Beef Stir Fry with Chopped Broccoli",
          "Banana Nut Muffin",
          "Ginataang Hipon Recipe",
          "Dulong Fishcake",
          "Creamy Veggie Lasagna",
          "Ham and Egg Fried Rice",
          "Sweet and Spicy Shrimp Stir Fry",
          "Spicy Laing Recipe",
          "Ham and Potato Soup Recipe",
          "Chicken a la King Recipe",
          "Beef with Broccoli Lo Mein Recipe",
          "Pork Adobo with Tofu Recipe",
          "Spring Rolls Recipe",
          "Stir Fry Tofu with Vegetables",
          "Rellenong Alimasag Recipe",
          "Chicken Spaghetti Recipe",
          "KBL (Kadyos, Baboy, at Langka) Recipe",
          "Tilapia Fish Tacos Recipe",
          "Spicy Bopis Recipe",
          "Bulanglang Recipe",
          "Scotch Eggs Recipe",
          "Easy Clam Chowder Recipe",
          "Shrimp Scampi Recipe",
          "Oriental Lemon Chicken Recipe",
          "Sweet Potato Leaves Salad Recipe",
          "Beef Stew Recipe",
          "Tortilla Soup Recipe",
          "Ground Beef Casserole Recipe",
          "Chicken Satay Recipe",
          "Linguine with Mussels Recipe",
          "Baked Salmon Recipe",
          "Chocolate Chip Cookie Recipe",
          "Oven Baked Chicken Recipe",
          "Egg Roll",
          "Baked Potato Skin Recipe",
          "Hototay Soup Recipe",
          "Asian Chicken Stir Fry Recipe",
          "Eggplant Parmesan Recipe",
          "Tuna Sushi Roll",
          "Chicken and Corn Soup",
          "Barbecued Pork Char Siu",
          "Ginataang Langka with Dilis Recipe",
          "Crispy Five Spice Spare Ribs",
          "Pochero Recipe",
          "Beef Curry Recipe",
          "Ground Beef Tostada",
          "Stuffed Ampalaya",
          "Sinampalukang Manok Recipe",
          "Blueberry Muffins Recipe",
          "Garlic Fried Chicken",
          "Buffalo Chicken Wings Recipe",
          "Cornbread Recipe",
          "Angel Food Cake with Strawberries",
          "Pineapple Upside Down Cake",
          "Fish Escabeche Recipe",
          "Pancit Miki Guisado Recipe",
          "Mixed Seafood in Coconut Milk Recipe",
          "Asian Chicken Barbecue Submarine Sandwich",
          "Chicken Feet Adobo",
          "Bacon Frittata Recipe",
          "Pumpkin Soup Recipe",
          "Batchoy Recipe",
          "Ginataang Sitaw at Kalabasa with Crabs Recipe",
          "Shepherds Pie",
          "Sinigang na Bangus sa Miso",
          "Chicken Binakol",
          "Pork Guisantes Recipe",
          "Potato Croquettes Recipe",
          "Onion Rings",
          "Pumpkin Pie",
          "Pepper Crusted Filet Mignon Recipe",
          "Round Steak in Criolla Sauce Recipe",
          "Fruity Prune Cake",
          "Best Game Day Chili Recipe",
          "Beef Stroganoff Recipe",
          "How to Make Lengua a la Vinagreta",
          "Black Forest Cupcake Recipe",
          "Hot and Sour Soup",
          "Baked Tilapia with Grilled Pineapple Salsa",
          "Pork and Tofu in Oyster Sauce Recipe",
          "Adobo Steak Recipe",
          "Shrimp Pasta in Tomato Cream Cheese Sauce Recipe",
          "Paella Marinera Recipe",
          "Chicken Fajita Recipe",
          "Marinara Sauce Recipe",
          "How to Make Banana Cream Pie",
          "Turkey Pot Pie",
          "Crispy Noodles",
          "Tandoori Chicken Recipe",
          "Adobong Labong Recipe",
          "Aligue Pasta",
          "Grilled Chicken and Spinach Salad Recipe",
          "Victoria's Cheezy Pizza Pocket",
          "Kung Pao Chicken Recipe",
          "Beef in Oyster Sauce",
          "Spaghetti Carbonara Recipe",
          "Sizzling Bulalo Recipe",
          "Apple Coleslaw Recipe",
          "Adobong Isaw Recipe",
          "Grilled Chicken Salad",
          "Spinach and Feta Pasta Recipe",
          "Braised Beef",
          "Bow Tie Pasta with Vodka Sauce Recipe",
          "Potato and Green Bean Salad Recipe",
          "Green Bean Salad with Feta and Dill Recipe",
          "Chocolate Graham Cupcake",
          "Garlic Parmesan Chicken Wings Recipe",
          "Dinuguan Laman-Loob Recipe (Blood Stew)",
          "Soft Beef Tacos (Carne Asada)",
          "Crispy Potato Wedges Recipe",
          "Sizzling Pork Chop Recipe",
          "Rotini Chicken Alfredo Recipe",
          "Sweet Potato Pie Recipe",
          "Pork Loin Tonkatsu Recipe",
          "Paksiw na Isda Recipe",
          "Sushi Summer Roll Recipe",
          "Chicken Pandan",
          "Lomi Recipe",
          "Tarragon Chicken Salad",
          "Sinuglaw",
          "Pesang Isda Recipe",
          "Bok Choy in Garlic Sauce",
          "Easy Buttermilk Fried Chicken",
          "Creamy Tuyo Pesto",
          "Sinigang na Buto buto with Gabi Recipe",
          "Pancit Malabon Recipe",
          "Buko Pie",
          "Sardines with Misua Recipe",
          "Papaitan Recipe",
          "Roasted Chicken Recipe",
          "Sugar Cookie Recipe",
          "Calamares Recipe",
          "Ginataang Halo-halo Recipe (Binignit)",
          "Chicken Inasal Recipe",
          "Sweet and Sour Meatball Recipe",
          "Tofu in Black Bean Sauce Recipe",
          "Egg Foo Young Recipe",
          "Country Fried Breaded Pork Chop Recipe",
          "How to Make Tom Yum Goong",
          "Shrimp with Quail Eggs and Green Peas",
          "Chicken Sopas Recipe",
          "Sotanghon Guisado Recipe",
          "Ukoy Recipe (Shrimp Fritter)",
          "Chicken Parmesan Recipe",
          "Sizzling Gambas Recipe",
          "Tortang Giniling Recipe",
          "Pork Giniling Recipe",
          "Sinigang na Panga ng Tuna Recipe (Tuna jaw cooked in sour broth)",
          "Chicken Noodle Soup Recipe",
          "Ginataang Langka Recipe",
          "Kinilaw na Tuna",
          "Adobong Kambing Recipe",
          "Pork Estofado Recipe",
          "Pinsec Frito Recipe - Deep Fried Wonton",
          "Tokneneng",
          "Chicken Asado",
          "Chicken Satay with Peanut Sauce",
          "Cornbread Muffin Recipe",
          "Lumpiang Togue Recipe",
          "Oatmeal Cookies",
          "Cheesy Broccoli Soup Recipe",
          "Egg Pie Recipe",
          "Potato and Leek Soup Recipe",
          "Lechon Paksiw Recipe",
          "Lechon Sauce Recipe",
          "Kung Pao Shrimp",
          "Cucumber Salad",
          "Caesar Salad",
          "Spiral Noodles with Vegetables",
          "Brownies with Walnuts",
          "Tofu Steak Fried in Honey and Rosemary with Tuna & Tomato Sauce",
          "Special Siopao Sauce Recipe",
          "Goto Recipe (Rice Porridge)",
          "Ham and Spinach Omelet Recipe",
          "Humba Recipe",
          "Shared Recipe: Tortang Talong with Giniling",
          "Marinated Shrimp with Lemon Dill Sauce",
          "Deviled Egg with Salmon Recipe",
          "Custard Cake Recipe",
          "Fettuccine Alfredo Recipe",
          "New York Style Cheesecake",
          "Molo Soup",
          "Food for the Gods Recipe",
          "Vanilla Chiffon Cake",
          "Meatloaf Recipe",
          "Chicken Cordon Bleu",
          "Morcon",
          "Carrot Cake Recipe",
          "Ginataang Manok Recipe",
          "California Roll",
          "Chocolate Cupcake Recipe",
          "Atchara (Papaya)",
          "Beef Mami Recipe",
          "Cashew Chicken Recipe",
          "Chili Crab",
          "Easy Steamed Fish Recipe",
          "Ensaymada Recipe",
          "Lumpiang Sariwa (Fresh Spring Rolls Recipe)",
          "Inihaw na Liempo Recipe",
          "Homemade Lasagna Recipe",
          "Cassava Cake",
          "Pandesal",
          "Ginisang Upo Recipe",
          "Pancit Canton Recipe",
          "Fried Chicken with White Gravy Recipe",
          "Sisig Recipe",
          "Crema de Fruta Recipe",
          "Braised Vegetable Recipe",
          "Ginataang Alimasag Recipe",
          "Recipe for Chicken Macaroni Salad",
          "Orange Chicken Recipe",
          "Beef Nilaga Recipe",
          "Inihaw na Pusit Recipe (Grilled Squid)",
          "Chop Suey",
          "Embutido",
          "Beef Pochero Recipe",
          "Longanisa Recipe (Filipino Sausage)",
          "Homemade Pork Tocino",
          "Chicken Tinola Recipe",
          "Banana Ketchup Recipe",
          "Pakbet Ilocano Recipe",
          "Sinigang na Salmon Recipe",
          "Laing Recipe",
          "Fish Fillet with Tausi",
          "Pinoy Spaghetti Recipe",
          "Spicy Chicken Feet",
          "Lengua Estofada Recipe",
          "Pancit Bihon Recipe",
          "Pork Hamonado Recipe"
         ],
         "legendgroup": "",
         "marker": {
          "color": [
           5,
           2,
           4,
           1,
           3,
           5,
           0,
           1,
           5,
           6,
           0,
           6,
           5,
           0,
           5,
           0,
           1,
           0,
           1,
           1,
           1,
           1,
           0,
           1,
           3,
           1,
           1,
           1,
           0,
           3,
           5,
           6,
           3,
           2,
           5,
           3,
           5,
           0,
           3,
           5,
           0,
           0,
           5,
           2,
           0,
           0,
           5,
           5,
           5,
           0,
           6,
           5,
           1,
           5,
           5,
           3,
           0,
           3,
           2,
           0,
           5,
           0,
           5,
           0,
           5,
           3,
           1,
           0,
           3,
           1,
           0,
           2,
           3,
           1,
           0,
           3,
           6,
           6,
           0,
           1,
           1,
           0,
           3,
           1,
           5,
           1,
           1,
           0,
           5,
           0,
           1,
           0,
           0,
           0,
           0,
           5,
           2,
           0,
           1,
           0,
           6,
           0,
           0,
           0,
           4,
           0,
           6,
           5,
           3,
           0,
           2,
           1,
           2,
           0,
           0,
           5,
           1,
           1,
           4,
           1,
           4,
           1,
           3,
           4,
           6,
           0,
           5,
           5,
           1,
           5,
           0,
           0,
           0,
           4,
           3,
           5,
           5,
           0,
           4,
           0,
           2,
           6,
           6,
           0,
           6,
           5,
           5,
           6,
           2,
           1,
           2,
           0,
           3,
           5,
           5,
           1,
           6,
           3,
           5,
           0,
           0,
           0,
           0,
           6,
           0,
           1,
           0,
           0,
           6,
           6,
           1,
           1,
           2,
           6,
           5,
           3,
           4,
           1,
           1,
           6,
           5,
           1,
           5,
           1,
           1,
           3,
           6,
           5,
           0,
           0,
           1,
           1,
           0,
           5,
           6,
           0,
           0,
           0,
           0,
           6,
           0,
           5,
           5,
           5,
           5,
           0,
           4,
           3,
           5,
           1,
           4,
           0,
           5,
           1,
           5,
           5,
           6,
           0,
           2,
           6,
           1,
           1,
           5,
           1,
           5,
           2,
           0,
           2,
           2,
           1,
           3,
           3,
           3,
           2,
           3,
           3,
           2,
           5,
           1,
           5,
           5,
           3,
           5,
           1,
           4,
           5,
           3,
           6,
           0,
           2,
           5,
           5,
           2,
           2,
           1,
           5,
           5,
           1,
           3,
           5,
           5,
           4,
           2,
           5,
           4,
           3,
           5,
           1,
           3,
           1,
           5,
           0,
           3,
           3,
           0,
           5,
           5,
           5,
           6,
           0,
           6,
           4,
           3,
           5,
           3,
           0,
           5,
           0,
           0,
           3,
           6,
           1,
           6,
           4,
           0,
           0,
           5,
           2,
           5,
           1,
           5,
           3,
           5,
           4,
           5,
           0,
           0,
           5,
           1,
           4,
           2,
           1,
           5,
           4,
           5,
           1,
           5,
           2,
           4,
           1,
           3,
           5,
           6,
           3,
           5,
           5,
           6,
           0,
           2,
           1,
           3,
           0,
           0,
           3,
           3,
           5,
           4,
           5,
           2,
           2,
           2,
           5,
           6,
           5,
           6,
           1,
           5,
           0,
           1,
           2,
           1,
           5,
           6,
           0,
           1,
           5,
           4,
           2,
           0,
           2,
           0,
           5,
           3,
           6,
           5,
           0,
           6,
           0,
           0,
           5,
           5,
           5,
           6,
           5,
           6,
           2,
           6,
           5,
           6,
           5,
           6,
           6,
           0,
           1,
           3,
           1,
           2,
           3,
           1,
           4,
           5,
           0,
           0,
           6,
           4,
           1,
           6,
           5,
           6,
           0,
           6,
           0,
           0,
           2,
           5,
           6,
           0,
           1,
           0,
           0,
           5,
           0,
           5,
           1,
           1,
           1,
           4,
           5,
           5,
           2,
           1,
           4,
           6,
           0,
           0,
           6,
           2,
           1,
           6,
           2,
           1,
           6,
           1,
           5,
           2,
           0,
           2,
           2,
           1,
           2,
           1,
           6,
           6,
           1,
           3,
           4,
           1,
           6,
           5,
           6,
           2,
           1,
           1,
           2,
           6,
           2,
           6,
           2,
           2,
           2,
           1,
           5,
           1,
           5,
           4,
           5,
           6,
           0,
           0,
           0,
           2,
           1,
           6,
           3,
           1,
           6,
           6,
           0,
           6,
           6,
           1,
           1,
           0,
           5,
           1,
           6,
           2,
           2,
           4,
           2,
           2,
           1,
           2,
           2,
           2,
           1,
           2,
           3,
           2,
           2,
           4,
           6,
           5,
           2,
           0,
           2,
           2,
           6,
           6,
           2,
           6,
           0,
           2,
           1,
           6,
           6,
           2,
           1,
           6,
           2,
           2,
           6,
           2,
           5,
           2,
           5,
           4,
           4,
           2,
           6,
           1,
           0,
           4,
           6,
           5,
           0,
           6,
           6,
           0,
           4,
           5,
           0,
           6,
           1,
           0,
           1,
           6,
           1,
           2,
           5,
           1,
           2,
           1,
           2,
           1,
           0,
           2,
           5,
           2,
           6,
           4,
           1,
           0,
           5,
           6,
           5,
           6,
           6,
           6,
           3,
           0,
           6,
           5,
           5,
           6,
           5,
           6,
           2,
           6,
           2,
           4,
           6,
           2,
           1,
           5,
           2,
           1,
           0,
           5,
           0,
           5,
           4,
           1,
           3,
           2,
           4,
           4,
           2,
           3,
           0,
           5,
           2,
           6,
           5,
           4,
           0,
           2,
           0,
           2,
           1,
           1,
           1,
           4,
           1,
           4,
           5,
           0,
           1,
           4,
           5,
           6,
           6,
           2,
           2,
           6,
           0,
           5,
           3,
           1,
           6,
           6,
           6,
           1,
           4,
           4,
           6,
           6,
           4,
           6,
           6,
           4,
           5,
           0,
           0,
           2,
           6,
           2,
           6,
           1,
           5,
           6,
           6,
           0,
           6,
           6,
           0,
           6,
           2,
           4,
           6,
           2,
           4,
           5,
           2,
           5,
           2,
           5,
           2,
           0,
           1,
           2,
           0,
           6,
           6,
           1,
           5,
           4,
           5,
           2,
           0,
           5,
           0,
           6,
           0,
           5,
           0,
           6,
           5,
           6,
           1,
           6,
           4,
           5,
           4,
           0,
           2,
           6,
           5,
           1,
           5,
           0,
           5,
           6,
           0,
           5,
           2,
           0,
           2,
           6,
           5,
           3,
           0,
           6,
           4,
           5,
           6,
           1,
           6,
           2,
           0,
           1,
           6,
           4,
           5,
           0,
           5,
           1,
           0,
           0,
           2,
           6,
           5,
           6,
           4,
           2,
           5,
           2,
           3,
           2,
           4,
           6,
           0,
           2,
           2,
           0,
           2,
           6,
           2,
           0,
           2,
           5,
           2,
           5,
           0,
           4,
           5,
           2,
           4,
           2,
           3,
           0,
           6,
           5,
           2,
           5,
           2,
           1,
           6,
           6,
           2,
           6,
           3,
           6,
           5,
           2,
           4,
           2,
           2,
           6,
           3,
           5,
           5,
           2,
           6,
           0,
           5,
           2,
           5,
           5,
           6,
           5,
           6,
           2,
           2,
           0,
           2,
           6,
           6,
           2,
           2,
           5,
           6,
           1,
           2,
           1,
           2,
           6,
           1,
           2,
           2,
           0,
           6,
           6,
           6,
           1,
           2,
           6,
           5,
           1,
           1,
           5,
           2,
           4,
           6,
           6,
           2,
           1,
           0,
           0,
           4,
           4,
           0,
           4,
           6,
           6,
           1,
           6,
           5,
           1,
           5,
           6,
           2,
           6,
           5,
           2,
           2,
           1,
           3,
           6,
           2,
           4,
           6,
           5,
           0,
           5,
           0,
           6,
           2,
           6,
           2,
           0,
           5,
           4,
           4,
           6,
           1,
           3,
           2,
           0,
           4,
           5,
           2,
           5,
           6,
           2,
           2,
           1,
           0,
           0,
           2,
           6,
           4,
           5,
           2,
           0,
           0,
           0,
           4,
           0,
           0,
           2,
           6,
           6,
           2,
           0,
           0,
           2,
           0,
           4,
           5,
           6,
           6,
           6,
           0,
           6,
           5,
           2,
           5,
           5,
           4,
           6,
           6,
           5,
           2,
           0,
           6,
           2,
           0,
           4,
           0,
           3,
           2,
           4,
           1,
           5,
           0,
           6,
           1,
           2,
           0,
           4,
           4,
           2,
           5,
           5,
           2,
           2,
           0,
           2,
           1,
           5,
           5,
           2,
           2,
           0,
           0,
           4,
           0,
           0,
           2,
           1,
           5,
           4,
           0,
           5,
           2,
           5,
           0,
           2,
           6,
           6,
           6,
           2,
           2,
           5,
           6,
           2,
           3,
           4,
           2,
           3,
           4,
           0,
           6,
           4,
           4,
           2,
           2,
           1,
           0,
           0,
           5,
           2,
           0,
           1,
           2,
           2,
           0,
           2,
           3,
           6,
           5,
           6,
           6,
           2,
           6,
           5,
           6,
           0,
           2,
           3,
           2,
           5,
           4,
           4,
           0,
           0,
           1,
           0,
           5,
           2,
           5,
           6,
           6,
           0,
           5,
           2,
           6,
           5,
           6,
           0,
           6,
           5,
           4,
           6,
           0,
           5,
           5,
           6,
           0,
           5,
           0,
           1,
           0,
           0,
           6,
           2,
           5,
           5,
           0,
           1,
           3,
           5,
           4,
           6,
           6,
           5,
           6,
           6,
           0,
           1,
           6,
           2,
           5,
           6,
           0,
           1,
           6,
           1,
           5,
           0,
           5,
           0,
           6,
           0,
           2,
           2,
           0,
           2,
           2,
           0,
           0,
           0,
           1,
           0,
           5,
           6,
           1,
           0,
           1,
           3,
           6,
           2,
           2,
           2,
           5,
           5,
           2,
           1,
           5,
           6,
           5,
           2,
           0,
           0,
           6,
           4,
           4,
           5,
           2,
           5,
           2,
           0,
           5,
           2,
           3,
           0,
           0,
           5,
           3,
           5,
           4,
           1,
           5,
           2,
           4,
           3,
           0,
           4,
           6,
           2,
           0,
           6,
           5,
           6,
           6,
           4,
           3,
           0,
           0,
           2,
           5,
           0,
           1,
           0,
           6,
           0,
           5,
           6,
           0,
           0,
           6,
           6,
           2,
           0,
           1,
           6,
           6,
           0,
           2,
           2,
           0,
           2,
           0,
           0,
           2,
           5,
           0,
           1,
           6,
           1,
           6,
           6,
           0,
           5,
           3,
           6,
           5,
           3,
           6,
           6,
           2,
           0,
           0,
           2,
           2,
           0,
           5,
           1,
           6,
           5,
           0,
           5,
           0,
           2,
           5,
           2,
           6,
           2,
           5,
           0,
           2,
           6,
           2,
           2,
           4,
           0,
           2,
           0,
           6,
           5,
           2,
           1,
           2,
           6,
           6,
           2,
           2,
           2,
           2,
           5,
           1,
           5,
           2,
           2,
           4,
           2,
           0,
           1,
           3,
           6,
           0,
           1,
           6,
           0,
           1,
           5,
           1,
           6,
           1,
           2,
           5,
           1,
           4,
           2,
           2,
           0,
           5,
           0,
           5,
           6,
           2,
           0,
           0,
           2,
           5,
           2,
           0,
           5,
           0,
           0,
           5,
           0,
           2,
           6,
           2,
           5,
           2,
           5,
           5,
           5,
           6,
           2,
           6,
           0,
           2,
           6,
           6,
           6,
           1,
           0,
           1,
           2,
           1,
           2,
           2,
           0,
           0,
           4,
           2,
           1,
           0,
           0,
           0,
           6,
           6,
           0,
           6,
           4,
           6,
           0,
           0,
           2,
           1,
           5,
           6,
           6,
           0,
           0,
           0,
           3,
           2,
           2,
           6,
           2,
           1,
           6,
           0,
           2,
           0,
           2,
           1,
           6,
           4,
           3,
           6,
           5,
           2,
           6,
           2,
           5,
           5,
           6,
           3,
           5,
           2,
           1,
           1,
           2,
           3,
           2,
           5,
           1,
           2,
           2,
           6,
           3,
           6,
           4,
           2,
           4,
           0,
           5,
           2,
           2,
           2,
           2,
           4,
           2,
           1,
           4,
           2,
           3,
           6,
           0,
           0,
           2,
           5,
           1,
           5,
           4,
           2,
           2,
           0,
           4,
           2,
           2,
           2,
           2,
           5,
           3,
           2,
           2,
           2,
           2,
           6,
           3,
           6,
           2,
           6,
           1,
           0,
           6,
           5,
           0,
           1,
           0,
           6,
           0,
           2,
           2,
           2,
           6,
           2,
           1,
           6,
           5,
           3,
           2,
           5,
           2,
           6,
           5,
           5,
           1,
           1,
           2,
           2,
           2,
           2,
           1,
           4,
           1,
           5,
           5,
           6,
           3,
           4,
           2,
           0,
           5,
           2,
           5,
           4,
           0,
           1,
           2,
           4,
           5,
           2,
           2,
           5,
           5,
           0,
           2,
           1,
           0,
           1,
           0,
           1,
           0,
           1,
           1,
           3,
           1,
           0,
           2,
           1,
           2,
           0,
           2,
           2,
           3,
           1,
           2,
           4,
           2,
           0,
           2,
           2,
           6,
           2,
           3,
           6,
           0,
           1,
           0,
           0,
           0,
           1,
           5,
           0,
           0,
           1,
           5,
           0,
           0,
           2,
           2,
           2,
           1,
           0,
           2,
           1,
           2,
           2,
           1,
           1,
           1,
           2,
           2,
           6,
           5,
           2,
           3,
           2,
           2,
           0,
           6,
           6,
           2,
           2,
           1,
           5,
           2,
           1,
           2,
           1,
           1,
           2,
           2,
           4,
           6,
           6,
           5,
           2,
           0,
           2,
           2,
           6,
           2,
           1,
           2,
           2,
           2,
           3,
           2,
           6,
           2,
           1,
           2,
           3,
           2,
           2,
           1,
           5,
           2,
           3,
           5,
           3,
           5,
           5,
           2,
           6,
           4,
           2,
           2,
           3,
           3,
           2,
           3,
           2,
           5,
           0,
           2,
           5,
           6,
           2,
           6,
           5,
           6,
           1,
           5,
           6,
           5,
           6,
           2,
           4,
           2,
           5,
           1,
           2,
           0,
           6,
           5,
           2,
           2,
           2,
           6,
           1,
           3,
           0,
           2,
           2,
           5,
           5,
           0,
           2,
           2,
           1,
           5,
           2,
           5,
           2,
           4,
           5,
           2,
           4,
           6,
           2,
           6,
           2,
           5,
           6,
           6,
           2,
           2,
           1,
           2,
           2,
           3,
           2,
           1,
           2,
           2,
           1,
           2,
           2,
           1,
           1,
           0,
           6,
           0,
           6,
           2,
           2,
           0,
           3,
           2,
           2,
           3,
           3,
           3,
           6,
           1,
           6,
           2,
           5,
           2,
           2,
           6,
           0,
           2,
           0,
           0,
           6,
           2,
           2,
           3,
           6,
           2,
           3,
           5,
           2,
           2,
           3,
           1,
           2,
           1,
           5,
           2,
           0,
           2,
           4,
           3,
           2,
           1,
           2,
           6,
           2,
           2,
           6,
           5,
           1,
           2,
           2,
           2,
           5,
           2,
           2,
           6,
           2,
           2,
           2,
           3,
           2,
           6,
           5,
           2,
           2,
           2,
           3,
           2,
           6,
           2,
           1,
           0,
           2,
           6,
           0,
           1,
           2,
           2,
           0,
           0,
           3,
           0,
           6,
           2,
           3,
           2,
           3,
           6,
           5,
           5,
           1,
           2,
           2,
           2,
           2,
           0,
           6,
           2,
           1,
           6,
           4,
           0,
           2,
           0,
           6,
           5,
           5,
           2,
           2,
           4,
           1,
           3,
           1,
           3,
           2,
           3,
           2,
           5,
           6,
           1,
           6,
           2,
           0,
           3,
           5,
           5,
           6,
           2,
           5,
           2,
           3,
           2,
           3,
           2,
           3,
           0,
           3,
           3,
           4,
           2,
           2,
           3,
           6,
           6,
           3,
           6,
           6,
           1,
           1,
           6,
           3,
           1,
           1,
           4,
           3,
           2,
           6,
           1,
           2,
           5,
           3,
           1,
           0,
           2,
           5,
           0,
           5,
           1,
           2,
           0,
           6,
           6,
           0,
           6,
           0,
           0,
           6,
           6,
           4,
           1,
           4,
           1,
           5
          ],
          "coloraxis": "coloraxis",
          "size": 5,
          "symbol": "circle"
         },
         "mode": "markers",
         "name": "",
         "showlegend": false,
         "type": "scattergl",
         "x": [
          2.424371264840968,
          1.402600309832053,
          2.6632408404374357,
          2.294862802680858,
          0.4529244323155029,
          2.352990664996105,
          1.5532793864968466,
          2.9024305116141362,
          2.2199169192676473,
          1.3934142982298972,
          2.1551521131157587,
          1.3359667715686523,
          2.275746262681211,
          2.452968370214072,
          2.7626818454383537,
          2.358032491373541,
          2.572009390947516,
          2.3371020214885836,
          3.0201998453905623,
          2.842249094943398,
          2.2277630940997635,
          2.0091155368808544,
          2.1872441956238156,
          2.8652501121405853,
          0.7973078282804026,
          3.006922896616336,
          3.6743937371233732,
          3.499231077906633,
          1.816492939806009,
          1.2355996499572257,
          1.9687754345928852,
          1.9205566111531258,
          0.6009835669196911,
          2.078583392628257,
          1.4478014113281816,
          0.6055354937703941,
          3.3683130394792227,
          1.8141589168185293,
          0.17735818722186936,
          2.3711330621417086,
          2.230159540327167,
          2.2867905469133962,
          1.6990125686272726,
          2.349111217841787,
          2.296115123383849,
          1.8160333222545233,
          1.8888326310502845,
          2.2691663837330336,
          2.1100381023612456,
          2.530996928648255,
          2.061170202306801,
          1.2504593647153832,
          2.1832850436097386,
          2.421851180225704,
          2.5209319055414423,
          2.203986833298142,
          1.7383537258691646,
          0.10748611635960077,
          2.8702063826971047,
          2.15940227299022,
          2.6333955861095553,
          2.16213045088651,
          2.434647217611251,
          2.54721400303757,
          2.224675306947632,
          0.5527236134151856,
          3.9928904905936817,
          2.277867987092966,
          1.6979745456930906,
          2.514788380408334,
          2.217045915801314,
          0.805849380242339,
          1.6538393294531253,
          1.7656517049008156,
          2.3326200021759216,
          1.2110137812362016,
          1.7233532613913025,
          1.8333534239562423,
          2.5248299990190093,
          3.2088472755734703,
          3.1291036691327014,
          1.9893581818630972,
          1.010217606849697,
          3.1609799930339904,
          2.296081437839232,
          1.492794560868898,
          2.5465579827277587,
          2.4929711753211494,
          2.5636788171863727,
          2.017356350337496,
          3.3969363592189215,
          1.4180489421276796,
          2.201881229544924,
          2.0467661729008335,
          2.9625967912519076,
          2.0920413508440068,
          1.6971784324678663,
          2.1921894632318617,
          2.87928083787434,
          2.480140740824486,
          2.1506768595839363,
          1.8156938782447116,
          2.596998667159332,
          1.850496235954416,
          3.0677875109095454,
          2.381770990767719,
          2.0119661672876212,
          2.786842516243744,
          0.6860676116044047,
          2.4312400537126178,
          2.2869539273280344,
          3.566326135298451,
          1.7618958158222264,
          2.282175611403175,
          2.3293791386119747,
          2.7760122979171222,
          2.934250879579133,
          2.703787887107332,
          2.5081218031483896,
          2.574975984561168,
          3.1233084925071237,
          2.255801975803117,
          1.0889972006336364,
          2.6937335582494097,
          1.3957239458712385,
          1.267200736243856,
          2.8914683857179058,
          2.3028585430452404,
          2.492349133738707,
          2.6073098533765386,
          1.1415792973655705,
          2.310428633303238,
          1.6686800324992783,
          2.7999777409745397,
          1.287826610167046,
          2.0055062266217973,
          2.6511180727385075,
          1.806658818034201,
          2.6813704679980703,
          2.2199258780117774,
          1.5046192219036356,
          1.2959042118668134,
          1.7862125158119437,
          2.283596840560352,
          1.812813225704344,
          1.7572923766865136,
          2.0632566299348754,
          1.5846768352003235,
          1.0184188204371258,
          1.4782289328140086,
          1.3842678964702326,
          2.3477819358422454,
          0.6310807118730316,
          2.30136456283353,
          2.7367349496098785,
          2.8091315231040275,
          1.4620228816837533,
          0.5998662263115356,
          2.3049454237905596,
          2.361909081332612,
          2.2276709306701066,
          1.6453318877042695,
          2.4591061806517476,
          2.330283846420381,
          1.620677425384684,
          3.134646783220338,
          2.3525852769498035,
          1.7414092528028984,
          1.1779320295846278,
          1.8373689415887824,
          3.2606804200555697,
          2.5510397704304117,
          2.921009816836034,
          1.560908019418262,
          2.5400030489077525,
          0.14959070475287134,
          3.1277145355574634,
          2.607818121755573,
          2.723505036029009,
          2.049385646452667,
          1.932236762233413,
          3.5926291343533037,
          2.344725754226087,
          1.907455264523918,
          1.8897300077576273,
          0.6136792567311969,
          2.1548460648150276,
          2.2015991966156934,
          2.255395421923467,
          2.377706883158707,
          1.9939158355049382,
          3.0755521847027176,
          1.4170302548058555,
          1.0250390701128438,
          1.1654088312818445,
          2.4626112012991603,
          1.8030562768136893,
          1.6480142593900673,
          2.1762028780927567,
          1.8359092545079987,
          2.2312097808241753,
          2.2901751655624283,
          2.3863468935089487,
          2.3699641538226395,
          1.2346523259894617,
          1.6856436854536778,
          2.3616394128251925,
          0.9683629012923685,
          2.4951686810150773,
          2.2367156431522544,
          3.06623304029699,
          2.747191673976677,
          1.7009927464962469,
          2.809118506107573,
          2.203511669860811,
          2.2881833499802813,
          1.670620844280428,
          2.0891146192244663,
          1.53664053073537,
          1.6964227414999171,
          2.7940328661657303,
          3.0541566323688984,
          2.7556605468140227,
          2.9957599308561162,
          2.8774255906289476,
          0.9770697842744245,
          1.4713464725334366,
          1.1238024935573179,
          1.6246444731194298,
          3.0853076691710193,
          0.28046697587073216,
          1.0833772587155583,
          0.916882663867779,
          0.7870006711646516,
          1.1203253859089841,
          1.043396260497991,
          1.6339524202558235,
          2.380052282854672,
          3.263792786223694,
          3.5200009976842703,
          3.379056673334212,
          0.6253487151338755,
          2.1790338451637443,
          3.4828494676976733,
          3.137350708789249,
          1.9840735425967244,
          1.1784411331282723,
          1.2236800440653322,
          1.7317284661951775,
          1.0909639463878669,
          2.439527392601324,
          2.6572703325775673,
          1.446591807011053,
          1.009669620327306,
          2.5968708550631954,
          2.0086129343982613,
          1.907396707043138,
          1.7568344933929598,
          1.0762396260566696,
          1.8376036261570747,
          2.1216163574446836,
          3.011704877229445,
          2.700886552189072,
          1.9971842089810747,
          2.9182899343127002,
          0.5410752674351677,
          2.0293847958459046,
          2.045163010040548,
          0.26939983696949776,
          2.7205280861237386,
          2.1012826101481097,
          1.9282792179204542,
          0.37230385176329855,
          0.40674388905085324,
          2.636427825340146,
          2.5334325553494565,
          1.7790587361703811,
          1.9425395778861874,
          1.4581858598750974,
          1.4595932197075343,
          1.6281433258856086,
          3.1383387628428454,
          0.9664878748783075,
          1.7143079062855975,
          1.0946557188593613,
          2.2871282518289946,
          2.1063723887617347,
          2.2843277703856804,
          1.3864568137887527,
          1.2270160297511754,
          1.6789025407490858,
          2.1319597206459546,
          1.8010171397181005,
          2.515515545027832,
          2.7493492497144993,
          1.3050437520060436,
          1.0721041154044177,
          2.125494051292295,
          2.385439102100262,
          2.3896583825441553,
          2.3325386823957306,
          0.17962827117968264,
          2.7913121814816244,
          3.092883777098419,
          2.8326023343350215,
          2.8617798531807286,
          2.3230411024346322,
          2.653426374455011,
          2.1512683536911648,
          2.629978866732685,
          2.9140946045818237,
          3.0046216936720778,
          2.031036059526629,
          2.532772877420261,
          2.272180509982005,
          2.251409648098331,
          2.519775755200272,
          1.218150054612071,
          2.3401874603809962,
          2.6712885066185623,
          0.6273133842366532,
          1.8091522996530742,
          2.1493883757684205,
          0.458266709997089,
          1.6808075097692554,
          2.6931070124950174,
          1.4572159720989408,
          1.7404478740291536,
          0.6440206433405964,
          2.5606339747631974,
          0.6593941168886313,
          2.3144867739408097,
          2.182413098566954,
          0.4540012828562551,
          1.1624232728755521,
          1.7898923705536267,
          2.978122580714354,
          1.7389526150569257,
          2.790442927987263,
          2.4555873799512775,
          2.0681861665967562,
          2.279957086510498,
          1.3463920769170274,
          2.4622412044660726,
          0.6527107342644924,
          2.6345424077448176,
          1.5342611197549794,
          1.163907684554426,
          3.3546794103312023,
          1.7919612911696392,
          2.4433741432052902,
          2.272547859754396,
          0.9106679287927557,
          1.6395577495874043,
          2.1634298484486503,
          2.0278667120968565,
          2.474296245742078,
          1.5954645536068794,
          2.1988045731505443,
          1.319121055925613,
          2.223275057274506,
          2.2982239449935467,
          0.47324935797437784,
          2.0593964343858784,
          3.0875276364691815,
          2.2949197384810023,
          1.9575067315215215,
          2.20018809984829,
          2.452150508349208,
          1.9767128645703154,
          2.276982373625806,
          1.8142495916944295,
          2.798458091891754,
          1.7444331858235498,
          1.6031611216007755,
          1.9825044491609471,
          1.7223943974053795,
          2.647604001929473,
          2.3710193653899556,
          2.8150186406737014,
          1.1261678344389754,
          1.8931893704173317,
          2.258429255402902,
          1.7485780865289116,
          1.1111008081401648,
          2.946194213206826,
          1.2762416807022783,
          0.46922061869936094,
          3.0252657054283367,
          2.6687316460001766,
          1.3142380785857302,
          1.3972833159661109,
          2.1627522766405423,
          2.0300833164154928,
          2.9923863654029557,
          2.503113013279997,
          1.449587623090733,
          2.2527970387969596,
          1.5372793388913,
          2.093590036948657,
          1.5888834294231522,
          1.994356373560126,
          2.3192907914426075,
          1.8699012434900075,
          2.382511567119343,
          1.7350147504551234,
          1.8592946386324534,
          2.5900195307773997,
          2.2650402307508752,
          2.170131983240737,
          2.123119944618341,
          1.7551301659658596,
          2.550795028179471,
          2.995231356189322,
          2.5462099135303453,
          2.3070649406869563,
          2.14742631003365,
          2.8448305520660098,
          2.1213639562754607,
          1.5654758502418387,
          2.783131277486537,
          2.9655919817022944,
          1.814601485469649,
          1.6658566401705759,
          2.0421825819924426,
          1.191365056693158,
          1.5285338120221634,
          3.357977219840767,
          1.9676525276899257,
          1.873222336094478,
          2.126541996718355,
          1.687883636524637,
          3.4493198480699854,
          2.236358963229262,
          1.602042176773986,
          1.3811745397306434,
          1.5612384994217654,
          1.7546629963836895,
          3.4638011145319454,
          1.347939600545332,
          3.0469343477711535,
          1.4364138116896379,
          1.6757485173266053,
          2.0561124918004343,
          0.7601306383099564,
          2.2696888351442714,
          3.155518072091961,
          2.0965316590422303,
          2.563931704445525,
          1.331868892509394,
          1.5565516853862773,
          2.301081194317889,
          2.0167936175405976,
          1.2446883308453196,
          1.6774903386739701,
          1.7690844150156637,
          1.84943923045953,
          0.6344776685334346,
          1.4603802392252565,
          1.4747845725305944,
          2.727548252137675,
          3.398668163673359,
          2.744379432102828,
          1.9496205561393372,
          2.1353632616957827,
          2.2694892653328047,
          1.9655188234277063,
          1.615524391678057,
          1.6775379285262026,
          1.4998136944039369,
          1.3125743242000365,
          3.402150952441482,
          1.5106218288340076,
          1.5725421511597204,
          2.988625975390665,
          1.2760262300450316,
          1.6055574040736165,
          1.938596764630557,
          1.1013741633454879,
          1.772927338125152,
          2.4925081156587767,
          2.206329427845832,
          2.5427589705006883,
          2.425589566589121,
          2.5886643065422628,
          1.3767265320423288,
          2.6137657131532515,
          1.1615212558067045,
          2.0068478669765946,
          1.7206088894297664,
          1.4522911319403755,
          1.6903908353358694,
          1.5067748968569858,
          1.2766369182110828,
          0.9903200356386819,
          2.773048566935927,
          1.1811524784231084,
          0.7527440898928738,
          1.1255422055639956,
          1.9288830431847825,
          2.03113644541043,
          2.110650641578005,
          2.467981134654213,
          1.8714562933961,
          2.0007248465899177,
          2.143873474506645,
          1.6985241552237447,
          1.4536431407067352,
          1.179800051807809,
          1.293382215938254,
          2.2547863818859604,
          1.703061214719182,
          1.6758229564380642,
          2.700604097114793,
          1.8797399924270786,
          1.6726415804925827,
          0.963003327117634,
          2.4570741990824834,
          0.48528242760888296,
          1.592019563843287,
          1.5434808995309535,
          2.2314783353855434,
          1.4557438726938545,
          1.6809156322398058,
          2.021860528992443,
          1.8012841923741434,
          2.7176169666736696,
          2.1864742854124697,
          1.2081472394314123,
          2.1106164552827673,
          2.9185501083092946,
          1.2179358302171157,
          2.326091537008683,
          1.105567563937502,
          2.5436346283325975,
          2.965874138594818,
          1.9051228724331204,
          1.4343384524956857,
          1.7733402324137106,
          2.2426632323134634,
          2.3424971532040604,
          1.6539500694300318,
          1.549596779180994,
          2.827239645443065,
          2.017263109447582,
          2.4751890710643343,
          1.4654229312389377,
          2.854827036785013,
          1.5177549679745048,
          1.8441056923189445,
          1.5269346130041186,
          0.934905052405505,
          1.9700018724379706,
          1.599657102250531,
          3.188644253716454,
          0.814938431496798,
          0.8353932468283861,
          2.2310780167401347,
          1.3060008288762506,
          1.8761201480468332,
          1.872182075977273,
          3.4976613390656537,
          2.2828343324813516,
          2.2413984530701683,
          1.407495178012658,
          1.714649859770019,
          1.078559569648772,
          1.421976514977916,
          1.3232623116125413,
          0.9685519789318134,
          2.2056598503837987,
          1.6884779313212819,
          2.16698106498865,
          1.6363656888505376,
          1.4014075354772921,
          2.6127391728828058,
          1.9213498273554068,
          0.20372519462827715,
          1.5633297187498185,
          2.43929790796286,
          2.947830937038235,
          1.3841440017348468,
          1.3074706972409564,
          3.3988875276704857,
          2.2790139945469416,
          0.591287464207788,
          2.813773914848129,
          1.6854862785310705,
          2.3432706251485165,
          2.535636721521019,
          1.7025690811718361,
          2.271662672856703,
          2.489519399683809,
          0.11719539035863016,
          1.3999719925075356,
          1.6722300572804247,
          2.7774533951384512,
          1.6867043044858925,
          0.8665783468995686,
          2.2896274052299725,
          2.6056508075561786,
          1.299612959254954,
          0.8399885528979203,
          2.395474063384887,
          2.855969414133984,
          2.3485601374681027,
          0.906580630609346,
          2.097549267008498,
          0.32398649392799644,
          2.08106049039175,
          2.4855441033171095,
          2.685394371436028,
          3.0135934535749755,
          2.8527699809622344,
          2.102228108781452,
          1.73072468578888,
          1.6320971570448335,
          3.15933124341643,
          1.7069337067268842,
          1.505310970218148,
          1.6720019622934106,
          1.0505657831174777,
          1.8315015490550564,
          1.262371815678022,
          1.6296539666467775,
          1.7625602761675219,
          1.9122976709612864,
          0.9962001314260925,
          2.6996441716412702,
          1.5408688165367075,
          1.7867456447251564,
          1.667508250883078,
          2.3360836704995025,
          2.9421239623935938,
          2.1464781523625756,
          1.6024693649813244,
          1.067324387795171,
          2.2877065680873163,
          0.654340131204647,
          1.7105225733972718,
          2.200862633778974,
          2.1158464996461137,
          1.3746733690157775,
          2.0617036783831764,
          1.1431754897433815,
          0.889124575327348,
          2.30101483316567,
          1.4634026877979645,
          2.9830782855887437,
          1.6036284723464218,
          1.8204028973081712,
          2.497241085589583,
          2.2029844271521553,
          1.8737057170870854,
          1.7218305416811042,
          2.1637041271277075,
          2.1980759529879292,
          1.8568755474692178,
          2.1401026334421167,
          1.7867456447251564,
          1.9082034426929624,
          2.7579800018111826,
          2.1316519542640924,
          1.2324521674247941,
          2.489826064157273,
          1.584201284721048,
          2.4256944961012286,
          2.057935300703187,
          2.279957678198662,
          2.4294452654240404,
          1.5453865616694673,
          1.7096750868011608,
          1.152680001187424,
          1.3862661992650904,
          3.9507770767660206,
          1.4562015537328965,
          2.6917214437094192,
          1.4341313504749624,
          1.5056022985652513,
          1.6185368651740788,
          2.1304677060968924,
          2.164418714446643,
          1.524739813671198,
          2.386253875987061,
          2.359998181848699,
          1.2504270093484284,
          1.4871233149269891,
          2.6032155581302776,
          1.6423205877331903,
          2.1653286774461384,
          1.5023780639734952,
          2.5848325122043025,
          1.474426966133017,
          1.8869801780144133,
          2.112945421308869,
          1.1119552710411085,
          1.9661769770322182,
          2.249124128819317,
          3.0508175550349073,
          2.0588017232641764,
          2.2453132017575603,
          1.2018585027207864,
          1.5556858155705857,
          1.1342652740788879,
          2.101583107909114,
          0.5714300285132284,
          1.9090492782707698,
          0.2614825904129027,
          1.3761179937194898,
          1.8376583318990192,
          0.8674724248168397,
          2.532196134673499,
          1.361072196098374,
          1.7595254762983037,
          2.513960895031461,
          1.3495462718356377,
          2.317130587282742,
          1.4227994308828371,
          1.4864390417129758,
          1.9789430282589948,
          2.605658500376359,
          1.9244148801929202,
          2.137906996885034,
          1.8440398052357498,
          1.6390212774074409,
          1.4385050691699182,
          2.3429097556500156,
          0.9171309183311067,
          1.841549664908831,
          1.1811183188696728,
          1.107220599053509,
          2.0560551674535597,
          2.038032014997471,
          2.2620248011165778,
          1.3516769747788921,
          1.995146988265171,
          1.147241103682619,
          1.0134439450015316,
          1.6469891212577115,
          2.160595021739051,
          1.0763336485685002,
          1.6392491943820944,
          2.025139506559271,
          1.6821568324997007,
          1.0575810648317931,
          1.8664022778676026,
          1.5895447270945215,
          1.4332592707444247,
          2.1570530834029245,
          1.5370615031043033,
          3.121910549619651,
          1.5350830037916834,
          1.9789150783690317,
          1.5428727022983413,
          2.2612583946986238,
          2.239476989312177,
          1.1372040392337492,
          2.3439040517248753,
          1.5035670973089847,
          0.26733983753011165,
          1.727077155721522,
          1.4747921625087355,
          2.908510877010273,
          1.6946029040699035,
          1.992026177947772,
          1.0631227591298835,
          2.152401715896277,
          1.6883817083038002,
          1.4552778002338853,
          1.9891150571331673,
          2.375940478683202,
          0.5544663508545298,
          2.0712617410513214,
          1.554769280708087,
          1.7203812117954318,
          2.2981864463415946,
          1.8588434127270461,
          1.4577128091456506,
          1.9373514053851943,
          0.10920107464078858,
          3.1709753769461146,
          1.9621002208266354,
          2.071899727502649,
          1.811204774334586,
          1.2728279999424128,
          2.195420131390826,
          1.387331762029747,
          2.5808595784215385,
          2.3681175059129593,
          1.5702858636380246,
          1.376336431141472,
          1.5927604853269002,
          1.5734447694541853,
          0.7484789110356527,
          1.3951880592855808,
          1.3759674280750807,
          1.6568180188497892,
          1.9960466330535123,
          1.21330441600613,
          1.5452220589512542,
          2.2035896388303504,
          1.6151765717054891,
          2.4614613031237136,
          1.4913453226942186,
          1.7207405240247347,
          1.6016478524830118,
          1.438497354595683,
          2.5190995396363673,
          1.625534028694676,
          1.5445957216715058,
          2.176656873355173,
          1.2434150335470842,
          1.2886551778707478,
          1.5179300075995736,
          1.6389710704211577,
          1.740844643727841,
          0.8506791557259737,
          2.155504518509882,
          2.8508355813795863,
          2.186816296036471,
          1.3541115881354868,
          1.7632401688673234,
          2.1743271799822366,
          1.009689172285282,
          1.4520805021366625,
          1.8390585959616856,
          2.1296380523424405,
          1.8688045589178415,
          1.7083040140242325,
          2.2979173665554997,
          2.6116446292054825,
          2.43510975152813,
          2.411284261051824,
          0.8019867478428977,
          1.4138285181456396,
          1.6215991543707116,
          1.8176157088772191,
          2.135257172438373,
          2.485029744000975,
          2.4131952899357207,
          1.7867456447251564,
          2.2874072852374905,
          2.204665334782401,
          2.1115055243868053,
          1.3530423318375677,
          1.4979754057829224,
          3.0433099332647537,
          1.0602513640026723,
          1.6631652221055064,
          2.532841848875889,
          1.5626138575969761,
          1.0980180390576877,
          2.087977451611852,
          1.5497071366444837,
          1.7453784038941171,
          1.10452419061357,
          1.8642347144977267,
          1.5022938723753516,
          1.9372537900712437,
          0.7478603732426979,
          1.17267740819364,
          2.0964834757488338,
          2.5187605589405795,
          2.393006824461157,
          1.6656615194881292,
          2.2593306044261614,
          0.14116804156833765,
          2.532841848875889,
          1.288721485753116,
          2.6136591240525107,
          2.3661247076095453,
          2.1581342555326435,
          1.8983369257173452,
          1.3089416214534761,
          1.3147637630727331,
          1.058148533725321,
          1.944672806944022,
          1.8916998205443203,
          1.0355883792992866,
          1.1707009078890445,
          1.9642044136607117,
          2.0976976177780036,
          2.192702439192702,
          1.828882929654799,
          1.607896948703117,
          1.9217272126150522,
          1.217498787123302,
          2.2181003754065927,
          2.130577337460481,
          1.1146562737692656,
          1.058327888893742,
          1.8139768258993916,
          1.4435460003343228,
          1.0089320687647974,
          0.9625622679956478,
          1.8634881212818084,
          0.9655230107081804,
          2.872032464089292,
          2.257333422551206,
          2.654449699919736,
          1.1608212208808526,
          1.6408090991330535,
          1.593284411522297,
          1.486489757099209,
          1.6509119726086674,
          2.173824381576063,
          1.2752608469271591,
          1.9728464906600804,
          1.5260717038067633,
          2.3790293868622983,
          1.602635096744312,
          1.1340745441218922,
          2.292220573159898,
          1.4438793705403403,
          1.1429336261043561,
          0.5717319941943019,
          1.0721975781315303,
          1.444087867294831,
          2.4434080707303862,
          1.6697083091761038,
          0.354241004557796,
          1.7749348267228717,
          2.7347662058841573,
          2.4980835876352794,
          1.666291183905153,
          2.755565943509123,
          1.4686176319495223,
          3.6839413694358876,
          1.3354088263519532,
          1.5658692699233594,
          2.9033868379753307,
          2.0684338500878816,
          1.547010789021067,
          1.3902939150639506,
          2.2582278615676437,
          1.963281920123251,
          2.162197760339284,
          1.8408474461440323,
          0.8386658883662502,
          1.9995362059540067,
          2.350834120545322,
          2.4532299102449757,
          1.249175705723395,
          1.678509003984013,
          1.9375476393215925,
          2.323543787973313,
          1.727187945306055,
          1.910993098759814,
          2.1981007569329547,
          2.680896043775722,
          2.2005261087576455,
          1.744479265529324,
          1.2195440334290593,
          0.77219349492355,
          1.7373108750072221,
          1.095292263999167,
          2.0643933188899797,
          1.233566071989632,
          1.12417027672818,
          1.632481435400484,
          1.4937922490656355,
          1.4004831233923027,
          1.7006906777097135,
          2.236376052306367,
          1.3902939150639506,
          1.435940136508933,
          0.612882771720073,
          0.7614621935471619,
          2.044726262224303,
          1.2734952155002903,
          0.4991672715248224,
          2.830220943377116,
          1.3377229557150556,
          0.6353447789203045,
          2.409157033376052,
          2.310611506576267,
          1.458486625332813,
          2.063204085650836,
          1.6184037835837266,
          2.1701648437119,
          2.2012866420013335,
          2.2550024420760146,
          2.2803496684179856,
          2.0415734730119484,
          2.4315524774040367,
          0.40753901699046724,
          1.7112852051230736,
          1.8639948742633203,
          1.6528114850034736,
          0.6732790846747804,
          1.842689760944713,
          2.608783170256953,
          1.0920650378407941,
          1.5005348097590205,
          1.4358818494536911,
          1.9009236839599535,
          1.426164028428883,
          1.3067359584690743,
          1.6565415993195933,
          1.1725287149366137,
          0.58976405022667,
          0.9797009705385668,
          1.6097759901956004,
          1.4440460251350744,
          2.1175085425199476,
          1.8476980458872188,
          1.990939356883701,
          2.816912060545443,
          1.3291952347742255,
          1.4533842923442024,
          0.9373859839073679,
          1.5333575587032087,
          1.661732545588364,
          1.1751453356812622,
          1.236653013640931,
          1.9880468949733803,
          2.0817297666651533,
          1.7360783027848752,
          2.337082434130344,
          1.3429712190716359,
          1.6056987497648245,
          1.8278581105486214,
          1.7659167178374562,
          2.229994588122085,
          1.6434478345507089,
          1.4802521670060849,
          2.5846785536905643,
          2.2255666726883008,
          1.5650110957571013,
          1.6950652276128206,
          2.184360433475749,
          2.158847063292012,
          1.814432126299753,
          1.27943683299859,
          2.252671747454066,
          1.6893084001988734,
          0.7537749184877642,
          2.2631506323011474,
          2.0259050854180343,
          2.1259560796940806,
          2.083236584331248,
          1.012169722414327,
          1.971688887375018,
          2.191544108289305,
          1.3588538383265902,
          1.8618400199906748,
          1.7327605978140233,
          1.6673944686812292,
          1.671601145037412,
          2.5359017931503285,
          2.0930782177980123,
          1.4983915002580346,
          2.3941369681902063,
          2.1100941320823496,
          1.4460949684165576,
          1.0550791930523076,
          1.5579649018293047,
          0.5764895478899801,
          1.4573232875112538,
          2.2405227426213155,
          1.814575088199473,
          2.297366650558264,
          2.032640443158728,
          1.6002453231439495,
          2.0989892600810793,
          1.9812813963159637,
          1.1883152533995378,
          2.2874468101666037,
          1.4659930409579285,
          1.4040305873936947,
          2.2774568363377226,
          1.9334136745624722,
          2.0245984726727038,
          2.899694688148572,
          1.8962366830132675,
          2.3334925143631957,
          1.3559351085080593,
          3.1877826333959627,
          1.965524825494501,
          2.5281111075968297,
          0.5148741584320028,
          1.5053581343315787,
          1.3915830872146755,
          1.5131159741426565,
          1.3719628177799965,
          2.6851481720377657,
          2.4636956111676414,
          1.160242570128675,
          2.1564088076753887,
          2.035549527346301,
          1.476021592478607,
          1.8620503406661113,
          1.4159356695513294,
          1.3862545834801787,
          2.0251475374502705,
          1.493570580873068,
          2.03485172590437,
          2.958191306512024,
          2.174568413430352,
          1.0794769242330295,
          2.053449062094584,
          1.0255212296910892,
          1.494756649841125,
          1.6383886865407955,
          1.4371846517303708,
          0.6166340668645749,
          1.7825832655496299,
          1.336588934091672,
          1.8528930467886595,
          0.8099480267679926,
          2.2931737678104436,
          2.1102493184844486,
          2.364611583412535,
          1.4947328319793247,
          0.5634954087459813,
          2.473699724225927,
          0.4627745148235855,
          1.5103915178304714,
          2.4729018084397656,
          1.1753751479701793,
          2.017960902111497,
          1.501516611331366,
          1.4567131530806012,
          2.2011866679974244,
          1.447901458984567,
          1.7756627581326463,
          2.064055651797856,
          0.9912482645012749,
          1.5917778602489987,
          2.2267785038335797,
          1.3597838025166982,
          1.6066965391275794,
          2.5343235656436565,
          2.310812873581171,
          1.600193124503483,
          1.3554008168429514,
          1.5040422711843708,
          1.9024670005807485,
          1.2493064903659343,
          1.8383897313619222,
          2.2628355294074676,
          1.3593513722566253,
          1.043389480963483,
          1.5734435886288285,
          1.9775298304411184,
          2.574303178036659,
          1.838584951166937,
          2.4806791880209733,
          1.2484289496612215,
          1.379285842960135,
          1.7655065888104264,
          2.266202252428404,
          0.8350558198732395,
          2.6721918276073215,
          1.8955770700873917,
          2.0209901535257897,
          2.0614558377884684,
          1.6700137062080198,
          2.9814421280677603,
          1.7045730324257347,
          2.1890966590744783,
          0.657329785924867,
          1.095896501061627,
          1.814058225020878,
          2.00478461008584,
          0.08443533021312423,
          1.9497787148956758,
          2.2850348374276463,
          0.5949320425981501,
          1.488250105835187,
          1.1646298334087124,
          1.776182798737433,
          1.4336575854351425,
          0.9795047913249267,
          1.272497167597517,
          1.4452281874832942,
          1.9049428899669734,
          2.2397298349757557,
          2.801132988408174,
          1.4924273560657322,
          2.1385523816315417,
          2.0977335486136894,
          2.2130359841853275,
          2.210543751155298,
          1.0984249163584283,
          2.114736257825799,
          2.1099490300366863,
          1.560304383120628,
          1.2942715524414554,
          1.4575058366213065,
          1.256624675602448,
          2.024006959969711,
          0.6560273247226263,
          1.3366170563085618,
          1.3622227271117957,
          2.0523767890676927,
          1.5629307101306484,
          1.1112559975800744,
          1.6532536579631303,
          1.79894490782252,
          2.2783209291190665,
          1.414223083317149,
          2.1431932624552466,
          1.7202643501589472,
          1.3413123141291705,
          1.4076595396334552,
          1.702984296960752,
          1.4311942312224775,
          1.3516086241655572,
          1.399332608045806,
          1.324654824639524,
          2.4594296242428353,
          2.4933680459868395,
          1.8084320935187739,
          0.5502664792884324,
          2.093204389277144,
          1.2775766778137725,
          1.6629137463860644,
          2.557418391372371,
          0.2747346164328771,
          1.7911482015713136,
          2.267440441584407,
          1.8764909994344467,
          0.836063793418926,
          1.2918533657396702,
          1.7981631628269912,
          2.461568854854941,
          2.684021189110907,
          1.9855589193482013,
          2.7276639705752945,
          1.308435237490484,
          2.2630061553494887,
          3.411525449135517,
          2.042901853034748,
          1.8357162218954994,
          2.1064563269556746,
          1.3849077089074273,
          1.4258061402598328,
          1.4879867907277473,
          2.1492372412544376,
          1.3502033048648994,
          2.183061514603795,
          2.1889652847319714,
          1.553554570799995,
          1.8109413885750592,
          1.5832502336716514,
          1.7748017895340478,
          1.4789633708622127,
          1.093483580301575,
          2.510996562607418,
          1.3452400569926615,
          2.3474267211600326,
          3.311397098286822,
          1.8587085360040196,
          1.7326799228396976,
          1.3154325938435465,
          2.4472838706122,
          1.1465695449661135,
          2.451745785965505,
          2.0845594314324094,
          2.637159926617946,
          1.6784052399957408,
          1.3510667626143398,
          2.303885789999491,
          2.198895869856447,
          2.6540068734483167,
          1.7820419511463035,
          1.911504220806953,
          2.7856474603300923,
          1.7643694464157613,
          1.9560319102986177,
          1.7752862041971509,
          1.9119431023839353,
          2.6749523596113005,
          1.5609304038569454,
          2.4601235172648575,
          1.6321702896586332,
          1.3925732695800521,
          2.5225918509522107,
          1.0296360513448648,
          2.9145964726003486,
          2.324201545841691,
          1.7148546690965472,
          0.8299599029752999,
          0.8926091787931794,
          1.0218042378341257,
          1.0145976389491878,
          0.7227406607363731,
          1.6445218158260968,
          1.488656177961318,
          1.7770355516680028,
          1.8556932964954105,
          1.032988733657665,
          2.5288092351252343,
          1.5396846137263753,
          1.368998199008164,
          1.578452197405851,
          2.2060473601463597,
          2.0006571912940125,
          1.7961284579971908,
          0.8719285285121042,
          1.5217241808054256,
          1.1678692941850783,
          1.4673292112833338,
          1.4332592707444247,
          2.5568130299452503,
          1.2061409728160222,
          2.1118983867377215,
          1.1600934774642944,
          1.829339607354532,
          1.9281686920416072,
          1.6942984779160526,
          1.325688800967176,
          2.3432705971966405,
          1.1256180172526877,
          1.370232616150262,
          2.304260005200487,
          1.2234757074828362,
          1.784745500131949,
          1.287214516051952,
          2.171722731841083,
          2.1591151174219014,
          0.6644260231209627,
          0.5801813509526175,
          2.1853251846920436,
          0.9315416692564935,
          2.3507700944929733,
          2.952973119966063,
          1.1719187299043872,
          1.095586342483221,
          2.0933470210296634,
          2.1093518918780463,
          2.6330812161380135,
          1.2740466641851744,
          1.4418977858725501,
          1.7798954682413908,
          0.6604686806026266,
          1.1456881713095712,
          2.240342325022706,
          0.7120304592726172,
          1.5612800183479192,
          2.1406057210070886,
          1.2872607153715425,
          1.6287259175505377,
          2.5243594742113165,
          1.4857744261764723,
          1.2596973485212415,
          2.222668920032945,
          1.4944877107399932,
          1.5353026826944618,
          1.2906182758090377,
          2.296074370200049,
          0.5903468929948866,
          1.0446707715019337,
          2.150448582803345,
          2.0270380888464485,
          0.9786599671112048,
          2.4841822066133776,
          2.3484278368348313,
          1.747276754696888,
          2.606263059462868,
          1.7060217179981807,
          1.7646631339700762,
          1.7961284579971908,
          2.1615292719634818,
          1.2369902757152378,
          1.1298050536863504,
          1.591196984398795,
          1.4076928439934115,
          1.2788906282603756,
          0.5834469373351847,
          1.3897352371641545,
          1.0876057714072211,
          0.6725557266940817,
          1.7819539737938386,
          0.9440074103591755,
          1.0741688565753802,
          1.6252023327339689,
          0.8507438758548932,
          1.6267685244877592,
          2.320584910069772,
          2.1762785047679154,
          1.0441082054133386,
          1.961189986963623,
          2.0832766914496355,
          1.9722382441018171,
          1.4270976642100413,
          1.8689961700494981,
          1.7578047844787823,
          1.9973571275434991,
          1.3057009980548506,
          2.136573319383561,
          1.8189593243663644,
          1.2904032410628574,
          2.132595011105185,
          1.467593157120593,
          2.4453675223781457,
          0.6176077417942103,
          2.5838153082711033,
          1.516597954973655,
          1.6116535481820549,
          1.1222398526091568,
          2.342714008663698,
          1.3080550776736224,
          2.5257947223722343,
          3.0562791040532717,
          1.114192669707337,
          0.22853173449963318,
          1.5149828344275804,
          1.1025608123861905,
          2.501618966686225,
          1.6485043942325874,
          2.351277226467086,
          2.2753263873908742,
          2.1109503438091597,
          1.7257432816331608,
          0.49181716463283526,
          2.358504096086382,
          1.06985327455777,
          2.277145972706761,
          2.404547508417648,
          1.624708268151345,
          2.394354523847158,
          2.6028227952145317,
          2.0007400633983567,
          3.025216900448336,
          1.7320079782772604,
          2.334906165143293,
          1.6450349450105626,
          1.538233946564703,
          1.7597806784551822,
          1.9546224478642267,
          2.2170762120888754,
          2.2820128517737155,
          0.7577961692970923,
          2.053206395245018,
          2.0369992183469714,
          2.9321392648925695,
          1.8772427253832367,
          2.284184822120228,
          2.3388733011452416,
          2.4568619435219676,
          1.598574570028904,
          0.6591062320026698,
          2.6633803572477257,
          2.027578794405594,
          1.5522218437470179,
          1.8971655461726136,
          0.9136765182471259,
          3.056249251164517,
          1.021906941559491,
          1.030630369458327,
          0.5928131145049582,
          2.656860293348481,
          1.7487274942374078,
          2.281956524691385,
          1.209574046115715,
          1.9061930689854518,
          0.9016255441691047,
          1.9967191948366902,
          1.7065790933836638,
          0.9494014802083891,
          0.5600260573599022,
          1.8585566012690509,
          1.9377420375161336,
          2.2853634192973216,
          2.6005978777578553,
          2.7333818862232735,
          1.8783473873745617,
          2.9510655283719056,
          1.7079528050675616,
          1.6310430584467395,
          2.3637851127080833,
          2.6465044690882062,
          1.9162095081508876,
          1.9079859983464538,
          2.352371927163394,
          1.6621296123038156,
          1.4024845678024809,
          1.0521679771818584,
          2.656748347279086,
          1.955623379751425,
          1.2023996108507977,
          3.1532858964702646,
          1.2072395348206673,
          1.6100455258891446,
          1.8998221075691495,
          2.1187741918124403,
          1.7979747638239825,
          2.095071467531696,
          1.5520255182953395,
          1.3627644171126871,
          2.2956954415233537,
          2.2361040908533023,
          0.741665397588578,
          1.4050178592827312,
          2.0141168398291946,
          1.956641998350086,
          1.6332019723889335,
          1.2173583131371744,
          0.6330296212198138,
          1.2407705048891264,
          3.250910344845598,
          2.3250938521123388,
          0.49366593025381666,
          2.171287571622828,
          1.2259156325542322,
          2.1313659722346125,
          2.8078697198731715,
          1.3883385637395826,
          0.5838451553196854,
          2.276530760326448,
          1.2773227290418678,
          1.6374985720056348,
          1.607797552727408,
          0.9055637225660588,
          1.6734132621428166,
          2.5040503670640426,
          2.082754920566715,
          1.5792403197122804,
          1.4243216652289472,
          3.094308767423646,
          1.4889344267046007,
          1.4385085791014847,
          1.157444730731083,
          0.5797205206538053,
          0.5210713092777997,
          0.926503378938368,
          0.6760832204474613,
          2.53633424395131,
          2.2019112407435757,
          0.7507829373736876,
          1.9724641564450607,
          1.5547482436568212,
          3.0872921078175293,
          1.9626897100579468,
          1.830671144007461,
          0.6084712902053189,
          2.05418813907712,
          0.8104214298161732,
          1.2111346690960085,
          2.1912124543859908,
          1.1709742374613001,
          1.8310269903265395,
          2.8141488461410686,
          1.0190672692514153,
          1.4914760641461018,
          0.6161776951356757,
          0.9978170442458479,
          1.4670983863634945,
          1.002802806367466,
          1.2224490636930785,
          2.508276917478956,
          1.9787672270051349,
          0.30582759011703986,
          1.8696522024729627,
          1.3635521662500147,
          1.5702148486723504,
          1.4796445011208623,
          1.4693424090860234,
          1.630556967414768,
          2.1209120307232037,
          1.6668196023224993,
          1.7139501585740777,
          2.464652451849597,
          0.8528256558521947,
          1.5193641763262975,
          2.5589575250253143,
          1.5591105294382188,
          1.9114217189625942,
          2.1445124888728153,
          1.115022405183271,
          2.4449845101233527,
          1.553098471450164,
          1.6062883662929015,
          0.9374510910698288,
          1.4149110887254908,
          1.1234818111315468,
          1.808641291216899,
          1.7379605577990351,
          1.0512364433470234,
          1.8790621468449078,
          1.5810004530994095,
          0.5177542378835918,
          1.700707070270155,
          1.8908339550436604,
          1.1897561289045093,
          1.5089547728123254,
          0.906177688359929,
          3.369082018208496,
          2.3207601546211936,
          2.4698138851816216,
          2.106228253003526,
          2.1794401691368765,
          2.78387383675627,
          0.7209965768215619,
          1.3806533498043772,
          1.5815379847887043,
          0.5102464241012767,
          2.303299088405184,
          0.9841732037331439,
          1.1806033907745044,
          2.33979253408695,
          1.4897042556706945,
          1.8683129927120161,
          1.8994563332550427,
          1.5742827150891512,
          2.3906805066248946,
          1.1370278182766238,
          1.0852057604345073,
          0.5919094064281979,
          1.85377680195306,
          1.7716848831982557,
          1.8005975872600584,
          0.8786649690618297,
          3.1801273550607316,
          1.5418540865208399,
          1.1226541215290624,
          2.927517518658514,
          2.2635028953362135,
          1.3777687101010045,
          1.5293121259878224,
          2.5262136442336383,
          2.043166629773984,
          1.1680854220415446,
          1.6185280493155494,
          1.7278498483347795,
          0.9893311803465527,
          1.608861744035184,
          1.9242976155808302,
          0.722322569816041,
          0.5669167494427271,
          0.6272691049706342,
          1.8725277686521875,
          2.921454246528171,
          1.3362270465149548,
          2.2817175990823215,
          2.2450038649517845,
          1.0826293708286407,
          1.3725936720788656,
          1.9750140019798625,
          1.8270420577386746,
          1.598237675148113,
          1.5065154214359229,
          2.015543856773259,
          1.8525414774456295,
          1.3100377392017664,
          1.6466427446605916,
          0.495012598399035,
          1.1376502985741466,
          1.843899061799786,
          0.3609365098401741,
          2.746012070333306,
          1.5994066150283357,
          1.5006696335390066,
          0.7650029348840603,
          2.302303193227582,
          1.3258152925516777,
          2.6667548131685095,
          2.015516538863577,
          1.5422847741215024,
          2.5133218038753964,
          1.8581501509877216,
          1.7355144554764155,
          0.7356984308264216,
          1.2536430021798406,
          2.3511134276016894,
          1.3102548290460336,
          1.935318294852856,
          1.3476223568363614,
          1.632889100580103,
          2.1553728656014437,
          2.300513076658031,
          2.2851747280521253,
          0.6866138889103072,
          1.134281597541966,
          1.2664156738703736,
          1.729702021075259,
          1.1468910552371752,
          1.4879504998755575,
          1.5037990329380628,
          1.2063034649468989,
          1.270970827968421,
          1.6377269206001208,
          1.0310403064563873,
          1.062856756130387,
          1.7202324858171922,
          2.683668602995473,
          1.8694237168278856,
          1.20470249613253,
          0.7958560236860184,
          0.4216739316288406,
          2.248491126484373,
          0.9230329833959501,
          0.18861024480531505,
          2.778867434546421,
          3.1039286804459825,
          0.7654533133561193,
          0.8094766737996483,
          1.9291630628832248,
          2.245186869628688,
          1.813783518551194,
          1.2234486661053796,
          1.7650888778614262,
          2.1146283494566407,
          0.5129849662652634,
          1.979329897895309,
          1.5495505017350617,
          1.43980179750953,
          0.5867237377090787,
          1.2150670612016699,
          0.27466381820753555,
          1.5437545048758043,
          2.380348622416592,
          2.8734617584377347,
          2.9242995567425805,
          1.4435175983201565,
          1.6918893314090389,
          1.548312555826593,
          1.1396332556863624,
          2.1508792646577755,
          1.3842599102794095,
          1.9177846469205244,
          2.4071854036605447,
          1.8669694047385763,
          2.363319299646881,
          0.9009035105062239,
          1.5585864393890072,
          0.9559771492114427,
          1.1926972329222234,
          1.5688474468920652,
          1.7011964697055875,
          2.2998358775435532,
          1.3290507644204355,
          2.9174039174037683,
          2.554876082396549,
          0.728891125425011,
          1.92095003013911,
          0.5978910186739078,
          0.9691249829961488,
          0.6055842712439355,
          1.8455509610441159,
          1.8178994736890326,
          1.086311548035079,
          2.4140563057413376,
          1.2908372343750745,
          1.7349061468705902,
          2.075129363364726,
          0.581870203276583,
          1.8233662912569053,
          2.3487641823998455,
          2.1377002164054977,
          1.2461036592807233,
          1.7082558998102504,
          1.6731954414248749,
          0.9058787270078015,
          0.7980914435147101,
          0.41563436102369017,
          0.6193762518023885,
          0.3958798939929761,
          2.569655500856128,
          0.5817344898708326,
          1.3249858479681345,
          1.5805620401457063,
          0.5624126329382868,
          1.6106001882956695,
          1.364552820576894,
          1.5211940116792444,
          0.5189964932430637,
          0.7268868670895087,
          1.5438299603617347,
          1.7104824110320553,
          2.719338746242991,
          3.3162021623709594,
          0.3964324160503641,
          0.6419998257337509,
          3.0376512497919044,
          1.8280715351992889,
          2.735169625815865,
          0.4249447716574433,
          1.145344969544405,
          1.714797126261514,
          3.0544610697783776,
          1.3478333863632208,
          2.0845338378225473,
          0.36250246555965604,
          2.8823150880148134,
          1.9631053102463938,
          0.9410612630442826,
          2.304260005200487,
          1.3116670795693093,
          1.5961968373979876,
          2.9830782855887437,
          1.843639956825349,
          2.4642348497162496,
          1.2120154951049356,
          0.8019867478428977,
          1.5497071366444837,
          1.2731110682452396,
          1.1021135762640262,
          1.4639682841270765,
          1.107220599053509,
          1.273187038435749,
          1.9608403831794807,
          2.4427732234497053,
          2.046246728209831,
          1.4554732353975468,
          1.5073809928543183
         ],
         "xaxis": "x",
         "y": [
          0.5410320546358189,
          -1.0464507631536049,
          0.21830649916722855,
          0.9788102455286809,
          -0.14641653818377043,
          0.38651807020888823,
          0.16481096044177268,
          -0.09564748504334791,
          0.4413526035694649,
          -1.2107802230581006,
          0.2458702945876172,
          -0.4614556518998339,
          1.4190390978939347,
          -0.2960467521413226,
          0.36359970996364627,
          -0.07748488820595092,
          -0.008903805049064706,
          0.30255681327091005,
          0.6347894114336033,
          1.3096594970858229,
          -0.004447400411472843,
          0.8422984745534791,
          0.24578982255298668,
          1.3353178110633055,
          -0.9381757127566674,
          0.7235252239149401,
          0.9989599398170742,
          1.1329795055735452,
          0.483161295783633,
          -1.2206525793692706,
          0.3433598607757664,
          -0.4784822375706701,
          -0.9331440343916458,
          -0.25563107373598304,
          0.9158133829608651,
          -1.1134240230434909,
          0.9799608730318454,
          0.4597616959268999,
          -0.04832405600746251,
          0.5485553418315169,
          0.22297829892294982,
          0.19388958574914086,
          -0.577451766507164,
          -0.15109883122982176,
          -0.08720889259542505,
          -0.8324613217006244,
          0.041063548056041434,
          0.7713890700759872,
          0.26523648060883737,
          -0.1770683142554803,
          -0.8269274285677845,
          0.5155904174869947,
          0.36966945666990775,
          0.21419968705315728,
          0.6383104738299318,
          -1.301823721825378,
          -0.5669380757427915,
          -0.048905745329519204,
          -0.7675593431538186,
          0.07128194658466767,
          0.6508491552943954,
          -0.14340265617412448,
          0.48591886388942274,
          -0.26570010563628377,
          0.39559989507432813,
          -0.7898810639268272,
          1.4194065701343306,
          0.0782123494233606,
          -1.1637567125464638,
          1.4401831825969575,
          0.2752906473340578,
          -0.7651373638434273,
          -1.2897489941787332,
          -0.41856969848429776,
          -0.17722054477054774,
          -1.1823477222450687,
          -0.4738033740018722,
          -0.6585332050097144,
          0.3307945270134279,
          1.186626178616114,
          1.020042031550767,
          -0.8283858827622811,
          -0.7183097526283305,
          0.6867171401475739,
          0.2481124353333545,
          -0.30953607842121983,
          0.04915656836409558,
          0.3469698020241126,
          0.12278952276455357,
          0.2791752928467193,
          0.9367199486852754,
          0.09573600849144465,
          0.13571236450809956,
          -0.03671211067898392,
          0.717669958579927,
          0.43656299394892056,
          0.02123765883710358,
          0.21791658804828604,
          0.5568596794050744,
          0.2715901774631231,
          0.34397297549949596,
          -0.8326287775519183,
          -0.06615329267553349,
          -0.5403006267670337,
          0.5296982458471573,
          -0.5251973146290569,
          -0.6659699049143639,
          0.3582309740076035,
          -1.1630712807701802,
          -0.0826771586693828,
          -0.2110204249922614,
          0.46923990113236147,
          -0.22251938745383368,
          0.13427516875572054,
          0.29736100934127896,
          0.8888767018595173,
          1.4169674493760493,
          0.6739217234623284,
          0.020027356275749322,
          0.2438457247160701,
          0.5197422635603133,
          0.34122952681701885,
          -0.9844177842309316,
          -0.575685388898425,
          -0.64460928800727,
          -0.5174206638468136,
          0.8491566396231683,
          0.396473272418705,
          0.19284586260088027,
          0.6016358130361831,
          -0.34331964164097,
          0.2098685293267615,
          0.05534465302051129,
          0.27579691676022594,
          -1.1736271430490808,
          -0.4419422232793254,
          0.058985975014463225,
          -0.5590412931075862,
          -0.38725175143580176,
          0.1506104819150032,
          -0.9571183591563951,
          -0.617766252783811,
          -0.5389667130323248,
          0.1391906523962096,
          -0.34303898081483647,
          0.17949249599279968,
          0.4344707646445775,
          -0.7983821701153759,
          -0.25809820348043483,
          -0.6314509517784528,
          -1.283835443500933,
          0.1225520091759468,
          -1.1956803843504578,
          -0.015952495651439087,
          0.3618843177268369,
          1.0260763704850608,
          -0.5363544992306023,
          -1.0949735352233108,
          0.4952699501729583,
          0.15183607884069686,
          0.20993284417844496,
          0.4580640540668052,
          0.08959436489556977,
          0.12145915293591561,
          0.38714221971770896,
          1.239462732134045,
          0.28060588722138846,
          -0.7652456538076213,
          -0.6774494953678402,
          -0.5604797075897571,
          1.0030507689277401,
          1.5928064181960961,
          0.30696334984955426,
          -0.4991732398904426,
          0.5554308857814229,
          -0.26447253890848654,
          0.7078431845579234,
          0.8754388976347008,
          1.590625322807756,
          -0.6441806664555716,
          0.5336332013875713,
          1.914733780528276,
          0.48668092742461744,
          -0.06015362985260163,
          1.0404973120614913,
          -1.1160073690034171,
          -0.5762757377500349,
          -0.09793467068760035,
          0.33185582750224923,
          0.1917908772108922,
          -0.511835206989645,
          1.2576691143778322,
          0.36452670566329487,
          0.9464975286005768,
          0.36132278816776114,
          0.10961109718395293,
          0.33192766016899006,
          0.427218138113995,
          0.16291218752901973,
          -0.5395971821241464,
          0.20103783122691876,
          0.27526637140707977,
          0.2598964903921978,
          0.5003511437024474,
          0.9633056297526255,
          -0.04840510327989518,
          0.022893895582828405,
          -0.7596151864232398,
          0.5851426394274477,
          0.6189367948893176,
          0.6672050674044065,
          -0.048389345857341864,
          -0.1119933296399836,
          2.10005251024916,
          0.4385971949335598,
          0.18443828367239357,
          -0.7886414180741467,
          -0.9505798752582522,
          -0.8953342254653723,
          -0.8021736237394831,
          0.9235896574388381,
          1.2877057188957906,
          1.2211343650477036,
          -0.12963831251510394,
          -0.2853811924529646,
          -0.6994429886644876,
          -0.5015655354378885,
          -0.9056622870191637,
          -0.7141539094756426,
          1.4496000281537893,
          -0.2534606330062681,
          -0.1403915355457751,
          -0.7319950927598238,
          -0.7301298897575409,
          -1.0799075906014224,
          -1.1553474542617759,
          -0.992788300579418,
          0.4355916503908665,
          0.11415394955600308,
          0.6919557026823561,
          0.9451131275230419,
          -1.2162246020825225,
          -0.1833086519282269,
          0.772075670378977,
          1.172945833589654,
          -0.29749811539881477,
          -1.2995546006718657,
          -0.3332442577480109,
          -0.6118524041216306,
          -1.2617348445647016,
          0.6733704922597363,
          -0.25245944355667277,
          -0.06877463887272041,
          -0.8605328362351656,
          0.09597042556083776,
          0.7079624001305049,
          -0.323519554961641,
          -0.5183519688566968,
          -0.9693455164717263,
          -0.35056555440014175,
          0.36864426258038435,
          0.740045276814071,
          -0.45910500328103976,
          -0.3551362337101705,
          1.0398696420416582,
          -0.836035684164075,
          0.038515497383560846,
          1.296740678507824,
          -0.24161395292734414,
          0.756866741266599,
          -0.16027648805695352,
          0.5100723494067817,
          -0.6914908895586691,
          -0.5059654722611505,
          0.09355663928476951,
          0.3264862279038241,
          -0.6685518548943864,
          0.24046246906974802,
          0.693914319047741,
          0.29620256453055704,
          -0.4771336741120281,
          0.4434326182827575,
          -0.4098121560458139,
          0.46180779801933886,
          -1.000562184184352,
          0.177943647657432,
          0.7325834358910193,
          0.17787528168316177,
          0.0703862457974726,
          -0.9429853614925675,
          0.6952568134668664,
          1.1374645291166983,
          -0.5546719598420493,
          -0.3111833976703071,
          0.152175485680691,
          0.1342358338738577,
          -0.9364509597579151,
          -0.9083646250885334,
          1.903411531228823,
          0.17917951680850355,
          0.1068019514610415,
          -0.019583943178605265,
          0.6697759722806407,
          0.6251212276026834,
          0.38979872023114664,
          0.8294183933521314,
          0.18612455233130912,
          -0.2165125568583943,
          -0.7236638801593259,
          0.040265934663992586,
          -0.7354259629044467,
          1.4131679458003674,
          -0.7889896264705345,
          0.07104886929207649,
          0.36188375954162083,
          1.3256615832116638,
          0.6293203118349434,
          -1.0664855925340548,
          -0.0880024535233924,
          1.2817567063515227,
          -0.9848572192894014,
          0.5238233041741566,
          -0.5634631223932656,
          -0.9813332746050225,
          -0.46002349251461216,
          0.5228511746045382,
          -0.5124842819584282,
          -0.5797242719868402,
          -0.39490417465188615,
          1.512619632202179,
          -1.104289312869261,
          0.2051219724787711,
          0.29141990305774057,
          -0.462666840857998,
          -1.5239052659422636,
          0.6297638199153356,
          0.6570620908187013,
          0.10444468118173122,
          -1.7181332598214603,
          -0.08668524790587619,
          -1.015133814897058,
          0.01603931236360574,
          -0.3582737245657538,
          0.5186611654848752,
          -0.3002816462607325,
          0.3114556633029766,
          1.0430442372966724,
          0.16762696293595616,
          0.7010080284130242,
          -0.9636674617989037,
          0.1359224346454498,
          0.11903409819706151,
          -0.6673136661227409,
          0.33698124087234826,
          0.4178222697822703,
          0.10259643103958885,
          -0.2509384561055129,
          -0.8137386203673034,
          0.13874140009931815,
          -1.107767264223978,
          0.13826081003851037,
          0.48729951737898436,
          -0.653082173073349,
          -0.5923978592570318,
          0.2794186555867204,
          0.025177723031277143,
          -0.5238272715953027,
          0.13544281705026368,
          0.18327402706504586,
          -1.21633886290143,
          1.5267111324433607,
          0.5509526162461649,
          -0.08748138545175918,
          -0.6899507196829685,
          -0.593594932857957,
          -0.36926150300772814,
          -0.5192804581777738,
          0.6439534916929571,
          0.01924884309568826,
          0.022124441669365218,
          -0.5628342396846131,
          -0.7981992324459134,
          0.19938259784477133,
          0.38319518572329664,
          -0.9240702188308538,
          1.1735350427998932,
          -1.027651701848469,
          -0.4063666219415451,
          1.374562823736556,
          -0.5806671531177906,
          -0.45890236636215237,
          0.3265778541672997,
          0.18071299732071844,
          0.11710835241870712,
          1.0074227489141996,
          1.1498516253375002,
          -0.49002346676398423,
          0.5355236170305399,
          -0.6278295953827926,
          -0.26386075009454163,
          -0.7308782070652681,
          0.17068217066568117,
          -0.01483317470887246,
          -0.36718285671239403,
          -0.1242328130460861,
          -0.44447550964009447,
          0.40650202287535,
          0.06780262340117378,
          0.27541657499740396,
          0.2452135718374738,
          0.5247236280926562,
          0.17154247291254554,
          -0.1485295008305043,
          1.0642847065815546,
          0.2597311122610128,
          0.373215441760684,
          0.10712395285943897,
          -0.11829254534971359,
          0.5958672001774171,
          -0.6793692606300683,
          -0.09240619906838458,
          0.6961841110212065,
          -0.8523301055349672,
          -0.6261619812710422,
          -0.9543189995578166,
          -1.1348519493985738,
          -1.1016969681913849,
          1.6168904931983323,
          -1.1533042702357115,
          -0.021589960855499746,
          0.28077253713205247,
          -0.7065266055329322,
          1.1001745809930261,
          1.3463174279152332,
          -1.3726722125583637,
          0.6802256944216208,
          -1.2721384278621815,
          -1.0972527375016106,
          0.7421961531718428,
          -0.0057082804324278145,
          0.927452443392053,
          -0.8656826065349876,
          -0.6678442815930572,
          1.5398730543801864,
          -0.8472818296768602,
          -0.22850689521399442,
          1.2994545700567595,
          -0.051607003161933784,
          0.9287210400263941,
          -0.5571911982991791,
          -0.6722558994639892,
          0.31160546732811994,
          0.5824097022186451,
          -0.788594064606613,
          -1.2558662016995836,
          -1.3038312718189955,
          -0.5734720345972675,
          -1.0034071766554906,
          -0.9082902326988121,
          -0.9055017315762639,
          1.305129056697493,
          -0.5697112160432577,
          1.1609429186032925,
          0.6854048365464738,
          0.4930745099939113,
          0.37555139225766654,
          -0.6057246279326088,
          -0.352096359949229,
          -0.9445558395889854,
          -0.5282186173015467,
          -0.9685930991927229,
          1.3398831954764903,
          -0.8522183551948813,
          -0.8710107174302812,
          -0.25807254532863316,
          -1.2107433677301047,
          -0.5290994399891988,
          0.08693985294515359,
          -0.5685346278187614,
          -0.8593581992633037,
          0.15278426326056135,
          0.48418327863340127,
          0.7903912428923786,
          0.4210213303067179,
          1.1699760206337735,
          -0.6945031931683824,
          0.869997812671881,
          -0.5765938477380681,
          -0.20981998889942136,
          -0.1798689954926099,
          -0.7836446553972312,
          0.888814726539986,
          -0.8428954287739087,
          0.05035725880737835,
          0.2846163884816256,
          0.699287302924435,
          -0.5928407165104925,
          -0.9374913821305835,
          -0.8715435612111133,
          0.15299018181673418,
          -0.135024789110071,
          -0.9268523620450091,
          1.4658100193582777,
          0.011362841204547095,
          -0.7007839113858424,
          -1.877108983050631,
          -0.6149269901344946,
          -0.6384820208251548,
          -0.5519019834554802,
          -0.8072157877837944,
          -1.5677193707786055,
          -0.6838645737682714,
          -1.2688213063095182,
          1.1621187131839823,
          -0.9737337094728169,
          -0.894948148612271,
          -0.9792170737100943,
          1.2838691624025769,
          -0.2518067893918386,
          -0.79552406253988,
          -0.7200477993582189,
          -1.7550013127730182,
          -1.2319324722260272,
          0.8172066520156003,
          -1.2750655670893944,
          0.8117161656859821,
          0.9520500755988592,
          0.5283914095861051,
          -0.9765111565498195,
          -0.3008035180001048,
          0.6440122485476,
          -0.5759168080524815,
          0.015228617393172404,
          -0.6080954121368862,
          0.33545736506144774,
          1.1152481996359733,
          -0.6742103978892674,
          -1.2913525973725075,
          -0.6680473830784551,
          0.36481637873947564,
          0.48520358298075184,
          0.31059586711719717,
          -0.5452450398374796,
          1.0030879640545634,
          0.30504547330240134,
          1.2600010977845946,
          -0.5884312909081021,
          -0.14119396608867785,
          -1.4540918117789943,
          0.18546948045622147,
          0.8315500457322109,
          -0.9810529140947684,
          0.3540304955166943,
          -1.0515657922441817,
          1.3836255477035795,
          -0.5407672932228786,
          -0.6968912534531319,
          0.5129754952034743,
          -1.186552810951829,
          -0.741607886398297,
          -0.8971113691388526,
          1.3660654301038162,
          0.24230817507143865,
          1.6132664090552817,
          -0.5167159446142225,
          0.6404606554701455,
          -0.21701960445643223,
          -0.547570240110538,
          -0.5170817745261399,
          0.025174297683130942,
          0.08157529621288868,
          -0.4549438497798758,
          -0.07341812556446616,
          -0.36206320321239216,
          -0.34896241668329,
          0.1767807211908091,
          -1.2555142770617909,
          -0.6500505870819934,
          -1.3428642077591626,
          -0.6780968896534493,
          0.7879607985953454,
          -0.6082592365015279,
          -0.8782258697600397,
          1.1747892868546885,
          -0.2631846292200414,
          -0.5593253202913758,
          0.7334029040208775,
          -0.5861833723183494,
          0.2678098399241779,
          -0.3536314420910112,
          0.5804941654754509,
          -0.05434553497597433,
          0.15857665709118088,
          -0.4738728015560325,
          -0.7691295937005382,
          -0.22406272406950886,
          0.7328436826790516,
          -1.1299894201937701,
          -1.5355260147704557,
          -0.14397403152020635,
          -0.2756354904643244,
          -1.3488507621394772,
          -0.9223689019657922,
          0.4364153871839761,
          0.9872440871478431,
          -0.5188061609116056,
          -0.6230109916627514,
          0.16609774626512164,
          -0.5331368587864878,
          0.492984183265557,
          0.4144717302717349,
          1.0853127384504135,
          0.7914325373609019,
          1.1052065428362554,
          -0.2090742621531779,
          1.1118945777674993,
          -0.5821037385251301,
          0.8613415340140153,
          -1.663634274141082,
          1.0491050161540398,
          -0.3650062634201588,
          -0.592964347415674,
          -0.9836884707929165,
          -0.8063869784980064,
          -0.5439041587205178,
          0.1731471368162849,
          1.7411184253039678,
          -0.8783745001762912,
          1.1737237298694678,
          -0.5443775829626802,
          -0.52569603955133,
          -0.2091504210437044,
          2.127808694601241,
          1.043920092123111,
          -0.02263463856024348,
          -0.4749725259935685,
          -0.4124826811974995,
          0.011451845141296399,
          -0.33033453503837956,
          -0.356007225066112,
          0.5112580505479686,
          0.510982041768254,
          -0.6019018233336116,
          0.270034633856821,
          -0.9975147790163528,
          -0.6662154766534335,
          -1.4277829921638594,
          -0.8415708210140302,
          1.0967064791548966,
          1.1432137441785357,
          -0.5508701738421768,
          0.1402753681250538,
          0.09445708825771008,
          -0.8013330040261053,
          -0.6005791070083356,
          -0.21206890803834974,
          -1.06615433592454,
          -1.3275556976013347,
          0.025724032708114755,
          -0.52569603955133,
          -0.49697935937522897,
          1.044567755613902,
          0.313065809076585,
          -0.9879892941050269,
          0.28536800080426766,
          -1.2572903092748053,
          -0.5810325097982494,
          -1.2428716618622393,
          0.02606872010125984,
          0.17743785867800949,
          -1.0854767879050629,
          -0.9214143014708639,
          -0.2656498402088922,
          -0.46305393266734174,
          0.8487631132429256,
          0.8540197832933257,
          0.7778070540608244,
          -0.48206711451557305,
          -0.5999811108306732,
          -0.7017981107426959,
          0.49640046108558356,
          -0.06896334929942276,
          -0.7542456751522508,
          -0.00874469634184787,
          0.5572583047174019,
          -0.8241412967690046,
          -0.6007347429014757,
          -0.3795455861480619,
          -0.5286506125504767,
          0.4366273651844191,
          -0.5793581660617239,
          1.1792639193128387,
          1.0459338703308756,
          -1.253798197328501,
          -0.3071627981770935,
          -0.7751461443357057,
          -0.46273545125136184,
          0.6236605850051375,
          0.0696859329959439,
          0.4600911193937834,
          0.33217993802135454,
          0.872743416716934,
          -0.8362700552270012,
          -0.24968116585109557,
          0.5423681422690926,
          -0.8832651776615957,
          0.2039518404634789,
          -0.7075115897170634,
          -0.7205646818715853,
          0.9870604195761586,
          -0.31371623613843896,
          -0.32541479638697424,
          -0.5554669719322419,
          0.1873684333813999,
          1.4593031233967626,
          -0.5226640716222152,
          0.10742855275516626,
          -0.39545246444564847,
          -1.0897397490991378,
          -0.3477305458807801,
          1.4308837898850764,
          0.14705239943539217,
          0.04263599953183059,
          0.9034166142182802,
          -0.9576659867972561,
          1.0616953699109617,
          1.238896731982912,
          -0.5063313777573146,
          0.18634532370922657,
          -0.7166142408097389,
          -0.4306876911752336,
          0.5804969160917377,
          -0.7694997503074043,
          -0.24730044929875863,
          -1.2251093364614019,
          0.4000322958871704,
          -1.0214893824300115,
          -0.9749109354016794,
          -1.5711633044920803,
          -0.24833784448473317,
          -0.42995124119151,
          -0.947508863097093,
          -1.0354699845156994,
          -0.6937414134927385,
          -0.5966168152074808,
          -0.8244123974328215,
          -0.5392507072117944,
          -0.8605788363082463,
          0.10161511967730186,
          -1.197841419283578,
          -0.09572186098625768,
          -1.227732349385365,
          0.4395161932518942,
          -0.7096511974915133,
          -0.5640456043274981,
          0.15219017862780423,
          -0.9203868028259578,
          -0.5936296340595081,
          -1.387463658325168,
          -0.6551378821292676,
          -0.5238879958258998,
          -0.5120441325506242,
          1.089377536529237,
          -1.1307233227982654,
          0.9379161018127767,
          -1.0456253083731393,
          0.416945609541417,
          -0.49972125828337766,
          -0.5093683473595398,
          -1.353291167304195,
          0.29133057938932155,
          -0.9644798275677882,
          -0.5188792987163614,
          1.0743207298013944,
          0.28596344680980235,
          -0.24827037829635631,
          -1.3395778985834403,
          -0.962949307339635,
          -1.0003138217562293,
          -0.41624456767555845,
          1.2977979888737015,
          -0.0631181239827875,
          -1.4605893057159887,
          -0.730590845522694,
          0.5936380018487383,
          0.39504501739820735,
          -0.9689377390809512,
          0.3062463373535042,
          1.5318879452925414,
          -0.7789122824969074,
          0.864883111282103,
          -0.47682859593658644,
          -0.8214791273617472,
          -1.0996501191967896,
          -0.8890760369493936,
          -0.5781899868321185,
          -0.4667141586542815,
          0.16675318975721096,
          -0.9208908951968223,
          -1.0140745862421965,
          0.47660542532687755,
          -0.6173828474794854,
          -0.08786256658828405,
          -0.9250900542071995,
          0.6441216608742851,
          -0.46679962735688396,
          -0.39803527731538874,
          1.138172737873189,
          -0.5213796229796434,
          -0.8535281184476733,
          0.35644589387802855,
          -0.8039942920782625,
          -0.850636085845937,
          -0.7705538778748838,
          0.825151757441327,
          -1.0441920423758937,
          -0.07981254947413267,
          0.531134922407728,
          0.9833162682318475,
          0.35344207674206835,
          0.9066958181003596,
          -0.7631408292381379,
          0.014697153761832284,
          -0.5399517846926405,
          -0.4843447952912908,
          -1.2605191372360582,
          0.02247700440603512,
          0.24110336518455044,
          0.15971392034274434,
          0.16310234387184727,
          -0.9466022564784962,
          0.9329595237449855,
          -0.7076146287334332,
          -0.40362509642559796,
          -0.4960464068551037,
          0.3761255844555612,
          -0.3437178200390409,
          0.5837248409160531,
          0.5386863247479368,
          0.41991797404048176,
          -0.52569603955133,
          -1.0481801434416937,
          0.6087736259890119,
          0.5897816771340979,
          -0.9298597737793347,
          0.2074579018551663,
          1.4019159454711398,
          -0.8747960960734084,
          -0.3364532372861206,
          -1.133468952710628,
          -1.0429687015828442,
          -0.20543131631943895,
          0.16461156853557615,
          0.2374769858463007,
          0.7524277636154751,
          -0.7505957436410318,
          -0.2975959172791668,
          -1.4059271958901116,
          0.11816513997695575,
          -0.8001862142504088,
          -0.3539051741210332,
          0.4165232097011798,
          -0.21963402960806566,
          0.3576832755515707,
          -0.809930529733594,
          0.32790891282966894,
          -0.4116886216247224,
          -1.133468952710628,
          -0.40411932397846023,
          1.3684843036287764,
          0.3020687856593885,
          -0.0654811784121469,
          0.5476821735753297,
          -0.6006078342084801,
          -1.147801089923205,
          -1.0104089221923136,
          0.33882412457236133,
          -0.8995680628014915,
          -0.5684142107029582,
          -0.9089119028440503,
          0.2267974966763602,
          -0.16809014119963955,
          0.4755888914643756,
          -0.29223372070198705,
          0.207003833794211,
          0.1785396466583225,
          0.625101109101407,
          -0.22220920411377001,
          0.08148128183533102,
          -0.51273611691812,
          -1.0318421913610067,
          -0.6888851919080888,
          -0.8246890620258519,
          -0.9541766765434672,
          -0.5483687039473234,
          0.33723828271382617,
          -0.7613349307819602,
          0.7127332054274041,
          -0.031095483903759494,
          0.050238643573733775,
          -0.7472419178340457,
          -0.4852137276219839,
          -0.7909466405917829,
          0.15932546397070185,
          -0.3380453054092179,
          0.14860281471898004,
          -0.9426197917489751,
          0.3561491461299484,
          0.9784360883591205,
          0.43147125495517696,
          -0.6277069744264446,
          -0.7005709801194366,
          -0.07572864331142122,
          -1.4703547506121084,
          -0.6191226453342844,
          -0.35036133289618654,
          -1.051371909621229,
          0.1966111148520669,
          0.6983852455656033,
          0.07829467030589836,
          -0.35406635999927355,
          -1.216600940504195,
          0.972770932129947,
          1.555324005733384,
          0.8126552958757138,
          0.7287567322976612,
          -0.83968081593179,
          0.7206328045459897,
          -1.0229394129511016,
          0.24553995630631534,
          0.8999369772935237,
          -1.0026108310847532,
          -1.1811088740611582,
          0.44946425451029814,
          0.5815198260704535,
          -1.2145270991426065,
          -1.4062168343957344,
          0.2068629306275196,
          -0.6889627549946756,
          0.5416248877075743,
          0.370908836719572,
          -0.03112919198618043,
          -0.992446171892725,
          -0.6934986634372089,
          0.22233099662488312,
          0.11671127518583997,
          -0.7999426545523779,
          0.1502862349260876,
          0.145058026465703,
          -1.0014514077153547,
          0.40054411763719144,
          0.019514118392154358,
          -0.04331639243347667,
          -0.048043537359525594,
          0.11504366293291378,
          -0.5851021968765038,
          0.9629219439182799,
          0.6284677626178345,
          -0.8128159292909279,
          -0.8493892779722524,
          -0.48720913487360157,
          -0.7559510593528079,
          -0.6131019333241431,
          -1.4461782657053563,
          0.44946425451029814,
          -0.8182617050940563,
          -0.6442829075859021,
          -1.277532475862323,
          -0.84978351373279,
          -1.1714418805826128,
          -0.36445227021688414,
          1.0789034744646944,
          -0.35577938850466373,
          -0.29192649426385453,
          -0.2092892079810818,
          -0.16779032914771966,
          -0.8478240547779083,
          -1.1603638305577628,
          -0.3674257453135264,
          0.17510343674497614,
          0.1477091726379712,
          0.6410289777323607,
          -0.6360679605341025,
          0.1090335747644717,
          0.053994250717955855,
          -0.696650710364739,
          -1.1797272546445625,
          -0.051051797550367,
          -0.3888543896650888,
          -1.0048532812256876,
          -0.7850386545116137,
          0.13044729036805158,
          -0.22423295857407477,
          -1.0790597204913566,
          -0.16050348705093195,
          0.1867195453572099,
          0.8815741416958988,
          0.320787140306541,
          0.163974837687829,
          -0.6798288622593169,
          -1.0564926954668599,
          -0.5715026570562493,
          0.5811926225873445,
          -1.4193055348466848,
          -0.23210547222567576,
          0.25027152509003014,
          0.11881079949487774,
          1.539334294244929,
          0.45333983188482957,
          -0.13907702324737817,
          -0.7304048898358707,
          0.9212515446133783,
          -0.9603973690851701,
          -0.7121997235004064,
          -0.47770885162476806,
          0.5961698585820718,
          -1.1840904685045397,
          -0.5607938200051658,
          0.6166669395858128,
          -0.7850869851638982,
          0.1462355161459389,
          -0.5897199327650435,
          0.11670776139970558,
          0.09157519752507444,
          -0.5564261899874119,
          0.14397892840199128,
          0.14492417550668427,
          -0.8103614013576428,
          -0.8209173356873918,
          -0.6504451698897628,
          0.020008956842578175,
          0.11052774783050524,
          0.32944095646007976,
          0.6366972626044549,
          0.10663579448554783,
          -0.6256293137260499,
          -0.8002510782434482,
          -0.144704906176992,
          0.8463391294634699,
          0.14836262383845022,
          0.40511419364404,
          -0.9084401126100703,
          0.29135111801044367,
          0.0025004564272163654,
          -0.552186613733902,
          0.19546779934306197,
          0.5157597163840683,
          -0.7274003137197932,
          -0.8061137181316114,
          0.7376959078085403,
          0.19196029205823162,
          -0.5456530480875024,
          -0.7940426514253887,
          1.4625643263332497,
          -0.5772262454052953,
          0.7830122801087421,
          0.4854016985016518,
          -0.2906146118132125,
          0.6060261605979823,
          0.6020462863926577,
          0.07375214398311848,
          0.24057749350985455,
          -0.10913901327532614,
          -0.6278196948290802,
          0.13447669189276967,
          -1.0105787305917548,
          -0.8245955181379218,
          -0.19616653851430033,
          -0.5984506618838061,
          -1.0654954100797727,
          0.022328721657874504,
          0.2300546279220422,
          -0.07353116608268782,
          1.1232787727473466,
          0.1572017357713706,
          0.5383319840378953,
          -0.9344407457128477,
          1.2338726107949909,
          0.20437173348054946,
          1.1442311451972578,
          -0.8976321237492604,
          -0.5319845258826519,
          -0.7528577034919,
          -0.8064149132500515,
          -1.247980220379985,
          0.2601163491168596,
          0.24273588284194128,
          -1.2555756598886436,
          0.5274597555861666,
          0.6745095273320572,
          -0.5297024743686268,
          0.15874144786444824,
          -1.0945754303937878,
          0.12911134284002054,
          0.16755697446022877,
          -0.48675146827168764,
          -0.5779600476794706,
          0.47850935145545154,
          0.1863440335949079,
          -1.2718587618410038,
          0.4969270816748022,
          -0.9028986532583275,
          0.12702950448978953,
          0.8338703760896614,
          -1.2523532971754083,
          -1.2014485438121676,
          0.20907439267235414,
          0.3017784034091153,
          0.8260757348098494,
          -0.981796343235456,
          0.6026516579022982,
          0.0342710607087673,
          0.14495714140882185,
          0.8156321238446651,
          -0.6535328479235114,
          -0.13963400599334136,
          -0.7653639252011846,
          0.13237051883312456,
          -0.03363353844185212,
          -0.7955214336404391,
          -0.9538919556972912,
          -0.5044374030255132,
          -0.7358865051276802,
          0.15085468253284703,
          -0.4757034175283964,
          -0.6650287948096298,
          -0.6454745411089717,
          -0.837817922128427,
          0.2323860270759938,
          0.12599663478252168,
          -1.0358200079820976,
          0.3321960816252514,
          1.0630795726526043,
          0.10792032588238208,
          0.1583009247051493,
          -0.5199998414494035,
          0.12139011313038214,
          0.5382077776580961,
          -0.685883274057108,
          -0.798205025146739,
          -0.13974343615581578,
          -0.7923365238506292,
          -0.24598814838244334,
          -0.9607538906664497,
          0.22684838278619818,
          1.5403851208530723,
          -0.7510985409604191,
          0.2238427840299009,
          0.3631010457414482,
          -0.8872905277743374,
          -1.348971847014972,
          0.16580223668382635,
          -0.8359597857998975,
          -0.4029169206842566,
          0.14076211474874167,
          -1.1136122312769137,
          0.7213025157109516,
          0.23610674276611343,
          1.2277850420730714,
          -0.7897865346414458,
          1.8092537289403698,
          -0.6994299532755954,
          -0.43725963554646674,
          0.2224115386655503,
          0.5849122215530981,
          -0.437197686941837,
          -0.5632208829638738,
          0.4123580822357091,
          -0.3420603419528129,
          -0.6350496402395603,
          -0.6449643229422779,
          -1.1221919195939951,
          -0.791234670937769,
          -0.5593872165519054,
          -0.9144630606060555,
          -0.8870165520969158,
          0.29550482444157367,
          0.5857167794105447,
          0.9381303766697696,
          0.40605542924079796,
          0.43811761396148297,
          0.24202125790032283,
          0.480851705751219,
          0.19493277768342693,
          -0.8678523561091445,
          0.7580918425512112,
          -1.2315966564584597,
          -0.9091293036272443,
          -0.797641586898334,
          0.26170364463105417,
          0.3621704179341881,
          -1.17049416785997,
          -0.33890219137636973,
          -0.9388401018421612,
          -0.8940665658702068,
          -0.6394357901371962,
          0.2652698273947164,
          -1.1976213562334672,
          0.4101464345566757,
          -0.8644382348102859,
          0.44106226038820184,
          -1.0707955852107887,
          0.39584621193026265,
          -0.23079991254746093,
          -0.7781313017969252,
          -0.5061456868614445,
          -1.2999897537739944,
          -0.9070524594638157,
          -1.1867167087856083,
          -0.8576921314415124,
          -0.376397572600174,
          1.3268293505486983,
          0.14347194648154135,
          -1.08029664330076,
          -0.5888878848114912,
          -0.00822419144271124,
          -1.1300295553294053,
          0.23990436835103002,
          0.8703921927952483,
          -0.5022902946384411,
          -0.8696711797991655,
          0.18801472698628632,
          1.3951107919493704,
          -0.4738521508348543,
          0.6538169965202596,
          0.32199805882772464,
          -0.2044553451445036,
          0.9173712609505811,
          -0.9352067894467049,
          1.334886938167864,
          0.4041557834132428,
          0.3729815834104515,
          1.8815205168637914,
          0.07719247268682308,
          -0.8084983665452101,
          -0.9820948459716573,
          -0.7658073983763489,
          -0.8368445628538619,
          0.23543763424132733,
          1.2478628566176275,
          -0.9276286962230537,
          -0.06266084242106447,
          0.22376890813396697,
          0.10435702010653305,
          0.15281101701296598,
          0.6951277941907535,
          -1.1374511588107477,
          0.16425870969638567,
          -0.8483310369175372,
          0.7891478929181033,
          0.6520986739917197,
          -0.24556920917148456,
          -0.08861142690566029,
          -1.2955834819358722,
          -0.7303548427466282,
          -0.8378093789673526,
          0.977763274881155,
          -1.1212596992226505,
          0.3937252945991091,
          0.5635454352965276,
          0.23693470583798074,
          -0.9316663116361473,
          -0.10746478726298074,
          -0.4333761655083781,
          -0.21715693495665034,
          -0.16293559762371224,
          -0.4383980161277833,
          -0.6729147050343688,
          -0.6184804160158369,
          0.22843961599441498,
          0.13194256471121052,
          0.5748320889469661,
          -1.2686056349504362,
          1.0473472299188173,
          -1.25988701206408,
          -0.9849165417485748,
          0.2418758759361154,
          0.6509421386650452,
          -0.28503237478195786,
          -0.7370824595373666,
          1.4423413395675018,
          0.1132284368636572,
          0.139282912035161,
          -0.6571444731335093,
          -0.4143736141349507,
          -0.5070068949556472,
          0.5551772524131031,
          -0.17250479581710898,
          -1.2210035660347756,
          -0.5518986028672983,
          0.18679570014772834,
          0.27289802694198645,
          -0.13004895620011855,
          1.455917618425323,
          0.013071732276344578,
          -0.6858875720631268,
          -0.6147919367054547,
          0.1878317396353592,
          0.35084365574342286,
          0.41620231398432184,
          -0.5016311562280574,
          -1.3320241238732857,
          -0.5876338883884676,
          -0.8722380377010831,
          -0.8605788363082463,
          0.3553595505184628,
          -0.6202134229039907,
          0.11410069766836797,
          -0.8779623801554192,
          0.2754634324832367,
          0.41945074944739874,
          0.6591565919746188,
          -0.48535347667337814,
          -0.2497200888107922,
          -1.0710370648488516,
          -0.3131820585715083,
          0.08043527935797568,
          -0.7828144124488938,
          -0.5595677356063914,
          -0.920167605176355,
          -0.20993740709914413,
          0.49973403401020117,
          -0.04526150438929772,
          -1.0335019769418132,
          0.43373655801122535,
          -1.0889195319651175,
          1.260127411585083,
          0.513294162972209,
          -1.300734862812416,
          -0.8658921003204172,
          -0.8618683474139817,
          0.2569159597720073,
          0.37705877818250466,
          -0.4219701788704966,
          -0.4149126166257448,
          -0.7674264488446301,
          -1.1794116354722035,
          -0.5934810047329185,
          0.054192305245776465,
          0.1319102865775098,
          -0.7245838377730962,
          0.19041197091552303,
          0.6454563495206426,
          -1.2233285385062271,
          -0.8599946645517923,
          -1.1432396555119337,
          -1.0196480125992753,
          -1.215663373726088,
          -0.8458337093317112,
          0.3083244186063827,
          -0.3400110913128174,
          -1.0557302790464296,
          -1.072314075434457,
          -0.6264318818685782,
          0.13955094394459203,
          0.0361784571616838,
          -0.6478246304663573,
          0.3435355885818925,
          1.6419121684115692,
          -0.5675362060670459,
          0.05511635425133998,
          -0.8530846777342678,
          -0.9125001825886421,
          0.41620231398432184,
          -0.0036349358313690038,
          -0.18535504032294942,
          0.2537853876685414,
          -0.8509240505085284,
          -0.8981283754798328,
          0.7979799504330226,
          -1.0050358224560765,
          -0.49581410077695315,
          -0.6872470640866427,
          -0.5069521986139242,
          -1.345763741817238,
          -0.5214392077938902,
          -0.9048765420156741,
          -0.5162677251676423,
          -0.48638241413850825,
          -0.8162940769254331,
          1.3384269857202327,
          0.0901367903981576,
          -0.44677551392808074,
          0.54535394331214,
          -0.1380974304867373,
          0.33990778677290295,
          -0.3957671635772697,
          -0.9225067581905669,
          0.3278226938273548,
          -1.1854089182082117,
          -1.188419902858998,
          -0.7196609001275508,
          -0.7723183886150466,
          -1.0432061715093732,
          0.10314586006091783,
          -0.5001323206682275,
          0.24134384685724328,
          -1.0422843429180144,
          -1.3021447555902586,
          1.1126980496314576,
          -1.2063866809163322,
          -0.3858733824513572,
          -0.12466899313100856,
          -0.28922415732072937,
          0.8209901225381914,
          1.0668465076353768,
          -0.7937118799520623,
          -0.2784578445769518,
          -0.525124643014129,
          -0.6539139365404861,
          1.2777741255690962,
          -1.5175402465358832,
          0.39331080792038886,
          0.410339504748086,
          0.739228684165678,
          -0.456780952990487,
          -0.836797386246659,
          -0.01705620247058552,
          -0.7343610515330753,
          -0.19584195821718478,
          0.5050407102769403,
          -0.6545657824201401,
          0.2431138514349021,
          -0.8369908057221124,
          0.17094937557003906,
          0.5796165457907481,
          -0.7182534389454795,
          -0.042742419873661716,
          -0.5872431022928895,
          -1.0468498127554364,
          -0.9147601935481989,
          0.7565433129000827,
          0.2662014221139349,
          -0.08488659552194895,
          -0.7735830073954683,
          -0.45541024763399734,
          0.2044482870095886,
          0.2319895739929826,
          0.262040577706955,
          2.111629541625378,
          -0.25919211942518877,
          1.4676991851851677,
          0.9415554381715341,
          -0.7353124366698452,
          1.1488088744240308,
          0.24136717688252976,
          -0.2542227203448576,
          1.2136450000248606,
          -0.6787070566157861,
          1.0027991517498829,
          -0.8749977840371248,
          -0.8065154648866406,
          -1.0807049785092062,
          1.2575281364983728,
          -0.7219140348340936,
          -0.24057829394321403,
          -0.8531705045549846,
          0.21938514774566525,
          -0.8941443087753181,
          -0.4236237667832223,
          -0.877189589147218,
          -0.029768362162030684,
          -0.9571899951389509,
          -0.7176876762789738,
          0.08594737608174861,
          0.31141201554400344,
          0.6961289972412489,
          0.7325177232892867,
          0.2971681292684016,
          1.0552808362640258,
          0.7578850208160822,
          0.2551658811566098,
          -0.33297016750177943,
          0.6666495270378007,
          0.4324319262044383,
          0.25495710465373045,
          -0.3402399338897188,
          -0.43231582176052497,
          -0.7068262422870181,
          -0.6086046252121317,
          0.924650880901459,
          -0.029199102085530622,
          -1.1647962930594906,
          0.9725739027295953,
          -0.41283399770300355,
          -1.7165022372101284,
          -0.6710944038128999,
          1.422358778905384,
          1.251145897053219,
          -0.38522017756542437,
          -0.9390260030795037,
          -0.7918533914861592,
          1.6401999505106322,
          -0.3261213857370977,
          -0.46311190676823266,
          -0.8172976045788642,
          -0.9521357149978121,
          0.2138794357587821,
          -0.8563632325284531,
          0.22243623149354602,
          -0.4396374411966812,
          -0.8041417542334857,
          1.8936076061316494,
          0.1599364420186518,
          -0.5872314195884814,
          0.8204463399622034,
          -0.8952707586251476,
          1.0397876222494842,
          2.6823697378342737,
          -0.9972324517230609,
          -0.7071869572227916,
          0.48668000516529575,
          -0.07507290716847316,
          -0.5694059962164554,
          0.2550669319903509,
          -0.9728583992746875,
          0.020846780538196934,
          -1.2081277386437868,
          -1.0720467678844454,
          -0.7328361555288294,
          -0.905647298644519,
          1.9311299296184905,
          -0.7555575640067504,
          0.04562828517838973,
          -0.8193879926931831,
          -0.8004041693521587,
          -0.4984900929383799,
          -0.40951523933445316,
          -0.8813952918035491,
          1.5913262326705142,
          -0.2286546320881596,
          -1.288322276892685,
          -0.10362057125819694,
          -1.0219787752476155,
          1.3416522389552268,
          0.6754995770803457,
          -1.0548744804690104,
          -1.137474453814477,
          0.10929842566983482,
          -1.3695143190581238,
          0.3092768762666683,
          1.6623955635225753,
          -1.4061218226853884,
          -0.9095062028009776,
          0.6624723266427701,
          -0.7181832050193465,
          -0.8317648151157987,
          -1.1403661864117467,
          -0.9437250845137122,
          -1.1069609127492044,
          -1.049873855771503,
          -0.7207731140834802,
          -0.016652988710856336,
          0.3374025200589381,
          -0.5345555561923504,
          -0.45127907230069747,
          -0.4801803734964081,
          -1.1255201336641865,
          -0.5852097924829744,
          0.7350119893127125,
          -0.5455255141978035,
          0.8341344989871484,
          -0.3784733085575199,
          -0.8480700414526426,
          0.5091901112703241,
          -0.30076878235228743,
          -1.2902797460729452,
          0.661708055554795,
          -1.1961749819819525,
          0.7763668990922108,
          -0.046391780621011305,
          -0.8143138956502235,
          -0.18250992254583917,
          -0.4960672459176385,
          0.17531010672943864,
          -0.68475587865408,
          -0.7952277277985285,
          -1.1237530866238894,
          -0.9811413795223988,
          0.1653252148427618,
          -0.9248872724416383,
          0.28251512566307907,
          -1.340456145414358,
          -1.0396459125173778,
          0.3047396499310443,
          0.6705427674142896,
          -0.2901895992721879,
          -1.2149358805860466,
          -1.18078790622893,
          1.1961170071731344,
          1.551441933072533,
          -0.789427326634682,
          0.5546246035521953,
          -1.3840631968466517,
          0.29630605452783143,
          -0.28893726951195114,
          -0.9250337252210695,
          -0.3599832612358154,
          -0.4144918684315692,
          -0.6069784832465797,
          -0.7704850543561017,
          -0.6831916626674812,
          0.5516779244900829,
          -0.7530407522115053,
          -0.7675465913151177,
          -1.043874592395706,
          -0.47055321352385215,
          1.4036974223851617,
          -1.1279594846362935,
          -0.8934692427784091,
          -1.0839791136857566,
          -1.0333339830220856,
          0.7041994664574778,
          -1.2208277096730944,
          -0.23607585161963396,
          0.8175295453052505,
          -1.3477001703780498,
          0.5157303214228558,
          0.02790478934395432,
          2.4184071503931803,
          0.4710933373673402,
          -0.5325091611403082,
          1.1116524830207446,
          -0.9709305984680141,
          -0.5375202337566639,
          -1.1747186131818157,
          0.297326033777655,
          -0.9437625004110294,
          -1.4262263386431784,
          -0.4741815659490207,
          -0.9913538323127189,
          -1.0383287966959867,
          -1.0972516557310368,
          -0.56449329111425,
          0.902991817017091,
          -0.5073541315885178,
          -0.1442833193146678,
          1.5350526594528504,
          -1.107291562211381,
          -1.0267925811326633,
          -0.9737365368307032,
          0.20175023632280958,
          -0.3579577037333083,
          0.3920437860037987,
          0.1938655347046949,
          -0.5939634088074016,
          -1.310120471465949,
          -1.4644129470478393,
          -0.7441866338169095,
          -0.5872321129121032,
          -0.8289528438601803,
          -0.5748374501410677,
          -0.6306450443372752,
          -1.7100053120509093,
          -0.7816040104525239,
          -1.2300138756364818,
          1.260353780929028,
          -0.4223699244987641,
          1.2124281857317014,
          0.4641678225731545,
          -0.8447782777097119,
          0.5440678568649093,
          -1.001226793352743,
          0.06321895607952614,
          -1.0069004028301785,
          -1.1481438873483127,
          0.2568196683135598,
          -0.7272764855321333,
          -0.7892320101798879,
          -0.599095941367842,
          -1.0972555566788222,
          -1.2836889616275762,
          0.5469828210034479,
          1.137849576703374,
          -0.9350912455502216,
          -0.9098007478330882,
          -0.8173975102356201,
          0.8332524835777668,
          -0.5874627670975935,
          -0.8161673044070392,
          -0.6353911827697151,
          -0.8730818850620048,
          -0.6907847923685636,
          -0.9581588329269256,
          -1.161648485831854,
          -0.7093947695696673,
          0.6132443102801,
          0.10046372535733204,
          -1.3102961687136851,
          -1.0394449232907161,
          -1.1932421164535718,
          -0.6836973332594906,
          -0.5335321926701245,
          -0.27157773819816555,
          -0.09185385503429262,
          2.091997244951189,
          0.6248638130188534,
          -0.8595963443479082,
          -0.41705062088797606,
          0.3936440665680542,
          1.7534711960909917,
          -1.1037349257004692,
          -1.1934212310144796,
          0.38031456909468625,
          -0.14230552378389905,
          -0.8738394639386429,
          0.18990977386948033,
          -0.7685341794128876,
          -1.135647495074376,
          -1.0454554887411767,
          -1.0746049344560418,
          -0.07427174335692485,
          0.003945507051986341,
          -1.1319500008167473,
          0.346949864740435,
          1.0586178941826359,
          -1.0719338934276217,
          0.1293265102091593,
          -1.0513033965560565,
          -0.767177927177243,
          0.28813500234770056,
          -0.8288238396911157,
          -1.4614438461212038,
          0.7328328594850488,
          -1.1143286675648323,
          -0.21758897391394907,
          0.3144930087632917,
          -0.8752613301895784,
          -0.2864354550147672,
          -0.6684531319645991,
          0.8588925226046953,
          1.11191811882764,
          -1.0602797158706019,
          -0.765287941021081,
          0.4828772026564198,
          1.9443332082944176,
          -0.9909918033691715,
          0.1497008568626819,
          -1.0571507149496306,
          -1.0583439020400416,
          -1.152255126519725,
          -1.26144616890311,
          0.6774602874251536,
          -0.523032595198281,
          0.9292685288173226,
          -0.6608967751841858,
          -0.47684888015131344,
          0.21428103528326065,
          -1.0437701932395633,
          -0.3592058113346615,
          0.9428074879579292,
          -0.03598759652751929,
          -1.4988636486014149,
          0.9889623413639439,
          -0.8163860374757874,
          -0.7335625379181399,
          -1.057965191629941,
          -0.7128671064324886,
          -0.9443582791905067,
          -0.7614600909496977,
          -0.4369311986358625,
          -1.0038332307562934,
          -1.3230444459449053,
          -0.4388063676378162,
          -1.045029220618546,
          0.1274554627021334,
          -1.4498133648785676,
          -0.523449810654489,
          -0.23951605635017956,
          -1.0629313206597242,
          -0.6300371692734945,
          -0.7322203291524207,
          1.057308023633005,
          1.5217986583809677,
          -0.030524187289449643,
          -1.2408995986947953,
          0.6483687443971468,
          0.3484975070964172,
          -0.9606850064893534,
          -0.7552612681426616,
          -1.4988836884637984,
          -0.8485858412942122,
          0.6629769541496149,
          -1.2531466024675806,
          -0.037585110698791904,
          -0.6538656407044133,
          1.0024838502553746,
          0.22000438673303707,
          -1.0744124888469488,
          0.08043527935797568,
          0.5903939858479069,
          0.4568537325012881,
          1.0967064791548966,
          -0.47575682622172766,
          1.0780372480004359,
          -0.6970163860911709,
          -0.40362509642559796,
          0.2374769858463007,
          -0.7211525540525622,
          0.3042943530590359,
          0.17331110351291665,
          -0.4306876911752336,
          -0.3453224208178618,
          -0.12629719425621438,
          1.6048550197679656,
          0.9706359829335887,
          0.763245557397412,
          0.888673850844625
         ],
         "yaxis": "y"
        }
       ],
       "layout": {
        "coloraxis": {
         "colorbar": {
          "title": {
           "text": "cluster"
          }
         },
         "colorscale": [
          [
           0,
           "#0d0887"
          ],
          [
           0.1111111111111111,
           "#46039f"
          ],
          [
           0.2222222222222222,
           "#7201a8"
          ],
          [
           0.3333333333333333,
           "#9c179e"
          ],
          [
           0.4444444444444444,
           "#bd3786"
          ],
          [
           0.5555555555555556,
           "#d8576b"
          ],
          [
           0.6666666666666666,
           "#ed7953"
          ],
          [
           0.7777777777777778,
           "#fb9f3a"
          ],
          [
           0.8888888888888888,
           "#fdca26"
          ],
          [
           1,
           "#f0f921"
          ]
         ]
        },
        "height": 800,
        "legend": {
         "tracegroupgap": 0
        },
        "margin": {
         "t": 60
        },
        "template": {
         "data": {
          "bar": [
           {
            "error_x": {
             "color": "#2a3f5f"
            },
            "error_y": {
             "color": "#2a3f5f"
            },
            "marker": {
             "line": {
              "color": "#E5ECF6",
              "width": 0.5
             },
             "pattern": {
              "fillmode": "overlay",
              "size": 10,
              "solidity": 0.2
             }
            },
            "type": "bar"
           }
          ],
          "barpolar": [
           {
            "marker": {
             "line": {
              "color": "#E5ECF6",
              "width": 0.5
             },
             "pattern": {
              "fillmode": "overlay",
              "size": 10,
              "solidity": 0.2
             }
            },
            "type": "barpolar"
           }
          ],
          "carpet": [
           {
            "aaxis": {
             "endlinecolor": "#2a3f5f",
             "gridcolor": "white",
             "linecolor": "white",
             "minorgridcolor": "white",
             "startlinecolor": "#2a3f5f"
            },
            "baxis": {
             "endlinecolor": "#2a3f5f",
             "gridcolor": "white",
             "linecolor": "white",
             "minorgridcolor": "white",
             "startlinecolor": "#2a3f5f"
            },
            "type": "carpet"
           }
          ],
          "choropleth": [
           {
            "colorbar": {
             "outlinewidth": 0,
             "ticks": ""
            },
            "type": "choropleth"
           }
          ],
          "contour": [
           {
            "colorbar": {
             "outlinewidth": 0,
             "ticks": ""
            },
            "colorscale": [
             [
              0,
              "#0d0887"
             ],
             [
              0.1111111111111111,
              "#46039f"
             ],
             [
              0.2222222222222222,
              "#7201a8"
             ],
             [
              0.3333333333333333,
              "#9c179e"
             ],
             [
              0.4444444444444444,
              "#bd3786"
             ],
             [
              0.5555555555555556,
              "#d8576b"
             ],
             [
              0.6666666666666666,
              "#ed7953"
             ],
             [
              0.7777777777777778,
              "#fb9f3a"
             ],
             [
              0.8888888888888888,
              "#fdca26"
             ],
             [
              1,
              "#f0f921"
             ]
            ],
            "type": "contour"
           }
          ],
          "contourcarpet": [
           {
            "colorbar": {
             "outlinewidth": 0,
             "ticks": ""
            },
            "type": "contourcarpet"
           }
          ],
          "heatmap": [
           {
            "colorbar": {
             "outlinewidth": 0,
             "ticks": ""
            },
            "colorscale": [
             [
              0,
              "#0d0887"
             ],
             [
              0.1111111111111111,
              "#46039f"
             ],
             [
              0.2222222222222222,
              "#7201a8"
             ],
             [
              0.3333333333333333,
              "#9c179e"
             ],
             [
              0.4444444444444444,
              "#bd3786"
             ],
             [
              0.5555555555555556,
              "#d8576b"
             ],
             [
              0.6666666666666666,
              "#ed7953"
             ],
             [
              0.7777777777777778,
              "#fb9f3a"
             ],
             [
              0.8888888888888888,
              "#fdca26"
             ],
             [
              1,
              "#f0f921"
             ]
            ],
            "type": "heatmap"
           }
          ],
          "heatmapgl": [
           {
            "colorbar": {
             "outlinewidth": 0,
             "ticks": ""
            },
            "colorscale": [
             [
              0,
              "#0d0887"
             ],
             [
              0.1111111111111111,
              "#46039f"
             ],
             [
              0.2222222222222222,
              "#7201a8"
             ],
             [
              0.3333333333333333,
              "#9c179e"
             ],
             [
              0.4444444444444444,
              "#bd3786"
             ],
             [
              0.5555555555555556,
              "#d8576b"
             ],
             [
              0.6666666666666666,
              "#ed7953"
             ],
             [
              0.7777777777777778,
              "#fb9f3a"
             ],
             [
              0.8888888888888888,
              "#fdca26"
             ],
             [
              1,
              "#f0f921"
             ]
            ],
            "type": "heatmapgl"
           }
          ],
          "histogram": [
           {
            "marker": {
             "pattern": {
              "fillmode": "overlay",
              "size": 10,
              "solidity": 0.2
             }
            },
            "type": "histogram"
           }
          ],
          "histogram2d": [
           {
            "colorbar": {
             "outlinewidth": 0,
             "ticks": ""
            },
            "colorscale": [
             [
              0,
              "#0d0887"
             ],
             [
              0.1111111111111111,
              "#46039f"
             ],
             [
              0.2222222222222222,
              "#7201a8"
             ],
             [
              0.3333333333333333,
              "#9c179e"
             ],
             [
              0.4444444444444444,
              "#bd3786"
             ],
             [
              0.5555555555555556,
              "#d8576b"
             ],
             [
              0.6666666666666666,
              "#ed7953"
             ],
             [
              0.7777777777777778,
              "#fb9f3a"
             ],
             [
              0.8888888888888888,
              "#fdca26"
             ],
             [
              1,
              "#f0f921"
             ]
            ],
            "type": "histogram2d"
           }
          ],
          "histogram2dcontour": [
           {
            "colorbar": {
             "outlinewidth": 0,
             "ticks": ""
            },
            "colorscale": [
             [
              0,
              "#0d0887"
             ],
             [
              0.1111111111111111,
              "#46039f"
             ],
             [
              0.2222222222222222,
              "#7201a8"
             ],
             [
              0.3333333333333333,
              "#9c179e"
             ],
             [
              0.4444444444444444,
              "#bd3786"
             ],
             [
              0.5555555555555556,
              "#d8576b"
             ],
             [
              0.6666666666666666,
              "#ed7953"
             ],
             [
              0.7777777777777778,
              "#fb9f3a"
             ],
             [
              0.8888888888888888,
              "#fdca26"
             ],
             [
              1,
              "#f0f921"
             ]
            ],
            "type": "histogram2dcontour"
           }
          ],
          "mesh3d": [
           {
            "colorbar": {
             "outlinewidth": 0,
             "ticks": ""
            },
            "type": "mesh3d"
           }
          ],
          "parcoords": [
           {
            "line": {
             "colorbar": {
              "outlinewidth": 0,
              "ticks": ""
             }
            },
            "type": "parcoords"
           }
          ],
          "pie": [
           {
            "automargin": true,
            "type": "pie"
           }
          ],
          "scatter": [
           {
            "fillpattern": {
             "fillmode": "overlay",
             "size": 10,
             "solidity": 0.2
            },
            "type": "scatter"
           }
          ],
          "scatter3d": [
           {
            "line": {
             "colorbar": {
              "outlinewidth": 0,
              "ticks": ""
             }
            },
            "marker": {
             "colorbar": {
              "outlinewidth": 0,
              "ticks": ""
             }
            },
            "type": "scatter3d"
           }
          ],
          "scattercarpet": [
           {
            "marker": {
             "colorbar": {
              "outlinewidth": 0,
              "ticks": ""
             }
            },
            "type": "scattercarpet"
           }
          ],
          "scattergeo": [
           {
            "marker": {
             "colorbar": {
              "outlinewidth": 0,
              "ticks": ""
             }
            },
            "type": "scattergeo"
           }
          ],
          "scattergl": [
           {
            "marker": {
             "colorbar": {
              "outlinewidth": 0,
              "ticks": ""
             }
            },
            "type": "scattergl"
           }
          ],
          "scattermapbox": [
           {
            "marker": {
             "colorbar": {
              "outlinewidth": 0,
              "ticks": ""
             }
            },
            "type": "scattermapbox"
           }
          ],
          "scatterpolar": [
           {
            "marker": {
             "colorbar": {
              "outlinewidth": 0,
              "ticks": ""
             }
            },
            "type": "scatterpolar"
           }
          ],
          "scatterpolargl": [
           {
            "marker": {
             "colorbar": {
              "outlinewidth": 0,
              "ticks": ""
             }
            },
            "type": "scatterpolargl"
           }
          ],
          "scatterternary": [
           {
            "marker": {
             "colorbar": {
              "outlinewidth": 0,
              "ticks": ""
             }
            },
            "type": "scatterternary"
           }
          ],
          "surface": [
           {
            "colorbar": {
             "outlinewidth": 0,
             "ticks": ""
            },
            "colorscale": [
             [
              0,
              "#0d0887"
             ],
             [
              0.1111111111111111,
              "#46039f"
             ],
             [
              0.2222222222222222,
              "#7201a8"
             ],
             [
              0.3333333333333333,
              "#9c179e"
             ],
             [
              0.4444444444444444,
              "#bd3786"
             ],
             [
              0.5555555555555556,
              "#d8576b"
             ],
             [
              0.6666666666666666,
              "#ed7953"
             ],
             [
              0.7777777777777778,
              "#fb9f3a"
             ],
             [
              0.8888888888888888,
              "#fdca26"
             ],
             [
              1,
              "#f0f921"
             ]
            ],
            "type": "surface"
           }
          ],
          "table": [
           {
            "cells": {
             "fill": {
              "color": "#EBF0F8"
             },
             "line": {
              "color": "white"
             }
            },
            "header": {
             "fill": {
              "color": "#C8D4E3"
             },
             "line": {
              "color": "white"
             }
            },
            "type": "table"
           }
          ]
         },
         "layout": {
          "annotationdefaults": {
           "arrowcolor": "#2a3f5f",
           "arrowhead": 0,
           "arrowwidth": 1
          },
          "autotypenumbers": "strict",
          "coloraxis": {
           "colorbar": {
            "outlinewidth": 0,
            "ticks": ""
           }
          },
          "colorscale": {
           "diverging": [
            [
             0,
             "#8e0152"
            ],
            [
             0.1,
             "#c51b7d"
            ],
            [
             0.2,
             "#de77ae"
            ],
            [
             0.3,
             "#f1b6da"
            ],
            [
             0.4,
             "#fde0ef"
            ],
            [
             0.5,
             "#f7f7f7"
            ],
            [
             0.6,
             "#e6f5d0"
            ],
            [
             0.7,
             "#b8e186"
            ],
            [
             0.8,
             "#7fbc41"
            ],
            [
             0.9,
             "#4d9221"
            ],
            [
             1,
             "#276419"
            ]
           ],
           "sequential": [
            [
             0,
             "#0d0887"
            ],
            [
             0.1111111111111111,
             "#46039f"
            ],
            [
             0.2222222222222222,
             "#7201a8"
            ],
            [
             0.3333333333333333,
             "#9c179e"
            ],
            [
             0.4444444444444444,
             "#bd3786"
            ],
            [
             0.5555555555555556,
             "#d8576b"
            ],
            [
             0.6666666666666666,
             "#ed7953"
            ],
            [
             0.7777777777777778,
             "#fb9f3a"
            ],
            [
             0.8888888888888888,
             "#fdca26"
            ],
            [
             1,
             "#f0f921"
            ]
           ],
           "sequentialminus": [
            [
             0,
             "#0d0887"
            ],
            [
             0.1111111111111111,
             "#46039f"
            ],
            [
             0.2222222222222222,
             "#7201a8"
            ],
            [
             0.3333333333333333,
             "#9c179e"
            ],
            [
             0.4444444444444444,
             "#bd3786"
            ],
            [
             0.5555555555555556,
             "#d8576b"
            ],
            [
             0.6666666666666666,
             "#ed7953"
            ],
            [
             0.7777777777777778,
             "#fb9f3a"
            ],
            [
             0.8888888888888888,
             "#fdca26"
            ],
            [
             1,
             "#f0f921"
            ]
           ]
          },
          "colorway": [
           "#636efa",
           "#EF553B",
           "#00cc96",
           "#ab63fa",
           "#FFA15A",
           "#19d3f3",
           "#FF6692",
           "#B6E880",
           "#FF97FF",
           "#FECB52"
          ],
          "font": {
           "color": "#2a3f5f"
          },
          "geo": {
           "bgcolor": "white",
           "lakecolor": "white",
           "landcolor": "#E5ECF6",
           "showlakes": true,
           "showland": true,
           "subunitcolor": "white"
          },
          "hoverlabel": {
           "align": "left"
          },
          "hovermode": "closest",
          "mapbox": {
           "style": "light"
          },
          "paper_bgcolor": "white",
          "plot_bgcolor": "#E5ECF6",
          "polar": {
           "angularaxis": {
            "gridcolor": "white",
            "linecolor": "white",
            "ticks": ""
           },
           "bgcolor": "#E5ECF6",
           "radialaxis": {
            "gridcolor": "white",
            "linecolor": "white",
            "ticks": ""
           }
          },
          "scene": {
           "xaxis": {
            "backgroundcolor": "#E5ECF6",
            "gridcolor": "white",
            "gridwidth": 2,
            "linecolor": "white",
            "showbackground": true,
            "ticks": "",
            "zerolinecolor": "white"
           },
           "yaxis": {
            "backgroundcolor": "#E5ECF6",
            "gridcolor": "white",
            "gridwidth": 2,
            "linecolor": "white",
            "showbackground": true,
            "ticks": "",
            "zerolinecolor": "white"
           },
           "zaxis": {
            "backgroundcolor": "#E5ECF6",
            "gridcolor": "white",
            "gridwidth": 2,
            "linecolor": "white",
            "showbackground": true,
            "ticks": "",
            "zerolinecolor": "white"
           }
          },
          "shapedefaults": {
           "line": {
            "color": "#2a3f5f"
           }
          },
          "ternary": {
           "aaxis": {
            "gridcolor": "white",
            "linecolor": "white",
            "ticks": ""
           },
           "baxis": {
            "gridcolor": "white",
            "linecolor": "white",
            "ticks": ""
           },
           "bgcolor": "#E5ECF6",
           "caxis": {
            "gridcolor": "white",
            "linecolor": "white",
            "ticks": ""
           }
          },
          "title": {
           "x": 0.05
          },
          "xaxis": {
           "automargin": true,
           "gridcolor": "white",
           "linecolor": "white",
           "ticks": "",
           "title": {
            "standoff": 15
           },
           "zerolinecolor": "white",
           "zerolinewidth": 2
          },
          "yaxis": {
           "automargin": true,
           "gridcolor": "white",
           "linecolor": "white",
           "ticks": "",
           "title": {
            "standoff": 15
           },
           "zerolinecolor": "white",
           "zerolinewidth": 2
          }
         }
        },
        "title": {
         "text": "Ingredient-Based Clustering of Filipino Dishes"
        },
        "width": 800,
        "xaxis": {
         "anchor": "y",
         "domain": [
          0,
          1
         ],
         "title": {
          "text": "x"
         }
        },
        "yaxis": {
         "anchor": "x",
         "domain": [
          0,
          1
         ],
         "title": {
          "text": "y"
         }
        }
       }
      }
     },
     "metadata": {},
     "output_type": "display_data"
    }
   ],
   "source": [
    "import plotly.express as px\n",
    "import pandas as pd\n",
    "\n",
    "# Dimensionality reduction for visualization\n",
    "dimensions_to_keep = 2  # Adjust this to 2 or 3\n",
    "svd = TruncatedSVD(n_components=dimensions_to_keep)\n",
    "reduced_embeddings = svd.fit_transform(reduced_embeddings)\n",
    "\n",
    "ingredients_format = [\n",
    "    \"<br>\".join(recipe[\"ingredients\"]) for recipe in cleaned_recipes\n",
    "]\n",
    "\n",
    "df = pd.DataFrame(\n",
    "    {\n",
    "        \"x\": reduced_embeddings[:, 0],\n",
    "        \"y\": reduced_embeddings[:, 1],\n",
    "        # \"z\": reduced_embeddings[:, 2],\n",
    "        \"cluster\": cluster_labels,\n",
    "        \"recipe_name\": [recipe[\"name\"] for recipe in cleaned_recipes],\n",
    "        \"ingredients\": ingredients_format,\n",
    "    }\n",
    ")\n",
    "\n",
    "fig = px.scatter(\n",
    "    df,\n",
    "    x=\"x\",\n",
    "    y=\"y\",\n",
    "    # z=\"z\",\n",
    "    color=\"cluster\",\n",
    "    hover_name=\"recipe_name\",\n",
    "    hover_data=[\"ingredients\"],\n",
    "    width=800,\n",
    "    height=800,\n",
    ")\n",
    "\n",
    "fig.update_traces(marker=dict(size=5))\n",
    "fig.update_layout(title=\"Ingredient-Based Clustering of Filipino Dishes\")\n",
    "\n",
    "fig.show()"
   ]
  }
 ],
 "metadata": {
  "kernelspec": {
   "display_name": "venv",
   "language": "python",
   "name": "python3"
  },
  "language_info": {
   "codemirror_mode": {
    "name": "ipython",
    "version": 3
   },
   "file_extension": ".py",
   "mimetype": "text/x-python",
   "name": "python",
   "nbconvert_exporter": "python",
   "pygments_lexer": "ipython3",
   "version": "3.12.2"
  }
 },
 "nbformat": 4,
 "nbformat_minor": 2
}
