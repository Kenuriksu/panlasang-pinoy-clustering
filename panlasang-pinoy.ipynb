{
 "cells": [
  {
   "cell_type": "markdown",
   "metadata": {},
   "source": [
    "# Ingredient-Based Clustering of Pinoy Dishes\n",
    "\n",
    "The ambition is to identify clusters of Filipino dishes based on their ingredients. The results can be used to define the most common ingredients of a Filipino pantry. This project leverages techniques from data mining, natural language processing, and unsupervised learning. The dataset is a collection of Filipino recipes from various online recipe websites. The dataset contains the name, ingredients, and instructions of the recipes. "
   ]
  },
  {
   "cell_type": "markdown",
   "metadata": {},
   "source": [
    "## Data loading and preview"
   ]
  },
  {
   "cell_type": "code",
   "execution_count": 1,
   "metadata": {},
   "outputs": [
    {
     "data": {
      "text/html": [
       "<div>\n",
       "<style scoped>\n",
       "    .dataframe tbody tr th:only-of-type {\n",
       "        vertical-align: middle;\n",
       "    }\n",
       "\n",
       "    .dataframe tbody tr th {\n",
       "        vertical-align: top;\n",
       "    }\n",
       "\n",
       "    .dataframe thead th {\n",
       "        text-align: right;\n",
       "    }\n",
       "</style>\n",
       "<table border=\"1\" class=\"dataframe\">\n",
       "  <thead>\n",
       "    <tr style=\"text-align: right;\">\n",
       "      <th></th>\n",
       "      <th>link</th>\n",
       "      <th>name</th>\n",
       "      <th>ingredients</th>\n",
       "      <th>instructions</th>\n",
       "    </tr>\n",
       "  </thead>\n",
       "  <tbody>\n",
       "    <tr>\n",
       "      <th>0</th>\n",
       "      <td>https://www.kawalingpinoy.com/cheese-cupcakes/</td>\n",
       "      <td>Cheese Cupcakes</td>\n",
       "      <td>[flour, sifted, baking powder, salt, butter, s...</td>\n",
       "      <td>[Line muffin pan with cupcake liners., In a la...</td>\n",
       "    </tr>\n",
       "    <tr>\n",
       "      <th>1</th>\n",
       "      <td>https://www.kawalingpinoy.com/adobong-sitaw-wi...</td>\n",
       "      <td>Adobong Sitaw with Pork</td>\n",
       "      <td>[canola oil, pork belly, cut into thin strips,...</td>\n",
       "      <td>[In a skillet over medium heat, heat oil. Add ...</td>\n",
       "    </tr>\n",
       "    <tr>\n",
       "      <th>2</th>\n",
       "      <td>https://www.kawalingpinoy.com/burger-steak/</td>\n",
       "      <td>Burger Steak</td>\n",
       "      <td>[white bread, torn into small pieces, beef bro...</td>\n",
       "      <td>[In a small bowl, soak bread in broth. Tear wi...</td>\n",
       "    </tr>\n",
       "    <tr>\n",
       "      <th>3</th>\n",
       "      <td>https://www.kawalingpinoy.com/chicken-menudo/</td>\n",
       "      <td>Chicken Menudo</td>\n",
       "      <td>[canola oil, red bell pepper, cored, seeded an...</td>\n",
       "      <td>[In a wide pan over medium heat, heat 1 tables...</td>\n",
       "    </tr>\n",
       "    <tr>\n",
       "      <th>4</th>\n",
       "      <td>https://www.kawalingpinoy.com/beef-salpicao/</td>\n",
       "      <td>Beef Salpicao</td>\n",
       "      <td>[ribeye steak, cut into 1-inch cubes, salt and...</td>\n",
       "      <td>[In a bowl, season beef with salt and pepper t...</td>\n",
       "    </tr>\n",
       "  </tbody>\n",
       "</table>\n",
       "</div>"
      ],
      "text/plain": [
       "                                                link                     name  \\\n",
       "0     https://www.kawalingpinoy.com/cheese-cupcakes/          Cheese Cupcakes   \n",
       "1  https://www.kawalingpinoy.com/adobong-sitaw-wi...  Adobong Sitaw with Pork   \n",
       "2        https://www.kawalingpinoy.com/burger-steak/             Burger Steak   \n",
       "3      https://www.kawalingpinoy.com/chicken-menudo/           Chicken Menudo   \n",
       "4       https://www.kawalingpinoy.com/beef-salpicao/            Beef Salpicao   \n",
       "\n",
       "                                         ingredients  \\\n",
       "0  [flour, sifted, baking powder, salt, butter, s...   \n",
       "1  [canola oil, pork belly, cut into thin strips,...   \n",
       "2  [white bread, torn into small pieces, beef bro...   \n",
       "3  [canola oil, red bell pepper, cored, seeded an...   \n",
       "4  [ribeye steak, cut into 1-inch cubes, salt and...   \n",
       "\n",
       "                                        instructions  \n",
       "0  [Line muffin pan with cupcake liners., In a la...  \n",
       "1  [In a skillet over medium heat, heat oil. Add ...  \n",
       "2  [In a small bowl, soak bread in broth. Tear wi...  \n",
       "3  [In a wide pan over medium heat, heat 1 tables...  \n",
       "4  [In a bowl, season beef with salt and pepper t...  "
      ]
     },
     "execution_count": 1,
     "metadata": {},
     "output_type": "execute_result"
    }
   ],
   "source": [
    "import json\n",
    "import os\n",
    "\n",
    "import pandas as pd\n",
    "\n",
    "\n",
    "def merge_recipe_data(path=\"data\"):\n",
    "    \"\"\"Combines all recipe data into a single list.\"\"\"\n",
    "    recipe_files = [\n",
    "        file for file in os.listdir(path) if file.endswith(\"recipes.json\")\n",
    "    ]\n",
    "\n",
    "    recipes = []\n",
    "    for file in recipe_files:\n",
    "        file_path = os.path.join(path, file)\n",
    "        with open(file_path, encoding=\"utf-8\") as f:\n",
    "            recipe_data = json.load(f)\n",
    "            recipes.extend(recipe_data)\n",
    "\n",
    "    return recipes\n",
    "\n",
    "\n",
    "recipes = merge_recipe_data()\n",
    "recipe_df = pd.DataFrame(recipes)\n",
    "recipe_df.head()"
   ]
  },
  {
   "cell_type": "code",
   "execution_count": 2,
   "metadata": {},
   "outputs": [
    {
     "name": "stdout",
     "output_type": "stream",
     "text": [
      "<class 'pandas.core.frame.DataFrame'>\n",
      "RangeIndex: 2815 entries, 0 to 2814\n",
      "Data columns (total 4 columns):\n",
      " #   Column        Non-Null Count  Dtype \n",
      "---  ------        --------------  ----- \n",
      " 0   link          2815 non-null   object\n",
      " 1   name          2469 non-null   object\n",
      " 2   ingredients   2469 non-null   object\n",
      " 3   instructions  2469 non-null   object\n",
      "dtypes: object(4)\n",
      "memory usage: 88.1+ KB\n"
     ]
    }
   ],
   "source": [
    "recipe_df.info()"
   ]
  },
  {
   "cell_type": "markdown",
   "metadata": {},
   "source": [
    "### Discover patterns through visualization"
   ]
  },
  {
   "cell_type": "code",
   "execution_count": 3,
   "metadata": {},
   "outputs": [
    {
     "data": {
      "image/png": "[encoded data removed]",
      "text/plain": [
       "<Figure size 1000x500 with 1 Axes>"
      ]
     },
     "metadata": {},
     "output_type": "display_data"
    }
   ],
   "source": [
    "%matplotlib inline\n",
    "\n",
    "import matplotlib.pyplot as plt\n",
    "import seaborn as sns\n",
    "\n",
    "def plot_ingredient_counts(df, colname=\"ingredients\"):\n",
    "    \"\"\"Plots the distribution of ingredient counts in a Pandas DataFrame.\"\"\"\n",
    "\n",
    "    ingredient_counts = df[colname].dropna().apply(len)\n",
    "\n",
    "    plt.figure(figsize=(10, 5))\n",
    "    sns.histplot(ingredient_counts, kde=True, binwidth=1)\n",
    "    plt.title(f\"Number of ingredients in {len(ingredient_counts)} recipes\")\n",
    "    plt.xlabel(\"Number of ingredients\")\n",
    "    plt.ylabel(\"Number of recipes\")\n",
    "    plt.show()\n",
    "\n",
    "plot_ingredient_counts(recipe_df)"
   ]
  },
  {
   "cell_type": "code",
   "execution_count": 4,
   "metadata": {},
   "outputs": [
    {
     "data": {
      "image/png": "[encoded data removed]",
      "text/plain": [
       "<Figure size 700x500 with 1 Axes>"
      ]
     },
     "metadata": {},
     "output_type": "display_data"
    }
   ],
   "source": [
    "import matplotlib.pyplot as plt\n",
    "import seaborn as sns\n",
    "\n",
    "\n",
    "def plot_ingredient_frequencies(df, n=20, most_common=True, figsize=(7, 5), colname=\"ingredients\"):\n",
    "    \"\"\"Displays a bar plot of the most or least frequent ingredients.\"\"\"\n",
    "\n",
    "    all_ingredients = df[colname].dropna().explode()\n",
    "    ingredient_counts = all_ingredients.value_counts()\n",
    "\n",
    "    if most_common:\n",
    "        top_n_ingredients = ingredient_counts.head(n)\n",
    "    else:\n",
    "        top_n_ingredients = ingredient_counts.tail(n)\n",
    "\n",
    "    plt.figure(figsize=figsize)\n",
    "    sns.barplot(\n",
    "        x=top_n_ingredients.values,\n",
    "        y=top_n_ingredients.index,\n",
    "    )\n",
    "\n",
    "    title = f\"Top {n} {'Most' if most_common else 'Least'} Common Ingredients\"\n",
    "    plt.title(title)\n",
    "    plt.xlabel(\"Number of Recipes\")\n",
    "    plt.ylabel(\"Ingredient\")\n",
    "    plt.show()\n",
    "\n",
    "\n",
    "plot_ingredient_frequencies(recipe_df)"
   ]
  },
  {
   "cell_type": "markdown",
   "metadata": {},
   "source": [
    "### Save the all unique ingredients in a file"
   ]
  },
  {
   "cell_type": "code",
   "execution_count": 5,
   "metadata": {},
   "outputs": [],
   "source": [
    "def save_ingredients(df, path, colname=\"ingredients\"):\n",
    "    unique_ingredients = (\n",
    "        df[colname].dropna().explode().unique().astype(str)\n",
    "    )\n",
    "    unique_ingredients.sort()\n",
    "\n",
    "    with open(path, \"w\", encoding=\"utf-8\") as file:\n",
    "        file.writelines(\"\\n\".join(unique_ingredients))\n",
    "\n",
    "\n",
    "save_ingredients(recipe_df, \"data/unique_raw_ingredients.txt\")"
   ]
  },
  {
   "cell_type": "markdown",
   "metadata": {},
   "source": [
    "## Preprocessing\n"
   ]
  },
  {
   "cell_type": "markdown",
   "metadata": {},
   "source": [
    "### Remove recipes without ingredients"
   ]
  },
  {
   "cell_type": "code",
   "execution_count": 6,
   "metadata": {},
   "outputs": [
    {
     "name": "stdout",
     "output_type": "stream",
     "text": [
      "<class 'pandas.core.frame.DataFrame'>\n",
      "Index: 2469 entries, 0 to 2814\n",
      "Data columns (total 4 columns):\n",
      " #   Column        Non-Null Count  Dtype \n",
      "---  ------        --------------  ----- \n",
      " 0   link          2469 non-null   object\n",
      " 1   name          2469 non-null   object\n",
      " 2   ingredients   2469 non-null   object\n",
      " 3   instructions  2469 non-null   object\n",
      "dtypes: object(4)\n",
      "memory usage: 96.4+ KB\n"
     ]
    }
   ],
   "source": [
    "recipe_df = recipe_df.dropna(subset=[\"ingredients\", \"name\"])\n",
    "recipe_df.info()"
   ]
  },
  {
   "cell_type": "markdown",
   "metadata": {},
   "source": [
    "### Tokenize"
   ]
  },
  {
   "cell_type": "code",
   "execution_count": 7,
   "metadata": {},
   "outputs": [
    {
     "name": "stdout",
     "output_type": "stream",
     "text": [
      "text       lemma      pos    tag    dep       is_alpha\n",
      "---------  ---------  -----  -----  --------  ----------\n",
      "small      small      ADJ    JJ     amod      True\n",
      "lemons     lemon      NOUN   NNS    ROOT      True\n",
      "or         or         CCONJ  CC     cc        True\n",
      "6          6          NUM    CD     quantmod  False\n",
      "to         to         PART   TO     quantmod  True\n",
      "7          7          NUM    CD     nummod    False\n",
      "pieces     piece      NOUN   NNS    conj      True\n",
      "calamansi  calamansi  PROPN  NNP    appos     True\n"
     ]
    }
   ],
   "source": [
    "import spacy\n",
    "from tabulate import tabulate\n",
    "\n",
    "nlp = spacy.load(\"en_core_web_lg\")\n",
    "\n",
    "\n",
    "def display_tokens(text):\n",
    "    \"\"\"Display token attributes for a given string.\"\"\",\n",
    "    rows = []\n",
    "    for token in nlp(text):\n",
    "        row = [\n",
    "            token.text,\n",
    "            token.lemma_,\n",
    "            token.pos_,\n",
    "            token.tag_,\n",
    "            token.dep_,\n",
    "            token.is_alpha,\n",
    "        ]\n",
    "        rows.append(row)\n",
    "    headers = [\"text\", \"lemma\", \"pos\", \"tag\", \"dep\", \"is_alpha\"]\n",
    "    print(tabulate(rows, headers=headers))\n",
    "\n",
    "\n",
    "SAMPLE_INGREDIENT = \"small lemons or 6 to 7 pieces calamansi\"\n",
    "display_tokens(SAMPLE_INGREDIENT)"
   ]
  },
  {
   "cell_type": "markdown",
   "metadata": {},
   "source": [
    "### Lemmatize and remove non-ingredient words"
   ]
  },
  {
   "cell_type": "code",
   "execution_count": 8,
   "metadata": {},
   "outputs": [
    {
     "name": "stdout",
     "output_type": "stream",
     "text": [
      "text       lemma      pos    tag    dep       is_alpha\n",
      "---------  ---------  -----  -----  --------  ----------\n",
      "lemon      lemon      NOUN   NN     compound  True\n",
      "piece      piece      NOUN   NN     compound  True\n",
      "calamansi  calamansi  NOUN   NN     ROOT      True\n"
     ]
    }
   ],
   "source": [
    "def lemmatize_valid_nouns(ingredient):\n",
    "    \"\"\"Lemmatize valid nouns in a string.\"\"\",\n",
    "    doc = nlp(ingredient)\n",
    "    valid_lemmas = []\n",
    "    for token in doc:\n",
    "        if (\n",
    "            token.is_alpha\n",
    "            and not token.is_stop\n",
    "            and token.pos_ in [\"NOUN\", \"PROPN\"]\n",
    "        ):\n",
    "            valid_lemmas.append(token.lemma_)\n",
    "    return \" \".join(valid_lemmas)\n",
    "\n",
    "\n",
    "lemmatized = lemmatize_valid_nouns(SAMPLE_INGREDIENT)\n",
    "display_tokens(lemmatized)"
   ]
  },
  {
   "cell_type": "markdown",
   "metadata": {},
   "source": [
    "### Remove culinary stop words"
   ]
  },
  {
   "cell_type": "code",
   "execution_count": 9,
   "metadata": {},
   "outputs": [
    {
     "name": "stdout",
     "output_type": "stream",
     "text": [
      "text       lemma      pos    tag    dep       is_alpha\n",
      "---------  ---------  -----  -----  --------  ----------\n",
      "lemon      lemon      NOUN   NN     compound  True\n",
      "calamansi  calamansi  PROPN  NNP    ROOT      True\n"
     ]
    }
   ],
   "source": [
    "with open(f\"data/culinary_stopwords.txt\") as file:\n",
    "    stopwords = [line.strip() for line in file]\n",
    "\n",
    "\n",
    "def filter_stopwords(text):\n",
    "    \"\"\"Filter out stopwords from a string.\"\"\"\n",
    "    meaningful_terms = []\n",
    "    for term in text.split():\n",
    "        if term not in stopwords:\n",
    "            meaningful_terms.append(term)\n",
    "    return \" \".join(meaningful_terms)\n",
    "\n",
    "\n",
    "filtered = filter_stopwords(lemmatized)\n",
    "display_tokens(filtered)"
   ]
  },
  {
   "cell_type": "markdown",
   "metadata": {},
   "source": [
    "### Remove duplicate terms"
   ]
  },
  {
   "cell_type": "code",
   "execution_count": 10,
   "metadata": {},
   "outputs": [
    {
     "name": "stdout",
     "output_type": "stream",
     "text": [
      "text       lemma      pos    tag    dep       is_alpha\n",
      "---------  ---------  -----  -----  --------  ----------\n",
      "lemon      lemon      NOUN   NN     compound  True\n",
      "calamansi  calamansi  PROPN  NNP    ROOT      True\n"
     ]
    }
   ],
   "source": [
    "def remove_duplicates(text):\n",
    "    \"\"\"Remove duplicate terms while preserving order.\"\"\"\n",
    "    seen = set()\n",
    "    unique = []\n",
    "    for ingredient in text.split():\n",
    "        if ingredient not in seen:\n",
    "            unique.append(ingredient)\n",
    "            seen.add(ingredient)\n",
    "    return \" \".join(unique)\n",
    "\n",
    "unique = remove_duplicates(filtered)\n",
    "display_tokens(unique)"
   ]
  },
  {
   "cell_type": "markdown",
   "metadata": {},
   "source": [
    "### Handle synonyms to standardize ingredients"
   ]
  },
  {
   "cell_type": "code",
   "execution_count": 11,
   "metadata": {},
   "outputs": [
    {
     "name": "stdout",
     "output_type": "stream",
     "text": [
      "text       lemma      pos    tag    dep       is_alpha\n",
      "---------  ---------  -----  -----  --------  ----------\n",
      "lemon      lemon      NOUN   NN     compound  True\n",
      "calamansi  calamansi  PROPN  NNP    ROOT      True\n"
     ]
    }
   ],
   "source": [
    "with open(\"data/phrase_synonyms.json\") as file:\n",
    "    phrase_synonyms = json.load(file)\n",
    "\n",
    "\n",
    "def handle_phrase_synonyms(ingredient):\n",
    "    \"\"\"Replace ingredient synonyms with a common name.\"\"\"\n",
    "    return phrase_synonyms.get(ingredient, ingredient)\n",
    "\n",
    "common_name = handle_phrase_synonyms(unique)\n",
    "display_tokens(common_name)"
   ]
  },
  {
   "cell_type": "code",
   "execution_count": null,
   "metadata": {},
   "outputs": [],
   "source": [
    "with open(\"data/word_synonyms.json\") as file:\n",
    "    word_synonyms = json.load(file)\n",
    "\n",
    "\n",
    "def handle_word_synonyms(ingredient):\n",
    "    \"\"\"Replace ingredient synonyms with a common name.\"\"\"\n",
    "    common_words = []\n",
    "    for word in ingredient.split():\n",
    "        common_words.append(word_synonyms.get(word, word))\n",
    "    return \" \".join(common_words)"
   ]
  },
  {
   "cell_type": "markdown",
   "metadata": {},
   "source": [
    "### Define the entire preprocessing pipeline"
   ]
  },
  {
   "cell_type": "code",
   "execution_count": 12,
   "metadata": {},
   "outputs": [
    {
     "data": {
      "text/plain": [
       "'lemon'"
      ]
     },
     "execution_count": 12,
     "metadata": {},
     "output_type": "execute_result"
    }
   ],
   "source": [
    "import re\n",
    "\n",
    "\n",
    "def preprocess_ingredient(ingredient):\n",
    "    \"\"\"Preprocess an ingredient string to extract key terms.\"\"\",\n",
    "    no_parenthesis = re.sub(r\"\\([^)]*\\)\", \"\", ingredient)\n",
    "    first_option = no_parenthesis.split(\" or \")[0]\n",
    "    formatted = first_option.lower().strip()\n",
    "\n",
    "    lemmatized = lemmatize_valid_nouns(formatted)\n",
    "    filtered = filter_stopwords(lemmatized)\n",
    "    word_synonym = handle_word_synonyms(filtered)\n",
    "    unique = remove_duplicates(word_synonym)\n",
    "    phrase_synonym = handle_phrase_synonyms(unique)\n",
    "\n",
    "    return phrase_synonym\n",
    "\n",
    "\n",
    "clean_ingredient = preprocess_ingredient(SAMPLE_INGREDIENT)\n",
    "clean_ingredient"
   ]
  },
  {
   "cell_type": "markdown",
   "metadata": {},
   "source": [
    "### Apply the preprocessing pipeline"
   ]
  },
  {
   "cell_type": "code",
   "execution_count": 13,
   "metadata": {},
   "outputs": [
    {
     "data": {
      "application/vnd.jupyter.widget-view+json": {
       "model_id": "138b5ba7a17240208142a21dc71e3b95",
       "version_major": 2,
       "version_minor": 0
      },
      "text/plain": [
       "  0%|          | 0/2469 [00:00<?, ?it/s]"
      ]
     },
     "metadata": {},
     "output_type": "display_data"
    }
   ],
   "source": [
    "from tqdm.auto import tqdm\n",
    "\n",
    "\n",
    "def clean_ingredients(ingredients):\n",
    "    \"\"\"Applies preprocessing to a list of ingredients.\"\"\"\n",
    "    cleaned_ingredients = [\n",
    "        preprocess_ingredient(ingredient) for ingredient in ingredients\n",
    "    ]\n",
    "    return list(sorted(set(filter(None, cleaned_ingredients))))\n",
    "\n",
    "\n",
    "tqdm.pandas()\n",
    "\n",
    "recipe_df[\"cleaned_ingredients\"] = (\n",
    "    recipe_df[\"ingredients\"].progress_apply(clean_ingredients)\n",
    ")"
   ]
  },
  {
   "cell_type": "code",
   "execution_count": 14,
   "metadata": {},
   "outputs": [],
   "source": [
    "save_ingredients(\n",
    "    recipe_df,\n",
    "    \"data/unique_cleaned_ingredients.txt\",\n",
    "    colname=\"cleaned_ingredients\",\n",
    ")"
   ]
  },
  {
   "cell_type": "code",
   "execution_count": 15,
   "metadata": {},
   "outputs": [],
   "source": [
    "unique_cleaned_ingredients = (\n",
    "    recipe_df[\"cleaned_ingredients\"].explode().unique().astype(str)\n",
    ")\n",
    "\n",
    "with open(\"data/ingredient_synonyms.json\") as file:\n",
    "    phrase_synonyms = json.load(file)\n",
    "\n",
    "# Remove entries in synonyms that are not in the cleaned ingredients\n",
    "phrase_synonyms = {\n",
    "    key: value\n",
    "    for key, value in phrase_synonyms.items()\n",
    "    if key in unique_cleaned_ingredients\n",
    "}\n",
    "\n",
    "with open(\"data/ingredient_synonyms.json\", \"w\") as file:\n",
    "    json.dump(phrase_synonyms, file, indent=2)"
   ]
  },
  {
   "cell_type": "code",
   "execution_count": 16,
   "metadata": {},
   "outputs": [],
   "source": [
    "recipe_df[[\"ingredients\", \"cleaned_ingredients\"]].to_json(\n",
    "    \"data/recipes_with_cleaned_ingredients.json\",\n",
    "    orient=\"records\",\n",
    ")"
   ]
  },
  {
   "cell_type": "markdown",
   "metadata": {},
   "source": [
    "### Visualize cleaned ingredients"
   ]
  },
  {
   "cell_type": "code",
   "execution_count": 17,
   "metadata": {},
   "outputs": [
    {
     "data": {
      "image/png": "[encoded data removed]",
      "text/plain": [
       "<Figure size 1000x500 with 1 Axes>"
      ]
     },
     "metadata": {},
     "output_type": "display_data"
    }
   ],
   "source": [
    "plot_ingredient_counts(recipe_df, colname=\"cleaned_ingredients\")"
   ]
  },
  {
   "cell_type": "code",
   "execution_count": 18,
   "metadata": {},
   "outputs": [
    {
     "data": {
      "image/png": "[encoded data removed]",
      "text/plain": [
       "<Figure size 700x500 with 1 Axes>"
      ]
     },
     "metadata": {},
     "output_type": "display_data"
    }
   ],
   "source": [
    "plot_ingredient_frequencies(recipe_df, colname=\"cleaned_ingredients\")"
   ]
  },
  {
   "cell_type": "markdown",
   "metadata": {},
   "source": [
    "### Remove recipes rare ingredients"
   ]
  },
  {
   "cell_type": "code",
   "execution_count": 19,
   "metadata": {},
   "outputs": [],
   "source": [
    "ingredient_counts = recipe_df[\"cleaned_ingredients\"].explode().value_counts()\n",
    "rare_ingredients = ingredient_counts[ingredient_counts <= 5].index\n",
    "\n",
    "with open(\"data/rare_ingredients.txt\", \"w\", encoding=\"utf-8\") as file:\n",
    "    file.writelines(\"\\n\".join(sorted(rare_ingredients)))"
   ]
  },
  {
   "cell_type": "code",
   "execution_count": 20,
   "metadata": {},
   "outputs": [
    {
     "data": {
      "image/png": "[encoded data removed]",
      "text/plain": [
       "<Figure size 1000x500 with 1 Axes>"
      ]
     },
     "metadata": {},
     "output_type": "display_data"
    }
   ],
   "source": [
    "def remove_rare_ingredients(ingredients):\n",
    "    \"\"\"Remove rare ingredients from a list.\"\"\"\n",
    "    return [\n",
    "        ingredient\n",
    "        for ingredient in ingredients\n",
    "        if ingredient not in rare_ingredients\n",
    "    ]\n",
    "\n",
    "reduced_df = recipe_df.copy()\n",
    "\n",
    "reduced_df.loc[:, \"cleaned_ingredients\"] = (\n",
    "    reduced_df[\"cleaned_ingredients\"].apply(remove_rare_ingredients)\n",
    ")\n",
    "\n",
    "plot_ingredient_counts(reduced_df, colname=\"cleaned_ingredients\")"
   ]
  },
  {
   "cell_type": "code",
   "execution_count": 21,
   "metadata": {},
   "outputs": [
    {
     "data": {
      "image/png": "[encoded data removed]",
      "text/plain": [
       "<Figure size 700x500 with 1 Axes>"
      ]
     },
     "metadata": {},
     "output_type": "display_data"
    }
   ],
   "source": [
    "plot_ingredient_frequencies(reduced_df, colname=\"cleaned_ingredients\")"
   ]
  },
  {
   "cell_type": "markdown",
   "metadata": {},
   "source": [
    "### Remove recipes with very few ingredients"
   ]
  },
  {
   "cell_type": "code",
   "execution_count": 22,
   "metadata": {},
   "outputs": [
    {
     "data": {
      "image/png": "[encoded data removed]",
      "text/plain": [
       "<Figure size 1000x500 with 1 Axes>"
      ]
     },
     "metadata": {},
     "output_type": "display_data"
    }
   ],
   "source": [
    "ingredient_counts = reduced_df[\"cleaned_ingredients\"].apply(len)\n",
    "q1 = ingredient_counts.quantile(0.75)\n",
    "reduced_df = reduced_df[ingredient_counts <= q1]\n",
    "\n",
    "plot_ingredient_counts(reduced_df, colname=\"cleaned_ingredients\")"
   ]
  },
  {
   "cell_type": "code",
   "execution_count": 23,
   "metadata": {},
   "outputs": [
    {
     "data": {
      "image/png": "[encoded data removed]",
      "text/plain": [
       "<Figure size 700x500 with 1 Axes>"
      ]
     },
     "metadata": {},
     "output_type": "display_data"
    }
   ],
   "source": [
    "plot_ingredient_frequencies(reduced_df, colname=\"cleaned_ingredients\")"
   ]
  },
  {
   "cell_type": "markdown",
   "metadata": {},
   "source": [
    "## Vectorization\n"
   ]
  },
  {
   "cell_type": "code",
   "execution_count": 24,
   "metadata": {},
   "outputs": [
    {
     "data": {
      "application/vnd.jupyter.widget-view+json": {
       "model_id": "1af9f9b4c7bd404b81a10c64cf98b347",
       "version_major": 2,
       "version_minor": 0
      },
      "text/plain": [
       "Batches:   0%|          | 0/61 [00:00<?, ?it/s]"
      ]
     },
     "metadata": {},
     "output_type": "display_data"
    }
   ],
   "source": [
    "from sentence_transformers import SentenceTransformer\n",
    "\n",
    "model = SentenceTransformer(\"all-mpnet-base-v2\")\n",
    "embeddings = model.encode(\n",
    "    [\" \".join(sorted(ingredients)) for ingredients in reduced_df[\"ingredients\"]],\n",
    "    show_progress_bar=True,\n",
    ")"
   ]
  },
  {
   "cell_type": "code",
   "execution_count": 25,
   "metadata": {},
   "outputs": [
    {
     "data": {
      "text/plain": [
       "(1946, 768)"
      ]
     },
     "execution_count": 25,
     "metadata": {},
     "output_type": "execute_result"
    }
   ],
   "source": [
    "embeddings.shape"
   ]
  },
  {
   "cell_type": "markdown",
   "metadata": {},
   "source": [
    "## Dimensionality reduction"
   ]
  },
  {
   "cell_type": "code",
   "execution_count": 26,
   "metadata": {},
   "outputs": [],
   "source": [
    "from sklearn.decomposition import TruncatedSVD\n",
    "\n",
    "dimensions_to_keep = 2\n",
    "svd = TruncatedSVD(n_components=dimensions_to_keep)\n",
    "reduced_embeddings = svd.fit_transform(embeddings)"
   ]
  },
  {
   "cell_type": "markdown",
   "metadata": {},
   "source": [
    "## Clustering\n"
   ]
  },
  {
   "cell_type": "code",
   "execution_count": 27,
   "metadata": {},
   "outputs": [],
   "source": [
    "from sklearn.cluster import AgglomerativeClustering\n",
    "\n",
    "n_clusters = 7\n",
    "clustering = AgglomerativeClustering(n_clusters=n_clusters, linkage=\"ward\")\n",
    "cluster_labels = clustering.fit_predict(reduced_embeddings)"
   ]
  },
  {
   "cell_type": "markdown",
   "metadata": {},
   "source": [
    "## Visualization\n"
   ]
  },
  {
   "cell_type": "code",
   "execution_count": 30,
   "metadata": {},
   "outputs": [
    {
     "data": {
      "application/vnd.plotly.v1+json": {
       "config": {
        "plotlyServerURL": "https://plot.ly"
       },
       "data": [
        {
         "customdata": [
          [
           "butter<br>cheese<br>egg<br>flour<br>milk<br>powder<br>salt<br>sugar"
          ],
          [
           "coconut cream<br>jackfruit<br>rice flour<br>sugar"
          ],
          [
           "cream<br>milk<br>sugar"
          ],
          [
           "coconut cream<br>coconut milk<br>milk<br>rice flour<br>sugar"
          ],
          [
           "coconut cream<br>coconut milk<br>rice flour<br>sugar"
          ],
          [
           "cinnamon<br>milk<br>rice<br>sugar"
          ],
          [
           "agar<br>coconut<br>coconut juice<br>coconut milk<br>ice<br>milk<br>pandan<br>sugar"
          ],
          [
           "cream<br>graham cracker<br>milk<br>sugar"
          ],
          [
           "breadcrumb<br>butter<br>egg<br>flour<br>milk<br>salt<br>sugar<br>yeast"
          ],
          [
           "agar<br>coconut cream<br>ice<br>pandan<br>sago<br>sugar"
          ],
          [
           "coconut cream<br>coconut milk<br>jackfruit<br>rice flour<br>sugar"
          ],
          [
           "lime<br>milk<br>sugar<br>yam"
          ],
          [
           "coconut cream<br>coconut milk<br>rice<br>salt<br>sugar"
          ],
          [
           "agar<br>coconut<br>coconut juice<br>cream<br>kaong<br>milk<br>sugar"
          ],
          [
           "coconut cream<br>coconut milk<br>cornstarch<br>kernel corn<br>milk<br>sugar"
          ],
          [
           "coconut<br>coconut milk<br>corn<br>cornstarch<br>sugar"
          ],
          [
           "coconut cream<br>coconut milk<br>jackfruit<br>rice flour<br>sugar"
          ],
          [
           "coconut cream<br>coconut milk<br>mung bean<br>rice<br>sugar"
          ],
          [
           "coconut cream<br>coconut milk<br>cornstarch<br>jackfruit<br>milk<br>sugar"
          ],
          [
           "butter<br>sugar"
          ],
          [
           "coconut cream<br>coconut milk<br>cornstarch<br>milk<br>sugar"
          ],
          [
           "coconut cream<br>coconut milk<br>rice<br>sugar"
          ],
          [
           "banana bananas<br>coconut cream<br>coconut milk<br>jackfruit<br>rice flour<br>sago<br>sugar"
          ],
          [
           "coconut cream<br>rice flour<br>salt<br>sugar"
          ],
          [
           "egg<br>oil<br>rice flour<br>sugar"
          ],
          [
           "cream<br>food<br>mango<br>milk"
          ],
          [
           "cheese<br>coconut milk<br>egg<br>margarine<br>rice flour<br>sugar"
          ],
          [
           "banana<br>coconut milk<br>rice<br>salt<br>sugar"
          ],
          [
           "coffee<br>egg<br>milk<br>salt<br>sugar<br>vanilla"
          ],
          [
           "agar<br>coconut<br>coconut juice<br>cream<br>kaong<br>milk<br>nata de coco<br>pandan<br>sugar"
          ],
          [
           "banana bananas<br>jackfruit<br>oil<br>spring wrapper<br>sugar"
          ],
          [
           "cream tartar<br>egg<br>egg yolk<br>lemon<br>milk<br>sugar<br>vanilla"
          ],
          [
           "butter<br>lime<br>milk<br>sugar"
          ],
          [
           "graham cracker crumbs<br>milk"
          ],
          [
           "cheese<br>coconut milk<br>cornstarch<br>fruit cocktail<br>milk<br>sugar"
          ],
          [
           "butter<br>cream cheese<br>egg<br>graham cracker crumbs<br>lemon juice<br>powder<br>salt<br>sugar"
          ],
          [
           "butter<br>chocolate chip<br>coconut<br>graham cracker crumbs<br>lime<br>mango<br>milk<br>pineapple<br>sugar"
          ],
          [
           "chocolate chip<br>cream tartar<br>egg yolk<br>flour<br>mango<br>oil<br>powder<br>sugar<br>whipping cream"
          ],
          [
           "coconut milk<br>egg<br>milk<br>sugar"
          ],
          [
           "egg yolk<br>milk<br>sugar"
          ],
          [
           "coconut<br>cream<br>milk"
          ],
          [
           "coconut cream<br>coconut milk<br>jackfruit<br>milk<br>rice flour<br>sugar<br>yam"
          ],
          [
           "coconut cream<br>coconut milk<br>rice<br>salt<br>sugar<br>yam"
          ],
          [
           "coconut<br>corn kernel<br>cream<br>fruit cocktail<br>kaong<br>milk<br>nata de coco<br>pineapple tidbit"
          ],
          [
           "butter<br>cassava<br>cheese<br>coconut milk<br>milk<br>sugar<br>yam"
          ],
          [
           "cream<br>graham cracker<br>milk<br>sugar"
          ],
          [
           "butter<br>cocoa powder<br>egg<br>milk<br>powder<br>soda<br>sugar<br>vanilla"
          ],
          [
           "butter<br>cheese<br>coconut milk<br>cream tartar<br>egg<br>egg yolk<br>milk<br>sugar<br>yam"
          ],
          [
           "agar<br>coconut juice<br>coconut milk<br>pandan<br>sugar"
          ],
          [
           "butter<br>cheese<br>coconut cream<br>coconut milk<br>milk<br>sugar<br>yam"
          ],
          [
           "butter<br>cassava<br>coconut milk<br>egg yolk<br>milk<br>sugar"
          ],
          [
           "butter<br>egg yolk<br>ice<br>milk<br>salt<br>sugar"
          ],
          [
           "coconut cream<br>coconut milk<br>gabi<br>rice flour<br>sugar"
          ],
          [
           "cassava<br>coconut milk<br>sugar"
          ],
          [
           "cream<br>fruit cocktail<br>graham cracker<br>milk"
          ],
          [
           "cheese<br>cream<br>fruit cocktail<br>kaong<br>milk<br>nata de coco<br>pasta<br>pineapple tidbit"
          ],
          [
           "butter<br>cake flour<br>cheese<br>egg yolk<br>milk<br>powder<br>sugar<br>vanilla"
          ],
          [
           "butter<br>egg yolk<br>milk<br>salt"
          ],
          [
           "egg<br>milk<br>sugar"
          ],
          [
           "butter<br>coconut<br>egg<br>milk<br>sugar<br>vanilla"
          ],
          [
           "egg<br>lime<br>milk<br>sugar"
          ],
          [
           "coffee<br>cream<br>gelatin<br>milk<br>sugar"
          ],
          [
           "butter<br>cinnamon<br>coconut<br>cream<br>egg<br>milk<br>nutmeg<br>pineapple juice<br>raisin<br>sugar"
          ],
          [
           "butter<br>egg<br>egg yolk<br>milk<br>powder<br>salt<br>sugar"
          ],
          [
           "coconut cream<br>coconut milk<br>rice flour<br>sugar"
          ],
          [
           "cream cheese<br>egg<br>milk<br>sugar"
          ],
          [
           "banana bananas<br>butter<br>egg<br>milk<br>oil<br>powder<br>salt<br>sugar"
          ],
          [
           "egg yolk<br>lime<br>milk<br>sugar"
          ],
          [
           "calabasa<br>coconut milk<br>sugar<br>tapioca pearl"
          ],
          [
           "butter<br>cassava<br>cheese<br>coconut cream<br>egg<br>milk"
          ],
          [
           "coconut milk<br>rice<br>salt<br>sugar"
          ],
          [
           "egg<br>milk<br>sugar<br>vanilla"
          ],
          [
           "cream<br>egg<br>milk<br>sugar<br>vanilla"
          ],
          [
           "coconut milk<br>rice<br>salt<br>sugar"
          ],
          [
           "coconut cream<br>jackfruit<br>rice<br>sugar<br>tapioca pearl"
          ],
          [
           "coconut<br>cream<br>gelatin<br>milk"
          ],
          [
           "coconut<br>coconut milk<br>cornstarch<br>kernel corn<br>milk<br>sugar"
          ],
          [
           "butter<br>food<br>milk<br>sugar"
          ],
          [
           "butter<br>cassava<br>coconut milk<br>egg<br>milk"
          ],
          [
           "egg yolk<br>milk<br>sugar<br>vanilla"
          ],
          [
           "egg yolk<br>flour<br>milk<br>powder<br>sugar<br>vanilla"
          ],
          [
           "banana<br>jackfruit<br>lumpia wrapper<br>oil<br>sugar"
          ],
          [
           "coconut milk<br>cornstarch<br>milk<br>sugar"
          ],
          [
           "butter<br>chocolate chip<br>egg<br>flour<br>milk<br>salt<br>soda<br>sugar<br>vanilla"
          ],
          [
           "cheese<br>coconut milk<br>egg<br>egg yolk<br>margarine<br>milk<br>rice flour<br>sugar"
          ],
          [
           "almond<br>butter<br>chocolate chip<br>flour<br>soda<br>sugar<br>vanilla"
          ],
          [
           "ice<br>sugar<br>vanilla"
          ],
          [
           "almond<br>butter<br>egg<br>flour<br>milk<br>potato<br>salt<br>sugar<br>vanilla"
          ],
          [
           "butter<br>chocolate chip<br>egg<br>flour<br>salt<br>soda<br>sugar<br>vanilla"
          ],
          [
           "ice<br>milk<br>sugar"
          ],
          [
           "ice<br>milk<br>sugar<br>vanilla"
          ],
          [
           "banana<br>honey<br>ice<br>vanilla"
          ],
          [
           "coconut cream<br>coconut milk<br>rice flour"
          ],
          [
           "butter<br>egg<br>flour<br>graham cracker crumbs<br>juice lemon<br>milk<br>powder<br>sugar<br>vanilla"
          ],
          [
           "butter<br>cherry<br>egg<br>flour<br>milk<br>powder<br>salt<br>sugar<br>walnut"
          ],
          [
           "butter<br>buttermilk<br>egg<br>flour<br>milk<br>powder<br>salt<br>soda<br>sugar"
          ],
          [
           "chocolate chip<br>egg<br>flour<br>milk<br>salt<br>sugar<br>vanilla<br>vegetable oil<br>walnut"
          ],
          [
           "banana<br>coconut cream<br>coconut milk<br>rice<br>salt<br>sugar"
          ],
          [
           "butter<br>chocolate chip<br>egg<br>flour<br>salt<br>soda<br>sugar<br>vanilla<br>walnut"
          ],
          [
           "banana<br>chocolate chip<br>egg<br>sugar<br>vegetable oil"
          ],
          [
           "confectioner sugar<br>egg<br>flour<br>powder<br>sugar<br>vanilla"
          ],
          [
           "cake flour<br>cream<br>cream tartar<br>egg<br>salt<br>sugar<br>vanilla"
          ],
          [
           "coconut<br>cream<br>milk<br>pineapple"
          ],
          [
           "cinnamon<br>egg<br>milk<br>nutmeg<br>salt<br>sugar"
          ],
          [
           "banana<br>butter<br>cornstarch<br>egg yolk<br>graham cracker crumbs<br>milk<br>salt<br>sugar<br>vanilla<br>whipping cream"
          ],
          [
           "butter<br>peanut<br>salt<br>soda<br>sugar"
          ],
          [
           "confectioner sugar<br>cream tartar<br>egg<br>milk<br>sugar<br>vanilla"
          ],
          [
           "coconut milk<br>kernel corn<br>rice<br>sugar"
          ],
          [
           "butter<br>egg<br>flour<br>milk<br>salt<br>sugar<br>vanilla"
          ],
          [
           "butter<br>flour<br>milk<br>sugar"
          ],
          [
           "corn kernel<br>cornstarch<br>milk<br>peanut<br>raisin<br>sugar"
          ],
          [
           "butter<br>coffee<br>egg<br>flour<br>powder<br>salt<br>sugar<br>vanilla<br>walnut"
          ],
          [
           "butter<br>sugar"
          ],
          [
           "cream<br>cream cheese<br>egg<br>flour<br>sugar<br>vanilla"
          ],
          [
           "butter<br>egg<br>flour<br>powder<br>salt<br>soda<br>sugar<br>walnut"
          ],
          [
           "coconut<br>coconut milk<br>rice flour<br>sugar<br>vanilla"
          ],
          [
           "cocoa powder<br>milk<br>rice<br>sugar"
          ],
          [
           "butter<br>cassava<br>cheese<br>coconut milk<br>egg<br>milk<br>sugar"
          ],
          [
           "butter<br>egg yolk<br>fruit cocktail<br>gelatin<br>milk<br>powder<br>sugar<br>vanilla"
          ],
          [
           "butter<br>coconut<br>egg<br>milk<br>sugar"
          ]
         ],
         "hovertemplate": "<b>%{hovertext}</b><br><br>cluster=6<br>x=%{x}<br>y=%{y}<br>cleaned_ingredients=%{customdata[0]}<extra></extra>",
         "hovertext": [
          "Cheese Cupcakes",
          "Kapit",
          "Mais con Queso Ice Candy",
          "Sapin Sapin",
          "Kalamay Lansong",
          "Horchata",
          "Buko Pandan Drink",
          "Mango Royale",
          "Pandesal",
          "Ginumis",
          "Kalamay sa Latik",
          "Pastillas de Ube",
          "Biko",
          "White Buko Salad",
          "Maja Blanca Espesyal",
          "Maja Blanca",
          "Ginataang Bilo Bilo",
          "Ginataang Munggo",
          "Maja Langka",
          "Polvoron",
          "Ube Maja Blanca",
          "Ginataang Mais",
          "Ginataang Halo-halo",
          "Tibok-Tibok",
          "Tikoy",
          "Mango Ice Cream",
          "Royal Bibingka",
          "Suman Malagkit with Coconut Caramel Sauce",
          "Coffee Flan",
          "Buko Pandan Salad",
          "Banana Turon",
          "Brazo de Mercedes",
          "Pastillas de Leche",
          "Graham Balls",
          "Maja Jubilee",
          "Calamansi Cheesecake Squares",
          "Tropical Magic Bars",
          "Mango Bravo Cake",
          "Coconut Flan",
          "Leche Flan",
          "Buko Pandan Ice Cream",
          "Mini Special Sapin-Sapin",
          "Ube Biko",
          "Buko Salad",
          "Ube Cassava Cake",
          "Graham de Leche",
          "Impossible Chocolate Flan Cake",
          "Floating Island Dessert",
          "Pandan Coconut Jelly",
          "Halayang Ube",
          "Cassava Cake with Custard Topping",
          "Mini Egg Pies",
          "Kalamay Gabi",
          "Cassava Suman",
          "Fruit Cocktail Graham Float",
          "Pasta Fruit Salad",
          "Yema Cake",
          "Easy Yema Spread",
          "Dulce de Leche Flan",
          "Filipino Coconut Macaroons",
          "Leche Flan with Whole Eggs",
          "Coffee Jelly",
          "Hawaiian Bread Pudding",
          "Leche Puto",
          "Kalamay Hati",
          "Cream Cheese Flan",
          "Maruya",
          "Yema",
          "Tapioca Coconut Dessert Soup",
          "Cassava Cake Recipe Creamy and Cheesy Version",
          "Biko Recipe",
          "Leche Flan",
          "No Steam Easy Flan",
          "Biko with Latik",
          "Ginataang Bilo bilo with Langka",
          "Buko Pandan",
          "Maja Blanca",
          "Pastimallows",
          "Steamed Cassava Cake",
          "Oven Baked Leche Flan Recipe",
          "Leche Puto Recipe",
          "Mini Turon Recipe (Banana Lumpia with Caramel)",
          "Creamy Mais Maja Blanca",
          "Oat Bran Chocolate Chip Cookie",
          "Royal Bibingka",
          "Oatmeal Chocolate Chip Cookies",
          "Melon Juice",
          "Sweet Potato Casserole",
          "White Chocolate Chip Cookie",
          "Blueberry Greek Yogurt Smoothie",
          "Strawberry Greek Yogurt Smoothie",
          "Banana Yogurt Smoothie",
          "Kalamay hati Recipe",
          "Lemon Cupcake with Cream Cheese Frosting",
          "Pineapple Cake",
          "Buttermilk Pancakes",
          "Fudge Brownies",
          "Bibingkang Malagkit Recipe",
          "Chocolate Chip Cookie Recipe",
          "Banana Chocolate Chip Muffin Recipe",
          "Jelly Roll",
          "Angel Food Cake with Strawberries",
          "Buko Salad Recipe",
          "Pumpkin Pie",
          "How to Make Banana Cream Pie",
          "Peanut Brittle Recipe",
          "Brazo de Mercedes",
          "Ginataang Mais Recipe",
          "Egg Pie Recipe",
          "Polvoron Recipe",
          "Shared Recipe. Maja Blanca",
          "Brownies with Walnuts",
          "Perfect Rice Puff Dessert",
          "New York Style Cheesecake",
          "Food for the Gods Recipe",
          "Espasol Recipe",
          "Champorado Recipe",
          "Cassava Cake",
          "Crema de Fruta Recipe",
          "Coconut Macaroon Recipe"
         ],
         "legendgroup": "6",
         "marker": {
          "color": "rgb(127, 60, 141)",
          "size": 5,
          "symbol": "circle"
         },
         "mode": "markers",
         "name": "6",
         "showlegend": true,
         "type": "scattergl",
         "x": [
          0.6665090918540955,
          0.6643532514572144,
          0.5809203386306763,
          0.5867102146148682,
          0.5776631236076355,
          0.6914349794387817,
          0.6082925200462341,
          0.6219828128814697,
          0.6211564540863037,
          0.6123906373977661,
          0.6867365837097168,
          0.7250761985778809,
          0.6775246858596802,
          0.6676456332206726,
          0.592828631401062,
          0.6278008222579956,
          0.7466321587562561,
          0.6446942687034607,
          0.6390777826309204,
          0.6222313046455383,
          0.6160984635353088,
          0.6897962093353271,
          0.6778498291969299,
          0.7278904318809509,
          0.6500257849693298,
          0.5619985461235046,
          0.7111497521400452,
          0.6111506223678589,
          0.6595562100410461,
          0.6477891206741333,
          0.6650514602661133,
          0.7088509202003479,
          0.621710479259491,
          0.48737120628356934,
          0.6175045967102051,
          0.6941494941711426,
          0.654029130935669,
          0.7454555034637451,
          0.5639143586158752,
          0.5924310684204102,
          0.6113864779472351,
          0.6517009735107422,
          0.6531054377555847,
          0.6490957736968994,
          0.6711828112602234,
          0.6014806032180786,
          0.6109727025032043,
          0.6089549660682678,
          0.5941847562789917,
          0.5892494320869446,
          0.670324981212616,
          0.6210849285125732,
          0.588462769985199,
          0.6184906959533691,
          0.6091625094413757,
          0.6081135869026184,
          0.6446434259414673,
          0.6184164881706238,
          0.5591439604759216,
          0.6668890714645386,
          0.6533644795417786,
          0.6051647067070007,
          0.6476653218269348,
          0.6855738162994385,
          0.6300774812698364,
          0.5788284540176392,
          0.6648357510566711,
          0.5698820948600769,
          0.6378469467163086,
          0.6542975902557373,
          0.6419346928596497,
          0.6378945708274841,
          0.7078219056129456,
          0.6540616750717163,
          0.6345768570899963,
          0.6051837205886841,
          0.6521915197372437,
          0.5315365791320801,
          0.6391245126724243,
          0.6515350341796875,
          0.6951318383216858,
          0.6953114867210388,
          0.6116485595703125,
          0.653317928314209,
          0.7111029624938965,
          0.6944575309753418,
          0.6310782432556152,
          0.7149149775505066,
          0.6954562664031982,
          0.6005988121032715,
          0.5762852430343628,
          0.6266363859176636,
          0.6616842746734619,
          0.7354650497436523,
          0.6716901063919067,
          0.6607902646064758,
          0.6972024440765381,
          0.6649520397186279,
          0.6884032487869263,
          0.6913214325904846,
          0.6915771961212158,
          0.6858863234519958,
          0.5691416263580322,
          0.6178109049797058,
          0.678676426410675,
          0.6532310843467712,
          0.6355603933334351,
          0.6223998069763184,
          0.6260883212089539,
          0.6256787776947021,
          0.593195915222168,
          0.6501453518867493,
          0.6632894277572632,
          0.6418293118476868,
          0.659117579460144,
          0.6586472392082214,
          0.5455667972564697,
          0.6039208769798279,
          0.7381165027618408,
          0.6659878492355347
         ],
         "xaxis": "x",
         "y": [
          0.4742774963378906,
          0.444441020488739,
          0.4946308732032776,
          0.5142033696174622,
          0.5680793523788452,
          0.43482130765914917,
          0.5044357776641846,
          0.40216732025146484,
          0.38639700412750244,
          0.4642787277698517,
          0.5022799968719482,
          0.4211316704750061,
          0.4084665775299072,
          0.41642165184020996,
          0.5828452706336975,
          0.5261467695236206,
          0.4598020911216736,
          0.4302479028701782,
          0.5185643434524536,
          0.4643098711967468,
          0.5463039875030518,
          0.4416619539260864,
          0.49469172954559326,
          0.42627638578414917,
          0.3723212778568268,
          0.5063372850418091,
          0.41931334137916565,
          0.4366106390953064,
          0.5061402916908264,
          0.4097908139228821,
          0.36585551500320435,
          0.4223592281341553,
          0.4591907262802124,
          0.615453839302063,
          0.5177254676818848,
          0.49114686250686646,
          0.48210033774375916,
          0.41746944189071655,
          0.6111283302307129,
          0.5855067372322083,
          0.42328545451164246,
          0.4350714087486267,
          0.4067573845386505,
          0.42656409740448,
          0.44928407669067383,
          0.5826651453971863,
          0.45796486735343933,
          0.5319429636001587,
          0.4454638361930847,
          0.5301311612129211,
          0.49061688780784607,
          0.5956060886383057,
          0.5164029598236084,
          0.4232878088951111,
          0.5057305693626404,
          0.38098371028900146,
          0.5624645352363586,
          0.5338252782821655,
          0.5580465793609619,
          0.51874840259552,
          0.5165351033210754,
          0.4792163074016571,
          0.3943650722503662,
          0.48606622219085693,
          0.5718940496444702,
          0.5928118824958801,
          0.3872162699699402,
          0.5004007816314697,
          0.4076308310031891,
          0.46753740310668945,
          0.45125019550323486,
          0.492123544216156,
          0.45353758335113525,
          0.44555768370628357,
          0.445171058177948,
          0.4027474522590637,
          0.5206538438796997,
          0.5380605459213257,
          0.44272705912590027,
          0.47943314909935,
          0.5130051374435425,
          0.426573246717453,
          0.5529115200042725,
          0.4444386959075928,
          0.4942760467529297,
          0.4612254500389099,
          0.4006175398826599,
          0.44294118881225586,
          0.41869163513183594,
          0.5055925250053406,
          0.4997597336769104,
          0.40347814559936523,
          0.4424296021461487,
          0.42004260420799255,
          0.4596504271030426,
          0.4049112796783447,
          0.4328251779079437,
          0.41210120916366577,
          0.411972314119339,
          0.4484933912754059,
          0.47150111198425293,
          0.4146445393562317,
          0.5736646056175232,
          0.4231012761592865,
          0.48951566219329834,
          0.3848531246185303,
          0.5294679403305054,
          0.5153898000717163,
          0.4337097406387329,
          0.5062353610992432,
          0.564907431602478,
          0.44932058453559875,
          0.390480101108551,
          0.5151872634887695,
          0.394228458404541,
          0.4518795609474182,
          0.5665797591209412,
          0.5340778827667236,
          0.4274693727493286,
          0.4978932738304138
         ],
         "yaxis": "y"
        },
        {
         "customdata": [
          [
           "bean<br>garlic<br>oil<br>onion<br>pork<br>salt pepper<br>soy sauce<br>vinegar"
          ],
          [
           "garlic<br>oil<br>paprika<br>pepper<br>pork<br>salt<br>soy sauce<br>sugar<br>vinegar<br>wine"
          ],
          [
           "chicken<br>garlic<br>lemon<br>oil<br>onion<br>peppercorn<br>salt<br>soy sauce"
          ],
          [
           "fish sauce<br>garlic<br>ginger<br>oil<br>onion<br>salt pepper<br>spinach"
          ],
          [
           "bagoong<br>oil<br>onion<br>salt pepper<br>tilapia"
          ],
          [
           "garlic<br>ginger<br>mirin<br>oil<br>onion<br>sake<br>salmon<br>sesame seed<br>soy sauce<br>sugar"
          ],
          [
           "butter<br>chili pepper<br>garlic<br>salt pepper<br>shrimp"
          ],
          [
           "egg<br>garlic<br>ginger<br>oil<br>pork<br>salt<br>sausage<br>shrimp<br>soy sauce<br>wonton wrapper"
          ],
          [
           "banana<br>chili pepper<br>garlic<br>oil<br>oyster sauce<br>pork<br>salt pepper<br>shallot<br>spring wrapper"
          ],
          [
           "egg<br>garlic<br>oil<br>onion<br>oyster sauce<br>salt pepper<br>shallot<br>tomato"
          ],
          [
           "egg<br>garlic<br>oil<br>onion<br>roma tomato<br>salt pepper"
          ],
          [
           "cornstarch<br>egg<br>fish sauce<br>oil<br>onion<br>salt<br>shallot"
          ],
          [
           "banana bananas<br>carrot<br>garlic<br>oil<br>onion<br>pork<br>sausage<br>soy sauce<br>sugar<br>vinegar"
          ],
          [
           "beef<br>egg pasta<br>fish sauce<br>garlic<br>napa cabbage<br>oil<br>onion<br>peppercorn<br>salt"
          ],
          [
           "bitter gourd<br>egg<br>fish sauce<br>garlic<br>oil<br>onion<br>salt pepper<br>shrimp<br>sugar<br>tomato"
          ],
          [
           "cornstarch<br>garlic<br>oil<br>onion<br>oyster sauce<br>pork<br>salt pepper"
          ],
          [
           "cornstarch<br>garlic<br>oil<br>pepper<br>pork<br>salt<br>soy sauce<br>sugar<br>vinegar"
          ],
          [
           "chili garlic sauce<br>eggplant<br>ginger<br>oil<br>onion<br>soy sauce<br>sugar<br>vinegar"
          ],
          [
           "butter<br>chili pepper<br>egg yolk<br>garlic<br>milk<br>oil<br>salt<br>shallot<br>shrimp<br>sugar"
          ],
          [
           "chili garlic sauce<br>cornstarch<br>kangkong<br>oil<br>oyster sauce<br>sesame oil<br>tofu"
          ],
          [
           "eggplant<br>garlic<br>mango<br>oil<br>onion<br>pork<br>salt<br>shrimp<br>tomato<br>vinegar"
          ],
          [
           "bean<br>garlic<br>oil<br>onion<br>pepper<br>shrimp<br>soy sauce<br>sugar<br>tomato"
          ],
          [
           "butter<br>garlic<br>ginger<br>lemon juice<br>oil<br>onion<br>pepper<br>salt<br>soy sauce"
          ],
          [
           "garlic<br>lemon juice<br>oil<br>pork rib<br>soy sauce"
          ],
          [
           "chayote<br>fish sauce<br>garlic<br>oil<br>onion<br>salt pepper<br>tomato"
          ],
          [
           "beef<br>garlic<br>ginger<br>onion<br>pepper<br>sesame oil<br>sesame seed<br>soy sauce<br>sugar<br>vegetable oil"
          ],
          [
           "bagoong<br>chili pepper<br>corn starch<br>oil<br>sugar"
          ],
          [
           "chicken<br>chili<br>chili pepper<br>coconut cream<br>garlic<br>ginger<br>oil<br>onion<br>salt pepper<br>shrimp"
          ],
          [
           "carrot<br>chestnut<br>garlic<br>oil<br>onion<br>pork<br>salt<br>shrimp<br>soy sauce<br>spring wrapper"
          ],
          [
           "cabbage<br>carrot<br>chicken<br>garlic<br>oil<br>onion<br>oyster sauce<br>salt pepper<br>shrimp"
          ],
          [
           "cabbage<br>garlic<br>oil<br>onion<br>oyster sauce<br>pork<br>salt pepper<br>tomato"
          ],
          [
           "chili pepper<br>fish sauce<br>ginger<br>goat<br>onion<br>salt<br>tamarind<br>vinegar"
          ],
          [
           "chili pepper<br>coconut milk<br>garlic<br>ginger<br>oil<br>onion<br>powder<br>roma tomato<br>salmon<br>salt pepper"
          ],
          [
           "bean<br>chili pepper<br>coconut milk<br>fish<br>garlic<br>ginger<br>oil<br>onion<br>salt pepper<br>shrimp"
          ],
          [
           "cornstarch<br>garlic powder<br>oil<br>salt"
          ],
          [
           "garlic<br>mango<br>oil<br>onion<br>pork<br>rice<br>roma tomato<br>shrimp<br>sugar<br>vinegar"
          ],
          [
           "chili pepper<br>ginger<br>oil<br>rice<br>salt<br>shallot<br>soy sauce<br>sugar<br>tofu<br>vinegar"
          ],
          [
           "banana bananas<br>garlic<br>oil<br>onion<br>pork<br>salt pepper<br>soy sauce"
          ],
          [
           "cilantro<br>fish sauce<br>mango<br>oil<br>onion<br>pepper<br>roma tomato<br>sugar<br>vinegar"
          ],
          [
           "cabbage<br>garlic<br>ginger<br>oil<br>onion<br>oyster sauce<br>roma tomato<br>salmon<br>salt pepper<br>vinegar"
          ],
          [
           "chili pepper<br>eggplant<br>fish<br>garlic<br>ginger<br>oil<br>onion<br>peppercorn<br>salt<br>vinegar"
          ],
          [
           "bay leaf<br>garlic<br>oil<br>onion<br>pepper<br>salt pepper<br>soy sauce<br>sugar<br>vinegar"
          ],
          [
           "ginger<br>oil<br>salt pepper<br>shallot<br>tamarind powder"
          ],
          [
           "chicken<br>coconut milk<br>fish sauce<br>garlic<br>ginger<br>juice lime<br>salt pepper"
          ],
          [
           "chili<br>cinnamon<br>garlic<br>peanut<br>soy sauce<br>star anise<br>sugar"
          ],
          [
           "buttermilk<br>chicken<br>fish sauce<br>garlic<br>ginger<br>lemongrass<br>salt<br>sugar"
          ],
          [
           "coconut milk<br>fish sauce<br>garlic<br>mung bean<br>oil<br>onion<br>pork<br>salt pepper<br>spinach<br>tomato"
          ],
          [
           "fish sauce<br>garlic<br>mung bean<br>onion<br>spinach<br>tomato<br>vegetable oil"
          ],
          [
           "bottle gourd<br>chicken<br>fish sauce<br>garlic<br>oil<br>onion<br>pasta<br>salt pepper"
          ],
          [
           "bean<br>chili pepper<br>coconut cream<br>coconut milk<br>garlic<br>oil<br>onion<br>pork<br>salt pepper<br>shrimp"
          ],
          [
           "egg<br>garlic<br>oil<br>onion<br>potato<br>salt pepper<br>soy sauce<br>vinegar"
          ],
          [
           "duck egg<br>eggplant<br>fish sauce<br>grape tomato<br>onion<br>pepper<br>vinegar"
          ],
          [
           "beef<br>garlic<br>ginger<br>onion<br>rice vinegar<br>salt<br>sesame oil<br>sesame seeds<br>soy sauce<br>sugar"
          ],
          [
           "cornstarch<br>egg<br>garlic powder<br>milk<br>oil<br>paprika<br>salt<br>sauce<br>shrimp"
          ],
          [
           "chicken<br>cornstarch<br>garlic<br>lemon<br>oil<br>onion<br>salt<br>soy sauce"
          ],
          [
           "chicken<br>chicken broth<br>cornstarch<br>oil<br>onion<br>rice vinegar<br>sesame oil<br>sesame seed<br>soy sauce<br>sugar"
          ],
          [
           "chicken wing<br>garlic powder<br>oil<br>salt<br>tamarind powder"
          ],
          [
           "bell pepper<br>carrot<br>egg<br>lemon<br>mayonnaise<br>onion<br>pickle<br>salt pepper<br>tamarind powder"
          ],
          [
           "bell pepper<br>cornstarch<br>garlic<br>ginger<br>oil<br>onion<br>papaya<br>salt pepper<br>sugar<br>vinegar"
          ],
          [
           "bell pepper<br>bread crumb<br>butter<br>chili pepper<br>garlic<br>salt pepper<br>tomato sauce<br>wine"
          ],
          [
           "bay leaf<br>chicken<br>fish sauce<br>garlic<br>oil<br>onion<br>peppercorn<br>salt<br>vinegar"
          ],
          [
           "chicken<br>fish sauce<br>garlic<br>lemon juice<br>lemongrass<br>salt pepper<br>shallot<br>soy sauce<br>sugar"
          ],
          [
           "bell pepper<br>butter<br>chili pepper<br>garlic<br>lemon juice<br>mayonnaise<br>oil<br>onion<br>tofu"
          ],
          [
           "chili<br>fish sauce<br>garlic<br>ginger<br>oil<br>onion<br>pork<br>salt pepper<br>sugar<br>vinegar"
          ],
          [
           "fish sauce<br>garlic<br>ginger<br>oil<br>onion<br>salt pepper<br>tamarind powder<br>tomato"
          ],
          [
           "garlic<br>ginger<br>hoisin sauce<br>rice vinegar<br>salmon<br>salt pepper<br>sesame oil"
          ],
          [
           "chicken<br>chicken broth<br>fish sauce<br>garlic<br>ginger<br>lemon<br>oil<br>onion<br>rice<br>salt pepper"
          ],
          [
           "chicken<br>chicken broth<br>cinnamon<br>garlic<br>ginger<br>oil<br>rice wine<br>soy sauce<br>star anise<br>sugar"
          ],
          [
           "bell pepper<br>cream<br>fish sauce<br>garlic<br>oil<br>onion<br>pineapple<br>pineapple juice<br>pork"
          ],
          [
           "bay leaf<br>bell pepper<br>fish sauce<br>garlic<br>oil<br>onion<br>pea<br>salt pepper<br>tomato sauce"
          ],
          [
           "chicken wing<br>garlic<br>ginger<br>honey<br>lemon<br>rice vinegar<br>salt<br>sesame seed<br>soy sauce"
          ],
          [
           "bell pepper<br>chili pepper<br>garlic<br>ginger<br>oil<br>onion<br>oyster sauce<br>pepper<br>shallot<br>soy sauce"
          ],
          [
           "chicken<br>garlic<br>lemon<br>oil<br>salt<br>soy sauce<br>sugar"
          ],
          [
           "chili pepper<br>garlic<br>oil<br>onion<br>pork<br>salt pepper<br>shrimp<br>sugar<br>tomato<br>vinegar"
          ],
          [
           "garlic<br>lemon<br>oil<br>onion<br>salt<br>soy sauce"
          ],
          [
           "bay leaf<br>carrot<br>celery<br>chicken<br>ginger<br>oil<br>onion<br>pepper corn<br>rice<br>salt"
          ],
          [
           "avocado<br>cucumber<br>onion<br>roma tomato<br>salt<br>sesame oil<br>sugar"
          ],
          [
           "bottle gourd<br>garlic<br>oil<br>onion<br>oyster sauce<br>pork<br>roma tomato<br>salt pepper"
          ],
          [
           "bell pepper<br>chili pepper<br>fish<br>garlic<br>lemon juice<br>oil<br>onion<br>salt pepper"
          ],
          [
           "chili pepper<br>cornstarch<br>fish<br>garlic<br>oil<br>salt<br>shallot<br>soy sauce<br>sugar"
          ],
          [
           "fish<br>garlic<br>oil<br>peppercorn<br>salt<br>vinegar"
          ],
          [
           "chili<br>cornstarch<br>egg<br>garlic<br>oil<br>onion<br>pork<br>salt"
          ],
          [
           "chili pepper<br>garlic<br>oil<br>onion<br>pork<br>salt<br>spring wrapper"
          ],
          [
           "annatto powder<br>bell pepper<br>butter<br>garlic<br>oil<br>powder<br>rice<br>salt pepper<br>shallot<br>soy sauce"
          ],
          [
           "banana ketchup<br>chicken<br>garlic powder<br>oil<br>pineapple juice<br>salt<br>sugar"
          ],
          [
           "cabbage<br>calabasa<br>fish sauce<br>onion<br>peppercorn<br>pork<br>salt"
          ],
          [
           "carrot<br>fish<br>juice lemon<br>oil<br>onion<br>oyster sauce<br>pea<br>raisin<br>salt pepper<br>soy sauce"
          ],
          [
           "chili<br>cornstarch<br>oil<br>onion<br>pepper<br>salt<br>shrimp"
          ],
          [
           "fish sauce<br>ginger<br>oil<br>onion<br>salt pepper<br>spinach<br>tomato"
          ],
          [
           "beef<br>chili pepper<br>fish sauce<br>garlic<br>lemon juice<br>oil<br>onion<br>salt"
          ],
          [
           "cabbage<br>fish sauce<br>garlic<br>ginger<br>napa cabbage<br>oil<br>onion<br>potato<br>salt pepper"
          ],
          [
           "bean<br>chili garlic sauce<br>oil<br>salt pepper<br>soy sauce<br>tilapia"
          ],
          [
           "bok choy<br>carrot<br>chicken<br>oil<br>onion<br>oyster sauce<br>pancit<br>quail egg<br>sesame oil"
          ],
          [
           "beef<br>bell pepper<br>cheese<br>cream cheese<br>marinara sauce<br>mushroom<br>onion<br>salt pepper<br>spaghetti"
          ],
          [
           "bean<br>cabbage<br>carrot<br>egg<br>oil<br>onion<br>salt pepper<br>soy sauce<br>squid"
          ],
          [
           "butter<br>button mushroom<br>cheese<br>cream mushroom soup<br>flour<br>pepper<br>pork<br>spaghetti"
          ],
          [
           "banana ketchup<br>butter<br>cornstarch<br>oil<br>onion<br>pork<br>soy sauce<br>star anise<br>sugar"
          ],
          [
           "annatto powder<br>banana blossom<br>beef<br>bok choy<br>eggplant<br>oil<br>onion<br>peanut<br>string bean"
          ],
          [
           "butter<br>chicken<br>egg<br>flour<br>liquid seasoning<br>milk<br>oil<br>parsley<br>pepper<br>salt pepper"
          ],
          [
           "calabaza squash<br>ginataang gulay<br>oil<br>onion<br>salt<br>string bean<br>tilapia"
          ],
          [
           "beef broth<br>butter<br>button mushroom<br>flour<br>garlic<br>oil<br>parsley<br>salt pepper<br>soy sauce"
          ],
          [
           "bell pepper<br>egg<br>oil<br>onion<br>pea<br>pineapple tidbit<br>rice<br>salt pepper"
          ],
          [
           "butter<br>button mushroom<br>cheese<br>oil<br>onion<br>pork<br>salt pepper"
          ],
          [
           "beef<br>butter<br>carrot<br>kernel corn<br>onion<br>pea<br>salt pepper"
          ],
          [
           "bell pepper<br>carrot<br>chicken<br>coconut milk<br>cream mushroom<br>oil<br>pepper<br>potato<br>powder<br>salt pepper"
          ],
          [
           "beef<br>butter<br>cornstarch<br>garlic powder<br>oil<br>oyster sauce<br>pepper<br>soy sauce"
          ],
          [
           "crab<br>garlic<br>ginger<br>mussel<br>salt<br>shrimp"
          ],
          [
           "cabbage<br>carrot<br>celery<br>chicken<br>fish sauce pepper<br>hotdog<br>milk<br>oil<br>onion<br>pasta"
          ],
          [
           "beef<br>cornstarch<br>lemon<br>oil<br>onion<br>peppercorn<br>soy sauce<br>sugar"
          ],
          [
           "butter<br>cheese<br>cream<br>grape tomato<br>lemon<br>oil<br>parsley<br>salt pepper"
          ],
          [
           "bell pepper<br>carrot<br>chicken<br>cornstarch<br>oil<br>onion<br>pineapple<br>salt pepper<br>soy sauce<br>sugar"
          ],
          [
           "banana ketchup<br>chicken<br>lemon<br>liquid seasoning<br>oil<br>pork<br>soy sauce<br>sugar"
          ],
          [
           "bean<br>bell pepper<br>broccoli<br>carrot<br>ginataang gulay<br>oil<br>onion<br>powder"
          ],
          [
           "ginataang gulay<br>malunggay<br>mung bean<br>oil<br>onion<br>pork<br>tofu<br>tomato"
          ],
          [
           "chicken<br>egg<br>fish sauce<br>ginger<br>lemon<br>oil<br>onion<br>pepper<br>rice<br>scallion"
          ],
          [
           "banana<br>bay leaf<br>carrot<br>oil<br>peppercorn<br>pork<br>soy sauce<br>sugar<br>vinegar"
          ],
          [
           "banana ketchup<br>chicken<br>lemon<br>pepper<br>salt<br>soy sauce"
          ],
          [
           "beef<br>fish sauce<br>mung bean<br>onion<br>pepper<br>pork<br>spinach<br>tomato"
          ],
          [
           "banana<br>beef<br>beef broth<br>bok choy<br>cabbage<br>celery<br>onion<br>potato<br>salt pepper<br>star anise"
          ],
          [
           "eggplant<br>ginger<br>lemongrass<br>okra<br>salt pepper<br>shrimp<br>spinach<br>string bean"
          ],
          [
           "bok choy<br>cornstarch<br>mushroom<br>peppercorn<br>pork<br>sesame oil<br>soy sauce<br>star anise<br>sugar<br>wine"
          ],
          [
           "bagoong<br>eggplant<br>oil<br>onion<br>pepper<br>pork<br>sugar<br>tomato<br>vinegar"
          ],
          [
           "banana ketchup<br>breadcrumb<br>egg<br>eggplant<br>flour<br>garlic powder<br>mayonnaise<br>oil<br>onion powder<br>salt"
          ],
          [
           "beef<br>butter<br>button mushroom<br>cream<br>egg pasta<br>flour<br>oil<br>onion<br>salt pepper"
          ],
          [
           "butter<br>cheese<br>oil<br>onion<br>parsley<br>salmon<br>salt pepper<br>spinach<br>sun tomato<br>whipping cream"
          ],
          [
           "annatto seed<br>banana<br>cabbage<br>eggplant<br>oil<br>onion<br>peanut<br>pork<br>rice flour<br>string bean"
          ],
          [
           "bell pepper<br>carrot<br>chicken<br>fish sauce<br>milk<br>oil<br>onion<br>pineapple<br>tomato"
          ],
          [
           "annatto oil<br>egg<br>garlic<br>onion<br>patis pepper<br>rice<br>shrimp<br>tinapa"
          ],
          [
           "beef<br>butter<br>cream<br>cream mushroom<br>kernel corn<br>onion<br>salt pepper"
          ],
          [
           "annatto seed<br>bagoong<br>beef<br>bok choy<br>cornstarch<br>eggplant<br>oil<br>peanut<br>pepper<br>sitaw"
          ],
          [
           "banana ketchup<br>fish sauce<br>oil<br>onion<br>peppercorn<br>pineapple juice<br>pork rib<br>potato<br>soy sauce<br>tomato"
          ],
          [
           "beef<br>carrot<br>cornstarch<br>egg<br>flour<br>oil<br>onion<br>pasta<br>salt pepper<br>soy sauce"
          ],
          [
           "egg<br>flour<br>oil<br>onion<br>pasta<br>salt pepper<br>sardines tomato sauce"
          ],
          [
           "breadcrumb<br>cabbage<br>cornstarch<br>egg<br>liquid seasoning<br>oil<br>onion<br>sardines tomato sauce<br>sugar<br>vinegar"
          ],
          [
           "egg<br>lime<br>oil<br>patis<br>pepper<br>pork"
          ],
          [
           "chili pepper<br>coconut milk<br>ginger<br>onion<br>pepper<br>pork<br>shrimp"
          ],
          [
           "bell pepper<br>carrot<br>cheese<br>chicken<br>chili pepper<br>oil<br>onion<br>potato<br>tomato<br>tomato sauce"
          ],
          [
           "butter<br>cheese<br>chicken<br>flour<br>milk<br>mushroom<br>oil<br>pepper"
          ],
          [
           "annatto<br>egg<br>flour<br>oil<br>onion<br>pasta<br>patis pepper<br>pork<br>shrimp<br>tinapa"
          ],
          [
           "egg<br>garlic powder<br>oil<br>onion powder<br>pea<br>rice<br>salt"
          ],
          [
           "beef<br>beef broth<br>butter<br>cream<br>cream mushroom soup<br>flour<br>mushroom<br>oil<br>onion<br>salt pepper"
          ],
          [
           "banana ketchup<br>lemon<br>pepper<br>pork<br>soy sauce<br>sugar"
          ],
          [
           "annatto seed<br>beef<br>bok choy<br>eggplant<br>oil<br>onion<br>peanut<br>rice flour<br>snake bean"
          ],
          [
           "chicken liquid seasoning<br>flour<br>lemon<br>oil<br>pepper<br>soy sauce"
          ],
          [
           "bagoong<br>chicken<br>chili pepper<br>coconut milk<br>ginger<br>oil<br>onion<br>pepper"
          ],
          [
           "beef<br>breadcrumb<br>egg<br>garlic powder<br>oil<br>pepper<br>salt<br>squash"
          ],
          [
           "banana<br>bok choy<br>chicken<br>chicken broth<br>fish sauce<br>onion<br>peppercorn<br>potato"
          ],
          [
           "beef<br>egg<br>oil<br>pepper<br>rice<br>salt"
          ],
          [
           "cabbage<br>carrot<br>chorizo<br>cornstarch<br>egg<br>onion<br>pasta<br>pork<br>salt pepper"
          ],
          [
           "bean<br>chili<br>coconut milk<br>ginger<br>oil<br>onion<br>pepper<br>pork<br>shrimp<br>spinach"
          ],
          [
           "beef<br>butter<br>button mushroom<br>garlic powder<br>mayonnaise<br>onion<br>salt pepper<br>whipping cream"
          ],
          [
           "butter<br>cheese<br>oil<br>onion<br>salmon<br>salt pepper<br>spinach<br>whipping cream<br>wine"
          ],
          [
           "bell pepper<br>celery<br>lemon<br>mayonnaise<br>oil<br>onion powder<br>pasta<br>pepper<br>salt"
          ],
          [
           "chicken<br>chicken liquid seasoning<br>egg<br>flour<br>oil<br>pepper"
          ],
          [
           "banana ketchup<br>garlic powder<br>lemon<br>liquid seasoning<br>pork<br>soy sauce<br>sugar<br>vegetable oil"
          ],
          [
           "bay leaf<br>egg<br>peppercorn<br>pineapple juice<br>pork<br>soy sauce<br>sugar<br>vinegar"
          ],
          [
           "carrot<br>egg<br>jicama<br>oil<br>onion<br>pepper<br>pork<br>salt<br>sesame oil<br>wonton wrapper"
          ],
          [
           "chicken<br>ginataang gulay<br>malunggay<br>oil<br>onion<br>squash"
          ],
          [
           "beef<br>cheese<br>cream<br>nutmeg<br>onion<br>pork<br>salt<br>spaghetti"
          ],
          [
           "bell pepper<br>butter<br>chicken<br>chili pepper<br>flour<br>milk<br>mushroom<br>onion<br>salt pepper"
          ],
          [
           "butter<br>cayenne pepper powder<br>chicken wing<br>flour<br>garlic powder<br>oil<br>salt<br>sauce"
          ],
          [
           "egg<br>oil<br>onion<br>salt pepper<br>spinach<br>tuna"
          ],
          [
           "fish sauce<br>oil<br>onion<br>parsley<br>pepper<br>pork<br>shrimp<br>tomato"
          ],
          [
           "cheese<br>dijon mustard<br>egg<br>mayonnaise<br>onion<br>pork<br>salt pepper<br>scallion"
          ],
          [
           "butter<br>egg<br>oil<br>pepper<br>salt"
          ],
          [
           "bell pepper<br>carrot<br>oil<br>onion<br>pork<br>potato<br>salt pepper<br>tomato<br>tomato sauce"
          ],
          [
           "beef<br>bok choy<br>mushroom<br>onion<br>pepper<br>salt<br>scallion<br>star anise"
          ],
          [
           "chili<br>garlic<br>ginataang gulay<br>oil<br>onion<br>pepper<br>pork"
          ],
          [
           "bell pepper<br>carrot<br>celery<br>mayonnaise<br>mustard powder<br>onion<br>pasta<br>pepper<br>salt<br>sugar"
          ],
          [
           "bitter gourd<br>chili<br>chili pepper<br>coconut cream<br>coconut vinegar<br>onion<br>pepper<br>salmon<br>salt"
          ],
          [
           "butter<br>chili pepper<br>garlic powder<br>oil<br>onion<br>pepper<br>pork<br>salt<br>scallion<br>soy sauce"
          ],
          [
           "bottle bitter gourd<br>fish sauce<br>oil<br>onion<br>pepper<br>tomato"
          ],
          [
           "butter<br>chili pepper<br>cornstarch<br>egg yolk<br>garlic<br>oil<br>shrimp<br>whipping cream<br>wine"
          ],
          [
           "bitter gourd<br>chili pepper<br>coconut milk<br>fish sauce<br>mung bean<br>onion<br>pepper<br>pork<br>spinach"
          ],
          [
           "chicken<br>egg<br>flour<br>garlic powder<br>oil<br>paprika<br>pepper<br>salt"
          ],
          [
           "carrot<br>chicken<br>chicken broth<br>egg<br>egg pasta<br>garlic<br>napa cabbage<br>salt<br>scallion"
          ],
          [
           "bean<br>beef<br>cabbage<br>garlic powder<br>oil<br>onion<br>pepper<br>soy sauce<br>tomato"
          ],
          [
           "baking potato<br>bell pepper<br>garlic powder<br>oil<br>onion<br>pepper<br>salt"
          ],
          [
           "chili pepper<br>coconut cream<br>coconut milk<br>fish sauce<br>oil<br>onion<br>pepper<br>pork<br>spinach"
          ],
          [
           "egg<br>eggplant<br>garlic powder<br>oil<br>pepper<br>salt"
          ],
          [
           "butter<br>garlic powder<br>parsley<br>pork<br>salt"
          ],
          [
           "breadcrumb<br>oil<br>pepper<br>rosemary<br>salt"
          ],
          [
           "fettuccine<br>oil<br>parsley<br>pepper<br>salt pepper<br>sun tomato"
          ],
          [
           "beef<br>bell pepper<br>cheese<br>garlic powder<br>parsley<br>pepper<br>pork<br>salt"
          ],
          [
           "bell pepper<br>lemon<br>oil<br>onion<br>rice<br>roma tomato<br>squid<br>wine"
          ],
          [
           "bell pepper<br>egg<br>fish<br>flour<br>oil<br>onion<br>roma tomato<br>salt<br>vegetable broth"
          ],
          [
           "bay leaf<br>dijon mustard<br>ham<br>honey<br>ice<br>pineapple juice<br>salt<br>sugar"
          ],
          [
           "carrot<br>egg<br>garlic powder<br>jicama<br>oil<br>onion<br>parsley<br>pepper<br>pork<br>salt"
          ],
          [
           "bread crumb<br>egg<br>flour<br>garlic powder<br>garlic rice<br>oil<br>pepper<br>pork<br>salt"
          ],
          [
           "butter<br>egg<br>flour<br>garlic powder<br>oil<br>pork rib<br>salt"
          ],
          [
           "cabbage<br>carrot<br>cheese<br>chicken<br>flour tortilla<br>lettuce<br>salt<br>vegetable oil"
          ],
          [
           "fish sauce<br>garlic<br>ginger<br>napa cabbage<br>radish<br>salt<br>scallion<br>shrimp<br>sugar"
          ],
          [
           "chili pepper<br>onion<br>pepper<br>soy sauce<br>sugar<br>tofu<br>vinegar"
          ],
          [
           "bitter gourd<br>chili<br>fish sauce<br>oil<br>onion<br>pepper<br>shrimp<br>tinapa<br>tomato"
          ],
          [
           "chicken broth<br>chili pepper<br>cornstarch<br>ginger<br>pork<br>scallion<br>sesame oil<br>tofu"
          ],
          [
           "egg<br>oil<br>patis<br>salt<br>scallion<br>tomato"
          ],
          [
           "eggplant<br>galunggong<br>lemon<br>oil<br>onion<br>pepper<br>salt<br>shrimp<br>tomato"
          ],
          [
           "chili<br>coconut cream<br>ginger<br>juice lime<br>onion<br>pepper<br>salt"
          ],
          [
           "annatto<br>banana blossom<br>beef rib<br>bok choy<br>oil<br>onion<br>peanut<br>rice flour<br>snake bean"
          ],
          [
           "bell pepper<br>butter<br>liquid seasoning<br>mayonnaise<br>oil<br>onion<br>onion powder<br>tofu"
          ],
          [
           "cheese<br>egg<br>oil<br>pepper<br>salt"
          ],
          [
           "bell pepper<br>cornstarch<br>garlic powder<br>oil<br>onion<br>pineapple juice<br>salt<br>sugar<br>tomato ketchup<br>vinegar"
          ],
          [
           "banana ketchup<br>garlic powder<br>juice lemon<br>lemon<br>pepper<br>pork<br>salt<br>soy sauce<br>sugar"
          ],
          [
           "chicken<br>egg<br>fish sauce<br>garlic<br>oil<br>onion<br>pepper<br>rice<br>scallion"
          ],
          [
           "cabbage<br>carrot<br>celery<br>oil<br>onion<br>parsley<br>peas<br>pepper<br>shrimp<br>soy sauce"
          ],
          [
           "garlic<br>garlic powder<br>onion<br>pepper<br>pork<br>rice pasta<br>salt<br>scallion<br>sesame oil<br>wonton wrapper"
          ],
          [
           "mung bean<br>oil<br>onion<br>patis<br>pepper<br>spinach<br>tomato"
          ],
          [
           "chicken<br>fish sauce<br>napa cabbage<br>peppercorn<br>pork<br>potato"
          ],
          [
           "beef<br>oil<br>onion<br>parsley<br>potato<br>salt pepper"
          ],
          [
           "egg<br>fish sauce<br>oil<br>onion<br>pepper<br>scallion<br>tomato<br>tuna"
          ],
          [
           "chili pepper<br>coconut milk<br>garlic<br>mussel<br>oil<br>onion<br>pepper<br>shrimp<br>squid"
          ],
          [
           "chicken<br>fish sauce<br>garlic<br>oil<br>onion<br>patola<br>pepper<br>scallion"
          ],
          [
           "butter<br>carrot<br>egg<br>oil<br>pea<br>rice<br>salt pepper"
          ],
          [
           "carrot<br>celery<br>chicken<br>oil<br>onion<br>pasta<br>salt pepper"
          ],
          [
           "butter<br>garlic<br>mussel<br>oil<br>parsley"
          ],
          [
           "coconut cream<br>fish sauce<br>malunggay<br>oil<br>onion<br>papaya<br>pepper<br>pork"
          ],
          [
           "chicken<br>egg<br>fish sauce<br>malunggay<br>miki pasta<br>oil<br>onion<br>papaya<br>pepper"
          ],
          [
           "chicken<br>coconut milk<br>fish sauce<br>malunggay<br>oil<br>onion<br>papaya<br>pepper"
          ],
          [
           "chicken<br>fish sauce<br>ginger<br>malunggay<br>onion<br>papaya<br>pepper<br>vegetable oil"
          ],
          [
           "beef<br>bell pepper<br>carrot<br>oil<br>onion<br>pepper<br>potato<br>salt pepper"
          ],
          [
           "beer<br>cayenne pepper powder<br>egg<br>flour<br>garlic powder<br>oil<br>pepper<br>powder<br>salt"
          ],
          [
           "beef<br>egg<br>garlic<br>oil<br>rice<br>salt"
          ],
          [
           "baking potato<br>bay leaf<br>bell pepper<br>carrot<br>chicken<br>oil<br>onion<br>salt pepper<br>tomato sauce"
          ],
          [
           "carrot<br>garlic<br>oil<br>onion<br>pork<br>potato<br>raisin<br>salt pepper<br>sugar<br>tomato sauce"
          ],
          [
           "bread crumb<br>chicken<br>garlic<br>oil<br>onion<br>pepper<br>salt<br>sugar<br>vinegar"
          ],
          [
           "cornstarch<br>flour<br>garlic powder<br>oil<br>pepper<br>salt<br>tilapia<br>wine"
          ],
          [
           "egg<br>flour<br>oil<br>pepper<br>pork<br>rice<br>salt"
          ],
          [
           "banana ketchup<br>garlic powder<br>lime<br>pepper<br>salt<br>scallion<br>soy sauce<br>squid<br>sugar"
          ],
          [
           "annatto oil<br>beef<br>chili<br>chili pepper<br>fish sauce<br>jackfruit<br>onion<br>plum tomato<br>sampaloc"
          ],
          [
           "chili<br>lime<br>pepper<br>soy sauce<br>sugar<br>tuna"
          ],
          [
           "chili<br>coconut milk<br>crab<br>oil<br>onion<br>pepper<br>shrimp<br>spinach"
          ],
          [
           "basil<br>cheese<br>grape tomato<br>oil<br>spaghetti<br>sun tomato"
          ],
          [
           "duck egg<br>garlic<br>oil<br>onion<br>plum tomato<br>rice<br>salt<br>tinapa"
          ],
          [
           "bean<br>coconut milk<br>fish sauce<br>oil<br>onion<br>pepper<br>pork"
          ],
          [
           "butter<br>egg<br>oil<br>onion<br>pepper<br>plum tomato<br>salt<br>spinach"
          ],
          [
           "carrot<br>egg<br>garlic powder<br>lumpia wrapper<br>oil<br>onion<br>pepper<br>pork<br>salt"
          ],
          [
           "fish<br>kamote<br>knob ginger<br>onion<br>salt<br>tomato"
          ],
          [
           "beef<br>beef broth<br>cabbage<br>fish sauce<br>onion<br>peppercorn<br>potato"
          ],
          [
           "bell pepper<br>carrot<br>garlic<br>papaya<br>pepper<br>raisin<br>salt<br>sugar<br>vinegar"
          ],
          [
           "fish sauce<br>onion<br>plum tomato"
          ],
          [
           "chili pepper<br>coconut milk<br>fish<br>fish sauce<br>garlic<br>jackfruit<br>malunggay<br>oil<br>onion"
          ],
          [
           "lemongrass<br>milk<br>oil<br>onion<br>pepper<br>salt<br>scallion"
          ],
          [
           "beef<br>beef broth<br>eggplant<br>fish sauce<br>okra<br>onion<br>spinach<br>string bean<br>tomato"
          ],
          [
           "cabbage<br>egg<br>garlic<br>mung bean<br>oil<br>onion<br>pepper<br>salt<br>tofu<br>tomato"
          ],
          [
           "butter<br>carrot<br>celery<br>chicken broth<br>garlic<br>ham<br>milk<br>onion<br>salt pepper<br>turkey"
          ],
          [
           "chicken<br>chili<br>coconut cream<br>fish sauce<br>ginger<br>onion<br>pepper<br>powder"
          ],
          [
           "cabbage<br>carrot<br>chicken<br>chicken broth<br>fish sauce<br>miki pasta<br>oil<br>onion<br>pork"
          ],
          [
           "beef broth<br>butter<br>cheese<br>oil<br>onion<br>onion powder<br>salt<br>sauce"
          ],
          [
           "chicken<br>chili<br>margarine<br>onion<br>onion powder<br>pepper<br>pork<br>salt<br>sugar<br>vinegar"
          ],
          [
           "carrot<br>chicken broth<br>onion<br>parsley<br>salt pepper"
          ],
          [
           "oil<br>salt<br>sauce"
          ],
          [
           "coconut milk<br>ginger<br>oil<br>onion<br>pepper<br>shrimp<br>spinach"
          ],
          [
           "chicken<br>flour<br>garlic powder<br>oil<br>onion powder<br>pepper<br>salt"
          ],
          [
           "butter<br>garlic<br>lime<br>mussel<br>parsley<br>salt<br>wine"
          ],
          [
           "bell pepper<br>carrot<br>oil<br>onion<br>pepper<br>pork<br>salt pepper<br>tomato sauce"
          ],
          [
           "chili<br>coconut cream<br>fish sauce<br>garlic<br>ginger<br>onion<br>pepper<br>spinach<br>squid"
          ],
          [
           "bok choy<br>chicken broth<br>fish sauce<br>garlic<br>oil<br>onion<br>pepper<br>pork"
          ],
          [
           "banana ketchup<br>garlic powder<br>juice lemon<br>pepper<br>pork<br>salt<br>soy sauce<br>sugar"
          ],
          [
           "beef broth<br>oil<br>onion<br>pea<br>pepper<br>pork<br>salt pepper<br>tomato sauce"
          ],
          [
           "dijon mustard<br>dill<br>egg<br>mayonnaise<br>paprika"
          ],
          [
           "chili<br>garlic<br>ginger<br>onion<br>pork<br>shrimp"
          ],
          [
           "beef broth<br>cheese<br>garlic<br>luncheon<br>oil<br>onion<br>pork<br>salt pepper<br>spaghetti pasta<br>spaghetti sauce"
          ],
          [
           "beef broth<br>carrot<br>chorizo<br>egg<br>flour<br>oil<br>pickle<br>salt pepper<br>soy sauce<br>steak"
          ],
          [
           "chili pepper<br>fish<br>fish sauce<br>okra<br>onion<br>pepper<br>spinach<br>tomato"
          ],
          [
           "beef<br>fish sauce<br>garlic powder<br>onion<br>peppercorn"
          ],
          [
           "banana<br>corn starch<br>egg<br>oil<br>pepper<br>pork<br>rice<br>salt<br>sugar<br>vinegar"
          ],
          [
           "apple vinegar<br>chili<br>oil<br>onion<br>salt pepper<br>soy sauce<br>sugar<br>tofu"
          ],
          [
           "apple vinegar<br>buttermilk<br>cream<br>dill<br>garlic powder<br>mayonnaise<br>pepper<br>salt<br>sriracha sauce"
          ],
          [
           "bell pepper<br>chicken broth<br>egg<br>fish sauce<br>oil<br>onion<br>parsley<br>pepper<br>plum tomato<br>scallion"
          ],
          [
           "cheese<br>egg<br>garlic powder<br>mussel<br>onion powder<br>parsley<br>pepper<br>pork<br>salt"
          ],
          [
           "fish<br>fish sauce<br>kangkong<br>miso<br>okra<br>onion<br>pepper<br>string bean<br>tomato"
          ],
          [
           "buttermilk<br>chili<br>fish sauce<br>ginger<br>goat<br>onion<br>tamarind"
          ],
          [
           "chili<br>coconut cream<br>coconut milk<br>ginger<br>onion<br>pork<br>shrimp"
          ],
          [
           "baking potato<br>bell pepper<br>buttermilk<br>carrot<br>goat<br>oil<br>onion<br>salt pepper"
          ],
          [
           "fish sauce<br>malunggay<br>oil<br>onion<br>papaya<br>parsley<br>pepper"
          ],
          [
           "beef<br>cornstarch<br>oil<br>onion<br>oyster sauce<br>peas<br>salt pepper<br>soy sauce"
          ],
          [
           "cane vinegar<br>chili<br>cucumber<br>onion<br>pepper<br>pork<br>salt<br>sugar"
          ],
          [
           "chili pepper<br>fish<br>fish sauce<br>garlic<br>oil<br>onion<br>pepper<br>tomato"
          ],
          [
           "chili<br>coconut milk<br>fish<br>fish sauce<br>ginger<br>malunggay<br>oil<br>onion<br>papaya<br>pepper"
          ],
          [
           "chicken broth<br>cornstarch<br>egg<br>ginger<br>onion<br>salt"
          ],
          [
           "egg<br>garlic powder<br>oil<br>onion<br>pea<br>rice<br>salt"
          ],
          [
           "baking potato<br>beef<br>beef broth<br>oil<br>onion<br>parsley<br>salt pepper"
          ],
          [
           "butter<br>cabbage<br>carrot<br>celery<br>chicken<br>chicken broth<br>milk<br>onion<br>pasta<br>salt pepper"
          ],
          [
           "cheese<br>onion<br>pasta<br>salt pepper"
          ],
          [
           "bay leaf<br>oil<br>peppercorn<br>salt"
          ],
          [
           "butter<br>cheese<br>garlic<br>oil<br>oregano<br>pepper<br>spaghetti pasta"
          ],
          [
           "fish<br>garlic<br>mung bean<br>oil<br>onion<br>pepper<br>spinach<br>tomato"
          ],
          [
           "basil<br>cheese<br>marinara sauce<br>salt pepper<br>sausage<br>spaghetti pasta"
          ],
          [
           "garlic powder<br>pepper<br>soy sauce<br>sugar"
          ],
          [
           "bell pepper<br>butter<br>rice<br>saffron<br>salt"
          ],
          [
           "bread crumb<br>garlic<br>lemon juice<br>mussel<br>oil<br>onion<br>parsley<br>plum tomato<br>tomato"
          ],
          [
           "chili pepper<br>coconut milk<br>fish sauce<br>garlic<br>jackfruit<br>oil<br>onion<br>pepper<br>pork"
          ],
          [
           "chicken<br>egg<br>garlic powder<br>mirin<br>rice<br>sesame seed<br>soy sauce<br>sugar"
          ],
          [
           "bread crumb<br>carrot<br>egg<br>garlic powder<br>onion<br>paprika<br>pepper<br>pork<br>salt"
          ],
          [
           "butter<br>chicken<br>egg<br>garlic powder<br>oil<br>pea<br>rice<br>salt"
          ],
          [
           "carrot<br>crab<br>egg<br>oil<br>onion<br>pepper<br>pork<br>salt<br>sesame oil"
          ],
          [
           "beef<br>cinnamon powder<br>garlic powder<br>ginger powder<br>ice<br>pepper<br>salt<br>sugar"
          ],
          [
           "coconut milk<br>fish sauce<br>garlic<br>ginger<br>oil<br>onion<br>pepper<br>shrimp<br>spinach"
          ],
          [
           "chili<br>oil<br>onion<br>pepper<br>salt<br>wine vinegar"
          ],
          [
           "bean<br>beef<br>beef broth<br>oil<br>onion<br>salt pepper"
          ],
          [
           "beef<br>butter<br>cheese<br>cream<br>pasta<br>pepper<br>salt<br>scallion<br>tomato sauce"
          ],
          [
           "bread crumb<br>cheese<br>garlic powder<br>lemon<br>oil<br>parsley"
          ],
          [
           "bottle bitter gourd<br>egg<br>garlic powder<br>oil<br>onion<br>salt pepper<br>shrimp<br>wonton wrapper"
          ],
          [
           "banana ketchup<br>lemon<br>oil<br>pepper<br>pork<br>salt<br>soy sauce<br>sugar"
          ],
          [
           "banana ketchup<br>garlic powder<br>oil<br>onion<br>salt pepper"
          ],
          [
           "breadcrumb<br>cheese<br>egg<br>flour<br>marinara sauce<br>oil<br>oregano<br>pepper<br>salt"
          ],
          [
           "basil<br>cheese<br>chicken<br>egg yolk<br>lemon<br>oil<br>parsley<br>salt pepper<br>spaghetti pasta<br>whipping cream"
          ],
          [
           "chili powder<br>garlic powder<br>miki pasta<br>vegetable oil"
          ],
          [
           "cane<br>onion<br>peppercorn<br>radish<br>salt<br>sugar"
          ],
          [
           "bottle bitter gourd<br>oil<br>onion<br>pasta<br>salt pepper"
          ],
          [
           "chicken<br>chicken broth<br>garlic<br>ginger<br>oil<br>onion<br>patis<br>rice<br>tofu"
          ],
          [
           "celery<br>dijon mustard<br>dill<br>egg<br>mayonnaise<br>onion<br>salt pepper<br>sugar"
          ],
          [
           "beef steak<br>onion<br>pepper<br>rice vinegar<br>salt<br>sesame oil<br>sesame seed<br>soy sauce<br>sugar<br>tofu"
          ],
          [
           "chili pepper<br>coconut milk<br>fish sauce<br>garlic<br>malunggay<br>oil<br>onion<br>pepper<br>squid"
          ],
          [
           "lemon juice<br>oil<br>onion<br>parsley<br>salt pepper<br>tuna"
          ],
          [
           "flour<br>garlic powder<br>oil<br>pepper<br>salt"
          ],
          [
           "butter<br>chicken<br>corn<br>ginger<br>lemon<br>pepper<br>salt<br>sesame oil<br>soy sauce<br>sugar"
          ],
          [
           "butter<br>fish<br>honey<br>mustard powder<br>pepper<br>salt<br>vinegar"
          ],
          [
           "basil<br>beef<br>chili<br>fish sauce<br>garlic<br>oil<br>pepper<br>sugar"
          ],
          [
           "garlic powder<br>ginger<br>hoisin sauce<br>lemon juice<br>oil<br>salmon<br>soy sauce<br>sriracha sauce"
          ],
          [
           "chicken<br>garlic<br>oil<br>onion<br>oyster sauce<br>salt pepper<br>soy sauce<br>string bean"
          ],
          [
           "butter<br>pork<br>salt pepper<br>vegetable"
          ],
          [
           "lemon juice<br>salt pepper<br>soy sauce<br>squid<br>sriracha sauce<br>sugar"
          ],
          [
           "almond<br>celery<br>cream<br>mayonnaise<br>onion<br>pickle<br>potato<br>powder<br>salt pepper"
          ],
          [
           "butter<br>cheese<br>chicken<br>chicken broth<br>flour<br>juice lemon<br>oil<br>parsley<br>pepper"
          ],
          [
           "cheese<br>chicken<br>pepper<br>salt<br>sun tomato"
          ],
          [
           "beef<br>carrot<br>celery<br>flour<br>oil<br>onion<br>pepper<br>potato<br>salt<br>wine"
          ],
          [
           "carrot<br>cornstarch<br>oil<br>onion<br>pepper<br>pork<br>salt<br>spice powder"
          ],
          [
           "fish sauce<br>garlic<br>oil<br>onion<br>pasta<br>patola<br>salt pepper<br>tomato sauce"
          ],
          [
           "coconut milk<br>fish sauce<br>garlic<br>knob ginger<br>onion<br>pepper<br>serrano pepper"
          ],
          [
           "cornstarch<br>lemon<br>oil<br>onion<br>salt pepper<br>sesame oil<br>sesame seeds<br>soy sauce<br>steak<br>sugar"
          ],
          [
           "egg<br>fish sauce<br>flour<br>oil<br>onion<br>pepper<br>salt<br>scallion<br>tilapia<br>tomato"
          ],
          [
           "beef<br>beef broth<br>fish sauce<br>oil<br>onion<br>pasta<br>pepper<br>quail egg<br>zucchini"
          ],
          [
           "dijon mustard<br>garlic powder<br>oil<br>salt pepper<br>spinach<br>vinegar<br>walnut"
          ],
          [
           "flour<br>oil<br>salmon<br>salt<br>soy sauce<br>sugar"
          ],
          [
           "bitter gourd<br>onion<br>pepper<br>roma tomato<br>salt<br>sugar<br>vinegar"
          ],
          [
           "chayote<br>fish sauce<br>oil<br>onion<br>pepper"
          ],
          [
           "bell pepper<br>broccoli<br>carrot<br>oil<br>rice<br>salt"
          ],
          [
           "oil<br>onion<br>pepper<br>pineapple<br>pork<br>rosemary<br>salt<br>soy sauce<br>sugar"
          ],
          [
           "carrot<br>celery<br>chicken<br>onion<br>pepper<br>salt"
          ],
          [
           "apple<br>chicken<br>lemon juice<br>mayonnaise<br>salt pepper"
          ],
          [
           "bok choy<br>fish<br>fish sauce<br>ice<br>onion<br>pepper<br>salt<br>scallion<br>vegetable broth"
          ],
          [
           "carrot<br>celery<br>egg pasta<br>onion<br>salt pepper<br>turkey"
          ],
          [
           "banana ketchup<br>barbecue sauce<br>beef rib<br>garlic powder<br>juice lime<br>pepper<br>salt<br>soy sauce<br>sugar"
          ],
          [
           "chicken<br>egg<br>flour<br>garlic powder<br>oil<br>pepper<br>pineapple<br>salt<br>salt pepper<br>soy sauce"
          ],
          [
           "cornstarch<br>egg<br>flour<br>garlic powder<br>mussel<br>oil<br>pepper<br>salt"
          ],
          [
           "bay leaf<br>cornstarch<br>flour<br>garlic<br>oil<br>pepper<br>peppercorn<br>sherry<br>soy sauce<br>wine vinegar"
          ],
          [
           "egg<br>garlic<br>garlic rice<br>oil<br>pepper<br>pork<br>salt<br>soy sauce<br>sugar"
          ],
          [
           "bell pepper<br>carrot<br>cornstarch<br>oil<br>onion<br>pineapple<br>salt pepper<br>sugar<br>tomato ketchup<br>vinegar"
          ],
          [
           "chicken<br>chili powder<br>egg<br>flour<br>garlic powder<br>oil<br>pepper<br>salt"
          ],
          [
           "bell pepper<br>garlic powder<br>oil<br>onion<br>salt pepper<br>squash"
          ],
          [
           "garlic powder<br>ginger powder<br>pork<br>salt pepper<br>sesame oil<br>sesame seeds<br>soy sauce<br>sugar"
          ],
          [
           "bread crumb<br>egg<br>flour<br>garlic powder<br>oil<br>paprika<br>pepper<br>salt<br>shrimp"
          ],
          [
           "butter<br>chicken<br>garlic powder<br>paprika<br>pepper<br>salt"
          ],
          [
           "bean<br>chili<br>coconut milk<br>oil<br>onion<br>pepper<br>pork<br>shrimp"
          ],
          [
           "broccoli<br>butter<br>carrot<br>cauliflower<br>garlic powder<br>onion powder<br>rice<br>salt<br>soy sauce"
          ],
          [
           "beef broth<br>butter<br>cream<br>flour<br>garlic<br>garlic powder<br>oil<br>onion<br>pork<br>salt pepper"
          ],
          [
           "beef<br>broccoli<br>cornstarch<br>oil<br>oyster sauce<br>pepper<br>salt"
          ],
          [
           "chili<br>coconut milk<br>fish sauce<br>ginger<br>oil<br>onion<br>pepper"
          ],
          [
           "baking potato<br>cheese<br>garlic powder<br>oil<br>parsley<br>salt"
          ],
          [
           "breadcrumb<br>butter<br>dijon mustard<br>egg<br>garlic<br>lemon juice<br>mayonnaise<br>oil<br>pepper<br>salt"
          ],
          [
           "chili<br>coconut cream<br>coconut milk<br>fish<br>ginger<br>onion<br>pork<br>salt pepper"
          ],
          [
           "butter<br>celery<br>chicken broth<br>flour<br>ham<br>milk<br>onion<br>potato<br>salt pepper<br>spring onion"
          ],
          [
           "carrot<br>cornstarch<br>onion<br>peas<br>salt pepper<br>soy sauce<br>tofu<br>vegetable oil"
          ],
          [
           "beef<br>pork<br>potato<br>salt pepper"
          ],
          [
           "butter<br>clam juice<br>onion<br>pork<br>potato<br>salt pepper<br>thyme"
          ],
          [
           "butter<br>clam juice<br>lemon juice<br>linguine<br>oil<br>parsley<br>salt pepper<br>shrimp<br>wine"
          ],
          [
           "beef<br>bell pepper<br>butter<br>cheese<br>onion<br>salt<br>soy sauce"
          ],
          [
           "cheese<br>garlic powder<br>grape tomato<br>lemon juice<br>pepper<br>salmon<br>salt"
          ],
          [
           "cabbage<br>carrot<br>egg<br>garlic powder<br>ginger<br>oil<br>pork<br>soy sauce"
          ],
          [
           "baking potato<br>cheese<br>cream<br>garlic powder<br>oil<br>onion<br>paprika<br>pepper<br>pork<br>salt"
          ],
          [
           "carrot<br>chicken<br>chicken broth<br>napa cabbage<br>onion<br>pig<br>pork"
          ],
          [
           "hoisin sauce<br>honey<br>oyster sauce<br>pork<br>sesame oil<br>sherry<br>soy sauce<br>sugar"
          ],
          [
           "bean<br>beef<br>cream<br>lettuce<br>oil<br>salt pepper<br>tomato"
          ],
          [
           "bitter gourd<br>bread<br>carrot<br>egg<br>garlic powder<br>onion<br>paprika<br>pepper<br>pork<br>salt"
          ],
          [
           "bean<br>chicken<br>chicken broth<br>eggplant<br>fish sauce<br>oil<br>onion<br>spinach<br>tamarind<br>tomato"
          ],
          [
           "butter<br>chicken wing<br>chili powder<br>flour<br>garlic powder<br>oil<br>paprika<br>pepper<br>salt<br>sauce"
          ],
          [
           "chili<br>coconut milk<br>oil<br>onion<br>pepper<br>shrimp"
          ],
          [
           "bread<br>chicken<br>dijon mustard<br>lemon juice<br>mayonnaise<br>oil<br>onion<br>pepper<br>salt<br>soy sauce"
          ],
          [
           "calabaza squash<br>chicken broth<br>garlic powder<br>onion<br>parsley<br>pepper<br>salt<br>whipping cream"
          ],
          [
           "coconut milk<br>crab<br>fish sauce<br>oil<br>onion<br>pepper<br>string bean"
          ],
          [
           "beef<br>beef broth<br>butter<br>onion<br>pepper<br>potato<br>salt<br>soy sauce<br>vegetable"
          ],
          [
           "chicken<br>chicken broth<br>coconut<br>fish sauce<br>knob ginger<br>oil<br>onion<br>papaya<br>pepper"
          ],
          [
           "beef broth<br>bell pepper<br>garlic<br>oil<br>onion<br>pea<br>pork<br>salt pepper<br>tomato"
          ],
          [
           "cream cheese<br>oil<br>onion<br>salt pepper<br>shrimp<br>spaghetti pasta<br>thyme<br>tomato"
          ],
          [
           "butter<br>garlic powder<br>lemon juice<br>pork"
          ],
          [
           "onion<br>pork<br>shrimp<br>sugar<br>tomato<br>vinegar"
          ],
          [
           "anchovy<br>banana ketchup<br>chili sauce<br>oil<br>sugar"
          ],
          [
           "cheese<br>chicken<br>oil<br>onion<br>pepper<br>salt<br>spinach<br>thyme"
          ],
          [
           "beef<br>butter<br>corn<br>cream mushroom soup<br>garlic powder<br>mushroom<br>pepper<br>salt"
          ],
          [
           "basil<br>chicken<br>chicken broth<br>cream<br>oil<br>pasta<br>pepper<br>salt"
          ],
          [
           "baking potato<br>egg<br>flour<br>garlic powder<br>oil<br>onion powder<br>paprika<br>pepper<br>salt"
          ],
          [
           "beef broth<br>butter<br>flour<br>garlic powder<br>pepper<br>pork<br>rice<br>salt<br>vegetable"
          ],
          [
           "egg<br>fish sauce<br>miki pasta<br>oil<br>onion<br>pepper<br>pig<br>pork<br>soy sauce"
          ],
          [
           "apple<br>celery<br>chicken broth<br>cream<br>mayonnaise<br>pepper<br>salt<br>walnut"
          ],
          [
           "bok choy<br>ginger<br>oyster sauce<br>sesame oil<br>soy sauce<br>sugar<br>vegetable oil"
          ],
          [
           "buttermilk<br>chicken<br>flour<br>garlic powder<br>oil<br>onion powder<br>paprika<br>pepper<br>salt"
          ],
          [
           "basil<br>butter<br>cheese<br>oil<br>pepper<br>salt<br>spaghetti pasta<br>whipping cream"
          ],
          [
           "chicken<br>chicken broth<br>fish sauce<br>knob ginger<br>pork<br>spinach"
          ],
          [
           "butter<br>cabbage<br>carrot<br>celery<br>chicken<br>chicken broth<br>onion<br>pasta<br>salt pepper"
          ],
          [
           "annatto<br>carrot<br>celery<br>chicken<br>fish sauce<br>oil<br>onion<br>pasta<br>peppercorn"
          ],
          [
           "bell pepper<br>egg<br>oil<br>onion<br>pea<br>pepper<br>pork<br>salt<br>tomato"
          ],
          [
           "pork<br>rice wine<br>salt<br>soy sauce<br>spice powder<br>sugar"
          ],
          [
           "carrot<br>egg<br>oil<br>onion<br>pork<br>potato<br>salt pepper<br>sugar<br>tomato sauce"
          ],
          [
           "carrot<br>crab<br>egg<br>oil<br>onion<br>pepper<br>pork<br>salt<br>sesame oil<br>wonton wrapper"
          ],
          [
           "carrot<br>fish sauce<br>oil<br>onion<br>pepper<br>shrimp<br>spring wrapper<br>tofu"
          ],
          [
           "cheese<br>egg yolk<br>lemon juice<br>lettuce<br>oil<br>pepper<br>salt<br>soy sauce"
          ],
          [
           "egg<br>fish sauce<br>onion<br>pepper<br>tilapia<br>tomato"
          ],
          [
           "cornstarch<br>egg<br>lemon<br>milk<br>oil<br>salt"
          ],
          [
           "cream<br>lemon juice<br>mayonnaise<br>onion<br>salt<br>shrimp<br>sugar"
          ],
          [
           "cream<br>cream cheese<br>dill<br>egg<br>mustard powder<br>onion<br>paprika<br>salmon<br>salt"
          ],
          [
           "beef<br>bread<br>celery<br>egg<br>mustard powder<br>onion<br>salt<br>soy sauce<br>tomato<br>tomato ketchup"
          ],
          [
           "beef<br>carrot<br>cheese<br>dill<br>egg<br>lemon<br>oil<br>salt<br>soy sauce"
          ],
          [
           "bell pepper<br>carrot<br>ginger<br>onion<br>papaya<br>peppercorn<br>raisin<br>salt<br>sugar<br>vinegar"
          ],
          [
           "butter<br>crab<br>egg<br>onion<br>salt pepper"
          ],
          [
           "beef<br>cabbage<br>egg<br>egg pasta<br>garlic<br>oil<br>onion<br>salt pepper<br>star anise"
          ],
          [
           "chili<br>coconut milk<br>crab<br>fish sauce<br>ginger<br>oil<br>onion<br>pepper<br>shrimp<br>spinach"
          ],
          [
           "bok choy<br>fish sauce<br>onion<br>pork<br>tomato"
          ],
          [
           "banana<br>bell pepper<br>cinnamon powder<br>garlic<br>onion<br>paprika<br>salt<br>sugar<br>vinegar"
          ],
          [
           "bean<br>cornstarch<br>egg<br>fish<br>oil<br>onion<br>parsley"
          ],
          [
           "banana ketchup<br>cheese<br>oil<br>onion<br>pork<br>salt<br>spaghetti<br>sugar<br>tomato sauce"
          ],
          [
           "bean<br>chicken<br>chili<br>cornstarch<br>ginger<br>oil<br>onion<br>oyster sauce<br>soy sauce<br>sugar"
          ],
          [
           "cabbage<br>carrot<br>celery<br>chicken<br>onion<br>pancit pasta<br>peas<br>pork<br>soy sauce"
          ],
          [
           "beef broth<br>oil<br>pineapple<br>pineapple juice<br>pork<br>soy sauce<br>sugar"
          ]
         ],
         "hovertemplate": "<b>%{hovertext}</b><br><br>cluster=5<br>x=%{x}<br>y=%{y}<br>cleaned_ingredients=%{customdata[0]}<extra></extra>",
         "hovertext": [
          "Adobong Sitaw with Pork",
          "Longganisa",
          "Chicken Bistek",
          "Tinolang Palaka",
          "Dinengdeng na Saluyot at Labong",
          "Teriyaki Salmon",
          "Halabos na Hipon",
          "Pinsec Frito",
          "Lumpiang Puso ng Saging",
          "Tortang Tahong",
          "Cardillong Isda",
          "Ukoy na Dilis",
          "Pork Estofado",
          "Bulalo Mami",
          "Ginisang Ampalaya at Hipon",
          "Asian Vegetable Stir-fry",
          "Skinless Longganisa",
          "Eggplant with Spicy Garlic Sauce",
          "Salted Eggs Shrimp",
          "Kangkong and Tofu with Oyster Sauce",
          "Crispy Pork Binagoongan",
          "Green Bean and Shrimp Stir-fry",
          "Adobong Talaba",
          "Toyomansi Pork Chops",
          "Picadillo",
          "Korean Ground Beef",
          "How to Make Ginisang Bagoong",
          "Chicken Bicol Express",
          "Rellenong Hipon",
          "Ginisang Repolyo",
          "Ginisang Pechay",
          "Sinampalukang Kambing",
          "Coconut Curry Salmon",
          "Gising Gising with Bangus",
          "Crispy Fried Smelt Fish",
          "Binagoongan Fried Rice",
          "Lugaw at Tokwa",
          "Banana Meat",
          "Filipino Mango and Tomato Salad",
          "Ulo-Ulo Salmon",
          "Paksiw na Bangus",
          "Instant Pot Chicken Adobo",
          "Banana-Wrapped Salay-Salay Fish",
          "Coconut Lime Chicken",
          "Chinese Boiled Peanuts",
          "Lemongrass Roasted Chicken",
          "Ginataang Munggo at Baboy",
          "Ginisang Munggo at Chicharon (Mung Bean Soup with Pork Cracklings)",
          "Sotanghon at Upo Soup",
          "Gising Gising",
          "Adobong Itlog",
          "Tomato, Grilled Eggplant and Salted Egg Salad",
          "Korean BBQ Bulgogi",
          "Crispy Breaded Shrimp",
          "Crispy Chicken Livers a la Bistek",
          "Sesame Chicken",
          "Tamarind Chicken Wings",
          "Steamed Lapu Lapu with Mayonnaise",
          "Escabeche Lapu Lapu",
          "Sizzling Gambas",
          "Adobong Manok sa Patis",
          "Lechon Manok",
          "Sizzling Tofu",
          "Dinuguan",
          "Pinangat na Pompano",
          "Hoisin-Glazed Salmon",
          "Arroz Caldong Paa ng Manok (Congee with Chicken Feet)",
          "Crispy Soy Chicken",
          "Pininyahang Pork",
          "Pork Guisantes",
          "Plum Sauce Chicken Lollipops",
          "Sizzling Balut",
          "Filipino-style Barbecue Chicken",
          "Binagoongan Baboy",
          "Bistek Tagalog (Filipino Beef Steak)",
          "Chicken Rice Congee",
          "Asian Cucumber Tomato Avocado Salad",
          "Ginisang Upo with Pork",
          "Bangus Sisig",
          "Homemade Fish Balls with Spicy Fish Ball Sauce",
          "Daing na Bangus",
          "Salt and Pepper Pork Chops",
          "Dynamite Lumpia",
          "Java Rice",
          "Chicken Tocino",
          "Nilagang Baboy",
          "Relyenong Bangus",
          "Salt and Pepper Shrimp",
          "Sinabawang Tahong",
          "Bagis",
          "Pesang Dalag",
          "Tilapia in Black Bean Garlic Sauce",
          "Crispy Pancit Canton Noodles Recipe",
          "One Pot Spaghetti",
          "Seafood Lomi Recipe",
          "Pinoy Carbonara Recipe with Ham and Bacon",
          "Pork Belly Asado",
          "Kare Kare Buntot ng Baka",
          "Butter Garlic Fried Chicken",
          "Ginataang Sitaw at Kalabasa with Fried Tilapia",
          "Pinoy Burger Steak Recipe",
          "Pineapple Fried Rice",
          "Cheesy Ham Steak with Bacon and Mushroom",
          "Corned Beef Saute",
          "Christmas Chicken Curry",
          "Garlic Pepper Beef",
          "Seafood Boil",
          "Pinoy Chicken Sopas",
          "Filipino Style Beef Steak",
          "Lemon Garlic Shrimp Pasta",
          "Malapot na Pininyahang Manok",
          "Filipino Style Pork and Chicken Barbecue",
          "Healthy Ginataang Gulay with Tofu and Shrimp",
          "Ginataang Monggo with Tofu and Malunggay",
          "Arroz Caldo Recipe",
          "Pata Estofado Recipe",
          "Chicken Barbecue",
          "Ginisang Munggo (Monggo)",
          "Nilagang Baka Recipe",
          "Easy Utan Bisaya (Law-Uy)",
          "Pata Tim Recipe",
          "Pork Ribs Binagoongan with Talong",
          "How to Cook Crispy Eggplant Fries",
          "Beef Stroganoff",
          "Tuscan Salmon",
          "Pata Kare Kare Recipe",
          "Pininyahang Manok",
          "Arroz Palabok",
          "Creamy Lengua with Corn",
          "Bulalo Kare-Kare",
          "Sinantomas",
          "Corned Beef Lomi Batangas Style",
          "Tortang Noodles at Sardinas",
          "Sardines Fish Ball with Sweet and Sour Sauce",
          "Low-Carb Breaded Pinatisang Baboy",
          "Shrimp Laing Recipe",
          "Chicken Caldereta Recipe",
          "Creamy Garlic Parmesan Chicken with Mushrooms",
          "Easy Palabok Recipe",
          "Ham and Egg Fried Rice with Sweet Peas",
          "Beef Stroganoff",
          "Pork Barbecue",
          "Beef Tripe Kare Kare",
          "Quick and Easy Fried Chicken",
          "Chicken Bicol Express",
          "Homemade Kalabasa and Corned Beef Nuggets",
          "Nilagang Manok Recipe",
          "Chicken Adobo Fried Rice and Tortang Corned Beef",
          "Pork Lomi",
          "Ginataang Bitsuelas",
          "Creamy Lengua in White Sauce",
          "Creamy Garlic Salmon",
          "Seared Shrimp Macaroni Salad with Roasted Bell Pepper",
          "Crispy Fried Chicken",
          "Pinoy Pork Barbeque",
          "Pork Adobo in Pineapple Juice with Boiled Eggs",
          "Deep Fried Siomai",
          "Ginataang Manok and Kalabasa",
          "Carbonara Recipe Filipino Style",
          "Chicken ala King Recipe",
          "Buffalo Chicken Wings Recipe with Sauce",
          "Tortang Tuna with Spinach - Omelet Recipe",
          "Ginisang Upo with Ground Pork and Shrimp",
          "Ketogenic Bacon and Egg Salad",
          "Breakfast T-Bone Steak with Fried Eggs",
          "Calderetang Baboy Recipe",
          "Oxtail Soup Recipe",
          "Crispy Bicol Express",
          "Classic Macaroni Salad Recipe",
          "Paksiw na Salmon sa Gata",
          "Tuna Sisig",
          "Ginisang Upo with Sardinas",
          "Salted Egg Prawns",
          "Ginataang Monggo with Pork Recipe",
          "Popcorn Chicken Recipe",
          "Chicken Mami",
          "Sauteed Green Beans with Ground Beef",
          "Home Fries Recipe",
          "Pork Ginataan",
          "Eggplant Omelette",
          "Bacon Wrapped Sea Scallop",
          "Rosemary Crusted Roast Rack of Lamb",
          "Spanish Sardines Pasta with Sun Dried Tomato and Chopped Olives",
          "Stuffed Beef and Pork Burger Patties",
          "Paella Negra (Arroz Negre) Recipe",
          "Crispy Fried Mahi Mahi Sarciado",
          "Homemade Cured Ham with Brown Sugar Honey Glaze",
          "Noche Buena Lumpiang Shanghai",
          "Tonkatsu Sinangag at Itlog",
          "Buffalo Pork Ribs Recipe",
          "BBQ Chicken Wrap",
          "How to Make Kimchi at Home",
          "Grilled Liempo with Fried Tofu",
          "Spicy Monggo with Tinapa",
          "Ma Po Tofu Recipe",
          "Fried Galunggong with Salted Egg and Tomato Salad",
          "Inihaw na Galunggong with Ensaladang Talong",
          "Kilawing Tuna with Coconut Cream (Fish Ceviche)",
          "Beef Short Rib Kare Kare",
          "Sizzling Tofu",
          "Ham and Hotdog Omelet with Cheese",
          "Sweet and Sour Red Snapper",
          "Filipino Style Pork BBQ",
          "Chicken Arroz Caldo Recipe",
          "Shrimp Pancit Bihon Recipe",
          "Spicy Wonton Soup Recipe",
          "Monggo with Hibi (Mung beans with small dried shrimp)",
          "Pesang Baboy at Manok Recipe",
          "Sinabawang Corned Beef",
          "Tuna in Can Sarciado",
          "Seafood Bicol Express",
          "Chicken Soup with Misua and Patola",
          "Special Longanisa Fried Rice Recipe",
          "Simple Chicken Noodle Soup",
          "Baked Tahong with Butter Cheese and Roasted Garlic Recipe",
          "Spicy Ginataang Baboy with Papaya and Malunggay",
          "Tinola Chicken Mami",
          "Tinolang Manok sa Gata",
          "Classic Tinolang Manok Recipe",
          "How To Cook Beef Kaldereta",
          "Spicy Camaron Rebosado (Deep Fried Beer Battered Shrimp)",
          "Corned Beef Fried Rice with Egg",
          "Chicken Afritada with Bell Pepper",
          "Fiesta Menudo",
          "Lechon Manok Sauce Recipe",
          "Nilasing na Tilapia Recipe",
          "Oven Baked Pork Chop Silog with Atchara",
          "Inihaw na Pusit with Scallion",
          "Cansi Recipe (Ilonggo Bulalo and Sinigang in one Delicious Soup Dish)",
          "Inihaw na Panga ng Tuna (Grilled Tuna Jaw)",
          "Crawfish in Coconut Milk with Spinach",
          "Fresh Basil and Sun Dried Tomato Spaghetti Pasta",
          "Tinapa Fried Rice (Smoked Fish Fried Rice)",
          "Sigarilyas Gising gising Recipe",
          "Scrambled Eggs with Tomato, Onion, and Spinach",
          "How to Cook Lumpia",
          "Sinabawang Isda at Gulay",
          "Nilagang Litid ng Baka",
          "How to Cook Papaya Atchara",
          "Kinamatisang Isda (Red Snapper with Tomatoes)",
          "Ginataang Langka with Malunggay and Daing",
          "Roasted Pork Belly (Lechon Liempo)",
          "Beef Sinigang sa Kamias with Gabi (Beef in Sour Broth with Taro)",
          "Lumpiang Gulay (Vegetable Egg Roll Recipe)",
          "Turkey and Ham Sopas",
          "Spicy Chicken in Coconut Milk (Ginataang Manok)",
          "Pinoy Chicken Noodle Soup",
          "Breakfast Sausage Hash",
          "Crispy Pata Sisig Recipe",
          "Simple Recipe for Chicken Noodle Soup",
          "Sweet and Sour Pompano",
          "Apple Snails in Coconut Milk (Ginataang Kuhol)",
          "Pinoy Style Fried Chicken",
          "Drunken Mussels Recipe",
          "Pork Giniling Kaldereta Recipe",
          "Dried Squid in Coconut Milk",
          "Bok Choy Guisado Recipe",
          "Filipino Skewered Pork BBQ",
          "Dutch Oven Pork Stew Recipe",
          "Deviled Egg Recipe",
          "Laing with Shrimp Recipe",
          "Filipino Style Spaghetti",
          "Beef Morcon Recipe",
          "Sinigang na Bangus sa Bayabas",
          "Slow Cooked Beef Lauya Soup Recipe",
          "Pork Tapa with Fried Banana and Salted Egg",
          "Tokwa and Tuna Recipe",
          "Homemade Ranch Dressing Recipe",
          "Sarciadong Itlog Recipe",
          "Relyenong Tahong (Stuffed Mussels)",
          "Sinigang na Isda sa Kamias with Miso",
          "Sinampalukang Kambing",
          "Laing Recipe",
          "Kalderetang Kambing (Goat Stew)",
          "Ginisang Papaya",
          "Beef in Oyster Sauce with Snow Peas",
          "Pork Kilawin",
          "Sarciadong Daing",
          "Ginataang Papaya",
          "Egg Drop Soup",
          "Fried Rice",
          "Corned Beef and Potato Casserole",
          "Filipino Chicken Macaroni Sopas",
          "How to Make Lasagna",
          "Chicharon Bulaklak Recipe",
          "Garlic Shrimp Pasta",
          "Monggo Guisado Recipe",
          "Italian Sausage Pasta Recipe",
          "Grilled Ahi Tuna Recipe",
          "Saffron Rice Recipe",
          "Grilled Mussels Recipe",
          "Ginataang Langka with Pork Recipe",
          "Chicken Teriyaki, Brown Rice, and Sunny Side Up Egg Recipe",
          "Pork Burger Patties",
          "Chicken Egg Fried Rice Recipe",
          "Crab and Pork Shumai Recipe",
          "Brined Roast Beef",
          "Snails with Spinach in Coconut Milk Recipe",
          "Chicken Pita",
          "Papis Recipe",
          "Sour Cream Noodle Bake",
          "Panko Parmesan Crusted Halibut",
          "Panara Recipe (Deep Fried Shrimp Wonton)",
          "Inihaw na Pork Chop",
          "Sauteed Onion and Hotdog with Ketchup",
          "Eggplant Parmigiana",
          "Chicken Carbonara",
          "Shingaling Recipe",
          "Atcharang Labanos Recipe",
          "Odong Recipe",
          "Arroz Caldo with tokwa",
          "Easy Egg Salad Recipe",
          "Tokwat Baka (Fried Tofu and Grilled Beef in Vinegar Sauce)",
          "Ginataang Pusit Recipe (squid in coconut milk)",
          "Simple Tuna Recipe",
          "Fried Whiting Fish Recipe",
          "Asian Grilled Chicken and Corn",
          "Honey and Balsamic Glazed Mahi-mahi",
          "Basil Beef Recipe",
          "Hoisin Glazed Salmon",
          "Sautéed String Beans with Chicken",
          "Barbecue Pork Chop with Mixed Veggies",
          "Grilled Calamari",
          "Curried Potato Salad",
          "Chicken Piccata",
          "Chicken Pesto Pasta",
          "Slow Cooker Beef Stew",
          "Kikiam Recipe",
          "Misua with Patola and Shrimp",
          "Ginataang Galunggong Recipe",
          "Teriyaki Bistek Recipe",
          "Fish Kardilyo Recipe",
          "Misua with Ground Beef and Zucchini Soup",
          "Strawberry Mandarin and Spinach Salad in Balsamic Vinaigrette Dressing",
          "Breaded Fried Salmon Recipe",
          "Ampalaya Salad Recipe",
          "Sardines with Chayote Recipe",
          "Vegetable Fried Rice Recipe",
          "Pineapple and Soy Sauce Pork Pot Roast",
          "Chicken Soup Recipe",
          "Chicken Salad with Apples and Grapes",
          "Fish Ball Soup Recipe",
          "Turkey Noodle Soup Recipe",
          "BBQ Beef Short Ribs Recipe",
          "Pineapple Fried Chicken Recipe",
          "Deep Fried Mussels",
          "Crispy Shrimp Adobo Recipe",
          "Pork Tapsilog",
          "Easy Sweet and Sour Ikea Meatbal",
          "Popcorn Chicken",
          "Easy Grilled Vegetables",
          "Teriyaki Pork Chop Recipe",
          "Breaded Butterfly Shrimp Recipe",
          "Grilled Chicken and Corn",
          "Gising gising Recipe (Green bean with Pork in Coconut milk)",
          "Shrimp and Vegetable Fried Rice Recipe",
          "Smothered Pork Chop Recipe",
          "Beef Stir Fry with Chopped Broccoli",
          "Ginataang Hipon Recipe",
          "Baked Garlic Parmesan French Fries",
          "Dulong Fishcake",
          "Spicy Laing Recipe",
          "Ham and Potato Soup Recipe",
          "Stir Fry Tofu with Vegetables",
          "KBL (Kadyos, Baboy, at Langka) Recipe",
          "Easy Clam Chowder Recipe",
          "Shrimp Scampi Recipe",
          "Ground Beef Casserole Recipe",
          "Baked Salmon Recipe",
          "Egg Roll",
          "Baked Potato Skin Recipe",
          "Hototay Soup Recipe",
          "Barbecued Pork Char Siu",
          "Ground Beef Tostada",
          "Stuffed Ampalaya",
          "Sinampalukang Manok Recipe",
          "Buffalo Chicken Wings Recipe",
          "Mixed Seafood in Coconut Milk Recipe",
          "Asian Chicken Barbecue Submarine Sandwich",
          "Pumpkin Soup Recipe",
          "Ginataang Sitaw at Kalabasa with Crabs Recipe",
          "Shepherds Pie",
          "Chicken Binakol",
          "Pork Guisantes Recipe",
          "Shrimp Pasta in Tomato Cream Cheese Sauce Recipe",
          "Bacon wrapped Scallops in Lemon Garlic Butter Sauce",
          "Bagoong Guisado Recipe",
          "Spicy Dilis",
          "Grilled Chicken and Spinach Salad Recipe",
          "Sizzling Bulalo Recipe",
          "Bow Tie Pasta with Vodka Sauce Recipe",
          "Crispy Potato Wedges Recipe",
          "Sizzling Pork Chop Recipe",
          "Lomi Recipe",
          "Tarragon Chicken Salad",
          "Bok Choy in Garlic Sauce",
          "Easy Buttermilk Fried Chicken",
          "Creamy Tuyo Pesto",
          "Pinatisang Manok",
          "Chicken Sopas Recipe",
          "Sotanghon Guisado Recipe",
          "Tortang Giniling Recipe",
          "Pork Asado Recipe",
          "Pork Giniling Recipe",
          "Pinsec Frito Recipe - Deep Fried Wonton",
          "Lumpiang Togue Recipe",
          "Caesar Salad",
          "Sarciadong Isda Recipe",
          "Camaron Rebosado Recipe",
          "Marinated Shrimp with Lemon Dill Sauce",
          "Deviled Egg with Salmon Recipe",
          "Meatloaf Recipe",
          "Morcon",
          "Atchara (Papaya)",
          "Crab Meat Omelette",
          "Beef Mami Recipe",
          "Ginataang Alimasag Recipe",
          "Ginisang Pechay (Sautéed Bok Choy)",
          "Banana Ketchup Recipe",
          "Fish Fillet with Tausi",
          "Pinoy Spaghetti Recipe",
          "Spicy Chicken Feet",
          "Pancit Bihon Recipe",
          "Pork Hamonado Recipe"
         ],
         "legendgroup": "5",
         "marker": {
          "color": "rgb(17, 165, 121)",
          "size": 5,
          "symbol": "circle"
         },
         "mode": "markers",
         "name": "5",
         "showlegend": true,
         "type": "scattergl",
         "x": [
          0.7568837404251099,
          0.8156750202178955,
          0.7742313146591187,
          0.8280274271965027,
          0.734233021736145,
          0.827590823173523,
          0.8144694566726685,
          0.8230222463607788,
          0.8720282316207886,
          0.7443667650222778,
          0.7810552716255188,
          0.8030281066894531,
          0.8048534989356995,
          0.7900171875953674,
          0.8321674466133118,
          0.781652569770813,
          0.8688819408416748,
          0.8324289321899414,
          0.8419867753982544,
          0.7550610303878784,
          0.8587316870689392,
          0.8153200149536133,
          0.8133296966552734,
          0.7406777143478394,
          0.8060845136642456,
          0.8690089583396912,
          0.7946532964706421,
          0.7880572080612183,
          0.8125315308570862,
          0.8195241093635559,
          0.8023795485496521,
          0.8209903240203857,
          0.8804143667221069,
          0.8463039398193359,
          0.8142324090003967,
          0.8251093626022339,
          0.8115990161895752,
          0.8030699491500854,
          0.8125509023666382,
          0.7551478147506714,
          0.8113380670547485,
          0.7993995547294617,
          0.7420952320098877,
          0.7842461466789246,
          0.7946622967720032,
          0.8174041509628296,
          0.877386748790741,
          0.8401932716369629,
          0.7456718683242798,
          0.8322374820709229,
          0.8488232493400574,
          0.7833766937255859,
          0.8649334907531738,
          0.8474920988082886,
          0.7926987409591675,
          0.8224857449531555,
          0.7768983244895935,
          0.8194397687911987,
          0.8075761198997498,
          0.7642417550086975,
          0.7695017457008362,
          0.8477039337158203,
          0.8091517686843872,
          0.8295237421989441,
          0.7962642312049866,
          0.7915197014808655,
          0.8287619948387146,
          0.8867138028144836,
          0.7824991941452026,
          0.7729218602180481,
          0.8726413249969482,
          0.859917163848877,
          0.8540560603141785,
          0.8053773641586304,
          0.7544302344322205,
          0.8418501615524292,
          0.8228075504302979,
          0.7753028273582458,
          0.7457038164138794,
          0.8556774258613586,
          0.8172129988670349,
          0.7918832302093506,
          0.8402872085571289,
          0.8103641867637634,
          0.8695231080055237,
          0.7442736029624939,
          0.8821194171905518,
          0.8609627485275269,
          0.861649751663208,
          0.861083984375,
          0.7409011721611023,
          0.7907296419143677,
          0.8074224591255188,
          0.8090358376502991,
          0.8081085681915283,
          0.8140755891799927,
          0.8197149038314819,
          0.8727648854255676,
          0.8493916392326355,
          0.7524847984313965,
          0.8480209112167358,
          0.7899351119995117,
          0.8230281472206116,
          0.798636794090271,
          0.8463900089263916,
          0.835008442401886,
          0.8271923065185547,
          0.8853991031646729,
          0.8406782150268555,
          0.7941217422485352,
          0.8800970315933228,
          0.8670279383659363,
          0.7640348076820374,
          0.7549300193786621,
          0.9158952832221985,
          0.8994737863540649,
          0.8245804309844971,
          0.8722624778747559,
          0.8025565147399902,
          0.8263776302337646,
          0.8405682444572449,
          0.8821890354156494,
          0.8433672189712524,
          0.8249409198760986,
          0.8649964928627014,
          0.8719214200973511,
          0.8563827276229858,
          0.8053276538848877,
          0.8312282562255859,
          0.8308956027030945,
          0.8377662897109985,
          0.8619935512542725,
          0.8648508787155151,
          0.8582035303115845,
          0.8128843903541565,
          0.8253443241119385,
          0.8596925735473633,
          0.8281928896903992,
          0.814053475856781,
          0.8172008991241455,
          0.8297461867332458,
          0.8133571147918701,
          0.858604371547699,
          0.7985121011734009,
          0.8481470346450806,
          0.8065990805625916,
          0.8218687772750854,
          0.8832954168319702,
          0.7517277002334595,
          0.849595308303833,
          0.7966457605361938,
          0.8452022671699524,
          0.7991904020309448,
          0.776205837726593,
          0.8170437216758728,
          0.8474459648132324,
          0.8763970732688904,
          0.747067391872406,
          0.8462052345275879,
          0.8402988910675049,
          0.7668069005012512,
          0.8021252155303955,
          0.8761503100395203,
          0.8191415071487427,
          0.8072168827056885,
          0.8067913055419922,
          0.8269293308258057,
          0.7737808227539062,
          0.8183133006095886,
          0.7949965000152588,
          0.8238523006439209,
          0.7914467453956604,
          0.8576794862747192,
          0.8333609700202942,
          0.8093910813331604,
          0.8130990266799927,
          0.8903729915618896,
          0.8217452764511108,
          0.8465496897697449,
          0.8026779890060425,
          0.8643261790275574,
          0.7917847037315369,
          0.8326038718223572,
          0.798491358757019,
          0.7744346261024475,
          0.8496342897415161,
          0.8072829246520996,
          0.897813618183136,
          0.835832417011261,
          0.7960193753242493,
          0.8056313991546631,
          0.86898273229599,
          0.8126263618469238,
          0.8577514290809631,
          0.8801882266998291,
          0.8407502174377441,
          0.7933706641197205,
          0.8635296821594238,
          0.8961276412010193,
          0.8689115643501282,
          0.7676757574081421,
          0.8659586906433105,
          0.8460283279418945,
          0.8838408589363098,
          0.8799222707748413,
          0.9001708030700684,
          0.8212286829948425,
          0.8122134208679199,
          0.8096858263015747,
          0.8082513809204102,
          0.8708668947219849,
          0.9276297688484192,
          0.8084369897842407,
          0.8374940752983093,
          0.822311282157898,
          0.8770437240600586,
          0.8810533285140991,
          0.8782740235328674,
          0.8979403972625732,
          0.787602961063385,
          0.8197575807571411,
          0.8196256756782532,
          0.8399741649627686,
          0.8125370144844055,
          0.8763445019721985,
          0.836635947227478,
          0.8535292148590088,
          0.8196918964385986,
          0.8163599371910095,
          0.7423750162124634,
          0.8815016150474548,
          0.7474390268325806,
          0.8739179968833923,
          0.8924503922462463,
          0.8729738593101501,
          0.9005686044692993,
          0.7893234491348267,
          0.7615326642990112,
          0.7893630266189575,
          0.7820633053779602,
          0.877220869064331,
          0.7735022306442261,
          0.8289503455162048,
          0.8295292854309082,
          0.8107059001922607,
          0.8594028949737549,
          0.8640443086624146,
          0.8132756948471069,
          0.8736623525619507,
          0.8544926643371582,
          0.7378845810890198,
          0.8307448625564575,
          0.814965546131134,
          0.8205175399780273,
          0.8715943098068237,
          0.8739666938781738,
          0.887587308883667,
          0.8215078711509705,
          0.8332222700119019,
          0.7917429208755493,
          0.8567579984664917,
          0.795555830001831,
          0.8136714696884155,
          0.8311209678649902,
          0.8654494285583496,
          0.8947932720184326,
          0.8930085301399231,
          0.8569518327713013,
          0.8856925368309021,
          0.8269925117492676,
          0.8158301115036011,
          0.8724997043609619,
          0.820762574672699,
          0.8794347047805786,
          0.8797205686569214,
          0.882048487663269,
          0.8793541193008423,
          0.7915177345275879,
          0.8828504085540771,
          0.8335152864456177,
          0.8612692356109619,
          0.7991988062858582,
          0.8650014400482178,
          0.8027340173721313,
          0.7916672229766846,
          0.8267652988433838,
          0.8708804845809937,
          0.7441619634628296,
          0.8241471648216248,
          0.852491021156311,
          0.8325385451316833,
          0.9062560796737671,
          0.7751001119613647,
          0.8158130049705505,
          0.8118830323219299,
          0.869114100933075,
          0.7486432790756226,
          0.8746992349624634,
          0.8399258255958557,
          0.7693392038345337,
          0.8001617193222046,
          0.8107179403305054,
          0.8685265183448792,
          0.9128860235214233,
          0.8759860992431641,
          0.800532341003418,
          0.8349024057388306,
          0.838222861289978,
          0.7916035652160645,
          0.8845096826553345,
          0.8864431381225586,
          0.8486528992652893,
          0.8811440467834473,
          0.891150951385498,
          0.8413758277893066,
          0.832366943359375,
          0.8634284138679504,
          0.8368961811065674,
          0.8863770365715027,
          0.8440793752670288,
          0.8415356874465942,
          0.7462999224662781,
          0.7946712374687195,
          0.8318636417388916,
          0.8629583716392517,
          0.7641315460205078,
          0.8318228125572205,
          0.8369764685630798,
          0.8689852952957153,
          0.8633009195327759,
          0.8824195265769958,
          0.8435137867927551,
          0.8112078309059143,
          0.839253842830658,
          0.8418775796890259,
          0.8077428936958313,
          0.8083423376083374,
          0.884486734867096,
          0.8356153964996338,
          0.815004825592041,
          0.801967442035675,
          0.8456920981407166,
          0.8720622062683105,
          0.8159103393554688,
          0.8465644121170044,
          0.8387951254844666,
          0.8733683228492737,
          0.8913939595222473,
          0.8618149757385254,
          0.8118356466293335,
          0.8019943833351135,
          0.8947317600250244,
          0.8042888641357422,
          0.8571080565452576,
          0.8657095432281494,
          0.8378437161445618,
          0.8760414123535156,
          0.8784310817718506,
          0.8810782432556152,
          0.7907703518867493,
          0.8251551389694214,
          0.8783635497093201,
          0.8064959049224854,
          0.8831785917282104,
          0.8372583389282227,
          0.8797743916511536,
          0.8028125762939453,
          0.8314588665962219,
          0.8161357045173645,
          0.8713070154190063,
          0.816748857498169,
          0.7826215028762817,
          0.7367415428161621,
          0.8449952602386475,
          0.8357925415039062,
          0.804707407951355,
          0.8192926049232483,
          0.8537110090255737,
          0.8313357830047607,
          0.8500965237617493,
          0.8634695410728455,
          0.8240307569503784,
          0.8612353205680847,
          0.8225927948951721,
          0.862162709236145,
          0.8066038489341736,
          0.8075615763664246,
          0.8226432204246521,
          0.8318010568618774,
          0.8341913819313049,
          0.8386620879173279,
          0.8675523996353149,
          0.855301558971405,
          0.8576796054840088,
          0.7995095252990723,
          0.7983256578445435,
          0.8365274667739868,
          0.8153867125511169,
          0.8213548064231873,
          0.8209161758422852,
          0.8267701268196106,
          0.7779332399368286,
          0.8530966639518738,
          0.8973156213760376,
          0.8837746381759644,
          0.843450129032135,
          0.8588318228721619,
          0.8744348287582397,
          0.8088294267654419,
          0.8502870202064514,
          0.7997907400131226,
          0.8141241669654846,
          0.8239532113075256,
          0.7889986634254456,
          0.8527137041091919,
          0.8726168870925903,
          0.8230589032173157,
          0.802280604839325,
          0.8019229769706726,
          0.8870748281478882,
          0.8259674310684204,
          0.8257952332496643,
          0.8258540034294128,
          0.8100491166114807
         ],
         "xaxis": "x",
         "y": [
          -0.019999084994196892,
          -0.07158705592155457,
          -0.03522806987166405,
          0.013250940479338169,
          -0.03396503999829292,
          0.02102336287498474,
          0.020362600684165955,
          -0.02071681246161461,
          -0.03251131251454353,
          -0.05461899936199188,
          -0.02985076978802681,
          -0.02257745899260044,
          0.009995391592383385,
          -0.07831184566020966,
          0.013585909269750118,
          -0.05519816651940346,
          -0.06366580724716187,
          -0.06350508332252502,
          0.055917948484420776,
          -0.02878190390765667,
          -0.00860232301056385,
          0.02775811217725277,
          -0.027201661840081215,
          -0.06408260762691498,
          0.01369257178157568,
          0.052212126553058624,
          -0.03821706026792526,
          -0.006332369055598974,
          0.047393541783094406,
          -0.026760073378682137,
          -0.01863328367471695,
          -0.0646609365940094,
          0.007918907329440117,
          0.002655002288520336,
          0.025339296087622643,
          0.00679389201104641,
          0.04710529372096062,
          -0.03817284479737282,
          0.017508050426840782,
          -0.025630729272961617,
          -0.020457401871681213,
          -0.05386613681912422,
          -0.05010298639535904,
          -0.04333406314253807,
          -0.07185304909944534,
          0.00044493377208709717,
          0.07170607149600983,
          -0.05517682060599327,
          -0.04299790412187576,
          0.06311436742544174,
          0.015625514090061188,
          -0.0588798001408577,
          -0.025558019056916237,
          0.042444661259651184,
          -0.03036048263311386,
          0.01782575063407421,
          -0.028838016092777252,
          0.053013138473033905,
          0.0789308100938797,
          -0.06336207687854767,
          -0.06062282621860504,
          0.0014127050526440144,
          0.024640709161758423,
          -0.04913605749607086,
          -0.06527499109506607,
          -0.06356709450483322,
          0.058149807155132294,
          0.037844084203243256,
          -0.011418219655752182,
          -0.06506075710058212,
          -0.07216382026672363,
          -0.015036148950457573,
          0.0011559613049030304,
          -0.08289036154747009,
          -0.03910710662603378,
          -0.04752468690276146,
          0.03563012182712555,
          -0.06192893162369728,
          -0.07235687226057053,
          -0.06384361535310745,
          -0.04711218550801277,
          -0.07939989864826202,
          -0.07159529626369476,
          -0.00006013549864292145,
          0.04628094658255577,
          -0.025609701871871948,
          0.03284551948308945,
          -0.038879282772541046,
          0.008394652046263218,
          -0.054689038544893265,
          -0.04576677829027176,
          -0.052054814994335175,
          -0.0016131643205881119,
          -0.0688251480460167,
          -0.060838714241981506,
          0.06483246386051178,
          0.07251724600791931,
          -0.07020542025566101,
          -0.05685518682003021,
          -0.06618594378232956,
          -0.05911634489893913,
          -0.023728232830762863,
          -0.05293724685907364,
          -0.050835948437452316,
          0.007850284688174725,
          -0.06251180171966553,
          -0.06395044922828674,
          -0.04174567759037018,
          -0.07348769903182983,
          -0.02090299129486084,
          -0.08755500614643097,
          -0.06723272055387497,
          -0.0652947947382927,
          -0.05580540746450424,
          -0.02881990373134613,
          -0.06372059136629105,
          0.031404752284288406,
          0.006227709352970123,
          -0.030181463807821274,
          -0.08065733313560486,
          0.0026904866099357605,
          -0.059878312051296234,
          -0.017271678894758224,
          0.01466037705540657,
          0.006377112586051226,
          0.057654619216918945,
          -0.03861193358898163,
          -0.06984543055295944,
          0.061526767909526825,
          -0.03332585468888283,
          -0.028377678245306015,
          -0.033368490636348724,
          -0.03573630005121231,
          -0.005029516294598579,
          0.008666211739182472,
          -0.053376704454422,
          -0.02921968139708042,
          -0.040835026651620865,
          -0.028625421226024628,
          -0.051663924008607864,
          0.026344113051891327,
          -0.07911168783903122,
          0.0485939159989357,
          -0.059437062591314316,
          0.0018765809945762157,
          0.07281243056058884,
          0.052786629647016525,
          -0.08245241641998291,
          -0.048653941601514816,
          -0.04776022583246231,
          0.009237921796739101,
          -0.06400679796934128,
          -0.08062028139829636,
          -0.04487885162234306,
          -0.014695502817630768,
          -0.025762315839529037,
          -0.03185135871171951,
          -0.06963793933391571,
          0.06676843762397766,
          0.05551386624574661,
          -0.052462510764598846,
          -0.006542506627738476,
          -0.060010798275470734,
          0.02987101301550865,
          -0.003341824747622013,
          -0.0594245046377182,
          -0.05307023227214813,
          -0.03050495684146881,
          0.012978680431842804,
          -0.057584960013628006,
          0.03419576585292816,
          -0.0010491972789168358,
          0.0445411317050457,
          -0.0016944445669651031,
          -0.06551162898540497,
          0.004071601666510105,
          -0.08508675545454025,
          -0.0636126697063446,
          -0.012939011678099632,
          -0.07367546111345291,
          -0.04702441021800041,
          -0.034993402659893036,
          -0.07908128947019577,
          -0.0767485573887825,
          -0.023926496505737305,
          -0.022009583190083504,
          0.017811302095651627,
          -0.07290492951869965,
          0.05702754855155945,
          -0.03348078578710556,
          0.05866793170571327,
          -0.06141839921474457,
          -0.07781285792589188,
          -0.033319175243377686,
          -0.0501067228615284,
          -0.0625467598438263,
          0.004482727497816086,
          -0.06459315121173859,
          0.05710316449403763,
          -0.06308462470769882,
          -0.050434090197086334,
          0.007627595216035843,
          0.033448249101638794,
          -0.020931411534547806,
          -0.040265850722789764,
          -0.0502423532307148,
          -0.06956411898136139,
          0.05190543457865715,
          0.019485659897327423,
          0.05898619443178177,
          -0.0051185935735702515,
          -0.0722740888595581,
          -0.06793588399887085,
          -0.05051508918404579,
          -0.05390080064535141,
          -0.027513641864061356,
          0.0016546918777748942,
          0.03307720273733139,
          -0.09635409712791443,
          -0.0687410980463028,
          0.04476948454976082,
          -0.057845309376716614,
          0.049657486379146576,
          0.065543532371521,
          0.05526740849018097,
          -0.03452928364276886,
          0.05750919133424759,
          0.03253785893321037,
          -0.0026587815955281258,
          -0.04495646804571152,
          0.012971991673111916,
          -0.03854510933160782,
          -0.03556763008236885,
          -0.05327453836798668,
          -0.026905788108706474,
          -0.060202665627002716,
          -0.03416930511593819,
          -0.0717274397611618,
          -0.009822355583310127,
          -0.012492574751377106,
          -0.040364816784858704,
          -0.0312788188457489,
          0.028411610051989555,
          0.05823618546128273,
          -0.0033480357378721237,
          0.034186240285634995,
          0.04707224667072296,
          0.030776258558034897,
          -0.03576744347810745,
          -0.009562126360833645,
          -0.07562228292226791,
          0.027043189853429794,
          0.05500316619873047,
          -0.0520922876894474,
          0.01456648763269186,
          -0.05035799741744995,
          -0.08559620380401611,
          0.0002640071325004101,
          0.01848701387643814,
          -0.04306858777999878,
          -0.05787060409784317,
          -0.08185811340808868,
          -0.024085281416773796,
          0.03948004171252251,
          -0.0634697824716568,
          -0.02439287304878235,
          -0.0978807657957077,
          -0.022825943306088448,
          -0.0727768987417221,
          -0.043126367032527924,
          0.043714653700590134,
          0.07232455164194107,
          0.0568450465798378,
          0.01780252903699875,
          -0.08926551043987274,
          -0.06318339705467224,
          -0.08349955081939697,
          -0.04244112968444824,
          0.006129390560090542,
          -0.08201494812965393,
          -0.024598734453320503,
          0.07726368308067322,
          0.01632833480834961,
          -0.06720618903636932,
          -0.03968412056565285,
          -0.06792548298835754,
          -0.04190254211425781,
          -0.07822354882955551,
          0.004886098671704531,
          -0.02706271968781948,
          0.06560738384723663,
          -0.035307563841342926,
          -0.018046215176582336,
          0.05117102339863777,
          0.04345720633864403,
          -0.04931223392486572,
          -0.07365263253450394,
          -0.04716287925839424,
          -0.000543100293725729,
          -0.020044900476932526,
          -0.04269491881132126,
          0.0669814720749855,
          0.02937180921435356,
          -0.061322182416915894,
          -0.06555155664682388,
          0.06427159160375595,
          -0.010638190433382988,
          -0.022198669612407684,
          -0.009854856878519058,
          -0.050592247396707535,
          -0.07477307319641113,
          -0.021569455042481422,
          -0.0413258820772171,
          -0.09072383493185043,
          -0.07151702046394348,
          -0.0196684617549181,
          -0.008112655021250248,
          0.03229130804538727,
          -0.0825761929154396,
          -0.03748736158013344,
          -0.05341821536421776,
          -0.027454348281025887,
          -0.07787461578845978,
          -0.013361425139009953,
          -0.015667937695980072,
          -0.05073673278093338,
          0.03133530542254448,
          -0.03307235985994339,
          -0.0340958833694458,
          -0.056674614548683167,
          -0.04351135343313217,
          0.04537059739232063,
          -0.047585710883140564,
          -0.07450193166732788,
          0.047130487859249115,
          -0.07143695652484894,
          -0.025659581646323204,
          -0.051670052111148834,
          -0.04746944084763527,
          -0.04693950340151787,
          0.005828906781971455,
          -0.02867143601179123,
          0.0002551274374127388,
          -0.05605049431324005,
          0.015795031562447548,
          0.03159109875559807,
          -0.08319196105003357,
          -0.09858351945877075,
          -0.02850634977221489,
          -0.01858409494161606,
          0.006656832993030548,
          -0.09687565267086029,
          0.06944025307893753,
          -0.009161203168332577,
          -0.006754536181688309,
          0.06663557887077332,
          -0.010684424079954624,
          -0.06897450983524323,
          -0.0699627697467804,
          -0.05093652382493019,
          0.010489821434020996,
          0.03713243454694748,
          0.06446908414363861,
          -0.019536683335900307,
          -0.05079330503940582,
          0.02675008773803711,
          -0.07546326518058777,
          -0.032917268574237823,
          0.0007036085007712245,
          0.040908437222242355,
          -0.01972968317568302,
          -0.044734448194503784,
          -0.07830606400966644,
          0.030357684940099716,
          -0.04156745597720146,
          0.019136706367135048,
          -0.033022280782461166,
          -0.01915799267590046,
          -0.0807768702507019,
          -0.018884509801864624,
          0.008338358253240585,
          -0.06710440665483475,
          -0.04138299822807312,
          -0.021299324929714203,
          -0.041408419609069824,
          -0.07185687124729156,
          -0.047763362526893616,
          0.054898809641599655,
          -0.07546719908714294,
          0.03120792843401432,
          -0.06555479019880295,
          0.0084738964214921,
          -0.012083113193511963,
          -0.03729218989610672,
          -0.004984443075954914,
          0.005204172804951668,
          0.01016317866742611,
          0.039716579020023346,
          -0.00045071751810610294,
          0.027376964688301086,
          -0.07291392982006073,
          -0.047869738191366196,
          -0.04614289849996567,
          -0.09272374212741852,
          -0.0037973113358020782,
          -0.00634863693267107,
          -0.05848565697669983,
          -0.03638731688261032,
          0.06851082295179367,
          -0.058435168117284775,
          -0.05929546058177948,
          0.007653064094483852,
          0.0036229658871889114,
          -0.037123821675777435,
          -0.056572265923023224,
          -0.08230064809322357,
          -0.06225850433111191,
          -0.004990847781300545,
          -0.07437154650688171,
          -0.039374638348817825,
          -0.04119303822517395,
          -0.02361712045967579,
          0.029970010742545128,
          0.02323286607861519
         ],
         "yaxis": "y"
        },
        {
         "customdata": [
          [
           "beef<br>beef broth<br>bread<br>butter<br>button mushroom<br>egg<br>oil<br>onion<br>salt"
          ],
          [
           "beef rib<br>chili<br>fish sauce<br>gabi<br>kangkong<br>onion<br>radish<br>roma tomato<br>salt pepper<br>tamarind"
          ],
          [
           "bell pepper<br>bread crumb<br>butter<br>crab<br>garlic<br>juice lemon<br>mayonnaise<br>onion<br>salt<br>salt pepper"
          ],
          [
           "cabbage<br>carrot<br>chicken<br>corn starch<br>egg<br>fish sauce<br>garlic<br>oil<br>onion<br>salt pepper"
          ],
          [
           "fish<br>garlic<br>ginger<br>oil<br>onion<br>salt pepper<br>tomato<br>vinegar"
          ],
          [
           "banana<br>cheese<br>egg<br>lettuce<br>mayonnaise<br>oil<br>onion<br>oyster sauce<br>salt pepper<br>tomato"
          ],
          [
           "bottle gourd<br>chicken<br>fish sauce<br>garlic<br>ginger<br>oil<br>onion<br>salt pepper<br>spinach"
          ],
          [
           "breadcrumb<br>chicken<br>garlic<br>oil<br>onion<br>salt<br>sugar<br>vinegar"
          ],
          [
           "carrot<br>cream<br>fish sauce<br>garlic<br>oil<br>onion<br>peas<br>quail egg<br>salt pepper"
          ],
          [
           "ginger<br>mirin<br>onion<br>pasta<br>sake<br>salt<br>soy sauce"
          ],
          [
           "ginger<br>onion<br>salt<br>sesame oil<br>sesame seed<br>soy sauce"
          ],
          [
           "fish sauce<br>garlic<br>oil<br>onion<br>pasta<br>salt pepper<br>shrimp<br>spinach<br>tomato"
          ],
          [
           "carrot<br>mayonnaise<br>onion<br>raisin<br>salt pepper<br>walnut"
          ],
          [
           "chili pepper<br>coconut milk<br>fish sauce<br>garlic<br>oil<br>onion<br>salt<br>shrimp<br>sitaw<br>squash"
          ],
          [
           "broccoli floret<br>carrot<br>chicken<br>garlic<br>lemon<br>oil<br>onion<br>pancit<br>sausage<br>shrimp"
          ],
          [
           "carrot<br>chestnut<br>chicken<br>garlic<br>oil<br>onion<br>pepper<br>salt<br>soy sauce<br>spring wrapper"
          ],
          [
           "bean<br>bok choy<br>eggplant<br>fish sauce<br>kamia<br>okra<br>onion<br>salmon<br>salt<br>tomato"
          ],
          [
           "bread crumb<br>cabbage<br>egg<br>oil<br>pork<br>salt pepper"
          ],
          [
           "chili pepper<br>coconut milk<br>fish sauce<br>garlic<br>ginger<br>oil<br>onion<br>salt pepper"
          ],
          [
           "banana<br>chili pepper<br>coconut milk<br>fish sauce<br>garlic<br>oil<br>onion<br>pork<br>rock salt<br>salt pepper"
          ],
          [
           "bean<br>carrot<br>fish sauce<br>garlic<br>oil<br>onion<br>salt pepper<br>shrimp"
          ],
          [
           "cilantro<br>juice lime<br>onion<br>pineapple<br>salt"
          ],
          [
           "butter<br>egg<br>onion<br>salt pepper<br>tomato"
          ],
          [
           "fish sauce<br>garlic<br>ginger<br>mustard<br>oil<br>onion<br>radish<br>salt<br>tamarind<br>tomato"
          ],
          [
           "beef<br>fish sauce<br>kangkong<br>onion<br>roma tomato<br>salt pepper"
          ],
          [
           "bean<br>beef<br>cabbage<br>onion<br>peppercorn<br>potato<br>salt pepper"
          ],
          [
           "bay leaf<br>bean<br>garlic<br>oil<br>onion<br>pork<br>roma tomato<br>salt pepper<br>tofu<br>vinegar"
          ],
          [
           "garlic<br>oil<br>onion<br>oyster sauce<br>roma tomato<br>salt pepper<br>shrimp"
          ],
          [
           "bell pepper<br>cheese<br>egg<br>oil<br>onion"
          ],
          [
           "chicken<br>garlic<br>oil<br>onion<br>oyster sauce<br>roma tomato<br>salt pepper"
          ],
          [
           "egg<br>garlic<br>onion<br>pork<br>rice<br>salt pepper<br>soy sauce"
          ],
          [
           "beef<br>egg<br>garlic<br>miki pasta<br>onion<br>pork<br>shrimp<br>sugar"
          ],
          [
           "bread<br>bread crumb<br>cheese<br>egg<br>mayonnaise<br>milk<br>oil<br>onion<br>salt<br>tuna"
          ],
          [
           "bitter gourd<br>fish sauce<br>garlic<br>oil<br>onion<br>salt pepper<br>sardines tomato sauce<br>sugar<br>tomato"
          ],
          [
           "butter<br>fish<br>garlic<br>lemon<br>oil<br>onion<br>oyster sauce<br>salt pepper<br>soy sauce<br>sugar"
          ],
          [
           "beef<br>garlic<br>oil<br>onion<br>potato<br>salt pepper"
          ],
          [
           "bok choy<br>chicken<br>fish sauce<br>ginger<br>napa cabbage<br>onion<br>peppercorn<br>potato<br>salt pepper"
          ],
          [
           "bell pepper<br>chili pepper<br>lemon juice<br>onion<br>pork<br>salt pepper"
          ],
          [
           "kamia<br>pork<br>rock salt"
          ],
          [
           "beef<br>egg<br>garlic<br>oil<br>onion<br>pea<br>potato<br>salt pepper"
          ],
          [
           "chicken broth<br>corn kernel<br>cornstarch<br>crab<br>egg<br>onion<br>salt pepper"
          ],
          [
           "cornstarch<br>garlic<br>mushroom<br>oil<br>onion<br>soy sauce<br>sugar<br>tofu<br>wine"
          ],
          [
           "bean<br>cornstarch<br>garlic<br>mushroom<br>oil<br>onion<br>sesame oil<br>sesame seeds<br>soy sauce<br>sugar"
          ],
          [
           "chili pepper<br>coconut cream<br>coconut milk<br>fish sauce<br>garlic<br>oil<br>onion<br>salt pepper"
          ],
          [
           "beef<br>cheese<br>garlic<br>oil<br>onion<br>salt pepper<br>spaghetti<br>spaghetti sauce"
          ],
          [
           "bitter gourd<br>fish<br>fish sauce<br>garlic<br>mung bean<br>oil<br>onion<br>spinach"
          ],
          [
           "chili pepper<br>coconut cream<br>eggplant<br>fish sauce<br>garlic<br>oil<br>onion<br>pork<br>salt pepper"
          ],
          [
           "beef<br>bell pepper<br>carrot<br>fish sauce<br>garlic<br>oil<br>onion<br>potato<br>salt pepper<br>tomato"
          ],
          [
           "cabbage<br>carrot<br>chicken<br>oil<br>onion<br>oyster sauce<br>soy sauce<br>sugar"
          ],
          [
           "egg<br>garlic<br>oil<br>onion<br>rice<br>salt pepper<br>soy sauce"
          ],
          [
           "bay leaf<br>beef<br>butter<br>button mushroom<br>cream mushroom soup<br>garlic<br>onion<br>pepper<br>peppercorn<br>salt"
          ],
          [
           "beef<br>beef broth<br>butter<br>cream<br>garlic<br>mushroom<br>oil<br>onion<br>salt pepper"
          ],
          [
           "butter<br>lemon juice<br>pepper<br>sugar"
          ],
          [
           "apple vinegar<br>carrot<br>mayonnaise<br>milk<br>onion<br>pasta<br>salt<br>sugar"
          ],
          [
           "banana bananas<br>beef<br>cabbage<br>chorizo<br>garbanzo bean<br>oil<br>onion<br>potato<br>salt pepper"
          ],
          [
           "cheese<br>crab<br>cucumber<br>mango<br>mayonnaise<br>rice<br>rice vinegar<br>salt<br>sriracha sauce<br>sugar"
          ],
          [
           "annatto seed<br>bay leaf<br>chicken<br>garlic<br>ginger<br>lemon juice<br>lemongrass<br>salt<br>sugar"
          ],
          [
           "bell pepper<br>carrot<br>chili pepper<br>garlic<br>oil<br>onion<br>potato<br>salt pepper<br>sardines tomato sauce"
          ],
          [
           "bay leaf<br>chicken<br>garlic<br>oil<br>onion<br>peppercorn<br>potato<br>salt pepper<br>soy sauce<br>vinegar"
          ],
          [
           "bell pepper<br>celery<br>egg<br>mayonnaise<br>onion<br>pasta<br>salt pepper<br>tuna"
          ],
          [
           "bean<br>carrot<br>garlic<br>oil<br>onion<br>salt pepper<br>tofu"
          ],
          [
           "bean<br>cabbage<br>carrot<br>garlic<br>oil<br>onion<br>salt pepper<br>spring wrapper<br>tofu<br>yam"
          ],
          [
           "oil<br>rice<br>soy sauce<br>sugar"
          ],
          [
           "fish sauce<br>garlic<br>ginger<br>oil<br>onion<br>pasta<br>pork"
          ],
          [
           "egg<br>eggplant<br>oil<br>onion<br>salt pepper<br>tomato"
          ],
          [
           "chicken<br>cream<br>garlic<br>oil<br>onion<br>pepper<br>pineapple<br>pineapple juice<br>salt pepper"
          ],
          [
           "kangkong<br>onion<br>salt<br>shrimp"
          ],
          [
           "corn starch<br>garlic<br>oil<br>salt<br>shrimp"
          ],
          [
           "bean<br>beef<br>cabbage<br>corn<br>fish sauce<br>onion<br>peppercorn<br>potato<br>salt"
          ],
          [
           "carrot<br>chestnut<br>cornstarch<br>oil<br>onion<br>pork<br>salt<br>shrimp<br>spice powder"
          ],
          [
           "mayonnaise<br>salmon<br>salt pepper<br>tamarind powder"
          ],
          [
           "fish sauce<br>gabi<br>kangkong<br>onion<br>pork<br>salt"
          ],
          [
           "fish<br>fish sauce<br>garlic<br>ginger<br>oil<br>onion<br>salt pepper<br>tomato"
          ],
          [
           "cornstarch<br>lemon<br>pork<br>salt<br>shrimp<br>soy sauce<br>sugar"
          ],
          [
           "chili<br>chili pepper<br>coconut cream<br>coconut milk<br>garlic<br>oil<br>onion<br>pork<br>salt pepper<br>shrimp"
          ],
          [
           "cheese<br>chili sauce<br>mayonnaise<br>salmon<br>salt pepper"
          ],
          [
           "cheese<br>chili sauce<br>lime juice<br>mayonnaise<br>onion"
          ],
          [
           "beef<br>bok choy<br>fish sauce<br>onion<br>radish<br>roma tomato<br>salt"
          ],
          [
           "bean<br>carrot<br>fish sauce<br>garlic<br>oil<br>onion<br>pork<br>salt pepper<br>spring wrapper"
          ],
          [
           "cabbage<br>carrot<br>mayonnaise<br>pineapple tidbit<br>raisin<br>salt<br>sugar<br>vinegar"
          ],
          [
           "annatto powder<br>bottle gourd<br>garlic<br>oil<br>onion<br>oyster sauce<br>pancit pasta<br>pork<br>salt pepper"
          ],
          [
           "chicken<br>corn starch<br>garlic<br>lemon<br>oil<br>powder<br>salt<br>soy sauce"
          ],
          [
           "annatto powder<br>carrot<br>cornstarch<br>egg<br>fish sauce<br>mung bean<br>oil<br>salt<br>shallot"
          ],
          [
           "egg<br>fish sauce<br>garlic<br>lemon<br>oil<br>onion<br>pork<br>powder<br>salt<br>shrimp"
          ],
          [
           "banana ketchup<br>garlic<br>ginger<br>oil<br>onion<br>pineapple juice<br>pork<br>salt pepper<br>soy sauce"
          ],
          [
           "cabbage<br>chili pepper<br>coconut milk<br>ginger<br>pandan<br>salt pepper<br>shallot<br>tamarind powder<br>tilapia<br>tomato"
          ],
          [
           "fish<br>fish sauce<br>kangkong<br>onion<br>salt"
          ],
          [
           "chicken wing<br>garlic<br>oil<br>onion<br>salt pepper<br>soy sauce<br>tamarind powder"
          ],
          [
           "bean<br>carrot<br>fish sauce<br>garlic<br>oil<br>onion<br>pork<br>salt pepper<br>shrimp<br>spring wrapper"
          ],
          [
           "egg<br>garlic<br>oil<br>onion<br>pea<br>salt pepper<br>sausage<br>shrimp<br>soy sauce"
          ],
          [
           "egg<br>eggplant<br>oil<br>onion<br>salt pepper<br>tomato"
          ],
          [
           "basil<br>bean<br>chili pepper<br>coconut<br>fish sauce<br>lime<br>mango<br>peanut<br>sugar<br>vegetable oil"
          ],
          [
           "celery<br>chestnut<br>galunggong<br>garlic<br>mushroom<br>oil<br>onion<br>salt pepper<br>soy sauce"
          ],
          [
           "banana ketchup<br>carrot<br>egg<br>oil<br>onion<br>pineapple<br>pork<br>raisin<br>salt"
          ],
          [
           "coconut cream<br>fish sauce<br>garlic<br>oil<br>onion<br>salt pepper<br>shrimp<br>squash"
          ],
          [
           "fish sauce<br>garlic<br>oil<br>onion<br>pasta<br>salt pepper<br>tomato"
          ],
          [
           "coconut<br>margarine<br>salt"
          ],
          [
           "chicken<br>chili<br>egg yolk<br>fish sauce<br>garlic<br>ginger<br>oil<br>onion<br>salt pepper"
          ],
          [
           "bottle gourd<br>fish sauce<br>garlic<br>oil<br>onion<br>salt pepper<br>tomato"
          ],
          [
           "chicken<br>fish sauce<br>garlic<br>ginger<br>oil<br>onion<br>potato<br>salt pepper<br>sugar"
          ],
          [
           "buttermilk<br>cheese<br>chicken<br>chili pepper<br>cornstarch<br>egg<br>ham<br>oil<br>pineapple tidbit<br>salt"
          ],
          [
           "coconut cream<br>crab<br>garlic<br>ginger<br>mussel<br>oil<br>onion<br>salt pepper<br>shrimp<br>squid"
          ],
          [
           "bitter gourd<br>calabasa<br>eggplant<br>garlic<br>okra<br>onion<br>patola<br>salt pepper<br>shrimp<br>sitaw"
          ],
          [
           "chicken<br>coconut milk<br>fish sauce<br>garlic<br>ginger<br>mango<br>oil<br>onion<br>salt pepper"
          ],
          [
           "beer<br>garlic<br>ham<br>mustard<br>pineapple<br>pineapple juice<br>salt<br>sugar"
          ],
          [
           "coconut<br>coconut cream<br>garlic<br>onion<br>pork<br>salt pepper"
          ],
          [
           "chestnut<br>oil<br>onion<br>wonton wrapper"
          ],
          [
           "chicken<br>honey<br>salt pepper<br>shrimp"
          ],
          [
           "bell pepper<br>cornstarch<br>oil<br>pineapple juice<br>rice vinegar<br>salt<br>sugar"
          ],
          [
           "bell pepper<br>carrot<br>ginger<br>onion<br>pepper<br>peppercorn<br>raisin<br>salt<br>sugar<br>vinegar"
          ],
          [
           "butter<br>carrot<br>cream<br>fish sauce<br>garlic<br>onion<br>pea<br>quail egg<br>salt pepper<br>singkama"
          ],
          [
           "cheese<br>mayonnaise<br>pineapple<br>salt"
          ],
          [
           "corn<br>garlic<br>oil<br>onion<br>salt pepper<br>shrimp<br>spinach"
          ],
          [
           "bean<br>chicken<br>fish sauce<br>garlic<br>ginger<br>oil<br>onion<br>tamarind<br>tomato"
          ],
          [
           "chicken<br>fish sauce<br>garlic<br>ginger<br>oil<br>onion<br>papaya<br>salt pepper<br>spinach"
          ],
          [
           "butter<br>chicken<br>cornstarch<br>cream mushroom<br>egg<br>flour<br>liquid seasoning<br>oil<br>powder<br>salt"
          ],
          [
           "butter<br>cheese<br>cream mushroom<br>fettuccine<br>oil<br>parsley<br>pepper<br>whipping cream"
          ],
          [
           "bell pepper<br>breadcrumb<br>butter<br>chicken<br>egg<br>flour<br>garlic powder<br>oil<br>pepper<br>salt"
          ],
          [
           "chicken<br>egg<br>flour<br>garlic powder<br>milk<br>oil<br>pepper<br>powder<br>salt"
          ],
          [
           "butter<br>carrot<br>chicken<br>corn kernel<br>cream mushroom soup<br>onion<br>pasta<br>salt pepper"
          ],
          [
           "bread<br>cheese<br>cream cheese<br>garlic powder<br>mayonnaise<br>onion powder<br>salt pepper"
          ],
          [
           "butter<br>carrot<br>cream mushroom soup<br>kernel corn<br>onion<br>quail egg<br>salt pepper<br>string bean"
          ],
          [
           "cheese<br>oil<br>onion<br>tomato"
          ],
          [
           "butter<br>cheese<br>cream<br>onion"
          ],
          [
           "banana ketchup<br>breadcrumb<br>egg<br>flour<br>oil<br>oyster sauce<br>soy sauce<br>sugar"
          ],
          [
           "beer<br>cheese<br>flour<br>ham<br>oil<br>pineapple tidbit<br>powder<br>salt<br>sugar"
          ],
          [
           "bread<br>butter<br>cabbage<br>mayonnaise<br>oil"
          ],
          [
           "butter<br>cheese<br>egg<br>flour tortilla<br>lettuce<br>milk<br>rice<br>tomato<br>vinegar"
          ],
          [
           "beef<br>bread crumb<br>cheese<br>egg<br>flour<br>oil<br>salt pepper"
          ],
          [
           "bell pepper<br>cheese<br>oil<br>onion<br>pork<br>salt pepper<br>spaghetti pasta<br>spaghetti sauce"
          ],
          [
           "bell pepper<br>butter<br>cheese<br>cream mushroom<br>fettuccine<br>onion<br>parsley<br>pork"
          ],
          [
           "bread crumb<br>egg<br>flour<br>oil<br>pork"
          ],
          [
           "breadcrumb<br>buttermilk<br>carrot<br>chicken<br>oil<br>onion<br>pepper<br>potato<br>salt<br>sauce"
          ],
          [
           "bell pepper<br>carrot<br>cheese<br>chicken<br>mayonnaise<br>pasta<br>pickle<br>pineapple tidbit<br>raisin<br>salt"
          ],
          [
           "banana ketchup<br>beef<br>beef hotdog<br>cheese<br>mayonnaise<br>oil<br>onion powder<br>pepper<br>pork<br>salt"
          ],
          [
           "bread<br>bread crumb<br>chicken<br>dijon mustard<br>mayonnaise<br>oil<br>salt"
          ],
          [
           "avocado<br>cream<br>cream cheese<br>cucumber<br>mayonnaise<br>rice<br>rice vinegar<br>salt<br>sriracha sauce<br>sugar"
          ],
          [
           "beef<br>butter<br>cheese<br>cream<br>mushroom<br>onion<br>paprika<br>pasta"
          ],
          [
           "egg<br>oil<br>onion<br>potato<br>salt"
          ],
          [
           "cornstarch<br>fish<br>flour<br>oil<br>parsley<br>rice<br>salt"
          ],
          [
           "bread<br>cheese<br>cream<br>lettuce<br>mayonnaise<br>pork<br>tomato<br>turkey"
          ],
          [
           "carrot<br>cheese<br>chicken<br>mayonnaise<br>onion<br>pasta<br>pickle<br>pineapple tidbit<br>salt pepper<br>sugar"
          ],
          [
           "cornstarch<br>flour<br>hoisin sauce<br>onion<br>oyster sauce<br>pork<br>powder<br>soy sauce<br>sugar<br>yeast"
          ],
          [
           "butter<br>lemon lime soda<br>parsley<br>salt"
          ],
          [
           "annatto seed<br>chicken<br>ginger<br>lemon lime soda<br>lemongrass<br>margarine<br>pepper<br>salt<br>sampaloc"
          ],
          [
           "chili pepper<br>coconut cream<br>coconut milk<br>ginger<br>onion<br>pork<br>serrano pepper<br>shrimp"
          ],
          [
           "butter<br>chicken<br>flour<br>garlic powder<br>onion powder<br>pepper"
          ],
          [
           "cheese<br>egg<br>pepper<br>salt<br>spaghetti"
          ],
          [
           "banana blossom<br>bean<br>onion<br>pork<br>soy sauce<br>sugar<br>vinegar"
          ],
          [
           "butter<br>cheese<br>cream<br>linguine<br>milk<br>parsley<br>salt pepper<br>tuna"
          ],
          [
           "bok choy<br>chili<br>coconut milk<br>ginger<br>onion<br>salt<br>tilapia<br>tomato"
          ],
          [
           "bread crumb<br>chicken wing<br>egg<br>flour<br>oil<br>pepper<br>salt"
          ],
          [
           "bread crumb<br>butter<br>button mushroom<br>egg<br>flour<br>garlic powder<br>onion powder<br>pepper<br>pork<br>salt"
          ],
          [
           "butter<br>cheese<br>chicken<br>cream<br>fettuccine<br>oil<br>parsley<br>salt pepper"
          ],
          [
           "banana<br>bean<br>cabbage<br>chorizo<br>oil<br>onion<br>patis pepper<br>pork<br>potato<br>tomato"
          ],
          [
           "chicken<br>egg<br>flour<br>garlic powder<br>lemon lime soda<br>oil<br>onion powder<br>pepper<br>salt"
          ],
          [
           "cornstarch<br>egg<br>garlic powder<br>mung bean<br>oil<br>onion powder<br>pepper<br>powder<br>salt"
          ],
          [
           "lemon<br>pepper<br>soy sauce<br>sugar<br>tuna"
          ],
          [
           "bread crumb<br>buttermilk<br>chicken<br>lemon<br>pepper<br>salt"
          ],
          [
           "anchovy<br>mung bean<br>onion<br>patis<br>pepper<br>spinach<br>tomato"
          ],
          [
           "food<br>garlic<br>garlic powder<br>pineapple juice<br>salt<br>sugar"
          ],
          [
           "carrot<br>mayonnaise<br>onion<br>parsley<br>pepper<br>pineapple<br>potato<br>salt<br>sugar"
          ],
          [
           "chili pepper<br>coconut cream<br>coconut milk<br>ginger<br>onion<br>pork"
          ],
          [
           "beef<br>cheese<br>garlic<br>luncheon<br>oil<br>onion<br>pork<br>salt pepper<br>spaghetti<br>spaghetti sauce"
          ],
          [
           "celery<br>egg<br>mayonnaise<br>onion<br>pea<br>pepper<br>pork<br>salt<br>sugar"
          ],
          [
           "butter<br>cabbage<br>carrot<br>celery<br>chicken broth<br>milk<br>onion<br>pasta<br>pork<br>salt pepper"
          ],
          [
           "bean<br>fish sauce<br>ginataang gulay<br>oil<br>onion<br>pepper<br>pork"
          ],
          [
           "baking potato<br>bell pepper<br>carrot<br>cheese<br>chicken<br>chicken broth<br>oil<br>onion<br>salt pepper<br>tomato sauce"
          ],
          [
           "bean<br>beef<br>beef broth<br>bok choy<br>butternut squash<br>fish sauce<br>onion<br>peppercorn"
          ],
          [
           "beef<br>beef broth<br>cheese<br>oil<br>onion<br>pasta<br>salt pepper<br>sugar<br>tomato<br>tomato sauce"
          ],
          [
           "cheese<br>luncheon<br>mayonnaise<br>onion<br>pasta<br>pickle<br>salt<br>salt pepper"
          ],
          [
           "bean<br>beef<br>corn<br>fish sauce<br>napa cabbage<br>onion<br>peppercorn"
          ],
          [
           "fish<br>fish sauce<br>kangkong<br>okra<br>onion<br>pepper<br>sampaloc<br>sitaw<br>tomato"
          ],
          [
           "celery<br>cheese<br>mayonnaise<br>onion<br>pasta<br>pepper<br>pickle<br>salt<br>tuna"
          ],
          [
           "chili pepper<br>coconut cream<br>coconut milk<br>fish sauce<br>onion<br>pepper<br>shrimp<br>snake bean<br>squash"
          ],
          [
           "bean<br>beef<br>corn<br>fish sauce<br>napa cabbage<br>onion<br>peppercorn"
          ],
          [
           "carrot<br>egg<br>onion<br>pepper<br>pork<br>scallion<br>sesame oil"
          ],
          [
           "chicken broth<br>fish sauce<br>garlic<br>oil<br>onion<br>pasta<br>pepper<br>pork<br>shrimp"
          ],
          [
           "mustard powder<br>oil<br>onion<br>pork<br>salt<br>tomato sauce<br>vinegar"
          ],
          [
           "cheese<br>parsley<br>pepper<br>seasoning<br>tomato"
          ],
          [
           "baking potato<br>banana<br>beef<br>bok choy<br>napa cabbage<br>onion<br>patis<br>peppercorn"
          ],
          [
           "bok choy<br>cabbage<br>chicken<br>chicken broth<br>fish sauce<br>onion<br>peppercorn"
          ],
          [
           "baking potato<br>beef broth<br>butter<br>oil<br>onion<br>salt pepper<br>thyme<br>tomato<br>wine"
          ],
          [
           "butter<br>cream<br>garlic powder<br>juice lemon<br>salt"
          ],
          [
           "baking potato<br>bell pepper<br>carrot<br>cheese<br>garlic<br>oil<br>onion<br>pork<br>salt pepper<br>tomato sauce"
          ],
          [
           "bell pepper<br>cheese<br>oil<br>onion<br>pork<br>salt pepper<br>spaghetti<br>sugar<br>tomato<br>tomato sauce"
          ],
          [
           "baking potato<br>beef<br>cabbage<br>corn<br>fish sauce<br>onion<br>peppercorn"
          ],
          [
           "beef<br>cheese<br>cream<br>mushroom<br>parsley<br>pork<br>salt<br>spaghetti"
          ],
          [
           "chicken<br>chili<br>fish sauce<br>ginataang gulay<br>ginger<br>oil<br>onion<br>pepper"
          ],
          [
           "chicken<br>fish sauce<br>garlic<br>onion<br>pepper<br>sampaloc"
          ],
          [
           "egg<br>garlic rice<br>oil<br>tomato"
          ],
          [
           "chicken<br>ginataang gulay<br>ginger<br>oil<br>onion<br>pea<br>potato<br>powder<br>salt pepper"
          ],
          [
           "beef rib<br>fish sauce<br>kangkong<br>onion<br>pepper<br>snake bean<br>tomato"
          ],
          [
           "bay leaf<br>beef broth<br>bell pepper<br>carrot<br>oil<br>onion<br>pork<br>potato<br>salt pepper<br>tomato sauce"
          ],
          [
           "beef<br>beef broth<br>cabbage<br>garlic<br>oil<br>onion<br>parsley<br>potato<br>salt pepper"
          ],
          [
           "fish sauce<br>mustard<br>okra<br>onion<br>pepper<br>salmon<br>tomato"
          ],
          [
           "butter<br>garlic<br>lemon<br>salt"
          ],
          [
           "cornstarch<br>flour<br>oil<br>pepper<br>salt"
          ],
          [
           "banana<br>cabbage<br>fish sauce<br>onion<br>peppercorn<br>pork<br>potato"
          ],
          [
           "bitter gourd<br>malunggay<br>okra<br>onion<br>sitaw<br>tomato"
          ],
          [
           "annatto powder<br>chicken<br>fish sauce<br>onion<br>pepper<br>salt<br>scallion<br>sesame oil<br>shrimp<br>wonton wrapper"
          ],
          [
           "chicken<br>coconut<br>lemongrass<br>onion<br>pepper<br>plum tomato<br>potato<br>salt<br>scallion"
          ],
          [
           "beef broth<br>button mushroom<br>cream<br>cream mushroom<br>oil<br>onion<br>salt pepper"
          ],
          [
           "bell pepper<br>bread crumb<br>cheese<br>chicken<br>egg<br>pepper<br>raisin<br>relish<br>salt<br>vegetable oil"
          ],
          [
           "egg<br>garlic rice"
          ],
          [
           "fish<br>rice<br>salt<br>sugar"
          ],
          [
           "beef<br>bell pepper<br>butter<br>cheese<br>flour<br>milk<br>oil<br>onion<br>salt pepper<br>tomato sauce"
          ],
          [
           "basil<br>bread<br>butter<br>cheese<br>grape tomato<br>pork"
          ],
          [
           "celery<br>mayonnaise<br>mustard powder<br>onion<br>pepper<br>salt"
          ],
          [
           "fish sauce<br>miso<br>mustard<br>onion<br>pepper<br>radish<br>tamarind<br>tomato<br>tuna"
          ],
          [
           "eggplant<br>fish sauce<br>okra<br>pepper<br>pork<br>snake bean<br>spinach<br>tomato"
          ],
          [
           "carrot<br>cheese<br>chicken<br>mayonnaise<br>pea<br>potato<br>relish<br>salt"
          ],
          [
           "ginataang gulay<br>oil<br>onion<br>pepper<br>pork<br>snake bean"
          ],
          [
           "beef<br>beef broth<br>egg<br>oil<br>onion<br>rice<br>salt pepper"
          ],
          [
           "cheese<br>mayonnaise<br>oil"
          ],
          [
           "chicken broth<br>lime<br>onion<br>parsley<br>salt pepper"
          ],
          [
           "fish<br>fish sauce<br>miso<br>mustard<br>okra<br>onion<br>pepper<br>plum tomato<br>radish"
          ],
          [
           "cornstarch<br>egg<br>flour<br>pepper<br>pork<br>salt"
          ],
          [
           "onion<br>pepper<br>plum tomato<br>salt<br>sugar<br>vinegar"
          ],
          [
           "egg<br>garlic rice<br>oil<br>scallion"
          ],
          [
           "banana ketchup<br>garlic<br>juice lemon<br>pepper<br>soy sauce"
          ],
          [
           "lemon<br>onion<br>pepper<br>plum tomato<br>scallion"
          ],
          [
           "miso<br>mustard<br>okra<br>onion<br>pepper<br>radish<br>tamarind<br>tomato"
          ],
          [
           "butter<br>cheese<br>cream<br>garlic<br>oil<br>salt pepper<br>shrimp<br>spaghetti"
          ],
          [
           "butter<br>egg<br>garlic powder<br>onion<br>pea<br>rice<br>soy sauce"
          ],
          [
           "garlic powder<br>mayonnaise<br>onion<br>pepper<br>pickle<br>salt<br>sugar"
          ],
          [
           "baking potato<br>bell pepper<br>butter<br>cheese<br>cream<br>egg<br>mushroom<br>onion<br>pork<br>salt pepper"
          ],
          [
           "beer<br>butter<br>cilantro<br>garlic powder<br>salt"
          ],
          [
           "breadcrumb<br>egg<br>flour<br>oil<br>pepper<br>pork<br>potato<br>salt"
          ],
          [
           "butter<br>cheese<br>cream<br>oil<br>onion<br>pepper<br>potato<br>salt"
          ],
          [
           "cilantro<br>egg<br>flour tortilla<br>oil<br>onion<br>salt pepper"
          ],
          [
           "bread crumb<br>garlic powder<br>oil<br>onion powder<br>oregano<br>paprika<br>potato<br>salt"
          ],
          [
           "bell pepper<br>cornstarch<br>onion<br>pineapple<br>sugar<br>tomato ketchup<br>vinegar"
          ],
          [
           "egg<br>mayonnaise<br>mustard powder<br>onion powder<br>pepper<br>pickle<br>salt<br>sugar"
          ],
          [
           "chili pepper<br>coconut<br>garlic<br>ginger<br>milk<br>shrimp<br>tuna"
          ],
          [
           "baking potato<br>cabbage<br>calabaza squash<br>fish sauce<br>onion<br>peppercorn<br>pork"
          ],
          [
           "bean<br>beef broth<br>garlic powder<br>oil<br>onion<br>pepper<br>peppercorn<br>salt<br>sausage<br>tomato sauce"
          ],
          [
           "breadcrumb<br>carrot<br>egg<br>garlic powder<br>oil<br>onion<br>pepper<br>pork<br>salt pepper"
          ],
          [
           "cheese<br>oil<br>spaghetti pasta<br>sun tomato"
          ],
          [
           "egg<br>vinegar"
          ],
          [
           "butternut squash<br>coconut<br>coconut cream<br>crab<br>fish sauce<br>ginger<br>malunggay<br>onion<br>pepper<br>shrimp"
          ],
          [
           "cane<br>eggplant<br>onion<br>pepper<br>plum tomato<br>salt<br>shrimp<br>sugar"
          ],
          [
           "fish sauce<br>okra<br>onion<br>pepper<br>plum tomato<br>radish<br>spinach<br>tamarind"
          ],
          [
           "breadcrumb<br>egg<br>garlic powder<br>oil<br>onion powder<br>pepper<br>salt<br>tilapia"
          ],
          [
           "butter<br>carrot<br>garlic powder<br>onion powder<br>pea<br>rice<br>salt<br>shrimp"
          ],
          [
           "banana bananas<br>bean<br>beef<br>bok choy<br>fish sauce<br>napa cabbage<br>onion<br>peppercorn<br>potato"
          ],
          [
           "salt"
          ],
          [
           "duck egg<br>eggplant<br>pork<br>rice<br>vinegar"
          ],
          [
           "chicken broth<br>garlic powder<br>ginger<br>kernel corn<br>malunggay<br>mussel<br>oil<br>onion<br>salt pepper"
          ],
          [
           "bread crumb<br>chicken<br>egg<br>garlic powder<br>lumpia wrapper<br>oil<br>onion powder<br>pepper<br>salt"
          ],
          [
           "banana bananas<br>beef broth<br>bok choy<br>fish sauce<br>onion<br>peppercorn<br>pork<br>potato"
          ],
          [
           "celery<br>cream<br>mayonnaise<br>mustard powder<br>onion<br>parsley<br>pasta<br>relish<br>salt pepper<br>sugar"
          ],
          [
           "cheese<br>pepper<br>salmon<br>spaghetti pasta"
          ],
          [
           "bell pepper<br>chicken<br>chicken broth<br>oil<br>onion<br>pea<br>salt pepper<br>tomato"
          ],
          [
           "butter<br>egg<br>egg yolk<br>lemon<br>pork<br>salt pepper"
          ],
          [
           "chili<br>onion"
          ],
          [
           "duck egg<br>fish sauce<br>plum tomato"
          ],
          [
           "chicken<br>cornstarch<br>fish sauce<br>flour<br>oil<br>pepper"
          ],
          [
           "basil<br>cheese<br>garlic powder<br>oil<br>pepper<br>spaghetti pasta"
          ],
          [
           "cornstarch<br>ginger<br>mushroom<br>oil<br>onion<br>oyster sauce<br>sherry wine<br>tofu"
          ],
          [
           "garlic powder<br>mushroom<br>onion<br>pork<br>salt pepper<br>sugar"
          ],
          [
           "broccoli<br>cheese<br>mayonnaise<br>onion<br>pepper<br>pork<br>rice vinegar<br>salt<br>sugar"
          ],
          [
           "lettuce<br>salt pepper"
          ],
          [
           "beef<br>onion<br>pepper<br>salt<br>soy sauce"
          ],
          [
           "cheese<br>egg<br>milk<br>onion<br>pepper<br>pork<br>salt"
          ],
          [
           "broccoli<br>carrot<br>oil<br>pancit<br>salt<br>sesame oil<br>yam"
          ],
          [
           "lettuce<br>mayonnaise<br>oil<br>salt pepper<br>sesame oil"
          ],
          [
           "baking potato<br>garlic powder<br>milk<br>parsley<br>pepper<br>salt"
          ],
          [
           "beef broth<br>oil<br>onion<br>pea<br>pork<br>potato<br>salt pepper<br>sugar<br>tomato sauce"
          ],
          [
           "bread crumb<br>egg<br>oil<br>pepper<br>pork<br>salt"
          ],
          [
           "cheese<br>salt pepper<br>spaghetti"
          ],
          [
           "bell pepper<br>oil<br>onion<br>pea<br>pork<br>potato<br>salt pepper<br>tomato<br>tomato sauce"
          ],
          [
           "beef<br>milk<br>onion<br>parsley<br>pepper<br>salt"
          ],
          [
           "bread<br>mayonnaise<br>onion<br>pickle<br>salt"
          ],
          [
           "barbecue sauce<br>chicken<br>oil<br>salt pepper"
          ],
          [
           "carrot<br>chicken<br>chicken broth<br>milk<br>onion<br>parsley<br>pasta<br>salt pepper"
          ],
          [
           "beef<br>bread<br>cucumber<br>lettuce<br>mayonnaise<br>rosemary<br>salt pepper<br>tomato"
          ],
          [
           "bell pepper<br>cheese<br>egg<br>oil<br>onion<br>salt<br>scallion<br>tomato"
          ],
          [
           "kangkong<br>onion<br>patis<br>pepper<br>tamarind<br>tomato"
          ],
          [
           "chicken broth<br>kernel corn<br>malunggay<br>oil<br>onion<br>plum tomato<br>salt pepper"
          ],
          [
           "bread crumb<br>buttermilk<br>egg<br>flour<br>garlic powder<br>oil<br>pepper<br>pork<br>salt"
          ],
          [
           "oil<br>salt pepper<br>soy sauce<br>sugar<br>tomato"
          ],
          [
           "avocado<br>bread<br>dijon mustard<br>lettuce<br>mayonnaise<br>pork<br>tomato"
          ],
          [
           "beef<br>bread<br>cheese<br>lettuce<br>mayonnaise"
          ],
          [
           "baking potato<br>chicken<br>egg<br>flour<br>garlic powder<br>mayonnaise<br>oil<br>pea<br>pickle<br>scallion"
          ],
          [
           "cheese<br>garlic powder<br>spaghetti sauce"
          ],
          [
           "chicken broth<br>corn<br>cornstarch<br>onion<br>salt pepper"
          ],
          [
           "bread<br>cheese<br>egg<br>mayonnaise<br>oil"
          ],
          [
           "cornstarch<br>flour<br>oil<br>pepper<br>salt"
          ],
          [
           "egg<br>oil<br>onion<br>pepper<br>salt<br>tuna<br>zucchini"
          ],
          [
           "baking potato<br>oil<br>salt"
          ],
          [
           "beef<br>cornstarch<br>mushroom<br>pepper<br>pork<br>salt"
          ],
          [
           "barbecue sauce<br>chicken<br>pepper<br>soy sauce<br>sugar<br>wine vinegar"
          ],
          [
           "breadcrumb<br>egg<br>flour<br>oil<br>pork<br>salt pepper"
          ],
          [
           "chicken<br>chili powder<br>flour tortilla<br>garlic powder<br>paprika<br>pepper<br>salt"
          ],
          [
           "cornstarch<br>salmon<br>salt pepper"
          ],
          [
           "garlic<br>ginger<br>sake<br>soy sauce<br>sugar"
          ],
          [
           "cheese<br>chicken<br>oil<br>onion<br>salt pepper<br>spaghetti pasta<br>sugar<br>tomato<br>tomato sauce"
          ],
          [
           "bread crumb<br>egg<br>flour<br>pepper<br>salt<br>sauce<br>shrimp<br>vegetable oil"
          ],
          [
           "beef hotdog<br>mustard<br>onion<br>pickle<br>tomato"
          ],
          [
           "cheese<br>mayonnaise<br>salt<br>sugar"
          ],
          [
           "butter<br>chicken<br>egg<br>flour<br>lemon juice<br>oil<br>pepper<br>salt<br>whipping cream"
          ],
          [
           "bell pepper<br>butter<br>egg<br>mushroom<br>salt"
          ],
          [
           "baking potato<br>cheese<br>corn<br>oil<br>onion<br>pepper<br>salt"
          ],
          [
           "celery<br>chicken<br>lettuce<br>lime juice<br>mayonnaise<br>salt pepper"
          ],
          [
           "bread crumb<br>cabbage<br>egg<br>flour<br>oil<br>pork<br>salt pepper"
          ],
          [
           "bean<br>chili<br>cream"
          ],
          [
           "chicken broth<br>egg<br>pork<br>rice<br>salt<br>scallion"
          ],
          [
           "butter<br>garlic<br>nutmeg<br>pepper<br>salt<br>spinach<br>whipping cream"
          ],
          [
           "bread crumb<br>carrot<br>egg<br>onion<br>salmon<br>salt<br>soy sauce"
          ],
          [
           "bread<br>cheese<br>chicken broth<br>turkey"
          ],
          [
           "butter<br>chicken broth<br>garlic powder<br>onion<br>pork<br>rosemary"
          ],
          [
           "beef<br>cheese<br>marinara sauce<br>oil<br>onion<br>pork<br>salt pepper<br>seasoning"
          ],
          [
           "chicken<br>sherry<br>soy sauce<br>sugar"
          ],
          [
           "baking potato<br>cheese<br>oil<br>parsley"
          ],
          [
           "chicken<br>flour<br>lemon<br>oil<br>pepper<br>salt<br>soy sauce<br>sugar"
          ],
          [
           "egg<br>garlic powder<br>pea<br>pork<br>rice<br>salt<br>soy sauce"
          ],
          [
           "beef<br>bread crumb<br>butter<br>egg<br>garlic powder<br>milk<br>parsley<br>pepper<br>salt<br>vegetable"
          ],
          [
           "annatto powder<br>garlic powder<br>margarine<br>onion powder<br>powder<br>rice<br>salt"
          ],
          [
           "chestnut<br>cream<br>mayonnaise<br>spinach"
          ],
          [
           "celery<br>cheese<br>garlic powder<br>mayonnaise<br>onion<br>salt pepper<br>sugar"
          ],
          [
           "cheese<br>chili<br>cream cheese<br>parsley"
          ],
          [
           "beer<br>butter<br>garlic powder<br>onion<br>pepper<br>salt"
          ],
          [
           "beef<br>cheese<br>mayonnaise<br>onion<br>pickle<br>salt pepper"
          ],
          [
           "egg<br>garlic powder<br>oil<br>rice<br>salt<br>soy sauce"
          ],
          [
           "oil<br>onion<br>pork<br>salt pepper"
          ],
          [
           "carrot<br>garlic powder<br>ginger<br>oil<br>onion<br>pepper<br>pork<br>salt<br>sesame oil<br>spring wrapper"
          ],
          [
           "banana<br>oil<br>powder<br>salt<br>sugar"
          ],
          [
           "ginger<br>onion<br>pepper<br>potato<br>salt<br>sugar<br>tomato"
          ],
          [
           "bread crumb<br>cheese<br>egg<br>eggplant<br>garlic powder<br>oil<br>pepper<br>salt"
          ],
          [
           "bread crumb<br>chili<br>cucumber<br>mayonnaise<br>rice vinegar<br>sesame oil<br>tuna"
          ],
          [
           "anchovy<br>chili<br>coconut milk<br>fish sauce<br>oil<br>onion"
          ],
          [
           "bread crumb<br>chicken<br>egg<br>flour<br>garlic powder<br>milk<br>oil<br>paprika<br>pepper<br>salt"
          ],
          [
           "basil<br>cheese<br>egg<br>milk<br>oil<br>plum tomato<br>pork<br>potato<br>salt"
          ],
          [
           "cheese<br>mushroom<br>onion<br>pea<br>salt"
          ],
          [
           "bread crumb<br>egg<br>flour<br>milk<br>oil<br>pepper<br>potato<br>salt"
          ],
          [
           "bread crumb<br>egg<br>flour<br>milk<br>oil<br>onion<br>pepper<br>powder<br>salt"
          ],
          [
           "oil<br>onion<br>potato<br>salt<br>wine"
          ],
          [
           "apple vinegar<br>cabbage<br>carrot<br>honey<br>mayonnaise<br>onion<br>parsley<br>pepper<br>salt"
          ],
          [
           "butter<br>cheese<br>chicken<br>egg yolk<br>milk<br>salt pepper<br>thyme<br>whipping cream"
          ],
          [
           "chicken<br>mirin<br>sake<br>sesame seeds<br>soy sauce<br>sugar"
          ],
          [
           "breadcrumb<br>egg<br>flour<br>oil<br>pepper<br>salt<br>squid"
          ],
          [
           "breadcrumb<br>egg<br>flour<br>oil<br>pepper<br>pork<br>salt"
          ],
          [
           "carrot<br>chicken broth<br>cornstarch<br>jicama<br>onion<br>pea<br>pepper<br>quail egg<br>salt<br>shrimp"
          ],
          [
           "cornstarch<br>egg<br>mung bean<br>oil<br>pepper<br>powder<br>salt<br>shrimp"
          ],
          [
           "chili<br>fish sauce<br>okra<br>spinach<br>string bean<br>tomato<br>tuna"
          ],
          [
           "carrot<br>celery<br>chicken<br>chicken broth<br>cornstarch<br>egg pasta<br>onion<br>parsley<br>salt<br>vegetable oil"
          ],
          [
           "chili<br>coconut milk<br>fish<br>garlic<br>jackfruit<br>onion<br>shrimp<br>tomato"
          ],
          [
           "cilantro<br>corn kernel<br>lime juice<br>onion<br>salt<br>tomato"
          ],
          [
           "annatto seed<br>cornstarch<br>flour<br>oil<br>pepper<br>salt"
          ],
          [
           "chicken<br>coconut milk<br>fish sauce<br>garlic<br>ginger<br>powder<br>salt pepper<br>soy sauce<br>sugar"
          ],
          [
           "baking potato<br>butter<br>chicken broth<br>cream<br>milk<br>onion<br>salt pepper"
          ],
          [
           "baking potato<br>oil<br>salt"
          ],
          [
           "butter<br>cheese<br>egg<br>ham<br>milk<br>onion<br>pepper<br>salt<br>spinach"
          ],
          [
           "banana blossom<br>bay leaf<br>bean<br>onion<br>peppercorn<br>pineapple juice<br>pork<br>soy sauce<br>sugar<br>vinegar"
          ],
          [
           "beef<br>eggplant<br>garlic<br>oil<br>onion<br>salt pepper<br>tomato"
          ],
          [
           "cornstarch<br>rice vinegar<br>soy sauce<br>sugar<br>tomato ketchup"
          ],
          [
           "breadcrumb<br>butter<br>cheese<br>chicken<br>egg<br>ham<br>paprika<br>salt"
          ],
          [
           "avocado<br>crab<br>cucumber<br>rice vinegar<br>salt<br>sesame seeds<br>sugar"
          ],
          [
           "bread crumb<br>egg<br>milk<br>oil<br>pork<br>salt pepper"
          ],
          [
           "bean<br>oil<br>rice flour<br>sesame seeds"
          ],
          [
           "cornstarch<br>oil<br>pepper<br>quail egg<br>salt"
          ],
          [
           "butter<br>chicken<br>chicken broth<br>egg<br>milk<br>oil<br>pepper<br>salt"
          ],
          [
           "cheese<br>chicken<br>egg<br>mayonnaise<br>onion<br>pasta<br>pineapple<br>raisin<br>salt"
          ],
          [
           "garlic<br>paprika<br>pepper<br>pineapple juice<br>pork<br>salt<br>sugar"
          ],
          [
           "food<br>garlic<br>garlic powder<br>pineapple juice<br>salt<br>sugar"
          ],
          [
           "eggplant<br>melon<br>okra<br>onion<br>pork<br>potato<br>string bean<br>tomato"
          ]
         ],
         "hovertemplate": "<b>%{hovertext}</b><br><br>cluster=2<br>x=%{x}<br>y=%{y}<br>cleaned_ingredients=%{customdata[0]}<extra></extra>",
         "hovertext": [
          "Burger Steak",
          "Sinigang na Baka",
          "Rellenong Alimango",
          "Pancit Lomi",
          "Totsong Bangus",
          "Banana Heart Burger",
          "Tinolang Manok sa Upo",
          "Lechon Sauce",
          "Liver and Gizzard with Sweet Peas",
          "Kake Udon",
          "Ahi Shoyu Poke",
          "Ginisang Munggo at Sotanghon",
          "Kabocha Salad",
          "Ginataang Kalabasa, Sitaw at Hipon",
          "Mock Pancit Canton Stir-Fry",
          "Lumpiang Shanghai",
          "Sinigang na Salmon Belly sa Kamias",
          "Tonkatsu",
          "Ginataang Hipon",
          "Ginataang Puso ng Saging",
          "Ginisang Togue",
          "Pineapple Salsa",
          "Filipino Scrambled Eggs",
          "Sinigang na Hito sa Miso",
          "Sinigang na Baka sa Bayabas",
          "Corned Beef Nilaga",
          "Tokwa't Baboy with Tausi",
          "Ginisang Sayote",
          "Corned Beef Hash Breakfast Pizza",
          "Ginisang Sayote with Chicken",
          "Bacon Fried Rice",
          "La Paz Batchoy",
          "Crispy Tuna Pies",
          "Ginisang Ampalaya sa Sardinas",
          "Bangus ala Pobre",
          "Ginisang Corned Beef",
          "Pesang Manok",
          "Crispy Sisig",
          "Sinaing na Tulingan",
          "Corned Beef Frittata",
          "Crab and Corn Soup",
          "Tofu, Asparagus and Mushroom Stir-Fry",
          "Green Bean Mushroom Stir-fry",
          "Ginataang Langka at Danggit",
          "Corned Beef Spaghetti",
          "Ginisang Munggo at Tinapa",
          "Ginataang Talong",
          "Beef Afritada",
          "Chicken Yakisoba",
          "Tinapa Fried Rice",
          "Lengua in Mushroom Sauce",
          "Beef in Creamy Mushroom Sauce",
          "Peppered Strawberry Jam",
          "Hawaiian Macaroni Salad",
          "Cocido-style Nilaga",
          "Sushi Bake",
          "Chicken Inasal",
          "Sardines Caldereta",
          "Chicken Adobo",
          "Creamy Tuna Pasta Salad",
          "Ginisang Togi at Tokwa (Tofu and Bean Sprouts Stir Fry)",
          "Lumpiang Prito",
          "Spam Musubi",
          "Batsui",
          "Eggplant and Tomato Torta",
          "Pininyahang Manok",
          "Bulanglang na Hipon",
          "Nilasing na Hipon",
          "Nilagang Baka",
          "Homemade Kikiam",
          "Baked Salmon with Tamarind Mayo Topping",
          "Pork Bulanglang",
          "Bangus sa Tausi (Milkfish with Tomatoes and Black Beans)",
          "Siomai",
          "Bicol Express",
          "Baked Salmon with Sweet Chili-Mayo Topping",
          "Baked Tahong with Sweet Chili-Mayo Topping",
          "Corned Beef Sinigang",
          "Lumpiang Prito with Pork",
          "Pineapple Coleslaw",
          "Pancit Upo",
          "Filipino-style Fried Chicken",
          "Ukoy na Togue",
          "Easy Pancit Luglug",
          "Spare Ribs with Ketchup and Pineapple",
          "Sinanglay na Tilapia",
          "Bulanglang na Bangus at Hipon",
          "Chicken Adobo with Tamarind",
          "Lumpiang Togue",
          "Yang Chow Fried Rice",
          "Poqui Poqui",
          "Thai Mango Salad",
          "Lumpiang Galunggong",
          "Pork Embutido",
          "Ginataang Sigarilyas at Kalabasa",
          "Ginisang Sardinas at Miswa",
          "Binatog",
          "Pinatisang Manok",
          "Ginisang Upo at Sardinas",
          "Lalaine's Stewed Chicken and Potatoes in Fish Sauce",
          "Chizza",
          "Ginataang Seafood",
          "Laswa",
          "Mango Curry Chicken",
          "Filipino-style Pineapple Glazed Ham",
          "Pinais na Hipon",
          "Longganisa Wonton",
          "Honey Bagoong Chicken Wings",
          "Sweet and Sour Sauce",
          "Atchara",
          "Sipo Egg",
          "Cheese Pineapple Sandwich Spread",
          "Suam na Mais",
          "Sinampalukang Manok",
          "Tinolang Manok",
          "Crispy Fried Chicken with Mushroom Gravy",
          "Truffle Mushroom Pasta",
          "Easy Chicken Ala King",
          "Crispy Fried Chicken",
          "Creamy Macaroni Sopas",
          "Cheese Pimiento Sandwich",
          "Nutritious Ulam Idea",
          "Loaded Nachos Recipe",
          "Filipino Chicken Pasta Alfredo",
          "Ham Katsu",
          "Hawaiian Pizza (No Bake)",
          "Crispy Katsu Sando",
          "Breakfast Burrito",
          "Cheesy Corned Beef Balls",
          "The Only Filipino Spaghetti Recipe That I Trust for the Holidays",
          "Festive Tuna Carbonara",
          "Quick and Easy Pan-Fried Pork Chops",
          "Chicken Katsu Curry",
          "Macaroni Salad",
          "Cheeseburger and Hotdog Sandwich Recipe",
          "Grilled Cheese Sandwich and Chicken Tenders",
          "Sushi Bake",
          "Beef Stroganoff Lasagna",
          "Tortilla Espanola",
          "Crispy Garlic Bangus and Cream of Pumpkin Soup",
          "Shrimp Bisque and Clubhouse Sandwich",
          "Father’s Day Chicken Macaroni Salad",
          "Siopao Asado Recipe",
          "Halabos na Hipon with Butter",
          "Sinigang Mix Inasal na Manok",
          "Bicol Express Recipe",
          "Chicken Gravy",
          "How to Make Authentic Carbonara",
          "Humba Recipe (Bisaya Version)",
          "Tuna Pasta Alfredo",
          "Sinanglay na Tilapia Recipe",
          "Chicken Lollipop Recipe",
          "Pork Burger Steak with Mushroom Gravy",
          "Chicken Alfredo",
          "Pochero with Pork and Beans",
          "7Up Fried Chicken",
          "Ukoy Dulong Recipe",
          "Grilled Tuna Belly",
          "Baked Chicken Nuggets",
          "Ginisang Monggo with Dilis",
          "Homemade Pork Tocino",
          "Potato Salad with Carrots and Pineapple",
          "Bicol Express",
          "Filipino Style Spaghetti Recipe",
          "Bacon and Egg Macaroni Salad with Green Peas",
          "Rich and Creamy Chicken Sopas with Bacon",
          "Ginataang Lechon Kawali with Kalabasa and Long Green Beans",
          "Cheesy Chicken Afritada Recipe",
          "Nilagang Baka with Kalabasa – Filipino boiled beef Soup",
          "Corned Beef Baked Macaroni",
          "Luncheon Meat Mac Salad with Cheese",
          "How to Cook Bulalo",
          "Sinigang na Bangus Recipe",
          "Tuna Macaroni Salad",
          "Ginataang Hipon na may Sitaw at Kalabasa",
          "Beef Bulalo Recipe",
          "Pork Siomai and Nido Oriental Style Soup",
          "Sotanghon with Upo Soup",
          "Homemade Pork and Beans Recipe",
          "Pandesal and Sardines Pizza",
          "Nilagang Buto-buto ng Baka Recipe",
          "Chicken Nilaga with Kalabasa",
          "Oxtail Stew",
          "Broiled Lobster Tail with Lemon Butter Sauce",
          "Special Pork Kaldereta",
          "Pinoy Spaghetti Recipe",
          "Nilagang Baka ala Bulalo",
          "Filipino Style Creamy Bacon and Mushroom Carbonara",
          "Ginataang Manok Na May Luyang Dilaw",
          "How to Cook Sinampalukang Manok",
          "Hotsilog (Hotdog Sinangang at Itlog)",
          "Chicken Curry",
          "Beef Short Rib Sinigang Na May Pakwan",
          "Afritadang Baboy",
          "Corned Beef with Cabbage and Potato",
          "Sinigang na Salmon sa Miso",
          "Grilled Grouper Steak in Foil Packet",
          "Crispy Fried Smelt",
          "Pork Nilaga Recipe",
          "Dinendeng with Bilong-bilong Recipe",
          "Chicken Molo Soup",
          "Binakol na Manok Recipe",
          "Lengua in White Mushroom Sauce",
          "Special Chicken Embutido Recipe (Filipino Chicken Meatloaf)",
          "Morcon with Garlic Fried Rice and Eggs",
          "Champorado with Tuyo (Chocolate Porridge with Salted Dried Fish)",
          "Cheesy Baked Macaroni",
          "Embutido Meatloaf with Tomato and Basil Grilled Cheese Sandwich",
          "Tuna Salad Over Crackers",
          "Tuna Jaw Sinigang",
          "Pork Chop Sinigang",
          "Chicken Potato Salad",
          "Ginataang Gulay with Pork and Shrimp",
          "Corned Beef Silog",
          "Pork Cheeseburger",
          "Ginisang Tuna (Canned Albacore Tuna Sauteed with Onions)",
          "Sinigang na Bangus Belly sa Miso",
          "Deep Fried Breaded Pork Chops",
          "Seaweed Salad Recipe (Ensaladang Lato)",
          "Fried Daing na Bangus with Garlic Fried Rice, Fried Egg, and Pickled Papaya (Daing Silog)",
          "Oven Grilled Liempo",
          "Chopped Tomato and Onion with Bagoong Isda",
          "Sinigang na Lapu lapu sa Miso",
          "Shrimp Alfredo Pasta with Scallops",
          "Kielbasa Fried Rice",
          "Tuna Sandwich Spread",
          "Loaded Breakfast Potato",
          "Beer and Cilantro Marinated Prawn",
          "Pork Giniling Croquette",
          "Hashbrown Casserole",
          "Huevos Rancheros",
          "Crispy Baked Yukon Gold Potato Wedges",
          "Easy Sweet and Sour Sauce",
          "Egg Sandwich Spread Recipe",
          "Kale and Tuna Laing Recipe",
          "Pork Nilaga with Kalabasa",
          "Easy Callos Recipe",
          "Sweet Pepper Relyeno Recipe",
          "Simple Sun-Dried Tomato and Basil Spaghetti",
          "Pork Adobo Paksiw with Jeprox and Shrimp Fried Rice",
          "Ginataang Alimasag with Malunggay",
          "Ensaladang Filipino Recipe",
          "Sinigang na Hipon sa Sampaloc",
          "Crispy Tilapia Sticks Recipe",
          "Shrimp Fried Rice Recipe",
          "Slow Cooked Beef Nilaga Soup Recipe",
          "Roasted Pumpkin Seeds",
          "Special Pinoy Pork Chop Binalot Lunch Combo Meal Recipe",
          "Corn Soup with Mussels and Malunggay",
          "Chicken Dynamite Lumpia Recipe",
          "Nilagang Pata Recipe",
          "Easy Macaroni Salad",
          "Smoked Salmon Pasta",
          "Chicken Guisantes Recipe",
          "How to Make Eggs Benedict",
          "Sisig Pizza",
          "Salted Eggs and Tomato Salad",
          "Patis Fried Chicken",
          "Tuyo Pasta",
          "Tofu with Tausi and Straw Mushrooms",
          "Slow Cooked Pork Chop with Shiitake Mushrooms",
          "Broccoli Bacon Salad Recipe",
          "Easy Chicken Caesar Salad Recipe",
          "Slow Cooked Beef Brisket Recipe",
          "Bacon and Cheese Breakfast Casserole Recipe",
          "Instant Pancit Canton with Vegetables",
          "Ahi Tuna Sandwich with Wasabi Mayonnaise",
          "Garlic Mashed Potato",
          "Tasty Pork Afritada Recipe",
          "Crusted Pork Chop with Adobo Rice Recipe",
          "Spaghetti with Meatballs",
          "Easy Afritada",
          "Easy Meatballs Recipe",
          "Tuna Melt Sandwich",
          "Billy's BBQ Chicken Recipe",
          "Friday Chicken Noodle Soup",
          "Quick Roast Beef Sandwich",
          "Panlasang Pinoy Omelet",
          "Sinigang na Liempo sa Sampaloc",
          "Ginarep Recipe (Shrimp and Corn Soup)",
          "Deep Fried Seasoned Pork Chop",
          "Sweet Pusit Adobo",
          "Bacon and Avocado Sandwich",
          "Easy Roast Beef Sandwich",
          "Fried Chicken Potato Salad",
          "Pinoy Baked Whole Wheat Penne Pasta",
          "Corn Soup with Quail Eggs",
          "Spam and Egg Sandwich",
          "Fried Grouper Steak",
          "Tuna and Zucchini Omelet",
          "Oven Baked French Fries",
          "Slow Cook Pork Chop with Mushroom Gravy",
          "Pulled Chicken BBQ Sandwich recipe",
          "Oven Baked Crusted Pork Loin",
          "Easy Chicken Tacos",
          "Teriyaki Salmon Recipe",
          "Basic Teriyaki Sauce",
          "Sweet Chicken Spaghetti",
          "Breaded Shrimp with Sweet and Sour Sauce",
          "Chicago Style Hotdog",
          "Cheese Pimiento Sandwich Spread",
          "Fried Chicken Breast with Creamy Lemon Sauce Dip",
          "Vegetable Omelet Recipe",
          "Corn Chowder Recipe",
          "Chicken Salad Wrap",
          "Tonkatsu Recipe",
          "Sta. Fe Dip Recipe",
          "Century Egg Congee with Salted Pork",
          "Creamed Spinach Recipe",
          "Salmon Patty Recipe",
          "Turkey Reuben Sandwich",
          "Bacon and Caramelized Onion Cornbread Stuffing",
          "Fettuccine Pasta with Tomato Meat Sauce",
          "How to Cook Easy Chicken Teriyaki",
          "Baked Potato Parmesan Recipe",
          "Dusty Fried Chicken Recipe",
          "Bacon and Egg Fried Rice Recipe",
          "Easy Meatball with Mixed Vegetables Recipe",
          "Java Rice Recipe",
          "Easy Spinach Dip Recipe",
          "Tuna Salad Recipe",
          "Artichoke Dip",
          "Beer Brats Recipe",
          "Tasty Sliders Recipe",
          "Ham and Egg Fried Rice",
          "Sauteed Brussels Sprouts with Bacon Recipe",
          "Spring Rolls Recipe",
          "How to Make Banana Chips",
          "Sweet Potato Leaves Salad Recipe",
          "Eggplant Parmesan Recipe",
          "Tuna Sushi Roll",
          "Ginataang Langka with Dilis Recipe",
          "Garlic Fried Chicken",
          "Bacon Frittata Recipe",
          "Tuna Casserole Recipe",
          "Potato Croquettes Recipe",
          "Onion Rings",
          "Pepper Crusted Filet Mignon Recipe",
          "Apple Coleslaw Recipe",
          "Rotini Chicken Alfredo Recipe",
          "Chicken Teriyaki Recipe",
          "Calamares Recipe",
          "Country Fried Breaded Pork Chop Recipe",
          "Shrimp with Quail Eggs and Green Peas",
          "Ukoy Recipe (Shrimp Fritter)",
          "Sinigang na Panga ng Tuna Recipe (Tuna jaw cooked in sour broth)",
          "Chicken Noodle Soup Recipe",
          "Ginataang Langka Recipe",
          "Corn Salsa Recipe",
          "Tokneneng",
          "Chicken Satay with Peanut Sauce",
          "Potato and Leek Soup Recipe",
          "Crispy Homemade French Fries",
          "Ham and Spinach Omelet Recipe",
          "Humba Recipe",
          "Shared Recipe: Tortang Talong with Giniling",
          "Sweet and Sour Sauce Recipe",
          "Chicken Cordon Bleu",
          "California Roll",
          "Breaded Pork Loin",
          "Buchi",
          "Kwek - Kwek Recipe",
          "Fried Chicken with White Gravy Recipe",
          "Recipe for Chicken Macaroni Salad",
          "Longanisa Recipe (Filipino Sausage)",
          "Homemade Pork Tocino",
          "Pakbet Ilocano Recipe"
         ],
         "legendgroup": "2",
         "marker": {
          "color": "rgb(57, 105, 172)",
          "size": 5,
          "symbol": "circle"
         },
         "mode": "markers",
         "name": "2",
         "showlegend": true,
         "type": "scattergl",
         "x": [
          0.7209199070930481,
          0.7579181790351868,
          0.7745828032493591,
          0.7379376888275146,
          0.7666224241256714,
          0.8052057027816772,
          0.7813161015510559,
          0.8594138622283936,
          0.7538155317306519,
          0.7240338325500488,
          0.7804989218711853,
          0.7508443593978882,
          0.7303207516670227,
          0.754401445388794,
          0.7681884765625,
          0.7627713680267334,
          0.7602930068969727,
          0.7786331176757812,
          0.7633219957351685,
          0.7892380356788635,
          0.687995195388794,
          0.739814043045044,
          0.7555882930755615,
          0.722165048122406,
          0.7004374265670776,
          0.7312444448471069,
          0.764532208442688,
          0.7064923048019409,
          0.7859714031219482,
          0.6936960816383362,
          0.7672460079193115,
          0.7579632997512817,
          0.7713137269020081,
          0.7450901865959167,
          0.7124882936477661,
          0.73863285779953,
          0.6846728920936584,
          0.7262051701545715,
          0.7436015605926514,
          0.7536407709121704,
          0.7845715284347534,
          0.7500800490379333,
          0.8293474912643433,
          0.7174178957939148,
          0.7079050540924072,
          0.7662555575370789,
          0.7809695601463318,
          0.7727919816970825,
          0.7209064960479736,
          0.7334454655647278,
          0.7148573398590088,
          0.7186272144317627,
          0.756426990032196,
          0.8220289945602417,
          0.6960805058479309,
          0.7625583410263062,
          0.7843489646911621,
          0.7604953050613403,
          0.7261213064193726,
          0.7004196643829346,
          0.6774515509605408,
          0.7275804281234741,
          0.7599902749061584,
          0.7482267022132874,
          0.7750329971313477,
          0.7361080646514893,
          0.7535138726234436,
          0.807265043258667,
          0.7134067416191101,
          0.7137222290039062,
          0.760951817035675,
          0.7249488234519958,
          0.667414128780365,
          0.7617526650428772,
          0.7882764935493469,
          0.7376317381858826,
          0.7537874579429626,
          0.7021920680999756,
          0.7624043226242065,
          0.7436188459396362,
          0.800560474395752,
          0.7896647453308105,
          0.7798026204109192,
          0.7680470943450928,
          0.7837879061698914,
          0.7286060452461243,
          0.700352132320404,
          0.6913602352142334,
          0.7882639765739441,
          0.7617295384407043,
          0.7665762305259705,
          0.7657075524330139,
          0.7044969797134399,
          0.7817294001579285,
          0.7621579170227051,
          0.7597202658653259,
          0.6878360509872437,
          0.724054753780365,
          0.7231904864311218,
          0.791486918926239,
          0.7300648093223572,
          0.7847497463226318,
          0.69877028465271,
          0.7465901374816895,
          0.7422291040420532,
          0.8189128041267395,
          0.7053642868995667,
          0.7719063758850098,
          0.8268190622329712,
          0.793239951133728,
          0.6998263001441956,
          0.7202763557434082,
          0.7947863340377808,
          0.6938310861587524,
          0.7566890716552734,
          0.7768851518630981,
          0.7551546096801758,
          0.82275390625,
          0.7842243313789368,
          0.8146237730979919,
          0.8048733472824097,
          0.8241442441940308,
          0.7706944346427917,
          0.6978367567062378,
          0.8168103694915771,
          0.7974631190299988,
          0.7136831879615784,
          0.7657995223999023,
          0.759170651435852,
          0.696586012840271,
          0.7657355070114136,
          0.7670973539352417,
          0.8435180187225342,
          0.7269173264503479,
          0.7290658950805664,
          0.7578374147415161,
          0.6622266173362732,
          0.7534196376800537,
          0.694900393486023,
          0.8453543186187744,
          0.7197476625442505,
          0.714525580406189,
          0.7894259095191956,
          0.7401440143585205,
          0.6778109073638916,
          0.7614433765411377,
          0.7924456596374512,
          0.7537596821784973,
          0.7710363268852234,
          0.7951947450637817,
          0.7566227912902832,
          0.7807543277740479,
          0.8369389176368713,
          0.7458840608596802,
          0.7159900069236755,
          0.8033838868141174,
          0.7756059169769287,
          0.6920661330223083,
          0.7793167233467102,
          0.7569056153297424,
          0.7191580533981323,
          0.829042911529541,
          0.7296742796897888,
          0.7218557000160217,
          0.7903326153755188,
          0.7721462249755859,
          0.687534511089325,
          0.814832329750061,
          0.7635319232940674,
          0.7515643239021301,
          0.7302327752113342,
          0.7864974141120911,
          0.717782199382782,
          0.7352340817451477,
          0.8257984519004822,
          0.8058987855911255,
          0.80466628074646,
          0.784940242767334,
          0.7703080177307129,
          0.7200196385383606,
          0.7522059679031372,
          0.734466016292572,
          0.7817985415458679,
          0.7874536514282227,
          0.8320432901382446,
          0.7832098007202148,
          0.7933695912361145,
          0.7609224915504456,
          0.7537702918052673,
          0.7653676271438599,
          0.7925702333450317,
          0.7407394051551819,
          0.6647448539733887,
          0.7816809415817261,
          0.7664614319801331,
          0.6828688383102417,
          0.7003442049026489,
          0.7666726112365723,
          0.8031541705131531,
          0.6993719339370728,
          0.7556766867637634,
          0.7484543919563293,
          0.7530059218406677,
          0.8443730473518372,
          0.6880184412002563,
          0.7584013938903809,
          0.7902452945709229,
          0.7725242972373962,
          0.750073254108429,
          0.7519913911819458,
          0.7455618977546692,
          0.7540241479873657,
          0.7347735166549683,
          0.7919222712516785,
          0.6610003113746643,
          0.7220402359962463,
          0.7850769758224487,
          0.7530437707901001,
          0.7863938212394714,
          0.7162331342697144,
          0.7838854193687439,
          0.7417988777160645,
          0.7657709717750549,
          0.7718285918235779,
          0.8414997458457947,
          0.8021390438079834,
          0.8292195796966553,
          0.7836325168609619,
          0.757958710193634,
          0.8513991832733154,
          0.7982818484306335,
          0.7948079109191895,
          0.8239758014678955,
          0.7987343668937683,
          0.8349534273147583,
          0.7642902135848999,
          0.7771365642547607,
          0.8324403166770935,
          0.7469666004180908,
          0.7422598600387573,
          0.8276376128196716,
          0.7325246334075928,
          0.7896144390106201,
          0.7417801022529602,
          0.8316106200218201,
          0.7368597984313965,
          0.706961452960968,
          0.6889017224311829,
          0.8040632009506226,
          0.7583422660827637,
          0.7382440567016602,
          0.796312689781189,
          0.7207170128822327,
          0.8010662794113159,
          0.7466955184936523,
          0.7662522792816162,
          0.7093736529350281,
          0.8335919380187988,
          0.7854180932044983,
          0.7795982360839844,
          0.7575404644012451,
          0.8091919422149658,
          0.6946720480918884,
          0.7054836750030518,
          0.7634919881820679,
          0.736391544342041,
          0.7745097279548645,
          0.7958226203918457,
          0.7016586065292358,
          0.781469464302063,
          0.7661211490631104,
          0.7605016827583313,
          0.7621051073074341,
          0.7028040289878845,
          0.689832866191864,
          0.7939258813858032,
          0.8004091382026672,
          0.8248774409294128,
          0.6973432302474976,
          0.7508910894393921,
          0.8199520111083984,
          0.7212604284286499,
          0.7689781785011292,
          0.734366238117218,
          0.8112211227416992,
          0.7584623694419861,
          0.787472665309906,
          0.7684605121612549,
          0.787426769733429,
          0.7863835692405701,
          0.6961561441421509,
          0.7548624277114868,
          0.7252552509307861,
          0.7980477809906006,
          0.7814006209373474,
          0.6857893466949463,
          0.7833966016769409,
          0.755556046962738,
          0.7985222935676575,
          0.7875339984893799,
          0.7671202421188354,
          0.784998893737793,
          0.7976748943328857,
          0.816392183303833,
          0.7225091457366943,
          0.8042818307876587,
          0.6699473261833191,
          0.8000662326812744,
          0.7880101799964905,
          0.8007336854934692,
          0.6661609411239624,
          0.8608050346374512,
          0.7163369655609131,
          0.7579020261764526,
          0.7766438722610474,
          0.8549010157585144,
          0.8518531322479248,
          0.798980712890625,
          0.7618246078491211,
          0.7332282662391663,
          0.7842179536819458,
          0.77260422706604,
          0.7382512092590332,
          0.7418317794799805,
          0.7204794883728027,
          0.7214015126228333,
          0.7702323794364929,
          0.7056726813316345,
          0.7072629928588867,
          0.7686892747879028,
          0.7931548357009888,
          0.868004322052002,
          0.8073932528495789,
          0.7594247460365295,
          0.6852759122848511,
          0.775519847869873,
          0.7744336128234863,
          0.7127213478088379,
          0.7961469888687134,
          0.7775401473045349,
          0.6924110054969788,
          0.8009144067764282,
          0.8479565978050232,
          0.8116801977157593,
          0.7794477939605713,
          0.6600810289382935,
          0.7606518268585205,
          0.8484249114990234,
          0.7824676036834717,
          0.7724952697753906,
          0.8483995199203491,
          0.8533728122711182,
          0.6858999729156494,
          0.836451530456543,
          0.7843000888824463,
          0.7252581119537354,
          0.73563551902771,
          0.7744880318641663,
          0.797508716583252,
          0.8293915390968323,
          0.7992784380912781,
          0.742057204246521,
          0.7875320911407471,
          0.7470285296440125,
          0.721934974193573,
          0.7191580533981323,
          0.7807810306549072
         ],
         "xaxis": "x",
         "y": [
          0.026324378326535225,
          -0.0006467807106673717,
          0.12899599969387054,
          0.07785867154598236,
          0.09997573494911194,
          0.16816172003746033,
          0.018480148166418076,
          0.09618653357028961,
          0.04533950984477997,
          0.06758338958024979,
          0.021158959716558456,
          0.0029683196917176247,
          0.09005109965801239,
          0.019267547875642776,
          0.07427717745304108,
          0.11960295587778091,
          0.09607856720685959,
          0.046793192625045776,
          0.03599347546696663,
          0.09977871179580688,
          0.053512319922447205,
          -0.0006999384495429695,
          0.07021661102771759,
          -0.04371959716081619,
          0.07090318948030472,
          0.10041843354701996,
          -0.006995202973484993,
          -0.01565607450902462,
          0.16655567288398743,
          -0.04301309958100319,
          0.04967503994703293,
          0.0547940731048584,
          0.2034180760383606,
          0.037168193608522415,
          -0.015468730591237545,
          0.09447921812534332,
          0.03627150505781174,
          -0.04868201166391373,
          0.05993078649044037,
          0.1700490415096283,
          0.14281192421913147,
          0.07367856800556183,
          0.09579791128635406,
          0.10698780417442322,
          0.14264005422592163,
          -0.008621273562312126,
          0.06098959222435951,
          0.020442074164748192,
          -0.0006490005180239677,
          -0.011064115911722183,
          0.04410246014595032,
          0.08428367972373962,
          0.1907936930656433,
          0.08608642965555191,
          0.061843141913414,
          0.14879609644412994,
          0.04061941057443619,
          0.004976462572813034,
          -0.04395560920238495,
          0.06045156717300415,
          0.038104213774204254,
          0.15264274179935455,
          0.13542144000530243,
          -0.0018391581252217293,
          0.053333304822444916,
          0.08325961232185364,
          0.0314827524125576,
          0.03142256289720535,
          -0.040026720613241196,
          0.040522970259189606,
          0.1391642689704895,
          0.04882519692182541,
          0.04383157566189766,
          0.03468678891658783,
          0.054454658180475235,
          0.08889620006084442,
          0.03360479697585106,
          0.07776327431201935,
          0.11614406108856201,
          0.11155685782432556,
          0.0347556471824646,
          0.022550132125616074,
          0.05735543742775917,
          0.021877696737647057,
          0.08517950773239136,
          0.06634610891342163,
          -0.0012241238728165627,
          0.02921469882130623,
          0.09877638518810272,
          -0.004380511119961739,
          0.002767836442217231,
          0.09635686874389648,
          0.09551136195659637,
          0.1937820017337799,
          0.07650086283683777,
          0.025925979018211365,
          0.12169007956981659,
          -0.020497890189290047,
          0.02282436564564705,
          0.04437866061925888,
          0.1375243365764618,
          0.098518006503582,
          -0.0028211884200572968,
          0.060855597257614136,
          0.14615021646022797,
          0.08723503351211548,
          0.01229814626276493,
          0.04440724104642868,
          0.11636355519294739,
          0.027259748429059982,
          0.053114380687475204,
          0.1536632776260376,
          0.04051101207733154,
          0.010069466196000576,
          0.029844248667359352,
          0.15120196342468262,
          0.023395603522658348,
          0.18620076775550842,
          0.1588635891675949,
          0.12449540197849274,
          0.02955247461795807,
          0.14520598948001862,
          -0.007548059336841106,
          0.13299179077148438,
          0.1634925901889801,
          0.1964561641216278,
          0.013986479490995407,
          0.1870836615562439,
          0.03293091058731079,
          -0.05859857797622681,
          0.11074265837669373,
          -0.006475645583122969,
          0.10406576842069626,
          -0.02614850550889969,
          0.0804603099822998,
          0.029042232781648636,
          0.0786542072892189,
          0.11748036742210388,
          0.10413670539855957,
          0.07838757336139679,
          0.09815533459186554,
          -0.030505487695336342,
          0.15757212042808533,
          -0.01578468084335327,
          -0.044641099870204926,
          0.06585089862346649,
          0.18669970333576202,
          0.030471164733171463,
          0.09292253851890564,
          0.0954124927520752,
          0.07373867928981781,
          0.09651150554418564,
          0.14055487513542175,
          0.02674529142677784,
          -0.06294547021389008,
          0.08803535252809525,
          0.09109580516815186,
          0.020657500252127647,
          0.13955163955688477,
          -0.009474189952015877,
          0.09063026309013367,
          0.09973526000976562,
          0.06272709369659424,
          -0.0662485659122467,
          0.07960832118988037,
          0.18916204571723938,
          0.05078854784369469,
          0.11951065063476562,
          0.005787387490272522,
          0.17445287108421326,
          0.04522090405225754,
          0.03411024808883667,
          0.0846673771739006,
          0.07151134312152863,
          0.08486057072877884,
          0.04469805955886841,
          0.09967103600502014,
          0.042225439101457596,
          0.06171220541000366,
          0.024648580700159073,
          0.09314160794019699,
          0.06390175968408585,
          0.08850011974573135,
          0.038139551877975464,
          0.09673957526683807,
          0.0892786830663681,
          0.1205122321844101,
          0.10595938563346863,
          0.0007599033415317535,
          0.0792132243514061,
          0.033531900495290756,
          0.06577849388122559,
          0.0581420473754406,
          0.02125006541609764,
          0.04281791299581528,
          0.018747255206108093,
          -0.006039667408913374,
          0.06285206228494644,
          0.10995836555957794,
          0.0799640566110611,
          0.0009545721113681793,
          0.07409802824258804,
          0.13094113767147064,
          0.14317581057548523,
          0.04800018295645714,
          0.1666024923324585,
          0.08294335752725601,
          0.10750126093626022,
          0.03588399291038513,
          0.01943555474281311,
          0.08014553040266037,
          0.09416715055704117,
          0.0607915073633194,
          0.020502224564552307,
          0.05384819954633713,
          -0.024729887023568153,
          0.13276168704032898,
          0.12134671211242676,
          0.058394573628902435,
          -0.05169915035367012,
          0.0218442864716053,
          0.009915219619870186,
          0.02436271496117115,
          0.023386945948004723,
          0.08736059069633484,
          0.10712188482284546,
          0.07831088453531265,
          0.01541224867105484,
          0.16718095541000366,
          0.10770203918218613,
          0.050278790295124054,
          0.0413530208170414,
          0.09452733397483826,
          0.11090495437383652,
          0.14371240139007568,
          0.09177607297897339,
          0.01790512166917324,
          0.07979889214038849,
          0.10047890245914459,
          0.04598800092935562,
          0.16153892874717712,
          0.014357459731400013,
          0.03057638555765152,
          0.11985011398792267,
          0.10027619451284409,
          0.09196010231971741,
          -0.027519667521119118,
          -0.004982968792319298,
          0.04514985531568527,
          0.13934263586997986,
          0.11290816962718964,
          0.1283063292503357,
          0.018880389630794525,
          0.02583344466984272,
          0.07327279448509216,
          0.034149304032325745,
          -0.0039367396384477615,
          0.0968492180109024,
          0.016964301466941833,
          0.04504450038075447,
          0.10881844162940979,
          0.11567924916744232,
          0.1252140998840332,
          -0.005621957592666149,
          0.18648892641067505,
          -0.014103958383202553,
          0.11805574595928192,
          0.04100143164396286,
          0.12343747913837433,
          0.079302117228508,
          0.0052659292705357075,
          0.08689472079277039,
          0.1140003651380539,
          0.05904277414083481,
          -0.003950763959437609,
          0.03532567247748375,
          0.029786527156829834,
          0.1414802074432373,
          0.09084989875555038,
          0.023801371455192566,
          0.10753722488880157,
          -0.011175076477229595,
          0.03666073456406593,
          0.14934401214122772,
          0.12598463892936707,
          0.17003904283046722,
          0.18342411518096924,
          0.18055453896522522,
          0.1142648309469223,
          0.052237965166568756,
          -0.00676832627505064,
          -0.0014319773763418198,
          -0.004509626887738705,
          0.12540443241596222,
          0.049927208572626114,
          -0.03692404925823212,
          0.12187591195106506,
          0.196046382188797,
          0.15030446648597717,
          0.009204092435538769,
          0.08561429381370544,
          0.14589044451713562,
          0.09625208377838135,
          0.1864226758480072,
          0.07951434701681137,
          0.10565689206123352,
          0.03726595640182495,
          0.029861288145184517,
          0.150748610496521,
          0.19889648258686066,
          0.06821689754724503,
          0.08542193472385406,
          -0.05455885827541351,
          0.027530528604984283,
          0.04359552264213562,
          0.0973094180226326,
          0.10783059895038605,
          0.11391249299049377,
          0.012431368231773376,
          0.10431860387325287,
          0.08147461712360382,
          0.10191382467746735,
          -0.0030711954459547997,
          0.1299763321876526,
          -0.031220177188515663,
          -0.030855823308229446,
          0.03239123150706291,
          0.010827409103512764,
          -0.003978544846177101,
          0.11298251152038574,
          0.1448555886745453,
          0.11572720855474472,
          0.08595480769872665,
          0.07221557945013046,
          0.07655935734510422,
          0.20452138781547546,
          0.17691370844841003,
          0.0157388336956501,
          0.03585851937532425,
          0.08077707141637802,
          0.0380871556699276,
          0.1238187700510025,
          0.08400234580039978,
          0.11765965819358826,
          0.10689325630664825,
          0.05121682956814766,
          0.05908045172691345,
          0.1804567277431488,
          0.04232906550168991,
          0.15897971391677856,
          0.08861459046602249,
          0.11884326487779617,
          -0.027236931025981903,
          0.12862874567508698,
          0.024752642959356308,
          -0.07737509906291962,
          0.041473638266325,
          0.126614511013031,
          0.19581684470176697,
          0.0832701325416565,
          0.039489977061748505,
          0.07208048552274704,
          0.08355368673801422,
          0.13642650842666626,
          -0.002788664773106575,
          0.09063026309013367,
          0.04540842026472092
         ],
         "yaxis": "y"
        },
        {
         "customdata": [
          [
           "beef steak<br>butter<br>chili pepper<br>garlic<br>oil<br>salt pepper<br>soy sauce<br>sugar"
          ],
          [
           "bay leaf<br>garlic<br>onion<br>oyster sauce<br>peppercorn<br>pork<br>salt<br>soy sauce"
          ],
          [
           "chili<br>fish sauce<br>garlic<br>ginger<br>oil<br>onion<br>pork<br>salt pepper"
          ],
          [
           "bay leaf<br>breadcrumb<br>butter<br>garlic<br>honey<br>peppercorn<br>pork rib<br>soy sauce<br>sugar<br>vinegar"
          ],
          [
           "garlic<br>kangkong<br>oil<br>onion<br>pepper<br>pork<br>soy sauce<br>vinegar"
          ],
          [
           "chili powder<br>garlic<br>oil<br>okra<br>onion<br>powder<br>roma tomato<br>salt pepper"
          ],
          [
           "bottle gourd<br>fish sauce<br>garlic<br>oil<br>onion<br>salt pepper<br>shrimp<br>tomato"
          ],
          [
           "beef<br>cabbage<br>chili pepper<br>corn<br>fish sauce<br>lemon juice<br>onion<br>peppercorn<br>salt"
          ],
          [
           "bay leaf<br>fish sauce<br>garlic<br>oil<br>onion<br>peppercorn<br>sugar"
          ],
          [
           "bay leaf<br>fish sauce<br>garlic<br>oil<br>onion<br>peppercorn<br>salt pepper<br>squid<br>tomato<br>vinegar"
          ],
          [
           "fish sauce<br>oil<br>onion<br>pasta<br>patola<br>pork<br>salt pepper"
          ],
          [
           "bell pepper<br>chili pepper<br>garlic<br>mussel<br>oil<br>onion<br>salt pepper<br>sherry<br>tomato sauce"
          ],
          [
           "garlic<br>lemon<br>oil<br>onion<br>pork<br>salt<br>soy sauce"
          ],
          [
           "egg<br>garlic<br>oil<br>onion<br>roma tomato<br>salt pepper"
          ],
          [
           "bell pepper<br>carrot<br>chili pepper<br>fish sauce<br>garlic<br>oil<br>onion<br>pork<br>salt<br>vinegar"
          ],
          [
           "garlic powder<br>pig<br>salt<br>vinegar"
          ],
          [
           "banana<br>chili pepper<br>fish sauce<br>garlic<br>oil<br>onion<br>pork<br>salt pepper<br>vinegar"
          ],
          [
           "fish sauce<br>garlic<br>oil<br>onion<br>oyster sauce<br>salt<br>tomato sauce"
          ],
          [
           "garlic<br>peppercorn<br>salt<br>vinegar"
          ],
          [
           "bay leaf<br>carrot<br>celery<br>garlic<br>peppercorn"
          ],
          [
           "chili pepper<br>eggplant<br>garlic<br>oil<br>salt pepper<br>soy sauce<br>vinegar"
          ],
          [
           "bay leaf<br>chili pepper<br>ginger<br>lemon juice<br>onion<br>pepper corn<br>pig<br>pork<br>salt<br>salt pepper"
          ],
          [
           "garlic powder<br>salt<br>vinegar"
          ],
          [
           "cabbage<br>fish sauce<br>garlic<br>oil<br>onion<br>pork rib<br>salt pepper<br>tomato"
          ],
          [
           "chili pepper<br>cucumber<br>fish sauce<br>onion<br>peppercorn<br>salt<br>sesame oil<br>sugar<br>vinegar"
          ],
          [
           "fish sauce<br>garlic<br>kamote<br>roma tomato<br>salt pepper<br>shallot<br>sugar<br>vinegar"
          ],
          [
           "chili pepper<br>cornstarch<br>garlic<br>garlic powder<br>oil<br>peppercorn<br>salt<br>vinegar"
          ],
          [
           "bay leaf<br>chicken<br>garlic<br>oil<br>onion<br>pork<br>salt pepper<br>soy sauce<br>vinegar"
          ],
          [
           "cabbage<br>celery<br>oil<br>onion<br>oyster sauce<br>pasta<br>sesame oil<br>soy sauce<br>sugar<br>wine"
          ],
          [
           "bay leaf<br>egg<br>garlic<br>oil<br>peppercorn<br>rib<br>salt<br>soy sauce<br>vinegar"
          ],
          [
           "butter<br>lemon juice<br>onion<br>salt pepper<br>vegetable oil<br>wine"
          ],
          [
           "chili sauce<br>garlic<br>juice lemon<br>oyster sauce<br>salt<br>sesame oil<br>tuna"
          ],
          [
           "bay leaf<br>garlic<br>oil<br>peppercorn<br>pork<br>salt"
          ],
          [
           "garlic<br>oil<br>onion<br>pineapple<br>pineapple juice<br>pork<br>salt pepper<br>soy sauce<br>vinegar"
          ],
          [
           "garlic powder<br>pork rib<br>salt"
          ],
          [
           "bay leaf<br>chicken<br>chili garlic sauce<br>oil<br>onion<br>peppercorn<br>rock salt<br>soy sauce<br>vinegar"
          ],
          [
           "beef<br>fish sauce<br>garlic<br>oil<br>pepper<br>sugar"
          ],
          [
           "bay leaf<br>chili pepper<br>fish<br>garlic<br>oil<br>peppercorn<br>rock salt"
          ],
          [
           "bean<br>chili garlic sauce<br>cornstarch<br>garlic<br>oil<br>onion<br>sesame oil<br>shrimp<br>soy sauce<br>wine"
          ],
          [
           "bay leaf<br>chicken<br>garlic<br>oil<br>salt pepper<br>soy sauce<br>vinegar"
          ],
          [
           "bay leaf<br>garlic<br>oil<br>onion<br>peppercorn<br>pork<br>salt<br>sugar<br>vinegar"
          ],
          [
           "bay leaf<br>garlic<br>ginger<br>oil<br>onion<br>pork<br>salt pepper<br>vinegar"
          ],
          [
           "garlic<br>oil<br>rice<br>salt pepper"
          ],
          [
           "chicken<br>garlic<br>lemon juice<br>salt<br>soy sauce<br>sugar"
          ],
          [
           "butter<br>garlic<br>ginger<br>lemon juice<br>onion<br>salt pepper<br>soy sauce<br>tamarind powder<br>tilapia<br>tomato"
          ],
          [
           "bay leaf<br>garlic<br>oil<br>pork rib<br>salt pepper<br>soy sauce<br>star anise<br>sugar"
          ],
          [
           "chili pepper<br>mango<br>sugar<br>vinegar"
          ],
          [
           "garlic<br>oil<br>peppercorn<br>pork<br>salt<br>vinegar"
          ],
          [
           "garlic<br>lemongrass<br>pork rib<br>salt<br>shallot<br>vinegar"
          ],
          [
           "chicken<br>chili pepper<br>garlic<br>lemon<br>mayonnaise<br>oil<br>onion<br>salt pepper<br>soy sauce"
          ],
          [
           "chili pepper<br>garlic<br>oil<br>onion<br>potato<br>salt pepper<br>steak<br>tomato"
          ],
          [
           "cornstarch<br>garlic powder<br>lemon<br>milk<br>oil<br>salt pepper<br>squid"
          ],
          [
           "bok choy<br>mushroom<br>oil<br>pork<br>soy sauce<br>star anise<br>sugar<br>vinegar<br>wine"
          ],
          [
           "chicken<br>fish sauce<br>garlic<br>lemon juice<br>onion<br>pepper<br>rock salt"
          ],
          [
           "cinnamon<br>garlic<br>oil<br>onion<br>oregano<br>pork<br>roma tomato<br>salt pepper<br>vinegar"
          ],
          [
           "banana ketchup<br>bay leaf<br>garlic<br>oyster sauce<br>pork<br>salt<br>sesame oil<br>soy sauce<br>vinegar"
          ],
          [
           "beef<br>garlic<br>lemon juice<br>oil<br>salt<br>soy sauce<br>sugar"
          ],
          [
           "bitter gourd<br>garlic<br>oil<br>onion<br>salt pepper<br>tomato"
          ],
          [
           "beef<br>bitter gourd<br>cornstarch<br>oil<br>onion<br>oyster sauce<br>salt pepper<br>sesame oil<br>soy sauce<br>sugar"
          ],
          [
           "bitter gourd<br>chicken<br>fish sauce<br>garlic<br>ginger<br>oil<br>onion<br>salt pepper"
          ],
          [
           "beef<br>cabbage<br>fish sauce<br>oil<br>onion<br>potato<br>roma tomato<br>salt pepper"
          ],
          [
           "garlic powder<br>pork rib<br>salt<br>vinegar"
          ],
          [
           "bay leaf<br>garlic<br>oil<br>onion<br>pork<br>salt<br>soy sauce<br>vinegar"
          ],
          [
           "bell pepper<br>egg<br>oil<br>onion<br>rice<br>salt pepper<br>sesame oil<br>soy sauce"
          ],
          [
           "bay leaf<br>bell pepper<br>carrot<br>oil<br>onion<br>pork<br>potato<br>salt pepper<br>tomato sauce"
          ],
          [
           "cornstarch<br>lemon<br>oil<br>onion<br>pepper<br>pork<br>soy sauce"
          ],
          [
           "bell pepper<br>egg<br>oil<br>onion<br>pepper<br>rice<br>salt<br>sesame oil<br>soy sauce<br>sugar"
          ],
          [
           "carrot<br>cheese<br>cornstarch<br>egg<br>liquid seasoning<br>lumpia wrapper<br>oil<br>onion<br>pepper<br>pork"
          ],
          [
           "garlic<br>lime<br>oil<br>onion<br>oyster sauce<br>pepper<br>pork<br>quail egg<br>soy sauce<br>sugar"
          ],
          [
           "broccoli floret<br>carrot<br>garlic<br>ginger<br>oil<br>onion<br>oyster sauce<br>salt pepper<br>tofu"
          ],
          [
           "banana<br>fish sauce pepper<br>oil<br>onion<br>pork<br>salt<br>vinegar"
          ],
          [
           "bay leaf<br>chicken<br>onion<br>oyster sauce<br>salt pepper<br>soy sauce<br>sugar<br>vinegar"
          ],
          [
           "bean<br>bok choy<br>cabbage<br>corn<br>fish sauce<br>onion<br>peppercorn<br>pork<br>potato"
          ],
          [
           "anchovy<br>chili pepper<br>oil<br>rice<br>salt"
          ],
          [
           "oil<br>onion<br>oyster sauce<br>pork<br>salt pepper<br>spinach"
          ],
          [
           "chicken<br>egg<br>oil<br>onion<br>oyster sauce<br>rice<br>salt pepper<br>sesame oil<br>soy sauce<br>vegetable"
          ],
          [
           "butter<br>liquid seasoning<br>mushroom<br>oil<br>onion<br>parsley<br>salt pepper<br>thyme<br>wine"
          ],
          [
           "bell pepper<br>bok choy<br>fish<br>fish sauce pepper<br>ginataang gulay<br>ginger<br>oil<br>onion<br>pineapple<br>salt"
          ],
          [
           "cornstarch<br>liquid seasoning<br>oil<br>onion<br>oyster sauce<br>soy sauce<br>spinach"
          ],
          [
           "annatto seed<br>fish sauce pepper<br>oil<br>onion<br>pasta<br>pork"
          ],
          [
           "carrot<br>chicken<br>mayonnaise<br>oil<br>onion<br>onion powder<br>pickle<br>pineapple<br>potato<br>salt pepper"
          ],
          [
           "barbecue sauce<br>garlic powder<br>liquid seasoning<br>pepper<br>pork rib<br>salt<br>soy sauce<br>sugar"
          ],
          [
           "corn kernel<br>fish sauce pepper<br>oil<br>onion<br>pepper<br>pork"
          ],
          [
           "beef<br>butter<br>button mushroom<br>cream mushroom soup<br>oil<br>onion<br>parsley<br>salt pepper"
          ],
          [
           "bell pepper<br>cornstarch<br>liquid seasoning<br>oil<br>onion<br>oyster sauce<br>pork<br>salt pepper<br>soy sauce<br>sugar"
          ],
          [
           "bell pepper<br>cabbage<br>carrot<br>oil<br>onion<br>pea<br>pork<br>salt pepper<br>soy sauce"
          ],
          [
           "bean<br>beef<br>bok choy<br>cabbage<br>fish sauce pepper<br>oil<br>onion<br>potato"
          ],
          [
           "bell pepper<br>carrot<br>egg<br>eggplant<br>liquid seasoning<br>oil<br>onion"
          ],
          [
           "bok choy<br>chicken<br>chili pepper<br>fish sauce pepper<br>ginger<br>oil<br>onion<br>tomato"
          ],
          [
           "fish sauce pepper<br>mung bean<br>oil<br>onion<br>pepper<br>pork<br>salt<br>tomato"
          ],
          [
           "garlic<br>oil<br>onion<br>salt pepper<br>soy sauce<br>squid<br>sugar<br>tomato<br>vinegar"
          ],
          [
           "banana ketchup<br>oil<br>onion<br>oyster sauce<br>salt pepper"
          ],
          [
           "carrot<br>hoisin sauce<br>jicama<br>lettuce<br>onion<br>salt pepper<br>sesame oil<br>soy sauce<br>vinegar"
          ],
          [
           "cheese<br>oil<br>onion<br>parsley<br>pasta<br>salt pepper"
          ],
          [
           "beef broth<br>button mushroom<br>cornstarch<br>egg<br>oil<br>onion<br>parsley<br>salt pepper<br>soy sauce"
          ],
          [
           "cornstarch<br>ginger<br>oil<br>onion<br>orange juice<br>pepper<br>sesame oil<br>soy sauce<br>sugar<br>vinegar"
          ],
          [
           "butter<br>carrot<br>egg<br>oil<br>pea<br>rice<br>salt pepper<br>soy sauce"
          ],
          [
           "bell pepper<br>carrot<br>cheese<br>luncheon<br>oil<br>onion<br>pea<br>potato<br>salt pepper<br>tomato sauce"
          ],
          [
           "bay leaf<br>butter<br>chicken<br>oil<br>onion<br>oyster sauce<br>peppercorn<br>soy sauce<br>sugar<br>vinegar"
          ],
          [
           "basil<br>beef<br>cheese<br>egg<br>marinara sauce<br>onion<br>parsley<br>pasta<br>salt<br>salt pepper"
          ],
          [
           "bay leaf<br>chili pepper<br>liquid seasoning<br>mayonnaise<br>onion<br>pepper<br>peppercorn<br>pork<br>salt<br>vinegar"
          ],
          [
           "garlic powder<br>liquid seasoning<br>onion powder<br>pepper<br>pork<br>salt<br>spring onion<br>vinegar"
          ],
          [
           "bay leaf<br>chicken<br>egg<br>oil<br>peppercorn<br>soy sauce<br>sugar<br>vinegar"
          ],
          [
           "bell pepper<br>carrot<br>laurel<br>oil<br>onion<br>pea<br>pork<br>salt pepper<br>soy sauce<br>vinegar"
          ],
          [
           "bay leaf<br>pork<br>salt<br>soy sauce<br>vinegar"
          ],
          [
           "chicken<br>chili pepper<br>fish sauce<br>garlic powder<br>onion<br>pepper<br>salt pepper<br>soy sauce<br>vinegar"
          ],
          [
           "banana ketchup<br>bell pepper<br>carrot<br>cornstarch<br>oil<br>onion<br>salt<br>salt pepper<br>sugar<br>vinegar"
          ],
          [
           "chili pepper<br>fish sauce<br>ginger<br>liquid seasoning<br>onion<br>onion powder<br>pepper<br>sugar<br>vinegar"
          ],
          [
           "bean<br>chicken<br>chili pepper<br>ginataang gulay<br>ginger<br>oil<br>onion<br>shrimp"
          ],
          [
           "bagoong<br>chili pepper<br>coconut milk<br>fish<br>fish sauce<br>jackfruit<br>oil<br>onion<br>shrimp<br>vinegar"
          ],
          [
           "oil<br>onion<br>oyster sauce<br>pepper<br>pork<br>potato<br>soy sauce<br>tomato"
          ],
          [
           "bean<br>chili pepper<br>ginataang gulay<br>oil<br>onion<br>pepper<br>shrimp"
          ],
          [
           "bay leaf<br>chili pepper<br>hoisin sauce<br>oil<br>salt<br>star anise<br>sugar<br>vinegar"
          ],
          [
           "almond<br>annatto oil<br>beef<br>beef broth<br>bok choy<br>eggplant<br>onion<br>peanut<br>salt<br>string bean"
          ],
          [
           "banana bananas<br>laurel<br>oil<br>onion<br>pineapple juice<br>pork<br>salt pepper<br>soy sauce<br>star anise<br>sugar"
          ],
          [
           "carrot<br>egg<br>fish sauce pepper<br>oil<br>onion<br>pea<br>pork<br>potato<br>raisin<br>tomato"
          ],
          [
           "chili pepper<br>coconut milk<br>fish sauce<br>ginger<br>onion<br>papaya<br>pork<br>powder<br>spinach"
          ],
          [
           "bay leaf<br>lemon lime soda<br>oil<br>onion<br>oyster sauce<br>pork<br>soy sauce<br>vinegar"
          ],
          [
           "banana blossom<br>coconut vinegar<br>laurel<br>onion<br>peppercorn<br>pork<br>salt<br>soy sauce<br>sugar"
          ],
          [
           "chicken<br>malunggay<br>oil<br>onion<br>papaya<br>pasta<br>patis pepper<br>rice"
          ],
          [
           "bagoong<br>coconut milk<br>malunggay<br>oil<br>onion<br>salt pepper<br>squash<br>string bean"
          ],
          [
           "fish<br>ginger<br>oil<br>onion<br>salt pepper<br>sugar<br>tomato<br>vinegar"
          ],
          [
           "beef<br>chili pepper<br>fish sauce pepper<br>ginger<br>kamia<br>melon<br>oil<br>onion<br>pork<br>vinegar"
          ],
          [
           "laurel<br>lemongrass<br>oil<br>onion<br>peppercorn<br>pork<br>salt<br>vinegar"
          ],
          [
           "bell pepper<br>lemon juice<br>liquid seasoning<br>mayonnaise<br>oil<br>onion<br>onion powder<br>tofu"
          ],
          [
           "beef<br>bok choy<br>cabbage<br>corn<br>fish sauce<br>onion<br>peppercorn"
          ],
          [
           "beef<br>egg<br>ginger<br>miki pasta<br>oil<br>onion<br>salt pepper<br>soy sauce<br>star anise<br>sugar"
          ],
          [
           "lemongrass<br>oil<br>onion<br>pepper<br>pork<br>salt"
          ],
          [
           "chili pepper<br>lemon<br>lemon lime soda<br>onion<br>pepper<br>pork<br>soy sauce<br>tofu<br>vinegar"
          ],
          [
           "bay leaf<br>beef<br>lemon<br>oil<br>onion<br>pepper<br>potato<br>salt<br>soy sauce<br>tomato sauce"
          ],
          [
           "bitter gourd<br>egg<br>oil<br>onion<br>pepper<br>salt<br>tomato"
          ],
          [
           "bell pepper<br>carrot<br>coconut milk<br>oil<br>onion<br>pineapple juice<br>pork"
          ],
          [
           "bean<br>fish sauce<br>oil<br>onion<br>pepper<br>pork<br>tomato"
          ],
          [
           "barbecue sauce<br>lemon<br>liquid seasoning<br>oil<br>pepper<br>pork"
          ],
          [
           "beef<br>butter<br>oil<br>oyster sauce<br>pepper<br>salt<br>soy sauce"
          ],
          [
           "eggplant<br>fish sauce pepper<br>kangkong<br>oil<br>okra<br>onion<br>pork<br>radish<br>string bean<br>tomato"
          ],
          [
           "banana ketchup<br>bay leaf<br>chicken<br>lemon lime soda<br>oil<br>peppercorn<br>soy sauce<br>vinegar"
          ],
          [
           "bay leaf<br>ginger<br>oil<br>onion<br>pepper<br>pork<br>sampaloc<br>sugar"
          ],
          [
           "bagoong<br>eggplant<br>okra<br>onion<br>salt pepper<br>spinach<br>squash<br>string bean<br>tomato"
          ],
          [
           "bagoong<br>eggplant<br>oil<br>onion<br>pepper<br>pork<br>serrano pepper<br>sugar<br>tomato<br>vinegar"
          ],
          [
           "bay leaf<br>fish sauce<br>oil<br>pineapple juice<br>pork<br>soy sauce<br>vinegar"
          ],
          [
           "ginger<br>lemon juice<br>mango<br>oil<br>onion<br>salt pepper<br>tilapia<br>tomato"
          ],
          [
           "galunggong<br>kamia<br>onion<br>pepper<br>pork<br>salt pepper<br>tomato"
          ],
          [
           "bagoong<br>chili pepper<br>eggplant<br>oil<br>onion<br>pepper<br>pork<br>sugar<br>tomato<br>vinegar"
          ],
          [
           "bay leaf<br>oil<br>onion<br>peppercorn<br>pork<br>salt pepper<br>star anise<br>vinegar"
          ],
          [
           "bell pepper<br>carrot<br>oil<br>onion<br>pork<br>potato<br>salt pepper<br>tomato sauce"
          ],
          [
           "bean<br>chili pepper<br>coconut milk<br>ginger<br>oil<br>onion<br>pepper<br>pork<br>shrimp"
          ],
          [
           "egg<br>oil<br>rice<br>salt pepper<br>sausage"
          ],
          [
           "bay leaf<br>chicken<br>oil<br>onion<br>peppercorn<br>pork sauce<br>salt<br>sugar<br>vinegar"
          ],
          [
           "bay leaf<br>bell pepper<br>carrot<br>chicken<br>oil<br>onion<br>pea<br>salt pepper<br>soy sauce<br>vinegar"
          ],
          [
           "lime<br>oil<br>onion<br>pork<br>salt pepper<br>soy sauce<br>sugar"
          ],
          [
           "coconut milk<br>fish sauce<br>ginger<br>oil<br>onion<br>pepper<br>pork<br>string bean"
          ],
          [
           "bay leaf<br>liquid seasoning<br>peppercorn<br>pork"
          ],
          [
           "oil<br>onion<br>rice<br>salt pepper"
          ],
          [
           "kangkong<br>oil<br>onion<br>pepper<br>soy sauce<br>vinegar"
          ],
          [
           "carrot<br>fish sauce<br>oil<br>onion<br>pepper<br>pork<br>shrimp<br>tomato"
          ],
          [
           "bay leaf<br>bell pepper<br>carrot<br>chicken<br>fish sauce pepper<br>oil<br>onion<br>pineapple<br>potato<br>tomato sauce"
          ],
          [
           "bay leaf<br>carrot<br>coconut milk<br>oil<br>onion<br>pork<br>potato<br>salt pepper<br>soy sauce<br>tomato sauce"
          ],
          [
           "bell pepper<br>chili pepper<br>coconut vinegar<br>garlic<br>onion<br>pepper<br>peppercorn<br>salt<br>soy sauce<br>sugar"
          ],
          [
           "bay leaf<br>onion<br>peppercorn<br>pork<br>pork sauce<br>salt<br>sugar<br>vinegar"
          ],
          [
           "chicken<br>chili pepper<br>ginger<br>lemongrass<br>oil<br>onion<br>pasta<br>patis<br>pepper"
          ],
          [
           "beef<br>bell pepper<br>cornstarch<br>oil<br>oyster sauce<br>pepper<br>soy sauce"
          ],
          [
           "annatto seed<br>carrot<br>celery<br>chicken<br>fish sauce pepper<br>oil<br>onion<br>pasta"
          ],
          [
           "oil<br>onion<br>pineapple<br>pork<br>salt pepper<br>soy sauce<br>sugar"
          ],
          [
           "kangkong<br>mung bean<br>oil<br>onion<br>patis pepper<br>shrimp<br>tomato"
          ],
          [
           "bean<br>chicken<br>mirin<br>oil<br>onion<br>oyster sauce"
          ],
          [
           "beef<br>oil<br>onion<br>patis pepper<br>potato<br>sitaw<br>tomato"
          ],
          [
           "bay leaf<br>chicken<br>lemon lime soda<br>oil<br>peppercorn<br>soy sauce<br>vinegar"
          ],
          [
           "beef<br>oil<br>onion<br>pepper<br>salt pepper<br>sampaloc"
          ],
          [
           "egg<br>eggplant<br>lemon<br>oil<br>onion<br>salt pepper<br>tomato"
          ],
          [
           "cornstarch<br>oil<br>onion<br>pork<br>salt pepper<br>soy sauce<br>star anise<br>sugar"
          ],
          [
           "beef broth<br>oil<br>onion<br>pineapple<br>rib<br>salt pepper<br>soy sauce<br>sugar"
          ],
          [
           "banana<br>chili pepper<br>ginataang gulay<br>oil<br>onion<br>pepper<br>pork"
          ],
          [
           "butter<br>chili pepper<br>garlic powder<br>liquid seasoning<br>mayonnaise<br>oil<br>onion<br>salmon"
          ],
          [
           "butter<br>lemon<br>mussel<br>oil<br>onion<br>rice<br>salt pepper<br>squid"
          ],
          [
           "bay leaf<br>oil<br>onion<br>peppercorn<br>pork<br>soy sauce<br>vinegar"
          ],
          [
           "chicken<br>lemongrass<br>liquid seasoning<br>oil<br>onion<br>peppercorn<br>potato<br>salt"
          ],
          [
           "bell pepper<br>carrot<br>coconut milk<br>oil<br>pea<br>pork<br>potato<br>salt pepper<br>tomato sauce"
          ],
          [
           "chicken<br>malunggay<br>oil<br>onion<br>pasta<br>patis pepper"
          ],
          [
           "chili pepper<br>fish<br>ginataang gulay<br>ginger<br>oil<br>onion<br>pepper<br>spinach<br>vinegar"
          ],
          [
           "bay leaf<br>cane vinegar<br>chicken<br>oil<br>oyster sauce<br>peppercorn"
          ],
          [
           "bay leaf<br>chicken<br>oil<br>onion<br>peppercorn<br>soy sauce<br>vinegar"
          ],
          [
           "egg<br>eggplant<br>oil<br>onion<br>salt pepper"
          ],
          [
           "cabbage<br>oil<br>onion<br>pasta<br>patis pepper<br>sardines tomato sauce"
          ],
          [
           "bay leaf<br>chicken<br>coconut milk<br>oil<br>peppercorn<br>soy sauce<br>vinegar"
          ],
          [
           "bay leaf<br>chicken<br>coconut vinegar<br>oil<br>pepper<br>sugar"
          ],
          [
           "bell pepper<br>chili<br>ginger<br>oil<br>onion<br>peanut<br>salt pepper<br>scallion<br>shrimp"
          ],
          [
           "beef<br>chili pepper<br>ginger<br>oil<br>onion<br>pepper<br>soy sauce<br>vinegar"
          ],
          [
           "bagoong<br>ginger<br>oil<br>onion<br>pepper<br>pork<br>salt<br>sugar<br>tomato<br>vinegar"
          ],
          [
           "oil<br>onion<br>salt<br>soy sauce<br>squid<br>sugar<br>tomato<br>vinegar"
          ],
          [
           "butter<br>lemon juice<br>lemon lime soda<br>parsley<br>salt pepper"
          ],
          [
           "beef<br>egg<br>oil<br>onion<br>salt pepper"
          ],
          [
           "chili pepper<br>coconut milk<br>eggplant<br>ginger<br>kamia<br>onion<br>patis<br>pork<br>salt pepper"
          ],
          [
           "chicken<br>oil<br>onion<br>salt pepper<br>spinach"
          ],
          [
           "beef<br>corn<br>egg<br>fish sauce pepper<br>garlic<br>oil<br>onion<br>rice<br>salt<br>scallion"
          ],
          [
           "carrot<br>egg<br>jicama<br>onion<br>pepper<br>pork<br>scallion<br>sesame oil<br>wonton wrapper"
          ],
          [
           "eggplant<br>fish sauce pepper<br>kangkong<br>okra<br>onion<br>pepper<br>radish<br>sampaloc<br>snake bean<br>tomato"
          ],
          [
           "carrot<br>chicken<br>egg<br>garlic<br>napa cabbage<br>oil<br>onion<br>pasta<br>salt pepper"
          ],
          [
           "kangkong<br>mung bean<br>oil<br>onion<br>patis pepper<br>pork<br>tomato"
          ],
          [
           "oil<br>pork<br>salt"
          ],
          [
           "chili pepper<br>margarine<br>mayonnaise<br>oil<br>onion<br>pepper<br>pork<br>soy sauce"
          ],
          [
           "chicken liquid seasoning<br>nutmeg<br>oil<br>onion powder<br>patis<br>wine"
          ],
          [
           "chicken<br>chili pepper<br>coconut milk<br>ginger<br>oil<br>onion<br>papaya<br>patis pepper<br>spinach"
          ],
          [
           "chili<br>lemongrass<br>oil<br>onion<br>peppercorn<br>pork<br>scallion<br>soy sauce<br>sugar<br>vinegar"
          ],
          [
           "bok choy<br>carrot<br>chicken<br>liquid seasoning<br>oil<br>onion<br>peas<br>salt pepper<br>soy sauce"
          ],
          [
           "bay leaf<br>chicken<br>oil<br>peppercorn<br>soy sauce<br>sugar<br>vinegar"
          ],
          [
           "hotdog<br>oil<br>onion<br>pork<br>salt<br>salt pepper<br>spaghetti<br>sugar<br>tomato sauce"
          ],
          [
           "cabbage<br>oil<br>onion<br>oyster sauce<br>pork<br>salt pepper"
          ],
          [
           "oil<br>onion<br>pork<br>radish<br>salt<br>salt pepper<br>sugar<br>vinegar"
          ],
          [
           "bay leaf<br>chicken<br>oil<br>oyster sauce<br>peppercorn<br>pork<br>salt<br>soy sauce<br>sugar<br>vinegar"
          ],
          [
           "beef<br>beef broth<br>carrot<br>onion<br>pork<br>salt pepper<br>thyme<br>tomato<br>wine"
          ],
          [
           "banana blossom<br>bay leaf<br>pepper corn<br>pork<br>salt<br>soy sauce<br>sugar<br>vinegar"
          ],
          [
           "beef rib<br>chili powder<br>rice wine<br>sesame oil<br>soy sauce<br>sugar"
          ],
          [
           "fish<br>oil<br>pepper<br>salt<br>soy sauce"
          ],
          [
           "carrot<br>chicken<br>chicken liquid seasoning<br>egg<br>lumpia wrapper<br>oil<br>onion<br>pepper"
          ],
          [
           "bell pepper<br>carrot<br>mung bean<br>oil<br>onion<br>oyster sauce<br>pepper<br>tomato"
          ],
          [
           "oil<br>onion<br>pepper<br>pineapple<br>pineapple juice<br>pork<br>soy sauce<br>sugar"
          ],
          [
           "bay leaf<br>chicken<br>chicken broth<br>fish sauce pepper<br>oil<br>onion<br>parsley<br>pea<br>tomato"
          ],
          [
           "banana ketchup<br>lemon<br>lemon juice<br>oil<br>pepper<br>pork<br>soy sauce"
          ],
          [
           "bell pepper<br>carrot<br>cauliflower<br>chicken<br>chicken liquid seasoning<br>cornstarch<br>oil<br>onion<br>pea<br>pepper"
          ],
          [
           "carrot<br>onion<br>pepper<br>pork"
          ],
          [
           "chili pepper<br>coconut milk<br>fish sauce pepper<br>ginger<br>oil<br>onion<br>spinach<br>vinegar"
          ],
          [
           "cheese<br>egg<br>lumpia wrapper<br>oil<br>onion<br>pepper<br>pork<br>salt pepper"
          ],
          [
           "beef broth<br>chili pepper<br>cornstarch<br>fish sauce<br>ginger<br>lemongrass<br>oil<br>onion<br>pepper<br>sugar"
          ],
          [
           "fish<br>ginger<br>lemon<br>onion<br>pepper<br>salt<br>tomato"
          ],
          [
           "eggplant<br>onion<br>pepper<br>salt<br>shrimp<br>tomato<br>vinegar"
          ],
          [
           "oil<br>onion<br>pepper<br>pork<br>salt pepper<br>sugar<br>vinegar"
          ],
          [
           "ginger<br>mussel<br>oil<br>onion<br>pepper<br>salt<br>spinach"
          ],
          [
           "bay leaf<br>oil<br>pepper corn<br>pork<br>salt"
          ],
          [
           "beef<br>egg<br>garlic<br>liquid seasoning<br>oil<br>pepper<br>pineapple juice<br>rice<br>salt<br>sugar"
          ],
          [
           "beef<br>ginger<br>oil<br>onion<br>salt pepper<br>scallion<br>soy sauce<br>star anise<br>sugar"
          ],
          [
           "cabbage<br>carrot<br>celery<br>chicken<br>oil<br>onion<br>parsley<br>pasta<br>pepper<br>soy sauce"
          ],
          [
           "bay leaf<br>garlic powder<br>oil<br>pepper<br>peppercorn<br>pig<br>salt<br>star anise"
          ],
          [
           "chili pepper<br>coconut milk<br>fish sauce<br>ginger<br>oil<br>onion<br>pepper<br>spinach<br>tilapia"
          ],
          [
           "bay leaf<br>oil<br>peppercorn<br>pork"
          ],
          [
           "cabbage<br>ginger<br>liquid seasoning<br>pepper<br>pork<br>salt<br>sesame oil<br>wine"
          ],
          [
           "carrot<br>chicken<br>mushroom<br>oil<br>oyster sauce<br>pasta<br>pepper<br>scallion<br>wine"
          ],
          [
           "egg<br>oil<br>onion<br>pepper<br>salt<br>tomato"
          ],
          [
           "bay leaf<br>chicken<br>oil<br>onion<br>peppercorn<br>salt<br>soy sauce<br>sugar<br>vinegar"
          ],
          [
           "bell pepper<br>cabbage<br>chicken<br>oil<br>onion<br>oyster sauce<br>salt pepper"
          ],
          [
           "garlic<br>oil<br>onion<br>salt pepper<br>soy sauce<br>squid<br>sugar<br>tomato<br>vinegar"
          ],
          [
           "bagoong<br>eggplant<br>oil<br>onion<br>pepper<br>pork<br>sugar<br>tomato<br>vinegar"
          ],
          [
           "broccoli<br>cornstarch<br>ginger<br>liquid seasoning<br>oil<br>oyster sauce<br>salt pepper<br>sesame oil<br>sugar<br>wine"
          ],
          [
           "bay leaf<br>oil<br>onion<br>peppercorn<br>pineapple<br>pork<br>salt<br>soy sauce<br>sugar"
          ],
          [
           "beef<br>bitter gourd<br>cornstarch<br>ginger<br>oil<br>onion<br>oyster sauce<br>pepper<br>sesame oil<br>soy sauce"
          ],
          [
           "bay leaf<br>oil<br>onion<br>pepper<br>pork<br>salt pepper<br>sugar<br>vinegar"
          ],
          [
           "bagoong<br>bean<br>chili<br>ginataang gulay<br>oil<br>onion<br>pork"
          ],
          [
           "beef<br>lemon<br>oil<br>onion<br>pepper<br>salt<br>soy sauce"
          ],
          [
           "chicken<br>fish sauce<br>ginger<br>onion<br>papaya<br>pepper<br>rice"
          ],
          [
           "bay leaf<br>chicken<br>oil<br>peppercorn<br>salt<br>soy sauce<br>sugar<br>vinegar"
          ],
          [
           "bay leaf<br>liquid seasoning<br>onion<br>pepper<br>peppercorn<br>pork<br>scallion<br>sugar<br>vinegar"
          ],
          [
           "paprika<br>pepper<br>pork<br>salt<br>sugar<br>vegetable oil"
          ],
          [
           "ginataang gulay<br>oil<br>onion<br>pork<br>sitaw<br>squash"
          ],
          [
           "chicken<br>oil<br>onion<br>pineapple tidbit<br>salt pepper<br>soy sauce<br>sugar"
          ],
          [
           "cornstarch<br>ginger<br>onion<br>pepper<br>salt<br>soy sauce<br>sugar<br>vegetable oil"
          ],
          [
           "kangkong<br>oil<br>onion<br>salt pepper<br>sitaw<br>soy sauce<br>vinegar"
          ],
          [
           "eggplant<br>fish<br>ginger<br>okra<br>onion<br>pepper<br>peppercorn<br>salt<br>vinegar"
          ],
          [
           "chicken broth<br>cornstarch<br>kangkong<br>oil<br>onion<br>oyster sauce<br>salt pepper<br>squid"
          ],
          [
           "chili pepper<br>lime<br>liquid seasoning<br>mayonnaise<br>onion<br>onion powder<br>pepper<br>salt pepper"
          ],
          [
           "garlic powder<br>oil<br>okra<br>salt pepper<br>tomato"
          ],
          [
           "beer<br>garlic<br>lime<br>oil<br>onion<br>pork<br>salt pepper<br>soy sauce"
          ],
          [
           "bottle gourd<br>fish sauce<br>onion<br>pepper<br>pork<br>squash<br>tomato"
          ],
          [
           "bean<br>beef<br>chili pepper<br>coconut milk<br>fish sauce<br>oil<br>onion<br>pepper<br>spinach"
          ],
          [
           "chicken wing<br>garlic powder<br>oil<br>salt"
          ],
          [
           "bagoong<br>egg<br>lemon<br>oil<br>pepper<br>pork<br>soy sauce<br>tomato"
          ],
          [
           "butter<br>garlic<br>lemon<br>pepper<br>salt<br>vinegar"
          ],
          [
           "bell pepper<br>chili pepper<br>coconut vinegar<br>lemongrass<br>oil<br>peppercorn<br>pork<br>salt"
          ],
          [
           "lemon<br>oil<br>onion<br>pepper<br>salt<br>soy sauce<br>sugar"
          ],
          [
           "chicken<br>garlic<br>garlic powder<br>lemongrass<br>oil<br>onion<br>onion powder<br>salt<br>soy sauce<br>star anise"
          ],
          [
           "banana<br>beef broth<br>oil<br>pork<br>soy sauce<br>sugar<br>vinegar"
          ],
          [
           "bagoong<br>chili pepper<br>coconut milk<br>oil<br>onion<br>pork<br>salt pepper"
          ],
          [
           "beef<br>garlic<br>oil<br>pepper<br>soy sauce"
          ],
          [
           "annatto oil<br>chicken<br>coconut vinegar<br>lemongrass<br>margarine<br>salt<br>sugar"
          ],
          [
           "beef broth<br>corn<br>cornstarch<br>garlic powder<br>oil<br>oyster sauce<br>peas<br>pepper<br>pork<br>soy sauce"
          ],
          [
           "bay leaf<br>coconut cream<br>oil<br>peppercorn<br>pork<br>salt<br>soy sauce<br>vinegar"
          ],
          [
           "chicken<br>egg<br>peppercorn<br>pork<br>salt<br>soy sauce<br>sugar<br>vinegar"
          ],
          [
           "bitter gourd<br>egg<br>garlic powder<br>oil<br>onion<br>pepper<br>salt<br>shrimp<br>tomato"
          ],
          [
           "beef<br>beef broth<br>chili pepper<br>fish sauce<br>oil<br>onion<br>papaya<br>pepper<br>spinach"
          ],
          [
           "chili<br>fish sauce<br>garlic powder<br>oil<br>onion"
          ],
          [
           "beef<br>beef broth<br>carrot<br>oil<br>onion<br>pea<br>potato<br>raisin<br>salt pepper<br>tomato"
          ],
          [
           "chicken<br>chili pepper<br>fish sauce<br>malunggay<br>oil<br>onion<br>pepper<br>rice"
          ],
          [
           "chicken<br>garlic<br>rice<br>salt pepper<br>scallion<br>sesame oil"
          ],
          [
           "chicken<br>chicken broth<br>egg<br>fish sauce<br>lemon<br>oil<br>onion<br>rice<br>scallion"
          ],
          [
           "bay leaf<br>beef broth<br>oil<br>onion<br>peppercorn<br>pork<br>soy sauce<br>sugar<br>vinegar"
          ],
          [
           "butter<br>dill<br>garlic powder<br>lemon<br>salmon<br>salt"
          ],
          [
           "chili<br>coconut cream<br>oil<br>onion<br>pepper<br>pork<br>shrimp"
          ],
          [
           "garlic powder<br>lemongrass<br>onion<br>pepper<br>pork<br>salt<br>scallion<br>star anise"
          ],
          [
           "chicken<br>egg<br>peppercorn<br>pork<br>salt<br>soy sauce<br>sugar<br>vinegar"
          ],
          [
           "mussel<br>oil<br>onion<br>pepper<br>salt<br>spinach"
          ],
          [
           "butter<br>chili<br>garlic<br>parsley<br>salt<br>shrimp"
          ],
          [
           "bay leaf<br>liquid seasoning<br>oil<br>peppercorn<br>pig<br>wine"
          ],
          [
           "bay leaf<br>liquid seasoning<br>oil<br>peppercorn<br>pork"
          ],
          [
           "cayenne pepper powder<br>chicken broth<br>garlic powder<br>oil<br>paprika<br>powder<br>rice<br>salt"
          ],
          [
           "bell pepper<br>cabbage<br>chicken broth<br>fish sauce<br>oil<br>onion<br>pepper<br>pork<br>tomato"
          ],
          [
           "bay leaf<br>beef broth<br>oil<br>onion<br>peppercorn<br>pork sauce<br>salt<br>soy sauce<br>sugar<br>vinegar"
          ],
          [
           "beef broth<br>garlic powder<br>lime<br>oil<br>onion<br>pepper<br>pork<br>salt<br>soy sauce<br>sugar"
          ],
          [
           "butter<br>chili<br>garlic powder<br>liquid seasoning<br>mayonnaise<br>onion<br>pepper<br>pork<br>salt"
          ],
          [
           "bay leaf<br>beef broth<br>chili<br>pepper<br>peppercorn<br>pork<br>soy sauce"
          ],
          [
           "bay leaf<br>oil<br>pork<br>salt"
          ],
          [
           "mustard<br>rice<br>salt"
          ],
          [
           "annatto seed<br>beef<br>beef broth<br>chili<br>garlic powder<br>onion<br>rice<br>salt"
          ],
          [
           "chili<br>fish<br>liquid seasoning<br>oil<br>vinegar"
          ],
          [
           "bay leaf<br>chicken<br>coconut milk<br>garlic<br>oil<br>soy sauce<br>vinegar"
          ],
          [
           "chili<br>cornstarch<br>oil<br>onion<br>onion powder<br>pepper<br>salt pepper<br>soy sauce<br>tofu<br>vegetable broth"
          ],
          [
           "egg<br>eggplant<br>garlic<br>oil<br>onion<br>pepper<br>pork<br>salt<br>tomato"
          ],
          [
           "beef broth<br>cornstarch<br>oil<br>onion<br>pork<br>salt pepper<br>soy sauce<br>sugar<br>wine"
          ],
          [
           "beef broth<br>bottle bitter gourd<br>garlic<br>oil<br>onion<br>pork<br>salt pepper<br>tomato"
          ],
          [
           "annatto oil<br>lime<br>mirin<br>onion<br>pepper<br>salt<br>scallion<br>soy sauce<br>squid<br>tomato"
          ],
          [
           "bay leaf<br>chicken<br>chicken broth<br>garlic<br>peppercorn<br>soy sauce<br>vinegar"
          ],
          [
           "beef<br>garlic rice<br>ginger<br>oil<br>onion<br>pepper<br>salt<br>soy sauce<br>star anise<br>sugar"
          ],
          [
           "bell pepper<br>butter<br>garlic powder<br>oil<br>onion<br>salt pepper<br>wine"
          ],
          [
           "liquid seasoning<br>mung bean<br>oil<br>onion<br>pork<br>salt pepper<br>shrimp<br>spinach<br>tomato"
          ],
          [
           "egg<br>garlic powder<br>lemon<br>oil<br>pepper<br>pork<br>rice<br>salt<br>soy sauce"
          ],
          [
           "fish sauce<br>lime<br>liquid seasoning<br>malunggay<br>mung bean<br>oil<br>onion<br>pepper<br>pork<br>tomato"
          ],
          [
           "bok choy<br>chicken broth<br>fish sauce<br>oil<br>onion<br>pepper<br>pork<br>shrimp<br>tomato"
          ],
          [
           "butternut squash<br>chicken broth<br>garlic<br>malunggay<br>oil<br>onion<br>salt pepper<br>shrimp<br>snake bean"
          ],
          [
           "butter<br>cheese<br>garlic powder<br>lobster<br>pepper<br>spaghetti<br>whipping cream"
          ],
          [
           "fish sauce<br>malunggay<br>mung bean<br>oil<br>onion<br>pepper<br>pork<br>spinach<br>tomato"
          ],
          [
           "beef broth<br>egg<br>garlic<br>pork<br>salt<br>soy sauce<br>sugar<br>tofu<br>vegetable oil"
          ],
          [
           "fish sauce<br>ginataang gulay<br>oil<br>onion<br>pepper<br>scallion<br>shrimp"
          ],
          [
           "bay leaf<br>chicken<br>chicken broth<br>egg<br>oil<br>peppercorn<br>salt<br>soy sauce<br>vinegar"
          ],
          [
           "ginataang gulay<br>oil<br>onion<br>pepper<br>pork<br>salt<br>vinegar"
          ],
          [
           "ginataang gulay<br>oil<br>onion<br>pepper<br>pork<br>salt<br>shrimp"
          ],
          [
           "fish sauce<br>garlic<br>melon<br>oil<br>onion<br>pepper<br>sardines tomato sauce<br>scallion"
          ],
          [
           "bean<br>bell pepper<br>chicken broth<br>garlic powder<br>oil<br>onion<br>oyster sauce<br>pepper<br>snake bean<br>tofu"
          ],
          [
           "butter<br>chili pepper<br>oil<br>pepper<br>salt<br>scallion<br>shrimp"
          ],
          [
           "bay leaf<br>coconut milk<br>fish sauce<br>oil<br>pepper<br>soy sauce<br>squid<br>vinegar"
          ],
          [
           "beef<br>bell pepper<br>cornstarch<br>liquid seasoning<br>oil<br>oyster sauce<br>pepper<br>scallion"
          ],
          [
           "banana ketchup<br>garlic powder<br>lemon<br>liquid seasoning<br>pepper<br>pork<br>soy sauce"
          ],
          [
           "egg<br>eggplant<br>oil<br>pepper<br>salt"
          ],
          [
           "beef<br>bok choy<br>cabbage<br>chili pepper<br>fish sauce<br>lemon<br>onion<br>peppercorn<br>rock salt"
          ],
          [
           "oil<br>onion<br>onion powder<br>pepper<br>pork<br>salt<br>snake bean<br>soy sauce<br>vinegar"
          ],
          [
           "bottle bitter gourd<br>oil<br>onion<br>pepper<br>plum tomato<br>pork"
          ],
          [
           "butter<br>chicken broth<br>juice lemon<br>linguine<br>oil<br>parsley<br>pepper<br>salt<br>shrimp"
          ],
          [
           "beef broth<br>oil<br>onion<br>pepper<br>pork<br>snake bean<br>soy sauce<br>sugar<br>vinegar"
          ],
          [
           "carrot<br>celery<br>onion<br>pasta<br>salt pepper"
          ],
          [
           "beef broth<br>chili pepper<br>oil<br>onion<br>pepper<br>pork<br>salt"
          ],
          [
           "beef<br>cornstarch<br>garlic powder<br>oil<br>oyster sauce<br>pea<br>pepper<br>salt<br>sherry<br>soy sauce"
          ],
          [
           "cabbage<br>carrot<br>mung bean<br>oil<br>onion<br>salt pepper<br>scallion<br>shrimp"
          ],
          [
           "butter<br>clam juice<br>lemon juice<br>oil<br>onion<br>parsley<br>salt pepper<br>wine"
          ],
          [
           "pepper<br>plum tomato<br>salt<br>scallion<br>tamarind<br>tilapia"
          ],
          [
           "chicken broth<br>oil<br>onion<br>plum tomato<br>pork<br>salt pepper"
          ],
          [
           "butter<br>oil<br>oyster sauce<br>pepper<br>pork<br>salt<br>soy sauce"
          ],
          [
           "garlic<br>oil<br>okra<br>pork<br>salt pepper<br>soy sauce<br>sugar<br>vinegar"
          ],
          [
           "beef<br>beef broth<br>juice lemon<br>onion<br>pepper<br>salt<br>soy sauce<br>sugar"
          ],
          [
           "beef<br>egg<br>fish sauce<br>garlic<br>miki pasta<br>salt pepper<br>scallion"
          ],
          [
           "chili pepper<br>coconut milk<br>fish sauce<br>malunggay<br>oil<br>onion<br>tilapia"
          ],
          [
           "chili<br>coconut cream<br>oil<br>onion<br>pepper<br>pork<br>salt pepper<br>shrimp"
          ],
          [
           "bell pepper<br>lime<br>oil<br>onion<br>pea<br>pork<br>potato<br>salt pepper<br>soy sauce"
          ],
          [
           "bay leaf<br>coconut vinegar<br>oil<br>peppercorn<br>pork<br>salt<br>soy sauce"
          ],
          [
           "cream<br>mayonnaise<br>onion<br>parsley<br>salt"
          ],
          [
           "cornstarch<br>ginger<br>oil<br>pepper<br>pork<br>rice<br>scallion<br>soy sauce"
          ],
          [
           "bay leaf<br>chicken broth<br>oil<br>onion<br>peppercorn<br>salt<br>soy sauce<br>sugar<br>vinegar"
          ],
          [
           "bok choy<br>garlic<br>oil<br>oyster sauce<br>pepper<br>salt<br>sesame oil<br>sugar"
          ],
          [
           "bay leaf<br>oil<br>peppercorn<br>pig<br>salt<br>soy sauce<br>vinegar"
          ],
          [
           "banana ketchup<br>garlic<br>lime<br>liquid seasoning<br>oil<br>pork"
          ],
          [
           "eggplant<br>fish sauce<br>onion<br>serrano pepper<br>sitaw<br>spinach<br>tomato"
          ],
          [
           "bay leaf<br>chicken<br>lemongrass<br>onion<br>pepper<br>salt"
          ],
          [
           "chicken broth<br>oil<br>onion<br>pasta<br>patola<br>salt pepper"
          ],
          [
           "lemon<br>oil<br>onion<br>pepper<br>pig<br>salt<br>soy sauce<br>sugar"
          ],
          [
           "garlic<br>oil<br>onion<br>rice"
          ],
          [
           "bay leaf<br>oil<br>peppercorn<br>pork<br>rock salt"
          ],
          [
           "oil<br>onion<br>pepper<br>plum tomato<br>pork<br>salt pepper<br>sampaloc"
          ],
          [
           "fish sauce<br>lemongrass<br>onion<br>pepper<br>plum tomato<br>scallion<br>tuna"
          ],
          [
           "lemongrass<br>malunggay<br>mussel<br>onion<br>salt pepper"
          ],
          [
           "bay leaf<br>pepper<br>pork<br>rock salt"
          ],
          [
           "chili<br>ginger<br>lemon<br>onion<br>pepper<br>salt<br>sugar"
          ],
          [
           "fish<br>fish sauce<br>mung bean<br>oil<br>onion<br>pepper<br>plum tomato<br>salt"
          ],
          [
           "bay leaf<br>chili<br>coconut vinegar<br>ginger<br>onion<br>salt pepper"
          ],
          [
           "beef<br>bitter gourd<br>cornstarch<br>oil<br>oyster sauce<br>pepper<br>sesame oil<br>sherry<br>soy sauce"
          ],
          [
           "bay leaf<br>garlic powder<br>oil<br>onion<br>pepper<br>pork<br>salt"
          ],
          [
           "cornstarch<br>flour<br>oil<br>pepper<br>salt"
          ],
          [
           "garlic powder<br>onion powder<br>paprika<br>salt<br>sugar"
          ],
          [
           "beef<br>celery<br>fish sauce<br>garlic<br>miki pasta<br>oil<br>onion<br>pepper<br>pork<br>scallion"
          ],
          [
           "bay leaf<br>beef steak<br>butter<br>oil<br>salt pepper"
          ],
          [
           "fish sauce<br>galunggong<br>oil<br>okra<br>onion<br>pepper<br>tomato"
          ],
          [
           "galunggong<br>pepper<br>salt<br>vinegar"
          ],
          [
           "bay leaf<br>beef<br>chicken<br>coconut vinegar<br>garlic<br>oil<br>peppercorn<br>pork<br>salt<br>soy sauce"
          ],
          [
           "bok choy<br>cabbage<br>celery<br>fish sauce<br>garlic powder<br>onion<br>pepper<br>potato<br>rib"
          ],
          [
           "bay leaf<br>cayenne pepper powder<br>cumin<br>garlic powder<br>pepper<br>peppercorn<br>pig<br>salt<br>vinegar"
          ],
          [
           "bitter gourd<br>chili<br>coconut cream<br>fish sauce<br>oil<br>onion<br>pepper<br>tuna"
          ],
          [
           "bay leaf<br>beef broth<br>egg<br>oil<br>peppercorn<br>pork<br>salt<br>soy sauce<br>sugar<br>vinegar"
          ],
          [
           "baking potato<br>bay leaf<br>beef<br>bell pepper<br>garlic<br>oil<br>onion<br>pork<br>salt pepper<br>tomato"
          ],
          [
           "beef broth<br>beef steak<br>garlic powder<br>lemon<br>oil<br>onion<br>salt pepper<br>soy sauce<br>sugar"
          ],
          [
           "beef<br>bell pepper<br>egg<br>oil<br>onion<br>salt pepper<br>soy sauce"
          ],
          [
           "bitter gourd<br>calabaza squash<br>eggplant<br>oil<br>okra<br>onion<br>salt pepper<br>string bean<br>tomato<br>vegetable broth"
          ],
          [
           "crab<br>egg<br>eggplant<br>garlic powder<br>oil<br>onion<br>pepper<br>salt"
          ],
          [
           "cayenne pepper powder<br>fish<br>garlic<br>oil<br>salt"
          ],
          [
           "avocado<br>cream<br>garlic powder<br>juice lime<br>salt"
          ],
          [
           "butter<br>garlic powder<br>lemon<br>oil<br>pepper<br>salmon<br>salt<br>thyme"
          ],
          [
           "calabaza squash<br>fish<br>fish sauce<br>oil<br>onion<br>pepper<br>string bean"
          ],
          [
           "bay leaf<br>garlic<br>ham<br>oil<br>onion powder<br>peppercorn<br>salt<br>soy sauce<br>sugar<br>vinegar"
          ],
          [
           "beef<br>beef broth<br>garlic powder<br>lime<br>oil<br>onion<br>pepper<br>scallion<br>soy sauce"
          ],
          [
           "beef broth<br>oil<br>onion<br>pineapple<br>pork<br>salt pepper<br>soy sauce<br>sugar"
          ],
          [
           "chicken<br>chili<br>fish sauce<br>garlic<br>ginger<br>lemongrass<br>oil<br>onion<br>papaya<br>pepper"
          ],
          [
           "garlic<br>oil<br>pepper<br>rosemary<br>salt<br>thyme"
          ],
          [
           "chicken<br>garlic powder<br>pepper<br>salt<br>sesame seed"
          ],
          [
           "beef broth<br>butternut squash<br>coconut milk<br>oil<br>onion<br>pepper<br>pork<br>salt<br>shrimp<br>string bean"
          ],
          [
           "beef broth<br>garlic<br>oil<br>onion<br>pepper<br>pork<br>soy sauce<br>spinach"
          ],
          [
           "chicken<br>chicken broth<br>garlic powder<br>onion<br>onion powder<br>paprika<br>pepper<br>salt"
          ],
          [
           "fish<br>garlic<br>oil<br>parsley<br>pepper<br>salt"
          ],
          [
           "bitter gourd<br>egg<br>oil<br>onion<br>salt pepper<br>tomato"
          ],
          [
           "beef<br>beef broth<br>butter<br>mushroom<br>onion<br>oregano<br>parsley<br>pepper<br>salt<br>tomato"
          ],
          [
           "basil<br>bell pepper<br>chili pepper<br>fish sauce<br>garlic<br>oil<br>pork<br>soy sauce<br>sugar"
          ],
          [
           "egg<br>garlic powder<br>oil<br>onion<br>onion powder<br>rice<br>salt<br>sesame oil<br>soy sauce"
          ],
          [
           "egg<br>oil<br>onion powder<br>pepper<br>salt"
          ],
          [
           "barbecue sauce<br>chicken<br>garlic powder<br>juice lemon<br>oil<br>paprika<br>pepper<br>salt<br>soy sauce"
          ],
          [
           "garlic powder<br>hoisin sauce<br>juice lime<br>pepper<br>pork rib<br>sesame seed<br>soy sauce"
          ],
          [
           "garlic<br>oil<br>onion<br>peppercorn<br>pork<br>salt"
          ],
          [
           "garlic powder<br>ginger<br>lemon juice<br>oil<br>onion<br>pepper<br>plum tomato<br>scallion<br>tilapia"
          ],
          [
           "carrot<br>ginger<br>oil<br>scallion<br>sesame seeds"
          ],
          [
           "chicken<br>egg<br>garlic powder<br>margarine<br>mayonnaise<br>onion<br>pork<br>salt pepper"
          ],
          [
           "garlic powder<br>juice lime<br>pepper<br>pork<br>soy sauce<br>sriracha sauce"
          ],
          [
           "bay leaf<br>beef broth<br>oil<br>salt<br>soy sauce<br>sugar<br>vinegar"
          ],
          [
           "chili<br>coconut vinegar<br>fish<br>peppercorn<br>salt<br>sugar"
          ],
          [
           "garlic<br>garlic rice<br>oil<br>pepper<br>soy sauce"
          ],
          [
           "beef<br>garlic powder<br>oil<br>oregano<br>paprika<br>pepper<br>rosemary<br>salt<br>thyme"
          ],
          [
           "bell pepper<br>cabbage<br>carrot<br>garlic<br>oil<br>onion<br>parsley<br>pork<br>salt pepper<br>soy sauce"
          ],
          [
           "cane<br>cornstarch<br>garlic powder<br>oil<br>onion<br>pepper<br>pork<br>salt<br>soy sauce<br>sugar"
          ],
          [
           "garlic powder<br>oil<br>onion powder<br>pepper<br>salmon<br>salt"
          ],
          [
           "beef broth<br>eggplant<br>garlic<br>oil<br>onion<br>pepper<br>plum tomato<br>pork<br>shrimp"
          ],
          [
           "bell pepper<br>chicken<br>chicken broth<br>cornstarch<br>oil<br>oyster sauce<br>pepper<br>salt<br>sherry wine"
          ],
          [
           "fish sauce<br>malunggay<br>mung bean<br>oil<br>onion<br>pepper<br>plum tomato"
          ],
          [
           "beef broth<br>cornstarch<br>garlic<br>kangkong<br>oil<br>oyster sauce<br>pepper<br>salt pepper<br>sesame seed"
          ],
          [
           "beef<br>bell pepper<br>cornstarch<br>oil<br>onion<br>oyster sauce<br>pepper<br>salt<br>soy sauce"
          ],
          [
           "bean<br>fish sauce<br>garlic<br>oil<br>onion<br>pepper<br>plum tomato<br>pork"
          ],
          [
           "bay leaf<br>chicken<br>lemongrass<br>onion<br>pandan<br>peppercorn<br>salt"
          ],
          [
           "bay leaf<br>garlic<br>lemongrass<br>milk<br>onion<br>peppercorn<br>pig<br>salt"
          ],
          [
           "banana<br>chicken<br>lemongrass<br>pepper<br>salt"
          ],
          [
           "garlic powder<br>pepper<br>salt<br>shrimp"
          ],
          [
           "crab<br>fish sauce<br>ginger<br>oil<br>onion<br>pasta<br>patola<br>pepper"
          ],
          [
           "banana ketchup<br>butter<br>garlic<br>onion<br>salt pepper<br>sherry wine<br>sriracha sauce"
          ],
          [
           "bok choy<br>chicken broth<br>oil<br>onion<br>salt pepper<br>shrimp<br>tomato"
          ],
          [
           "bitter gourd<br>butternut squash<br>chicken broth<br>garlic powder<br>onion<br>salt"
          ],
          [
           "bay leaf<br>coconut milk<br>oil<br>peppercorn<br>salt<br>soy sauce"
          ],
          [
           "butter<br>egg<br>garlic powder<br>onion<br>pepper<br>salt<br>tomato"
          ],
          [
           "flour<br>garlic powder<br>oil<br>paprika<br>pepper<br>pork<br>salt"
          ],
          [
           "fish sauce<br>garlic<br>oil<br>onion<br>pepper<br>squid<br>tomato"
          ],
          [
           "fish<br>fish sauce<br>ginger<br>malunggay<br>oil<br>onion<br>pepper"
          ],
          [
           "fish<br>juice lemon<br>oil<br>onion<br>parsley<br>salt pepper<br>soy sauce"
          ],
          [
           "bay leaf<br>chili<br>garlic powder<br>ginger<br>ginger powder<br>mayonnaise<br>onion<br>peppercorn<br>pig<br>salt pepper"
          ],
          [
           "cane vinegar<br>garlic powder<br>onion<br>pepper<br>pork<br>salt<br>sriracha sauce<br>sugar<br>tomato"
          ],
          [
           "juice lime<br>oil<br>onion<br>pork<br>salt pepper<br>soy sauce<br>sugar"
          ],
          [
           "bitter gourd<br>cane<br>chili<br>eggplant<br>ginger<br>onion<br>peppercorn"
          ],
          [
           "banana<br>bay leaf<br>carrot<br>oil<br>pepper<br>pork<br>salt<br>soy sauce<br>sugar<br>wine vinegar"
          ],
          [
           "chicken broth<br>cream<br>garlic<br>oil<br>onion<br>salt pepper"
          ],
          [
           "cayenne pepper powder<br>dijon mustard<br>garlic<br>juice lemon<br>oil<br>paprika<br>pepper<br>soy sauce<br>wine vinegar"
          ],
          [
           "oil<br>pepper<br>salt"
          ],
          [
           "oil<br>onion<br>salt pepper<br>soy sauce<br>string bean<br>tomato"
          ],
          [
           "garlic<br>oil<br>rice<br>salt"
          ],
          [
           "beef<br>bell pepper<br>garlic<br>ginger<br>oil<br>onion<br>salt pepper<br>sesame oil<br>soy sauce<br>sugar"
          ],
          [
           "annatto powder<br>chicken<br>chicken broth<br>oil<br>onion<br>salt pepper"
          ],
          [
           "chicken<br>chicken broth<br>garlic<br>oil<br>pepper<br>salt<br>soy sauce<br>spice powder<br>star anise<br>sugar"
          ],
          [
           "onion<br>pepper<br>plum tomato<br>salt pepper"
          ],
          [
           "cabbage<br>carrot<br>lemon<br>oil<br>onion<br>pork<br>salt pepper<br>soy sauce<br>squid"
          ],
          [
           "cayenne pepper powder<br>garlic powder<br>oil<br>pepper<br>potato<br>salt"
          ],
          [
           "chili<br>garlic powder<br>ginger powder<br>juice lemon<br>pepper<br>salt<br>sugar"
          ],
          [
           "beef<br>oil<br>parsley<br>rice<br>salt"
          ],
          [
           "chicken<br>garlic powder<br>lemon juice<br>oil<br>pepper<br>rosemary<br>salt<br>vegetable"
          ],
          [
           "chili<br>garlic powder<br>lemon<br>lemon lime soda<br>pepper<br>salt<br>soy sauce"
          ],
          [
           "cabbage<br>carrot<br>chicken broth<br>oil<br>pea<br>pork<br>salt pepper"
          ],
          [
           "bay leaf<br>oil<br>peppercorn<br>pork<br>salt<br>soy sauce"
          ],
          [
           "butter<br>chili<br>garlic<br>oil<br>parsley<br>salt pepper"
          ],
          [
           "barbecue sauce<br>oil<br>pepper<br>pork<br>salt"
          ],
          [
           "garlic<br>oil<br>onion<br>pasta<br>patola<br>salt pepper"
          ],
          [
           "flour<br>garlic powder<br>lemon<br>oil<br>parsley<br>salt"
          ],
          [
           "chicken broth<br>garlic powder<br>ginger<br>lemon<br>oil<br>onion<br>saffron<br>salt pepper<br>scallion"
          ],
          [
           "chicken<br>egg<br>eggplant<br>garlic<br>oil<br>onion<br>salt pepper"
          ],
          [
           "bell pepper<br>clam juice<br>garlic<br>linguine<br>oil<br>onion<br>salt<br>scallion<br>wine"
          ],
          [
           "ginger<br>onion<br>salt pepper<br>spinach"
          ],
          [
           "basil<br>oil<br>salt<br>shrimp"
          ],
          [
           "avocado<br>cayenne pepper powder<br>cilantro<br>garlic<br>juice lime<br>onion<br>plum tomato<br>salt"
          ],
          [
           "bay leaf<br>garlic<br>pepper corn<br>salt<br>soy sauce<br>vinegar"
          ],
          [
           "chorizo<br>napa cabbage<br>onion<br>plum tomato<br>pork<br>salt pepper"
          ],
          [
           "fish sauce<br>garlic powder<br>nutmeg<br>oil<br>pepper<br>soy sauce<br>sugar<br>wine"
          ],
          [
           "anchovy<br>fish sauce<br>garlic<br>malunggay<br>mung bean<br>oil<br>onion<br>pepper<br>plum tomato"
          ],
          [
           "bell pepper<br>lemongrass<br>onion<br>pork rib<br>rice<br>salt pepper<br>string bean"
          ],
          [
           "oil<br>onion<br>salt pepper<br>soy sauce<br>string bean<br>tofu<br>vinegar"
          ],
          [
           "banana blossom<br>chicken<br>chicken broth<br>fish sauce<br>malunggay<br>oil<br>onion<br>pepper<br>salt"
          ],
          [
           "chayote<br>chicken<br>chicken broth<br>oil<br>onion<br>salt pepper<br>shrimp"
          ],
          [
           "bitter gourd<br>chicken<br>oil<br>onion<br>oyster sauce<br>salt pepper"
          ],
          [
           "banana<br>cabbage<br>oil<br>onion<br>peppercorn<br>pork<br>potato<br>salt"
          ],
          [
           "ginger<br>oil<br>onion<br>pig<br>pork<br>salt pepper"
          ],
          [
           "chicken<br>oil<br>pepper<br>salt<br>soy sauce<br>spice powder"
          ],
          [
           "pepper<br>pork<br>salt"
          ],
          [
           "cane vinegar<br>chili<br>coconut cream<br>fish sauce<br>garlic<br>ginger<br>onion<br>pepper<br>salmon"
          ],
          [
           "garlic<br>lemon<br>oil<br>salt"
          ],
          [
           "beef broth<br>bell pepper<br>cabbage<br>oil<br>onion<br>pork<br>salt pepper"
          ],
          [
           "beef<br>beef broth<br>carrot<br>egg<br>garlic<br>oil<br>onion<br>salt pepper<br>star anise"
          ],
          [
           "beef<br>coconut milk<br>ginger<br>oil<br>onion<br>salt pepper<br>serrano pepper<br>shrimp"
          ],
          [
           "beef<br>bell pepper<br>cornstarch<br>garlic powder<br>oil<br>onion<br>pepper<br>salt<br>soy sauce<br>wine"
          ],
          [
           "bay leaf<br>beef<br>oil<br>peppercorn<br>soy sauce<br>sugar<br>vinegar"
          ],
          [
           "butter<br>chicken<br>egg<br>garlic powder<br>mayonnaise<br>oil<br>onion<br>salt pepper<br>serrano pepper<br>soy sauce"
          ],
          [
           "apple<br>beef broth<br>oil<br>onion<br>pork<br>rosemary<br>salt pepper<br>thyme"
          ],
          [
           "bell pepper<br>cornstarch<br>oil<br>oyster sauce<br>pepper<br>pork<br>salt<br>scallion<br>soy sauce<br>wine"
          ],
          [
           "napa cabbage<br>oil<br>onion<br>pork<br>salt pepper<br>tomato"
          ],
          [
           "chicken<br>chicken broth<br>fish sauce<br>ginger<br>napa cabbage<br>peppercorn<br>potato"
          ],
          [
           "beef broth<br>bok choy<br>oil<br>onion<br>salt pepper<br>soy sauce<br>string bean<br>sugar<br>tomato"
          ],
          [
           "chicken broth<br>corn<br>garlic<br>jicama<br>oil<br>onion<br>salt pepper<br>vegetable<br>wine"
          ],
          [
           "garlic<br>oil<br>pepper<br>rosemary<br>salt<br>thyme"
          ],
          [
           "egg<br>fish sauce<br>garlic<br>oil<br>onion<br>parsley<br>pepper<br>tofu<br>tomato"
          ],
          [
           "garlic<br>ginger<br>oil<br>onion<br>pork<br>pork sauce<br>salt pepper<br>soy sauce<br>sugar"
          ],
          [
           "basil<br>lemon juice<br>oil<br>onion<br>parsley<br>salt pepper<br>tomato<br>wine vinegar"
          ],
          [
           "oil<br>salt pepper<br>soy sauce<br>spinach<br>sugar<br>vinegar"
          ],
          [
           "cane vinegar<br>oil<br>onion<br>pepper<br>pork<br>salt<br>soy sauce<br>sugar<br>tofu"
          ],
          [
           "beef broth<br>oil<br>onion<br>pork<br>salt pepper<br>spaghetti<br>sugar<br>tomato<br>tomato sauce"
          ],
          [
           "chicken<br>chicken broth<br>garlic<br>oil<br>onion<br>rice pasta<br>salt pepper<br>scallion"
          ],
          [
           "cane<br>chicken broth<br>garlic<br>oil<br>onion<br>pepper<br>pork<br>salt"
          ],
          [
           "bay leaf<br>bok choy<br>garlic<br>oil<br>salt pepper<br>soy sauce<br>sugar<br>vinegar"
          ],
          [
           "banana blossom<br>cane vinegar<br>chili pepper<br>fish sauce<br>garlic<br>oil<br>onion<br>pepper<br>vegetable broth"
          ],
          [
           "beef broth<br>chayote<br>fish sauce<br>oil<br>onion<br>pepper<br>pork<br>rice<br>spinach"
          ],
          [
           "fish<br>fish sauce<br>garlic<br>oil<br>onion<br>pepper<br>salt<br>sampaloc<br>spinach<br>tomato"
          ],
          [
           "beef<br>broccoli<br>cornstarch<br>garlic<br>oil<br>oyster sauce<br>salt pepper<br>soy sauce<br>sugar"
          ],
          [
           "bay leaf<br>fish sauce<br>garlic<br>oil<br>onion<br>pepper<br>spinach<br>zucchini"
          ],
          [
           "lemon juice<br>mayonnaise<br>onion<br>pepper<br>pickle<br>salt"
          ],
          [
           "chili powder<br>garlic powder<br>juice lemon<br>pepper<br>rib<br>soy sauce<br>tomato ketchup"
          ],
          [
           "garlic powder<br>lemon<br>pepper<br>pork<br>salt<br>shrimp"
          ],
          [
           "cornstarch<br>garlic<br>oil<br>onion<br>oyster sauce<br>parsley<br>salt pepper<br>soy sauce<br>tilapia"
          ],
          [
           "chayote<br>chili<br>fish sauce<br>ginger<br>malunggay<br>oil<br>onion<br>pepper<br>salmon"
          ],
          [
           "garlic<br>oil<br>pepper<br>pork<br>rosemary<br>salt"
          ],
          [
           "dijon mustard<br>mayonnaise<br>oil<br>onion<br>parsley<br>pepper<br>pork<br>potato<br>salt<br>soy sauce"
          ],
          [
           "basil<br>cheese<br>garlic<br>oil<br>salt pepper"
          ],
          [
           "fish sauce<br>miso<br>mustard<br>oil<br>okra<br>onion<br>pepper<br>tilapia<br>tomato"
          ],
          [
           "bean<br>cornstarch<br>garlic<br>oil<br>onion<br>oyster sauce<br>parsley<br>pepper<br>pork"
          ],
          [
           "basil<br>chicken<br>chili<br>fish sauce<br>garlic<br>oil<br>pepper<br>sugar"
          ],
          [
           "bay leaf<br>garlic<br>mussel<br>oil<br>peppercorn<br>salt<br>soy sauce<br>vinegar"
          ],
          [
           "garlic powder<br>ginger<br>oil<br>onion<br>salt<br>soy sauce<br>squid"
          ],
          [
           "coconut milk<br>fish sauce<br>ginger<br>mussel<br>oil<br>onion<br>pepper<br>spinach"
          ],
          [
           "cinnamon powder<br>nutmeg<br>oil<br>oregano<br>pepper<br>pork<br>salt<br>sugar<br>thyme<br>wine"
          ],
          [
           "cheese<br>fish<br>oil<br>paprika<br>parsley<br>pepper"
          ],
          [
           "banana ketchup<br>garlic powder<br>lemon juice<br>oil<br>pepper<br>pork<br>salt<br>soy sauce<br>sugar"
          ],
          [
           "beef broth<br>flour<br>oil<br>oyster sauce<br>pork<br>salt pepper<br>soy sauce<br>zucchini"
          ],
          [
           "oil<br>salt pepper<br>sesame oil<br>spinach<br>tofu<br>vegetable oil"
          ],
          [
           "chicken<br>garlic<br>lemon juice<br>oil<br>parsley<br>pepper<br>rosemary<br>salt<br>seasoning<br>thyme"
          ],
          [
           "bay leaf<br>chili<br>oil<br>oyster sauce<br>peppercorn<br>pork<br>salt<br>soy sauce<br>sugar<br>vinegar"
          ],
          [
           "chicken<br>chicken broth<br>fish sauce<br>ginger<br>oil<br>onion<br>pepper<br>spinach"
          ],
          [
           "garlic powder<br>ginger powder<br>sake<br>salt<br>soy sauce<br>sugar<br>tomato ketchup"
          ],
          [
           "beef steak<br>oil<br>pepper<br>salt"
          ],
          [
           "butter<br>juice lemon<br>lobster<br>parsley<br>pepper<br>salt"
          ],
          [
           "oil<br>pork<br>rice<br>salt<br>soy sauce"
          ],
          [
           "butter<br>oil<br>salt pepper"
          ],
          [
           "cornstarch<br>garlic<br>oil<br>onion<br>oyster sauce<br>parsley<br>salt pepper<br>soy sauce<br>sugar"
          ],
          [
           "lime<br>margarine<br>mayonnaise<br>onion<br>pepper<br>pork<br>salt<br>sauce<br>soy sauce"
          ],
          [
           "bell pepper<br>oil<br>oyster sauce<br>parsley<br>pea<br>pepper<br>salt<br>soy sauce"
          ],
          [
           "chili sauce<br>fish sauce<br>garlic<br>hoisin sauce<br>knob ginger<br>oil<br>sesame oil"
          ],
          [
           "basil<br>beef<br>egg<br>oil<br>pepper<br>roma tomato<br>salt"
          ],
          [
           "cilantro<br>garlic<br>juice lime<br>oil<br>rice<br>salt"
          ],
          [
           "bay leaf<br>oil<br>onion<br>pork<br>sugar<br>vinegar"
          ],
          [
           "beef broth<br>carrot<br>oil<br>onion<br>pork rib<br>salt pepper<br>thyme<br>wine"
          ],
          [
           "egg<br>garlic powder<br>oil<br>rice<br>salt<br>soy sauce"
          ],
          [
           "oil<br>onion<br>salt pepper<br>soy sauce"
          ],
          [
           "mango<br>oil<br>pork<br>rice<br>scallion"
          ],
          [
           "garlic powder<br>ice<br>oil<br>pepper<br>pork<br>salt<br>sugar"
          ],
          [
           "chili pepper<br>cilantro<br>garlic<br>juice lemon<br>onion<br>salt<br>tomato"
          ],
          [
           "cumin<br>oil<br>parsley<br>rice<br>salt"
          ],
          [
           "cilantro<br>cumin<br>garlic<br>lime juice<br>oil<br>pepper<br>salt<br>steak<br>sugar"
          ],
          [
           "barbecue sauce<br>pepper<br>pork rib<br>salt<br>soy sauce"
          ],
          [
           "bay leaf<br>egg<br>oil<br>oyster sauce<br>pepper corn<br>pork<br>sherry<br>soy sauce<br>sugar<br>vinegar"
          ],
          [
           "basil<br>garlic powder<br>oil<br>onion<br>pepper<br>pork<br>salt"
          ],
          [
           "chicken<br>garlic<br>garlic powder<br>lemon<br>oil<br>pepper<br>potato<br>rosemary<br>salt"
          ],
          [
           "butter<br>cheese<br>garlic<br>lemon<br>oil<br>pepper<br>potato<br>salt"
          ],
          [
           "fish<br>fish sauce<br>ginger<br>lemon<br>lemongrass<br>malunggay<br>oil<br>onion<br>pepper"
          ],
          [
           "bean<br>carrot<br>cauliflower<br>chicken<br>garlic powder<br>oil<br>salt pepper<br>squash"
          ],
          [
           "ginger<br>salt<br>scallion<br>sesame oil<br>sherry<br>soy sauce"
          ],
          [
           "ginger powder<br>oil<br>onion<br>salt pepper<br>spinach<br>sugar<br>tomato<br>vegetable broth"
          ],
          [
           "beef<br>beef broth<br>garlic powder<br>oil<br>onion<br>potato<br>salt pepper"
          ],
          [
           "chayote<br>oil<br>onion<br>pepper<br>pork<br>salt<br>tomato"
          ],
          [
           "chili powder<br>garlic powder<br>oil<br>pepper<br>pork<br>salt"
          ],
          [
           "fish sauce<br>lemon<br>oil<br>onion<br>parsley<br>pepper<br>sardines tomato sauce<br>tomato"
          ],
          [
           "bay leaf<br>garlic<br>oil<br>pepper corn<br>pork<br>potato<br>salt<br>soy sauce<br>vinegar"
          ],
          [
           "chili<br>garlic<br>kangkong<br>oil<br>onion<br>oyster sauce<br>pepper<br>salt<br>tofu"
          ],
          [
           "egg<br>eggplant<br>oil<br>onion<br>pepper<br>pork<br>salt<br>soy sauce<br>tomato"
          ],
          [
           "fish<br>oil<br>peppercorn<br>salt<br>vinegar"
          ],
          [
           "ginger<br>oil<br>salt pepper<br>scallion<br>sherry wine<br>soy sauce<br>sugar<br>tomato ketchup"
          ],
          [
           "bay leaf<br>oil<br>oyster sauce<br>pork<br>salt pepper<br>soy sauce<br>sugar<br>vinegar"
          ],
          [
           "oil<br>salt<br>sesame oil<br>spinach"
          ],
          [
           "celery<br>chicken<br>chicken broth<br>cornstarch<br>lemon<br>oil<br>salt pepper<br>sherry<br>soy sauce<br>sugar"
          ],
          [
           "garlic powder<br>oil<br>pepper<br>pork<br>salt"
          ],
          [
           "butter<br>cheese<br>linguine<br>mussel<br>onion<br>parsley<br>pepper<br>salt<br>wine"
          ],
          [
           "chicken<br>garlic powder<br>lemon<br>oil<br>onion<br>pepper<br>salt<br>thyme"
          ],
          [
           "cabbage<br>chicken broth<br>oil<br>onion<br>tomato sauce"
          ],
          [
           "cornstarch<br>garlic powder<br>oil<br>pepper<br>pork rib<br>salt<br>sherry<br>spice powder"
          ],
          [
           "barbecue sauce<br>oil<br>rice<br>salt"
          ],
          [
           "bell pepper<br>fish<br>oil<br>onion<br>peppercorn<br>salt<br>sugar<br>vinegar"
          ],
          [
           "bay leaf<br>chicken<br>chili<br>oil<br>oyster sauce<br>peppercorn<br>salt<br>soy sauce<br>sugar<br>vinegar"
          ],
          [
           "garlic<br>miki pasta<br>onion powder<br>pepper<br>pig<br>pork<br>salt<br>spring onion<br>sugar"
          ],
          [
           "chili<br>fish<br>fish sauce<br>mustard<br>oil<br>onion<br>tomato"
          ],
          [
           "lemon juice<br>oil<br>onion<br>salt pepper<br>tilapia<br>tomato"
          ],
          [
           "dijon mustard<br>pepper<br>pork<br>salt<br>soy sauce<br>sugar"
          ],
          [
           "cauliflower<br>cheese<br>oil<br>parsley<br>salt pepper"
          ],
          [
           "bell pepper<br>oil<br>onion<br>parsley<br>peppercorn<br>salt<br>salt pepper<br>steak<br>tomato<br>wine vinegar"
          ],
          [
           "chicken broth<br>corn<br>malunggay<br>oil<br>onion<br>salt pepper"
          ],
          [
           "bell pepper<br>egg<br>oil<br>onion<br>parsley<br>salt pepper<br>wine vinegar"
          ],
          [
           "chili pepper<br>chili powder<br>cilantro<br>garlic powder<br>lime juice<br>oil<br>pineapple<br>salt pepper<br>tilapia<br>tomato"
          ],
          [
           "bean<br>oil<br>onion<br>oyster sauce<br>parsley<br>pork<br>salt pepper<br>soy sauce<br>sugar<br>tofu"
          ],
          [
           "beef<br>bell pepper<br>honey<br>oil<br>onion<br>salt pepper<br>soy sauce<br>wine vinegar"
          ],
          [
           "cilantro<br>lime juice<br>oil<br>pepper<br>salt pepper<br>sugar"
          ],
          [
           "crab<br>garlic<br>mussel<br>oil<br>onion<br>rice<br>saffron<br>salt pepper<br>squid<br>tomato sauce"
          ],
          [
           "bell pepper<br>chicken<br>cumin<br>garlic powder<br>lime juice<br>oil<br>onion<br>paprika<br>pepper<br>salt"
          ],
          [
           "bay leaf<br>cheese<br>chili<br>oil<br>onion<br>oregano<br>parsley<br>tomato<br>tomato sauce"
          ],
          [
           "ginger<br>pork<br>salt pepper<br>soy sauce<br>sugar"
          ],
          [
           "chicken<br>cumin<br>food<br>garlic<br>ginger<br>lemon<br>oil<br>pepper<br>salt"
          ],
          [
           "garlic<br>oil<br>onion<br>pork<br>salt<br>salt pepper<br>shrimp<br>vinegar"
          ],
          [
           "crab<br>oil<br>onion<br>rice wine<br>salt pepper<br>whipping cream"
          ],
          [
           "beef<br>chili<br>ginger<br>oil<br>oyster sauce<br>pepper<br>salt<br>soy sauce<br>spinach"
          ],
          [
           "cream cheese<br>lemon juice<br>oil<br>onion<br>rock salt<br>spring onion"
          ],
          [
           "bay leaf<br>chili<br>oil<br>peppercorn<br>rice wine<br>salt<br>soy sauce<br>sugar<br>vinegar"
          ],
          [
           "carrot<br>chicken<br>dijon mustard<br>grape tomato<br>oil<br>salt<br>wine vinegar"
          ],
          [
           "beef<br>beef broth<br>carrot<br>celery<br>oil<br>onion<br>salt pepper<br>thyme<br>wine"
          ],
          [
           "bean<br>dijon mustard<br>dill<br>oil<br>pepper<br>potato<br>salt<br>wine vinegar"
          ],
          [
           "bean<br>cheese<br>dill<br>onion<br>pepper<br>salt<br>wine vinegar"
          ],
          [
           "basil<br>cheese<br>chicken wing<br>cumin<br>garlic powder<br>oil<br>oregano<br>salt"
          ],
          [
           "chili<br>fish sauce<br>oil<br>onion<br>pig<br>pork<br>vinegar<br>wine"
          ],
          [
           "bitter gourd<br>chili<br>knob ginger<br>onion<br>peppercorn<br>salt<br>vinegar"
          ],
          [
           "chicken wing<br>fish sauce<br>ginger<br>lemon<br>oil<br>oyster sauce<br>pepper<br>soy sauce<br>sugar"
          ],
          [
           "chili<br>cucumber<br>ginger<br>lemon<br>onion<br>salt<br>tuna<br>vinegar"
          ],
          [
           "bok choy<br>fish<br>fish sauce<br>ginger<br>oil<br>onion<br>peppercorn<br>rice<br>salt"
          ],
          [
           "fish sauce<br>garlic<br>oil<br>onion<br>pasta<br>pepper<br>scallion"
          ],
          [
           "ginger<br>lemon<br>pepper<br>salt"
          ],
          [
           "chili<br>ginger<br>lemon<br>oil<br>onion<br>ox<br>pepper<br>salt"
          ],
          [
           "butter<br>celery<br>chicken<br>garlic powder<br>lemon<br>onion<br>pepper<br>salt<br>thyme"
          ],
          [
           "garlic<br>ginger<br>onion<br>peppercorn<br>vinegar"
          ],
          [
           "bell pepper<br>chili<br>chili sauce<br>lemon juice<br>oil<br>onion<br>rice wine<br>salt pepper<br>tomato sauce"
          ],
          [
           "onion<br>pepper<br>pork<br>soy sauce<br>string bean<br>vinegar"
          ],
          [
           "chili<br>ginger<br>lemon<br>onion<br>pepper<br>salt<br>tuna<br>vinegar"
          ],
          [
           "bay leaf<br>chili<br>goat<br>oil<br>onion<br>soy sauce<br>vinegar"
          ],
          [
           "banana<br>bay leaf<br>carrot<br>oil<br>peppercorn<br>pork<br>soy sauce<br>sugar<br>vinegar"
          ],
          [
           "chili pepper<br>rice vinegar<br>sesame oil<br>soy sauce"
          ],
          [
           "bay leaf<br>beef broth<br>onion<br>peppercorn<br>pork<br>pork sauce<br>salt<br>soy sauce<br>sugar<br>vinegar"
          ],
          [
           "apple vinegar<br>bread crumb<br>onion<br>pig<br>pork<br>salt pepper<br>sugar"
          ],
          [
           "chicken<br>lemon<br>oil<br>pepper<br>salt<br>thyme"
          ],
          [
           "apple vinegar<br>cucumber<br>ginger<br>onion<br>pepper<br>salt<br>sugar"
          ],
          [
           "beef broth<br>cornstarch<br>onion<br>pepper<br>salt<br>soy sauce<br>star anise<br>sugar"
          ],
          [
           "basil<br>cheese<br>oil<br>pepper<br>salt pepper<br>spaghetti pasta"
          ],
          [
           "butter<br>lemon juice<br>oil<br>parsley<br>salt"
          ],
          [
           "chicken<br>chili<br>coconut milk<br>ginger<br>oil<br>onion<br>papaya<br>paprika<br>salt pepper<br>spinach"
          ],
          [
           "bell pepper<br>broccoli<br>chicken<br>cornstarch<br>egg<br>oil<br>onion<br>oyster sauce<br>rice wine<br>soy sauce"
          ],
          [
           "chili sauce<br>crab<br>fish sauce<br>ginger<br>hoisin sauce<br>oil<br>onion<br>pepper<br>sesame oil<br>tomato ketchup"
          ],
          [
           "oil<br>rice<br>salt"
          ],
          [
           "bay leaf<br>cilantro<br>oil<br>pepper<br>salt"
          ],
          [
           "banana ketchup<br>lemon<br>oil<br>pepper<br>pork<br>salt<br>soy sauce"
          ],
          [
           "bottle gourd<br>oil<br>onion<br>pepper<br>pork<br>salt<br>tomato"
          ],
          [
           "garlic<br>lemon<br>oil<br>onion<br>salt<br>soy sauce"
          ],
          [
           "bay leaf<br>oil<br>pepper corn<br>salt<br>vinegar"
          ],
          [
           "beef<br>garlic<br>pepper<br>salt<br>soy sauce<br>sugar"
          ],
          [
           "oil<br>pepper<br>salt<br>wine"
          ],
          [
           "chili<br>lemon<br>onion<br>salt pepper<br>soy sauce<br>squid<br>tomato"
          ],
          [
           "chicken<br>fish sauce<br>ginger<br>onion<br>papaya<br>pepper<br>rice"
          ],
          [
           "chicken<br>lemon<br>oil<br>pepper<br>salt"
          ],
          [
           "chili pepper<br>coconut milk<br>fish sauce pepper<br>ginger<br>onion<br>pork<br>shrimp"
          ],
          [
           "beef<br>mushroom<br>oil<br>onion<br>oyster sauce<br>potato<br>tomato sauce"
          ]
         ],
         "hovertemplate": "<b>%{hovertext}</b><br><br>cluster=0<br>x=%{x}<br>y=%{y}<br>cleaned_ingredients=%{customdata[0]}<extra></extra>",
         "hovertext": [
          "Beef Salpicao",
          "Pork Adobo with Oyster Sauce",
          "Batchoy Tagalog",
          "Baby Back Ribs with Adobo Glaze",
          "Adobong Kangkong",
          "Curried Okra with Tomatoes",
          "Ginisang Upo at Hipon",
          "Bulalo",
          "Fried Chicken a la Max's Restaurant",
          "Ginisang Pusit",
          "Miswa at Patola Soup",
          "Spicy Tahong",
          "Pork Bistek",
          "Tortang Dulong",
          "Bopis",
          "Oven-Roasted Pig Head",
          "Kilawing Puso nang Saging",
          "Shrimp with Oyster Sauce",
          "Chicken Skin Chicharon",
          "How to Make Shrimp Stock",
          "Adobong Talong",
          "Dinakdakan",
          "Crispy Pork Shoulder",
          "Kinamatisang Baboy",
          "Ensaladang Pipino",
          "Ensaladang Talbos ng Kamote",
          "Crispy Tahong (Deep-Fried Mussels)",
          "Chicken and Pork Adobo",
          "Panda Express Chow Mein Copycat",
          "Loslos",
          "Sriracha Shrimp Scampi",
          "Grilled Tuna Belly",
          "Lechon Kawali",
          "Pork Adobo with Pineapple",
          "Slow Cooker Lechon",
          "Adobong Paa nang Manok (Chicken Feet Adobo)",
          "Beef Tapa",
          "Spanish-style Sardines Bangus in Olive Oil",
          "Shrimp in Black Bean Sauce",
          "Chicken Adobo with Liver Spread",
          "Adobong Puti",
          "Adobong Dilaw",
          "Sinangag (Garlic Fried Rice)",
          "Chicken Tapa",
          "Pinaputok na Tilapia",
          "Pork Spareribs Macao-style Asado",
          "Pickled Mangoes (Burong Mangga)",
          "Pork Chicharon",
          "Pork Belly Lechon Roll",
          "Chicken Sisig",
          "Carne Guisada",
          "Crispy Fried Calamari",
          "Pata Tim",
          "Pinaupong Manok",
          "Mexican Pork Adobo",
          "BBQ Pork Ears",
          "Filipino Beef Tapa",
          "Ginisang Ampalaya Leaves with Tinapa",
          "Ampalaya con Carne",
          "Ampalaya with Chicken Feet",
          "Beef, Potato and Pechay Soup",
          "Lechon sa Hurno",
          "Pork Adobo",
          "Ham Fried Rice",
          "How to Cook Easy Pork Afritada",
          "Pork Chop Steak",
          "Egg Fried Rice Recipe",
          "Cheesy Lumpiang Shanghai",
          "Pork Belly with Boiled Eggs in Oyster Sauce",
          "Tofu and Broccoli Stir fry",
          "Ginisang Puso ng Saging",
          "Chicken Adobo Recipe (boneless thigh)",
          "Nilagang Pata",
          "Laing Fried Rice",
          "Kangkong and Ground Pork with Oyster Sauce Stir Fry",
          "Chicken Fried Rice Recipe",
          "Garlic Mushroom",
          "Fish in Coconut Milk with Pineapple",
          "Garlic Tokwa and Kangkong in Oyster Sauce",
          "Sotanghon with Sayote and Giniling",
          "Fried Chicken Potato Salad",
          "Oven BBQ Spareribs",
          "Suam na Mais",
          "Creamy Beef with Mushroom",
          "Pepper Pork Belly Recipe",
          "Amazing Cabbage Recipe",
          "Better Beef Nilaga",
          "Relyenong Talong with Tuna",
          "Kinamatisang Manok",
          "Pork Monggo with Fried Galunggong",
          "Tastylicious Adobong Pusit Recipe",
          "Stir Fried Chicken Franks",
          "Asian Chicken Lettuce Wrap",
          "No Bake Macaroni",
          "Loco Moco Recipe",
          "Orange Crispy Burger",
          "Tocino Fried Rice Recipe",
          "Luncheon Meat Caldereta",
          "Not Your Ordinary Chicken Adobo",
          "Lasagna Roll-Ups",
          "Crispy Pata Dinakdakan",
          "Crispy Lechon Belly with Bacon",
          "Perfect Chicken Adobo on a Budget",
          "Igado Recipe",
          "Pork Adobo Recipe",
          "Betamax Recipe",
          "Filipino Style Escabeche",
          "Kilawing Kambing",
          "Chicken Gising-gising",
          "Utan nga Langka Recipe",
          "Pork Giniling with Oyster Sauce",
          "Chicken Gizzard Bicol Express",
          "Chili Garlic Oil Recipe",
          "Lengua Kare-Kare Recipe",
          "Estofado Recipe (Probinsya Style)",
          "Pork Picadillo Recipe",
          "Pork Curry Tinola",
          "Most Delicious Pork Adobo Recipe",
          "Paksiw na Pata",
          "Chicken Sotanghon Tinola Recipe",
          "Ginataang Hipon, Sitaw, at Kalabasa",
          "Tochong Bangus",
          "Pinapaitan sa Ampalaya",
          "Crispy Bagnet Recipe",
          "Sizzling Tofu Sisig",
          "Bulalo Recipe",
          "Beef Pares Lomi",
          "Crispy Lechon Belly Roll",
          "Kakaibang Tokwat Baboy",
          "Beef Mechado Recipe",
          "Ginisang Ampalaya",
          "Pininyahang Baboy sa Gata",
          "Ginisang Sigarilyas",
          "Grilled Liempo with Barbecue Sauce",
          "Beef Salpicao",
          "Killer Pork Sinigang Recipe",
          "Ketchup Fried Chicken",
          "How to Cook Dinuguan Using Sinigang Mix",
          "Laswa Recipe",
          "Binagoongan Bagnet with Talong",
          "Nagmamantikang Pork Adobo",
          "Pinaputok na Tilapia Recipe",
          "Pinangat na Galunggong sa Kamias",
          "Binagoongang Talong Recipe",
          "Air Fryer Crispy Pata",
          "Pork Caldereta Recipe",
          "Bicol Express Gising-gising",
          "Longsilog Recipe",
          "Chicken Paksiw",
          "Chicken Igado Recipe",
          "Pork Steak Recipe",
          "Ginataang Kalabasa at Sitaw",
          "Crispy Pork Belly Chips",
          "Adobo Fried Rice",
          "Adobong Kangkong Recipe",
          "Ginisang Labanos Recipe",
          "Pineapple Chicken Afritada",
          "Pork Menudo sa Gata",
          "Filipino Vinegar Dipping Sauce",
          "Lechon Paksiw",
          "Spicy Sotanghon Chicken Soup",
          "Beef Stir Fry",
          "Garlic Bihon Recipe",
          "Pinatuyong Pork Hamonado",
          "Tipid Sarap Monggo",
          "Chicken Feet in Oyster Sauce with Salted Black Beans",
          "Kinamatisang Baka",
          "Killer Chicken Adobo",
          "Beef Papaitan",
          "Eggplant and Sardine Omelet",
          "Sweet Pata Asado",
          "Spare Ribs Hamonado",
          "Ginataang Puso ng Saging",
          "Salmon Sisig",
          "Aligue Fried Rice",
          "Sprite Pork Adobo Recipe",
          "Max’s Style Fried Chicken with Kamote Fries",
          "Pork Menudo sa Gata",
          "Chicken Sotanghon Soup with Malunggay at Sayote",
          "Ginataang Sapsap",
          "Chicken and Liver Adobo",
          "Adobong Manok sa Buko",
          "Talong at Tuna Torta",
          "Sardines with Sotanghon and Pechay",
          "Adobong Manok sa Gata",
          "Chicken Adobong Puti Recipe",
          "Easy Kung Pao Shrimp Recipe",
          "Beef Hinalang Recipe",
          "Crispy Pork Binagoongan",
          "Easy Adobong Pusit Recipe",
          "Garlic Butter Shrimp Recipe",
          "Corned Beef Omelet",
          "Ginataang Tulingan",
          "Chicken Asparagus Soup",
          "Bulalugaw Recipe",
          "Pork Siomai",
          "Sinigang na Hipon",
          "Chicken Mami Recipe",
          "Pork Monggo with Kangkong Recipe",
          "Turbo Crispy Liempo",
          "Sizzling Crispy Sisig",
          "Pinoy Fried Chicken",
          "Ginataang Manok with Papaya",
          "Lechon Belly Roll",
          "Chicken Pancit Habhab",
          "Easy Chicken Adobo Recipe",
          "Meaty Spaghetti Recipe",
          "Ginisang Pechay at Giniling with Oyster Sauce",
          "Kilawing Labanos Recipe",
          "Pork and Chicken Adobo Recipe",
          "Red Wine Beef Stew",
          "Paksiw na Pata Recipe",
          "Galbi Recipe",
          "Bangus Salpicao",
          "Chicken Lumpia",
          "Ginisang Togue Recipe",
          "Hamonadong Baboy",
          "Sarciadong Manok",
          "Easy Liempo Inihaw",
          "Super Tasty Chop Suey",
          "Ginisang Sayote",
          "Ginataang Mackerel",
          "Dynamite Lumpia",
          "Soup Number 5",
          "Inihaw na Bangus Recipe (Grilled Milkfish)",
          "Eggplant Salad",
          "Dinuguan Recipe",
          "Tinolang Tahong Recipe",
          "Lechon Kawali Recipe",
          "Tapsilog",
          "Beef Pares",
          "Chicken Pancit Recipe",
          "Crispy Pata Recipe",
          "Ginataang Tilapia",
          "Crispy Pork Belly Chicharon",
          "Pork Dumpling",
          "Longevity Noodles with Chicken and Mushroom",
          "Filipino Omelet",
          "Easy Chicken Adobo",
          "Ginisang Repolyo with Chicken",
          "Adobong Pusit Recipe",
          "Pork Binagoongan Recipe",
          "Beef with Broccoli",
          "Pata Hamonado",
          "Ampalaya Con Carne Recipe",
          "Pork Dinuguan Recipe",
          "Gising Gising Recipe",
          "Bistek Tagalog (beefsteak) Recipe",
          "Chicken Tinola Recipe",
          "Chicken Adobo",
          "Super Crispy Pata with Yummy Sawsawan",
          "Skinless Longganisa",
          "Ginataang Gulay",
          "Chicken Hamonado",
          "Mongolian Beef Recipe",
          "Adobong Sitaw at Kangkong with Chicharon",
          "Paksiw na Bangus Recipe",
          "Kangkong with Squid Balls in Oyster Sauce",
          "Pork Dinakdakan Recipe",
          "Seared Okra and Tomato Recipe",
          "Root Beer Pork Steak",
          "Ginisang Upo at Kalabasa - Sauteed Opo and Butternut Squash",
          "Ginataang Baka – Beef in Coconut Milk with Green Beans and Spinach",
          "Crispy Baked Chicken Wings",
          "Filipino Fried Pork Chop Recipe with Tomato and Salted Egg",
          "Shrimp with Butter and Taba ng Talangka Recipe",
          "Chicharon Bulaklak with Spicy Vinegar",
          "Tanigue Fish Steak ala Bistek",
          "7Up Chicken Asado",
          "Estofadong Baboy",
          "Bicol Express ala Bebet",
          "Coca Cola Beef Tapa",
          "Chicken Inasal BBQ Recipe",
          "15 Minute Pork Stir Fry",
          "Adobong Baboy sa Gata (Pork Adobo in Coconut Milk)",
          "Bacon and Egg Chicken Adobo",
          "Ginisang Ampalaya na May Itlog at Hipon (Sauteed Bitter Melon with Egg and Shrimp)",
          "Beef Tinola Recipe",
          "Spicy Sardinas with Patola and Miswa",
          "Picadillo Recipe",
          "Tinolang Manok sa Upo",
          "Chicken Congee Recipe",
          "How To Cook Filipino Chicken Arroz Caldo",
          "Lechon Belly Pork Adobo Recipe",
          "Baked Salmon with Lemon Garlic and Butter",
          "Ginataang Santol (Sinantolan) Recipe",
          "Crispy Lechon Belly Recipe",
          "Bacon and Egg Chicken Adobo",
          "Manila Clam and Mussel Tinola Recipe",
          "Butter Garlic Shrimp and Squid",
          "Crispy Pata",
          "Lechon Kawali",
          "Grilled Rib Eye Steak with Arroz Amarillo",
          "Ginisang Reployo with Giniling",
          "Paksiw na Lechon Kawali",
          "Pork Chop Steak ala Bistek",
          "Sizzling Tuna Sisig",
          "Extremely Spicy Pork Adobo na Tuyo",
          "How To Cook Super Crispy Lechon Kawali",
          "Burong Mustasa (Pickled Flat Mustard Greens)",
          "Gotong Batangas Recipe",
          "Spicy Daing na Bangus",
          "Chicken Adobo sa Gata",
          "Crispy Tofu Sisig",
          "Tortang Talong with Ground Pork Recipe",
          "Asadong Baboy",
          "Sauteed Bottle Gourd with Ground Pork and Shrimp",
          "Grilled Stuffed Squid (inihaw na pusit)",
          "Sous Vide Chicken Adobo",
          "Bulalo Beef Pares Recipe",
          "Sausage Peppers and Onion Skillet",
          "Shrimp Monggo with Lechon Kawali",
          "Grilled Pork Belly with Garlic Fried Rice and Fried Egg - Liempo Sinangag Itlog",
          "Ginisang Monggo with Inihaw na Liempo",
          "Ginisang Pechay with Ground Pork and Shrimp (Sauteed Bok Choy)",
          "Ginisang Sitaw at Kalabasa with Shrimp",
          "Lobster Pasta in Creamy Alfredo Sauce Recipe",
          "Pork Monggo Recipe",
          "Braised Pork Belly in Soy Sauce (Tau Yew Bak)",
          "Spicy Ginataang Hipon Recipe",
          "Chicken Adobo with Egg",
          "Pork Dinuguan sa Gata Recipe",
          "Pork Bicol Express Recipe",
          "Ginisang Sardinas with Ampalaya",
          "Tofu and Green Bean Stir Fry in Oyster Sauce with Salted Black Beans",
          "Chili Garlic Butter Shrimp Recipe",
          "Adobong Pusit sa Gata",
          "Stir Fried Pepper Steak",
          "Inihaw na Baboy",
          "Basic Tortang Talong",
          "Batangas Bulalo Recipe",
          "Adobong Sitaw with Lechon Kawali",
          "Upo Guisado Recipe",
          "Shrimp Scampi with Linguine",
          "Pork Adobo with Sitaw",
          "Chicken Macaroni Soup",
          "Dinardaraan Recipe (Dinuguan)",
          "Stir Fried Beef with Oyster Sauce and Snap Peas",
          "Mung Bean Sprouts with Shrimp",
          "Seared Scallops in Herbed Butter Sauce Recipe",
          "Poached Tilapia in Sour Broth",
          "Sauteed Chayote with Pork and Tomato",
          "Pork Tenderloin Salpicao",
          "Adobong Okra with Pork Recipe",
          "Slow Cooked Beefsteak (Bistek Tagalog)",
          "Beef Pares Mami Noodles Recipe",
          "Fried Tilapia in Coconut Milk (Ginataang Tilapia)",
          "Pork Chop Bicol Express",
          "Pork Mechado Recipe",
          "Basic Pork Adobo Recipe",
          "Dill Dip Recipe",
          "Pork and Scallion Stir Fry Recipe",
          "Paksiw na Lechon Manok",
          "Bok Choy with Garlic and Oyster Sauce",
          "Crispy Tenga Recipe (Crispy Pig Ears)",
          "Marinated Grilled Pork Chop",
          "Sinigang na Buntot ng Baboy with Gabi",
          "Lechon Manok Recipe",
          "Misua with Patola and Meatballs",
          "Grilled Liver Bistek",
          "Danggit Fried Rice",
          "Crispy Bagbagis (Crispy Deep Fried Pork Intestine)",
          "Tinumis Recipe",
          "Tinolang Isda",
          "Tinolang Tahong with Malunggay",
          "Tulapho Recipe (Crispy Fried Pork)",
          "Kinilaw na Tanigue Recipe (Fish Ceviche)",
          "Ginisang Munggo with Tinapa and Fried Red Snapper",
          "Kilawing Kambing Recipe",
          "Beef Stir Fry in Oyster Sauce with Ampalaya",
          "Lechon Carajay Recipe",
          "Nilasing na Hipon",
          "Grilled St. Louis Style Ribs with Ensaladang Talong and Bagoong",
          "Beef Batchoy with Liver and Bung",
          "How to Cook Tender Juicy Rib Eye Steak Using a Frying Pan",
          "Ginisang Okra with Fish Flakes Recipe",
          "The Simplest Paksiw na Galunggong Recipe",
          "Excursion Chicken and Pork Adobo",
          "Pork Baby Back Ribs Nilaga Recipe",
          "Inihaw na Isaw ng Baboy",
          "Ginataang Yellow Fin Tuna",
          "Adobong Baboy with Boiled Egg",
          "Slow Cook Pork Afritada",
          "Pinoy Beefsteak",
          "Ground Beef Omelet",
          "Ginisang Gulay",
          "Tortang Talong with Crabmeat (Eggplant Omelet with Crab)",
          "Daing na Bangus Recipe",
          "Shrimp Avocado Salad Recipe",
          "Lemon Garlic Butter Salmon with spring salad Recipe",
          "Ginisang Kalabasa at Sitaw with Daing Recipe",
          "Adobong Pata (Ham Hock Adobo)",
          "Sirloin Beef Steak Tagalog",
          "Easy Pork Hamonado",
          "Chicken Halang-halang Recipe",
          "Crown Roast of Lamb",
          "Teriyaki Chicken Thighs",
          "Pork Ginataan with Squash and String Beans",
          "Pork and Kangkong Guisado",
          "Yellow Arroz Caldo Recipe",
          "Baked Garlic Milkfish",
          "Ginisang Ampalaya with Shrimp (Sauteed Bitter Gourd)",
          "Beef and Mushroom Braised Stew",
          "Basil Pork Recipe",
          "Pork BBQ Fried Rice",
          "Ground Pork Kaldereta Omelet",
          "Oven Roasted BBQ Chicken Recipe",
          "Asian Style Spare Ribs",
          "Bagnet Recipe",
          "Grilled Stuffed Tilapia Recipe",
          "Teriyaki Chicken Lettuce Wrap",
          "Grilled Liempo Sisig Recipe",
          "Grilled Pork Belly",
          "Adobo Meatballs Recipe",
          "Mahi-Mahi Paksiw Recipe",
          "Pork Adobo Flakes",
          "Sirloin Tip Roast Recipe",
          "Pork Chop Suey Recipe",
          "Orange Glazed Pork",
          "Cedar Plank Salmon",
          "Binagoongang Baboy Recipe (Pork in Shrimp Paste)",
          "Chicken with Oyster Sauce Stir Fry",
          "Monggo with Tuyo Recipe (Mung Beans with Salted Fish)",
          "Kangkong in Oyster Sauce Recipe",
          "Quick and Easy Beef and Pepper Stir Fry",
          "Ginisang Baguio Beans with Pork",
          "Filipino Roasted Chicken Pandan Recipe",
          "Lechon Pata Recipe",
          "Pinaupong Manok sa Asin",
          "Steamed Shrimp",
          "Crab with Misua and Patola",
          "Chili Garlic Shrimp Stir Fry",
          "Sauteed Bok Choy with Shrimp",
          "Kalabasa Soup with Ampalaya Leaves",
          "Adobong Hipon sa Gata",
          "Pinoy Scrambled Eggs",
          "Lightly Breaded Fried Pork Chop",
          "Ginisang Pusit",
          "Tinolang Bangus Recipe",
          "Filipino Fish Steak Recipe",
          "Dinakdakan Recipe",
          "Pulled Pork Crock Pot Recipe",
          "Filipino Pork Chop Steak Recipe",
          "Inun unan Recipe (Fish cooked in Vinegar)",
          "Liempo Estofado Recipe",
          "Cream of Asparagus Soup",
          "Flank Steak Marinade",
          "Inihaw na Tilapia Recipe",
          "Sauteed Shrimp with String Beans",
          "Sinangag Recipe (Filipino Fried Rice)",
          "Beef Kebab Recipe",
          "Chicken and Miswa Soup Recipe",
          "Sweet Chicken Asado Recipe",
          "Sinigang na Isda sa Kamias (Fish Sinigang)",
          "Pancit Udon Recipe",
          "Rib Eye Steak with Grilled Potato",
          "Easy Tuna Kilawin Recipe",
          "Taco Fried Rice Recipe",
          "Rosemary Baked Chicken Recipe with Vegetables",
          "Recipe for Barbecue Chicken Marinade",
          "Pancit Bato Noodle Soup",
          "Adobo Pork Chops",
          "Chili Garlic Shrimp Saute",
          "Simple Baked Pork Chop Recipe",
          "Sardines with Misua and Patola Recipe",
          "Easy Calamari Recipe",
          "Rotisserie Chicken Arroz Caldo Recipe",
          "Eggplant and Ground Chicken Omelet",
          "Linguine Pasta with Clams",
          "Clam Soup Recipe (Tinolang Halaan)",
          "Marinated Grilled Shrimp",
          "How to Make Homemade Guacamole",
          "Fish Adobo",
          "Pamplina Recipe (Pork and Chorizo Soup with Beans)",
          "Spring Fried Chicken",
          "Monggo Guisado with Dilis and Malunggay (Mung Bean Stew with Dried Anchovies)",
          "Linat an Recipe (Boiled Pork Soup with Lemongrass)",
          "Adobong Sitaw with Tofu",
          "Kinamunggayang Manok Recipe",
          "Sayote Guisado with Chicken and Shrimp",
          "Chicken with Ampalaya in Oyster Sauce",
          "Nilagang Baboy (Boiled Pork Soup)",
          "Bas-uy Recipe (Pork and Liver Soup with Lemongrass and Chayote)",
          "Asian Fried Chicken",
          "Crispy Oven Broiled Liempo",
          "Ginataang Salmon Recipe",
          "Broiled Red Snapper with Pico de Gallo",
          "Ginisang Repolyo",
          "Bulalo Beef Mami",
          "Beef Bicol Express",
          "Pepper Steak",
          "Adobong Bulalo",
          "Sizzling Chicken Sisig",
          "Apple Pork Pot Roast",
          "Pork Stir Fry with Scallions",
          "Sautéed Napa Cabbage with Ground Pork",
          "Pesang Manok (Chicken Soup in Ginger Broth)",
          "Sauteed Flank Steak with Bok Choy and String Beans",
          "Baby Corn Ham and Jicama Stir Fry",
          "Grilled Lamb Chops",
          "Tofu Sarciado",
          "Higadillo Recipe (Pork and Liver Stew)",
          "Chickpea Salad",
          "Saucy Adobong Kangkong",
          "Special Tokwat Baboy",
          "Jollibee Style Spaghetti",
          "Asian Chicken Soup",
          "Braised Collard Greens",
          "Bok Choy Adobo",
          "Kilawing Puso ng Saging",
          "Pork Tinola Recipe",
          "Fried Bangus Sinigang sa Miso",
          "Easy Beef with Broccoli",
          "Scallop and Zucchini Stir fry",
          "Tartar Sauce Recipe",
          "Grilled Ribs with Pico de Gallo",
          "Bacon Wrapped Shrimp",
          "Tilapia with Salted Black Beans",
          "Fish Tinola Recipe",
          "Rosemary Garlic Pork Tenderloin",
          "Grilled Potato Salad",
          "Basil Pesto",
          "Sinigang na Tilapia sa Miso Recipe",
          "Pork with Salted Black Beans",
          "Basil Chicken Recipe",
          "Adobong Tahong Recipe (Mussels Adobo)",
          "Squid Sisig Recipe",
          "Ginataang Tahong",
          "Baked Pork Tenderloin with Peaches",
          "Parmesan Crusted Fish Recipe",
          "Filipino BBQ Pork Chop Recipe",
          "Pork with Zucchini in Oyster Sauce",
          "Sauteed Spinach with Tofu",
          "Roasted Chicken Quarter Recipe",
          "Spicy Pork Adobo Recipe",
          "Easy Chicken Tinola Recipe",
          "Tonkatsu Sauce",
          "Easy Porterhouse Steak Recipe",
          "Baked Lobster Tail Recipe",
          "Filipino Pork Fried Rice Recipe",
          "Easy Seared Scallops",
          "Lengua Con Setas Recipe",
          "Lechon Sisig Recipe",
          "Easy Ham and Green Peas Saute",
          "Chili Shrimp Recipe",
          "Ground Beef Basil and Tomato Frittata",
          "Cilantro Lime Rice",
          "Adobong Dilaw Recipe (Yellow Adobo)",
          "Braised Pork Ribs Recipe",
          "Longganisa Fried Rice",
          "T-Bone Steak Sauteed with Onions",
          "Bagoong Rice Recipe",
          "Grilled Brined Pork Chop Recipe",
          "Pico de Gallo",
          "Carne Asada Fried Rice",
          "Carne Asada Recipe",
          "BBQ Baby Back Ribs Recipe",
          "Pork Adobo with Boiled Eggs",
          "Super Easy Pork Burger Recipe",
          "Baked Garlic Rosemary Chicken Recipe",
          "Roasted Garlic Parmesan Red Potato",
          "Fish in Ginger Soup",
          "Baked Chicken and Vegetable Stir Fry",
          "Steamed Fish with Scallions and Ginger",
          "Chickpea and Spinach Curry",
          "Corned Beef Guisado Recipe",
          "Ginisang Sayote Recipe",
          "Grilled Pinoy Pork Chop Recipe",
          "Ginisang Sardinas Recipe (Sautéed Sardines)",
          "Pork Adobo with Potato Recipe",
          "Kangkong and Tofu Stir Fry",
          "Rellenong Talong (Stuffed Eggplant) Recipe",
          "Fried Bangus Recipe (Fried Milkfish)",
          "Sweet and Spicy Shrimp Stir Fry",
          "Pork Adobo with Tofu Recipe",
          "Garlic Sesame Spinach Recipe",
          "Oriental Lemon Chicken Recipe",
          "Fried Pork Chop Recipe",
          "Linguine with Mussels Recipe",
          "Oven Baked Chicken Recipe",
          "Cabbage Soup Recipe",
          "Crispy Five Spice Spare Ribs",
          "Chicken Barbecue Fried Rice",
          "Fish Escabeche Recipe",
          "Chicken Feet Adobo",
          "Batchoy Recipe",
          "Sinigang na Bangus sa Miso",
          "Grilled Tilapia Recipe",
          "Grilled Dijon Pork Chop Recipe",
          "Roasted Cauliflower Recipe",
          "Round Steak in Criolla Sauce Recipe",
          "Corn and Malunggay Soup Recipe",
          "How to Make Lengua a la Vinagreta",
          "Baked Tilapia with Grilled Pineapple Salsa",
          "Pork and Tofu in Oyster Sauce Recipe",
          "Adobo Steak Recipe",
          "Baked Cilantro Lime Cod Recipe",
          "Paella Marinera Recipe",
          "Chicken Fajita Recipe",
          "Marinara Sauce Recipe",
          "Slow Cooked Asian Pork Chop Recipe",
          "Tandoori Chicken Recipe",
          "Adobong Labong Recipe",
          "Aligue Pasta",
          "Beef in Oyster Sauce",
          "Antonio's Tuna Cream Cheese and Onion Spread",
          "Adobong Isaw Recipe",
          "Grilled Chicken Salad",
          "Braised Beef",
          "Potato and Green Bean Salad Recipe",
          "Green Bean Salad with Feta and Dill Recipe",
          "Garlic Parmesan Chicken Wings Recipe",
          "Dinuguan Laman-Loob Recipe (Blood Stew)",
          "Paksiw na Isda Recipe",
          "Chicken Pandan",
          "Sinuglaw",
          "Pesang Isda Recipe",
          "Sardines with Misua Recipe",
          "Kinilaw na Dulong",
          "Papaitan Recipe",
          "Roasted Chicken Recipe",
          "How to Make Sinamak",
          "Sizzling Gambas Recipe",
          "Adobong Sitaw Recipe",
          "Kinilaw na Tuna",
          "Adobong Kambing Recipe",
          "Pork Estofado Recipe",
          "Asian Dipping Sauce Recipe",
          "Lechon Paksiw Recipe",
          "Lechon Sauce Recipe",
          "Shared Recipe. Roast Chicken",
          "Cucumber Salad",
          "Special Siopao Sauce Recipe",
          "Spaghetti with Tomato and Basil",
          "Baked King Crab Legs with Garlic Lemon Butter Sauce",
          "Ginataang Manok Recipe",
          "Cashew Chicken Recipe",
          "Chili Crab",
          "Garlic Fried Rice",
          "Max's style Fried Chicken",
          "Inihaw na Liempo Recipe",
          "Ginisang Upo Recipe",
          "Liver Steak Recipe",
          "Chicharon Bituka Recipe",
          "Homemade Beef Tapa",
          "Nilasing na Hipon Recipe",
          "Inihaw na Pusit Recipe (Grilled Squid)",
          "Chicken Tinola Recipe",
          "Filipino Fried Chicken Recipe",
          "Laing Recipe",
          "Lengua Estofada Recipe"
         ],
         "legendgroup": "0",
         "marker": {
          "color": "rgb(242, 183, 1)",
          "size": 5,
          "symbol": "circle"
         },
         "mode": "markers",
         "name": "0",
         "showlegend": true,
         "type": "scattergl",
         "x": [
          0.8200365304946899,
          0.842836320400238,
          0.7465154528617859,
          0.8585697412490845,
          0.7661827802658081,
          0.8645041584968567,
          0.7912511229515076,
          0.8094896078109741,
          0.8505149483680725,
          0.8237919807434082,
          0.837468683719635,
          0.7710728645324707,
          0.7750397324562073,
          0.8119253516197205,
          0.8628633618354797,
          0.7451945543289185,
          0.8557825088500977,
          0.7859658002853394,
          0.780471682548523,
          0.7707849740982056,
          0.7569159865379333,
          0.8119475245475769,
          0.702025830745697,
          0.7786004543304443,
          0.8552844524383545,
          0.8267384767532349,
          0.8596290946006775,
          0.7837029099464417,
          0.7738550305366516,
          0.7811185717582703,
          0.8114637136459351,
          0.7890133261680603,
          0.7823631763458252,
          0.8192704916000366,
          0.7205161452293396,
          0.8847568035125732,
          0.8112107515335083,
          0.7774250507354736,
          0.7682856321334839,
          0.8090741634368896,
          0.8658230304718018,
          0.8157203793525696,
          0.7932614088058472,
          0.7843395471572876,
          0.8409843444824219,
          0.8060207962989807,
          0.7906920909881592,
          0.7626031637191772,
          0.7294440269470215,
          0.8525649309158325,
          0.7616927623748779,
          0.7710383534431458,
          0.7874274849891663,
          0.8290796875953674,
          0.8479243516921997,
          0.8181583285331726,
          0.8560434579849243,
          0.7806367874145508,
          0.8559846878051758,
          0.7804392576217651,
          0.8711352944374084,
          0.7697916626930237,
          0.8170203566551208,
          0.8896177411079407,
          0.8793823719024658,
          0.8530896902084351,
          0.831524670124054,
          0.8703447580337524,
          0.9008661508560181,
          0.8686862587928772,
          0.9063234925270081,
          0.8676934242248535,
          0.7935072183609009,
          0.8342537879943848,
          0.8560366630554199,
          0.8681595921516418,
          0.7775442600250244,
          0.8255610466003418,
          0.8380304574966431,
          0.8851698040962219,
          0.7921174764633179,
          0.7828985452651978,
          0.9041417241096497,
          0.7856420278549194,
          0.8632974624633789,
          0.8602584600448608,
          0.8521416187286377,
          0.7728055715560913,
          0.8860909938812256,
          0.8975306153297424,
          0.8742599487304688,
          0.832321047782898,
          0.8607795238494873,
          0.7635835409164429,
          0.8678890466690063,
          0.7800713181495667,
          0.8499509692192078,
          0.8549744486808777,
          0.8748289346694946,
          0.8169565200805664,
          0.8181617259979248,
          0.8180781006813049,
          0.8430805802345276,
          0.8240854144096375,
          0.7878075838088989,
          0.8517037630081177,
          0.8595845699310303,
          0.842877209186554,
          0.7991511225700378,
          0.8637692928314209,
          0.8863649368286133,
          0.8153452277183533,
          0.81966632604599,
          0.7980033159255981,
          0.897555410861969,
          0.917448878288269,
          0.8396403193473816,
          0.8091772794723511,
          0.875110387802124,
          0.7571260333061218,
          0.7597223520278931,
          0.8555888533592224,
          0.8513299226760864,
          0.7593075037002563,
          0.8427447080612183,
          0.8445488214492798,
          0.8756250143051147,
          0.7803391218185425,
          0.8205188512802124,
          0.8998134732246399,
          0.805533766746521,
          0.8717342615127563,
          0.8052699565887451,
          0.7082966566085815,
          0.8180288076400757,
          0.7704108953475952,
          0.8355439901351929,
          0.8126018047332764,
          0.7522122859954834,
          0.879010021686554,
          0.8644053936004639,
          0.8491020798683167,
          0.800167441368103,
          0.8562893867492676,
          0.859613835811615,
          0.8623753786087036,
          0.8711355924606323,
          0.8322277069091797,
          0.8523567914962769,
          0.8634065389633179,
          0.9022300243377686,
          0.8662673234939575,
          0.7594410181045532,
          0.8588669300079346,
          0.7987646460533142,
          0.8578096032142639,
          0.9064239859580994,
          0.885422945022583,
          0.8047678470611572,
          0.8562334775924683,
          0.8558632731437683,
          0.8254142999649048,
          0.8982323408126831,
          0.8558790683746338,
          0.8172140121459961,
          0.8476035594940186,
          0.831802487373352,
          0.8367746472358704,
          0.6942866444587708,
          0.7880150675773621,
          0.8294135332107544,
          0.8345039486885071,
          0.8053610324859619,
          0.8175453543663025,
          0.7691001892089844,
          0.7863962650299072,
          0.8322540521621704,
          0.8501685857772827,
          0.820064127445221,
          0.7978261709213257,
          0.863775908946991,
          0.8710030317306519,
          0.7970733046531677,
          0.7884863615036011,
          0.859700620174408,
          0.819819450378418,
          0.8797672390937805,
          0.8401522040367126,
          0.8243600130081177,
          0.8230568766593933,
          0.7777544856071472,
          0.7696680426597595,
          0.832783043384552,
          0.7943627834320068,
          0.8883464932441711,
          0.822739839553833,
          0.7660338282585144,
          0.8395039439201355,
          0.8200148940086365,
          0.6546288132667542,
          0.8010635375976562,
          0.8180052042007446,
          0.7762714624404907,
          0.8553037643432617,
          0.8584839105606079,
          0.8522569537162781,
          0.8434730768203735,
          0.837477445602417,
          0.8623701930046082,
          0.8710184693336487,
          0.8028813004493713,
          0.8310819864273071,
          0.8494329452514648,
          0.8248043656349182,
          0.8466497659683228,
          0.8269412517547607,
          0.8949715495109558,
          0.8790982365608215,
          0.8442755341529846,
          0.8314777612686157,
          0.812608540058136,
          0.8787862062454224,
          0.8731125593185425,
          0.8494650721549988,
          0.7713400721549988,
          0.7796436548233032,
          0.8753876090049744,
          0.8279210329055786,
          0.8208858966827393,
          0.8905416131019592,
          0.8390432596206665,
          0.8189939260482788,
          0.8060294389724731,
          0.8363984823226929,
          0.754187822341919,
          0.8377737998962402,
          0.8585184216499329,
          0.7674050331115723,
          0.8723830580711365,
          0.8195104598999023,
          0.9005264639854431,
          0.8237581849098206,
          0.8552360534667969,
          0.8776575922966003,
          0.8283501863479614,
          0.8397402763366699,
          0.790347695350647,
          0.79049152135849,
          0.8172094225883484,
          0.7909961938858032,
          0.7865872383117676,
          0.8013041019439697,
          0.7612698674201965,
          0.9006896018981934,
          0.8320853114128113,
          0.8213430047035217,
          0.7894958257675171,
          0.8154211044311523,
          0.7689906358718872,
          0.7493519186973572,
          0.8658312559127808,
          0.8726112246513367,
          0.8693144917488098,
          0.7264705896377563,
          0.8305347561836243,
          0.7804725766181946,
          0.8674015402793884,
          0.8559544086456299,
          0.8881595134735107,
          0.8929269313812256,
          0.8259338140487671,
          0.7374979853630066,
          0.8016867637634277,
          0.8684883117675781,
          0.8353038430213928,
          0.7801896929740906,
          0.8801282644271851,
          0.8799521327018738,
          0.8712962865829468,
          0.8631522059440613,
          0.8599286079406738,
          0.8411065340042114,
          0.8518216013908386,
          0.8760890364646912,
          0.8136045336723328,
          0.8618682622909546,
          0.8384901285171509,
          0.7801896929740906,
          0.8188924193382263,
          0.8448457717895508,
          0.8410208225250244,
          0.8084656596183777,
          0.8345236778259277,
          0.8453670144081116,
          0.8940614461898804,
          0.8942632079124451,
          0.7990414500236511,
          0.8594918251037598,
          0.7495030164718628,
          0.7406963109970093,
          0.8554791808128357,
          0.7902331352233887,
          0.8133171796798706,
          0.8939602971076965,
          0.8237093091011047,
          0.8515037894248962,
          0.8801544904708862,
          0.8364151120185852,
          0.8651174306869507,
          0.8950837850570679,
          0.8248148560523987,
          0.7784026265144348,
          0.8765796422958374,
          0.8690261840820312,
          0.8544948101043701,
          0.86998051404953,
          0.7924002408981323,
          0.87032151222229,
          0.8518269062042236,
          0.814179539680481,
          0.8948266506195068,
          0.7605994343757629,
          0.7727248668670654,
          0.8782088756561279,
          0.8644242286682129,
          0.8766626119613647,
          0.8818091750144958,
          0.8483489751815796,
          0.8126770853996277,
          0.6158901453018188,
          0.8680837750434875,
          0.8607214093208313,
          0.8500527143478394,
          0.864177942276001,
          0.8669419288635254,
          0.7817014455795288,
          0.8179376721382141,
          0.8549871444702148,
          0.8568538427352905,
          0.8546691536903381,
          0.7552789449691772,
          0.8509088754653931,
          0.8504855632781982,
          0.8199824094772339,
          0.8410030007362366,
          0.8284053206443787,
          0.8701416254043579,
          0.9047121405601501,
          0.8693980574607849,
          0.8270449638366699,
          0.8201403617858887,
          0.8715729117393494,
          0.8080964684486389,
          0.8678905963897705,
          0.8291015625,
          0.7864946722984314,
          0.7513061761856079,
          0.8234118223190308,
          0.7724584341049194,
          0.8293716311454773,
          0.7718835473060608,
          0.7995994687080383,
          0.7787981629371643,
          0.7971133589744568,
          0.7766377329826355,
          0.6814380288124084,
          0.7658689618110657,
          0.8572544455528259,
          0.8054709434509277,
          0.8093823194503784,
          0.8211318850517273,
          0.8087919354438782,
          0.7605559229850769,
          0.8706400394439697,
          0.7125146389007568,
          0.8018261790275574,
          0.7465043067932129,
          0.8622885346412659,
          0.8212956190109253,
          0.7244133353233337,
          0.834877610206604,
          0.8592846393585205,
          0.913293719291687,
          0.7817330956459045,
          0.8455313444137573,
          0.8180458545684814,
          0.8768185377120972,
          0.7965730428695679,
          0.762615978717804,
          0.7922564744949341,
          0.8708862066268921,
          0.8561421036720276,
          0.8785697817802429,
          0.8953208923339844,
          0.8804125189781189,
          0.7061761021614075,
          0.7748199701309204,
          0.8365081548690796,
          0.8899017572402954,
          0.8847955465316772,
          0.7843746542930603,
          0.7996981143951416,
          0.8649036884307861,
          0.9204049706459045,
          0.849176824092865,
          0.86501544713974,
          0.838405430316925,
          0.8181263208389282,
          0.8448342680931091,
          0.8620306253433228,
          0.8397557139396667,
          0.8304059505462646,
          0.7840512990951538,
          0.8722209930419922,
          0.8552802801132202,
          0.8293574452400208,
          0.7448132038116455,
          0.8845762014389038,
          0.8402296900749207,
          0.7619264125823975,
          0.8662818670272827,
          0.8280532360076904,
          0.8413771390914917,
          0.8851068019866943,
          0.8395381569862366,
          0.862808346748352,
          0.8346011638641357,
          0.7897007465362549,
          0.8123112320899963,
          0.7856067419052124,
          0.8818430304527283,
          0.8684015870094299,
          0.8535430431365967,
          0.7971956729888916,
          0.8261579275131226,
          0.8495974540710449,
          0.822218656539917,
          0.8724750280380249,
          0.8478986024856567,
          0.8435471057891846,
          0.8618897795677185,
          0.853101909160614,
          0.8722111582756042,
          0.7836140394210815,
          0.8828353881835938,
          0.8562791347503662,
          0.8174940347671509,
          0.7038633823394775,
          0.8804304599761963,
          0.8068733215332031,
          0.8839510083198547,
          0.8709455132484436,
          0.8439375162124634,
          0.8231308460235596,
          0.8969415426254272,
          0.8305473327636719,
          0.8243942260742188,
          0.8444724082946777,
          0.816374659538269,
          0.8085851669311523,
          0.7720327377319336,
          0.868300199508667,
          0.865654468536377,
          0.7355799674987793,
          0.7708276510238647,
          0.7907091379165649,
          0.865410327911377,
          0.7929465174674988,
          0.8459711074829102,
          0.8192441463470459,
          0.7253216505050659,
          0.8236510157585144,
          0.8307027816772461,
          0.7793042659759521,
          0.8365878462791443,
          0.9023973941802979,
          0.8236017227172852,
          0.8972111344337463,
          0.9043476581573486,
          0.8596192598342896,
          0.8608642220497131,
          0.813351035118103,
          0.8337504863739014,
          0.8288029432296753,
          0.7183831930160522,
          0.8508403301239014,
          0.7400465607643127,
          0.8282400369644165,
          0.8602901101112366,
          0.8831591010093689,
          0.8549190759658813,
          0.8401999473571777,
          0.8776572346687317,
          0.7999297380447388,
          0.8592385649681091,
          0.7715684771537781,
          0.8209251165390015,
          0.8578415513038635,
          0.8182047605514526,
          0.778033971786499,
          0.9214324951171875,
          0.8837172985076904,
          0.8092333078384399,
          0.8503621220588684,
          0.8776487708091736,
          0.856621265411377,
          0.9007927179336548,
          0.8576522469520569,
          0.8609116077423096,
          0.8299822807312012,
          0.8452675342559814,
          0.8574748635292053,
          0.8991653919219971,
          0.8400444984436035,
          0.7734713554382324,
          0.8161476850509644,
          0.8377737402915955,
          0.8589560985565186,
          0.8551937341690063,
          0.7671005129814148,
          0.8312637805938721,
          0.8045426607131958,
          0.8592372536659241,
          0.8788997530937195,
          0.889151930809021,
          0.8311187028884888,
          0.8178066611289978,
          0.8934774398803711,
          0.7632562518119812,
          0.8033627867698669,
          0.8514353632926941,
          0.8583086133003235,
          0.7690758109092712,
          0.8318808078765869,
          0.8632863759994507,
          0.8351705074310303,
          0.8008245825767517,
          0.7183647155761719,
          0.7888320684432983,
          0.6753672361373901,
          0.7549484968185425,
          0.8360905647277832,
          0.7953810691833496,
          0.8897088170051575,
          0.86207115650177,
          0.786653995513916,
          0.7943909764289856,
          0.8454263806343079,
          0.814457893371582,
          0.8281700015068054,
          0.7952855229377747,
          0.7575427889823914,
          0.7745189666748047,
          0.7828946709632874,
          0.8289719820022583,
          0.840451180934906,
          0.7118349075317383,
          0.8289535045623779,
          0.8080631494522095,
          0.8109050393104553,
          0.8519285917282104,
          0.7970856428146362,
          0.8470166325569153,
          0.7971836924552917,
          0.8671433925628662,
          0.844692587852478,
          0.8032826781272888,
          0.782297670841217,
          0.8680505156517029,
          0.8710201978683472,
          0.8503154516220093,
          0.8511346578598022,
          0.8243570327758789,
          0.8601240515708923,
          0.8913570642471313,
          0.6329743266105652,
          0.7872359156608582,
          0.8008037209510803,
          0.7801936268806458,
          0.8646989464759827,
          0.7595915794372559,
          0.8043818473815918,
          0.7937139868736267,
          0.8593000173568726,
          0.844917356967926,
          0.8672407865524292,
          0.8281130194664001,
          0.7986417412757874,
          0.8432843685150146,
          0.7932896614074707,
          0.8447000980377197,
          0.8513729572296143,
          0.8028327226638794,
          0.8610354661941528,
          0.9127078056335449,
          0.8441087603569031,
          0.8180704712867737,
          0.7840743064880371,
          0.8177313804626465,
          0.8215032815933228,
          0.8555369973182678,
          0.8064477443695068,
          0.8192259073257446,
          0.8474080562591553,
          0.8696867823600769,
          0.8081398010253906,
          0.8513360023498535,
          0.8332496881484985,
          0.8438863754272461,
          0.8014377355575562,
          0.8050729036331177,
          0.812015175819397,
          0.8385106325149536,
          0.7742824554443359,
          0.8756839036941528,
          0.7838183641433716,
          0.8491618037223816,
          0.9047695398330688,
          0.7278846502304077,
          0.749426543712616,
          0.8538469076156616,
          0.7955592274665833,
          0.8785280585289001,
          0.845514178276062,
          0.7790109515190125,
          0.8791288733482361,
          0.8452728390693665,
          0.7820356488227844,
          0.818196713924408,
          0.8455650806427002,
          0.7314631938934326,
          0.7698537111282349,
          0.8185098767280579,
          0.7977308630943298,
          0.7680166959762573,
          0.8484105467796326,
          0.8394956588745117,
          0.839291512966156,
          0.6354883909225464,
          0.8166820406913757,
          0.8132173418998718,
          0.7723862528800964,
          0.7664366960525513,
          0.6264398694038391,
          0.8028111457824707,
          0.7823642492294312,
          0.7645273208618164,
          0.7985330820083618,
          0.7780009508132935,
          0.8321157693862915,
          0.8313275575637817
         ],
         "xaxis": "x",
         "y": [
          -0.15137027204036713,
          -0.14775250852108002,
          -0.09477610141038895,
          -0.07387600094079971,
          -0.14223326742649078,
          -0.08478930592536926,
          -0.12640050053596497,
          -0.10141002386808395,
          -0.07505056262016296,
          -0.13997939229011536,
          -0.1152973622083664,
          -0.08296704292297363,
          -0.07922475039958954,
          -0.10570769757032394,
          -0.10771418362855911,
          -0.16396191716194153,
          -0.07926521450281143,
          -0.08701212704181671,
          -0.2016296684741974,
          -0.10382677614688873,
          -0.10200762748718262,
          -0.14824505150318146,
          -0.25076165795326233,
          -0.09642503410577774,
          -0.11640752851963043,
          -0.15106338262557983,
          -0.09044226258993149,
          -0.12988610565662384,
          -0.09227649867534637,
          -0.11559271812438965,
          -0.15089872479438782,
          -0.16909727454185486,
          -0.31303179264068604,
          -0.12497104704380035,
          -0.26902899146080017,
          -0.14659258723258972,
          -0.11846432834863663,
          -0.10854807496070862,
          -0.08828205615282059,
          -0.17776618897914886,
          -0.14314423501491547,
          -0.14555303752422333,
          -0.14780354499816895,
          -0.11891715973615646,
          -0.08036565780639648,
          -0.16499491035938263,
          -0.10827276855707169,
          -0.19035997986793518,
          -0.2157808244228363,
          -0.09444853663444519,
          -0.09686340391635895,
          -0.09333677589893341,
          -0.18002167344093323,
          -0.12693828344345093,
          -0.13910338282585144,
          -0.11847586929798126,
          -0.06931884586811066,
          -0.11028610914945602,
          -0.1418095827102661,
          -0.09733638912439346,
          -0.1584404706954956,
          -0.27827030420303345,
          -0.22061894834041595,
          -0.1864011287689209,
          -0.21434958279132843,
          -0.2619994282722473,
          -0.15076202154159546,
          -0.1429322361946106,
          -0.2257358431816101,
          -0.1071808710694313,
          -0.21744637191295624,
          -0.1653062254190445,
          -0.11977248638868332,
          -0.13689254224300385,
          -0.242274671792984,
          -0.19838935136795044,
          -0.21657776832580566,
          -0.19656389951705933,
          -0.1547057330608368,
          -0.23866009712219238,
          -0.08866142481565475,
          -0.17154079675674438,
          -0.13058561086654663,
          -0.10531371831893921,
          -0.15862998366355896,
          -0.20294851064682007,
          -0.11530660092830658,
          -0.2025083601474762,
          -0.20819255709648132,
          -0.27901387214660645,
          -0.12112167477607727,
          -0.11861864477396011,
          -0.11371142417192459,
          -0.12840038537979126,
          -0.21167242527008057,
          -0.1039593443274498,
          -0.10502907633781433,
          -0.12019947171211243,
          -0.1196315735578537,
          -0.13488180935382843,
          -0.23755165934562683,
          -0.19997820258140564,
          -0.12944011390209198,
          -0.2797563076019287,
          -0.3289760947227478,
          -0.20114082098007202,
          -0.16212773323059082,
          -0.18665647506713867,
          -0.08967512845993042,
          -0.11417226493358612,
          -0.27662479877471924,
          -0.17628362774848938,
          -0.19540274143218994,
          -0.11668892204761505,
          -0.17630186676979065,
          -0.12225762009620667,
          -0.21251128613948822,
          -0.28773033618927,
          -0.1224006935954094,
          -0.16539886593818665,
          -0.11478112637996674,
          -0.26377207040786743,
          -0.34017181396484375,
          -0.34813356399536133,
          -0.09462647140026093,
          -0.14785879850387573,
          -0.12433943152427673,
          -0.3377746343612671,
          -0.21217694878578186,
          -0.2431274652481079,
          -0.1685323417186737,
          -0.1174575686454773,
          -0.23753663897514343,
          -0.22560101747512817,
          -0.2509269416332245,
          -0.15288248658180237,
          -0.11039572954177856,
          -0.2586439847946167,
          -0.10087940096855164,
          -0.10848943889141083,
          -0.21390697360038757,
          -0.2337428629398346,
          -0.1968337893486023,
          -0.22959578037261963,
          -0.3349878787994385,
          -0.1793215125799179,
          -0.15670830011367798,
          -0.15178439021110535,
          -0.23874542117118835,
          -0.2912932336330414,
          -0.15871617197990417,
          -0.1506538987159729,
          -0.2577003240585327,
          -0.22601962089538574,
          -0.2918616831302643,
          -0.19231292605400085,
          -0.20579268038272858,
          -0.21051672101020813,
          -0.25886547565460205,
          -0.2525339424610138,
          -0.14476147294044495,
          -0.17972615361213684,
          -0.1526891440153122,
          -0.1118997111916542,
          -0.08948768675327301,
          -0.19241082668304443,
          -0.2054654359817505,
          -0.20462578535079956,
          -0.2795044779777527,
          -0.23647305369377136,
          -0.16604217886924744,
          -0.2266242504119873,
          -0.22392289340496063,
          -0.1578032672405243,
          -0.16654974222183228,
          -0.13761092722415924,
          -0.17723120748996735,
          -0.13095499575138092,
          -0.11121459305286407,
          -0.13814623653888702,
          -0.16614340245723724,
          -0.15806183218955994,
          -0.2143733948469162,
          -0.19684091210365295,
          -0.08363303542137146,
          -0.08915816247463226,
          -0.21084502339363098,
          -0.3136366903781891,
          -0.28732094168663025,
          -0.2360028624534607,
          -0.1822350174188614,
          -0.22331488132476807,
          -0.10114617645740509,
          -0.18989011645317078,
          -0.22623437643051147,
          -0.08651486784219742,
          -0.12538310885429382,
          -0.12084541469812393,
          -0.18124374747276306,
          -0.30345287919044495,
          -0.13251686096191406,
          -0.17506316304206848,
          -0.15467116236686707,
          -0.23975428938865662,
          -0.07962359488010406,
          -0.2040320336818695,
          -0.15867355465888977,
          -0.24065974354743958,
          -0.31463727355003357,
          -0.22172465920448303,
          -0.2058638483285904,
          -0.13253408670425415,
          -0.09528258442878723,
          -0.20422807335853577,
          -0.08427943289279938,
          -0.2461162507534027,
          -0.1324116289615631,
          -0.23987241089344025,
          -0.1433640569448471,
          -0.10529191046953201,
          -0.22944492101669312,
          -0.20718027651309967,
          -0.15388721227645874,
          -0.09395640343427658,
          -0.14386701583862305,
          -0.1383950412273407,
          -0.14550718665122986,
          -0.262252539396286,
          -0.20843510329723358,
          -0.13097462058067322,
          -0.23381471633911133,
          -0.09183022379875183,
          -0.29191526770591736,
          -0.13975703716278076,
          -0.2971529960632324,
          -0.16318051517009735,
          -0.07764118164777756,
          -0.14132210612297058,
          -0.16753900051116943,
          -0.12478214502334595,
          -0.1834823191165924,
          -0.1171514019370079,
          -0.18997615575790405,
          -0.2230922430753708,
          -0.22025568783283234,
          -0.2630023956298828,
          -0.09463262557983398,
          -0.2791781723499298,
          -0.21277198195457458,
          -0.2822710871696472,
          -0.23713527619838715,
          -0.16608119010925293,
          -0.12735840678215027,
          -0.13071876764297485,
          -0.10963474959135056,
          -0.27380383014678955,
          -0.2311834692955017,
          -0.18649590015411377,
          -0.17434436082839966,
          -0.25837481021881104,
          -0.21960553526878357,
          -0.0910416767001152,
          -0.10600869357585907,
          -0.2677629888057709,
          -0.1098061129450798,
          -0.1012522429227829,
          -0.21392101049423218,
          -0.07800853997468948,
          -0.22240304946899414,
          -0.11899396777153015,
          -0.16607394814491272,
          -0.30246055126190186,
          -0.1591702699661255,
          -0.1019476056098938,
          -0.24179625511169434,
          -0.1677045226097107,
          -0.13636811077594757,
          -0.1584664285182953,
          -0.12257595360279083,
          -0.09970593452453613,
          -0.1458234190940857,
          -0.11733990907669067,
          -0.09109638631343842,
          -0.16505378484725952,
          -0.1860789656639099,
          -0.09876632690429688,
          -0.2373424768447876,
          -0.1677045226097107,
          -0.10204441845417023,
          -0.09218113869428635,
          -0.24803167581558228,
          -0.2754634618759155,
          -0.09664624184370041,
          -0.09297658503055573,
          -0.20419666171073914,
          -0.2213185429573059,
          -0.1669710874557495,
          -0.23952123522758484,
          -0.33221474289894104,
          -0.09087295085191727,
          -0.1721881777048111,
          -0.2296583652496338,
          -0.15117289125919342,
          -0.12101612985134125,
          -0.14131540060043335,
          -0.1783353090286255,
          -0.1428261250257492,
          -0.16163727641105652,
          -0.20120204985141754,
          -0.1597219556570053,
          -0.11988149583339691,
          -0.2408563792705536,
          -0.1408146619796753,
          -0.23389126360416412,
          -0.1505921632051468,
          -0.14618858695030212,
          -0.13993088901042938,
          -0.10306163132190704,
          -0.10885739326477051,
          -0.1768864095211029,
          -0.21602630615234375,
          -0.1292523741722107,
          -0.1604049652814865,
          -0.13316874206066132,
          -0.08275454491376877,
          -0.13568663597106934,
          -0.10244739800691605,
          -0.1577787846326828,
          -0.0983363538980484,
          -0.2351676970720291,
          -0.14344705641269684,
          -0.24553030729293823,
          -0.0775066390633583,
          -0.07777615636587143,
          -0.15552671253681183,
          -0.18263785541057587,
          -0.32973819971084595,
          -0.16277633607387543,
          -0.14126037061214447,
          -0.12734904885292053,
          -0.10288562625646591,
          -0.25338637828826904,
          -0.20499566197395325,
          -0.21018463373184204,
          -0.10032442212104797,
          -0.14520075917243958,
          -0.09901043772697449,
          -0.1455240547657013,
          -0.11884769052267075,
          -0.2837948203086853,
          -0.0940927118062973,
          -0.11390538513660431,
          -0.17093685269355774,
          -0.10763205587863922,
          -0.2574349045753479,
          -0.18456025421619415,
          -0.16977211833000183,
          -0.13449788093566895,
          -0.16477900743484497,
          -0.20469655096530914,
          -0.09868871420621872,
          -0.1941584050655365,
          -0.08353908360004425,
          -0.09987267851829529,
          -0.1541757583618164,
          -0.22702203691005707,
          -0.16541385650634766,
          -0.12899444997310638,
          -0.20810386538505554,
          -0.20083317160606384,
          -0.3225184381008148,
          -0.12280135601758957,
          -0.08973437547683716,
          -0.11649961769580841,
          -0.2935790419578552,
          -0.19527719914913177,
          -0.25975626707077026,
          -0.2778857946395874,
          -0.13148216903209686,
          -0.29057958722114563,
          -0.09036143124103546,
          -0.19835107028484344,
          -0.11221157759428024,
          -0.18783792853355408,
          -0.08397182822227478,
          -0.09638277441263199,
          -0.11273311823606491,
          -0.22655001282691956,
          -0.13024942576885223,
          -0.1742001175880432,
          -0.10363432765007019,
          -0.25512105226516724,
          -0.19002045691013336,
          -0.17282544076442719,
          -0.16772258281707764,
          -0.3125036954879761,
          -0.17562785744667053,
          -0.1727122664451599,
          -0.1687013804912567,
          -0.15917737782001495,
          -0.1865922212600708,
          -0.17530499398708344,
          -0.08605442196130753,
          -0.14425866305828094,
          -0.1490175426006317,
          -0.1728525459766388,
          -0.16089367866516113,
          -0.1662495732307434,
          -0.29613280296325684,
          -0.2005889117717743,
          -0.08350570499897003,
          -0.13800863921642303,
          -0.1027604267001152,
          -0.2441263049840927,
          -0.12624770402908325,
          -0.19896452128887177,
          -0.2510230839252472,
          -0.1832282543182373,
          -0.1074482724070549,
          -0.09407007694244385,
          -0.10019785165786743,
          -0.16485676169395447,
          -0.14151495695114136,
          -0.14875835180282593,
          -0.15363113582134247,
          -0.194085031747818,
          -0.14910364151000977,
          -0.1783461570739746,
          -0.12236061692237854,
          -0.18393005430698395,
          -0.1262437254190445,
          -0.14526711404323578,
          -0.19347026944160461,
          -0.1043652817606926,
          -0.22444505989551544,
          -0.08986988663673401,
          -0.18430005013942719,
          -0.21834221482276917,
          -0.1472577005624771,
          -0.17982259392738342,
          -0.21705272793769836,
          -0.10140971839427948,
          -0.11626975238323212,
          -0.10112828016281128,
          -0.21934714913368225,
          -0.09354980289936066,
          -0.20722752809524536,
          -0.2788815498352051,
          -0.11335083842277527,
          -0.12242504954338074,
          -0.14144745469093323,
          -0.15706118941307068,
          -0.22814518213272095,
          -0.11245481669902802,
          -0.1501132845878601,
          -0.19426940381526947,
          -0.09876769781112671,
          -0.08210829645395279,
          -0.13401712477207184,
          -0.1362851858139038,
          -0.18751069903373718,
          -0.2789267301559448,
          -0.16731344163417816,
          -0.2728525996208191,
          -0.1073712408542633,
          -0.10604286193847656,
          -0.23504771292209625,
          -0.19713373482227325,
          -0.11071512848138809,
          -0.10698434710502625,
          -0.27749723196029663,
          -0.16309285163879395,
          -0.2455098032951355,
          -0.15600118041038513,
          -0.11219459027051926,
          -0.1351085901260376,
          -0.14129728078842163,
          -0.17788143455982208,
          -0.1228223592042923,
          -0.14671172201633453,
          -0.15560057759284973,
          -0.1357548087835312,
          -0.26911109685897827,
          -0.19166721403598785,
          -0.22399212419986725,
          -0.07286977767944336,
          -0.2570998966693878,
          -0.25799694657325745,
          -0.08169008791446686,
          -0.1113160252571106,
          -0.2441331148147583,
          -0.24438709020614624,
          -0.10064508020877838,
          -0.23055227100849152,
          -0.14304830133914948,
          -0.2796700596809387,
          -0.10073715448379517,
          -0.09784649312496185,
          -0.16569973528385162,
          -0.20519042015075684,
          -0.14446912705898285,
          -0.2490437924861908,
          -0.15691517293453217,
          -0.1499255746603012,
          -0.11143679916858673,
          -0.14096075296401978,
          -0.10070111602544785,
          -0.12066782265901566,
          -0.14725908637046814,
          -0.08958541601896286,
          -0.15718618035316467,
          -0.1270643174648285,
          -0.14186349511146545,
          -0.16422224044799805,
          -0.15155082941055298,
          -0.16348624229431152,
          -0.11763337254524231,
          -0.12364939600229263,
          -0.18537551164627075,
          -0.3366672396659851,
          -0.09654677659273148,
          -0.11770208925008774,
          -0.17394578456878662,
          -0.1695200502872467,
          -0.20988646149635315,
          -0.24152839183807373,
          -0.1896347552537918,
          -0.1274534910917282,
          -0.1113291010260582,
          -0.09161920845508575,
          -0.10279524326324463,
          -0.09284421801567078,
          -0.11952857673168182,
          -0.14520934224128723,
          -0.2630983293056488,
          -0.2206280380487442,
          -0.09279202669858932,
          -0.25917649269104004,
          -0.15535849332809448,
          -0.2355281412601471,
          -0.1251043677330017,
          -0.13008300960063934,
          -0.10034511983394623,
          -0.19461968541145325,
          -0.16871397197246552,
          -0.18455365300178528,
          -0.12779250741004944,
          -0.2371838092803955,
          -0.2336561232805252,
          -0.11220874637365341,
          -0.1946134716272354,
          -0.12839633226394653,
          -0.24091410636901855,
          -0.1184166967868805,
          -0.20152351260185242,
          -0.13611528277397156,
          -0.23385769128799438,
          -0.11602962762117386,
          -0.09248209744691849,
          -0.13897085189819336,
          -0.07983262091875076,
          -0.31850665807724,
          -0.07761864364147186,
          -0.165278360247612,
          -0.09566433727741241,
          -0.2292976826429367,
          -0.1830441653728485,
          -0.27466291189193726,
          -0.24140186607837677,
          -0.2570730447769165,
          -0.19871886074543,
          -0.14043182134628296,
          -0.29111719131469727,
          -0.2389879822731018,
          -0.26201528310775757,
          -0.24625039100646973,
          -0.13920119404792786,
          -0.28656327724456787,
          -0.07255356013774872,
          -0.2239484041929245,
          -0.17640921473503113,
          -0.23171037435531616,
          -0.1578313112258911,
          -0.20764809846878052,
          -0.23444338142871857,
          -0.14777666330337524,
          -0.09804552048444748,
          -0.26743537187576294,
          -0.08035094290971756,
          -0.15925951302051544,
          -0.2623679041862488,
          -0.15806539356708527,
          -0.20028056204319,
          -0.22521910071372986,
          -0.09699815511703491,
          -0.23093193769454956,
          -0.16296836733818054,
          -0.1803361177444458,
          -0.18524189293384552,
          -0.10101603716611862,
          -0.1379806101322174,
          -0.14782533049583435,
          -0.25936388969421387,
          -0.12487711757421494,
          -0.2987585663795471,
          -0.12313301116228104,
          -0.23893357813358307,
          -0.13224807381629944,
          -0.19983308017253876,
          -0.17661365866661072,
          -0.12148240208625793,
          -0.21728768944740295,
          -0.16235019266605377,
          -0.23926159739494324,
          -0.11018134653568268,
          -0.13229724764823914,
          -0.11444620788097382,
          -0.10382435470819473,
          -0.23381978273391724,
          -0.23644429445266724,
          -0.09325706958770752,
          -0.1633835732936859,
          -0.23999714851379395,
          -0.18484936654567719,
          -0.220353364944458,
          -0.2474982589483261,
          -0.1672026813030243,
          -0.2058296799659729,
          -0.18276971578598022,
          -0.08861783146858215,
          -0.22822079062461853,
          -0.07813970744609833,
          -0.15832138061523438,
          -0.1878809630870819,
          -0.1431916356086731,
          -0.15054190158843994,
          -0.0829964280128479,
          -0.16417594254016876,
          -0.25400689244270325,
          -0.26282885670661926,
          -0.17457252740859985,
          -0.1902044415473938,
          -0.27374133467674255,
          -0.25906991958618164,
          -0.1871822327375412,
          -0.1256800889968872,
          -0.2589951753616333,
          -0.202051043510437,
          -0.2763333022594452,
          -0.12638379633426666,
          -0.1445903331041336
         ],
         "yaxis": "y"
        },
        {
         "customdata": [
          [
           "coconut cream<br>cornstarch<br>jackfruit<br>mung bean<br>rice flour<br>sago<br>sugar"
          ],
          [
           "avocado<br>lemon<br>milk"
          ],
          [
           "coconut milk<br>pandan<br>rice<br>salt<br>sugar"
          ],
          [
           "butter<br>sugar<br>vanilla"
          ],
          [
           "avocado<br>ice<br>lemon juice<br>milk<br>sugar"
          ],
          [
           "coconut<br>cornstarch<br>cream<br>egg<br>flour<br>lemon juice<br>milk<br>salt<br>sugar"
          ],
          [
           "coconut<br>coconut juice<br>sugar"
          ],
          [
           "butter<br>egg<br>milk<br>potato<br>salt<br>sugar<br>yeast"
          ],
          [
           "cornstarch<br>egg<br>ice<br>oil<br>salt<br>shrimp"
          ],
          [
           "banana bananas<br>coconut cream<br>coconut milk<br>gabi<br>jackfruit<br>kamote<br>rice<br>sago<br>yam"
          ],
          [
           "coconut cream<br>coconut milk<br>rice flour<br>sugar<br>yam"
          ],
          [
           "coconut<br>rice flour<br>sesame seeds<br>sugar"
          ],
          [
           "cassava<br>coconut milk<br>jackfruit<br>sago<br>salt<br>sugar"
          ],
          [
           "banana bananas<br>butter<br>egg<br>pandan<br>powder<br>salt<br>sugar"
          ],
          [
           "bread<br>bread crumb<br>cheese<br>egg<br>milk<br>oil<br>seasoning"
          ],
          [
           "butter<br>orange juice<br>potato<br>sugar"
          ],
          [
           "cream tartar<br>egg yolk<br>milk<br>oil<br>powder<br>sugar"
          ],
          [
           "cinnamon<br>egg<br>lemon juice<br>oil<br>raisin<br>salt<br>soda<br>sugar"
          ],
          [
           "coconut cream<br>coconut milk<br>sago<br>salt<br>sugar"
          ],
          [
           "ice<br>milk<br>sugar<br>tapioca pearl"
          ],
          [
           "cream<br>milk"
          ],
          [
           "cream<br>lemon juice<br>milk<br>sago<br>sugar"
          ],
          [
           "butter<br>coconut<br>coconut milk<br>cream cheese<br>egg<br>margarine<br>powder<br>rice flour<br>salt<br>sugar"
          ],
          [
           "coconut<br>coconut milk<br>onion<br>rice<br>salt"
          ],
          [
           "jackfruit<br>sugar"
          ],
          [
           "cornstarch<br>egg<br>oil<br>okra<br>salt"
          ],
          [
           "egg<br>flour<br>milk<br>oil<br>powder<br>salt<br>soda<br>sugar<br>vanilla"
          ],
          [
           "butter<br>egg yolk<br>flour<br>margarine<br>milk<br>oil<br>powder<br>salt<br>sugar<br>vanilla"
          ],
          [
           "cheese<br>mayonnaise<br>shrimp<br>sugar"
          ],
          [
           "bread crumb<br>coconut<br>cornstarch<br>egg<br>oil<br>salt pepper<br>shrimp"
          ],
          [
           "carrot<br>cheese<br>chestnut<br>oil<br>onion<br>salt pepper<br>spring wrapper"
          ],
          [
           "coconut milk<br>ginger<br>rice<br>salt<br>sugar"
          ],
          [
           "butter<br>egg<br>flour<br>powder<br>salt<br>sugar<br>vanilla"
          ],
          [
           "butter<br>egg<br>flour<br>milk<br>salt<br>sugar<br>yeast"
          ],
          [
           "salt<br>sugar"
          ],
          [
           "pandan<br>sugar<br>tofu"
          ],
          [
           "banana bananas<br>bean<br>ice<br>jackfruit<br>kaong<br>milk<br>yam"
          ],
          [
           "butter<br>egg<br>flour<br>salt<br>sugar<br>vanilla"
          ],
          [
           "butter<br>egg<br>flour<br>milk<br>salt<br>sugar<br>yeast"
          ],
          [
           "peanut<br>rice flour<br>sugar<br>vanilla<br>yam"
          ],
          [
           "butter<br>chocolate chip<br>coffee<br>milk<br>oil<br>salt<br>soda<br>sugar<br>vanilla<br>vinegar"
          ],
          [
           "cucumber<br>ice<br>lime juice<br>sugar"
          ],
          [
           "cherry<br>ham<br>pineapple juice<br>sugar"
          ],
          [
           "bread<br>bread crumb<br>cheese<br>egg<br>hotdog<br>milk<br>oil"
          ],
          [
           "bread crumb<br>butter<br>cocoa powder<br>egg<br>graham cracker crumbs<br>milk<br>oil<br>salt<br>sugar<br>yeast"
          ],
          [
           "bread<br>butter<br>egg<br>flour<br>food<br>milk<br>salt<br>sugar<br>vanilla<br>yeast"
          ],
          [
           "bread crumb<br>butter<br>cheese<br>egg<br>milk<br>salt<br>sugar<br>vegetable oil<br>yam<br>yeast"
          ],
          [
           "cream cheese<br>oil<br>spring wrapper<br>sugar"
          ],
          [
           "butter<br>cream<br>egg<br>lemon<br>lemon juice<br>salt<br>soda<br>sugar<br>vegetable oil"
          ],
          [
           "almond<br>cherry<br>egg<br>flour<br>margarine<br>nutmeg<br>powder<br>raisin<br>salt<br>sugar"
          ],
          [
           "cassava<br>cheese<br>coconut<br>coconut juice<br>food<br>lye<br>pandan<br>salt<br>sugar"
          ],
          [
           "coconut milk<br>rice flour<br>salt<br>sugar<br>vanilla"
          ],
          [
           "coconut milk<br>jackfruit<br>oil<br>pandan<br>rice<br>salt<br>spring wrapper<br>sugar"
          ],
          [
           "cornstarch<br>oil<br>quail egg<br>salt<br>soy sauce<br>sugar"
          ],
          [
           "butter<br>egg<br>milk<br>oil<br>salt<br>sugar<br>yeast"
          ],
          [
           "butter<br>cassava<br>cheese<br>milk<br>salt"
          ],
          [
           "butter<br>cream tartar<br>egg<br>egg yolk<br>graham cracker crumbs<br>sugar<br>vanilla"
          ],
          [
           "butter<br>cream tartar<br>egg<br>egg yolk<br>sugar<br>vanilla"
          ],
          [
           "coconut milk<br>powder<br>rice flour<br>salt<br>sugar"
          ],
          [
           "chicken<br>egg<br>mayonnaise<br>milk<br>onion<br>pineapple<br>relish<br>salt pepper"
          ],
          [
           "peanut<br>rice flour<br>sesame seeds<br>sugar"
          ],
          [
           "banana<br>ice<br>sago<br>sugar"
          ],
          [
           "butter<br>egg<br>flour<br>potato<br>salt<br>sugar<br>yeast"
          ],
          [
           "cassava<br>coconut<br>margarine<br>sugar"
          ],
          [
           "butter<br>egg<br>flour<br>milk<br>mung bean<br>salt<br>sugar<br>yeast"
          ],
          [
           "egg<br>powder<br>salt<br>sugar<br>vegetable oil"
          ],
          [
           "cornstarch<br>cream tartar<br>egg<br>margarine<br>milk<br>powder<br>sugar<br>vanilla"
          ],
          [
           "butter<br>coconut<br>egg<br>flour<br>milk<br>salt<br>sugar<br>vanilla<br>vegetable oil<br>yeast"
          ],
          [
           "oil<br>rice flour<br>sugar"
          ],
          [
           "coconut<br>coconut juice<br>ice<br>milk<br>sugar"
          ],
          [
           "avocado<br>cream<br>milk"
          ],
          [
           "agar<br>coconut<br>coconut juice<br>coconut milk<br>food<br>kaong<br>milk<br>nata de coco<br>sago<br>sugar"
          ],
          [
           "cornstarch<br>egg<br>honey<br>mayonnaise<br>milk<br>peanut<br>salt pepper<br>shrimp<br>sugar<br>walnut"
          ],
          [
           "salt"
          ],
          [
           "lye<br>powder<br>sugar"
          ],
          [
           "butter<br>egg<br>lemon juice<br>salt<br>sugar"
          ],
          [
           "butter<br>cheese<br>egg<br>milk<br>powder<br>sugar<br>vanilla"
          ],
          [
           "banana bananas<br>coconut milk<br>oil<br>salt<br>sugar"
          ],
          [
           "mung bean<br>oil<br>rice flour<br>sesame seeds<br>sugar"
          ],
          [
           "lemon juice<br>mango<br>sugar"
          ],
          [
           "breadcrumb<br>cornstarch<br>egg<br>flour<br>lemon juice<br>mango<br>salt<br>sugar<br>vanilla"
          ],
          [
           "butter<br>carrot<br>corn kernel<br>cream<br>cream mushroom soup<br>jicama<br>oil<br>onion<br>pea<br>quail egg"
          ],
          [
           "coconut cream<br>coconut milk<br>corn<br>rice<br>salt<br>sugar<br>vanilla"
          ],
          [
           "flour<br>oil"
          ],
          [
           "bell pepper<br>cheese<br>egg<br>pea<br>salt"
          ],
          [
           "bread<br>butter<br>egg<br>mayonnaise<br>oil<br>pork"
          ],
          [
           "egg<br>oil<br>pork"
          ],
          [
           "bread<br>breadcrumb<br>cheese<br>egg<br>flour<br>mayonnaise<br>milk<br>oil<br>powder<br>salt"
          ],
          [
           "butter<br>button mushroom<br>cheese<br>cream<br>cream mushroom<br>fettuccine<br>pork"
          ],
          [
           "cheese<br>cream<br>fruit cocktail<br>kaong<br>mayonnaise<br>milk<br>nata de coco<br>pasta"
          ],
          [
           "bread crumb<br>cheese<br>egg<br>flour<br>milk<br>oil<br>onion<br>powder<br>salt"
          ],
          [
           "banana<br>egg<br>flour<br>oil<br>salt<br>soda<br>sugar<br>vanilla"
          ],
          [
           "bread<br>butter<br>cheese<br>egg<br>ham<br>mustard<br>turkey"
          ],
          [
           "breadcrumb<br>cinnamon powder<br>cornstarch<br>egg<br>mango<br>oil<br>sugar"
          ],
          [
           "banana<br>egg<br>flour<br>milk<br>oil<br>powder<br>salt<br>sugar<br>vanilla"
          ],
          [
           "cream<br>fruit cocktail<br>kaong<br>mayonnaise<br>milk<br>pasta<br>salt"
          ],
          [
           "chocolate chip<br>cocoa powder<br>egg<br>flour<br>mayonnaise<br>salt<br>soda<br>sugar<br>vanilla<br>walnut"
          ],
          [
           "coconut milk<br>rice flour<br>sugar<br>yam"
          ],
          [
           "coconut milk<br>rice<br>salt"
          ],
          [
           "banana<br>jackfruit<br>lumpia wrapper<br>oil<br>sugar"
          ],
          [
           "bread<br>bread crumb<br>egg<br>mayonnaise<br>oil"
          ],
          [
           "sugar<br>tofu<br>vanilla"
          ],
          [
           "chocolate chip<br>cocoa powder<br>egg<br>flour<br>oil<br>powder<br>salt<br>sugar<br>vanilla"
          ],
          [
           "annatto seed<br>cabbage<br>eggplant<br>onion<br>peanut<br>peanut butter<br>rice<br>salt pepper<br>shrimp<br>string bean"
          ],
          [
           "cheese<br>fruit cocktail<br>kaong<br>mayonnaise<br>milk<br>nata de coco<br>pasta<br>pineapple<br>raisin"
          ],
          [
           "fish<br>kangkong<br>okra<br>onion<br>patis<br>pepper<br>radish<br>salmon<br>snake bean<br>tomato"
          ],
          [
           "okra<br>onion<br>patis<br>pepper<br>radish<br>sampaloc<br>sitaw<br>tomato"
          ],
          [
           "banana<br>gabi<br>jackfruit<br>potato<br>rice flour<br>sugar<br>tapioca pearl<br>yam"
          ],
          [
           "cake flour<br>egg<br>milk<br>powder<br>salt<br>sugar<br>vanilla"
          ],
          [
           "bread crumb<br>cheese<br>chicken<br>egg<br>flour<br>oil<br>onion"
          ],
          [
           "butter<br>cheese<br>egg<br>spinach<br>tomato"
          ],
          [
           "cheese<br>coconut milk<br>duck egg<br>egg<br>margarine<br>powder<br>salt<br>sugar<br>vanilla"
          ],
          [
           "butter<br>coconut<br>rice<br>sugar"
          ],
          [
           "butter<br>cheese<br>coconut cream<br>egg<br>powder<br>rice<br>salt<br>sugar"
          ],
          [
           "chili<br>ginataang gulay<br>oil<br>onion<br>pork<br>shrimp"
          ],
          [
           "butter<br>buttermilk<br>egg<br>flour<br>powder<br>salt<br>soda<br>sugar<br>vanilla"
          ],
          [
           "bread crumb<br>chicken<br>egg<br>flour<br>oil<br>salt"
          ],
          [
           "butter<br>cayenne pepper powder<br>cheese<br>crab<br>flour<br>kernel corn<br>milk<br>onion<br>salt"
          ],
          [
           "chili pepper<br>crab<br>fish sauce<br>ginataang gulay<br>ginger<br>jackfruit<br>malunggay<br>oil<br>onion"
          ],
          [
           "fish sauce<br>mustard<br>okra<br>onion<br>rice<br>snake bean<br>tomato"
          ],
          [
           "juice lime<br>mango<br>shrimp<br>tomato"
          ],
          [
           "cassava<br>coconut<br>lye<br>sugar"
          ],
          [
           "banana<br>egg<br>flour<br>oil<br>raisin<br>salt<br>soda<br>sugar<br>vanilla"
          ],
          [
           "coconut milk<br>rice<br>salt<br>sugar"
          ],
          [
           "beef broth<br>bell pepper<br>carrot<br>oil<br>onion<br>pork<br>potato<br>raisin<br>tomato sauce"
          ],
          [
           "chicken<br>ginataang gulay<br>oil<br>onion<br>patis<br>pepper<br>sitaw<br>squash"
          ],
          [
           "banana<br>butter<br>cream<br>flour<br>salt<br>soda<br>sugar<br>vanilla<br>walnut"
          ],
          [
           "butter<br>coconut<br>egg<br>milk<br>salt<br>vanilla"
          ],
          [
           "cream<br>gelatin<br>milk<br>pineapple juice"
          ],
          [
           "cheese<br>flour<br>milk<br>powder<br>sugar<br>vanilla"
          ],
          [
           "butter<br>cocoa powder<br>flour<br>salt<br>sugar<br>vanilla"
          ],
          [
           "banana<br>egg<br>flour<br>oil<br>salt<br>soda<br>sugar"
          ],
          [
           "bell pepper<br>bread crumb<br>cheese<br>egg<br>pea<br>pickle<br>pineapple<br>pork<br>raisin"
          ],
          [
           "butter<br>egg<br>honey<br>powder<br>salt<br>sugar"
          ],
          [
           "coconut milk<br>corn<br>mung bean<br>rice<br>salt<br>sugar<br>vanilla"
          ],
          [
           "butter<br>cheese<br>cream cheese<br>flour<br>milk<br>spaghetti<br>spaghetti sauce"
          ],
          [
           "salt<br>sugar<br>vanilla"
          ],
          [
           "beef<br>breadcrumb<br>egg<br>pepper<br>pork<br>salt<br>sugar"
          ],
          [
           "butter<br>butternut squash<br>salt<br>sugar"
          ],
          [
           "apple<br>cinnamon powder<br>honey<br>lemon juice"
          ],
          [
           "banana<br>ice<br>milk<br>salt<br>sugar<br>vanilla"
          ],
          [
           "coconut milk<br>oil<br>sugar<br>yam"
          ],
          [
           "egg"
          ],
          [
           "pork sauce<br>sugar"
          ],
          [
           "beef<br>cheese"
          ],
          [
           "cornstarch<br>egg<br>flour<br>garlic powder<br>oil"
          ],
          [
           "bell pepper<br>butter<br>egg<br>milk<br>onion<br>pork<br>salt pepper<br>sun tomato"
          ],
          [
           "cheese<br>pasta<br>pea"
          ],
          [
           "butter<br>cheese<br>egg<br>milk<br>pandan<br>powder<br>sugar"
          ],
          [
           "cinnamon<br>egg<br>flour<br>nutmeg<br>oil<br>powder<br>soda<br>sugar"
          ],
          [
           "butter<br>cocoa powder<br>egg<br>flour<br>oil<br>powder<br>salt<br>sugar<br>vanilla"
          ],
          [
           "sago<br>sugar"
          ],
          [
           "coconut milk<br>powder<br>rice<br>salt<br>sugar"
          ],
          [
           "butter<br>cocoa powder<br>egg<br>flour<br>powder<br>salt<br>sugar<br>vanilla"
          ],
          [
           "butter<br>cassava<br>coconut<br>salt"
          ],
          [
           "cheese<br>egg<br>milk<br>pepper<br>salt"
          ],
          [
           "cheese<br>egg<br>milk<br>pepper<br>salt"
          ],
          [
           "banana<br>egg<br>oil<br>salt<br>soda<br>sugar<br>vanilla"
          ],
          [
           "cheese<br>chicken<br>onion<br>rice<br>salt<br>vegetable"
          ],
          [
           "beef<br>mayonnaise"
          ],
          [
           "bean<br>cheese<br>chicken<br>cream<br>cumin<br>flour tortilla"
          ],
          [
           "beef<br>bread<br>cheese<br>egg"
          ],
          [
           "bread crumb<br>cheese<br>chicken<br>egg<br>marinara sauce<br>milk<br>oil"
          ],
          [
           "beef<br>bread<br>butter<br>cheese<br>mayonnaise"
          ],
          [
           "butter<br>buttermilk<br>egg<br>powder<br>salt<br>soda<br>sugar"
          ],
          [
           "egg<br>flour<br>milk<br>oil<br>powder<br>salt<br>sugar"
          ],
          [
           "banana<br>butter<br>egg<br>flour<br>powder<br>salt<br>soda<br>sugar<br>vanilla"
          ],
          [
           "butter<br>buttermilk<br>egg<br>flour<br>kernel corn<br>salt<br>soda<br>sugar"
          ],
          [
           "bread<br>butter<br>egg"
          ],
          [
           "bread crumb<br>egg<br>fish<br>flour<br>lettuce<br>oil<br>salt pepper"
          ],
          [
           "butter<br>button mushroom<br>flour<br>oil<br>salt pepper<br>tofu<br>vegetable broth"
          ],
          [
           "tofu"
          ],
          [
           "butter<br>cheese<br>flour<br>milk<br>onion<br>pork<br>soy sauce"
          ],
          [
           "milk<br>rice<br>sugar"
          ],
          [
           "coconut milk<br>food<br>jackfruit<br>milk<br>oil<br>rice flour<br>sugar<br>vanilla<br>yam"
          ],
          [
           "cheese<br>egg<br>oil<br>salt<br>tuna"
          ],
          [
           "bell pepper<br>cheese<br>cream<br>flour tortilla<br>lime"
          ],
          [
           "cheese<br>crab<br>cream cheese<br>mustard powder<br>whipping cream"
          ],
          [
           "cheese<br>flour tortilla<br>lettuce<br>tomato"
          ],
          [
           "cream cheese<br>turkey"
          ],
          [
           "bread<br>cheese<br>egg<br>mayonnaise<br>turkey"
          ],
          [
           "cinnamon powder<br>egg<br>flour<br>lime juice<br>nutmeg<br>salt<br>sugar"
          ],
          [
           "orange juice<br>sugar"
          ],
          [
           "cheese<br>egg<br>mayonnaise<br>oil<br>tomato ketchup"
          ],
          [
           "celery<br>cheese<br>mayonnaise<br>onion<br>pickle<br>salt pepper<br>sugar"
          ],
          [
           "butter<br>egg<br>flour<br>milk<br>powder<br>salt<br>sugar<br>vanilla"
          ],
          [
           "buttermilk<br>egg<br>flour<br>powder<br>raisin<br>salt<br>soda<br>sugar<br>vanilla<br>vegetable oil"
          ],
          [
           "bitter gourd<br>knob ginger<br>malunggay<br>okra<br>onion<br>string bean<br>tomato"
          ],
          [
           "bean<br>cream<br>cream mushroom soup<br>milk<br>onion<br>pepper<br>salt"
          ],
          [
           "broccoli<br>butter<br>carrot<br>cheese<br>flour<br>milk<br>mushroom<br>nutmeg<br>pasta<br>salt"
          ],
          [
           "egg<br>flour<br>milk<br>powder<br>salt<br>sugar<br>vegetable oil"
          ],
          [
           "butter<br>egg<br>flour<br>milk<br>powder<br>salt<br>sugar"
          ],
          [
           "butter<br>egg<br>flour<br>milk<br>pineapple<br>powder<br>salt<br>sugar"
          ],
          [
           "butter<br>egg<br>powder<br>raisin<br>sugar<br>vanilla"
          ],
          [
           "butter<br>cheese<br>mussel"
          ],
          [
           "butter<br>cheese<br>egg<br>onion<br>pork<br>spaghetti pasta<br>whipping cream"
          ],
          [
           "butter<br>cinnamon<br>egg<br>milk<br>nutmeg<br>potato<br>sugar<br>vanilla"
          ],
          [
           "avocado<br>carrot<br>crab<br>cucumber<br>lettuce<br>shrimp"
          ],
          [
           "banana<br>salt<br>sugar<br>vanilla"
          ],
          [
           "butter<br>coconut<br>flour<br>milk<br>salt<br>sugar"
          ],
          [
           "butter<br>egg<br>flour<br>salt<br>soda<br>sugar<br>vanilla"
          ],
          [
           "banana<br>coconut milk<br>jackfruit<br>potato<br>rice<br>sugar<br>tapioca pearl<br>yam"
          ],
          [
           "cake flour<br>cream tartar<br>egg<br>lemon juice<br>powder<br>sugar<br>vegetable oil"
          ],
          [
           "butter<br>egg<br>flour<br>honey<br>kernel corn<br>milk<br>powder<br>salt<br>sugar"
          ],
          [
           "butter<br>cinnamon<br>egg<br>flour<br>powder<br>raisin<br>salt<br>sugar<br>vanilla"
          ],
          [
           "baking potato<br>butter<br>milk<br>salt"
          ],
          [
           "butter<br>chicken<br>flour"
          ],
          [
           "broccoli<br>butter<br>cheese<br>flour<br>milk<br>onion<br>pepper"
          ],
          [
           "rice flour<br>sesame seed<br>sugar"
          ],
          [
           "coconut<br>rice flour<br>sesame seeds<br>sugar"
          ],
          [
           "cheese<br>egg yolk<br>fettuccine<br>milk<br>pork<br>salt pepper<br>whipping cream"
          ],
          [
           "cassava<br>coconut<br>lye<br>sugar"
          ],
          [
           "flour<br>lye<br>rice flour<br>sugar"
          ],
          [
           "butter<br>cheese<br>egg<br>flour<br>milk<br>salt<br>sugar"
          ],
          [
           "bread crumb<br>butter<br>egg<br>flour<br>milk<br>oil<br>powder<br>salt<br>sugar"
          ],
          [
           "beef<br>bok choy<br>carrot<br>fish sauce<br>onion<br>pepper corn<br>potato"
          ],
          [
           "sugar<br>tapioca pearl<br>vanilla"
          ]
         ],
         "hovertemplate": "<b>%{hovertext}</b><br><br>cluster=1<br>x=%{x}<br>y=%{y}<br>cleaned_ingredients=%{customdata[0]}<extra></extra>",
         "hovertext": [
          "Bibingkoy",
          "Avocado Ice Candy",
          "Bibingkang Malagkit",
          "Pinipig Shortbread Cookies",
          "Avocado Milkshake",
          "Buko Pie (Filipino Coconut Pie)",
          "Buko Lychee Juice",
          "Yema Bread Rolls",
          "Camaron Rebosado",
          "Binignit",
          "Ube Kalamay",
          "Palitaw",
          "Ginataang Kamoteng Kahoy",
          "Banana Pandan Bread",
          "Ham and Cheese Bread Rolls",
          "Minatamis na Kamote",
          "Ube Mamon",
          "Mango Bread Loaf",
          "Guava in Coconut Cream",
          "Instant Pot Boba Milk Tea",
          "Ube Macapuno Ice Cream",
          "Avocado Sago Jelly",
          "Bibingka",
          "Coconut Rice",
          "Minatamis na Langka",
          "Fried Okra",
          "Kababayan",
          "Cebuana Torta",
          "Baked Cheese Shrimp",
          "Coconut Shrimp",
          "Crispy Tuna Shanghai",
          "Puto Maya and Sikwate",
          "Uraro Cookies",
          "Monay",
          "Sampalok Candy",
          "Taho",
          "Halo-Halo",
          "Lengua de Gato",
          "Otap",
          "Peanut Tikoy Rolls with Ube Filling",
          "Moist Chocolate Cupcakes with Mocha Buttercream Frosting",
          "Cucumber Lime Smoothie",
          "Slow Cooker Ham with Pineapple",
          "Cheese Dog Bread Rolls",
          "Chocolate Pandesal",
          "Kalihim",
          "Ube Cheese Pandesal",
          "Mango and Cream Cheese Turon",
          "Calamansi Muffins",
          "Christmas Fruitcake",
          "Pichi-Pichi",
          "Espasol",
          "Turon Malagkit",
          "Cheater's Siopao Bola-Bola",
          "Bicho-Bicho",
          "Nilupak",
          "Silvanas (Sylvanas)",
          "Sans Rival",
          "Puto",
          "Chicken Salad",
          "Sticky Rice Balls with Peanuts",
          "Sago at Gulaman",
          "Sweet Potato Dinner Rolls",
          "Puto Lanson",
          "Monggo Bread Loaf",
          "Ube Crinkles (Purple Yam Crinkles)",
          "Pianono (Filipino Sponge Cake Roll)",
          "Pan de Coco",
          "Carioca",
          "Buko Shake",
          "Avocado Ice Cream",
          "Buko Salad Drink",
          "Honey Walnut Shrimp",
          "Salted Eggs",
          "Kutsinta",
          "Calamansi Bars",
          "Cheese Puto",
          "Fried Bananas with Salted Caramel Coconut Sauce",
          "Buchi",
          "Mango Jam",
          "Air Fried Peach Mango Pie",
          "Creamy Sipo Egg with Chicken Gizzard",
          "Ginataang Mais at Malagkit (Sweet Corn and Glutinous Rice in Coconut Milk)",
          "Tornado Franks",
          "Air Fryer Longganisa Frittata",
          "One Pan Sandwich",
          "Bacon Stuffed Pancake",
          "Idol Cheesedog Bread Roll and Bites",
          "Pasta Carbonara Filipino Style",
          "How to Make Macaroni Salad for the Holidays",
          "Cheesy Onion Rings",
          "Banana Bread Recipe",
          "Monte Cristo",
          "Peach Mango Nuggets",
          "Banana Fritter Recipe",
          "Macaroni Fruit Salad",
          "Mayo Brownies",
          "Ube Kalamay Recipe",
          "Suman sa Ibos Recipe",
          "Turon (Banana Lumpia with Caramel)",
          "Fried Ham and Cheese Roll",
          "Homemade Taho",
          "Chocolate Crinkle Cookies",
          "Kare Kare",
          "Filipino Sweet Macaroni Salad",
          "Salmon Sinigang Recipe",
          "Sinigang na Sugpo Recipe",
          "Binignit Recipe",
          "Puto Cake",
          "Golden Chicken Rice Balls with Crab and Corn Soup",
          "Spinach Tomato and Cheese Omelette",
          "Bibingka Muffins",
          "Puto Bumbong Recipe",
          "Panlasang Pinoy Bibingkang Galapong",
          "Anghang Sarap Laing",
          "Buttermilk Waffles",
          "Super Tender Juicy Chicken Nuggets",
          "Cheesy Crab and Corn Nachos",
          "Ginataang Langka with Alimasag",
          "Seafood Sinigang",
          "Ensaladang Mangga (Green Mango Salad)",
          "Ube Pichi Pichi Recipe",
          "Moist Banana Bread with Raisins",
          "Chocolate Biko Recipe",
          "Pork Menudo with Ham Recipe",
          "Ginataang Manok with Sitaw at Kalabasa",
          "Mini Banana Cake with Walnuts for Kids",
          "Chewy Coconut Macaroons Recipe",
          "Cathedral Window Gelatin Recipe",
          "Cheese Puto Recipe",
          "Microwave Brownie in a Bowl",
          "Dark Chocolate Banana Bread",
          "Pork Giniling Hardinera Recipe",
          "How to Make Cornbread for Beginners",
          "Ginataang Monggo at Mais",
          "Creamy Baked Spaghetti",
          "Simple Bibingkang Malagkit",
          "How to Make Meatloaf",
          "Caramelized Butternut Squash",
          "Simple Applesauce Recipe",
          "Saging con Hielo",
          "Simple Ube Halaya Recipe",
          "Meatball Adobo with Shrimp Fried Rice and Egg",
          "Pork Adobo Paksiw Recipe",
          "How to Make a Hamburger",
          "Crispy Spam Steak Recipe",
          "Scrambled Eggs with Sun Dried Tomato and Bacon",
          "Tuna Macaroni Pasta",
          "Buttered Puto",
          "Pumpkin Muffins",
          "Brownies Recipe",
          "How to Make Sago Pearls",
          "Ube Biko Recipe",
          "How to Make Brownies",
          "Nilupak Recipe",
          "Sausage and Egg Casserole with Hash Browns Recipe",
          "Ham and Cheese Quiche Recipe",
          "Gluten Free Banana Bread with Almonds Recipe",
          "Chicken and Rice Casserole Recipe",
          "Delicious Reuben Sandwich",
          "Chicken Enchilada Casserole Recipe",
          "Breakfast Reuben Sandwich",
          "Easy Chicken Parm",
          "Reuben Sandwich",
          "Delicious Whole Wheat Pancakes",
          "Yummy Blueberry Pancake Recipe",
          "Easy Banana Muffin",
          "Buttermilk Cornbread",
          "Grilled Cheese Ham and Egg Sandwich",
          "Fried Fish Sandwich",
          "Tofu with Mushroom Gravy",
          "Miso Soup Recipe",
          "Cheese Fries",
          "Easy Champorado Recipe",
          "Sapin Sapin Recipe",
          "Tuna Frittata Recipe",
          "Carne Asada Burrito Recipe",
          "Crab Dip Recipe",
          "Tuna Salad Wrap",
          "Turkey and Cranberry Sandwich with Cream Cheese",
          "Turkey, Egg, and Cheese Breakfast Sandwich",
          "Peach Pie Recipe",
          "Easy Cranberry Sauce Recipe",
          "Egg and Cheese English Muffin Sandwich",
          "Tuna Salad Sandwich Recipe",
          "Sausage and Egg Waffle Sandwich",
          "Raisin Bran Muffin Recipe",
          "Dinengdeng Recipe",
          "Green Bean Casserole Recipe",
          "Creamy Veggie Lasagna",
          "Blueberry Muffins Recipe",
          "Cornbread Recipe",
          "Pineapple Upside Down Cake",
          "Fruity Prune Cake",
          "Baked Tahong Recipe",
          "Spaghetti Carbonara Recipe",
          "Sweet Potato Pie Recipe",
          "Sushi Summer Roll Recipe",
          "Minatamis na Saging",
          "Buko Pie",
          "Sugar Cookie Recipe",
          "Ginataang Halo-halo Recipe (Binignit)",
          "Mamon Recipe",
          "Cornbread Muffin Recipe",
          "Oatmeal Cookies",
          "Homemade Mashed Potatoes",
          "KFC Style Gravy Recipe",
          "Cheesy Broccoli Soup Recipe",
          "Tikoy Recipe",
          "Palitaw Recipe",
          "Fettuccine Alfredo Recipe",
          "Pichi-Pichi Recipe",
          "Kutsinta Recipe",
          "Ensaymada Recipe",
          "Pandesal",
          "Beef Nilaga Recipe",
          "Sago at Gulaman Recipe"
         ],
         "legendgroup": "1",
         "marker": {
          "color": "rgb(231, 63, 116)",
          "size": 5,
          "symbol": "circle"
         },
         "mode": "markers",
         "name": "1",
         "showlegend": true,
         "type": "scattergl",
         "x": [
          0.7595206499099731,
          0.5959979295730591,
          0.6935676336288452,
          0.6974508762359619,
          0.5826582312583923,
          0.7496231198310852,
          0.596752405166626,
          0.6577135324478149,
          0.7159363031387329,
          0.7234548330307007,
          0.6956080794334412,
          0.6362866759300232,
          0.700133204460144,
          0.7746685743331909,
          0.7265800833702087,
          0.6093947887420654,
          0.6873286962509155,
          0.7805868983268738,
          0.5832663774490356,
          0.6607617735862732,
          0.6150839924812317,
          0.6326103806495667,
          0.7113407850265503,
          0.7685544490814209,
          0.5106381177902222,
          0.7047131061553955,
          0.7019429206848145,
          0.6492035388946533,
          0.7214495539665222,
          0.7948505282402039,
          0.7434765100479126,
          0.7186503410339355,
          0.7054033279418945,
          0.6271911859512329,
          0.5513210296630859,
          0.5488337278366089,
          0.6615550518035889,
          0.7154600024223328,
          0.6250054836273193,
          0.6768850088119507,
          0.6977034211158752,
          0.5357626676559448,
          0.5434648394584656,
          0.6799260377883911,
          0.6800677180290222,
          0.6167150139808655,
          0.6380618810653687,
          0.5913114547729492,
          0.7802294492721558,
          0.752335250377655,
          0.6967040300369263,
          0.6971614360809326,
          0.7183964252471924,
          0.7080339789390564,
          0.6166163086891174,
          0.7301235795021057,
          0.7218403816223145,
          0.7280622124671936,
          0.6749977469444275,
          0.7661807537078857,
          0.670310914516449,
          0.6025756597518921,
          0.739142656326294,
          0.7111876606941223,
          0.726604700088501,
          0.7155224084854126,
          0.7312676310539246,
          0.7076574563980103,
          0.6635640263557434,
          0.5813071131706238,
          0.6054999232292175,
          0.6306129693984985,
          0.8110801577568054,
          0.6192739009857178,
          0.6118693351745605,
          0.6996147632598877,
          0.7374668121337891,
          0.708168625831604,
          0.7719421982765198,
          0.5679464340209961,
          0.7671715021133423,
          0.7690794467926025,
          0.7230052351951599,
          0.6123276948928833,
          0.6841963529586792,
          0.6546478271484375,
          0.6258015036582947,
          0.5903114080429077,
          0.6173527836799622,
          0.6986302733421326,
          0.7404270172119141,
          0.7562772035598755,
          0.6627801060676575,
          0.7237439751625061,
          0.7941560745239258,
          0.6607317924499512,
          0.7209182381629944,
          0.704716682434082,
          0.6583046913146973,
          0.6370847821235657,
          0.714362621307373,
          0.6817495822906494,
          0.7025192975997925,
          0.7539790868759155,
          0.6349180936813354,
          0.6314771175384521,
          0.5451461672782898,
          0.703808069229126,
          0.7084636092185974,
          0.755272626876831,
          0.6926983594894409,
          0.7908355593681335,
          0.6877269744873047,
          0.8070180416107178,
          0.6009528636932373,
          0.7293546199798584,
          0.6662859320640564,
          0.7326741814613342,
          0.6713014245033264,
          0.6544752717018127,
          0.6425614953041077,
          0.6706424951553345,
          0.7455935478210449,
          0.6747022867202759,
          0.7066687345504761,
          0.6331723928451538,
          0.7589101195335388,
          0.7292202115058899,
          0.5862293243408203,
          0.7642349004745483,
          0.7394320964813232,
          0.734585165977478,
          0.735977828502655,
          0.7323397994041443,
          0.7533318996429443,
          0.6709998250007629,
          0.6939936280250549,
          0.7542452812194824,
          0.593256950378418,
          0.5513609647750854,
          0.6586216688156128,
          0.7561303973197937,
          0.6045430302619934,
          0.5821641683578491,
          0.6044087409973145,
          0.6393001675605774,
          0.8129372596740723,
          0.6283976435661316,
          0.7285083532333374,
          0.7208311557769775,
          0.756766676902771,
          0.6041237711906433,
          0.7144725322723389,
          0.6819145679473877,
          0.4998362958431244,
          0.6755636930465698,
          0.716503918170929,
          0.7212245464324951,
          0.7592272758483887,
          0.6399723291397095,
          0.64560866355896,
          0.614262044429779,
          0.7446261644363403,
          0.6894222497940063,
          0.6835457682609558,
          0.7433425188064575,
          0.7440030574798584,
          0.6915683150291443,
          0.7060760259628296,
          0.722888708114624,
          0.7368001341819763,
          0.6020738482475281,
          0.7559702396392822,
          0.6121891140937805,
          0.7268362045288086,
          0.6938028931617737,
          0.670785665512085,
          0.6417521834373474,
          0.49828845262527466,
          0.6795040369033813,
          0.6543078422546387,
          0.6546125411987305,
          0.6198139786720276,
          0.7141764163970947,
          0.674659252166748,
          0.7417715787887573,
          0.7618510127067566,
          0.5692465901374817,
          0.6717648506164551,
          0.6822974681854248,
          0.7616275548934937,
          0.7077046632766724,
          0.7836157083511353,
          0.7068929672241211,
          0.6485646367073059,
          0.705585777759552,
          0.7679831981658936,
          0.7184652090072632,
          0.6442740559577942,
          0.7387294769287109,
          0.7492845058441162,
          0.71070396900177,
          0.7194991707801819,
          0.7317016124725342,
          0.7352837324142456,
          0.7219333052635193,
          0.582233190536499,
          0.7727845907211304,
          0.6483557224273682,
          0.6981444358825684,
          0.690986692905426,
          0.5308935642242432,
          0.6910023093223572,
          0.7281004786491394,
          0.673295259475708,
          0.6682126522064209,
          0.700550377368927
         ],
         "xaxis": "x",
         "y": [
          0.3995896279811859,
          0.355540931224823,
          0.25799882411956787,
          0.31742146611213684,
          0.34342896938323975,
          0.2529872953891754,
          0.2757132053375244,
          0.3341061472892761,
          0.1753288209438324,
          0.39256322383880615,
          0.3952511250972748,
          0.255418986082077,
          0.39555221796035767,
          0.2642492949962616,
          0.18184059858322144,
          0.19387885928153992,
          0.385334312915802,
          0.27082109451293945,
          0.36680087447166443,
          0.27686166763305664,
          0.28577184677124023,
          0.3552568852901459,
          0.3932870626449585,
          0.24863210320472717,
          0.2895236015319824,
          0.1823531687259674,
          0.36855077743530273,
          0.349870502948761,
          0.2056608498096466,
          0.35946205258369446,
          0.2364027500152588,
          0.3327736258506775,
          0.3587333559989929,
          0.31511589884757996,
          0.1282796412706375,
          0.17821383476257324,
          0.2949783504009247,
          0.3540380597114563,
          0.3174899220466614,
          0.21829335391521454,
          0.31136244535446167,
          0.170707106590271,
          0.2711600363254547,
          0.34150075912475586,
          0.37718790769577026,
          0.29134905338287354,
          0.3540409207344055,
          0.38270631432533264,
          0.23146602511405945,
          0.346113383769989,
          0.3806363344192505,
          0.3891017436981201,
          0.3636012077331543,
          0.26338300108909607,
          0.31305059790611267,
          0.3400372564792633,
          0.3596920371055603,
          0.29981353878974915,
          0.3426955044269562,
          0.22351804375648499,
          0.2921221852302551,
          0.3589613735675812,
          0.3239138722419739,
          0.3918300271034241,
          0.3520597219467163,
          0.25318586826324463,
          0.3331983685493469,
          0.36236265301704407,
          0.27844735980033875,
          0.3389239013195038,
          0.35236817598342896,
          0.3698679804801941,
          0.2869390547275543,
          0.11799702048301697,
          0.2545113265514374,
          0.3570532500743866,
          0.39193248748779297,
          0.3648861348628998,
          0.27021893858909607,
          0.19068783521652222,
          0.28509044647216797,
          0.24283677339553833,
          0.3458959758281708,
          0.21677684783935547,
          0.1594289094209671,
          0.1565627008676529,
          0.26184725761413574,
          0.21687334775924683,
          0.23775044083595276,
          0.2303832769393921,
          0.25233471393585205,
          0.28509899973869324,
          0.18603716790676117,
          0.3400996923446655,
          0.3011774718761444,
          0.204604834318161,
          0.3407619595527649,
          0.4041377902030945,
          0.33730798959732056,
          0.2717176675796509,
          0.18461589515209198,
          0.2670193910598755,
          0.39315611124038696,
          0.22744184732437134,
          0.31966859102249146,
          0.17037606239318848,
          0.08842053264379501,
          0.3900255262851715,
          0.3699917197227478,
          0.25756606459617615,
          0.21200230717658997,
          0.36921483278274536,
          0.3423483073711395,
          0.2907351553440094,
          0.10918723046779633,
          0.3685007095336914,
          0.18169960379600525,
          0.25919806957244873,
          0.12757918238639832,
          0.09597897529602051,
          0.13419532775878906,
          0.2728671729564667,
          0.3676452338695526,
          0.3364432454109192,
          0.1769436001777649,
          0.10232895612716675,
          0.3445495665073395,
          0.2713284492492676,
          0.3792340159416199,
          0.3907485604286194,
          0.32906556129455566,
          0.36585861444473267,
          0.2390938550233841,
          0.3595070540904999,
          0.36601772904396057,
          0.1931869089603424,
          0.38340499997138977,
          0.33172062039375305,
          0.22041504085063934,
          0.1139066070318222,
          0.3521277904510498,
          0.2781481444835663,
          0.10356777161359787,
          0.07132365554571152,
          0.07503363490104675,
          0.29614943265914917,
          0.26342102885246277,
          0.18904989957809448,
          0.3393571972846985,
          0.2752723693847656,
          0.3556346297264099,
          0.2774199843406677,
          0.32944798469543457,
          0.30983737111091614,
          0.19389566779136658,
          0.19893106818199158,
          0.2739681303501129,
          0.3842908442020416,
          0.21576380729675293,
          0.1742885559797287,
          0.2472672164440155,
          0.18305255472660065,
          0.21843557059764862,
          0.22597062587738037,
          0.29649925231933594,
          0.3606299161911011,
          0.383465439081192,
          0.3816507160663605,
          0.237432062625885,
          0.20571443438529968,
          0.1792909950017929,
          0.1280728131532669,
          0.22657421231269836,
          0.31763455271720886,
          0.40340250730514526,
          0.19467613101005554,
          0.15440724790096283,
          0.16526517271995544,
          0.20096391439437866,
          0.20424491167068481,
          0.22770343720912933,
          0.348433256149292,
          0.26921045780181885,
          0.18279922008514404,
          0.24074693024158478,
          0.36574792861938477,
          0.31505438685417175,
          0.15447531640529633,
          0.2574969232082367,
          0.2253771275281906,
          0.301200807094574,
          0.40107154846191406,
          0.39466702938079834,
          0.33315929770469666,
          0.11275631189346313,
          0.19237563014030457,
          0.2680777907371521,
          0.20329126715660095,
          0.24912849068641663,
          0.33807995915412903,
          0.3363763093948364,
          0.3513695299625397,
          0.30705633759498596,
          0.312019944190979,
          0.32541435956954956,
          0.21505582332611084,
          0.2852003276348114,
          0.2715686559677124,
          0.2333933711051941,
          0.3796710968017578,
          0.18879559636116028,
          0.16319096088409424,
          0.2840123176574707,
          0.37976258993148804,
          0.3376033902168274,
          0.1343332827091217,
          0.3353242874145508
         ],
         "yaxis": "y"
        },
        {
         "customdata": [
          [
           "coconut<br>coconut juice<br>sugar"
          ],
          [
           "ice<br>mango<br>milk<br>sugar"
          ],
          [
           "sugar"
          ],
          [
           "butter<br>sugar"
          ],
          [
           "milk<br>rice<br>sugar"
          ],
          [
           "ice<br>milk"
          ],
          [
           "coconut cream<br>sugar"
          ],
          [
           "mango<br>sugar"
          ],
          [
           "sugar"
          ],
          [
           "cream<br>kaong<br>mango<br>milk"
          ],
          [
           "almond<br>gelatin<br>milk"
          ],
          [
           "cheese<br>oil<br>spring wrapper"
          ],
          [
           "coffee<br>milk<br>sugar"
          ],
          [
           "agar<br>coconut<br>coconut juice<br>coconut milk<br>sugar"
          ],
          [
           "mango<br>milk<br>sago<br>sugar"
          ],
          [
           "butter<br>chocolate chip<br>cream<br>egg<br>egg yolk<br>oil<br>powder<br>salt<br>soda<br>sugar"
          ],
          [
           "cream<br>gelatin<br>milk"
          ],
          [
           "mango<br>milk<br>sugar<br>tapioca pearl"
          ],
          [
           "peanut<br>sugar"
          ],
          [
           "juice lime<br>sugar"
          ],
          [
           "milk<br>peanut butter"
          ],
          [
           "lemon juice<br>sugar"
          ],
          [
           "butter<br>cheese<br>coconut milk<br>milk<br>yam"
          ],
          [
           "milk<br>peanut"
          ],
          [
           "butter<br>egg yolk<br>milk<br>walnut"
          ],
          [
           "honey"
          ],
          [
           "coconut"
          ],
          [
           "egg<br>rice"
          ],
          [
           "cherry<br>cream<br>fruit cocktail<br>graham cracker<br>milk<br>vanilla<br>whipping cream"
          ],
          [
           "cherry<br>milk"
          ],
          [
           "coconut<br>milk<br>vanilla"
          ],
          [
           "bread<br>butter<br>cheese"
          ],
          [
           "banana<br>cassava<br>coconut cream<br>sugar"
          ],
          [
           "apple vinegar<br>sugar"
          ],
          [
           "butter<br>cocoa powder<br>egg<br>flour<br>milk<br>salt<br>soda<br>sugar"
          ],
          [
           "almond<br>milk<br>sugar"
          ],
          [
           "apple<br>butter<br>cinnamon<br>nutmeg<br>sugar"
          ],
          [
           "sugar<br>vanilla<br>whipping cream"
          ],
          [
           "banana<br>lye<br>rice"
          ],
          [
           "coconut milk<br>mung bean<br>rice<br>sugar"
          ],
          [
           "cream<br>graham cracker<br>mango<br>milk"
          ],
          [
           "rice flour"
          ],
          [
           "coconut<br>sugar"
          ],
          [
           "milk"
          ],
          [
           "graham cracker<br>milk"
          ],
          [
           "milk<br>sugar"
          ],
          [
           "cream<br>milk<br>nata de coco"
          ],
          [
           "butter<br>milk<br>vanilla<br>yam"
          ],
          [
           "cake flour<br>cream tartar<br>egg<br>egg yolk<br>lemon<br>milk<br>powder<br>sugar"
          ],
          [
           "butter<br>egg yolk<br>peanut"
          ],
          [
           "butter<br>cocoa powder<br>confectioner sugar<br>egg<br>flour<br>powder<br>salt<br>sugar<br>vanilla"
          ]
         ],
         "hovertemplate": "<b>%{hovertext}</b><br><br>cluster=4<br>x=%{x}<br>y=%{y}<br>cleaned_ingredients=%{customdata[0]}<extra></extra>",
         "hovertext": [
          "Buko Lychee Sorbet",
          "Mango Shake",
          "Melon Juice",
          "Biscocho",
          "Champorado",
          "Melon Drink",
          "Minatamis na Bao (Coconut Jam)",
          "Homemade Mango Nectar",
          "Tamarind Drink",
          "Mango Bango",
          "Almond Jello",
          "Cheese Sticks",
          "Dalgona Coffee",
          "Buko Pandan Gelatin",
          "Mango Jelly",
          "Black Forest Swiss Roll",
          "Cathedral Window Gelatin",
          "Mango Sago",
          "No-cook Caramel Pastillas",
          "Guyabano Juice",
          "Tsokolate",
          "Calamansi Juice",
          "Ube Halaya with Cheese",
          "Yema Recipe",
          "How to Make Yema",
          "Healthy Frozen Blueberry Yogurt Recipe",
          "How to Make Latik from a Can of Coconut Cream",
          "Bistek Silog",
          "Fruit Cocktail Float",
          "Pinoy Fruit Salad Recipe",
          "Buko Ice Candy",
          "Grilled Swiss Cheese Sandwich",
          "Cassava Suman",
          "Cranberry Apple Juice",
          "Ghostly Dark Chocolate Cupcake",
          "Almond Jelly with Fruit Cocktail Recipe",
          "Apple Pie Recipe",
          "No-Bake Chocolate Fudge Tart",
          "Suman sa Lihiya Recipe",
          "Ginataang Monggo Recipe",
          "Jean's Graham Mango Float",
          "How to Make Bilo-bilo",
          "Binatog Recipe (Boiled white corn kernels with Shredded Coconut)",
          "Latik Recipe",
          "Peach Refrigerator Cake",
          "Pastillas de leche",
          "Fruit Salad Recipe",
          "Ube Halaya",
          "Custard Cake Recipe",
          "Yema Ball Recipe",
          "Chocolate Cupcake Recipe"
         ],
         "legendgroup": "4",
         "marker": {
          "color": "rgb(128, 186, 90)",
          "size": 5,
          "symbol": "circle"
         },
         "mode": "markers",
         "name": "4",
         "showlegend": true,
         "type": "scattergl",
         "x": [
          0.5062809586524963,
          0.2625969648361206,
          0.39558351039886475,
          0.48646804690361023,
          0.3928138017654419,
          0.45225393772125244,
          0.460715115070343,
          0.4399354159832001,
          0.34640368819236755,
          0.46998727321624756,
          0.4779871702194214,
          0.43107956647872925,
          0.45281872153282166,
          0.513684868812561,
          0.5481231212615967,
          0.5250831246376038,
          0.5411107540130615,
          0.5364999771118164,
          0.4834609031677246,
          0.27495425939559937,
          0.3985540270805359,
          0.39091429114341736,
          0.5205086469650269,
          0.3250165581703186,
          0.5399329662322998,
          0.4687451422214508,
          0.3295382857322693,
          0.3975125551223755,
          0.4328310191631317,
          0.48708024621009827,
          0.4985696077346802,
          0.40816739201545715,
          0.3520279824733734,
          0.475460022687912,
          0.5712522864341736,
          0.5013657212257385,
          0.529535174369812,
          0.5579859614372253,
          0.44409751892089844,
          0.5433109402656555,
          0.498429536819458,
          0.3088403344154358,
          0.47805145382881165,
          0.32850390672683716,
          0.5064278244972229,
          0.17681732773780823,
          0.564516544342041,
          0.4686085879802704,
          0.5389431715011597,
          0.17821653187274933,
          0.47974205017089844
         ],
         "xaxis": "x",
         "y": [
          0.34758979082107544,
          0.410026490688324,
          0.23857805132865906,
          0.35320597887039185,
          0.46475905179977417,
          0.428907573223114,
          0.44427400827407837,
          0.26604458689689636,
          0.20648810267448425,
          0.37117189168930054,
          0.39334502816200256,
          0.28727948665618896,
          0.49097251892089844,
          0.44948428869247437,
          0.41834819316864014,
          0.40188026428222656,
          0.42703115940093994,
          0.4022780656814575,
          0.5094428062438965,
          0.19371722638607025,
          0.397511750459671,
          0.23469622433185577,
          0.40576067566871643,
          0.4633242189884186,
          0.4512249231338501,
          0.3651822805404663,
          0.3948189616203308,
          0.15899117290973663,
          0.4233737885951996,
          0.5146776437759399,
          0.41645798087120056,
          0.2597070336341858,
          0.26859623193740845,
          0.2649555802345276,
          0.42404329776763916,
          0.38941800594329834,
          0.3471226096153259,
          0.42327791452407837,
          0.14792917668819427,
          0.39444535970687866,
          0.49908846616744995,
          0.24840116500854492,
          0.39144402742385864,
          0.4216788709163666,
          0.4728471636772156,
          0.41317659616470337,
          0.4720105528831482,
          0.2609260082244873,
          0.46104732155799866,
          0.2214430570602417,
          0.39576470851898193
         ],
         "yaxis": "y"
        },
        {
         "customdata": [
          [
           "beef<br>oil<br>onion<br>salt pepper"
          ],
          [
           "fish sauce<br>garlic<br>oil<br>onion<br>pork<br>salt pepper<br>vinegar"
          ],
          [
           "cabbage<br>carrot<br>corn starch<br>garlic<br>mushroom<br>oil<br>onion<br>salt pepper"
          ],
          [
           "pork<br>salt"
          ],
          [
           "bay leaf<br>fish sauce<br>garlic<br>oil<br>onion<br>pork<br>salt pepper<br>vinegar"
          ],
          [
           "chicken<br>chili<br>cornstarch<br>garlic<br>soy sauce<br>sugar<br>vegetable<br>wine"
          ],
          [
           "pineapple juice<br>rock salt<br>sugar"
          ],
          [
           "bay leaf<br>garlic<br>oil<br>onion<br>pork<br>pork sauce<br>salt pepper<br>sugar<br>vinegar"
          ],
          [
           "barbecue sauce<br>chicken<br>pepper<br>salt pepper<br>sesame oil"
          ],
          [
           "fish sauce<br>lemon juice<br>onion<br>radish<br>salt<br>tomato"
          ],
          [
           "garlic<br>oil"
          ],
          [
           "egg<br>eggplant<br>oil<br>salt pepper"
          ],
          [
           "food<br>garlic powder<br>oil<br>pork<br>salt<br>sugar"
          ],
          [
           "flour<br>oil<br>onion<br>pork<br>salt pepper<br>spaghetti<br>spaghetti sauce"
          ],
          [
           "bell pepper<br>carrot<br>chicken<br>ginataang gulay<br>oil<br>onion<br>pea<br>potato<br>salt pepper<br>tomato sauce"
          ],
          [
           "butter<br>cheese<br>egg<br>liquid seasoning<br>oil<br>onion<br>pork<br>rice<br>salt pepper<br>tomato"
          ],
          [
           "fish sauce<br>mustard<br>oil<br>okra<br>onion<br>pepper<br>radish<br>salmon<br>tomato"
          ],
          [
           "cheese<br>oil<br>onion<br>pepper<br>salt pepper<br>seasoning<br>tomato<br>tomato sauce"
          ],
          [
           "beef<br>cheese<br>onion<br>parsley<br>salt pepper<br>seasoning<br>spaghetti<br>tomato<br>tomato sauce"
          ],
          [
           "butter<br>chicken wing"
          ],
          [
           "butter<br>chicken<br>lemon<br>liquid seasoning<br>pepper<br>rosemary<br>salt"
          ],
          [
           "egg<br>eggplant<br>oil<br>salt"
          ],
          [
           "eggplant<br>ginataang gulay<br>malunggay<br>oil<br>onion<br>pepper<br>salt<br>tofu"
          ],
          [
           "calabaza squash<br>crab<br>ginataang gulay<br>ginger<br>oil<br>onion<br>salt pepper<br>snake bean"
          ],
          [
           "bay leaf<br>peppercorn<br>pork<br>salt<br>soy sauce<br>vinegar"
          ],
          [
           "basil<br>cheese<br>fish<br>oil<br>spaghetti"
          ],
          [
           "anchovy<br>chili pepper<br>coconut milk<br>jackfruit<br>malunggay<br>oil<br>patis pepper"
          ],
          [
           "oil<br>salt<br>tilapia"
          ],
          [
           "chili pepper<br>ginataang gulay<br>ginger<br>onion<br>pork"
          ],
          [
           "chili pepper<br>ginataang gulay<br>jackfruit<br>oil<br>onion<br>pork"
          ],
          [
           "garlic<br>oil<br>rice<br>salt"
          ],
          [
           "chili pepper<br>ginataang gulay<br>oil<br>onion<br>pepper<br>salmon<br>salt<br>spinach"
          ],
          [
           "bagoong<br>bitter gourd<br>galunggong<br>okra<br>onion<br>snake bean<br>tomato"
          ],
          [
           "oil<br>pork"
          ],
          [
           "egg<br>oil<br>tomato"
          ],
          [
           "salt<br>steak"
          ],
          [
           "bagoong<br>eggplant<br>okra"
          ],
          [
           "bagoong<br>eggplant<br>flour<br>oil"
          ],
          [
           "egg<br>garlic rice<br>oil"
          ],
          [
           "eggplant<br>okra"
          ],
          [
           "salt"
          ],
          [
           "bagoong<br>coconut vinegar<br>kangkong<br>oil<br>onion<br>salt pepper<br>soy sauce"
          ],
          [
           "vinegar"
          ],
          [
           "salt<br>spice powder<br>wine"
          ],
          [
           "beef steak<br>egg<br>garlic rice<br>oil"
          ],
          [
           "apple vinegar<br>crab<br>garlic<br>lemon"
          ],
          [
           "butter<br>juice lemon<br>lobster<br>salt"
          ],
          [
           "bagoong<br>eggplant<br>melon<br>okra<br>onion<br>plum tomato<br>string bean<br>tilapia"
          ],
          [
           "bay leaf<br>cinnamon<br>garlic<br>oil<br>onion powder<br>pig"
          ],
          [
           "parsley<br>sauce"
          ],
          [
           "egg<br>oil<br>pepper<br>pork<br>salt"
          ],
          [
           "cheese<br>pasta<br>salt pepper<br>tuna"
          ],
          [
           "egg<br>eggplant<br>oil<br>pepper<br>salt<br>scallion"
          ],
          [
           "oil<br>scallion"
          ],
          [
           "basil<br>butter<br>cheese<br>pasta<br>sausage"
          ],
          [
           "oil<br>vinegar"
          ],
          [
           "oil"
          ],
          [
           "oil<br>salt"
          ],
          [
           "oil<br>rice<br>salt"
          ],
          [
           "bread<br>pork"
          ],
          [
           "salt<br>shrimp"
          ],
          [
           "oil<br>salmon<br>seasoning"
          ],
          [
           "egg<br>oil<br>rice"
          ],
          [
           "salt pepper<br>steak"
          ],
          [
           "oil<br>rice"
          ],
          [
           "butter<br>oil"
          ],
          [
           "butter<br>lime<br>lobster<br>oil<br>pepper"
          ],
          [
           "oil<br>plum tomato<br>rice<br>vinegar"
          ],
          [
           "barbecue sauce<br>chicken<br>lemon juice<br>lemon lime soda<br>soy sauce"
          ],
          [
           "oil"
          ],
          [
           "broccoli floret<br>cheese<br>oil<br>seasoning<br>spaghetti sauce<br>tomato"
          ],
          [
           "rice<br>sesame oil<br>vegetable oil"
          ],
          [
           "baking potato<br>oil<br>rosemary<br>salt"
          ],
          [
           "flour<br>lemon<br>oil<br>pepper<br>salt"
          ],
          [
           "bagoong<br>ice<br>okra"
          ],
          [
           "egg<br>mushroom<br>oil<br>salt pepper<br>spinach"
          ],
          [
           "hoisin sauce<br>salt pepper<br>tofu"
          ],
          [
           "butter<br>cheese<br>parsley"
          ],
          [
           "banana<br>salt"
          ],
          [
           "beef<br>butter<br>cheese<br>garlic<br>parsley<br>spaghetti pasta<br>whipping cream"
          ],
          [
           "rice<br>salt"
          ],
          [
           "oil<br>salt<br>walnut<br>wine vinegar"
          ],
          [
           "apple vinegar<br>butter<br>ice<br>salt<br>star anise<br>sugar<br>thyme<br>turkey"
          ],
          [
           "butter<br>chicken broth<br>flour<br>pepper<br>salt<br>turkey"
          ],
          [
           "butter<br>celery<br>pepper<br>rosemary<br>salt<br>thyme"
          ],
          [
           "cilantro<br>lime juice<br>onion<br>salt<br>tomato"
          ],
          [
           "garlic powder<br>oil<br>salt"
          ],
          [
           "butter<br>lime<br>rosemary<br>salt<br>thyme<br>turkey<br>wine"
          ],
          [
           "oil<br>okra<br>pepper<br>salt"
          ],
          [
           "bean<br>bell pepper<br>broccoli floret<br>onion<br>salt pepper<br>squash<br>vegetable broth"
          ],
          [
           "bagoong<br>fish sauce<br>ice<br>sesame oil"
          ],
          [
           "bell pepper<br>broccoli<br>oil<br>salt pepper"
          ],
          [
           "garlic powder<br>juice lemon<br>oil<br>pepper<br>salt"
          ],
          [
           "calabaza squash<br>ginger<br>lemongrass<br>malunggay<br>okra<br>papaya<br>rice<br>salt<br>tomato"
          ],
          [
           "oil<br>salt pepper<br>spinach<br>steak"
          ],
          [
           "apple vinegar<br>pepper<br>salt"
          ],
          [
           "oil"
          ],
          [
           "banana<br>oil<br>sugar"
          ],
          [
           "bell pepper<br>marinara sauce<br>mushroom<br>onion<br>salt pepper<br>squash"
          ],
          [
           "cornstarch<br>oil<br>pepper<br>salt"
          ],
          [
           "fish<br>ginger<br>onion<br>pandan<br>salt pepper<br>tomato"
          ],
          [
           "cheese<br>mushroom<br>oil<br>onion<br>salt pepper<br>spinach<br>tomato"
          ],
          [
           "garlic<br>oil<br>peanut"
          ],
          [
           "egg<br>oil<br>pepper<br>salt"
          ],
          [
           "annatto seed<br>oil"
          ],
          [
           "crab<br>salt"
          ],
          [
           "egg<br>ice<br>oil<br>salt<br>spinach"
          ],
          [
           "baking potato<br>oil<br>salt"
          ],
          [
           "ice<br>oil<br>pepper<br>salt<br>vinegar"
          ],
          [
           "pepper<br>pork<br>salt<br>seasoning"
          ],
          [
           "beef<br>cornstarch<br>oil<br>pepper<br>salt<br>wine"
          ],
          [
           "bay leaf<br>pepper corn<br>pig<br>salt<br>vinegar"
          ],
          [
           "cilantro<br>ginger<br>lemon<br>lemon juice<br>sugar"
          ],
          [
           "cheese<br>oil"
          ],
          [
           "oil<br>potato<br>sugar"
          ],
          [
           "fish sauce<br>onion<br>pepper<br>salmon<br>sampaloc<br>tomato"
          ]
         ],
         "hovertemplate": "<b>%{hovertext}</b><br><br>cluster=3<br>x=%{x}<br>y=%{y}<br>cleaned_ingredients=%{customdata[0]}<extra></extra>",
         "hovertext": [
          "Papis",
          "Kilayin",
          "Chop Suey with Tofu and Shitake Mushrooms",
          "Pinakupsan",
          "Kilawing Labanos at Baboy",
          "Asian Jalapeno Chicken",
          "Homemade Holiday Ham",
          "Paksiw na Lechon",
          "Sweet Mango Barbecue Chicken Skewers",
          "Sinigang na Hipon sa Calamansi",
          "How to Toast Garlic",
          "Tortang Talong",
          "Homemade Pork Tocino",
          "Filipino Spaghetti Recipe",
          "Chicken Afritada sa Gata",
          "Pinoy Breakfast Omelet and Bacon Garlic Fried Rice",
          "Fish Sinigang Recipe",
          "Longganisa Pasta",
          "Baked Spaghetti",
          "Original Buffalo Wings",
          "Garlic Roast Chicken",
          "Tortang Talong Recipe",
          "Ginataang Talong with Malunggay and Tofu",
          "Ginataang Alimasag with Sitaw at Kalabasa",
          "Coke Pork Adobo",
          "Tuyo Pesto Spaghetti Pasta",
          "Ginataang Langka with Malunggay and Dilis",
          "Fried Tilapia Recipe",
          "Laing na Gabi Recipe",
          "Ginataang Langka with Pork Recipe",
          "Sinangag na Kanin Recipe - How to Make Garlic Fried Rice",
          "Ginataang Salmon (Salmon in Coconut Milk)",
          "Dinengdeng na Saluyot with Tinapa",
          "How to Cook Pork Bagnet",
          "Pork Tocino with Salted Egg and Chopped Tomato",
          "Sous Vide Strip Steak Recipe",
          "Steamed Eggplant and Okra with Bagoong",
          "Fried Eggplant (Pritong Talong)",
          "Danggit Silog",
          "Boiled Okra and Eggplant with Bagoong Dipping Sauce",
          "How to Steam Broccoli",
          "Apan - Apan Recipe (Adobong Kangkong with Fried Pork)",
          "Grilled Filipino Sweet Sausage",
          "Oven Roasted Pork Belly",
          "Beef Teriyaki Tapa with Fried Rice and Egg",
          "Steamed Snow Crab Legs Recipe",
          "Steamed Lobster with Lemon Butter Sauce",
          "Inabraw Recipe (Boiled Vegetables with Fried Fish)",
          "Oven Baked Crispy Pata",
          "Sweet and Sour Chicken Nuggets",
          "Fried Embutido Recipe",
          "Tuna Alfredo Casserole",
          "Stuffed Eggplant",
          "Simple Orange Chicken Tenders",
          "Sausage Macaroni Pasta",
          "Crispy Fried Jeprox",
          "How to Make Potato Chips on the Stovetop",
          "Grilled Pompano",
          "Tuyo Fried Rice",
          "Pulled Pork Sandwich Recipe",
          "Halabos na Hipon Recipe",
          "How to Grill Salmon",
          "Tosilog Recipe",
          "Grilled Flank Steak Recipe",
          "Breakfast Daing na Bisugo with Sinangag",
          "Baked Swai Fillet Recipe",
          "Grilled Lobster Tails Recipe",
          "Tuyo with Rice and Tomato",
          "Easy Chicken Barbecue Recipe",
          "Fried Fish Adobo",
          "Chicken Pasta Casserole",
          "Simple Kimchi Fried Rice",
          "Delicious Oven Baked Potatoes",
          "Fried Pompano",
          "Steamed Okra and Bagoong",
          "Mushroom and Spinach Omelet",
          "Hoisin Glazed Grilled Tofu",
          "Garlic Bread",
          "Sinaing na Tulingan Recipe",
          "Ground Beef Spaghetti Alfredo",
          "Lugaw Recipe",
          "Arugula Salad with Chopped Walnuts",
          "Star Anise and Cider Brined Roast Turkey",
          "Quick and Easy Turkey Gravy Recipe",
          "Classic Roast Turkey Recipe",
          "Easy Guacamole Recipe",
          "Oven Roasted Broccoli",
          "Baked Turkey Breast",
          "Roasted Okra",
          "Healthy Vegetable Soup",
          "Kangkong with Bagoong Recipe",
          "Easy Pasta Salad Recipe",
          "Salmon Steak Recipe",
          "Bulanglang Recipe",
          "New York Strip Steak with Sauteed Spinach Recipe",
          "How to Make Kale Chips",
          "Crispy Adobo Flakes Recipe",
          "Bananacue Recipe",
          "Vegetable Stir-fry Pasta Recipe",
          "Crispy Crablets Recipe",
          "Genesee's Grilled Boneless Bangus in Pandan Leaves",
          "Spinach and Feta Pasta Recipe",
          "Adobong Mani Recipe",
          "Tortang Dulong",
          "How to Make Annatto Oil",
          "Halabos na Alimasag Recipe",
          "Crispy Spinach Recipe",
          "Homemade Potato Chips Recipe",
          "Asparagus Salad",
          "Baked Pork Chops with Italian Seasoning",
          "Roast Beef",
          "Grilled Isaw (Intestine) Recipe",
          "Easy Steamed Fish Recipe",
          "Cheese Sticks",
          "Kamote Cue Recipe",
          "Sinigang na Salmon Recipe"
         ],
         "legendgroup": "3",
         "marker": {
          "color": "rgb(230, 131, 16)",
          "size": 5,
          "symbol": "circle"
         },
         "mode": "markers",
         "name": "3",
         "showlegend": true,
         "type": "scattergl",
         "x": [
          0.5909506678581238,
          0.7268192172050476,
          0.665618896484375,
          0.5818982124328613,
          0.7282352447509766,
          0.6029624342918396,
          0.640910267829895,
          0.7182034850120544,
          0.6910514235496521,
          0.7258164286613464,
          0.6171203851699829,
          0.6852877140045166,
          0.679172933101654,
          0.6576794981956482,
          0.618394136428833,
          0.745672881603241,
          0.7317114472389221,
          0.6940262317657471,
          0.658702552318573,
          0.5546754002571106,
          0.7077226042747498,
          0.5118361711502075,
          0.6917049884796143,
          0.5643975734710693,
          0.7099118232727051,
          0.6732627153396606,
          0.6922029852867126,
          0.4729272723197937,
          0.6269374489784241,
          0.6087259650230408,
          0.4931814670562744,
          0.6575711965560913,
          0.6507704257965088,
          0.551447868347168,
          0.6498342156410217,
          0.653166651725769,
          0.35522034764289856,
          0.5216943025588989,
          0.5988545417785645,
          0.508831799030304,
          0.3993797302246094,
          0.7308884263038635,
          0.566814124584198,
          0.7261384129524231,
          0.5962774753570557,
          0.6614757776260376,
          0.6399168968200684,
          0.6056588888168335,
          0.6992946863174438,
          0.5994722247123718,
          0.7040467262268066,
          0.652945876121521,
          0.6906472444534302,
          0.6390950679779053,
          0.5448302626609802,
          0.584815502166748,
          0.5775095820426941,
          0.5720151662826538,
          0.7236918210983276,
          0.4997626543045044,
          0.6401169896125793,
          0.5906642079353333,
          0.4101226329803467,
          0.5474430322647095,
          0.5725641250610352,
          0.7394602298736572,
          0.5901766419410706,
          0.6207642555236816,
          0.5721840858459473,
          0.4321129620075226,
          0.6886473894119263,
          0.6754460334777832,
          0.7202073335647583,
          0.6372754573822021,
          0.3161885440349579,
          0.7213883996009827,
          0.6879180669784546,
          0.6365909576416016,
          0.6092491149902344,
          0.6226464509963989,
          0.44631895422935486,
          0.7183522582054138,
          0.6008431911468506,
          0.5496320724487305,
          0.6823167204856873,
          0.6950551271438599,
          0.6349765062332153,
          0.7199831604957581,
          0.7095177173614502,
          0.7044192552566528,
          0.6088763475418091,
          0.7179431915283203,
          0.7444305419921875,
          0.671481728553772,
          0.6564064621925354,
          0.44600075483322144,
          0.36863067746162415,
          0.3546387553215027,
          0.6938289403915405,
          0.7420732975006104,
          0.7090098261833191,
          0.701819121837616,
          0.5373216867446899,
          0.7365267276763916,
          0.429265558719635,
          0.393282949924469,
          0.6233842968940735,
          0.6348488330841064,
          0.747468888759613,
          0.519889235496521,
          0.7277474999427795,
          0.6232073307037354,
          0.6199547052383423,
          0.35742640495300293,
          0.3543204665184021,
          0.7063418626785278
         ],
         "xaxis": "x",
         "y": [
          -0.05370325595140457,
          -0.119052454829216,
          0.013792367652058601,
          -0.08023835718631744,
          -0.16655172407627106,
          -0.08966036885976791,
          0.02058263123035431,
          -0.09346523880958557,
          -0.18383437395095825,
          -0.11319878697395325,
          -0.10756059736013412,
          -0.07754678279161453,
          -0.1316247284412384,
          -0.06505439430475235,
          -0.0030025141313672066,
          -0.17997482419013977,
          -0.16554445028305054,
          -0.1313008815050125,
          -0.17372581362724304,
          0.0018869219347834587,
          -0.18957245349884033,
          -0.18154948949813843,
          -0.13326290249824524,
          -0.006405378691852093,
          -0.16574832797050476,
          -0.015689607709646225,
          -0.099167600274086,
          -0.29455241560935974,
          -0.034166060388088226,
          0.02929513342678547,
          -0.25218600034713745,
          0.009953941218554974,
          0.00033249857369810343,
          -0.08531562983989716,
          -0.13943800330162048,
          -0.1582413613796234,
          0.023019002750515938,
          0.00987083837389946,
          -0.05413956940174103,
          -0.048155784606933594,
          -0.04576852172613144,
          -0.1935223489999771,
          -0.09484509378671646,
          -0.0952473059296608,
          -0.18552367389202118,
          -0.09113407135009766,
          -0.146531879901886,
          0.009629667736589909,
          -0.1847723126411438,
          -0.04290202260017395,
          -0.09825921058654785,
          0.006389878690242767,
          -0.11716033518314362,
          -0.14760805666446686,
          0.005313652567565441,
          -0.19733469188213348,
          -0.17041826248168945,
          -0.1338874250650406,
          -0.151841402053833,
          -0.16566577553749084,
          -0.19388671219348907,
          -0.1660345494747162,
          -0.009607086889445782,
          -0.26905831694602966,
          -0.09198050945997238,
          -0.1098601371049881,
          -0.14175762236118317,
          -0.18780232965946198,
          -0.1607641577720642,
          -0.14500342309474945,
          -0.07217873632907867,
          -0.0827106460928917,
          -0.1878461241722107,
          -0.13231030106544495,
          0.060709185898303986,
          -0.09928657114505768,
          -0.12494532763957977,
          0.04558808356523514,
          0.011746367439627647,
          -0.030111001804471016,
          0.0421513132750988,
          -0.09903395920991898,
          -0.028646040707826614,
          -0.04067778214812279,
          -0.1470312476158142,
          -0.15429887175559998,
          -0.17487309873104095,
          -0.16871123015880585,
          -0.16057294607162476,
          -0.1657613068819046,
          -0.15394192934036255,
          -0.177416130900383,
          -0.19705575704574585,
          -0.0746380016207695,
          -0.09919655323028564,
          -0.22196520864963531,
          -0.2355794757604599,
          -0.02563803642988205,
          -0.12166617810726166,
          -0.10934624075889587,
          -0.09734046459197998,
          -0.16541898250579834,
          -0.09624793380498886,
          -0.1703118234872818,
          -0.007129528559744358,
          0.03906923905014992,
          -0.07528559863567352,
          -0.011676683090627193,
          -0.184750497341156,
          -0.3483026623725891,
          -0.16862070560455322,
          -0.20301468670368195,
          -0.08035007864236832,
          0.050457872450351715,
          0.014909928664565086,
          -0.16347798705101013
         ],
         "yaxis": "y"
        }
       ],
       "layout": {
        "height": 750,
        "legend": {
         "title": {
          "text": "cluster"
         },
         "tracegroupgap": 0
        },
        "margin": {
         "t": 60
        },
        "template": {
         "data": {
          "bar": [
           {
            "error_x": {
             "color": "#2a3f5f"
            },
            "error_y": {
             "color": "#2a3f5f"
            },
            "marker": {
             "line": {
              "color": "#E5ECF6",
              "width": 0.5
             },
             "pattern": {
              "fillmode": "overlay",
              "size": 10,
              "solidity": 0.2
             }
            },
            "type": "bar"
           }
          ],
          "barpolar": [
           {
            "marker": {
             "line": {
              "color": "#E5ECF6",
              "width": 0.5
             },
             "pattern": {
              "fillmode": "overlay",
              "size": 10,
              "solidity": 0.2
             }
            },
            "type": "barpolar"
           }
          ],
          "carpet": [
           {
            "aaxis": {
             "endlinecolor": "#2a3f5f",
             "gridcolor": "white",
             "linecolor": "white",
             "minorgridcolor": "white",
             "startlinecolor": "#2a3f5f"
            },
            "baxis": {
             "endlinecolor": "#2a3f5f",
             "gridcolor": "white",
             "linecolor": "white",
             "minorgridcolor": "white",
             "startlinecolor": "#2a3f5f"
            },
            "type": "carpet"
           }
          ],
          "choropleth": [
           {
            "colorbar": {
             "outlinewidth": 0,
             "ticks": ""
            },
            "type": "choropleth"
           }
          ],
          "contour": [
           {
            "colorbar": {
             "outlinewidth": 0,
             "ticks": ""
            },
            "colorscale": [
             [
              0,
              "#0d0887"
             ],
             [
              0.1111111111111111,
              "#46039f"
             ],
             [
              0.2222222222222222,
              "#7201a8"
             ],
             [
              0.3333333333333333,
              "#9c179e"
             ],
             [
              0.4444444444444444,
              "#bd3786"
             ],
             [
              0.5555555555555556,
              "#d8576b"
             ],
             [
              0.6666666666666666,
              "#ed7953"
             ],
             [
              0.7777777777777778,
              "#fb9f3a"
             ],
             [
              0.8888888888888888,
              "#fdca26"
             ],
             [
              1,
              "#f0f921"
             ]
            ],
            "type": "contour"
           }
          ],
          "contourcarpet": [
           {
            "colorbar": {
             "outlinewidth": 0,
             "ticks": ""
            },
            "type": "contourcarpet"
           }
          ],
          "heatmap": [
           {
            "colorbar": {
             "outlinewidth": 0,
             "ticks": ""
            },
            "colorscale": [
             [
              0,
              "#0d0887"
             ],
             [
              0.1111111111111111,
              "#46039f"
             ],
             [
              0.2222222222222222,
              "#7201a8"
             ],
             [
              0.3333333333333333,
              "#9c179e"
             ],
             [
              0.4444444444444444,
              "#bd3786"
             ],
             [
              0.5555555555555556,
              "#d8576b"
             ],
             [
              0.6666666666666666,
              "#ed7953"
             ],
             [
              0.7777777777777778,
              "#fb9f3a"
             ],
             [
              0.8888888888888888,
              "#fdca26"
             ],
             [
              1,
              "#f0f921"
             ]
            ],
            "type": "heatmap"
           }
          ],
          "heatmapgl": [
           {
            "colorbar": {
             "outlinewidth": 0,
             "ticks": ""
            },
            "colorscale": [
             [
              0,
              "#0d0887"
             ],
             [
              0.1111111111111111,
              "#46039f"
             ],
             [
              0.2222222222222222,
              "#7201a8"
             ],
             [
              0.3333333333333333,
              "#9c179e"
             ],
             [
              0.4444444444444444,
              "#bd3786"
             ],
             [
              0.5555555555555556,
              "#d8576b"
             ],
             [
              0.6666666666666666,
              "#ed7953"
             ],
             [
              0.7777777777777778,
              "#fb9f3a"
             ],
             [
              0.8888888888888888,
              "#fdca26"
             ],
             [
              1,
              "#f0f921"
             ]
            ],
            "type": "heatmapgl"
           }
          ],
          "histogram": [
           {
            "marker": {
             "pattern": {
              "fillmode": "overlay",
              "size": 10,
              "solidity": 0.2
             }
            },
            "type": "histogram"
           }
          ],
          "histogram2d": [
           {
            "colorbar": {
             "outlinewidth": 0,
             "ticks": ""
            },
            "colorscale": [
             [
              0,
              "#0d0887"
             ],
             [
              0.1111111111111111,
              "#46039f"
             ],
             [
              0.2222222222222222,
              "#7201a8"
             ],
             [
              0.3333333333333333,
              "#9c179e"
             ],
             [
              0.4444444444444444,
              "#bd3786"
             ],
             [
              0.5555555555555556,
              "#d8576b"
             ],
             [
              0.6666666666666666,
              "#ed7953"
             ],
             [
              0.7777777777777778,
              "#fb9f3a"
             ],
             [
              0.8888888888888888,
              "#fdca26"
             ],
             [
              1,
              "#f0f921"
             ]
            ],
            "type": "histogram2d"
           }
          ],
          "histogram2dcontour": [
           {
            "colorbar": {
             "outlinewidth": 0,
             "ticks": ""
            },
            "colorscale": [
             [
              0,
              "#0d0887"
             ],
             [
              0.1111111111111111,
              "#46039f"
             ],
             [
              0.2222222222222222,
              "#7201a8"
             ],
             [
              0.3333333333333333,
              "#9c179e"
             ],
             [
              0.4444444444444444,
              "#bd3786"
             ],
             [
              0.5555555555555556,
              "#d8576b"
             ],
             [
              0.6666666666666666,
              "#ed7953"
             ],
             [
              0.7777777777777778,
              "#fb9f3a"
             ],
             [
              0.8888888888888888,
              "#fdca26"
             ],
             [
              1,
              "#f0f921"
             ]
            ],
            "type": "histogram2dcontour"
           }
          ],
          "mesh3d": [
           {
            "colorbar": {
             "outlinewidth": 0,
             "ticks": ""
            },
            "type": "mesh3d"
           }
          ],
          "parcoords": [
           {
            "line": {
             "colorbar": {
              "outlinewidth": 0,
              "ticks": ""
             }
            },
            "type": "parcoords"
           }
          ],
          "pie": [
           {
            "automargin": true,
            "type": "pie"
           }
          ],
          "scatter": [
           {
            "fillpattern": {
             "fillmode": "overlay",
             "size": 10,
             "solidity": 0.2
            },
            "type": "scatter"
           }
          ],
          "scatter3d": [
           {
            "line": {
             "colorbar": {
              "outlinewidth": 0,
              "ticks": ""
             }
            },
            "marker": {
             "colorbar": {
              "outlinewidth": 0,
              "ticks": ""
             }
            },
            "type": "scatter3d"
           }
          ],
          "scattercarpet": [
           {
            "marker": {
             "colorbar": {
              "outlinewidth": 0,
              "ticks": ""
             }
            },
            "type": "scattercarpet"
           }
          ],
          "scattergeo": [
           {
            "marker": {
             "colorbar": {
              "outlinewidth": 0,
              "ticks": ""
             }
            },
            "type": "scattergeo"
           }
          ],
          "scattergl": [
           {
            "marker": {
             "colorbar": {
              "outlinewidth": 0,
              "ticks": ""
             }
            },
            "type": "scattergl"
           }
          ],
          "scattermapbox": [
           {
            "marker": {
             "colorbar": {
              "outlinewidth": 0,
              "ticks": ""
             }
            },
            "type": "scattermapbox"
           }
          ],
          "scatterpolar": [
           {
            "marker": {
             "colorbar": {
              "outlinewidth": 0,
              "ticks": ""
             }
            },
            "type": "scatterpolar"
           }
          ],
          "scatterpolargl": [
           {
            "marker": {
             "colorbar": {
              "outlinewidth": 0,
              "ticks": ""
             }
            },
            "type": "scatterpolargl"
           }
          ],
          "scatterternary": [
           {
            "marker": {
             "colorbar": {
              "outlinewidth": 0,
              "ticks": ""
             }
            },
            "type": "scatterternary"
           }
          ],
          "surface": [
           {
            "colorbar": {
             "outlinewidth": 0,
             "ticks": ""
            },
            "colorscale": [
             [
              0,
              "#0d0887"
             ],
             [
              0.1111111111111111,
              "#46039f"
             ],
             [
              0.2222222222222222,
              "#7201a8"
             ],
             [
              0.3333333333333333,
              "#9c179e"
             ],
             [
              0.4444444444444444,
              "#bd3786"
             ],
             [
              0.5555555555555556,
              "#d8576b"
             ],
             [
              0.6666666666666666,
              "#ed7953"
             ],
             [
              0.7777777777777778,
              "#fb9f3a"
             ],
             [
              0.8888888888888888,
              "#fdca26"
             ],
             [
              1,
              "#f0f921"
             ]
            ],
            "type": "surface"
           }
          ],
          "table": [
           {
            "cells": {
             "fill": {
              "color": "#EBF0F8"
             },
             "line": {
              "color": "white"
             }
            },
            "header": {
             "fill": {
              "color": "#C8D4E3"
             },
             "line": {
              "color": "white"
             }
            },
            "type": "table"
           }
          ]
         },
         "layout": {
          "annotationdefaults": {
           "arrowcolor": "#2a3f5f",
           "arrowhead": 0,
           "arrowwidth": 1
          },
          "autotypenumbers": "strict",
          "coloraxis": {
           "colorbar": {
            "outlinewidth": 0,
            "ticks": ""
           }
          },
          "colorscale": {
           "diverging": [
            [
             0,
             "#8e0152"
            ],
            [
             0.1,
             "#c51b7d"
            ],
            [
             0.2,
             "#de77ae"
            ],
            [
             0.3,
             "#f1b6da"
            ],
            [
             0.4,
             "#fde0ef"
            ],
            [
             0.5,
             "#f7f7f7"
            ],
            [
             0.6,
             "#e6f5d0"
            ],
            [
             0.7,
             "#b8e186"
            ],
            [
             0.8,
             "#7fbc41"
            ],
            [
             0.9,
             "#4d9221"
            ],
            [
             1,
             "#276419"
            ]
           ],
           "sequential": [
            [
             0,
             "#0d0887"
            ],
            [
             0.1111111111111111,
             "#46039f"
            ],
            [
             0.2222222222222222,
             "#7201a8"
            ],
            [
             0.3333333333333333,
             "#9c179e"
            ],
            [
             0.4444444444444444,
             "#bd3786"
            ],
            [
             0.5555555555555556,
             "#d8576b"
            ],
            [
             0.6666666666666666,
             "#ed7953"
            ],
            [
             0.7777777777777778,
             "#fb9f3a"
            ],
            [
             0.8888888888888888,
             "#fdca26"
            ],
            [
             1,
             "#f0f921"
            ]
           ],
           "sequentialminus": [
            [
             0,
             "#0d0887"
            ],
            [
             0.1111111111111111,
             "#46039f"
            ],
            [
             0.2222222222222222,
             "#7201a8"
            ],
            [
             0.3333333333333333,
             "#9c179e"
            ],
            [
             0.4444444444444444,
             "#bd3786"
            ],
            [
             0.5555555555555556,
             "#d8576b"
            ],
            [
             0.6666666666666666,
             "#ed7953"
            ],
            [
             0.7777777777777778,
             "#fb9f3a"
            ],
            [
             0.8888888888888888,
             "#fdca26"
            ],
            [
             1,
             "#f0f921"
            ]
           ]
          },
          "colorway": [
           "#636efa",
           "#EF553B",
           "#00cc96",
           "#ab63fa",
           "#FFA15A",
           "#19d3f3",
           "#FF6692",
           "#B6E880",
           "#FF97FF",
           "#FECB52"
          ],
          "font": {
           "color": "#2a3f5f"
          },
          "geo": {
           "bgcolor": "white",
           "lakecolor": "white",
           "landcolor": "#E5ECF6",
           "showlakes": true,
           "showland": true,
           "subunitcolor": "white"
          },
          "hoverlabel": {
           "align": "left"
          },
          "hovermode": "closest",
          "mapbox": {
           "style": "light"
          },
          "paper_bgcolor": "white",
          "plot_bgcolor": "#E5ECF6",
          "polar": {
           "angularaxis": {
            "gridcolor": "white",
            "linecolor": "white",
            "ticks": ""
           },
           "bgcolor": "#E5ECF6",
           "radialaxis": {
            "gridcolor": "white",
            "linecolor": "white",
            "ticks": ""
           }
          },
          "scene": {
           "xaxis": {
            "backgroundcolor": "#E5ECF6",
            "gridcolor": "white",
            "gridwidth": 2,
            "linecolor": "white",
            "showbackground": true,
            "ticks": "",
            "zerolinecolor": "white"
           },
           "yaxis": {
            "backgroundcolor": "#E5ECF6",
            "gridcolor": "white",
            "gridwidth": 2,
            "linecolor": "white",
            "showbackground": true,
            "ticks": "",
            "zerolinecolor": "white"
           },
           "zaxis": {
            "backgroundcolor": "#E5ECF6",
            "gridcolor": "white",
            "gridwidth": 2,
            "linecolor": "white",
            "showbackground": true,
            "ticks": "",
            "zerolinecolor": "white"
           }
          },
          "shapedefaults": {
           "line": {
            "color": "#2a3f5f"
           }
          },
          "ternary": {
           "aaxis": {
            "gridcolor": "white",
            "linecolor": "white",
            "ticks": ""
           },
           "baxis": {
            "gridcolor": "white",
            "linecolor": "white",
            "ticks": ""
           },
           "bgcolor": "#E5ECF6",
           "caxis": {
            "gridcolor": "white",
            "linecolor": "white",
            "ticks": ""
           }
          },
          "title": {
           "x": 0.05
          },
          "xaxis": {
           "automargin": true,
           "gridcolor": "white",
           "linecolor": "white",
           "ticks": "",
           "title": {
            "standoff": 15
           },
           "zerolinecolor": "white",
           "zerolinewidth": 2
          },
          "yaxis": {
           "automargin": true,
           "gridcolor": "white",
           "linecolor": "white",
           "ticks": "",
           "title": {
            "standoff": 15
           },
           "zerolinecolor": "white",
           "zerolinewidth": 2
          }
         }
        },
        "title": {
         "text": "Ingredient-Based Clustering of Filipino Dishes"
        },
        "updatemenus": [
         {
          "buttons": [
           {
            "args": [
             {
              "visible": [
               true,
               false,
               false,
               false,
               false,
               false,
               false
              ]
             },
             {
              "title": "Ingredient-Based Clustering - Cluster 6"
             }
            ],
            "label": "Cluster 6",
            "method": "update"
           },
           {
            "args": [
             {
              "visible": [
               false,
               true,
               false,
               false,
               false,
               false,
               false
              ]
             },
             {
              "title": "Ingredient-Based Clustering - Cluster 5"
             }
            ],
            "label": "Cluster 5",
            "method": "update"
           },
           {
            "args": [
             {
              "visible": [
               false,
               false,
               true,
               false,
               false,
               false,
               false
              ]
             },
             {
              "title": "Ingredient-Based Clustering - Cluster 2"
             }
            ],
            "label": "Cluster 2",
            "method": "update"
           },
           {
            "args": [
             {
              "visible": [
               false,
               false,
               false,
               true,
               false,
               false,
               false
              ]
             },
             {
              "title": "Ingredient-Based Clustering - Cluster 0"
             }
            ],
            "label": "Cluster 0",
            "method": "update"
           },
           {
            "args": [
             {
              "visible": [
               false,
               false,
               false,
               false,
               true,
               false,
               false
              ]
             },
             {
              "title": "Ingredient-Based Clustering - Cluster 1"
             }
            ],
            "label": "Cluster 1",
            "method": "update"
           },
           {
            "args": [
             {
              "visible": [
               false,
               false,
               false,
               false,
               false,
               true,
               false
              ]
             },
             {
              "title": "Ingredient-Based Clustering - Cluster 4"
             }
            ],
            "label": "Cluster 4",
            "method": "update"
           },
           {
            "args": [
             {
              "visible": [
               false,
               false,
               false,
               false,
               false,
               false,
               true
              ]
             },
             {
              "title": "Ingredient-Based Clustering - Cluster 3"
             }
            ],
            "label": "Cluster 3",
            "method": "update"
           }
          ],
          "direction": "down",
          "type": "buttons"
         }
        ],
        "width": 750,
        "xaxis": {
         "anchor": "y",
         "domain": [
          0,
          1
         ],
         "title": {
          "text": "x"
         }
        },
        "yaxis": {
         "anchor": "x",
         "domain": [
          0,
          1
         ],
         "title": {
          "text": "y"
         }
        }
       }
      }
     },
     "metadata": {},
     "output_type": "display_data"
    }
   ],
   "source": [
    "import plotly.express as px\n",
    "import pandas as pd\n",
    "\n",
    "recipe_df = pd.DataFrame(\n",
    "    {\n",
    "        \"x\": reduced_embeddings[:, 0],\n",
    "        \"y\": reduced_embeddings[:, 1],\n",
    "        \"cluster\": cluster_labels.astype(str),\n",
    "        \"recipe_name\": reduced_df[\"name\"],\n",
    "        \"cleaned_ingredients\": [\n",
    "            \"<br>\".join(ingredients)\n",
    "            for ingredients in reduced_df[\"cleaned_ingredients\"]\n",
    "        ],\n",
    "    }\n",
    ")\n",
    "\n",
    "fig = px.scatter(\n",
    "    recipe_df,\n",
    "    x=\"x\",\n",
    "    y=\"y\",\n",
    "    color=\"cluster\",\n",
    "    hover_name=\"recipe_name\",\n",
    "    hover_data=[\"cleaned_ingredients\"],\n",
    "    width=750,\n",
    "    height=750,\n",
    "    color_discrete_sequence=px.colors.qualitative.Bold,\n",
    ")\n",
    "\n",
    "fig.update_traces(marker=dict(size=5))\n",
    "fig.update_layout(title=\"Ingredient-Based Clustering of Filipino Dishes\")\n",
    "\n",
    "unique_clusters = recipe_df[\"cluster\"].unique()\n",
    "buttons = list(\n",
    "    [\n",
    "        dict(\n",
    "            label=f\"Cluster {cluster}\",\n",
    "            method=\"update\",\n",
    "            args=[\n",
    "                {\"visible\": [cluster == c for c in unique_clusters]},\n",
    "                {\"title\": f\"Ingredient-Based Clustering - Cluster {cluster}\"},\n",
    "            ],\n",
    "        )\n",
    "        for cluster in unique_clusters\n",
    "    ]\n",
    ")\n",
    "fig.update_layout(\n",
    "    updatemenus=[\n",
    "        dict(\n",
    "            type=\"buttons\",\n",
    "            direction=\"down\",\n",
    "            buttons=buttons,\n",
    "        )\n",
    "    ]\n",
    ")\n",
    "\n",
    "fig.show()"
   ]
  }
 ],
 "metadata": {
  "kernelspec": {
   "display_name": "venv",
   "language": "python",
   "name": "python3"
  },
  "language_info": {
   "codemirror_mode": {
    "name": "ipython",
    "version": 3
   },
   "file_extension": ".py",
   "mimetype": "text/x-python",
   "name": "python",
   "nbconvert_exporter": "python",
   "pygments_lexer": "ipython3",
   "version": "3.12.2"
  }
 },
 "nbformat": 4,
 "nbformat_minor": 2
}
