{
 "cells": [
  {
   "cell_type": "markdown",
   "metadata": {},
   "source": [
    "# Ingredient-Based Clustering of Pinoy Dishes\n",
    "\n",
    "The ambition is to identify clusters of Filipino dishes based on their ingredients. The results can be used to define the most common ingredients of a Filipino pantry. This project leverages techniques from data mining, natural language processing, and unsupervised learning. The dataset is a collection of Filipino recipes from various online recipe websites. The dataset contains the name, ingredients, and instructions of the recipes. "
   ]
  },
  {
   "cell_type": "markdown",
   "metadata": {},
   "source": [
    "## Data loading and preview"
   ]
  },
  {
   "cell_type": "code",
   "execution_count": 1,
   "metadata": {},
   "outputs": [
    {
     "data": {
      "text/html": [
       "<div>\n",
       "<style scoped>\n",
       "    .dataframe tbody tr th:only-of-type {\n",
       "        vertical-align: middle;\n",
       "    }\n",
       "\n",
       "    .dataframe tbody tr th {\n",
       "        vertical-align: top;\n",
       "    }\n",
       "\n",
       "    .dataframe thead th {\n",
       "        text-align: right;\n",
       "    }\n",
       "</style>\n",
       "<table border=\"1\" class=\"dataframe\">\n",
       "  <thead>\n",
       "    <tr style=\"text-align: right;\">\n",
       "      <th></th>\n",
       "      <th>link</th>\n",
       "      <th>name</th>\n",
       "      <th>ingredients</th>\n",
       "      <th>instructions</th>\n",
       "    </tr>\n",
       "  </thead>\n",
       "  <tbody>\n",
       "    <tr>\n",
       "      <th>0</th>\n",
       "      <td>https://www.kawalingpinoy.com/cheese-cupcakes/</td>\n",
       "      <td>Cheese Cupcakes</td>\n",
       "      <td>[flour, sifted, baking powder, salt, butter, s...</td>\n",
       "      <td>[Line muffin pan with cupcake liners., In a la...</td>\n",
       "    </tr>\n",
       "    <tr>\n",
       "      <th>1</th>\n",
       "      <td>https://www.kawalingpinoy.com/adobong-sitaw-wi...</td>\n",
       "      <td>Adobong Sitaw with Pork</td>\n",
       "      <td>[canola oil, pork belly, cut into thin strips,...</td>\n",
       "      <td>[In a skillet over medium heat, heat oil. Add ...</td>\n",
       "    </tr>\n",
       "    <tr>\n",
       "      <th>2</th>\n",
       "      <td>https://www.kawalingpinoy.com/burger-steak/</td>\n",
       "      <td>Burger Steak</td>\n",
       "      <td>[white bread, torn into small pieces, beef bro...</td>\n",
       "      <td>[In a small bowl, soak bread in broth. Tear wi...</td>\n",
       "    </tr>\n",
       "    <tr>\n",
       "      <th>3</th>\n",
       "      <td>https://www.kawalingpinoy.com/chicken-menudo/</td>\n",
       "      <td>Chicken Menudo</td>\n",
       "      <td>[canola oil, red bell pepper, cored, seeded an...</td>\n",
       "      <td>[In a wide pan over medium heat, heat 1 tables...</td>\n",
       "    </tr>\n",
       "    <tr>\n",
       "      <th>4</th>\n",
       "      <td>https://www.kawalingpinoy.com/beef-salpicao/</td>\n",
       "      <td>Beef Salpicao</td>\n",
       "      <td>[ribeye steak, cut into 1-inch cubes, salt and...</td>\n",
       "      <td>[In a bowl, season beef with salt and pepper t...</td>\n",
       "    </tr>\n",
       "  </tbody>\n",
       "</table>\n",
       "</div>"
      ],
      "text/plain": [
       "                                                link                     name  \\\n",
       "0     https://www.kawalingpinoy.com/cheese-cupcakes/          Cheese Cupcakes   \n",
       "1  https://www.kawalingpinoy.com/adobong-sitaw-wi...  Adobong Sitaw with Pork   \n",
       "2        https://www.kawalingpinoy.com/burger-steak/             Burger Steak   \n",
       "3      https://www.kawalingpinoy.com/chicken-menudo/           Chicken Menudo   \n",
       "4       https://www.kawalingpinoy.com/beef-salpicao/            Beef Salpicao   \n",
       "\n",
       "                                         ingredients  \\\n",
       "0  [flour, sifted, baking powder, salt, butter, s...   \n",
       "1  [canola oil, pork belly, cut into thin strips,...   \n",
       "2  [white bread, torn into small pieces, beef bro...   \n",
       "3  [canola oil, red bell pepper, cored, seeded an...   \n",
       "4  [ribeye steak, cut into 1-inch cubes, salt and...   \n",
       "\n",
       "                                        instructions  \n",
       "0  [Line muffin pan with cupcake liners., In a la...  \n",
       "1  [In a skillet over medium heat, heat oil. Add ...  \n",
       "2  [In a small bowl, soak bread in broth. Tear wi...  \n",
       "3  [In a wide pan over medium heat, heat 1 tables...  \n",
       "4  [In a bowl, season beef with salt and pepper t...  "
      ]
     },
     "execution_count": 1,
     "metadata": {},
     "output_type": "execute_result"
    }
   ],
   "source": [
    "import json\n",
    "import os\n",
    "\n",
    "import pandas as pd\n",
    "\n",
    "\n",
    "def merge_recipe_data(path=\"data/recipes\"):\n",
    "    \"\"\"Combines all recipe data into a single list.\"\"\"\n",
    "    files = [file for file in os.listdir(path)]\n",
    "\n",
    "    recipes = []\n",
    "    for file in files:\n",
    "        file_path = os.path.join(path, file)\n",
    "        with open(file_path, encoding=\"utf-8\") as f:\n",
    "            recipe_data = json.load(f)\n",
    "            recipes.extend(recipe_data)\n",
    "\n",
    "    return recipes\n",
    "\n",
    "\n",
    "recipes = merge_recipe_data()\n",
    "recipe_df = pd.DataFrame(recipes)\n",
    "recipe_df.head()"
   ]
  },
  {
   "cell_type": "code",
   "execution_count": 2,
   "metadata": {},
   "outputs": [
    {
     "name": "stdout",
     "output_type": "stream",
     "text": [
      "<class 'pandas.core.frame.DataFrame'>\n",
      "RangeIndex: 2815 entries, 0 to 2814\n",
      "Data columns (total 4 columns):\n",
      " #   Column        Non-Null Count  Dtype \n",
      "---  ------        --------------  ----- \n",
      " 0   link          2815 non-null   object\n",
      " 1   name          2469 non-null   object\n",
      " 2   ingredients   2469 non-null   object\n",
      " 3   instructions  2469 non-null   object\n",
      "dtypes: object(4)\n",
      "memory usage: 88.1+ KB\n"
     ]
    }
   ],
   "source": [
    "recipe_df.info()"
   ]
  },
  {
   "cell_type": "markdown",
   "metadata": {},
   "source": [
    "### Discover patterns through visualization"
   ]
  },
  {
   "cell_type": "code",
   "execution_count": 3,
   "metadata": {},
   "outputs": [
    {
     "data": {
      "image/png": "[encoded data removed]",
      "text/plain": [
       "<Figure size 800x1000 with 2 Axes>"
      ]
     },
     "metadata": {},
     "output_type": "display_data"
    }
   ],
   "source": [
    "%matplotlib inline\n",
    "import matplotlib.pyplot as plt\n",
    "import seaborn as sns\n",
    "\n",
    "def plot_ingredient_analysis(\n",
    "    ingredient_series,\n",
    "    n=30,\n",
    "    show_distribution=True,\n",
    "    most_common=True,\n",
    "    figsize=(8, 10),\n",
    "):\n",
    "    \"\"\"Plots ingredient distributions and displays most/least common ingredients.\n",
    "\n",
    "    Args:\n",
    "        ingredient_series: A Series containing lists of ingredients.\n",
    "        n: Number of top/bottom ingredients to display.\n",
    "        show_distribution: If True, shows the ingredient distribution plot.\n",
    "        most_common: If True, shows the most common ingredients.\n",
    "        figsize: Size of the plot figure.\n",
    "    \"\"\"\n",
    "\n",
    "    all_ingredients = ingredient_series.dropna().explode()\n",
    "    ingredient_counts = all_ingredients.value_counts()\n",
    "\n",
    "    _, axs = plt.subplots(2, 1, figsize=figsize, gridspec_kw={\"height_ratios\": [1, 5]})\n",
    "\n",
    "    if show_distribution:\n",
    "        counts = ingredient_series.dropna().apply(len)\n",
    "        sns.histplot(counts, kde=True, binwidth=1, ax=axs[0])\n",
    "        axs[0].set_title(f\"Number of ingredients in {len(counts)} recipes\")\n",
    "        axs[0].set_xlabel(\"Number of ingredients\")\n",
    "        axs[0].set_ylabel(\"Number of recipes\")\n",
    "\n",
    "    if most_common:\n",
    "        top_n_ingredients = ingredient_counts.head(n)\n",
    "    else:\n",
    "        top_n_ingredients = ingredient_counts.tail(n)\n",
    "\n",
    "    ylabels = [\n",
    "        f\"{i[:20]:>20}{\"...\" if len(i) > 20 else \"\"}\"\n",
    "        for i in top_n_ingredients.index\n",
    "    ]\n",
    "    sns.barplot(\n",
    "        x=top_n_ingredients.values,\n",
    "        y=ylabels,\n",
    "        ax=axs[1]\n",
    "    )\n",
    "\n",
    "    indicator = \"Most\" if most_common else \"Least\"\n",
    "    axs[1].set_title(f\"Top {n} {indicator} Common Ingredients\")\n",
    "    axs[1].set_xlabel(\"Number of Recipes\")\n",
    "    axs[1].set_ylabel(\"Ingredient\")\n",
    "\n",
    "    plt.tight_layout()\n",
    "    plt.show()\n",
    "\n",
    "plot_ingredient_analysis(recipe_df[\"ingredients\"])"
   ]
  },
  {
   "cell_type": "markdown",
   "metadata": {},
   "source": [
    "## Preprocessing\n"
   ]
  },
  {
   "cell_type": "markdown",
   "metadata": {},
   "source": [
    "### Remove recipes with no ingredients"
   ]
  },
  {
   "cell_type": "code",
   "execution_count": 4,
   "metadata": {},
   "outputs": [
    {
     "name": "stdout",
     "output_type": "stream",
     "text": [
      "<class 'pandas.core.frame.DataFrame'>\n",
      "Index: 2469 entries, 0 to 2814\n",
      "Data columns (total 4 columns):\n",
      " #   Column        Non-Null Count  Dtype \n",
      "---  ------        --------------  ----- \n",
      " 0   link          2469 non-null   object\n",
      " 1   name          2469 non-null   object\n",
      " 2   ingredients   2469 non-null   object\n",
      " 3   instructions  2469 non-null   object\n",
      "dtypes: object(4)\n",
      "memory usage: 96.4+ KB\n"
     ]
    }
   ],
   "source": [
    "recipe_df = recipe_df.dropna(subset=[\"ingredients\"])\n",
    "recipe_df.info()"
   ]
  },
  {
   "cell_type": "markdown",
   "metadata": {},
   "source": [
    "### Tokenize"
   ]
  },
  {
   "cell_type": "code",
   "execution_count": 5,
   "metadata": {},
   "outputs": [
    {
     "name": "stdout",
     "output_type": "stream",
     "text": [
      "text       lemma      pos    tag    dep       is_alpha\n",
      "---------  ---------  -----  -----  --------  ----------\n",
      "small      small      ADJ    JJ     amod      True\n",
      "lemon      lemon      NOUN   NN     compound  True\n",
      "lemons     lemon      NOUN   NNS    ROOT      True\n",
      "or         or         CCONJ  CC     cc        True\n",
      "6          6          NUM    CD     quantmod  False\n",
      "to         to         PART   TO     quantmod  True\n",
      "7          7          NUM    CD     nummod    False\n",
      "pieces     piece      NOUN   NNS    conj      True\n",
      "calamansi  calamansi  PROPN  NNP    npadvmod  True\n"
     ]
    }
   ],
   "source": [
    "import spacy\n",
    "from tabulate import tabulate\n",
    "\n",
    "nlp = spacy.load(\"en_core_web_lg\")\n",
    "\n",
    "\n",
    "def display_tokens(text):\n",
    "    \"\"\"Display token attributes of a given string.\"\"\",\n",
    "    rows = []\n",
    "    for token in nlp(text):\n",
    "        row = [\n",
    "            token.text,\n",
    "            token.lemma_,\n",
    "            token.pos_,\n",
    "            token.tag_,\n",
    "            token.dep_,\n",
    "            token.is_alpha,\n",
    "        ]\n",
    "        rows.append(row)\n",
    "    headers = [\"text\", \"lemma\", \"pos\", \"tag\", \"dep\", \"is_alpha\"]\n",
    "    print(tabulate(rows, headers=headers))\n",
    "\n",
    "\n",
    "SAMPLE_INGREDIENT = \"small lemon lemons or 6 to 7 pieces calamansi\"\n",
    "display_tokens(SAMPLE_INGREDIENT)"
   ]
  },
  {
   "cell_type": "markdown",
   "metadata": {},
   "source": [
    "### Lemmatize and remove non-ingredient words"
   ]
  },
  {
   "cell_type": "code",
   "execution_count": 6,
   "metadata": {},
   "outputs": [
    {
     "name": "stdout",
     "output_type": "stream",
     "text": [
      "text       lemma      pos    tag    dep       is_alpha\n",
      "---------  ---------  -----  -----  --------  ----------\n",
      "lemon      lemon      NOUN   NN     compound  True\n",
      "lemon      lemon      NOUN   NN     compound  True\n",
      "piece      piece      NOUN   NN     compound  True\n",
      "calamansi  calamansi  NOUN   NN     ROOT      True\n"
     ]
    }
   ],
   "source": [
    "def lemmatize_valid_nouns(ingredient):\n",
    "    \"\"\"Lemmatize valid nouns in a string.\"\"\",\n",
    "    doc = nlp(ingredient)\n",
    "    valid_lemmas = []\n",
    "    for token in doc:\n",
    "        outliers = [\"cauliflower\", \"baking\"]\n",
    "        if token.text in outliers:\n",
    "            token.pos_ = \"NOUN\"  # Override POS tag for some words\n",
    "\n",
    "        if (\n",
    "            token.is_alpha\n",
    "            and not token.is_stop\n",
    "            and token.pos_ in [\"NOUN\", \"PROPN\"]\n",
    "        ):\n",
    "            valid_lemmas.append(token.lemma_)\n",
    "    return \" \".join(valid_lemmas)\n",
    "\n",
    "\n",
    "lemmatized = lemmatize_valid_nouns(SAMPLE_INGREDIENT)\n",
    "display_tokens(lemmatized)"
   ]
  },
  {
   "cell_type": "markdown",
   "metadata": {},
   "source": [
    "### Remove culinary stop words"
   ]
  },
  {
   "cell_type": "code",
   "execution_count": 7,
   "metadata": {},
   "outputs": [
    {
     "name": "stdout",
     "output_type": "stream",
     "text": [
      "text       lemma      pos    tag    dep       is_alpha\n",
      "---------  ---------  -----  -----  --------  ----------\n",
      "lemon      lemon      NOUN   NN     compound  True\n",
      "lemon      lemon      NOUN   NN     compound  True\n",
      "calamansi  calamansi  PROPN  NNP    ROOT      True\n"
     ]
    }
   ],
   "source": [
    "with open(f\"data/culinary_stopwords.txt\", encoding=\"utf-8\") as file:\n",
    "    stopwords = [line.strip() for line in file]\n",
    "\n",
    "\n",
    "def filter_stopwords(text):\n",
    "    \"\"\"Filter out stopwords from a string.\"\"\"\n",
    "    meaningful_terms = []\n",
    "    for term in text.split():\n",
    "        if term not in stopwords:\n",
    "            meaningful_terms.append(term)\n",
    "    return \" \".join(meaningful_terms)\n",
    "\n",
    "\n",
    "filtered = filter_stopwords(lemmatized)\n",
    "display_tokens(filtered)"
   ]
  },
  {
   "cell_type": "markdown",
   "metadata": {},
   "source": [
    "### Handle synonyms at word level"
   ]
  },
  {
   "cell_type": "code",
   "execution_count": 8,
   "metadata": {},
   "outputs": [
    {
     "name": "stdout",
     "output_type": "stream",
     "text": [
      "text    lemma    pos    tag    dep       is_alpha\n",
      "------  -------  -----  -----  --------  ----------\n",
      "lemon   lemon    NOUN   NN     compound  True\n",
      "lemon   lemon    NOUN   NN     compound  True\n",
      "lemon   lemon    NOUN   NN     ROOT      True\n"
     ]
    }
   ],
   "source": [
    "with open(\"data/word_synonyms.json\") as file:\n",
    "    word_synonyms = json.load(file)\n",
    "\n",
    "\n",
    "def handle_word_synonym(ingredient):\n",
    "    \"\"\"Replace ingredient synonyms with a common name.\"\"\"\n",
    "    common_words = []\n",
    "    for word in ingredient.split():\n",
    "        common_words.append(word_synonyms.get(word, word))\n",
    "    return \" \".join(common_words)\n",
    "\n",
    "\n",
    "normalized_words = handle_word_synonym(filtered)\n",
    "display_tokens(normalized_words)"
   ]
  },
  {
   "cell_type": "markdown",
   "metadata": {},
   "source": [
    "### Remove duplicate terms"
   ]
  },
  {
   "cell_type": "code",
   "execution_count": 9,
   "metadata": {},
   "outputs": [
    {
     "name": "stdout",
     "output_type": "stream",
     "text": [
      "text    lemma    pos    tag    dep    is_alpha\n",
      "------  -------  -----  -----  -----  ----------\n",
      "lemon   lemon    NOUN   NN     ROOT   True\n"
     ]
    }
   ],
   "source": [
    "def remove_duplicates(text):\n",
    "    \"\"\"Remove duplicate terms while preserving order.\"\"\"\n",
    "    seen = set()\n",
    "    unique = []\n",
    "    for ingredient in text.split():\n",
    "        if ingredient not in seen:\n",
    "            unique.append(ingredient)\n",
    "            seen.add(ingredient)\n",
    "    return \" \".join(unique)\n",
    "\n",
    "unique = remove_duplicates(normalized_words)\n",
    "display_tokens(unique)"
   ]
  },
  {
   "cell_type": "markdown",
   "metadata": {},
   "source": [
    "### Handle synonyms to standardize ingredients"
   ]
  },
  {
   "cell_type": "code",
   "execution_count": 10,
   "metadata": {},
   "outputs": [
    {
     "name": "stdout",
     "output_type": "stream",
     "text": [
      "text    lemma    pos    tag    dep    is_alpha\n",
      "------  -------  -----  -----  -----  ----------\n",
      "lemon   lemon    NOUN   NN     ROOT   True\n"
     ]
    }
   ],
   "source": [
    "with open(\"data/phrase_synonyms.json\") as file:\n",
    "    phrase_synonyms = json.load(file)\n",
    "\n",
    "\n",
    "def handle_phrase_synonym(ingredient):\n",
    "    \"\"\"Replace ingredient synonyms with a common name.\"\"\"\n",
    "    return phrase_synonyms.get(ingredient, ingredient)\n",
    "\n",
    "common_name = handle_phrase_synonym(unique)\n",
    "display_tokens(common_name)"
   ]
  },
  {
   "cell_type": "markdown",
   "metadata": {},
   "source": [
    "### Define the entire preprocessing pipeline"
   ]
  },
  {
   "cell_type": "code",
   "execution_count": 11,
   "metadata": {},
   "outputs": [
    {
     "data": {
      "text/plain": [
       "'lemon'"
      ]
     },
     "execution_count": 11,
     "metadata": {},
     "output_type": "execute_result"
    }
   ],
   "source": [
    "import re\n",
    "\n",
    "\n",
    "def preprocess_ingredient(ingredient):\n",
    "    \"\"\"Preprocess an ingredient string to extract key terms.\"\"\",\n",
    "    no_parenthesis = re.sub(r\"\\([^)]*\\)\", \"\", ingredient)\n",
    "    first_option = no_parenthesis.split(\" or \")[0]\n",
    "    formatted = first_option.lower().strip()\n",
    "\n",
    "    lemmatized = lemmatize_valid_nouns(formatted)\n",
    "    filtered = filter_stopwords(lemmatized)\n",
    "    word_synonym = handle_word_synonym(filtered)\n",
    "    unique = remove_duplicates(word_synonym)\n",
    "    phrase_synonym = handle_phrase_synonym(unique)\n",
    "\n",
    "    return phrase_synonym\n",
    "\n",
    "\n",
    "clean_ingredient = preprocess_ingredient(SAMPLE_INGREDIENT)\n",
    "clean_ingredient"
   ]
  },
  {
   "cell_type": "markdown",
   "metadata": {},
   "source": [
    "### Apply the preprocessing pipeline"
   ]
  },
  {
   "cell_type": "code",
   "execution_count": 12,
   "metadata": {},
   "outputs": [
    {
     "data": {
      "application/vnd.jupyter.widget-view+json": {
       "model_id": "59587e9fac694680b8ab59278df79be1",
       "version_major": 2,
       "version_minor": 0
      },
      "text/plain": [
       "  0%|          | 0/2469 [00:00<?, ?it/s]"
      ]
     },
     "metadata": {},
     "output_type": "display_data"
    }
   ],
   "source": [
    "from tqdm.auto import tqdm\n",
    "\n",
    "\n",
    "def clean_ingredients(ingredients):\n",
    "    \"\"\"Applies preprocessing to a list of ingredients and flattens the list.\"\"\"\n",
    "    cleaned_ingredients = []\n",
    "    for ingredient in ingredients:\n",
    "        cleaned = preprocess_ingredient(ingredient)\n",
    "        if isinstance(cleaned, list):\n",
    "            cleaned_ingredients.extend(cleaned)\n",
    "        else:\n",
    "            cleaned_ingredients.append(cleaned)\n",
    "\n",
    "    return list(sorted(set(filter(None, cleaned_ingredients))))\n",
    "\n",
    "\n",
    "tqdm.pandas()\n",
    "\n",
    "recipe_df[\"cleaned_ingredients\"] = (\n",
    "    recipe_df[\"ingredients\"].progress_apply(clean_ingredients)\n",
    ")"
   ]
  },
  {
   "cell_type": "code",
   "execution_count": 13,
   "metadata": {},
   "outputs": [
    {
     "data": {
      "image/png": "[encoded data removed]",
      "text/plain": [
       "<Figure size 800x1000 with 2 Axes>"
      ]
     },
     "metadata": {},
     "output_type": "display_data"
    }
   ],
   "source": [
    "plot_ingredient_analysis(recipe_df[\"cleaned_ingredients\"])"
   ]
  },
  {
   "cell_type": "code",
   "execution_count": 14,
   "metadata": {},
   "outputs": [],
   "source": [
    "def save_ingredients(ingredient_series):\n",
    "    ingredients = ingredient_series.dropna().explode().unique().astype(str)\n",
    "    ingredients.sort()\n",
    "\n",
    "    filename = f\"data/{ingredient_series.name}.txt\"\n",
    "    with open(filename, \"w\", encoding=\"utf-8\") as file:\n",
    "        file.writelines(\"\\n\".join(ingredients))\n",
    "\n",
    "\n",
    "save_ingredients(recipe_df[\"cleaned_ingredients\"])"
   ]
  },
  {
   "cell_type": "code",
   "execution_count": 15,
   "metadata": {},
   "outputs": [],
   "source": [
    "recipe_df[[\"ingredients\", \"cleaned_ingredients\"]].to_json(\n",
    "    \"data/cleaned_recipes.json\",\n",
    "    indent=2,\n",
    "    orient=\"records\",\n",
    ")"
   ]
  },
  {
   "cell_type": "markdown",
   "metadata": {},
   "source": [
    "### Remove common ingredients not specific to Filipino cuisine"
   ]
  },
  {
   "cell_type": "code",
   "execution_count": 16,
   "metadata": {},
   "outputs": [
    {
     "data": {
      "image/png": "[encoded data removed]",
      "text/plain": [
       "<Figure size 800x1000 with 2 Axes>"
      ]
     },
     "metadata": {},
     "output_type": "display_data"
    }
   ],
   "source": [
    "ingredients_to_remove = [\n",
    "    \"oil\",\n",
    "    \"salt\",\n",
    "    \"onion\",\n",
    "    \"sugar\",\n",
    "    \"pepper\",\n",
    "    \"garlic\",\n",
    "]\n",
    "\n",
    "\n",
    "def remove_rare_ingredients(ingredients):\n",
    "    return [i for i in ingredients if i not in ingredients_to_remove]\n",
    "\n",
    "\n",
    "reduced_df = recipe_df.copy()\n",
    "\n",
    "reduced_df[\"cleaned_ingredients\"] = (\n",
    "    reduced_df[\"cleaned_ingredients\"].apply(remove_rare_ingredients)\n",
    ")\n",
    "\n",
    "plot_ingredient_analysis(reduced_df[\"cleaned_ingredients\"])"
   ]
  },
  {
   "cell_type": "markdown",
   "metadata": {},
   "source": [
    "### Remove rare ingredients"
   ]
  },
  {
   "cell_type": "code",
   "execution_count": 17,
   "metadata": {},
   "outputs": [],
   "source": [
    "counts = recipe_df[\"cleaned_ingredients\"].explode().value_counts()\n",
    "rare_ingredients = counts[counts <= 5].index\n",
    "\n",
    "with open(\"data/rare_ingredients.txt\", \"w\", encoding=\"utf-8\") as file:\n",
    "    file.writelines(\"\\n\".join(sorted(rare_ingredients)))"
   ]
  },
  {
   "cell_type": "code",
   "execution_count": 18,
   "metadata": {},
   "outputs": [
    {
     "data": {
      "image/png": "[encoded data removed]",
      "text/plain": [
       "<Figure size 800x1000 with 2 Axes>"
      ]
     },
     "metadata": {},
     "output_type": "display_data"
    }
   ],
   "source": [
    "def remove_rare_ingredients(ingredients):\n",
    "    \"\"\"Remove rare ingredients from a list.\"\"\"\n",
    "    return [\n",
    "        ingredient\n",
    "        for ingredient in ingredients\n",
    "        if ingredient not in rare_ingredients\n",
    "    ]\n",
    "\n",
    "reduced_df.loc[:, \"cleaned_ingredients\"] = (\n",
    "    reduced_df[\"cleaned_ingredients\"].apply(remove_rare_ingredients)\n",
    ")\n",
    "\n",
    "plot_ingredient_analysis(reduced_df[\"cleaned_ingredients\"])"
   ]
  },
  {
   "cell_type": "markdown",
   "metadata": {},
   "source": [
    "### Remove recipes with very few ingredients"
   ]
  },
  {
   "cell_type": "code",
   "execution_count": 19,
   "metadata": {},
   "outputs": [
    {
     "data": {
      "image/png": "[encoded data removed]",
      "text/plain": [
       "<Figure size 800x1000 with 2 Axes>"
      ]
     },
     "metadata": {},
     "output_type": "display_data"
    }
   ],
   "source": [
    "MIN_INGREDIENT = 4\n",
    "MAX_INGREDIENT = 9\n",
    "\n",
    "counts = reduced_df[\"cleaned_ingredients\"].apply(len)\n",
    "reduced_df = reduced_df[(counts >= MIN_INGREDIENT) & (counts <= MAX_INGREDIENT)]\n",
    "\n",
    "plot_ingredient_analysis(reduced_df[\"cleaned_ingredients\"])"
   ]
  },
  {
   "cell_type": "markdown",
   "metadata": {},
   "source": [
    "## Vectorization\n"
   ]
  },
  {
   "cell_type": "code",
   "execution_count": 20,
   "metadata": {},
   "outputs": [
    {
     "data": {
      "application/vnd.jupyter.widget-view+json": {
       "model_id": "4c47c6bc0ffe43d49335e4601007d4d9",
       "version_major": 2,
       "version_minor": 0
      },
      "text/plain": [
       "Batches:   0%|          | 0/57 [00:00<?, ?it/s]"
      ]
     },
     "metadata": {},
     "output_type": "display_data"
    }
   ],
   "source": [
    "from sentence_transformers import SentenceTransformer\n",
    "\n",
    "model = SentenceTransformer(\"all-mpnet-base-v2\")\n",
    "embeddings = model.encode(\n",
    "    [\" \".join(sorted(ingredients)) for ingredients in reduced_df[\"ingredients\"]],\n",
    "    show_progress_bar=True,\n",
    ")"
   ]
  },
  {
   "cell_type": "code",
   "execution_count": 21,
   "metadata": {},
   "outputs": [
    {
     "data": {
      "text/plain": [
       "(1815, 768)"
      ]
     },
     "execution_count": 21,
     "metadata": {},
     "output_type": "execute_result"
    }
   ],
   "source": [
    "embeddings.shape"
   ]
  },
  {
   "cell_type": "markdown",
   "metadata": {},
   "source": [
    "## Dimensionality reduction"
   ]
  },
  {
   "cell_type": "code",
   "execution_count": 22,
   "metadata": {},
   "outputs": [],
   "source": [
    "from sklearn.decomposition import TruncatedSVD\n",
    "\n",
    "dimensions_to_keep = 3\n",
    "svd = TruncatedSVD(n_components=dimensions_to_keep)\n",
    "reduced_embeddings = svd.fit_transform(embeddings)"
   ]
  },
  {
   "cell_type": "markdown",
   "metadata": {},
   "source": [
    "## Clustering\n"
   ]
  },
  {
   "cell_type": "code",
   "execution_count": 23,
   "metadata": {},
   "outputs": [],
   "source": [
    "from sklearn.cluster import AgglomerativeClustering\n",
    "\n",
    "n_clusters = 7\n",
    "clustering = AgglomerativeClustering(n_clusters=n_clusters, linkage=\"ward\")\n",
    "cluster_labels = clustering.fit_predict(reduced_embeddings)"
   ]
  },
  {
   "cell_type": "markdown",
   "metadata": {},
   "source": [
    "## Visualization\n"
   ]
  },
  {
   "cell_type": "code",
   "execution_count": 27,
   "metadata": {},
   "outputs": [
    {
     "data": {
      "application/vnd.plotly.v1+json": {
       "config": {
        "plotlyServerURL": "https://plot.ly"
       },
       "data": [
        {
         "customdata": [
          [
           "baking<br>butter<br>cheese<br>egg<br>flour<br>milk"
          ],
          [
           "bell pepper<br>bread crumb<br>butter<br>crab<br>lemon<br>mayonnaise"
          ],
          [
           "coconut<br>milk<br>pandan<br>rice"
          ],
          [
           "corn<br>cream<br>ice<br>milk"
          ],
          [
           "coconut<br>coconut cream<br>flour<br>milk"
          ],
          [
           "avocado<br>ice<br>lemon<br>milk"
          ],
          [
           "agar<br>coconut<br>ice<br>milk<br>pandan"
          ],
          [
           "cream<br>graham<br>mango<br>milk"
          ],
          [
           "butter<br>egg<br>milk<br>potato<br>yeast"
          ],
          [
           "banana<br>cheese<br>egg<br>lettuce<br>mayonnaise<br>oyster sauce<br>tomato"
          ],
          [
           "breadcrumb<br>butter<br>egg<br>flour<br>milk<br>yeast"
          ],
          [
           "cornstarch<br>egg<br>ice<br>shrimp"
          ],
          [
           "agar<br>coconut cream<br>ice<br>pandan<br>peanut<br>sago"
          ],
          [
           "butter<br>chili<br>cornstarch<br>egg<br>milk"
          ],
          [
           "coconut<br>coconut cream<br>flour<br>milk<br>yam"
          ],
          [
           "cream<br>lime<br>milk<br>yam"
          ],
          [
           "cassava<br>coconut<br>jackfruit<br>milk<br>sago"
          ],
          [
           "beef<br>breadcrumb<br>butter<br>egg<br>milk<br>yeast"
          ],
          [
           "bread<br>bread crumb<br>cheese<br>egg<br>milk<br>strawberry"
          ],
          [
           "coconut<br>coconut cream<br>milk<br>rice"
          ],
          [
           "agar<br>coconut<br>cream<br>milk"
          ],
          [
           "coconut<br>coconut cream<br>cornstarch<br>kernel corn<br>milk"
          ],
          [
           "coconut<br>corn<br>cornstarch<br>milk"
          ],
          [
           "coconut<br>coconut cream<br>milk<br>mung bean<br>rice"
          ],
          [
           "coconut<br>coconut cream<br>cornstarch<br>jackfruit<br>milk"
          ],
          [
           "coconut<br>coconut cream<br>cornstarch<br>milk"
          ],
          [
           "coconut<br>coconut cream<br>corn<br>milk<br>rice"
          ],
          [
           "banana<br>coconut<br>coconut cream<br>flour<br>jackfruit<br>milk<br>potato<br>sago"
          ],
          [
           "coconut<br>coconut cream<br>guava<br>milk<br>sago"
          ],
          [
           "cream<br>lemon<br>milk<br>sago"
          ],
          [
           "baking<br>butter<br>coconut<br>cream cheese<br>egg<br>flour<br>margarine<br>milk"
          ],
          [
           "cheese<br>coconut<br>egg<br>flour<br>margarine<br>milk"
          ],
          [
           "banana<br>coconut<br>milk<br>rice"
          ],
          [
           "coffee<br>egg<br>milk<br>vanilla"
          ],
          [
           "baking<br>butter<br>egg<br>flour<br>margarine<br>milk<br>vanilla"
          ],
          [
           "agar<br>coconut<br>cream<br>milk<br>pandan"
          ],
          [
           "beef<br>bell pepper<br>cheese<br>egg"
          ],
          [
           "carrot<br>cheese<br>chestnut<br>spring wrapper"
          ],
          [
           "bread<br>bread crumb<br>cheese<br>egg<br>fish<br>mayonnaise<br>milk"
          ],
          [
           "chocolate<br>coconut<br>ginger<br>mango<br>milk<br>rice"
          ],
          [
           "cream tartar<br>egg<br>lemon<br>milk<br>vanilla"
          ],
          [
           "chicken broth<br>corn kernel<br>cornstarch<br>crab<br>egg"
          ],
          [
           "banana<br>bean<br>coconut<br>cream<br>ice<br>jackfruit<br>milk<br>yam"
          ],
          [
           "butter<br>egg<br>flour<br>milk<br>yeast"
          ],
          [
           "cheese<br>coconut<br>cornstarch<br>fruit<br>milk"
          ],
          [
           "baking<br>butter<br>cream cheese<br>egg<br>graham cracker crumbs<br>lemon"
          ],
          [
           "butter<br>chocolate<br>coconut<br>graham cracker crumbs<br>lime<br>mango<br>milk<br>pineapple"
          ],
          [
           "baking<br>chocolate<br>cream<br>cream tartar<br>egg<br>flour<br>mango"
          ],
          [
           "bread<br>bread crumb<br>cheese<br>egg<br>hotdog<br>milk"
          ],
          [
           "bread crumb<br>butter<br>chocolate<br>egg<br>graham cracker crumbs<br>milk<br>yeast"
          ],
          [
           "breadcrumb<br>butter<br>egg<br>flour<br>milk<br>pandan<br>yam<br>yeast"
          ],
          [
           "coconut<br>cream<br>mango<br>milk"
          ],
          [
           "bread<br>butter<br>egg<br>flour<br>milk<br>vanilla<br>yeast"
          ],
          [
           "bread crumb<br>butter<br>chocolate<br>cream cheese<br>egg<br>flour<br>milk<br>vanilla<br>yeast"
          ],
          [
           "bread crumb<br>butter<br>cheese<br>egg<br>milk<br>vegetable oil<br>yam<br>yeast"
          ],
          [
           "coconut<br>coconut cream<br>flour<br>jackfruit<br>milk<br>string bean<br>yam"
          ],
          [
           "coconut<br>coconut cream<br>milk<br>rice<br>yam"
          ],
          [
           "coconut<br>corn kernel<br>cream<br>fruit<br>milk<br>pineapple"
          ],
          [
           "butter<br>cassava<br>cheese<br>coconut<br>milk<br>string bean<br>yam"
          ],
          [
           "cream<br>egg<br>graham<br>milk"
          ],
          [
           "baking<br>baking soda<br>butter<br>chocolate<br>egg<br>milk<br>vanilla"
          ],
          [
           "butter<br>cheese<br>coconut<br>cream tartar<br>egg<br>milk<br>yam"
          ],
          [
           "cassava<br>cheese<br>coconut<br>lye<br>pandan"
          ],
          [
           "agar<br>coconut<br>milk<br>pandan"
          ],
          [
           "butter<br>cheese<br>coconut<br>coconut cream<br>milk<br>yam"
          ],
          [
           "coconut<br>jackfruit<br>milk<br>pandan<br>rice<br>spring wrapper"
          ],
          [
           "cornstarch<br>egg<br>pork<br>soy sauce"
          ],
          [
           "baking<br>baking soda<br>butter<br>chocolate<br>cream<br>egg<br>flour<br>milk"
          ],
          [
           "butter<br>egg<br>milk<br>yeast"
          ],
          [
           "butter<br>cassava<br>cheese<br>milk"
          ],
          [
           "butter<br>cashew<br>cream tartar<br>egg<br>graham cracker crumbs<br>vanilla"
          ],
          [
           "butter<br>cashew<br>cream tartar<br>egg<br>vanilla"
          ],
          [
           "butter<br>cassava<br>coconut<br>egg<br>milk<br>string bean"
          ],
          [
           "baking<br>coconut<br>flour<br>milk"
          ],
          [
           "butter<br>egg<br>ice<br>milk"
          ],
          [
           "bean<br>bell pepper<br>cheese<br>chicken<br>chili<br>corn<br>spinach"
          ],
          [
           "coconut<br>coconut cream<br>flour<br>milk<br>taro"
          ],
          [
           "banana<br>ice<br>peanut<br>sago"
          ],
          [
           "cream<br>fruit<br>graham<br>milk"
          ],
          [
           "beef<br>bell pepper<br>bread<br>cornstarch<br>egg<br>milk<br>pineapple<br>vinegar"
          ],
          [
           "cheese<br>coconut<br>cream<br>fruit<br>milk<br>pasta<br>pineapple"
          ],
          [
           "basil<br>beef<br>bell pepper<br>oregano<br>pasta<br>soy sauce<br>tomato<br>tomato sauce"
          ],
          [
           "almond<br>baking<br>butter<br>cake flour<br>cheese<br>egg<br>milk<br>vanilla"
          ],
          [
           "butter<br>coconut<br>egg<br>flour<br>milk<br>vanilla<br>vegetable oil<br>yeast"
          ],
          [
           "avocado<br>cream<br>lemon<br>milk"
          ],
          [
           "butter<br>coconut<br>egg<br>milk<br>vanilla"
          ],
          [
           "agar<br>coconut<br>milk<br>sago"
          ],
          [
           "carrot<br>egg<br>ketchup<br>pineapple<br>pork<br>raisin<br>sausage"
          ],
          [
           "butter<br>cheese<br>chicken broth<br>cream<br>mushroom<br>nutmeg<br>parsley<br>pasta<br>pork"
          ],
          [
           "coffee<br>cream<br>gelatin<br>milk"
          ],
          [
           "butter<br>cinnamon<br>coconut<br>cream<br>egg<br>milk<br>nutmeg<br>pineapple<br>raisin"
          ],
          [
           "chicken<br>chicken broth<br>coconut<br>egg<br>flour<br>milk<br>peanut butter"
          ],
          [
           "baking<br>butter<br>egg<br>milk"
          ],
          [
           "coconut<br>coconut cream<br>flour<br>milk"
          ],
          [
           "buttermilk<br>cheese<br>chicken<br>chili<br>cornstarch<br>egg<br>ham<br>pineapple"
          ],
          [
           "baking<br>banana<br>butter<br>egg<br>milk"
          ],
          [
           "carrot<br>chicken<br>egg<br>ham<br>mayonnaise<br>milk<br>pickle<br>pineapple<br>potato"
          ],
          [
           "beer<br>ham<br>mustard<br>pineapple"
          ],
          [
           "coconut<br>milk<br>squash<br>starch pearl"
          ],
          [
           "butter<br>cheese<br>cream<br>pasta"
          ],
          [
           "bell pepper<br>cheese<br>egg<br>pea<br>sausage"
          ],
          [
           "baking<br>bread<br>breadcrumb<br>cheese<br>egg<br>flour<br>mayonnaise<br>milk"
          ],
          [
           "bread<br>carrot<br>cheese<br>chicken<br>egg<br>flour<br>mayonnaise<br>pickle"
          ],
          [
           "butter<br>cheese<br>cream<br>cream mushroom<br>mushroom<br>pasta<br>pork"
          ],
          [
           "cheese<br>coconut<br>cream<br>fruit<br>mayonnaise<br>milk<br>pasta"
          ],
          [
           "butter<br>chicken wing<br>chili<br>sausage"
          ],
          [
           "butter<br>cheese<br>coconut<br>milk<br>yam"
          ],
          [
           "coconut cream<br>jackfruit<br>rice<br>starch pearl"
          ],
          [
           "coconut<br>cream<br>fruit<br>mayonnaise<br>milk<br>pasta"
          ],
          [
           "coconut<br>cream<br>gelatin<br>milk<br>vanilla"
          ],
          [
           "coconut<br>flour<br>milk<br>yam"
          ],
          [
           "fish<br>okra<br>patis<br>radish<br>salmon<br>snake bean<br>spinach<br>tomato"
          ],
          [
           "butter<br>cabbage<br>carrot<br>celery<br>chicken<br>chicken broth<br>milk<br>pasta<br>pork"
          ],
          [
           "bell pepper<br>carrot<br>cheese<br>chicken<br>chicken broth<br>potato<br>tomato sauce"
          ],
          [
           "beef<br>beef broth<br>cheese<br>pasta<br>tomato<br>tomato sauce"
          ],
          [
           "banana<br>flour<br>jackfruit<br>potato<br>starch pearl<br>taro<br>yam"
          ],
          [
           "bread crumb<br>cheese<br>chicken<br>egg<br>flour<br>rice"
          ],
          [
           "butter<br>cheese<br>egg<br>spinach<br>tomato"
          ],
          [
           "banana<br>bean<br>beef<br>beef broth<br>cabbage<br>fish sauce<br>potato<br>sausage<br>tomato"
          ],
          [
           "beef<br>cheese<br>cream<br>mushroom<br>parsley<br>pasta<br>pork"
          ],
          [
           "butter<br>cheese<br>chili<br>crab<br>flour<br>kernel corn<br>milk<br>tomato"
          ],
          [
           "lime<br>mango<br>shrimp<br>tomato"
          ],
          [
           "butter<br>cassava<br>coconut<br>egg<br>milk"
          ],
          [
           "beef broth<br>bell pepper<br>carrot<br>pork<br>potato<br>raisin<br>tomato sauce"
          ],
          [
           "banana<br>bean<br>cabbage<br>plum tomato<br>pork<br>potato<br>sausage<br>tomato sauce"
          ],
          [
           "beef broth<br>cream<br>cream mushroom<br>mushroom"
          ],
          [
           "baking<br>egg<br>flour<br>milk<br>vanilla"
          ],
          [
           "cream<br>gelatin<br>milk<br>pineapple"
          ],
          [
           "banana<br>jackfruit<br>lumpia wrapper<br>vanilla"
          ],
          [
           "beef<br>cheese<br>mayonnaise<br>pork"
          ],
          [
           "cherry<br>cream<br>fruit<br>graham<br>milk<br>vanilla"
          ],
          [
           "butter<br>cheese<br>cream cheese<br>flour<br>milk<br>pasta<br>pasta sauce"
          ],
          [
           "basil<br>butter<br>cheese<br>pasta<br>sausage"
          ],
          [
           "egg<br>pork<br>rice<br>shrimp<br>soy sauce"
          ],
          [
           "banana<br>beef<br>beef broth<br>cabbage<br>fish sauce<br>oxtail<br>potato<br>sausage<br>tomato sauce"
          ],
          [
           "beef<br>bread crumb<br>egg<br>fish sauce<br>pasta<br>patola<br>pork<br>spring onion<br>tomato sauce"
          ],
          [
           "beef<br>butter<br>cheese<br>flour<br>milk<br>pasta<br>spinach<br>tomato"
          ],
          [
           "cheese<br>chicken<br>mushroom<br>rice<br>vegetable"
          ],
          [
           "bread crumb<br>cheese<br>chicken<br>egg<br>flour<br>pasta<br>tomato sauce"
          ],
          [
           "beef broth<br>pea<br>pork<br>potato<br>tomato sauce"
          ],
          [
           "bean<br>cheese<br>chicken<br>cream<br>cumin<br>flour tortilla"
          ],
          [
           "bell pepper<br>pea<br>pork<br>potato<br>tomato<br>tomato sauce"
          ],
          [
           "beef<br>bread<br>cheese<br>egg"
          ],
          [
           "bread<br>fish<br>mayonnaise<br>pickle"
          ],
          [
           "chicken broth<br>corn<br>cornstarch<br>egg"
          ],
          [
           "bread crumb<br>egg<br>fish<br>flour<br>lettuce<br>tomato"
          ],
          [
           "cheese<br>chicken<br>pasta<br>tomato<br>tomato sauce"
          ],
          [
           "cheese<br>corn<br>pork<br>potato"
          ],
          [
           "beef<br>butter<br>cheese<br>cream<br>parsley<br>pasta"
          ],
          [
           "beef<br>bell pepper<br>cheese<br>cream<br>flour tortilla<br>lime"
          ],
          [
           "cheese<br>chili<br>crab<br>cream<br>cream cheese<br>mustard"
          ],
          [
           "cheese<br>flour tortilla<br>lettuce<br>tomato"
          ],
          [
           "butter<br>cream<br>nutmeg<br>spinach"
          ],
          [
           "bread<br>cheese<br>chicken broth<br>turkey"
          ],
          [
           "bread<br>cheese<br>egg<br>mayonnaise<br>turkey"
          ],
          [
           "cinnamon<br>egg<br>flour<br>lime<br>nutmeg"
          ],
          [
           "apple vinegar<br>butter<br>ice<br>star anise<br>thyme<br>turkey"
          ],
          [
           "celery<br>cheese<br>fish<br>mayonnaise<br>pickle"
          ],
          [
           "bagoong<br>bitter gourd<br>fish<br>knob ginger<br>malunggay<br>okra<br>string bean<br>tomato"
          ],
          [
           "bean<br>cream<br>cream mushroom soup<br>milk"
          ],
          [
           "cabbage<br>chili<br>cilantro<br>cream<br>fish<br>flour tortilla<br>lime<br>tomato"
          ],
          [
           "bread crumb<br>cheese<br>egg<br>eggplant<br>parsley<br>tomato"
          ],
          [
           "coconut<br>cream<br>milk<br>pineapple"
          ],
          [
           "cinnamon<br>egg<br>milk<br>nutmeg"
          ],
          [
           "coconut<br>milk<br>mung bean<br>rice"
          ],
          [
           "avocado<br>carrot<br>crab<br>cucumber<br>lettuce<br>shrimp"
          ],
          [
           "butter<br>coconut<br>cornstarch<br>flour<br>milk"
          ],
          [
           "butter<br>egg<br>flour<br>milk<br>vanilla"
          ],
          [
           "coconut<br>cream<br>milk<br>strawberry"
          ],
          [
           "butter<br>milk<br>vanilla<br>yam"
          ],
          [
           "baking<br>cake flour<br>cream tartar<br>egg<br>lemon<br>milk"
          ],
          [
           "cream<br>cream cheese<br>egg<br>flour<br>graham<br>vanilla"
          ],
          [
           "butter<br>cassava<br>cheese<br>coconut<br>egg<br>milk"
          ],
          [
           "beef<br>cabbage<br>carrot<br>fish sauce<br>pepper corn<br>potato"
          ]
         ],
         "hovertemplate": "<b>%{hovertext}</b><br><br>cluster=2<br>x=%{x}<br>y=%{y}<br>z=%{z}<br>cleaned_ingredients=%{customdata[0]}<extra></extra>",
         "hovertext": [
          "Cheese Cupcakes",
          "Rellenong Alimango",
          "Bibingkang Malagkit",
          "Mais con Queso Ice Candy",
          "Sapin Sapin",
          "Avocado Milkshake",
          "Buko Pandan Drink",
          "Mango Royale",
          "Yema Bread Rolls",
          "Banana Heart Burger",
          "Pandesal",
          "Camaron Rebosado",
          "Ginumis",
          "Garlic Butter Fried Frog Legs",
          "Ube Kalamay",
          "Pastillas de Ube",
          "Ginataang Kamoteng Kahoy",
          "Corned Beef Pandesal",
          "Ham and Cheese Bread Rolls",
          "Biko",
          "White Buko Salad",
          "Maja Blanca Espesyal",
          "Maja Blanca",
          "Ginataang Munggo",
          "Maja Langka",
          "Ube Maja Blanca",
          "Ginataang Mais",
          "Ginataang Halo-halo",
          "Guava in Coconut Cream",
          "Avocado Sago Jelly",
          "Bibingka",
          "Royal Bibingka",
          "Suman Malagkit with Coconut Caramel Sauce",
          "Coffee Flan",
          "Cebuana Torta",
          "Buko Pandan Salad",
          "Corned Beef Hash Breakfast Pizza",
          "Crispy Tuna Shanghai",
          "Crispy Tuna Pies",
          "Puto Maya and Sikwate",
          "Brazo de Mercedes",
          "Crab and Corn Soup",
          "Halo-Halo",
          "Otap",
          "Maja Jubilee",
          "Calamansi Cheesecake Squares",
          "Tropical Magic Bars",
          "Mango Bravo Cake",
          "Cheese Dog Bread Rolls",
          "Chocolate Pandesal",
          "Pandan Pandesal with Ube Halaya Filling",
          "Mango Bango",
          "Kalihim",
          "Red Velvet Pandesal",
          "Ube Cheese Pandesal",
          "Mini Special Sapin-Sapin",
          "Ube Biko",
          "Buko Salad",
          "Ube Cassava Cake",
          "Graham de Leche",
          "Impossible Chocolate Flan Cake",
          "Floating Island Dessert",
          "Pichi-Pichi",
          "Pandan Coconut Jelly",
          "Halayang Ube",
          "Turon Malagkit",
          "Cheater's Siopao Bola-Bola",
          "Black Forest Swiss Roll",
          "Bicho-Bicho",
          "Nilupak",
          "Silvanas (Sylvanas)",
          "Sans Rival",
          "Cassava Cake with Custard Topping",
          "Puto",
          "Mini Egg Pies",
          "Southwestern Chicken Egg Rolls",
          "Kalamay Gabi",
          "Sago at Gulaman",
          "Fruit Cocktail Graham Float",
          "Sweet and Sour Meatballs",
          "Pasta Fruit Salad",
          "American Chop Suey",
          "Yema Cake",
          "Pan de Coco",
          "Avocado Ice Cream",
          "Filipino Coconut Macaroons",
          "Buko Salad Drink",
          "Pork Embutido",
          "Filipino-style Pasta Carbonara",
          "Coffee Jelly",
          "Hawaiian Bread Pudding",
          "Filipino Tamales",
          "Leche Puto",
          "Kalamay Hati",
          "Chizza",
          "Maruya",
          "Chicken Potato Salad",
          "Filipino-style Pineapple Glazed Ham",
          "Tapioca Coconut Dessert Soup",
          "Filipino Chicken Pasta Alfredo",
          "Air Fryer Longganisa Frittata",
          "Idol Cheesedog Bread Roll and Bites",
          "Chicken Sandwich",
          "Pasta Carbonara Filipino Style",
          "How to Make Macaroni Salad for the Holidays",
          "Original Buffalo Wings",
          "Ube Halaya with Cheese",
          "Ginataang Bilo bilo with Langka",
          "Macaroni Fruit Salad",
          "Buko Pandan",
          "Ube Kalamay Recipe",
          "Salmon Sinigang Recipe",
          "Rich and Creamy Chicken Sopas with Bacon",
          "Cheesy Chicken Afritada Recipe",
          "Corned Beef Baked Macaroni",
          "Binignit Recipe",
          "Golden Chicken Rice Balls with Crab and Corn Soup",
          "Spinach Tomato and Cheese Omelette",
          "Pocherong Baka Recipe",
          "Filipino Style Creamy Bacon and Mushroom Carbonara",
          "Cheesy Crab and Corn Nachos",
          "Ensaladang Mangga (Green Mango Salad)",
          "Steamed Cassava Cake",
          "Pork Menudo with Ham Recipe",
          "Pork Pochero Recipe",
          "Lengua in White Mushroom Sauce",
          "Leche Puto Recipe",
          "Cathedral Window Gelatin Recipe",
          "Mini Turon Recipe (Banana Lumpia with Caramel)",
          "Pork Cheeseburger",
          "Fruit Cocktail Float",
          "Creamy Baked Spaghetti",
          "Sausage Macaroni Pasta",
          "Meatball Adobo with Shrimp Fried Rice and Egg",
          "Beef and Tripe Pochero Recipe",
          "Misua Soup with Meatballs",
          "Spinach Lasagne",
          "Chicken and Rice Casserole Recipe",
          "Baked Chicken Parmesan Recipe",
          "Tasty Pork Afritada Recipe",
          "Chicken Enchilada Casserole Recipe",
          "Easy Afritada",
          "Breakfast Reuben Sandwich",
          "Tuna Melt Sandwich",
          "Corn Soup with Quail Eggs",
          "Fried Fish Sandwich",
          "Sweet Chicken Spaghetti",
          "Corn Chowder Recipe",
          "Ground Beef Spaghetti Alfredo",
          "Carne Asada Burrito Recipe",
          "Crab Dip Recipe",
          "Tuna Salad Wrap",
          "Creamed Spinach Recipe",
          "Turkey Reuben Sandwich",
          "Turkey, Egg, and Cheese Breakfast Sandwich",
          "Peach Pie Recipe",
          "Star Anise and Cider Brined Roast Turkey",
          "Tuna Salad Sandwich Recipe",
          "Dinengdeng Recipe",
          "Green Bean Casserole Recipe",
          "Tilapia Fish Tacos Recipe",
          "Eggplant Parmesan Recipe",
          "Buko Salad Recipe",
          "Pumpkin Pie",
          "Ginataang Monggo Recipe",
          "Sushi Summer Roll Recipe",
          "Buko Pie",
          "Egg Pie Recipe",
          "Fruit Salad Recipe",
          "Ube Halaya",
          "Custard Cake Recipe",
          "New York Style Cheesecake",
          "Cassava Cake",
          "Beef Nilaga Recipe"
         ],
         "legendgroup": "2",
         "marker": {
          "color": "rgb(127, 60, 141)",
          "size": 5,
          "symbol": "circle"
         },
         "mode": "markers",
         "name": "2",
         "scene": "scene",
         "showlegend": true,
         "type": "scatter3d",
         "x": [
          0.6654675602912903,
          0.7765321731567383,
          0.6742966175079346,
          0.586719274520874,
          0.5837480425834656,
          0.5651686191558838,
          0.5982164144515991,
          0.6273825168609619,
          0.654139518737793,
          0.821466863155365,
          0.6118646860122681,
          0.7005101442337036,
          0.6084977984428406,
          0.7556349635124207,
          0.6858632564544678,
          0.7168664336204529,
          0.6959784030914307,
          0.7330334782600403,
          0.7263875007629395,
          0.6646190881729126,
          0.6633729338645935,
          0.5883355736732483,
          0.6139925718307495,
          0.6343569755554199,
          0.6313983798027039,
          0.608487606048584,
          0.677311897277832,
          0.6772840023040771,
          0.5705041885375977,
          0.6224155426025391,
          0.7075196504592896,
          0.7047052383422852,
          0.6090301275253296,
          0.6477263569831848,
          0.6447669267654419,
          0.643994927406311,
          0.7958972454071045,
          0.7432515621185303,
          0.7695498466491699,
          0.7105461955070496,
          0.693089485168457,
          0.7964226007461548,
          0.6644452810287476,
          0.6248302459716797,
          0.6115641593933105,
          0.6875754594802856,
          0.6508508920669556,
          0.7447984218597412,
          0.6824034452438354,
          0.6687577962875366,
          0.6879620552062988,
          0.4601709246635437,
          0.6025854349136353,
          0.6530320048332214,
          0.6352022886276245,
          0.6490417718887329,
          0.636252224445343,
          0.6501100063323975,
          0.671762228012085,
          0.6045044660568237,
          0.6155320405960083,
          0.6115910410881042,
          0.6922487616539001,
          0.5846734046936035,
          0.5916311144828796,
          0.7191898226737976,
          0.7168335914611816,
          0.5241589546203613,
          0.5984761118888855,
          0.7331316471099854,
          0.7124820947647095,
          0.7186158895492554,
          0.6647080183029175,
          0.6556580662727356,
          0.6108468174934387,
          0.7735210657119751,
          0.5752759575843811,
          0.5887037515640259,
          0.6067271828651428,
          0.8749412298202515,
          0.6131083369255066,
          0.7831150889396667,
          0.641618013381958,
          0.6933888792991638,
          0.5925183892250061,
          0.6466941833496094,
          0.6278663873672485,
          0.7968279719352722,
          0.7384158372879028,
          0.6019183397293091,
          0.6549864411354065,
          0.760914146900177,
          0.6709820032119751,
          0.617057204246521,
          0.7378870844841003,
          0.656248927116394,
          0.7847158908843994,
          0.7456274032592773,
          0.6284346580505371,
          0.6946848630905151,
          0.6760985851287842,
          0.5904849767684937,
          0.6248239278793335,
          0.6204338073730469,
          0.7077407240867615,
          0.544548749923706,
          0.5101059079170227,
          0.6228697896003723,
          0.6689072847366333,
          0.6053572297096252,
          0.6980268955230713,
          0.6378524303436279,
          0.7816268801689148,
          0.8229802250862122,
          0.7612971067428589,
          0.705715537071228,
          0.7668703198432922,
          0.6929177045822144,
          0.6781643033027649,
          0.7606180906295776,
          0.7429760694503784,
          0.6364263296127319,
          0.6265918016433716,
          0.7133711576461792,
          0.7667662501335144,
          0.74663245677948,
          0.6800994873046875,
          0.5768032670021057,
          0.6894482374191284,
          0.6703564524650574,
          0.43577122688293457,
          0.679539144039154,
          0.5453065633773804,
          0.6073350310325623,
          0.7887255549430847,
          0.8236967325210571,
          0.7809789180755615,
          0.7646648287773132,
          0.7846665978431702,
          0.7095543146133423,
          0.6453666090965271,
          0.7683439254760742,
          0.6222997307777405,
          0.7022014260292053,
          0.7856696248054504,
          0.7291207313537598,
          0.7628843188285828,
          0.8170205950737,
          0.626371443271637,
          0.6807117462158203,
          0.6420883536338806,
          0.5005230903625488,
          0.776219367980957,
          0.6690924167633057,
          0.6591130495071411,
          0.6522699594497681,
          0.5962228775024414,
          0.6765905022621155,
          0.5779338479042053,
          0.6791650652885437,
          0.7461360692977905,
          0.7684235572814941,
          0.5602970123291016,
          0.6081373691558838,
          0.5311665534973145,
          0.7187910676002502,
          0.7232202291488647,
          0.6232703924179077,
          0.5579792261123657,
          0.44843199849128723,
          0.5347869396209717,
          0.6416155695915222,
          0.5964740514755249,
          0.6833836436271667
         ],
         "y": [
          0.08319038152694702,
          0.168963223695755,
          0.0767156258225441,
          0.18927040696144104,
          0.14624078571796417,
          -0.08202909678220749,
          0.1497950255870819,
          0.2886480391025543,
          0.12024974077939987,
          0.11399208754301071,
          0.05710414797067642,
          0.15737585723400116,
          0.20342043042182922,
          0.23616424202919006,
          0.22864419221878052,
          0.19688965380191803,
          0.31451141834259033,
          0.2577579617500305,
          0.010232304222881794,
          -0.0454532727599144,
          0.28628069162368774,
          0.1633072942495346,
          0.21836960315704346,
          0.24856263399124146,
          0.21045777201652527,
          0.16693115234375,
          0.22108781337738037,
          0.27403122186660767,
          0.29677653312683105,
          0.1303928792476654,
          0.20450720191001892,
          0.012354845181107521,
          0.23075060546398163,
          -0.08687026798725128,
          0.11376875638961792,
          0.2759733498096466,
          0.2427242547273636,
          0.2549193501472473,
          0.19040162861347198,
          0.2655963897705078,
          0.033995356410741806,
          0.19645309448242188,
          0.05348575860261917,
          0.07865813374519348,
          0.14983920753002167,
          -0.050417400896549225,
          0.1814264953136444,
          0.1422359198331833,
          0.07461261749267578,
          0.04511506110429764,
          0.2437647581100464,
          0.2720808982849121,
          0.011216331273317337,
          0.0703916996717453,
          0.20960551500320435,
          0.2900726795196533,
          0.009109893813729286,
          0.2693263590335846,
          0.2397213578224182,
          0.06692317873239517,
          0.03690239042043686,
          0.17167064547538757,
          0.2711949348449707,
          0.10090182721614838,
          0.16020318865776062,
          -0.005200488958507776,
          0.1760571151971817,
          -0.03362255543470383,
          0.024267056956887245,
          0.1586322784423828,
          0.019770609214901924,
          0.16099819540977478,
          0.24127647280693054,
          0.029119430109858513,
          -0.001642698422074318,
          0.2512560486793518,
          -0.01117901410907507,
          0.135735884308815,
          0.10988949239253998,
          0.15333087742328644,
          0.33039069175720215,
          0.25532737374305725,
          -0.02768312580883503,
          0.04137912392616272,
          0.14327362179756165,
          0.03082515113055706,
          0.3017691373825073,
          0.21997860074043274,
          0.25060296058654785,
          0.03586439788341522,
          0.24240902066230774,
          0.16469252109527588,
          -0.12187264859676361,
          0.07359151542186737,
          0.1387660652399063,
          0.16014263033866882,
          0.20334863662719727,
          0.12016773223876953,
          0.32801365852355957,
          0.05685257166624069,
          0.0004217661917209625,
          0.03112064115703106,
          -0.04448705166578293,
          -0.058788545429706573,
          0.003423039335757494,
          0.0919792652130127,
          0.07316537201404572,
          0.0228678397834301,
          -0.06823989003896713,
          -0.0900859460234642,
          -0.0556412972509861,
          0.15230728685855865,
          0.10170724987983704,
          0.067652128636837,
          0.12038010358810425,
          -0.04905853047966957,
          0.08840706944465637,
          -0.058744773268699646,
          0.1999179571866989,
          0.15518496930599213,
          0.12982147932052612,
          0.11507241427898407,
          0.0662098303437233,
          0.11213444173336029,
          0.11280055344104767,
          0.11872152984142303,
          -0.13689184188842773,
          0.008826231583952904,
          -0.013750733807682991,
          0.06559556722640991,
          0.08534616231918335,
          -0.01672452688217163,
          0.14225266873836517,
          0.1446811854839325,
          0.12419969588518143,
          0.07531483471393585,
          0.15793476998806,
          0.18811705708503723,
          0.05362390726804733,
          0.07520275563001633,
          0.1768430918455124,
          0.15745685994625092,
          0.014482821337878704,
          0.06349286437034607,
          0.07265590876340866,
          0.21578776836395264,
          0.20317474007606506,
          0.09935858845710754,
          0.12465280294418335,
          0.04536554962396622,
          0.0779009535908699,
          0.20733001828193665,
          0.0477760024368763,
          0.03555246442556381,
          -0.026274580508470535,
          0.12450657784938812,
          0.09842567890882492,
          0.036823175847530365,
          0.05485210940241814,
          0.0674314871430397,
          0.10210748761892319,
          0.05659711733460426,
          -0.013160135596990585,
          -0.02643168531358242,
          -0.0008365139365196228,
          0.08281350135803223,
          0.04124755784869194,
          -0.05809780955314636,
          -0.09137868881225586,
          -0.09806844592094421,
          -0.023759962990880013,
          -0.09522103518247604,
          -0.08812322467565536,
          0.13069280982017517
         ],
         "z": [
          0.542320966720581,
          0.21316641569137573,
          0.19028636813163757,
          0.5155540704727173,
          0.4221683144569397,
          0.25296705961227417,
          0.4067953824996948,
          0.33099356293678284,
          0.3948482871055603,
          0.25418511033058167,
          0.4654626250267029,
          0.21632301807403564,
          0.3694169521331787,
          0.1820884793996811,
          0.32799872756004333,
          0.3664311170578003,
          0.33797016739845276,
          0.2869401276111603,
          0.26536989212036133,
          0.2879289388656616,
          0.34189319610595703,
          0.5290325880050659,
          0.4796326756477356,
          0.33180248737335205,
          0.45403555035591125,
          0.4842509627342224,
          0.39743733406066895,
          0.41777539253234863,
          0.2811521887779236,
          0.281486451625824,
          0.37386196851730347,
          0.4556995630264282,
          0.3538897931575775,
          0.4700227975845337,
          0.41276973485946655,
          0.32006868720054626,
          0.256145179271698,
          0.30022454261779785,
          0.28473344445228577,
          0.23972688615322113,
          0.4019261300563812,
          0.17103984951972961,
          0.1625540554523468,
          0.39250439405441284,
          0.45873570442199707,
          0.5307829976081848,
          0.45633184909820557,
          0.3934807777404785,
          0.414439857006073,
          0.4232683777809143,
          0.22392062842845917,
          0.22922304272651672,
          0.3430500626564026,
          0.4658837616443634,
          0.4083327054977417,
          0.3576030731201172,
          0.30967193841934204,
          0.3506881296634674,
          0.4191770553588867,
          0.5843853950500488,
          0.5176985263824463,
          0.5197910666465759,
          0.3209536075592041,
          0.36002886295318604,
          0.5206690430641174,
          0.3202095329761505,
          0.3140941858291626,
          0.4474688768386841,
          0.34900963306427,
          0.3568239212036133,
          0.3986448347568512,
          0.3127262592315674,
          0.44341129064559937,
          0.37157297134399414,
          0.5841767191886902,
          0.2646326422691345,
          0.40194690227508545,
          0.250227689743042,
          0.4641719460487366,
          0.2287377566099167,
          0.32929521799087524,
          0.16737498342990875,
          0.5879065990447998,
          0.36286261677742004,
          0.27754005789756775,
          0.5090491771697998,
          0.29470139741897583,
          0.25991034507751465,
          0.19573664665222168,
          0.4564681053161621,
          0.4470670223236084,
          0.16123203933238983,
          0.5123344659805298,
          0.5063868165016174,
          0.21552233397960663,
          0.380551278591156,
          0.19907411932945251,
          0.17942002415657043,
          0.34138956665992737,
          0.18692418932914734,
          0.15288853645324707,
          0.27380838990211487,
          0.1459679752588272,
          0.23317694664001465,
          0.1528608202934265,
          0.026515144854784012,
          0.36977478861808777,
          0.328900545835495,
          0.13038694858551025,
          0.2895243763923645,
          0.3226621150970459,
          0.07589706778526306,
          0.24253803491592407,
          0.1835695505142212,
          0.23860791325569153,
          0.291898250579834,
          0.2825877070426941,
          0.25970134139060974,
          0.18707729876041412,
          0.16150571405887604,
          0.31043776869773865,
          0.02035832218825817,
          0.4218307435512543,
          0.22731372714042664,
          0.1465224176645279,
          0.15707188844680786,
          0.518597424030304,
          0.3137664794921875,
          0.3646356165409088,
          0.1299901306629181,
          0.4006918668746948,
          0.2648075819015503,
          0.07708360999822617,
          0.09456826746463776,
          0.1547650694847107,
          0.21071240305900574,
          0.28574156761169434,
          0.24015161395072937,
          0.22173424065113068,
          0.16686353087425232,
          0.2589419484138489,
          0.14041492342948914,
          0.22267448902130127,
          0.11043445765972137,
          0.21586188673973083,
          0.27839815616607666,
          0.23573508858680725,
          0.262146919965744,
          0.07002332806587219,
          0.1441231667995453,
          0.17906609177589417,
          0.24891138076782227,
          0.20548191666603088,
          0.1006893515586853,
          0.27285778522491455,
          0.3801204562187195,
          0.012779805809259415,
          0.2776342034339905,
          0.08501961827278137,
          0.25648966431617737,
          0.16094592213630676,
          0.195280522108078,
          0.48525530099868774,
          0.4643546938896179,
          0.2784905433654785,
          0.17003360390663147,
          0.3208425045013428,
          0.48479998111724854,
          0.3885001838207245,
          0.1916976273059845,
          0.46850961446762085,
          0.5542393922805786,
          0.5126024484634399,
          0.14940354228019714
         ]
        },
        {
         "customdata": [
          [
           "bean<br>pork<br>soy sauce<br>vinegar"
          ],
          [
           "beef<br>beef broth<br>bread<br>butter<br>egg<br>mushroom"
          ],
          [
           "bell pepper<br>carrot<br>chicken<br>hotdog<br>pineapple<br>potato<br>raisin<br>soy sauce<br>tomato"
          ],
          [
           "beef rib<br>chili<br>fish sauce<br>radish<br>spinach<br>tamarind<br>taro<br>tomato"
          ],
          [
           "chicken<br>lemon<br>peppercorn<br>soy sauce"
          ],
          [
           "bay leaf<br>oyster sauce<br>peppercorn<br>pork<br>soy sauce<br>vinegar"
          ],
          [
           "annatto<br>bean<br>cabbage<br>chicken<br>eggplant<br>fish sauce<br>flour<br>peanut butter"
          ],
          [
           "bay leaf<br>chili<br>coconut<br>milk<br>peppercorn<br>pork<br>soy sauce<br>vinegar"
          ],
          [
           "chicken<br>chili<br>coconut<br>fish sauce<br>ginger<br>lemongrass<br>milk<br>papaya<br>spinach"
          ],
          [
           "cabbage<br>carrot<br>chicken<br>corn<br>cornstarch<br>crab<br>egg<br>fish sauce"
          ],
          [
           "chili<br>fish sauce<br>ginger<br>pork"
          ],
          [
           "bell pepper<br>chicken<br>chili sauce<br>cornstarch<br>egg<br>pineapple<br>soy sauce"
          ],
          [
           "cashew<br>chicken<br>cornstarch<br>oyster sauce<br>peas<br>soy sauce<br>wine"
          ],
          [
           "chicken<br>corn<br>cornstarch<br>egg<br>ginger<br>peppercorn<br>soy sauce"
          ],
          [
           "ginger<br>mirin<br>sake<br>salmon<br>sesame seed<br>soy sauce"
          ],
          [
           "bell pepper<br>chicken<br>chili<br>coconut<br>fish sauce<br>ginger<br>milk<br>potato"
          ],
          [
           "carrot<br>celery<br>cornstarch<br>egg<br>oyster sauce<br>peas<br>shrimp<br>soy sauce<br>wine"
          ],
          [
           "chicken<br>coconut<br>fish sauce<br>ginger<br>lemongrass<br>papaya<br>spinach"
          ],
          [
           "egg<br>ginger<br>pork<br>sausage<br>shrimp<br>soy sauce<br>wonton wrapper"
          ],
          [
           "black bean<br>fish<br>ginger<br>tomato<br>vinegar"
          ],
          [
           "chili<br>ketchup<br>oyster sauce<br>pork<br>sesame oil<br>soy sauce<br>vinegar"
          ],
          [
           "pork<br>soy sauce<br>spinach<br>vinegar"
          ],
          [
           "bean<br>chili<br>coconut<br>coconut cream<br>crab<br>fish sauce<br>ginger<br>milk<br>squash"
          ],
          [
           "bottle gourd<br>chicken<br>fish sauce<br>ginger<br>spinach"
          ],
          [
           "carrot<br>chicken<br>cream<br>egg<br>fish sauce<br>peas"
          ],
          [
           "egg<br>mussel<br>oyster sauce<br>shallot<br>tomato"
          ],
          [
           "cornstarch<br>egg<br>fish sauce<br>shallot"
          ],
          [
           "banana<br>carrot<br>pork<br>sausage<br>soy sauce<br>vinegar"
          ],
          [
           "beef<br>cabbage<br>egg pasta<br>fish sauce<br>peppercorn"
          ],
          [
           "bitter gourd<br>egg<br>fish sauce<br>shrimp<br>tomato"
          ],
          [
           "ginger<br>mirin<br>pasta<br>sake<br>soy sauce"
          ],
          [
           "cornstarch<br>oyster sauce<br>pork<br>vegetable"
          ],
          [
           "baking<br>chili<br>cornstarch<br>egg<br>orange<br>shallot<br>soy sauce<br>vinegar"
          ],
          [
           "bottle gourd<br>fish sauce<br>shrimp<br>tomato"
          ],
          [
           "apple vinegar<br>bay leaf<br>peppercorn<br>pineapple<br>pork<br>soy sauce"
          ],
          [
           "beef<br>cabbage<br>chili<br>corn<br>fish sauce<br>lemon<br>peppercorn"
          ],
          [
           "annatto<br>bean<br>cabbage<br>eggplant<br>fish sauce<br>flour<br>peanut butter<br>pork<br>shrimp"
          ],
          [
           "ginger<br>rice<br>sesame oil<br>sesame seed<br>soy sauce"
          ],
          [
           "bean<br>fish sauce<br>pasta<br>shrimp<br>spinach<br>tomato"
          ],
          [
           "chili garlic sauce<br>eggplant<br>ginger<br>soy sauce<br>vinegar"
          ],
          [
           "carrot<br>mayonnaise<br>raisin<br>walnut"
          ],
          [
           "butter<br>chili<br>egg<br>milk<br>shallot<br>shrimp"
          ],
          [
           "broccoli<br>cabbage<br>carrot<br>cornstarch<br>mushroom"
          ],
          [
           "bean<br>chili<br>coconut<br>fish sauce<br>milk<br>shrimp<br>squash"
          ],
          [
           "chili garlic sauce<br>cornstarch<br>oyster sauce<br>sesame oil<br>spinach<br>tofu"
          ],
          [
           "annatto<br>beef<br>chili<br>ginger<br>jackfruit<br>kamia<br>lemongrass<br>tamarind"
          ],
          [
           "eggplant<br>mango<br>pork<br>shrimp<br>tomato<br>vinegar"
          ],
          [
           "bean<br>shrimp<br>soy sauce<br>tomato"
          ],
          [
           "annatto<br>broth<br>cornstarch<br>egg<br>fish<br>lemon<br>pork<br>shrimp<br>tofu"
          ],
          [
           "broccoli<br>carrot<br>chicken<br>lemon<br>pancit<br>sausage<br>shrimp"
          ],
          [
           "carrot<br>chestnut<br>chicken<br>soy sauce<br>spring wrapper"
          ],
          [
           "bay leaf<br>fish sauce<br>peppercorn<br>squid<br>tomato<br>vinegar"
          ],
          [
           "butter<br>ginger<br>lemon<br>soy sauce"
          ],
          [
           "bay leaf<br>broth<br>carrot<br>chestnut<br>chicken<br>fish sauce<br>pepper corn<br>pork<br>soy sauce"
          ],
          [
           "bean<br>cabbage<br>chili<br>eggplant<br>fish sauce<br>kamia<br>okra<br>salmon<br>tomato"
          ],
          [
           "bell pepper<br>chili<br>mussel<br>sherry<br>tomato sauce"
          ],
          [
           "banana<br>bean<br>cabbage<br>chicken<br>fish sauce<br>garbanzo bean<br>potato<br>sausage<br>tomato sauce"
          ],
          [
           "bread crumb<br>cabbage<br>egg<br>pork"
          ],
          [
           "chili<br>coconut<br>fish sauce<br>ginger<br>milk<br>shrimp"
          ],
          [
           "bay leaf<br>chili<br>coconut<br>fish sauce<br>ginger<br>milk<br>squid<br>tomato<br>vinegar"
          ],
          [
           "bell pepper<br>carrot<br>chili<br>fish sauce<br>pork<br>vinegar"
          ],
          [
           "chicken<br>chili<br>coconut cream<br>ginger<br>shrimp"
          ],
          [
           "beef<br>carrot<br>fish sauce<br>peas<br>potato<br>raisin<br>tomato<br>tomato sauce"
          ],
          [
           "bean<br>bitter gourd<br>eggplant<br>okra<br>pork<br>shrimp<br>squash<br>tomato"
          ],
          [
           "bay leaf<br>chili<br>peppercorn<br>pork<br>shallot<br>soy sauce<br>tofu<br>vinegar"
          ],
          [
           "banana<br>chili<br>coconut<br>fish sauce<br>milk<br>pork"
          ],
          [
           "chicken<br>mussel<br>paprika<br>rice<br>sausage<br>shrimp<br>tomato sauce"
          ],
          [
           "cornstarch<br>egg<br>fish sauce<br>lettuce<br>peanut<br>peanut butter<br>pork<br>shrimp<br>soy sauce"
          ],
          [
           "bean<br>carrot<br>fish sauce<br>shrimp"
          ],
          [
           "banana<br>chili<br>fish sauce<br>pork<br>vinegar"
          ],
          [
           "fish sauce<br>oyster sauce<br>shrimp<br>tomato sauce"
          ],
          [
           "bell pepper<br>carrot<br>chicken<br>fish sauce<br>pea<br>potato<br>tomato"
          ],
          [
           "bell pepper<br>egg<br>ham<br>peas<br>pineapple<br>pork<br>rice<br>sesame oil<br>soy sauce"
          ],
          [
           "carrot<br>chestnut<br>pork<br>shrimp<br>soy sauce<br>spring wrapper"
          ],
          [
           "beef<br>bell pepper<br>cheese<br>hotdog<br>pasta<br>pasta sauce<br>tomato"
          ],
          [
           "bay leaf<br>beef<br>broth<br>mushroom<br>pepper corn<br>potato<br>soy sauce<br>tomato sauce"
          ],
          [
           "fish sauce<br>ginger<br>mustard<br>radish<br>tamarind<br>tomato"
          ],
          [
           "cabbage<br>carrot<br>chicken<br>oyster sauce<br>pork<br>sausage<br>shrimp"
          ],
          [
           "bay leaf<br>ginger<br>lemon<br>peppercorn<br>soy sauce<br>star anise<br>tomato<br>vinegar"
          ],
          [
           "beef<br>fish sauce<br>guava<br>spinach<br>tomato"
          ],
          [
           "bean<br>beef<br>cabbage<br>peppercorn<br>potato"
          ],
          [
           "cabbage<br>oyster sauce<br>pork<br>tomato"
          ],
          [
           "chili<br>fish sauce<br>ginger<br>goat<br>tamarind<br>vinegar"
          ],
          [
           "bay leaf<br>bell pepper<br>garbanzo bean<br>pickle<br>pork<br>sausage<br>soy sauce<br>tomato"
          ],
          [
           "bay leaf<br>bean<br>pork<br>tofu<br>tomato<br>vinegar"
          ],
          [
           "bell pepper<br>cornstarch<br>egg<br>fish<br>pineapple<br>soy sauce<br>vinegar"
          ],
          [
           "chili<br>coconut<br>ginger<br>milk<br>salmon<br>tomato"
          ],
          [
           "bell pepper<br>carrot<br>chili<br>goat<br>pickle<br>pineapple<br>potato<br>tomato sauce<br>vinegar"
          ],
          [
           "bean<br>chili<br>coconut<br>fish<br>ginger<br>milk<br>shrimp"
          ],
          [
           "mango<br>pork<br>rice<br>shrimp<br>tomato<br>vinegar"
          ],
          [
           "egg<br>pork<br>rice<br>soy sauce"
          ],
          [
           "chili<br>ginger<br>rice<br>shallot<br>soy sauce<br>tofu<br>vinegar"
          ],
          [
           "beef<br>egg<br>miki pasta<br>pork<br>shrimp"
          ],
          [
           "bay leaf<br>carrot<br>celery<br>peppercorn<br>shrimp"
          ],
          [
           "bitter gourd<br>fish sauce<br>fish tomato sauce<br>tomato"
          ],
          [
           "chili<br>eggplant<br>soy sauce<br>vinegar"
          ],
          [
           "bell pepper<br>butter<br>chili<br>ginger<br>lemon<br>soy sauce<br>squid"
          ],
          [
           "butter<br>fish<br>lemon<br>oyster sauce<br>soy sauce"
          ],
          [
           "cabbage<br>fish sauce<br>pork rib<br>tomato"
          ],
          [
           "cilantro<br>fish sauce<br>mango<br>tomato<br>vinegar"
          ],
          [
           "cabbage<br>chicken<br>fish sauce<br>ginger<br>peppercorn<br>potato"
          ],
          [
           "bean<br>eggplant<br>fish sauce<br>melon<br>okra<br>pork<br>squash<br>tomato"
          ],
          [
           "bell pepper<br>chili<br>lemon<br>pork"
          ],
          [
           "chili<br>cucumber<br>fish sauce<br>peppercorn<br>sesame oil<br>vinegar"
          ],
          [
           "fish sauce<br>kamote<br>shallot<br>tomato<br>vinegar"
          ],
          [
           "bean<br>carrot<br>ginger<br>oyster sauce<br>pork<br>soy sauce"
          ],
          [
           "cabbage<br>ginger<br>oyster sauce<br>salmon<br>tomato<br>vinegar"
          ],
          [
           "beef<br>egg<br>pea<br>potato"
          ],
          [
           "bean<br>coconut<br>eggplant<br>jackfruit<br>milk<br>pork<br>shrimp<br>squash"
          ],
          [
           "cornstarch<br>mushroom<br>soy sauce<br>tofu<br>wine"
          ],
          [
           "bay leaf<br>chicken<br>pork<br>soy sauce<br>vinegar"
          ],
          [
           "banana<br>beef<br>egg<br>pea<br>rice<br>soy sauce<br>tomato sauce"
          ],
          [
           "bean<br>cornstarch<br>mushroom<br>sesame oil<br>sesame seed<br>soy sauce"
          ],
          [
           "cabbage<br>celery<br>oyster sauce<br>pasta<br>sesame oil<br>soy sauce<br>wine"
          ],
          [
           "chili<br>eggplant<br>fish<br>ginger<br>peppercorn<br>vinegar"
          ],
          [
           "bay leaf<br>egg<br>peppercorn<br>rib<br>soy sauce<br>vinegar"
          ],
          [
           "chicken<br>cornstarch<br>egg<br>honey<br>lime<br>sauce<br>soy sauce<br>wine"
          ],
          [
           "bay leaf<br>chicken<br>soy sauce<br>vinegar"
          ],
          [
           "chili sauce<br>fish<br>lemon<br>oyster sauce<br>sesame oil"
          ],
          [
           "chili<br>coconut<br>coconut cream<br>fish sauce<br>milk"
          ],
          [
           "chili<br>eggplant<br>pork<br>shrimp<br>tomato<br>vinegar"
          ],
          [
           "fish<br>ginger<br>shallot<br>tamarind"
          ],
          [
           "bay leaf<br>fish sauce<br>pork<br>vinegar"
          ],
          [
           "beef<br>cheese<br>pasta<br>pasta sauce"
          ],
          [
           "beef<br>bell pepper<br>carrot<br>coconut<br>fish sauce<br>ginger<br>milk<br>potato"
          ],
          [
           "cabbage<br>carrot<br>chicken<br>chicken broth<br>fish<br>lemon<br>miki pasta<br>pasta<br>shrimp"
          ],
          [
           "chicken<br>coconut<br>fish sauce<br>ginger<br>lime<br>milk"
          ],
          [
           "buttermilk<br>chicken<br>fish sauce<br>ginger<br>lemongrass"
          ],
          [
           "coconut<br>fish sauce<br>milk<br>mung bean<br>pork<br>spinach<br>tomato"
          ],
          [
           "fish sauce<br>mung bean<br>spinach<br>tomato<br>vegetable oil"
          ],
          [
           "bitter gourd<br>fish<br>fish sauce<br>mung bean<br>spinach"
          ],
          [
           "bottle gourd<br>chicken<br>fish sauce<br>pasta"
          ],
          [
           "bean<br>chili<br>coconut<br>coconut cream<br>milk<br>pork<br>shrimp"
          ],
          [
           "chili<br>coconut cream<br>eggplant<br>fish sauce<br>pork"
          ],
          [
           "cheese<br>ketchup<br>peas<br>pineapple<br>pork rib<br>potato<br>soy sauce"
          ],
          [
           "egg<br>potato<br>soy sauce<br>vinegar"
          ],
          [
           "pineapple<br>pork<br>soy sauce<br>vinegar"
          ],
          [
           "duck egg<br>eggplant<br>fish sauce<br>grape tomato<br>vinegar"
          ],
          [
           "beef<br>bell pepper<br>carrot<br>fish sauce<br>potato<br>tomato"
          ],
          [
           "banana blossom<br>bay leaf<br>black bean<br>peppercorn<br>pineapple<br>pork<br>soy sauce<br>vinegar"
          ],
          [
           "cabbage<br>carrot<br>chicken<br>oyster sauce<br>soy sauce"
          ],
          [
           "chicken<br>cornstarch<br>lemon<br>soy sauce"
          ],
          [
           "egg<br>fish<br>rice<br>soy sauce"
          ],
          [
           "chili<br>ginger<br>honey<br>squid<br>tomato<br>vinegar"
          ],
          [
           "chicken<br>chili<br>cucumber<br>egg<br>rice<br>shallot<br>shrimp<br>tomato"
          ],
          [
           "bay leaf<br>beef<br>butter<br>cream mushroom soup<br>mushroom<br>peppercorn"
          ],
          [
           "beef<br>beef broth<br>butter<br>cream<br>mushroom"
          ],
          [
           "cabbage<br>carrot<br>celery<br>chicken broth<br>chicken wing<br>egg<br>fish sauce<br>ginger<br>pasta"
          ],
          [
           "beef<br>broth<br>fish sauce<br>ginger<br>lemon<br>peppercorn<br>rice"
          ],
          [
           "banana<br>beef<br>cabbage<br>garbanzo bean<br>potato<br>sausage"
          ],
          [
           "bell pepper<br>carrot<br>egg<br>fish<br>lemon<br>mayonnaise<br>pickle<br>tamarind"
          ],
          [
           "bay leaf<br>carrot<br>chili<br>fish<br>peppercorn<br>pickle"
          ],
          [
           "bean<br>chili garlic sauce<br>cornstarch<br>sesame oil<br>shrimp<br>soy sauce<br>wine"
          ],
          [
           "cheese<br>crab<br>cucumber<br>egg<br>mango<br>mayonnaise<br>rice<br>sauce<br>vinegar"
          ],
          [
           "bay leaf<br>bell pepper<br>butter<br>chicken<br>cream<br>mushroom<br>peppercorn<br>sherry wine"
          ],
          [
           "ginger<br>pineapple<br>potato<br>raisin<br>rib<br>soy sauce"
          ],
          [
           "bay leaf<br>lemon<br>peppercorn<br>pork<br>potato<br>soy sauce<br>tomato sauce"
          ],
          [
           "bell pepper<br>cornstarch<br>fish<br>ginger<br>papaya<br>vinegar"
          ],
          [
           "annatto<br>bay leaf<br>chicken<br>ginger<br>lemon<br>lemongrass<br>vinegar"
          ],
          [
           "bell pepper<br>carrot<br>chili<br>fish tomato sauce<br>potato"
          ],
          [
           "bay leaf<br>chicken<br>peppercorn<br>potato<br>soy sauce<br>vinegar"
          ],
          [
           "chili<br>cornstarch<br>egg<br>fish sauce<br>papaya<br>shallot<br>shrimp<br>squash<br>vinegar"
          ],
          [
           "bell pepper<br>bread crumb<br>butter<br>chili<br>shrimp<br>tomato sauce<br>wine"
          ],
          [
           "bell pepper<br>celery<br>egg<br>fish<br>mayonnaise<br>pasta<br>pickle"
          ],
          [
           "cabbage<br>carrot<br>chestnut<br>chicken<br>pasta<br>shallot<br>soy sauce"
          ],
          [
           "bay leaf<br>chicken<br>soy sauce<br>vinegar"
          ],
          [
           "bean<br>cabbage<br>carrot<br>spring wrapper<br>tofu<br>yam"
          ],
          [
           "bay leaf<br>ginger<br>pork<br>vinegar"
          ],
          [
           "bay leaf<br>chicken<br>fish sauce<br>peppercorn<br>vinegar"
          ],
          [
           "bell pepper<br>carrot<br>cheese<br>chicken<br>chili<br>pineapple<br>potato<br>soy sauce<br>tomato sauce"
          ],
          [
           "bay leaf<br>pork<br>pork sauce<br>vinegar"
          ],
          [
           "bay leaf<br>chicken<br>lemon<br>peppercorn<br>potato<br>soy sauce<br>tomato sauce"
          ],
          [
           "chicken<br>fish sauce<br>lemon<br>lemongrass<br>shallot<br>soy sauce"
          ],
          [
           "chili<br>fish sauce<br>lemon<br>oyster sauce<br>pork<br>vinegar"
          ],
          [
           "bell pepper<br>butter<br>chili<br>lemon<br>mayonnaise<br>sauce<br>tofu"
          ],
          [
           "fish sauce<br>ginger<br>pasta<br>pork"
          ],
          [
           "banana<br>bean<br>cabbage<br>carrot<br>fish sauce<br>pork<br>potato<br>sausage<br>tomato"
          ],
          [
           "chili<br>fish sauce<br>ginger<br>pork<br>vinegar"
          ],
          [
           "butter<br>fish<br>ginger<br>lemon<br>soy sauce<br>tamarind<br>tomato"
          ],
          [
           "chicken<br>cornstarch<br>ginger<br>peppercorn<br>pineapple<br>shallot<br>soy sauce"
          ],
          [
           "bean<br>beef<br>cabbage<br>corn<br>fish sauce<br>peppercorn<br>potato"
          ],
          [
           "carrot<br>chestnut<br>cornstarch<br>pork<br>shrimp<br>spice<br>tofu"
          ],
          [
           "fish sauce<br>guava<br>pork<br>spinach<br>taro"
          ],
          [
           "carrot<br>egg<br>fish sauce<br>ketchup<br>pea<br>pork<br>potato<br>raisin<br>tomato sauce"
          ],
          [
           "fish<br>fish sauce<br>ginger<br>tamarind<br>tomato"
          ],
          [
           "black bean<br>fish<br>fish sauce<br>ginger<br>tomato"
          ],
          [
           "fish sauce<br>lemon<br>radish<br>shrimp<br>tomato"
          ],
          [
           "chili<br>cornstarch<br>ginger<br>lemon<br>mushroom<br>pork<br>shrimp<br>soy sauce"
          ],
          [
           "chili sauce<br>ginger<br>hoisin sauce<br>salmon<br>sesame oil<br>vinegar"
          ],
          [
           "chili<br>coconut<br>coconut cream<br>milk<br>pork<br>shrimp"
          ],
          [
           "bell pepper<br>carrot<br>cheese<br>chili<br>potato<br>tomato<br>tomato sauce"
          ],
          [
           "cheese<br>chili sauce<br>mayonnaise<br>salmon"
          ],
          [
           "cheese<br>chili sauce<br>lime<br>mayonnaise<br>mussel"
          ],
          [
           "chicken<br>chicken broth<br>fish sauce<br>ginger<br>lemon<br>rice"
          ],
          [
           "beef<br>cabbage<br>fish sauce<br>radish<br>tamarind<br>tomato"
          ],
          [
           "chicken<br>egg<br>mayonnaise<br>milk<br>pineapple<br>relish"
          ],
          [
           "bean<br>carrot<br>fish sauce<br>pork<br>potato<br>spring wrapper"
          ],
          [
           "bell pepper<br>cream<br>fish sauce<br>pineapple<br>pork"
          ],
          [
           "bell pepper<br>carrot<br>fish sauce<br>pork<br>potato<br>tomato<br>tomato sauce"
          ],
          [
           "bay leaf<br>beef<br>bell pepper<br>peas<br>peppercorn<br>pork<br>soy sauce<br>vinegar"
          ],
          [
           "bay leaf<br>beef<br>bell pepper<br>fish sauce<br>pea<br>pork<br>tomato sauce"
          ],
          [
           "bell pepper<br>carrot<br>chicken<br>coconut<br>fish sauce<br>ginger<br>milk<br>potato"
          ],
          [
           "beef<br>bell pepper<br>chestnut<br>corn<br>cornstarch<br>oyster sauce<br>peas<br>soy sauce<br>wine"
          ],
          [
           "bell pepper<br>carrot<br>fish sauce<br>pork<br>potato<br>raisin<br>tomato"
          ],
          [
           "chicken<br>chili<br>lemon<br>mayonnaise<br>soy sauce"
          ],
          [
           "bean<br>cornstarch<br>ginger<br>pork<br>rice wine<br>sesame oil<br>soy sauce"
          ],
          [
           "bell pepper<br>chili<br>ginger<br>oyster sauce<br>shallot<br>soy sauce"
          ],
          [
           "chili<br>pork<br>shrimp<br>tomato<br>vinegar"
          ],
          [
           "bay leaf<br>carrot<br>celery<br>chicken<br>ginger<br>pepper corn<br>rice"
          ],
          [
           "bell pepper<br>chicken<br>chicken broth<br>cornstarch<br>ginger<br>pineapple<br>soy sauce"
          ],
          [
           "cabbage<br>carrot<br>mayonnaise<br>pineapple<br>raisin<br>vinegar"
          ],
          [
           "bottle gourd<br>oyster sauce<br>pork<br>tomato"
          ],
          [
           "annatto<br>bottle gourd<br>oyster sauce<br>pancit pasta<br>pork"
          ],
          [
           "bell pepper<br>carrot<br>chicken<br>fish sauce<br>peas<br>pineapple<br>potato<br>tomato sauce"
          ],
          [
           "annatto<br>carrot<br>cornstarch<br>egg<br>fish sauce<br>mung bean<br>shallot<br>shrimp"
          ],
          [
           "butter<br>carrot<br>cornstarch<br>cream<br>fish sauce<br>ham<br>pea<br>shrimp<br>singkama"
          ],
          [
           "bell pepper<br>cheese<br>chicken<br>chicken broth<br>mushroom<br>pasta<br>pasta sauce<br>peppercorn"
          ],
          [
           "broth<br>egg<br>fish sauce<br>lemon<br>pork<br>shrimp"
          ],
          [
           "ginger<br>ketchup<br>pineapple<br>pork<br>soy sauce"
          ],
          [
           "fish<br>fish sauce<br>guava<br>shrimp<br>spinach"
          ],
          [
           "avocado<br>cucumber<br>honey<br>lime<br>mango<br>shrimp"
          ],
          [
           "bean<br>carrot<br>fish sauce<br>pork<br>shrimp<br>spring wrapper"
          ],
          [
           "egg<br>pea<br>sausage<br>shrimp<br>soy sauce"
          ],
          [
           "basil<br>bean<br>chili<br>coconut<br>fish sauce<br>lime<br>mango<br>peanut<br>vegetable oil"
          ],
          [
           "celery<br>chestnut<br>fish<br>mushroom<br>soy sauce"
          ],
          [
           "bell pepper<br>chili<br>fish<br>lemon<br>sauce"
          ],
          [
           "beef<br>beef broth<br>bell pepper<br>cheese<br>hotdog<br>ketchup<br>pasta<br>tomato<br>tomato sauce"
          ],
          [
           "bean<br>coconut cream<br>fish sauce<br>shrimp<br>squash"
          ],
          [
           "chili<br>cornstarch<br>fish<br>shallot<br>soy sauce"
          ],
          [
           "chili<br>coconut<br>milk<br>pork<br>shrimp<br>tomato<br>vinegar"
          ],
          [
           "bay leaf<br>beef<br>ginger<br>peppercorn<br>soy sauce<br>star anise"
          ],
          [
           "chicken<br>chili<br>egg<br>fish sauce<br>ginger"
          ],
          [
           "chicken<br>fish sauce<br>ginger<br>potato"
          ],
          [
           "beef<br>beef broth<br>cabbage<br>egg pasta<br>pork<br>soy sauce<br>star anise<br>wonton wrapper"
          ],
          [
           "chili<br>cornstarch<br>egg<br>pork"
          ],
          [
           "coconut cream<br>crab<br>ginger<br>mussel<br>shrimp<br>squid"
          ],
          [
           "bean<br>bitter gourd<br>eggplant<br>fish sauce<br>okra<br>patola<br>shrimp<br>squash<br>tomato"
          ],
          [
           "bean<br>bitter gourd<br>eggplant<br>okra<br>patola<br>shrimp<br>squash"
          ],
          [
           "chicken<br>coconut<br>fish sauce<br>ginger<br>mango<br>milk"
          ],
          [
           "coconut<br>coconut cream<br>pork<br>shrimp"
          ],
          [
           "cabbage<br>fish sauce<br>peppercorn<br>pork<br>squash"
          ],
          [
           "bitter gourd<br>chicken<br>fish sauce<br>ginger"
          ],
          [
           "bay leaf<br>bell pepper<br>carrot<br>lemon<br>pork<br>potato<br>soy sauce<br>tomato sauce"
          ],
          [
           "bay leaf<br>chili<br>peppercorn<br>pork<br>shallot<br>soy sauce<br>vinegar"
          ],
          [
           "broth<br>chicken<br>egg<br>fish sauce<br>ginger<br>lemon<br>rice"
          ],
          [
           "butter<br>carrot<br>cream<br>egg<br>fish sauce<br>pea<br>singkama"
          ],
          [
           "beef<br>chili<br>fish sauce<br>lemon"
          ],
          [
           "bean<br>chicken<br>fish sauce<br>ginger<br>tamarind<br>tomato"
          ],
          [
           "cabbage<br>fish sauce<br>ginger<br>potato"
          ],
          [
           "chicken<br>fish sauce<br>ginger<br>papaya<br>spinach"
          ],
          [
           "bean<br>chili garlic sauce<br>fish<br>soy sauce"
          ],
          [
           "eggplant<br>fish sauce<br>okra<br>pork<br>snake bean<br>spinach<br>tamarind<br>tomato"
          ],
          [
           "cheese<br>luncheon<br>mayonnaise<br>pasta<br>pickle"
          ],
          [
           "cabbage<br>carrot<br>chicken<br>pancit<br>parsley<br>peas<br>sausage<br>shrimp<br>soy sauce"
          ],
          [
           "bread<br>cheese<br>fish tomato sauce<br>parsley<br>tomato"
          ],
          [
           "bell pepper<br>carrot<br>cheese<br>pork<br>potato<br>tomato sauce"
          ],
          [
           "bell pepper<br>cheese<br>pasta<br>pork<br>tomato<br>tomato sauce"
          ],
          [
           "bread crumb<br>egg<br>flour<br>garlic rice<br>pork"
          ],
          [
           "chili<br>coconut<br>pork<br>shrimp<br>taro"
          ],
          [
           "barbecue sauce<br>cabbage<br>carrot<br>cheese<br>chicken<br>flour tortilla<br>lettuce<br>vegetable oil"
          ],
          [
           "chili<br>coconut<br>crab<br>fish sauce<br>ginger<br>jackfruit<br>malunggay"
          ],
          [
           "chili<br>fish<br>fish sauce<br>mustard<br>okra<br>rice<br>snake bean<br>tomato"
          ],
          [
           "beef rib<br>fish sauce<br>snake bean<br>spinach<br>tomato"
          ],
          [
           "bean<br>chicken<br>coconut<br>patis<br>squash"
          ],
          [
           "annatto<br>chicken<br>fish sauce<br>scallion<br>sesame oil<br>shrimp<br>wonton wrapper"
          ],
          [
           "cabbage<br>carrot<br>chicken broth<br>lobster<br>pancit pasta<br>parsley<br>soy sauce<br>squid"
          ],
          [
           "egg<br>pork<br>rice<br>shrimp<br>soy sauce<br>vinegar"
          ],
          [
           "bell pepper<br>cabbage<br>chicken broth<br>oyster sauce<br>pancit pasta<br>shrimp"
          ],
          [
           "carrot<br>chicken<br>chicken broth<br>milk<br>parsley<br>pasta"
          ],
          [
           "barbecue sauce<br>bread<br>chicken<br>soy sauce<br>wine vinegar"
          ],
          [
           "chicken<br>oyster sauce<br>soy sauce<br>string bean"
          ],
          [
           "beef<br>cornstarch<br>egg<br>fish sauce<br>miki pasta<br>pork<br>soy sauce"
          ],
          [
           "butter<br>flour<br>mushroom<br>tofu<br>vegetable broth"
          ],
          [
           "celery<br>chicken<br>lettuce<br>lime<br>mayonnaise"
          ],
          [
           "egg<br>ham<br>rice<br>soy sauce"
          ],
          [
           "carrot<br>celery<br>chicken<br>chicken broth<br>cornstarch<br>egg pasta<br>parsley<br>vegetable oil"
          ],
          [
           "chicken<br>coconut<br>fish sauce<br>ginger<br>lemongrass<br>milk<br>soy sauce"
          ],
          [
           "cabbage<br>fish sauce<br>pork<br>tomato"
          ]
         ],
         "hovertemplate": "<b>%{hovertext}</b><br><br>cluster=3<br>x=%{x}<br>y=%{y}<br>z=%{z}<br>cleaned_ingredients=%{customdata[0]}<extra></extra>",
         "hovertext": [
          "Adobong Sitaw with Pork",
          "Burger Steak",
          "Chicken Menudo",
          "Sinigang na Baka",
          "Chicken Bistek",
          "Pork Adobo with Oyster Sauce",
          "Chicken Kare-Kare",
          "Adobo sa Gata",
          "Chicken Halang Halang",
          "Pancit Lomi",
          "Batchoy Tagalog",
          "Panda Express Sweet Fire Chicken Copycat",
          "Cashew Chicken",
          "Chicken Corn Soup",
          "Teriyaki Salmon",
          "Ginataang Manok",
          "Snow Peas and Shrimp Stir-fry",
          "Chicken Binakol",
          "Pinsec Frito",
          "Totsong Bangus",
          "Filipino Pork Barbecue",
          "Adobong Kangkong",
          "Ginataang Alimasag",
          "Tinolang Manok sa Upo",
          "Liver and Gizzard with Sweet Peas",
          "Tortang Tahong",
          "Ukoy na Dilis",
          "Pork Estofado",
          "Bulalo Mami",
          "Ginisang Ampalaya at Hipon",
          "Kake Udon",
          "Asian Vegetable Stir-fry",
          "Kwek-kwek",
          "Ginisang Upo at Hipon",
          "Pata Hamonado",
          "Bulalo",
          "Kare-kareng Pata",
          "Ahi Shoyu Poke",
          "Ginisang Munggo at Sotanghon",
          "Eggplant with Spicy Garlic Sauce",
          "Kabocha Salad",
          "Salted Eggs Shrimp",
          "Chop Suey with Tofu and Shitake Mushrooms",
          "Ginataang Kalabasa, Sitaw at Hipon",
          "Kangkong and Tofu with Oyster Sauce",
          "Kansi",
          "Crispy Pork Binagoongan",
          "Green Bean and Shrimp Stir-fry",
          "Pancit Palabok",
          "Mock Pancit Canton Stir-Fry",
          "Lumpiang Shanghai",
          "Ginisang Pusit",
          "Adobong Talaba",
          "Pancit Molo",
          "Sinigang na Salmon Belly sa Kamias",
          "Spicy Tahong",
          "Chicken Pochero",
          "Tonkatsu",
          "Ginataang Hipon",
          "Adobong Pusit sa Gata",
          "Bopis",
          "Chicken Bicol Express",
          "Filipino-style Picadillo with Potatoes",
          "Pinakbet",
          "Tokwa’t Baboy",
          "Ginataang Puso ng Saging",
          "Paella",
          "Lumpiang Ubod",
          "Ginisang Togue",
          "Kilawing Puso nang Saging",
          "Shrimp with Oyster Sauce",
          "Chicken Afritada",
          "Hawaiian Fried Rice",
          "Rellenong Hipon",
          "Instant Pot Filipino-style Spaghetti",
          "Lengua Estofado",
          "Sinigang na Hito sa Miso",
          "Ginisang Repolyo",
          "Adobong Hito",
          "Sinigang na Baka sa Bayabas",
          "Corned Beef Nilaga",
          "Ginisang Pechay",
          "Sinampalukang Kambing",
          "Waknatoy",
          "Tokwa't Baboy with Tausi",
          "Sweet and Sour Sauce Fish",
          "Coconut Curry Salmon",
          "Kalderetang Kambing",
          "Gising Gising with Bangus",
          "Binagoongan Fried Rice",
          "Bacon Fried Rice",
          "Lugaw at Tokwa",
          "La Paz Batchoy",
          "How to Make Shrimp Stock",
          "Ginisang Ampalaya sa Sardinas",
          "Adobong Talong",
          "Sisig Pusit",
          "Bangus ala Pobre",
          "Kinamatisang Baboy",
          "Filipino Mango and Tomato Salad",
          "Pesang Manok",
          "Pinakbet with Crispy Lechon",
          "Crispy Sisig",
          "Ensaladang Pipino",
          "Ensaladang Talbos ng Kamote",
          "Pork and Green Bean Stir-fry",
          "Ulo-Ulo Salmon",
          "Corned Beef Frittata",
          "Ginataang Gulay",
          "Tofu, Asparagus and Mushroom Stir-Fry",
          "Chicken and Pork Adobo",
          "Arroz ala Cubana",
          "Green Bean Mushroom Stir-fry",
          "Panda Express Chow Mein Copycat",
          "Paksiw na Bangus",
          "Loslos",
          "Honey Garlic Chicken",
          "Instant Pot Chicken Adobo",
          "Grilled Tuna Belly",
          "Ginataang Langka at Danggit",
          "Binagoongan Talong",
          "Banana-Wrapped Salay-Salay Fish",
          "Kilawing Labanos at Baboy",
          "Corned Beef Spaghetti",
          "Beef Curry",
          "Miki Bihon",
          "Coconut Lime Chicken",
          "Lemongrass Roasted Chicken",
          "Ginataang Munggo at Baboy",
          "Ginisang Munggo at Chicharon (Mung Bean Soup with Pork Cracklings)",
          "Ginisang Munggo at Tinapa",
          "Sotanghon at Upo Soup",
          "Gising Gising",
          "Ginataang Talong",
          "Sinantomas",
          "Adobong Itlog",
          "Pork Adobo with Pineapple",
          "Tomato, Grilled Eggplant and Salted Egg Salad",
          "Beef Afritada",
          "Humba",
          "Chicken Yakisoba",
          "Crispy Chicken Livers a la Bistek",
          "Tinapa Fried Rice",
          "Inihaw na Pusit (Grilled Squid)",
          "Nasi Goreng (Indonesian Fried Rice)",
          "Lengua in Mushroom Sauce",
          "Beef in Creamy Mushroom Sauce",
          "Chicken Sotanghon Soup",
          "Goto",
          "Cocido-style Nilaga",
          "Steamed Lapu Lapu with Mayonnaise",
          "Spanish-style Sardines Bangus in Olive Oil",
          "Shrimp in Black Bean Sauce",
          "Sushi Bake",
          "Chicken a la King",
          "Pineapple Pork Ribs",
          "Pork Asado",
          "Escabeche Lapu Lapu",
          "Chicken Inasal",
          "Sardines Caldereta",
          "Chicken Adobo",
          "Ukoy",
          "Sizzling Gambas",
          "Creamy Tuna Pasta Salad",
          "Sotanghon at Bola Bola Sopas (Cellophane Noodles and Meatball Soup)",
          "Chicken Adobo with Liver Spread",
          "Lumpiang Prito",
          "Adobong Dilaw",
          "Adobong Manok sa Patis",
          "Chicken Caldereta",
          "Paksiw na Lechon",
          "Chicken Asado",
          "Lechon Manok",
          "Inihaw na Liempo",
          "Sizzling Tofu",
          "Batsui",
          "Pork Pochero",
          "Dinuguan",
          "Pinaputok na Tilapia",
          "Tiniim na Manok",
          "Nilagang Baka",
          "Homemade Kikiam",
          "Pork Bulanglang",
          "Pork Giniling with Quail Eggs",
          "Pinangat na Pompano",
          "Bangus sa Tausi (Milkfish with Tomatoes and Black Beans)",
          "Sinigang na Hipon sa Calamansi",
          "Siomai",
          "Hoisin-Glazed Salmon",
          "Bicol Express",
          "Beef Caldereta",
          "Baked Salmon with Sweet Chili-Mayo Topping",
          "Baked Tahong with Sweet Chili-Mayo Topping",
          "Arroz Caldong Paa ng Manok (Congee with Chicken Feet)",
          "Corned Beef Sinigang",
          "Chicken Salad",
          "Lumpiang Prito with Pork",
          "Pininyahang Pork",
          "Pork Afritada",
          "Igado",
          "Pork Guisantes",
          "Chicken Curry",
          "Beef and Baby Corn Stir-fry",
          "Giniling na Baboy",
          "Chicken Sisig",
          "Steamed Spareribs with Black Beans",
          "Sizzling Balut",
          "Binagoongan Baboy",
          "Chicken Rice Congee",
          "Hawaiian Chicken",
          "Pineapple Coleslaw",
          "Ginisang Upo with Pork",
          "Pancit Upo",
          "Pineapple Chicken Afritada",
          "Ukoy na Togue",
          "Sipo Egg with Shrimp and Ham",
          "Filipino-style Chicken Baked Macaroni",
          "Easy Pancit Luglug",
          "Spare Ribs with Ketchup and Pineapple",
          "Bulanglang na Bangus at Hipon",
          "Grilled Shrimp Mango Avocado Salad",
          "Lumpiang Togue",
          "Yang Chow Fried Rice",
          "Thai Mango Salad",
          "Lumpiang Galunggong",
          "Bangus Sisig",
          "Filipino-style Spaghetti",
          "Ginataang Sigarilyas at Kalabasa",
          "Homemade Fish Balls with Spicy Fish Ball Sauce",
          "Binagoongan Baboy sa Gata",
          "Beef Pares",
          "Pinatisang Manok",
          "Lalaine's Stewed Chicken and Potatoes in Fish Sauce",
          "Beef Wonton Mami",
          "Salt and Pepper Pork Chops",
          "Ginataang Seafood",
          "Ginisang Gulay",
          "Laswa",
          "Mango Curry Chicken",
          "Pinais na Hipon",
          "Nilagang Baboy",
          "Ampalaya with Chicken Feet",
          "Beef Mechado",
          "Crispy Pata",
          "Arroz Caldo",
          "Sipo Egg",
          "Bagis",
          "Sinampalukang Manok",
          "Pesang Dalag",
          "Tinolang Manok",
          "Tilapia in Black Bean Garlic Sauce",
          "Sinigang na Pata with Gabi",
          "Luncheon Meat Mac Salad with Cheese",
          "Shrimp and Chicken Pancit Canton",
          "Pandesal and Sardines Pizza",
          "Special Pork Kaldereta",
          "Pinoy Spaghetti Recipe",
          "Tonkatsu Sinangag at Itlog",
          "Anghang Sarap Laing",
          "BBQ Chicken Wrap",
          "Ginataang Langka with Alimasag",
          "Seafood Sinigang",
          "Beef Short Rib Sinigang Na May Pakwan",
          "Ginataang Manok with Sitaw at Kalabasa",
          "Chicken Molo Soup",
          "Squid Ball Pancit Canton Recipe",
          "Pork Adobo Paksiw with Jeprox and Shrimp Fried Rice",
          "Shrimp Pancit Canton Recipe",
          "Friday Chicken Noodle Soup",
          "Pulled Chicken BBQ Sandwich recipe",
          "Sautéed String Beans with Chicken",
          "Lechon Lomi",
          "Tofu with Mushroom Gravy",
          "Chicken Salad Wrap",
          "Ham and Egg Fried Rice",
          "Chicken Noodle Soup Recipe",
          "Chicken Satay with Peanut Sauce",
          "Ginisang Pechay (Sautéed Bok Choy)"
         ],
         "legendgroup": "3",
         "marker": {
          "color": "rgb(17, 165, 121)",
          "size": 5,
          "symbol": "circle"
         },
         "mode": "markers",
         "name": "3",
         "scene": "scene",
         "showlegend": true,
         "type": "scatter3d",
         "x": [
          0.7666023969650269,
          0.7249264717102051,
          0.7709126472473145,
          0.766778290271759,
          0.7840440273284912,
          0.8426783084869385,
          0.7055484056472778,
          0.8767078518867493,
          0.7664063572883606,
          0.7493695616722107,
          0.7549233436584473,
          0.7890738844871521,
          0.7418869733810425,
          0.8356449007987976,
          0.8283517956733704,
          0.7879546880722046,
          0.7593527436256409,
          0.7415029406547546,
          0.8327707052230835,
          0.7714104056358337,
          0.8197203278541565,
          0.7641751170158386,
          0.8321564197540283,
          0.7911900281906128,
          0.7624461650848389,
          0.7396490573883057,
          0.7968839406967163,
          0.8151940107345581,
          0.7938041687011719,
          0.8312719464302063,
          0.7284952998161316,
          0.782136082649231,
          0.8386161923408508,
          0.7915831804275513,
          0.7295060753822327,
          0.8194195032119751,
          0.740921676158905,
          0.7845415472984314,
          0.7502778768539429,
          0.8379225134849548,
          0.728784441947937,
          0.843384325504303,
          0.6667057275772095,
          0.7642320990562439,
          0.7476935982704163,
          0.7698746919631958,
          0.8640074729919434,
          0.822370707988739,
          0.7878735065460205,
          0.7859256863594055,
          0.7619603872299194,
          0.8203809261322021,
          0.8152655959129333,
          0.769835352897644,
          0.7767041325569153,
          0.7732235789299011,
          0.6882087588310242,
          0.7857067584991455,
          0.7614928483963013,
          0.8624735474586487,
          0.865912914276123,
          0.7933787703514099,
          0.8582733273506165,
          0.7847645878791809,
          0.7828177213668823,
          0.7946715354919434,
          0.661441445350647,
          0.7771170735359192,
          0.6930049061775208,
          0.861264705657959,
          0.786594569683075,
          0.7709859609603882,
          0.838913083076477,
          0.817157506942749,
          0.6742542386054993,
          0.7816225290298462,
          0.7251707315444946,
          0.8287560939788818,
          0.756949782371521,
          0.7069289684295654,
          0.7444406151771545,
          0.8070176839828491,
          0.8271694183349609,
          0.6400976181030273,
          0.7697567343711853,
          0.8537111282348633,
          0.8859689235687256,
          0.8081304430961609,
          0.8512790203094482,
          0.8347736597061157,
          0.7728015780448914,
          0.8139418363571167,
          0.7732285857200623,
          0.7700939178466797,
          0.7419775724411011,
          0.7542524337768555,
          0.7968883514404297,
          0.7128908038139343,
          0.7833962440490723,
          0.8161041736602783,
          0.7013368606567383,
          0.7434990406036377,
          0.7270495891571045,
          0.8575087189674377,
          0.8280025124549866,
          0.83536696434021,
          0.7629929184913635,
          0.7614362239837646,
          0.7337273359298706,
          0.7617727518081665,
          0.7872656583786011,
          0.8760066032409668,
          0.8321656584739685,
          0.7829227447509766,
          0.810267984867096,
          0.7829676866531372,
          0.7298863530158997,
          0.8086303472518921,
          0.7827268838882446,
          0.717496395111084,
          0.8385239243507385,
          0.7387705445289612,
          0.7280214428901672,
          0.7117489576339722,
          0.7596771717071533,
          0.6616305112838745,
          0.7813425064086914,
          0.8129421472549438,
          0.8858466744422913,
          0.8488397002220154,
          0.7660527229309082,
          0.7537407279014587,
          0.8366844654083252,
          0.7811487913131714,
          0.8133098483085632,
          0.8522311449050903,
          0.819706916809082,
          0.7906521558761597,
          0.7794380784034729,
          0.7897881269454956,
          0.7278268933296204,
          0.793877363204956,
          0.7294211387634277,
          0.7462072372436523,
          0.8173834681510925,
          0.7230192422866821,
          0.7192627191543579,
          0.7805553674697876,
          0.7571866512298584,
          0.7061426043510437,
          0.8270589113235474,
          0.7823334336280823,
          0.7709394693374634,
          0.7763451933860779,
          0.7554839849472046,
          0.7092850208282471,
          0.8351106643676758,
          0.8064443469047546,
          0.7897883057594299,
          0.7632948160171509,
          0.7356844544410706,
          0.8306884765625,
          0.7724869251251221,
          0.7093679308891296,
          0.7274216413497925,
          0.8089443445205688,
          0.729893147945404,
          0.8109052181243896,
          0.7773855924606323,
          0.7414709329605103,
          0.7236923575401306,
          0.8199512958526611,
          0.848697304725647,
          0.8543003797531128,
          0.8163890838623047,
          0.7587887644767761,
          0.6802456974983215,
          0.8330867290496826,
          0.8409507274627686,
          0.8074430227279663,
          0.7333017587661743,
          0.7169265747070312,
          0.728471040725708,
          0.837111234664917,
          0.7942872047424316,
          0.6666142344474792,
          0.7294731140136719,
          0.7665083408355713,
          0.7956723570823669,
          0.7914734482765198,
          0.786357045173645,
          0.7387310266494751,
          0.7605981826782227,
          0.837364673614502,
          0.7160447835922241,
          0.774627685546875,
          0.7707602977752686,
          0.7858403325080872,
          0.7505370378494263,
          0.7924975156784058,
          0.775657594203949,
          0.8036544322967529,
          0.8000463247299194,
          0.8036659359931946,
          0.8629376292228699,
          0.7965056300163269,
          0.8650693893432617,
          0.8123239278793335,
          0.848396360874176,
          0.8502383232116699,
          0.755640983581543,
          0.7823153734207153,
          0.8082507252693176,
          0.75687575340271,
          0.7818604707717896,
          0.81440269947052,
          0.7034657001495361,
          0.7785879969596863,
          0.7935208082199097,
          0.7048452496528625,
          0.7763611674308777,
          0.8002134561538696,
          0.7754757404327393,
          0.7770907282829285,
          0.7083788514137268,
          0.7479516863822937,
          0.7021850347518921,
          0.7653128504753113,
          0.8554108142852783,
          0.8444948196411133,
          0.8145232200622559,
          0.7287915945053101,
          0.8045880794525146,
          0.7946381568908691,
          0.7943806648254395,
          0.7843790650367737,
          0.7670139074325562,
          0.7069948315620422,
          0.746558666229248,
          0.8162389993667603,
          0.7519676089286804,
          0.7798680663108826,
          0.7852895855903625,
          0.8532613515853882,
          0.7520533800125122,
          0.7057766914367676,
          0.8594024777412415,
          0.6997911334037781,
          0.7457178235054016,
          0.7667645215988159,
          0.7865923047065735,
          0.766473114490509,
          0.7423980236053467,
          0.7455477118492126,
          0.7164676189422607,
          0.8443782329559326,
          0.7941468954086304,
          0.8395026326179504,
          0.6001312732696533,
          0.8209443688392639,
          0.6703814268112183,
          0.660620927810669,
          0.6692447066307068,
          0.6351016163825989,
          0.7540397047996521,
          0.7942683696746826,
          0.7502108812332153,
          0.7677968740463257,
          0.8053033947944641,
          0.7319599390029907,
          0.8492077589035034,
          0.7832616567611694,
          0.7356672286987305,
          0.7281624674797058,
          0.7202103137969971,
          0.7670032978057861,
          0.8553030490875244,
          0.8082304000854492
         ],
         "y": [
          0.4132356643676758,
          0.3736092150211334,
          0.42304250597953796,
          0.48795920610427856,
          0.398934543132782,
          0.27717655897140503,
          0.39888936281204224,
          0.32074475288391113,
          0.5041621923446655,
          0.4848160743713379,
          0.4920436441898346,
          0.4047744870185852,
          0.3468886911869049,
          0.2800423800945282,
          0.3055691719055176,
          0.5038589239120483,
          0.38129594922065735,
          0.4776398539543152,
          0.23638978600502014,
          0.38042765855789185,
          0.35508760809898376,
          0.3713834583759308,
          0.29881757497787476,
          0.5001305341720581,
          0.38104307651519775,
          0.29515981674194336,
          0.22499006986618042,
          0.3979969620704651,
          0.4081385135650635,
          0.3318512439727783,
          0.3168978989124298,
          0.3972492516040802,
          0.19554367661476135,
          0.36790668964385986,
          0.39596009254455566,
          0.4371483325958252,
          0.4085520803928375,
          0.29515501856803894,
          0.46339845657348633,
          0.2513587474822998,
          0.2749442756175995,
          0.29394495487213135,
          0.46269482374191284,
          0.4388687014579773,
          0.3543790578842163,
          0.34255990386009216,
          0.28372281789779663,
          0.3984924852848053,
          0.4545973241329193,
          0.34323427081108093,
          0.29209381341934204,
          0.2852565050125122,
          0.28713732957839966,
          0.2565324902534485,
          0.43036437034606934,
          0.385921448469162,
          0.483972430229187,
          0.2976562976837158,
          0.4344918131828308,
          0.34050554037094116,
          0.34801387786865234,
          0.4317359924316406,
          0.20332425832748413,
          0.4234951436519623,
          0.4321984648704529,
          0.43928635120391846,
          0.38687872886657715,
          0.42727380990982056,
          0.5116056203842163,
          0.3340352177619934,
          0.33799076080322266,
          0.48564413189888,
          0.36842748522758484,
          0.3551853895187378,
          0.4306754171848297,
          0.4493851363658905,
          0.5043718814849854,
          0.3102988600730896,
          0.407498300075531,
          0.4875824451446533,
          0.4066971242427826,
          0.38643911480903625,
          0.3117496967315674,
          0.4211614429950714,
          0.46471935510635376,
          0.3011283576488495,
          0.28146860003471375,
          0.31566739082336426,
          0.3324953317642212,
          0.299373596906662,
          0.2868640720844269,
          0.3305947184562683,
          0.30956414341926575,
          0.2773851156234741,
          0.41851314902305603,
          0.3690982162952423,
          0.35005226731300354,
          0.39029571413993835,
          0.46459412574768066,
          0.33185434341430664,
          0.5042756199836731,
          0.48036709427833557,
          0.33293139934539795,
          0.2706102728843689,
          0.2926785945892334,
          0.33556902408599854,
          0.4096278250217438,
          0.365251749753952,
          0.4241822361946106,
          0.41518762707710266,
          0.42279279232025146,
          0.1892695426940918,
          0.2707381844520569,
          0.27812546491622925,
          0.29742980003356934,
          0.2713563144207001,
          0.35033589601516724,
          0.3672521710395813,
          0.28706735372543335,
          0.3639214038848877,
          0.3945457339286804,
          0.43765461444854736,
          0.4357864260673523,
          0.3208119869232178,
          0.45934736728668213,
          0.4885953366756439,
          0.23473182320594788,
          0.2570008635520935,
          0.2504456043243408,
          0.3125896453857422,
          0.47189220786094666,
          0.49007993936538696,
          0.3239842653274536,
          0.49568188190460205,
          0.16326302289962769,
          0.241668701171875,
          0.29781046509742737,
          0.28769513964653015,
          0.4324582815170288,
          0.3340076804161072,
          0.4699251055717468,
          0.33140698075294495,
          0.38579845428466797,
          0.35347169637680054,
          0.33567529916763306,
          0.2963995635509491,
          0.3171059489250183,
          0.4317854046821594,
          0.3527466952800751,
          0.44968298077583313,
          0.24241334199905396,
          0.301668256521225,
          0.41791629791259766,
          0.2905604839324951,
          0.33009108901023865,
          0.39419686794281006,
          0.3752019703388214,
          0.3728693425655365,
          0.21869762241840363,
          0.45955610275268555,
          0.4637165069580078,
          0.3905370831489563,
          0.3688776195049286,
          0.3246484696865082,
          0.39249372482299805,
          0.30405566096305847,
          0.36058807373046875,
          0.3109261095523834,
          0.40925636887550354,
          0.4791320860385895,
          0.43786752223968506,
          0.44395214319229126,
          0.2847084105014801,
          0.37775829434394836,
          0.38268744945526123,
          0.4671076536178589,
          0.48687243461608887,
          0.35546332597732544,
          0.29555055499076843,
          0.33696120977401733,
          0.42185795307159424,
          0.28228482604026794,
          0.5090179443359375,
          0.24236196279525757,
          0.39343899488449097,
          0.4916200041770935,
          0.4392060339450836,
          0.3632933795452118,
          0.38070327043533325,
          0.44606074690818787,
          0.47614413499832153,
          0.24866530299186707,
          0.22013993561267853,
          0.3401913642883301,
          0.44340991973876953,
          0.29974913597106934,
          0.3234722912311554,
          0.4700159728527069,
          0.4183286428451538,
          0.3920661211013794,
          0.4205297827720642,
          0.45580679178237915,
          0.31940072774887085,
          0.39141666889190674,
          0.2586059868335724,
          0.3057027757167816,
          0.3265047073364258,
          0.40154314041137695,
          0.3198496699333191,
          0.27441486716270447,
          0.22467780113220215,
          0.4575471878051758,
          0.36493980884552,
          0.5066509246826172,
          0.32420939207077026,
          0.313475102186203,
          0.3706081509590149,
          0.4428090453147888,
          0.428229957818985,
          0.42674487829208374,
          0.29299259185791016,
          0.3259877562522888,
          0.40135082602500916,
          0.2599380612373352,
          0.47142356634140015,
          0.4243338406085968,
          0.35940155386924744,
          0.4118746817111969,
          0.2677915692329407,
          0.3900759518146515,
          0.3249005079269409,
          0.5064020156860352,
          0.396028071641922,
          0.30800339579582214,
          0.3207641541957855,
          0.32635897397994995,
          0.49219971895217896,
          0.4084007143974304,
          0.48681771755218506,
          0.27914366126060486,
          0.4821328818798065,
          0.3186684846878052,
          0.39176565408706665,
          0.29706478118896484,
          0.5028841495513916,
          0.3373674154281616,
          0.2881547212600708,
          0.49311310052871704,
          0.44780153036117554,
          0.5168859362602234,
          0.39750561118125916,
          0.2607845664024353,
          0.2197616994380951,
          0.24691367149353027,
          0.26709502935409546,
          0.18959277868270874,
          0.21365755796432495,
          0.20396605134010315,
          0.3308185935020447,
          0.2110445350408554,
          0.31802549958229065,
          0.35728901624679565,
          0.3576824367046356,
          0.4082763195037842,
          0.2831214666366577,
          0.18927869200706482,
          0.33109620213508606,
          0.2519319951534271,
          0.2594192624092102,
          0.24271899461746216,
          0.2880263924598694,
          0.2652098834514618,
          0.31152504682540894,
          0.22656652331352234,
          0.27133357524871826,
          0.22390884160995483,
          0.19933855533599854,
          0.29154640436172485
         ],
         "z": [
          0.02006402239203453,
          0.10366609692573547,
          0.024409089237451553,
          -0.026567533612251282,
          -0.023721007630228996,
          -0.14144116640090942,
          0.16232329607009888,
          -0.08727879822254181,
          0.09134534001350403,
          0.08895938098430634,
          -0.06273382902145386,
          0.08494564890861511,
          -0.08527678996324539,
          0.03767626732587814,
          0.035408198833465576,
          0.10403569787740707,
          -0.02135509066283703,
          0.08584000170230865,
          0.0076239826157689095,
          0.12023802101612091,
          -0.07648088037967682,
          -0.15617430210113525,
          -0.01565607637166977,
          0.07310127466917038,
          0.07867728173732758,
          0.0025212951004505157,
          0.007285670377314091,
          0.027392294257879257,
          -0.056776128709316254,
          0.052923575043678284,
          0.06324179470539093,
          -0.05455154925584793,
          0.09864361584186554,
          -0.10607509315013885,
          -0.09130195528268814,
          -0.1288292109966278,
          0.09891345351934433,
          0.02621416002511978,
          -0.006101807579398155,
          -0.08383245766162872,
          0.0877436175942421,
          0.048079535365104675,
          0.019676070660352707,
          0.024959854781627655,
          -0.05418719723820686,
          0.05053701251745224,
          -0.01888095960021019,
          0.05978946015238762,
          0.08779508620500565,
          0.11332634836435318,
          0.1697717159986496,
          -0.10970547050237656,
          -0.003068845719099045,
          0.09079006314277649,
          0.09950301051139832,
          -0.0891544371843338,
          0.03887306898832321,
          0.08598704636096954,
          0.006029491312801838,
          -0.058094099164009094,
          -0.10871176421642303,
          -0.015431630425155163,
          0.0646810308098793,
          0.05827788636088371,
          -0.03354732319712639,
          0.09305830299854279,
          -0.018793363124132156,
          0.08766306936740875,
          0.0793268233537674,
          -0.08999928832054138,
          -0.053998567163944244,
          0.11240169405937195,
          0.07504475116729736,
          0.08886438608169556,
          0.07340332865715027,
          0.006468100473284721,
          -0.04180324450135231,
          0.0260448157787323,
          -0.045729197561740875,
          0.023638147860765457,
          0.1402384638786316,
          0.0331251360476017,
          -0.06787732243537903,
          -0.02667168900370598,
          0.02320178411900997,
          0.12461522221565247,
          0.021797580644488335,
          0.051780279725790024,
          -0.020558347925543785,
          -0.015571219846606255,
          0.07922561466693878,
          0.029645871371030807,
          0.07160486280918121,
          -0.07193096727132797,
          0.05454816669225693,
          -0.13265015184879303,
          0.022295570001006126,
          -0.0034247934818267822,
          -0.039464231580495834,
          0.017661815509200096,
          0.0733819454908371,
          -0.03471176326274872,
          -0.1029510423541069,
          -0.13293249905109406,
          -0.12123697996139526,
          0.06106570363044739,
          0.015525966882705688,
          0.24652256071567535,
          0.2114674150943756,
          0.10378572344779968,
          -0.10410057753324509,
          0.07310374826192856,
          0.12893624603748322,
          -0.10733508318662643,
          0.006816835142672062,
          -0.07633869349956512,
          -0.1566522717475891,
          -0.013235536403954029,
          -0.14534719288349152,
          0.07459607720375061,
          -0.018839538097381592,
          -0.059486713260412216,
          -0.14787065982818604,
          0.216551274061203,
          0.03791604936122894,
          0.028399836272001266,
          -0.07340224832296371,
          0.01748831756412983,
          0.09854941815137863,
          -0.03475120663642883,
          0.0074969446286559105,
          -0.010160907171666622,
          0.042924344539642334,
          0.030845284461975098,
          0.13910965621471405,
          0.05913076549768448,
          -0.10690344870090485,
          -0.026351409032940865,
          0.048484593629837036,
          0.04123076796531677,
          0.014754001051187515,
          -0.015209842473268509,
          -0.060748059302568436,
          -0.03609367087483406,
          0.04406210035085678,
          0.05655409395694733,
          0.15491607785224915,
          -0.03886169195175171,
          -0.06322629749774933,
          0.07977256923913956,
          0.08489548414945602,
          -0.12822921574115753,
          -0.0870894193649292,
          0.14477650821208954,
          -0.000942084938287735,
          -0.02824283204972744,
          -0.024730700999498367,
          0.08819961547851562,
          0.09807534515857697,
          0.024844255298376083,
          -0.004971836693584919,
          -0.04823651909828186,
          -0.056025438010692596,
          0.13370397686958313,
          -0.0016243818681687117,
          -0.16649287939071655,
          0.17692649364471436,
          -0.12264720350503922,
          -0.005024220794439316,
          0.09136024117469788,
          -0.09334440529346466,
          -0.048994310200214386,
          0.002440827898681164,
          -0.06708910316228867,
          0.03213239461183548,
          0.042643338441848755,
          0.0535273402929306,
          -0.044222377240657806,
          -0.08564935624599457,
          0.0648934468626976,
          0.015237672254443169,
          0.030982602387666702,
          0.01244392804801464,
          0.16231238842010498,
          -0.042659614235162735,
          0.055489681661129,
          -0.1365412324666977,
          0.002962809056043625,
          -0.04910879209637642,
          0.019908100366592407,
          -0.04190633073449135,
          0.12933993339538574,
          0.07920195162296295,
          0.03820616006851196,
          0.09755980968475342,
          0.2473929226398468,
          0.16529273986816406,
          0.02117837220430374,
          -0.015277181752026081,
          -0.0780278667807579,
          -0.03414914757013321,
          0.08244012296199799,
          0.13291755318641663,
          0.007759770378470421,
          -0.10271580517292023,
          -0.051425810903310776,
          -0.015735924243927002,
          -0.1068892702460289,
          -0.03001248650252819,
          0.07657033950090408,
          0.1440223753452301,
          -0.0034260284155607224,
          0.06096172705292702,
          0.10151538252830505,
          0.07143032550811768,
          0.14207541942596436,
          0.15309131145477295,
          0.05145726725459099,
          0.1038946658372879,
          -0.05089101195335388,
          -0.009955235756933689,
          0.14356398582458496,
          0.020368922501802444,
          0.06271618604660034,
          0.1127597987651825,
          -0.11150828748941422,
          0.05892227217555046,
          0.06982488930225372,
          -0.07486721128225327,
          -0.02017376385629177,
          -0.09893211722373962,
          0.018856137990951538,
          0.10251720249652863,
          0.13197676837444305,
          -0.0015287903370335698,
          0.0927002876996994,
          0.004394244402647018,
          0.01901436038315296,
          0.01542776171118021,
          0.06797321140766144,
          -0.016520872712135315,
          -0.0867081806063652,
          -0.044130247086286545,
          -0.09011942148208618,
          0.04922857880592346,
          0.06600474566221237,
          -0.08844762295484543,
          0.019068904221057892,
          -0.021146375685930252,
          0.06875523924827576,
          -0.04575740545988083,
          -0.17447680234909058,
          0.11295631527900696,
          0.10049964487552643,
          0.06280475854873657,
          0.14263565838336945,
          0.131557896733284,
          0.1166096031665802,
          0.034301117062568665,
          0.11404219269752502,
          0.040882255882024765,
          0.046865034848451614,
          -0.01861957460641861,
          0.0539826937019825,
          -0.0256853885948658,
          0.11180813610553741,
          0.026072518900036812,
          -0.052115026861429214,
          0.052164286375045776,
          0.0638706386089325,
          -0.01418223325163126,
          -0.11978107690811157,
          0.21832147240638733,
          0.11035725474357605,
          0.01128922589123249,
          0.08702164888381958,
          0.03894229605793953,
          -0.06297314167022705
         ]
        },
        {
         "customdata": [
          [
           "beef<br>butter<br>chili<br>soy sauce"
          ],
          [
           "paprika<br>pork<br>soy sauce<br>vinegar<br>wine"
          ],
          [
           "bay leaf<br>breadcrumb<br>butter<br>honey<br>peppercorn<br>pork rib<br>soy sauce<br>vinegar"
          ],
          [
           "banana<br>chili<br>oyster sauce<br>pork<br>shallot<br>spring wrapper"
          ],
          [
           "chili<br>coconut<br>coconut cream<br>ginger<br>lemongrass<br>milk<br>pork<br>shrimp<br>taro"
          ],
          [
           "banana blossom<br>bay leaf<br>peppercorn<br>pork<br>soy sauce<br>vinegar"
          ],
          [
           "celery<br>chili<br>cornstarch<br>ginger<br>peanut<br>shrimp<br>soy sauce<br>vinegar<br>wine"
          ],
          [
           "fish sauce<br>pasta<br>patola<br>pork"
          ],
          [
           "bay leaf<br>chili<br>lemon<br>peppercorn<br>pork<br>soy sauce<br>vinegar"
          ],
          [
           "broccoli<br>carrot<br>cornstarch<br>oyster sauce<br>sesame oil<br>shrimp<br>vinegar<br>wine"
          ],
          [
           "bell pepper<br>cornstarch<br>pineapple<br>pork<br>soy sauce<br>vinegar<br>wine"
          ],
          [
           "fish<br>kamia<br>pork<br>vinegar"
          ],
          [
           "chili<br>cornstarch<br>mussel<br>peppercorn<br>vinegar"
          ],
          [
           "butter<br>chili sauce<br>lemon<br>shrimp<br>vegetable oil<br>wine"
          ],
          [
           "chicken<br>chili<br>cornstarch<br>soy sauce<br>vegetable<br>wine"
          ],
          [
           "beef<br>ginger<br>sesame oil<br>sesame seed<br>soy sauce<br>vinegar"
          ],
          [
           "bay leaf<br>chicken<br>chili garlic sauce<br>peppercorn<br>soy sauce<br>vinegar"
          ],
          [
           "bell pepper<br>chicken<br>cornstarch<br>egg<br>honey<br>oyster sauce<br>rice wine<br>sesame oil<br>soy sauce"
          ],
          [
           "bay leaf<br>peppercorn<br>pork<br>vinegar"
          ],
          [
           "barbecue sauce<br>chicken<br>mango<br>sesame oil"
          ],
          [
           "bay leaf<br>pork rib<br>soy sauce<br>star anise"
          ],
          [
           "apple vinegar<br>bay leaf<br>peppercorn<br>pineapple<br>pork<br>soy sauce"
          ],
          [
           "lemongrass<br>pork rib<br>shallot<br>vinegar"
          ],
          [
           "cornstarch<br>lemon<br>milk<br>squid"
          ],
          [
           "cabbage<br>mushroom<br>pork<br>soy sauce<br>star anise<br>vinegar<br>wine"
          ],
          [
           "cinnamon<br>oregano<br>pork<br>tomato<br>vinegar"
          ],
          [
           "bay leaf<br>ginger<br>pork rib<br>soy sauce<br>vinegar"
          ],
          [
           "annatto<br>bell pepper<br>butter<br>rice<br>shallot<br>soy sauce"
          ],
          [
           "beef<br>bitter gourd<br>cornstarch<br>oyster sauce<br>sesame oil<br>soy sauce"
          ],
          [
           "bay leaf<br>pork<br>soy sauce<br>vinegar"
          ],
          [
           "bay leaf<br>bell pepper<br>carrot<br>pork<br>potato<br>tomato sauce"
          ],
          [
           "cornstarch<br>lemon<br>pork<br>soy sauce"
          ],
          [
           "eggplant<br>fish sauce<br>okra<br>pork<br>radish<br>spinach<br>string bean<br>tamarind<br>tomato"
          ],
          [
           "flour<br>pasta<br>pasta sauce<br>pork"
          ],
          [
           "broccoli<br>carrot<br>ginger<br>oyster sauce<br>tofu"
          ],
          [
           "banana<br>fish sauce<br>pork<br>vinegar"
          ],
          [
           "bay leaf<br>chicken<br>oyster sauce<br>soy sauce<br>vinegar"
          ],
          [
           "bean<br>cabbage<br>corn<br>fish sauce<br>peppercorn<br>pork<br>potato"
          ],
          [
           "chicken<br>egg<br>oyster sauce<br>rice<br>sesame oil<br>soy sauce<br>vegetable"
          ],
          [
           "bell pepper<br>cabbage<br>coconut<br>fish<br>fish sauce<br>ginger<br>pineapple"
          ],
          [
           "annatto<br>fish sauce<br>pasta<br>pork"
          ],
          [
           "bell pepper<br>eggplant<br>ginger<br>oyster sauce<br>pork<br>sesame oil<br>soy sauce"
          ],
          [
           "bell pepper<br>carrot<br>chicken<br>coconut<br>pea<br>potato<br>tomato sauce"
          ],
          [
           "bean<br>cabbage<br>carrot<br>corn<br>crab<br>egg<br>pasta<br>soy sauce<br>squid"
          ],
          [
           "carrot<br>egg<br>fish sauce<br>flour<br>pasta<br>patola<br>shrimp<br>tofu"
          ],
          [
           "chili<br>coconut<br>eggplant<br>fish sauce<br>pork<br>shrimp<br>tomato<br>vinegar"
          ],
          [
           "corn<br>corn kernel<br>crab<br>fish sauce<br>pork"
          ],
          [
           "bell pepper<br>cabbage<br>carrot<br>pea<br>pork<br>soy sauce"
          ],
          [
           "bean<br>beef<br>cabbage<br>corn<br>fish sauce<br>potato"
          ],
          [
           "fish<br>fish sauce<br>mustard<br>okra<br>radish<br>spinach<br>string bean<br>tamarind<br>tomato"
          ],
          [
           "cabbage<br>chicken<br>chili<br>fish sauce<br>ginger<br>tomato"
          ],
          [
           "fish sauce<br>mustard<br>okra<br>radish<br>salmon<br>tamarind<br>tomato"
          ],
          [
           "coconut<br>fish<br>squash<br>string bean"
          ],
          [
           "fish<br>fish sauce<br>mung bean<br>pork<br>tomato"
          ],
          [
           "annatto<br>bell pepper<br>cabbage<br>carrot<br>fish sauce<br>peas<br>pork<br>shrimp<br>soy sauce"
          ],
          [
           "annatto<br>bean<br>beef<br>bell pepper<br>chili<br>fish sauce<br>knob ginger<br>lemongrass<br>tomato sauce"
          ],
          [
           "beef<br>cheese<br>parsley<br>pasta<br>pasta sauce"
          ],
          [
           "cheese<br>pasta<br>sausage<br>tomato<br>tomato sauce"
          ],
          [
           "beef<br>bread<br>butter<br>cabbage<br>mayonnaise"
          ],
          [
           "butter<br>carrot<br>egg<br>pea<br>pork<br>rice<br>soy sauce"
          ],
          [
           "bell pepper<br>carrot<br>cheese<br>luncheon<br>pea<br>potato<br>tomato sauce"
          ],
          [
           "bell pepper<br>cheese<br>pasta<br>pasta sauce<br>pork"
          ],
          [
           "eggplant<br>fish sauce<br>okra<br>pork<br>radish<br>spinach<br>string bean<br>tamarind<br>tomato"
          ],
          [
           "bell pepper<br>chicken<br>laurel<br>lemon<br>potato<br>soy sauce<br>tomato sauce"
          ],
          [
           "bell pepper<br>carrot<br>laurel<br>pea<br>pork<br>soy sauce<br>vinegar"
          ],
          [
           "eggplant<br>fish sauce<br>okra<br>pork<br>radish<br>spinach<br>string bean<br>tamarind<br>tomato"
          ],
          [
           "bay leaf<br>carrot<br>hotdog<br>pea<br>pork<br>potato<br>tomato<br>tomato sauce"
          ],
          [
           "annatto<br>bay leaf<br>carrot<br>chili<br>fish sauce<br>ginger<br>pork<br>vinegar"
          ],
          [
           "bagoong<br>chili<br>coconut<br>fish<br>fish sauce<br>jackfruit<br>milk<br>shrimp<br>vinegar"
          ],
          [
           "bean<br>chicken<br>chili<br>coconut<br>shrimp"
          ],
          [
           "chili<br>coconut<br>fish sauce<br>ginger<br>milk<br>papaya<br>pork<br>spinach"
          ],
          [
           "coconut<br>malunggay<br>mung bean<br>pork<br>tofu<br>tomato"
          ],
          [
           "chicken<br>malunggay<br>papaya<br>pasta<br>patis pepper<br>rice"
          ],
          [
           "bagoong<br>coconut<br>malunggay<br>milk<br>squash<br>string bean"
          ],
          [
           "avocado<br>cream<br>cream cheese<br>cucumber<br>mayonnaise<br>rice<br>sauce<br>vinegar"
          ],
          [
           "beef<br>chili<br>fish sauce<br>ginger<br>kamia<br>melon<br>pork<br>vinegar"
          ],
          [
           "beef<br>beef rib<br>bell pepper<br>carrot<br>potato<br>soy sauce<br>thyme<br>tomato sauce<br>wine"
          ],
          [
           "butter<br>cabbage<br>egg<br>lemon<br>oyster sauce<br>pancit<br>shrimp<br>soy sauce"
          ],
          [
           "beef<br>cabbage<br>corn<br>fish sauce<br>peppercorn"
          ],
          [
           "beef<br>cheese<br>parsley<br>pasta<br>tomato<br>tomato sauce"
          ],
          [
           "bay leaf<br>beef<br>lemon<br>potato<br>soy sauce<br>tomato sauce"
          ],
          [
           "bell pepper<br>carrot<br>coconut<br>fish sauce<br>milk<br>pineapple<br>pork"
          ],
          [
           "bean<br>fish sauce<br>pork<br>tomato"
          ],
          [
           "bay leaf<br>ginger<br>pork<br>tamarind"
          ],
          [
           "fish<br>kamia<br>pork<br>tomato"
          ],
          [
           "bell pepper<br>carrot<br>pork<br>potato<br>tomato sauce"
          ],
          [
           "eggplant<br>ginger<br>lemongrass<br>okra<br>shrimp<br>spinach<br>string bean"
          ],
          [
           "coconut<br>fish sauce<br>ginger<br>milk<br>pork<br>string bean"
          ],
          [
           "annatto<br>chicken<br>ginger<br>lemon lime soda<br>lemongrass<br>margarine<br>tamarind"
          ],
          [
           "coconut<br>eggplant<br>malunggay<br>tofu"
          ],
          [
           "chili<br>fish<br>fish sauce<br>miso<br>mustard<br>okra<br>radish<br>tamarind<br>tomato"
          ],
          [
           "bay leaf<br>bell pepper<br>carrot<br>chicken<br>fish sauce<br>pineapple<br>potato<br>tomato sauce"
          ],
          [
           "bay leaf<br>carrot<br>coconut<br>milk<br>pork<br>potato<br>soy sauce<br>tomato sauce"
          ],
          [
           "banana<br>bean<br>cabbage<br>patis pepper<br>pork<br>potato<br>sausage<br>tomato<br>tomato sauce"
          ],
          [
           "bay leaf<br>peppercorn<br>pork<br>pork sauce<br>vinegar"
          ],
          [
           "coconut<br>crab<br>ginger<br>snake bean<br>squash"
          ],
          [
           "beef<br>bell pepper<br>carrot<br>chili<br>peanut butter<br>potato<br>soy sauce<br>tomato sauce"
          ],
          [
           "annatto<br>carrot<br>celery<br>chicken<br>fish sauce<br>pasta"
          ],
          [
           "annatto<br>egg<br>fish<br>patis pepper<br>rice<br>shrimp"
          ],
          [
           "mung bean<br>patis pepper<br>shrimp<br>spinach<br>tomato"
          ],
          [
           "bean<br>beef<br>patis pepper<br>potato<br>tomato"
          ],
          [
           "cornstarch<br>pork<br>soy sauce<br>star anise"
          ],
          [
           "beef broth<br>pineapple<br>rib<br>soy sauce"
          ],
          [
           "cabbage<br>fish sauce<br>ginger<br>miso<br>peppercorn<br>rice<br>soy sauce<br>tofu<br>tomato"
          ],
          [
           "banana<br>chili<br>coconut<br>pork"
          ],
          [
           "annatto<br>bagoong<br>bean<br>beef<br>cabbage<br>cornstarch<br>eggplant<br>peanut"
          ],
          [
           "bell pepper<br>chicken<br>chili<br>ginger<br>lemongrass<br>soy sauce<br>vinegar"
          ],
          [
           "butter<br>crab<br>lemon<br>mussel<br>rice<br>squid"
          ],
          [
           "bell pepper<br>carrot<br>coconut<br>milk<br>pea<br>pork<br>potato<br>tomato sauce"
          ],
          [
           "chicken<br>malunggay<br>pasta<br>patis pepper"
          ],
          [
           "bell pepper<br>carrot<br>chili<br>pea<br>pork<br>pork rib<br>potato<br>tomato sauce"
          ],
          [
           "cabbage<br>fish tomato sauce<br>pasta<br>patis pepper"
          ],
          [
           "eggplant<br>fish sauce<br>okra<br>radish<br>spinach<br>tamarind<br>tomato"
          ],
          [
           "bell pepper<br>chili<br>ginger<br>peanut<br>scallion<br>shrimp"
          ],
          [
           "annatto<br>egg<br>fish<br>flour<br>pasta<br>patis pepper<br>pork<br>shrimp"
          ],
          [
           "beef<br>corn<br>egg<br>fish sauce<br>rice<br>scallion"
          ],
          [
           "eggplant<br>fish sauce<br>okra<br>radish<br>snake bean<br>spinach<br>tamarind<br>tomato"
          ],
          [
           "cabbage<br>carrot<br>chicken<br>egg<br>pasta"
          ],
          [
           "mung bean<br>patis pepper<br>pork<br>spinach<br>tomato"
          ],
          [
           "banana<br>bean<br>cabbage<br>patis pepper<br>pork<br>potato<br>sausage<br>tomato"
          ],
          [
           "anchovy<br>chili<br>coconut<br>jackfruit<br>malunggay<br>milk<br>patis pepper"
          ],
          [
           "bell pepper<br>carrot<br>chicken<br>cream<br>lime<br>mushroom<br>potato<br>sausage<br>soy sauce"
          ],
          [
           "cabbage<br>carrot<br>cornstarch<br>egg<br>pasta<br>pork<br>sausage"
          ],
          [
           "cabbage<br>carrot<br>celery<br>mushroom<br>oyster sauce<br>pancit<br>parsley<br>pea<br>soy sauce"
          ],
          [
           "annatto<br>bay leaf<br>cabbage<br>carrot<br>celery<br>chicken<br>fish sauce<br>pasta<br>scallion"
          ],
          [
           "beef<br>ginger<br>scallion<br>soy sauce<br>star anise"
          ],
          [
           "chili<br>fish sauce<br>okra<br>pork<br>radish<br>snake bean<br>spinach<br>tamarind<br>tomato"
          ],
          [
           "bell pepper<br>cabbage<br>chicken<br>oyster sauce"
          ],
          [
           "soy sauce<br>squid<br>tomato<br>vinegar"
          ],
          [
           "bay leaf<br>peppercorn<br>pineapple<br>pork<br>soy sauce"
          ],
          [
           "chili<br>coconut<br>ginger<br>pork<br>taro"
          ],
          [
           "chicken<br>coconut<br>malunggay<br>squash"
          ],
          [
           "chili<br>coconut<br>jackfruit<br>pork"
          ],
          [
           "bagoong<br>bean<br>chili<br>coconut<br>pork"
          ],
          [
           "bagoong<br>chili<br>coconut<br>coconut cream<br>ginger<br>milk<br>pork"
          ],
          [
           "bean<br>coconut<br>pork<br>squash"
          ],
          [
           "beef broth<br>bell pepper<br>carrot<br>chili<br>pea<br>pork<br>potato<br>soy sauce<br>tomato"
          ],
          [
           "beef<br>cheese<br>luncheon<br>pasta<br>pasta sauce<br>pork"
          ],
          [
           "bean<br>soy sauce<br>spinach<br>vinegar"
          ],
          [
           "chicken broth<br>cornstarch<br>oyster sauce<br>spinach<br>squid"
          ],
          [
           "bean<br>coconut<br>fish sauce<br>pork"
          ],
          [
           "beer<br>lime<br>pork<br>soy sauce"
          ],
          [
           "bottle gourd<br>fish sauce<br>pork<br>squash<br>tomato"
          ],
          [
           "chili<br>coconut<br>salmon<br>spinach"
          ],
          [
           "bean<br>okra<br>patis<br>radish<br>shrimp<br>tamarind<br>tomato"
          ],
          [
           "bagoong<br>egg<br>lemon<br>pork<br>soy sauce<br>tomato"
          ],
          [
           "bell pepper<br>carrot<br>pork<br>potato<br>tomato<br>tomato sauce"
          ],
          [
           "bean<br>fish<br>fish sauce<br>okra<br>spinach<br>tamarind<br>tomato"
          ],
          [
           "bagoong<br>chili<br>coconut<br>milk<br>pork"
          ],
          [
           "beef rib<br>eggplant<br>okra<br>patis<br>radish<br>snake bean<br>spinach<br>tamarind<br>tomato"
          ],
          [
           "bottle gourd<br>fish sauce<br>fish tomato sauce<br>tomato"
          ],
          [
           "beef<br>eggplant<br>fish sauce<br>okra<br>radish<br>snake bean<br>spinach<br>tamarind<br>tomato"
          ],
          [
           "chicken<br>egg<br>peppercorn<br>pork<br>soy sauce<br>vinegar"
          ],
          [
           "chicken<br>rice<br>scallion<br>sesame oil"
          ],
          [
           "chili<br>coconut cream<br>pork<br>shrimp"
          ],
          [
           "chicken<br>egg<br>peppercorn<br>pork<br>soy sauce<br>vinegar"
          ],
          [
           "bagoong<br>bitter gourd<br>fish<br>okra<br>snake bean<br>tomato"
          ],
          [
           "chicken<br>chili<br>coconut<br>fish sauce<br>ginger"
          ],
          [
           "chili<br>liempo<br>soy sauce<br>tofu<br>vinegar"
          ],
          [
           "chili<br>coconut cream<br>ginger<br>lime"
          ],
          [
           "beef broth<br>cornstarch<br>pork<br>soy sauce<br>wine"
          ],
          [
           "fish sauce<br>mustard<br>okra<br>salmon<br>tomato"
          ],
          [
           "mung bean<br>pork<br>shrimp<br>spinach<br>tomato"
          ],
          [
           "fish sauce<br>lime<br>malunggay<br>mung bean<br>pork<br>tomato"
          ],
          [
           "cabbage<br>chicken broth<br>fish sauce<br>pork<br>shrimp<br>tomato"
          ],
          [
           "chili<br>coconut<br>fish sauce<br>scallion<br>shrimp"
          ],
          [
           "chili<br>coconut<br>pork<br>shrimp"
          ],
          [
           "cabbage<br>chicken<br>chili<br>fish sauce<br>peppercorn<br>pork<br>potato"
          ],
          [
           "bagoong<br>bean<br>bitter gourd<br>malunggay<br>okra<br>tomato"
          ],
          [
           "ketchup<br>lemon<br>pork<br>soy sauce"
          ],
          [
           "beef<br>cabbage<br>chili<br>fish sauce<br>lemon<br>peppercorn"
          ],
          [
           "carrot<br>celery<br>chicken<br>pasta"
          ],
          [
           "butter<br>chicken broth<br>lemon<br>linguine<br>parsley<br>shrimp"
          ],
          [
           "okra<br>pork<br>soy sauce<br>vinegar"
          ],
          [
           "beef<br>bell pepper<br>carrot<br>potato"
          ],
          [
           "beef<br>beef broth<br>lemon<br>soy sauce"
          ],
          [
           "beef<br>egg<br>fish sauce<br>miki pasta<br>scallion"
          ],
          [
           "chili<br>coconut cream<br>pork<br>shrimp"
          ],
          [
           "beef<br>beef broth<br>garlic rice<br>ginger<br>scallion<br>soy sauce<br>star anise"
          ],
          [
           "bell pepper<br>lime<br>pea<br>pork<br>potato<br>soy sauce"
          ],
          [
           "bay leaf<br>chicken<br>chicken broth<br>peppercorn<br>pork<br>soy sauce<br>vinegar"
          ],
          [
           "bean<br>eggplant<br>fish sauce<br>pork<br>serrano pepper<br>spinach<br>tomato"
          ],
          [
           "beef<br>chicken broth<br>pasta<br>patola<br>pork"
          ],
          [
           "chicken broth<br>fish<br>lime<br>parsley"
          ],
          [
           "bagoong<br>eggplant<br>fish<br>ice<br>okra<br>tomato"
          ],
          [
           "bagoong<br>coconut vinegar<br>pork<br>soy sauce<br>spinach"
          ],
          [
           "bagoong<br>eggplant<br>lemon<br>paprika"
          ],
          [
           "dried fish<br>egg<br>garlic rice<br>papaya<br>scallion"
          ],
          [
           "fish<br>fish sauce<br>okra<br>tomato"
          ],
          [
           "cabbage<br>celery<br>fish sauce<br>potato<br>rib"
          ],
          [
           "ketchup<br>lemon<br>papaya<br>soy sauce"
          ],
          [
           "fish<br>kamote<br>knob ginger<br>tomato"
          ],
          [
           "beef<br>beef broth<br>lemon<br>soy sauce"
          ],
          [
           "beef<br>beef broth<br>cabbage<br>fish sauce<br>peppercorn<br>potato"
          ],
          [
           "bagoong<br>lemon<br>plum tomato<br>scallion"
          ],
          [
           "eggplant<br>gourd<br>okra<br>squash<br>string bean<br>tomato<br>vegetable broth"
          ],
          [
           "chicken broth<br>ginger<br>hoisin sauce<br>rib<br>sesame oil<br>sesame seed<br>spice<br>vinegar"
          ],
          [
           "beef<br>beef broth<br>lime<br>scallion<br>soy sauce"
          ],
          [
           "bagoong<br>eggplant<br>fish<br>melon<br>okra<br>plum tomato<br>string bean"
          ],
          [
           "chicken<br>chili<br>coconut cream<br>fish sauce<br>ginger"
          ],
          [
           "cabbage<br>chicken broth<br>fish sauce<br>pork"
          ],
          [
           "hoisin sauce<br>lime<br>pork rib<br>sesame seed<br>soy sauce"
          ],
          [
           "carrot<br>ginger<br>lettuce<br>scallion<br>sesame seed"
          ],
          [
           "chicken<br>egg<br>margarine<br>mayonnaise<br>pork"
          ],
          [
           "chili<br>ginger<br>pork<br>shrimp"
          ],
          [
           "lime<br>pork<br>sauce<br>soy sauce"
          ],
          [
           "beef broth<br>cheese<br>luncheon<br>pasta<br>pasta sauce<br>pork"
          ],
          [
           "fish sauce<br>okra<br>plum tomato<br>radish<br>shrimp<br>spinach<br>tamarind"
          ],
          [
           "beef broth<br>bell pepper<br>cabbage<br>carrot<br>cornstarch<br>parsley<br>pork<br>soy sauce"
          ],
          [
           "duck egg<br>eggplant<br>fish<br>pork<br>rice<br>tofu<br>vinegar"
          ],
          [
           "dried fish<br>fish sauce<br>malunggay<br>mung bean<br>plum tomato"
          ],
          [
           "eggplant<br>fish sauce<br>kamia<br>okra<br>plum tomato<br>pork<br>spinach<br>string bean<br>taro"
          ],
          [
           "crab<br>fish sauce<br>ginger<br>pasta<br>patola"
          ],
          [
           "beef<br>cornstarch<br>oyster sauce<br>peas<br>soy sauce"
          ],
          [
           "cabbage<br>chicken broth<br>shrimp<br>tomato"
          ],
          [
           "chili<br>fish<br>fish sauce<br>tomato"
          ],
          [
           "beef broth<br>chili<br>fish sauce<br>okra<br>pork<br>spinach<br>tamarind<br>taro<br>tomato"
          ],
          [
           "fish<br>fish sauce<br>ginger<br>malunggay"
          ],
          [
           "fish<br>lemon<br>parsley<br>soy sauce"
          ],
          [
           "basil<br>cheese<br>pasta<br>sausage<br>tomato sauce"
          ],
          [
           "cabbage<br>carrot<br>lemon<br>pork<br>soy sauce<br>squid"
          ],
          [
           "dried fish<br>plum tomato<br>rice<br>vinegar"
          ],
          [
           "broccoli<br>carrot<br>pancit<br>sesame oil<br>yam"
          ],
          [
           "barbecue sauce<br>chicken<br>lemon<br>lemon lime soda<br>soy sauce"
          ],
          [
           "chicken<br>chicken broth<br>ginger<br>lemon<br>rice<br>saffron<br>scallion"
          ],
          [
           "beef broth<br>chili<br>fish sauce<br>okra<br>pork<br>spinach<br>tamarind<br>taro<br>tomato"
          ],
          [
           "broccoli<br>cheese<br>pasta<br>pasta sauce<br>tomato"
          ],
          [
           "liempo<br>patis<br>spinach<br>tamarind<br>taro<br>tomato"
          ],
          [
           "chicken broth<br>kernel corn<br>malunggay<br>plum tomato"
          ],
          [
           "beef<br>beef broth<br>cabbage<br>carrot<br>egg<br>star anise"
          ],
          [
           "bell pepper<br>chestnut<br>chicken<br>ginger<br>hoisin sauce<br>lettuce<br>mushroom<br>orange"
          ],
          [
           "cabbage<br>carrot<br>chicken broth<br>fish sauce<br>pasta<br>pea<br>pork<br>shrimp<br>soy sauce"
          ],
          [
           "chili<br>coconut<br>fish sauce<br>malunggay<br>milk<br>squid"
          ],
          [
           "bay leaf<br>cabbage<br>soy sauce<br>vinegar"
          ],
          [
           "banana blossom<br>chili<br>fish sauce<br>vegetable broth<br>vinegar"
          ],
          [
           "ginger<br>hoisin sauce<br>lemon<br>salmon<br>sauce<br>soy sauce"
          ],
          [
           "fish<br>fish sauce<br>spinach<br>tamarind<br>tomato"
          ],
          [
           "beef<br>cornstarch<br>mushroom<br>pork"
          ],
          [
           "bay leaf<br>fish sauce<br>spinach<br>zucchini"
          ],
          [
           "chili<br>ketchup<br>lemon<br>rib<br>soy sauce"
          ],
          [
           "lemon<br>sauce<br>soy sauce<br>squid"
          ],
          [
           "black bean<br>cornstarch<br>fish<br>oyster sauce<br>parsley<br>soy sauce"
          ],
          [
           "annatto<br>cabbage<br>carrot<br>celery<br>parsley<br>pasta<br>vegetable broth"
          ],
          [
           "chayote<br>chili<br>fish sauce<br>ginger<br>malunggay<br>salmon"
          ],
          [
           "carrot<br>cornstarch<br>pork<br>spice<br>tofu"
          ],
          [
           "fish<br>fish sauce<br>miso<br>mustard<br>okra<br>tomato"
          ],
          [
           "broth<br>fish sauce<br>pasta<br>patola<br>shrimp<br>tomato sauce"
          ],
          [
           "banana<br>beef broth<br>cabbage<br>fish sauce<br>pork<br>potato<br>squash<br>tomato sauce"
          ],
          [
           "broccoli<br>chicken<br>cornstarch<br>egg<br>ginger<br>oyster sauce<br>soy sauce"
          ],
          [
           "beef<br>beef broth<br>egg<br>fish sauce<br>pasta<br>zucchini"
          ],
          [
           "chicken<br>chicken broth<br>fish sauce<br>ginger<br>spinach"
          ],
          [
           "cornstarch<br>mushroom<br>oyster sauce<br>parsley<br>soy sauce"
          ],
          [
           "pineapple<br>pork<br>rosemary<br>soy sauce"
          ],
          [
           "lime<br>margarine<br>mayonnaise<br>pork<br>sauce<br>soy sauce"
          ],
          [
           "banana<br>beef broth<br>cabbage<br>carrot<br>pea<br>pork<br>soy sauce"
          ],
          [
           "cabbage<br>fish<br>fish sauce<br>ice<br>scallion<br>vegetable broth"
          ],
          [
           "bagoong<br>mango<br>pork<br>rice<br>scallion"
          ],
          [
           "butter<br>chicken broth<br>flour<br>turkey"
          ],
          [
           "butter<br>celery<br>chicken<br>rosemary<br>thyme<br>turkey"
          ],
          [
           "beef<br>cheese<br>pasta<br>pork<br>tomato sauce"
          ],
          [
           "avocado<br>cilantro<br>lime<br>tomato"
          ],
          [
           "fish<br>fish sauce<br>ginger<br>lemon<br>lemongrass<br>malunggay"
          ],
          [
           "bean<br>carrot<br>cauliflower<br>chicken<br>squash"
          ],
          [
           "chili<br>fish sauce<br>fish tomato sauce<br>lemon<br>parsley<br>tomato"
          ],
          [
           "chili<br>oyster sauce<br>spinach<br>tofu"
          ],
          [
           "egg<br>eggplant<br>pork<br>soy sauce<br>tomato"
          ],
          [
           "bagoong<br>fish sauce<br>ice<br>sesame oil"
          ],
          [
           "chili<br>coconut<br>fish sauce<br>ginger<br>milk"
          ],
          [
           "butter<br>clam<br>lemon<br>linguine<br>parsley<br>shrimp<br>wine"
          ],
          [
           "celery<br>chicken<br>chicken broth<br>cornstarch<br>lemon<br>sherry<br>soy sauce"
          ],
          [
           "bay leaf<br>beef broth<br>carrot<br>celery<br>cornstarch<br>paprika<br>potato"
          ],
          [
           "cabbage<br>carrot<br>chicken<br>miki pasta<br>oyster sauce<br>pork<br>sherry<br>soy sauce"
          ],
          [
           "beef<br>beef broth<br>butter<br>potato<br>soy sauce<br>vegetable"
          ],
          [
           "beef broth<br>bell pepper<br>pea<br>pork<br>tomato"
          ],
          [
           "chili<br>cilantro<br>fish<br>lime<br>pineapple<br>tomato"
          ],
          [
           "chili<br>crab<br>mussel<br>rice<br>saffron<br>squid<br>tomato sauce"
          ],
          [
           "bell pepper<br>mushroom<br>pasta<br>squash<br>tomato sauce"
          ],
          [
           "fish<br>ginger<br>pandan<br>tomato"
          ],
          [
           "beef<br>chili<br>ginger<br>oyster sauce<br>soy sauce<br>spinach"
          ],
          [
           "cheese<br>mushroom<br>pasta<br>spinach<br>tomato"
          ],
          [
           "cabbage<br>fish<br>fish sauce<br>ginger<br>peppercorn<br>rice"
          ],
          [
           "chicken<br>mirin<br>sake<br>sesame seed<br>soy sauce"
          ],
          [
           "annatto<br>chicken<br>coconut vinegar<br>ginger<br>lemon<br>lemongrass<br>margarine<br>sauce"
          ],
          [
           "bell pepper<br>chili<br>chili sauce<br>lemon<br>rice wine<br>tomato sauce"
          ],
          [
           "chili<br>eggplant<br>fish<br>fish sauce<br>okra<br>spinach<br>string bean<br>tomato"
          ],
          [
           "bay leaf<br>beef broth<br>peppercorn<br>pork<br>pork sauce<br>soy sauce<br>vinegar"
          ],
          [
           "beef broth<br>cornstarch<br>soy sauce<br>star anise"
          ],
          [
           "egg<br>fish<br>fish sauce<br>tomato"
          ],
          [
           "beef<br>egg<br>eggplant<br>tomato"
          ],
          [
           "beef<br>cabbage<br>egg<br>egg pasta<br>star anise"
          ],
          [
           "chili sauce<br>crab<br>fish sauce<br>ginger<br>hoisin sauce<br>ketchup<br>sesame oil"
          ],
          [
           "chili<br>lemon<br>soy sauce<br>squid<br>tomato"
          ],
          [
           "paprika<br>pineapple<br>pork<br>vegetable"
          ],
          [
           "fish sauce<br>salmon<br>spinach<br>tamarind<br>tomato"
          ],
          [
           "chili<br>coconut<br>fish sauce<br>ginger<br>milk<br>pork<br>shrimp<br>taro"
          ]
         ],
         "hovertemplate": "<b>%{hovertext}</b><br><br>cluster=1<br>x=%{x}<br>y=%{y}<br>z=%{z}<br>cleaned_ingredients=%{customdata[0]}<extra></extra>",
         "hovertext": [
          "Beef Salpicao",
          "Longganisa",
          "Baby Back Ribs with Adobo Glaze",
          "Lumpiang Puso ng Saging",
          "Laing",
          "Paksiw na Pata",
          "Kung Pao Shrimp",
          "Miswa at Patola Soup",
          "Sizzling Sisig",
          "Shrimp Broccoli Stir Fry",
          "Sweet and Sour Pork",
          "Sinaing na Tulingan",
          "Crispy Tahong (Deep-Fried Mussels)",
          "Sriracha Shrimp Scampi",
          "Asian Jalapeno Chicken",
          "Korean BBQ Bulgogi",
          "Adobong Paa nang Manok (Chicken Feet Adobo)",
          "Black Pepper Chicken",
          "Adobong Puti",
          "Sweet Mango Barbecue Chicken Skewers",
          "Pork Spareribs Macao-style Asado",
          "Pork Hamonado",
          "Pork Belly Lechon Roll",
          "Crispy Fried Calamari",
          "Pata Tim",
          "Mexican Pork Adobo",
          "Pork Ribs Adobo with Atsuete",
          "Java Rice",
          "Ampalaya con Carne",
          "Pork Adobo",
          "How to Cook Easy Pork Afritada",
          "Pork Chop Steak",
          "Lechon Sinigang",
          "Filipino Spaghetti Recipe",
          "Tofu and Broccoli Stir fry",
          "Ginisang Puso ng Saging",
          "Chicken Adobo Recipe (boneless thigh)",
          "Nilagang Pata",
          "Chicken Fried Rice Recipe",
          "Fish in Coconut Milk with Pineapple",
          "Sotanghon with Sayote and Giniling",
          "Eggplant with Ground Pork in Oyster Sauce",
          "Chicken Afritada sa Gata",
          "Seafood Lomi Recipe",
          "Tofu Balls Almondigas with Misua and Patola",
          "Pork Binagoongan sa Gata",
          "Suam na Mais",
          "Amazing Cabbage Recipe",
          "Better Beef Nilaga",
          "How to Cook Sinigang na Bangus",
          "Kinamatisang Manok",
          "Fish Sinigang Recipe",
          "Ginataang Sitaw at Kalabasa with Fried Tilapia",
          "Pork Monggo with Fried Galunggong",
          "Sotanghon Guisado",
          "Balbacua Recipe",
          "No Bake Macaroni",
          "Longganisa Pasta",
          "Crispy Katsu Sando",
          "Tocino Fried Rice Recipe",
          "Luncheon Meat Caldereta",
          "The Only Filipino Spaghetti Recipe That I Trust for the Holidays",
          "Killer Crispy Sinigang",
          "Chicken Mechado",
          "Igado Recipe",
          "Sinigang",
          "Pork Afritada Recipe",
          "Bopis Recipe",
          "Utan nga Langka Recipe",
          "Chicken Gizzard Bicol Express",
          "Pork Curry Tinola",
          "Ginataang Monggo with Tofu and Malunggay",
          "Chicken Sotanghon Tinola Recipe",
          "Ginataang Hipon, Sitaw, at Kalabasa",
          "Sushi Bake",
          "Pinapaitan sa Ampalaya",
          "Beef Caldereta Recipe",
          "Garlic Butter Shrimp Pancit Canton",
          "Bulalo Recipe",
          "Baked Spaghetti",
          "Beef Mechado Recipe",
          "Pininyahang Baboy sa Gata",
          "Ginisang Sigarilyas",
          "How to Cook Dinuguan Using Sinigang Mix",
          "Pinangat na Galunggong sa Kamias",
          "Pork Caldereta Recipe",
          "Easy Utan Bisaya (Law-Uy)",
          "Ginataang Kalabasa at Sitaw",
          "Sinigang Mix Inasal na Manok",
          "Ginataang Talong with Malunggay and Tofu",
          "Air Fried Fish Sinigang sa Miso",
          "Pineapple Chicken Afritada",
          "Pork Menudo sa Gata",
          "Pata Pochero",
          "Lechon Paksiw",
          "Ginataang Alimasag with Sitaw at Kalabasa",
          "Filipino Beef Caldereta (Pulutan Style)",
          "Garlic Bihon Recipe",
          "Arroz Palabok",
          "Tipid Sarap Monggo",
          "Kinamatisang Baka",
          "Sweet Pata Asado",
          "Spare Ribs Hamonado",
          "Pesang Isda with Ginisang Miso",
          "Ginataang Puso ng Saging",
          "Bulalo Kare-Kare",
          "Chicken Hinalang (Halang-halang na Manok)",
          "Aligue Fried Rice",
          "Pork Menudo sa Gata",
          "Chicken Sotanghon Soup with Malunggay at Sayote",
          "Spareribs Kaldereta",
          "Sardines with Sotanghon and Pechay",
          "Fish Sinigang",
          "Easy Kung Pao Shrimp Recipe",
          "Easy Palabok Recipe",
          "Bulalugaw Recipe",
          "Sinigang na Hipon",
          "Chicken Mami Recipe",
          "Pork Monggo with Kangkong Recipe",
          "Pochero with Pork and Beans",
          "Ginataang Langka with Malunggay and Dilis",
          "Creamy Chicken Pastel",
          "Pork Lomi",
          "Vegetarian Pancit Canton",
          "Chicken Sotanghon Soup",
          "Beef Pares",
          "Sinigang na Baboy with Gabi",
          "Ginisang Repolyo with Chicken",
          "Adobong Pusit Recipe",
          "Pata Hamonado",
          "Laing na Gabi Recipe",
          "Ginataang Manok and Kalabasa",
          "Ginataang Langka with Pork Recipe",
          "Gising Gising Recipe",
          "Bicol Express",
          "Ginataang Gulay",
          "Spicy Pork Kaldereta Recipe",
          "Filipino Style Spaghetti Recipe",
          "Adobong Sitaw at Kangkong with Chicharon",
          "Kangkong with Squid Balls in Oyster Sauce",
          "Ginataang Lechon Kawali with Kalabasa and Long Green Beans",
          "Root Beer Pork Steak",
          "Ginisang Upo at Kalabasa - Sauteed Opo and Butternut Squash",
          "Ginataang Salmon (Salmon in Coconut Milk)",
          "Sinigang na Sugpo Recipe",
          "Filipino Fried Pork Chop Recipe with Tomato and Salted Egg",
          "Calderetang Baboy Recipe",
          "Sinigang na Bangus Recipe",
          "Bicol Express ala Bebet",
          "Beef Ribs Sinigang",
          "Ginisang Upo with Sardinas",
          "Corned Beef Sinigang",
          "Bacon and Egg Chicken Adobo",
          "Chicken Congee Recipe",
          "Ginataang Santol (Sinantolan) Recipe",
          "Bacon and Egg Chicken Adobo",
          "Dinengdeng na Saluyot with Tinapa",
          "Ginataang Manok Na May Luyang Dilaw",
          "Grilled Liempo with Fried Tofu",
          "Kilawing Tuna with Coconut Cream (Fish Ceviche)",
          "Asadong Baboy",
          "Sinigang na Salmon sa Miso",
          "Shrimp Monggo with Lechon Kawali",
          "Ginisang Monggo with Inihaw na Liempo",
          "Ginisang Pechay with Ground Pork and Shrimp (Sauteed Bok Choy)",
          "Spicy Ginataang Hipon Recipe",
          "Pork Bicol Express Recipe",
          "Pesang Baboy at Manok Recipe",
          "Dinendeng with Bilong-bilong Recipe",
          "Inihaw na Baboy",
          "Batangas Bulalo Recipe",
          "Simple Chicken Noodle Soup",
          "Shrimp Scampi with Linguine",
          "Adobong Okra with Pork Recipe",
          "How To Cook Beef Kaldereta",
          "Slow Cooked Beefsteak (Bistek Tagalog)",
          "Beef Pares Mami Noodles Recipe",
          "Pork Chop Bicol Express",
          "Crockpot Beef Pares Recipe",
          "Pork Mechado Recipe",
          "Paksiw na Lechon Manok",
          "Sinigang na Buntot ng Baboy with Gabi",
          "Misua with Patola and Meatballs",
          "Ginisang Tuna (Canned Albacore Tuna Sauteed with Onions)",
          "Boiled Okra and Eggplant with Bagoong Dipping Sauce",
          "Apan - Apan Recipe (Adobong Kangkong with Fried Pork)",
          "Grilled St. Louis Style Ribs with Ensaladang Talong and Bagoong",
          "Fried Daing na Bangus with Garlic Fried Rice, Fried Egg, and Pickled Papaya (Daing Silog)",
          "Ginisang Okra with Fish Flakes Recipe",
          "Pork Baby Back Ribs Nilaga Recipe",
          "Oven Grilled Liempo",
          "Sinabawang Isda at Gulay",
          "Pinoy Beefsteak",
          "Nilagang Litid ng Baka",
          "Chopped Tomato and Onion with Bagoong Isda",
          "Ginisang Gulay",
          "Asian BBQ Pork Baby Back Ribs",
          "Sirloin Beef Steak Tagalog",
          "Inabraw Recipe (Boiled Vegetables with Fried Fish)",
          "Spicy Chicken in Coconut Milk (Ginataang Manok)",
          "Bok Choy Guisado Recipe",
          "Asian Style Spare Ribs",
          "Teriyaki Chicken Lettuce Wrap",
          "Grilled Liempo Sisig Recipe",
          "Laing with Shrimp Recipe",
          "Grilled Pork Belly",
          "Filipino Style Spaghetti",
          "Sinigang na Hipon sa Sampaloc",
          "Pork Chop Suey Recipe",
          "Special Pinoy Pork Chop Binalot Lunch Combo Meal Recipe",
          "Monggo with Tuyo Recipe (Mung Beans with Salted Fish)",
          "Pork Sinigang sa Kamias Recipe",
          "Crab with Misua and Patola",
          "Beef in Oyster Sauce with Snow Peas",
          "Sauteed Bok Choy with Shrimp",
          "Sarciadong Daing",
          "Sinigang na Liempo sa Sampaloc",
          "Tinolang Bangus Recipe",
          "Filipino Fish Steak Recipe",
          "Italian Sausage Pasta Recipe",
          "Pancit Udon Recipe",
          "Tuyo with Rice and Tomato",
          "Instant Pancit Canton with Vegetables",
          "Easy Chicken Barbecue Recipe",
          "Rotisserie Chicken Arroz Caldo Recipe",
          "Sinigang na Liempo sa Sampaloc with Gabi",
          "Chicken Pasta Casserole",
          "Sinigang na Liempo sa Sampaloc",
          "Ginarep Recipe (Shrimp and Corn Soup)",
          "Bulalo Beef Mami",
          "Barbecued Chicken Lettuce Wrap",
          "Pancit Bato Guisado",
          "Ginataang Pusit Recipe (squid in coconut milk)",
          "Bok Choy Adobo",
          "Kilawing Puso ng Saging",
          "Hoisin Glazed Salmon",
          "Fried Bangus Sinigang sa Miso",
          "Slow Cook Pork Chop with Mushroom Gravy",
          "Scallop and Zucchini Stir fry",
          "Grilled Ribs with Pico de Gallo",
          "Grilled Calamari",
          "Tilapia with Salted Black Beans",
          "Vegetarian Pancit Sotanghon",
          "Fish Tinola Recipe",
          "Kikiam Recipe",
          "Sinigang na Tilapia sa Miso Recipe",
          "Misua with Patola and Shrimp",
          "Pata Pochero Recipe",
          "Chicken with Broccoli Recipe",
          "Misua with Ground Beef and Zucchini Soup",
          "Easy Chicken Tinola Recipe",
          "Lengua Con Setas Recipe",
          "Pineapple and Soy Sauce Pork Pot Roast",
          "Lechon Sisig Recipe",
          "Pancit Habhab Recipe",
          "Fish Ball Soup Recipe",
          "Bagoong Rice Recipe",
          "Quick and Easy Turkey Gravy Recipe",
          "Classic Roast Turkey Recipe",
          "Fettuccine Pasta with Tomato Meat Sauce",
          "Easy Guacamole Recipe",
          "Fish in Ginger Soup",
          "Baked Chicken and Vegetable Stir Fry",
          "Ginisang Sardinas Recipe (Sautéed Sardines)",
          "Kangkong and Tofu Stir Fry",
          "Rellenong Talong (Stuffed Eggplant) Recipe",
          "Kangkong with Bagoong Recipe",
          "Ginataang Hipon Recipe",
          "Shrimp Scampi Recipe",
          "Oriental Lemon Chicken Recipe",
          "Beef Stew Recipe",
          "Pancit Miki Guisado Recipe",
          "Shepherds Pie",
          "Pork Guisantes Recipe",
          "Baked Tilapia with Grilled Pineapple Salsa",
          "Paella Marinera Recipe",
          "Vegetable Stir-fry Pasta Recipe",
          "Genesee's Grilled Boneless Bangus in Pandan Leaves",
          "Beef in Oyster Sauce",
          "Spinach and Feta Pasta Recipe",
          "Pesang Isda Recipe",
          "Chicken Teriyaki Recipe",
          "Chicken Inasal Recipe",
          "Sizzling Gambas Recipe",
          "Sinigang na Panga ng Tuna Recipe (Tuna jaw cooked in sour broth)",
          "Lechon Paksiw Recipe",
          "Special Siopao Sauce Recipe",
          "Sarciadong Isda Recipe",
          "Shared Recipe: Tortang Talong with Giniling",
          "Beef Mami Recipe",
          "Chili Crab",
          "Inihaw na Pusit Recipe (Grilled Squid)",
          "Longanisa Recipe (Filipino Sausage)",
          "Sinigang na Salmon Recipe",
          "Laing Recipe"
         ],
         "legendgroup": "1",
         "marker": {
          "color": "rgb(57, 105, 172)",
          "size": 5,
          "symbol": "circle"
         },
         "mode": "markers",
         "name": "1",
         "scene": "scene",
         "showlegend": true,
         "type": "scatter3d",
         "x": [
          0.8237959146499634,
          0.814164400100708,
          0.8617804646492004,
          0.8735796809196472,
          0.9005166292190552,
          0.8163565397262573,
          0.7944715023040771,
          0.8324633836746216,
          0.8279163837432861,
          0.5956339836120605,
          0.8560595512390137,
          0.7427053451538086,
          0.8529573678970337,
          0.8135390877723694,
          0.6084964275360107,
          0.8732345700263977,
          0.8834543824195862,
          0.8844101428985596,
          0.8615433573722839,
          0.6921096444129944,
          0.8018734455108643,
          0.8826406002044678,
          0.7266312837600708,
          0.7562963962554932,
          0.7955267429351807,
          0.8504756689071655,
          0.7798291444778442,
          0.8087992668151855,
          0.8552347421646118,
          0.8117434978485107,
          0.8911333084106445,
          0.851598858833313,
          0.7703402638435364,
          0.667611300945282,
          0.8723463416099548,
          0.9079116582870483,
          0.8733837008476257,
          0.8141047358512878,
          0.8656319379806519,
          0.8240430355072021,
          0.8756734728813171,
          0.8224278688430786,
          0.6308267712593079,
          0.8215380907058716,
          0.9083117246627808,
          0.7745027542114258,
          0.9056962132453918,
          0.8656405210494995,
          0.870559811592102,
          0.7484707832336426,
          0.8917490243911743,
          0.7359984517097473,
          0.7473189830780029,
          0.8996580839157104,
          0.9273093938827515,
          0.8639082312583923,
          0.7679624557495117,
          0.691645622253418,
          0.7213761210441589,
          0.853168249130249,
          0.8640635013580322,
          0.7096659541130066,
          0.8302424550056458,
          0.8902475833892822,
          0.8327786922454834,
          0.8148727416992188,
          0.8944063186645508,
          0.8771335482597351,
          0.8672999143600464,
          0.8133536577224731,
          0.8431990742683411,
          0.7571899890899658,
          0.7641439437866211,
          0.7567421197891235,
          0.6654878258705139,
          0.8553286790847778,
          0.8665865659713745,
          0.8436200618743896,
          0.8552994728088379,
          0.6671386957168579,
          0.9023327827453613,
          0.8686730861663818,
          0.8036802411079407,
          0.8083569407463074,
          0.7996315956115723,
          0.8749324679374695,
          0.8274889588356018,
          0.8707958459854126,
          0.676520049571991,
          0.6891730427742004,
          0.7101832628250122,
          0.9126374125480652,
          0.8935388922691345,
          0.8014346957206726,
          0.8547044396400452,
          0.5648149251937866,
          0.8749402761459351,
          0.9055168032646179,
          0.8042562007904053,
          0.8181242942810059,
          0.8394103050231934,
          0.8321018815040588,
          0.8359841108322144,
          0.8745924234390259,
          0.7978015542030334,
          0.8348745703697205,
          0.848580002784729,
          0.7634171843528748,
          0.8582364320755005,
          0.8194041848182678,
          0.869050920009613,
          0.7853739261627197,
          0.8138083219528198,
          0.8813346028327942,
          0.8194634318351746,
          0.8938319683074951,
          0.7708954811096191,
          0.8485078811645508,
          0.8222225308418274,
          0.7258268594741821,
          0.6826797127723694,
          0.6770474314689636,
          0.7564292550086975,
          0.8531635999679565,
          0.8857929110527039,
          0.8422210216522217,
          0.7708947062492371,
          0.8267350196838379,
          0.8937920331954956,
          0.8809658885002136,
          0.6269441843032837,
          0.743230938911438,
          0.6089996099472046,
          0.7907702922821045,
          0.7392396926879883,
          0.7545228600502014,
          0.904532253742218,
          0.7320554256439209,
          0.8140128254890442,
          0.8091025352478027,
          0.6901437044143677,
          0.8565346598625183,
          0.8732039928436279,
          0.6581501364707947,
          0.5448948740959167,
          0.8282111883163452,
          0.818906843662262,
          0.7224403023719788,
          0.8291921615600586,
          0.7030556201934814,
          0.7879562973976135,
          0.6824186444282532,
          0.7837682962417603,
          0.8460819721221924,
          0.8612136840820312,
          0.7837682962417603,
          0.6498228311538696,
          0.7532326579093933,
          0.8167601227760315,
          0.8635879158973694,
          0.8468479514122009,
          0.6879987120628357,
          0.7806118726730347,
          0.8784306049346924,
          0.8640267848968506,
          0.8204038143157959,
          0.7696712017059326,
          0.8220887780189514,
          0.7072283029556274,
          0.819943904876709,
          0.8804175853729248,
          0.8430689573287964,
          0.8591802716255188,
          0.8179997801780701,
          0.8006895780563354,
          0.8384251594543457,
          0.8325964212417603,
          0.9017205238342285,
          0.872244656085968,
          0.8796238899230957,
          0.8135622143745422,
          0.7546948194503784,
          0.7810600399971008,
          0.7108115553855896,
          0.5020692348480225,
          0.7200275659561157,
          0.7672312259674072,
          0.7082045674324036,
          0.7962329387664795,
          0.8337084054946899,
          0.7801237106323242,
          0.7840888500213623,
          0.7811838984489441,
          0.7743050456047058,
          0.7431759238243103,
          0.825369119644165,
          0.6757533550262451,
          0.8773408532142639,
          0.614818811416626,
          0.8699243664741516,
          0.8948071599006653,
          0.8153823614120483,
          0.844814658164978,
          0.8384689688682556,
          0.858269453048706,
          0.7805972099304199,
          0.8064515590667725,
          0.7987555861473083,
          0.8877382278442383,
          0.6967567801475525,
          0.8352689743041992,
          0.765124499797821,
          0.8845127820968628,
          0.8813756704330444,
          0.8538041114807129,
          0.7894900441169739,
          0.8612200021743774,
          0.8443421125411987,
          0.834248960018158,
          0.7467302083969116,
          0.8988544940948486,
          0.6028605699539185,
          0.7291014790534973,
          0.5773622989654541,
          0.8705369234085083,
          0.8612200021743774,
          0.6961723566055298,
          0.6933624744415283,
          0.7463361620903015,
          0.8699957132339478,
          0.8633134961128235,
          0.882933497428894,
          0.8899867534637451,
          0.8533560037612915,
          0.8302076458930969,
          0.844929575920105,
          0.8588177561759949,
          0.7466355562210083,
          0.8403518199920654,
          0.8195269703865051,
          0.7917494773864746,
          0.8558375239372253,
          0.8184027671813965,
          0.8502684831619263,
          0.8320713043212891,
          0.8615180850028992,
          0.8738136291503906,
          0.8973390460014343,
          0.862259030342102,
          0.8176788091659546,
          0.836670994758606,
          0.8372337222099304,
          0.829250156879425,
          0.7989414930343628,
          0.8814990520477295,
          0.8598530292510986,
          0.7577311992645264,
          0.5448578596115112,
          0.6803743839263916,
          0.7233262658119202,
          0.6881011128425598,
          0.7909838557243347,
          0.8493431806564331,
          0.8617373704910278,
          0.8465485572814941,
          0.8466988205909729,
          0.6053455471992493,
          0.8824504613876343,
          0.8024805784225464,
          0.7850815057754517,
          0.8675206899642944,
          0.8947620391845703,
          0.8321599364280701,
          0.8271082639694214,
          0.8553483486175537,
          0.7866852879524231,
          0.6964098215103149,
          0.7069377899169922,
          0.8688271045684814,
          0.7012168765068054,
          0.8571662306785583,
          0.6884112358093262,
          0.7905060648918152,
          0.8770102262496948,
          0.6660183072090149,
          0.823519766330719,
          0.816841721534729,
          0.8742154240608215,
          0.7191542387008667,
          0.8820573091506958,
          0.841068685054779,
          0.7605786323547363,
          0.7200967073440552,
          0.7029304504394531,
          0.8311348557472229
         ],
         "y": [
          0.18567541241645813,
          0.16289648413658142,
          0.061856672167778015,
          0.2522853910923004,
          0.18112720549106598,
          0.1844348907470703,
          0.19218868017196655,
          0.20724618434906006,
          0.2284398376941681,
          0.3042174279689789,
          0.21954557299613953,
          0.23192892968654633,
          0.11657002568244934,
          0.2451036274433136,
          0.29885613918304443,
          0.22186526656150818,
          0.06746575236320496,
          0.2308770716190338,
          0.1681114137172699,
          0.19571644067764282,
          0.21270424127578735,
          0.19981254637241364,
          0.2605111002922058,
          0.1515963077545166,
          0.12778699398040771,
          0.19278544187545776,
          0.1716577559709549,
          0.13982047140598297,
          0.08852927386760712,
          0.25647106766700745,
          0.04214362055063248,
          -0.0015738699585199356,
          0.10401677340269089,
          0.26133620738983154,
          0.12484310567378998,
          0.05930295214056969,
          0.0027270354330539703,
          0.08542138338088989,
          -0.04297482222318649,
          0.21623460948467255,
          0.018652522936463356,
          -0.06356176733970642,
          0.2939196228981018,
          0.1541648805141449,
          0.07887681573629379,
          0.2098851352930069,
          0.06493785977363586,
          0.02958795055747032,
          0.10869848728179932,
          0.17917603254318237,
          0.09131717681884766,
          0.15761947631835938,
          0.06514620035886765,
          0.06563457101583481,
          -0.0006381552666425705,
          -0.047505803406238556,
          0.10021387785673141,
          0.07696262001991272,
          0.032616786658763885,
          0.08557695150375366,
          0.08998136967420578,
          0.19639429450035095,
          0.09823016822338104,
          -0.03918657824397087,
          -0.03957010805606842,
          -0.011866576969623566,
          -0.03639720007777214,
          -0.05681594833731651,
          -0.03610101714730263,
          0.0211842879652977,
          -0.08421701192855835,
          0.11527775973081589,
          0.15477237105369568,
          0.08947202563285828,
          0.0476510226726532,
          -0.05217776075005531,
          0.058651670813560486,
          0.14656567573547363,
          0.11573154479265213,
          0.08352015912532806,
          0.0072623491287231445,
          0.11549767851829529,
          -0.014126239344477654,
          -0.015585873275995255,
          -0.04989480972290039,
          0.090330109000206,
          -0.010576847940683365,
          -0.00886499136686325,
          0.09514294564723969,
          0.25948429107666016,
          0.2306850254535675,
          0.014408538118004799,
          0.04990841820836067,
          0.11062824726104736,
          -0.012321259826421738,
          0.2246847152709961,
          0.09531167894601822,
          0.1029680073261261,
          0.11135917901992798,
          0.055998239666223526,
          -0.000971723347902298,
          0.08917607367038727,
          -0.0343325212597847,
          -0.02179107628762722,
          0.05560166388750076,
          0.061819229274988174,
          -0.049750689417123795,
          0.07652631402015686,
          0.09505737572908401,
          0.1026480495929718,
          0.13005435466766357,
          0.19282478094100952,
          0.12447154521942139,
          0.016087573021650314,
          0.13260596990585327,
          0.026105187833309174,
          0.15217605233192444,
          0.12598289549350739,
          0.0867295116186142,
          0.14128555357456207,
          -0.036435242742300034,
          0.15323618054389954,
          0.14627966284751892,
          -0.06773984432220459,
          0.11611559242010117,
          -0.000055536627769470215,
          0.1402764767408371,
          0.1043049544095993,
          -0.007579293567687273,
          -0.04842374846339226,
          0.18877479434013367,
          0.22341716289520264,
          0.2577850818634033,
          0.08178664743900299,
          0.014997650869190693,
          0.12844541668891907,
          0.025551598519086838,
          0.1967625617980957,
          0.019797271117568016,
          0.14538809657096863,
          0.30262094736099243,
          -0.020911546424031258,
          0.04969021677970886,
          0.296018123626709,
          0.20616213977336884,
          0.025558851659297943,
          0.23478329181671143,
          0.18667499721050262,
          0.004462171345949173,
          0.133284330368042,
          0.18063771724700928,
          0.15659694373607635,
          0.123039610683918,
          0.05969223380088806,
          -0.03356148675084114,
          0.123039610683918,
          0.04074697196483612,
          0.17162637412548065,
          0.22775840759277344,
          0.08782196789979935,
          0.1127849668264389,
          0.3042084872722626,
          0.0694759339094162,
          0.07574044167995453,
          0.06306548416614532,
          0.2435387372970581,
          0.09937551617622375,
          0.1328287124633789,
          0.18511618673801422,
          0.0829872190952301,
          0.15770088136196136,
          0.12341079115867615,
          0.06680507212877274,
          0.2245611548423767,
          0.15658065676689148,
          0.06610309332609177,
          0.16898098587989807,
          0.009032415226101875,
          -0.05626698210835457,
          0.12822586297988892,
          0.09761044383049011,
          0.16254761815071106,
          0.11127887666225433,
          0.19057169556617737,
          0.20805948972702026,
          0.13424783945083618,
          0.15561753511428833,
          0.15411201119422913,
          0.15338391065597534,
          0.025565238669514656,
          0.1977277547121048,
          0.2170238047838211,
          0.09240971505641937,
          0.14416082203388214,
          0.12135151028633118,
          0.2054203897714615,
          0.2943020462989807,
          0.0158998966217041,
          -0.03895770385861397,
          0.10835230350494385,
          0.059163857251405716,
          0.09613144397735596,
          0.0601225346326828,
          0.1318327635526657,
          0.10660701245069504,
          0.1251513659954071,
          0.11266392469406128,
          0.16573259234428406,
          0.08672662079334259,
          0.3437710106372833,
          0.05550478398799896,
          0.05092988908290863,
          0.12452016770839691,
          0.12442738562822342,
          -0.011258034035563469,
          0.19955630600452423,
          0.04042167216539383,
          0.008131355047225952,
          0.08939897269010544,
          0.04769023880362511,
          0.09150748699903488,
          0.021291758865118027,
          0.06885088980197906,
          0.17610175907611847,
          -0.0021435152739286423,
          0.04042167216539383,
          -0.0015647243708372116,
          0.1836603283882141,
          0.18905705213546753,
          0.05507894605398178,
          0.06209470331668854,
          0.09601788222789764,
          0.07711341977119446,
          -0.016984961926937103,
          0.11701476573944092,
          0.09407687187194824,
          0.08099331706762314,
          0.010340660810470581,
          0.15605275332927704,
          -0.0030478090047836304,
          0.15491700172424316,
          0.17064690589904785,
          0.18124553561210632,
          0.0830812156200409,
          0.08530540764331818,
          0.09961491823196411,
          0.18331122398376465,
          0.1578812599182129,
          0.07929675281047821,
          0.13955265283584595,
          0.04665800556540489,
          0.06854142993688583,
          0.11777497828006744,
          0.03613364323973656,
          0.11466899514198303,
          0.11330361664295197,
          0.15980204939842224,
          -0.05241614952683449,
          0.07475478202104568,
          0.07041458040475845,
          0.15856927633285522,
          -0.04616784676909447,
          0.09634134918451309,
          0.03659546747803688,
          0.06731770932674408,
          0.10223422944545746,
          0.27485328912734985,
          0.09512252360582352,
          0.14925280213356018,
          0.1143176332116127,
          0.02677694521844387,
          0.05646052211523056,
          0.12043967097997665,
          0.1387970745563507,
          -0.01487699430435896,
          0.14598619937896729,
          0.29389074444770813,
          0.04622335731983185,
          -0.02055719867348671,
          0.12424230575561523,
          0.1002882570028305,
          0.03572481498122215,
          0.09126196801662445,
          0.015722118318080902,
          0.14190223813056946,
          0.10761934518814087,
          0.06367601454257965,
          0.060202665627002716,
          0.15695762634277344,
          0.1354939341545105,
          0.021622702479362488,
          -0.0007713399827480316,
          0.04349621385335922,
          0.22077932953834534,
          0.0011363597586750984
         ],
         "z": [
          -0.09263184666633606,
          -0.04029431194067001,
          -0.032847192138433456,
          -0.03196703642606735,
          -0.00032000034116208553,
          -0.03809615224599838,
          -0.11774880439043045,
          -0.13532908260822296,
          -0.1743287444114685,
          -0.12874764204025269,
          -0.03339911997318268,
          0.007546561770141125,
          -0.0698673278093338,
          -0.1570582389831543,
          -0.1003212183713913,
          0.005901563912630081,
          -0.12205618619918823,
          -0.015984442085027695,
          -0.09710146486759186,
          -0.2056887447834015,
          -0.12950904667377472,
          0.01648809388279915,
          -0.17897313833236694,
          -0.08470577001571655,
          -0.2009619176387787,
          -0.08997531235218048,
          -0.07408707588911057,
          0.002577146515250206,
          -0.1365208625793457,
          -0.20631791651248932,
          -0.18134352564811707,
          -0.2620670795440674,
          -0.2630707025527954,
          -0.06577439606189728,
          -0.08170067518949509,
          -0.22627614438533783,
          -0.1786501258611679,
          -0.15605106949806213,
          -0.18969067931175232,
          -0.2559041976928711,
          -0.25108203291893005,
          -0.26559069752693176,
          -0.0623248815536499,
          -0.08995861560106277,
          -0.08526495844125748,
          -0.21517851948738098,
          -0.1220054030418396,
          -0.20951135456562042,
          -0.08996391296386719,
          -0.24969196319580078,
          -0.20582696795463562,
          -0.24618473649024963,
          -0.14599640667438507,
          -0.2691969871520996,
          -0.18735316395759583,
          -0.2578314244747162,
          -0.0581466443836689,
          -0.09615828841924667,
          0.03305612877011299,
          -0.10469919443130493,
          -0.09229190647602081,
          -0.0640108585357666,
          -0.3089297115802765,
          -0.20490115880966187,
          -0.29169410467147827,
          -0.17411069571971893,
          -0.21894460916519165,
          -0.31655630469322205,
          -0.1852666437625885,
          -0.24167239665985107,
          -0.28913044929504395,
          -0.13434052467346191,
          -0.22018101811408997,
          -0.18779048323631287,
          0.03837629780173302,
          -0.3569154739379883,
          -0.13961881399154663,
          -0.15180929005146027,
          -0.19140951335430145,
          -0.09607692807912827,
          -0.23661187291145325,
          -0.1389903724193573,
          -0.25845518708229065,
          -0.3082009553909302,
          -0.26110324263572693,
          -0.1554870903491974,
          -0.15385125577449799,
          -0.20562532544136047,
          -0.09879139065742493,
          -0.18777137994766235,
          -0.28073543310165405,
          -0.20099233090877533,
          -0.22648704051971436,
          -0.09351429343223572,
          -0.2580050230026245,
          -0.09637180715799332,
          -0.16654126346111298,
          -0.15121617913246155,
          -0.09823077917098999,
          -0.17573915421962738,
          -0.20056456327438354,
          -0.1644984632730484,
          -0.18789297342300415,
          -0.23278126120567322,
          -0.2859582304954529,
          -0.05796043574810028,
          -0.25465524196624756,
          -0.19428136944770813,
          -0.13723519444465637,
          -0.11554917693138123,
          -0.19210898876190186,
          -0.22245147824287415,
          -0.26178744435310364,
          -0.1966392993927002,
          -0.018766464665532112,
          -0.27078816294670105,
          -0.2361704707145691,
          -0.1190156415104866,
          -0.24952158331871033,
          -0.08946512639522552,
          -0.1856490969657898,
          -0.04800140857696533,
          -0.07708647102117538,
          -0.23784907162189484,
          -0.2011161893606186,
          -0.22797003388404846,
          -0.16452999413013458,
          -0.10207850486040115,
          -0.1768476665019989,
          -0.22887909412384033,
          -0.11434613913297653,
          -0.12426377087831497,
          -0.05488613620400429,
          -0.17024099826812744,
          -0.040150757879018784,
          -0.19730448722839355,
          -0.16236302256584167,
          -0.05197997763752937,
          -0.32434120774269104,
          -0.18784984946250916,
          -0.01777827925980091,
          -0.2251458615064621,
          -0.1319858282804489,
          -0.04616039991378784,
          0.000960666686296463,
          -0.15660789608955383,
          -0.08291158080101013,
          0.0002827094867825508,
          -0.24327543377876282,
          0.025116724893450737,
          -0.006190522573888302,
          0.008872691541910172,
          -0.12610259652137756,
          -0.13080331683158875,
          -0.15362098813056946,
          -0.12610259652137756,
          -0.08945459872484207,
          -0.07991904020309448,
          -0.09123381972312927,
          -0.09799045324325562,
          -0.19447559118270874,
          -0.03188297152519226,
          -0.23467695713043213,
          -0.2469187080860138,
          -0.15459324419498444,
          -0.22556385397911072,
          -0.2445836216211319,
          -0.01625288650393486,
          -0.012518003582954407,
          -0.09384587407112122,
          -0.14783728122711182,
          -0.01560293324291706,
          -0.06480730324983597,
          -0.19577690958976746,
          -0.016826968640089035,
          -0.1154075562953949,
          -0.1243591457605362,
          -0.1820336878299713,
          -0.23228603601455688,
          -0.1006312221288681,
          -0.1864660382270813,
          -0.2345818281173706,
          -0.1265956163406372,
          -0.00011903722770512104,
          -0.10526279360055923,
          -0.2398841679096222,
          -0.05788329616189003,
          -0.09075568616390228,
          -0.21231164038181305,
          -0.1393536925315857,
          -0.03994543105363846,
          -0.051972225308418274,
          -0.1602141112089157,
          -0.056107841432094574,
          -0.044707171618938446,
          -0.07716719061136246,
          -0.11790795624256134,
          -0.17005003988742828,
          -0.06611575186252594,
          0.004464598372578621,
          -0.09985613822937012,
          -0.19067011773586273,
          -0.07944484800100327,
          -0.14061152935028076,
          -0.04594722017645836,
          -0.15675261616706848,
          -0.044232774525880814,
          -0.02530631236732006,
          -0.149558886885643,
          -0.03510851785540581,
          -0.1954270750284195,
          -0.003139808773994446,
          -0.15116453170776367,
          -0.05060267075896263,
          -0.1751127988100052,
          -0.011004606261849403,
          -0.21132127940654755,
          -0.1868642270565033,
          -0.19918480515480042,
          -0.012255152687430382,
          -0.13113541901111603,
          -0.19056710600852966,
          -0.01901574246585369,
          -0.20075172185897827,
          -0.215793639421463,
          -0.21132127940654755,
          0.01918802410364151,
          0.032948482781648636,
          0.0440049022436142,
          -0.019646139815449715,
          -0.08963806927204132,
          -0.13182425498962402,
          -0.10870660841464996,
          -0.1689203530550003,
          -0.08233363926410675,
          -0.01959403231739998,
          -0.182926207780838,
          0.00067170150578022,
          -0.12271355092525482,
          -0.17411793768405914,
          -0.11277468502521515,
          -0.11759752035140991,
          -0.04001621901988983,
          -0.20956754684448242,
          -0.011796608567237854,
          -0.19762903451919556,
          -0.011588232591748238,
          -0.10568597912788391,
          -0.02101653441786766,
          -0.01764022558927536,
          -0.23819750547409058,
          -0.12320894002914429,
          -0.03615744411945343,
          -0.13758891820907593,
          -0.04900048300623894,
          -0.030922172591090202,
          -0.19921967387199402,
          0.03735286742448807,
          -0.07841899991035461,
          0.03733262047171593,
          -0.13943776488304138,
          -0.330488383769989,
          -0.029090024530887604,
          -0.2484520673751831,
          -0.22021035850048065,
          -0.11990272998809814,
          -0.1893560290336609,
          -0.10299395024776459,
          -0.05376521125435829,
          -0.12446767836809158,
          -0.17472220957279205,
          -0.15668492019176483,
          0.003983689937740564,
          0.020397629588842392,
          -0.2056419551372528,
          -0.17991015315055847,
          -0.1035001128911972,
          -0.10796378552913666,
          -0.27057141065597534,
          -0.07100548595190048,
          -0.13854742050170898,
          -0.02768256701529026,
          -0.09207010269165039,
          -0.22705340385437012,
          -0.037131376564502716,
          -0.2098868191242218,
          -0.14366275072097778,
          -0.027557842433452606,
          -0.03348498418927193,
          -0.05100492760539055,
          -0.15493306517601013,
          -0.30576395988464355,
          -0.025935281068086624,
          -0.2572900056838989,
          -0.20403772592544556
         ]
        },
        {
         "customdata": [
          [
           "coconut cream<br>cornstarch<br>flour<br>jackfruit<br>mung bean<br>sago"
          ],
          [
           "coconut<br>coconut cream<br>flour<br>milk"
          ],
          [
           "coconut<br>coconut cream<br>flour<br>jackfruit<br>milk"
          ],
          [
           "baking<br>cream tartar<br>egg<br>milk"
          ],
          [
           "coconut<br>coconut cream<br>flour<br>jackfruit<br>milk"
          ],
          [
           "butter<br>cashew<br>cream<br>milk"
          ],
          [
           "baking<br>baking soda<br>egg<br>flour<br>milk<br>vanilla"
          ],
          [
           "bread crumb<br>coconut<br>cornstarch<br>egg<br>shrimp"
          ],
          [
           "baking<br>butter<br>egg<br>flour<br>vanilla"
          ],
          [
           "butter<br>egg<br>flour<br>milk<br>yeast"
          ],
          [
           "butter<br>cream<br>lime<br>milk"
          ],
          [
           "butter<br>egg<br>flour<br>vanilla"
          ],
          [
           "baking soda<br>butter<br>chocolate<br>coffee<br>milk<br>vanilla<br>vinegar"
          ],
          [
           "coconut<br>flour<br>milk<br>vanilla"
          ],
          [
           "butter<br>egg<br>flour<br>potato<br>yeast"
          ],
          [
           "butter<br>egg<br>flour<br>milk<br>mung bean<br>yeast"
          ],
          [
           "baking<br>cornstarch<br>cream tartar<br>egg<br>margarine<br>milk<br>vanilla"
          ],
          [
           "baking<br>butter<br>cheese<br>egg<br>milk<br>vanilla"
          ],
          [
           "breadcrumb<br>cornstarch<br>egg<br>flour<br>lemon<br>mango<br>vanilla"
          ],
          [
           "coconut<br>coconut cream<br>corn<br>milk<br>rice<br>vanilla"
          ],
          [
           "bread<br>butter<br>egg<br>mayonnaise<br>pork"
          ],
          [
           "butter<br>cassava<br>cheese<br>coconut cream<br>egg<br>milk"
          ],
          [
           "baking<br>banana<br>butter<br>cheese<br>coconut<br>duck egg<br>egg<br>flour<br>milk"
          ],
          [
           "baking<br>bread crumb<br>cheese<br>egg<br>flour<br>milk"
          ],
          [
           "baking soda<br>banana<br>egg<br>flour<br>vanilla"
          ],
          [
           "cream<br>egg<br>gelatin<br>milk<br>vanilla"
          ],
          [
           "bread<br>butter<br>cheese<br>egg<br>ham<br>mustard<br>turkey"
          ],
          [
           "breadcrumb<br>cinnamon<br>cornstarch<br>egg<br>mango"
          ],
          [
           "baking<br>banana<br>egg<br>flour<br>milk<br>vanilla"
          ],
          [
           "baking soda<br>chocolate<br>egg<br>flour<br>mayonnaise<br>vanilla<br>walnut"
          ],
          [
           "bread<br>bread crumb<br>egg<br>mayonnaise"
          ],
          [
           "baking<br>chocolate<br>egg<br>flour<br>vanilla"
          ],
          [
           "coconut<br>cornstarch<br>kernel corn<br>milk"
          ],
          [
           "cheese<br>coconut<br>fruit<br>mayonnaise<br>milk<br>pasta<br>pineapple<br>raisin"
          ],
          [
           "baking<br>cake flour<br>egg<br>milk<br>vanilla"
          ],
          [
           "butter<br>egg<br>milk<br>walnut"
          ],
          [
           "baking<br>baking soda<br>butter<br>buttermilk<br>egg<br>flour<br>vanilla"
          ],
          [
           "bread crumb<br>chicken<br>egg<br>flour"
          ],
          [
           "baking soda<br>banana<br>egg<br>flour<br>raisin<br>vanilla"
          ],
          [
           "chocolate<br>coconut<br>milk<br>rice"
          ],
          [
           "baking soda<br>banana<br>butter<br>cream<br>flour<br>vanilla<br>walnut"
          ],
          [
           "butter<br>coconut<br>egg<br>milk<br>vanilla"
          ],
          [
           "baking<br>cheese<br>flour<br>milk<br>vanilla"
          ],
          [
           "baking soda<br>butter<br>chocolate<br>egg<br>flour<br>milk<br>vanilla"
          ],
          [
           "butter<br>chocolate<br>flour<br>vanilla"
          ],
          [
           "apple<br>baking soda<br>cinnamon<br>egg<br>flour<br>honey<br>milk<br>vanilla<br>walnut"
          ],
          [
           "cheese<br>coconut<br>egg<br>flour<br>margarine<br>milk"
          ],
          [
           "baking soda<br>banana<br>chocolate<br>egg<br>flour"
          ],
          [
           "baking<br>butter<br>egg<br>honey"
          ],
          [
           "beef<br>breadcrumb<br>egg<br>pork"
          ],
          [
           "almond<br>baking soda<br>butter<br>chocolate<br>flour<br>vanilla"
          ],
          [
           "banana<br>ice<br>milk<br>vanilla"
          ],
          [
           "bell pepper<br>butter<br>egg<br>milk<br>pork<br>sun tomato"
          ],
          [
           "baking<br>butter<br>cheese<br>egg<br>milk<br>pandan"
          ],
          [
           "baking<br>baking soda<br>cinnamon<br>egg<br>flour<br>nutmeg"
          ],
          [
           "baking<br>butter<br>cashew<br>chocolate<br>egg<br>flour<br>vanilla"
          ],
          [
           "baking<br>butter<br>chocolate<br>egg<br>flour<br>vanilla"
          ],
          [
           "cheese<br>egg<br>milk<br>pork<br>potato<br>sausage"
          ],
          [
           "baking soda<br>banana<br>egg<br>vanilla"
          ],
          [
           "almond<br>butter<br>egg<br>flour<br>milk<br>potato<br>vanilla"
          ],
          [
           "baking soda<br>butter<br>chocolate<br>egg<br>flour<br>vanilla"
          ],
          [
           "ice<br>milk<br>vanilla<br>yogurt"
          ],
          [
           "beef<br>bread<br>butter<br>cheese<br>mayonnaise"
          ],
          [
           "baking<br>baking soda<br>butter<br>buttermilk<br>egg<br>flour"
          ],
          [
           "ice<br>milk<br>strawberry<br>vanilla<br>yogurt"
          ],
          [
           "banana<br>honey<br>ice<br>vanilla<br>yogurt"
          ],
          [
           "baking<br>egg<br>flour<br>milk"
          ],
          [
           "coconut<br>coconut cream<br>flour<br>milk"
          ],
          [
           "baking<br>baking soda<br>banana<br>butter<br>egg<br>flour<br>vanilla"
          ],
          [
           "baking soda<br>butter<br>buttermilk<br>egg<br>flour<br>kernel corn"
          ],
          [
           "baking<br>butter<br>cheese<br>cherry<br>cream<br>egg<br>flour<br>milk<br>walnut"
          ],
          [
           "baking<br>baking soda<br>butter<br>buttermilk<br>egg<br>flour<br>milk"
          ],
          [
           "coconut<br>flour<br>jackfruit<br>milk<br>vanilla<br>yam"
          ],
          [
           "cheese<br>egg<br>ketchup<br>mayonnaise"
          ],
          [
           "baking soda<br>butter<br>chocolate<br>egg<br>flour<br>milk"
          ],
          [
           "baking<br>baking soda<br>butter<br>chocolate<br>cream<br>cream cheese<br>egg<br>flour<br>vanilla"
          ],
          [
           "baking<br>butter<br>egg<br>flour<br>milk<br>sausage<br>vanilla"
          ],
          [
           "baking<br>baking soda<br>buttermilk<br>egg<br>flour<br>raisin<br>vanilla<br>vegetable oil"
          ],
          [
           "chocolate<br>egg<br>flour<br>milk<br>vanilla<br>vegetable oil<br>walnut"
          ],
          [
           "broccoli<br>butter<br>carrot<br>cheese<br>flour<br>milk<br>mushroom<br>nutmeg<br>pasta"
          ],
          [
           "banana<br>coconut<br>coconut cream<br>milk<br>rice"
          ],
          [
           "baking soda<br>butter<br>chocolate<br>egg<br>flour<br>vanilla<br>walnut"
          ],
          [
           "banana<br>chocolate<br>egg<br>vegetable oil"
          ],
          [
           "baking<br>egg<br>flour<br>vanilla"
          ],
          [
           "baking<br>egg<br>flour<br>milk<br>vegetable oil"
          ],
          [
           "baking<br>butter<br>egg<br>flour<br>milk"
          ],
          [
           "cake flour<br>cream<br>cream tartar<br>egg<br>strawberry<br>vanilla"
          ],
          [
           "baking<br>butter<br>egg<br>flour<br>milk<br>pineapple"
          ],
          [
           "baking<br>butter<br>cinnamon<br>egg<br>mango<br>raisin<br>vanilla"
          ],
          [
           "baking soda<br>butter<br>buttermilk<br>cherry<br>chocolate<br>cream<br>egg<br>flour<br>vanilla"
          ],
          [
           "apple<br>butter<br>cinnamon<br>nutmeg"
          ],
          [
           "banana<br>butter<br>cornstarch<br>cream<br>egg<br>graham cracker crumbs<br>milk<br>vanilla"
          ],
          [
           "cream<br>graham<br>mango<br>milk"
          ],
          [
           "butter<br>cheese<br>cream<br>egg<br>pasta<br>pork"
          ],
          [
           "baking soda<br>butter<br>egg<br>flour<br>vanilla"
          ],
          [
           "banana<br>coconut<br>jackfruit<br>milk<br>potato<br>rice<br>starch pearl<br>taro<br>yam"
          ],
          [
           "cream tartar<br>egg<br>milk<br>vanilla"
          ],
          [
           "coconut<br>kernel corn<br>milk<br>rice"
          ],
          [
           "baking<br>cake flour<br>cream tartar<br>egg<br>lemon<br>vegetable oil"
          ],
          [
           "baking<br>butter<br>egg<br>flour<br>honey<br>kernel corn<br>milk"
          ],
          [
           "baking<br>butter<br>cinnamon<br>egg<br>flour<br>raisin<br>vanilla"
          ],
          [
           "broccoli<br>butter<br>cheese<br>flour<br>milk"
          ],
          [
           "corn kernel<br>cornstarch<br>milk<br>peanut<br>raisin"
          ],
          [
           "baking<br>butter<br>chocolate<br>coffee<br>egg<br>flour<br>vanilla<br>walnut"
          ],
          [
           "cheese<br>cream<br>egg<br>milk<br>pasta<br>pork"
          ],
          [
           "baking<br>baking soda<br>butter<br>egg<br>flour<br>walnut"
          ],
          [
           "baking<br>butter<br>cake flour<br>cream tartar<br>egg<br>milk<br>vanilla"
          ],
          [
           "baking<br>butter<br>chocolate<br>egg<br>flour<br>vanilla"
          ],
          [
           "coconut<br>flour<br>milk<br>vanilla"
          ],
          [
           "butter<br>cheese<br>egg<br>flour<br>milk"
          ],
          [
           "baking<br>bread crumb<br>butter<br>egg<br>flour<br>milk"
          ],
          [
           "baking<br>butter<br>egg<br>fruit<br>gelatin<br>milk<br>vanilla"
          ],
          [
           "butter<br>coconut<br>egg<br>milk"
          ]
         ],
         "hovertemplate": "<b>%{hovertext}</b><br><br>cluster=5<br>x=%{x}<br>y=%{y}<br>z=%{z}<br>cleaned_ingredients=%{customdata[0]}<extra></extra>",
         "hovertext": [
          "Bibingkoy",
          "Kalamay Lansong",
          "Kalamay sa Latik",
          "Ube Mamon",
          "Ginataang Bilo Bilo",
          "Polvoron",
          "Kababayan",
          "Coconut Shrimp",
          "Uraro Cookies",
          "Monay",
          "Pastillas de Leche",
          "Lengua de Gato",
          "Moist Chocolate Cupcakes with Mocha Buttercream Frosting",
          "Espasol",
          "Sweet Potato Dinner Rolls",
          "Monggo Bread Loaf",
          "Pianono (Filipino Sponge Cake Roll)",
          "Cheese Puto",
          "Air Fried Peach Mango Pie",
          "Ginataang Mais at Malagkit (Sweet Corn and Glutinous Rice in Coconut Milk)",
          "One Pan Sandwich",
          "Cassava Cake Recipe Creamy and Cheesy Version",
          "Bibingka Recipe",
          "Cheesy Onion Rings",
          "Banana Bread Recipe",
          "No Steam Easy Flan",
          "Monte Cristo",
          "Peach Mango Nuggets",
          "Banana Fritter Recipe",
          "Mayo Brownies",
          "Fried Ham and Cheese Roll",
          "Chocolate Crinkle Cookies",
          "Maja Blanca",
          "Filipino Sweet Macaroni Salad",
          "Puto Cake",
          "How to Make Yema",
          "Buttermilk Waffles",
          "Super Tender Juicy Chicken Nuggets",
          "Moist Banana Bread with Raisins",
          "Chocolate Biko Recipe",
          "Mini Banana Cake with Walnuts for Kids",
          "Chewy Coconut Macaroons Recipe",
          "Cheese Puto Recipe",
          "Oat Bran Chocolate Chip Cookie",
          "Microwave Brownie in a Bowl",
          "Apple Cake Recipe",
          "Royal Bibingka",
          "Dark Chocolate Banana Bread",
          "How to Make Cornbread for Beginners",
          "How to Make Meatloaf",
          "Oatmeal Chocolate Chip Cookies",
          "Saging con Hielo",
          "Scrambled Eggs with Sun Dried Tomato and Bacon",
          "Buttered Puto",
          "Pumpkin Muffins",
          "Brownies Recipe",
          "How to Make Brownies",
          "Sausage and Egg Casserole with Hash Browns Recipe",
          "Gluten Free Banana Bread with Almonds Recipe",
          "Sweet Potato Casserole",
          "White Chocolate Chip Cookie",
          "Blueberry Greek Yogurt Smoothie",
          "Reuben Sandwich",
          "Delicious Whole Wheat Pancakes",
          "Strawberry Greek Yogurt Smoothie",
          "Banana Yogurt Smoothie",
          "Yummy Blueberry Pancake Recipe",
          "Kalamay hati Recipe",
          "Easy Banana Muffin",
          "Buttermilk Cornbread",
          "Pineapple Cake",
          "Buttermilk Pancakes",
          "Sapin Sapin Recipe",
          "Egg and Cheese English Muffin Sandwich",
          "Ghostly Dark Chocolate Cupcake",
          "Chocolate Cupcake with Cream Cheese Frosting",
          "Sausage and Egg Waffle Sandwich",
          "Raisin Bran Muffin Recipe",
          "Fudge Brownies",
          "Creamy Veggie Lasagna",
          "Bibingkang Malagkit Recipe",
          "Chocolate Chip Cookie Recipe",
          "Banana Chocolate Chip Muffin Recipe",
          "Jelly Roll",
          "Blueberry Muffins Recipe",
          "Cornbread Recipe",
          "Angel Food Cake with Strawberries",
          "Pineapple Upside Down Cake",
          "Fruity Prune Cake",
          "Black Forest Cupcake Recipe",
          "Apple Pie Recipe",
          "How to Make Banana Cream Pie",
          "Jean's Graham Mango Float",
          "Spaghetti Carbonara Recipe",
          "Sugar Cookie Recipe",
          "Ginataang Halo-halo Recipe (Binignit)",
          "Brazo de Mercedes",
          "Ginataang Mais Recipe",
          "Mamon Recipe",
          "Cornbread Muffin Recipe",
          "Oatmeal Cookies",
          "Cheesy Broccoli Soup Recipe",
          "Shared Recipe. Maja Blanca",
          "Brownies with Walnuts",
          "Fettuccine Alfredo Recipe",
          "Food for the Gods Recipe",
          "Vanilla Chiffon Cake",
          "Chocolate Cupcake Recipe",
          "Espasol Recipe",
          "Ensaymada Recipe",
          "Pandesal",
          "Crema de Fruta Recipe",
          "Coconut Macaroon Recipe"
         ],
         "legendgroup": "5",
         "marker": {
          "color": "rgb(242, 183, 1)",
          "size": 5,
          "symbol": "circle"
         },
         "mode": "markers",
         "name": "5",
         "scene": "scene",
         "showlegend": true,
         "type": "scatter3d",
         "x": [
          0.7565861940383911,
          0.5637261867523193,
          0.6769092082977295,
          0.6796873807907104,
          0.7408883571624756,
          0.6185736656188965,
          0.685055136680603,
          0.7918625473976135,
          0.6985721588134766,
          0.6112082600593567,
          0.6119340062141418,
          0.6971520185470581,
          0.6846312284469604,
          0.6787146925926208,
          0.7298359870910645,
          0.7193762063980103,
          0.7241964340209961,
          0.7290438413619995,
          0.7554835081100464,
          0.705077588558197,
          0.6521649956703186,
          0.6483055353164673,
          0.7769541144371033,
          0.7350510358810425,
          0.7416906952857971,
          0.6960877180099487,
          0.6691382527351379,
          0.7207237482070923,
          0.7814960479736328,
          0.7164859175682068,
          0.7147012948989868,
          0.6975932717323303,
          0.6422039270401001,
          0.6445619463920593,
          0.6919840574264526,
          0.5258966684341431,
          0.7177882194519043,
          0.6553630232810974,
          0.7353849411010742,
          0.6564049124717712,
          0.7472716569900513,
          0.7051149010658264,
          0.754407525062561,
          0.6472327709197998,
          0.7191324234008789,
          0.7077275514602661,
          0.7087071537971497,
          0.7234176397323608,
          0.7209210395812988,
          0.7537314891815186,
          0.685350775718689,
          0.636992871761322,
          0.8138511180877686,
          0.7135833501815796,
          0.7100429534912109,
          0.744316816329956,
          0.663508951663971,
          0.6774981021881104,
          0.7168138027191162,
          0.7108676433563232,
          0.6825775504112244,
          0.592411994934082,
          0.6957977414131165,
          0.6736152768135071,
          0.5680742859840393,
          0.6166722178459167,
          0.7297600507736206,
          0.6456472873687744,
          0.7330265045166016,
          0.6817161440849304,
          0.6688567399978638,
          0.648408830165863,
          0.723338782787323,
          0.7210714817047119,
          0.5678224563598633,
          0.6675862669944763,
          0.7379723787307739,
          0.7513596415519714,
          0.6897364854812622,
          0.688861608505249,
          0.6554080247879028,
          0.6813286542892456,
          0.6864943504333496,
          0.6829996705055237,
          0.7502022981643677,
          0.6951311230659485,
          0.6768054962158203,
          0.7734777331352234,
          0.7006203532218933,
          0.641234278678894,
          0.5194175243377686,
          0.676056444644928,
          0.4876781404018402,
          0.7140693068504333,
          0.733909010887146,
          0.7130053043365479,
          0.6283936500549316,
          0.6122416257858276,
          0.7081270217895508,
          0.7206859588623047,
          0.7275214791297913,
          0.7758601307868958,
          0.5853829383850098,
          0.6414379477500916,
          0.6944722533226013,
          0.6504233479499817,
          0.5074758529663086,
          0.47199293971061707,
          0.6443657875061035,
          0.7225891351699829,
          0.6668506860733032,
          0.733490526676178,
          0.65785151720047
         ],
         "y": [
          -0.05241324007511139,
          -0.1299574226140976,
          -0.10558290034532547,
          -0.05511251091957092,
          -0.05829518288373947,
          -0.14914682507514954,
          -0.393115758895874,
          -0.0377824492752552,
          -0.11688785254955292,
          -0.1945832371711731,
          -0.19072704017162323,
          -0.13893453776836395,
          -0.4382081627845764,
          -0.2869590222835541,
          -0.15898743271827698,
          -0.27086710929870605,
          -0.18294528126716614,
          -0.2106630802154541,
          -0.22209781408309937,
          -0.1884613186120987,
          -0.16745662689208984,
          -0.19379165768623352,
          -0.28978073596954346,
          -0.30073025822639465,
          -0.39704304933547974,
          -0.21942980587482452,
          -0.1307695508003235,
          -0.2179347574710846,
          -0.390664279460907,
          -0.42468130588531494,
          -0.18048538267612457,
          -0.4054822027683258,
          -0.2075771689414978,
          -0.15297013521194458,
          -0.4019063711166382,
          -0.16931851208209991,
          -0.3834594488143921,
          -0.1460459679365158,
          -0.3815411925315857,
          -0.20364639163017273,
          -0.2956801652908325,
          -0.22349359095096588,
          -0.3421350121498108,
          -0.4469444453716278,
          -0.29202035069465637,
          -0.43780648708343506,
          -0.20901396870613098,
          -0.3717687129974365,
          -0.24792665243148804,
          -0.17292198538780212,
          -0.2848656177520752,
          -0.26914718747138977,
          -0.2318626493215561,
          -0.2160002440214157,
          -0.42660337686538696,
          -0.3583662509918213,
          -0.3722473680973053,
          -0.15757688879966736,
          -0.3098054826259613,
          -0.3743700385093689,
          -0.3951377272605896,
          -0.19309988617897034,
          -0.12926135957241058,
          -0.47871237993240356,
          -0.2033201903104782,
          -0.1361810266971588,
          -0.3466840982437134,
          -0.12373141199350357,
          -0.3299214839935303,
          -0.32227352261543274,
          -0.3765373229980469,
          -0.3921327292919159,
          -0.06569872051477432,
          -0.1925799548625946,
          -0.26708295941352844,
          -0.3646458387374878,
          -0.3198346793651581,
          -0.3603123724460602,
          -0.4081987738609314,
          -0.18281985819339752,
          -0.24278922379016876,
          -0.4417513906955719,
          -0.13042794167995453,
          -0.33511626720428467,
          -0.3986954391002655,
          -0.3768726587295532,
          -0.1936528980731964,
          -0.2544974684715271,
          -0.3319832682609558,
          -0.054233431816101074,
          -0.30473339557647705,
          -0.352274626493454,
          -0.15912480652332306,
          -0.13617241382598877,
          -0.4044940769672394,
          -0.12507013976573944,
          -0.30457812547683716,
          -0.10377290844917297,
          -0.3444426357746124,
          -0.4098574221134186,
          -0.4145178198814392,
          -0.21482916176319122,
          -0.17214888334274292,
          -0.40668049454689026,
          -0.10601607710123062,
          -0.4275929927825928,
          -0.193985715508461,
          -0.09042320400476456,
          -0.1892833560705185,
          -0.2256864607334137,
          -0.3873288035392761,
          -0.2925735414028168,
          -0.260053813457489
         ],
         "z": [
          0.32476621866226196,
          0.4700596332550049,
          0.41244572401046753,
          0.4152824878692627,
          0.37595584988594055,
          0.4824587404727936,
          0.3997270464897156,
          0.3750794529914856,
          0.4361538290977478,
          0.332069456577301,
          0.37495607137680054,
          0.40829765796661377,
          0.30939796566963196,
          0.3275003433227539,
          0.3608628213405609,
          0.36973655223846436,
          0.3854573369026184,
          0.4446145296096802,
          0.32222750782966614,
          0.2793489694595337,
          0.2178800404071808,
          0.41596657037734985,
          0.3776729702949524,
          0.33458518981933594,
          0.32263481616973877,
          0.4317975640296936,
          0.22243036329746246,
          0.3687525689601898,
          0.325589120388031,
          0.36738282442092896,
          0.24638240039348602,
          0.41897648572921753,
          0.4556262791156769,
          0.2401290237903595,
          0.3988877534866333,
          0.4455772638320923,
          0.41969338059425354,
          0.2880110740661621,
          0.3956910967826843,
          0.25003334879875183,
          0.35573306679725647,
          0.2406419813632965,
          0.4218387305736542,
          0.4768252372741699,
          0.35181862115859985,
          0.32320302724838257,
          0.47598370909690857,
          0.39452672004699707,
          0.4062645137310028,
          0.36712419986724854,
          0.48232579231262207,
          0.27150532603263855,
          0.29575908184051514,
          0.3162502646446228,
          0.3178441524505615,
          0.39870357513427734,
          0.3285822868347168,
          0.23686759173870087,
          0.40321773290634155,
          0.4494541883468628,
          0.4638621211051941,
          0.45681482553482056,
          0.27539512515068054,
          0.33385220170021057,
          0.43376588821411133,
          0.32328879833221436,
          0.4073619842529297,
          0.342460572719574,
          0.400409996509552,
          0.4190056324005127,
          0.48834216594696045,
          0.4384934902191162,
          0.35598206520080566,
          0.2437542825937271,
          0.44369596242904663,
          0.434628427028656,
          0.3945845663547516,
          0.3654000461101532,
          0.46091610193252563,
          0.2913283109664917,
          0.3353624939918518,
          0.4450528621673584,
          0.45064565539360046,
          0.4917370080947876,
          0.3387589752674103,
          0.449678897857666,
          0.4236674904823303,
          0.41170987486839294,
          0.32354825735092163,
          0.3672158718109131,
          0.39859044551849365,
          0.48816463351249695,
          0.4201352894306183,
          0.24413686990737915,
          0.38106077909469604,
          0.24154311418533325,
          0.5023127794265747,
          0.43834882974624634,
          0.34133297204971313,
          0.3447481393814087,
          0.3738565146923065,
          0.3290055990219116,
          0.5259271264076233,
          0.47349438071250916,
          0.23834997415542603,
          0.43861234188079834,
          0.4296126067638397,
          0.4226624369621277,
          0.37764349579811096,
          0.4280024766921997,
          0.39571821689605713,
          0.41599979996681213,
          0.44760000705718994
         ]
        },
        {
         "customdata": [
          [
           "coconut<br>cornstarch<br>cream<br>egg<br>flour<br>lemon<br>milk"
          ],
          [
           "baking<br>banana<br>butter<br>egg<br>pandan"
          ],
          [
           "baking soda<br>cinnamon<br>egg<br>lemon<br>mango<br>raisin"
          ],
          [
           "beef<br>ginger<br>sesame oil<br>sesame seed<br>soy sauce<br>vegetable oil"
          ],
          [
           "flour<br>peanut<br>vanilla<br>yam"
          ],
          [
           "cornstarch<br>egg<br>milk<br>paprika<br>sauce<br>shrimp"
          ],
          [
           "chicken<br>chicken broth<br>chili<br>cornstarch<br>sesame oil<br>sesame seed<br>soy sauce<br>vinegar"
          ],
          [
           "apple vinegar<br>carrot<br>mayonnaise<br>milk<br>pasta"
          ],
          [
           "baking soda<br>butter<br>cream<br>egg<br>lemon<br>vegetable oil"
          ],
          [
           "chicken<br>chicken broth<br>cinnamon<br>ginger<br>rice wine<br>soy sauce<br>star anise"
          ],
          [
           "avocado<br>cucumber<br>rice<br>sesame oil<br>tomato<br>vinegar"
          ],
          [
           "baking<br>chicken<br>cornstarch<br>lemon<br>soy sauce"
          ],
          [
           "cornstarch<br>egg<br>honey<br>mayonnaise<br>milk<br>peanut<br>shrimp<br>walnut"
          ],
          [
           "carrot<br>fish<br>lemon<br>oyster sauce<br>pea<br>raisin<br>soy sauce"
          ],
          [
           "bell pepper<br>cornstarch<br>pineapple<br>vinegar"
          ],
          [
           "fish sauce<br>ginger<br>mussel<br>spinach<br>tomato"
          ],
          [
           "butter<br>carrot<br>chicken<br>corn kernel<br>cream<br>cream mushroom<br>pea<br>tofu"
          ],
          [
           "baking<br>butter<br>chicken<br>cornstarch<br>cream mushroom<br>egg<br>flour"
          ],
          [
           "butter<br>cheese<br>cream<br>cream mushroom<br>mushroom<br>parsley<br>pasta"
          ],
          [
           "baking<br>butter<br>chicken<br>cornstarch<br>egg<br>flour<br>tofu"
          ],
          [
           "bell pepper<br>breadcrumb<br>butter<br>chicken<br>corn<br>cream<br>egg<br>flour"
          ],
          [
           "baking<br>chicken<br>egg<br>flour<br>milk"
          ],
          [
           "baking<br>beef<br>beef broth<br>butter<br>flour<br>ice<br>paprika<br>pea<br>raisin"
          ],
          [
           "butter<br>carrot<br>chicken<br>corn kernel<br>cream mushroom soup<br>pasta"
          ],
          [
           "butter<br>cheese<br>cream mushroom soup<br>flour<br>mushroom<br>pasta<br>pork"
          ],
          [
           "butter<br>carrot<br>chicken<br>corn kernel<br>cream<br>cream mushroom soup<br>egg<br>jicama<br>pea"
          ],
          [
           "bread<br>cheese<br>cream cheese<br>mayonnaise"
          ],
          [
           "bay leaf<br>butter<br>chicken<br>cornstarch<br>egg<br>lemon lime soda<br>soy sauce<br>vinegar<br>yogurt"
          ],
          [
           "butter<br>carrot<br>cream mushroom soup<br>egg<br>kernel corn<br>string bean"
          ],
          [
           "breadcrumb<br>cabbage<br>carrot<br>egg<br>flour<br>ice<br>pork<br>sesame oil<br>soy sauce"
          ],
          [
           "beef<br>cheese<br>pasta sauce<br>tomato"
          ],
          [
           "beef<br>beef broth<br>butter<br>flour<br>mushroom<br>parsley<br>soy sauce"
          ],
          [
           "bell pepper<br>egg<br>ham<br>pea<br>pineapple<br>rice"
          ],
          [
           "breadcrumb<br>egg<br>flour<br>ham<br>ketchup<br>oyster sauce<br>soy sauce"
          ],
          [
           "baking<br>beer<br>cheese<br>flour<br>ham<br>pineapple"
          ],
          [
           "beef<br>butter<br>carrot<br>kernel corn<br>pea"
          ],
          [
           "beef<br>bread crumb<br>cheese<br>egg<br>flour"
          ],
          [
           "bell pepper<br>carrot<br>chicken<br>cream<br>mayonnaise<br>pasta<br>pea<br>pickle<br>pineapple"
          ],
          [
           "butter<br>chicken<br>cornstarch<br>egg<br>flour<br>honey<br>lemon<br>mayonnaise"
          ],
          [
           "bell pepper<br>butter<br>cheese<br>cream mushroom<br>parsley<br>pasta<br>pork"
          ],
          [
           "bread crumb<br>egg<br>flour<br>pork"
          ],
          [
           "breadcrumb<br>buttermilk<br>carrot<br>chicken<br>potato<br>sauce"
          ],
          [
           "bell pepper<br>carrot<br>cheese<br>chicken<br>mayonnaise<br>pasta<br>pickle<br>pineapple<br>raisin"
          ],
          [
           "beef<br>beef hotdog<br>bread<br>cheese<br>ketchup<br>mayonnaise<br>pork<br>sausage"
          ],
          [
           "bread<br>bread crumb<br>chicken<br>dijon mustard<br>mayonnaise"
          ],
          [
           "beef<br>beef hotdog<br>bread crumb<br>egg<br>pickle<br>pineapple<br>pork<br>raisin<br>tomato sauce"
          ],
          [
           "carrot<br>celery<br>cheese<br>chicken<br>mayonnaise<br>parsley<br>pasta<br>pickle<br>pineapple"
          ],
          [
           "beef<br>butter<br>cheese<br>cream<br>mushroom<br>paprika<br>pasta"
          ],
          [
           "bean<br>bell pepper<br>broccoli<br>carrot<br>cheese<br>cream<br>lemon<br>mayonnaise<br>salmon"
          ],
          [
           "cornstarch<br>fish<br>flour<br>parsley<br>rice"
          ],
          [
           "bread<br>cheese<br>cream<br>lettuce<br>mayonnaise<br>pork<br>shrimp<br>tomato<br>turkey"
          ],
          [
           "cabbage<br>carrot<br>chicken<br>cornstarch<br>egg<br>oyster sauce<br>pasta<br>pork<br>soy sauce"
          ],
          [
           "beef<br>bell pepper<br>cheese<br>cream<br>ketchup<br>pasta<br>tomato sauce"
          ],
          [
           "beef<br>bell pepper<br>butter<br>cheese<br>flour<br>milk<br>paprika<br>pasta<br>tomato"
          ],
          [
           "chicken<br>ketchup<br>lemon<br>soy sauce"
          ],
          [
           "carrot<br>cheese<br>chicken<br>mayonnaise<br>pasta<br>pickle<br>pineapple"
          ],
          [
           "baking<br>cornstarch<br>flour<br>hoisin sauce<br>oyster sauce<br>pork<br>soy sauce<br>yeast"
          ],
          [
           "annatto<br>bagoong<br>banana blossom<br>cabbage<br>eggplant<br>peanut<br>pork<br>rice<br>string bean"
          ],
          [
           "bell pepper<br>carrot<br>cheese<br>chicken<br>mayonnaise<br>pasta<br>pineapple<br>raisin<br>relish"
          ],
          [
           "chili<br>coconut<br>coconut cream<br>ginger<br>milk<br>pork<br>serrano pepper<br>shrimp"
          ],
          [
           "beef<br>breadcrumb<br>butter<br>egg<br>flour<br>mushroom<br>parsley"
          ],
          [
           "breadcrumb<br>chili<br>egg<br>eggplant<br>flour<br>ketchup<br>mayonnaise"
          ],
          [
           "beef<br>butter<br>cream<br>egg pasta<br>flour<br>mushroom"
          ],
          [
           "chicken<br>cornstarch<br>egg<br>flour<br>ketchup<br>soy sauce<br>vinegar"
          ],
          [
           "baking<br>chicken<br>chili<br>cornstarch<br>egg<br>flour<br>ice<br>rosemary"
          ],
          [
           "beef<br>cabbage<br>carrot<br>celery<br>egg<br>miki pasta<br>mung bean<br>pork<br>soy sauce"
          ],
          [
           "cheese<br>egg<br>pasta<br>pork"
          ],
          [
           "banana blossom<br>bean<br>pork<br>soy sauce<br>vinegar"
          ],
          [
           "beef<br>butter<br>cheese<br>chili<br>cumin<br>flour<br>milk<br>serrano pepper<br>tomato"
          ],
          [
           "butter<br>cheese<br>cream<br>fish<br>linguine<br>milk<br>parsley"
          ],
          [
           "beef<br>carrot<br>cornstarch<br>egg<br>flour<br>pasta<br>soy sauce"
          ],
          [
           "breadcrumb<br>cabbage<br>cornstarch<br>egg<br>fish tomato sauce<br>vinegar"
          ],
          [
           "egg<br>flour<br>lime<br>patis<br>pork"
          ],
          [
           "bread crumb<br>chicken wing<br>egg<br>flour"
          ],
          [
           "butter<br>cheese<br>chicken<br>flour<br>milk<br>mushroom"
          ],
          [
           "basil<br>cheese<br>fish<br>pasta"
          ],
          [
           "bread crumb<br>butter<br>egg<br>flour<br>mushroom<br>pork"
          ],
          [
           "beef<br>beef broth<br>butter<br>cream<br>cream mushroom soup<br>flour<br>mushroom"
          ],
          [
           "breadcrumb<br>carrot<br>chicken<br>egg<br>mayonnaise<br>pickle<br>pork<br>raisin"
          ],
          [
           "butter<br>cheese<br>flour<br>hotdog<br>milk<br>pasta<br>pork<br>tomato sauce"
          ],
          [
           "butter<br>cheese<br>chicken<br>cream<br>parsley<br>pasta"
          ],
          [
           "beef<br>bell pepper<br>butter<br>cheese<br>flour<br>milk<br>pasta<br>pork<br>tomato sauce"
          ],
          [
           "cheese<br>chicken<br>egg<br>mayonnaise<br>parsley<br>pasta<br>pineapple<br>raisin"
          ],
          [
           "bell pepper<br>carrot<br>egg<br>ginger<br>mayonnaise<br>relish<br>scallion"
          ],
          [
           "chicken<br>egg<br>flour<br>lemon lime soda"
          ],
          [
           "beef<br>breadcrumb<br>egg<br>squash"
          ],
          [
           "baking<br>cornstarch<br>egg<br>mung bean"
          ],
          [
           "bread crumb<br>egg<br>eggplant<br>flour<br>ketchup<br>mayonnaise<br>pork"
          ],
          [
           "bell pepper<br>carrot<br>cornstarch<br>flour<br>ketchup<br>pork<br>soy sauce<br>vinegar"
          ],
          [
           "basil<br>broccoli<br>butter<br>cheese<br>chicken<br>cream<br>flour<br>milk<br>pasta"
          ],
          [
           "bread crumb<br>buttermilk<br>chicken<br>lemon"
          ],
          [
           "anchovy<br>mung bean<br>patis<br>spinach<br>tomato"
          ],
          [
           "butter<br>carrot<br>cream<br>cream mushroom<br>egg<br>pea<br>singkama"
          ],
          [
           "carrot<br>mayonnaise<br>parsley<br>pineapple<br>potato"
          ],
          [
           "bell pepper<br>bread crumb<br>carrot<br>cheese<br>egg<br>pickle<br>pork<br>raisin"
          ],
          [
           "beef<br>cheese<br>cream<br>nutmeg<br>pasta<br>pork"
          ],
          [
           "annatto<br>bagoong<br>banana blossom<br>bean<br>beef<br>cabbage<br>cornstarch<br>eggplant<br>peanut butter"
          ],
          [
           "celery<br>egg<br>mayonnaise<br>pea<br>pork"
          ],
          [
           "bell pepper<br>butter<br>chicken<br>chili<br>flour<br>milk<br>mushroom"
          ],
          [
           "bean<br>beef<br>beef broth<br>butternut squash<br>cabbage<br>fish sauce<br>peppercorn"
          ],
          [
           "cheese<br>dijon mustard<br>egg<br>mayonnaise<br>pork<br>scallion"
          ],
          [
           "bell pepper<br>carrot<br>celery<br>mayonnaise<br>mustard<br>pasta"
          ],
          [
           "butter<br>chili<br>mayonnaise<br>pork<br>scallion<br>soy sauce"
          ],
          [
           "bread crumb<br>butter<br>cheese<br>chicken<br>cream<br>dijon mustard<br>egg<br>ham"
          ],
          [
           "celery<br>cheese<br>fish<br>mayonnaise<br>pasta<br>pickle"
          ],
          [
           "egg<br>flour<br>pasta<br>patis<br>patola<br>pork<br>scallion"
          ],
          [
           "bay leaf<br>beef<br>beef broth<br>bell pepper<br>lemon<br>potato<br>soy sauce<br>tomato<br>tomato sauce"
          ],
          [
           "carrot<br>cheese<br>chicken<br>mayonnaise<br>pasta<br>pineapple<br>raisin"
          ],
          [
           "chicken<br>egg<br>flour<br>paprika"
          ],
          [
           "beef<br>breadcrumb<br>cornstarch<br>egg<br>flour<br>ginger<br>honey<br>soy sauce"
          ],
          [
           "carrot<br>egg<br>pork<br>scallion<br>sesame oil"
          ],
          [
           "chicken broth<br>fish sauce<br>pasta<br>pork<br>shrimp<br>squash"
          ],
          [
           "bean<br>mustard<br>pork<br>tomato sauce<br>vinegar"
          ],
          [
           "banana<br>beef<br>cabbage<br>patis<br>peppercorn<br>potato"
          ],
          [
           "cabbage<br>chicken<br>chicken broth<br>fish sauce<br>peppercorn"
          ],
          [
           "beef<br>bell pepper<br>cheese<br>parsley<br>pork"
          ],
          [
           "beef broth<br>butter<br>oxtail<br>potato<br>thyme<br>tomato<br>wine"
          ],
          [
           "butter<br>cream<br>lemon<br>lobster"
          ],
          [
           "bell pepper<br>egg<br>fish<br>flour<br>tomato<br>vegetable broth"
          ],
          [
           "carrot<br>cheese<br>chicken<br>egg<br>mayonnaise<br>pasta<br>pineapple<br>raisin<br>relish"
          ],
          [
           "bay leaf<br>dijon mustard<br>ham<br>honey<br>ice<br>pineapple"
          ],
          [
           "beef<br>cabbage<br>corn<br>fish sauce<br>peppercorn<br>potato"
          ],
          [
           "cabbage<br>carrot<br>fish sauce<br>paprika<br>parsley<br>pasta<br>sausage<br>scallion<br>shrimp"
          ],
          [
           "baking<br>butter<br>cheese<br>coconut cream<br>egg<br>rice"
          ],
          [
           "beef broth<br>bell pepper<br>chili<br>goat<br>pea<br>peanut butter<br>tomato<br>tomato sauce"
          ],
          [
           "annatto<br>banana blossom<br>beef rib<br>cabbage<br>flour<br>peanut<br>shrimp<br>snake bean"
          ],
          [
           "chicken<br>coconut<br>ginger<br>pea<br>potato"
          ],
          [
           "bay leaf<br>beef broth<br>bell pepper<br>carrot<br>pork<br>potato<br>tomato sauce"
          ],
          [
           "beef<br>beef broth<br>cabbage<br>parsley<br>potato"
          ],
          [
           "bell pepper<br>cornstarch<br>ketchup<br>pineapple<br>vinegar"
          ],
          [
           "banana<br>cabbage<br>fish sauce<br>peppercorn<br>pork<br>potato"
          ],
          [
           "egg<br>fish<br>fish sauce<br>scallion<br>tomato"
          ],
          [
           "cabbage<br>carrot<br>chicken<br>cornstarch<br>egg<br>miki pasta<br>scallion"
          ],
          [
           "chicken<br>egg<br>fish sauce<br>malunggay<br>miki pasta<br>papaya"
          ],
          [
           "chicken<br>coconut<br>lemongrass<br>plum tomato<br>potato<br>scallion"
          ],
          [
           "bell pepper<br>bread crumb<br>cheese<br>chicken<br>egg<br>raisin<br>relish<br>vegetable oil"
          ],
          [
           "bay leaf<br>beef<br>flour<br>mushroom<br>soy sauce<br>tomato<br>vinegar<br>wine"
          ],
          [
           "beef<br>beef broth<br>butter<br>cheese<br>cream<br>egg<br>mushroom<br>pasta<br>pork"
          ],
          [
           "baking<br>beer<br>chili<br>egg<br>flour"
          ],
          [
           "beef<br>bell pepper<br>butter<br>cheese<br>flour<br>milk<br>tomato sauce"
          ],
          [
           "basil<br>bread<br>butter<br>cheese<br>grape tomato<br>pork"
          ],
          [
           "bell pepper<br>breadcrumb<br>carrot<br>cheese<br>egg<br>pickle<br>pork<br>raisin"
          ],
          [
           "eggplant<br>fish sauce<br>okra<br>pork<br>snake bean<br>spinach<br>tomato"
          ],
          [
           "bay leaf<br>bell pepper<br>carrot<br>chicken<br>potato<br>tomato sauce"
          ],
          [
           "carrot<br>cheese<br>chicken<br>mayonnaise<br>pea<br>potato<br>relish"
          ],
          [
           "beef<br>cheese<br>hotdog<br>ketchup<br>pasta<br>pork<br>tomato sauce"
          ],
          [
           "carrot<br>pork<br>potato<br>raisin<br>tomato sauce"
          ],
          [
           "cornstarch<br>fish<br>flour<br>wine"
          ],
          [
           "beef<br>beef broth<br>egg<br>rice"
          ],
          [
           "bay leaf<br>carrot<br>chicken<br>chicken broth<br>potato<br>tomato"
          ],
          [
           "annatto<br>beef<br>beef broth<br>cabbage<br>eggplant<br>fish sauce<br>peanut<br>rice<br>string bean"
          ],
          [
           "ketchup<br>lime<br>scallion<br>soy sauce<br>squid"
          ],
          [
           "fish<br>fish sauce<br>miso<br>mustard<br>okra<br>plum tomato<br>radish"
          ],
          [
           "basil<br>cheese<br>grape tomato<br>pasta<br>sun tomato"
          ],
          [
           "cornstarch<br>egg<br>flour<br>pork"
          ],
          [
           "bell pepper<br>bread crumb<br>cheese<br>egg<br>pea<br>pickle<br>pineapple<br>pork<br>raisin"
          ],
          [
           "coconut<br>corn<br>milk<br>mung bean<br>rice<br>vanilla"
          ],
          [
           "fish<br>miso<br>mustard<br>okra<br>radish<br>tamarind<br>tomato"
          ],
          [
           "butter<br>cheese<br>cream<br>pasta<br>shrimp"
          ],
          [
           "bay leaf<br>beef<br>peppercorn<br>pineapple<br>pork<br>soy sauce<br>vinegar"
          ],
          [
           "butter<br>egg<br>pea<br>rice<br>soy sauce"
          ],
          [
           "cabbage<br>egg<br>mung bean<br>tofu<br>tomato"
          ],
          [
           "butter<br>carrot<br>celery<br>chicken broth<br>ham<br>milk<br>turkey"
          ],
          [
           "bell pepper<br>butter<br>cheese<br>cream<br>egg<br>mushroom<br>pork<br>potato"
          ],
          [
           "cabbage<br>carrot<br>chicken<br>chicken broth<br>fish sauce<br>miki pasta<br>pork"
          ],
          [
           "beer<br>butter<br>cilantro<br>shrimp"
          ],
          [
           "breadcrumb<br>egg<br>flour<br>pork<br>potato"
          ],
          [
           "beef broth<br>butter<br>cheese<br>sauce<br>sausage"
          ],
          [
           "butter<br>cheese<br>chicken<br>cream<br>potato"
          ],
          [
           "chili<br>cilantro<br>egg<br>flour tortilla<br>soy sauce"
          ],
          [
           "bread crumb<br>oregano<br>paprika<br>potato"
          ],
          [
           "bell pepper<br>cornstarch<br>ketchup<br>pineapple<br>vinegar"
          ],
          [
           "bell pepper<br>carrot<br>pork<br>tomato sauce"
          ],
          [
           "egg<br>mayonnaise<br>mustard<br>pickle"
          ],
          [
           "apple<br>cinnamon<br>honey<br>lemon"
          ],
          [
           "chili<br>coconut<br>fish<br>ginger<br>milk<br>shrimp"
          ],
          [
           "cabbage<br>fish sauce<br>peppercorn<br>pork<br>potato<br>squash"
          ],
          [
           "bean<br>beef broth<br>peppercorn<br>sausage<br>tomato sauce"
          ],
          [
           "bell pepper<br>carrot<br>chicken broth<br>egg pasta<br>mushroom<br>oyster sauce<br>soy sauce<br>spinach"
          ],
          [
           "beef broth<br>pea<br>pork<br>tomato sauce"
          ],
          [
           "breadcrumb<br>carrot<br>egg<br>pork"
          ],
          [
           "cabbage<br>carrot<br>chicken broth<br>egg<br>flour<br>miki pasta<br>pork<br>sausage<br>scallion"
          ],
          [
           "annatto<br>beef broth<br>cabbage<br>egg<br>fish<br>flour<br>pork<br>scallion<br>shrimp"
          ],
          [
           "dijon mustard<br>dill<br>egg<br>mayonnaise<br>paprika"
          ],
          [
           "butternut squash<br>coconut<br>coconut cream<br>crab<br>fish sauce<br>ginger<br>malunggay<br>shrimp"
          ],
          [
           "beef broth<br>carrot<br>egg<br>flour<br>pickle<br>sausage<br>soy sauce"
          ],
          [
           "butter<br>carrot<br>pea<br>rice<br>shrimp"
          ],
          [
           "banana<br>bean<br>beef<br>cabbage<br>fish sauce<br>peppercorn<br>potato"
          ],
          [
           "bay leaf<br>beef<br>bell pepper<br>carrot<br>pork<br>potato<br>tomato sauce"
          ],
          [
           "beef<br>breadcrumb<br>butter<br>flour<br>mushroom<br>mustard"
          ],
          [
           "bread crumb<br>chicken<br>cornstarch<br>egg<br>sherry wine<br>soy sauce"
          ],
          [
           "chicken broth<br>ginger<br>kernel corn<br>malunggay<br>mussel"
          ],
          [
           "bread crumb<br>chicken<br>egg<br>lumpia wrapper"
          ],
          [
           "cheese<br>egg<br>mussel<br>parsley<br>pork"
          ],
          [
           "bell pepper<br>bread crumb<br>carrot<br>cheese<br>chicken<br>egg<br>pickle<br>raisin<br>tomato sauce"
          ],
          [
           "banana<br>beef broth<br>cabbage<br>fish sauce<br>peppercorn<br>pork<br>potato"
          ],
          [
           "beef broth<br>carrot<br>egg<br>pea<br>pork<br>raisin<br>tomato sauce"
          ],
          [
           "celery<br>cream<br>mayonnaise<br>mustard<br>parsley<br>pasta<br>relish"
          ],
          [
           "buttermilk<br>chili<br>fish sauce<br>ginger<br>goat<br>tamarind"
          ],
          [
           "chili<br>coconut<br>coconut cream<br>ginger<br>milk<br>pork<br>shrimp<br>taro"
          ],
          [
           "bell pepper<br>chicken<br>chicken broth<br>pea<br>tomato"
          ],
          [
           "butter<br>egg<br>lemon<br>pork"
          ],
          [
           "chicken<br>cornstarch<br>fish sauce<br>flour"
          ],
          [
           "beef<br>beef broth<br>parsley<br>potato"
          ],
          [
           "black bean<br>chicken<br>cornstarch<br>ginger<br>mushroom<br>oyster sauce<br>sherry wine<br>tofu"
          ],
          [
           "broccoli<br>cashew<br>cheese<br>mayonnaise<br>pork<br>vinegar"
          ],
          [
           "cheese<br>egg<br>milk<br>pork"
          ],
          [
           "lettuce<br>mayonnaise<br>sesame oil<br>tomato"
          ],
          [
           "bread crumb<br>lemon<br>mussel<br>parsley<br>plum tomato<br>tomato"
          ],
          [
           "chicken<br>egg<br>mirin<br>rice<br>sesame seed<br>soy sauce"
          ],
          [
           "bread crumb<br>carrot<br>egg<br>paprika<br>pork"
          ],
          [
           "carrot<br>cheese<br>egg<br>pickle<br>raisin<br>tomato sauce<br>turkey"
          ],
          [
           "butter<br>chicken<br>egg<br>pea<br>rice"
          ],
          [
           "bell pepper<br>carrot<br>cornstarch<br>fish<br>flour<br>ketchup<br>rice<br>soy sauce<br>vinegar"
          ],
          [
           "cheese<br>pasta<br>pasta sauce<br>pork<br>tomato"
          ],
          [
           "bread crumb<br>cheese<br>chicken<br>egg<br>milk<br>tomato sauce"
          ],
          [
           "bread<br>chili<br>wine vinegar<br>yogurt"
          ],
          [
           "beef<br>butter<br>cheese<br>cream<br>pasta<br>scallion<br>tomato sauce"
          ],
          [
           "beef<br>bread<br>cucumber<br>lettuce<br>mayonnaise<br>rosemary<br>tomato"
          ],
          [
           "bell pepper<br>cheese<br>egg<br>scallion<br>tomato"
          ],
          [
           "bread crumb<br>cheese<br>fish<br>lemon<br>parsley"
          ],
          [
           "bottle gourd<br>egg<br>shrimp<br>wonton wrapper"
          ],
          [
           "bell pepper<br>breadcrumb<br>cheese<br>egg<br>flour<br>oregano<br>tomato sauce"
          ],
          [
           "basil<br>cheese<br>chicken<br>cream<br>egg<br>lemon<br>parsley<br>pasta<br>pork"
          ],
          [
           "carrot<br>chicken<br>egg<br>mushroom<br>sesame oil<br>shrimp<br>wonton wrapper"
          ],
          [
           "bread crumb<br>buttermilk<br>egg<br>flour<br>pork"
          ],
          [
           "celery<br>dijon mustard<br>dill<br>egg<br>mayonnaise"
          ],
          [
           "avocado<br>bread<br>dijon mustard<br>lettuce<br>mayonnaise<br>pork<br>tomato"
          ],
          [
           "beef<br>bread<br>cheese<br>lettuce<br>mayonnaise"
          ],
          [
           "chicken<br>egg<br>flour<br>mayonnaise<br>pea<br>pickle<br>potato<br>scallion"
          ],
          [
           "basil<br>bread crumb<br>cheese<br>egg<br>flour<br>oregano<br>pork<br>tomato"
          ],
          [
           "bread<br>cheese<br>egg<br>mayonnaise"
          ],
          [
           "bay leaf<br>carrot<br>chicken<br>chicken broth<br>pea<br>potato<br>tomato sauce"
          ],
          [
           "beef<br>bread crumb<br>egg<br>ketchup<br>milk<br>mustard<br>pork<br>soy sauce"
          ],
          [
           "butter<br>fish<br>honey<br>mustard<br>vinegar"
          ],
          [
           "barbecue sauce<br>butter<br>pork<br>vegetable"
          ],
          [
           "breadcrumb<br>egg<br>flour<br>pork"
          ],
          [
           "chicken<br>chili<br>flour tortilla<br>paprika"
          ],
          [
           "beef<br>carrot<br>celery<br>flour<br>potato<br>wine"
          ],
          [
           "butter<br>cheese<br>flour<br>milk<br>pork<br>soy sauce"
          ],
          [
           "egg<br>fish<br>fish sauce<br>flour<br>scallion<br>tomato"
          ],
          [
           "bread crumb<br>egg<br>flour<br>sauce<br>shrimp<br>vegetable oil"
          ],
          [
           "butter<br>cheese<br>chicken<br>chicken broth<br>cream<br>cream mushroom<br>mushroom<br>rosemary"
          ],
          [
           "butter<br>chicken<br>cream<br>egg<br>flour<br>lemon"
          ],
          [
           "bell pepper<br>cabbage<br>carrot<br>cauliflower<br>cornstarch<br>egg<br>peas<br>vegetable"
          ],
          [
           "bell pepper<br>butter<br>egg<br>mushroom"
          ],
          [
           "beef<br>butter<br>cheese<br>flour<br>milk<br>pasta<br>tomato sauce"
          ],
          [
           "bread crumb<br>cabbage<br>egg<br>flour<br>pork"
          ],
          [
           "chicken broth<br>egg<br>pork<br>rice<br>scallion"
          ],
          [
           "carrot<br>chicken<br>egg<br>parsley<br>sesame oil<br>spring wrapper"
          ],
          [
           "bread crumb<br>carrot<br>egg<br>salmon<br>soy sauce"
          ],
          [
           "carrot<br>celery<br>chicken<br>egg pasta<br>turkey"
          ],
          [
           "butter<br>chicken broth<br>pork<br>rosemary"
          ],
          [
           "chicken<br>egg<br>flour<br>lemon<br>pineapple<br>soy sauce"
          ],
          [
           "cornstarch<br>egg<br>flour<br>mussel"
          ],
          [
           "chicken<br>flour<br>lemon<br>soy sauce"
          ],
          [
           "egg<br>pea<br>pork<br>rice<br>soy sauce"
          ],
          [
           "beef<br>bread crumb<br>butter<br>egg<br>milk<br>parsley<br>vegetable"
          ],
          [
           "chestnut<br>cream<br>mayonnaise<br>spinach"
          ],
          [
           "cheese<br>chili<br>cream cheese<br>parsley"
          ],
          [
           "chicken<br>chili<br>egg<br>flour"
          ],
          [
           "beer<br>bread<br>butter<br>chili<br>sausage"
          ],
          [
           "bread crumb<br>egg<br>flour<br>paprika<br>shrimp"
          ],
          [
           "broccoli<br>butter<br>cheese<br>chicken<br>cream<br>pasta<br>wine"
          ],
          [
           "broccoli<br>butter<br>carrot<br>cauliflower<br>rice<br>soy sauce"
          ],
          [
           "beef<br>cheese<br>mayonnaise<br>pickle"
          ],
          [
           "baking<br>baking soda<br>banana<br>egg<br>flour<br>lemon<br>vanilla<br>vegetable oil<br>walnut"
          ],
          [
           "breadcrumb<br>butter<br>dijon mustard<br>egg<br>lemon<br>mayonnaise"
          ],
          [
           "butter<br>celery<br>chicken broth<br>flour<br>ham<br>milk<br>potato<br>spring onion"
          ],
          [
           "butter<br>chicken<br>chicken broth<br>cream<br>flour<br>parsley<br>pea<br>sherry<br>thyme"
          ],
          [
           "carrot<br>ginger<br>pork<br>sesame oil<br>spring wrapper"
          ],
          [
           "bread crumb<br>carrot<br>chili<br>crab<br>egg<br>parsley<br>potato<br>tomato"
          ],
          [
           "bread crumb<br>egg<br>flour<br>pork<br>sherry<br>soy sauce"
          ],
          [
           "avocado<br>cheese<br>chicken<br>chicken broth<br>chili<br>cilantro<br>lime<br>tomato"
          ],
          [
           "butter<br>cheese<br>linguine<br>mussel<br>parsley<br>wine"
          ],
          [
           "cheese<br>grape tomato<br>lemon<br>salmon<br>vinegar"
          ],
          [
           "cabbage<br>carrot<br>egg<br>ginger<br>pork<br>soy sauce"
          ],
          [
           "cheese<br>cream<br>paprika<br>pork<br>potato"
          ],
          [
           "bread crumb<br>chili<br>cucumber<br>fish<br>mayonnaise<br>rice<br>sesame oil<br>vinegar"
          ],
          [
           "anchovy<br>chili<br>coconut<br>fish sauce<br>fruit<br>milk"
          ],
          [
           "bean<br>beef<br>cream<br>lettuce<br>tomato"
          ],
          [
           "bean<br>chicken<br>chicken broth<br>eggplant<br>fish sauce<br>spinach<br>tamarind<br>tomato"
          ],
          [
           "bread crumb<br>chicken<br>egg<br>flour<br>milk<br>paprika"
          ],
          [
           "butter<br>chicken wing<br>chili<br>flour<br>paprika<br>sauce"
          ],
          [
           "basil<br>cheese<br>egg<br>milk<br>plum tomato<br>pork<br>potato"
          ],
          [
           "bread crumb<br>egg<br>flour<br>milk<br>potato"
          ],
          [
           "baking<br>bread crumb<br>egg<br>flour<br>milk"
          ],
          [
           "bean<br>beef<br>chili<br>cumin<br>flour<br>tomato<br>tomato sauce"
          ],
          [
           "beef<br>beef broth<br>butter<br>cream<br>cream mushroom soup<br>egg pasta<br>flour<br>mushroom"
          ],
          [
           "beef<br>butter<br>corn<br>cream mushroom soup<br>mushroom"
          ],
          [
           "apple<br>apple vinegar<br>cabbage<br>carrot<br>honey<br>mayonnaise<br>parsley"
          ],
          [
           "egg<br>flour<br>paprika<br>potato"
          ],
          [
           "beef broth<br>butter<br>flour<br>pork<br>rice<br>vegetable"
          ],
          [
           "butter<br>cheese<br>chicken<br>cream<br>egg<br>milk<br>pasta<br>thyme"
          ],
          [
           "butter<br>cinnamon<br>egg<br>milk<br>nutmeg<br>potato<br>vanilla"
          ],
          [
           "apple<br>celery<br>chicken broth<br>cream<br>mayonnaise<br>walnut"
          ],
          [
           "buttermilk<br>chicken<br>flour<br>paprika"
          ],
          [
           "basil<br>butter<br>cheese<br>cream<br>dried fish<br>pasta"
          ],
          [
           "breadcrumb<br>egg<br>flour<br>squid"
          ],
          [
           "bell pepper<br>bread crumb<br>carrot<br>cornstarch<br>egg<br>ketchup<br>pineapple<br>pork<br>vinegar"
          ],
          [
           "beef broth<br>breadcrumb<br>egg<br>flour<br>pork"
          ],
          [
           "chicken<br>chicken broth<br>fish sauce<br>knob ginger<br>pork<br>spinach"
          ],
          [
           "carrot<br>cashew<br>chicken broth<br>cornstarch<br>egg<br>jicama<br>pea<br>shrimp"
          ],
          [
           "butter<br>cabbage<br>carrot<br>celery<br>chicken<br>chicken broth<br>pasta"
          ],
          [
           "baking<br>cornstarch<br>egg<br>mung bean<br>shrimp"
          ],
          [
           "bread crumb<br>carrot<br>cheese<br>chicken<br>egg<br>flour<br>parsley<br>tomato"
          ],
          [
           "chili<br>coconut<br>fish<br>jackfruit<br>milk<br>shrimp<br>tomato"
          ],
          [
           "carrot<br>crab<br>egg<br>pork<br>sesame oil<br>wonton wrapper"
          ],
          [
           "cilantro<br>corn kernel<br>lime<br>tomato"
          ],
          [
           "annatto<br>cornstarch<br>egg<br>flour"
          ],
          [
           "carrot<br>fish sauce<br>shrimp<br>spring wrapper<br>tofu"
          ],
          [
           "butter<br>chicken broth<br>cream<br>milk<br>potato"
          ],
          [
           "butter<br>cheese<br>egg<br>ham<br>milk<br>spinach"
          ],
          [
           "cornstarch<br>egg<br>lemon<br>milk"
          ],
          [
           "cornstarch<br>ketchup<br>soy sauce<br>vinegar"
          ],
          [
           "cream<br>cream cheese<br>dill<br>egg<br>mustard<br>paprika<br>salmon"
          ],
          [
           "beef<br>bread<br>celery<br>egg<br>ketchup<br>mustard<br>soy sauce<br>tomato"
          ],
          [
           "breadcrumb<br>butter<br>cheese<br>chicken<br>egg<br>ham<br>paprika"
          ],
          [
           "beef<br>carrot<br>cheese<br>dill<br>egg<br>lemon<br>soy sauce"
          ],
          [
           "avocado<br>crab<br>cucumber<br>rice<br>sesame seed<br>vinegar"
          ],
          [
           "bread crumb<br>egg<br>milk<br>pork"
          ],
          [
           "butter<br>chicken<br>chicken broth<br>egg<br>milk"
          ],
          [
           "cheese<br>chicken<br>egg<br>mayonnaise<br>pasta<br>pineapple<br>raisin"
          ]
         ],
         "hovertemplate": "<b>%{hovertext}</b><br><br>cluster=0<br>x=%{x}<br>y=%{y}<br>z=%{z}<br>cleaned_ingredients=%{customdata[0]}<extra></extra>",
         "hovertext": [
          "Buko Pie (Filipino Coconut Pie)",
          "Banana Pandan Bread",
          "Mango Bread Loaf",
          "Korean Ground Beef",
          "Peanut Tikoy Rolls with Ube Filling",
          "Crispy Breaded Shrimp",
          "Sesame Chicken",
          "Hawaiian Macaroni Salad",
          "Calamansi Muffins",
          "Crispy Soy Chicken",
          "Asian Cucumber Tomato Avocado Salad",
          "Filipino-style Fried Chicken",
          "Honey Walnut Shrimp",
          "Relyenong Bangus",
          "Sweet and Sour Sauce",
          "Sinabawang Tahong",
          "Creamy Tofu with Mixed Vegetables",
          "Crispy Fried Chicken with Mushroom Gravy",
          "Truffle Mushroom Pasta",
          "Crispy Tofu Fried Chicken with Chicken Gravy",
          "Easy Chicken Ala King",
          "Crispy Fried Chicken",
          "Beef Empanada Recipe",
          "Creamy Macaroni Sopas",
          "Pinoy Carbonara Recipe with Ham and Bacon",
          "Creamy Sipo Egg with Chicken Gizzard",
          "Cheese Pimiento Sandwich",
          "Kakaibang Filipino Chicken Adobo",
          "Nutritious Ulam Idea",
          "Crispy Cabbage Rolls",
          "Loaded Nachos Recipe",
          "Pinoy Burger Steak Recipe",
          "Pineapple Fried Rice",
          "Ham Katsu",
          "Hawaiian Pizza (No Bake)",
          "Corned Beef Saute",
          "Cheesy Corned Beef Balls",
          "Ham and Chicken Macaroni Salad",
          "Fried Chicken with Mayo Garlic Glaze",
          "Festive Tuna Carbonara",
          "Quick and Easy Pan-Fried Pork Chops",
          "Chicken Katsu Curry",
          "Macaroni Salad",
          "Cheeseburger and Hotdog Sandwich Recipe",
          "Grilled Cheese Sandwich and Chicken Tenders",
          "Hardinera (Jardinera) Recipe",
          "Creamy Macaroni Salad Recipe",
          "Beef Stroganoff Lasagna",
          "Creamy Baked Salmon",
          "Crispy Garlic Bangus and Cream of Pumpkin Soup",
          "Shrimp Bisque and Clubhouse Sandwich",
          "Pancit Chami Tamis Anghang Recipe",
          "No Oven Baked Macaroni Recipe",
          "Baked Macaroni Recipe",
          "Chicken Barbecue",
          "Father’s Day Chicken Macaroni Salad",
          "Siopao Asado Recipe",
          "Crispy Kare-kare",
          "Filipino Chicken Macaroni Salad Recipe",
          "Bicol Express Recipe",
          "Burger Steak",
          "How to Cook Crispy Eggplant Fries",
          "Beef Stroganoff",
          "McDonalds Style Chicken Nuggets",
          "Crispy Fried Chicken (Spicy Version)",
          "Pancit Batil Patung Recipe",
          "How to Make Authentic Carbonara",
          "Humba Recipe (Bisaya Version)",
          "Easy Beef Nachos",
          "Tuna Pasta Alfredo",
          "Corned Beef Lomi Batangas Style",
          "Sardines Fish Ball with Sweet and Sour Sauce",
          "Low-Carb Breaded Pinatisang Baboy",
          "Chicken Lollipop Recipe",
          "Creamy Garlic Parmesan Chicken with Mushrooms",
          "Tuyo Pesto Spaghetti Pasta",
          "Pork Burger Steak with Mushroom Gravy",
          "Beef Stroganoff",
          "Chicken and Pork Embutido",
          "No Bake Filipino Style Lasagna",
          "Chicken Alfredo",
          "Pinoy Style Baked Macaroni with White Sauce",
          "Chicken and Egg Macaroni Salad",
          "Steamed Fish with Mayonnaise",
          "7Up Fried Chicken",
          "Homemade Kalabasa and Corned Beef Nuggets",
          "Ukoy Dulong Recipe",
          "Eggplant Meatballs Talong Bola Bola Recipe",
          "Sweet and Sour Pork Recipe",
          "Chicken Pasta with Creamy Basil Sauce",
          "Baked Chicken Nuggets",
          "Ginisang Monggo with Dilis",
          "Sipo Eggs Recipe",
          "Potato Salad with Carrots and Pineapple",
          "Embutido Recipe",
          "Carbonara Recipe Filipino Style",
          "Kare Kare Recipe",
          "Bacon and Egg Macaroni Salad with Green Peas",
          "Chicken ala King Recipe",
          "Nilagang Baka with Kalabasa – Filipino boiled beef Soup",
          "Ketogenic Bacon and Egg Salad",
          "Classic Macaroni Salad Recipe",
          "Tuna Sisig",
          "Chicken Cordon Bleu with Dijon Cream Sauce",
          "Tuna Macaroni Salad",
          "Pork Bola Bola Soup with Misua and Patola",
          "Mechadong Baka Recipe",
          "Pinoy Style Chicken Macaroni Salad",
          "Popcorn Chicken Recipe",
          "Deep Fried Bulalo with Restaurant Style Teriyaki Sauce",
          "Pork Siomai and Nido Oriental Style Soup",
          "Sotanghon with Upo Soup",
          "Homemade Pork and Beans Recipe",
          "Nilagang Buto-buto ng Baka Recipe",
          "Chicken Nilaga with Kalabasa",
          "Stuffed Beef and Pork Burger Patties",
          "Oxtail Stew",
          "Broiled Lobster Tail with Lemon Butter Sauce",
          "Crispy Fried Mahi Mahi Sarciado",
          "Christmas Chicken and Ham Macaroni Salad",
          "Homemade Cured Ham with Brown Sugar Honey Glaze",
          "Nilagang Baka ala Bulalo",
          "Pancit Sotanghon Na May Hipon",
          "Panlasang Pinoy Bibingkang Galapong",
          "Spicy Calderetang Kambing with Peanut Butter (Goat Meat Caldereta)",
          "Beef Short Rib Kare Kare",
          "Chicken Curry",
          "Afritadang Baboy",
          "Corned Beef with Cabbage and Potato",
          "Sweet and Sour Red Snapper",
          "Pork Nilaga Recipe",
          "Tuna in Can Sarciado",
          "Chicken Lomi Recipe",
          "Tinola Chicken Mami",
          "Binakol na Manok Recipe",
          "Special Chicken Embutido Recipe (Filipino Chicken Meatloaf)",
          "Lengua Estofado Recipe",
          "Pinoy Style Carbonara",
          "Spicy Camaron Rebosado (Deep Fried Beer Battered Shrimp)",
          "Cheesy Baked Macaroni",
          "Embutido Meatloaf with Tomato and Basil Grilled Cheese Sandwich",
          "Pork Embutido",
          "Pork Chop Sinigang",
          "Chicken Afritada with Bell Pepper",
          "Chicken Potato Salad",
          "Panlasang Pinoy Spaghetti",
          "Fiesta Menudo",
          "Nilasing na Tilapia Recipe",
          "Corned Beef Silog",
          "Simple Chicken Afritada",
          "Beef Kare-Kare Recipe",
          "Inihaw na Pusit with Scallion",
          "Sinigang na Bangus Belly sa Miso",
          "Fresh Basil and Sun Dried Tomato Spaghetti Pasta",
          "Deep Fried Breaded Pork Chops",
          "Pork Giniling Hardinera Recipe",
          "Ginataang Monggo at Mais",
          "Sinigang na Lapu lapu sa Miso",
          "Shrimp Alfredo Pasta with Scallops",
          "Paksiw na Pata with Pineapple",
          "Kielbasa Fried Rice",
          "Lumpiang Gulay (Vegetable Egg Roll Recipe)",
          "Turkey and Ham Sopas",
          "Loaded Breakfast Potato",
          "Pinoy Chicken Noodle Soup",
          "Beer and Cilantro Marinated Prawn",
          "Pork Giniling Croquette",
          "Breakfast Sausage Hash",
          "Hashbrown Casserole",
          "Huevos Rancheros",
          "Crispy Baked Yukon Gold Potato Wedges",
          "Easy Sweet and Sour Sauce",
          "Pork Giniling Kaldereta Recipe",
          "Egg Sandwich Spread Recipe",
          "Simple Applesauce Recipe",
          "Kale and Tuna Laing Recipe",
          "Pork Nilaga with Kalabasa",
          "Easy Callos Recipe",
          "Simple Lo Mein",
          "Dutch Oven Pork Stew Recipe",
          "Sweet Pepper Relyeno Recipe",
          "Oriental Lomi Recipe",
          "Simple Pancit Palabok Recipe",
          "Deviled Egg Recipe",
          "Ginataang Alimasag with Malunggay",
          "Beef Morcon Recipe",
          "Shrimp Fried Rice Recipe",
          "Slow Cooked Beef Nilaga Soup Recipe",
          "Slow Cook Pork Hock Stew",
          "Salisbury Steak with Beef and Mushroom Gravy",
          "Party Fried Chicken",
          "Corn Soup with Mussels and Malunggay",
          "Chicken Dynamite Lumpia Recipe",
          "Relyenong Tahong (Stuffed Mussels)",
          "Chicken Embutido",
          "Nilagang Pata Recipe",
          "Pork Giniling with Quail Eggs",
          "Easy Macaroni Salad",
          "Sinampalukang Kambing",
          "Laing Recipe",
          "Chicken Guisantes Recipe",
          "How to Make Eggs Benedict",
          "Patis Fried Chicken",
          "Corned Beef and Potato Casserole",
          "Tofu with Tausi and Straw Mushrooms",
          "Broccoli Bacon Salad Recipe",
          "Bacon and Cheese Breakfast Casserole Recipe",
          "Ahi Tuna Sandwich with Wasabi Mayonnaise",
          "Grilled Mussels Recipe",
          "Chicken Teriyaki, Brown Rice, and Sunny Side Up Egg Recipe",
          "Pork Burger Patties",
          "Easy Turkey Embutido Recipe",
          "Chicken Egg Fried Rice Recipe",
          "Sweet and Sour Mahi-mahi",
          "Spaghetti with Meatballs",
          "Easy Chicken Parm",
          "Chicken Pita",
          "Sour Cream Noodle Bake",
          "Quick Roast Beef Sandwich",
          "Panlasang Pinoy Omelet",
          "Panko Parmesan Crusted Halibut",
          "Panara Recipe (Deep Fried Shrimp Wonton)",
          "Eggplant Parmigiana",
          "Chicken Carbonara",
          "Chicken Siomai",
          "Deep Fried Seasoned Pork Chop",
          "Easy Egg Salad Recipe",
          "Bacon and Avocado Sandwich",
          "Easy Roast Beef Sandwich",
          "Fried Chicken Potato Salad",
          "Pork Parmesan",
          "Spam and Egg Sandwich",
          "Chicken Giniling with Green Peas",
          "Easy Meatloaf Recipe",
          "Honey and Balsamic Glazed Mahi-mahi",
          "Barbecue Pork Chop with Mixed Veggies",
          "Oven Baked Crusted Pork Loin",
          "Easy Chicken Tacos",
          "Slow Cooker Beef Stew",
          "Cheese Fries",
          "Fish Kardilyo Recipe",
          "Breaded Shrimp with Sweet and Sour Sauce",
          "Creamy Chicken with Mushroom Recipe",
          "Fried Chicken Breast with Creamy Lemon Sauce Dip",
          "Scallop Chop Suey Recipe",
          "Vegetable Omelet Recipe",
          "Baked Spaghetti Recipe",
          "Tonkatsu Recipe",
          "Century Egg Congee with Salted Pork",
          "Chicken Spring Roll Recipe",
          "Salmon Patty Recipe",
          "Turkey Noodle Soup Recipe",
          "Bacon and Caramelized Onion Cornbread Stuffing",
          "Pineapple Fried Chicken Recipe",
          "Deep Fried Mussels",
          "Dusty Fried Chicken Recipe",
          "Bacon and Egg Fried Rice Recipe",
          "Easy Meatball with Mixed Vegetables Recipe",
          "Easy Spinach Dip Recipe",
          "Artichoke Dip",
          "Popcorn Chicken",
          "Beer Brats Recipe",
          "Breaded Butterfly Shrimp Recipe",
          "Chicken Pasta Alfredo Recipe",
          "Shrimp and Vegetable Fried Rice Recipe",
          "Tasty Sliders Recipe",
          "Banana Nut Muffin",
          "Dulong Fishcake",
          "Ham and Potato Soup Recipe",
          "Chicken a la King Recipe",
          "Spring Rolls Recipe",
          "Rellenong Alimasag Recipe",
          "Scotch Eggs Recipe",
          "Tortilla Soup Recipe",
          "Linguine with Mussels Recipe",
          "Baked Salmon Recipe",
          "Egg Roll",
          "Baked Potato Skin Recipe",
          "Tuna Sushi Roll",
          "Ginataang Langka with Dilis Recipe",
          "Ground Beef Tostada",
          "Sinampalukang Manok Recipe",
          "Garlic Fried Chicken",
          "Buffalo Chicken Wings Recipe",
          "Bacon Frittata Recipe",
          "Potato Croquettes Recipe",
          "Onion Rings",
          "Best Game Day Chili Recipe",
          "Beef Stroganoff Recipe",
          "Sizzling Bulalo Recipe",
          "Apple Coleslaw Recipe",
          "Crispy Potato Wedges Recipe",
          "Sizzling Pork Chop Recipe",
          "Rotini Chicken Alfredo Recipe",
          "Sweet Potato Pie Recipe",
          "Tarragon Chicken Salad",
          "Easy Buttermilk Fried Chicken",
          "Creamy Tuyo Pesto",
          "Calamares Recipe",
          "Sweet and Sour Meatball Recipe",
          "Country Fried Breaded Pork Chop Recipe",
          "Pinatisang Manok",
          "Shrimp with Quail Eggs and Green Peas",
          "Chicken Sopas Recipe",
          "Ukoy Recipe (Shrimp Fritter)",
          "Chicken Parmesan Recipe",
          "Ginataang Langka Recipe",
          "Pinsec Frito Recipe - Deep Fried Wonton",
          "Corn Salsa Recipe",
          "Tokneneng",
          "Lumpiang Togue Recipe",
          "Potato and Leek Soup Recipe",
          "Ham and Spinach Omelet Recipe",
          "Camaron Rebosado Recipe",
          "Sweet and Sour Sauce Recipe",
          "Deviled Egg with Salmon Recipe",
          "Meatloaf Recipe",
          "Chicken Cordon Bleu",
          "Morcon",
          "California Roll",
          "Breaded Pork Loin",
          "Fried Chicken with White Gravy Recipe",
          "Recipe for Chicken Macaroni Salad"
         ],
         "legendgroup": "0",
         "marker": {
          "color": "rgb(231, 63, 116)",
          "size": 5,
          "symbol": "circle"
         },
         "mode": "markers",
         "name": "0",
         "scene": "scene",
         "showlegend": true,
         "type": "scatter3d",
         "x": [
          0.7397010922431946,
          0.760919451713562,
          0.772472083568573,
          0.8703509569168091,
          0.6590752005577087,
          0.8444429636001587,
          0.8268597722053528,
          0.8294036388397217,
          0.7691173553466797,
          0.893898606300354,
          0.8214638829231262,
          0.7834258079528809,
          0.8120226263999939,
          0.8812209367752075,
          0.8274133801460266,
          0.862169623374939,
          0.8278278708457947,
          0.7755853533744812,
          0.7542813420295715,
          0.7882167100906372,
          0.8252731561660767,
          0.7830668687820435,
          0.8416359424591064,
          0.8290423154830933,
          0.8191142082214355,
          0.7813543081283569,
          0.807401716709137,
          0.8248236179351807,
          0.8308927416801453,
          0.8520146608352661,
          0.7811158895492554,
          0.8553269505500793,
          0.7966892719268799,
          0.8256925344467163,
          0.7981096506118774,
          0.8000757694244385,
          0.7533118724822998,
          0.7536746859550476,
          0.7656475901603699,
          0.7748080492019653,
          0.7690020203590393,
          0.843982994556427,
          0.7416739463806152,
          0.741295337677002,
          0.7622673511505127,
          0.8052394986152649,
          0.723584771156311,
          0.763364315032959,
          0.8210288286209106,
          0.8455143570899963,
          0.7327579855918884,
          0.8289009928703308,
          0.8252058029174805,
          0.8521619439125061,
          0.8289692401885986,
          0.7294869422912598,
          0.7885555028915405,
          0.8359851241111755,
          0.804740309715271,
          0.7582240700721741,
          0.8055698871612549,
          0.8503999710083008,
          0.8322430849075317,
          0.8426064252853394,
          0.8027353882789612,
          0.862145721912384,
          0.742168664932251,
          0.7788885235786438,
          0.8244060277938843,
          0.7924678325653076,
          0.8683390617370605,
          0.8581163883209229,
          0.8014035224914551,
          0.77396160364151,
          0.8295758962631226,
          0.6716006994247437,
          0.8384498357772827,
          0.8315606117248535,
          0.7463605403900146,
          0.7701708078384399,
          0.7546800374984741,
          0.8170778751373291,
          0.7372616529464722,
          0.8223633170127869,
          0.7930425405502319,
          0.7986956834793091,
          0.765972375869751,
          0.8619451522827148,
          0.8615041971206665,
          0.7790009379386902,
          0.7722742557525635,
          0.7503312230110168,
          0.8846761584281921,
          0.8252182006835938,
          0.7996175289154053,
          0.8520835638046265,
          0.8320162296295166,
          0.7965617775917053,
          0.8461321592330933,
          0.7823936939239502,
          0.8287637233734131,
          0.8237382769584656,
          0.8231894969940186,
          0.8335300087928772,
          0.7501040101051331,
          0.8727279305458069,
          0.8295361995697021,
          0.8032132983207703,
          0.8033230900764465,
          0.8379186391830444,
          0.8146437406539917,
          0.7948138117790222,
          0.7718198895454407,
          0.7669996619224548,
          0.7524972558021545,
          0.8011705875396729,
          0.7855883836746216,
          0.7732182741165161,
          0.8487204313278198,
          0.7643177509307861,
          0.8043151497840881,
          0.8108213543891907,
          0.8871550559997559,
          0.798983633518219,
          0.8350584506988525,
          0.8998004198074341,
          0.7400244474411011,
          0.7891048192977905,
          0.7716569304466248,
          0.8657416701316833,
          0.8177536129951477,
          0.8046019077301025,
          0.9126046895980835,
          0.8929503560066223,
          0.7607983946800232,
          0.8535438179969788,
          0.879021942615509,
          0.8252962231636047,
          0.8107225298881531,
          0.8012901544570923,
          0.7681549787521362,
          0.7808732390403748,
          0.7510641813278198,
          0.8448070287704468,
          0.7662192583084106,
          0.8256295323371887,
          0.8209279775619507,
          0.8289791345596313,
          0.7855297327041626,
          0.8797675371170044,
          0.8442888855934143,
          0.8273270726203918,
          0.7959368824958801,
          0.7445958852767944,
          0.7458640336990356,
          0.7505548000335693,
          0.7418487668037415,
          0.7694311141967773,
          0.7753692865371704,
          0.8810048699378967,
          0.8487115502357483,
          0.8382752537727356,
          0.8225290179252625,
          0.8368740081787109,
          0.8789671063423157,
          0.7731093168258667,
          0.7514758110046387,
          0.8282743692398071,
          0.8541286587715149,
          0.8023710250854492,
          0.7860842943191528,
          0.8216831684112549,
          0.8767270445823669,
          0.801881730556488,
          0.5359328389167786,
          0.8327525854110718,
          0.7804042100906372,
          0.7893410325050354,
          0.909972071647644,
          0.8345617055892944,
          0.8341658115386963,
          0.8973275423049927,
          0.8731892108917236,
          0.7955536842346191,
          0.8306525945663452,
          0.8207641839981079,
          0.8277249336242676,
          0.7551693320274353,
          0.845019519329071,
          0.8440794944763184,
          0.7996411919593811,
          0.7980847358703613,
          0.7576953172683716,
          0.8281333446502686,
          0.775738537311554,
          0.7544386982917786,
          0.8655117750167847,
          0.8059724569320679,
          0.8742378354072571,
          0.8189648985862732,
          0.8059135675430298,
          0.7444209456443787,
          0.8320238590240479,
          0.8011770844459534,
          0.7733758091926575,
          0.8123354911804199,
          0.7651127576828003,
          0.7764266729354858,
          0.8315006494522095,
          0.7735395431518555,
          0.8156992793083191,
          0.8138387203216553,
          0.8055611848831177,
          0.8965045213699341,
          0.7682989239692688,
          0.7490799427032471,
          0.8418506383895874,
          0.8126548528671265,
          0.8076357245445251,
          0.8245049118995667,
          0.8039188385009766,
          0.86862713098526,
          0.801842987537384,
          0.8367729783058167,
          0.8033671379089355,
          0.8161226511001587,
          0.8539413213729858,
          0.7725279927253723,
          0.7439283132553101,
          0.8242309093475342,
          0.8266974687576294,
          0.764447808265686,
          0.8399089574813843,
          0.8397247791290283,
          0.8314692974090576,
          0.748529851436615,
          0.7942141890525818,
          0.7870330214500427,
          0.8323913216590881,
          0.7612645626068115,
          0.8496033549308777,
          0.7947742938995361,
          0.8276280164718628,
          0.779510498046875,
          0.901168942451477,
          0.7899901866912842,
          0.8668350577354431,
          0.8060469627380371,
          0.7968420386314392,
          0.8684816360473633,
          0.8031169176101685,
          0.8777985572814941,
          0.8599022626876831,
          0.840173065662384,
          0.8278653621673584,
          0.8576626181602478,
          0.851081371307373,
          0.8068606853485107,
          0.7347040772438049,
          0.770133912563324,
          0.8050761818885803,
          0.7452571988105774,
          0.7982548475265503,
          0.7740143537521362,
          0.8424195647239685,
          0.7549440264701843,
          0.7653636336326599,
          0.8255842924118042,
          0.8137882947921753,
          0.8715328574180603,
          0.7678781151771545,
          0.771177351474762,
          0.8670731782913208,
          0.8373645544052124,
          0.7811013460159302,
          0.8163068890571594,
          0.8734161257743835,
          0.8239913582801819,
          0.8001726269721985,
          0.8677631616592407,
          0.8469098806381226,
          0.8175868391990662,
          0.8008468747138977,
          0.8184976577758789,
          0.7608133554458618,
          0.7700283527374268,
          0.7681421041488647,
          0.8473286032676697,
          0.81414794921875,
          0.8352930545806885,
          0.7981852889060974,
          0.8621891736984253,
          0.8575059771537781,
          0.7775973081588745,
          0.764594316482544,
          0.8066315650939941,
          0.8290740251541138,
          0.8102654814720154,
          0.7881469130516052,
          0.901203453540802,
          0.8475996255874634,
          0.822708249092102,
          0.8229737281799316,
          0.8299973011016846,
          0.7712754607200623,
          0.8593279719352722,
          0.8501670956611633,
          0.8836405277252197,
          0.7793684005737305,
          0.7606874704360962,
          0.8456237316131592,
          0.8597238063812256,
          0.8347007036209106,
          0.7957080602645874,
          0.7335555553436279,
          0.8028212785720825,
          0.8224598169326782,
          0.7774832248687744,
          0.8311119675636292,
          0.798762321472168,
          0.8212244510650635,
          0.7772181034088135,
          0.7613371014595032
         ],
         "y": [
          -0.01781928911805153,
          -0.11571107804775238,
          0.011920836754143238,
          0.03702903538942337,
          -0.23622624576091766,
          0.04637213423848152,
          0.16330814361572266,
          -0.11394405364990234,
          -0.10795112699270248,
          -0.015609242022037506,
          0.13257619738578796,
          -0.024748940020799637,
          -0.07258274406194687,
          0.09090644121170044,
          -0.3150506019592285,
          0.07831788063049316,
          -0.045733287930488586,
          -0.227741077542305,
          -0.15376023948192596,
          0.07277286052703857,
          -0.11891811341047287,
          -0.22673587501049042,
          -0.34925001859664917,
          -0.05908655747771263,
          -0.06019117683172226,
          -0.15057256817817688,
          -0.21001315116882324,
          -0.15752959251403809,
          -0.21528486907482147,
          0.03938097506761551,
          0.06816384196281433,
          -0.015944862738251686,
          0.05498883128166199,
          -0.057988159358501434,
          -0.16729672253131866,
          0.053089939057826996,
          -0.036992307752370834,
          -0.11937136203050613,
          -0.21644404530525208,
          -0.12459462881088257,
          -0.13545885682106018,
          -0.04521852731704712,
          -0.16019436717033386,
          -0.15233813226222992,
          -0.2684067189693451,
          0.0019516032189130783,
          -0.14210031926631927,
          -0.04072850942611694,
          -0.14093774557113647,
          -0.08001432567834854,
          -0.04722267761826515,
          -0.16261351108551025,
          -0.07518310099840164,
          -0.19178533554077148,
          0.05269761011004448,
          -0.10013853758573532,
          -0.2370634824037552,
          -0.18602322041988373,
          -0.1496485024690628,
          -0.22578497231006622,
          -0.037178851664066315,
          -0.22467154264450073,
          0.03376873582601547,
          -0.16121205687522888,
          -0.3566383123397827,
          0.06671802699565887,
          -0.11000940203666687,
          -0.2817561626434326,
          -0.2094217836856842,
          -0.0715690553188324,
          0.006964866071939468,
          -0.20240026712417603,
          -0.18504860997200012,
          -0.23798249661922455,
          -0.20809535682201385,
          -0.22500301897525787,
          -0.11777231097221375,
          -0.1708175241947174,
          -0.18491758406162262,
          -0.10267063975334167,
          -0.02361501380801201,
          -0.05295529216527939,
          -0.19580687582492828,
          -0.2542036771774292,
          -0.3346952199935913,
          -0.22864475846290588,
          -0.35679304599761963,
          -0.12520484626293182,
          -0.2576754689216614,
          -0.020128564909100533,
          -0.21562112867832184,
          -0.21648943424224854,
          -0.21467182040214539,
          -0.20446926355361938,
          -0.2255818098783493,
          -0.19305798411369324,
          -0.13268259167671204,
          -0.271453857421875,
          0.048246901482343674,
          0.0366520956158638,
          -0.132526695728302,
          -0.23478737473487854,
          0.06984011828899384,
          -0.2003285437822342,
          -0.19101682305335999,
          0.036365482956171036,
          0.055532075464725494,
          -0.1224210187792778,
          -0.13601583242416382,
          -0.1809227466583252,
          0.14619973301887512,
          0.17524322867393494,
          0.06808288395404816,
          -0.04271645471453667,
          0.05838902294635773,
          -0.24589315056800842,
          -0.018612757325172424,
          0.02066946029663086,
          -0.0007504839450120926,
          -0.21202543377876282,
          -0.16127438843250275,
          0.006299081724137068,
          0.04864010959863663,
          -0.2930697500705719,
          0.09495269507169724,
          -0.0010982695966959,
          0.11821801215410233,
          0.12545855343341827,
          0.09661193192005157,
          -0.014011375606060028,
          0.07130546867847443,
          0.0837111547589302,
          0.01426847092807293,
          0.0007430668920278549,
          -0.1444399356842041,
          -0.1784186065196991,
          0.03229479119181633,
          -0.014365888200700283,
          -0.25633782148361206,
          -0.008720830082893372,
          -0.016056038439273834,
          -0.13137158751487732,
          0.13037249445915222,
          0.1354922652244568,
          0.09128962457180023,
          0.11859624087810516,
          0.15407457947731018,
          -0.19036823511123657,
          0.12095777690410614,
          -0.030542362481355667,
          -0.17516006529331207,
          -0.23658263683319092,
          0.05100580304861069,
          -0.18960312008857727,
          -0.15140165388584137,
          -0.08539561927318573,
          -0.2949307858943939,
          -0.12380988895893097,
          -0.042820386588573456,
          -0.00024517474230378866,
          -0.05616505816578865,
          -0.09011512994766235,
          0.028014108538627625,
          -0.09214149415493011,
          0.0001416616141796112,
          -0.20523038506507874,
          -0.18206530809402466,
          -0.05354008451104164,
          -0.015996746718883514,
          0.07498280704021454,
          -0.3316926062107086,
          -0.0691375732421875,
          0.11288745701313019,
          -0.23790530860424042,
          -0.2489781528711319,
          -0.04607349634170532,
          0.10661721974611282,
          0.16501116752624512,
          -0.03175279498100281,
          0.07991490513086319,
          -0.052854984998703,
          0.04309270903468132,
          0.04078151285648346,
          -0.17824450135231018,
          0.07968654483556747,
          0.17640261352062225,
          -0.1634189486503601,
          0.049005452543497086,
          0.14279624819755554,
          -0.2024383693933487,
          -0.32435452938079834,
          0.08170292526483536,
          -0.12059612572193146,
          -0.24968117475509644,
          -0.28243574500083923,
          0.1414870172739029,
          0.029603594914078712,
          -0.015659434720873833,
          0.026997413486242294,
          -0.14230221509933472,
          0.08764716982841492,
          -0.030462831258773804,
          -0.17569571733474731,
          0.08252374827861786,
          0.13171717524528503,
          -0.290227472782135,
          -0.2261250615119934,
          0.01865312084555626,
          -0.24206672608852386,
          -0.11645657569169998,
          -0.25241735577583313,
          0.00820994097739458,
          -0.16045691072940826,
          0.02359500527381897,
          0.09078028798103333,
          -0.07416423410177231,
          -0.28099143505096436,
          -0.017190003767609596,
          -0.044948503375053406,
          -0.08410228788852692,
          -0.2230568528175354,
          -0.015451859682798386,
          -0.18626166880130768,
          -0.039998531341552734,
          -0.09335999190807343,
          -0.24168479442596436,
          -0.18479043245315552,
          -0.0786164402961731,
          -0.14939941465854645,
          0.022489186376333237,
          -0.06522619724273682,
          -0.05991245433688164,
          0.07315659523010254,
          -0.30125170946121216,
          0.10864421725273132,
          0.12638252973556519,
          -0.04275045171380043,
          0.06415694952011108,
          -0.21781247854232788,
          -0.17090614140033722,
          -0.21323519945144653,
          -0.15902350842952728,
          -0.15571261942386627,
          -0.15868067741394043,
          -0.014953004196286201,
          -0.03784490376710892,
          -0.058816976845264435,
          -0.009073400869965553,
          0.022731874138116837,
          -0.21875345706939697,
          -0.06098342314362526,
          0.015414819121360779,
          -0.0739239752292633,
          -0.25114011764526367,
          -0.17815744876861572,
          0.0831323117017746,
          -0.1697523593902588,
          -0.17736037075519562,
          -0.024291828274726868,
          -0.10433903336524963,
          -0.21627309918403625,
          -0.17228463292121887,
          -0.28875672817230225,
          -0.29597723484039307,
          -0.17468874156475067,
          -0.03125924617052078,
          -0.29554957151412964,
          -0.3407883644104004,
          -0.21738643944263458,
          -0.12425190210342407,
          -0.12791867554187775,
          0.14751306176185608,
          -0.26725828647613525,
          -0.03588820621371269,
          -0.2147987335920334,
          -0.13053244352340698,
          -0.179294154047966,
          -0.29953891038894653,
          -0.16126322746276855,
          0.09373924136161804,
          -0.05226834863424301,
          -0.009390970692038536,
          -0.3106570243835449,
          -0.1997244656085968,
          -0.24393165111541748,
          -0.33548837900161743,
          -0.33317801356315613,
          -0.13420341908931732,
          -0.15078268945217133,
          -0.16315089166164398,
          -0.2715074419975281,
          -0.23146139085292816,
          0.006903594825416803,
          -0.046759944409132004,
          -0.27301129698753357,
          -0.27186086773872375,
          -0.24231961369514465,
          -0.07652541995048523,
          -0.05462890490889549,
          -0.18414084613323212,
          -0.21387338638305664,
          -0.13484346866607666,
          -0.1357610523700714,
          0.136714369058609,
          -0.3404099643230438,
          -0.1811729222536087,
          -0.07094547897577286,
          -0.2009030282497406,
          -0.0302082821726799,
          -0.20734630525112152,
          0.04530664160847664,
          -0.09237566590309143,
          -0.17187902331352234,
          -0.2659739851951599,
          -0.21940454840660095,
          -0.14037635922431946,
          -0.2715272009372711,
          -0.10563633590936661,
          0.05522291362285614,
          -0.025593597441911697,
          -0.15874256193637848,
          -0.3489393889904022,
          -0.1625283807516098
         ],
         "z": [
          0.2338963747024536,
          0.24217742681503296,
          0.23218530416488647,
          0.06750920414924622,
          0.14350813627243042,
          0.06500959396362305,
          0.04245574772357941,
          0.12382876873016357,
          0.23293986916542053,
          0.0016072336584329605,
          0.04724473878741264,
          0.05515338107943535,
          0.2807100713253021,
          0.0463719367980957,
          0.10392794758081436,
          0.039026279002428055,
          0.17105479538440704,
          0.2300720363855362,
          0.06122278422117233,
          0.14080780744552612,
          0.25125372409820557,
          0.2184760570526123,
          0.06674624979496002,
          0.1329812854528427,
          0.12370234727859497,
          0.2492336630821228,
          0.0644344687461853,
          0.09655380249023438,
          0.14313477277755737,
          0.0040290579199790955,
          0.044769756495952606,
          0.024033183231949806,
          0.0015391558408737183,
          0.22236408293247223,
          0.25333890318870544,
          -0.01389456819742918,
          0.12963779270648956,
          0.035855527967214584,
          -0.03037329763174057,
          0.13327142596244812,
          0.06960475444793701,
          0.12154068052768707,
          -0.014383404515683651,
          0.139156311750412,
          0.09194991737604141,
          0.1601179540157318,
          0.000756056047976017,
          0.1441137194633484,
          0.015415439382195473,
          0.10285633057355881,
          0.10702149569988251,
          0.04259355738759041,
          0.07494968175888062,
          0.13729840517044067,
          -0.0076361545361578465,
          -0.0035391999408602715,
          0.20137113332748413,
          0.07189489901065826,
          -0.007288441061973572,
          -0.020971380174160004,
          0.11597210168838501,
          0.038667336106300354,
          0.05371702089905739,
          0.0939285159111023,
          0.06350107491016388,
          0.04408795386552811,
          0.05383932590484619,
          0.016002453863620758,
          0.07485171407461166,
          0.1578366905450821,
          -0.0058951955288648605,
          0.0363406203687191,
          0.028602655977010727,
          0.18427439033985138,
          0.014301241375505924,
          0.023440901190042496,
          0.1964263767004013,
          0.07411941885948181,
          0.1377551555633545,
          0.051513396203517914,
          0.07281772792339325,
          0.06277187168598175,
          0.15727436542510986,
          0.01123170554637909,
          0.15059784054756165,
          0.14925318956375122,
          0.13323278725147247,
          0.11636824905872345,
          0.03546619787812233,
          0.09118491411209106,
          0.19553090631961823,
          -0.03821759670972824,
          0.06173977255821228,
          0.12076245248317719,
          0.04310347139835358,
          0.10647913813591003,
          0.07983612269163132,
          0.08351625502109528,
          0.09115072339773178,
          -0.004556518048048019,
          0.08945116400718689,
          0.025331133976578712,
          0.04853297770023346,
          0.1501486450433731,
          0.08624648302793503,
          0.037305798381567,
          0.06085190176963806,
          0.159262016415596,
          0.02124509960412979,
          0.17910069227218628,
          0.06912106275558472,
          0.04499395564198494,
          0.1107802540063858,
          0.05698299780488014,
          0.05573680251836777,
          -0.013151335529983044,
          0.1458030790090561,
          0.07148941606283188,
          0.0020577297545969486,
          0.11040632426738739,
          0.010000666603446007,
          0.13124850392341614,
          0.006241627037525177,
          0.26403939723968506,
          0.038523875176906586,
          0.015322037041187286,
          -0.006933809258043766,
          0.07427670061588287,
          0.1185169443488121,
          0.019561730325222015,
          0.041237153112888336,
          0.062475744634866714,
          0.01855894736945629,
          -0.015639448538422585,
          0.024791020900011063,
          0.17606845498085022,
          0.14311093091964722,
          0.1626960188150406,
          0.09080450236797333,
          0.13350647687911987,
          0.13608700037002563,
          0.26874828338623047,
          0.03554930537939072,
          0.08478455245494843,
          0.12737122178077698,
          0.1421528160572052,
          0.10325869917869568,
          0.034462820738554,
          0.04406118765473366,
          0.08436955511569977,
          0.08794832974672318,
          0.0020881700329482555,
          0.07943662256002426,
          0.0022467230446636677,
          0.1983993947505951,
          0.25717759132385254,
          0.2880881726741791,
          -0.009443182498216629,
          0.0894523337483406,
          0.04619395732879639,
          0.09955114126205444,
          0.09907977283000946,
          0.05659525468945503,
          0.14779745042324066,
          0.06753654778003693,
          0.010472048074007034,
          0.25598567724227905,
          0.09333808720111847,
          0.17078693211078644,
          0.06933178007602692,
          0.10155690461397171,
          0.07286076247692108,
          0.05408482626080513,
          0.13301785290241241,
          0.0469677560031414,
          0.11685718595981598,
          0.09792149066925049,
          0.07905767858028412,
          -0.005915159359574318,
          0.0470455139875412,
          0.16058313846588135,
          0.01124380063265562,
          0.03465792536735535,
          0.0055081481114029884,
          0.12768587470054626,
          0.017522286623716354,
          0.11404676735401154,
          0.06890127062797546,
          0.13659460842609406,
          0.20487453043460846,
          0.14052236080169678,
          0.06543716788291931,
          0.1893286406993866,
          0.026491336524486542,
          0.15024550259113312,
          0.08154616504907608,
          0.16005319356918335,
          0.16550210118293762,
          0.02631668746471405,
          -0.010350841097533703,
          0.07281513512134552,
          0.11295130848884583,
          0.15746605396270752,
          0.13884586095809937,
          0.0324200838804245,
          0.1270724982023239,
          0.23156997561454773,
          0.1580531746149063,
          0.10147516429424286,
          -0.02963872067630291,
          0.11354786902666092,
          0.21693995594978333,
          0.07905042916536331,
          0.06249655783176422,
          0.07431655377149582,
          0.28728851675987244,
          0.0124165378510952,
          0.005828964523971081,
          0.11352115869522095,
          0.21116697788238525,
          0.1535222977399826,
          0.060649093240499496,
          0.15821023285388947,
          0.07123273611068726,
          0.11625410616397858,
          0.21065980195999146,
          0.010084232315421104,
          0.0848233625292778,
          0.20211204886436462,
          0.2006843388080597,
          0.20205393433570862,
          0.2434314787387848,
          0.09082695096731186,
          0.049092862755060196,
          0.02945563569664955,
          0.007367895916104317,
          0.22422286868095398,
          0.08303416520357132,
          0.05410359427332878,
          0.285117506980896,
          0.07253792881965637,
          0.2055361568927765,
          0.12292419373989105,
          0.20202821493148804,
          -0.004853598773479462,
          0.15539565682411194,
          0.11505687236785889,
          0.19338367879390717,
          0.033468350768089294,
          0.014853646978735924,
          0.22270306944847107,
          0.029679538682103157,
          0.14381873607635498,
          0.07183650135993958,
          0.10161654651165009,
          0.1446954309940338,
          0.13382869958877563,
          0.1819620132446289,
          0.08047723770141602,
          0.13450777530670166,
          0.05120575428009033,
          0.027682391926646233,
          0.15113456547260284,
          0.09236260503530502,
          0.04617336764931679,
          0.19511009752750397,
          0.2565438747406006,
          0.07141095399856567,
          0.12555187940597534,
          0.10777749121189117,
          0.0801265686750412,
          0.10758395493030548,
          0.11448292434215546,
          0.10177832841873169,
          -0.02616061642765999,
          0.032687149941921234,
          0.053877782076597214,
          0.04473188519477844,
          0.12885522842407227,
          0.07934801280498505,
          0.057916346937417984,
          0.024050183594226837,
          0.15842342376708984,
          0.04107007384300232,
          0.12273318320512772,
          0.27029502391815186,
          0.2509370744228363,
          0.1629105508327484,
          0.22358256578445435,
          0.03142258897423744,
          0.04102667421102524,
          0.09547069668769836,
          0.024588853120803833,
          0.14401300251483917,
          0.27639156579971313,
          -0.011339690536260605,
          0.09013120085000992,
          0.08175887912511826,
          0.20441120862960815,
          0.11632712185382843,
          0.18056851625442505,
          0.031508319079875946,
          0.13051488995552063,
          0.0662173330783844,
          0.12428310513496399,
          0.1542816460132599,
          0.13201220333576202,
          0.027769284322857857,
          0.06221095472574234,
          0.22642451524734497,
          0.012921127490699291,
          0.1494922637939453,
          0.1908876895904541,
          0.10476642847061157,
          0.010530022904276848,
          -0.032974954694509506,
          0.06167655810713768,
          0.20470546185970306,
          0.026120806112885475,
          0.1685309261083603,
          0.15137915313243866,
          0.13313530385494232,
          0.17101922631263733
         ]
        },
        {
         "customdata": [
          [
           "cornstarch<br>pork<br>soy sauce<br>vinegar"
          ],
          [
           "chicken wing<br>chili<br>ginger<br>honey<br>lemon<br>sesame seed<br>soy sauce<br>vinegar"
          ],
          [
           "beef<br>cabbage<br>fish sauce<br>potato<br>tomato"
          ],
          [
           "bell pepper<br>carrot<br>ginger<br>peppercorn<br>raisin<br>vinegar"
          ],
          [
           "baking<br>chili<br>cornstarch<br>egg<br>eggplant<br>flour<br>soy sauce<br>vinegar"
          ],
          [
           "bell pepper<br>egg<br>rice<br>sesame oil<br>soy sauce"
          ],
          [
           "cabbage<br>carrot<br>chicken<br>corn<br>crab<br>egg<br>oyster sauce<br>pancit<br>sesame oil"
          ],
          [
           "carrot<br>cheese<br>cornstarch<br>egg<br>lumpia wrapper<br>pork"
          ],
          [
           "annatto<br>egg<br>fish<br>fish sauce<br>flour<br>lemon<br>pork<br>rice<br>shrimp"
          ],
          [
           "beef<br>bell pepper<br>cheese<br>cream cheese<br>mushroom<br>pasta<br>tomato sauce"
          ],
          [
           "carrot<br>chicken<br>mayonnaise<br>pickle<br>pineapple<br>potato"
          ],
          [
           "beef<br>butter<br>cream mushroom soup<br>mushroom<br>parsley"
          ],
          [
           "bell pepper<br>cornstarch<br>oyster sauce<br>pork<br>soy sauce"
          ],
          [
           "butter<br>cornstarch<br>ketchup<br>pork<br>soy sauce<br>star anise"
          ],
          [
           "annatto<br>banana blossom<br>beef<br>cabbage<br>eggplant<br>fish sauce<br>peanut<br>string bean"
          ],
          [
           "butter<br>chicken<br>egg<br>flour<br>milk<br>parsley"
          ],
          [
           "butter<br>carrot<br>pork<br>pork rib<br>soy sauce<br>string bean<br>tomato"
          ],
          [
           "soy sauce<br>squid<br>tomato<br>vinegar"
          ],
          [
           "chicken<br>ketchup<br>oyster sauce<br>sausage"
          ],
          [
           "carrot<br>hoisin sauce<br>jicama<br>lettuce<br>sesame oil<br>soy sauce<br>vinegar"
          ],
          [
           "beef<br>beef broth<br>cornstarch<br>egg<br>mushroom<br>parsley<br>soy sauce"
          ],
          [
           "butter<br>cheese<br>ham<br>mushroom<br>pork"
          ],
          [
           "basil<br>beef<br>cheese<br>egg<br>parsley<br>pasta<br>tomato sauce"
          ],
          [
           "bell pepper<br>carrot<br>chicken<br>coconut<br>cream mushroom<br>milk<br>potato"
          ],
          [
           "beef<br>butter<br>cornstarch<br>oyster sauce<br>soy sauce"
          ],
          [
           "corn<br>crab<br>ginger<br>mussel<br>shrimp"
          ],
          [
           "cabbage<br>carrot<br>celery<br>chicken<br>fish sauce<br>hotdog<br>milk<br>pasta"
          ],
          [
           "bean<br>butter<br>carrot<br>chicken<br>cream<br>mushroom"
          ],
          [
           "beef<br>cornstarch<br>lemon<br>peppercorn<br>soy sauce"
          ],
          [
           "butter<br>cheese<br>cream<br>grape tomato<br>lemon<br>parsley<br>pasta"
          ],
          [
           "bell pepper<br>celery<br>chicken<br>coconut<br>cream<br>fish sauce<br>ginger<br>milk<br>potato"
          ],
          [
           "bell pepper<br>butter<br>cheese<br>lemon<br>mayonnaise<br>salmon"
          ],
          [
           "bell pepper<br>carrot<br>chicken<br>cornstarch<br>pineapple<br>soy sauce"
          ],
          [
           "chicken<br>ketchup<br>lemon<br>pork<br>soy sauce"
          ],
          [
           "baking soda<br>ketchup<br>lemon<br>pineapple<br>pork<br>soy sauce<br>squid<br>tomato"
          ],
          [
           "beef<br>butter<br>flour<br>milk<br>potato<br>rosemary<br>thyme"
          ],
          [
           "chicken<br>chili<br>cornstarch<br>crab<br>egg<br>ginger<br>ketchup<br>tomato"
          ],
          [
           "carrot<br>egg<br>fish sauce<br>pea<br>pork<br>potato<br>raisin<br>tomato"
          ],
          [
           "beef<br>broccoli<br>carrot<br>cornstarch<br>oyster sauce<br>sesame oil<br>sesame seed<br>soy sauce"
          ],
          [
           "chicken<br>egg<br>fish sauce<br>ginger<br>lemon<br>rice<br>scallion"
          ],
          [
           "breadcrumb<br>laurel<br>pork<br>soy sauce<br>vinegar"
          ],
          [
           "bell pepper<br>lemon<br>mayonnaise<br>tofu"
          ],
          [
           "bell pepper<br>carrot<br>oxtail<br>peas<br>peppercorn<br>pork<br>sausage<br>tomato sauce"
          ],
          [
           "beef<br>egg<br>ginger<br>miki pasta<br>potato<br>soy sauce<br>star anise"
          ],
          [
           "bell pepper<br>carrot<br>hotdog<br>laurel<br>pea<br>pork<br>potato<br>soy sauce<br>tomato sauce"
          ],
          [
           "beef<br>egg<br>fish sauce<br>flour<br>pasta<br>patola<br>pork"
          ],
          [
           "bean<br>bell pepper<br>chicken<br>ketchup<br>pea<br>soy sauce<br>tomato<br>tomato sauce"
          ],
          [
           "banana<br>bay leaf<br>carrot<br>peppercorn<br>pork<br>soy sauce<br>vinegar"
          ],
          [
           "annatto<br>baking<br>bay leaf<br>egg<br>flour<br>margarine<br>pork<br>rice"
          ],
          [
           "beef<br>fish sauce<br>mung bean<br>pork<br>spinach<br>tomato"
          ],
          [
           "banana<br>beef<br>beef broth<br>cabbage<br>celery<br>potato<br>star anise"
          ],
          [
           "cabbage<br>cornstarch<br>mushroom<br>peppercorn<br>pork<br>sesame oil<br>soy sauce<br>star anise<br>wine"
          ],
          [
           "bell pepper<br>breadcrumb<br>carrot<br>chicken<br>cornstarch<br>egg<br>ketchup<br>vinegar"
          ],
          [
           "bagoong<br>eggplant<br>pork<br>tomato<br>vinegar"
          ],
          [
           "butter<br>cheese<br>cream<br>parsley<br>salmon<br>spinach<br>sun tomato"
          ],
          [
           "annatto<br>banana<br>cabbage<br>eggplant<br>flour<br>peanut<br>pork<br>shrimp<br>string bean"
          ],
          [
           "bell pepper<br>carrot<br>chicken<br>fish sauce<br>milk<br>pineapple<br>tomato"
          ],
          [
           "bell pepper<br>carrot<br>chicken<br>coconut<br>fish sauce<br>milk<br>pineapple<br>tomato"
          ],
          [
           "bean<br>pineapple<br>pork<br>soy sauce<br>star anise<br>tofu<br>vinegar"
          ],
          [
           "beef<br>butter<br>cream<br>cream mushroom<br>kernel corn"
          ],
          [
           "fish sauce<br>ketchup<br>peppercorn<br>pineapple<br>pork rib<br>potato<br>soy sauce<br>tomato"
          ],
          [
           "carrot<br>cheese<br>chicken<br>mayonnaise<br>pea<br>potato<br>relish"
          ],
          [
           "egg<br>fish tomato sauce<br>flour<br>pasta"
          ],
          [
           "beef<br>bell pepper<br>corn<br>cornstarch<br>oyster sauce<br>pea<br>soy sauce<br>wine"
          ],
          [
           "bell pepper<br>carrot<br>cheese<br>chicken<br>chili<br>potato<br>tomato<br>tomato sauce"
          ],
          [
           "carrot<br>egg<br>jicama<br>pork<br>scallion<br>sesame oil<br>wonton wrapper"
          ],
          [
           "carrot<br>cornstarch<br>egg<br>ketchup<br>lumpia wrapper<br>pork<br>singkama<br>soy sauce<br>vinegar"
          ],
          [
           "ketchup<br>lemon<br>pork<br>soy sauce"
          ],
          [
           "annatto<br>beef<br>cabbage<br>eggplant<br>flour<br>peanut<br>shrimp<br>snake bean"
          ],
          [
           "egg<br>ginger<br>pea<br>pork<br>rice<br>shrimp<br>soy sauce"
          ],
          [
           "chicken<br>flour<br>lemon<br>soy sauce"
          ],
          [
           "cabbage<br>carrot<br>chicken<br>peas<br>soy sauce"
          ],
          [
           "bell pepper<br>chicken<br>coconut<br>ginger<br>milk<br>patis pepper<br>pea<br>pork<br>potato"
          ],
          [
           "bagoong<br>chicken<br>chili<br>coconut<br>ginger<br>milk"
          ],
          [
           "hotdog<br>pasta<br>pork<br>tomato sauce"
          ],
          [
           "banana<br>cabbage<br>chicken<br>chicken broth<br>fish sauce<br>peppercorn<br>potato"
          ],
          [
           "beef rib<br>chili<br>rice wine<br>sesame oil<br>soy sauce"
          ],
          [
           "carrot<br>chicken<br>egg<br>lumpia wrapper"
          ],
          [
           "bean<br>chili<br>coconut<br>ginger<br>milk<br>pork<br>shrimp<br>spinach"
          ],
          [
           "beef<br>butter<br>cream<br>mayonnaise<br>mushroom"
          ],
          [
           "butter<br>cheese<br>cream<br>salmon<br>spinach<br>wine"
          ],
          [
           "carrot<br>celery<br>egg<br>flour<br>lemon<br>pork<br>soy sauce<br>squid<br>tomato"
          ],
          [
           "bell pepper<br>celery<br>lemon<br>mayonnaise<br>pasta"
          ],
          [
           "ketchup<br>lemon<br>pork<br>soy sauce"
          ],
          [
           "bell pepper<br>carrot<br>cauliflower<br>chicken<br>cornstarch<br>pea"
          ],
          [
           "cheese<br>egg<br>lumpia wrapper<br>pork"
          ],
          [
           "beef broth<br>chili<br>cornstarch<br>fish sauce<br>ginger<br>lemongrass"
          ],
          [
           "ketchup<br>lemon<br>pork<br>soy sauce<br>vegetable oil"
          ],
          [
           "beef<br>egg<br>pineapple<br>rice"
          ],
          [
           "cabbage<br>carrot<br>celery<br>chicken<br>parsley<br>pasta<br>soy sauce"
          ],
          [
           "bay leaf<br>egg<br>peppercorn<br>pineapple<br>pork<br>soy sauce<br>vinegar"
          ],
          [
           "cabbage<br>carrot<br>celery<br>chicken<br>hotdog<br>milk<br>pasta"
          ],
          [
           "bay leaf<br>beef broth<br>bell pepper<br>carrot<br>chili<br>potato<br>tomato sauce"
          ],
          [
           "basil<br>beef<br>bread crumb<br>cheese<br>egg<br>pasta<br>pork<br>tomato<br>tomato sauce"
          ],
          [
           "beef<br>bread crumb<br>butter<br>cornstarch<br>ketchup<br>milk<br>mustard<br>potato<br>soy sauce"
          ],
          [
           "carrot<br>chicken<br>mushroom<br>oyster sauce<br>pasta<br>scallion<br>wine"
          ],
          [
           "bagoong<br>eggplant<br>pork<br>tomato<br>vinegar"
          ],
          [
           "carrot<br>egg<br>jicama<br>pork<br>sesame oil<br>wonton wrapper"
          ],
          [
           "carrot<br>egg<br>lumpia wrapper<br>parsley<br>pork<br>sesame oil"
          ],
          [
           "basil<br>beef<br>cheese<br>parsley<br>pasta<br>sausage<br>tomato"
          ],
          [
           "bell pepper<br>celery<br>chicken<br>chili<br>coconut<br>fish sauce<br>potato"
          ],
          [
           "cheese<br>hotdog<br>pasta<br>pork<br>tomato<br>tomato sauce"
          ],
          [
           "carrot<br>egg<br>lumpia wrapper<br>parsley<br>pork<br>sesame oil"
          ],
          [
           "annatto<br>bagoong<br>cabbage<br>chicken<br>chicken broth<br>cornstarch<br>eggplant<br>peanut butter<br>snake bean"
          ],
          [
           "bread<br>cornstarch<br>ginger<br>soy sauce<br>vegetable oil"
          ],
          [
           "bagoong<br>cabbage<br>cornstarch<br>eggplant<br>peanut butter<br>pork<br>snake bean"
          ],
          [
           "bean<br>beef<br>chili<br>coconut<br>fish sauce<br>milk<br>spinach"
          ],
          [
           "fish sauce<br>parsley<br>pork<br>shrimp<br>squash<br>tomato"
          ],
          [
           "eggplant<br>fish<br>malunggay<br>okra<br>papaya<br>patola<br>spinach<br>squash<br>tomato"
          ],
          [
           "bean<br>beef<br>cabbage<br>corn<br>fish sauce<br>peppercorn"
          ],
          [
           "chili<br>cinnamon<br>lemongrass<br>pork<br>soy sauce<br>tofu<br>vinegar"
          ],
          [
           "beef<br>cabbage<br>mushroom<br>oxtail<br>scallion<br>star anise"
          ],
          [
           "bagoong<br>bay leaf<br>chili<br>coconut<br>jackfruit<br>milk<br>mung bean<br>peppercorn<br>pork"
          ],
          [
           "bell pepper<br>chili<br>coconut<br>ginger<br>lemon<br>milk<br>parsley<br>shrimp<br>tomato"
          ],
          [
           "chili<br>coconut<br>coconut cream<br>fish sauce<br>milk<br>shrimp<br>snake bean<br>squash"
          ],
          [
           "beef broth<br>corn<br>cornstarch<br>oyster sauce<br>peas<br>pork<br>soy sauce"
          ],
          [
           "butter<br>chili<br>cornstarch<br>cream<br>egg<br>shrimp<br>wine"
          ],
          [
           "bitter gourd<br>chili<br>coconut<br>fish sauce<br>milk<br>mung bean<br>pork<br>spinach"
          ],
          [
           "bell pepper<br>carrot<br>chicken<br>chicken broth<br>lime<br>potato<br>raisin<br>soy sauce<br>tomato sauce"
          ],
          [
           "bay leaf<br>bread crumb<br>carrot<br>celery<br>chicken<br>egg<br>egg pasta<br>parsley"
          ],
          [
           "beef<br>beef broth<br>chili<br>fish sauce<br>papaya<br>spinach"
          ],
          [
           "cabbage<br>carrot<br>chicken<br>chicken broth<br>egg<br>egg pasta<br>scallion"
          ],
          [
           "bean<br>beef<br>cabbage<br>soy sauce<br>tomato"
          ],
          [
           "bean<br>beef<br>cabbage<br>corn<br>fish sauce<br>peppercorn"
          ],
          [
           "chili<br>coconut<br>coconut cream<br>fish sauce<br>milk<br>pork<br>spinach"
          ],
          [
           "beef<br>beef broth<br>carrot<br>pea<br>potato<br>raisin<br>tomato"
          ],
          [
           "chicken<br>chicken broth<br>egg<br>fish sauce<br>lemon<br>rice<br>scallion"
          ],
          [
           "fish<br>parsley<br>pasta<br>sun tomato"
          ],
          [
           "bell pepper<br>lemon<br>rice<br>squid<br>tomato<br>wine"
          ],
          [
           "butter<br>chili<br>parsley<br>shrimp"
          ],
          [
           "bay leaf<br>carrot<br>ginger<br>pork<br>potato<br>raisin<br>soy sauce<br>tomato sauce"
          ],
          [
           "chicken broth<br>chili<br>paprika<br>rice"
          ],
          [
           "carrot<br>egg<br>jicama<br>parsley<br>pork"
          ],
          [
           "bell pepper<br>broccoli<br>cabbage<br>cauliflower<br>chicken broth<br>corn<br>cornstarch<br>peas<br>shrimp"
          ],
          [
           "bell pepper<br>cabbage<br>chicken broth<br>fish sauce<br>pork<br>tomato"
          ],
          [
           "carrot<br>celery<br>egg<br>fish<br>jicama<br>lumpia wrapper<br>parsley"
          ],
          [
           "butter<br>chili<br>egg<br>flour<br>pork rib<br>sausage"
          ],
          [
           "cabbage<br>fish sauce<br>ginger<br>radish<br>scallion<br>shrimp"
          ],
          [
           "bean<br>bitter gourd<br>chili<br>fish<br>fish sauce<br>shrimp<br>tomato"
          ],
          [
           "chicken broth<br>chili<br>cornstarch<br>ginger<br>pork<br>scallion<br>sesame oil<br>tofu"
          ],
          [
           "egg<br>fish<br>patis<br>scallion<br>tomato"
          ],
          [
           "eggplant<br>fish<br>lemon<br>shrimp<br>tomato"
          ],
          [
           "chili<br>cornstarch<br>soy sauce<br>tofu<br>vegetable broth"
          ],
          [
           "egg<br>eggplant<br>pork<br>tomato"
          ],
          [
           "bell pepper<br>butter<br>mayonnaise<br>tofu"
          ],
          [
           "beef broth<br>bottle gourd<br>pork<br>tomato"
          ],
          [
           "beef<br>garlic rice<br>ginger<br>soy sauce<br>star anise"
          ],
          [
           "bell pepper<br>butter<br>cheese<br>sausage<br>wine"
          ],
          [
           "egg<br>lemon<br>pork<br>rice<br>soy sauce"
          ],
          [
           "ketchup<br>lemon<br>pork<br>soy sauce"
          ],
          [
           "butternut squash<br>chicken broth<br>malunggay<br>shrimp<br>snake bean"
          ],
          [
           "butter<br>cheese<br>cream<br>lobster<br>pasta"
          ],
          [
           "chicken<br>egg<br>fish sauce<br>rice<br>scallion"
          ],
          [
           "fish sauce<br>malunggay<br>mung bean<br>pork<br>spinach<br>tomato"
          ],
          [
           "cabbage<br>carrot<br>celery<br>parsley<br>pasta<br>peas<br>shrimp<br>soy sauce"
          ],
          [
           "beef broth<br>egg<br>pork<br>soy sauce<br>tofu<br>vegetable oil"
          ],
          [
           "fish sauce<br>fish tomato sauce<br>melon<br>scallion"
          ],
          [
           "bean<br>bell pepper<br>chicken broth<br>oyster sauce<br>snake bean<br>tofu"
          ],
          [
           "butter<br>chili<br>scallion<br>shrimp"
          ],
          [
           "coconut<br>eggplant<br>ginger<br>melon<br>milk<br>okra<br>shrimp<br>snake bean<br>squid"
          ],
          [
           "chili<br>pork<br>rice pasta<br>scallion<br>sesame oil<br>wonton wrapper"
          ],
          [
           "mung bean<br>patis<br>spinach<br>tomato"
          ],
          [
           "beef<br>bell pepper<br>cornstarch<br>oyster sauce<br>scallion"
          ],
          [
           "chili<br>coconut<br>milk<br>mussel<br>shrimp<br>squid"
          ],
          [
           "chicken<br>fish sauce<br>patola<br>scallion"
          ],
          [
           "butter<br>carrot<br>egg<br>pea<br>rice"
          ],
          [
           "coconut cream<br>fish sauce<br>malunggay<br>papaya<br>pork"
          ],
          [
           "chicken<br>coconut<br>fish sauce<br>malunggay<br>milk<br>papaya"
          ],
          [
           "chicken<br>fish sauce<br>ginger<br>malunggay<br>papaya<br>vegetable oil"
          ],
          [
           "beef<br>cornstarch<br>oyster sauce<br>pea<br>sherry<br>soy sauce"
          ],
          [
           "cabbage<br>carrot<br>mung bean<br>scallion<br>shrimp"
          ],
          [
           "butter<br>clam<br>lemon<br>parsley<br>wine"
          ],
          [
           "bay leaf<br>bell pepper<br>pork<br>soy sauce<br>vinegar"
          ],
          [
           "chili<br>coconut<br>fish<br>fish sauce<br>malunggay<br>milk"
          ],
          [
           "beef<br>beef hotdog<br>carrot<br>egg<br>flour<br>soy sauce<br>tomato sauce"
          ],
          [
           "fish<br>fish sauce<br>miso<br>mustard<br>radish<br>tamarind<br>tomato"
          ],
          [
           "cornstarch<br>ginger<br>pork<br>rice<br>scallion<br>soy sauce"
          ],
          [
           "egg<br>flour<br>papaya<br>pork<br>rice"
          ],
          [
           "bell pepper<br>cabbage<br>carrot<br>cauliflower<br>cornstarch<br>egg<br>oyster sauce<br>pork<br>shrimp"
          ],
          [
           "annatto<br>beef<br>chili<br>fish sauce<br>jackfruit<br>plum tomato<br>tamarind"
          ],
          [
           "chili<br>coconut<br>crab<br>milk<br>shrimp<br>spinach"
          ],
          [
           "fish<br>fish sauce<br>mung bean<br>plum tomato"
          ],
          [
           "duck egg<br>fish<br>plum tomato<br>rice"
          ],
          [
           "bean<br>coconut<br>fish sauce<br>milk<br>pork"
          ],
          [
           "butter<br>egg<br>plum tomato<br>spinach"
          ],
          [
           "beef<br>celery<br>fish sauce<br>miki pasta<br>pork<br>scallion"
          ],
          [
           "chicken<br>chicken broth<br>egg<br>fish sauce<br>pork<br>scallion<br>sesame oil<br>shrimp"
          ],
          [
           "carrot<br>egg<br>lumpia wrapper<br>pork"
          ],
          [
           "chili<br>coconut<br>fish<br>jackfruit<br>malunggay<br>milk<br>shrimp<br>vinegar"
          ],
          [
           "beef<br>beef broth<br>broccoli<br>cornstarch<br>ginger<br>oyster sauce<br>soy sauce<br>wine"
          ],
          [
           "bay leaf<br>beef<br>bell pepper<br>pork<br>potato<br>tomato"
          ],
          [
           "beef<br>bell pepper<br>egg<br>soy sauce"
          ],
          [
           "fish<br>fish sauce<br>squash<br>string bean"
          ],
          [
           "annatto<br>beer<br>chicken<br>ginger<br>lime<br>margarine<br>soy sauce<br>vinegar"
          ],
          [
           "chili<br>coconut<br>fish<br>fish sauce<br>jackfruit<br>malunggay<br>milk"
          ],
          [
           "beef broth<br>pineapple<br>pork<br>soy sauce"
          ],
          [
           "beef<br>beef broth<br>eggplant<br>fish sauce<br>okra<br>spinach<br>string bean<br>taro<br>tomato"
          ],
          [
           "beef broth<br>bell pepper<br>carrot<br>pea<br>pork<br>potato<br>tomato"
          ],
          [
           "beef broth<br>pork<br>soy sauce<br>spinach"
          ],
          [
           "chicken<br>chili<br>margarine<br>pork<br>vinegar"
          ],
          [
           "chili<br>coconut<br>ginger<br>milk<br>shrimp<br>spinach"
          ],
          [
           "beef<br>beef broth<br>butter<br>mushroom<br>oregano<br>parsley<br>tomato"
          ],
          [
           "basil<br>bell pepper<br>chili<br>fish sauce<br>pork<br>soy sauce"
          ],
          [
           "butter<br>lime<br>mussel<br>parsley<br>wine"
          ],
          [
           "chili<br>coconut cream<br>fish sauce<br>ginger<br>spinach<br>squid"
          ],
          [
           "barbecue sauce<br>chicken<br>lemon<br>paprika<br>soy sauce"
          ],
          [
           "celery<br>chicken broth<br>flour<br>oregano<br>plum tomato<br>pork<br>potato<br>thyme"
          ],
          [
           "ketchup<br>lemon<br>pork<br>soy sauce"
          ],
          [
           "beef<br>broccoli<br>cornstarch<br>egg pasta<br>ginger<br>oyster sauce<br>sherry wine<br>soy sauce"
          ],
          [
           "chili<br>fish<br>fish sauce<br>guava<br>okra<br>spinach<br>tomato"
          ],
          [
           "banana<br>cornstarch<br>egg<br>pork<br>rice<br>vinegar"
          ],
          [
           "apple vinegar<br>chili<br>fish<br>soy sauce<br>tofu"
          ],
          [
           "apple vinegar<br>buttermilk<br>cream<br>dill<br>mayonnaise<br>sauce"
          ],
          [
           "bell pepper<br>chicken broth<br>egg<br>fish sauce<br>parsley<br>plum tomato<br>scallion"
          ],
          [
           "beef broth<br>eggplant<br>plum tomato<br>pork<br>shrimp"
          ],
          [
           "beef broth<br>cornstarch<br>oyster sauce<br>sesame seed<br>spinach"
          ],
          [
           "fish<br>fish sauce<br>miso<br>okra<br>spinach<br>string bean<br>tomato"
          ],
          [
           "broccoli<br>cornstarch<br>ginger<br>oyster sauce<br>sherry wine<br>soy sauce"
          ],
          [
           "bean<br>fish sauce<br>plum tomato<br>pork"
          ],
          [
           "beef<br>bell pepper<br>buttermilk<br>carrot<br>goat<br>potato"
          ],
          [
           "fish sauce<br>malunggay<br>papaya<br>parsley"
          ],
          [
           "butter<br>ketchup<br>sauce<br>sherry wine"
          ],
          [
           "chili<br>cucumber<br>pork<br>vinegar"
          ],
          [
           "chili<br>coconut<br>fish<br>fish sauce<br>ginger<br>malunggay<br>milk<br>papaya"
          ],
          [
           "basil<br>cheese<br>dried fish<br>pasta"
          ],
          [
           "chicken broth<br>cornstarch<br>egg<br>ginger"
          ],
          [
           "cabbage<br>carrot<br>chicken<br>parsley<br>pasta<br>pea<br>pork<br>sausage<br>soy sauce"
          ],
          [
           "butter<br>cabbage<br>carrot<br>celery<br>chicken<br>chicken broth<br>milk<br>pasta"
          ],
          [
           "beef<br>beef broth<br>carrot<br>celery<br>cheese<br>oregano<br>potato<br>soy sauce<br>tomato"
          ],
          [
           "chicken<br>cornstarch<br>egg<br>flour<br>orange<br>soy sauce<br>vinegar"
          ],
          [
           "butter<br>cheese<br>oregano<br>pasta"
          ],
          [
           "bagoong<br>fish<br>mung bean<br>spinach<br>tomato"
          ],
          [
           "bell pepper<br>butter<br>rice<br>saffron"
          ],
          [
           "beef<br>bell pepper<br>ginger<br>rice<br>sesame oil<br>soy sauce<br>vinegar"
          ],
          [
           "beef<br>egg<br>ginger<br>oxtail<br>pork<br>rice"
          ],
          [
           "chili<br>coconut<br>fish sauce<br>jackfruit<br>milk<br>pork"
          ],
          [
           "butter<br>carrot<br>celery<br>chicken<br>chicken broth<br>egg pasta<br>parsley<br>thyme"
          ],
          [
           "basil<br>beef<br>carrot<br>oregano<br>pasta<br>thyme<br>tomato"
          ],
          [
           "chicken<br>lemon<br>rosemary<br>vegetable"
          ],
          [
           "carrot<br>crab<br>egg<br>pork<br>sesame oil<br>wonton wrapper"
          ],
          [
           "coconut<br>fish sauce<br>ginger<br>milk<br>shrimp<br>spinach"
          ],
          [
           "bay leaf<br>beef broth<br>carrot<br>ginger<br>pea<br>pork<br>potato<br>raisin<br>tomato sauce"
          ],
          [
           "bell pepper<br>clam<br>linguine<br>scallion<br>wine"
          ],
          [
           "avocado<br>chili<br>cilantro<br>lime<br>plum tomato"
          ],
          [
           "chicken<br>fish sauce<br>nutmeg<br>soy sauce<br>wine"
          ],
          [
           "anchovy<br>fish sauce<br>malunggay<br>mung bean<br>plum tomato"
          ],
          [
           "bell pepper<br>lemongrass<br>pork rib<br>rice<br>string bean<br>taro"
          ],
          [
           "soy sauce<br>string bean<br>tofu<br>vinegar"
          ],
          [
           "ketchup<br>lemon<br>pork<br>soy sauce"
          ],
          [
           "chayote<br>chicken<br>chicken broth<br>shrimp"
          ],
          [
           "banana<br>cabbage<br>peppercorn<br>pork<br>potato"
          ],
          [
           "chicken<br>chili<br>coconut<br>ginger<br>milk<br>pea<br>potato<br>tomato"
          ],
          [
           "beef<br>coconut<br>ginger<br>milk<br>serrano pepper<br>shrimp"
          ],
          [
           "beef<br>chili<br>miki pasta<br>vegetable oil"
          ],
          [
           "butter<br>chicken<br>egg<br>mayonnaise<br>serrano pepper<br>soy sauce"
          ],
          [
           "chicken<br>chicken broth<br>ginger<br>patis<br>rice<br>tofu"
          ],
          [
           "beef<br>sesame oil<br>sesame seed<br>soy sauce<br>tofu<br>vinegar"
          ],
          [
           "cabbage<br>chicken<br>chicken broth<br>fish sauce<br>ginger<br>peppercorn<br>potato"
          ],
          [
           "beef broth<br>cabbage<br>soy sauce<br>string bean<br>tomato"
          ],
          [
           "chicken broth<br>corn<br>jicama<br>vegetable<br>wine"
          ],
          [
           "egg<br>fish sauce<br>parsley<br>tofu<br>tomato"
          ],
          [
           "pork<br>soy sauce<br>tofu<br>vinegar"
          ],
          [
           "chicken<br>ginger<br>mung bean<br>scallion<br>sesame oil<br>sesame seed<br>soy sauce<br>wine"
          ],
          [
           "beef broth<br>pasta<br>pork<br>tomato<br>tomato sauce"
          ],
          [
           "chicken<br>chicken broth<br>rice pasta<br>scallion"
          ],
          [
           "butter<br>chicken<br>corn<br>ginger<br>lemon<br>sesame oil<br>soy sauce"
          ],
          [
           "chili<br>cilantro<br>cream<br>cumin<br>flour tortilla<br>lemon<br>sauce<br>shrimp<br>tomato"
          ],
          [
           "bean<br>cabbage<br>carrot<br>egg<br>ginger<br>sesame oil<br>soy sauce<br>spring wrapper"
          ],
          [
           "basil<br>beef<br>chili<br>fish sauce"
          ],
          [
           "beef<br>broccoli<br>cornstarch<br>oyster sauce<br>soy sauce"
          ],
          [
           "almond<br>celery<br>cream<br>mayonnaise<br>pickle<br>potato"
          ],
          [
           "butter<br>cheese<br>chicken<br>chicken broth<br>flour<br>lemon<br>parsley"
          ],
          [
           "basil<br>cheese<br>chicken<br>pasta<br>sun tomato"
          ],
          [
           "dijon mustard<br>mayonnaise<br>parsley<br>pork<br>potato<br>soy sauce"
          ],
          [
           "bean<br>cornstarch<br>oyster sauce<br>parsley<br>pork"
          ],
          [
           "coconut<br>fish<br>fish sauce<br>knob ginger<br>milk<br>serrano pepper"
          ],
          [
           "annatto<br>cabbage<br>eggplant<br>fish sauce<br>peanut<br>peanut butter<br>pork<br>shrimp<br>string bean"
          ],
          [
           "cornstarch<br>lemon<br>sesame oil<br>sesame seed<br>soy sauce"
          ],
          [
           "chili<br>coconut<br>fish sauce<br>ginger<br>milk<br>mussel<br>spinach"
          ],
          [
           "cheese<br>fish<br>paprika<br>parsley"
          ],
          [
           "beef hotdog<br>chili<br>mustard<br>pickle<br>tomato"
          ],
          [
           "ketchup<br>lemon<br>pork<br>soy sauce"
          ],
          [
           "dijon mustard<br>orange<br>spinach<br>strawberry<br>vinegar<br>walnut"
          ],
          [
           "beef broth<br>flour<br>oyster sauce<br>pork<br>soy sauce<br>zucchini"
          ],
          [
           "chicken<br>lemon<br>parsley<br>rosemary<br>thyme"
          ],
          [
           "bell pepper<br>broccoli<br>carrot<br>rice"
          ],
          [
           "carrot<br>celery<br>chicken<br>pasta"
          ],
          [
           "chili sauce<br>fish sauce<br>hoisin sauce<br>knob ginger<br>sesame oil"
          ],
          [
           "apple<br>chicken<br>lemon<br>mayonnaise"
          ],
          [
           "barbecue sauce<br>beef rib<br>ketchup<br>lime<br>soy sauce"
          ],
          [
           "carrot<br>chicken<br>chicken broth<br>ginger<br>oyster sauce<br>pea<br>scallion<br>sesame oil<br>soy sauce"
          ],
          [
           "bay leaf<br>cornstarch<br>flour<br>peppercorn<br>sherry<br>soy sauce<br>wine vinegar"
          ],
          [
           "banana<br>beef<br>egg<br>pea<br>pork<br>raisin<br>rice<br>soy sauce<br>tomato"
          ],
          [
           "chicken<br>lemon<br>potato<br>rosemary"
          ],
          [
           "butter<br>cheese<br>lemon<br>potato"
          ],
          [
           "egg<br>garlic rice<br>pork<br>soy sauce"
          ],
          [
           "bell pepper<br>carrot<br>cornstarch<br>ketchup<br>pineapple<br>vinegar"
          ],
          [
           "ginger<br>spinach<br>tomato<br>vegetable broth"
          ],
          [
           "ginger<br>pork<br>sesame oil<br>sesame seed<br>soy sauce"
          ],
          [
           "bell pepper<br>carrot<br>cornstarch<br>ketchup<br>pineapple<br>soy sauce<br>tofu<br>vinegar"
          ],
          [
           "butter<br>chicken<br>corn<br>paprika"
          ],
          [
           "bean<br>chili<br>coconut<br>milk<br>pork<br>shrimp"
          ],
          [
           "beef broth<br>butter<br>cream<br>flour<br>pork"
          ],
          [
           "beef<br>broccoli<br>cornstarch<br>oyster sauce"
          ],
          [
           "chili<br>coconut<br>coconut cream<br>fish<br>ginger<br>milk<br>pork"
          ],
          [
           "beef<br>beef broth<br>broccoli<br>ginger<br>oyster sauce<br>pasta<br>sesame oil<br>sherry<br>soy sauce"
          ],
          [
           "carrot<br>cornstarch<br>mushroom<br>peas<br>soy sauce<br>tofu<br>vegetable oil"
          ],
          [
           "beef<br>fruit<br>pork<br>potato"
          ],
          [
           "butter<br>celery<br>clam<br>pork<br>potato<br>thyme"
          ],
          [
           "beef<br>bell pepper<br>butter<br>cheese<br>soy sauce"
          ],
          [
           "cabbage<br>carrot<br>chicken<br>chicken broth<br>mushroom<br>pork"
          ],
          [
           "chicken<br>chicken broth<br>cornstarch<br>egg<br>ginger<br>kernel corn<br>sesame oil<br>soy sauce"
          ],
          [
           "banana<br>bean<br>cabbage<br>fish sauce<br>peppercorn<br>pork<br>potato<br>tomato<br>tomato sauce"
          ],
          [
           "bitter gourd<br>bread<br>carrot<br>egg<br>paprika<br>pork"
          ],
          [
           "chili<br>coconut<br>milk<br>shrimp"
          ],
          [
           "bread<br>chicken<br>dijon mustard<br>lemon<br>mayonnaise<br>soy sauce"
          ],
          [
           "chicken broth<br>cream<br>parsley<br>squash"
          ],
          [
           "coconut<br>crab<br>fish sauce<br>milk<br>string bean"
          ],
          [
           "chili<br>fish<br>fish sauce<br>mustard<br>tomato"
          ],
          [
           "chicken<br>chicken broth<br>coconut<br>fish sauce<br>knob ginger<br>lemongrass<br>papaya"
          ],
          [
           "bean<br>oyster sauce<br>parsley<br>pork<br>soy sauce<br>tofu"
          ],
          [
           "cream cheese<br>pasta<br>shrimp<br>thyme<br>tomato"
          ],
          [
           "bay leaf<br>cheese<br>chili<br>oregano<br>parsley<br>tomato<br>tomato sauce"
          ],
          [
           "pork<br>shrimp<br>tomato<br>vinegar"
          ],
          [
           "crab<br>cream<br>pasta<br>rice wine"
          ],
          [
           "cheese<br>chicken<br>spinach<br>thyme"
          ],
          [
           "basil<br>chicken<br>chicken broth<br>cream<br>pasta"
          ],
          [
           "chili<br>fish sauce<br>pork<br>tamarind<br>vinegar<br>wine"
          ],
          [
           "chicken wing<br>fish sauce<br>ginger<br>lemon<br>oyster sauce<br>soy sauce"
          ],
          [
           "egg<br>fish sauce<br>miki pasta<br>pork<br>soy sauce"
          ],
          [
           "cabbage<br>ginger<br>oyster sauce<br>sesame oil<br>soy sauce<br>vegetable oil"
          ],
          [
           "fish<br>fish sauce<br>pasta<br>scallion"
          ],
          [
           "butter<br>celery<br>chicken<br>lemon<br>thyme"
          ],
          [
           "annatto<br>carrot<br>celery<br>chicken<br>fish sauce<br>pasta<br>peppercorn"
          ],
          [
           "bell pepper<br>egg<br>pea<br>pork<br>tomato"
          ],
          [
           "pork<br>rice wine<br>soy sauce<br>spice"
          ],
          [
           "carrot<br>egg<br>pork<br>potato<br>tomato sauce"
          ],
          [
           "chili<br>cornstarch<br>ginger<br>peanut<br>sesame oil<br>shrimp<br>soy sauce<br>vinegar"
          ],
          [
           "cheese<br>egg<br>lemon<br>lettuce<br>soy sauce"
          ],
          [
           "beef broth<br>egg<br>fish sauce<br>knob ginger<br>lemon<br>oxtail<br>rice<br>scallion"
          ],
          [
           "cream<br>lemon<br>mayonnaise<br>shrimp"
          ],
          [
           "annatto<br>chestnut<br>chicken<br>egg<br>fish sauce<br>pork<br>wonton wrapper"
          ],
          [
           "bell pepper<br>broccoli<br>chicken<br>cornstarch<br>egg<br>oyster sauce<br>rice wine<br>soy sauce"
          ],
          [
           "basil<br>beef<br>cheese<br>egg<br>parsley<br>pasta<br>tomato<br>tomato sauce"
          ],
          [
           "chicken<br>cornstarch<br>egg<br>flour<br>orange<br>soy sauce<br>vinegar"
          ],
          [
           "eggplant<br>melon<br>okra<br>pork<br>potato<br>string bean<br>tomato"
          ],
          [
           "bean<br>cornstarch<br>egg<br>fish<br>parsley"
          ],
          [
           "cheese<br>ketchup<br>pasta<br>pork<br>tomato sauce"
          ],
          [
           "bean<br>chicken<br>chili<br>cornstarch<br>ginger<br>oyster sauce<br>soy sauce"
          ],
          [
           "cabbage<br>carrot<br>celery<br>chicken<br>pancit pasta<br>peas<br>pork<br>soy sauce"
          ],
          [
           "beef broth<br>pineapple<br>pork<br>soy sauce"
          ]
         ],
         "hovertemplate": "<b>%{hovertext}</b><br><br>cluster=4<br>x=%{x}<br>y=%{y}<br>z=%{z}<br>cleaned_ingredients=%{customdata[0]}<extra></extra>",
         "hovertext": [
          "Skinless Longganisa",
          "Plum Sauce Chicken Lollipops",
          "Beef, Potato and Pechay Soup",
          "Atchara",
          "Fried Eggplant (Crispy Fritters / Talong Okoy)",
          "Ham Fried Rice",
          "Crispy Pancit Canton Noodles Recipe",
          "Cheesy Lumpiang Shanghai",
          "Crispy Palabok",
          "One Pot Spaghetti",
          "Fried Chicken Potato Salad",
          "Creamy Beef with Mushroom",
          "Pepper Pork Belly Recipe",
          "Pork Belly Asado",
          "Kare Kare Buntot ng Baka",
          "Butter Garlic Fried Chicken",
          "Sinarsahang Pork Ribs",
          "Tastylicious Adobong Pusit Recipe",
          "Stir Fried Chicken Franks",
          "Asian Chicken Lettuce Wrap",
          "Loco Moco Recipe",
          "Cheesy Ham Steak with Bacon and Mushroom",
          "Lasagna Roll-Ups",
          "Christmas Chicken Curry",
          "Garlic Pepper Beef",
          "Seafood Boil",
          "Pinoy Chicken Sopas",
          "Creamy Mushroom Chicken",
          "Filipino Style Beef Steak",
          "Lemon Garlic Shrimp Pasta",
          "Pinoy Chicken Curry Recipe",
          "Baked Garlic Salmon and Easy Tofu Sisig",
          "Malapot na Pininyahang Manok",
          "Filipino Style Pork and Chicken Barbecue",
          "Inihaw na Liempo at Pusit",
          "How to Cook Steak",
          "Chili Garlic Crab and Shrimp Recipe",
          "Pork Picadillo Recipe",
          "Beef Broccoli Recipe with Carrots",
          "Arroz Caldo Recipe",
          "Homemade Lechon Paksiw",
          "Sizzling Tofu Sisig",
          "Callos Recipe",
          "Beef Pares Lomi",
          "Masarsang Menudo",
          "Almondigas Recipe",
          "Sinarsahang Manok",
          "Pata Estofado Recipe",
          "Java Rice with Pork chop",
          "Ginisang Munggo (Monggo)",
          "Nilagang Baka Recipe",
          "Pata Tim Recipe",
          "Sweet and Sour Chicken Meatballs",
          "Pork Ribs Binagoongan with Talong",
          "Tuscan Salmon",
          "Pata Kare Kare Recipe",
          "Pininyahang Manok",
          "Pininyahang Manok sa Gata",
          "Tokwa at Baboy Humba",
          "Creamy Lengua with Corn",
          "Sinantomas",
          "Chicken Potato Salad",
          "Tortang Noodles at Sardinas",
          "Beef and Baby Corn Stir Fry Recipe",
          "Chicken Caldereta Recipe",
          "Pork Siomai",
          "Longanisa Lumpiang Shanghai",
          "Pork Barbecue",
          "Beef Tripe Kare Kare",
          "Yang Chow Fried Rice Recipe",
          "Quick and Easy Fried Chicken",
          "Chicken Pancit Habhab",
          "Pinoy Style Pork and Chicken Curry",
          "Chicken Bicol Express",
          "Meaty Spaghetti Recipe",
          "Nilagang Manok Recipe",
          "Galbi Recipe",
          "Chicken Lumpia",
          "Ginataang Bitsuelas",
          "Creamy Lengua in White Sauce",
          "Creamy Garlic Salmon",
          "Rellenong Pusit",
          "Seared Shrimp Macaroni Salad with Roasted Bell Pepper",
          "Easy Liempo Inihaw",
          "Super Tasty Chop Suey",
          "Dynamite Lumpia",
          "Soup Number 5",
          "Pinoy Pork Barbeque",
          "Tapsilog",
          "Chicken Pancit Recipe",
          "Pork Adobo in Pineapple Juice with Boiled Eggs",
          "Creamy Chicken Sopas",
          "Beef Kaldereta Recipe",
          "Spaghetti and Meatballs",
          "Salisbury Steak with Mashed Potato",
          "Longevity Noodles with Chicken and Mushroom",
          "Pork Binagoongan Recipe",
          "Deep Fried Siomai",
          "Lumpia Recipe",
          "Christmas Lasagna",
          "Filipino Style Chicken Curry Recipe",
          "Easy Pinoy Spaghetti Recipe",
          "Lumpiang Shanghai Recipe",
          "Chicken Kare Kare Recipe",
          "Mongolian Beef Recipe",
          "Pork Kare Kare Recipe",
          "Ginataang Baka – Beef in Coconut Milk with Green Beans and Spinach",
          "Ginisang Upo with Ground Pork and Shrimp",
          "Bulanglang na Gulay (Batangas)",
          "How to Cook Bulalo",
          "Spicy Tokwat Baboy Recipe",
          "Oxtail Soup Recipe",
          "Pata at Hipon sa Gata na May Monggo at Langka",
          "Filipino Shrimp Curry Recipe",
          "Ginataang Hipon na may Sitaw at Kalabasa",
          "15 Minute Pork Stir Fry",
          "Salted Egg Prawns",
          "Ginataang Monggo with Pork Recipe",
          "Healthy Chicken Menudo",
          "Chicken Meatball Noodle Soup",
          "Beef Tinola Recipe",
          "Chicken Mami",
          "Sauteed Green Beans with Ground Beef",
          "Beef Bulalo Recipe",
          "Pork Ginataan",
          "Picadillo Recipe",
          "How To Cook Filipino Chicken Arroz Caldo",
          "Spanish Sardines Pasta with Sun Dried Tomato and Chopped Olives",
          "Paella Negra (Arroz Negre) Recipe",
          "Butter Garlic Shrimp and Squid",
          "Filipino Pork Menudo Recipe",
          "Grilled Rib Eye Steak with Arroz Amarillo",
          "Noche Buena Lumpiang Shanghai",
          "Chopsuey Stir Fry",
          "Ginisang Reployo with Giniling",
          "Fish Lumpia Recipe",
          "Buffalo Pork Ribs Recipe",
          "How to Make Kimchi at Home",
          "Spicy Monggo with Tinapa",
          "Ma Po Tofu Recipe",
          "Fried Galunggong with Salted Egg and Tomato Salad",
          "Inihaw na Galunggong with Ensaladang Talong",
          "Crispy Tofu Sisig",
          "Tortang Talong with Ground Pork Recipe",
          "Sizzling Tofu",
          "Sauteed Bottle Gourd with Ground Pork and Shrimp",
          "Bulalo Beef Pares Recipe",
          "Sausage Peppers and Onion Skillet",
          "Grilled Pork Belly with Garlic Fried Rice and Fried Egg - Liempo Sinangag Itlog",
          "Filipino Style Pork BBQ",
          "Ginisang Sitaw at Kalabasa with Shrimp",
          "Lobster Pasta in Creamy Alfredo Sauce Recipe",
          "Chicken Arroz Caldo Recipe",
          "Pork Monggo Recipe",
          "Shrimp Pancit Bihon Recipe",
          "Braised Pork Belly in Soy Sauce (Tau Yew Bak)",
          "Ginisang Sardinas with Ampalaya",
          "Tofu and Green Bean Stir Fry in Oyster Sauce with Salted Black Beans",
          "Chili Garlic Butter Shrimp Recipe",
          "Pinakbet with Squid in Coconut Milk (Pinakbet sa Gata)",
          "Spicy Wonton Soup Recipe",
          "Monggo with Hibi (Mung beans with small dried shrimp)",
          "Stir Fried Pepper Steak",
          "Seafood Bicol Express",
          "Chicken Soup with Misua and Patola",
          "Special Longanisa Fried Rice Recipe",
          "Spicy Ginataang Baboy with Papaya and Malunggay",
          "Tinolang Manok sa Gata",
          "Classic Tinolang Manok Recipe",
          "Stir Fried Beef with Oyster Sauce and Snap Peas",
          "Mung Bean Sprouts with Shrimp",
          "Seared Scallops in Herbed Butter Sauce Recipe",
          "Dinaldalem Recipe",
          "Fried Tilapia in Coconut Milk (Ginataang Tilapia)",
          "Classic Beef Morcon Recipe",
          "Tuna Jaw Sinigang",
          "Pork and Scallion Stir Fry Recipe",
          "Oven Baked Pork Chop Silog with Atchara",
          "Chopsuey with Quail Eggs",
          "Cansi Recipe (Ilonggo Bulalo and Sinigang in one Delicious Soup Dish)",
          "Crawfish in Coconut Milk with Spinach",
          "Ginisang Munggo with Tinapa and Fried Red Snapper",
          "Tinapa Fried Rice (Smoked Fish Fried Rice)",
          "Sigarilyas Gising gising Recipe",
          "Scrambled Eggs with Tomato, Onion, and Spinach",
          "Beef Batchoy with Liver and Bung",
          "Pancit Molo Recipe",
          "How to Cook Lumpia",
          "How to Cook Ginataang Langka with Tinapa Flakes",
          "Classic Beef with Broccoli Recipe",
          "Slow Cook Pork Afritada",
          "Ground Beef Omelet",
          "Ginisang Kalabasa at Sitaw with Daing Recipe",
          "Beer Marinated Grilled Chicken Breast Inasal",
          "Ginataang Langka with Malunggay and Daing",
          "Easy Pork Hamonado",
          "Beef Sinigang sa Kamias with Gabi (Beef in Sour Broth with Taro)",
          "Sausage, Liver, and Pork Stew",
          "Pork and Kangkong Guisado",
          "Crispy Pata Sisig Recipe",
          "Apple Snails in Coconut Milk (Ginataang Kuhol)",
          "Beef and Mushroom Braised Stew",
          "Basil Pork Recipe",
          "Drunken Mussels Recipe",
          "Dried Squid in Coconut Milk",
          "Oven Roasted BBQ Chicken Recipe",
          "Pork and Potato Stew Recipe",
          "Filipino Skewered Pork BBQ",
          "Lo Mein with Beef and Broccoli",
          "Sinigang na Bangus sa Bayabas",
          "Pork Tapa with Fried Banana and Salted Egg",
          "Tokwa and Tuna Recipe",
          "Homemade Ranch Dressing Recipe",
          "Sarciadong Itlog Recipe",
          "Binagoongang Baboy Recipe (Pork in Shrimp Paste)",
          "Kangkong in Oyster Sauce Recipe",
          "Sinigang na Isda sa Kamias with Miso",
          "Beef and Broccoli Stir Fry",
          "Ginisang Baguio Beans with Pork",
          "Kalderetang Kambing (Goat Stew)",
          "Ginisang Papaya",
          "Chili Garlic Shrimp Stir Fry",
          "Pork Kilawin",
          "Ginataang Papaya",
          "Tuyo Pasta",
          "Egg Drop Soup",
          "Pancit Sotanghon",
          "Filipino Chicken Macaroni Sopas",
          "Crock Pot Beef Stew Sandwich",
          "Orange Chicken Recipe",
          "Garlic Shrimp Pasta",
          "Monggo Guisado Recipe",
          "Saffron Rice Recipe",
          "Beef Kebab Recipe",
          "Special Goto Recipe",
          "Ginataang Langka with Pork Recipe",
          "Homemade Chicken Noodle Soup Recipe",
          "How to Make Spaghetti with Meat Sauce",
          "Rosemary Baked Chicken Recipe with Vegetables",
          "Crab and Pork Shumai Recipe",
          "Snails with Spinach in Coconut Milk Recipe",
          "Menudo with Raisins and Green Peas",
          "Linguine Pasta with Clams",
          "How to Make Homemade Guacamole",
          "Spring Fried Chicken",
          "Monggo Guisado with Dilis and Malunggay (Mung Bean Stew with Dried Anchovies)",
          "Linat an Recipe (Boiled Pork Soup with Lemongrass)",
          "Adobong Sitaw with Tofu",
          "Inihaw na Pork Chop",
          "Sayote Guisado with Chicken and Shrimp",
          "Nilagang Baboy (Boiled Pork Soup)",
          "Easy Chicken Curry",
          "Beef Bicol Express",
          "Shingaling Recipe",
          "Sizzling Chicken Sisig",
          "Arroz Caldo with tokwa",
          "Tokwat Baka (Fried Tofu and Grilled Beef in Vinegar Sauce)",
          "Pesang Manok (Chicken Soup in Ginger Broth)",
          "Sauteed Flank Steak with Bok Choy and String Beans",
          "Baby Corn Ham and Jicama Stir Fry",
          "Tofu Sarciado",
          "Special Tokwat Baboy",
          "Bean Sprout Chicken",
          "Jollibee Style Spaghetti",
          "Asian Chicken Soup",
          "Asian Grilled Chicken and Corn",
          "Tangy Shrimp Tacos",
          "Vegetable Spring Roll",
          "Basil Beef Recipe",
          "Easy Beef with Broccoli",
          "Curried Potato Salad",
          "Chicken Piccata",
          "Chicken Pesto Pasta",
          "Grilled Potato Salad",
          "Pork with Salted Black Beans",
          "Ginataang Galunggong Recipe",
          "Pata Kare-kare Recipe",
          "Teriyaki Bistek Recipe",
          "Ginataang Tahong",
          "Parmesan Crusted Fish Recipe",
          "Chicago Style Hotdog",
          "Filipino BBQ Pork Chop Recipe",
          "Strawberry Mandarin and Spinach Salad in Balsamic Vinaigrette Dressing",
          "Pork with Zucchini in Oyster Sauce",
          "Roasted Chicken Quarter Recipe",
          "Vegetable Fried Rice Recipe",
          "Chicken Soup Recipe",
          "Chili Shrimp Recipe",
          "Chicken Salad with Apples and Grapes",
          "BBQ Beef Short Ribs Recipe",
          "Chicken and Baby Corn Stir Fry",
          "Crispy Shrimp Adobo Recipe",
          "Arroz a la Cubana Recipe",
          "Baked Garlic Rosemary Chicken Recipe",
          "Roasted Garlic Parmesan Red Potato",
          "Pork Tapsilog",
          "Easy Sweet and Sour Ikea Meatbal",
          "Chickpea and Spinach Curry",
          "Teriyaki Pork Chop Recipe",
          "Sweet and Sour Tofu",
          "Grilled Chicken and Corn",
          "Gising gising Recipe (Green bean with Pork in Coconut milk)",
          "Smothered Pork Chop Recipe",
          "Beef Stir Fry with Chopped Broccoli",
          "Spicy Laing Recipe",
          "Beef with Broccoli Lo Mein Recipe",
          "Stir Fry Tofu with Vegetables",
          "KBL (Kadyos, Baboy, at Langka) Recipe",
          "Easy Clam Chowder Recipe",
          "Ground Beef Casserole Recipe",
          "Hototay Soup Recipe",
          "Chicken and Corn Soup",
          "Pochero Recipe",
          "Stuffed Ampalaya",
          "Mixed Seafood in Coconut Milk Recipe",
          "Asian Chicken Barbecue Submarine Sandwich",
          "Pumpkin Soup Recipe",
          "Ginataang Sitaw at Kalabasa with Crabs Recipe",
          "Sinigang na Bangus sa Miso",
          "Chicken Binakol",
          "Pork and Tofu in Oyster Sauce Recipe",
          "Shrimp Pasta in Tomato Cream Cheese Sauce Recipe",
          "Marinara Sauce Recipe",
          "Bagoong Guisado Recipe",
          "Aligue Pasta",
          "Grilled Chicken and Spinach Salad Recipe",
          "Bow Tie Pasta with Vodka Sauce Recipe",
          "Dinuguan Laman-Loob Recipe (Blood Stew)",
          "Chicken Pandan",
          "Lomi Recipe",
          "Bok Choy in Garlic Sauce",
          "Sardines with Misua Recipe",
          "Roasted Chicken Recipe",
          "Sotanghon Guisado Recipe",
          "Tortang Giniling Recipe",
          "Pork Asado Recipe",
          "Pork Giniling Recipe",
          "Kung Pao Shrimp",
          "Caesar Salad",
          "Goto Recipe (Rice Porridge)",
          "Marinated Shrimp with Lemon Dill Sauce",
          "Molo Soup",
          "Cashew Chicken Recipe",
          "Homemade Lasagna Recipe",
          "Orange Chicken Recipe",
          "Pakbet Ilocano Recipe",
          "Fish Fillet with Tausi",
          "Pinoy Spaghetti Recipe",
          "Spicy Chicken Feet",
          "Pancit Bihon Recipe",
          "Pork Hamonado Recipe"
         ],
         "legendgroup": "4",
         "marker": {
          "color": "rgb(128, 186, 90)",
          "size": 5,
          "symbol": "circle"
         },
         "mode": "markers",
         "name": "4",
         "scene": "scene",
         "showlegend": true,
         "type": "scatter3d",
         "x": [
          0.8602455854415894,
          0.8747718334197998,
          0.8787969350814819,
          0.7901748418807983,
          0.8600466847419739,
          0.8845027089118958,
          0.8237922191619873,
          0.8739321827888489,
          0.9119458794593811,
          0.8182678818702698,
          0.8005746006965637,
          0.7867953181266785,
          0.8666114211082458,
          0.8343368172645569,
          0.8834805488586426,
          0.8439849615097046,
          0.8850917220115662,
          0.8723135590553284,
          0.8345776796340942,
          0.8630691766738892,
          0.8737985491752625,
          0.8217499256134033,
          0.8256056308746338,
          0.8492494821548462,
          0.8367710113525391,
          0.8252252340316772,
          0.8990869522094727,
          0.8815999031066895,
          0.8407731056213379,
          0.7958943843841553,
          0.8726235628128052,
          0.8468130826950073,
          0.8888119459152222,
          0.8719147443771362,
          0.8173516988754272,
          0.7936272621154785,
          0.8889195322990417,
          0.924549400806427,
          0.8593162298202515,
          0.9155293107032776,
          0.872765302658081,
          0.8487361073493958,
          0.8093137145042419,
          0.8810666799545288,
          0.8841174244880676,
          0.9246924519538879,
          0.8588588237762451,
          0.9060721397399902,
          0.8542232513427734,
          0.8839071989059448,
          0.8131721019744873,
          0.856904923915863,
          0.8424179553985596,
          0.8896000981330872,
          0.8648437261581421,
          0.881441056728363,
          0.8606142997741699,
          0.8980531692504883,
          0.887193500995636,
          0.8300907611846924,
          0.8504669666290283,
          0.8114243149757385,
          0.8590966463088989,
          0.8341155052185059,
          0.8753622770309448,
          0.8254129886627197,
          0.8980015516281128,
          0.8245090246200562,
          0.8701623678207397,
          0.8772964477539062,
          0.805076003074646,
          0.8717982769012451,
          0.8498942255973816,
          0.8574577569961548,
          0.8531070947647095,
          0.8318904042243958,
          0.8510408401489258,
          0.8510661721229553,
          0.8483448028564453,
          0.8028453588485718,
          0.8434175848960876,
          0.9152196049690247,
          0.8078077435493469,
          0.8554574251174927,
          0.8374925255775452,
          0.8704736232757568,
          0.851192831993103,
          0.8250892162322998,
          0.88664710521698,
          0.8284889459609985,
          0.8482356071472168,
          0.8702995777130127,
          0.899858832359314,
          0.8685352206230164,
          0.7496135830879211,
          0.8711445331573486,
          0.8228816390037537,
          0.879768967628479,
          0.867263913154602,
          0.7556472420692444,
          0.8113312721252441,
          0.8738764524459839,
          0.8668970465660095,
          0.7640721797943115,
          0.8323177099227905,
          0.8282315135002136,
          0.8780875205993652,
          0.8820460438728333,
          0.7541168928146362,
          0.8081958293914795,
          0.8858699798583984,
          0.8387671113014221,
          0.8725244998931885,
          0.8573779463768005,
          0.8390571475028992,
          0.8747135400772095,
          0.860768735408783,
          0.8463653326034546,
          0.9058703184127808,
          0.8989784717559814,
          0.8919494152069092,
          0.8146549463272095,
          0.8938148021697998,
          0.8240948915481567,
          0.8562964797019958,
          0.8665680289268494,
          0.861009955406189,
          0.8294556140899658,
          0.7766632437705994,
          0.8364083170890808,
          0.8901863098144531,
          0.835222065448761,
          0.8981112241744995,
          0.8317966461181641,
          0.8530066013336182,
          0.8476417660713196,
          0.7918822765350342,
          0.8732999563217163,
          0.8686463832855225,
          0.8910321593284607,
          0.8301540613174438,
          0.7915289402008057,
          0.8999477028846741,
          0.8155278563499451,
          0.871582567691803,
          0.8823387622833252,
          0.9024273753166199,
          0.8244174122810364,
          0.8758816719055176,
          0.8494472503662109,
          0.8690494298934937,
          0.7882078289985657,
          0.8940075635910034,
          0.8829009532928467,
          0.8946073055267334,
          0.8560875058174133,
          0.8797261714935303,
          0.8676711320877075,
          0.8679240942001343,
          0.8298410177230835,
          0.9078535437583923,
          0.8148593902587891,
          0.8514828085899353,
          0.8722151517868042,
          0.936253011226654,
          0.7987004518508911,
          0.8871855139732361,
          0.8879104852676392,
          0.899675726890564,
          0.8594675064086914,
          0.8585490584373474,
          0.8490148186683655,
          0.8988672494888306,
          0.8740389347076416,
          0.8290492296218872,
          0.7677497863769531,
          0.8757652044296265,
          0.8472121953964233,
          0.905586838722229,
          0.8227773308753967,
          0.876408576965332,
          0.8629405498504639,
          0.8694331645965576,
          0.8945423364639282,
          0.8677058219909668,
          0.8861578702926636,
          0.911803126335144,
          0.8990640640258789,
          0.8384546637535095,
          0.8375802636146545,
          0.9153648018836975,
          0.8391726016998291,
          0.8681337833404541,
          0.8445906639099121,
          0.8724179267883301,
          0.8948178291320801,
          0.8345073461532593,
          0.8750336170196533,
          0.8962628841400146,
          0.875903844833374,
          0.8348074555397034,
          0.8718140125274658,
          0.920506477355957,
          0.8099781274795532,
          0.8782822489738464,
          0.8353636264801025,
          0.8816378712654114,
          0.8217194080352783,
          0.9031301140785217,
          0.8364048004150391,
          0.8896867036819458,
          0.8965390920639038,
          0.8626248240470886,
          0.8962872624397278,
          0.8757533431053162,
          0.8820319175720215,
          0.8258204460144043,
          0.8473029136657715,
          0.8658486008644104,
          0.8824819922447205,
          0.8807764649391174,
          0.8760889172554016,
          0.8801113367080688,
          0.884922444820404,
          0.7800887227058411,
          0.826765775680542,
          0.8953635096549988,
          0.8717044591903687,
          0.898249089717865,
          0.8704242706298828,
          0.8213878273963928,
          0.8701551556587219,
          0.8421761989593506,
          0.8854912519454956,
          0.8785302639007568,
          0.9059585928916931,
          0.8588719367980957,
          0.8234872817993164,
          0.8054821491241455,
          0.8668857216835022,
          0.8753296136856079,
          0.8616213202476501,
          0.8425809741020203,
          0.8170304298400879,
          0.8333582282066345,
          0.900740385055542,
          0.8316264152526855,
          0.8954784870147705,
          0.9159082174301147,
          0.8621355891227722,
          0.8143171072006226,
          0.874740719795227,
          0.8797093629837036,
          0.8319076299667358,
          0.8845062255859375,
          0.894451379776001,
          0.8863344788551331,
          0.8288082480430603,
          0.8712968826293945,
          0.8210820555686951,
          0.9182679653167725,
          0.8806138038635254,
          0.8925666809082031,
          0.8627268075942993,
          0.9025254249572754,
          0.8581262230873108,
          0.8441471457481384,
          0.857336699962616,
          0.8829792737960815,
          0.9035561084747314,
          0.8411025404930115,
          0.864632248878479,
          0.7677577137947083,
          0.8396363258361816,
          0.8755251169204712,
          0.8675243854522705,
          0.8597562313079834,
          0.877724289894104,
          0.8937323689460754,
          0.7977691888809204,
          0.8001314997673035,
          0.8545771837234497,
          0.8378717303276062,
          0.8570753931999207,
          0.8283709287643433,
          0.8801407217979431,
          0.8109992146492004,
          0.8703481554985046,
          0.7986184358596802,
          0.8212459683418274,
          0.8964554071426392,
          0.8727769255638123,
          0.9090895056724548,
          0.8050247430801392,
          0.8448613286018372,
          0.886928141117096,
          0.8680488467216492,
          0.8678291440010071,
          0.8932470083236694,
          0.8744556903839111,
          0.8554201126098633,
          0.8629013299942017,
          0.8791446089744568,
          0.8790225982666016,
          0.8801345825195312,
          0.8712247610092163,
          0.8872782588005066,
          0.8399372100830078,
          0.8813513517379761,
          0.8421593904495239,
          0.7912542819976807,
          0.8500651121139526,
          0.8320663571357727,
          0.8310155868530273,
          0.8471251130104065,
          0.8373115658760071,
          0.847468912601471,
          0.8647147417068481,
          0.8320680260658264,
          0.8687958717346191,
          0.9145911335945129,
          0.859603226184845,
          0.8205858469009399,
          0.8035223484039307,
          0.8523656129837036,
          0.8286474943161011,
          0.8426732420921326,
          0.847730278968811,
          0.8780019879341125,
          0.8639581203460693,
          0.7965538501739502,
          0.8997003436088562,
          0.8480079770088196,
          0.8357385993003845,
          0.7765530347824097,
          0.8460982441902161,
          0.9026360511779785,
          0.8943123817443848,
          0.860450029373169,
          0.9106886386871338,
          0.8493697643280029,
          0.8878109455108643,
          0.8488026261329651,
          0.7530975341796875,
          0.8704242706298828,
          0.7953692078590393,
          0.8852198719978333,
          0.8352750539779663,
          0.8291305303573608,
          0.838878333568573,
          0.8126877546310425
         ],
         "y": [
          -0.07817467302083969,
          0.02056719735264778,
          0.032427482306957245,
          -0.04503291845321655,
          -0.17686296999454498,
          -0.06581361591815948,
          -0.0021089501678943634,
          -0.16933725774288177,
          0.058441877365112305,
          -0.013108182698488235,
          -0.17366738617420197,
          -0.011733736842870712,
          -0.07600758969783783,
          -0.12624767422676086,
          -0.07292182743549347,
          -0.10730644315481186,
          -0.06425321847200394,
          -0.027798911556601524,
          0.015321013517677784,
          0.026869697496294975,
          -0.07249603420495987,
          -0.04941476881504059,
          -0.017920399084687233,
          -0.08414598554372787,
          -0.1313428431749344,
          -0.0794532522559166,
          -0.05084984749555588,
          -0.12091037631034851,
          -0.11018582433462143,
          -0.07756311446428299,
          -0.003539757803082466,
          -0.2191813439130783,
          0.018755177035927773,
          -0.15853995084762573,
          -0.2457677721977234,
          -0.0993059054017067,
          -0.07751806825399399,
          -0.04548492655158043,
          0.012187546119093895,
          -0.047537267208099365,
          -0.11979784071445465,
          -0.22408834099769592,
          -0.08578687906265259,
          0.008693786337971687,
          -0.06389489769935608,
          -0.1933346390724182,
          -0.047415897250175476,
          -0.07811304181814194,
          -0.21443432569503784,
          -0.03661665692925453,
          -0.05502080172300339,
          -0.07201509922742844,
          -0.1565263271331787,
          -0.09627325087785721,
          -0.13027095794677734,
          -0.14564351737499237,
          -0.13760308921337128,
          -0.1727476865053177,
          -0.22620926797389984,
          -0.11458315700292587,
          -0.19938957691192627,
          -0.18245621025562286,
          -0.04538963735103607,
          -0.18583233654499054,
          -0.042669642716646194,
          -0.017629047855734825,
          -0.1382848471403122,
          -0.07754817605018616,
          -0.11801707744598389,
          -0.10376732796430588,
          -0.024922486394643784,
          -0.01714240200817585,
          -0.08145841211080551,
          -0.04488068446516991,
          0.032846808433532715,
          -0.040509384125471115,
          -0.16469165682792664,
          -0.18081849813461304,
          -0.07021135836839676,
          -0.07376126199960709,
          -0.20043979585170746,
          -0.1530492752790451,
          -0.16636812686920166,
          -0.06277669221162796,
          0.017401307821273804,
          -0.21901895105838776,
          -0.06341417878866196,
          -0.09758731722831726,
          -0.14765915274620056,
          0.028463903814554214,
          -0.1175696849822998,
          -0.02395111508667469,
          -0.022798661142587662,
          -0.07226228713989258,
          -0.01713724248111248,
          -0.0847335010766983,
          -0.037820421159267426,
          -0.1661069393157959,
          -0.2920360863208771,
          -0.0496942363679409,
          -0.00837817881256342,
          -0.018910089507699013,
          -0.22878171503543854,
          -0.03111334890127182,
          -0.194597989320755,
          -0.029267918318510056,
          -0.11069834232330322,
          -0.0723971500992775,
          -0.019222427159547806,
          -0.07222195714712143,
          -0.044528380036354065,
          -0.08150739967823029,
          -0.10081309825181961,
          -0.09008707851171494,
          -0.08074931055307388,
          -0.10973376035690308,
          -0.09155003726482391,
          -0.10383161902427673,
          -0.02178817242383957,
          -0.07974376529455185,
          -0.12602221965789795,
          -0.060371242463588715,
          0.023602092638611794,
          -0.05087319016456604,
          -0.19054573774337769,
          -0.1442849338054657,
          -0.05048747733235359,
          -0.03236350044608116,
          -0.00161648727953434,
          -0.14729009568691254,
          -0.07076999545097351,
          -0.07733109593391418,
          -0.16311511397361755,
          -0.059275854378938675,
          -0.1072130873799324,
          -0.1293245553970337,
          -0.04516630619764328,
          -0.029483094811439514,
          -0.001673579216003418,
          -0.06807063519954681,
          -0.059812672436237335,
          -0.04896323010325432,
          0.00016439706087112427,
          -0.07143881171941757,
          -0.15549202263355255,
          -0.029788225889205933,
          -0.04879050329327583,
          -0.15582239627838135,
          -0.017542414367198944,
          -0.11243122071027756,
          -0.00019478797912597656,
          -0.0270533487200737,
          -0.09171605110168457,
          0.033573199063539505,
          -0.012199172750115395,
          -0.05720612406730652,
          0.002339840866625309,
          -0.010578295215964317,
          -0.07273969054222107,
          -0.2216026782989502,
          -0.019853414967656136,
          -0.07357506453990936,
          -0.13922110199928284,
          0.011620461009442806,
          -0.04515519365668297,
          0.031100381165742874,
          -0.0296277217566967,
          -0.08168439567089081,
          -0.07355570793151855,
          0.018481586128473282,
          0.007937224581837654,
          -0.17432017624378204,
          0.0009666490368545055,
          -0.10769428312778473,
          0.0194028802216053,
          -0.019743822515010834,
          -0.01697704754769802,
          -0.13938115537166595,
          -0.07866024225950241,
          0.023021161556243896,
          -0.03469885140657425,
          -0.12346693128347397,
          -0.17452049255371094,
          -0.10536947101354599,
          -0.11122424155473709,
          0.022879961878061295,
          -0.14227023720741272,
          -0.14069345593452454,
          -0.2431676685810089,
          -0.17031201720237732,
          0.046999718993902206,
          -0.02666487544775009,
          0.01846923679113388,
          -0.1681247353553772,
          -0.11706583946943283,
          -0.05127087980508804,
          -0.03757960721850395,
          -0.144997239112854,
          -0.07344416528940201,
          -0.16864173114299774,
          -0.17913581430912018,
          -0.17673364281654358,
          -0.04377206787467003,
          -0.2175571471452713,
          0.0259696114808321,
          -0.051564719527959824,
          -0.009450221434235573,
          -0.07788266986608505,
          -0.016188841313123703,
          -0.024879487231373787,
          -0.19657586514949799,
          -0.08411552011966705,
          -0.17445796728134155,
          -0.13733577728271484,
          -0.06903836131095886,
          -0.08315105736255646,
          -0.007211302872747183,
          -0.12469280511140823,
          -0.00855100154876709,
          -0.050107117742300034,
          -0.022758502513170242,
          0.009684390388429165,
          -0.14459939301013947,
          -0.05827675759792328,
          -0.06017996743321419,
          -0.20662294328212738,
          -0.023376062512397766,
          -0.04829202964901924,
          -0.1388797163963318,
          -0.25923866033554077,
          -0.0890975072979927,
          -0.08985684812068939,
          -0.11974868178367615,
          -0.08490978181362152,
          -0.07214894145727158,
          -0.13166135549545288,
          -0.016526132822036743,
          -0.2502235472202301,
          -0.20285679399967194,
          -0.08073300123214722,
          -0.23155158758163452,
          0.011838855221867561,
          -0.09216777235269547,
          -0.0404471680521965,
          -0.17368566989898682,
          -0.060338735580444336,
          -0.013856880366802216,
          -0.1252351701259613,
          -0.03643329441547394,
          -0.028111012652516365,
          -0.09819353371858597,
          -0.23144018650054932,
          -0.05928274616599083,
          -0.19256442785263062,
          -0.01365616824477911,
          -0.08332746475934982,
          -0.03984472155570984,
          -0.05431315675377846,
          -0.010268880054354668,
          -0.06767081469297409,
          -0.07371876388788223,
          -0.11838190257549286,
          -0.2144370973110199,
          -0.2344214767217636,
          0.00629968848079443,
          -0.1692512035369873,
          -0.0940268337726593,
          -0.08293787389993668,
          -0.2392072230577469,
          -0.019745562225580215,
          -0.18337884545326233,
          -0.115836001932621,
          -0.06879489868879318,
          -0.21599766612052917,
          0.03739922121167183,
          -0.1622789055109024,
          -0.2117733210325241,
          0.0286641176789999,
          -0.08376990258693695,
          0.02216249704360962,
          -0.06512590497732162,
          -0.25077494978904724,
          -0.17928893864154816,
          0.012376967817544937,
          -0.13361507654190063,
          -0.14954786002635956,
          0.0024651288986206055,
          -0.06960596144199371,
          -0.199565127491951,
          -0.10482167452573776,
          -0.0531194806098938,
          -0.13806277513504028,
          -0.004187308251857758,
          -0.03650222718715668,
          -0.22118638455867767,
          -0.06171612814068794,
          -0.13897158205509186,
          -0.22647471725940704,
          -0.09304068982601166,
          -0.2537122964859009,
          -0.10167788714170456,
          -0.1863715946674347,
          -0.10098695009946823,
          -0.07802128791809082,
          -0.03952385485172272,
          -0.07643202692270279,
          -0.07207263261079788,
          -0.02432505413889885,
          -0.08283485472202301,
          -0.09053168445825577,
          -0.004983619786798954,
          -0.1783963441848755,
          -0.06611227244138718,
          -0.18756237626075745,
          -0.09022488445043564,
          -0.09487038105726242,
          -0.11104746907949448,
          -0.14978618919849396,
          -0.06290178745985031,
          -0.2057497799396515,
          -0.08386734127998352,
          -0.06630713492631912,
          -0.25161245465278625,
          -0.2008277028799057,
          -0.05783795192837715,
          -0.21096646785736084,
          -0.09830021113157272,
          -0.06668862700462341,
          -0.08058822154998779,
          0.002831216435879469,
          -0.15675991773605347,
          -0.04882068559527397,
          -0.2907854914665222,
          -0.029345331713557243,
          -0.07082341611385345,
          -0.17130343616008759,
          -0.03969160467386246,
          -0.02365235798060894,
          -0.058847807347774506,
          -0.0492217056453228,
          -0.13143357634544373,
          -0.07679755985736847,
          -0.10912690311670303,
          -0.1500028371810913,
          -0.25923866033554077,
          -0.045923467725515366,
          -0.23077309131622314,
          -0.24854065477848053,
          -0.20007379353046417,
          -0.05877908319234848,
          -0.05188625305891037
         ],
         "z": [
          -0.04617360234260559,
          -0.0985659584403038,
          -0.13002127408981323,
          0.04227348417043686,
          -0.029452025890350342,
          -0.18366579711437225,
          -0.01436634175479412,
          -0.08472813665866852,
          -0.0426337756216526,
          -0.041767656803131104,
          -0.07401374727487564,
          -0.0809575542807579,
          -0.15299183130264282,
          0.05300318822264671,
          -0.12756890058517456,
          0.010766102932393551,
          -0.12533743679523468,
          -0.10219061374664307,
          -0.09211436659097672,
          -0.10615311563014984,
          -0.15815342962741852,
          0.0030231494456529617,
          -0.09031793475151062,
          -0.03512091562151909,
          -0.04411902278661728,
          -0.07165737450122833,
          -0.01860969513654709,
          0.048868030309677124,
          -0.06823766976594925,
          0.03606291115283966,
          -0.04255148768424988,
          -0.026517270132899284,
          -0.08820720762014389,
          -0.07940039783716202,
          -0.04821354150772095,
          0.04240575060248375,
          -0.09656867384910583,
          -0.11578650772571564,
          -0.0723099559545517,
          -0.038870394229888916,
          -0.15502279996871948,
          -0.08630523085594177,
          -0.12273331731557846,
          -0.14835324883460999,
          -0.16524073481559753,
          0.030607353895902634,
          -0.09102177619934082,
          -0.07575343549251556,
          -0.09937937557697296,
          -0.033101636916399,
          -0.07899869978427887,
          -0.028038885444402695,
          -0.03742442652583122,
          -0.07726579904556274,
          0.05906444042921066,
          0.03167520463466644,
          -0.03808755427598953,
          0.011502476409077644,
          -0.0893930196762085,
          0.056449517607688904,
          -0.06546153873205185,
          -0.03489149361848831,
          0.009542146697640419,
          -0.011385884135961533,
          -0.0010445709340274334,
          -0.07207711786031723,
          -0.04936333745718002,
          -0.10092088580131531,
          0.00596947455778718,
          -0.11945396661758423,
          -0.017995685338974,
          -0.11199073493480682,
          -0.13835354149341583,
          -0.05031586438417435,
          -0.12750421464443207,
          -0.013621168211102486,
          -0.10964032262563705,
          -0.05717170611023903,
          -0.12123016268014908,
          0.0021434305235743523,
          -0.008686481975018978,
          -0.03368542715907097,
          -0.053275905549526215,
          -0.15470129251480103,
          -0.09903455525636673,
          -0.09741297364234924,
          -0.11349418759346008,
          -0.016002148389816284,
          -0.09749720990657806,
          -0.11190871894359589,
          -0.07702738791704178,
          -0.03546726703643799,
          -0.1376168578863144,
          0.044051699340343475,
          0.02877913787961006,
          -0.10067273676395416,
          -0.14443527162075043,
          -0.014489764347672462,
          -0.061777450144290924,
          -0.07653280347585678,
          -0.13107192516326904,
          -0.10798816382884979,
          -0.07061260938644409,
          0.010424509644508362,
          -0.0959213525056839,
          -0.06927128881216049,
          -0.15270420908927917,
          -0.04357804358005524,
          -0.08295273780822754,
          0.010554897598922253,
          -0.06367145478725433,
          -0.09105401486158371,
          -0.12733882665634155,
          -0.02674701437354088,
          0.009461171925067902,
          -0.08642290532588959,
          0.01995673030614853,
          -0.07261745631694794,
          -0.1037973091006279,
          -0.050237733870744705,
          -0.16597892343997955,
          0.005521226208657026,
          -0.07433846592903137,
          0.00799673330038786,
          -0.06576484441757202,
          -0.06602121144533157,
          -0.12538482248783112,
          -0.042402446269989014,
          -0.0537613108754158,
          -0.05097668617963791,
          -0.20334157347679138,
          -0.061323054134845734,
          -0.021521419286727905,
          -0.05438104271888733,
          -0.051310330629348755,
          0.025201033800840378,
          0.032155681401491165,
          -0.1037391796708107,
          -0.08334796130657196,
          -0.06663927435874939,
          -0.0077812462113797665,
          -0.037943895906209946,
          -0.12916624546051025,
          -0.11300312727689743,
          -0.04225848615169525,
          -0.10760411620140076,
          -0.18294218182563782,
          -0.06605778634548187,
          -0.13720864057540894,
          -0.025123126804828644,
          -0.1406964212656021,
          -0.07302668690681458,
          -0.05959977209568024,
          -0.11662016063928604,
          -0.04614230990409851,
          -0.11331096291542053,
          -0.10373915731906891,
          -0.06580867618322372,
          -0.12157741189002991,
          -0.041003040969371796,
          -0.03255463391542435,
          -0.04753116890788078,
          -0.10218442231416702,
          -0.04053178057074547,
          -0.07208289206027985,
          -0.04492907598614693,
          -0.09797459840774536,
          -0.04063715413212776,
          -0.14074993133544922,
          -0.1393583118915558,
          -0.10170534998178482,
          -0.10365544259548187,
          -0.05597962439060211,
          -0.15166015923023224,
          -0.03335021063685417,
          -0.03243757411837578,
          -0.12535987794399261,
          0.03866264969110489,
          0.0025830231606960297,
          -0.08787006139755249,
          0.0038525250274688005,
          -0.12557244300842285,
          -0.015301164239645004,
          -0.07455511391162872,
          0.01778358779847622,
          -0.11274394392967224,
          -0.021717721596360207,
          -0.00275525264441967,
          -0.06851266324520111,
          -0.09393028914928436,
          -0.067617267370224,
          -0.02232016809284687,
          -0.1269431859254837,
          -0.08627277612686157,
          -0.0951346606016159,
          -0.16405218839645386,
          -0.03028305619955063,
          -0.06421926617622375,
          -0.15971782803535461,
          -0.022931858897209167,
          -0.0075194258242845535,
          -0.03550361841917038,
          -0.12992461025714874,
          -0.02052503451704979,
          -0.05050632357597351,
          -0.14208140969276428,
          -0.03281779587268829,
          -0.050177302211523056,
          -0.04157177731394768,
          -0.017051273956894875,
          -0.014799892902374268,
          -0.10567362606525421,
          -0.015165788121521473,
          -0.03365333005785942,
          -0.08803480863571167,
          -0.13933877646923065,
          -0.03694964572787285,
          -0.05807839334011078,
          -0.15440872311592102,
          0.06313435733318329,
          -0.09502561390399933,
          -0.13161282241344452,
          -0.10006098449230194,
          -0.051809392869472504,
          0.03730923682451248,
          -0.0712132677435875,
          -0.07926678657531738,
          0.04317602515220642,
          -0.06637056916952133,
          -0.015356732532382011,
          -0.00032816920429468155,
          -0.0640447661280632,
          -0.028710322454571724,
          -0.12279553711414337,
          -0.14082682132720947,
          -0.06220409274101257,
          -0.05330224335193634,
          -0.05400105565786362,
          -0.09409015625715256,
          -0.009037919342517853,
          -0.07660352438688278,
          -0.07477408647537231,
          -0.08692780882120132,
          -0.16063225269317627,
          -0.09272022545337677,
          -0.16020262241363525,
          -0.11191102117300034,
          -0.1772758811712265,
          -0.06878560036420822,
          -0.10614637285470963,
          -0.10740306973457336,
          -0.07079775631427765,
          -0.12071108818054199,
          -0.028245868161320686,
          -0.06769117712974548,
          -0.07064235210418701,
          -0.051838044077157974,
          -0.13577784597873688,
          -0.0636499747633934,
          -0.14454691112041473,
          -0.11854344606399536,
          -0.12987211346626282,
          -0.08201469480991364,
          -0.10706673562526703,
          -0.07177391648292542,
          -0.02625085972249508,
          -0.07170821726322174,
          0.001490817405283451,
          -0.05239362269639969,
          -0.11413389444351196,
          -0.036109376698732376,
          0.050873056054115295,
          0.023761581629514694,
          -0.03133953735232353,
          -0.13420356810092926,
          -0.08930158615112305,
          -0.019042305648326874,
          -0.02966512180864811,
          -0.15169669687747955,
          -0.0316481813788414,
          0.011740060523152351,
          -0.10527744889259338,
          -0.051603563129901886,
          -0.06595906615257263,
          -0.07435711473226547,
          -0.01881222054362297,
          -0.04060959443449974,
          -0.17219781875610352,
          -0.00595617201179266,
          -0.07925242930650711,
          0.0035202037543058395,
          -0.056976258754730225,
          -0.08624456822872162,
          -0.09566725045442581,
          -0.016421733424067497,
          -0.08787691593170166,
          -0.006381304934620857,
          -0.10697336494922638,
          -0.09057933837175369,
          -0.02652757242321968,
          0.037023477256298065,
          -0.03964845836162567,
          0.07376692444086075,
          0.00026730913668870926,
          -0.03283936530351639,
          -0.08457505702972412,
          -0.013451559469103813,
          -0.08328556269407272,
          0.08648121356964111,
          0.031756699085235596,
          -0.052260398864746094,
          -0.03477489948272705,
          -0.12947770953178406,
          -0.02077537402510643,
          -0.06993992626667023,
          -0.033906225115060806,
          0.0032586739398539066,
          -0.02226227894425392,
          -0.11553751677274704,
          -0.06968700140714645,
          -0.09255571663379669,
          0.019623877480626106,
          -0.04961926490068436,
          -0.06807690858840942,
          -0.08062748610973358,
          -0.03637336939573288,
          -0.023727532476186752,
          -0.17174290120601654,
          -0.14448866248130798,
          -0.07571028172969818,
          -0.061942655593156815,
          -0.07471912354230881,
          -0.06207963824272156,
          -0.11026253551244736,
          0.018539825454354286,
          -0.08157484233379364,
          -0.05678481608629227,
          -0.05670008063316345,
          0.000627436675131321,
          -0.1482757031917572,
          -0.06189325451850891,
          0.0779796913266182,
          -0.08995158970355988,
          -0.06017575412988663,
          -0.015356732532382011,
          0.003069707192480564,
          -0.010295952670276165,
          -0.025394301861524582,
          -0.039686668664216995,
          -0.012019696645438671,
          0.009492668323218822
         ]
        },
        {
         "customdata": [
          [
           "bay leaf<br>chili<br>ginger<br>lemon<br>pepper corn<br>pork"
          ],
          [
           "chili<br>cinnamon<br>peanut<br>soy sauce<br>star anise"
          ],
          [
           "bay leaf<br>ketchup<br>oyster sauce<br>pork<br>sesame oil<br>soy sauce<br>vinegar"
          ],
          [
           "chili<br>cornstarch<br>eggplant<br>oyster sauce<br>pork<br>soy sauce<br>vinegar"
          ],
          [
           "bell pepper<br>egg<br>rice<br>sesame oil<br>soy sauce"
          ],
          [
           "egg<br>lime<br>oyster sauce<br>pork<br>soy sauce"
          ],
          [
           "butter<br>mushroom<br>parsley<br>thyme<br>wine"
          ],
          [
           "cornstarch<br>oyster sauce<br>soy sauce<br>spinach"
          ],
          [
           "apple<br>barbecue sauce<br>pork rib<br>soy sauce"
          ],
          [
           "butter<br>cheese<br>egg<br>pork<br>rice<br>tomato"
          ],
          [
           "bell pepper<br>carrot<br>egg<br>eggplant"
          ],
          [
           "beef<br>cornstarch<br>ginger<br>orange<br>sesame oil<br>soy sauce<br>vinegar"
          ],
          [
           "bay leaf<br>butter<br>chicken<br>oyster sauce<br>peppercorn<br>soy sauce<br>vinegar"
          ],
          [
           "bay leaf<br>chili<br>mayonnaise<br>peppercorn<br>pork<br>vinegar"
          ],
          [
           "bell pepper<br>egg<br>lemon<br>mayonnaise<br>paprika<br>pork<br>rice<br>sausage"
          ],
          [
           "bay leaf<br>chicken<br>egg<br>peppercorn<br>soy sauce<br>vinegar"
          ],
          [
           "bay leaf<br>pork<br>soy sauce<br>vinegar"
          ],
          [
           "peppercorn<br>pork<br>scallion<br>soy sauce<br>vinegar"
          ],
          [
           "chicken<br>chili<br>fish sauce<br>soy sauce<br>vinegar"
          ],
          [
           "bell pepper<br>carrot<br>cornstarch<br>ketchup<br>vinegar"
          ],
          [
           "chili<br>fish sauce<br>ginger<br>goat<br>vinegar"
          ],
          [
           "bean<br>chicken<br>chili<br>coconut<br>ginger<br>shrimp"
          ],
          [
           "oyster sauce<br>pork<br>potato<br>soy sauce<br>tomato"
          ],
          [
           "bell pepper<br>egg<br>lemon lime soda<br>rice<br>sesame oil<br>soy sauce"
          ],
          [
           "bay leaf<br>chili<br>hoisin sauce<br>star anise<br>vinegar"
          ],
          [
           "chili<br>cornstarch<br>eggplant<br>oyster sauce<br>sesame oil<br>soy sauce<br>string bean<br>vinegar"
          ],
          [
           "almond<br>annatto<br>beef<br>beef broth<br>cabbage<br>eggplant<br>peanut<br>string bean"
          ],
          [
           "banana<br>laurel<br>pineapple<br>pork<br>soy sauce<br>star anise"
          ],
          [
           "bay leaf<br>lemon lime soda<br>oyster sauce<br>pork<br>soy sauce<br>vinegar"
          ],
          [
           "bean<br>bell pepper<br>broccoli<br>carrot<br>coconut"
          ],
          [
           "banana blossom<br>coconut vinegar<br>laurel<br>peppercorn<br>pork<br>soy sauce"
          ],
          [
           "chicken<br>fish sauce<br>ginger<br>okra<br>radish<br>spinach<br>string bean<br>tamarind<br>tomato"
          ],
          [
           "black bean<br>fish<br>ginger<br>tomato<br>vinegar"
          ],
          [
           "laurel<br>lemongrass<br>peppercorn<br>pork<br>vinegar"
          ],
          [
           "cabbage<br>carrot<br>cornstarch<br>egg pasta<br>ginger<br>oyster sauce<br>sesame oil<br>soy sauce<br>wine"
          ],
          [
           "chili<br>lemon<br>lemon lime soda<br>pork<br>soy sauce<br>tofu<br>vinegar"
          ],
          [
           "bell pepper<br>carrot<br>chili<br>goat<br>potato<br>tomato<br>tomato sauce<br>vinegar"
          ],
          [
           "carrot<br>cornstarch<br>egg<br>fish sauce<br>malunggay<br>squash<br>vinegar"
          ],
          [
           "butter<br>chicken<br>lemon<br>rosemary"
          ],
          [
           "bread crumb<br>laurel<br>lemongrass<br>peppercorn<br>pork<br>soy sauce<br>vinegar"
          ],
          [
           "beef<br>butter<br>oyster sauce<br>soy sauce"
          ],
          [
           "carrot<br>egg<br>hoisin sauce<br>pea<br>pork<br>rice<br>sesame oil<br>soy sauce"
          ],
          [
           "bay leaf<br>chicken<br>ketchup<br>lemon lime soda<br>peppercorn<br>soy sauce<br>vinegar"
          ],
          [
           "bagoong<br>eggplant<br>okra<br>spinach<br>squash<br>string bean<br>tomato"
          ],
          [
           "bagoong<br>eggplant<br>pork<br>serrano pepper<br>tomato<br>vinegar"
          ],
          [
           "bay leaf<br>fish sauce<br>pineapple<br>pork<br>soy sauce<br>vinegar"
          ],
          [
           "fish<br>ginger<br>lemon<br>mango<br>tomato"
          ],
          [
           "bagoong<br>chili<br>eggplant<br>pork<br>tomato<br>vinegar"
          ],
          [
           "bay leaf<br>peppercorn<br>pork<br>star anise<br>vinegar"
          ],
          [
           "bay leaf<br>carrot<br>lemon<br>pork<br>potato<br>soy sauce<br>tomato sauce"
          ],
          [
           "bean<br>chili<br>coconut<br>ginger<br>milk<br>pork<br>shrimp"
          ],
          [
           "bay leaf<br>carrot<br>chicken<br>chicken broth<br>hotdog<br>pea<br>potato<br>tomato sauce"
          ],
          [
           "bay leaf<br>chicken<br>peppercorn<br>pork sauce<br>vinegar"
          ],
          [
           "bay leaf<br>bell pepper<br>carrot<br>chicken<br>pea<br>soy sauce<br>vinegar"
          ],
          [
           "bagoong<br>bean<br>chicken<br>chili<br>serrano pepper<br>tomato<br>vinegar"
          ],
          [
           "bay leaf<br>fish sauce<br>peppercorn<br>pork<br>serrano pepper<br>vinegar"
          ],
          [
           "carrot<br>fish sauce<br>pork<br>shrimp<br>tomato"
          ],
          [
           "bell pepper<br>chili<br>coconut vinegar<br>peppercorn<br>soy sauce"
          ],
          [
           "beef<br>cornstarch<br>ginger<br>rice<br>soy sauce<br>star anise"
          ],
          [
           "bagoong<br>cabbage<br>chicken<br>coconut<br>eggplant<br>milk<br>paprika<br>peanut<br>snake bean"
          ],
          [
           "chicken<br>chili<br>ginger<br>lemongrass<br>pasta<br>patis"
          ],
          [
           "beef<br>bell pepper<br>cornstarch<br>oyster sauce<br>soy sauce"
          ],
          [
           "bay leaf<br>ginger<br>lime<br>mayonnaise<br>pork<br>vinegar"
          ],
          [
           "bean<br>chicken<br>chili<br>mirin<br>oyster sauce"
          ],
          [
           "bay leaf<br>beef<br>butter<br>lemon<br>peppercorn<br>soy sauce<br>tomato<br>tomato sauce<br>vinegar"
          ],
          [
           "bay leaf<br>chicken<br>lemon lime soda<br>peppercorn<br>soy sauce<br>vinegar"
          ],
          [
           "egg<br>eggplant<br>fish tomato sauce<br>lemon<br>tomato"
          ],
          [
           "bell pepper<br>carrot<br>cornstarch<br>fish<br>ginger<br>ketchup<br>vinegar"
          ],
          [
           "bay leaf<br>peppercorn<br>pork<br>soy sauce<br>vinegar"
          ],
          [
           "butter<br>chili<br>mayonnaise<br>salmon"
          ],
          [
           "bell pepper<br>chili<br>coconut<br>fish sauce<br>ginger<br>milk<br>mussel<br>shrimp"
          ],
          [
           "bay leaf<br>peppercorn<br>pork<br>soy sauce<br>vinegar"
          ],
          [
           "chicken<br>lemongrass<br>peppercorn<br>potato"
          ],
          [
           "chili<br>coconut<br>fish<br>ginger<br>spinach<br>vinegar"
          ],
          [
           "beef<br>beef broth<br>broccoli<br>cornstarch<br>ginger<br>oyster sauce<br>soy sauce<br>wine"
          ],
          [
           "bay leaf<br>chicken<br>oyster sauce<br>peppercorn<br>vinegar"
          ],
          [
           "bay leaf<br>chicken<br>coconut<br>peppercorn<br>soy sauce<br>vinegar"
          ],
          [
           "bay leaf<br>chicken<br>coconut<br>milk<br>peppercorn<br>soy sauce<br>vinegar"
          ],
          [
           "cabbage<br>chili<br>coconut<br>fish<br>ginger<br>milk<br>tomato"
          ],
          [
           "chili<br>coconut<br>ginger<br>milk<br>pork<br>shrimp<br>taro"
          ],
          [
           "beef<br>chili<br>ginger<br>soy sauce<br>vinegar"
          ],
          [
           "bagoong<br>ginger<br>pork<br>tomato<br>vinegar"
          ],
          [
           "soy sauce<br>squid<br>tomato<br>vinegar"
          ],
          [
           "butter<br>lemon<br>lemon lime soda<br>parsley"
          ],
          [
           "chili<br>coconut<br>eggplant<br>fish<br>ginger<br>kamia<br>milk<br>patis<br>pork"
          ],
          [
           "eggplant<br>fish sauce<br>okra<br>pork<br>snake bean<br>spinach<br>tamarind<br>tomato"
          ],
          [
           "chili<br>margarine<br>mayonnaise<br>pork<br>soy sauce"
          ],
          [
           "chicken<br>nutmeg<br>patis<br>wine"
          ],
          [
           "chicken<br>chili<br>coconut<br>ginger<br>milk<br>papaya<br>patis pepper<br>spinach"
          ],
          [
           "bell pepper<br>chicken<br>cornstarch<br>egg<br>oyster sauce<br>pea<br>soy sauce<br>vinegar"
          ],
          [
           "chili<br>lemongrass<br>peppercorn<br>pork<br>scallion<br>soy sauce<br>vinegar"
          ],
          [
           "bay leaf<br>chili<br>lemon<br>mayonnaise<br>peppercorn<br>pork<br>soy sauce"
          ],
          [
           "bay leaf<br>ginger<br>lemongrass<br>liempo<br>peppercorn<br>pork<br>vinegar"
          ],
          [
           "bay leaf<br>chicken<br>peppercorn<br>soy sauce<br>vinegar"
          ],
          [
           "beef<br>butter<br>butternut squash<br>carrot<br>egg<br>pea<br>rice"
          ],
          [
           "bay leaf<br>bean<br>peppercorn<br>pork<br>rice<br>soy sauce<br>vinegar"
          ],
          [
           "butter<br>chili<br>fish<br>ginger<br>mayonnaise<br>pork<br>scallion<br>soy sauce"
          ],
          [
           "beef<br>beef broth<br>cornstarch<br>ginger<br>mushroom<br>peas<br>soy sauce<br>wine"
          ],
          [
           "bay leaf<br>chicken<br>oyster sauce<br>peppercorn<br>pork<br>soy sauce<br>vinegar"
          ],
          [
           "beef<br>beef broth<br>carrot<br>pork<br>thyme<br>tomato<br>wine"
          ],
          [
           "banana blossom<br>bay leaf<br>pepper corn<br>pork<br>soy sauce<br>vinegar"
          ],
          [
           "annatto<br>bay leaf<br>beef<br>bell pepper<br>ginger<br>oxtail<br>pineapple<br>pork"
          ],
          [
           "bell pepper<br>carrot<br>mung bean<br>oyster sauce<br>tomato"
          ],
          [
           "bay leaf<br>chicken<br>chicken broth<br>fish sauce<br>parsley<br>pea<br>tomato"
          ],
          [
           "chili<br>coconut<br>fish<br>fish sauce<br>ginger<br>milk<br>spinach<br>vinegar"
          ],
          [
           "fish<br>ginger<br>lemon<br>tomato"
          ],
          [
           "eggplant<br>shrimp<br>tomato<br>vinegar"
          ],
          [
           "annatto<br>chicken<br>ginger<br>lemon<br>lemongrass<br>lime<br>margarine<br>vinegar"
          ],
          [
           "bay leaf<br>peppercorn<br>pork<br>star anise"
          ],
          [
           "chili<br>coconut<br>fish<br>fish sauce<br>ginger<br>milk<br>spinach"
          ],
          [
           "cabbage<br>ginger<br>pork<br>sesame oil<br>wine"
          ],
          [
           "bay leaf<br>chicken<br>peppercorn<br>soy sauce<br>vinegar"
          ],
          [
           "broccoli<br>cornstarch<br>ginger<br>oyster sauce<br>sesame oil<br>wine"
          ],
          [
           "beef<br>bitter gourd<br>cornstarch<br>ginger<br>oyster sauce<br>sesame oil<br>soy sauce"
          ],
          [
           "chicken<br>fish sauce<br>ginger<br>papaya<br>rice"
          ],
          [
           "bay leaf<br>chicken<br>peppercorn<br>soy sauce<br>vinegar"
          ],
          [
           "bay leaf<br>peppercorn<br>pork<br>scallion<br>vinegar"
          ],
          [
           "butter<br>chicken<br>chili<br>mayonnaise<br>pork"
          ],
          [
           "bay leaf<br>carrot<br>ginger<br>lemon<br>pork<br>potato<br>soy sauce<br>tomato sauce"
          ],
          [
           "eggplant<br>fish<br>ginger<br>okra<br>peppercorn<br>vinegar"
          ],
          [
           "chili<br>liempo<br>lime<br>mayonnaise"
          ],
          [
           "butter<br>chicken wing<br>chili<br>flour<br>sauce"
          ],
          [
           "chicken<br>chili<br>lemon<br>margarine<br>mayonnaise<br>pork"
          ],
          [
           "butter<br>crab<br>lemon<br>vinegar"
          ],
          [
           "bell pepper<br>chili<br>coconut vinegar<br>lemongrass<br>peppercorn<br>pork<br>vinegar"
          ],
          [
           "chicken<br>lemongrass<br>soy sauce<br>star anise"
          ],
          [
           "banana<br>beef broth<br>pork<br>soy sauce<br>vinegar"
          ],
          [
           "bitter gourd<br>chili<br>coconut cream<br>coconut vinegar<br>salmon"
          ],
          [
           "annatto<br>chicken<br>coconut vinegar<br>lemongrass<br>margarine"
          ],
          [
           "bay leaf<br>coconut cream<br>peppercorn<br>pork<br>soy sauce<br>vinegar"
          ],
          [
           "chili<br>lemongrass<br>peppercorn<br>pork<br>scallion<br>soy sauce<br>vinegar"
          ],
          [
           "bitter gourd<br>egg<br>shrimp<br>tomato"
          ],
          [
           "chicken<br>chili<br>fish sauce<br>malunggay<br>rice<br>squash"
          ],
          [
           "bay leaf<br>beef broth<br>peppercorn<br>pork<br>soy sauce<br>vinegar"
          ],
          [
           "butter<br>dill<br>lemon<br>salmon"
          ],
          [
           "lemongrass<br>pork<br>scallion<br>star anise"
          ],
          [
           "bay leaf<br>peppercorn<br>pork<br>wine"
          ],
          [
           "bay leaf<br>beef broth<br>peppercorn<br>pork<br>pork sauce<br>soy sauce<br>vinegar"
          ],
          [
           "bay leaf<br>beef<br>beef broth<br>carrot<br>potato<br>rosemary<br>thyme<br>wine"
          ],
          [
           "beef broth<br>lime<br>pork<br>soy sauce"
          ],
          [
           "butter<br>chili<br>fish<br>mayonnaise<br>pork"
          ],
          [
           "bay leaf<br>beef broth<br>chili<br>peppercorn<br>pork<br>soy sauce"
          ],
          [
           "annatto<br>beef<br>beef broth<br>chili<br>rice"
          ],
          [
           "bay leaf<br>chicken<br>coconut<br>milk<br>soy sauce<br>vinegar"
          ],
          [
           "annatto<br>lime<br>mirin<br>scallion<br>soy sauce<br>squid<br>tomato"
          ],
          [
           "bay leaf<br>chicken<br>chicken broth<br>peppercorn<br>soy sauce<br>vinegar"
          ],
          [
           "banana blossom<br>bay leaf<br>bean<br>ham<br>pineapple<br>pork<br>soy sauce<br>vinegar"
          ],
          [
           "bay leaf<br>chicken<br>chicken broth<br>egg<br>peppercorn<br>soy sauce<br>vinegar"
          ],
          [
           "bay leaf<br>coconut<br>fish sauce<br>milk<br>soy sauce<br>squid<br>vinegar"
          ],
          [
           "banana blossom<br>bay leaf<br>peppercorn<br>pork<br>soy sauce<br>vinegar"
          ],
          [
           "pork<br>snake bean<br>soy sauce<br>vinegar"
          ],
          [
           "beef broth<br>pork<br>snake bean<br>soy sauce<br>vinegar"
          ],
          [
           "carrot<br>celery<br>chicken<br>pasta"
          ],
          [
           "fish<br>plum tomato<br>scallion<br>tamarind"
          ],
          [
           "butter<br>oyster sauce<br>pork<br>soy sauce"
          ],
          [
           "bay leaf<br>coconut vinegar<br>peppercorn<br>pork<br>soy sauce"
          ],
          [
           "bay leaf<br>peppercorn<br>pork<br>soy sauce<br>vinegar"
          ],
          [
           "beef broth<br>butternut squash<br>eggplant<br>gourd<br>okra<br>plum tomato<br>pork<br>shrimp<br>snake bean"
          ],
          [
           "fish<br>fish sauce<br>lemongrass<br>plum tomato<br>scallion"
          ],
          [
           "chili<br>fish<br>lime<br>soy sauce"
          ],
          [
           "bagoong<br>fish<br>gourd<br>knob ginger<br>okra<br>plum tomato<br>snake bean"
          ],
          [
           "bay leaf<br>chili<br>coconut vinegar<br>ginger"
          ],
          [
           "beef<br>cornstarch<br>gourd<br>oyster sauce<br>sesame oil<br>sherry<br>soy sauce"
          ],
          [
           "chicken broth<br>chili<br>cornstarch<br>crab<br>egg<br>ketchup<br>knob ginger<br>snake bean<br>soy sauce"
          ],
          [
           "bay leaf<br>beef<br>chicken<br>coconut vinegar<br>peppercorn<br>pork<br>soy sauce"
          ],
          [
           "bay leaf<br>chili<br>cumin<br>peppercorn<br>pork<br>vinegar"
          ],
          [
           "bitter gourd<br>chili<br>coconut cream<br>fish<br>fish sauce"
          ],
          [
           "bay leaf<br>beef broth<br>egg<br>peppercorn<br>pork<br>soy sauce<br>vinegar"
          ],
          [
           "bell pepper<br>carrot<br>papaya<br>raisin<br>vinegar"
          ],
          [
           "eggplant<br>fish<br>ginger<br>malunggay<br>okra<br>spinach<br>string bean<br>tomato"
          ],
          [
           "butter<br>lemon<br>salmon<br>thyme"
          ],
          [
           "bay leaf<br>ham<br>peppercorn<br>soy sauce<br>vinegar"
          ],
          [
           "chicken<br>chili<br>fish sauce<br>ginger<br>lemongrass<br>papaya"
          ],
          [
           "beef broth<br>butternut squash<br>coconut<br>milk<br>pork<br>shrimp<br>string bean"
          ],
          [
           "egg<br>pork<br>rice<br>sesame oil<br>soy sauce"
          ],
          [
           "fish<br>ginger<br>lemon<br>plum tomato<br>scallion"
          ],
          [
           "bay leaf<br>chicken<br>flour<br>peppercorn<br>soy sauce<br>vinegar"
          ],
          [
           "bay leaf<br>beef broth<br>cane<br>egg<br>oyster sauce<br>peppercorn<br>pork<br>soy sauce"
          ],
          [
           "cane<br>eggplant<br>plum tomato<br>shrimp"
          ],
          [
           "bay leaf<br>beef broth<br>pork<br>soy sauce<br>vinegar"
          ],
          [
           "chili<br>coconut vinegar<br>fish<br>peppercorn"
          ],
          [
           "beef<br>oregano<br>paprika<br>rosemary<br>thyme"
          ],
          [
           "cane<br>cornstarch<br>pork<br>soy sauce"
          ],
          [
           "bean<br>chicken broth<br>cornstarch<br>fish<br>ginger<br>sesame oil<br>sherry wine"
          ],
          [
           "bell pepper<br>chicken<br>chicken broth<br>cornstarch<br>oyster sauce<br>sherry wine"
          ],
          [
           "beef<br>bell pepper<br>cornstarch<br>oyster sauce<br>soy sauce"
          ],
          [
           "bay leaf<br>chicken<br>lemongrass<br>pandan<br>peppercorn"
          ],
          [
           "bay leaf<br>lemongrass<br>milk<br>peppercorn<br>pork"
          ],
          [
           "bay leaf<br>coconut<br>milk<br>peppercorn<br>soy sauce"
          ],
          [
           "annatto<br>chicken wing<br>chili<br>ginger<br>lemon<br>margarine<br>vinegar"
          ],
          [
           "bay leaf<br>chili<br>ginger<br>mayonnaise<br>peppercorn<br>pork"
          ],
          [
           "pork<br>sauce<br>tomato<br>vinegar"
          ],
          [
           "bitter gourd<br>cane<br>chili<br>eggplant<br>ginger<br>peppercorn"
          ],
          [
           "banana<br>bay leaf<br>carrot<br>pork<br>soy sauce<br>wine vinegar"
          ],
          [
           "chili<br>dijon mustard<br>lemon<br>paprika<br>soy sauce<br>wine vinegar"
          ],
          [
           "chicken<br>chicken broth<br>soy sauce<br>spice<br>star anise"
          ],
          [
           "chili<br>lemon<br>lemon lime soda<br>soy sauce"
          ],
          [
           "cabbage<br>carrot<br>chicken broth<br>pasta<br>pea<br>pork"
          ],
          [
           "bay leaf<br>peppercorn<br>pork<br>soy sauce"
          ],
          [
           "beef<br>cinnamon<br>ginger<br>ice"
          ],
          [
           "bay leaf<br>fish<br>pepper corn<br>soy sauce<br>vinegar"
          ],
          [
           "cabbage<br>plum tomato<br>pork<br>sausage"
          ],
          [
           "banana blossom<br>chicken<br>chicken broth<br>fish sauce<br>malunggay"
          ],
          [
           "chili<br>coconut cream<br>fish sauce<br>ginger<br>salmon<br>vinegar"
          ],
          [
           "beef broth<br>bell pepper<br>cabbage<br>pork"
          ],
          [
           "beef<br>bell pepper<br>cornstarch<br>soy sauce<br>wine"
          ],
          [
           "bay leaf<br>beef<br>peppercorn<br>soy sauce<br>vinegar"
          ],
          [
           "apple<br>beef broth<br>pork<br>rosemary<br>thyme"
          ],
          [
           "bell pepper<br>cornstarch<br>oyster sauce<br>pork<br>scallion<br>soy sauce<br>wine"
          ],
          [
           "ginger<br>pork<br>pork sauce<br>soy sauce"
          ],
          [
           "basil<br>lemon<br>parsley<br>tomato<br>wine vinegar"
          ],
          [
           "beef broth<br>chayote<br>fish sauce<br>pork<br>rice<br>spinach"
          ],
          [
           "basil<br>chicken<br>chili<br>fish sauce"
          ],
          [
           "bay leaf<br>mussel<br>peppercorn<br>soy sauce<br>vinegar"
          ],
          [
           "cinnamon<br>nutmeg<br>oregano<br>pork<br>thyme<br>wine"
          ],
          [
           "sesame oil<br>spinach<br>tofu<br>vegetable oil"
          ],
          [
           "bay leaf<br>chili<br>oyster sauce<br>peppercorn<br>pork<br>soy sauce<br>vinegar"
          ],
          [
           "ginger<br>ketchup<br>sake<br>soy sauce"
          ],
          [
           "butter<br>lemon<br>lobster<br>parsley"
          ],
          [
           "bell pepper<br>oyster sauce<br>parsley<br>pea<br>soy sauce"
          ],
          [
           "basil<br>beef<br>egg<br>tomato"
          ],
          [
           "beef broth<br>carrot<br>pork rib<br>thyme<br>wine"
          ],
          [
           "egg<br>rice<br>sausage<br>soy sauce"
          ],
          [
           "chili<br>cilantro<br>lemon<br>tomato"
          ],
          [
           "beef<br>cumin<br>parsley<br>rice"
          ],
          [
           "apple<br>butter<br>oregano<br>pork<br>rosemary<br>thyme"
          ],
          [
           "bay leaf<br>egg<br>oyster sauce<br>pepper corn<br>pork<br>sherry<br>soy sauce<br>vinegar"
          ],
          [
           "butter<br>lime<br>rosemary<br>thyme<br>turkey<br>wine"
          ],
          [
           "ginger<br>scallion<br>sesame oil<br>sherry<br>soy sauce"
          ],
          [
           "bean<br>bell pepper<br>broccoli<br>squash<br>vegetable broth"
          ],
          [
           "bay leaf<br>pepper corn<br>pork<br>potato<br>soy sauce<br>vinegar"
          ],
          [
           "bell pepper<br>chili<br>cilantro<br>jicama<br>lime<br>mango<br>pork"
          ],
          [
           "chili<br>ginger<br>ketchup<br>scallion<br>sherry wine<br>soy sauce"
          ],
          [
           "bay leaf<br>oyster sauce<br>pork<br>soy sauce<br>vinegar"
          ],
          [
           "annatto<br>bay leaf<br>bell pepper<br>carrot<br>ginger<br>pork<br>vinegar"
          ],
          [
           "ginger<br>lemongrass<br>malunggay<br>okra<br>papaya<br>rice<br>squash<br>tomato"
          ],
          [
           "ginger<br>potato<br>tomato<br>vinegar"
          ],
          [
           "celery<br>chicken<br>lemon<br>thyme"
          ],
          [
           "bell pepper<br>chicken<br>ginger<br>hoisin sauce<br>lemon<br>sesame oil<br>soy sauce"
          ],
          [
           "hoisin sauce<br>honey<br>oyster sauce<br>pork<br>sesame oil<br>sherry<br>soy sauce"
          ],
          [
           "cornstarch<br>pork rib<br>sherry<br>spice"
          ],
          [
           "bay leaf<br>chili<br>cinnamon<br>ginger<br>lemon<br>milk<br>tomato"
          ],
          [
           "bell pepper<br>fish<br>peppercorn<br>vinegar"
          ],
          [
           "bay leaf<br>chicken<br>chili<br>oyster sauce<br>peppercorn<br>soy sauce<br>vinegar"
          ],
          [
           "bell pepper<br>parsley<br>peppercorn<br>tomato<br>wine vinegar"
          ],
          [
           "bell pepper<br>egg<br>parsley<br>wine vinegar"
          ],
          [
           "beef<br>bell pepper<br>honey<br>soy sauce<br>wine vinegar"
          ],
          [
           "bell pepper<br>chicken<br>chili<br>cumin<br>lime<br>paprika"
          ],
          [
           "chicken<br>chili<br>cumin<br>ginger<br>lemon<br>yogurt"
          ],
          [
           "bay leaf<br>chili<br>peppercorn<br>rice wine<br>soy sauce<br>vinegar"
          ],
          [
           "carrot<br>chicken<br>dijon mustard<br>grape tomato<br>wine vinegar"
          ],
          [
           "beef<br>beef broth<br>carrot<br>celery<br>thyme<br>wine"
          ],
          [
           "bean<br>dijon mustard<br>dill<br>potato<br>wine vinegar"
          ],
          [
           "bean<br>cheese<br>dill<br>wine vinegar"
          ],
          [
           "basil<br>cheese<br>chicken wing<br>cumin<br>oregano"
          ],
          [
           "chili<br>cilantro<br>cumin<br>lime<br>oregano<br>paprika<br>soy sauce<br>tomato<br>vinegar"
          ],
          [
           "chili<br>gourd<br>knob ginger<br>peppercorn<br>vinegar"
          ],
          [
           "chili<br>cucumber<br>fish<br>ginger<br>lemon<br>liempo<br>vinegar"
          ],
          [
           "chili<br>fish<br>ginger<br>lemon"
          ],
          [
           "chili<br>ginger<br>lemon<br>oxtail"
          ],
          [
           "chili<br>cilantro<br>fish sauce<br>lemongrass<br>lime<br>mushroom<br>shrimp<br>tamarind<br>tomato"
          ],
          [
           "chili<br>ginger<br>peppercorn<br>vinegar"
          ],
          [
           "pork<br>soy sauce<br>string bean<br>vinegar"
          ],
          [
           "chili<br>fish<br>ginger<br>lemon<br>vinegar"
          ],
          [
           "bay leaf<br>chili<br>goat<br>soy sauce<br>vinegar"
          ],
          [
           "banana<br>bay leaf<br>carrot<br>peppercorn<br>pork<br>soy sauce<br>vinegar"
          ],
          [
           "chili<br>sesame oil<br>soy sauce<br>vinegar"
          ],
          [
           "bay leaf<br>butter<br>chicken<br>lemon<br>potato<br>soy sauce<br>tomato sauce"
          ],
          [
           "banana blossom<br>bay leaf<br>bean<br>peppercorn<br>pineapple<br>pork<br>soy sauce<br>vinegar"
          ],
          [
           "butter<br>crab<br>lemon<br>parsley"
          ],
          [
           "chicken<br>chili<br>coconut<br>ginger<br>milk<br>papaya<br>paprika<br>spinach"
          ],
          [
           "bell pepper<br>carrot<br>ginger<br>papaya<br>peppercorn<br>raisin<br>vinegar"
          ],
          [
           "bay leaf<br>pepper corn<br>pork<br>vinegar"
          ],
          [
           "cilantro<br>fish<br>ginger<br>lemon"
          ],
          [
           "ketchup<br>lemon<br>pork<br>soy sauce"
          ],
          [
           "butter<br>chicken<br>chili<br>knob ginger<br>lemon<br>mayonnaise<br>pork<br>soy sauce"
          ],
          [
           "carrot<br>corn<br>mushroom<br>oyster sauce<br>peas<br>soy sauce"
          ],
          [
           "chili<br>coconut<br>crab<br>fish sauce<br>ginger<br>milk<br>shrimp<br>spinach"
          ],
          [
           "chicken<br>fish sauce<br>ginger<br>papaya<br>rice"
          ],
          [
           "banana<br>bell pepper<br>chili<br>chocolate<br>cinnamon<br>ketchup<br>paprika<br>vinegar"
          ],
          [
           "beef<br>mushroom<br>oyster sauce<br>potato<br>tomato sauce"
          ]
         ],
         "hovertemplate": "<b>%{hovertext}</b><br><br>cluster=6<br>x=%{x}<br>y=%{y}<br>z=%{z}<br>cleaned_ingredients=%{customdata[0]}<extra></extra>",
         "hovertext": [
          "Dinakdakan",
          "Chinese Boiled Peanuts",
          "BBQ Pork Ears",
          "Stir Fry Eggplant Recipe",
          "Egg Fried Rice Recipe",
          "Pork Belly with Boiled Eggs in Oyster Sauce",
          "Garlic Mushroom",
          "Garlic Tokwa and Kangkong in Oyster Sauce",
          "Oven BBQ Spareribs",
          "Pinoy Breakfast Omelet and Bacon Garlic Fried Rice",
          "Relyenong Talong with Tuna",
          "Orange Crispy Burger",
          "Not Your Ordinary Chicken Adobo",
          "Crispy Pata Dinakdakan",
          "Sisig Paella",
          "Perfect Chicken Adobo on a Budget",
          "Pork Adobo Recipe",
          "Tokwat Baboy Recipe",
          "Betamax Recipe",
          "Filipino Style Escabeche",
          "Kilawing Kambing",
          "Chicken Gising-gising",
          "Pork Giniling with Oyster Sauce",
          "Tapa and Egg Fried Rice",
          "Chili Garlic Oil Recipe",
          "Spicy Eggplant Stir Fry Recipe",
          "Lengua Kare-Kare Recipe",
          "Estofado Recipe (Probinsya Style)",
          "Most Delicious Pork Adobo Recipe",
          "Healthy Ginataang Gulay with Tofu and Shrimp",
          "Paksiw na Pata",
          "Chicknigang Recipe",
          "Tochong Bangus",
          "Crispy Bagnet Recipe",
          "Pan Fried Noodles",
          "Kakaibang Tokwat Baboy",
          "Kalderetang Kambing",
          "Vegetable Okoy",
          "Garlic Roast Chicken",
          "Crispy Ulo and Lechon Sauce",
          "Beef Salpicao",
          "Pork Chao Fan Recipe",
          "Ketchup Fried Chicken",
          "Laswa Recipe",
          "Binagoongan Bagnet with Talong",
          "Nagmamantikang Pork Adobo",
          "Pinaputok na Tilapia Recipe",
          "Binagoongang Talong Recipe",
          "Air Fryer Crispy Pata",
          "Pork Menudo",
          "Bicol Express Gising-gising",
          "Chicken Afritada Recipe",
          "Chicken Paksiw",
          "Chicken Igado Recipe",
          "Chicken Binagoongan",
          "Pork Dinuguan Isaw at Tenga ng Baboy",
          "Ginisang Labanos Recipe",
          "Filipino Vinegar Dipping Sauce",
          "Beef Pares Kanto Style",
          "Chicken Kare-kare sa Gata",
          "Spicy Sotanghon Chicken Soup",
          "Beef Stir Fry",
          "Pork Sisig",
          "Chicken Feet in Oyster Sauce with Salted Black Beans",
          "Beef Asado",
          "Killer Chicken Adobo",
          "Eggplant and Sardine Omelet",
          "Sweet and Sour Tilapia",
          "Coke Pork Adobo",
          "Salmon Sisig",
          "Seafood Curry",
          "Sprite Pork Adobo Recipe",
          "Max’s Style Fried Chicken with Kamote Fries",
          "Ginataang Sapsap",
          "Saucy Beef with Broccoli",
          "Chicken and Liver Adobo",
          "Adobong Manok sa Buko",
          "Adobong Manok sa Gata",
          "Sinanglay na Tilapia Recipe",
          "Shrimp Laing Recipe",
          "Beef Hinalang Recipe",
          "Crispy Pork Binagoongan",
          "Easy Adobong Pusit Recipe",
          "Garlic Butter Shrimp Recipe",
          "Ginataang Tulingan",
          "Sinigang na Lechon",
          "Sizzling Crispy Sisig",
          "Pinoy Fried Chicken",
          "Ginataang Manok with Papaya",
          "Chicken Liver and Gizzard Stew with Quail Eggs and Snap Peas",
          "Lechon Belly Roll",
          "Crispy Dinakdakan",
          "Crispy Dinuguan",
          "Easy Chicken Adobo Recipe",
          "Longanisa Fried Rice and Ginisang Corned Beef with Kalabasa",
          "Pork Adobo with Tokwa and Tausi and Garlic Fried Rice Adobo",
          "Bangus Sisig",
          "Asian Beef with Mushroom",
          "Pork and Chicken Adobo Recipe",
          "Red Wine Beef Stew",
          "Paksiw na Pata Recipe",
          "Paklay Recipe",
          "Ginisang Togue Recipe",
          "Sarciadong Manok",
          "Ginataang Mackerel",
          "Inihaw na Bangus Recipe (Grilled Milkfish)",
          "Eggplant Salad",
          "Inasal Recipe",
          "Crispy Pata Recipe",
          "Ginataang Tilapia",
          "Pork Dumpling",
          "Easy Chicken Adobo",
          "Beef with Broccoli",
          "Ampalaya Con Carne Recipe",
          "Chicken Tinola Recipe",
          "Chicken Adobo",
          "Super Crispy Pata with Yummy Sawsawan",
          "Sisig Recipe",
          "Filipino Pork Menudo Recipe",
          "Paksiw na Bangus Recipe",
          "Pork Dinakdakan Recipe",
          "Buffalo Chicken Wings Recipe with Sauce",
          "Sizzling Liempo Sisig",
          "Shrimp with Butter and Taba ng Talangka Recipe",
          "Chicharon Bulaklak with Spicy Vinegar",
          "7Up Chicken Asado",
          "Estofadong Baboy",
          "Paksiw na Salmon sa Gata",
          "Chicken Inasal BBQ Recipe",
          "Adobong Baboy sa Gata (Pork Adobo in Coconut Milk)",
          "Putok Batok Crispy Pata Slices",
          "Ginisang Ampalaya na May Itlog at Hipon (Sauteed Bitter Melon with Egg and Shrimp)",
          "Tinolang Manok sa Upo",
          "Lechon Belly Pork Adobo Recipe",
          "Baked Salmon with Lemon Garlic and Butter",
          "Crispy Lechon Belly Recipe",
          "Crispy Pata",
          "Paksiw na Lechon Kawali",
          "Beef Pot Roast",
          "Pork Chop Steak ala Bistek",
          "Sizzling Tuna Sisig",
          "Extremely Spicy Pork Adobo na Tuyo",
          "Gotong Batangas Recipe",
          "Chicken Adobo sa Gata",
          "Grilled Stuffed Squid (inihaw na pusit)",
          "Sous Vide Chicken Adobo",
          "Pork Pata Humba Recipe",
          "Chicken Adobo with Egg",
          "Adobong Pusit sa Gata",
          "Pata Paksiw Recipe",
          "Adobong Sitaw with Lechon Kawali",
          "Pork Adobo with Sitaw",
          "Chicken Macaroni Soup",
          "Poached Tilapia in Sour Broth",
          "Pork Tenderloin Salpicao",
          "Basic Pork Adobo Recipe",
          "Crispy Tenga Recipe (Crispy Pig Ears)",
          "Pinakbet with Lechon Kawali",
          "Tinolang Isda",
          "Inihaw na Panga ng Tuna (Grilled Tuna Jaw)",
          "Dinengdeng with Fried Fish Recipe",
          "Kilawing Kambing Recipe",
          "Beef Stir Fry in Oyster Sauce with Ampalaya",
          "Chili Crab with String Beans",
          "Excursion Chicken and Pork Adobo",
          "Inihaw na Isaw ng Baboy",
          "Ginataang Yellow Fin Tuna",
          "Adobong Baboy with Boiled Egg",
          "How to Cook Papaya Atchara",
          "Utan Bisaya",
          "Lemon Garlic Butter Salmon with spring salad Recipe",
          "Adobong Pata (Ham Hock Adobo)",
          "Chicken Halang-halang Recipe",
          "Pork Ginataan with Squash and String Beans",
          "Pork BBQ Fried Rice",
          "Grilled Stuffed Tilapia Recipe",
          "Chicken Liver and Gizzard Adobo",
          "Crock Pot Pork Adobo",
          "Ensaladang Filipino Recipe",
          "Adobo Meatballs Recipe",
          "Mahi-Mahi Paksiw Recipe",
          "Sirloin Tip Roast Recipe",
          "Orange Glazed Pork",
          "Easy Fish with Tausi Recipe",
          "Chicken with Oyster Sauce Stir Fry",
          "Quick and Easy Beef and Pepper Stir Fry",
          "Filipino Roasted Chicken Pandan Recipe",
          "Lechon Pata Recipe",
          "Adobong Hipon sa Gata",
          "Chicken Wings Inasal Recipe",
          "Dinakdakan Recipe",
          "Pulled Pork Crock Pot Recipe",
          "Inun unan Recipe (Fish cooked in Vinegar)",
          "Liempo Estofado Recipe",
          "Flank Steak Marinade",
          "Sweet Chicken Asado Recipe",
          "Recipe for Barbecue Chicken Marinade",
          "Pancit Bato Noodle Soup",
          "Adobo Pork Chops",
          "Brined Roast Beef",
          "Fish Adobo",
          "Pamplina Recipe (Pork and Chorizo Soup with Beans)",
          "Kinamunggayang Manok Recipe",
          "Ginataang Salmon Recipe",
          "Ginisang Repolyo",
          "Pepper Steak",
          "Adobong Bulalo",
          "Apple Pork Pot Roast",
          "Pork Stir Fry with Scallions",
          "Higadillo Recipe (Pork and Liver Stew)",
          "Chickpea Salad",
          "Pork Tinola Recipe",
          "Basil Chicken Recipe",
          "Adobong Tahong Recipe (Mussels Adobo)",
          "Baked Pork Tenderloin with Peaches",
          "Sauteed Spinach with Tofu",
          "Spicy Pork Adobo Recipe",
          "Tonkatsu Sauce",
          "Baked Lobster Tail Recipe",
          "Easy Ham and Green Peas Saute",
          "Ground Beef Basil and Tomato Frittata",
          "Braised Pork Ribs Recipe",
          "Longganisa Fried Rice",
          "Pico de Gallo",
          "Carne Asada Fried Rice",
          "Apple Glazed Pork Chop Recipe",
          "Pork Adobo with Boiled Eggs",
          "Baked Turkey Breast",
          "Steamed Fish with Scallions and Ginger",
          "Healthy Vegetable Soup",
          "Pork Adobo with Potato Recipe",
          "Grilled Pork Chop with Mango Salsa",
          "Sweet and Spicy Shrimp Stir Fry",
          "Pork Adobo with Tofu Recipe",
          "Spicy Bopis Recipe",
          "Bulanglang Recipe",
          "Sweet Potato Leaves Salad Recipe",
          "Oven Baked Chicken Recipe",
          "Asian Chicken Stir Fry Recipe",
          "Barbecued Pork Char Siu",
          "Crispy Five Spice Spare Ribs",
          "Beef Curry Recipe",
          "Fish Escabeche Recipe",
          "Chicken Feet Adobo",
          "Round Steak in Criolla Sauce Recipe",
          "How to Make Lengua a la Vinagreta",
          "Adobo Steak Recipe",
          "Chicken Fajita Recipe",
          "Tandoori Chicken Recipe",
          "Adobong Isaw Recipe",
          "Grilled Chicken Salad",
          "Braised Beef",
          "Potato and Green Bean Salad Recipe",
          "Green Bean Salad with Feta and Dill Recipe",
          "Garlic Parmesan Chicken Wings Recipe",
          "Soft Beef Tacos (Carne Asada)",
          "Paksiw na Isda Recipe",
          "Sinuglaw",
          "Kinilaw na Dulong",
          "Papaitan Recipe",
          "How to Make Tom Yum Goong",
          "How to Make Sinamak",
          "Adobong Sitaw Recipe",
          "Kinilaw na Tuna",
          "Adobong Kambing Recipe",
          "Pork Estofado Recipe",
          "Asian Dipping Sauce Recipe",
          "Chicken Asado",
          "Humba Recipe",
          "Baked King Crab Legs with Garlic Lemon Butter Sauce",
          "Ginataang Manok Recipe",
          "Atchara (Papaya)",
          "Grilled Isaw (Intestine) Recipe",
          "Easy Steamed Fish Recipe",
          "Inihaw na Liempo Recipe",
          "Sisig Recipe",
          "Braised Vegetable Recipe",
          "Ginataang Alimasag Recipe",
          "Chicken Tinola Recipe",
          "Banana Ketchup Recipe",
          "Lengua Estofada Recipe"
         ],
         "legendgroup": "6",
         "marker": {
          "color": "rgb(230, 131, 16)",
          "size": 5,
          "symbol": "circle"
         },
         "mode": "markers",
         "name": "6",
         "scene": "scene",
         "showlegend": true,
         "type": "scatter3d",
         "x": [
          0.8160551190376282,
          0.7845512628555298,
          0.8290327787399292,
          0.8331061005592346,
          0.8296099901199341,
          0.9065458178520203,
          0.7685229778289795,
          0.8348551988601685,
          0.7853705286979675,
          0.7470912933349609,
          0.7685175538063049,
          0.7840449810028076,
          0.8817886114120483,
          0.8237781524658203,
          0.7327286601066589,
          0.8447571396827698,
          0.7739195227622986,
          0.8732556700706482,
          0.8574303984642029,
          0.8612432479858398,
          0.840291440486908,
          0.8003113865852356,
          0.8826448321342468,
          0.8642989993095398,
          0.8096174597740173,
          0.847939133644104,
          0.7984985113143921,
          0.8951287269592285,
          0.8029400110244751,
          0.7678791284561157,
          0.876987099647522,
          0.7870193719863892,
          0.8461931943893433,
          0.7466977834701538,
          0.8702294230461121,
          0.8198997378349304,
          0.9097416400909424,
          0.8516610860824585,
          0.6992583274841309,
          0.875329315662384,
          0.8161992430686951,
          0.8944656848907471,
          0.8400141596794128,
          0.7579582929611206,
          0.8748928308486938,
          0.8595579266548157,
          0.840287446975708,
          0.851395845413208,
          0.8528468608856201,
          0.8908313512802124,
          0.8730437755584717,
          0.8917900919914246,
          0.855252206325531,
          0.8640017509460449,
          0.8450387716293335,
          0.8532835245132446,
          0.8529506921768188,
          0.8100649118423462,
          0.7995712161064148,
          0.8237093687057495,
          0.8549867272377014,
          0.8252220749855042,
          0.8011477589607239,
          0.8413872718811035,
          0.8270543217658997,
          0.8332825303077698,
          0.7802103161811829,
          0.8394765853881836,
          0.697623074054718,
          0.8222570419311523,
          0.8304092884063721,
          0.7780035734176636,
          0.8355593681335449,
          0.793606162071228,
          0.8698611259460449,
          0.8647159337997437,
          0.87326979637146,
          0.8587701320648193,
          0.7541561722755432,
          0.8189128041267395,
          0.8403657674789429,
          0.8186719417572021,
          0.8137342929840088,
          0.7660316824913025,
          0.8291502594947815,
          0.7792884111404419,
          0.8125122785568237,
          0.8189554810523987,
          0.7700520753860474,
          0.9038044810295105,
          0.8623162508010864,
          0.8062698245048523,
          0.8149746060371399,
          0.8501267433166504,
          0.8774793744087219,
          0.8631008267402649,
          0.8175100088119507,
          0.8438184261322021,
          0.8669012188911438,
          0.8076150417327881,
          0.8299747109413147,
          0.7866048812866211,
          0.8309524059295654,
          0.8794183135032654,
          0.8725336790084839,
          0.7723894119262695,
          0.7771968841552734,
          0.8025743365287781,
          0.7940137982368469,
          0.8377499580383301,
          0.8435178995132446,
          0.8768328428268433,
          0.8519166707992554,
          0.8217466473579407,
          0.8132060766220093,
          0.7800635099411011,
          0.786657452583313,
          0.8234313726425171,
          0.8837461471557617,
          0.7850048542022705,
          0.7692638635635376,
          0.7639989852905273,
          0.8431532382965088,
          0.7695353627204895,
          0.8613950610160828,
          0.889499306678772,
          0.891822338104248,
          0.7932372093200684,
          0.7929264903068542,
          0.8249508142471313,
          0.8978230953216553,
          0.8751084804534912,
          0.8700540065765381,
          0.8790324926376343,
          0.8019264340400696,
          0.8333571553230286,
          0.8364475965499878,
          0.8971623778343201,
          0.8214515447616577,
          0.8964781761169434,
          0.8063952922821045,
          0.861486554145813,
          0.8551266193389893,
          0.8033913969993591,
          0.8413434028625488,
          0.8679131269454956,
          0.8619509339332581,
          0.8992539644241333,
          0.8758559226989746,
          0.886974036693573,
          0.8563263416290283,
          0.8738932013511658,
          0.7826627492904663,
          0.7526718378067017,
          0.8475152254104614,
          0.8175780773162842,
          0.820824921131134,
          0.8352429270744324,
          0.8114749193191528,
          0.740463376045227,
          0.7665244340896606,
          0.7949050664901733,
          0.8077580332756042,
          0.868903398513794,
          0.8594223260879517,
          0.718007504940033,
          0.835770308971405,
          0.8576728105545044,
          0.7804487347602844,
          0.781450092792511,
          0.7767994999885559,
          0.8526892066001892,
          0.8829516172409058,
          0.8349826335906982,
          0.8441916704177856,
          0.8605347275733948,
          0.8824619650840759,
          0.844309389591217,
          0.732200562953949,
          0.8695902228355408,
          0.8499784469604492,
          0.7363573312759399,
          0.834634006023407,
          0.8571850061416626,
          0.830324113368988,
          0.8438315391540527,
          0.8326831459999084,
          0.7817997932434082,
          0.8140159249305725,
          0.8007647395133972,
          0.8631569147109985,
          0.857833981513977,
          0.7866562008857727,
          0.8801898956298828,
          0.8179165720939636,
          0.8439018130302429,
          0.8048837184906006,
          0.7652216553688049,
          0.8609037399291992,
          0.7358279824256897,
          0.8229458928108215,
          0.7807547450065613,
          0.9009946584701538,
          0.8515588045120239,
          0.8267797231674194,
          0.8550576567649841,
          0.8342254757881165,
          0.8003836870193481,
          0.8644441366195679,
          0.8844171762466431,
          0.7970068454742432,
          0.8568944931030273,
          0.8873087167739868,
          0.8198835253715515,
          0.7516704797744751,
          0.753826379776001,
          0.8597108125686646,
          0.7954462170600891,
          0.772222638130188,
          0.8904273509979248,
          0.7739086151123047,
          0.8155397176742554,
          0.8173167109489441,
          0.7723982930183411,
          0.817865788936615,
          0.8271084427833557,
          0.8247136473655701,
          0.7073385119438171,
          0.7878132462501526,
          0.708273708820343,
          0.8659875392913818,
          0.7710830569267273,
          0.867969274520874,
          0.8841379880905151,
          0.7740190029144287,
          0.6720143556594849,
          0.7098890542984009,
          0.8631306290626526,
          0.8612023591995239,
          0.730501651763916,
          0.7948623895645142,
          0.8214194178581238,
          0.8547109961509705,
          0.844311535358429,
          0.845302939414978,
          0.7931536436080933,
          0.8397617936134338,
          0.8180845379829407,
          0.8075438141822815,
          0.8468712568283081,
          0.8356484770774841,
          0.8459078073501587,
          0.8019856214523315,
          0.8017975091934204,
          0.8039565086364746,
          0.8626925945281982,
          0.7739314436912537,
          0.7869782447814941,
          0.7222347259521484,
          0.7426075339317322,
          0.8189951777458191,
          0.7911407947540283,
          0.8454328179359436,
          0.768408477306366,
          0.8732976913452148,
          0.8409296274185181,
          0.7739092111587524,
          0.8969112634658813,
          0.7880129814147949,
          0.754135251045227,
          0.8516678214073181,
          0.7865444421768188,
          0.603291392326355,
          0.6043112277984619,
          0.8069881200790405,
          0.8065518736839294,
          0.8266676664352417,
          0.8241355419158936,
          0.8003570437431335,
          0.8056117296218872,
          0.8427512049674988
         ],
         "y": [
          -0.04472677409648895,
          -0.11007155478000641,
          -0.11507512629032135,
          -0.2533770501613617,
          -0.15438227355480194,
          -0.10682260990142822,
          -0.1749856323003769,
          -0.15759380161762238,
          -0.22218593955039978,
          -0.08697871118783951,
          -0.14428244531154633,
          -0.11222182214260101,
          -0.20832084119319916,
          -0.2272777259349823,
          0.01468767412006855,
          -0.1560012400150299,
          -0.1311105191707611,
          -0.19317661225795746,
          -0.07771055400371552,
          -0.29628950357437134,
          -0.15239429473876953,
          -0.03583607077598572,
          -0.09302379935979843,
          -0.22798459231853485,
          -0.25640711188316345,
          -0.2907564342021942,
          -0.1603027731180191,
          -0.10892842710018158,
          -0.25349679589271545,
          0.0081262132152915,
          -0.19936023652553558,
          -0.02916175313293934,
          -0.14151906967163086,
          -0.3133450746536255,
          -0.16995956003665924,
          -0.13435691595077515,
          -0.10231608152389526,
          -0.2267669141292572,
          -0.1466909795999527,
          -0.20251788198947906,
          -0.16421878337860107,
          -0.10450351238250732,
          -0.33355727791786194,
          -0.06080976501107216,
          -0.1515670269727707,
          -0.2196316421031952,
          -0.15731686353683472,
          -0.14021949470043182,
          -0.15499663352966309,
          -0.18651728332042694,
          -0.15368592739105225,
          -0.09109093993902206,
          -0.06674310564994812,
          -0.2074958235025406,
          -0.21039792895317078,
          -0.24008721113204956,
          -0.1778140366077423,
          -0.12257623672485352,
          -0.05059937387704849,
          -0.14952796697616577,
          -0.11893220990896225,
          -0.1392499953508377,
          -0.11895442754030228,
          -0.12015789747238159,
          -0.18063196539878845,
          -0.2522395849227905,
          0.03237969055771828,
          -0.20910948514938354,
          -0.2899656295776367,
          -0.14103135466575623,
          -0.12671533226966858,
          -0.34642982482910156,
          -0.1360173225402832,
          -0.0759059339761734,
          -0.12537266314029694,
          -0.1716792732477188,
          -0.20354360342025757,
          -0.17514513432979584,
          -0.26772820949554443,
          -0.1470009684562683,
          -0.13774338364601135,
          -0.12431224435567856,
          -0.21316960453987122,
          -0.1576683223247528,
          -0.15499451756477356,
          0.03374524414539337,
          -0.14129552245140076,
          -0.21700510382652283,
          -0.1728362888097763,
          -0.17773595452308655,
          -0.1748100221157074,
          -0.12243328243494034,
          -0.24809926748275757,
          -0.20740079879760742,
          -0.20404985547065735,
          -0.18190787732601166,
          -0.2886382043361664,
          -0.2973198890686035,
          -0.2996172606945038,
          -0.25800788402557373,
          -0.33517372608184814,
          -0.20281079411506653,
          -0.1412956565618515,
          -0.12398983538150787,
          -0.10441645234823227,
          -0.2375119924545288,
          -0.1701861321926117,
          -0.21734637022018433,
          -0.2616562247276306,
          -0.12438145279884338,
          -0.12899747490882874,
          -0.16239848732948303,
          -0.08894772082567215,
          -0.1704687774181366,
          -0.2139405906200409,
          -0.35469692945480347,
          -0.18305540084838867,
          -0.21496178209781647,
          -0.1494998335838318,
          -0.19718492031097412,
          -0.08391978591680527,
          -0.2890143394470215,
          -0.22750414907932281,
          -0.03630492463707924,
          -0.19100531935691833,
          -0.12038832157850266,
          -0.19386397302150726,
          -0.2656126618385315,
          -0.20958960056304932,
          -0.2854771912097931,
          -0.07495230436325073,
          -0.18641000986099243,
          -0.09737613052129745,
          -0.25411438941955566,
          -0.20658402144908905,
          -0.17657624185085297,
          -0.12865819036960602,
          -0.1731645166873932,
          -0.24842745065689087,
          -0.12495085597038269,
          -0.21817699074745178,
          -0.13806408643722534,
          -0.07649213820695877,
          -0.31537914276123047,
          -0.10247249901294708,
          -0.11204797029495239,
          -0.27344220876693726,
          -0.10108118504285812,
          -0.1745814085006714,
          -0.21588075160980225,
          -0.23468047380447388,
          -0.21885228157043457,
          -0.03614306449890137,
          -0.17186450958251953,
          -0.1252816617488861,
          -0.2297814041376114,
          -0.22674545645713806,
          -0.14647692441940308,
          -0.14483025670051575,
          -0.17505547404289246,
          -0.1794339418411255,
          -0.12033003568649292,
          -0.17352516949176788,
          -0.16693371534347534,
          -0.20585884153842926,
          -0.31485384702682495,
          -0.16247700154781342,
          -0.2947861850261688,
          -0.3418927490711212,
          -0.08375291526317596,
          -0.29378435015678406,
          -0.2831266522407532,
          -0.16981345415115356,
          -0.2923973798751831,
          -0.1127605140209198,
          -0.15685294568538666,
          -0.1647627353668213,
          -0.2599746584892273,
          -0.2512763440608978,
          -0.28448575735092163,
          -0.10709288716316223,
          -0.2871244549751282,
          -0.22306233644485474,
          -0.33236369490623474,
          -0.1387006938457489,
          -0.21057039499282837,
          -0.18671783804893494,
          -0.06219976395368576,
          -0.26950696110725403,
          -0.17415939271450043,
          -0.13827478885650635,
          -0.18891975283622742,
          -0.1257239431142807,
          -0.2568801939487457,
          -0.20419928431510925,
          -0.13368335366249084,
          -0.2891296148300171,
          0.014864886179566383,
          -0.15843532979488373,
          -0.29692867398262024,
          -0.22276632487773895,
          0.022200515493750572,
          -0.17667262256145477,
          -0.17063786089420319,
          -0.10570196807384491,
          -0.19366076588630676,
          -0.2935425341129303,
          -0.05974344164133072,
          -0.1782473921775818,
          -0.10862280428409576,
          -0.18190838396549225,
          -0.16378352046012878,
          -0.14965693652629852,
          -0.18894632160663605,
          -0.3701367974281311,
          -0.10390014946460724,
          -0.2997114062309265,
          -0.1225636824965477,
          -0.08612271398305893,
          -0.172151118516922,
          -0.12896357476711273,
          -0.18389496207237244,
          -0.12004487216472626,
          0.0032784193754196167,
          -0.08904454112052917,
          -0.27366507053375244,
          -0.31568199396133423,
          -0.3936728835105896,
          -0.17332987487316132,
          -0.09478142857551575,
          -0.28598594665527344,
          -0.19975095987319946,
          -0.12725812196731567,
          -0.16608159244060516,
          0.014906439930200577,
          -0.2157110571861267,
          -0.2990487217903137,
          -0.19733011722564697,
          -0.1029394119977951,
          -0.01972421258687973,
          -0.21753579378128052,
          -0.35392361879348755,
          -0.16998425126075745,
          -0.21885573863983154,
          -0.20112350583076477,
          -0.35412663221359253,
          -0.09725295007228851,
          -0.3093416690826416,
          -0.3372464179992676,
          -0.224160835146904,
          -0.21586303412914276,
          -0.15608859062194824,
          -0.33864626288414,
          -0.2886556386947632,
          -0.27524131536483765,
          -0.17024661600589752,
          -0.21492040157318115,
          0.044499240815639496,
          -0.2108403444290161,
          -0.21304839849472046,
          -0.14561404287815094,
          -0.12354500591754913,
          -0.18909241259098053,
          -0.22125542163848877,
          -0.18932554125785828,
          -0.25688445568084717,
          -0.09814834594726562,
          -0.20370759069919586,
          -0.34200146794319153,
          -0.001017108908854425,
          -0.12975764274597168,
          -0.3631230592727661,
          -0.15741688013076782,
          -0.21642394363880157,
          -0.1453433781862259,
          -0.21204502880573273,
          -0.16181987524032593,
          -0.12707006931304932,
          -0.12415619939565659,
          -0.27166399359703064,
          -0.11453382670879364
         ],
         "z": [
          -0.21590058505535126,
          -0.1146199032664299,
          -0.16282625496387482,
          -0.24292045831680298,
          -0.14985164999961853,
          -0.21971701085567474,
          -0.17460650205612183,
          -0.1458042412996292,
          -0.15447759628295898,
          -0.13136014342308044,
          -0.17050626873970032,
          -0.11052846163511276,
          -0.12743966281414032,
          -0.23832052946090698,
          -0.13176527619361877,
          -0.13493385910987854,
          -0.346134752035141,
          -0.21782973408699036,
          -0.22077427804470062,
          -0.17392045259475708,
          -0.22668060660362244,
          -0.17454248666763306,
          -0.2703278660774231,
          -0.17158742249011993,
          -0.21221160888671875,
          -0.12493353337049484,
          -0.15909910202026367,
          -0.19711478054523468,
          -0.29234397411346436,
          -0.16014687716960907,
          -0.18261303007602692,
          -0.22882325947284698,
          -0.27965047955513,
          -0.33560213446617126,
          -0.10467702150344849,
          -0.2598344683647156,
          -0.24142834544181824,
          -0.2450796216726303,
          -0.14720305800437927,
          -0.12086253613233566,
          -0.1997990757226944,
          -0.20303593575954437,
          -0.12880615890026093,
          -0.17787036299705505,
          -0.13922175765037537,
          -0.22692210972309113,
          -0.2617034912109375,
          -0.2741413414478302,
          -0.2826146185398102,
          -0.2727137804031372,
          -0.18779224157333374,
          -0.20876529812812805,
          -0.21663108468055725,
          -0.2967661917209625,
          -0.26506364345550537,
          -0.23818379640579224,
          -0.20895789563655853,
          -0.3120240569114685,
          -0.19913044571876526,
          -0.16062679886817932,
          -0.16568875312805176,
          -0.15528860688209534,
          -0.23381811380386353,
          -0.16934248805046082,
          -0.2587781548500061,
          -0.20526906847953796,
          -0.20804893970489502,
          -0.20049825310707092,
          -0.2232501059770584,
          -0.13749772310256958,
          -0.13173048198223114,
          -0.17519024014472961,
          -0.15441051125526428,
          -0.22158625721931458,
          -0.22506515681743622,
          -0.1853736788034439,
          -0.17577135562896729,
          -0.11976396292448044,
          -0.02825075015425682,
          -0.1292237639427185,
          -0.33012622594833374,
          -0.33548739552497864,
          -0.22735495865345,
          -0.20276674628257751,
          -0.1754172146320343,
          -0.17478415369987488,
          -0.1395820677280426,
          -0.13832257688045502,
          -0.2146347612142563,
          -0.13057082891464233,
          -0.256287157535553,
          -0.24566558003425598,
          -0.27991142868995667,
          -0.2048969268798828,
          -0.10418124496936798,
          -0.15485741198062897,
          -0.1037815511226654,
          -0.23058144748210907,
          -0.23297764360904694,
          -0.19193169474601746,
          -0.1662754863500595,
          -0.1230875626206398,
          -0.251090407371521,
          -0.24127256870269775,
          -0.26291969418525696,
          -0.16963794827461243,
          -0.1782320886850357,
          -0.2396022081375122,
          -0.25343629717826843,
          -0.19828230142593384,
          -0.18094855546951294,
          -0.15914160013198853,
          -0.17410902678966522,
          -0.23085211217403412,
          -0.26205021142959595,
          -0.26806679368019104,
          -0.20438161492347717,
          -0.13833871483802795,
          -0.12242655456066132,
          -0.2693789005279541,
          -0.1968262493610382,
          -0.01710272580385208,
          -0.1283758282661438,
          -0.1615844964981079,
          -0.24759641289710999,
          -0.19457612931728363,
          -0.13424904644489288,
          -0.13714022934436798,
          -0.15086624026298523,
          -0.2639593780040741,
          -0.2644122242927551,
          -0.11098852008581161,
          -0.1655765175819397,
          -0.16205404698848724,
          -0.14503160119056702,
          -0.21998532116413116,
          -0.19466008245944977,
          -0.1989610642194748,
          -0.11959227919578552,
          -0.20006023347377777,
          -0.15498369932174683,
          -0.28509119153022766,
          -0.20001202821731567,
          -0.1717040240764618,
          -0.18793725967407227,
          -0.20139716565608978,
          -0.12266654521226883,
          -0.18259236216545105,
          -0.14172813296318054,
          -0.2257433533668518,
          -0.2459377497434616,
          -0.1604069620370865,
          -0.13569070398807526,
          -0.138789564371109,
          -0.13596874475479126,
          -0.30588865280151367,
          -0.2435278296470642,
          -0.2176322638988495,
          -0.14200884103775024,
          -0.11016242206096649,
          -0.10757649689912796,
          -0.263507604598999,
          -0.21808654069900513,
          -0.19689762592315674,
          -0.2806291878223419,
          -0.2992344796657562,
          -0.13421708345413208,
          -0.1928173005580902,
          -0.045369818806648254,
          -0.10819591581821442,
          -0.13661110401153564,
          -0.24296621978282928,
          -0.17182272672653198,
          -0.1799941211938858,
          -0.16725164651870728,
          -0.17268884181976318,
          -0.149594247341156,
          -0.1681801974773407,
          -0.04218928515911102,
          -0.219596266746521,
          -0.17686827480793,
          -0.19324374198913574,
          -0.12029661983251572,
          -0.1457451432943344,
          -0.14156381785869598,
          -0.13357935845851898,
          -0.14305487275123596,
          -0.16739371418952942,
          -0.259050577878952,
          -0.12427755445241928,
          -0.20658349990844727,
          -0.1293189376592636,
          -0.15890373289585114,
          -0.2326178252696991,
          -0.19629673659801483,
          -0.2114124298095703,
          -0.16077175736427307,
          -0.20024533569812775,
          -0.27705997228622437,
          -0.09312206506729126,
          -0.25660473108291626,
          -0.15728837251663208,
          -0.14245477318763733,
          -0.14422190189361572,
          -0.21028515696525574,
          -0.21129682660102844,
          -0.24102309346199036,
          -0.18163181841373444,
          -0.13192780315876007,
          -0.2351870834827423,
          -0.1274019479751587,
          -0.1689528375864029,
          -0.18577128648757935,
          -0.2276616394519806,
          -0.0952250212430954,
          -0.11636322736740112,
          -0.25932666659355164,
          -0.11793691664934158,
          -0.1373598724603653,
          -0.1631789207458496,
          -0.10536809265613556,
          -0.2059793770313263,
          -0.11648999899625778,
          -0.11456045508384705,
          -0.1650194376707077,
          -0.10251031816005707,
          -0.13747014105319977,
          -0.14109282195568085,
          -0.1823321282863617,
          -0.14803898334503174,
          -0.24592259526252747,
          -0.2695706784725189,
          -0.24522694945335388,
          -0.2572334110736847,
          -0.12592272460460663,
          -0.13661786913871765,
          -0.029388349503278732,
          -0.17568522691726685,
          -0.19706588983535767,
          -0.13489115238189697,
          -0.20457622408866882,
          -0.15712730586528778,
          -0.16205576062202454,
          -0.25006499886512756,
          -0.23560020327568054,
          -0.204680398106575,
          -0.22163286805152893,
          -0.2033199965953827,
          -0.16447855532169342,
          -0.27291423082351685,
          -0.11810199171304703,
          -0.16029059886932373,
          -0.16337817907333374,
          -0.10668007284402847,
          -0.15396548807621002,
          -0.17630398273468018,
          -0.26903194189071655,
          -0.21817176043987274,
          -0.2651437520980835,
          -0.25621747970581055,
          -0.13053926825523376,
          -0.2189042866230011,
          -0.22705614566802979,
          -0.2603214979171753,
          -0.23955008387565613,
          -0.20377108454704285,
          -0.26760098338127136,
          -0.11953803896903992,
          -0.03851629048585892,
          -0.10637699067592621,
          -0.1947188377380371,
          -0.0624302439391613,
          -0.20487868785858154,
          -0.13221850991249084,
          -0.19859009981155396,
          -0.12606221437454224,
          -0.2112385779619217,
          -0.13322852551937103,
          -0.22956784069538116,
          -0.09120887517929077,
          -0.1428348869085312
         ]
        }
       ],
       "layout": {
        "height": 1000,
        "legend": {
         "title": {
          "text": "cluster"
         },
         "tracegroupgap": 0
        },
        "margin": {
         "t": 60
        },
        "scene": {
         "domain": {
          "x": [
           0,
           1
          ],
          "y": [
           0,
           1
          ]
         },
         "xaxis": {
          "title": {
           "text": "x"
          }
         },
         "yaxis": {
          "title": {
           "text": "y"
          }
         },
         "zaxis": {
          "title": {
           "text": "z"
          }
         }
        },
        "template": {
         "data": {
          "bar": [
           {
            "error_x": {
             "color": "#2a3f5f"
            },
            "error_y": {
             "color": "#2a3f5f"
            },
            "marker": {
             "line": {
              "color": "#E5ECF6",
              "width": 0.5
             },
             "pattern": {
              "fillmode": "overlay",
              "size": 10,
              "solidity": 0.2
             }
            },
            "type": "bar"
           }
          ],
          "barpolar": [
           {
            "marker": {
             "line": {
              "color": "#E5ECF6",
              "width": 0.5
             },
             "pattern": {
              "fillmode": "overlay",
              "size": 10,
              "solidity": 0.2
             }
            },
            "type": "barpolar"
           }
          ],
          "carpet": [
           {
            "aaxis": {
             "endlinecolor": "#2a3f5f",
             "gridcolor": "white",
             "linecolor": "white",
             "minorgridcolor": "white",
             "startlinecolor": "#2a3f5f"
            },
            "baxis": {
             "endlinecolor": "#2a3f5f",
             "gridcolor": "white",
             "linecolor": "white",
             "minorgridcolor": "white",
             "startlinecolor": "#2a3f5f"
            },
            "type": "carpet"
           }
          ],
          "choropleth": [
           {
            "colorbar": {
             "outlinewidth": 0,
             "ticks": ""
            },
            "type": "choropleth"
           }
          ],
          "contour": [
           {
            "colorbar": {
             "outlinewidth": 0,
             "ticks": ""
            },
            "colorscale": [
             [
              0,
              "#0d0887"
             ],
             [
              0.1111111111111111,
              "#46039f"
             ],
             [
              0.2222222222222222,
              "#7201a8"
             ],
             [
              0.3333333333333333,
              "#9c179e"
             ],
             [
              0.4444444444444444,
              "#bd3786"
             ],
             [
              0.5555555555555556,
              "#d8576b"
             ],
             [
              0.6666666666666666,
              "#ed7953"
             ],
             [
              0.7777777777777778,
              "#fb9f3a"
             ],
             [
              0.8888888888888888,
              "#fdca26"
             ],
             [
              1,
              "#f0f921"
             ]
            ],
            "type": "contour"
           }
          ],
          "contourcarpet": [
           {
            "colorbar": {
             "outlinewidth": 0,
             "ticks": ""
            },
            "type": "contourcarpet"
           }
          ],
          "heatmap": [
           {
            "colorbar": {
             "outlinewidth": 0,
             "ticks": ""
            },
            "colorscale": [
             [
              0,
              "#0d0887"
             ],
             [
              0.1111111111111111,
              "#46039f"
             ],
             [
              0.2222222222222222,
              "#7201a8"
             ],
             [
              0.3333333333333333,
              "#9c179e"
             ],
             [
              0.4444444444444444,
              "#bd3786"
             ],
             [
              0.5555555555555556,
              "#d8576b"
             ],
             [
              0.6666666666666666,
              "#ed7953"
             ],
             [
              0.7777777777777778,
              "#fb9f3a"
             ],
             [
              0.8888888888888888,
              "#fdca26"
             ],
             [
              1,
              "#f0f921"
             ]
            ],
            "type": "heatmap"
           }
          ],
          "heatmapgl": [
           {
            "colorbar": {
             "outlinewidth": 0,
             "ticks": ""
            },
            "colorscale": [
             [
              0,
              "#0d0887"
             ],
             [
              0.1111111111111111,
              "#46039f"
             ],
             [
              0.2222222222222222,
              "#7201a8"
             ],
             [
              0.3333333333333333,
              "#9c179e"
             ],
             [
              0.4444444444444444,
              "#bd3786"
             ],
             [
              0.5555555555555556,
              "#d8576b"
             ],
             [
              0.6666666666666666,
              "#ed7953"
             ],
             [
              0.7777777777777778,
              "#fb9f3a"
             ],
             [
              0.8888888888888888,
              "#fdca26"
             ],
             [
              1,
              "#f0f921"
             ]
            ],
            "type": "heatmapgl"
           }
          ],
          "histogram": [
           {
            "marker": {
             "pattern": {
              "fillmode": "overlay",
              "size": 10,
              "solidity": 0.2
             }
            },
            "type": "histogram"
           }
          ],
          "histogram2d": [
           {
            "colorbar": {
             "outlinewidth": 0,
             "ticks": ""
            },
            "colorscale": [
             [
              0,
              "#0d0887"
             ],
             [
              0.1111111111111111,
              "#46039f"
             ],
             [
              0.2222222222222222,
              "#7201a8"
             ],
             [
              0.3333333333333333,
              "#9c179e"
             ],
             [
              0.4444444444444444,
              "#bd3786"
             ],
             [
              0.5555555555555556,
              "#d8576b"
             ],
             [
              0.6666666666666666,
              "#ed7953"
             ],
             [
              0.7777777777777778,
              "#fb9f3a"
             ],
             [
              0.8888888888888888,
              "#fdca26"
             ],
             [
              1,
              "#f0f921"
             ]
            ],
            "type": "histogram2d"
           }
          ],
          "histogram2dcontour": [
           {
            "colorbar": {
             "outlinewidth": 0,
             "ticks": ""
            },
            "colorscale": [
             [
              0,
              "#0d0887"
             ],
             [
              0.1111111111111111,
              "#46039f"
             ],
             [
              0.2222222222222222,
              "#7201a8"
             ],
             [
              0.3333333333333333,
              "#9c179e"
             ],
             [
              0.4444444444444444,
              "#bd3786"
             ],
             [
              0.5555555555555556,
              "#d8576b"
             ],
             [
              0.6666666666666666,
              "#ed7953"
             ],
             [
              0.7777777777777778,
              "#fb9f3a"
             ],
             [
              0.8888888888888888,
              "#fdca26"
             ],
             [
              1,
              "#f0f921"
             ]
            ],
            "type": "histogram2dcontour"
           }
          ],
          "mesh3d": [
           {
            "colorbar": {
             "outlinewidth": 0,
             "ticks": ""
            },
            "type": "mesh3d"
           }
          ],
          "parcoords": [
           {
            "line": {
             "colorbar": {
              "outlinewidth": 0,
              "ticks": ""
             }
            },
            "type": "parcoords"
           }
          ],
          "pie": [
           {
            "automargin": true,
            "type": "pie"
           }
          ],
          "scatter": [
           {
            "fillpattern": {
             "fillmode": "overlay",
             "size": 10,
             "solidity": 0.2
            },
            "type": "scatter"
           }
          ],
          "scatter3d": [
           {
            "line": {
             "colorbar": {
              "outlinewidth": 0,
              "ticks": ""
             }
            },
            "marker": {
             "colorbar": {
              "outlinewidth": 0,
              "ticks": ""
             }
            },
            "type": "scatter3d"
           }
          ],
          "scattercarpet": [
           {
            "marker": {
             "colorbar": {
              "outlinewidth": 0,
              "ticks": ""
             }
            },
            "type": "scattercarpet"
           }
          ],
          "scattergeo": [
           {
            "marker": {
             "colorbar": {
              "outlinewidth": 0,
              "ticks": ""
             }
            },
            "type": "scattergeo"
           }
          ],
          "scattergl": [
           {
            "marker": {
             "colorbar": {
              "outlinewidth": 0,
              "ticks": ""
             }
            },
            "type": "scattergl"
           }
          ],
          "scattermapbox": [
           {
            "marker": {
             "colorbar": {
              "outlinewidth": 0,
              "ticks": ""
             }
            },
            "type": "scattermapbox"
           }
          ],
          "scatterpolar": [
           {
            "marker": {
             "colorbar": {
              "outlinewidth": 0,
              "ticks": ""
             }
            },
            "type": "scatterpolar"
           }
          ],
          "scatterpolargl": [
           {
            "marker": {
             "colorbar": {
              "outlinewidth": 0,
              "ticks": ""
             }
            },
            "type": "scatterpolargl"
           }
          ],
          "scatterternary": [
           {
            "marker": {
             "colorbar": {
              "outlinewidth": 0,
              "ticks": ""
             }
            },
            "type": "scatterternary"
           }
          ],
          "surface": [
           {
            "colorbar": {
             "outlinewidth": 0,
             "ticks": ""
            },
            "colorscale": [
             [
              0,
              "#0d0887"
             ],
             [
              0.1111111111111111,
              "#46039f"
             ],
             [
              0.2222222222222222,
              "#7201a8"
             ],
             [
              0.3333333333333333,
              "#9c179e"
             ],
             [
              0.4444444444444444,
              "#bd3786"
             ],
             [
              0.5555555555555556,
              "#d8576b"
             ],
             [
              0.6666666666666666,
              "#ed7953"
             ],
             [
              0.7777777777777778,
              "#fb9f3a"
             ],
             [
              0.8888888888888888,
              "#fdca26"
             ],
             [
              1,
              "#f0f921"
             ]
            ],
            "type": "surface"
           }
          ],
          "table": [
           {
            "cells": {
             "fill": {
              "color": "#EBF0F8"
             },
             "line": {
              "color": "white"
             }
            },
            "header": {
             "fill": {
              "color": "#C8D4E3"
             },
             "line": {
              "color": "white"
             }
            },
            "type": "table"
           }
          ]
         },
         "layout": {
          "annotationdefaults": {
           "arrowcolor": "#2a3f5f",
           "arrowhead": 0,
           "arrowwidth": 1
          },
          "autotypenumbers": "strict",
          "coloraxis": {
           "colorbar": {
            "outlinewidth": 0,
            "ticks": ""
           }
          },
          "colorscale": {
           "diverging": [
            [
             0,
             "#8e0152"
            ],
            [
             0.1,
             "#c51b7d"
            ],
            [
             0.2,
             "#de77ae"
            ],
            [
             0.3,
             "#f1b6da"
            ],
            [
             0.4,
             "#fde0ef"
            ],
            [
             0.5,
             "#f7f7f7"
            ],
            [
             0.6,
             "#e6f5d0"
            ],
            [
             0.7,
             "#b8e186"
            ],
            [
             0.8,
             "#7fbc41"
            ],
            [
             0.9,
             "#4d9221"
            ],
            [
             1,
             "#276419"
            ]
           ],
           "sequential": [
            [
             0,
             "#0d0887"
            ],
            [
             0.1111111111111111,
             "#46039f"
            ],
            [
             0.2222222222222222,
             "#7201a8"
            ],
            [
             0.3333333333333333,
             "#9c179e"
            ],
            [
             0.4444444444444444,
             "#bd3786"
            ],
            [
             0.5555555555555556,
             "#d8576b"
            ],
            [
             0.6666666666666666,
             "#ed7953"
            ],
            [
             0.7777777777777778,
             "#fb9f3a"
            ],
            [
             0.8888888888888888,
             "#fdca26"
            ],
            [
             1,
             "#f0f921"
            ]
           ],
           "sequentialminus": [
            [
             0,
             "#0d0887"
            ],
            [
             0.1111111111111111,
             "#46039f"
            ],
            [
             0.2222222222222222,
             "#7201a8"
            ],
            [
             0.3333333333333333,
             "#9c179e"
            ],
            [
             0.4444444444444444,
             "#bd3786"
            ],
            [
             0.5555555555555556,
             "#d8576b"
            ],
            [
             0.6666666666666666,
             "#ed7953"
            ],
            [
             0.7777777777777778,
             "#fb9f3a"
            ],
            [
             0.8888888888888888,
             "#fdca26"
            ],
            [
             1,
             "#f0f921"
            ]
           ]
          },
          "colorway": [
           "#636efa",
           "#EF553B",
           "#00cc96",
           "#ab63fa",
           "#FFA15A",
           "#19d3f3",
           "#FF6692",
           "#B6E880",
           "#FF97FF",
           "#FECB52"
          ],
          "font": {
           "color": "#2a3f5f"
          },
          "geo": {
           "bgcolor": "white",
           "lakecolor": "white",
           "landcolor": "#E5ECF6",
           "showlakes": true,
           "showland": true,
           "subunitcolor": "white"
          },
          "hoverlabel": {
           "align": "left"
          },
          "hovermode": "closest",
          "mapbox": {
           "style": "light"
          },
          "paper_bgcolor": "white",
          "plot_bgcolor": "#E5ECF6",
          "polar": {
           "angularaxis": {
            "gridcolor": "white",
            "linecolor": "white",
            "ticks": ""
           },
           "bgcolor": "#E5ECF6",
           "radialaxis": {
            "gridcolor": "white",
            "linecolor": "white",
            "ticks": ""
           }
          },
          "scene": {
           "xaxis": {
            "backgroundcolor": "#E5ECF6",
            "gridcolor": "white",
            "gridwidth": 2,
            "linecolor": "white",
            "showbackground": true,
            "ticks": "",
            "zerolinecolor": "white"
           },
           "yaxis": {
            "backgroundcolor": "#E5ECF6",
            "gridcolor": "white",
            "gridwidth": 2,
            "linecolor": "white",
            "showbackground": true,
            "ticks": "",
            "zerolinecolor": "white"
           },
           "zaxis": {
            "backgroundcolor": "#E5ECF6",
            "gridcolor": "white",
            "gridwidth": 2,
            "linecolor": "white",
            "showbackground": true,
            "ticks": "",
            "zerolinecolor": "white"
           }
          },
          "shapedefaults": {
           "line": {
            "color": "#2a3f5f"
           }
          },
          "ternary": {
           "aaxis": {
            "gridcolor": "white",
            "linecolor": "white",
            "ticks": ""
           },
           "baxis": {
            "gridcolor": "white",
            "linecolor": "white",
            "ticks": ""
           },
           "bgcolor": "#E5ECF6",
           "caxis": {
            "gridcolor": "white",
            "linecolor": "white",
            "ticks": ""
           }
          },
          "title": {
           "x": 0.05
          },
          "xaxis": {
           "automargin": true,
           "gridcolor": "white",
           "linecolor": "white",
           "ticks": "",
           "title": {
            "standoff": 15
           },
           "zerolinecolor": "white",
           "zerolinewidth": 2
          },
          "yaxis": {
           "automargin": true,
           "gridcolor": "white",
           "linecolor": "white",
           "ticks": "",
           "title": {
            "standoff": 15
           },
           "zerolinecolor": "white",
           "zerolinewidth": 2
          }
         }
        },
        "title": {
         "text": "Ingredient-Based Clustering of Filipino Dishes"
        },
        "updatemenus": [
         {
          "buttons": [
           {
            "args": [
             {
              "visible": [
               true,
               false,
               false,
               false,
               false,
               false,
               false
              ]
             },
             {
              "title": "Ingredient-Based Clustering - Cluster 2"
             }
            ],
            "label": "Cluster 2",
            "method": "update"
           },
           {
            "args": [
             {
              "visible": [
               false,
               true,
               false,
               false,
               false,
               false,
               false
              ]
             },
             {
              "title": "Ingredient-Based Clustering - Cluster 3"
             }
            ],
            "label": "Cluster 3",
            "method": "update"
           },
           {
            "args": [
             {
              "visible": [
               false,
               false,
               true,
               false,
               false,
               false,
               false
              ]
             },
             {
              "title": "Ingredient-Based Clustering - Cluster 1"
             }
            ],
            "label": "Cluster 1",
            "method": "update"
           },
           {
            "args": [
             {
              "visible": [
               false,
               false,
               false,
               true,
               false,
               false,
               false
              ]
             },
             {
              "title": "Ingredient-Based Clustering - Cluster 5"
             }
            ],
            "label": "Cluster 5",
            "method": "update"
           },
           {
            "args": [
             {
              "visible": [
               false,
               false,
               false,
               false,
               true,
               false,
               false
              ]
             },
             {
              "title": "Ingredient-Based Clustering - Cluster 0"
             }
            ],
            "label": "Cluster 0",
            "method": "update"
           },
           {
            "args": [
             {
              "visible": [
               false,
               false,
               false,
               false,
               false,
               true,
               false
              ]
             },
             {
              "title": "Ingredient-Based Clustering - Cluster 4"
             }
            ],
            "label": "Cluster 4",
            "method": "update"
           },
           {
            "args": [
             {
              "visible": [
               false,
               false,
               false,
               false,
               false,
               false,
               true
              ]
             },
             {
              "title": "Ingredient-Based Clustering - Cluster 6"
             }
            ],
            "label": "Cluster 6",
            "method": "update"
           }
          ],
          "direction": "down",
          "type": "buttons"
         }
        ],
        "width": 800
       }
      }
     },
     "metadata": {},
     "output_type": "display_data"
    }
   ],
   "source": [
    "import plotly.express as px\n",
    "import pandas as pd\n",
    "\n",
    "final_df = pd.DataFrame(\n",
    "    {\n",
    "        \"x\": reduced_embeddings[:, 0],\n",
    "        \"y\": reduced_embeddings[:, 1],\n",
    "        \"z\": reduced_embeddings[:, 2],\n",
    "        \"cluster\": cluster_labels.astype(str),\n",
    "        \"recipe_name\": reduced_df[\"name\"],\n",
    "        \"cleaned_ingredients\": [\n",
    "            \"<br>\".join(ingredients)\n",
    "            for ingredients in reduced_df[\"cleaned_ingredients\"]\n",
    "        ],\n",
    "    }\n",
    ")\n",
    "\n",
    "fig = px.scatter_3d(\n",
    "    final_df,\n",
    "    x=\"x\",\n",
    "    y=\"y\",\n",
    "    z=\"z\",\n",
    "    color=\"cluster\",\n",
    "    hover_name=\"recipe_name\",\n",
    "    hover_data=[\"cleaned_ingredients\"],\n",
    "    width=800,\n",
    "    height=1000,\n",
    "    color_discrete_sequence=px.colors.qualitative.Bold,\n",
    ")\n",
    "\n",
    "fig.update_traces(marker=dict(size=5))\n",
    "fig.update_layout(title=\"Ingredient-Based Clustering of Filipino Dishes\")\n",
    "\n",
    "unique_clusters = final_df[\"cluster\"].unique()\n",
    "buttons = list(\n",
    "    [\n",
    "        dict(\n",
    "            label=f\"Cluster {cluster}\",\n",
    "            method=\"update\",\n",
    "            args=[\n",
    "                {\"visible\": [cluster == c for c in unique_clusters]},\n",
    "                {\"title\": f\"Ingredient-Based Clustering - Cluster {cluster}\"},\n",
    "            ],\n",
    "        )\n",
    "        for cluster in unique_clusters\n",
    "    ]\n",
    ")\n",
    "fig.update_layout(\n",
    "    updatemenus=[\n",
    "        dict(\n",
    "            type=\"buttons\",\n",
    "            direction=\"down\",\n",
    "            buttons=buttons,\n",
    "        )\n",
    "    ]\n",
    ")\n",
    "\n",
    "fig.show()"
   ]
  }
 ],
 "metadata": {
  "kernelspec": {
   "display_name": "venv",
   "language": "python",
   "name": "python3"
  },
  "language_info": {
   "codemirror_mode": {
    "name": "ipython",
    "version": 3
   },
   "file_extension": ".py",
   "mimetype": "text/x-python",
   "name": "python",
   "nbconvert_exporter": "python",
   "pygments_lexer": "ipython3",
   "version": "3.12.2"
  }
 },
 "nbformat": 4,
 "nbformat_minor": 2
}
